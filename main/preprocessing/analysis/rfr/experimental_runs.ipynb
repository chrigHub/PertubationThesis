{
 "cells": [
  {
   "cell_type": "code",
   "execution_count": 16,
   "id": "initial_id",
   "metadata": {
    "collapsed": true,
    "ExecuteTime": {
     "end_time": "2024-04-25T17:12:18.359024600Z",
     "start_time": "2024-04-25T17:12:18.203025Z"
    }
   },
   "outputs": [
    {
     "name": "stdout",
     "output_type": "stream",
     "text": [
      "Shape of X_train: (263204, 45)\n",
      "Shape of y_train: (263204,)\n",
      "Shape of X_test: (65801, 45)\n",
      "Shape of y_test: (65801,)\n"
     ]
    },
    {
     "data": {
      "text/plain": "         MEDIAN_CARR_DELAY(MINS)  MEDIAN_ORIGIN_DELAY(MINS)  DEP_DELAY(MINS)  \\\n5998106                    -11.0                      -11.0              107   \n9744846                    -11.0                      -11.0               -3   \n8656393                    -11.0                       -9.0               64   \n7404998                    -11.0                       -8.0               -2   \n8855927                    -11.0                       -5.0               15   \n...                          ...                        ...              ...   \n6033952                     -6.0                       -9.0               -3   \n7551519                    -11.0                      -15.0               -8   \n7375452                    -11.0                       -8.0               -4   \n7757994                     -6.0                       -8.0              180   \n7249134                    -11.0                       -9.0               -4   \n\n         CRS_ELAPSED_TIME(MINS)  DISTANCE(KM)  NR_PREV_ARR_FLIGHTS(1HR)  \\\n5998106                      89     548.78494                        74   \n9744846                     106     830.41944                        83   \n8656393                      98     653.39204                        53   \n7404998                     121     935.02654                        88   \n8855927                     132    1120.10064                        74   \n...                         ...           ...                       ...   \n6033952                     126     975.26004                        95   \n7551519                     142    1200.56764                        74   \n7375452                     122     935.02654                        58   \n7757994                      92     584.19042                        62   \n7249134                      89     653.39204                        52   \n\n         ARR_DAY_SIN  ARR_DAY_COS  ARR_MIN_OF_DAY_SIN  ARR_MIN_OF_DAY_COS  \\\n5998106    -0.433884    -0.900969           -0.985556            0.169350   \n9744846     0.433884    -0.900969            0.496217           -0.868199   \n8656393    -0.781831     0.623490           -0.548293           -0.836286   \n7404998    -0.433884    -0.900969           -0.719340            0.694658   \n8855927     0.433884    -0.900969           -0.845728            0.533615   \n...              ...          ...                 ...                 ...   \n6033952    -0.781831     0.623490            0.678801           -0.734323   \n7551519     0.000000     1.000000           -0.649448           -0.760406   \n7375452     0.433884    -0.900969           -0.999914           -0.013090   \n7757994    -0.781831     0.623490           -0.608761            0.793353   \n7249134     0.974928    -0.222521            0.220697           -0.975342   \n\n         ...  EVENT_HZ  EVENT_IC  EVENT_RA  EVENT_SN  EVENT_TS  08L/26R  \\\n5998106  ...         0         0         0         0         0      0.0   \n9744846  ...         0         0         0         0         0      3.0   \n8656393  ...         0         0         3         0         2      0.0   \n7404998  ...         0         0         0         0         0      0.0   \n8855927  ...         0         0         0         2         0      3.0   \n...      ...       ...       ...       ...       ...       ...      ...   \n6033952  ...         0         0         0         0         0      0.0   \n7551519  ...         0         0         0         0         0      0.0   \n7375452  ...         0         2         2         2         2      0.0   \n7757994  ...         0         0         0         0         0      1.0   \n7249134  ...         0         0         0         0         0      1.0   \n\n         08R/26L  09L/27R  09R/27L  10/28  \n5998106      0.0      3.0      0.0    3.0  \n9744846      3.0      0.0      3.0    3.0  \n8656393      3.0      0.0      0.0    3.0  \n7404998      3.0      3.0      3.0    3.0  \n8855927      0.0      3.0      0.0    3.0  \n...          ...      ...      ...    ...  \n6033952      0.0      3.0      0.0    0.0  \n7551519      0.0      0.0      0.0    3.0  \n7375452      0.0      3.0      0.0    0.0  \n7757994      3.0      1.0      3.0    1.0  \n7249134      3.0      2.0      3.0    2.0  \n\n[263204 rows x 45 columns]",
      "text/html": "<div>\n<style scoped>\n    .dataframe tbody tr th:only-of-type {\n        vertical-align: middle;\n    }\n\n    .dataframe tbody tr th {\n        vertical-align: top;\n    }\n\n    .dataframe thead th {\n        text-align: right;\n    }\n</style>\n<table border=\"1\" class=\"dataframe\">\n  <thead>\n    <tr style=\"text-align: right;\">\n      <th></th>\n      <th>MEDIAN_CARR_DELAY(MINS)</th>\n      <th>MEDIAN_ORIGIN_DELAY(MINS)</th>\n      <th>DEP_DELAY(MINS)</th>\n      <th>CRS_ELAPSED_TIME(MINS)</th>\n      <th>DISTANCE(KM)</th>\n      <th>NR_PREV_ARR_FLIGHTS(1HR)</th>\n      <th>ARR_DAY_SIN</th>\n      <th>ARR_DAY_COS</th>\n      <th>ARR_MIN_OF_DAY_SIN</th>\n      <th>ARR_MIN_OF_DAY_COS</th>\n      <th>...</th>\n      <th>EVENT_HZ</th>\n      <th>EVENT_IC</th>\n      <th>EVENT_RA</th>\n      <th>EVENT_SN</th>\n      <th>EVENT_TS</th>\n      <th>08L/26R</th>\n      <th>08R/26L</th>\n      <th>09L/27R</th>\n      <th>09R/27L</th>\n      <th>10/28</th>\n    </tr>\n  </thead>\n  <tbody>\n    <tr>\n      <th>5998106</th>\n      <td>-11.0</td>\n      <td>-11.0</td>\n      <td>107</td>\n      <td>89</td>\n      <td>548.78494</td>\n      <td>74</td>\n      <td>-0.433884</td>\n      <td>-0.900969</td>\n      <td>-0.985556</td>\n      <td>0.169350</td>\n      <td>...</td>\n      <td>0</td>\n      <td>0</td>\n      <td>0</td>\n      <td>0</td>\n      <td>0</td>\n      <td>0.0</td>\n      <td>0.0</td>\n      <td>3.0</td>\n      <td>0.0</td>\n      <td>3.0</td>\n    </tr>\n    <tr>\n      <th>9744846</th>\n      <td>-11.0</td>\n      <td>-11.0</td>\n      <td>-3</td>\n      <td>106</td>\n      <td>830.41944</td>\n      <td>83</td>\n      <td>0.433884</td>\n      <td>-0.900969</td>\n      <td>0.496217</td>\n      <td>-0.868199</td>\n      <td>...</td>\n      <td>0</td>\n      <td>0</td>\n      <td>0</td>\n      <td>0</td>\n      <td>0</td>\n      <td>3.0</td>\n      <td>3.0</td>\n      <td>0.0</td>\n      <td>3.0</td>\n      <td>3.0</td>\n    </tr>\n    <tr>\n      <th>8656393</th>\n      <td>-11.0</td>\n      <td>-9.0</td>\n      <td>64</td>\n      <td>98</td>\n      <td>653.39204</td>\n      <td>53</td>\n      <td>-0.781831</td>\n      <td>0.623490</td>\n      <td>-0.548293</td>\n      <td>-0.836286</td>\n      <td>...</td>\n      <td>0</td>\n      <td>0</td>\n      <td>3</td>\n      <td>0</td>\n      <td>2</td>\n      <td>0.0</td>\n      <td>3.0</td>\n      <td>0.0</td>\n      <td>0.0</td>\n      <td>3.0</td>\n    </tr>\n    <tr>\n      <th>7404998</th>\n      <td>-11.0</td>\n      <td>-8.0</td>\n      <td>-2</td>\n      <td>121</td>\n      <td>935.02654</td>\n      <td>88</td>\n      <td>-0.433884</td>\n      <td>-0.900969</td>\n      <td>-0.719340</td>\n      <td>0.694658</td>\n      <td>...</td>\n      <td>0</td>\n      <td>0</td>\n      <td>0</td>\n      <td>0</td>\n      <td>0</td>\n      <td>0.0</td>\n      <td>3.0</td>\n      <td>3.0</td>\n      <td>3.0</td>\n      <td>3.0</td>\n    </tr>\n    <tr>\n      <th>8855927</th>\n      <td>-11.0</td>\n      <td>-5.0</td>\n      <td>15</td>\n      <td>132</td>\n      <td>1120.10064</td>\n      <td>74</td>\n      <td>0.433884</td>\n      <td>-0.900969</td>\n      <td>-0.845728</td>\n      <td>0.533615</td>\n      <td>...</td>\n      <td>0</td>\n      <td>0</td>\n      <td>0</td>\n      <td>2</td>\n      <td>0</td>\n      <td>3.0</td>\n      <td>0.0</td>\n      <td>3.0</td>\n      <td>0.0</td>\n      <td>3.0</td>\n    </tr>\n    <tr>\n      <th>...</th>\n      <td>...</td>\n      <td>...</td>\n      <td>...</td>\n      <td>...</td>\n      <td>...</td>\n      <td>...</td>\n      <td>...</td>\n      <td>...</td>\n      <td>...</td>\n      <td>...</td>\n      <td>...</td>\n      <td>...</td>\n      <td>...</td>\n      <td>...</td>\n      <td>...</td>\n      <td>...</td>\n      <td>...</td>\n      <td>...</td>\n      <td>...</td>\n      <td>...</td>\n      <td>...</td>\n    </tr>\n    <tr>\n      <th>6033952</th>\n      <td>-6.0</td>\n      <td>-9.0</td>\n      <td>-3</td>\n      <td>126</td>\n      <td>975.26004</td>\n      <td>95</td>\n      <td>-0.781831</td>\n      <td>0.623490</td>\n      <td>0.678801</td>\n      <td>-0.734323</td>\n      <td>...</td>\n      <td>0</td>\n      <td>0</td>\n      <td>0</td>\n      <td>0</td>\n      <td>0</td>\n      <td>0.0</td>\n      <td>0.0</td>\n      <td>3.0</td>\n      <td>0.0</td>\n      <td>0.0</td>\n    </tr>\n    <tr>\n      <th>7551519</th>\n      <td>-11.0</td>\n      <td>-15.0</td>\n      <td>-8</td>\n      <td>142</td>\n      <td>1200.56764</td>\n      <td>74</td>\n      <td>0.000000</td>\n      <td>1.000000</td>\n      <td>-0.649448</td>\n      <td>-0.760406</td>\n      <td>...</td>\n      <td>0</td>\n      <td>0</td>\n      <td>0</td>\n      <td>0</td>\n      <td>0</td>\n      <td>0.0</td>\n      <td>0.0</td>\n      <td>0.0</td>\n      <td>0.0</td>\n      <td>3.0</td>\n    </tr>\n    <tr>\n      <th>7375452</th>\n      <td>-11.0</td>\n      <td>-8.0</td>\n      <td>-4</td>\n      <td>122</td>\n      <td>935.02654</td>\n      <td>58</td>\n      <td>0.433884</td>\n      <td>-0.900969</td>\n      <td>-0.999914</td>\n      <td>-0.013090</td>\n      <td>...</td>\n      <td>0</td>\n      <td>2</td>\n      <td>2</td>\n      <td>2</td>\n      <td>2</td>\n      <td>0.0</td>\n      <td>0.0</td>\n      <td>3.0</td>\n      <td>0.0</td>\n      <td>0.0</td>\n    </tr>\n    <tr>\n      <th>7757994</th>\n      <td>-6.0</td>\n      <td>-8.0</td>\n      <td>180</td>\n      <td>92</td>\n      <td>584.19042</td>\n      <td>62</td>\n      <td>-0.781831</td>\n      <td>0.623490</td>\n      <td>-0.608761</td>\n      <td>0.793353</td>\n      <td>...</td>\n      <td>0</td>\n      <td>0</td>\n      <td>0</td>\n      <td>0</td>\n      <td>0</td>\n      <td>1.0</td>\n      <td>3.0</td>\n      <td>1.0</td>\n      <td>3.0</td>\n      <td>1.0</td>\n    </tr>\n    <tr>\n      <th>7249134</th>\n      <td>-11.0</td>\n      <td>-9.0</td>\n      <td>-4</td>\n      <td>89</td>\n      <td>653.39204</td>\n      <td>52</td>\n      <td>0.974928</td>\n      <td>-0.222521</td>\n      <td>0.220697</td>\n      <td>-0.975342</td>\n      <td>...</td>\n      <td>0</td>\n      <td>0</td>\n      <td>0</td>\n      <td>0</td>\n      <td>0</td>\n      <td>1.0</td>\n      <td>3.0</td>\n      <td>2.0</td>\n      <td>3.0</td>\n      <td>2.0</td>\n    </tr>\n  </tbody>\n</table>\n<p>263204 rows × 45 columns</p>\n</div>"
     },
     "execution_count": 16,
     "metadata": {},
     "output_type": "execute_result"
    }
   ],
   "source": [
    "import numpy as np\n",
    "import pandas as pd\n",
    "import seaborn as sns\n",
    "import matplotlib.pyplot as plt\n",
    "import os \n",
    "from main.utils.data_manage_utils import load_processed_data_by_folder, print_shapes\n",
    "from main.utils.time_utils import print_time\n",
    "from sklearn.ensemble import RandomForestRegressor\n",
    "from sklearn.model_selection import KFold, cross_val_score\n",
    "from sklearn.metrics import mean_squared_error\n",
    "\n",
    "# Variables\n",
    "ROOT_PATH = os.path.abspath(\"../../../../\")\n",
    "DATA_FOLDER = os.path.join(ROOT_PATH, \"data/preprocessing/base/reg\")\n",
    "\n",
    "X_train, y_train, X_test, y_test = load_processed_data_by_folder(DATA_FOLDER)\n",
    "print_shapes(X_train, y_train, X_test, y_test)\n",
    "\n",
    "X_train"
   ]
  },
  {
   "cell_type": "code",
   "execution_count": 17,
   "outputs": [
    {
     "name": "stdout",
     "output_type": "stream",
     "text": [
      "Starting run 1 of 45...\n",
      "\tMidstep 1 of 45\n"
     ]
    },
    {
     "name": "stderr",
     "output_type": "stream",
     "text": [
      "[Parallel(n_jobs=1)]: Using backend SequentialBackend with 1 concurrent workers.\n"
     ]
    },
    {
     "name": "stdout",
     "output_type": "stream",
     "text": [
      "[CV] END .................................................... total time=  47.0s\n"
     ]
    },
    {
     "name": "stderr",
     "output_type": "stream",
     "text": [
      "[Parallel(n_jobs=1)]: Done   1 out of   1 | elapsed:   47.1s remaining:    0.0s\n"
     ]
    },
    {
     "name": "stdout",
     "output_type": "stream",
     "text": [
      "[CV] END .................................................... total time=  50.6s\n",
      "[CV] END .................................................... total time=  44.7s\n",
      "[CV] END .................................................... total time=  44.8s\n",
      "[CV] END .................................................... total time=  46.8s\n",
      "\tMidstep 2 of 45\n"
     ]
    },
    {
     "name": "stderr",
     "output_type": "stream",
     "text": [
      "[Parallel(n_jobs=1)]: Done   5 out of   5 | elapsed:  3.9min finished\n",
      "[Parallel(n_jobs=1)]: Using backend SequentialBackend with 1 concurrent workers.\n"
     ]
    },
    {
     "name": "stdout",
     "output_type": "stream",
     "text": [
      "[CV] END .................................................... total time=  44.7s\n"
     ]
    },
    {
     "name": "stderr",
     "output_type": "stream",
     "text": [
      "[Parallel(n_jobs=1)]: Done   1 out of   1 | elapsed:   44.7s remaining:    0.0s\n"
     ]
    },
    {
     "name": "stdout",
     "output_type": "stream",
     "text": [
      "[CV] END .................................................... total time=  47.9s\n",
      "[CV] END .................................................... total time=  46.9s\n",
      "[CV] END .................................................... total time=  47.8s\n"
     ]
    },
    {
     "name": "stderr",
     "output_type": "stream",
     "text": [
      "\n",
      "KeyboardInterrupt\n",
      "\n"
     ]
    }
   ],
   "source": [
    "def feature_selection(X, y , k=5, mse_gain_threshold = 0.001):\n",
    "    features = X.columns.tolist()\n",
    "    best_score = -np.inf\n",
    "    best_features = None\n",
    "    i = 1\n",
    "    while len(features) > 2:\n",
    "        scores = []\n",
    "        print(f\"Starting run {i} of {len(X.columns.tolist())}...\")\n",
    "        m = 1\n",
    "        for feature in features:\n",
    "            print(f\"\\tMidstep {m} of {len(features)}\")\n",
    "            selected_features = [f for f in features if f != feature]\n",
    "            X_selected = X[selected_features]\n",
    "            clf = RandomForestRegressor(max_depth=3, random_state=42) \n",
    "            cv = KFold(n_splits=k, shuffle=True, random_state=42)\n",
    "            scores.append(np.mean(cross_val_score(clf, X_selected, y, cv=cv, scoring='neg_mean_squared_error', verbose=2)))\n",
    "            m+=1\n",
    "        \n",
    "        min_score_idx = np.argmin(scores)\n",
    "        print(f\"Worst feature is {features[min_score_idx]} with score {scores[min_score_idx]:.4f}\")\n",
    "        i += 1\n",
    "        if scores[min_score_idx] - best_score < mse_gain_threshold:\n",
    "            break  # Stop if accuracy gain is less than threshold\n",
    "        else:\n",
    "            best_score = scores[min_score_idx]\n",
    "            features.pop(min_score_idx)\n",
    "    return features\n",
    "\n",
    "\n",
    "selected_features = feature_selection(X_train, y_train)\n",
    "print(\"Selected Features:\", selected_features)"
   ],
   "metadata": {
    "collapsed": false,
    "ExecuteTime": {
     "end_time": "2024-04-25T17:19:53.924091800Z",
     "start_time": "2024-04-25T17:12:18.358026500Z"
    }
   },
   "id": "8f3a52e025059ead"
  }
 ],
 "metadata": {
  "kernelspec": {
   "display_name": "Python 3",
   "language": "python",
   "name": "python3"
  },
  "language_info": {
   "codemirror_mode": {
    "name": "ipython",
    "version": 2
   },
   "file_extension": ".py",
   "mimetype": "text/x-python",
   "name": "python",
   "nbconvert_exporter": "python",
   "pygments_lexer": "ipython2",
   "version": "2.7.6"
  }
 },
 "nbformat": 4,
 "nbformat_minor": 5
}
