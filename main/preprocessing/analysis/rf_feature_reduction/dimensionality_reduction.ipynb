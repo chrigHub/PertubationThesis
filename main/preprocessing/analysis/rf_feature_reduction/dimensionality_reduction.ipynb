{
 "cells": [
  {
   "cell_type": "code",
   "execution_count": 5,
   "id": "initial_id",
   "metadata": {
    "collapsed": true,
    "ExecuteTime": {
     "end_time": "2024-03-24T15:04:27.001192100Z",
     "start_time": "2024-03-24T15:04:26.967182100Z"
    }
   },
   "outputs": [],
   "source": [
    "from itertools import combinations\n",
    "\n",
    "import numpy as np\n",
    "import pandas as pd\n",
    "import matplotlib.pyplot as plt\n",
    "import os\n",
    "\n",
    "from sklearn.ensemble import RandomForestClassifier\n",
    "from sklearn.model_selection import KFold, cross_val_score\n",
    "\n",
    "from main.utils.data_manage_utils import load_processed_data_by_folder\n",
    "\n",
    "ROOT_FOLER = os.path.abspath(\"../../../../\")\n",
    "INPUT_FOLDER = os.path.join(ROOT_FOLER, \"data/preprocessing/base/class\")"
   ]
  },
  {
   "cell_type": "code",
   "execution_count": 6,
   "outputs": [
    {
     "data": {
      "text/plain": "         MEDIAN_CARR_DELAY(MINS)  MEDIAN_ORIGIN_DELAY(MINS)  DEP_DELAY(MINS)  \\\n5998106                    -11.0                      -11.0              107   \n9744846                    -11.0                      -11.0               -3   \n8656393                    -11.0                       -9.0               64   \n7404998                    -11.0                       -8.0               -2   \n8855927                    -11.0                       -5.0               15   \n...                          ...                        ...              ...   \n6033952                     -6.0                       -9.0               -3   \n7551519                    -11.0                      -15.0               -8   \n7375452                    -11.0                       -8.0               -4   \n7757994                     -6.0                       -8.0              180   \n7249134                    -11.0                       -9.0               -4   \n\n         CRS_ELAPSED_TIME(MINS)  DISTANCE(KM)  NR_PREV_ARR_FLIGHTS(1HR)  \\\n5998106                      89     548.78494                        74   \n9744846                     106     830.41944                        83   \n8656393                      98     653.39204                        53   \n7404998                     121     935.02654                        88   \n8855927                     132    1120.10064                        74   \n...                         ...           ...                       ...   \n6033952                     126     975.26004                        95   \n7551519                     142    1200.56764                        74   \n7375452                     122     935.02654                        58   \n7757994                      92     584.19042                        62   \n7249134                      89     653.39204                        52   \n\n         ARR_DAY_SIN  ARR_DAY_COS  ARR_MIN_OF_DAY_SIN  ARR_MIN_OF_DAY_COS  \\\n5998106    -0.433884    -0.900969           -0.985556            0.169350   \n9744846     0.433884    -0.900969            0.496217           -0.868199   \n8656393    -0.781831     0.623490           -0.548293           -0.836286   \n7404998    -0.433884    -0.900969           -0.719340            0.694658   \n8855927     0.433884    -0.900969           -0.845728            0.533615   \n...              ...          ...                 ...                 ...   \n6033952    -0.781831     0.623490            0.678801           -0.734323   \n7551519     0.000000     1.000000           -0.649448           -0.760406   \n7375452     0.433884    -0.900969           -0.999914           -0.013090   \n7757994    -0.781831     0.623490           -0.608761            0.793353   \n7249134     0.974928    -0.222521            0.220697           -0.975342   \n\n         ...  EVENT_HZ  EVENT_IC  EVENT_RA  EVENT_SN  EVENT_TS  08L/26R  \\\n5998106  ...         0         0         0         0         0      0.0   \n9744846  ...         0         0         0         0         0      3.0   \n8656393  ...         0         0         3         0         2      0.0   \n7404998  ...         0         0         0         0         0      0.0   \n8855927  ...         0         0         0         2         0      3.0   \n...      ...       ...       ...       ...       ...       ...      ...   \n6033952  ...         0         0         0         0         0      0.0   \n7551519  ...         0         0         0         0         0      0.0   \n7375452  ...         0         2         2         2         2      0.0   \n7757994  ...         0         0         0         0         0      1.0   \n7249134  ...         0         0         0         0         0      1.0   \n\n         08R/26L  09L/27R  09R/27L  10/28  \n5998106      0.0      3.0      0.0    3.0  \n9744846      3.0      0.0      3.0    3.0  \n8656393      3.0      0.0      0.0    3.0  \n7404998      3.0      3.0      3.0    3.0  \n8855927      0.0      3.0      0.0    3.0  \n...          ...      ...      ...    ...  \n6033952      0.0      3.0      0.0    0.0  \n7551519      0.0      0.0      0.0    3.0  \n7375452      0.0      3.0      0.0    0.0  \n7757994      3.0      1.0      3.0    1.0  \n7249134      3.0      2.0      3.0    2.0  \n\n[263204 rows x 45 columns]",
      "text/html": "<div>\n<style scoped>\n    .dataframe tbody tr th:only-of-type {\n        vertical-align: middle;\n    }\n\n    .dataframe tbody tr th {\n        vertical-align: top;\n    }\n\n    .dataframe thead th {\n        text-align: right;\n    }\n</style>\n<table border=\"1\" class=\"dataframe\">\n  <thead>\n    <tr style=\"text-align: right;\">\n      <th></th>\n      <th>MEDIAN_CARR_DELAY(MINS)</th>\n      <th>MEDIAN_ORIGIN_DELAY(MINS)</th>\n      <th>DEP_DELAY(MINS)</th>\n      <th>CRS_ELAPSED_TIME(MINS)</th>\n      <th>DISTANCE(KM)</th>\n      <th>NR_PREV_ARR_FLIGHTS(1HR)</th>\n      <th>ARR_DAY_SIN</th>\n      <th>ARR_DAY_COS</th>\n      <th>ARR_MIN_OF_DAY_SIN</th>\n      <th>ARR_MIN_OF_DAY_COS</th>\n      <th>...</th>\n      <th>EVENT_HZ</th>\n      <th>EVENT_IC</th>\n      <th>EVENT_RA</th>\n      <th>EVENT_SN</th>\n      <th>EVENT_TS</th>\n      <th>08L/26R</th>\n      <th>08R/26L</th>\n      <th>09L/27R</th>\n      <th>09R/27L</th>\n      <th>10/28</th>\n    </tr>\n  </thead>\n  <tbody>\n    <tr>\n      <th>5998106</th>\n      <td>-11.0</td>\n      <td>-11.0</td>\n      <td>107</td>\n      <td>89</td>\n      <td>548.78494</td>\n      <td>74</td>\n      <td>-0.433884</td>\n      <td>-0.900969</td>\n      <td>-0.985556</td>\n      <td>0.169350</td>\n      <td>...</td>\n      <td>0</td>\n      <td>0</td>\n      <td>0</td>\n      <td>0</td>\n      <td>0</td>\n      <td>0.0</td>\n      <td>0.0</td>\n      <td>3.0</td>\n      <td>0.0</td>\n      <td>3.0</td>\n    </tr>\n    <tr>\n      <th>9744846</th>\n      <td>-11.0</td>\n      <td>-11.0</td>\n      <td>-3</td>\n      <td>106</td>\n      <td>830.41944</td>\n      <td>83</td>\n      <td>0.433884</td>\n      <td>-0.900969</td>\n      <td>0.496217</td>\n      <td>-0.868199</td>\n      <td>...</td>\n      <td>0</td>\n      <td>0</td>\n      <td>0</td>\n      <td>0</td>\n      <td>0</td>\n      <td>3.0</td>\n      <td>3.0</td>\n      <td>0.0</td>\n      <td>3.0</td>\n      <td>3.0</td>\n    </tr>\n    <tr>\n      <th>8656393</th>\n      <td>-11.0</td>\n      <td>-9.0</td>\n      <td>64</td>\n      <td>98</td>\n      <td>653.39204</td>\n      <td>53</td>\n      <td>-0.781831</td>\n      <td>0.623490</td>\n      <td>-0.548293</td>\n      <td>-0.836286</td>\n      <td>...</td>\n      <td>0</td>\n      <td>0</td>\n      <td>3</td>\n      <td>0</td>\n      <td>2</td>\n      <td>0.0</td>\n      <td>3.0</td>\n      <td>0.0</td>\n      <td>0.0</td>\n      <td>3.0</td>\n    </tr>\n    <tr>\n      <th>7404998</th>\n      <td>-11.0</td>\n      <td>-8.0</td>\n      <td>-2</td>\n      <td>121</td>\n      <td>935.02654</td>\n      <td>88</td>\n      <td>-0.433884</td>\n      <td>-0.900969</td>\n      <td>-0.719340</td>\n      <td>0.694658</td>\n      <td>...</td>\n      <td>0</td>\n      <td>0</td>\n      <td>0</td>\n      <td>0</td>\n      <td>0</td>\n      <td>0.0</td>\n      <td>3.0</td>\n      <td>3.0</td>\n      <td>3.0</td>\n      <td>3.0</td>\n    </tr>\n    <tr>\n      <th>8855927</th>\n      <td>-11.0</td>\n      <td>-5.0</td>\n      <td>15</td>\n      <td>132</td>\n      <td>1120.10064</td>\n      <td>74</td>\n      <td>0.433884</td>\n      <td>-0.900969</td>\n      <td>-0.845728</td>\n      <td>0.533615</td>\n      <td>...</td>\n      <td>0</td>\n      <td>0</td>\n      <td>0</td>\n      <td>2</td>\n      <td>0</td>\n      <td>3.0</td>\n      <td>0.0</td>\n      <td>3.0</td>\n      <td>0.0</td>\n      <td>3.0</td>\n    </tr>\n    <tr>\n      <th>...</th>\n      <td>...</td>\n      <td>...</td>\n      <td>...</td>\n      <td>...</td>\n      <td>...</td>\n      <td>...</td>\n      <td>...</td>\n      <td>...</td>\n      <td>...</td>\n      <td>...</td>\n      <td>...</td>\n      <td>...</td>\n      <td>...</td>\n      <td>...</td>\n      <td>...</td>\n      <td>...</td>\n      <td>...</td>\n      <td>...</td>\n      <td>...</td>\n      <td>...</td>\n      <td>...</td>\n    </tr>\n    <tr>\n      <th>6033952</th>\n      <td>-6.0</td>\n      <td>-9.0</td>\n      <td>-3</td>\n      <td>126</td>\n      <td>975.26004</td>\n      <td>95</td>\n      <td>-0.781831</td>\n      <td>0.623490</td>\n      <td>0.678801</td>\n      <td>-0.734323</td>\n      <td>...</td>\n      <td>0</td>\n      <td>0</td>\n      <td>0</td>\n      <td>0</td>\n      <td>0</td>\n      <td>0.0</td>\n      <td>0.0</td>\n      <td>3.0</td>\n      <td>0.0</td>\n      <td>0.0</td>\n    </tr>\n    <tr>\n      <th>7551519</th>\n      <td>-11.0</td>\n      <td>-15.0</td>\n      <td>-8</td>\n      <td>142</td>\n      <td>1200.56764</td>\n      <td>74</td>\n      <td>0.000000</td>\n      <td>1.000000</td>\n      <td>-0.649448</td>\n      <td>-0.760406</td>\n      <td>...</td>\n      <td>0</td>\n      <td>0</td>\n      <td>0</td>\n      <td>0</td>\n      <td>0</td>\n      <td>0.0</td>\n      <td>0.0</td>\n      <td>0.0</td>\n      <td>0.0</td>\n      <td>3.0</td>\n    </tr>\n    <tr>\n      <th>7375452</th>\n      <td>-11.0</td>\n      <td>-8.0</td>\n      <td>-4</td>\n      <td>122</td>\n      <td>935.02654</td>\n      <td>58</td>\n      <td>0.433884</td>\n      <td>-0.900969</td>\n      <td>-0.999914</td>\n      <td>-0.013090</td>\n      <td>...</td>\n      <td>0</td>\n      <td>2</td>\n      <td>2</td>\n      <td>2</td>\n      <td>2</td>\n      <td>0.0</td>\n      <td>0.0</td>\n      <td>3.0</td>\n      <td>0.0</td>\n      <td>0.0</td>\n    </tr>\n    <tr>\n      <th>7757994</th>\n      <td>-6.0</td>\n      <td>-8.0</td>\n      <td>180</td>\n      <td>92</td>\n      <td>584.19042</td>\n      <td>62</td>\n      <td>-0.781831</td>\n      <td>0.623490</td>\n      <td>-0.608761</td>\n      <td>0.793353</td>\n      <td>...</td>\n      <td>0</td>\n      <td>0</td>\n      <td>0</td>\n      <td>0</td>\n      <td>0</td>\n      <td>1.0</td>\n      <td>3.0</td>\n      <td>1.0</td>\n      <td>3.0</td>\n      <td>1.0</td>\n    </tr>\n    <tr>\n      <th>7249134</th>\n      <td>-11.0</td>\n      <td>-9.0</td>\n      <td>-4</td>\n      <td>89</td>\n      <td>653.39204</td>\n      <td>52</td>\n      <td>0.974928</td>\n      <td>-0.222521</td>\n      <td>0.220697</td>\n      <td>-0.975342</td>\n      <td>...</td>\n      <td>0</td>\n      <td>0</td>\n      <td>0</td>\n      <td>0</td>\n      <td>0</td>\n      <td>1.0</td>\n      <td>3.0</td>\n      <td>2.0</td>\n      <td>3.0</td>\n      <td>2.0</td>\n    </tr>\n  </tbody>\n</table>\n<p>263204 rows × 45 columns</p>\n</div>"
     },
     "execution_count": 6,
     "metadata": {},
     "output_type": "execute_result"
    }
   ],
   "source": [
    "X_train, y_train, X_test, y_test = load_processed_data_by_folder(INPUT_FOLDER)\n",
    "X_train"
   ],
   "metadata": {
    "collapsed": false,
    "ExecuteTime": {
     "end_time": "2024-03-24T15:04:28.259704200Z",
     "start_time": "2024-03-24T15:04:27.762352200Z"
    }
   },
   "id": "fac7233894f4abea"
  },
  {
   "cell_type": "code",
   "execution_count": null,
   "outputs": [],
   "source": [
    "\n",
    "\n",
    "# Define your classifier\n",
    "clf = RandomForestClassifier(class_weight=\"balannced\", random_state=42, max_depth=12)\n",
    "\n",
    "\n",
    "# Define the number of folds for cross-validation\n",
    "num_folds = 5\n",
    "\n",
    "# Initialize variables to keep track of best accuracy and corresponding columns\n",
    "best_accuracy = 0\n",
    "best_columns = None\n",
    "\n",
    "# Iterate through all possible combinations of columns\n",
    "for r in range(1, len(X_train.columns) + 1):\n",
    "    for subset in combinations(X_train.columns, r):\n",
    "        # Create a new DataFrame with only the selected subset of columns\n",
    "        X_subset = X_train[list(subset)]\n",
    "        \n",
    "        # Perform cross-validation with the subset of columns\n",
    "        kf = KFold(n_splits=num_folds, shuffle=True, random_state=42)\n",
    "        scores = cross_val_score(clf, X_subset, y_train, cv=kf)\n",
    "        accuracy = scores.mean()\n",
    "        \n",
    "        # Check if the accuracy improves\n",
    "        if accuracy > best_accuracy:\n",
    "            best_accuracy = accuracy\n",
    "            best_columns = subset\n",
    "\n",
    "# Output the best combination of columns and corresponding accuracy\n",
    "print(\"Best combination of columns:\", best_columns)\n",
    "print(\"Best accuracy with 5-fold cross-validation:\", best_accuracy)"
   ],
   "metadata": {
    "collapsed": false
   },
   "id": "3925f8af02640428"
  }
 ],
 "metadata": {
  "kernelspec": {
   "display_name": "Python 3",
   "language": "python",
   "name": "python3"
  },
  "language_info": {
   "codemirror_mode": {
    "name": "ipython",
    "version": 2
   },
   "file_extension": ".py",
   "mimetype": "text/x-python",
   "name": "python",
   "nbconvert_exporter": "python",
   "pygments_lexer": "ipython2",
   "version": "2.7.6"
  }
 },
 "nbformat": 4,
 "nbformat_minor": 5
}
