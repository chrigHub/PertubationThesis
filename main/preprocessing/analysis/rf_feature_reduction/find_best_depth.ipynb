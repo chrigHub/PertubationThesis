{
 "cells": [
  {
   "cell_type": "code",
   "execution_count": 5,
   "id": "initial_id",
   "metadata": {
    "collapsed": true,
    "ExecuteTime": {
     "end_time": "2024-03-23T00:37:07.779689Z",
     "start_time": "2024-03-23T00:37:07.746704600Z"
    }
   },
   "outputs": [],
   "source": [
    "import numpy as np\n",
    "import pandas as pd\n",
    "import matplotlib.pyplot as plt\n",
    "import os\n",
    "from sklearn.model_selection import train_test_split\n",
    "from sklearn.ensemble import RandomForestClassifier\n",
    "from main.utils.data_manage_utils import load_processed_data_by_folder\n",
    "\n",
    "ROOT_PATH = os.path.abspath(\"../../../../\")\n",
    "INPUT_FOLDER = os.path.join(ROOT_PATH, \"data/preprocessing/base/class\")"
   ]
  },
  {
   "cell_type": "code",
   "execution_count": 6,
   "outputs": [
    {
     "name": "stdout",
     "output_type": "stream",
     "text": [
      "Shape of X_train: (263204, 45)\n",
      "Shape of y_train: (263204,)\n",
      "Shape of X_test: (65801, 45)\n",
      "Shape of y_test: (65801,)\n",
      "X_train table: \n"
     ]
    },
    {
     "data": {
      "text/plain": "         MEDIAN_CARR_DELAY(MINS)  MEDIAN_ORIGIN_DELAY(MINS)  DEP_DELAY(MINS)  \\\n5998106                    -11.0                      -11.0              107   \n9744846                    -11.0                      -11.0               -3   \n8656393                    -11.0                       -9.0               64   \n7404998                    -11.0                       -8.0               -2   \n8855927                    -11.0                       -5.0               15   \n...                          ...                        ...              ...   \n6033952                     -6.0                       -9.0               -3   \n7551519                    -11.0                      -15.0               -8   \n7375452                    -11.0                       -8.0               -4   \n7757994                     -6.0                       -8.0              180   \n7249134                    -11.0                       -9.0               -4   \n\n         CRS_ELAPSED_TIME(MINS)  DISTANCE(KM)  NR_PREV_ARR_FLIGHTS(1HR)  \\\n5998106                      89     548.78494                        74   \n9744846                     106     830.41944                        83   \n8656393                      98     653.39204                        53   \n7404998                     121     935.02654                        88   \n8855927                     132    1120.10064                        74   \n...                         ...           ...                       ...   \n6033952                     126     975.26004                        95   \n7551519                     142    1200.56764                        74   \n7375452                     122     935.02654                        58   \n7757994                      92     584.19042                        62   \n7249134                      89     653.39204                        52   \n\n         ARR_DAY_SIN  ARR_DAY_COS  ARR_MIN_OF_DAY_SIN  ARR_MIN_OF_DAY_COS  \\\n5998106    -0.433884    -0.900969           -0.985556            0.169350   \n9744846     0.433884    -0.900969            0.496217           -0.868199   \n8656393    -0.781831     0.623490           -0.548293           -0.836286   \n7404998    -0.433884    -0.900969           -0.719340            0.694658   \n8855927     0.433884    -0.900969           -0.845728            0.533615   \n...              ...          ...                 ...                 ...   \n6033952    -0.781831     0.623490            0.678801           -0.734323   \n7551519     0.000000     1.000000           -0.649448           -0.760406   \n7375452     0.433884    -0.900969           -0.999914           -0.013090   \n7757994    -0.781831     0.623490           -0.608761            0.793353   \n7249134     0.974928    -0.222521            0.220697           -0.975342   \n\n         ...  EVENT_HZ  EVENT_IC  EVENT_RA  EVENT_SN  EVENT_TS  08L/26R  \\\n5998106  ...         0         0         0         0         0      0.0   \n9744846  ...         0         0         0         0         0      3.0   \n8656393  ...         0         0         3         0         2      0.0   \n7404998  ...         0         0         0         0         0      0.0   \n8855927  ...         0         0         0         2         0      3.0   \n...      ...       ...       ...       ...       ...       ...      ...   \n6033952  ...         0         0         0         0         0      0.0   \n7551519  ...         0         0         0         0         0      0.0   \n7375452  ...         0         2         2         2         2      0.0   \n7757994  ...         0         0         0         0         0      1.0   \n7249134  ...         0         0         0         0         0      1.0   \n\n         08R/26L  09L/27R  09R/27L  10/28  \n5998106      0.0      3.0      0.0    3.0  \n9744846      3.0      0.0      3.0    3.0  \n8656393      3.0      0.0      0.0    3.0  \n7404998      3.0      3.0      3.0    3.0  \n8855927      0.0      3.0      0.0    3.0  \n...          ...      ...      ...    ...  \n6033952      0.0      3.0      0.0    0.0  \n7551519      0.0      0.0      0.0    3.0  \n7375452      0.0      3.0      0.0    0.0  \n7757994      3.0      1.0      3.0    1.0  \n7249134      3.0      2.0      3.0    2.0  \n\n[263204 rows x 45 columns]",
      "text/html": "<div>\n<style scoped>\n    .dataframe tbody tr th:only-of-type {\n        vertical-align: middle;\n    }\n\n    .dataframe tbody tr th {\n        vertical-align: top;\n    }\n\n    .dataframe thead th {\n        text-align: right;\n    }\n</style>\n<table border=\"1\" class=\"dataframe\">\n  <thead>\n    <tr style=\"text-align: right;\">\n      <th></th>\n      <th>MEDIAN_CARR_DELAY(MINS)</th>\n      <th>MEDIAN_ORIGIN_DELAY(MINS)</th>\n      <th>DEP_DELAY(MINS)</th>\n      <th>CRS_ELAPSED_TIME(MINS)</th>\n      <th>DISTANCE(KM)</th>\n      <th>NR_PREV_ARR_FLIGHTS(1HR)</th>\n      <th>ARR_DAY_SIN</th>\n      <th>ARR_DAY_COS</th>\n      <th>ARR_MIN_OF_DAY_SIN</th>\n      <th>ARR_MIN_OF_DAY_COS</th>\n      <th>...</th>\n      <th>EVENT_HZ</th>\n      <th>EVENT_IC</th>\n      <th>EVENT_RA</th>\n      <th>EVENT_SN</th>\n      <th>EVENT_TS</th>\n      <th>08L/26R</th>\n      <th>08R/26L</th>\n      <th>09L/27R</th>\n      <th>09R/27L</th>\n      <th>10/28</th>\n    </tr>\n  </thead>\n  <tbody>\n    <tr>\n      <th>5998106</th>\n      <td>-11.0</td>\n      <td>-11.0</td>\n      <td>107</td>\n      <td>89</td>\n      <td>548.78494</td>\n      <td>74</td>\n      <td>-0.433884</td>\n      <td>-0.900969</td>\n      <td>-0.985556</td>\n      <td>0.169350</td>\n      <td>...</td>\n      <td>0</td>\n      <td>0</td>\n      <td>0</td>\n      <td>0</td>\n      <td>0</td>\n      <td>0.0</td>\n      <td>0.0</td>\n      <td>3.0</td>\n      <td>0.0</td>\n      <td>3.0</td>\n    </tr>\n    <tr>\n      <th>9744846</th>\n      <td>-11.0</td>\n      <td>-11.0</td>\n      <td>-3</td>\n      <td>106</td>\n      <td>830.41944</td>\n      <td>83</td>\n      <td>0.433884</td>\n      <td>-0.900969</td>\n      <td>0.496217</td>\n      <td>-0.868199</td>\n      <td>...</td>\n      <td>0</td>\n      <td>0</td>\n      <td>0</td>\n      <td>0</td>\n      <td>0</td>\n      <td>3.0</td>\n      <td>3.0</td>\n      <td>0.0</td>\n      <td>3.0</td>\n      <td>3.0</td>\n    </tr>\n    <tr>\n      <th>8656393</th>\n      <td>-11.0</td>\n      <td>-9.0</td>\n      <td>64</td>\n      <td>98</td>\n      <td>653.39204</td>\n      <td>53</td>\n      <td>-0.781831</td>\n      <td>0.623490</td>\n      <td>-0.548293</td>\n      <td>-0.836286</td>\n      <td>...</td>\n      <td>0</td>\n      <td>0</td>\n      <td>3</td>\n      <td>0</td>\n      <td>2</td>\n      <td>0.0</td>\n      <td>3.0</td>\n      <td>0.0</td>\n      <td>0.0</td>\n      <td>3.0</td>\n    </tr>\n    <tr>\n      <th>7404998</th>\n      <td>-11.0</td>\n      <td>-8.0</td>\n      <td>-2</td>\n      <td>121</td>\n      <td>935.02654</td>\n      <td>88</td>\n      <td>-0.433884</td>\n      <td>-0.900969</td>\n      <td>-0.719340</td>\n      <td>0.694658</td>\n      <td>...</td>\n      <td>0</td>\n      <td>0</td>\n      <td>0</td>\n      <td>0</td>\n      <td>0</td>\n      <td>0.0</td>\n      <td>3.0</td>\n      <td>3.0</td>\n      <td>3.0</td>\n      <td>3.0</td>\n    </tr>\n    <tr>\n      <th>8855927</th>\n      <td>-11.0</td>\n      <td>-5.0</td>\n      <td>15</td>\n      <td>132</td>\n      <td>1120.10064</td>\n      <td>74</td>\n      <td>0.433884</td>\n      <td>-0.900969</td>\n      <td>-0.845728</td>\n      <td>0.533615</td>\n      <td>...</td>\n      <td>0</td>\n      <td>0</td>\n      <td>0</td>\n      <td>2</td>\n      <td>0</td>\n      <td>3.0</td>\n      <td>0.0</td>\n      <td>3.0</td>\n      <td>0.0</td>\n      <td>3.0</td>\n    </tr>\n    <tr>\n      <th>...</th>\n      <td>...</td>\n      <td>...</td>\n      <td>...</td>\n      <td>...</td>\n      <td>...</td>\n      <td>...</td>\n      <td>...</td>\n      <td>...</td>\n      <td>...</td>\n      <td>...</td>\n      <td>...</td>\n      <td>...</td>\n      <td>...</td>\n      <td>...</td>\n      <td>...</td>\n      <td>...</td>\n      <td>...</td>\n      <td>...</td>\n      <td>...</td>\n      <td>...</td>\n      <td>...</td>\n    </tr>\n    <tr>\n      <th>6033952</th>\n      <td>-6.0</td>\n      <td>-9.0</td>\n      <td>-3</td>\n      <td>126</td>\n      <td>975.26004</td>\n      <td>95</td>\n      <td>-0.781831</td>\n      <td>0.623490</td>\n      <td>0.678801</td>\n      <td>-0.734323</td>\n      <td>...</td>\n      <td>0</td>\n      <td>0</td>\n      <td>0</td>\n      <td>0</td>\n      <td>0</td>\n      <td>0.0</td>\n      <td>0.0</td>\n      <td>3.0</td>\n      <td>0.0</td>\n      <td>0.0</td>\n    </tr>\n    <tr>\n      <th>7551519</th>\n      <td>-11.0</td>\n      <td>-15.0</td>\n      <td>-8</td>\n      <td>142</td>\n      <td>1200.56764</td>\n      <td>74</td>\n      <td>0.000000</td>\n      <td>1.000000</td>\n      <td>-0.649448</td>\n      <td>-0.760406</td>\n      <td>...</td>\n      <td>0</td>\n      <td>0</td>\n      <td>0</td>\n      <td>0</td>\n      <td>0</td>\n      <td>0.0</td>\n      <td>0.0</td>\n      <td>0.0</td>\n      <td>0.0</td>\n      <td>3.0</td>\n    </tr>\n    <tr>\n      <th>7375452</th>\n      <td>-11.0</td>\n      <td>-8.0</td>\n      <td>-4</td>\n      <td>122</td>\n      <td>935.02654</td>\n      <td>58</td>\n      <td>0.433884</td>\n      <td>-0.900969</td>\n      <td>-0.999914</td>\n      <td>-0.013090</td>\n      <td>...</td>\n      <td>0</td>\n      <td>2</td>\n      <td>2</td>\n      <td>2</td>\n      <td>2</td>\n      <td>0.0</td>\n      <td>0.0</td>\n      <td>3.0</td>\n      <td>0.0</td>\n      <td>0.0</td>\n    </tr>\n    <tr>\n      <th>7757994</th>\n      <td>-6.0</td>\n      <td>-8.0</td>\n      <td>180</td>\n      <td>92</td>\n      <td>584.19042</td>\n      <td>62</td>\n      <td>-0.781831</td>\n      <td>0.623490</td>\n      <td>-0.608761</td>\n      <td>0.793353</td>\n      <td>...</td>\n      <td>0</td>\n      <td>0</td>\n      <td>0</td>\n      <td>0</td>\n      <td>0</td>\n      <td>1.0</td>\n      <td>3.0</td>\n      <td>1.0</td>\n      <td>3.0</td>\n      <td>1.0</td>\n    </tr>\n    <tr>\n      <th>7249134</th>\n      <td>-11.0</td>\n      <td>-9.0</td>\n      <td>-4</td>\n      <td>89</td>\n      <td>653.39204</td>\n      <td>52</td>\n      <td>0.974928</td>\n      <td>-0.222521</td>\n      <td>0.220697</td>\n      <td>-0.975342</td>\n      <td>...</td>\n      <td>0</td>\n      <td>0</td>\n      <td>0</td>\n      <td>0</td>\n      <td>0</td>\n      <td>1.0</td>\n      <td>3.0</td>\n      <td>2.0</td>\n      <td>3.0</td>\n      <td>2.0</td>\n    </tr>\n  </tbody>\n</table>\n<p>263204 rows × 45 columns</p>\n</div>"
     },
     "execution_count": 6,
     "metadata": {},
     "output_type": "execute_result"
    }
   ],
   "source": [
    "X_train, y_train, X_test, y_test = load_processed_data_by_folder(INPUT_FOLDER)\n",
    "print(\"Shape of X_train: \" + str(X_train.shape))\n",
    "print(\"Shape of y_train: \" + str(y_train.shape))\n",
    "print(\"Shape of X_test: \" + str(X_test.shape))\n",
    "print(\"Shape of y_test: \" + str(y_test.shape))\n",
    "print(\"X_train table: \")\n",
    "X_train"
   ],
   "metadata": {
    "collapsed": false,
    "ExecuteTime": {
     "end_time": "2024-03-23T00:37:07.936595600Z",
     "start_time": "2024-03-23T00:37:07.768691800Z"
    }
   },
   "id": "865278d598fb0706"
  },
  {
   "cell_type": "code",
   "execution_count": null,
   "outputs": [
    {
     "name": "stdout",
     "output_type": "stream",
     "text": [
      "Starting depth 3/30 at 2024_03_23 01:37...\n",
      "Starting fold 1/5...\n",
      "\tValidation score: 0.5882\n",
      "\tTraining score: 0.5888\n",
      "Starting fold 2/5...\n",
      "\tValidation score: 0.5911\n",
      "\tTraining score: 0.5858\n",
      "Starting fold 3/5...\n"
     ]
    }
   ],
   "source": [
    "from sklearn.model_selection import cross_val_score, StratifiedKFold\n",
    "from main.utils.data_manage_utils import print_time\n",
    "\n",
    "# Converting DataFrames to numpy and flatten y-arrays\n",
    "X_train = X_train.to_numpy()\n",
    "X_test = X_test.to_numpy()\n",
    "y_train = y_train.to_numpy()\n",
    "y_test = y_test.to_numpy()\n",
    "\n",
    "# Initializing model\n",
    "clf = RandomForestClassifier(random_state=42, class_weight=\"balanced\")\n",
    "\n",
    "# Initialize StratifiedKFold with 5 folds\n",
    "k = 5\n",
    "skf = StratifiedKFold(n_splits=k, random_state=42, shuffle=True)\n",
    "\n",
    "# Perform stratified cross-validation with increasing max-depth\n",
    "results_array = []\n",
    "n_values = 10\n",
    "start = 3\n",
    "steps = 3\n",
    "depth_range = [i for i in range(start,start*n_values+1,steps)]\n",
    "for depth in depth_range:\n",
    "    start, start_str = print_time()\n",
    "    print(f\"Starting depth {depth}/{max(depth_range)} at {start_str}...\")\n",
    "    clf.max_depth = depth\n",
    "    val_scores = []\n",
    "    train_scores = []\n",
    "    count = 1\n",
    "    for train_index, test_index in skf.split(X_train, y_train):\n",
    "        print(f\"Starting fold {count}/{5}...\")\n",
    "        X_train_fold, X_val_fold = X_train[train_index], X_train[test_index]\n",
    "        y_train_fold, y_val_fold = y_train[train_index], y_train[test_index]\n",
    "    \n",
    "        # Fit the classifier on the training data\n",
    "        clf.fit(X_train_fold, y_train_fold)\n",
    "    \n",
    "        # Evaluate the classifier on the validation and training data\n",
    "        v_s = clf.score(X_val_fold, y_val_fold)\n",
    "        val_scores.append(v_s)\n",
    "        t_s = clf.score(X_train_fold, y_train_fold)\n",
    "        train_scores.append(t_s)\n",
    "        \n",
    "        # Document score for run\n",
    "        print(f\"\\tValidation score: {v_s:.4f}\")\n",
    "        print(f\"\\tTraining score: {t_s:.4f}\")\n",
    "        count += 1\n",
    "        \n",
    "    # Calculate measures for documentation and plots\n",
    "    end,end_str = print_time()\n",
    "    duration = end-start\n",
    "    mean_val_score = sum(val_scores) / len(val_scores)\n",
    "    mean_train_score = sum(train_scores) / len(train_scores)\n",
    "    std_val_score = np.std(val_scores)\n",
    "    std_train_score = np.std(train_scores)\n",
    "    \n",
    "    # Print the cross-validation scores\n",
    "    print(\"\\n=========================\")\n",
    "    print(f\"Results for depth {depth}:\")\n",
    "    print(\"Cross-validation train scores:\", train_scores)\n",
    "    print(\"Cross-validation validation scores:\", val_scores)\n",
    "    \n",
    "    # Print the mean and standard deviation of the cross-validation scores\n",
    "    print(\"Validation:\")\n",
    "    print(\"\\tMean accuracy:\", mean_val_score)\n",
    "    print(\"\\tStandard deviation of accuracy:\", std_val_score)\n",
    "    print(\"Training:\")\n",
    "    print(\"\\tMean accuracy:\", mean_train_score)\n",
    "    print(\"\\tStandard deviation of accuracy:\", std_train_score)\n",
    "    print(\"Time: \", duration)\n",
    "    print(\"=========================\\n\")\n",
    "    \n",
    "    # Add results from run into array\n",
    "    results_array.append((depth,duration,(mean_val_score, std_val_score), (mean_train_score,std_train_score)))\n"
   ],
   "metadata": {
    "collapsed": false,
    "is_executing": true,
    "ExecuteTime": {
     "start_time": "2024-03-23T00:37:07.944591700Z"
    }
   },
   "id": "d328d2919f28091a"
  },
  {
   "cell_type": "code",
   "execution_count": null,
   "outputs": [],
   "source": [
    "# Create data\n",
    "depth = []\n",
    "time = []\n",
    "val_acc = []\n",
    "train_acc = []\n",
    "for tuple in results_array:\n",
    "    depth.append(tuple[0])\n",
    "    time.append(tuple[1].seconds + (tuple[1].microseconds / 10**6))\n",
    "    val_acc.append(tuple[2][0])\n",
    "    train_acc.append(tuple[3][0])\n",
    "\n",
    "# Start with plot\n",
    "fig, ax1 = plt.subplots()\n",
    "\n",
    "\n",
    "# Add grid lines\n",
    "ax1.grid(True)\n",
    "\n",
    "# Create twin axes for seconds data\n",
    "ax2 = ax1.twinx()\n",
    "\n",
    "# Accuracy plots\n",
    "val_line = ax1.plot(depth, val_acc, label='Validation Accuracy', marker='o', color='blue')\n",
    "train_line = ax1.plot(depth, train_acc, label='Training Accuracy', marker='x', color='orange')\n",
    "\n",
    "# Milliseconds plot\n",
    "time_line = ax2.plot(depth, time, label='Time (milliseconds)', marker='s', color='green', linestyle=\"dashed\", linewidth=1, markersize = 3)\n",
    "\n",
    "# Set labels and title\n",
    "ax1.set_xlabel('Max Depth')\n",
    "ax1.set_ylabel('Accuracy')\n",
    "ax1.set_title('Cross Validation Results')\n",
    "ax2.set_ylabel('Time (seconds)')\n",
    "# Combine legend for both axes\n",
    "lines = val_line + train_line + time_line\n",
    "labels = [line.get_label() for line in lines]\n",
    "ax1.legend(lines, labels)\n",
    "\n",
    "ax1.set_xticks(np.arange(start=min(depth), stop=max(depth)+3, step=3))\n",
    "y_range = np.arange(start=0.5, stop=1.0 + 0.05, step=0.05)\n",
    "ax1.set_yticks(y_range)\n",
    "\n",
    "# Calculate second y-axis scale\n",
    "min_secs = 50\n",
    "max_secs = 400\n",
    "spacing = (max_secs-min_secs) / (len(y_range)-1)\n",
    "ax2.set_yticks(np.arange(start = min_secs, stop = max_secs +spacing, step = spacing))\n",
    "plt.show()"
   ],
   "metadata": {
    "collapsed": false,
    "is_executing": true
   },
   "id": "9ab212d54f232e87"
  }
 ],
 "metadata": {
  "kernelspec": {
   "display_name": "Python 3",
   "language": "python",
   "name": "python3"
  },
  "language_info": {
   "codemirror_mode": {
    "name": "ipython",
    "version": 2
   },
   "file_extension": ".py",
   "mimetype": "text/x-python",
   "name": "python",
   "nbconvert_exporter": "python",
   "pygments_lexer": "ipython2",
   "version": "2.7.6"
  }
 },
 "nbformat": 4,
 "nbformat_minor": 5
}
