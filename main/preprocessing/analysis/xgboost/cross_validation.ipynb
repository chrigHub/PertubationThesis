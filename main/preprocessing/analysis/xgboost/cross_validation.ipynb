{
 "cells": [
  {
   "cell_type": "code",
   "execution_count": 1,
   "outputs": [],
   "source": [
    "import os\n",
    "import numpy as np\n",
    "import pandas as pd\n",
    "import matplotlib.pyplot as plt\n",
    "import sys\n",
    "from main.utils.data_manage_utils import load_processed_data_by_folder\n",
    "from main.utils import train_utils\n",
    "from sklearn.ensemble import GradientBoostingClassifier\n",
    "from importlib import reload\n",
    "\n",
    "ROOT_PATH = os.path.abspath(\"../../../../\")\n",
    "INPUT_FOLDER = os.path.join(ROOT_PATH, \"data/preprocessing/processed_files/CCLASS\")"
   ],
   "metadata": {
    "collapsed": false,
    "ExecuteTime": {
     "end_time": "2024-06-16T22:50:14.896208600Z",
     "start_time": "2024-06-16T22:50:14.394913Z"
    }
   },
   "id": "initial_id"
  },
  {
   "cell_type": "code",
   "execution_count": 2,
   "outputs": [
    {
     "name": "stdout",
     "output_type": "stream",
     "text": [
      "Shape of X_train: (263204, 31)\n",
      "Shape of y_train: (263204,)\n",
      "Shape of X_test: (65801, 31)\n",
      "Shape of y_t est: (65801,)\n",
      "X_train table: \n"
     ]
    },
    {
     "data": {
      "text/plain": "         DEP_DELAY(MINS)  CRS_ELAPSED_TIME(MINS)  NR_PREV_ARR_FLIGHTS(1HR)  \\\n5998106              107                      89                        74   \n9744846               -3                     106                        83   \n8656393               64                      98                        53   \n7404998               -2                     121                        88   \n8855927               15                     132                        74   \n...                  ...                     ...                       ...   \n6033952               -3                     126                        95   \n7551519               -8                     142                        74   \n7375452               -4                     122                        58   \n7757994              180                      92                        62   \n7249134               -4                      89                        52   \n\n         ARR_DAY_SIN  ARR_DAY_COS  ARR_MIN_OF_DAY_SIN  ARR_MIN_OF_DAY_COS  \\\n5998106    -0.433884    -0.900969           -0.985556            0.169350   \n9744846     0.433884    -0.900969            0.496217           -0.868199   \n8656393    -0.781831     0.623490           -0.548293           -0.836286   \n7404998    -0.433884    -0.900969           -0.719340            0.694658   \n8855927     0.433884    -0.900969           -0.845728            0.533615   \n...              ...          ...                 ...                 ...   \n6033952    -0.781831     0.623490            0.678801           -0.734323   \n7551519     0.000000     1.000000           -0.649448           -0.760406   \n7375452     0.433884    -0.900969           -0.999914           -0.013090   \n7757994    -0.781831     0.623490           -0.608761            0.793353   \n7249134     0.974928    -0.222521            0.220697           -0.975342   \n\n         APPROACH_SPEED(KMH)  TAIL_HEIGHT(M)  PARKING_AREA(SQM)  ...  \\\n5998106              255.576        9.000744        1525.176514  ...   \n9744846              255.576        9.000744        1525.176514  ...   \n8656393              255.576        9.000744        1525.176514  ...   \n7404998              261.132       12.624816        1445.094760  ...   \n8855927              257.428        9.043416        1075.157934  ...   \n...                      ...             ...                ...  ...   \n6033952              229.648        9.854184         823.857302  ...   \n7551519              257.428        9.043416        1075.157934  ...   \n7375452              264.836       13.639800        2071.070234  ...   \n7757994              259.280        6.324600         560.293571  ...   \n7249134              255.576        9.000744        1525.176514  ...   \n\n         EVENT_FG  EVENT_FU  EVENT_GR  EVENT_GS  EVENT_HZ  EVENT_IC  EVENT_RA  \\\n5998106         0         0         0         0         0         0         0   \n9744846         0         2         0         0         0         0         0   \n8656393         0         0         0         0         0         0         3   \n7404998         0         0         0         0         0         0         0   \n8855927         0         0         0         0         0         0         0   \n...           ...       ...       ...       ...       ...       ...       ...   \n6033952         0         0         0         0         0         0         0   \n7551519         0         0         0         0         0         0         0   \n7375452         0         0         0         0         0         2         2   \n7757994         0         0         0         0         0         0         0   \n7249134         0         0         0         0         0         0         0   \n\n         EVENT_SN  EVENT_TS  RUNWAY_ERROR(PERC)  \n5998106         0         0                 0.4  \n9744846         0         0                 0.8  \n8656393         0         2                 0.4  \n7404998         0         0                 0.8  \n8855927         2         0                 0.6  \n...           ...       ...                 ...  \n6033952         0         0                 0.2  \n7551519         0         0                 0.2  \n7375452         2         2                 0.2  \n7757994         0         0                 1.0  \n7249134         0         0                 1.0  \n\n[263204 rows x 31 columns]",
      "text/html": "<div>\n<style scoped>\n    .dataframe tbody tr th:only-of-type {\n        vertical-align: middle;\n    }\n\n    .dataframe tbody tr th {\n        vertical-align: top;\n    }\n\n    .dataframe thead th {\n        text-align: right;\n    }\n</style>\n<table border=\"1\" class=\"dataframe\">\n  <thead>\n    <tr style=\"text-align: right;\">\n      <th></th>\n      <th>DEP_DELAY(MINS)</th>\n      <th>CRS_ELAPSED_TIME(MINS)</th>\n      <th>NR_PREV_ARR_FLIGHTS(1HR)</th>\n      <th>ARR_DAY_SIN</th>\n      <th>ARR_DAY_COS</th>\n      <th>ARR_MIN_OF_DAY_SIN</th>\n      <th>ARR_MIN_OF_DAY_COS</th>\n      <th>APPROACH_SPEED(KMH)</th>\n      <th>TAIL_HEIGHT(M)</th>\n      <th>PARKING_AREA(SQM)</th>\n      <th>...</th>\n      <th>EVENT_FG</th>\n      <th>EVENT_FU</th>\n      <th>EVENT_GR</th>\n      <th>EVENT_GS</th>\n      <th>EVENT_HZ</th>\n      <th>EVENT_IC</th>\n      <th>EVENT_RA</th>\n      <th>EVENT_SN</th>\n      <th>EVENT_TS</th>\n      <th>RUNWAY_ERROR(PERC)</th>\n    </tr>\n  </thead>\n  <tbody>\n    <tr>\n      <th>5998106</th>\n      <td>107</td>\n      <td>89</td>\n      <td>74</td>\n      <td>-0.433884</td>\n      <td>-0.900969</td>\n      <td>-0.985556</td>\n      <td>0.169350</td>\n      <td>255.576</td>\n      <td>9.000744</td>\n      <td>1525.176514</td>\n      <td>...</td>\n      <td>0</td>\n      <td>0</td>\n      <td>0</td>\n      <td>0</td>\n      <td>0</td>\n      <td>0</td>\n      <td>0</td>\n      <td>0</td>\n      <td>0</td>\n      <td>0.4</td>\n    </tr>\n    <tr>\n      <th>9744846</th>\n      <td>-3</td>\n      <td>106</td>\n      <td>83</td>\n      <td>0.433884</td>\n      <td>-0.900969</td>\n      <td>0.496217</td>\n      <td>-0.868199</td>\n      <td>255.576</td>\n      <td>9.000744</td>\n      <td>1525.176514</td>\n      <td>...</td>\n      <td>0</td>\n      <td>2</td>\n      <td>0</td>\n      <td>0</td>\n      <td>0</td>\n      <td>0</td>\n      <td>0</td>\n      <td>0</td>\n      <td>0</td>\n      <td>0.8</td>\n    </tr>\n    <tr>\n      <th>8656393</th>\n      <td>64</td>\n      <td>98</td>\n      <td>53</td>\n      <td>-0.781831</td>\n      <td>0.623490</td>\n      <td>-0.548293</td>\n      <td>-0.836286</td>\n      <td>255.576</td>\n      <td>9.000744</td>\n      <td>1525.176514</td>\n      <td>...</td>\n      <td>0</td>\n      <td>0</td>\n      <td>0</td>\n      <td>0</td>\n      <td>0</td>\n      <td>0</td>\n      <td>3</td>\n      <td>0</td>\n      <td>2</td>\n      <td>0.4</td>\n    </tr>\n    <tr>\n      <th>7404998</th>\n      <td>-2</td>\n      <td>121</td>\n      <td>88</td>\n      <td>-0.433884</td>\n      <td>-0.900969</td>\n      <td>-0.719340</td>\n      <td>0.694658</td>\n      <td>261.132</td>\n      <td>12.624816</td>\n      <td>1445.094760</td>\n      <td>...</td>\n      <td>0</td>\n      <td>0</td>\n      <td>0</td>\n      <td>0</td>\n      <td>0</td>\n      <td>0</td>\n      <td>0</td>\n      <td>0</td>\n      <td>0</td>\n      <td>0.8</td>\n    </tr>\n    <tr>\n      <th>8855927</th>\n      <td>15</td>\n      <td>132</td>\n      <td>74</td>\n      <td>0.433884</td>\n      <td>-0.900969</td>\n      <td>-0.845728</td>\n      <td>0.533615</td>\n      <td>257.428</td>\n      <td>9.043416</td>\n      <td>1075.157934</td>\n      <td>...</td>\n      <td>0</td>\n      <td>0</td>\n      <td>0</td>\n      <td>0</td>\n      <td>0</td>\n      <td>0</td>\n      <td>0</td>\n      <td>2</td>\n      <td>0</td>\n      <td>0.6</td>\n    </tr>\n    <tr>\n      <th>...</th>\n      <td>...</td>\n      <td>...</td>\n      <td>...</td>\n      <td>...</td>\n      <td>...</td>\n      <td>...</td>\n      <td>...</td>\n      <td>...</td>\n      <td>...</td>\n      <td>...</td>\n      <td>...</td>\n      <td>...</td>\n      <td>...</td>\n      <td>...</td>\n      <td>...</td>\n      <td>...</td>\n      <td>...</td>\n      <td>...</td>\n      <td>...</td>\n      <td>...</td>\n      <td>...</td>\n    </tr>\n    <tr>\n      <th>6033952</th>\n      <td>-3</td>\n      <td>126</td>\n      <td>95</td>\n      <td>-0.781831</td>\n      <td>0.623490</td>\n      <td>0.678801</td>\n      <td>-0.734323</td>\n      <td>229.648</td>\n      <td>9.854184</td>\n      <td>823.857302</td>\n      <td>...</td>\n      <td>0</td>\n      <td>0</td>\n      <td>0</td>\n      <td>0</td>\n      <td>0</td>\n      <td>0</td>\n      <td>0</td>\n      <td>0</td>\n      <td>0</td>\n      <td>0.2</td>\n    </tr>\n    <tr>\n      <th>7551519</th>\n      <td>-8</td>\n      <td>142</td>\n      <td>74</td>\n      <td>0.000000</td>\n      <td>1.000000</td>\n      <td>-0.649448</td>\n      <td>-0.760406</td>\n      <td>257.428</td>\n      <td>9.043416</td>\n      <td>1075.157934</td>\n      <td>...</td>\n      <td>0</td>\n      <td>0</td>\n      <td>0</td>\n      <td>0</td>\n      <td>0</td>\n      <td>0</td>\n      <td>0</td>\n      <td>0</td>\n      <td>0</td>\n      <td>0.2</td>\n    </tr>\n    <tr>\n      <th>7375452</th>\n      <td>-4</td>\n      <td>122</td>\n      <td>58</td>\n      <td>0.433884</td>\n      <td>-0.900969</td>\n      <td>-0.999914</td>\n      <td>-0.013090</td>\n      <td>264.836</td>\n      <td>13.639800</td>\n      <td>2071.070234</td>\n      <td>...</td>\n      <td>0</td>\n      <td>0</td>\n      <td>0</td>\n      <td>0</td>\n      <td>0</td>\n      <td>2</td>\n      <td>2</td>\n      <td>2</td>\n      <td>2</td>\n      <td>0.2</td>\n    </tr>\n    <tr>\n      <th>7757994</th>\n      <td>180</td>\n      <td>92</td>\n      <td>62</td>\n      <td>-0.781831</td>\n      <td>0.623490</td>\n      <td>-0.608761</td>\n      <td>0.793353</td>\n      <td>259.280</td>\n      <td>6.324600</td>\n      <td>560.293571</td>\n      <td>...</td>\n      <td>0</td>\n      <td>0</td>\n      <td>0</td>\n      <td>0</td>\n      <td>0</td>\n      <td>0</td>\n      <td>0</td>\n      <td>0</td>\n      <td>0</td>\n      <td>1.0</td>\n    </tr>\n    <tr>\n      <th>7249134</th>\n      <td>-4</td>\n      <td>89</td>\n      <td>52</td>\n      <td>0.974928</td>\n      <td>-0.222521</td>\n      <td>0.220697</td>\n      <td>-0.975342</td>\n      <td>255.576</td>\n      <td>9.000744</td>\n      <td>1525.176514</td>\n      <td>...</td>\n      <td>0</td>\n      <td>0</td>\n      <td>0</td>\n      <td>0</td>\n      <td>0</td>\n      <td>0</td>\n      <td>0</td>\n      <td>0</td>\n      <td>0</td>\n      <td>1.0</td>\n    </tr>\n  </tbody>\n</table>\n<p>263204 rows × 31 columns</p>\n</div>"
     },
     "execution_count": 2,
     "metadata": {},
     "output_type": "execute_result"
    }
   ],
   "source": [
    "X_train, y_train, X_test, y_test = load_processed_data_by_folder(INPUT_FOLDER)\n",
    "print(\"Shape of X_train: \" + str(X_train.shape))\n",
    "print(\"Shape of y_train: \" + str(y_train.shape))\n",
    "print(\"Shape of X_test: \" + str(X_test.shape))\n",
    "print(\"Shape of y_t est: \" + str(y_test.shape))\n",
    "print(\"X_train table: \")\n",
    "X_train"
   ],
   "metadata": {
    "collapsed": false,
    "ExecuteTime": {
     "end_time": "2024-06-16T22:50:15.200040100Z",
     "start_time": "2024-06-16T22:50:14.898197500Z"
    }
   },
   "id": "47af345e78db5d33"
  },
  {
   "cell_type": "code",
   "execution_count": 3,
   "outputs": [
    {
     "name": "stdout",
     "output_type": "stream",
     "text": [
      "Starting cross_validation at: 2024_06_16 20:43\n",
      "At step 1/5 splits.\n"
     ]
    },
    {
     "name": "stderr",
     "output_type": "stream",
     "text": [
      "C:\\Users\\chrig\\PycharmProjects\\PerturbationThesis\\main\\utils\\train_utils.py:82: UserWarning: WARN: Input matrix is not of type 'np.ndarray'. Converting input matrix 'X' into np.ndarray.\n",
      "  warnings.warn(\"WARN: Input matrix is not of type 'np.ndarray'. Converting input matrix 'X' into np.ndarray.\")\n",
      "C:\\Users\\chrig\\PycharmProjects\\PerturbationThesis\\main\\utils\\train_utils.py:85: UserWarning: WARN: Input matrix is not of type 'np.ndarray'. Converting target vector 'y' into np.ndarray.\n",
      "  warnings.warn(\"WARN: Input matrix is not of type 'np.ndarray'. Converting target vector 'y' into np.ndarray.\")\n"
     ]
    },
    {
     "name": "stdout",
     "output_type": "stream",
     "text": [
      "At step 2/5 splits.\n",
      "At step 3/5 splits.\n",
      "At step 4/5 splits.\n",
      "At step 5/5 splits.\n",
      "Ending cross_validation fit at: 2024_06_16 21:02\n",
      "Time elapsed: 0:19:07.956241\n"
     ]
    },
    {
     "data": {
      "text/plain": "{'val_scores': {'accuracy': [0.7205980129556809,\n   0.7240363974848502,\n   0.7239034212875896,\n   0.724454322676241,\n   0.7252659574468086],\n  'balanced_accuracy': [0.6524154346739178,\n   0.6582649863718806,\n   0.6598981690014356,\n   0.6586265303669546,\n   0.6606071733933679],\n  'fit_time': [230.786959, 221.487282, 230.495119, 228.244394, 228.396315],\n  'pred_time': [0.295831, 0.29285, 0.301836, 0.278838, 0.319818]},\n 'train_scores': {'accuracy': [0.7257447889705219,\n   0.7252128816553716,\n   0.7248661920660325,\n   0.7250989015164108,\n   0.7251666951615661],\n  'balanced_accuracy': [0.6607719130422172,\n   0.6595289370877827,\n   0.6591494713350724,\n   0.6593643102655481,\n   0.6596425526749341],\n  'fit_time': [230.786959, 221.487282, 230.495119, 228.244394, 228.396315],\n  'pred_time': [1.308246, 1.347211, 1.32123, 1.282267, 1.325259]}}"
     },
     "execution_count": 3,
     "metadata": {},
     "output_type": "execute_result"
    }
   ],
   "source": [
    "clf = GradientBoostingClassifier(random_state=42)\n",
    "cv_results = train_utils.custom_cross_validate(clf=clf, X=X_train, y=y_train, n_folds = 5, scoring= [\"accuracy\",\"balanced_accuracy\"], verbosity=1, return_train_scores=True)\n",
    "\n",
    "cv_results"
   ],
   "metadata": {
    "collapsed": false,
    "ExecuteTime": {
     "end_time": "2024-06-16T19:02:53.851087300Z",
     "start_time": "2024-06-16T18:43:45.862882800Z"
    }
   },
   "id": "95446018f5b7c217"
  },
  {
   "cell_type": "code",
   "execution_count": 4,
   "outputs": [
    {
     "name": "stdout",
     "output_type": "stream",
     "text": [
      "Mean values for cv result dict:\n"
     ]
    },
    {
     "data": {
      "text/plain": "{'val_scores': {'accuracy': {'mean': 0.7236516223702341,\n   'std': 0.0015991491838461545},\n  'balanced_accuracy': {'mean': 0.6579624587615113,\n   'std': 0.002899775160161162},\n  'fit_time': {'mean': 227.8820138, 'std': 3.3631962573978575},\n  'pred_time': {'mean': 0.29783459999999995, 'std': 0.013334260678417836}},\n 'train_scores': {'accuracy': {'mean': 0.7252178918739804,\n   'std': 0.0002891775288992836},\n  'balanced_accuracy': {'mean': 0.6596914368811109,\n   'std': 0.0005651483095376917},\n  'fit_time': {'mean': 227.8820138, 'std': 3.3631962573978575},\n  'pred_time': {'mean': 1.3168426, 'std': 0.021362108665578833}}}"
     },
     "execution_count": 4,
     "metadata": {},
     "output_type": "execute_result"
    }
   ],
   "source": [
    "print(f\"Mean values for cv result dict:\")\n",
    "train_utils.calc_mean_result_stats(cv_results)"
   ],
   "metadata": {
    "collapsed": false,
    "ExecuteTime": {
     "end_time": "2024-06-16T19:02:53.887088500Z",
     "start_time": "2024-06-16T19:02:53.849089500Z"
    }
   },
   "id": "d42bc774476e9c3"
  },
  {
   "cell_type": "markdown",
   "source": [
    "\n",
    "# Progressing learning rate and checking impact"
   ],
   "metadata": {
    "collapsed": false
   },
   "id": "65948beda25a4cbc"
  },
  {
   "cell_type": "code",
   "execution_count": null,
   "outputs": [
    {
     "name": "stdout",
     "output_type": "stream",
     "text": [
      "Running cross vlaidation with learning rate: 0.1...\n"
     ]
    }
   ],
   "source": [
    "lr_start = 1\n",
    "lr_step = 1\n",
    "lr_end = 10\n",
    "\n",
    "X_train_np = X_train.to_numpy()\n",
    "y_train_np = y_train.to_numpy()\n",
    "\n",
    "iterations = list(np.arange(0.1, 1, 0.1)) + list(np.arange(lr_start, lr_end + lr_step, lr_step))\n",
    "result_arr = []\n",
    "for iter in iterations:\n",
    "    print(f\"Running cross vlaidation with learning rate: {iter}...\")\n",
    "    clf = GradientBoostingClassifier(learning_rate=iter, random_state=42)\n",
    "    results = train_utils.custom_cross_validate(clf=clf, X=X_train_np, y=y_train_np, n_folds = 5, scoring= [\"accuracy\",\"balanced_accuracy\"], verbosity=0, return_train_scores=True)\n",
    "    print(f\"\\tIteration done. Results: \\n\\t{results}\")\n",
    "    result_arr.append(results)\n",
    "result_arr"
   ],
   "metadata": {
    "collapsed": false,
    "is_executing": true,
    "ExecuteTime": {
     "start_time": "2024-06-16T19:02:53.868077200Z"
    }
   },
   "id": "1f56719915a45577"
  },
  {
   "cell_type": "code",
   "execution_count": null,
   "outputs": [],
   "source": [
    "lr_results = []\n",
    "for res in result_arr:\n",
    "    lr_results.append(train_utils.calc_mean_result_stats(res))\n",
    "lr_results"
   ],
   "metadata": {
    "collapsed": false,
    "is_executing": true
   },
   "id": "1745921b2c62eef"
  },
  {
   "cell_type": "code",
   "execution_count": null,
   "outputs": [],
   "source": [
    "# Extract validation accuracies\n",
    "val_scores = [res_score.get(\"val_scores\") for res_score in lr_results]\n",
    "val_accs = [score.get(\"accuracy\").get(\"mean\") for score in val_scores]\n",
    "\n",
    "# Extract training accuracies\n",
    "train_scores = [res_score.get(\"train_scores\") for res_score in lr_results]\n",
    "train_accs = [score.get(\"accuracy\").get(\"mean\") for score in train_scores]\n",
    "\n",
    "# Create plot\n",
    "fig, ax = plt.subplots()\n",
    "x = iterations\n",
    "\n",
    "ax.plot(x, val_accs, label=\"Validation\")\n",
    "ax.plot(x,train_accs, label=\"Training\")\n",
    "\n",
    "plt.xticks(np.arange(0,10.5,0.5))\n",
    "\n",
    "ax.set_xlabel(\"Learning Rate\")\n",
    "ax.set_ylabel(\"Mean CV Accuracy\")\n",
    "\n",
    "plt.legend()\n",
    "plt.tight_layout()\n",
    "plt.show()"
   ],
   "metadata": {
    "collapsed": false,
    "is_executing": true
   },
   "id": "aeefc28f6903c3cc"
  },
  {
   "cell_type": "code",
   "execution_count": null,
   "outputs": [],
   "source": [
    "lr_optimal = iterations[np.argmax([res.get(\"val_scores\").get(\"accuracy\").get(\"mean\") for res in lr_results])]\n",
    "print(f\"Optimal learning rate is: {lr_optimal:.1f}\")"
   ],
   "metadata": {
    "collapsed": false,
    "is_executing": true
   },
   "id": "84326008a8f041cd"
  },
  {
   "cell_type": "markdown",
   "source": [
    "Using learning rate of 0.7 since this yielded the best results. I am now conducting the same experiments with the n_estimaters parameter."
   ],
   "metadata": {
    "collapsed": false
   },
   "id": "b8648f312ef157a1"
  },
  {
   "cell_type": "code",
   "execution_count": null,
   "outputs": [],
   "source": [
    "estimators_start = 50\n",
    "estimators_step = 50\n",
    "estimators_end = 500\n",
    "\n",
    "X_train_np = X_train.to_numpy()\n",
    "y_train_np = y_train.to_numpy()\n",
    "\n",
    "iterations = np.arange(estimators_start,estimators_end + estimators_step,estimators_step)\n",
    "result_arr = []\n",
    "for iter in iterations:\n",
    "    print(f\"Running cross vlaidation with n_estimators rate = {iter}:\")\n",
    "    clf = GradientBoostingClassifier(n_estimators=iter, random_state=42, learning_rate=0.7)\n",
    "    results = train_utils.custom_cross_validate(clf=clf, X=X_train_np, y=y_train_np, n_folds = 5, scoring= [\"accuracy\",\"balanced_accuracy\"], verbosity=0, return_train_scores=True)\n",
    "    print(f\"\\tIteration done. Results: \\n\\t{results}\")\n",
    "    result_arr.append(results)\n",
    "result_arr"
   ],
   "metadata": {
    "collapsed": false,
    "is_executing": true
   },
   "id": "e3e3fcdfcc1d5bf7"
  },
  {
   "cell_type": "code",
   "execution_count": null,
   "outputs": [],
   "source": [
    "n_est_results = []\n",
    "for res in result_arr:\n",
    "    n_est_results.append(train_utils.calc_mean_result_stats(res))\n",
    "n_est_results"
   ],
   "metadata": {
    "collapsed": false,
    "is_executing": true
   },
   "id": "f67ed5bf1fffbd19"
  },
  {
   "cell_type": "code",
   "execution_count": null,
   "outputs": [],
   "source": [
    "# Extract validation accuracies\n",
    "val_scores = [res_score.get(\"val_scores\") for res_score in n_est_results]\n",
    "val_accs = [score.get(\"accuracy\").get(\"mean\") for score in val_scores]\n",
    "\n",
    "# Extract training accuracies\n",
    "train_scores = [res_score.get(\"train_scores\") for res_score in n_est_results]\n",
    "train_accs = [score.get(\"accuracy\").get(\"mean\") for score in train_scores]\n",
    "\n",
    "# Create plot\n",
    "fig, ax = plt.subplots()\n",
    "x = iterations\n",
    "\n",
    "ax.plot(x, val_accs, label=\"Validation\")\n",
    "ax.plot(x,train_accs, label=\"Training\")\n",
    "\n",
    "plt.xticks(np.arange(50,550,50))\n",
    "\n",
    "ax.set_xlabel(\"Number of Estimators\")\n",
    "ax.set_ylabel(\"Mean CV Accuracy\")\n",
    "\n",
    "plt.legend()\n",
    "plt.tight_layout()\n",
    "plt.show()"
   ],
   "metadata": {
    "collapsed": false,
    "is_executing": true
   },
   "id": "e5ac96507e04a4fc"
  },
  {
   "cell_type": "code",
   "execution_count": null,
   "outputs": [],
   "source": [],
   "metadata": {
    "collapsed": false,
    "is_executing": true
   },
   "id": "1a94f40bb56c2df5"
  }
 ],
 "metadata": {
  "kernelspec": {
   "display_name": "Python 3",
   "language": "python",
   "name": "python3"
  },
  "language_info": {
   "codemirror_mode": {
    "name": "ipython",
    "version": 2
   },
   "file_extension": ".py",
   "mimetype": "text/x-python",
   "name": "python",
   "nbconvert_exporter": "python",
   "pygments_lexer": "ipython2",
   "version": "2.7.6"
  }
 },
 "nbformat": 4,
 "nbformat_minor": 5
}
