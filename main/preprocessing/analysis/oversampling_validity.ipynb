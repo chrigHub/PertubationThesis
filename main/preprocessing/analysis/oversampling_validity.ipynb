{
 "cells": [
  {
   "cell_type": "code",
   "execution_count": 14,
   "id": "initial_id",
   "metadata": {
    "collapsed": true,
    "ExecuteTime": {
     "end_time": "2024-06-16T17:02:34.215426100Z",
     "start_time": "2024-06-16T17:02:34.163455600Z"
    }
   },
   "outputs": [],
   "source": [
    "import pandas as pd\n",
    "import numpy as np\n",
    "import matplotlib.pyplot as plt\n",
    "import os\n",
    "from main.utils import data_manage_utils\n",
    "\n",
    "# Variables\n",
    "ROOT_PATH = os.path.abspath(\"../../../\")\n",
    "INPUT_FOLDER = os.path.join(ROOT_PATH, \"data/preprocessing/processed_files\")"
   ]
  },
  {
   "cell_type": "code",
   "execution_count": 15,
   "outputs": [],
   "source": [
    "X_train, y_train, X_test, y_test = data_manage_utils.load_processed_data_by_folder(os.path.join(INPUT_FOLDER, \"CCLASS\"))\n",
    "\n",
    "X_train = X_train.to_numpy()\n",
    "X_test = X_test.to_numpy()\n",
    "y_train = y_train.to_numpy().ravel()\n",
    "y_test = y_test.to_numpy().ravel()"
   ],
   "metadata": {
    "collapsed": false,
    "ExecuteTime": {
     "end_time": "2024-06-16T17:02:34.249407400Z",
     "start_time": "2024-06-16T17:02:34.173450Z"
    }
   },
   "id": "1a02ae7c8f226811"
  },
  {
   "cell_type": "code",
   "execution_count": 16,
   "outputs": [
    {
     "name": "stdout",
     "output_type": "stream",
     "text": [
      "Starting cross_validation at: 2024_06_16 19:02\n",
      "At step 1/5 splits.\n",
      "At step 2/5 splits.\n",
      "At step 3/5 splits.\n",
      "At step 4/5 splits.\n",
      "At step 5/5 splits.\n",
      "Ending cross_validation fit at: 2024_06_16 19:03\n",
      "Time elapsed: 0:01:02.198105\n",
      "Starting cross_validation at: 2024_06_16 19:03\n",
      "At step 1/5 splits.\n",
      "At step 2/5 splits.\n",
      "At step 3/5 splits.\n",
      "At step 4/5 splits.\n",
      "At step 5/5 splits.\n",
      "Ending cross_validation fit at: 2024_06_16 19:05\n",
      "Time elapsed: 0:01:32.912571\n"
     ]
    }
   ],
   "source": [
    "from imblearn.over_sampling import ADASYN, SMOTE\n",
    "from sklearn.ensemble import AdaBoostClassifier\n",
    "from sklearn.ensemble import RandomForestClassifier\n",
    "from main.utils import train_utils\n",
    "\n",
    "# Loading Classifier \n",
    "clf_ada = AdaBoostClassifier(learning_rate=0.7, n_estimators=50, random_state=42) \n",
    "clf_rf = RandomForestClassifier(max_depth=8, n_estimators=50)\n",
    "\n",
    "rf_results = train_utils.custom_cross_validate(clf=clf_rf, X=X_train, y=y_train, scoring=[\"accuracy\", \"balanced_accuracy\"], return_train_scores=True)\n",
    "ada_results = train_utils.custom_cross_validate(clf=clf_ada, X=X_train, y=y_train, scoring=[\"accuracy\", \"balanced_accuracy\"], return_train_scores=True)"
   ],
   "metadata": {
    "collapsed": false,
    "ExecuteTime": {
     "end_time": "2024-06-16T17:05:09.387058200Z",
     "start_time": "2024-06-16T17:02:34.252406100Z"
    }
   },
   "id": "75267a2f9e0146bd"
  },
  {
   "cell_type": "code",
   "execution_count": 17,
   "outputs": [],
   "source": [
    "rf_results = train_utils.calc_mean_result_stats(rf_results)\n",
    "ada_results = train_utils.calc_mean_result_stats(ada_results)"
   ],
   "metadata": {
    "collapsed": false,
    "ExecuteTime": {
     "end_time": "2024-06-16T17:05:09.401043700Z",
     "start_time": "2024-06-16T17:05:09.387058200Z"
    }
   },
   "id": "ae0dca554f7db5e6"
  },
  {
   "cell_type": "code",
   "execution_count": 18,
   "outputs": [
    {
     "data": {
      "text/plain": "{'val_scores': {'accuracy': {'mean': 0.691585232026142,\n   'std': 0.001247945348004202},\n  'balanced_accuracy': {'mean': 0.5746683057872537,\n   'std': 0.0024703720905541585},\n  'fit_time': {'mean': 10.8446608, 'std': 0.6182307229073623},\n  'pred_time': {'mean': 0.30323100000000003, 'std': 0.019298462975066176}},\n 'train_scores': {'accuracy': {'mean': 0.6928988549442435,\n   'std': 0.0009079997523326963},\n  'balanced_accuracy': {'mean': 0.5762004324693368,\n   'std': 0.0018916392302055184},\n  'fit_time': {'mean': 10.8446608, 'std': 0.6182307229073623},\n  'pred_time': {'mean': 1.2105694, 'std': 0.05870291699259923}}}"
     },
     "execution_count": 18,
     "metadata": {},
     "output_type": "execute_result"
    }
   ],
   "source": [
    "rf_results"
   ],
   "metadata": {
    "collapsed": false,
    "ExecuteTime": {
     "end_time": "2024-06-16T17:05:09.446016200Z",
     "start_time": "2024-06-16T17:05:09.402042900Z"
    }
   },
   "id": "abcf0afeacca5fbc"
  },
  {
   "cell_type": "code",
   "execution_count": 19,
   "outputs": [
    {
     "data": {
      "text/plain": "{'val_scores': {'accuracy': {'mean': 0.7100386023606942,\n   'std': 0.0006545266577238215},\n  'balanced_accuracy': {'mean': 0.6422073366341452,\n   'std': 0.002291991933173149},\n  'fit_time': {'mean': 15.4189412, 'std': 0.32514665996832876},\n  'pred_time': {'mean': 0.6081154, 'std': 0.0436952716920264}},\n 'train_scores': {'accuracy': {'mean': 0.7099816117340085,\n   'std': 0.0005897574926957327},\n  'balanced_accuracy': {'mean': 0.6421361139979568,\n   'std': 0.0016831693762695487},\n  'fit_time': {'mean': 15.4189412, 'std': 0.32514665996832876},\n  'pred_time': {'mean': 2.4755874000000007, 'std': 0.04371992139334207}}}"
     },
     "execution_count": 19,
     "metadata": {},
     "output_type": "execute_result"
    }
   ],
   "source": [
    "ada_results"
   ],
   "metadata": {
    "collapsed": false,
    "ExecuteTime": {
     "end_time": "2024-06-16T17:05:09.465006100Z",
     "start_time": "2024-06-16T17:05:09.419032700Z"
    }
   },
   "id": "f2956b13c4aeef19"
  },
  {
   "cell_type": "code",
   "execution_count": 20,
   "outputs": [
    {
     "name": "stdout",
     "output_type": "stream",
     "text": [
      "Starting cross_validation at: 2024_06_16 19:05\n",
      "At step 1/5 splits.\n",
      "At step 2/5 splits.\n",
      "At step 3/5 splits.\n",
      "At step 4/5 splits.\n",
      "At step 5/5 splits.\n",
      "Ending cross_validation fit at: 2024_06_16 19:08\n",
      "Time elapsed: 0:03:05.446942\n",
      "Starting cross_validation at: 2024_06_16 19:08\n",
      "At step 1/5 splits.\n",
      "At step 2/5 splits.\n",
      "At step 3/5 splits.\n",
      "At step 4/5 splits.\n",
      "At step 5/5 splits.\n",
      "Ending cross_validation fit at: 2024_06_16 19:12\n",
      "Time elapsed: 0:04:20.047094\n"
     ]
    }
   ],
   "source": [
    "sampler = SMOTE(random_state=42)\n",
    "\n",
    "smote_rf_results = train_utils.custom_cross_validate(clf=clf_rf, X=X_train, y=y_train, scoring=[\"accuracy\", \"balanced_accuracy\"], return_train_scores=True, sampler=sampler)\n",
    "smote_ada_results = train_utils.custom_cross_validate(clf=clf_ada, X=X_train, y=y_train, scoring=[\"accuracy\", \"balanced_accuracy\"], return_train_scores=True, sampler=sampler)"
   ],
   "metadata": {
    "collapsed": false,
    "ExecuteTime": {
     "end_time": "2024-06-16T17:12:34.948620Z",
     "start_time": "2024-06-16T17:05:09.435023100Z"
    }
   },
   "id": "ef33ad1b3405b342"
  },
  {
   "cell_type": "code",
   "execution_count": 21,
   "outputs": [
    {
     "data": {
      "text/plain": "{'val_scores': {'accuracy': [0.6682433844341863,\n   0.6679204422408389,\n   0.6741133337132653,\n   0.6675785034478828,\n   0.6687879939209727],\n  'balanced_accuracy': [0.6944853693274583,\n   0.6954598904797548,\n   0.6985832792588615,\n   0.6948591659728754,\n   0.6948004513660093],\n  'fit_time': [35.147862, 36.002277, 34.950339, 35.907406, 36.009941],\n  'pred_time': [0.272864, 0.309822, 0.292848, 0.288822, 0.267847]},\n 'train_scores': {'accuracy': [0.6724543248338977,\n   0.6726822851118193,\n   0.6767570750796673,\n   0.6703551906080365,\n   0.6724416329477023],\n  'balanced_accuracy': [0.7008028603888662,\n   0.6999105874905073,\n   0.6996347478765174,\n   0.6976838226973011,\n   0.6978362734014842],\n  'fit_time': [35.147862, 36.002277, 34.950339, 35.907406, 36.009941],\n  'pred_time': [1.098416, 1.12596, 1.165921, 1.094938, 1.095931]}}"
     },
     "execution_count": 21,
     "metadata": {},
     "output_type": "execute_result"
    }
   ],
   "source": [
    "smote_rf_results"
   ],
   "metadata": {
    "collapsed": false,
    "ExecuteTime": {
     "end_time": "2024-06-16T17:12:34.994607300Z",
     "start_time": "2024-06-16T17:12:34.950620400Z"
    }
   },
   "id": "fdc6d59af4d0aed1"
  },
  {
   "cell_type": "code",
   "execution_count": 22,
   "outputs": [
    {
     "data": {
      "text/plain": "{'val_scores': {'accuracy': [0.664975969301495,\n   0.6626963773484547,\n   0.6645580441101043,\n   0.6641971087175396,\n   0.6639437689969605],\n  'balanced_accuracy': [0.6905271546616946,\n   0.6939032221837579,\n   0.6913735181881678,\n   0.6923163358864609,\n   0.6898037410432204],\n  'fit_time': [48.601297, 47.51642, 49.93588, 49.938499, 48.061678],\n  'pred_time': [0.576199, 0.623645, 0.586679, 0.59766, 0.574217]},\n 'train_scores': {'accuracy': [0.6661094304317473,\n   0.66214862060286,\n   0.6644757151066427,\n   0.6641195271723902,\n   0.6649522235519842],\n  'balanced_accuracy': [0.6944703593281784,\n   0.6939930778606432,\n   0.6899160162493218,\n   0.6919802167008792,\n   0.689030398369005],\n  'fit_time': [48.601297, 47.51642, 49.93588, 49.938499, 48.061678],\n  'pred_time': [2.463784, 2.480351, 2.568022, 2.541266, 2.573752]}}"
     },
     "execution_count": 22,
     "metadata": {},
     "output_type": "execute_result"
    }
   ],
   "source": [
    "smote_ada_results"
   ],
   "metadata": {
    "collapsed": false,
    "ExecuteTime": {
     "end_time": "2024-06-16T17:12:35.005589200Z",
     "start_time": "2024-06-16T17:12:34.966610800Z"
    }
   },
   "id": "625d7bebe496a726"
  },
  {
   "cell_type": "code",
   "execution_count": 23,
   "outputs": [],
   "source": [
    "smote_rf_results = train_utils.calc_mean_result_stats(smote_rf_results)\n",
    "smote_ada_results = train_utils.calc_mean_result_stats(smote_ada_results)"
   ],
   "metadata": {
    "collapsed": false,
    "ExecuteTime": {
     "end_time": "2024-06-16T17:12:35.006588800Z",
     "start_time": "2024-06-16T17:12:34.984603Z"
    }
   },
   "id": "6edd633e86bd2076"
  },
  {
   "cell_type": "code",
   "execution_count": 24,
   "outputs": [
    {
     "data": {
      "text/plain": "{'val_scores': {'accuracy': {'mean': 0.6693287315514291,\n   'std': 0.0024252575365809087},\n  'balanced_accuracy': {'mean': 0.6956376312809919,\n   'std': 0.0015061885577512596},\n  'fit_time': {'mean': 35.603564999999996, 'std': 0.45843243709100606},\n  'pred_time': {'mean': 0.28644060000000005, 'std': 0.014989741393366328}},\n 'train_scores': {'accuracy': {'mean': 0.6729381017162247,\n   'std': 0.002088154725520497},\n  'balanced_accuracy': {'mean': 0.6991736583709353,\n   'std': 0.0012180456613450704},\n  'fit_time': {'mean': 35.603564999999996, 'std': 0.45843243709100606},\n  'pred_time': {'mean': 1.1162332000000001, 'std': 0.027373730439236812}}}"
     },
     "execution_count": 24,
     "metadata": {},
     "output_type": "execute_result"
    }
   ],
   "source": [
    "smote_rf_results"
   ],
   "metadata": {
    "collapsed": false,
    "ExecuteTime": {
     "end_time": "2024-06-16T17:12:35.016596700Z",
     "start_time": "2024-06-16T17:12:35.000592100Z"
    }
   },
   "id": "608d46fb09d0cbe1"
  },
  {
   "cell_type": "code",
   "execution_count": 25,
   "outputs": [
    {
     "data": {
      "text/plain": "{'val_scores': {'accuracy': {'mean': 0.6640742536949109,\n   'std': 0.0007717262519959204},\n  'balanced_accuracy': {'mean': 0.6915847943926603,\n   'std': 0.0014314783161709969},\n  'fit_time': {'mean': 48.8107548, 'std': 0.981631793808534},\n  'pred_time': {'mean': 0.59168, 'std': 0.01803967491946571}},\n 'train_scores': {'accuracy': {'mean': 0.6643611033731249,\n   'std': 0.0012940359723521307},\n  'balanced_accuracy': {'mean': 0.6918780137016055,\n   'std': 0.0021523264056711807},\n  'fit_time': {'mean': 48.8107548, 'std': 0.981631793808534},\n  'pred_time': {'mean': 2.5254350000000003, 'std': 0.04523763582682005}}}"
     },
     "execution_count": 25,
     "metadata": {},
     "output_type": "execute_result"
    }
   ],
   "source": [
    "smote_ada_results"
   ],
   "metadata": {
    "collapsed": false,
    "ExecuteTime": {
     "end_time": "2024-06-16T17:12:35.072550Z",
     "start_time": "2024-06-16T17:12:35.014583900Z"
    }
   },
   "id": "5298c8aafe1e5a60"
  },
  {
   "cell_type": "code",
   "execution_count": 71,
   "outputs": [
    {
     "name": "stdout",
     "output_type": "stream",
     "text": [
      "Starting cross_validation at: 2024_06_16 20:17\n",
      "At step 1/5 splits.\n",
      "At step 2/5 splits.\n",
      "At step 3/5 splits.\n",
      "At step 4/5 splits.\n",
      "At step 5/5 splits.\n",
      "Ending cross_validation fit at: 2024_06_16 20:22\n",
      "Time elapsed: 0:04:42.560582\n",
      "Starting cross_validation at: 2024_06_16 20:22\n",
      "At step 1/5 splits.\n",
      "At step 2/5 splits.\n",
      "At step 3/5 splits.\n",
      "At step 4/5 splits.\n",
      "At step 5/5 splits.\n",
      "Ending cross_validation fit at: 2024_06_16 20:28\n",
      "Time elapsed: 0:06:19.997800\n"
     ]
    }
   ],
   "source": [
    "sampler = ADASYN(random_state=42)\n",
    "\n",
    "adasyn_rf_results = train_utils.custom_cross_validate(clf=clf_rf, X=X_train, y=y_train, scoring=[\"accuracy\", \"balanced_accuracy\"], return_train_scores=True, sampler=sampler)\n",
    "adasyn_ada_results = train_utils.custom_cross_validate(clf=clf_ada, X=X_train, y=y_train, scoring=[\"accuracy\", \"balanced_accuracy\"], return_train_scores=True, sampler=sampler)\n",
    "adasyn_rf_results = train_utils.calc_mean_result_stats(adasyn_rf_results)\n",
    "adasyn_ada_results = train_utils.calc_mean_result_stats(adasyn_ada_results)"
   ],
   "metadata": {
    "collapsed": false,
    "ExecuteTime": {
     "end_time": "2024-06-16T18:28:22.992019200Z",
     "start_time": "2024-06-16T18:17:20.398658300Z"
    }
   },
   "id": "b1d407afd7771c7d"
  },
  {
   "cell_type": "code",
   "execution_count": 72,
   "outputs": [
    {
     "data": {
      "text/plain": "{'val_scores': {'accuracy': {'mean': 0.6297092599300106,\n   'std': 0.0030993777091076614},\n  'balanced_accuracy': {'mean': 0.6905455195958031,\n   'std': 0.002491609172873152},\n  'fit_time': {'mean': 54.913331799999995, 'std': 2.462039628269812},\n  'pred_time': {'mean': 0.28325379999999994, 'std': 0.011556983990643933}},\n 'train_scores': {'accuracy': {'mean': 0.6340110743047583,\n   'std': 0.0040417038861625},\n  'balanced_accuracy': {'mean': 0.6950414457264871,\n   'std': 0.0030468157583265266},\n  'fit_time': {'mean': 54.913331799999995, 'std': 2.462039628269812},\n  'pred_time': {'mean': 1.2271718, 'std': 0.11573924996715673}}}"
     },
     "execution_count": 72,
     "metadata": {},
     "output_type": "execute_result"
    }
   ],
   "source": [
    "adasyn_rf_results"
   ],
   "metadata": {
    "collapsed": false,
    "ExecuteTime": {
     "end_time": "2024-06-16T18:28:23.038002200Z",
     "start_time": "2024-06-16T18:28:22.996018500Z"
    }
   },
   "id": "8d5e207ad1a85c87"
  },
  {
   "cell_type": "code",
   "execution_count": 73,
   "outputs": [
    {
     "data": {
      "text/plain": "{'val_scores': {'accuracy': {'mean': 0.6309782449093588,\n   'std': 0.006070014178435466},\n  'balanced_accuracy': {'mean': 0.6816171515844707,\n   'std': 0.003488224044187318},\n  'fit_time': {'mean': 72.6079218, 'std': 1.4290393893067335},\n  'pred_time': {'mean': 0.6388382, 'std': 0.012451300966565687}},\n 'train_scores': {'accuracy': {'mean': 0.6310105468353632,\n   'std': 0.00581694501089171},\n  'balanced_accuracy': {'mean': 0.6817034233144754,\n   'std': 0.0030293496558915986},\n  'fit_time': {'mean': 72.6079218, 'std': 1.4290393893067335},\n  'pred_time': {'mean': 2.6599428000000005, 'std': 0.08232140029761408}}}"
     },
     "execution_count": 73,
     "metadata": {},
     "output_type": "execute_result"
    }
   ],
   "source": [
    "adasyn_ada_results"
   ],
   "metadata": {
    "collapsed": false,
    "ExecuteTime": {
     "end_time": "2024-06-16T18:28:23.038992400Z",
     "start_time": "2024-06-16T18:28:23.010010700Z"
    }
   },
   "id": "eb12ff640acfdfed"
  },
  {
   "cell_type": "markdown",
   "source": [
    "Validation and Tran scores are nearly identical, therefore I only proceed with validation scores for the plots"
   ],
   "metadata": {
    "collapsed": false
   },
   "id": "5ee767446dc86f9"
  },
  {
   "cell_type": "code",
   "execution_count": 83,
   "outputs": [
    {
     "data": {
      "text/plain": "<Figure size 1000x400 with 1 Axes>",
      "image/png": "[encoded data removed]"
     },
     "metadata": {},
     "output_type": "display_data"
    }
   ],
   "source": [
    "fig, ax = plt.subplots(figsize=(10,4))\n",
    "\n",
    "result_list = [rf_results, ada_results, smote_rf_results, smote_ada_results, adasyn_rf_results, adasyn_ada_results]\n",
    "\n",
    "bar_width = 0.3\n",
    "step = 1.5\n",
    "p = 0.05\n",
    "x_pos = np.arange(0, len(result_list) * step, step=step)\n",
    "x_labels= [\"RF\", \"ADAB\", \"RF+SMOTE\", \"ADAB+SMOTE\", \"RF+ADASYN\", \"ADAB+ADASYN\"]\n",
    "\n",
    "acc_list = [x.get(\"val_scores\").get(\"accuracy\").get(\"mean\") for x in result_list]\n",
    "bal_acc_list = [x.get(\"val_scores\").get(\"balanced_accuracy\").get(\"mean\") for x in result_list]\n",
    "fit_time_list = [x.get(\"val_scores\").get(\"fit_time\").get(\"mean\") / 100 for x in result_list]\n",
    "\n",
    "ax.bar(x_pos - bar_width - p, acc_list, label=\"Accuracy Score\", width=bar_width)\n",
    "ax.bar(x_pos, bal_acc_list, label=\"Balanced Acc Score\", width=bar_width)\n",
    "ax.bar(x_pos + bar_width + p, fit_time_list, label=\"Fit Time\", width=bar_width)\n",
    "ax2 = ax.secondary_yaxis(\"right\")\n",
    "\n",
    "ax2.set_ylabel(\"Time(s)\")\n",
    "ax.set_ylabel(\"Score\")\n",
    "\n",
    "ax2.set_yticks(np.arange(0, 0.8, 0.1), [int(x) for x in np.arange(0, 0.8, 0.1)*100])\n",
    "ax.set_xticks(x_pos, x_labels)\n",
    "\n",
    "plt.title(\"Scores for Various Model-Sampler Combinations\")\n",
    "plt.legend(loc=\"lower right\")\n",
    "plt.grid(axis=\"y\", linewidth=0.25)\n",
    "plt.show()"
   ],
   "metadata": {
    "collapsed": false,
    "ExecuteTime": {
     "end_time": "2024-06-16T18:29:45.913021800Z",
     "start_time": "2024-06-16T18:29:45.674161800Z"
    }
   },
   "id": "834b9a8c2a9fb687"
  },
  {
   "cell_type": "code",
   "execution_count": null,
   "outputs": [],
   "source": [],
   "metadata": {
    "collapsed": false
   },
   "id": "d5dde38b2cbe2c80"
  }
 ],
 "metadata": {
  "kernelspec": {
   "display_name": "Python 3",
   "language": "python",
   "name": "python3"
  },
  "language_info": {
   "codemirror_mode": {
    "name": "ipython",
    "version": 2
   },
   "file_extension": ".py",
   "mimetype": "text/x-python",
   "name": "python",
   "nbconvert_exporter": "python",
   "pygments_lexer": "ipython2",
   "version": "2.7.6"
  }
 },
 "nbformat": 4,
 "nbformat_minor": 5
}
