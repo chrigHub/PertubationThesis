{
 "cells": [
  {
   "cell_type": "code",
   "execution_count": 58,
   "id": "initial_id",
   "metadata": {
    "collapsed": true,
    "ExecuteTime": {
     "end_time": "2024-04-10T12:01:09.146012300Z",
     "start_time": "2024-04-10T12:01:08.559012900Z"
    }
   },
   "outputs": [
    {
     "name": "stdout",
     "output_type": "stream",
     "text": [
      "Shape of X_train: (263204, 45)\n",
      "Shape of y_train: (263204,)\n",
      "Shape of X_test: (65801, 45)\n",
      "Shape of y_test: (65801,)\n"
     ]
    },
    {
     "data": {
      "text/plain": "         MEDIAN_CARR_DELAY(MINS)  MEDIAN_ORIGIN_DELAY(MINS)  DEP_DELAY(MINS)  \\\n5998106                    -11.0                      -11.0              107   \n9744846                    -11.0                      -11.0               -3   \n8656393                    -11.0                       -9.0               64   \n7404998                    -11.0                       -8.0               -2   \n8855927                    -11.0                       -5.0               15   \n...                          ...                        ...              ...   \n6033952                     -6.0                       -9.0               -3   \n7551519                    -11.0                      -15.0               -8   \n7375452                    -11.0                       -8.0               -4   \n7757994                     -6.0                       -8.0              180   \n7249134                    -11.0                       -9.0               -4   \n\n         CRS_ELAPSED_TIME(MINS)  DISTANCE(KM)  NR_PREV_ARR_FLIGHTS(1HR)  \\\n5998106                      89     548.78494                        74   \n9744846                     106     830.41944                        83   \n8656393                      98     653.39204                        53   \n7404998                     121     935.02654                        88   \n8855927                     132    1120.10064                        74   \n...                         ...           ...                       ...   \n6033952                     126     975.26004                        95   \n7551519                     142    1200.56764                        74   \n7375452                     122     935.02654                        58   \n7757994                      92     584.19042                        62   \n7249134                      89     653.39204                        52   \n\n         ARR_DAY_SIN  ARR_DAY_COS  ARR_MIN_OF_DAY_SIN  ARR_MIN_OF_DAY_COS  \\\n5998106    -0.433884    -0.900969           -0.985556            0.169350   \n9744846     0.433884    -0.900969            0.496217           -0.868199   \n8656393    -0.781831     0.623490           -0.548293           -0.836286   \n7404998    -0.433884    -0.900969           -0.719340            0.694658   \n8855927     0.433884    -0.900969           -0.845728            0.533615   \n...              ...          ...                 ...                 ...   \n6033952    -0.781831     0.623490            0.678801           -0.734323   \n7551519     0.000000     1.000000           -0.649448           -0.760406   \n7375452     0.433884    -0.900969           -0.999914           -0.013090   \n7757994    -0.781831     0.623490           -0.608761            0.793353   \n7249134     0.974928    -0.222521            0.220697           -0.975342   \n\n         ...  EVENT_IC  EVENT_RA  EVENT_SN  EVENT_TS  08L/26R  08R/26L  \\\n5998106  ...         0         0         0         0      0.0      0.0   \n9744846  ...         0         0         0         0      3.0      3.0   \n8656393  ...         0         3         0         2      0.0      3.0   \n7404998  ...         0         0         0         0      0.0      3.0   \n8855927  ...         0         0         2         0      3.0      0.0   \n...      ...       ...       ...       ...       ...      ...      ...   \n6033952  ...         0         0         0         0      0.0      0.0   \n7551519  ...         0         0         0         0      0.0      0.0   \n7375452  ...         2         2         2         2      0.0      0.0   \n7757994  ...         0         0         0         0      1.0      3.0   \n7249134  ...         0         0         0         0      1.0      3.0   \n\n         09L/27R  09R/27L  10/28  ARR_DELAY_MINS  \n5998106      3.0      0.0    3.0             109  \n9744846      0.0      3.0    3.0              -5  \n8656393      0.0      0.0    3.0              46  \n7404998      3.0      3.0    3.0             -19  \n8855927      3.0      0.0    3.0              59  \n...          ...      ...    ...             ...  \n6033952      3.0      0.0    0.0             -15  \n7551519      0.0      0.0    3.0             -33  \n7375452      3.0      0.0    0.0              -1  \n7757994      1.0      3.0    1.0             158  \n7249134      2.0      3.0    2.0               5  \n\n[263204 rows x 46 columns]",
      "text/html": "<div>\n<style scoped>\n    .dataframe tbody tr th:only-of-type {\n        vertical-align: middle;\n    }\n\n    .dataframe tbody tr th {\n        vertical-align: top;\n    }\n\n    .dataframe thead th {\n        text-align: right;\n    }\n</style>\n<table border=\"1\" class=\"dataframe\">\n  <thead>\n    <tr style=\"text-align: right;\">\n      <th></th>\n      <th>MEDIAN_CARR_DELAY(MINS)</th>\n      <th>MEDIAN_ORIGIN_DELAY(MINS)</th>\n      <th>DEP_DELAY(MINS)</th>\n      <th>CRS_ELAPSED_TIME(MINS)</th>\n      <th>DISTANCE(KM)</th>\n      <th>NR_PREV_ARR_FLIGHTS(1HR)</th>\n      <th>ARR_DAY_SIN</th>\n      <th>ARR_DAY_COS</th>\n      <th>ARR_MIN_OF_DAY_SIN</th>\n      <th>ARR_MIN_OF_DAY_COS</th>\n      <th>...</th>\n      <th>EVENT_IC</th>\n      <th>EVENT_RA</th>\n      <th>EVENT_SN</th>\n      <th>EVENT_TS</th>\n      <th>08L/26R</th>\n      <th>08R/26L</th>\n      <th>09L/27R</th>\n      <th>09R/27L</th>\n      <th>10/28</th>\n      <th>ARR_DELAY_MINS</th>\n    </tr>\n  </thead>\n  <tbody>\n    <tr>\n      <th>5998106</th>\n      <td>-11.0</td>\n      <td>-11.0</td>\n      <td>107</td>\n      <td>89</td>\n      <td>548.78494</td>\n      <td>74</td>\n      <td>-0.433884</td>\n      <td>-0.900969</td>\n      <td>-0.985556</td>\n      <td>0.169350</td>\n      <td>...</td>\n      <td>0</td>\n      <td>0</td>\n      <td>0</td>\n      <td>0</td>\n      <td>0.0</td>\n      <td>0.0</td>\n      <td>3.0</td>\n      <td>0.0</td>\n      <td>3.0</td>\n      <td>109</td>\n    </tr>\n    <tr>\n      <th>9744846</th>\n      <td>-11.0</td>\n      <td>-11.0</td>\n      <td>-3</td>\n      <td>106</td>\n      <td>830.41944</td>\n      <td>83</td>\n      <td>0.433884</td>\n      <td>-0.900969</td>\n      <td>0.496217</td>\n      <td>-0.868199</td>\n      <td>...</td>\n      <td>0</td>\n      <td>0</td>\n      <td>0</td>\n      <td>0</td>\n      <td>3.0</td>\n      <td>3.0</td>\n      <td>0.0</td>\n      <td>3.0</td>\n      <td>3.0</td>\n      <td>-5</td>\n    </tr>\n    <tr>\n      <th>8656393</th>\n      <td>-11.0</td>\n      <td>-9.0</td>\n      <td>64</td>\n      <td>98</td>\n      <td>653.39204</td>\n      <td>53</td>\n      <td>-0.781831</td>\n      <td>0.623490</td>\n      <td>-0.548293</td>\n      <td>-0.836286</td>\n      <td>...</td>\n      <td>0</td>\n      <td>3</td>\n      <td>0</td>\n      <td>2</td>\n      <td>0.0</td>\n      <td>3.0</td>\n      <td>0.0</td>\n      <td>0.0</td>\n      <td>3.0</td>\n      <td>46</td>\n    </tr>\n    <tr>\n      <th>7404998</th>\n      <td>-11.0</td>\n      <td>-8.0</td>\n      <td>-2</td>\n      <td>121</td>\n      <td>935.02654</td>\n      <td>88</td>\n      <td>-0.433884</td>\n      <td>-0.900969</td>\n      <td>-0.719340</td>\n      <td>0.694658</td>\n      <td>...</td>\n      <td>0</td>\n      <td>0</td>\n      <td>0</td>\n      <td>0</td>\n      <td>0.0</td>\n      <td>3.0</td>\n      <td>3.0</td>\n      <td>3.0</td>\n      <td>3.0</td>\n      <td>-19</td>\n    </tr>\n    <tr>\n      <th>8855927</th>\n      <td>-11.0</td>\n      <td>-5.0</td>\n      <td>15</td>\n      <td>132</td>\n      <td>1120.10064</td>\n      <td>74</td>\n      <td>0.433884</td>\n      <td>-0.900969</td>\n      <td>-0.845728</td>\n      <td>0.533615</td>\n      <td>...</td>\n      <td>0</td>\n      <td>0</td>\n      <td>2</td>\n      <td>0</td>\n      <td>3.0</td>\n      <td>0.0</td>\n      <td>3.0</td>\n      <td>0.0</td>\n      <td>3.0</td>\n      <td>59</td>\n    </tr>\n    <tr>\n      <th>...</th>\n      <td>...</td>\n      <td>...</td>\n      <td>...</td>\n      <td>...</td>\n      <td>...</td>\n      <td>...</td>\n      <td>...</td>\n      <td>...</td>\n      <td>...</td>\n      <td>...</td>\n      <td>...</td>\n      <td>...</td>\n      <td>...</td>\n      <td>...</td>\n      <td>...</td>\n      <td>...</td>\n      <td>...</td>\n      <td>...</td>\n      <td>...</td>\n      <td>...</td>\n      <td>...</td>\n    </tr>\n    <tr>\n      <th>6033952</th>\n      <td>-6.0</td>\n      <td>-9.0</td>\n      <td>-3</td>\n      <td>126</td>\n      <td>975.26004</td>\n      <td>95</td>\n      <td>-0.781831</td>\n      <td>0.623490</td>\n      <td>0.678801</td>\n      <td>-0.734323</td>\n      <td>...</td>\n      <td>0</td>\n      <td>0</td>\n      <td>0</td>\n      <td>0</td>\n      <td>0.0</td>\n      <td>0.0</td>\n      <td>3.0</td>\n      <td>0.0</td>\n      <td>0.0</td>\n      <td>-15</td>\n    </tr>\n    <tr>\n      <th>7551519</th>\n      <td>-11.0</td>\n      <td>-15.0</td>\n      <td>-8</td>\n      <td>142</td>\n      <td>1200.56764</td>\n      <td>74</td>\n      <td>0.000000</td>\n      <td>1.000000</td>\n      <td>-0.649448</td>\n      <td>-0.760406</td>\n      <td>...</td>\n      <td>0</td>\n      <td>0</td>\n      <td>0</td>\n      <td>0</td>\n      <td>0.0</td>\n      <td>0.0</td>\n      <td>0.0</td>\n      <td>0.0</td>\n      <td>3.0</td>\n      <td>-33</td>\n    </tr>\n    <tr>\n      <th>7375452</th>\n      <td>-11.0</td>\n      <td>-8.0</td>\n      <td>-4</td>\n      <td>122</td>\n      <td>935.02654</td>\n      <td>58</td>\n      <td>0.433884</td>\n      <td>-0.900969</td>\n      <td>-0.999914</td>\n      <td>-0.013090</td>\n      <td>...</td>\n      <td>2</td>\n      <td>2</td>\n      <td>2</td>\n      <td>2</td>\n      <td>0.0</td>\n      <td>0.0</td>\n      <td>3.0</td>\n      <td>0.0</td>\n      <td>0.0</td>\n      <td>-1</td>\n    </tr>\n    <tr>\n      <th>7757994</th>\n      <td>-6.0</td>\n      <td>-8.0</td>\n      <td>180</td>\n      <td>92</td>\n      <td>584.19042</td>\n      <td>62</td>\n      <td>-0.781831</td>\n      <td>0.623490</td>\n      <td>-0.608761</td>\n      <td>0.793353</td>\n      <td>...</td>\n      <td>0</td>\n      <td>0</td>\n      <td>0</td>\n      <td>0</td>\n      <td>1.0</td>\n      <td>3.0</td>\n      <td>1.0</td>\n      <td>3.0</td>\n      <td>1.0</td>\n      <td>158</td>\n    </tr>\n    <tr>\n      <th>7249134</th>\n      <td>-11.0</td>\n      <td>-9.0</td>\n      <td>-4</td>\n      <td>89</td>\n      <td>653.39204</td>\n      <td>52</td>\n      <td>0.974928</td>\n      <td>-0.222521</td>\n      <td>0.220697</td>\n      <td>-0.975342</td>\n      <td>...</td>\n      <td>0</td>\n      <td>0</td>\n      <td>0</td>\n      <td>0</td>\n      <td>1.0</td>\n      <td>3.0</td>\n      <td>2.0</td>\n      <td>3.0</td>\n      <td>2.0</td>\n      <td>5</td>\n    </tr>\n  </tbody>\n</table>\n<p>263204 rows × 46 columns</p>\n</div>"
     },
     "execution_count": 58,
     "metadata": {},
     "output_type": "execute_result"
    }
   ],
   "source": [
    "import math\n",
    "\n",
    "import pandas as pd\n",
    "import numpy as np\n",
    "import seaborn as sns\n",
    "import matplotlib.pyplot as plt\n",
    "import os\n",
    "\n",
    "from main.utils.data_manage_utils import load_processed_data_by_folder, print_shapes, encode_cyclical, decode_cyclical\n",
    "\n",
    "# Variables\n",
    "ROOT_PATH = os.path.abspath(\"../../../\")\n",
    "DATA_FOLDER = os.path.join(ROOT_PATH, \"data/preprocessing/base/reg\")\n",
    "\n",
    "X_train, y_train, X_test, y_test = load_processed_data_by_folder(DATA_FOLDER)\n",
    "print_shapes(X_train, y_train, X_test, y_test)\n",
    "\n",
    "train = X_train.copy()\n",
    "train[y_train.name] = y_train\n",
    "train"
   ]
  },
  {
   "cell_type": "code",
   "execution_count": 59,
   "id": "fed3bcdbf0b4caf7",
   "metadata": {
    "ExecuteTime": {
     "end_time": "2024-04-10T12:01:09.441012800Z",
     "start_time": "2024-04-10T12:01:09.151010200Z"
    }
   },
   "outputs": [
    {
     "name": "stdout",
     "output_type": "stream",
     "text": [
      "<class 'pandas.core.frame.DataFrame'>\n",
      "Int64Index: 263204 entries, 5998106 to 7249134\n",
      "Data columns (total 46 columns):\n",
      " #   Column                        Non-Null Count   Dtype  \n",
      "---  ------                        --------------   -----  \n",
      " 0   MEDIAN_CARR_DELAY(MINS)       263204 non-null  int32  \n",
      " 1   MEDIAN_ORIGIN_DELAY(MINS)     263204 non-null  int32  \n",
      " 2   DEP_DELAY(MINS)               263204 non-null  int32  \n",
      " 3   CRS_ELAPSED_TIME(MINS)        263204 non-null  int32  \n",
      " 4   DISTANCE(KM)                  263204 non-null  float64\n",
      " 5   NR_PREV_ARR_FLIGHTS(1HR)      263204 non-null  int64  \n",
      " 6   ARR_DAY_SIN                   263204 non-null  float64\n",
      " 7   ARR_DAY_COS                   263204 non-null  float64\n",
      " 8   ARR_MIN_OF_DAY_SIN            263204 non-null  float64\n",
      " 9   ARR_MIN_OF_DAY_COS            263204 non-null  float64\n",
      " 10  NR_ENGINES                    263204 non-null  int32  \n",
      " 11  APPROACH_SPEED(KMH)           263204 non-null  float64\n",
      " 12  WINGSPAN(M)                   263204 non-null  float64\n",
      " 13  LENGTH(M)                     263204 non-null  float64\n",
      " 14  TAIL_HEIGHT(M)                263204 non-null  float64\n",
      " 15  PARKING_AREA(SQM)             263204 non-null  float64\n",
      " 16  MTOW(KG)                      263204 non-null  float64\n",
      " 17  JET(YN)                       263204 non-null  uint8  \n",
      " 18  WINGLETS(YN)                  263204 non-null  uint8  \n",
      " 19  TEMP(C)                       263204 non-null  float64\n",
      " 20  DEWPOINT_TEMP(C)              263204 non-null  float64\n",
      " 21  FELT_TEMP(C)                  263204 non-null  float64\n",
      " 22  REL_HUMIDITY(PERCENT)         263204 non-null  float64\n",
      " 23  WIND_DRCT(DEG)                263204 non-null  float64\n",
      " 24  WIND_SPEED(KMH)               263204 non-null  float64\n",
      " 25  1HOUR_PRECIPITATION(INCH)     263204 non-null  float64\n",
      " 26  ALTIMETER(PA)                 263204 non-null  float64\n",
      " 27  SEA_LEVEL_PRESSURE(MILLIBAR)  263204 non-null  float64\n",
      " 28  VISIBILITY(MILES)             263204 non-null  int32  \n",
      " 29  EVENT_BR                      263204 non-null  int64  \n",
      " 30  EVENT_DZ                      263204 non-null  int64  \n",
      " 31  EVENT_FG                      263204 non-null  int64  \n",
      " 32  EVENT_FU                      263204 non-null  int64  \n",
      " 33  EVENT_GR                      263204 non-null  int64  \n",
      " 34  EVENT_GS                      263204 non-null  int64  \n",
      " 35  EVENT_HZ                      263204 non-null  int64  \n",
      " 36  EVENT_IC                      263204 non-null  int64  \n",
      " 37  EVENT_RA                      263204 non-null  int64  \n",
      " 38  EVENT_SN                      263204 non-null  int64  \n",
      " 39  EVENT_TS                      263204 non-null  int64  \n",
      " 40  08L/26R                       263204 non-null  int32  \n",
      " 41  08R/26L                       263204 non-null  int32  \n",
      " 42  09L/27R                       263204 non-null  int32  \n",
      " 43  09R/27L                       263204 non-null  int32  \n",
      " 44  10/28                         263204 non-null  int32  \n",
      " 45  ARR_DELAY_MINS                263204 non-null  int32  \n",
      "dtypes: float64(20), int32(12), int64(12), uint8(2)\n",
      "memory usage: 78.8 MB\n"
     ]
    }
   ],
   "source": [
    "int_cols = [\"MEDIAN_CARR_DELAY(MINS)\",\"MEDIAN_ORIGIN_DELAY(MINS)\",\"08L/26R\",\"08R/26L\",\"09L/27R\", \"09R/27L\", \"10/28\", \"VISIBILITY(MILES)\"]\n",
    "for col in train.columns:\n",
    "    if col in int_cols:\n",
    "        train[col] = train[col].astype(int)\n",
    "train.info()"
   ]
  },
  {
   "cell_type": "code",
   "execution_count": 60,
   "id": "b6278765607d18a7",
   "metadata": {
    "ExecuteTime": {
     "end_time": "2024-04-10T12:01:09.690018600Z",
     "start_time": "2024-04-10T12:01:09.446012300Z"
    }
   },
   "outputs": [
    {
     "data": {
      "text/plain": "Series([], Name: ARR_DAY, dtype: int32)"
     },
     "execution_count": 60,
     "metadata": {},
     "output_type": "execute_result"
    }
   ],
   "source": [
    "decoded = decode_cyclical(train, \"ARR_DAY_SIN\", \"ARR_DAY_COS\", 7)\n",
    "encoded = encode_cyclical(decoded,\"ARR_DAY\",7)\n",
    "decoded[train[\"ARR_DAY_COS\"] - encoded[\"ARR_DAY_COS\"] != 0][\"ARR_DAY\"]"
   ]
  },
  {
   "cell_type": "code",
   "execution_count": 61,
   "id": "539ed8a0aaab4676",
   "metadata": {
    "ExecuteTime": {
     "end_time": "2024-04-10T12:01:09.957014Z",
     "start_time": "2024-04-10T12:01:09.674011Z"
    }
   },
   "outputs": [
    {
     "data": {
      "text/plain": "         MEDIAN_CARR_DELAY(MINS)  MEDIAN_ORIGIN_DELAY(MINS)  DEP_DELAY(MINS)  \\\n5998106                      -11                        -11              107   \n9744846                      -11                        -11               -3   \n8656393                      -11                         -9               64   \n7404998                      -11                         -8               -2   \n8855927                      -11                         -5               15   \n...                          ...                        ...              ...   \n6033952                       -6                         -9               -3   \n7551519                      -11                        -15               -8   \n7375452                      -11                         -8               -4   \n7757994                       -6                         -8              180   \n7249134                      -11                         -9               -4   \n\n         CRS_ELAPSED_TIME(MINS)  DISTANCE(KM)  NR_PREV_ARR_FLIGHTS(1HR)  \\\n5998106                      89     548.78494                        74   \n9744846                     106     830.41944                        83   \n8656393                      98     653.39204                        53   \n7404998                     121     935.02654                        88   \n8855927                     132    1120.10064                        74   \n...                         ...           ...                       ...   \n6033952                     126     975.26004                        95   \n7551519                     142    1200.56764                        74   \n7375452                     122     935.02654                        58   \n7757994                      92     584.19042                        62   \n7249134                      89     653.39204                        52   \n\n         ARR_DAY  ARR_MIN_OF_DAY  NR_ENGINES  APPROACH_SPEED(KMH)  ...  \\\n5998106        4            1119           2              255.576  ...   \n9744846        3             601           2              255.576  ...   \n8656393        6             853           2              255.576  ...   \n7404998        4            1256           2              261.132  ...   \n8855927        3            1209           2              257.428  ...   \n...          ...             ...         ...                  ...  ...   \n6033952        6             549           2              229.648  ...   \n7551519        0             882           2              257.428  ...   \n7375452        3            1077           2              264.836  ...   \n7757994        6            1290           2              259.280  ...   \n7249134        2             669           2              255.576  ...   \n\n         EVENT_IC  EVENT_RA  EVENT_SN  EVENT_TS  08L/26R  08R/26L  09L/27R  \\\n5998106         0         0         0         0        0        0        3   \n9744846         0         0         0         0        3        3        0   \n8656393         0         3         0         2        0        3        0   \n7404998         0         0         0         0        0        3        3   \n8855927         0         0         2         0        3        0        3   \n...           ...       ...       ...       ...      ...      ...      ...   \n6033952         0         0         0         0        0        0        3   \n7551519         0         0         0         0        0        0        0   \n7375452         2         2         2         2        0        0        3   \n7757994         0         0         0         0        1        3        1   \n7249134         0         0         0         0        1        3        2   \n\n         09R/27L  10/28  ARR_DELAY_MINS  \n5998106        0      3             109  \n9744846        3      3              -5  \n8656393        0      3              46  \n7404998        3      3             -19  \n8855927        0      3              59  \n...          ...    ...             ...  \n6033952        0      0             -15  \n7551519        0      3             -33  \n7375452        0      0              -1  \n7757994        3      1             158  \n7249134        3      2               5  \n\n[263204 rows x 44 columns]",
      "text/html": "<div>\n<style scoped>\n    .dataframe tbody tr th:only-of-type {\n        vertical-align: middle;\n    }\n\n    .dataframe tbody tr th {\n        vertical-align: top;\n    }\n\n    .dataframe thead th {\n        text-align: right;\n    }\n</style>\n<table border=\"1\" class=\"dataframe\">\n  <thead>\n    <tr style=\"text-align: right;\">\n      <th></th>\n      <th>MEDIAN_CARR_DELAY(MINS)</th>\n      <th>MEDIAN_ORIGIN_DELAY(MINS)</th>\n      <th>DEP_DELAY(MINS)</th>\n      <th>CRS_ELAPSED_TIME(MINS)</th>\n      <th>DISTANCE(KM)</th>\n      <th>NR_PREV_ARR_FLIGHTS(1HR)</th>\n      <th>ARR_DAY</th>\n      <th>ARR_MIN_OF_DAY</th>\n      <th>NR_ENGINES</th>\n      <th>APPROACH_SPEED(KMH)</th>\n      <th>...</th>\n      <th>EVENT_IC</th>\n      <th>EVENT_RA</th>\n      <th>EVENT_SN</th>\n      <th>EVENT_TS</th>\n      <th>08L/26R</th>\n      <th>08R/26L</th>\n      <th>09L/27R</th>\n      <th>09R/27L</th>\n      <th>10/28</th>\n      <th>ARR_DELAY_MINS</th>\n    </tr>\n  </thead>\n  <tbody>\n    <tr>\n      <th>5998106</th>\n      <td>-11</td>\n      <td>-11</td>\n      <td>107</td>\n      <td>89</td>\n      <td>548.78494</td>\n      <td>74</td>\n      <td>4</td>\n      <td>1119</td>\n      <td>2</td>\n      <td>255.576</td>\n      <td>...</td>\n      <td>0</td>\n      <td>0</td>\n      <td>0</td>\n      <td>0</td>\n      <td>0</td>\n      <td>0</td>\n      <td>3</td>\n      <td>0</td>\n      <td>3</td>\n      <td>109</td>\n    </tr>\n    <tr>\n      <th>9744846</th>\n      <td>-11</td>\n      <td>-11</td>\n      <td>-3</td>\n      <td>106</td>\n      <td>830.41944</td>\n      <td>83</td>\n      <td>3</td>\n      <td>601</td>\n      <td>2</td>\n      <td>255.576</td>\n      <td>...</td>\n      <td>0</td>\n      <td>0</td>\n      <td>0</td>\n      <td>0</td>\n      <td>3</td>\n      <td>3</td>\n      <td>0</td>\n      <td>3</td>\n      <td>3</td>\n      <td>-5</td>\n    </tr>\n    <tr>\n      <th>8656393</th>\n      <td>-11</td>\n      <td>-9</td>\n      <td>64</td>\n      <td>98</td>\n      <td>653.39204</td>\n      <td>53</td>\n      <td>6</td>\n      <td>853</td>\n      <td>2</td>\n      <td>255.576</td>\n      <td>...</td>\n      <td>0</td>\n      <td>3</td>\n      <td>0</td>\n      <td>2</td>\n      <td>0</td>\n      <td>3</td>\n      <td>0</td>\n      <td>0</td>\n      <td>3</td>\n      <td>46</td>\n    </tr>\n    <tr>\n      <th>7404998</th>\n      <td>-11</td>\n      <td>-8</td>\n      <td>-2</td>\n      <td>121</td>\n      <td>935.02654</td>\n      <td>88</td>\n      <td>4</td>\n      <td>1256</td>\n      <td>2</td>\n      <td>261.132</td>\n      <td>...</td>\n      <td>0</td>\n      <td>0</td>\n      <td>0</td>\n      <td>0</td>\n      <td>0</td>\n      <td>3</td>\n      <td>3</td>\n      <td>3</td>\n      <td>3</td>\n      <td>-19</td>\n    </tr>\n    <tr>\n      <th>8855927</th>\n      <td>-11</td>\n      <td>-5</td>\n      <td>15</td>\n      <td>132</td>\n      <td>1120.10064</td>\n      <td>74</td>\n      <td>3</td>\n      <td>1209</td>\n      <td>2</td>\n      <td>257.428</td>\n      <td>...</td>\n      <td>0</td>\n      <td>0</td>\n      <td>2</td>\n      <td>0</td>\n      <td>3</td>\n      <td>0</td>\n      <td>3</td>\n      <td>0</td>\n      <td>3</td>\n      <td>59</td>\n    </tr>\n    <tr>\n      <th>...</th>\n      <td>...</td>\n      <td>...</td>\n      <td>...</td>\n      <td>...</td>\n      <td>...</td>\n      <td>...</td>\n      <td>...</td>\n      <td>...</td>\n      <td>...</td>\n      <td>...</td>\n      <td>...</td>\n      <td>...</td>\n      <td>...</td>\n      <td>...</td>\n      <td>...</td>\n      <td>...</td>\n      <td>...</td>\n      <td>...</td>\n      <td>...</td>\n      <td>...</td>\n      <td>...</td>\n    </tr>\n    <tr>\n      <th>6033952</th>\n      <td>-6</td>\n      <td>-9</td>\n      <td>-3</td>\n      <td>126</td>\n      <td>975.26004</td>\n      <td>95</td>\n      <td>6</td>\n      <td>549</td>\n      <td>2</td>\n      <td>229.648</td>\n      <td>...</td>\n      <td>0</td>\n      <td>0</td>\n      <td>0</td>\n      <td>0</td>\n      <td>0</td>\n      <td>0</td>\n      <td>3</td>\n      <td>0</td>\n      <td>0</td>\n      <td>-15</td>\n    </tr>\n    <tr>\n      <th>7551519</th>\n      <td>-11</td>\n      <td>-15</td>\n      <td>-8</td>\n      <td>142</td>\n      <td>1200.56764</td>\n      <td>74</td>\n      <td>0</td>\n      <td>882</td>\n      <td>2</td>\n      <td>257.428</td>\n      <td>...</td>\n      <td>0</td>\n      <td>0</td>\n      <td>0</td>\n      <td>0</td>\n      <td>0</td>\n      <td>0</td>\n      <td>0</td>\n      <td>0</td>\n      <td>3</td>\n      <td>-33</td>\n    </tr>\n    <tr>\n      <th>7375452</th>\n      <td>-11</td>\n      <td>-8</td>\n      <td>-4</td>\n      <td>122</td>\n      <td>935.02654</td>\n      <td>58</td>\n      <td>3</td>\n      <td>1077</td>\n      <td>2</td>\n      <td>264.836</td>\n      <td>...</td>\n      <td>2</td>\n      <td>2</td>\n      <td>2</td>\n      <td>2</td>\n      <td>0</td>\n      <td>0</td>\n      <td>3</td>\n      <td>0</td>\n      <td>0</td>\n      <td>-1</td>\n    </tr>\n    <tr>\n      <th>7757994</th>\n      <td>-6</td>\n      <td>-8</td>\n      <td>180</td>\n      <td>92</td>\n      <td>584.19042</td>\n      <td>62</td>\n      <td>6</td>\n      <td>1290</td>\n      <td>2</td>\n      <td>259.280</td>\n      <td>...</td>\n      <td>0</td>\n      <td>0</td>\n      <td>0</td>\n      <td>0</td>\n      <td>1</td>\n      <td>3</td>\n      <td>1</td>\n      <td>3</td>\n      <td>1</td>\n      <td>158</td>\n    </tr>\n    <tr>\n      <th>7249134</th>\n      <td>-11</td>\n      <td>-9</td>\n      <td>-4</td>\n      <td>89</td>\n      <td>653.39204</td>\n      <td>52</td>\n      <td>2</td>\n      <td>669</td>\n      <td>2</td>\n      <td>255.576</td>\n      <td>...</td>\n      <td>0</td>\n      <td>0</td>\n      <td>0</td>\n      <td>0</td>\n      <td>1</td>\n      <td>3</td>\n      <td>2</td>\n      <td>3</td>\n      <td>2</td>\n      <td>5</td>\n    </tr>\n  </tbody>\n</table>\n<p>263204 rows × 44 columns</p>\n</div>"
     },
     "execution_count": 61,
     "metadata": {},
     "output_type": "execute_result"
    }
   ],
   "source": [
    "train = decode_cyclical(train, \"ARR_DAY_SIN\", \"ARR_DAY_COS\", 7)\n",
    "train = decode_cyclical(train, \"ARR_MIN_OF_DAY_SIN\", \"ARR_MIN_OF_DAY_COS\", 24*60)\n",
    "train"
   ]
  },
  {
   "cell_type": "markdown",
   "source": [
    "## Plotting Boxplots and Histograms of All Columns"
   ],
   "metadata": {
    "collapsed": false
   },
   "id": "5c31002650333b4d"
  },
  {
   "cell_type": "code",
   "execution_count": 62,
   "id": "7254859b1c881cb3",
   "metadata": {
    "ExecuteTime": {
     "end_time": "2024-04-10T12:01:14.436656Z",
     "start_time": "2024-04-10T12:01:09.991012800Z"
    }
   },
   "outputs": [
    {
     "data": {
      "text/plain": "<Figure size 600x300 with 1 Axes>",
      "image/png": "[encoded data removed]"
     },
     "metadata": {},
     "output_type": "display_data"
    },
    {
     "data": {
      "text/plain": "<Figure size 600x300 with 2 Axes>",
      "image/png": "[encoded data removed]"
     },
     "metadata": {},
     "output_type": "display_data"
    },
    {
     "name": "stderr",
     "output_type": "stream",
     "text": [
      "\n",
      "KeyboardInterrupt\n",
      "\n"
     ]
    }
   ],
   "source": [
    "def is_ordinal(series: pd.Series, threshold=5e-5):\n",
    "    unique_values = series.unique()\n",
    "    num_unique = len(unique_values)\n",
    "    \n",
    "    # Check if the number of unique values is relatively small compared to the total number of values\n",
    "    if num_unique / len(series) < threshold:\n",
    "        # Check if the unique values represent ordered categories\n",
    "        unique_sorted = sorted(unique_values)\n",
    "        if all(isinstance(val, np.integer)for val in unique_sorted):\n",
    "            return True\n",
    "    return False\n",
    "\n",
    "def plot_column_distribution(series: pd.Series, figsize = (6,3)):\n",
    "    assert isinstance(series, pd.Series), f\"Expected type pd.Series. Got {type(series)}\"\n",
    "    \n",
    "    if is_ordinal(series):\n",
    "        fig, ax = plt.subplots(1,1,figsize=figsize)\n",
    "        if series.value_counts().max() / series.value_counts().min() > 10:\n",
    "            sns.countplot(x=series, ax=ax, color=\"blue\", edgecolor=\"black\", linewidth=1, log=True)\n",
    "            plt.ylabel('Count (log)')\n",
    "        else:\n",
    "            sns.countplot(x=series, ax=ax, color=\"blue\", edgecolor=\"black\", linewidth=1, log=False)\n",
    "            plt.ylabel('Count')\n",
    "        plt.title('Countplot')\n",
    "        plt.xlabel('Categories')\n",
    "        \n",
    "    else:\n",
    "        fig, axes = plt.subplots(1, 2, figsize=figsize)\n",
    "        \n",
    "        # Plot boxplot\n",
    "        sns.boxplot(x=series, ax=axes[0])\n",
    "        axes[0].set_title('Boxplot')\n",
    "        \n",
    "        # Using Scott's rule to find good bin size.\n",
    "        bin_width = 3.5 * series.std() / (len(series) ** (1/3))\n",
    "        \n",
    "        # Plot histogram\n",
    "        if 0.1 <= bin_width <= 5:\n",
    "            bin_width = 1\n",
    "            sns.histplot(series, ax=axes[1], kde=False, bins=np.arange(series.min()-bin_width, series.max()+bin_width,bin_width))\n",
    "        elif bin_width < 0.1:\n",
    "            bin_width = round(bin_width,4)\n",
    "            sns.histplot(series, ax=axes[1], kde=False, bins=np.arange(series.min()-bin_width, series.max()+bin_width,bin_width))\n",
    "        elif bin_width > 5:\n",
    "            bin_width = round(bin_width,-1)\n",
    "            sns.histplot(series, ax=axes[1], kde=False, bins=np.arange(series.min()-bin_width, series.max()+bin_width,bin_width))\n",
    "        axes[1].set_title(f'Histogram. Bin width = {bin_width:.4f}')\n",
    "\n",
    "    fig.suptitle(f\"Distribution of '{series.name}'\", fontsize=12)\n",
    "    plt.tight_layout()\n",
    "    plt.show()\n",
    "\n",
    "\n",
    "for col in train.columns:\n",
    "    plot_column_distribution(train[col])"
   ]
  },
  {
   "cell_type": "code",
   "execution_count": null,
   "id": "9c640c41ea56cba1",
   "metadata": {
    "ExecuteTime": {
     "end_time": "2024-04-10T12:01:14.442654700Z",
     "start_time": "2024-04-10T12:01:14.439652600Z"
    }
   },
   "outputs": [],
   "source": [
    "def filter_data(df: pd.DataFrame, col_name: str, lower_bound: int, upper_bound: int):\n",
    "    print(f\"Used lower bound: {lower_bound}\\nUsed upper bound: {upper_bound}\")\n",
    "    _filtered_df = df[(df[col_name] >= lower_bound) & (df[col_name] <= upper_bound)].copy()\n",
    "    print(f\"Filtered columns: {df.shape[0] - _filtered_df.shape[0]}\")\n",
    "    print(f\"Leaving DataFrame with shape: {_filtered_df.shape}\")\n",
    "    return _filtered_df.copy()\n",
    "filtered = filter_data(train, \"DEP_DELAY(MINS)\", -60,60)"
   ]
  },
  {
   "cell_type": "markdown",
   "source": [
    "## Plotting Boxplots and Countplot of Filtered Data"
   ],
   "metadata": {
    "collapsed": false
   },
   "id": "b84a560a2d74cc1c"
  },
  {
   "cell_type": "code",
   "execution_count": null,
   "id": "bfc18e596e676dca",
   "metadata": {
    "ExecuteTime": {
     "end_time": "2024-04-10T12:01:14.448651900Z",
     "start_time": "2024-04-10T12:01:14.443654100Z"
    }
   },
   "outputs": [],
   "source": [
    "for col in filtered.columns:\n",
    "    plot_column_distribution(filtered[col])"
   ]
  },
  {
   "cell_type": "markdown",
   "source": [
    "## Checking for \"Fixable\" Distance in Dep Delay"
   ],
   "metadata": {
    "collapsed": false
   },
   "id": "226dc946288fe822"
  },
  {
   "cell_type": "code",
   "execution_count": null,
   "outputs": [],
   "source": [
    "# Create plot frame\n",
    "fig, axs = plt.subplots(2,1)\n",
    "fig.suptitle(\"Plots showing distribution for data: arr_delay - dep_delay\")\n",
    "\n",
    "# Create data\n",
    "travel_diff = train[\"ARR_DELAY_MINS\"] - train[\"DEP_DELAY(MINS)\"]\n",
    "travel_diff_df = pd.DataFrame({\"diff\" : travel_diff})\n",
    "\n",
    "# Create violin plot\n",
    "min_value = -75\n",
    "max_value = 100\n",
    "\n",
    "sns.violinplot(travel_diff_df, y = \"diff\", ax=axs[0])\n",
    "axs[0].set_title(\"Violin Plot of travel_diff\")\n",
    "axs[0].set_ylim(min_value, max_value)\n",
    "\n",
    "# Create count plot\n",
    "µ = travel_diff_df[\"diff\"].median()\n",
    "min_value = -(abs(µ) * 7)\n",
    "max_value = (abs(µ) * 7)\n",
    "steps = abs(µ)\n",
    "left_values = np.arange(min_value,µ,steps)\n",
    "right_values = np.arange(µ, max_value + 1, steps)\n",
    "values = np.concatenate((left_values, right_values))\n",
    "\n",
    "sns.histplot(travel_diff_df, x=\"diff\", ax=axs[1], bins=np.arange(travel_diff_df[\"diff\"].min(),travel_diff_df[\"diff\"].max()+1,1))\n",
    "axs[1].set_title('Count Plot of travel_diff')\n",
    "axs[1].set_xlim(min_value, max_value)\n",
    "axs[1].set_xticks(values)\n",
    "\n",
    "plt.show()"
   ],
   "metadata": {
    "collapsed": false,
    "ExecuteTime": {
     "start_time": "2024-04-10T12:01:14.447656800Z"
    }
   },
   "id": "6a9f2350a85370d4"
  },
  {
   "cell_type": "markdown",
   "source": [
    "## Correlation analysis with target"
   ],
   "metadata": {
    "collapsed": false
   },
   "id": "a7d0c97e4b704553"
  },
  {
   "cell_type": "code",
   "execution_count": null,
   "outputs": [],
   "source": [
    "data = train.copy()\n",
    "mask = [not is_ordinal(data[col]) for col in data.columns]\n",
    "cols = data.columns[mask]\n",
    "data"
   ],
   "metadata": {
    "collapsed": false,
    "ExecuteTime": {
     "end_time": "2024-04-10T12:01:14.451653200Z",
     "start_time": "2024-04-10T12:01:14.451653200Z"
    }
   },
   "id": "a5414e69049dd69e"
  },
  {
   "cell_type": "code",
   "execution_count": null,
   "outputs": [],
   "source": [
    "def plot_scatter_plots(df : pd.DataFrame, target_name: str, n_cols = 4, figsize=(20,24)):\n",
    "    cols = df.columns\n",
    "    n_rows = math.ceil(len(cols) / n_cols)\n",
    "    \n",
    "    fig, axs = plt.subplots(n_rows, n_cols, figsize=figsize)\n",
    "    \n",
    "    col_idx = 0\n",
    "    row_idx = 0\n",
    "    for col in cols:\n",
    "        ax = axs[row_idx][col_idx]\n",
    "        sns.scatterplot(df,x=target_name,y=col, ax=ax)\n",
    "        col_idx += 1\n",
    "        if col_idx%n_cols == 0:\n",
    "            col_idx = 0\n",
    "            row_idx += 1\n",
    "    plt.show()\n",
    "plot_scatter_plots(train[cols], \"ARR_DELAY_MINS\")"
   ],
   "metadata": {
    "collapsed": false,
    "ExecuteTime": {
     "end_time": "2024-04-10T12:01:14.498354200Z",
     "start_time": "2024-04-10T12:01:14.456652500Z"
    }
   },
   "id": "e3f989224e909444"
  },
  {
   "cell_type": "code",
   "execution_count": null,
   "outputs": [],
   "source": [
    "fltrd = filter_data(train, col_name=\"ARR_DELAY_MINS\", lower_bound=-60, upper_bound=60)\n",
    "plot_scatter_plots(fltrd[cols], \"ARR_DELAY_MINS\")"
   ],
   "metadata": {
    "collapsed": false,
    "ExecuteTime": {
     "start_time": "2024-04-10T12:01:14.461654800Z"
    }
   },
   "id": "2d076e47db1bb20a"
  },
  {
   "cell_type": "markdown",
   "source": [
    "## Checking for structure of ordinal inputs"
   ],
   "metadata": {
    "collapsed": false
   },
   "id": "80bbeb976c0b5246"
  },
  {
   "cell_type": "code",
   "execution_count": null,
   "outputs": [],
   "source": [
    "mask = [not col in cols for col in train.columns]\n",
    "ordinal_cols = list(train.columns[mask])\n",
    "ordinal_cols.append(train.columns[-1:][0])\n",
    "ordinal_df = train[ordinal_cols].copy()\n",
    "ordinal_df"
   ],
   "metadata": {
    "collapsed": false,
    "ExecuteTime": {
     "start_time": "2024-04-10T12:01:14.465652400Z"
    }
   },
   "id": "e0905787bd44e084"
  },
  {
   "cell_type": "code",
   "execution_count": null,
   "outputs": [],
   "source": [
    "def plot_series_bar(series: pd.Series, ax):\n",
    "    ax.set_title(f\"Barplot for {series.name}\")\n",
    "    \n",
    "\n",
    "ncols = 3\n",
    "nrows =int(math.ceil(len(ordinal_df.columns) / 3))\n",
    "target = ordinal_df.columns[-1:][0]\n",
    "\n",
    "fig, axs = plt.subplots(nrows=nrows, ncols=ncols, figsize = (20,20))\n",
    "row_idx = 0\n",
    "col_idx = 0\n",
    "for col in ordinal_df.columns:\n",
    "    if not col == target:\n",
    "        ax = axs[row_idx][col_idx]\n",
    "        sns.catplot(ordinal_df,x = col, y = target, ax=ax)\n",
    "    col_idx +=1 \n",
    "    if col_idx%ncols == 0:\n",
    "        col_idx = 0\n",
    "        row_idx +=1\n",
    "\n",
    "\n",
    "plt.show()"
   ],
   "metadata": {
    "collapsed": false,
    "ExecuteTime": {
     "start_time": "2024-04-10T12:01:14.469652400Z"
    }
   },
   "id": "d723b2ab7452e06d"
  },
  {
   "cell_type": "code",
   "execution_count": null,
   "outputs": [],
   "source": [
    "target"
   ],
   "metadata": {
    "collapsed": false,
    "ExecuteTime": {
     "start_time": "2024-04-10T12:01:14.473652Z"
    }
   },
   "id": "bbe3227148fe53d5"
  },
  {
   "cell_type": "code",
   "execution_count": null,
   "outputs": [],
   "source": [
    "axs[2][0]"
   ],
   "metadata": {
    "collapsed": false,
    "ExecuteTime": {
     "start_time": "2024-04-10T12:01:14.476652100Z"
    }
   },
   "id": "e57d96e7067eff56"
  },
  {
   "cell_type": "code",
   "execution_count": null,
   "outputs": [],
   "source": [],
   "metadata": {
    "collapsed": false,
    "ExecuteTime": {
     "start_time": "2024-04-10T12:01:14.478651Z"
    }
   },
   "id": "7e42bbc49f883215"
  }
 ],
 "metadata": {
  "kernelspec": {
   "display_name": "Python 3 (ipykernel)",
   "language": "python",
   "name": "python3"
  },
  "language_info": {
   "codemirror_mode": {
    "name": "ipython",
    "version": 3
   },
   "file_extension": ".py",
   "mimetype": "text/x-python",
   "name": "python",
   "nbconvert_exporter": "python",
   "pygments_lexer": "ipython3",
   "version": "3.9.13"
  }
 },
 "nbformat": 4,
 "nbformat_minor": 5
}
