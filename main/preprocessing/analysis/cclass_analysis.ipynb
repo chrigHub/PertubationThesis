{
 "cells": [
  {
   "cell_type": "code",
   "execution_count": 22,
   "id": "initial_id",
   "metadata": {
    "collapsed": true,
    "ExecuteTime": {
     "end_time": "2024-06-16T23:37:40.068456Z",
     "start_time": "2024-06-16T23:37:39.833589600Z"
    }
   },
   "outputs": [],
   "source": [
    "import pandas as pd\n",
    "import numpy as np\n",
    "import matplotlib.pyplot as plt\n",
    "import os\n",
    "from main.utils import data_manage_utils\n",
    "\n",
    "# Variables\n",
    "ROOT_PATH = os.path.abspath(\"../../../\")\n",
    "INPUT_FOLDER = os.path.join(ROOT_PATH, \"data/preprocessing/processed_files\")"
   ]
  },
  {
   "cell_type": "code",
   "execution_count": 23,
   "outputs": [],
   "source": [
    "X_train, y_train, X_test, y_test = data_manage_utils.load_processed_data_by_folder(os.path.join(INPUT_FOLDER, \"CCLASS\"))"
   ],
   "metadata": {
    "collapsed": false,
    "ExecuteTime": {
     "end_time": "2024-06-16T23:37:40.088443800Z",
     "start_time": "2024-06-16T23:37:39.833589600Z"
    }
   },
   "id": "ff6c27f98478b245"
  },
  {
   "cell_type": "code",
   "execution_count": 24,
   "outputs": [
    {
     "data": {
      "text/plain": "         DEP_DELAY(MINS)  CRS_ELAPSED_TIME(MINS)  NR_PREV_ARR_FLIGHTS(1HR)  \\\n5998106              107                      89                        74   \n9744846               -3                     106                        83   \n8656393               64                      98                        53   \n7404998               -2                     121                        88   \n8855927               15                     132                        74   \n...                  ...                     ...                       ...   \n6033952               -3                     126                        95   \n7551519               -8                     142                        74   \n7375452               -4                     122                        58   \n7757994              180                      92                        62   \n7249134               -4                      89                        52   \n\n         ARR_DAY_SIN  ARR_DAY_COS  ARR_MIN_OF_DAY_SIN  ARR_MIN_OF_DAY_COS  \\\n5998106    -0.433884    -0.900969           -0.985556            0.169350   \n9744846     0.433884    -0.900969            0.496217           -0.868199   \n8656393    -0.781831     0.623490           -0.548293           -0.836286   \n7404998    -0.433884    -0.900969           -0.719340            0.694658   \n8855927     0.433884    -0.900969           -0.845728            0.533615   \n...              ...          ...                 ...                 ...   \n6033952    -0.781831     0.623490            0.678801           -0.734323   \n7551519     0.000000     1.000000           -0.649448           -0.760406   \n7375452     0.433884    -0.900969           -0.999914           -0.013090   \n7757994    -0.781831     0.623490           -0.608761            0.793353   \n7249134     0.974928    -0.222521            0.220697           -0.975342   \n\n         APPROACH_SPEED(KMH)  TAIL_HEIGHT(M)  PARKING_AREA(SQM)  ...  \\\n5998106              255.576        9.000744        1525.176514  ...   \n9744846              255.576        9.000744        1525.176514  ...   \n8656393              255.576        9.000744        1525.176514  ...   \n7404998              261.132       12.624816        1445.094760  ...   \n8855927              257.428        9.043416        1075.157934  ...   \n...                      ...             ...                ...  ...   \n6033952              229.648        9.854184         823.857302  ...   \n7551519              257.428        9.043416        1075.157934  ...   \n7375452              264.836       13.639800        2071.070234  ...   \n7757994              259.280        6.324600         560.293571  ...   \n7249134              255.576        9.000744        1525.176514  ...   \n\n         EVENT_FG  EVENT_FU  EVENT_GR  EVENT_GS  EVENT_HZ  EVENT_IC  EVENT_RA  \\\n5998106         0         0         0         0         0         0         0   \n9744846         0         2         0         0         0         0         0   \n8656393         0         0         0         0         0         0         3   \n7404998         0         0         0         0         0         0         0   \n8855927         0         0         0         0         0         0         0   \n...           ...       ...       ...       ...       ...       ...       ...   \n6033952         0         0         0         0         0         0         0   \n7551519         0         0         0         0         0         0         0   \n7375452         0         0         0         0         0         2         2   \n7757994         0         0         0         0         0         0         0   \n7249134         0         0         0         0         0         0         0   \n\n         EVENT_SN  EVENT_TS  RUNWAY_ERROR(PERC)  \n5998106         0         0                 0.4  \n9744846         0         0                 0.8  \n8656393         0         2                 0.4  \n7404998         0         0                 0.8  \n8855927         2         0                 0.6  \n...           ...       ...                 ...  \n6033952         0         0                 0.2  \n7551519         0         0                 0.2  \n7375452         2         2                 0.2  \n7757994         0         0                 1.0  \n7249134         0         0                 1.0  \n\n[263204 rows x 31 columns]",
      "text/html": "<div>\n<style scoped>\n    .dataframe tbody tr th:only-of-type {\n        vertical-align: middle;\n    }\n\n    .dataframe tbody tr th {\n        vertical-align: top;\n    }\n\n    .dataframe thead th {\n        text-align: right;\n    }\n</style>\n<table border=\"1\" class=\"dataframe\">\n  <thead>\n    <tr style=\"text-align: right;\">\n      <th></th>\n      <th>DEP_DELAY(MINS)</th>\n      <th>CRS_ELAPSED_TIME(MINS)</th>\n      <th>NR_PREV_ARR_FLIGHTS(1HR)</th>\n      <th>ARR_DAY_SIN</th>\n      <th>ARR_DAY_COS</th>\n      <th>ARR_MIN_OF_DAY_SIN</th>\n      <th>ARR_MIN_OF_DAY_COS</th>\n      <th>APPROACH_SPEED(KMH)</th>\n      <th>TAIL_HEIGHT(M)</th>\n      <th>PARKING_AREA(SQM)</th>\n      <th>...</th>\n      <th>EVENT_FG</th>\n      <th>EVENT_FU</th>\n      <th>EVENT_GR</th>\n      <th>EVENT_GS</th>\n      <th>EVENT_HZ</th>\n      <th>EVENT_IC</th>\n      <th>EVENT_RA</th>\n      <th>EVENT_SN</th>\n      <th>EVENT_TS</th>\n      <th>RUNWAY_ERROR(PERC)</th>\n    </tr>\n  </thead>\n  <tbody>\n    <tr>\n      <th>5998106</th>\n      <td>107</td>\n      <td>89</td>\n      <td>74</td>\n      <td>-0.433884</td>\n      <td>-0.900969</td>\n      <td>-0.985556</td>\n      <td>0.169350</td>\n      <td>255.576</td>\n      <td>9.000744</td>\n      <td>1525.176514</td>\n      <td>...</td>\n      <td>0</td>\n      <td>0</td>\n      <td>0</td>\n      <td>0</td>\n      <td>0</td>\n      <td>0</td>\n      <td>0</td>\n      <td>0</td>\n      <td>0</td>\n      <td>0.4</td>\n    </tr>\n    <tr>\n      <th>9744846</th>\n      <td>-3</td>\n      <td>106</td>\n      <td>83</td>\n      <td>0.433884</td>\n      <td>-0.900969</td>\n      <td>0.496217</td>\n      <td>-0.868199</td>\n      <td>255.576</td>\n      <td>9.000744</td>\n      <td>1525.176514</td>\n      <td>...</td>\n      <td>0</td>\n      <td>2</td>\n      <td>0</td>\n      <td>0</td>\n      <td>0</td>\n      <td>0</td>\n      <td>0</td>\n      <td>0</td>\n      <td>0</td>\n      <td>0.8</td>\n    </tr>\n    <tr>\n      <th>8656393</th>\n      <td>64</td>\n      <td>98</td>\n      <td>53</td>\n      <td>-0.781831</td>\n      <td>0.623490</td>\n      <td>-0.548293</td>\n      <td>-0.836286</td>\n      <td>255.576</td>\n      <td>9.000744</td>\n      <td>1525.176514</td>\n      <td>...</td>\n      <td>0</td>\n      <td>0</td>\n      <td>0</td>\n      <td>0</td>\n      <td>0</td>\n      <td>0</td>\n      <td>3</td>\n      <td>0</td>\n      <td>2</td>\n      <td>0.4</td>\n    </tr>\n    <tr>\n      <th>7404998</th>\n      <td>-2</td>\n      <td>121</td>\n      <td>88</td>\n      <td>-0.433884</td>\n      <td>-0.900969</td>\n      <td>-0.719340</td>\n      <td>0.694658</td>\n      <td>261.132</td>\n      <td>12.624816</td>\n      <td>1445.094760</td>\n      <td>...</td>\n      <td>0</td>\n      <td>0</td>\n      <td>0</td>\n      <td>0</td>\n      <td>0</td>\n      <td>0</td>\n      <td>0</td>\n      <td>0</td>\n      <td>0</td>\n      <td>0.8</td>\n    </tr>\n    <tr>\n      <th>8855927</th>\n      <td>15</td>\n      <td>132</td>\n      <td>74</td>\n      <td>0.433884</td>\n      <td>-0.900969</td>\n      <td>-0.845728</td>\n      <td>0.533615</td>\n      <td>257.428</td>\n      <td>9.043416</td>\n      <td>1075.157934</td>\n      <td>...</td>\n      <td>0</td>\n      <td>0</td>\n      <td>0</td>\n      <td>0</td>\n      <td>0</td>\n      <td>0</td>\n      <td>0</td>\n      <td>2</td>\n      <td>0</td>\n      <td>0.6</td>\n    </tr>\n    <tr>\n      <th>...</th>\n      <td>...</td>\n      <td>...</td>\n      <td>...</td>\n      <td>...</td>\n      <td>...</td>\n      <td>...</td>\n      <td>...</td>\n      <td>...</td>\n      <td>...</td>\n      <td>...</td>\n      <td>...</td>\n      <td>...</td>\n      <td>...</td>\n      <td>...</td>\n      <td>...</td>\n      <td>...</td>\n      <td>...</td>\n      <td>...</td>\n      <td>...</td>\n      <td>...</td>\n      <td>...</td>\n    </tr>\n    <tr>\n      <th>6033952</th>\n      <td>-3</td>\n      <td>126</td>\n      <td>95</td>\n      <td>-0.781831</td>\n      <td>0.623490</td>\n      <td>0.678801</td>\n      <td>-0.734323</td>\n      <td>229.648</td>\n      <td>9.854184</td>\n      <td>823.857302</td>\n      <td>...</td>\n      <td>0</td>\n      <td>0</td>\n      <td>0</td>\n      <td>0</td>\n      <td>0</td>\n      <td>0</td>\n      <td>0</td>\n      <td>0</td>\n      <td>0</td>\n      <td>0.2</td>\n    </tr>\n    <tr>\n      <th>7551519</th>\n      <td>-8</td>\n      <td>142</td>\n      <td>74</td>\n      <td>0.000000</td>\n      <td>1.000000</td>\n      <td>-0.649448</td>\n      <td>-0.760406</td>\n      <td>257.428</td>\n      <td>9.043416</td>\n      <td>1075.157934</td>\n      <td>...</td>\n      <td>0</td>\n      <td>0</td>\n      <td>0</td>\n      <td>0</td>\n      <td>0</td>\n      <td>0</td>\n      <td>0</td>\n      <td>0</td>\n      <td>0</td>\n      <td>0.2</td>\n    </tr>\n    <tr>\n      <th>7375452</th>\n      <td>-4</td>\n      <td>122</td>\n      <td>58</td>\n      <td>0.433884</td>\n      <td>-0.900969</td>\n      <td>-0.999914</td>\n      <td>-0.013090</td>\n      <td>264.836</td>\n      <td>13.639800</td>\n      <td>2071.070234</td>\n      <td>...</td>\n      <td>0</td>\n      <td>0</td>\n      <td>0</td>\n      <td>0</td>\n      <td>0</td>\n      <td>2</td>\n      <td>2</td>\n      <td>2</td>\n      <td>2</td>\n      <td>0.2</td>\n    </tr>\n    <tr>\n      <th>7757994</th>\n      <td>180</td>\n      <td>92</td>\n      <td>62</td>\n      <td>-0.781831</td>\n      <td>0.623490</td>\n      <td>-0.608761</td>\n      <td>0.793353</td>\n      <td>259.280</td>\n      <td>6.324600</td>\n      <td>560.293571</td>\n      <td>...</td>\n      <td>0</td>\n      <td>0</td>\n      <td>0</td>\n      <td>0</td>\n      <td>0</td>\n      <td>0</td>\n      <td>0</td>\n      <td>0</td>\n      <td>0</td>\n      <td>1.0</td>\n    </tr>\n    <tr>\n      <th>7249134</th>\n      <td>-4</td>\n      <td>89</td>\n      <td>52</td>\n      <td>0.974928</td>\n      <td>-0.222521</td>\n      <td>0.220697</td>\n      <td>-0.975342</td>\n      <td>255.576</td>\n      <td>9.000744</td>\n      <td>1525.176514</td>\n      <td>...</td>\n      <td>0</td>\n      <td>0</td>\n      <td>0</td>\n      <td>0</td>\n      <td>0</td>\n      <td>0</td>\n      <td>0</td>\n      <td>0</td>\n      <td>0</td>\n      <td>1.0</td>\n    </tr>\n  </tbody>\n</table>\n<p>263204 rows × 31 columns</p>\n</div>"
     },
     "execution_count": 24,
     "metadata": {},
     "output_type": "execute_result"
    }
   ],
   "source": [
    "X_train"
   ],
   "metadata": {
    "collapsed": false,
    "ExecuteTime": {
     "end_time": "2024-06-16T23:37:44.073585100Z",
     "start_time": "2024-06-16T23:37:43.927668700Z"
    }
   },
   "id": "9d6d8ce13ad3c4d2"
  },
  {
   "cell_type": "code",
   "execution_count": 25,
   "outputs": [
    {
     "data": {
      "text/plain": "DEP_DELAY(MINS)                 1816.000000\nCRS_ELAPSED_TIME(MINS)           530.000000\nNR_PREV_ARR_FLIGHTS(1HR)         120.000000\nARR_DAY_SIN                        0.974928\nARR_DAY_COS                        1.000000\nARR_MIN_OF_DAY_SIN                 1.000000\nARR_MIN_OF_DAY_COS                 0.999990\nAPPROACH_SPEED(KMH)              290.764000\nTAIL_HEIGHT(M)                    19.583400\nPARKING_AREA(SQM)               4500.743218\nWINGLETS(YN)                       1.000000\nTEMP(C)                           34.388889\nDEWPOINT_TEMP(C)                  24.388889\nREL_HUMIDITY(PERCENT)            100.000000\nWIND_DRCT(DEG)                   360.000000\nWIND_SPEED(KMH)                   62.042000\n1HOUR_PRECIPITATION(INCH)          0.915000\nSEA_LEVEL_PRESSURE(MILLIBAR)    1041.200000\nVISIBILITY(MILES)                 10.000000\nEVENT_BR                           2.000000\nEVENT_DZ                           2.000000\nEVENT_FG                           2.000000\nEVENT_FU                           2.000000\nEVENT_GR                           2.000000\nEVENT_GS                           2.000000\nEVENT_HZ                           2.000000\nEVENT_IC                           2.000000\nEVENT_RA                           3.000000\nEVENT_SN                           2.000000\nEVENT_TS                           3.000000\nRUNWAY_ERROR(PERC)                 1.000000\ndtype: float64"
     },
     "execution_count": 25,
     "metadata": {},
     "output_type": "execute_result"
    }
   ],
   "source": [
    "X_train.max()"
   ],
   "metadata": {
    "collapsed": false,
    "ExecuteTime": {
     "end_time": "2024-06-16T23:37:48.393379700Z",
     "start_time": "2024-06-16T23:37:48.329416Z"
    }
   },
   "id": "9eb89965fa0af8e4"
  },
  {
   "cell_type": "code",
   "execution_count": 26,
   "outputs": [
    {
     "data": {
      "text/plain": "                                     Min          Max      Example         Std\nDEP_DELAY(MINS)              -188.000000  1816.000000   107.000000   48.635343\nCRS_ELAPSED_TIME(MINS)         45.000000   530.000000    89.000000   52.652031\nNR_PREV_ARR_FLIGHTS(1HR)        0.000000   120.000000    74.000000   18.308497\nARR_DAY_SIN                    -0.974928     0.974928    -0.433884    0.694463\nARR_DAY_COS                    -0.900969     1.000000    -0.900969    0.718669\nARR_MIN_OF_DAY_SIN             -1.000000     1.000000    -0.985556    0.680220\nARR_MIN_OF_DAY_COS             -1.000000     0.999990     0.169350    0.608988\nAPPROACH_SPEED(KMH)           211.128000   290.764000   255.576000    5.848236\nTAIL_HEIGHT(M)                  6.324600    19.583400     9.000744    2.397249\nPARKING_AREA(SQM)             527.870680  4500.743218  1525.176514  439.524944\nWINGLETS(YN)                    0.000000     1.000000     1.000000    0.492085\nTEMP(C)                        -9.388889    34.388889     6.722222    7.996390\nDEWPOINT_TEMP(C)              -15.000000    24.388889    -3.277778    8.655873\nREL_HUMIDITY(PERCENT)          12.700000   100.000000    48.880000   19.709530\nWIND_DRCT(DEG)                  0.000000   360.000000   290.000000  105.528031\nWIND_SPEED(KMH)                 0.000000    62.042000    26.854000    6.856026\n1HOUR_PRECIPITATION(INCH)       0.000000     0.915000     0.000000    0.026720\nSEA_LEVEL_PRESSURE(MILLIBAR)  987.100000  1041.200000  1018.800000    5.777320\nVISIBILITY(MILES)               0.130000    10.000000    10.000000    1.675977\nEVENT_BR                        0.000000     2.000000     0.000000    0.594713\nEVENT_DZ                        0.000000     2.000000     0.000000    0.131990\nEVENT_FG                        0.000000     2.000000     0.000000    0.239158\nEVENT_FU                        0.000000     2.000000     0.000000    0.168114\nEVENT_GR                        0.000000     2.000000     0.000000    0.009549\nEVENT_GS                        0.000000     2.000000     0.000000    0.008717\nEVENT_HZ                        0.000000     2.000000     0.000000    0.094984\nEVENT_IC                        0.000000     2.000000     0.000000    0.225971\nEVENT_RA                        0.000000     3.000000     0.000000    0.541498\nEVENT_SN                        0.000000     2.000000     0.000000    0.545621\nEVENT_TS                        0.000000     3.000000     0.000000    0.257989\nRUNWAY_ERROR(PERC)              0.000000     1.000000     0.400000    0.314035",
      "text/html": "<div>\n<style scoped>\n    .dataframe tbody tr th:only-of-type {\n        vertical-align: middle;\n    }\n\n    .dataframe tbody tr th {\n        vertical-align: top;\n    }\n\n    .dataframe thead th {\n        text-align: right;\n    }\n</style>\n<table border=\"1\" class=\"dataframe\">\n  <thead>\n    <tr style=\"text-align: right;\">\n      <th></th>\n      <th>Min</th>\n      <th>Max</th>\n      <th>Example</th>\n      <th>Std</th>\n    </tr>\n  </thead>\n  <tbody>\n    <tr>\n      <th>DEP_DELAY(MINS)</th>\n      <td>-188.000000</td>\n      <td>1816.000000</td>\n      <td>107.000000</td>\n      <td>48.635343</td>\n    </tr>\n    <tr>\n      <th>CRS_ELAPSED_TIME(MINS)</th>\n      <td>45.000000</td>\n      <td>530.000000</td>\n      <td>89.000000</td>\n      <td>52.652031</td>\n    </tr>\n    <tr>\n      <th>NR_PREV_ARR_FLIGHTS(1HR)</th>\n      <td>0.000000</td>\n      <td>120.000000</td>\n      <td>74.000000</td>\n      <td>18.308497</td>\n    </tr>\n    <tr>\n      <th>ARR_DAY_SIN</th>\n      <td>-0.974928</td>\n      <td>0.974928</td>\n      <td>-0.433884</td>\n      <td>0.694463</td>\n    </tr>\n    <tr>\n      <th>ARR_DAY_COS</th>\n      <td>-0.900969</td>\n      <td>1.000000</td>\n      <td>-0.900969</td>\n      <td>0.718669</td>\n    </tr>\n    <tr>\n      <th>ARR_MIN_OF_DAY_SIN</th>\n      <td>-1.000000</td>\n      <td>1.000000</td>\n      <td>-0.985556</td>\n      <td>0.680220</td>\n    </tr>\n    <tr>\n      <th>ARR_MIN_OF_DAY_COS</th>\n      <td>-1.000000</td>\n      <td>0.999990</td>\n      <td>0.169350</td>\n      <td>0.608988</td>\n    </tr>\n    <tr>\n      <th>APPROACH_SPEED(KMH)</th>\n      <td>211.128000</td>\n      <td>290.764000</td>\n      <td>255.576000</td>\n      <td>5.848236</td>\n    </tr>\n    <tr>\n      <th>TAIL_HEIGHT(M)</th>\n      <td>6.324600</td>\n      <td>19.583400</td>\n      <td>9.000744</td>\n      <td>2.397249</td>\n    </tr>\n    <tr>\n      <th>PARKING_AREA(SQM)</th>\n      <td>527.870680</td>\n      <td>4500.743218</td>\n      <td>1525.176514</td>\n      <td>439.524944</td>\n    </tr>\n    <tr>\n      <th>WINGLETS(YN)</th>\n      <td>0.000000</td>\n      <td>1.000000</td>\n      <td>1.000000</td>\n      <td>0.492085</td>\n    </tr>\n    <tr>\n      <th>TEMP(C)</th>\n      <td>-9.388889</td>\n      <td>34.388889</td>\n      <td>6.722222</td>\n      <td>7.996390</td>\n    </tr>\n    <tr>\n      <th>DEWPOINT_TEMP(C)</th>\n      <td>-15.000000</td>\n      <td>24.388889</td>\n      <td>-3.277778</td>\n      <td>8.655873</td>\n    </tr>\n    <tr>\n      <th>REL_HUMIDITY(PERCENT)</th>\n      <td>12.700000</td>\n      <td>100.000000</td>\n      <td>48.880000</td>\n      <td>19.709530</td>\n    </tr>\n    <tr>\n      <th>WIND_DRCT(DEG)</th>\n      <td>0.000000</td>\n      <td>360.000000</td>\n      <td>290.000000</td>\n      <td>105.528031</td>\n    </tr>\n    <tr>\n      <th>WIND_SPEED(KMH)</th>\n      <td>0.000000</td>\n      <td>62.042000</td>\n      <td>26.854000</td>\n      <td>6.856026</td>\n    </tr>\n    <tr>\n      <th>1HOUR_PRECIPITATION(INCH)</th>\n      <td>0.000000</td>\n      <td>0.915000</td>\n      <td>0.000000</td>\n      <td>0.026720</td>\n    </tr>\n    <tr>\n      <th>SEA_LEVEL_PRESSURE(MILLIBAR)</th>\n      <td>987.100000</td>\n      <td>1041.200000</td>\n      <td>1018.800000</td>\n      <td>5.777320</td>\n    </tr>\n    <tr>\n      <th>VISIBILITY(MILES)</th>\n      <td>0.130000</td>\n      <td>10.000000</td>\n      <td>10.000000</td>\n      <td>1.675977</td>\n    </tr>\n    <tr>\n      <th>EVENT_BR</th>\n      <td>0.000000</td>\n      <td>2.000000</td>\n      <td>0.000000</td>\n      <td>0.594713</td>\n    </tr>\n    <tr>\n      <th>EVENT_DZ</th>\n      <td>0.000000</td>\n      <td>2.000000</td>\n      <td>0.000000</td>\n      <td>0.131990</td>\n    </tr>\n    <tr>\n      <th>EVENT_FG</th>\n      <td>0.000000</td>\n      <td>2.000000</td>\n      <td>0.000000</td>\n      <td>0.239158</td>\n    </tr>\n    <tr>\n      <th>EVENT_FU</th>\n      <td>0.000000</td>\n      <td>2.000000</td>\n      <td>0.000000</td>\n      <td>0.168114</td>\n    </tr>\n    <tr>\n      <th>EVENT_GR</th>\n      <td>0.000000</td>\n      <td>2.000000</td>\n      <td>0.000000</td>\n      <td>0.009549</td>\n    </tr>\n    <tr>\n      <th>EVENT_GS</th>\n      <td>0.000000</td>\n      <td>2.000000</td>\n      <td>0.000000</td>\n      <td>0.008717</td>\n    </tr>\n    <tr>\n      <th>EVENT_HZ</th>\n      <td>0.000000</td>\n      <td>2.000000</td>\n      <td>0.000000</td>\n      <td>0.094984</td>\n    </tr>\n    <tr>\n      <th>EVENT_IC</th>\n      <td>0.000000</td>\n      <td>2.000000</td>\n      <td>0.000000</td>\n      <td>0.225971</td>\n    </tr>\n    <tr>\n      <th>EVENT_RA</th>\n      <td>0.000000</td>\n      <td>3.000000</td>\n      <td>0.000000</td>\n      <td>0.541498</td>\n    </tr>\n    <tr>\n      <th>EVENT_SN</th>\n      <td>0.000000</td>\n      <td>2.000000</td>\n      <td>0.000000</td>\n      <td>0.545621</td>\n    </tr>\n    <tr>\n      <th>EVENT_TS</th>\n      <td>0.000000</td>\n      <td>3.000000</td>\n      <td>0.000000</td>\n      <td>0.257989</td>\n    </tr>\n    <tr>\n      <th>RUNWAY_ERROR(PERC)</th>\n      <td>0.000000</td>\n      <td>1.000000</td>\n      <td>0.400000</td>\n      <td>0.314035</td>\n    </tr>\n  </tbody>\n</table>\n</div>"
     },
     "execution_count": 26,
     "metadata": {},
     "output_type": "execute_result"
    }
   ],
   "source": [
    "pd.DataFrame([X_train.min(), X_train.max(), X_train.iloc[0], X_train.std()], [\"Min\", \"Max\", \"Example\",\"Std\"]).T"
   ],
   "metadata": {
    "collapsed": false,
    "ExecuteTime": {
     "end_time": "2024-06-16T23:37:48.870105200Z",
     "start_time": "2024-06-16T23:37:48.675221400Z"
    }
   },
   "id": "d3ac8d27e8341c30"
  },
  {
   "cell_type": "code",
   "execution_count": 27,
   "outputs": [
    {
     "data": {
      "text/plain": "DEP_DELAY(MINS)                  107.000000\nCRS_ELAPSED_TIME(MINS)            89.000000\nNR_PREV_ARR_FLIGHTS(1HR)          74.000000\nARR_DAY_SIN                       -0.433884\nARR_DAY_COS                       -0.900969\nARR_MIN_OF_DAY_SIN                -0.985556\nARR_MIN_OF_DAY_COS                 0.169350\nAPPROACH_SPEED(KMH)              255.576000\nTAIL_HEIGHT(M)                     9.000744\nPARKING_AREA(SQM)               1525.176514\nWINGLETS(YN)                       1.000000\nTEMP(C)                            6.722222\nDEWPOINT_TEMP(C)                  -3.277778\nREL_HUMIDITY(PERCENT)             48.880000\nWIND_DRCT(DEG)                   290.000000\nWIND_SPEED(KMH)                   26.854000\n1HOUR_PRECIPITATION(INCH)          0.000000\nSEA_LEVEL_PRESSURE(MILLIBAR)    1018.800000\nVISIBILITY(MILES)                 10.000000\nEVENT_BR                           0.000000\nEVENT_DZ                           0.000000\nEVENT_FG                           0.000000\nEVENT_FU                           0.000000\nEVENT_GR                           0.000000\nEVENT_GS                           0.000000\nEVENT_HZ                           0.000000\nEVENT_IC                           0.000000\nEVENT_RA                           0.000000\nEVENT_SN                           0.000000\nEVENT_TS                           0.000000\nRUNWAY_ERROR(PERC)                 0.400000\nName: 5998106, dtype: float64"
     },
     "execution_count": 27,
     "metadata": {},
     "output_type": "execute_result"
    }
   ],
   "source": [
    "X_train.iloc[0]"
   ],
   "metadata": {
    "collapsed": false,
    "ExecuteTime": {
     "end_time": "2024-06-16T23:37:53.900469Z",
     "start_time": "2024-06-16T23:37:53.392935100Z"
    }
   },
   "id": "2b18b8ea082a4b95"
  },
  {
   "cell_type": "code",
   "execution_count": null,
   "outputs": [],
   "source": [],
   "metadata": {
    "collapsed": false
   },
   "id": "47cd8671318f8eeb"
  }
 ],
 "metadata": {
  "kernelspec": {
   "display_name": "Python 3",
   "language": "python",
   "name": "python3"
  },
  "language_info": {
   "codemirror_mode": {
    "name": "ipython",
    "version": 2
   },
   "file_extension": ".py",
   "mimetype": "text/x-python",
   "name": "python",
   "nbconvert_exporter": "python",
   "pygments_lexer": "ipython2",
   "version": "2.7.6"
  }
 },
 "nbformat": 4,
 "nbformat_minor": 5
}
