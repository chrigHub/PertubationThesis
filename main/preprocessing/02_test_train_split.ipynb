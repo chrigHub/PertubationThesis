{
 "cells": [
  {
   "cell_type": "code",
   "execution_count": 7,
   "id": "initial_id",
   "metadata": {
    "collapsed": true,
    "ExecuteTime": {
     "end_time": "2024-03-22T23:58:37.931493300Z",
     "start_time": "2024-03-22T23:58:37.843560Z"
    }
   },
   "outputs": [],
   "source": [
    "import pandas as pd\n",
    "import numpy as np\n",
    "import os\n",
    "from main.utils.data_manage_utils import save_processed_data_to_folder\n",
    "from sklearn.model_selection import train_test_split\n",
    "\n",
    "# Variables\n",
    "ROOT_PATH = os.path.abspath(\"../../\")\n",
    "DATA_FOLDER = os.path.join(ROOT_PATH, \"data/preprocessing/base\")"
   ]
  },
  {
   "cell_type": "code",
   "execution_count": 8,
   "outputs": [
    {
     "data": {
      "text/plain": "          MEDIAN_CARR_DELAY(MINS)  MEDIAN_ORIGIN_DELAY(MINS)  DEP_DELAY(MINS)  \\\n5626534                     -11.0                       -8.0               -2   \n5627321                      -8.0                       -8.0               -4   \n5622325                      -8.0                       -7.0              302   \n5626430                     -11.0                       -9.0               -2   \n5625623                     -11.0                       -9.0               -4   \n...                           ...                        ...              ...   \n11291377                    -11.0                       -9.0              -11   \n11292052                    -11.0                       -6.0               -2   \n11290999                    -11.0                       -5.0               -1   \n11290527                    -11.0                      -11.0               -4   \n11290612                    -11.0                      -14.0               -5   \n\n          CRS_ELAPSED_TIME(MINS)  DISTANCE(KM)  NR_PREV_ARR_FLIGHTS(1HR)  \\\n5626534                      223    2558.85060                         4   \n5627321                       88     650.17336                         5   \n5622325                       57     170.59004                         7   \n5626430                       98     719.37498                         6   \n5625623                       76     363.71084                         7   \n...                          ...           ...                       ...   \n11291377                     220    2811.51698                         2   \n11292052                     264    3366.73928                         2   \n11290999                     246    3133.38498                         3   \n11290527                     276    3442.37826                         4   \n11290612                     520    7245.24868                         5   \n\n          ARR_DAY_SIN  ARR_DAY_COS  ARR_MIN_OF_DAY_SIN  ARR_MIN_OF_DAY_COS  \\\n5626534     -0.781831      0.62349            0.986286           -0.165048   \n5627321     -0.781831      0.62349            0.982450           -0.186524   \n5622325     -0.781831      0.62349            0.979925           -0.199368   \n5626430     -0.781831      0.62349            0.956305           -0.292372   \n5625623     -0.781831      0.62349            0.945519           -0.325568   \n...               ...          ...                 ...                 ...   \n11291377     0.000000      1.00000            0.985556           -0.169350   \n11292052     0.000000      1.00000            0.977231           -0.212178   \n11290999     0.000000      1.00000            0.960050           -0.279829   \n11290527     0.000000      1.00000            0.958820           -0.284015   \n11290612     0.000000      1.00000            0.915311           -0.402747   \n\n          ...  EVENT_RA  EVENT_SN  EVENT_TS  08L/26R  08R/26L  09L/27R  \\\n5626534   ...         1         0         0      1.0      1.0      1.0   \n5627321   ...         1         0         0      1.0      1.0      1.0   \n5622325   ...         1         0         0      1.0      1.0      1.0   \n5626430   ...         1         0         0      1.0      1.0      1.0   \n5625623   ...         1         0         0      1.0      1.0      1.0   \n...       ...       ...       ...       ...      ...      ...      ...   \n11291377  ...         0         0         0      0.0      0.0      0.0   \n11292052  ...         0         0         0      0.0      0.0      0.0   \n11290999  ...         0         0         0      0.0      0.0      0.0   \n11290527  ...         0         0         0      0.0      0.0      0.0   \n11290612  ...         0         0         0      0.0      0.0      0.0   \n\n          09R/27L  10/28  ARR_DELAY_MINS  ARR_DELAY_CATS  \n5626534       1.0    1.0              -7               1  \n5627321       1.0    1.0             -11               1  \n5622325       1.0    1.0             333               2  \n5626430       1.0    1.0              11               1  \n5625623       1.0    1.0              -8               1  \n...           ...    ...             ...             ...  \n11291377      0.0    0.0             -20               0  \n11292052      0.0    0.0             -26               0  \n11290999      0.0    0.0               0               1  \n11290527      0.0    0.0             -33               0  \n11290612      0.0    0.0             -39               0  \n\n[329005 rows x 47 columns]",
      "text/html": "<div>\n<style scoped>\n    .dataframe tbody tr th:only-of-type {\n        vertical-align: middle;\n    }\n\n    .dataframe tbody tr th {\n        vertical-align: top;\n    }\n\n    .dataframe thead th {\n        text-align: right;\n    }\n</style>\n<table border=\"1\" class=\"dataframe\">\n  <thead>\n    <tr style=\"text-align: right;\">\n      <th></th>\n      <th>MEDIAN_CARR_DELAY(MINS)</th>\n      <th>MEDIAN_ORIGIN_DELAY(MINS)</th>\n      <th>DEP_DELAY(MINS)</th>\n      <th>CRS_ELAPSED_TIME(MINS)</th>\n      <th>DISTANCE(KM)</th>\n      <th>NR_PREV_ARR_FLIGHTS(1HR)</th>\n      <th>ARR_DAY_SIN</th>\n      <th>ARR_DAY_COS</th>\n      <th>ARR_MIN_OF_DAY_SIN</th>\n      <th>ARR_MIN_OF_DAY_COS</th>\n      <th>...</th>\n      <th>EVENT_RA</th>\n      <th>EVENT_SN</th>\n      <th>EVENT_TS</th>\n      <th>08L/26R</th>\n      <th>08R/26L</th>\n      <th>09L/27R</th>\n      <th>09R/27L</th>\n      <th>10/28</th>\n      <th>ARR_DELAY_MINS</th>\n      <th>ARR_DELAY_CATS</th>\n    </tr>\n  </thead>\n  <tbody>\n    <tr>\n      <th>5626534</th>\n      <td>-11.0</td>\n      <td>-8.0</td>\n      <td>-2</td>\n      <td>223</td>\n      <td>2558.85060</td>\n      <td>4</td>\n      <td>-0.781831</td>\n      <td>0.62349</td>\n      <td>0.986286</td>\n      <td>-0.165048</td>\n      <td>...</td>\n      <td>1</td>\n      <td>0</td>\n      <td>0</td>\n      <td>1.0</td>\n      <td>1.0</td>\n      <td>1.0</td>\n      <td>1.0</td>\n      <td>1.0</td>\n      <td>-7</td>\n      <td>1</td>\n    </tr>\n    <tr>\n      <th>5627321</th>\n      <td>-8.0</td>\n      <td>-8.0</td>\n      <td>-4</td>\n      <td>88</td>\n      <td>650.17336</td>\n      <td>5</td>\n      <td>-0.781831</td>\n      <td>0.62349</td>\n      <td>0.982450</td>\n      <td>-0.186524</td>\n      <td>...</td>\n      <td>1</td>\n      <td>0</td>\n      <td>0</td>\n      <td>1.0</td>\n      <td>1.0</td>\n      <td>1.0</td>\n      <td>1.0</td>\n      <td>1.0</td>\n      <td>-11</td>\n      <td>1</td>\n    </tr>\n    <tr>\n      <th>5622325</th>\n      <td>-8.0</td>\n      <td>-7.0</td>\n      <td>302</td>\n      <td>57</td>\n      <td>170.59004</td>\n      <td>7</td>\n      <td>-0.781831</td>\n      <td>0.62349</td>\n      <td>0.979925</td>\n      <td>-0.199368</td>\n      <td>...</td>\n      <td>1</td>\n      <td>0</td>\n      <td>0</td>\n      <td>1.0</td>\n      <td>1.0</td>\n      <td>1.0</td>\n      <td>1.0</td>\n      <td>1.0</td>\n      <td>333</td>\n      <td>2</td>\n    </tr>\n    <tr>\n      <th>5626430</th>\n      <td>-11.0</td>\n      <td>-9.0</td>\n      <td>-2</td>\n      <td>98</td>\n      <td>719.37498</td>\n      <td>6</td>\n      <td>-0.781831</td>\n      <td>0.62349</td>\n      <td>0.956305</td>\n      <td>-0.292372</td>\n      <td>...</td>\n      <td>1</td>\n      <td>0</td>\n      <td>0</td>\n      <td>1.0</td>\n      <td>1.0</td>\n      <td>1.0</td>\n      <td>1.0</td>\n      <td>1.0</td>\n      <td>11</td>\n      <td>1</td>\n    </tr>\n    <tr>\n      <th>5625623</th>\n      <td>-11.0</td>\n      <td>-9.0</td>\n      <td>-4</td>\n      <td>76</td>\n      <td>363.71084</td>\n      <td>7</td>\n      <td>-0.781831</td>\n      <td>0.62349</td>\n      <td>0.945519</td>\n      <td>-0.325568</td>\n      <td>...</td>\n      <td>1</td>\n      <td>0</td>\n      <td>0</td>\n      <td>1.0</td>\n      <td>1.0</td>\n      <td>1.0</td>\n      <td>1.0</td>\n      <td>1.0</td>\n      <td>-8</td>\n      <td>1</td>\n    </tr>\n    <tr>\n      <th>...</th>\n      <td>...</td>\n      <td>...</td>\n      <td>...</td>\n      <td>...</td>\n      <td>...</td>\n      <td>...</td>\n      <td>...</td>\n      <td>...</td>\n      <td>...</td>\n      <td>...</td>\n      <td>...</td>\n      <td>...</td>\n      <td>...</td>\n      <td>...</td>\n      <td>...</td>\n      <td>...</td>\n      <td>...</td>\n      <td>...</td>\n      <td>...</td>\n      <td>...</td>\n      <td>...</td>\n    </tr>\n    <tr>\n      <th>11291377</th>\n      <td>-11.0</td>\n      <td>-9.0</td>\n      <td>-11</td>\n      <td>220</td>\n      <td>2811.51698</td>\n      <td>2</td>\n      <td>0.000000</td>\n      <td>1.00000</td>\n      <td>0.985556</td>\n      <td>-0.169350</td>\n      <td>...</td>\n      <td>0</td>\n      <td>0</td>\n      <td>0</td>\n      <td>0.0</td>\n      <td>0.0</td>\n      <td>0.0</td>\n      <td>0.0</td>\n      <td>0.0</td>\n      <td>-20</td>\n      <td>0</td>\n    </tr>\n    <tr>\n      <th>11292052</th>\n      <td>-11.0</td>\n      <td>-6.0</td>\n      <td>-2</td>\n      <td>264</td>\n      <td>3366.73928</td>\n      <td>2</td>\n      <td>0.000000</td>\n      <td>1.00000</td>\n      <td>0.977231</td>\n      <td>-0.212178</td>\n      <td>...</td>\n      <td>0</td>\n      <td>0</td>\n      <td>0</td>\n      <td>0.0</td>\n      <td>0.0</td>\n      <td>0.0</td>\n      <td>0.0</td>\n      <td>0.0</td>\n      <td>-26</td>\n      <td>0</td>\n    </tr>\n    <tr>\n      <th>11290999</th>\n      <td>-11.0</td>\n      <td>-5.0</td>\n      <td>-1</td>\n      <td>246</td>\n      <td>3133.38498</td>\n      <td>3</td>\n      <td>0.000000</td>\n      <td>1.00000</td>\n      <td>0.960050</td>\n      <td>-0.279829</td>\n      <td>...</td>\n      <td>0</td>\n      <td>0</td>\n      <td>0</td>\n      <td>0.0</td>\n      <td>0.0</td>\n      <td>0.0</td>\n      <td>0.0</td>\n      <td>0.0</td>\n      <td>0</td>\n      <td>1</td>\n    </tr>\n    <tr>\n      <th>11290527</th>\n      <td>-11.0</td>\n      <td>-11.0</td>\n      <td>-4</td>\n      <td>276</td>\n      <td>3442.37826</td>\n      <td>4</td>\n      <td>0.000000</td>\n      <td>1.00000</td>\n      <td>0.958820</td>\n      <td>-0.284015</td>\n      <td>...</td>\n      <td>0</td>\n      <td>0</td>\n      <td>0</td>\n      <td>0.0</td>\n      <td>0.0</td>\n      <td>0.0</td>\n      <td>0.0</td>\n      <td>0.0</td>\n      <td>-33</td>\n      <td>0</td>\n    </tr>\n    <tr>\n      <th>11290612</th>\n      <td>-11.0</td>\n      <td>-14.0</td>\n      <td>-5</td>\n      <td>520</td>\n      <td>7245.24868</td>\n      <td>5</td>\n      <td>0.000000</td>\n      <td>1.00000</td>\n      <td>0.915311</td>\n      <td>-0.402747</td>\n      <td>...</td>\n      <td>0</td>\n      <td>0</td>\n      <td>0</td>\n      <td>0.0</td>\n      <td>0.0</td>\n      <td>0.0</td>\n      <td>0.0</td>\n      <td>0.0</td>\n      <td>-39</td>\n      <td>0</td>\n    </tr>\n  </tbody>\n</table>\n<p>329005 rows × 47 columns</p>\n</div>"
     },
     "execution_count": 8,
     "metadata": {},
     "output_type": "execute_result"
    }
   ],
   "source": [
    "data = pd.read_pickle(os.path.join(DATA_FOLDER,\"data.pkl\"))\n",
    "data"
   ],
   "metadata": {
    "collapsed": false,
    "ExecuteTime": {
     "end_time": "2024-03-22T23:58:38.008447700Z",
     "start_time": "2024-03-22T23:58:37.855534700Z"
    }
   },
   "id": "b2282db6dd37c0f"
  },
  {
   "cell_type": "code",
   "execution_count": 9,
   "outputs": [],
   "source": [
    "X = data[data.columns[:-1]]\n",
    "y = data[data.columns[-1:]]\n",
    "#Test-Train-Split\n",
    "X_train, X_test, y_train, y_test = train_test_split(X, y, test_size=0.2, random_state=42, stratify=y)"
   ],
   "metadata": {
    "collapsed": false,
    "ExecuteTime": {
     "end_time": "2024-03-22T23:58:39.908587900Z",
     "start_time": "2024-03-22T23:58:38.010444500Z"
    }
   },
   "id": "7025201b8262c1e0"
  },
  {
   "cell_type": "markdown",
   "source": [
    "### Information\n",
    "We must not forget that this data split is based on the classification target. The regression target is within the X matrix and has to be excluded later on when both sets are created."
   ],
   "metadata": {
    "collapsed": false
   },
   "id": "d3b35e19958645de"
  },
  {
   "cell_type": "code",
   "execution_count": 10,
   "outputs": [
    {
     "name": "stdout",
     "output_type": "stream",
     "text": [
      "Shape of X_train: (263204, 46)\n",
      "Shape of y_train: (263204, 1)\n",
      "Shape of X_test: (65801, 46)\n",
      "Shape of y_test: (65801, 1)\n",
      "X_train table: \n"
     ]
    },
    {
     "data": {
      "text/plain": "         MEDIAN_CARR_DELAY(MINS)  MEDIAN_ORIGIN_DELAY(MINS)  DEP_DELAY(MINS)  \\\n5998106                    -11.0                      -11.0              107   \n9744846                    -11.0                      -11.0               -3   \n8656393                    -11.0                       -9.0               64   \n7404998                    -11.0                       -8.0               -2   \n8855927                    -11.0                       -5.0               15   \n...                          ...                        ...              ...   \n6033952                     -6.0                       -9.0               -3   \n7551519                    -11.0                      -15.0               -8   \n7375452                    -11.0                       -8.0               -4   \n7757994                     -6.0                       -8.0              180   \n7249134                    -11.0                       -9.0               -4   \n\n         CRS_ELAPSED_TIME(MINS)  DISTANCE(KM)  NR_PREV_ARR_FLIGHTS(1HR)  \\\n5998106                      89     548.78494                        74   \n9744846                     106     830.41944                        83   \n8656393                      98     653.39204                        53   \n7404998                     121     935.02654                        88   \n8855927                     132    1120.10064                        74   \n...                         ...           ...                       ...   \n6033952                     126     975.26004                        95   \n7551519                     142    1200.56764                        74   \n7375452                     122     935.02654                        58   \n7757994                      92     584.19042                        62   \n7249134                      89     653.39204                        52   \n\n         ARR_DAY_SIN  ARR_DAY_COS  ARR_MIN_OF_DAY_SIN  ARR_MIN_OF_DAY_COS  \\\n5998106    -0.433884    -0.900969           -0.985556            0.169350   \n9744846     0.433884    -0.900969            0.496217           -0.868199   \n8656393    -0.781831     0.623490           -0.548293           -0.836286   \n7404998    -0.433884    -0.900969           -0.719340            0.694658   \n8855927     0.433884    -0.900969           -0.845728            0.533615   \n...              ...          ...                 ...                 ...   \n6033952    -0.781831     0.623490            0.678801           -0.734323   \n7551519     0.000000     1.000000           -0.649448           -0.760406   \n7375452     0.433884    -0.900969           -0.999914           -0.013090   \n7757994    -0.781831     0.623490           -0.608761            0.793353   \n7249134     0.974928    -0.222521            0.220697           -0.975342   \n\n         ...  EVENT_IC  EVENT_RA  EVENT_SN  EVENT_TS  08L/26R  08R/26L  \\\n5998106  ...         0         0         0         0      0.0      0.0   \n9744846  ...         0         0         0         0      3.0      3.0   \n8656393  ...         0         3         0         2      0.0      3.0   \n7404998  ...         0         0         0         0      0.0      3.0   \n8855927  ...         0         0         2         0      3.0      0.0   \n...      ...       ...       ...       ...       ...      ...      ...   \n6033952  ...         0         0         0         0      0.0      0.0   \n7551519  ...         0         0         0         0      0.0      0.0   \n7375452  ...         2         2         2         2      0.0      0.0   \n7757994  ...         0         0         0         0      1.0      3.0   \n7249134  ...         0         0         0         0      1.0      3.0   \n\n         09L/27R  09R/27L  10/28  ARR_DELAY_MINS  \n5998106      3.0      0.0    3.0             109  \n9744846      0.0      3.0    3.0              -5  \n8656393      0.0      0.0    3.0              46  \n7404998      3.0      3.0    3.0             -19  \n8855927      3.0      0.0    3.0              59  \n...          ...      ...    ...             ...  \n6033952      3.0      0.0    0.0             -15  \n7551519      0.0      0.0    3.0             -33  \n7375452      3.0      0.0    0.0              -1  \n7757994      1.0      3.0    1.0             158  \n7249134      2.0      3.0    2.0               5  \n\n[263204 rows x 46 columns]",
      "text/html": "<div>\n<style scoped>\n    .dataframe tbody tr th:only-of-type {\n        vertical-align: middle;\n    }\n\n    .dataframe tbody tr th {\n        vertical-align: top;\n    }\n\n    .dataframe thead th {\n        text-align: right;\n    }\n</style>\n<table border=\"1\" class=\"dataframe\">\n  <thead>\n    <tr style=\"text-align: right;\">\n      <th></th>\n      <th>MEDIAN_CARR_DELAY(MINS)</th>\n      <th>MEDIAN_ORIGIN_DELAY(MINS)</th>\n      <th>DEP_DELAY(MINS)</th>\n      <th>CRS_ELAPSED_TIME(MINS)</th>\n      <th>DISTANCE(KM)</th>\n      <th>NR_PREV_ARR_FLIGHTS(1HR)</th>\n      <th>ARR_DAY_SIN</th>\n      <th>ARR_DAY_COS</th>\n      <th>ARR_MIN_OF_DAY_SIN</th>\n      <th>ARR_MIN_OF_DAY_COS</th>\n      <th>...</th>\n      <th>EVENT_IC</th>\n      <th>EVENT_RA</th>\n      <th>EVENT_SN</th>\n      <th>EVENT_TS</th>\n      <th>08L/26R</th>\n      <th>08R/26L</th>\n      <th>09L/27R</th>\n      <th>09R/27L</th>\n      <th>10/28</th>\n      <th>ARR_DELAY_MINS</th>\n    </tr>\n  </thead>\n  <tbody>\n    <tr>\n      <th>5998106</th>\n      <td>-11.0</td>\n      <td>-11.0</td>\n      <td>107</td>\n      <td>89</td>\n      <td>548.78494</td>\n      <td>74</td>\n      <td>-0.433884</td>\n      <td>-0.900969</td>\n      <td>-0.985556</td>\n      <td>0.169350</td>\n      <td>...</td>\n      <td>0</td>\n      <td>0</td>\n      <td>0</td>\n      <td>0</td>\n      <td>0.0</td>\n      <td>0.0</td>\n      <td>3.0</td>\n      <td>0.0</td>\n      <td>3.0</td>\n      <td>109</td>\n    </tr>\n    <tr>\n      <th>9744846</th>\n      <td>-11.0</td>\n      <td>-11.0</td>\n      <td>-3</td>\n      <td>106</td>\n      <td>830.41944</td>\n      <td>83</td>\n      <td>0.433884</td>\n      <td>-0.900969</td>\n      <td>0.496217</td>\n      <td>-0.868199</td>\n      <td>...</td>\n      <td>0</td>\n      <td>0</td>\n      <td>0</td>\n      <td>0</td>\n      <td>3.0</td>\n      <td>3.0</td>\n      <td>0.0</td>\n      <td>3.0</td>\n      <td>3.0</td>\n      <td>-5</td>\n    </tr>\n    <tr>\n      <th>8656393</th>\n      <td>-11.0</td>\n      <td>-9.0</td>\n      <td>64</td>\n      <td>98</td>\n      <td>653.39204</td>\n      <td>53</td>\n      <td>-0.781831</td>\n      <td>0.623490</td>\n      <td>-0.548293</td>\n      <td>-0.836286</td>\n      <td>...</td>\n      <td>0</td>\n      <td>3</td>\n      <td>0</td>\n      <td>2</td>\n      <td>0.0</td>\n      <td>3.0</td>\n      <td>0.0</td>\n      <td>0.0</td>\n      <td>3.0</td>\n      <td>46</td>\n    </tr>\n    <tr>\n      <th>7404998</th>\n      <td>-11.0</td>\n      <td>-8.0</td>\n      <td>-2</td>\n      <td>121</td>\n      <td>935.02654</td>\n      <td>88</td>\n      <td>-0.433884</td>\n      <td>-0.900969</td>\n      <td>-0.719340</td>\n      <td>0.694658</td>\n      <td>...</td>\n      <td>0</td>\n      <td>0</td>\n      <td>0</td>\n      <td>0</td>\n      <td>0.0</td>\n      <td>3.0</td>\n      <td>3.0</td>\n      <td>3.0</td>\n      <td>3.0</td>\n      <td>-19</td>\n    </tr>\n    <tr>\n      <th>8855927</th>\n      <td>-11.0</td>\n      <td>-5.0</td>\n      <td>15</td>\n      <td>132</td>\n      <td>1120.10064</td>\n      <td>74</td>\n      <td>0.433884</td>\n      <td>-0.900969</td>\n      <td>-0.845728</td>\n      <td>0.533615</td>\n      <td>...</td>\n      <td>0</td>\n      <td>0</td>\n      <td>2</td>\n      <td>0</td>\n      <td>3.0</td>\n      <td>0.0</td>\n      <td>3.0</td>\n      <td>0.0</td>\n      <td>3.0</td>\n      <td>59</td>\n    </tr>\n    <tr>\n      <th>...</th>\n      <td>...</td>\n      <td>...</td>\n      <td>...</td>\n      <td>...</td>\n      <td>...</td>\n      <td>...</td>\n      <td>...</td>\n      <td>...</td>\n      <td>...</td>\n      <td>...</td>\n      <td>...</td>\n      <td>...</td>\n      <td>...</td>\n      <td>...</td>\n      <td>...</td>\n      <td>...</td>\n      <td>...</td>\n      <td>...</td>\n      <td>...</td>\n      <td>...</td>\n      <td>...</td>\n    </tr>\n    <tr>\n      <th>6033952</th>\n      <td>-6.0</td>\n      <td>-9.0</td>\n      <td>-3</td>\n      <td>126</td>\n      <td>975.26004</td>\n      <td>95</td>\n      <td>-0.781831</td>\n      <td>0.623490</td>\n      <td>0.678801</td>\n      <td>-0.734323</td>\n      <td>...</td>\n      <td>0</td>\n      <td>0</td>\n      <td>0</td>\n      <td>0</td>\n      <td>0.0</td>\n      <td>0.0</td>\n      <td>3.0</td>\n      <td>0.0</td>\n      <td>0.0</td>\n      <td>-15</td>\n    </tr>\n    <tr>\n      <th>7551519</th>\n      <td>-11.0</td>\n      <td>-15.0</td>\n      <td>-8</td>\n      <td>142</td>\n      <td>1200.56764</td>\n      <td>74</td>\n      <td>0.000000</td>\n      <td>1.000000</td>\n      <td>-0.649448</td>\n      <td>-0.760406</td>\n      <td>...</td>\n      <td>0</td>\n      <td>0</td>\n      <td>0</td>\n      <td>0</td>\n      <td>0.0</td>\n      <td>0.0</td>\n      <td>0.0</td>\n      <td>0.0</td>\n      <td>3.0</td>\n      <td>-33</td>\n    </tr>\n    <tr>\n      <th>7375452</th>\n      <td>-11.0</td>\n      <td>-8.0</td>\n      <td>-4</td>\n      <td>122</td>\n      <td>935.02654</td>\n      <td>58</td>\n      <td>0.433884</td>\n      <td>-0.900969</td>\n      <td>-0.999914</td>\n      <td>-0.013090</td>\n      <td>...</td>\n      <td>2</td>\n      <td>2</td>\n      <td>2</td>\n      <td>2</td>\n      <td>0.0</td>\n      <td>0.0</td>\n      <td>3.0</td>\n      <td>0.0</td>\n      <td>0.0</td>\n      <td>-1</td>\n    </tr>\n    <tr>\n      <th>7757994</th>\n      <td>-6.0</td>\n      <td>-8.0</td>\n      <td>180</td>\n      <td>92</td>\n      <td>584.19042</td>\n      <td>62</td>\n      <td>-0.781831</td>\n      <td>0.623490</td>\n      <td>-0.608761</td>\n      <td>0.793353</td>\n      <td>...</td>\n      <td>0</td>\n      <td>0</td>\n      <td>0</td>\n      <td>0</td>\n      <td>1.0</td>\n      <td>3.0</td>\n      <td>1.0</td>\n      <td>3.0</td>\n      <td>1.0</td>\n      <td>158</td>\n    </tr>\n    <tr>\n      <th>7249134</th>\n      <td>-11.0</td>\n      <td>-9.0</td>\n      <td>-4</td>\n      <td>89</td>\n      <td>653.39204</td>\n      <td>52</td>\n      <td>0.974928</td>\n      <td>-0.222521</td>\n      <td>0.220697</td>\n      <td>-0.975342</td>\n      <td>...</td>\n      <td>0</td>\n      <td>0</td>\n      <td>0</td>\n      <td>0</td>\n      <td>1.0</td>\n      <td>3.0</td>\n      <td>2.0</td>\n      <td>3.0</td>\n      <td>2.0</td>\n      <td>5</td>\n    </tr>\n  </tbody>\n</table>\n<p>263204 rows × 46 columns</p>\n</div>"
     },
     "execution_count": 10,
     "metadata": {},
     "output_type": "execute_result"
    }
   ],
   "source": [
    "print(\"Shape of X_train: \" + str(X_train.shape))\n",
    "print(\"Shape of y_train: \" + str(y_train.shape))\n",
    "print(\"Shape of X_test: \" + str(X_test.shape))\n",
    "print(\"Shape of y_test: \" + str(y_test.shape))\n",
    "print(\"X_train table: \")\n",
    "X_train"
   ],
   "metadata": {
    "collapsed": false,
    "ExecuteTime": {
     "end_time": "2024-03-22T23:58:40.002515600Z",
     "start_time": "2024-03-22T23:58:39.909568500Z"
    }
   },
   "id": "f067f019590b6623"
  },
  {
   "cell_type": "markdown",
   "source": [
    "### Creating the Regression and Classification Sets\n",
    "\n",
    "Now we create the two sets that are probably used. At first the classification and then the regression set. "
   ],
   "metadata": {
    "collapsed": false
   },
   "id": "2fccf9435527eb57"
  },
  {
   "cell_type": "code",
   "execution_count": 11,
   "outputs": [],
   "source": [
    "# Creating proper targets\n",
    "y_train_reg = X_train.ARR_DELAY_MINS\n",
    "y_test_reg = X_test.ARR_DELAY_MINS\n",
    "y_train_class = y_train.ARR_DELAY_CATS\n",
    "y_test_class = y_test.ARR_DELAY_CATS\n",
    "\n",
    "# Dropping the left-over regression target from X matrices\n",
    "X_train = X_train.drop([\"ARR_DELAY_MINS\"], axis=\"columns\")\n",
    "X_test = X_test.drop([\"ARR_DELAY_MINS\"], axis=\"columns\")\n",
    "\n",
    "# Saving regression data\n",
    "reg_path = os.path.join(DATA_FOLDER, \"reg\")\n",
    "save_processed_data_to_folder(reg_path, X_train, y_train_reg, X_test, y_test_reg)\n",
    "\n",
    "# Saving classification data\n",
    "class_path = os.path.join(DATA_FOLDER, \"class\")\n",
    "save_processed_data_to_folder(class_path, X_train, y_train_class, X_test, y_test_class)"
   ],
   "metadata": {
    "collapsed": false,
    "ExecuteTime": {
     "end_time": "2024-03-22T23:58:40.995506600Z",
     "start_time": "2024-03-22T23:58:40.005513800Z"
    }
   },
   "id": "3e1b52a23eed5e21"
  }
 ],
 "metadata": {
  "kernelspec": {
   "display_name": "Python 3",
   "language": "python",
   "name": "python3"
  },
  "language_info": {
   "codemirror_mode": {
    "name": "ipython",
    "version": 2
   },
   "file_extension": ".py",
   "mimetype": "text/x-python",
   "name": "python",
   "nbconvert_exporter": "python",
   "pygments_lexer": "ipython2",
   "version": "2.7.6"
  }
 },
 "nbformat": 4,
 "nbformat_minor": 5
}
