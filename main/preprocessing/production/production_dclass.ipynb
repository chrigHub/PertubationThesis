{
 "cells": [
  {
   "cell_type": "code",
   "execution_count": 1,
   "id": "initial_id",
   "metadata": {
    "collapsed": true,
    "ExecuteTime": {
     "end_time": "2024-06-17T02:14:14.234426200Z",
     "start_time": "2024-06-17T02:14:12.763551800Z"
    }
   },
   "outputs": [
    {
     "name": "stderr",
     "output_type": "stream",
     "text": [
      "C:\\Users\\chrig\\AppData\\Local\\Temp\\ipykernel_18344\\3290917847.py:7: DeprecationWarning: Importing display from IPython.core.display is deprecated since IPython 7.14, please import from IPython display\n",
      "  from IPython.core.display import display\n"
     ]
    }
   ],
   "source": [
    "import pandas as pd\n",
    "import numpy as np\n",
    "import os\n",
    "import sys\n",
    "import matplotlib.pyplot as plt\n",
    "from main.utils import time_utils, data_manage_utils\n",
    "from IPython.core.display import display\n",
    "\n",
    "# Variables\n",
    "ROOT_PATH = os.path.abspath(\"../../../\")\n",
    "INPUT_FOLDER = os.path.join(ROOT_PATH, \"data/preprocessing/processed_files/CCLASS\")\n",
    "OUTPUT_FOLDER = os.path.join(ROOT_PATH, \"data/preprocessing/processed_files\")"
   ]
  },
  {
   "cell_type": "code",
   "execution_count": 2,
   "outputs": [
    {
     "data": {
      "text/plain": "         DEP_DELAY(MINS)  CRS_ELAPSED_TIME(MINS)  NR_PREV_ARR_FLIGHTS(1HR)  \\\n5998106              107                      89                        74   \n9744846               -3                     106                        83   \n8656393               64                      98                        53   \n7404998               -2                     121                        88   \n8855927               15                     132                        74   \n...                  ...                     ...                       ...   \n6033952               -3                     126                        95   \n7551519               -8                     142                        74   \n7375452               -4                     122                        58   \n7757994              180                      92                        62   \n7249134               -4                      89                        52   \n\n         ARR_DAY_SIN  ARR_DAY_COS  ARR_MIN_OF_DAY_SIN  ARR_MIN_OF_DAY_COS  \\\n5998106    -0.433884    -0.900969           -0.985556            0.169350   \n9744846     0.433884    -0.900969            0.496217           -0.868199   \n8656393    -0.781831     0.623490           -0.548293           -0.836286   \n7404998    -0.433884    -0.900969           -0.719340            0.694658   \n8855927     0.433884    -0.900969           -0.845728            0.533615   \n...              ...          ...                 ...                 ...   \n6033952    -0.781831     0.623490            0.678801           -0.734323   \n7551519     0.000000     1.000000           -0.649448           -0.760406   \n7375452     0.433884    -0.900969           -0.999914           -0.013090   \n7757994    -0.781831     0.623490           -0.608761            0.793353   \n7249134     0.974928    -0.222521            0.220697           -0.975342   \n\n         APPROACH_SPEED(KMH)  TAIL_HEIGHT(M)  PARKING_AREA(SQM)  ...  \\\n5998106              255.576        9.000744        1525.176514  ...   \n9744846              255.576        9.000744        1525.176514  ...   \n8656393              255.576        9.000744        1525.176514  ...   \n7404998              261.132       12.624816        1445.094760  ...   \n8855927              257.428        9.043416        1075.157934  ...   \n...                      ...             ...                ...  ...   \n6033952              229.648        9.854184         823.857302  ...   \n7551519              257.428        9.043416        1075.157934  ...   \n7375452              264.836       13.639800        2071.070234  ...   \n7757994              259.280        6.324600         560.293571  ...   \n7249134              255.576        9.000744        1525.176514  ...   \n\n         EVENT_FU  EVENT_GR  EVENT_GS  EVENT_HZ  EVENT_IC  EVENT_RA  EVENT_SN  \\\n5998106         0         0         0         0         0         0         0   \n9744846         2         0         0         0         0         0         0   \n8656393         0         0         0         0         0         3         0   \n7404998         0         0         0         0         0         0         0   \n8855927         0         0         0         0         0         0         2   \n...           ...       ...       ...       ...       ...       ...       ...   \n6033952         0         0         0         0         0         0         0   \n7551519         0         0         0         0         0         0         0   \n7375452         0         0         0         0         2         2         2   \n7757994         0         0         0         0         0         0         0   \n7249134         0         0         0         0         0         0         0   \n\n         EVENT_TS  RUNWAY_ERROR(PERC)  y  \n5998106         0                 0.4  2  \n9744846         0                 0.8  1  \n8656393         2                 0.4  2  \n7404998         0                 0.8  0  \n8855927         0                 0.6  2  \n...           ...                 ... ..  \n6033952         0                 0.2  1  \n7551519         0                 0.2  0  \n7375452         2                 0.2  1  \n7757994         0                 1.0  2  \n7249134         0                 1.0  1  \n\n[263204 rows x 32 columns]",
      "text/html": "<div>\n<style scoped>\n    .dataframe tbody tr th:only-of-type {\n        vertical-align: middle;\n    }\n\n    .dataframe tbody tr th {\n        vertical-align: top;\n    }\n\n    .dataframe thead th {\n        text-align: right;\n    }\n</style>\n<table border=\"1\" class=\"dataframe\">\n  <thead>\n    <tr style=\"text-align: right;\">\n      <th></th>\n      <th>DEP_DELAY(MINS)</th>\n      <th>CRS_ELAPSED_TIME(MINS)</th>\n      <th>NR_PREV_ARR_FLIGHTS(1HR)</th>\n      <th>ARR_DAY_SIN</th>\n      <th>ARR_DAY_COS</th>\n      <th>ARR_MIN_OF_DAY_SIN</th>\n      <th>ARR_MIN_OF_DAY_COS</th>\n      <th>APPROACH_SPEED(KMH)</th>\n      <th>TAIL_HEIGHT(M)</th>\n      <th>PARKING_AREA(SQM)</th>\n      <th>...</th>\n      <th>EVENT_FU</th>\n      <th>EVENT_GR</th>\n      <th>EVENT_GS</th>\n      <th>EVENT_HZ</th>\n      <th>EVENT_IC</th>\n      <th>EVENT_RA</th>\n      <th>EVENT_SN</th>\n      <th>EVENT_TS</th>\n      <th>RUNWAY_ERROR(PERC)</th>\n      <th>y</th>\n    </tr>\n  </thead>\n  <tbody>\n    <tr>\n      <th>5998106</th>\n      <td>107</td>\n      <td>89</td>\n      <td>74</td>\n      <td>-0.433884</td>\n      <td>-0.900969</td>\n      <td>-0.985556</td>\n      <td>0.169350</td>\n      <td>255.576</td>\n      <td>9.000744</td>\n      <td>1525.176514</td>\n      <td>...</td>\n      <td>0</td>\n      <td>0</td>\n      <td>0</td>\n      <td>0</td>\n      <td>0</td>\n      <td>0</td>\n      <td>0</td>\n      <td>0</td>\n      <td>0.4</td>\n      <td>2</td>\n    </tr>\n    <tr>\n      <th>9744846</th>\n      <td>-3</td>\n      <td>106</td>\n      <td>83</td>\n      <td>0.433884</td>\n      <td>-0.900969</td>\n      <td>0.496217</td>\n      <td>-0.868199</td>\n      <td>255.576</td>\n      <td>9.000744</td>\n      <td>1525.176514</td>\n      <td>...</td>\n      <td>2</td>\n      <td>0</td>\n      <td>0</td>\n      <td>0</td>\n      <td>0</td>\n      <td>0</td>\n      <td>0</td>\n      <td>0</td>\n      <td>0.8</td>\n      <td>1</td>\n    </tr>\n    <tr>\n      <th>8656393</th>\n      <td>64</td>\n      <td>98</td>\n      <td>53</td>\n      <td>-0.781831</td>\n      <td>0.623490</td>\n      <td>-0.548293</td>\n      <td>-0.836286</td>\n      <td>255.576</td>\n      <td>9.000744</td>\n      <td>1525.176514</td>\n      <td>...</td>\n      <td>0</td>\n      <td>0</td>\n      <td>0</td>\n      <td>0</td>\n      <td>0</td>\n      <td>3</td>\n      <td>0</td>\n      <td>2</td>\n      <td>0.4</td>\n      <td>2</td>\n    </tr>\n    <tr>\n      <th>7404998</th>\n      <td>-2</td>\n      <td>121</td>\n      <td>88</td>\n      <td>-0.433884</td>\n      <td>-0.900969</td>\n      <td>-0.719340</td>\n      <td>0.694658</td>\n      <td>261.132</td>\n      <td>12.624816</td>\n      <td>1445.094760</td>\n      <td>...</td>\n      <td>0</td>\n      <td>0</td>\n      <td>0</td>\n      <td>0</td>\n      <td>0</td>\n      <td>0</td>\n      <td>0</td>\n      <td>0</td>\n      <td>0.8</td>\n      <td>0</td>\n    </tr>\n    <tr>\n      <th>8855927</th>\n      <td>15</td>\n      <td>132</td>\n      <td>74</td>\n      <td>0.433884</td>\n      <td>-0.900969</td>\n      <td>-0.845728</td>\n      <td>0.533615</td>\n      <td>257.428</td>\n      <td>9.043416</td>\n      <td>1075.157934</td>\n      <td>...</td>\n      <td>0</td>\n      <td>0</td>\n      <td>0</td>\n      <td>0</td>\n      <td>0</td>\n      <td>0</td>\n      <td>2</td>\n      <td>0</td>\n      <td>0.6</td>\n      <td>2</td>\n    </tr>\n    <tr>\n      <th>...</th>\n      <td>...</td>\n      <td>...</td>\n      <td>...</td>\n      <td>...</td>\n      <td>...</td>\n      <td>...</td>\n      <td>...</td>\n      <td>...</td>\n      <td>...</td>\n      <td>...</td>\n      <td>...</td>\n      <td>...</td>\n      <td>...</td>\n      <td>...</td>\n      <td>...</td>\n      <td>...</td>\n      <td>...</td>\n      <td>...</td>\n      <td>...</td>\n      <td>...</td>\n      <td>...</td>\n    </tr>\n    <tr>\n      <th>6033952</th>\n      <td>-3</td>\n      <td>126</td>\n      <td>95</td>\n      <td>-0.781831</td>\n      <td>0.623490</td>\n      <td>0.678801</td>\n      <td>-0.734323</td>\n      <td>229.648</td>\n      <td>9.854184</td>\n      <td>823.857302</td>\n      <td>...</td>\n      <td>0</td>\n      <td>0</td>\n      <td>0</td>\n      <td>0</td>\n      <td>0</td>\n      <td>0</td>\n      <td>0</td>\n      <td>0</td>\n      <td>0.2</td>\n      <td>1</td>\n    </tr>\n    <tr>\n      <th>7551519</th>\n      <td>-8</td>\n      <td>142</td>\n      <td>74</td>\n      <td>0.000000</td>\n      <td>1.000000</td>\n      <td>-0.649448</td>\n      <td>-0.760406</td>\n      <td>257.428</td>\n      <td>9.043416</td>\n      <td>1075.157934</td>\n      <td>...</td>\n      <td>0</td>\n      <td>0</td>\n      <td>0</td>\n      <td>0</td>\n      <td>0</td>\n      <td>0</td>\n      <td>0</td>\n      <td>0</td>\n      <td>0.2</td>\n      <td>0</td>\n    </tr>\n    <tr>\n      <th>7375452</th>\n      <td>-4</td>\n      <td>122</td>\n      <td>58</td>\n      <td>0.433884</td>\n      <td>-0.900969</td>\n      <td>-0.999914</td>\n      <td>-0.013090</td>\n      <td>264.836</td>\n      <td>13.639800</td>\n      <td>2071.070234</td>\n      <td>...</td>\n      <td>0</td>\n      <td>0</td>\n      <td>0</td>\n      <td>0</td>\n      <td>2</td>\n      <td>2</td>\n      <td>2</td>\n      <td>2</td>\n      <td>0.2</td>\n      <td>1</td>\n    </tr>\n    <tr>\n      <th>7757994</th>\n      <td>180</td>\n      <td>92</td>\n      <td>62</td>\n      <td>-0.781831</td>\n      <td>0.623490</td>\n      <td>-0.608761</td>\n      <td>0.793353</td>\n      <td>259.280</td>\n      <td>6.324600</td>\n      <td>560.293571</td>\n      <td>...</td>\n      <td>0</td>\n      <td>0</td>\n      <td>0</td>\n      <td>0</td>\n      <td>0</td>\n      <td>0</td>\n      <td>0</td>\n      <td>0</td>\n      <td>1.0</td>\n      <td>2</td>\n    </tr>\n    <tr>\n      <th>7249134</th>\n      <td>-4</td>\n      <td>89</td>\n      <td>52</td>\n      <td>0.974928</td>\n      <td>-0.222521</td>\n      <td>0.220697</td>\n      <td>-0.975342</td>\n      <td>255.576</td>\n      <td>9.000744</td>\n      <td>1525.176514</td>\n      <td>...</td>\n      <td>0</td>\n      <td>0</td>\n      <td>0</td>\n      <td>0</td>\n      <td>0</td>\n      <td>0</td>\n      <td>0</td>\n      <td>0</td>\n      <td>1.0</td>\n      <td>1</td>\n    </tr>\n  </tbody>\n</table>\n<p>263204 rows × 32 columns</p>\n</div>"
     },
     "execution_count": 2,
     "metadata": {},
     "output_type": "execute_result"
    }
   ],
   "source": [
    "X_train, y_train, X_test, y_test = data_manage_utils.load_processed_data_by_folder(INPUT_FOLDER)\n",
    "X_train[\"y\"] = y_train\n",
    "X_train"
   ],
   "metadata": {
    "collapsed": false,
    "ExecuteTime": {
     "end_time": "2024-06-17T02:14:14.375344800Z",
     "start_time": "2024-06-17T02:14:14.234426200Z"
    }
   },
   "id": "5215cb8cc032fe7b"
  },
  {
   "cell_type": "code",
   "execution_count": 3,
   "outputs": [
    {
     "data": {
      "text/plain": "          DEP_DELAY(MINS)  CRS_ELAPSED_TIME(MINS)  NR_PREV_ARR_FLIGHTS(1HR)  \\\n6386798                77                      51                        64   \n6824913                -7                      95                        72   \n7556876                -2                      86                        51   \n10772416              162                      95                        84   \n7282245               -11                     181                        63   \n...                   ...                     ...                       ...   \n9980295                -3                     102                        68   \n9983451                -3                     115                        30   \n7026317                54                      86                        75   \n10352441                2                     150                        53   \n6600848                 2                      69                        96   \n\n          ARR_DAY_SIN  ARR_DAY_COS  ARR_MIN_OF_DAY_SIN  ARR_MIN_OF_DAY_COS  \\\n6386798      0.974928    -0.222521           -0.831470           -0.555570   \n6824913      0.433884    -0.900969           -0.402747           -0.915311   \n7556876      0.000000     1.000000           -0.768842           -0.639439   \n10772416     0.000000     1.000000            0.480989           -0.876727   \n7282245     -0.433884    -0.900969           -0.942641           -0.333807   \n...               ...          ...                 ...                 ...   \n9980295     -0.433884    -0.900969            0.731354           -0.681998   \n9983451     -0.433884    -0.900969           -0.342020            0.939693   \n7026317      0.781831     0.623490           -0.816642            0.577145   \n10352441     0.000000     1.000000           -0.980785            0.195090   \n6600848      0.433884    -0.900969            0.594823           -0.803857   \n\n          APPROACH_SPEED(KMH)  TAIL_HEIGHT(M)  PARKING_AREA(SQM)  ...  \\\n6386798               259.280        6.324600         560.293571  ...   \n6824913               257.428        9.043416        1075.157934  ...   \n7556876               259.280        6.324600         560.293571  ...   \n10772416              233.352       12.109704        1153.939056  ...   \n7282245               233.352       12.109704        1153.939056  ...   \n...                       ...             ...                ...  ...   \n9980295               264.836       13.639800        2071.070234  ...   \n9983451               261.132       12.624816        1445.094760  ...   \n7026317               255.576        9.000744        1525.176514  ...   \n10352441              261.132       12.624816        1445.094760  ...   \n6600848               255.576        9.000744        1525.176514  ...   \n\n          EVENT_FU  EVENT_GR  EVENT_GS  EVENT_HZ  EVENT_IC  EVENT_RA  \\\n6386798          0         0         0         0         0         0   \n6824913          0         0         0         0         0         0   \n7556876          0         0         0         0         0         0   \n10772416         0         0         0         0         0         0   \n7282245          0         0         0         0         0         0   \n...            ...       ...       ...       ...       ...       ...   \n9980295          0         0         0         0         0         0   \n9983451          0         0         0         0         0         0   \n7026317          0         0         0         0         0         0   \n10352441         0         0         0         0         0         0   \n6600848          0         0         0         0         0         0   \n\n          EVENT_SN  EVENT_TS  RUNWAY_ERROR(PERC)  y  \n6386798          0         0                 1.0  2  \n6824913          0         0                 0.4  0  \n7556876          0         0                 0.2  1  \n10772416         0         0                 0.0  2  \n7282245          0         0                 1.0  0  \n...            ...       ...                 ... ..  \n9980295          0         0                 0.8  1  \n9983451          0         0                 0.6  1  \n7026317          0         0                 0.6  2  \n10352441         0         0                 0.4  1  \n6600848          0         0                 0.8  0  \n\n[65801 rows x 32 columns]",
      "text/html": "<div>\n<style scoped>\n    .dataframe tbody tr th:only-of-type {\n        vertical-align: middle;\n    }\n\n    .dataframe tbody tr th {\n        vertical-align: top;\n    }\n\n    .dataframe thead th {\n        text-align: right;\n    }\n</style>\n<table border=\"1\" class=\"dataframe\">\n  <thead>\n    <tr style=\"text-align: right;\">\n      <th></th>\n      <th>DEP_DELAY(MINS)</th>\n      <th>CRS_ELAPSED_TIME(MINS)</th>\n      <th>NR_PREV_ARR_FLIGHTS(1HR)</th>\n      <th>ARR_DAY_SIN</th>\n      <th>ARR_DAY_COS</th>\n      <th>ARR_MIN_OF_DAY_SIN</th>\n      <th>ARR_MIN_OF_DAY_COS</th>\n      <th>APPROACH_SPEED(KMH)</th>\n      <th>TAIL_HEIGHT(M)</th>\n      <th>PARKING_AREA(SQM)</th>\n      <th>...</th>\n      <th>EVENT_FU</th>\n      <th>EVENT_GR</th>\n      <th>EVENT_GS</th>\n      <th>EVENT_HZ</th>\n      <th>EVENT_IC</th>\n      <th>EVENT_RA</th>\n      <th>EVENT_SN</th>\n      <th>EVENT_TS</th>\n      <th>RUNWAY_ERROR(PERC)</th>\n      <th>y</th>\n    </tr>\n  </thead>\n  <tbody>\n    <tr>\n      <th>6386798</th>\n      <td>77</td>\n      <td>51</td>\n      <td>64</td>\n      <td>0.974928</td>\n      <td>-0.222521</td>\n      <td>-0.831470</td>\n      <td>-0.555570</td>\n      <td>259.280</td>\n      <td>6.324600</td>\n      <td>560.293571</td>\n      <td>...</td>\n      <td>0</td>\n      <td>0</td>\n      <td>0</td>\n      <td>0</td>\n      <td>0</td>\n      <td>0</td>\n      <td>0</td>\n      <td>0</td>\n      <td>1.0</td>\n      <td>2</td>\n    </tr>\n    <tr>\n      <th>6824913</th>\n      <td>-7</td>\n      <td>95</td>\n      <td>72</td>\n      <td>0.433884</td>\n      <td>-0.900969</td>\n      <td>-0.402747</td>\n      <td>-0.915311</td>\n      <td>257.428</td>\n      <td>9.043416</td>\n      <td>1075.157934</td>\n      <td>...</td>\n      <td>0</td>\n      <td>0</td>\n      <td>0</td>\n      <td>0</td>\n      <td>0</td>\n      <td>0</td>\n      <td>0</td>\n      <td>0</td>\n      <td>0.4</td>\n      <td>0</td>\n    </tr>\n    <tr>\n      <th>7556876</th>\n      <td>-2</td>\n      <td>86</td>\n      <td>51</td>\n      <td>0.000000</td>\n      <td>1.000000</td>\n      <td>-0.768842</td>\n      <td>-0.639439</td>\n      <td>259.280</td>\n      <td>6.324600</td>\n      <td>560.293571</td>\n      <td>...</td>\n      <td>0</td>\n      <td>0</td>\n      <td>0</td>\n      <td>0</td>\n      <td>0</td>\n      <td>0</td>\n      <td>0</td>\n      <td>0</td>\n      <td>0.2</td>\n      <td>1</td>\n    </tr>\n    <tr>\n      <th>10772416</th>\n      <td>162</td>\n      <td>95</td>\n      <td>84</td>\n      <td>0.000000</td>\n      <td>1.000000</td>\n      <td>0.480989</td>\n      <td>-0.876727</td>\n      <td>233.352</td>\n      <td>12.109704</td>\n      <td>1153.939056</td>\n      <td>...</td>\n      <td>0</td>\n      <td>0</td>\n      <td>0</td>\n      <td>0</td>\n      <td>0</td>\n      <td>0</td>\n      <td>0</td>\n      <td>0</td>\n      <td>0.0</td>\n      <td>2</td>\n    </tr>\n    <tr>\n      <th>7282245</th>\n      <td>-11</td>\n      <td>181</td>\n      <td>63</td>\n      <td>-0.433884</td>\n      <td>-0.900969</td>\n      <td>-0.942641</td>\n      <td>-0.333807</td>\n      <td>233.352</td>\n      <td>12.109704</td>\n      <td>1153.939056</td>\n      <td>...</td>\n      <td>0</td>\n      <td>0</td>\n      <td>0</td>\n      <td>0</td>\n      <td>0</td>\n      <td>0</td>\n      <td>0</td>\n      <td>0</td>\n      <td>1.0</td>\n      <td>0</td>\n    </tr>\n    <tr>\n      <th>...</th>\n      <td>...</td>\n      <td>...</td>\n      <td>...</td>\n      <td>...</td>\n      <td>...</td>\n      <td>...</td>\n      <td>...</td>\n      <td>...</td>\n      <td>...</td>\n      <td>...</td>\n      <td>...</td>\n      <td>...</td>\n      <td>...</td>\n      <td>...</td>\n      <td>...</td>\n      <td>...</td>\n      <td>...</td>\n      <td>...</td>\n      <td>...</td>\n      <td>...</td>\n      <td>...</td>\n    </tr>\n    <tr>\n      <th>9980295</th>\n      <td>-3</td>\n      <td>102</td>\n      <td>68</td>\n      <td>-0.433884</td>\n      <td>-0.900969</td>\n      <td>0.731354</td>\n      <td>-0.681998</td>\n      <td>264.836</td>\n      <td>13.639800</td>\n      <td>2071.070234</td>\n      <td>...</td>\n      <td>0</td>\n      <td>0</td>\n      <td>0</td>\n      <td>0</td>\n      <td>0</td>\n      <td>0</td>\n      <td>0</td>\n      <td>0</td>\n      <td>0.8</td>\n      <td>1</td>\n    </tr>\n    <tr>\n      <th>9983451</th>\n      <td>-3</td>\n      <td>115</td>\n      <td>30</td>\n      <td>-0.433884</td>\n      <td>-0.900969</td>\n      <td>-0.342020</td>\n      <td>0.939693</td>\n      <td>261.132</td>\n      <td>12.624816</td>\n      <td>1445.094760</td>\n      <td>...</td>\n      <td>0</td>\n      <td>0</td>\n      <td>0</td>\n      <td>0</td>\n      <td>0</td>\n      <td>0</td>\n      <td>0</td>\n      <td>0</td>\n      <td>0.6</td>\n      <td>1</td>\n    </tr>\n    <tr>\n      <th>7026317</th>\n      <td>54</td>\n      <td>86</td>\n      <td>75</td>\n      <td>0.781831</td>\n      <td>0.623490</td>\n      <td>-0.816642</td>\n      <td>0.577145</td>\n      <td>255.576</td>\n      <td>9.000744</td>\n      <td>1525.176514</td>\n      <td>...</td>\n      <td>0</td>\n      <td>0</td>\n      <td>0</td>\n      <td>0</td>\n      <td>0</td>\n      <td>0</td>\n      <td>0</td>\n      <td>0</td>\n      <td>0.6</td>\n      <td>2</td>\n    </tr>\n    <tr>\n      <th>10352441</th>\n      <td>2</td>\n      <td>150</td>\n      <td>53</td>\n      <td>0.000000</td>\n      <td>1.000000</td>\n      <td>-0.980785</td>\n      <td>0.195090</td>\n      <td>261.132</td>\n      <td>12.624816</td>\n      <td>1445.094760</td>\n      <td>...</td>\n      <td>0</td>\n      <td>0</td>\n      <td>0</td>\n      <td>0</td>\n      <td>0</td>\n      <td>0</td>\n      <td>0</td>\n      <td>0</td>\n      <td>0.4</td>\n      <td>1</td>\n    </tr>\n    <tr>\n      <th>6600848</th>\n      <td>2</td>\n      <td>69</td>\n      <td>96</td>\n      <td>0.433884</td>\n      <td>-0.900969</td>\n      <td>0.594823</td>\n      <td>-0.803857</td>\n      <td>255.576</td>\n      <td>9.000744</td>\n      <td>1525.176514</td>\n      <td>...</td>\n      <td>0</td>\n      <td>0</td>\n      <td>0</td>\n      <td>0</td>\n      <td>0</td>\n      <td>0</td>\n      <td>0</td>\n      <td>0</td>\n      <td>0.8</td>\n      <td>0</td>\n    </tr>\n  </tbody>\n</table>\n<p>65801 rows × 32 columns</p>\n</div>"
     },
     "execution_count": 3,
     "metadata": {},
     "output_type": "execute_result"
    }
   ],
   "source": [
    "X_test[\"y\"] = y_test\n",
    "X_test"
   ],
   "metadata": {
    "collapsed": false,
    "ExecuteTime": {
     "end_time": "2024-06-17T02:14:14.481831100Z",
     "start_time": "2024-06-17T02:14:14.376361900Z"
    }
   },
   "id": "3491ba2ddf86a174"
  },
  {
   "cell_type": "code",
   "execution_count": 4,
   "outputs": [
    {
     "name": "stdout",
     "output_type": "stream",
     "text": [
      "X_train shape: (263204, 32)\n",
      "X_test shape: (65801, 32)\n",
      "X shape: (329005, 32)\n",
      "Should be: (329005, 32)\n"
     ]
    }
   ],
   "source": [
    "print(f\"X_train shape: {X_train.shape}\")\n",
    "print(f\"X_test shape: {X_test.shape}\")\n",
    "X = pd.concat([X_train,X_test])\n",
    "print(f\"X shape: {X.shape}\")\n",
    "print(f\"Should be: {(X_train.shape[0] + X_test.shape[0],X_train.shape[1])}\")"
   ],
   "metadata": {
    "collapsed": false,
    "ExecuteTime": {
     "end_time": "2024-06-17T02:14:14.523806900Z",
     "start_time": "2024-06-17T02:14:14.424863600Z"
    }
   },
   "id": "b317aae9f1247b33"
  },
  {
   "cell_type": "code",
   "execution_count": 5,
   "outputs": [
    {
     "data": {
      "text/plain": "DEP_DELAY(MINS)                  107.000000\nCRS_ELAPSED_TIME(MINS)            89.000000\nNR_PREV_ARR_FLIGHTS(1HR)          74.000000\nARR_DAY_SIN                       -0.433884\nARR_DAY_COS                       -0.900969\nARR_MIN_OF_DAY_SIN                -0.985556\nARR_MIN_OF_DAY_COS                 0.169350\nAPPROACH_SPEED(KMH)              255.576000\nTAIL_HEIGHT(M)                     9.000744\nPARKING_AREA(SQM)               1525.176514\nWINGLETS(YN)                       1.000000\nTEMP(C)                            6.722222\nDEWPOINT_TEMP(C)                  -3.277778\nREL_HUMIDITY(PERCENT)             48.880000\nWIND_DRCT(DEG)                   290.000000\nWIND_SPEED(KMH)                   26.854000\n1HOUR_PRECIPITATION(INCH)          0.000000\nSEA_LEVEL_PRESSURE(MILLIBAR)    1018.800000\nVISIBILITY(MILES)                 10.000000\nEVENT_BR                           0.000000\nEVENT_DZ                           0.000000\nEVENT_FG                           0.000000\nEVENT_FU                           0.000000\nEVENT_GR                           0.000000\nEVENT_GS                           0.000000\nEVENT_HZ                           0.000000\nEVENT_IC                           0.000000\nEVENT_RA                           0.000000\nEVENT_SN                           0.000000\nEVENT_TS                           0.000000\nRUNWAY_ERROR(PERC)                 0.400000\ny                                  2.000000\nName: 5998106, dtype: float64"
     },
     "execution_count": 5,
     "metadata": {},
     "output_type": "execute_result"
    }
   ],
   "source": [
    "X.loc[X_train.iloc[0].name]"
   ],
   "metadata": {
    "collapsed": false,
    "ExecuteTime": {
     "end_time": "2024-06-17T02:14:14.629746Z",
     "start_time": "2024-06-17T02:14:14.488830200Z"
    }
   },
   "id": "6774fa30c1303a29"
  },
  {
   "cell_type": "code",
   "execution_count": 6,
   "outputs": [
    {
     "data": {
      "text/plain": "DEP_DELAY(MINS)                  107.000000\nCRS_ELAPSED_TIME(MINS)            89.000000\nNR_PREV_ARR_FLIGHTS(1HR)          74.000000\nARR_DAY_SIN                       -0.433884\nARR_DAY_COS                       -0.900969\nARR_MIN_OF_DAY_SIN                -0.985556\nARR_MIN_OF_DAY_COS                 0.169350\nAPPROACH_SPEED(KMH)              255.576000\nTAIL_HEIGHT(M)                     9.000744\nPARKING_AREA(SQM)               1525.176514\nWINGLETS(YN)                       1.000000\nTEMP(C)                            6.722222\nDEWPOINT_TEMP(C)                  -3.277778\nREL_HUMIDITY(PERCENT)             48.880000\nWIND_DRCT(DEG)                   290.000000\nWIND_SPEED(KMH)                   26.854000\n1HOUR_PRECIPITATION(INCH)          0.000000\nSEA_LEVEL_PRESSURE(MILLIBAR)    1018.800000\nVISIBILITY(MILES)                 10.000000\nEVENT_BR                           0.000000\nEVENT_DZ                           0.000000\nEVENT_FG                           0.000000\nEVENT_FU                           0.000000\nEVENT_GR                           0.000000\nEVENT_GS                           0.000000\nEVENT_HZ                           0.000000\nEVENT_IC                           0.000000\nEVENT_RA                           0.000000\nEVENT_SN                           0.000000\nEVENT_TS                           0.000000\nRUNWAY_ERROR(PERC)                 0.400000\ny                                  2.000000\nName: 5998106, dtype: float64"
     },
     "execution_count": 6,
     "metadata": {},
     "output_type": "execute_result"
    }
   ],
   "source": [
    "X_train.iloc[0]"
   ],
   "metadata": {
    "collapsed": false,
    "ExecuteTime": {
     "end_time": "2024-06-17T02:14:14.629746Z",
     "start_time": "2024-06-17T02:14:14.566781900Z"
    }
   },
   "id": "ac84839da58637c1"
  },
  {
   "cell_type": "code",
   "execution_count": 7,
   "outputs": [
    {
     "data": {
      "text/plain": "DEP_DELAY(MINS)                   77.000000\nCRS_ELAPSED_TIME(MINS)            51.000000\nNR_PREV_ARR_FLIGHTS(1HR)          64.000000\nARR_DAY_SIN                        0.974928\nARR_DAY_COS                       -0.222521\nARR_MIN_OF_DAY_SIN                -0.831470\nARR_MIN_OF_DAY_COS                -0.555570\nAPPROACH_SPEED(KMH)              259.280000\nTAIL_HEIGHT(M)                     6.324600\nPARKING_AREA(SQM)                560.293571\nWINGLETS(YN)                       1.000000\nTEMP(C)                           17.222222\nDEWPOINT_TEMP(C)                  16.111111\nREL_HUMIDITY(PERCENT)             93.180000\nWIND_DRCT(DEG)                    70.000000\nWIND_SPEED(KMH)                   20.372000\n1HOUR_PRECIPITATION(INCH)          0.000000\nSEA_LEVEL_PRESSURE(MILLIBAR)    1012.400000\nVISIBILITY(MILES)                  7.000000\nEVENT_BR                           0.000000\nEVENT_DZ                           0.000000\nEVENT_FG                           0.000000\nEVENT_FU                           0.000000\nEVENT_GR                           0.000000\nEVENT_GS                           0.000000\nEVENT_HZ                           0.000000\nEVENT_IC                           0.000000\nEVENT_RA                           0.000000\nEVENT_SN                           0.000000\nEVENT_TS                           0.000000\nRUNWAY_ERROR(PERC)                 1.000000\ny                                  2.000000\nName: 6386798, dtype: float64"
     },
     "execution_count": 7,
     "metadata": {},
     "output_type": "execute_result"
    }
   ],
   "source": [
    "X.loc[X_test.iloc[0].name]"
   ],
   "metadata": {
    "collapsed": false,
    "ExecuteTime": {
     "end_time": "2024-06-17T02:14:14.630745200Z",
     "start_time": "2024-06-17T02:14:14.582775100Z"
    }
   },
   "id": "f7060467b6872e29"
  },
  {
   "cell_type": "code",
   "execution_count": 8,
   "outputs": [
    {
     "data": {
      "text/plain": "DEP_DELAY(MINS)                   77.000000\nCRS_ELAPSED_TIME(MINS)            51.000000\nNR_PREV_ARR_FLIGHTS(1HR)          64.000000\nARR_DAY_SIN                        0.974928\nARR_DAY_COS                       -0.222521\nARR_MIN_OF_DAY_SIN                -0.831470\nARR_MIN_OF_DAY_COS                -0.555570\nAPPROACH_SPEED(KMH)              259.280000\nTAIL_HEIGHT(M)                     6.324600\nPARKING_AREA(SQM)                560.293571\nWINGLETS(YN)                       1.000000\nTEMP(C)                           17.222222\nDEWPOINT_TEMP(C)                  16.111111\nREL_HUMIDITY(PERCENT)             93.180000\nWIND_DRCT(DEG)                    70.000000\nWIND_SPEED(KMH)                   20.372000\n1HOUR_PRECIPITATION(INCH)          0.000000\nSEA_LEVEL_PRESSURE(MILLIBAR)    1012.400000\nVISIBILITY(MILES)                  7.000000\nEVENT_BR                           0.000000\nEVENT_DZ                           0.000000\nEVENT_FG                           0.000000\nEVENT_FU                           0.000000\nEVENT_GR                           0.000000\nEVENT_GS                           0.000000\nEVENT_HZ                           0.000000\nEVENT_IC                           0.000000\nEVENT_RA                           0.000000\nEVENT_SN                           0.000000\nEVENT_TS                           0.000000\nRUNWAY_ERROR(PERC)                 1.000000\ny                                  2.000000\nName: 6386798, dtype: float64"
     },
     "execution_count": 8,
     "metadata": {},
     "output_type": "execute_result"
    }
   ],
   "source": [
    "X_test.iloc[0]"
   ],
   "metadata": {
    "collapsed": false,
    "ExecuteTime": {
     "end_time": "2024-06-17T02:14:14.630745200Z",
     "start_time": "2024-06-17T02:14:14.595766100Z"
    }
   },
   "id": "9a38e6ce70377322"
  },
  {
   "cell_type": "code",
   "execution_count": 9,
   "outputs": [
    {
     "data": {
      "text/plain": "          DEP_DELAY(MINS)  CRS_ELAPSED_TIME(MINS)  NR_PREV_ARR_FLIGHTS(1HR)  \\\n5998106               107                      89                        74   \n9744846                -3                     106                        83   \n8656393                64                      98                        53   \n7404998                -2                     121                        88   \n8855927                15                     132                        74   \n...                   ...                     ...                       ...   \n9980295                -3                     102                        68   \n9983451                -3                     115                        30   \n7026317                54                      86                        75   \n10352441                2                     150                        53   \n6600848                 2                      69                        96   \n\n          ARR_DAY_SIN  ARR_DAY_COS  ARR_MIN_OF_DAY_SIN  ARR_MIN_OF_DAY_COS  \\\n5998106     -0.433884    -0.900969           -0.985556            0.169350   \n9744846      0.433884    -0.900969            0.496217           -0.868199   \n8656393     -0.781831     0.623490           -0.548293           -0.836286   \n7404998     -0.433884    -0.900969           -0.719340            0.694658   \n8855927      0.433884    -0.900969           -0.845728            0.533615   \n...               ...          ...                 ...                 ...   \n9980295     -0.433884    -0.900969            0.731354           -0.681998   \n9983451     -0.433884    -0.900969           -0.342020            0.939693   \n7026317      0.781831     0.623490           -0.816642            0.577145   \n10352441     0.000000     1.000000           -0.980785            0.195090   \n6600848      0.433884    -0.900969            0.594823           -0.803857   \n\n          APPROACH_SPEED(KMH)  TAIL_HEIGHT(M)  PARKING_AREA(SQM)  ...  \\\n5998106               255.576        9.000744        1525.176514  ...   \n9744846               255.576        9.000744        1525.176514  ...   \n8656393               255.576        9.000744        1525.176514  ...   \n7404998               261.132       12.624816        1445.094760  ...   \n8855927               257.428        9.043416        1075.157934  ...   \n...                       ...             ...                ...  ...   \n9980295               264.836       13.639800        2071.070234  ...   \n9983451               261.132       12.624816        1445.094760  ...   \n7026317               255.576        9.000744        1525.176514  ...   \n10352441              261.132       12.624816        1445.094760  ...   \n6600848               255.576        9.000744        1525.176514  ...   \n\n          EVENT_FU  EVENT_GR  EVENT_GS  EVENT_HZ  EVENT_IC  EVENT_RA  \\\n5998106          0         0         0         0         0         0   \n9744846          2         0         0         0         0         0   \n8656393          0         0         0         0         0         3   \n7404998          0         0         0         0         0         0   \n8855927          0         0         0         0         0         0   \n...            ...       ...       ...       ...       ...       ...   \n9980295          0         0         0         0         0         0   \n9983451          0         0         0         0         0         0   \n7026317          0         0         0         0         0         0   \n10352441         0         0         0         0         0         0   \n6600848          0         0         0         0         0         0   \n\n          EVENT_SN  EVENT_TS  RUNWAY_ERROR(PERC)  y  \n5998106          0         0                 0.4  2  \n9744846          0         0                 0.8  1  \n8656393          0         2                 0.4  2  \n7404998          0         0                 0.8  0  \n8855927          2         0                 0.6  2  \n...            ...       ...                 ... ..  \n9980295          0         0                 0.8  1  \n9983451          0         0                 0.6  1  \n7026317          0         0                 0.6  2  \n10352441         0         0                 0.4  1  \n6600848          0         0                 0.8  0  \n\n[329005 rows x 32 columns]",
      "text/html": "<div>\n<style scoped>\n    .dataframe tbody tr th:only-of-type {\n        vertical-align: middle;\n    }\n\n    .dataframe tbody tr th {\n        vertical-align: top;\n    }\n\n    .dataframe thead th {\n        text-align: right;\n    }\n</style>\n<table border=\"1\" class=\"dataframe\">\n  <thead>\n    <tr style=\"text-align: right;\">\n      <th></th>\n      <th>DEP_DELAY(MINS)</th>\n      <th>CRS_ELAPSED_TIME(MINS)</th>\n      <th>NR_PREV_ARR_FLIGHTS(1HR)</th>\n      <th>ARR_DAY_SIN</th>\n      <th>ARR_DAY_COS</th>\n      <th>ARR_MIN_OF_DAY_SIN</th>\n      <th>ARR_MIN_OF_DAY_COS</th>\n      <th>APPROACH_SPEED(KMH)</th>\n      <th>TAIL_HEIGHT(M)</th>\n      <th>PARKING_AREA(SQM)</th>\n      <th>...</th>\n      <th>EVENT_FU</th>\n      <th>EVENT_GR</th>\n      <th>EVENT_GS</th>\n      <th>EVENT_HZ</th>\n      <th>EVENT_IC</th>\n      <th>EVENT_RA</th>\n      <th>EVENT_SN</th>\n      <th>EVENT_TS</th>\n      <th>RUNWAY_ERROR(PERC)</th>\n      <th>y</th>\n    </tr>\n  </thead>\n  <tbody>\n    <tr>\n      <th>5998106</th>\n      <td>107</td>\n      <td>89</td>\n      <td>74</td>\n      <td>-0.433884</td>\n      <td>-0.900969</td>\n      <td>-0.985556</td>\n      <td>0.169350</td>\n      <td>255.576</td>\n      <td>9.000744</td>\n      <td>1525.176514</td>\n      <td>...</td>\n      <td>0</td>\n      <td>0</td>\n      <td>0</td>\n      <td>0</td>\n      <td>0</td>\n      <td>0</td>\n      <td>0</td>\n      <td>0</td>\n      <td>0.4</td>\n      <td>2</td>\n    </tr>\n    <tr>\n      <th>9744846</th>\n      <td>-3</td>\n      <td>106</td>\n      <td>83</td>\n      <td>0.433884</td>\n      <td>-0.900969</td>\n      <td>0.496217</td>\n      <td>-0.868199</td>\n      <td>255.576</td>\n      <td>9.000744</td>\n      <td>1525.176514</td>\n      <td>...</td>\n      <td>2</td>\n      <td>0</td>\n      <td>0</td>\n      <td>0</td>\n      <td>0</td>\n      <td>0</td>\n      <td>0</td>\n      <td>0</td>\n      <td>0.8</td>\n      <td>1</td>\n    </tr>\n    <tr>\n      <th>8656393</th>\n      <td>64</td>\n      <td>98</td>\n      <td>53</td>\n      <td>-0.781831</td>\n      <td>0.623490</td>\n      <td>-0.548293</td>\n      <td>-0.836286</td>\n      <td>255.576</td>\n      <td>9.000744</td>\n      <td>1525.176514</td>\n      <td>...</td>\n      <td>0</td>\n      <td>0</td>\n      <td>0</td>\n      <td>0</td>\n      <td>0</td>\n      <td>3</td>\n      <td>0</td>\n      <td>2</td>\n      <td>0.4</td>\n      <td>2</td>\n    </tr>\n    <tr>\n      <th>7404998</th>\n      <td>-2</td>\n      <td>121</td>\n      <td>88</td>\n      <td>-0.433884</td>\n      <td>-0.900969</td>\n      <td>-0.719340</td>\n      <td>0.694658</td>\n      <td>261.132</td>\n      <td>12.624816</td>\n      <td>1445.094760</td>\n      <td>...</td>\n      <td>0</td>\n      <td>0</td>\n      <td>0</td>\n      <td>0</td>\n      <td>0</td>\n      <td>0</td>\n      <td>0</td>\n      <td>0</td>\n      <td>0.8</td>\n      <td>0</td>\n    </tr>\n    <tr>\n      <th>8855927</th>\n      <td>15</td>\n      <td>132</td>\n      <td>74</td>\n      <td>0.433884</td>\n      <td>-0.900969</td>\n      <td>-0.845728</td>\n      <td>0.533615</td>\n      <td>257.428</td>\n      <td>9.043416</td>\n      <td>1075.157934</td>\n      <td>...</td>\n      <td>0</td>\n      <td>0</td>\n      <td>0</td>\n      <td>0</td>\n      <td>0</td>\n      <td>0</td>\n      <td>2</td>\n      <td>0</td>\n      <td>0.6</td>\n      <td>2</td>\n    </tr>\n    <tr>\n      <th>...</th>\n      <td>...</td>\n      <td>...</td>\n      <td>...</td>\n      <td>...</td>\n      <td>...</td>\n      <td>...</td>\n      <td>...</td>\n      <td>...</td>\n      <td>...</td>\n      <td>...</td>\n      <td>...</td>\n      <td>...</td>\n      <td>...</td>\n      <td>...</td>\n      <td>...</td>\n      <td>...</td>\n      <td>...</td>\n      <td>...</td>\n      <td>...</td>\n      <td>...</td>\n      <td>...</td>\n    </tr>\n    <tr>\n      <th>9980295</th>\n      <td>-3</td>\n      <td>102</td>\n      <td>68</td>\n      <td>-0.433884</td>\n      <td>-0.900969</td>\n      <td>0.731354</td>\n      <td>-0.681998</td>\n      <td>264.836</td>\n      <td>13.639800</td>\n      <td>2071.070234</td>\n      <td>...</td>\n      <td>0</td>\n      <td>0</td>\n      <td>0</td>\n      <td>0</td>\n      <td>0</td>\n      <td>0</td>\n      <td>0</td>\n      <td>0</td>\n      <td>0.8</td>\n      <td>1</td>\n    </tr>\n    <tr>\n      <th>9983451</th>\n      <td>-3</td>\n      <td>115</td>\n      <td>30</td>\n      <td>-0.433884</td>\n      <td>-0.900969</td>\n      <td>-0.342020</td>\n      <td>0.939693</td>\n      <td>261.132</td>\n      <td>12.624816</td>\n      <td>1445.094760</td>\n      <td>...</td>\n      <td>0</td>\n      <td>0</td>\n      <td>0</td>\n      <td>0</td>\n      <td>0</td>\n      <td>0</td>\n      <td>0</td>\n      <td>0</td>\n      <td>0.6</td>\n      <td>1</td>\n    </tr>\n    <tr>\n      <th>7026317</th>\n      <td>54</td>\n      <td>86</td>\n      <td>75</td>\n      <td>0.781831</td>\n      <td>0.623490</td>\n      <td>-0.816642</td>\n      <td>0.577145</td>\n      <td>255.576</td>\n      <td>9.000744</td>\n      <td>1525.176514</td>\n      <td>...</td>\n      <td>0</td>\n      <td>0</td>\n      <td>0</td>\n      <td>0</td>\n      <td>0</td>\n      <td>0</td>\n      <td>0</td>\n      <td>0</td>\n      <td>0.6</td>\n      <td>2</td>\n    </tr>\n    <tr>\n      <th>10352441</th>\n      <td>2</td>\n      <td>150</td>\n      <td>53</td>\n      <td>0.000000</td>\n      <td>1.000000</td>\n      <td>-0.980785</td>\n      <td>0.195090</td>\n      <td>261.132</td>\n      <td>12.624816</td>\n      <td>1445.094760</td>\n      <td>...</td>\n      <td>0</td>\n      <td>0</td>\n      <td>0</td>\n      <td>0</td>\n      <td>0</td>\n      <td>0</td>\n      <td>0</td>\n      <td>0</td>\n      <td>0.4</td>\n      <td>1</td>\n    </tr>\n    <tr>\n      <th>6600848</th>\n      <td>2</td>\n      <td>69</td>\n      <td>96</td>\n      <td>0.433884</td>\n      <td>-0.900969</td>\n      <td>0.594823</td>\n      <td>-0.803857</td>\n      <td>255.576</td>\n      <td>9.000744</td>\n      <td>1525.176514</td>\n      <td>...</td>\n      <td>0</td>\n      <td>0</td>\n      <td>0</td>\n      <td>0</td>\n      <td>0</td>\n      <td>0</td>\n      <td>0</td>\n      <td>0</td>\n      <td>0.8</td>\n      <td>0</td>\n    </tr>\n  </tbody>\n</table>\n<p>329005 rows × 32 columns</p>\n</div>"
     },
     "execution_count": 9,
     "metadata": {},
     "output_type": "execute_result"
    }
   ],
   "source": [
    "X"
   ],
   "metadata": {
    "collapsed": false,
    "ExecuteTime": {
     "end_time": "2024-06-17T02:14:14.724694600Z",
     "start_time": "2024-06-17T02:14:14.611756Z"
    }
   },
   "id": "33044d5921f10df0"
  },
  {
   "cell_type": "markdown",
   "source": [
    "Merging data completed. Now apply transformations. "
   ],
   "metadata": {
    "collapsed": false
   },
   "id": "62dd8576c16fe37f"
  },
  {
   "cell_type": "code",
   "execution_count": 10,
   "outputs": [
    {
     "data": {
      "text/plain": "count    329005.000000\nmean          8.327354\nstd          48.228055\nmin        -188.000000\n25%          -5.000000\n50%          -2.000000\n75%           3.000000\nmax        1816.000000\nName: DEP_DELAY(MINS), dtype: float64"
     },
     "execution_count": 10,
     "metadata": {},
     "output_type": "execute_result"
    }
   ],
   "source": [
    "X.describe()[\"DEP_DELAY(MINS)\"]"
   ],
   "metadata": {
    "collapsed": false,
    "ExecuteTime": {
     "end_time": "2024-06-17T02:14:15.229421400Z",
     "start_time": "2024-06-17T02:14:14.725693100Z"
    }
   },
   "id": "9d638f6c5fca81ab"
  },
  {
   "cell_type": "code",
   "execution_count": 11,
   "outputs": [
    {
     "data": {
      "text/plain": "count    313511.000000\nmean          0.741770\nstd          11.394003\nmin         -38.000000\n25%          -5.000000\n50%          -3.000000\n75%           1.000000\nmax          59.000000\nName: DEP_DELAY(MINS), dtype: float64"
     },
     "execution_count": 11,
     "metadata": {},
     "output_type": "execute_result"
    }
   ],
   "source": [
    "X[(X[\"DEP_DELAY(MINS)\"] > -60) & (X[\"DEP_DELAY(MINS)\"] < 60)].describe()[\"DEP_DELAY(MINS)\"]"
   ],
   "metadata": {
    "collapsed": false,
    "ExecuteTime": {
     "end_time": "2024-06-17T02:14:15.722704600Z",
     "start_time": "2024-06-17T02:14:15.231402600Z"
    }
   },
   "id": "2a2f3c688399e970"
  },
  {
   "cell_type": "code",
   "execution_count": 12,
   "outputs": [
    {
     "data": {
      "text/plain": "          DEP_DELAY(MINS)  CRS_ELAPSED_TIME(MINS)  NR_PREV_ARR_FLIGHTS(1HR)  \\\n9744846                -3                     106                        83   \n7404998                -2                     121                        88   \n8855927                15                     132                        74   \n6162768                 7                      79                        77   \n7748203                -2                     106                        62   \n...                   ...                     ...                       ...   \n9980295                -3                     102                        68   \n9983451                -3                     115                        30   \n7026317                54                      86                        75   \n10352441                2                     150                        53   \n6600848                 2                      69                        96   \n\n          ARR_DAY_SIN  ARR_DAY_COS  ARR_MIN_OF_DAY_SIN  ARR_MIN_OF_DAY_COS  \\\n9744846      0.433884    -0.900969            0.496217           -0.868199   \n7404998     -0.433884    -0.900969           -0.719340            0.694658   \n8855927      0.433884    -0.900969           -0.845728            0.533615   \n6162768      0.781831     0.623490           -0.977231            0.212178   \n7748203     -0.974928    -0.222521           -0.710185           -0.704015   \n...               ...          ...                 ...                 ...   \n9980295     -0.433884    -0.900969            0.731354           -0.681998   \n9983451     -0.433884    -0.900969           -0.342020            0.939693   \n7026317      0.781831     0.623490           -0.816642            0.577145   \n10352441     0.000000     1.000000           -0.980785            0.195090   \n6600848      0.433884    -0.900969            0.594823           -0.803857   \n\n          APPROACH_SPEED(KMH)  TAIL_HEIGHT(M)  PARKING_AREA(SQM)  ...  \\\n9744846               255.576        9.000744        1525.176514  ...   \n7404998               261.132       12.624816        1445.094760  ...   \n8855927               257.428        9.043416        1075.157934  ...   \n6162768               257.428        9.043416        1075.157934  ...   \n7748203               257.428        9.043416        1075.157934  ...   \n...                       ...             ...                ...  ...   \n9980295               264.836       13.639800        2071.070234  ...   \n9983451               261.132       12.624816        1445.094760  ...   \n7026317               255.576        9.000744        1525.176514  ...   \n10352441              261.132       12.624816        1445.094760  ...   \n6600848               255.576        9.000744        1525.176514  ...   \n\n          EVENT_FU  EVENT_GR  EVENT_GS  EVENT_HZ  EVENT_IC  EVENT_RA  \\\n9744846          2         0         0         0         0         0   \n7404998          0         0         0         0         0         0   \n8855927          0         0         0         0         0         0   \n6162768          0         0         0         0         0         0   \n7748203          0         0         0         0         0         0   \n...            ...       ...       ...       ...       ...       ...   \n9980295          0         0         0         0         0         0   \n9983451          0         0         0         0         0         0   \n7026317          0         0         0         0         0         0   \n10352441         0         0         0         0         0         0   \n6600848          0         0         0         0         0         0   \n\n          EVENT_SN  EVENT_TS  RUNWAY_ERROR(PERC)  y  \n9744846          0         0                 0.8  1  \n7404998          0         0                 0.8  0  \n8855927          2         0                 0.6  2  \n6162768          0         0                 0.4  1  \n7748203          0         0                 0.8  0  \n...            ...       ...                 ... ..  \n9980295          0         0                 0.8  1  \n9983451          0         0                 0.6  1  \n7026317          0         0                 0.6  2  \n10352441         0         0                 0.4  1  \n6600848          0         0                 0.8  0  \n\n[313511 rows x 32 columns]",
      "text/html": "<div>\n<style scoped>\n    .dataframe tbody tr th:only-of-type {\n        vertical-align: middle;\n    }\n\n    .dataframe tbody tr th {\n        vertical-align: top;\n    }\n\n    .dataframe thead th {\n        text-align: right;\n    }\n</style>\n<table border=\"1\" class=\"dataframe\">\n  <thead>\n    <tr style=\"text-align: right;\">\n      <th></th>\n      <th>DEP_DELAY(MINS)</th>\n      <th>CRS_ELAPSED_TIME(MINS)</th>\n      <th>NR_PREV_ARR_FLIGHTS(1HR)</th>\n      <th>ARR_DAY_SIN</th>\n      <th>ARR_DAY_COS</th>\n      <th>ARR_MIN_OF_DAY_SIN</th>\n      <th>ARR_MIN_OF_DAY_COS</th>\n      <th>APPROACH_SPEED(KMH)</th>\n      <th>TAIL_HEIGHT(M)</th>\n      <th>PARKING_AREA(SQM)</th>\n      <th>...</th>\n      <th>EVENT_FU</th>\n      <th>EVENT_GR</th>\n      <th>EVENT_GS</th>\n      <th>EVENT_HZ</th>\n      <th>EVENT_IC</th>\n      <th>EVENT_RA</th>\n      <th>EVENT_SN</th>\n      <th>EVENT_TS</th>\n      <th>RUNWAY_ERROR(PERC)</th>\n      <th>y</th>\n    </tr>\n  </thead>\n  <tbody>\n    <tr>\n      <th>9744846</th>\n      <td>-3</td>\n      <td>106</td>\n      <td>83</td>\n      <td>0.433884</td>\n      <td>-0.900969</td>\n      <td>0.496217</td>\n      <td>-0.868199</td>\n      <td>255.576</td>\n      <td>9.000744</td>\n      <td>1525.176514</td>\n      <td>...</td>\n      <td>2</td>\n      <td>0</td>\n      <td>0</td>\n      <td>0</td>\n      <td>0</td>\n      <td>0</td>\n      <td>0</td>\n      <td>0</td>\n      <td>0.8</td>\n      <td>1</td>\n    </tr>\n    <tr>\n      <th>7404998</th>\n      <td>-2</td>\n      <td>121</td>\n      <td>88</td>\n      <td>-0.433884</td>\n      <td>-0.900969</td>\n      <td>-0.719340</td>\n      <td>0.694658</td>\n      <td>261.132</td>\n      <td>12.624816</td>\n      <td>1445.094760</td>\n      <td>...</td>\n      <td>0</td>\n      <td>0</td>\n      <td>0</td>\n      <td>0</td>\n      <td>0</td>\n      <td>0</td>\n      <td>0</td>\n      <td>0</td>\n      <td>0.8</td>\n      <td>0</td>\n    </tr>\n    <tr>\n      <th>8855927</th>\n      <td>15</td>\n      <td>132</td>\n      <td>74</td>\n      <td>0.433884</td>\n      <td>-0.900969</td>\n      <td>-0.845728</td>\n      <td>0.533615</td>\n      <td>257.428</td>\n      <td>9.043416</td>\n      <td>1075.157934</td>\n      <td>...</td>\n      <td>0</td>\n      <td>0</td>\n      <td>0</td>\n      <td>0</td>\n      <td>0</td>\n      <td>0</td>\n      <td>2</td>\n      <td>0</td>\n      <td>0.6</td>\n      <td>2</td>\n    </tr>\n    <tr>\n      <th>6162768</th>\n      <td>7</td>\n      <td>79</td>\n      <td>77</td>\n      <td>0.781831</td>\n      <td>0.623490</td>\n      <td>-0.977231</td>\n      <td>0.212178</td>\n      <td>257.428</td>\n      <td>9.043416</td>\n      <td>1075.157934</td>\n      <td>...</td>\n      <td>0</td>\n      <td>0</td>\n      <td>0</td>\n      <td>0</td>\n      <td>0</td>\n      <td>0</td>\n      <td>0</td>\n      <td>0</td>\n      <td>0.4</td>\n      <td>1</td>\n    </tr>\n    <tr>\n      <th>7748203</th>\n      <td>-2</td>\n      <td>106</td>\n      <td>62</td>\n      <td>-0.974928</td>\n      <td>-0.222521</td>\n      <td>-0.710185</td>\n      <td>-0.704015</td>\n      <td>257.428</td>\n      <td>9.043416</td>\n      <td>1075.157934</td>\n      <td>...</td>\n      <td>0</td>\n      <td>0</td>\n      <td>0</td>\n      <td>0</td>\n      <td>0</td>\n      <td>0</td>\n      <td>0</td>\n      <td>0</td>\n      <td>0.8</td>\n      <td>0</td>\n    </tr>\n    <tr>\n      <th>...</th>\n      <td>...</td>\n      <td>...</td>\n      <td>...</td>\n      <td>...</td>\n      <td>...</td>\n      <td>...</td>\n      <td>...</td>\n      <td>...</td>\n      <td>...</td>\n      <td>...</td>\n      <td>...</td>\n      <td>...</td>\n      <td>...</td>\n      <td>...</td>\n      <td>...</td>\n      <td>...</td>\n      <td>...</td>\n      <td>...</td>\n      <td>...</td>\n      <td>...</td>\n      <td>...</td>\n    </tr>\n    <tr>\n      <th>9980295</th>\n      <td>-3</td>\n      <td>102</td>\n      <td>68</td>\n      <td>-0.433884</td>\n      <td>-0.900969</td>\n      <td>0.731354</td>\n      <td>-0.681998</td>\n      <td>264.836</td>\n      <td>13.639800</td>\n      <td>2071.070234</td>\n      <td>...</td>\n      <td>0</td>\n      <td>0</td>\n      <td>0</td>\n      <td>0</td>\n      <td>0</td>\n      <td>0</td>\n      <td>0</td>\n      <td>0</td>\n      <td>0.8</td>\n      <td>1</td>\n    </tr>\n    <tr>\n      <th>9983451</th>\n      <td>-3</td>\n      <td>115</td>\n      <td>30</td>\n      <td>-0.433884</td>\n      <td>-0.900969</td>\n      <td>-0.342020</td>\n      <td>0.939693</td>\n      <td>261.132</td>\n      <td>12.624816</td>\n      <td>1445.094760</td>\n      <td>...</td>\n      <td>0</td>\n      <td>0</td>\n      <td>0</td>\n      <td>0</td>\n      <td>0</td>\n      <td>0</td>\n      <td>0</td>\n      <td>0</td>\n      <td>0.6</td>\n      <td>1</td>\n    </tr>\n    <tr>\n      <th>7026317</th>\n      <td>54</td>\n      <td>86</td>\n      <td>75</td>\n      <td>0.781831</td>\n      <td>0.623490</td>\n      <td>-0.816642</td>\n      <td>0.577145</td>\n      <td>255.576</td>\n      <td>9.000744</td>\n      <td>1525.176514</td>\n      <td>...</td>\n      <td>0</td>\n      <td>0</td>\n      <td>0</td>\n      <td>0</td>\n      <td>0</td>\n      <td>0</td>\n      <td>0</td>\n      <td>0</td>\n      <td>0.6</td>\n      <td>2</td>\n    </tr>\n    <tr>\n      <th>10352441</th>\n      <td>2</td>\n      <td>150</td>\n      <td>53</td>\n      <td>0.000000</td>\n      <td>1.000000</td>\n      <td>-0.980785</td>\n      <td>0.195090</td>\n      <td>261.132</td>\n      <td>12.624816</td>\n      <td>1445.094760</td>\n      <td>...</td>\n      <td>0</td>\n      <td>0</td>\n      <td>0</td>\n      <td>0</td>\n      <td>0</td>\n      <td>0</td>\n      <td>0</td>\n      <td>0</td>\n      <td>0.4</td>\n      <td>1</td>\n    </tr>\n    <tr>\n      <th>6600848</th>\n      <td>2</td>\n      <td>69</td>\n      <td>96</td>\n      <td>0.433884</td>\n      <td>-0.900969</td>\n      <td>0.594823</td>\n      <td>-0.803857</td>\n      <td>255.576</td>\n      <td>9.000744</td>\n      <td>1525.176514</td>\n      <td>...</td>\n      <td>0</td>\n      <td>0</td>\n      <td>0</td>\n      <td>0</td>\n      <td>0</td>\n      <td>0</td>\n      <td>0</td>\n      <td>0</td>\n      <td>0.8</td>\n      <td>0</td>\n    </tr>\n  </tbody>\n</table>\n<p>313511 rows × 32 columns</p>\n</div>"
     },
     "execution_count": 12,
     "metadata": {},
     "output_type": "execute_result"
    }
   ],
   "source": [
    "X_new = X[(X[\"DEP_DELAY(MINS)\"] > -60) & (X[\"DEP_DELAY(MINS)\"] < 60)]\n",
    "X_new "
   ],
   "metadata": {
    "collapsed": false,
    "ExecuteTime": {
     "end_time": "2024-06-17T02:14:15.880614400Z",
     "start_time": "2024-06-17T02:14:15.725703200Z"
    }
   },
   "id": "dbeb88e37a6d5689"
  },
  {
   "cell_type": "code",
   "execution_count": 13,
   "outputs": [
    {
     "data": {
      "text/plain": "          DEP_DELAY(MINS)  CRS_ELAPSED_TIME(MINS)  NR_PREV_ARR_FLIGHTS(1HR)  \\\n9744846                -3                     106                        83   \n7404998                -2                     121                        88   \n8855927                15                     132                        74   \n6162768                 7                      79                        77   \n7748203                -2                     106                        62   \n...                   ...                     ...                       ...   \n9980295                -3                     102                        68   \n9983451                -3                     115                        30   \n7026317                54                      86                        75   \n10352441                2                     150                        53   \n6600848                 2                      69                        96   \n\n          ARR_DAY_SIN  ARR_DAY_COS  ARR_MIN_OF_DAY_SIN  ARR_MIN_OF_DAY_COS  \\\n9744846      0.433884    -0.900969            0.496217           -0.868199   \n7404998     -0.433884    -0.900969           -0.719340            0.694658   \n8855927      0.433884    -0.900969           -0.845728            0.533615   \n6162768      0.781831     0.623490           -0.977231            0.212178   \n7748203     -0.974928    -0.222521           -0.710185           -0.704015   \n...               ...          ...                 ...                 ...   \n9980295     -0.433884    -0.900969            0.731354           -0.681998   \n9983451     -0.433884    -0.900969           -0.342020            0.939693   \n7026317      0.781831     0.623490           -0.816642            0.577145   \n10352441     0.000000     1.000000           -0.980785            0.195090   \n6600848      0.433884    -0.900969            0.594823           -0.803857   \n\n          APPROACH_SPEED(KMH)  TAIL_HEIGHT(M)  PARKING_AREA(SQM)  ...  \\\n9744846               255.576        9.000744        1525.176514  ...   \n7404998               261.132       12.624816        1445.094760  ...   \n8855927               257.428        9.043416        1075.157934  ...   \n6162768               257.428        9.043416        1075.157934  ...   \n7748203               257.428        9.043416        1075.157934  ...   \n...                       ...             ...                ...  ...   \n9980295               264.836       13.639800        2071.070234  ...   \n9983451               261.132       12.624816        1445.094760  ...   \n7026317               255.576        9.000744        1525.176514  ...   \n10352441              261.132       12.624816        1445.094760  ...   \n6600848               255.576        9.000744        1525.176514  ...   \n\n          EVENT_FG  EVENT_FU  EVENT_GR  EVENT_GS  EVENT_HZ  EVENT_IC  \\\n9744846          0         2         0         0         0         0   \n7404998          0         0         0         0         0         0   \n8855927          0         0         0         0         0         0   \n6162768          0         0         0         0         0         0   \n7748203          0         0         0         0         0         0   \n...            ...       ...       ...       ...       ...       ...   \n9980295          0         0         0         0         0         0   \n9983451          0         0         0         0         0         0   \n7026317          0         0         0         0         0         0   \n10352441         0         0         0         0         0         0   \n6600848          0         0         0         0         0         0   \n\n          EVENT_RA  EVENT_SN  EVENT_TS  RUNWAY_ERROR(PERC)  \n9744846          0         0         0                 0.8  \n7404998          0         0         0                 0.8  \n8855927          0         2         0                 0.6  \n6162768          0         0         0                 0.4  \n7748203          0         0         0                 0.8  \n...            ...       ...       ...                 ...  \n9980295          0         0         0                 0.8  \n9983451          0         0         0                 0.6  \n7026317          0         0         0                 0.6  \n10352441         0         0         0                 0.4  \n6600848          0         0         0                 0.8  \n\n[313511 rows x 31 columns]",
      "text/html": "<div>\n<style scoped>\n    .dataframe tbody tr th:only-of-type {\n        vertical-align: middle;\n    }\n\n    .dataframe tbody tr th {\n        vertical-align: top;\n    }\n\n    .dataframe thead th {\n        text-align: right;\n    }\n</style>\n<table border=\"1\" class=\"dataframe\">\n  <thead>\n    <tr style=\"text-align: right;\">\n      <th></th>\n      <th>DEP_DELAY(MINS)</th>\n      <th>CRS_ELAPSED_TIME(MINS)</th>\n      <th>NR_PREV_ARR_FLIGHTS(1HR)</th>\n      <th>ARR_DAY_SIN</th>\n      <th>ARR_DAY_COS</th>\n      <th>ARR_MIN_OF_DAY_SIN</th>\n      <th>ARR_MIN_OF_DAY_COS</th>\n      <th>APPROACH_SPEED(KMH)</th>\n      <th>TAIL_HEIGHT(M)</th>\n      <th>PARKING_AREA(SQM)</th>\n      <th>...</th>\n      <th>EVENT_FG</th>\n      <th>EVENT_FU</th>\n      <th>EVENT_GR</th>\n      <th>EVENT_GS</th>\n      <th>EVENT_HZ</th>\n      <th>EVENT_IC</th>\n      <th>EVENT_RA</th>\n      <th>EVENT_SN</th>\n      <th>EVENT_TS</th>\n      <th>RUNWAY_ERROR(PERC)</th>\n    </tr>\n  </thead>\n  <tbody>\n    <tr>\n      <th>9744846</th>\n      <td>-3</td>\n      <td>106</td>\n      <td>83</td>\n      <td>0.433884</td>\n      <td>-0.900969</td>\n      <td>0.496217</td>\n      <td>-0.868199</td>\n      <td>255.576</td>\n      <td>9.000744</td>\n      <td>1525.176514</td>\n      <td>...</td>\n      <td>0</td>\n      <td>2</td>\n      <td>0</td>\n      <td>0</td>\n      <td>0</td>\n      <td>0</td>\n      <td>0</td>\n      <td>0</td>\n      <td>0</td>\n      <td>0.8</td>\n    </tr>\n    <tr>\n      <th>7404998</th>\n      <td>-2</td>\n      <td>121</td>\n      <td>88</td>\n      <td>-0.433884</td>\n      <td>-0.900969</td>\n      <td>-0.719340</td>\n      <td>0.694658</td>\n      <td>261.132</td>\n      <td>12.624816</td>\n      <td>1445.094760</td>\n      <td>...</td>\n      <td>0</td>\n      <td>0</td>\n      <td>0</td>\n      <td>0</td>\n      <td>0</td>\n      <td>0</td>\n      <td>0</td>\n      <td>0</td>\n      <td>0</td>\n      <td>0.8</td>\n    </tr>\n    <tr>\n      <th>8855927</th>\n      <td>15</td>\n      <td>132</td>\n      <td>74</td>\n      <td>0.433884</td>\n      <td>-0.900969</td>\n      <td>-0.845728</td>\n      <td>0.533615</td>\n      <td>257.428</td>\n      <td>9.043416</td>\n      <td>1075.157934</td>\n      <td>...</td>\n      <td>0</td>\n      <td>0</td>\n      <td>0</td>\n      <td>0</td>\n      <td>0</td>\n      <td>0</td>\n      <td>0</td>\n      <td>2</td>\n      <td>0</td>\n      <td>0.6</td>\n    </tr>\n    <tr>\n      <th>6162768</th>\n      <td>7</td>\n      <td>79</td>\n      <td>77</td>\n      <td>0.781831</td>\n      <td>0.623490</td>\n      <td>-0.977231</td>\n      <td>0.212178</td>\n      <td>257.428</td>\n      <td>9.043416</td>\n      <td>1075.157934</td>\n      <td>...</td>\n      <td>0</td>\n      <td>0</td>\n      <td>0</td>\n      <td>0</td>\n      <td>0</td>\n      <td>0</td>\n      <td>0</td>\n      <td>0</td>\n      <td>0</td>\n      <td>0.4</td>\n    </tr>\n    <tr>\n      <th>7748203</th>\n      <td>-2</td>\n      <td>106</td>\n      <td>62</td>\n      <td>-0.974928</td>\n      <td>-0.222521</td>\n      <td>-0.710185</td>\n      <td>-0.704015</td>\n      <td>257.428</td>\n      <td>9.043416</td>\n      <td>1075.157934</td>\n      <td>...</td>\n      <td>0</td>\n      <td>0</td>\n      <td>0</td>\n      <td>0</td>\n      <td>0</td>\n      <td>0</td>\n      <td>0</td>\n      <td>0</td>\n      <td>0</td>\n      <td>0.8</td>\n    </tr>\n    <tr>\n      <th>...</th>\n      <td>...</td>\n      <td>...</td>\n      <td>...</td>\n      <td>...</td>\n      <td>...</td>\n      <td>...</td>\n      <td>...</td>\n      <td>...</td>\n      <td>...</td>\n      <td>...</td>\n      <td>...</td>\n      <td>...</td>\n      <td>...</td>\n      <td>...</td>\n      <td>...</td>\n      <td>...</td>\n      <td>...</td>\n      <td>...</td>\n      <td>...</td>\n      <td>...</td>\n      <td>...</td>\n    </tr>\n    <tr>\n      <th>9980295</th>\n      <td>-3</td>\n      <td>102</td>\n      <td>68</td>\n      <td>-0.433884</td>\n      <td>-0.900969</td>\n      <td>0.731354</td>\n      <td>-0.681998</td>\n      <td>264.836</td>\n      <td>13.639800</td>\n      <td>2071.070234</td>\n      <td>...</td>\n      <td>0</td>\n      <td>0</td>\n      <td>0</td>\n      <td>0</td>\n      <td>0</td>\n      <td>0</td>\n      <td>0</td>\n      <td>0</td>\n      <td>0</td>\n      <td>0.8</td>\n    </tr>\n    <tr>\n      <th>9983451</th>\n      <td>-3</td>\n      <td>115</td>\n      <td>30</td>\n      <td>-0.433884</td>\n      <td>-0.900969</td>\n      <td>-0.342020</td>\n      <td>0.939693</td>\n      <td>261.132</td>\n      <td>12.624816</td>\n      <td>1445.094760</td>\n      <td>...</td>\n      <td>0</td>\n      <td>0</td>\n      <td>0</td>\n      <td>0</td>\n      <td>0</td>\n      <td>0</td>\n      <td>0</td>\n      <td>0</td>\n      <td>0</td>\n      <td>0.6</td>\n    </tr>\n    <tr>\n      <th>7026317</th>\n      <td>54</td>\n      <td>86</td>\n      <td>75</td>\n      <td>0.781831</td>\n      <td>0.623490</td>\n      <td>-0.816642</td>\n      <td>0.577145</td>\n      <td>255.576</td>\n      <td>9.000744</td>\n      <td>1525.176514</td>\n      <td>...</td>\n      <td>0</td>\n      <td>0</td>\n      <td>0</td>\n      <td>0</td>\n      <td>0</td>\n      <td>0</td>\n      <td>0</td>\n      <td>0</td>\n      <td>0</td>\n      <td>0.6</td>\n    </tr>\n    <tr>\n      <th>10352441</th>\n      <td>2</td>\n      <td>150</td>\n      <td>53</td>\n      <td>0.000000</td>\n      <td>1.000000</td>\n      <td>-0.980785</td>\n      <td>0.195090</td>\n      <td>261.132</td>\n      <td>12.624816</td>\n      <td>1445.094760</td>\n      <td>...</td>\n      <td>0</td>\n      <td>0</td>\n      <td>0</td>\n      <td>0</td>\n      <td>0</td>\n      <td>0</td>\n      <td>0</td>\n      <td>0</td>\n      <td>0</td>\n      <td>0.4</td>\n    </tr>\n    <tr>\n      <th>6600848</th>\n      <td>2</td>\n      <td>69</td>\n      <td>96</td>\n      <td>0.433884</td>\n      <td>-0.900969</td>\n      <td>0.594823</td>\n      <td>-0.803857</td>\n      <td>255.576</td>\n      <td>9.000744</td>\n      <td>1525.176514</td>\n      <td>...</td>\n      <td>0</td>\n      <td>0</td>\n      <td>0</td>\n      <td>0</td>\n      <td>0</td>\n      <td>0</td>\n      <td>0</td>\n      <td>0</td>\n      <td>0</td>\n      <td>0.8</td>\n    </tr>\n  </tbody>\n</table>\n<p>313511 rows × 31 columns</p>\n</div>"
     },
     "execution_count": 13,
     "metadata": {},
     "output_type": "execute_result"
    }
   ],
   "source": [
    "X = X_new[X_new.columns[:-1]]\n",
    "y = X_new[X_new.columns[-1:]]\n",
    "\n",
    "X"
   ],
   "metadata": {
    "collapsed": false,
    "ExecuteTime": {
     "end_time": "2024-06-17T02:14:16.021535100Z",
     "start_time": "2024-06-17T02:14:15.883613100Z"
    }
   },
   "id": "4073bcd742ebace"
  },
  {
   "cell_type": "code",
   "execution_count": 14,
   "outputs": [
    {
     "data": {
      "text/plain": "          y\n9744846   1\n7404998   0\n8855927   2\n6162768   1\n7748203   0\n...      ..\n9980295   1\n9983451   1\n7026317   2\n10352441  1\n6600848   0\n\n[313511 rows x 1 columns]",
      "text/html": "<div>\n<style scoped>\n    .dataframe tbody tr th:only-of-type {\n        vertical-align: middle;\n    }\n\n    .dataframe tbody tr th {\n        vertical-align: top;\n    }\n\n    .dataframe thead th {\n        text-align: right;\n    }\n</style>\n<table border=\"1\" class=\"dataframe\">\n  <thead>\n    <tr style=\"text-align: right;\">\n      <th></th>\n      <th>y</th>\n    </tr>\n  </thead>\n  <tbody>\n    <tr>\n      <th>9744846</th>\n      <td>1</td>\n    </tr>\n    <tr>\n      <th>7404998</th>\n      <td>0</td>\n    </tr>\n    <tr>\n      <th>8855927</th>\n      <td>2</td>\n    </tr>\n    <tr>\n      <th>6162768</th>\n      <td>1</td>\n    </tr>\n    <tr>\n      <th>7748203</th>\n      <td>0</td>\n    </tr>\n    <tr>\n      <th>...</th>\n      <td>...</td>\n    </tr>\n    <tr>\n      <th>9980295</th>\n      <td>1</td>\n    </tr>\n    <tr>\n      <th>9983451</th>\n      <td>1</td>\n    </tr>\n    <tr>\n      <th>7026317</th>\n      <td>2</td>\n    </tr>\n    <tr>\n      <th>10352441</th>\n      <td>1</td>\n    </tr>\n    <tr>\n      <th>6600848</th>\n      <td>0</td>\n    </tr>\n  </tbody>\n</table>\n<p>313511 rows × 1 columns</p>\n</div>"
     },
     "execution_count": 14,
     "metadata": {},
     "output_type": "execute_result"
    }
   ],
   "source": [
    "y"
   ],
   "metadata": {
    "collapsed": false,
    "ExecuteTime": {
     "end_time": "2024-06-17T02:14:16.037524Z",
     "start_time": "2024-06-17T02:14:16.024532900Z"
    }
   },
   "id": "d96652cdeaeff3a0"
  },
  {
   "cell_type": "code",
   "execution_count": 15,
   "outputs": [
    {
     "data": {
      "text/plain": "6565321     1\n6309675     1\n5893895     0\n8889110     1\n10504821    0\n           ..\n8281777     1\n6457390     1\n5867283     1\n5878335     1\n9969252     0\nName: ARR_DELAY_MINS, Length: 250808, dtype: int64"
     },
     "execution_count": 15,
     "metadata": {},
     "output_type": "execute_result"
    }
   ],
   "source": [
    "from sklearn.model_selection import train_test_split\n",
    "from main.utils import data_manage_utils\n",
    "\n",
    "#Test-Train-Split\n",
    "X_train, X_test, y_train, y_test = train_test_split(X, y, test_size=0.2, random_state=42, stratify=y)\n",
    "\n",
    "# Creating proper targets\n",
    "y_train[\"ARR_DELAY_MINS\"] = y_train.y\n",
    "y_train = y_train.drop([\"y\"], axis=\"columns\")[\"ARR_DELAY_MINS\"]\n",
    "y_test[\"ARR_DELAY_MINS\"] = y_test.y\n",
    "y_test = y_test.drop([\"y\"], axis=\"columns\")[\"ARR_DELAY_MINS\"]\n",
    "\n",
    "y_train"
   ],
   "metadata": {
    "collapsed": false,
    "ExecuteTime": {
     "end_time": "2024-06-17T02:14:18.541790500Z",
     "start_time": "2024-06-17T02:14:16.041522400Z"
    }
   },
   "id": "cf1ee905bbaf73b6"
  },
  {
   "cell_type": "code",
   "execution_count": 16,
   "outputs": [
    {
     "data": {
      "text/plain": "          DEP_DELAY(MINS)  CRS_ELAPSED_TIME(MINS)  NR_PREV_ARR_FLIGHTS(1HR)  \\\n6565321                 7                     520                        25   \n6309675                -3                      73                        50   \n5893895                -6                     129                        52   \n8889110                -4                      68                        89   \n10504821               -5                      65                        55   \n...                   ...                     ...                       ...   \n8281777                 1                      93                        69   \n6457390                -5                     229                        50   \n5867283                20                     125                        92   \n5878335                -2                     217                        49   \n9969252                 0                      90                        76   \n\n          ARR_DAY_SIN  ARR_DAY_COS  ARR_MIN_OF_DAY_SIN  ARR_MIN_OF_DAY_COS  \\\n6565321      0.781831     0.623490            0.939693           -0.342020   \n6309675     -0.433884    -0.900969            0.152123           -0.988362   \n5893895      0.433884    -0.900969           -0.594823            0.803857   \n8889110     -0.974928    -0.222521            0.580703           -0.814116   \n10504821     0.433884    -0.900969           -0.569997           -0.821647   \n...               ...          ...                 ...                 ...   \n8281777      0.433884    -0.900969           -0.562805            0.826590   \n6457390      0.000000     1.000000           -0.790690           -0.612217   \n5867283      0.974928    -0.222521           -0.722364            0.691513   \n5878335      0.974928    -0.222521           -0.785317           -0.619094   \n9969252      0.433884    -0.900969           -0.722364            0.691513   \n\n          APPROACH_SPEED(KMH)  TAIL_HEIGHT(M)  PARKING_AREA(SQM)  ...  \\\n6565321               253.724       17.178528        3840.951319  ...   \n6309675               255.576        9.000744        1525.176514  ...   \n5893895               255.576        9.000744        1525.176514  ...   \n8889110               255.576        9.000744        1525.176514  ...   \n10504821              259.280        6.324600         560.293571  ...   \n...                       ...             ...                ...  ...   \n8281777               255.576        9.000744        1525.176514  ...   \n6457390               264.836       13.639800        2071.070234  ...   \n5867283               261.132       12.624816        1445.094760  ...   \n5878335               238.908       11.225784         865.477518  ...   \n9969252               255.576        9.000744        1525.176514  ...   \n\n          EVENT_FG  EVENT_FU  EVENT_GR  EVENT_GS  EVENT_HZ  EVENT_IC  \\\n6565321          0         0         0         0         0         0   \n6309675          0         0         0         0         0         0   \n5893895          0         0         0         0         0         0   \n8889110          0         0         0         0         0         0   \n10504821         0         0         0         0         0         0   \n...            ...       ...       ...       ...       ...       ...   \n8281777          0         0         0         0         0         0   \n6457390          0         0         0         0         0         0   \n5867283          0         0         0         0         0         0   \n5878335          0         0         0         0         0         0   \n9969252          0         0         0         0         0         0   \n\n          EVENT_RA  EVENT_SN  EVENT_TS  RUNWAY_ERROR(PERC)  \n6565321          0         0         0                 0.8  \n6309675          0         0         0                 0.6  \n5893895          0         0         0                 0.4  \n8889110          0         0         0                 1.0  \n10504821         1         0         0                 1.0  \n...            ...       ...       ...                 ...  \n8281777          1         2         0                 1.0  \n6457390          0         0         0                 0.2  \n5867283          0         0         0                 0.4  \n5878335          0         0         0                 0.4  \n9969252          0         0         0                 0.8  \n\n[250808 rows x 31 columns]",
      "text/html": "<div>\n<style scoped>\n    .dataframe tbody tr th:only-of-type {\n        vertical-align: middle;\n    }\n\n    .dataframe tbody tr th {\n        vertical-align: top;\n    }\n\n    .dataframe thead th {\n        text-align: right;\n    }\n</style>\n<table border=\"1\" class=\"dataframe\">\n  <thead>\n    <tr style=\"text-align: right;\">\n      <th></th>\n      <th>DEP_DELAY(MINS)</th>\n      <th>CRS_ELAPSED_TIME(MINS)</th>\n      <th>NR_PREV_ARR_FLIGHTS(1HR)</th>\n      <th>ARR_DAY_SIN</th>\n      <th>ARR_DAY_COS</th>\n      <th>ARR_MIN_OF_DAY_SIN</th>\n      <th>ARR_MIN_OF_DAY_COS</th>\n      <th>APPROACH_SPEED(KMH)</th>\n      <th>TAIL_HEIGHT(M)</th>\n      <th>PARKING_AREA(SQM)</th>\n      <th>...</th>\n      <th>EVENT_FG</th>\n      <th>EVENT_FU</th>\n      <th>EVENT_GR</th>\n      <th>EVENT_GS</th>\n      <th>EVENT_HZ</th>\n      <th>EVENT_IC</th>\n      <th>EVENT_RA</th>\n      <th>EVENT_SN</th>\n      <th>EVENT_TS</th>\n      <th>RUNWAY_ERROR(PERC)</th>\n    </tr>\n  </thead>\n  <tbody>\n    <tr>\n      <th>6565321</th>\n      <td>7</td>\n      <td>520</td>\n      <td>25</td>\n      <td>0.781831</td>\n      <td>0.623490</td>\n      <td>0.939693</td>\n      <td>-0.342020</td>\n      <td>253.724</td>\n      <td>17.178528</td>\n      <td>3840.951319</td>\n      <td>...</td>\n      <td>0</td>\n      <td>0</td>\n      <td>0</td>\n      <td>0</td>\n      <td>0</td>\n      <td>0</td>\n      <td>0</td>\n      <td>0</td>\n      <td>0</td>\n      <td>0.8</td>\n    </tr>\n    <tr>\n      <th>6309675</th>\n      <td>-3</td>\n      <td>73</td>\n      <td>50</td>\n      <td>-0.433884</td>\n      <td>-0.900969</td>\n      <td>0.152123</td>\n      <td>-0.988362</td>\n      <td>255.576</td>\n      <td>9.000744</td>\n      <td>1525.176514</td>\n      <td>...</td>\n      <td>0</td>\n      <td>0</td>\n      <td>0</td>\n      <td>0</td>\n      <td>0</td>\n      <td>0</td>\n      <td>0</td>\n      <td>0</td>\n      <td>0</td>\n      <td>0.6</td>\n    </tr>\n    <tr>\n      <th>5893895</th>\n      <td>-6</td>\n      <td>129</td>\n      <td>52</td>\n      <td>0.433884</td>\n      <td>-0.900969</td>\n      <td>-0.594823</td>\n      <td>0.803857</td>\n      <td>255.576</td>\n      <td>9.000744</td>\n      <td>1525.176514</td>\n      <td>...</td>\n      <td>0</td>\n      <td>0</td>\n      <td>0</td>\n      <td>0</td>\n      <td>0</td>\n      <td>0</td>\n      <td>0</td>\n      <td>0</td>\n      <td>0</td>\n      <td>0.4</td>\n    </tr>\n    <tr>\n      <th>8889110</th>\n      <td>-4</td>\n      <td>68</td>\n      <td>89</td>\n      <td>-0.974928</td>\n      <td>-0.222521</td>\n      <td>0.580703</td>\n      <td>-0.814116</td>\n      <td>255.576</td>\n      <td>9.000744</td>\n      <td>1525.176514</td>\n      <td>...</td>\n      <td>0</td>\n      <td>0</td>\n      <td>0</td>\n      <td>0</td>\n      <td>0</td>\n      <td>0</td>\n      <td>0</td>\n      <td>0</td>\n      <td>0</td>\n      <td>1.0</td>\n    </tr>\n    <tr>\n      <th>10504821</th>\n      <td>-5</td>\n      <td>65</td>\n      <td>55</td>\n      <td>0.433884</td>\n      <td>-0.900969</td>\n      <td>-0.569997</td>\n      <td>-0.821647</td>\n      <td>259.280</td>\n      <td>6.324600</td>\n      <td>560.293571</td>\n      <td>...</td>\n      <td>0</td>\n      <td>0</td>\n      <td>0</td>\n      <td>0</td>\n      <td>0</td>\n      <td>0</td>\n      <td>1</td>\n      <td>0</td>\n      <td>0</td>\n      <td>1.0</td>\n    </tr>\n    <tr>\n      <th>...</th>\n      <td>...</td>\n      <td>...</td>\n      <td>...</td>\n      <td>...</td>\n      <td>...</td>\n      <td>...</td>\n      <td>...</td>\n      <td>...</td>\n      <td>...</td>\n      <td>...</td>\n      <td>...</td>\n      <td>...</td>\n      <td>...</td>\n      <td>...</td>\n      <td>...</td>\n      <td>...</td>\n      <td>...</td>\n      <td>...</td>\n      <td>...</td>\n      <td>...</td>\n      <td>...</td>\n    </tr>\n    <tr>\n      <th>8281777</th>\n      <td>1</td>\n      <td>93</td>\n      <td>69</td>\n      <td>0.433884</td>\n      <td>-0.900969</td>\n      <td>-0.562805</td>\n      <td>0.826590</td>\n      <td>255.576</td>\n      <td>9.000744</td>\n      <td>1525.176514</td>\n      <td>...</td>\n      <td>0</td>\n      <td>0</td>\n      <td>0</td>\n      <td>0</td>\n      <td>0</td>\n      <td>0</td>\n      <td>1</td>\n      <td>2</td>\n      <td>0</td>\n      <td>1.0</td>\n    </tr>\n    <tr>\n      <th>6457390</th>\n      <td>-5</td>\n      <td>229</td>\n      <td>50</td>\n      <td>0.000000</td>\n      <td>1.000000</td>\n      <td>-0.790690</td>\n      <td>-0.612217</td>\n      <td>264.836</td>\n      <td>13.639800</td>\n      <td>2071.070234</td>\n      <td>...</td>\n      <td>0</td>\n      <td>0</td>\n      <td>0</td>\n      <td>0</td>\n      <td>0</td>\n      <td>0</td>\n      <td>0</td>\n      <td>0</td>\n      <td>0</td>\n      <td>0.2</td>\n    </tr>\n    <tr>\n      <th>5867283</th>\n      <td>20</td>\n      <td>125</td>\n      <td>92</td>\n      <td>0.974928</td>\n      <td>-0.222521</td>\n      <td>-0.722364</td>\n      <td>0.691513</td>\n      <td>261.132</td>\n      <td>12.624816</td>\n      <td>1445.094760</td>\n      <td>...</td>\n      <td>0</td>\n      <td>0</td>\n      <td>0</td>\n      <td>0</td>\n      <td>0</td>\n      <td>0</td>\n      <td>0</td>\n      <td>0</td>\n      <td>0</td>\n      <td>0.4</td>\n    </tr>\n    <tr>\n      <th>5878335</th>\n      <td>-2</td>\n      <td>217</td>\n      <td>49</td>\n      <td>0.974928</td>\n      <td>-0.222521</td>\n      <td>-0.785317</td>\n      <td>-0.619094</td>\n      <td>238.908</td>\n      <td>11.225784</td>\n      <td>865.477518</td>\n      <td>...</td>\n      <td>0</td>\n      <td>0</td>\n      <td>0</td>\n      <td>0</td>\n      <td>0</td>\n      <td>0</td>\n      <td>0</td>\n      <td>0</td>\n      <td>0</td>\n      <td>0.4</td>\n    </tr>\n    <tr>\n      <th>9969252</th>\n      <td>0</td>\n      <td>90</td>\n      <td>76</td>\n      <td>0.433884</td>\n      <td>-0.900969</td>\n      <td>-0.722364</td>\n      <td>0.691513</td>\n      <td>255.576</td>\n      <td>9.000744</td>\n      <td>1525.176514</td>\n      <td>...</td>\n      <td>0</td>\n      <td>0</td>\n      <td>0</td>\n      <td>0</td>\n      <td>0</td>\n      <td>0</td>\n      <td>0</td>\n      <td>0</td>\n      <td>0</td>\n      <td>0.8</td>\n    </tr>\n  </tbody>\n</table>\n<p>250808 rows × 31 columns</p>\n</div>"
     },
     "execution_count": 16,
     "metadata": {},
     "output_type": "execute_result"
    }
   ],
   "source": [
    "X_train"
   ],
   "metadata": {
    "collapsed": false,
    "ExecuteTime": {
     "end_time": "2024-06-17T02:14:18.632736600Z",
     "start_time": "2024-06-17T02:14:18.542787800Z"
    }
   },
   "id": "64e46744ed3b71ec"
  },
  {
   "cell_type": "code",
   "execution_count": 17,
   "outputs": [
    {
     "name": "stdout",
     "output_type": "stream",
     "text": [
      "Shape of X_train: (250808, 31)\n",
      "Shape of y_train: (250808,)\n",
      "Shape of X_test: (62703, 31)\n",
      "Shape of y_test: (62703,)\n"
     ]
    }
   ],
   "source": [
    "data_manage_utils.print_shapes(X_train, y_train, X_test,  y_test)"
   ],
   "metadata": {
    "collapsed": false,
    "ExecuteTime": {
     "end_time": "2024-06-17T02:14:18.665717500Z",
     "start_time": "2024-06-17T02:14:18.635736400Z"
    }
   },
   "id": "97046e86c766b097"
  },
  {
   "cell_type": "code",
   "execution_count": 18,
   "outputs": [],
   "source": [
    "from main.utils.data_manage_utils import save_processed_data_to_folder\n",
    "\n",
    "# Saving classification data\n",
    "class_path = os.path.join(OUTPUT_FOLDER, \"DCLASS\")\n",
    "if not os.path.exists(class_path):\n",
    "    os.makedirs(class_path)\n",
    "save_processed_data_to_folder(class_path, X_train, y_train, X_test, y_test)"
   ],
   "metadata": {
    "collapsed": false,
    "ExecuteTime": {
     "end_time": "2024-06-17T02:14:18.819642700Z",
     "start_time": "2024-06-17T02:14:18.651727300Z"
    }
   },
   "id": "6cff61370666d2e3"
  }
 ],
 "metadata": {
  "kernelspec": {
   "display_name": "Python 3",
   "language": "python",
   "name": "python3"
  },
  "language_info": {
   "codemirror_mode": {
    "name": "ipython",
    "version": 2
   },
   "file_extension": ".py",
   "mimetype": "text/x-python",
   "name": "python",
   "nbconvert_exporter": "python",
   "pygments_lexer": "ipython2",
   "version": "2.7.6"
  }
 },
 "nbformat": 4,
 "nbformat_minor": 5
}
