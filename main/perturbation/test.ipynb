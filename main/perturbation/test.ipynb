{
 "cells": [
  {
   "cell_type": "code",
   "execution_count": 3,
   "id": "initial_id",
   "metadata": {
    "collapsed": true,
    "ExecuteTime": {
     "end_time": "2024-10-13T23:25:14.834104Z",
     "start_time": "2024-10-13T23:25:14.771140300Z"
    }
   },
   "outputs": [],
   "source": [
    "import importlib\n",
    "\n",
    "import matplotlib.pyplot as plt\n",
    "import numpy as np\n",
    "import pandas as pd\n",
    "import seaborn as sns\n",
    "import random\n",
    "import os\n",
    "from sklearn.metrics import accuracy_score, precision_score, recall_score, f1_score\n",
    "\n",
    "from main.utils import data_manage_utils, train_utils\n",
    "\n",
    "importlib.reload(train_utils)\n",
    "importlib.reload(data_manage_utils)\n",
    "\n",
    "loading_folder = \"2024_06_17-0642\"\n",
    "loading_spec = \"RF\"\n",
    "\n",
    "ROOT_PATH = os.path.abspath(\"../../\")\n",
    "TRAIN_DATA_FOLDER = os.path.join(ROOT_PATH, \"data/training/training_results/\", loading_spec, loading_folder)\n",
    "\n",
    "# Finding corresponding prep data folder\n",
    "settings_path = os.path.join(TRAIN_DATA_FOLDER, \"estimation_settings.json\")\n",
    "PREP_DATA_FOLDER = data_manage_utils.find_data_path_by_settings_file(settings_path,ROOT_PATH)"
   ]
  },
  {
   "cell_type": "code",
   "execution_count": 4,
   "outputs": [
    {
     "data": {
      "text/plain": "          DEP_DELAY(MINS)  CRS_ELAPSED_TIME(MINS)  NR_PREV_ARR_FLIGHTS(1HR)  \\\n0                      77                      51                        64   \n1                      76                      51                        64   \n2                      78                      51                        64   \n3                      75                      51                        64   \n4                      79                      51                        64   \n...                   ...                     ...                       ...   \n16894120                2                      69                        96   \n16894121                2                      69                        96   \n16894122                2                      69                        96   \n16894123                2                      69                        96   \n16894124                2                      69                        96   \n\n          ARR_DAY_SIN  ARR_DAY_COS  ARR_MIN_OF_DAY_SIN  ARR_MIN_OF_DAY_COS  \\\n0            0.974928    -0.222521           -0.831470           -0.555570   \n1            0.974928    -0.222521           -0.831470           -0.555570   \n2            0.974928    -0.222521           -0.831470           -0.555570   \n3            0.974928    -0.222521           -0.831470           -0.555570   \n4            0.974928    -0.222521           -0.831470           -0.555570   \n...               ...          ...                 ...                 ...   \n16894120     0.433884    -0.900969            0.594823           -0.803857   \n16894121     0.433884    -0.900969            0.594823           -0.803857   \n16894122     0.433884    -0.900969            0.594823           -0.803857   \n16894123     0.433884    -0.900969            0.594823           -0.803857   \n16894124     0.433884    -0.900969            0.594823           -0.803857   \n\n          APPROACH_SPEED(KMH)  TAIL_HEIGHT(M)  PARKING_AREA(SQM)  ...  \\\n0                     259.280        6.324600         560.293571  ...   \n1                     259.280        6.324600         560.293571  ...   \n2                     259.280        6.324600         560.293571  ...   \n3                     259.280        6.324600         560.293571  ...   \n4                     259.280        6.324600         560.293571  ...   \n...                       ...             ...                ...  ...   \n16894120              255.576        9.000744        1525.176514  ...   \n16894121              255.576        9.000744        1525.176514  ...   \n16894122              255.576        9.000744        1525.176514  ...   \n16894123              255.576        9.000744        1525.176514  ...   \n16894124              255.576        9.000744        1525.176514  ...   \n\n          EVENT_HZ  EVENT_IC  EVENT_RA  EVENT_SN  EVENT_TS  \\\n0                0         0         0         0         0   \n1                0         0         0         0         0   \n2                0         0         0         0         0   \n3                0         0         0         0         0   \n4                0         0         0         0         0   \n...            ...       ...       ...       ...       ...   \n16894120         0         0         0         0         0   \n16894121         0         0         0         0         0   \n16894122         0         0         0         0         0   \n16894123         0         0         0         0         0   \n16894124         0         0         0         0         0   \n\n          RUNWAY_ERROR(PERC)  y_true                      pert_id  level  y  \n0                       1.00       2     DEP_DELAY(MINS)<6386798>      1  2  \n1                       1.00       2     DEP_DELAY(MINS)<6386798>      1  2  \n2                       1.00       2     DEP_DELAY(MINS)<6386798>      1  2  \n3                       1.00       2     DEP_DELAY(MINS)<6386798>      1  2  \n4                       1.00       2     DEP_DELAY(MINS)<6386798>      1  2  \n...                      ...     ...                          ...    ... ..  \n16894120                0.94       0  RUNWAY_ERROR(PERC)<6600848>      1  1  \n16894121                0.64       0  RUNWAY_ERROR(PERC)<6600848>      1  1  \n16894122                0.96       0  RUNWAY_ERROR(PERC)<6600848>      1  1  \n16894123                0.62       0  RUNWAY_ERROR(PERC)<6600848>      1  1  \n16894124                0.98       0  RUNWAY_ERROR(PERC)<6600848>      1  1  \n\n[16894125 rows x 35 columns]",
      "text/html": "<div>\n<style scoped>\n    .dataframe tbody tr th:only-of-type {\n        vertical-align: middle;\n    }\n\n    .dataframe tbody tr th {\n        vertical-align: top;\n    }\n\n    .dataframe thead th {\n        text-align: right;\n    }\n</style>\n<table border=\"1\" class=\"dataframe\">\n  <thead>\n    <tr style=\"text-align: right;\">\n      <th></th>\n      <th>DEP_DELAY(MINS)</th>\n      <th>CRS_ELAPSED_TIME(MINS)</th>\n      <th>NR_PREV_ARR_FLIGHTS(1HR)</th>\n      <th>ARR_DAY_SIN</th>\n      <th>ARR_DAY_COS</th>\n      <th>ARR_MIN_OF_DAY_SIN</th>\n      <th>ARR_MIN_OF_DAY_COS</th>\n      <th>APPROACH_SPEED(KMH)</th>\n      <th>TAIL_HEIGHT(M)</th>\n      <th>PARKING_AREA(SQM)</th>\n      <th>...</th>\n      <th>EVENT_HZ</th>\n      <th>EVENT_IC</th>\n      <th>EVENT_RA</th>\n      <th>EVENT_SN</th>\n      <th>EVENT_TS</th>\n      <th>RUNWAY_ERROR(PERC)</th>\n      <th>y_true</th>\n      <th>pert_id</th>\n      <th>level</th>\n      <th>y</th>\n    </tr>\n  </thead>\n  <tbody>\n    <tr>\n      <th>0</th>\n      <td>77</td>\n      <td>51</td>\n      <td>64</td>\n      <td>0.974928</td>\n      <td>-0.222521</td>\n      <td>-0.831470</td>\n      <td>-0.555570</td>\n      <td>259.280</td>\n      <td>6.324600</td>\n      <td>560.293571</td>\n      <td>...</td>\n      <td>0</td>\n      <td>0</td>\n      <td>0</td>\n      <td>0</td>\n      <td>0</td>\n      <td>1.00</td>\n      <td>2</td>\n      <td>DEP_DELAY(MINS)&lt;6386798&gt;</td>\n      <td>1</td>\n      <td>2</td>\n    </tr>\n    <tr>\n      <th>1</th>\n      <td>76</td>\n      <td>51</td>\n      <td>64</td>\n      <td>0.974928</td>\n      <td>-0.222521</td>\n      <td>-0.831470</td>\n      <td>-0.555570</td>\n      <td>259.280</td>\n      <td>6.324600</td>\n      <td>560.293571</td>\n      <td>...</td>\n      <td>0</td>\n      <td>0</td>\n      <td>0</td>\n      <td>0</td>\n      <td>0</td>\n      <td>1.00</td>\n      <td>2</td>\n      <td>DEP_DELAY(MINS)&lt;6386798&gt;</td>\n      <td>1</td>\n      <td>2</td>\n    </tr>\n    <tr>\n      <th>2</th>\n      <td>78</td>\n      <td>51</td>\n      <td>64</td>\n      <td>0.974928</td>\n      <td>-0.222521</td>\n      <td>-0.831470</td>\n      <td>-0.555570</td>\n      <td>259.280</td>\n      <td>6.324600</td>\n      <td>560.293571</td>\n      <td>...</td>\n      <td>0</td>\n      <td>0</td>\n      <td>0</td>\n      <td>0</td>\n      <td>0</td>\n      <td>1.00</td>\n      <td>2</td>\n      <td>DEP_DELAY(MINS)&lt;6386798&gt;</td>\n      <td>1</td>\n      <td>2</td>\n    </tr>\n    <tr>\n      <th>3</th>\n      <td>75</td>\n      <td>51</td>\n      <td>64</td>\n      <td>0.974928</td>\n      <td>-0.222521</td>\n      <td>-0.831470</td>\n      <td>-0.555570</td>\n      <td>259.280</td>\n      <td>6.324600</td>\n      <td>560.293571</td>\n      <td>...</td>\n      <td>0</td>\n      <td>0</td>\n      <td>0</td>\n      <td>0</td>\n      <td>0</td>\n      <td>1.00</td>\n      <td>2</td>\n      <td>DEP_DELAY(MINS)&lt;6386798&gt;</td>\n      <td>1</td>\n      <td>2</td>\n    </tr>\n    <tr>\n      <th>4</th>\n      <td>79</td>\n      <td>51</td>\n      <td>64</td>\n      <td>0.974928</td>\n      <td>-0.222521</td>\n      <td>-0.831470</td>\n      <td>-0.555570</td>\n      <td>259.280</td>\n      <td>6.324600</td>\n      <td>560.293571</td>\n      <td>...</td>\n      <td>0</td>\n      <td>0</td>\n      <td>0</td>\n      <td>0</td>\n      <td>0</td>\n      <td>1.00</td>\n      <td>2</td>\n      <td>DEP_DELAY(MINS)&lt;6386798&gt;</td>\n      <td>1</td>\n      <td>2</td>\n    </tr>\n    <tr>\n      <th>...</th>\n      <td>...</td>\n      <td>...</td>\n      <td>...</td>\n      <td>...</td>\n      <td>...</td>\n      <td>...</td>\n      <td>...</td>\n      <td>...</td>\n      <td>...</td>\n      <td>...</td>\n      <td>...</td>\n      <td>...</td>\n      <td>...</td>\n      <td>...</td>\n      <td>...</td>\n      <td>...</td>\n      <td>...</td>\n      <td>...</td>\n      <td>...</td>\n      <td>...</td>\n      <td>...</td>\n    </tr>\n    <tr>\n      <th>16894120</th>\n      <td>2</td>\n      <td>69</td>\n      <td>96</td>\n      <td>0.433884</td>\n      <td>-0.900969</td>\n      <td>0.594823</td>\n      <td>-0.803857</td>\n      <td>255.576</td>\n      <td>9.000744</td>\n      <td>1525.176514</td>\n      <td>...</td>\n      <td>0</td>\n      <td>0</td>\n      <td>0</td>\n      <td>0</td>\n      <td>0</td>\n      <td>0.94</td>\n      <td>0</td>\n      <td>RUNWAY_ERROR(PERC)&lt;6600848&gt;</td>\n      <td>1</td>\n      <td>1</td>\n    </tr>\n    <tr>\n      <th>16894121</th>\n      <td>2</td>\n      <td>69</td>\n      <td>96</td>\n      <td>0.433884</td>\n      <td>-0.900969</td>\n      <td>0.594823</td>\n      <td>-0.803857</td>\n      <td>255.576</td>\n      <td>9.000744</td>\n      <td>1525.176514</td>\n      <td>...</td>\n      <td>0</td>\n      <td>0</td>\n      <td>0</td>\n      <td>0</td>\n      <td>0</td>\n      <td>0.64</td>\n      <td>0</td>\n      <td>RUNWAY_ERROR(PERC)&lt;6600848&gt;</td>\n      <td>1</td>\n      <td>1</td>\n    </tr>\n    <tr>\n      <th>16894122</th>\n      <td>2</td>\n      <td>69</td>\n      <td>96</td>\n      <td>0.433884</td>\n      <td>-0.900969</td>\n      <td>0.594823</td>\n      <td>-0.803857</td>\n      <td>255.576</td>\n      <td>9.000744</td>\n      <td>1525.176514</td>\n      <td>...</td>\n      <td>0</td>\n      <td>0</td>\n      <td>0</td>\n      <td>0</td>\n      <td>0</td>\n      <td>0.96</td>\n      <td>0</td>\n      <td>RUNWAY_ERROR(PERC)&lt;6600848&gt;</td>\n      <td>1</td>\n      <td>1</td>\n    </tr>\n    <tr>\n      <th>16894123</th>\n      <td>2</td>\n      <td>69</td>\n      <td>96</td>\n      <td>0.433884</td>\n      <td>-0.900969</td>\n      <td>0.594823</td>\n      <td>-0.803857</td>\n      <td>255.576</td>\n      <td>9.000744</td>\n      <td>1525.176514</td>\n      <td>...</td>\n      <td>0</td>\n      <td>0</td>\n      <td>0</td>\n      <td>0</td>\n      <td>0</td>\n      <td>0.62</td>\n      <td>0</td>\n      <td>RUNWAY_ERROR(PERC)&lt;6600848&gt;</td>\n      <td>1</td>\n      <td>1</td>\n    </tr>\n    <tr>\n      <th>16894124</th>\n      <td>2</td>\n      <td>69</td>\n      <td>96</td>\n      <td>0.433884</td>\n      <td>-0.900969</td>\n      <td>0.594823</td>\n      <td>-0.803857</td>\n      <td>255.576</td>\n      <td>9.000744</td>\n      <td>1525.176514</td>\n      <td>...</td>\n      <td>0</td>\n      <td>0</td>\n      <td>0</td>\n      <td>0</td>\n      <td>0</td>\n      <td>0.98</td>\n      <td>0</td>\n      <td>RUNWAY_ERROR(PERC)&lt;6600848&gt;</td>\n      <td>1</td>\n      <td>1</td>\n    </tr>\n  </tbody>\n</table>\n<p>16894125 rows × 35 columns</p>\n</div>"
     },
     "execution_count": 4,
     "metadata": {},
     "output_type": "execute_result"
    }
   ],
   "source": [
    "pert_result_df_path = os.path.join(TRAIN_DATA_FOLDER,\"pert_out_df.pkl.gz\")\n",
    "\n",
    "pert_df = pd.read_pickle(pert_result_df_path, compression=\"gzip\")\n",
    "\n",
    "pert_cols = list(set(pert_df.columns) - {\"ARR_MIN_OF_DAY_COS\", \"ARR_MIN_OF_DAY_SIN\", \"ARR_DAY_SIN\", \"ARR_DAY_COS\"})\n",
    "USE_TH = False\n",
    "if USE_TH:\n",
    "    pert_cols = [\"TEMP(C)\",\"WIND_SPEED(KMH)\",\"REL_HUMIDITY(PERCENT)\",\"WIND_DRCT(DEG)\", \"SEA_LEVEL_PRESSURE(MILLIBAR)\"]\n",
    "\n",
    "pert_df"
   ],
   "metadata": {
    "collapsed": false,
    "ExecuteTime": {
     "end_time": "2024-10-13T23:25:39.945997600Z",
     "start_time": "2024-10-13T23:25:14.812136200Z"
    }
   },
   "id": "638d820d903f77ab"
  },
  {
   "cell_type": "code",
   "execution_count": 4,
   "outputs": [],
   "source": [],
   "metadata": {
    "collapsed": false,
    "ExecuteTime": {
     "end_time": "2024-10-13T23:25:39.955209400Z",
     "start_time": "2024-10-13T23:25:39.950996Z"
    }
   },
   "id": "fa50f823ec85acbc"
  }
 ],
 "metadata": {
  "kernelspec": {
   "display_name": "Python 3",
   "language": "python",
   "name": "python3"
  },
  "language_info": {
   "codemirror_mode": {
    "name": "ipython",
    "version": 2
   },
   "file_extension": ".py",
   "mimetype": "text/x-python",
   "name": "python",
   "nbconvert_exporter": "python",
   "pygments_lexer": "ipython2",
   "version": "2.7.6"
  }
 },
 "nbformat": 4,
 "nbformat_minor": 5
}
