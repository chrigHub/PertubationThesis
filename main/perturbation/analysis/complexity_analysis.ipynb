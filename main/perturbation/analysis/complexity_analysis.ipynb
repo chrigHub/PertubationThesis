{
 "cells": [
  {
   "cell_type": "code",
   "execution_count": 2,
   "id": "initial_id",
   "metadata": {
    "collapsed": true,
    "ExecuteTime": {
     "end_time": "2025-06-09T17:04:12.786861500Z",
     "start_time": "2025-06-09T17:04:11.682218300Z"
    }
   },
   "outputs": [],
   "source": [
    "import importlib\n",
    "\n",
    "import matplotlib.pyplot as plt\n",
    "import numpy as np\n",
    "import pandas as pd\n",
    "import seaborn as sns\n",
    "import random\n",
    "import os\n",
    "from sklearn.metrics import accuracy_score, precision_score, recall_score, f1_score\n",
    "\n",
    "from main.utils import data_manage_utils, train_utils\n",
    "\n",
    "importlib.reload(train_utils)\n",
    "importlib.reload(data_manage_utils)\n",
    "\n",
    "loading_folder = \"2024_06_17-0642\"\n",
    "loading_spec = \"RF\"\n",
    "\n",
    "ROOT_PATH = os.path.abspath(\"../../../\")\n",
    "TRAIN_DATA_FOLDER = os.path.join(ROOT_PATH, \"data/training/training_results/\", loading_spec, loading_folder)\n",
    "\n",
    "# Finding corresponding prep data folder\n",
    "input_path = os.path.join(TRAIN_DATA_FOLDER, \"analysis/pert_complexity.csv\")"
   ]
  },
  {
   "cell_type": "code",
   "execution_count": 3,
   "outputs": [
    {
     "data": {
      "text/plain": "   Unnamed: 0       Perturbation Time Prediction Time  Number of Rows\n0           0  0 days 00:01:55.354727          0 days          592209\n1           1  0 days 00:04:12.491076          0 days         1184418",
      "text/html": "<div>\n<style scoped>\n    .dataframe tbody tr th:only-of-type {\n        vertical-align: middle;\n    }\n\n    .dataframe tbody tr th {\n        vertical-align: top;\n    }\n\n    .dataframe thead th {\n        text-align: right;\n    }\n</style>\n<table border=\"1\" class=\"dataframe\">\n  <thead>\n    <tr style=\"text-align: right;\">\n      <th></th>\n      <th>Unnamed: 0</th>\n      <th>Perturbation Time</th>\n      <th>Prediction Time</th>\n      <th>Number of Rows</th>\n    </tr>\n  </thead>\n  <tbody>\n    <tr>\n      <th>0</th>\n      <td>0</td>\n      <td>0 days 00:01:55.354727</td>\n      <td>0 days</td>\n      <td>592209</td>\n    </tr>\n    <tr>\n      <th>1</th>\n      <td>1</td>\n      <td>0 days 00:04:12.491076</td>\n      <td>0 days</td>\n      <td>1184418</td>\n    </tr>\n  </tbody>\n</table>\n</div>"
     },
     "execution_count": 3,
     "metadata": {},
     "output_type": "execute_result"
    }
   ],
   "source": [
    "df = pd.read_csv(input_path)\n",
    "df"
   ],
   "metadata": {
    "collapsed": false,
    "ExecuteTime": {
     "end_time": "2025-06-09T17:04:12.833721100Z",
     "start_time": "2025-06-09T17:04:12.788860500Z"
    }
   },
   "id": "dca7194a4aa994ba"
  },
  {
   "cell_type": "code",
   "execution_count": null,
   "outputs": [],
   "source": [],
   "metadata": {
    "collapsed": false
   },
   "id": "6d5179f17d3552bb"
  }
 ],
 "metadata": {
  "kernelspec": {
   "display_name": "Python 3",
   "language": "python",
   "name": "python3"
  },
  "language_info": {
   "codemirror_mode": {
    "name": "ipython",
    "version": 2
   },
   "file_extension": ".py",
   "mimetype": "text/x-python",
   "name": "python",
   "nbconvert_exporter": "python",
   "pygments_lexer": "ipython2",
   "version": "2.7.6"
  }
 },
 "nbformat": 4,
 "nbformat_minor": 5
}
