{
 "cells": [
  {
   "cell_type": "code",
   "execution_count": 5,
   "id": "initial_id",
   "metadata": {
    "collapsed": true,
    "ExecuteTime": {
     "end_time": "2024-11-13T15:34:41.379291200Z",
     "start_time": "2024-11-13T15:34:41.308333Z"
    }
   },
   "outputs": [],
   "source": [
    "import os.path\n",
    "import numpy as np\n",
    "import argparse\n",
    "import sys\n",
    "import pandas as pd\n",
    "import joblib\n",
    "import importlib\n",
    "\n",
    "import sklearn.ensemble\n",
    "from sklearn.metrics import accuracy_score\n",
    "\n",
    "ROOT_PATH = \"../../../.\"\n",
    "DATA_FOLDER = os.path.join(ROOT_PATH, \"data/preprocessing/processed_files\")\n",
    "DATA_FOLDER = os.path.join(DATA_FOLDER, \"cclass\")\n",
    "SEPERATOR = 20 * \"=\" + \"{}\" + 20 * \"=\"\n",
    "\n",
    "sys.path.insert(0, ROOT_PATH)\n",
    "from main.utils import data_manage_utils"
   ]
  },
  {
   "cell_type": "code",
   "execution_count": 6,
   "outputs": [
    {
     "name": "stdout",
     "output_type": "stream",
     "text": [
      "(263204, 31)\n",
      "(263204,)\n",
      "(65801, 31)\n",
      "(65801,)\n"
     ]
    }
   ],
   "source": [
    "X_train, y_train, X_test, y_test = data_manage_utils.load_processed_data_by_folder(DATA_FOLDER)\n",
    "\n",
    "print(\"Shapes of Data\")\n",
    "print(X_train.shape)\n",
    "print(y_train.shape)\n",
    "print(X_test.shape)\n",
    "print(y_test.shape)"
   ],
   "metadata": {
    "collapsed": false,
    "ExecuteTime": {
     "end_time": "2024-11-13T15:34:41.392285Z",
     "start_time": "2024-11-13T15:34:41.322324Z"
    }
   },
   "id": "6eca2f2e4ad28bed"
  },
  {
   "cell_type": "code",
   "execution_count": 21,
   "outputs": [
    {
     "name": "stdout",
     "output_type": "stream",
     "text": [
      "Distribution of Train Data:\n",
      "Train Early: 71145(0.27%)\n",
      "Train On-Time: 157691(0.60%)\n",
      "Train Late: 34368(0.13%)\n",
      "Distribution of Test Data:\n",
      "Test Early: 17839(0.27%)\n",
      "Test On-Time: 39370(0.60%)\n",
      "Test Late: 8592(0.13%)\n",
      "Sum of Train Data:263204\n",
      "Should be: 263204\n",
      "Sum of Test Data:65801\n",
      "Should be: 65801\n"
     ]
    }
   ],
   "source": [
    "print(\"Distribution of Train Data:\")\n",
    "print(f\"Train Early: {y_train[y_train == 0].count()}({y_train[y_train == 0].count()/len(y_train):.2f}%)\")\n",
    "print(f\"Train On-Time: {y_train[y_train == 1].count()}({y_train[y_train == 1].count()/len(y_train):.2f}%)\")\n",
    "print(f\"Train Late: {y_train[y_train == 2].count()}({y_train[y_train == 2].count()/len(y_train):.2f}%)\")\n",
    "\n",
    "print(\"Distribution of Test Data:\")\n",
    "print(f\"Test Early: {y_test[y_test == 0].count()}({y_test[y_test == 0].count()/len(y_test):.2f}%)\")\n",
    "print(f\"Test On-Time: {y_test[y_test == 1].count()}({y_test[y_test == 1].count()/len(y_test):.2f}%)\")\n",
    "print(f\"Test Late: {y_test[y_test == 2].count()}({y_test[y_test == 2].count()/len(y_test):.2f}%)\")\n",
    "\n",
    "print(f\"Sum of Train Data:{y_train[y_train == 0].count() + y_train[y_train == 1].count() + y_train[y_train == 2].count()}\")\n",
    "print(f\"Should be: {len(y_train)}\")\n",
    "\n",
    "print(f\"Sum of Test Data:{y_test[y_test == 0].count() + y_test[y_test == 1].count() + y_test[y_test == 2].count()}\")\n",
    "print(f\"Should be: {len(y_test)}\")"
   ],
   "metadata": {
    "collapsed": false,
    "ExecuteTime": {
     "end_time": "2024-11-13T16:09:51.392798900Z",
     "start_time": "2024-11-13T16:09:51.336831600Z"
    }
   },
   "id": "a0a1e48b1db54d72"
  },
  {
   "cell_type": "code",
   "execution_count": null,
   "outputs": [],
   "source": [],
   "metadata": {
    "collapsed": false
   },
   "id": "973266b443530868"
  }
 ],
 "metadata": {
  "kernelspec": {
   "display_name": "Python 3",
   "language": "python",
   "name": "python3"
  },
  "language_info": {
   "codemirror_mode": {
    "name": "ipython",
    "version": 2
   },
   "file_extension": ".py",
   "mimetype": "text/x-python",
   "name": "python",
   "nbconvert_exporter": "python",
   "pygments_lexer": "ipython2",
   "version": "2.7.6"
  }
 },
 "nbformat": 4,
 "nbformat_minor": 5
}
