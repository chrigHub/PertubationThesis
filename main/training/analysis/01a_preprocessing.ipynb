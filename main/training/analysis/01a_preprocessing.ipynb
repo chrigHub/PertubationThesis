{
 "cells": [
  {
   "cell_type": "code",
   "execution_count": 43,
   "metadata": {
    "collapsed": true
   },
   "outputs": [],
   "source": [
    "import pandas as pd\n",
    "import numpy as np\n",
    "import matplotlib.pyplot as plt\n",
    "from sklearn.model_selection import train_test_split\n",
    "import seaborn as sns\n",
    "from sklearn.model_selection import train_test_split\n",
    "from imblearn.over_sampling import RandomOverSampler\n",
    "from sklearn.preprocessing import MinMaxScaler\n",
    "import pickle\n",
    "from datetime import timedelta"
   ]
  },
  {
   "cell_type": "code",
   "execution_count": 44,
   "outputs": [
    {
     "data": {
      "text/plain": "         OP_UNIQUE_CARRIER ORIGIN  DEP_DELAY  CRS_ELAPSED_TIME  DISTANCE  \\\n5612585                 F9    LAS          0             230.0    1747.0   \n5614966                 DL    SFO         -3             268.0    2139.0   \n5616651                 DL    SAN         -6             241.0    1892.0   \n5616326                 DL    SFO         -5             270.0    2139.0   \n5613460                 UA    SFO          6             278.0    2139.0   \n...                    ...    ...        ...               ...       ...   \n11289608                NK    BWI         -5             122.0     577.0   \n11284363                WN    MDW         20             110.0     591.0   \n11283412                WN    DEN         43             170.0    1199.0   \n11286614                B6    BOS         43             179.0     946.0   \n11291238                DL    MSP         -1             163.0     907.0   \n\n                CRS_DEP_DATE        CRS_ARR_DATE        ACT_DEP_DATE  \\\n5612585  2016-12-31 21:45:00 2017-01-01 04:35:00 2016-12-31 21:45:00   \n5614966  2016-12-31 21:45:00 2017-01-01 05:13:00 2016-12-31 21:42:00   \n5616651  2016-12-31 23:00:00 2017-01-01 06:01:00 2016-12-31 22:54:00   \n5616326  2016-12-31 22:35:00 2017-01-01 06:05:00 2016-12-31 22:30:00   \n5613460  2016-12-31 22:42:00 2017-01-01 06:20:00 2016-12-31 22:48:00   \n...                      ...                 ...                 ...   \n11289608 2017-12-31 21:35:00 2017-12-31 23:37:00 2017-12-31 21:30:00   \n11284363 2017-12-31 20:55:00 2017-12-31 23:45:00 2017-12-31 21:15:00   \n11283412 2017-12-31 18:55:00 2017-12-31 23:45:00 2017-12-31 19:38:00   \n11286614 2017-12-31 20:50:00 2017-12-31 23:49:00 2017-12-31 21:33:00   \n11291238 2017-12-31 20:15:00 2017-12-31 23:58:00 2017-12-31 20:14:00   \n\n                ACT_ARR_DATE  PREV_FLIGHTS_1H  ...  EVENT_IC EVENT_RA  \\\n5612585  2017-01-01 04:25:00                0  ...         0        1   \n5614966  2017-01-01 05:05:00                2  ...         0        1   \n5616651  2017-01-01 05:41:00                2  ...         0        1   \n5616326  2017-01-01 05:58:00                2  ...         0        1   \n5613460  2017-01-01 06:14:00                2  ...         0        1   \n...                      ...              ...  ...       ...      ...   \n11289608 2017-12-31 23:27:00                8  ...         0        0   \n11284363 2017-12-31 23:50:00                8  ...         0        0   \n11283412 2018-01-01 00:02:00                8  ...         0        0   \n11286614 2018-01-01 00:19:00               11  ...         0        0   \n11291238 2017-12-31 23:29:00               12  ...         0        0   \n\n          EVENT_SG  EVENT_SN EVENT_TS  08L/26R  08R/26L  09L/27R  09R/27L  \\\n5612585          0         0        0      1.0      1.0      1.0      1.0   \n5614966          0         0        0      1.0      1.0      1.0      1.0   \n5616651          0         0        0      1.0      1.0      1.0      1.0   \n5616326          0         0        0      1.0      1.0      1.0      1.0   \n5613460          0         0        0      1.0      1.0      1.0      1.0   \n...            ...       ...      ...      ...      ...      ...      ...   \n11289608         0         0        0      0.0      0.0      0.0      0.0   \n11284363         0         0        0      0.0      0.0      0.0      0.0   \n11283412         0         0        0      0.0      0.0      0.0      0.0   \n11286614         0         0        0      0.0      0.0      0.0      0.0   \n11291238         0         0        0      0.0      0.0      0.0      0.0   \n\n          10/28  \n5612585     1.0  \n5614966     1.0  \n5616651     1.0  \n5616326     1.0  \n5613460     1.0  \n...         ...  \n11289608    0.0  \n11284363    0.0  \n11283412    0.0  \n11286614    0.0  \n11291238    0.0  \n\n[348136 rows x 47 columns]",
      "text/html": "<div>\n<style scoped>\n    .dataframe tbody tr th:only-of-type {\n        vertical-align: middle;\n    }\n\n    .dataframe tbody tr th {\n        vertical-align: top;\n    }\n\n    .dataframe thead th {\n        text-align: right;\n    }\n</style>\n<table border=\"1\" class=\"dataframe\">\n  <thead>\n    <tr style=\"text-align: right;\">\n      <th></th>\n      <th>OP_UNIQUE_CARRIER</th>\n      <th>ORIGIN</th>\n      <th>DEP_DELAY</th>\n      <th>CRS_ELAPSED_TIME</th>\n      <th>DISTANCE</th>\n      <th>CRS_DEP_DATE</th>\n      <th>CRS_ARR_DATE</th>\n      <th>ACT_DEP_DATE</th>\n      <th>ACT_ARR_DATE</th>\n      <th>PREV_FLIGHTS_1H</th>\n      <th>...</th>\n      <th>EVENT_IC</th>\n      <th>EVENT_RA</th>\n      <th>EVENT_SG</th>\n      <th>EVENT_SN</th>\n      <th>EVENT_TS</th>\n      <th>08L/26R</th>\n      <th>08R/26L</th>\n      <th>09L/27R</th>\n      <th>09R/27L</th>\n      <th>10/28</th>\n    </tr>\n  </thead>\n  <tbody>\n    <tr>\n      <th>5612585</th>\n      <td>F9</td>\n      <td>LAS</td>\n      <td>0</td>\n      <td>230.0</td>\n      <td>1747.0</td>\n      <td>2016-12-31 21:45:00</td>\n      <td>2017-01-01 04:35:00</td>\n      <td>2016-12-31 21:45:00</td>\n      <td>2017-01-01 04:25:00</td>\n      <td>0</td>\n      <td>...</td>\n      <td>0</td>\n      <td>1</td>\n      <td>0</td>\n      <td>0</td>\n      <td>0</td>\n      <td>1.0</td>\n      <td>1.0</td>\n      <td>1.0</td>\n      <td>1.0</td>\n      <td>1.0</td>\n    </tr>\n    <tr>\n      <th>5614966</th>\n      <td>DL</td>\n      <td>SFO</td>\n      <td>-3</td>\n      <td>268.0</td>\n      <td>2139.0</td>\n      <td>2016-12-31 21:45:00</td>\n      <td>2017-01-01 05:13:00</td>\n      <td>2016-12-31 21:42:00</td>\n      <td>2017-01-01 05:05:00</td>\n      <td>2</td>\n      <td>...</td>\n      <td>0</td>\n      <td>1</td>\n      <td>0</td>\n      <td>0</td>\n      <td>0</td>\n      <td>1.0</td>\n      <td>1.0</td>\n      <td>1.0</td>\n      <td>1.0</td>\n      <td>1.0</td>\n    </tr>\n    <tr>\n      <th>5616651</th>\n      <td>DL</td>\n      <td>SAN</td>\n      <td>-6</td>\n      <td>241.0</td>\n      <td>1892.0</td>\n      <td>2016-12-31 23:00:00</td>\n      <td>2017-01-01 06:01:00</td>\n      <td>2016-12-31 22:54:00</td>\n      <td>2017-01-01 05:41:00</td>\n      <td>2</td>\n      <td>...</td>\n      <td>0</td>\n      <td>1</td>\n      <td>0</td>\n      <td>0</td>\n      <td>0</td>\n      <td>1.0</td>\n      <td>1.0</td>\n      <td>1.0</td>\n      <td>1.0</td>\n      <td>1.0</td>\n    </tr>\n    <tr>\n      <th>5616326</th>\n      <td>DL</td>\n      <td>SFO</td>\n      <td>-5</td>\n      <td>270.0</td>\n      <td>2139.0</td>\n      <td>2016-12-31 22:35:00</td>\n      <td>2017-01-01 06:05:00</td>\n      <td>2016-12-31 22:30:00</td>\n      <td>2017-01-01 05:58:00</td>\n      <td>2</td>\n      <td>...</td>\n      <td>0</td>\n      <td>1</td>\n      <td>0</td>\n      <td>0</td>\n      <td>0</td>\n      <td>1.0</td>\n      <td>1.0</td>\n      <td>1.0</td>\n      <td>1.0</td>\n      <td>1.0</td>\n    </tr>\n    <tr>\n      <th>5613460</th>\n      <td>UA</td>\n      <td>SFO</td>\n      <td>6</td>\n      <td>278.0</td>\n      <td>2139.0</td>\n      <td>2016-12-31 22:42:00</td>\n      <td>2017-01-01 06:20:00</td>\n      <td>2016-12-31 22:48:00</td>\n      <td>2017-01-01 06:14:00</td>\n      <td>2</td>\n      <td>...</td>\n      <td>0</td>\n      <td>1</td>\n      <td>0</td>\n      <td>0</td>\n      <td>0</td>\n      <td>1.0</td>\n      <td>1.0</td>\n      <td>1.0</td>\n      <td>1.0</td>\n      <td>1.0</td>\n    </tr>\n    <tr>\n      <th>...</th>\n      <td>...</td>\n      <td>...</td>\n      <td>...</td>\n      <td>...</td>\n      <td>...</td>\n      <td>...</td>\n      <td>...</td>\n      <td>...</td>\n      <td>...</td>\n      <td>...</td>\n      <td>...</td>\n      <td>...</td>\n      <td>...</td>\n      <td>...</td>\n      <td>...</td>\n      <td>...</td>\n      <td>...</td>\n      <td>...</td>\n      <td>...</td>\n      <td>...</td>\n      <td>...</td>\n    </tr>\n    <tr>\n      <th>11289608</th>\n      <td>NK</td>\n      <td>BWI</td>\n      <td>-5</td>\n      <td>122.0</td>\n      <td>577.0</td>\n      <td>2017-12-31 21:35:00</td>\n      <td>2017-12-31 23:37:00</td>\n      <td>2017-12-31 21:30:00</td>\n      <td>2017-12-31 23:27:00</td>\n      <td>8</td>\n      <td>...</td>\n      <td>0</td>\n      <td>0</td>\n      <td>0</td>\n      <td>0</td>\n      <td>0</td>\n      <td>0.0</td>\n      <td>0.0</td>\n      <td>0.0</td>\n      <td>0.0</td>\n      <td>0.0</td>\n    </tr>\n    <tr>\n      <th>11284363</th>\n      <td>WN</td>\n      <td>MDW</td>\n      <td>20</td>\n      <td>110.0</td>\n      <td>591.0</td>\n      <td>2017-12-31 20:55:00</td>\n      <td>2017-12-31 23:45:00</td>\n      <td>2017-12-31 21:15:00</td>\n      <td>2017-12-31 23:50:00</td>\n      <td>8</td>\n      <td>...</td>\n      <td>0</td>\n      <td>0</td>\n      <td>0</td>\n      <td>0</td>\n      <td>0</td>\n      <td>0.0</td>\n      <td>0.0</td>\n      <td>0.0</td>\n      <td>0.0</td>\n      <td>0.0</td>\n    </tr>\n    <tr>\n      <th>11283412</th>\n      <td>WN</td>\n      <td>DEN</td>\n      <td>43</td>\n      <td>170.0</td>\n      <td>1199.0</td>\n      <td>2017-12-31 18:55:00</td>\n      <td>2017-12-31 23:45:00</td>\n      <td>2017-12-31 19:38:00</td>\n      <td>2018-01-01 00:02:00</td>\n      <td>8</td>\n      <td>...</td>\n      <td>0</td>\n      <td>0</td>\n      <td>0</td>\n      <td>0</td>\n      <td>0</td>\n      <td>0.0</td>\n      <td>0.0</td>\n      <td>0.0</td>\n      <td>0.0</td>\n      <td>0.0</td>\n    </tr>\n    <tr>\n      <th>11286614</th>\n      <td>B6</td>\n      <td>BOS</td>\n      <td>43</td>\n      <td>179.0</td>\n      <td>946.0</td>\n      <td>2017-12-31 20:50:00</td>\n      <td>2017-12-31 23:49:00</td>\n      <td>2017-12-31 21:33:00</td>\n      <td>2018-01-01 00:19:00</td>\n      <td>11</td>\n      <td>...</td>\n      <td>0</td>\n      <td>0</td>\n      <td>0</td>\n      <td>0</td>\n      <td>0</td>\n      <td>0.0</td>\n      <td>0.0</td>\n      <td>0.0</td>\n      <td>0.0</td>\n      <td>0.0</td>\n    </tr>\n    <tr>\n      <th>11291238</th>\n      <td>DL</td>\n      <td>MSP</td>\n      <td>-1</td>\n      <td>163.0</td>\n      <td>907.0</td>\n      <td>2017-12-31 20:15:00</td>\n      <td>2017-12-31 23:58:00</td>\n      <td>2017-12-31 20:14:00</td>\n      <td>2017-12-31 23:29:00</td>\n      <td>12</td>\n      <td>...</td>\n      <td>0</td>\n      <td>0</td>\n      <td>0</td>\n      <td>0</td>\n      <td>0</td>\n      <td>0.0</td>\n      <td>0.0</td>\n      <td>0.0</td>\n      <td>0.0</td>\n      <td>0.0</td>\n    </tr>\n  </tbody>\n</table>\n<p>348136 rows × 47 columns</p>\n</div>"
     },
     "execution_count": 44,
     "metadata": {},
     "output_type": "execute_result"
    }
   ],
   "source": [
    "data = pd.read_pickle(\"../preparation/prepped_files/07_integration.pkl\")\n",
    "data"
   ],
   "metadata": {
    "collapsed": false,
    "pycharm": {
     "name": "#%%\n"
    }
   }
  },
  {
   "cell_type": "code",
   "execution_count": 45,
   "outputs": [
    {
     "data": {
      "text/plain": "         OP_UNIQUE_CARRIER ORIGIN  DEP_DELAY  CRS_ELAPSED_TIME  DISTANCE  \\\n5612585                 F9    LAS          0             230.0    1747.0   \n5614966                 DL    SFO         -3             268.0    2139.0   \n5616651                 DL    SAN         -6             241.0    1892.0   \n5616326                 DL    SFO         -5             270.0    2139.0   \n5613460                 UA    SFO          6             278.0    2139.0   \n...                    ...    ...        ...               ...       ...   \n11289608                NK    BWI         -5             122.0     577.0   \n11284363                WN    MDW         20             110.0     591.0   \n11283412                WN    DEN         43             170.0    1199.0   \n11286614                B6    BOS         43             179.0     946.0   \n11291238                DL    MSP         -1             163.0     907.0   \n\n                CRS_ARR_DATE  PREV_FLIGHTS_1H  ARR_DELAY  \\\n5612585  2017-01-01 04:35:00                0        -10   \n5614966  2017-01-01 05:13:00                2         -8   \n5616651  2017-01-01 06:01:00                2        -20   \n5616326  2017-01-01 06:05:00                2         -7   \n5613460  2017-01-01 06:20:00                2         -6   \n...                      ...              ...        ...   \n11289608 2017-12-31 23:37:00                8        -10   \n11284363 2017-12-31 23:45:00                8          5   \n11283412 2017-12-31 23:45:00                8         17   \n11286614 2017-12-31 23:49:00               11         30   \n11291238 2017-12-31 23:58:00               12        -29   \n\n         Physical Class (Engine)  Engines  ...  EVENT_IC EVENT_RA  EVENT_SG  \\\n5612585                      Jet      2.0  ...         0        1         0   \n5614966                      Jet      2.0  ...         0        1         0   \n5616651                      Jet      2.0  ...         0        1         0   \n5616326                      Jet      2.0  ...         0        1         0   \n5613460                      Jet      2.0  ...         0        1         0   \n...                          ...      ...  ...       ...      ...       ...   \n11289608                     Jet      2.0  ...         0        0         0   \n11284363                     Jet      2.0  ...         0        0         0   \n11283412                     Jet      2.0  ...         0        0         0   \n11286614                     Jet      2.0  ...         0        0         0   \n11291238                     Jet      2.0  ...         0        0         0   \n\n          EVENT_SN  EVENT_TS  08L/26R  08R/26L  09L/27R  09R/27L  10/28  \n5612585          0         0      1.0      1.0      1.0      1.0    1.0  \n5614966          0         0      1.0      1.0      1.0      1.0    1.0  \n5616651          0         0      1.0      1.0      1.0      1.0    1.0  \n5616326          0         0      1.0      1.0      1.0      1.0    1.0  \n5613460          0         0      1.0      1.0      1.0      1.0    1.0  \n...            ...       ...      ...      ...      ...      ...    ...  \n11289608         0         0      0.0      0.0      0.0      0.0    0.0  \n11284363         0         0      0.0      0.0      0.0      0.0    0.0  \n11283412         0         0      0.0      0.0      0.0      0.0    0.0  \n11286614         0         0      0.0      0.0      0.0      0.0    0.0  \n11291238         0         0      0.0      0.0      0.0      0.0    0.0  \n\n[348136 rows x 44 columns]",
      "text/html": "<div>\n<style scoped>\n    .dataframe tbody tr th:only-of-type {\n        vertical-align: middle;\n    }\n\n    .dataframe tbody tr th {\n        vertical-align: top;\n    }\n\n    .dataframe thead th {\n        text-align: right;\n    }\n</style>\n<table border=\"1\" class=\"dataframe\">\n  <thead>\n    <tr style=\"text-align: right;\">\n      <th></th>\n      <th>OP_UNIQUE_CARRIER</th>\n      <th>ORIGIN</th>\n      <th>DEP_DELAY</th>\n      <th>CRS_ELAPSED_TIME</th>\n      <th>DISTANCE</th>\n      <th>CRS_ARR_DATE</th>\n      <th>PREV_FLIGHTS_1H</th>\n      <th>ARR_DELAY</th>\n      <th>Physical Class (Engine)</th>\n      <th>Engines</th>\n      <th>...</th>\n      <th>EVENT_IC</th>\n      <th>EVENT_RA</th>\n      <th>EVENT_SG</th>\n      <th>EVENT_SN</th>\n      <th>EVENT_TS</th>\n      <th>08L/26R</th>\n      <th>08R/26L</th>\n      <th>09L/27R</th>\n      <th>09R/27L</th>\n      <th>10/28</th>\n    </tr>\n  </thead>\n  <tbody>\n    <tr>\n      <th>5612585</th>\n      <td>F9</td>\n      <td>LAS</td>\n      <td>0</td>\n      <td>230.0</td>\n      <td>1747.0</td>\n      <td>2017-01-01 04:35:00</td>\n      <td>0</td>\n      <td>-10</td>\n      <td>Jet</td>\n      <td>2.0</td>\n      <td>...</td>\n      <td>0</td>\n      <td>1</td>\n      <td>0</td>\n      <td>0</td>\n      <td>0</td>\n      <td>1.0</td>\n      <td>1.0</td>\n      <td>1.0</td>\n      <td>1.0</td>\n      <td>1.0</td>\n    </tr>\n    <tr>\n      <th>5614966</th>\n      <td>DL</td>\n      <td>SFO</td>\n      <td>-3</td>\n      <td>268.0</td>\n      <td>2139.0</td>\n      <td>2017-01-01 05:13:00</td>\n      <td>2</td>\n      <td>-8</td>\n      <td>Jet</td>\n      <td>2.0</td>\n      <td>...</td>\n      <td>0</td>\n      <td>1</td>\n      <td>0</td>\n      <td>0</td>\n      <td>0</td>\n      <td>1.0</td>\n      <td>1.0</td>\n      <td>1.0</td>\n      <td>1.0</td>\n      <td>1.0</td>\n    </tr>\n    <tr>\n      <th>5616651</th>\n      <td>DL</td>\n      <td>SAN</td>\n      <td>-6</td>\n      <td>241.0</td>\n      <td>1892.0</td>\n      <td>2017-01-01 06:01:00</td>\n      <td>2</td>\n      <td>-20</td>\n      <td>Jet</td>\n      <td>2.0</td>\n      <td>...</td>\n      <td>0</td>\n      <td>1</td>\n      <td>0</td>\n      <td>0</td>\n      <td>0</td>\n      <td>1.0</td>\n      <td>1.0</td>\n      <td>1.0</td>\n      <td>1.0</td>\n      <td>1.0</td>\n    </tr>\n    <tr>\n      <th>5616326</th>\n      <td>DL</td>\n      <td>SFO</td>\n      <td>-5</td>\n      <td>270.0</td>\n      <td>2139.0</td>\n      <td>2017-01-01 06:05:00</td>\n      <td>2</td>\n      <td>-7</td>\n      <td>Jet</td>\n      <td>2.0</td>\n      <td>...</td>\n      <td>0</td>\n      <td>1</td>\n      <td>0</td>\n      <td>0</td>\n      <td>0</td>\n      <td>1.0</td>\n      <td>1.0</td>\n      <td>1.0</td>\n      <td>1.0</td>\n      <td>1.0</td>\n    </tr>\n    <tr>\n      <th>5613460</th>\n      <td>UA</td>\n      <td>SFO</td>\n      <td>6</td>\n      <td>278.0</td>\n      <td>2139.0</td>\n      <td>2017-01-01 06:20:00</td>\n      <td>2</td>\n      <td>-6</td>\n      <td>Jet</td>\n      <td>2.0</td>\n      <td>...</td>\n      <td>0</td>\n      <td>1</td>\n      <td>0</td>\n      <td>0</td>\n      <td>0</td>\n      <td>1.0</td>\n      <td>1.0</td>\n      <td>1.0</td>\n      <td>1.0</td>\n      <td>1.0</td>\n    </tr>\n    <tr>\n      <th>...</th>\n      <td>...</td>\n      <td>...</td>\n      <td>...</td>\n      <td>...</td>\n      <td>...</td>\n      <td>...</td>\n      <td>...</td>\n      <td>...</td>\n      <td>...</td>\n      <td>...</td>\n      <td>...</td>\n      <td>...</td>\n      <td>...</td>\n      <td>...</td>\n      <td>...</td>\n      <td>...</td>\n      <td>...</td>\n      <td>...</td>\n      <td>...</td>\n      <td>...</td>\n      <td>...</td>\n    </tr>\n    <tr>\n      <th>11289608</th>\n      <td>NK</td>\n      <td>BWI</td>\n      <td>-5</td>\n      <td>122.0</td>\n      <td>577.0</td>\n      <td>2017-12-31 23:37:00</td>\n      <td>8</td>\n      <td>-10</td>\n      <td>Jet</td>\n      <td>2.0</td>\n      <td>...</td>\n      <td>0</td>\n      <td>0</td>\n      <td>0</td>\n      <td>0</td>\n      <td>0</td>\n      <td>0.0</td>\n      <td>0.0</td>\n      <td>0.0</td>\n      <td>0.0</td>\n      <td>0.0</td>\n    </tr>\n    <tr>\n      <th>11284363</th>\n      <td>WN</td>\n      <td>MDW</td>\n      <td>20</td>\n      <td>110.0</td>\n      <td>591.0</td>\n      <td>2017-12-31 23:45:00</td>\n      <td>8</td>\n      <td>5</td>\n      <td>Jet</td>\n      <td>2.0</td>\n      <td>...</td>\n      <td>0</td>\n      <td>0</td>\n      <td>0</td>\n      <td>0</td>\n      <td>0</td>\n      <td>0.0</td>\n      <td>0.0</td>\n      <td>0.0</td>\n      <td>0.0</td>\n      <td>0.0</td>\n    </tr>\n    <tr>\n      <th>11283412</th>\n      <td>WN</td>\n      <td>DEN</td>\n      <td>43</td>\n      <td>170.0</td>\n      <td>1199.0</td>\n      <td>2017-12-31 23:45:00</td>\n      <td>8</td>\n      <td>17</td>\n      <td>Jet</td>\n      <td>2.0</td>\n      <td>...</td>\n      <td>0</td>\n      <td>0</td>\n      <td>0</td>\n      <td>0</td>\n      <td>0</td>\n      <td>0.0</td>\n      <td>0.0</td>\n      <td>0.0</td>\n      <td>0.0</td>\n      <td>0.0</td>\n    </tr>\n    <tr>\n      <th>11286614</th>\n      <td>B6</td>\n      <td>BOS</td>\n      <td>43</td>\n      <td>179.0</td>\n      <td>946.0</td>\n      <td>2017-12-31 23:49:00</td>\n      <td>11</td>\n      <td>30</td>\n      <td>Jet</td>\n      <td>2.0</td>\n      <td>...</td>\n      <td>0</td>\n      <td>0</td>\n      <td>0</td>\n      <td>0</td>\n      <td>0</td>\n      <td>0.0</td>\n      <td>0.0</td>\n      <td>0.0</td>\n      <td>0.0</td>\n      <td>0.0</td>\n    </tr>\n    <tr>\n      <th>11291238</th>\n      <td>DL</td>\n      <td>MSP</td>\n      <td>-1</td>\n      <td>163.0</td>\n      <td>907.0</td>\n      <td>2017-12-31 23:58:00</td>\n      <td>12</td>\n      <td>-29</td>\n      <td>Jet</td>\n      <td>2.0</td>\n      <td>...</td>\n      <td>0</td>\n      <td>0</td>\n      <td>0</td>\n      <td>0</td>\n      <td>0</td>\n      <td>0.0</td>\n      <td>0.0</td>\n      <td>0.0</td>\n      <td>0.0</td>\n      <td>0.0</td>\n    </tr>\n  </tbody>\n</table>\n<p>348136 rows × 44 columns</p>\n</div>"
     },
     "execution_count": 45,
     "metadata": {},
     "output_type": "execute_result"
    }
   ],
   "source": [
    "#Dropping scenario unimportant features\n",
    "data = data.drop([\"CRS_DEP_DATE\",\"ACT_DEP_DATE\",\"ACT_ARR_DATE\"],axis=1)\n",
    "data"
   ],
   "metadata": {
    "collapsed": false,
    "pycharm": {
     "name": "#%%\n"
    }
   }
  },
  {
   "cell_type": "code",
   "execution_count": 46,
   "outputs": [
    {
     "name": "stdout",
     "output_type": "stream",
     "text": [
      "<class 'pandas.core.frame.DataFrame'>\n",
      "Int64Index: 348136 entries, 5612585 to 11291238\n",
      "Data columns (total 44 columns):\n",
      " #   Column                          Non-Null Count   Dtype         \n",
      "---  ------                          --------------   -----         \n",
      " 0   OP_UNIQUE_CARRIER               348136 non-null  object        \n",
      " 1   ORIGIN                          348136 non-null  object        \n",
      " 2   DEP_DELAY                       348136 non-null  int32         \n",
      " 3   CRS_ELAPSED_TIME                348136 non-null  float64       \n",
      " 4   DISTANCE                        348136 non-null  float64       \n",
      " 5   CRS_ARR_DATE                    348136 non-null  datetime64[ns]\n",
      " 6   PREV_FLIGHTS_1H                 348136 non-null  int64         \n",
      " 7   ARR_DELAY                       348136 non-null  int32         \n",
      " 8   Physical Class (Engine)         348136 non-null  object        \n",
      " 9   Engines                         348136 non-null  float64       \n",
      " 10  Approach Speed(Vref)            348136 non-null  float64       \n",
      " 11  Wingtip Configuration           348136 non-null  object        \n",
      " 12  Wingspan, ft                    348136 non-null  float64       \n",
      " 13  Length, ft                      348136 non-null  float64       \n",
      " 14  Tail Height, ft(@ OEW)          348136 non-null  float64       \n",
      " 15  MTOW                            348136 non-null  float64       \n",
      " 16  Parking Area (WS x Length), sf  348136 non-null  float64       \n",
      " 17  tmpf                            347595 non-null  float64       \n",
      " 18  dwpf                            347595 non-null  float64       \n",
      " 19  relh                            347159 non-null  float64       \n",
      " 20  drct                            347661 non-null  float64       \n",
      " 21  sknt                            348136 non-null  float64       \n",
      " 22  p01i                            329802 non-null  float64       \n",
      " 23  alti                            348136 non-null  float64       \n",
      " 24  mslp                            347478 non-null  float64       \n",
      " 25  vsby                            348136 non-null  float64       \n",
      " 26  feel                            347159 non-null  float64       \n",
      " 27  EVENT_BR                        348136 non-null  int64         \n",
      " 28  EVENT_DZ                        348136 non-null  int64         \n",
      " 29  EVENT_FG                        348136 non-null  int64         \n",
      " 30  EVENT_FU                        348136 non-null  int64         \n",
      " 31  EVENT_GR                        348136 non-null  int64         \n",
      " 32  EVENT_GS                        348136 non-null  int64         \n",
      " 33  EVENT_HZ                        348136 non-null  int64         \n",
      " 34  EVENT_IC                        348136 non-null  int64         \n",
      " 35  EVENT_RA                        348136 non-null  int64         \n",
      " 36  EVENT_SG                        348136 non-null  int64         \n",
      " 37  EVENT_SN                        348136 non-null  int64         \n",
      " 38  EVENT_TS                        348136 non-null  int64         \n",
      " 39  08L/26R                         348136 non-null  float64       \n",
      " 40  08R/26L                         348136 non-null  float64       \n",
      " 41  09L/27R                         348136 non-null  float64       \n",
      " 42  09R/27L                         348136 non-null  float64       \n",
      " 43  10/28                           348136 non-null  float64       \n",
      "dtypes: datetime64[ns](1), float64(24), int32(2), int64(13), object(4)\n",
      "memory usage: 116.9+ MB\n"
     ]
    }
   ],
   "source": [
    "data.info()"
   ],
   "metadata": {
    "collapsed": false,
    "pycharm": {
     "name": "#%%\n"
    }
   }
  },
  {
   "cell_type": "code",
   "execution_count": 47,
   "outputs": [
    {
     "data": {
      "text/plain": "         OP_UNIQUE_CARRIER ORIGIN  DEP_DELAY  CRS_ELAPSED_TIME  DISTANCE  \\\n5612585                 F9    LAS          0             230.0    1747.0   \n5614966                 DL    SFO         -3             268.0    2139.0   \n5616651                 DL    SAN         -6             241.0    1892.0   \n5616326                 DL    SFO         -5             270.0    2139.0   \n5613460                 UA    SFO          6             278.0    2139.0   \n...                    ...    ...        ...               ...       ...   \n11289608                NK    BWI         -5             122.0     577.0   \n11284363                WN    MDW         20             110.0     591.0   \n11283412                WN    DEN         43             170.0    1199.0   \n11286614                B6    BOS         43             179.0     946.0   \n11291238                DL    MSP         -1             163.0     907.0   \n\n                CRS_ARR_DATE  PREV_FLIGHTS_1H  ARR_DELAY  \\\n5612585  2017-01-01 04:35:00                0        -10   \n5614966  2017-01-01 05:13:00                2         -8   \n5616651  2017-01-01 06:01:00                2        -20   \n5616326  2017-01-01 06:05:00                2         -7   \n5613460  2017-01-01 06:20:00                2         -6   \n...                      ...              ...        ...   \n11289608 2017-12-31 23:37:00                8        -10   \n11284363 2017-12-31 23:45:00                8          5   \n11283412 2017-12-31 23:45:00                8         17   \n11286614 2017-12-31 23:49:00               11         30   \n11291238 2017-12-31 23:58:00               12        -29   \n\n         Physical Class (Engine)  Engines  ...  EVENT_IC EVENT_RA  EVENT_SG  \\\n5612585                      Jet      2.0  ...         0        1         0   \n5614966                      Jet      2.0  ...         0        1         0   \n5616651                      Jet      2.0  ...         0        1         0   \n5616326                      Jet      2.0  ...         0        1         0   \n5613460                      Jet      2.0  ...         0        1         0   \n...                          ...      ...  ...       ...      ...       ...   \n11289608                     Jet      2.0  ...         0        0         0   \n11284363                     Jet      2.0  ...         0        0         0   \n11283412                     Jet      2.0  ...         0        0         0   \n11286614                     Jet      2.0  ...         0        0         0   \n11291238                     Jet      2.0  ...         0        0         0   \n\n          EVENT_SN  EVENT_TS  08L/26R  08R/26L  09L/27R  09R/27L  10/28  \n5612585          0         0      1.0      1.0      1.0      1.0    1.0  \n5614966          0         0      1.0      1.0      1.0      1.0    1.0  \n5616651          0         0      1.0      1.0      1.0      1.0    1.0  \n5616326          0         0      1.0      1.0      1.0      1.0    1.0  \n5613460          0         0      1.0      1.0      1.0      1.0    1.0  \n...            ...       ...      ...      ...      ...      ...    ...  \n11289608         0         0      0.0      0.0      0.0      0.0    0.0  \n11284363         0         0      0.0      0.0      0.0      0.0    0.0  \n11283412         0         0      0.0      0.0      0.0      0.0    0.0  \n11286614         0         0      0.0      0.0      0.0      0.0    0.0  \n11291238         0         0      0.0      0.0      0.0      0.0    0.0  \n\n[348136 rows x 44 columns]",
      "text/html": "<div>\n<style scoped>\n    .dataframe tbody tr th:only-of-type {\n        vertical-align: middle;\n    }\n\n    .dataframe tbody tr th {\n        vertical-align: top;\n    }\n\n    .dataframe thead th {\n        text-align: right;\n    }\n</style>\n<table border=\"1\" class=\"dataframe\">\n  <thead>\n    <tr style=\"text-align: right;\">\n      <th></th>\n      <th>OP_UNIQUE_CARRIER</th>\n      <th>ORIGIN</th>\n      <th>DEP_DELAY</th>\n      <th>CRS_ELAPSED_TIME</th>\n      <th>DISTANCE</th>\n      <th>CRS_ARR_DATE</th>\n      <th>PREV_FLIGHTS_1H</th>\n      <th>ARR_DELAY</th>\n      <th>Physical Class (Engine)</th>\n      <th>Engines</th>\n      <th>...</th>\n      <th>EVENT_IC</th>\n      <th>EVENT_RA</th>\n      <th>EVENT_SG</th>\n      <th>EVENT_SN</th>\n      <th>EVENT_TS</th>\n      <th>08L/26R</th>\n      <th>08R/26L</th>\n      <th>09L/27R</th>\n      <th>09R/27L</th>\n      <th>10/28</th>\n    </tr>\n  </thead>\n  <tbody>\n    <tr>\n      <th>5612585</th>\n      <td>F9</td>\n      <td>LAS</td>\n      <td>0</td>\n      <td>230.0</td>\n      <td>1747.0</td>\n      <td>2017-01-01 04:35:00</td>\n      <td>0</td>\n      <td>-10</td>\n      <td>Jet</td>\n      <td>2.0</td>\n      <td>...</td>\n      <td>0</td>\n      <td>1</td>\n      <td>0</td>\n      <td>0</td>\n      <td>0</td>\n      <td>1.0</td>\n      <td>1.0</td>\n      <td>1.0</td>\n      <td>1.0</td>\n      <td>1.0</td>\n    </tr>\n    <tr>\n      <th>5614966</th>\n      <td>DL</td>\n      <td>SFO</td>\n      <td>-3</td>\n      <td>268.0</td>\n      <td>2139.0</td>\n      <td>2017-01-01 05:13:00</td>\n      <td>2</td>\n      <td>-8</td>\n      <td>Jet</td>\n      <td>2.0</td>\n      <td>...</td>\n      <td>0</td>\n      <td>1</td>\n      <td>0</td>\n      <td>0</td>\n      <td>0</td>\n      <td>1.0</td>\n      <td>1.0</td>\n      <td>1.0</td>\n      <td>1.0</td>\n      <td>1.0</td>\n    </tr>\n    <tr>\n      <th>5616651</th>\n      <td>DL</td>\n      <td>SAN</td>\n      <td>-6</td>\n      <td>241.0</td>\n      <td>1892.0</td>\n      <td>2017-01-01 06:01:00</td>\n      <td>2</td>\n      <td>-20</td>\n      <td>Jet</td>\n      <td>2.0</td>\n      <td>...</td>\n      <td>0</td>\n      <td>1</td>\n      <td>0</td>\n      <td>0</td>\n      <td>0</td>\n      <td>1.0</td>\n      <td>1.0</td>\n      <td>1.0</td>\n      <td>1.0</td>\n      <td>1.0</td>\n    </tr>\n    <tr>\n      <th>5616326</th>\n      <td>DL</td>\n      <td>SFO</td>\n      <td>-5</td>\n      <td>270.0</td>\n      <td>2139.0</td>\n      <td>2017-01-01 06:05:00</td>\n      <td>2</td>\n      <td>-7</td>\n      <td>Jet</td>\n      <td>2.0</td>\n      <td>...</td>\n      <td>0</td>\n      <td>1</td>\n      <td>0</td>\n      <td>0</td>\n      <td>0</td>\n      <td>1.0</td>\n      <td>1.0</td>\n      <td>1.0</td>\n      <td>1.0</td>\n      <td>1.0</td>\n    </tr>\n    <tr>\n      <th>5613460</th>\n      <td>UA</td>\n      <td>SFO</td>\n      <td>6</td>\n      <td>278.0</td>\n      <td>2139.0</td>\n      <td>2017-01-01 06:20:00</td>\n      <td>2</td>\n      <td>-6</td>\n      <td>Jet</td>\n      <td>2.0</td>\n      <td>...</td>\n      <td>0</td>\n      <td>1</td>\n      <td>0</td>\n      <td>0</td>\n      <td>0</td>\n      <td>1.0</td>\n      <td>1.0</td>\n      <td>1.0</td>\n      <td>1.0</td>\n      <td>1.0</td>\n    </tr>\n    <tr>\n      <th>...</th>\n      <td>...</td>\n      <td>...</td>\n      <td>...</td>\n      <td>...</td>\n      <td>...</td>\n      <td>...</td>\n      <td>...</td>\n      <td>...</td>\n      <td>...</td>\n      <td>...</td>\n      <td>...</td>\n      <td>...</td>\n      <td>...</td>\n      <td>...</td>\n      <td>...</td>\n      <td>...</td>\n      <td>...</td>\n      <td>...</td>\n      <td>...</td>\n      <td>...</td>\n      <td>...</td>\n    </tr>\n    <tr>\n      <th>11289608</th>\n      <td>NK</td>\n      <td>BWI</td>\n      <td>-5</td>\n      <td>122.0</td>\n      <td>577.0</td>\n      <td>2017-12-31 23:37:00</td>\n      <td>8</td>\n      <td>-10</td>\n      <td>Jet</td>\n      <td>2.0</td>\n      <td>...</td>\n      <td>0</td>\n      <td>0</td>\n      <td>0</td>\n      <td>0</td>\n      <td>0</td>\n      <td>0.0</td>\n      <td>0.0</td>\n      <td>0.0</td>\n      <td>0.0</td>\n      <td>0.0</td>\n    </tr>\n    <tr>\n      <th>11284363</th>\n      <td>WN</td>\n      <td>MDW</td>\n      <td>20</td>\n      <td>110.0</td>\n      <td>591.0</td>\n      <td>2017-12-31 23:45:00</td>\n      <td>8</td>\n      <td>5</td>\n      <td>Jet</td>\n      <td>2.0</td>\n      <td>...</td>\n      <td>0</td>\n      <td>0</td>\n      <td>0</td>\n      <td>0</td>\n      <td>0</td>\n      <td>0.0</td>\n      <td>0.0</td>\n      <td>0.0</td>\n      <td>0.0</td>\n      <td>0.0</td>\n    </tr>\n    <tr>\n      <th>11283412</th>\n      <td>WN</td>\n      <td>DEN</td>\n      <td>43</td>\n      <td>170.0</td>\n      <td>1199.0</td>\n      <td>2017-12-31 23:45:00</td>\n      <td>8</td>\n      <td>17</td>\n      <td>Jet</td>\n      <td>2.0</td>\n      <td>...</td>\n      <td>0</td>\n      <td>0</td>\n      <td>0</td>\n      <td>0</td>\n      <td>0</td>\n      <td>0.0</td>\n      <td>0.0</td>\n      <td>0.0</td>\n      <td>0.0</td>\n      <td>0.0</td>\n    </tr>\n    <tr>\n      <th>11286614</th>\n      <td>B6</td>\n      <td>BOS</td>\n      <td>43</td>\n      <td>179.0</td>\n      <td>946.0</td>\n      <td>2017-12-31 23:49:00</td>\n      <td>11</td>\n      <td>30</td>\n      <td>Jet</td>\n      <td>2.0</td>\n      <td>...</td>\n      <td>0</td>\n      <td>0</td>\n      <td>0</td>\n      <td>0</td>\n      <td>0</td>\n      <td>0.0</td>\n      <td>0.0</td>\n      <td>0.0</td>\n      <td>0.0</td>\n      <td>0.0</td>\n    </tr>\n    <tr>\n      <th>11291238</th>\n      <td>DL</td>\n      <td>MSP</td>\n      <td>-1</td>\n      <td>163.0</td>\n      <td>907.0</td>\n      <td>2017-12-31 23:58:00</td>\n      <td>12</td>\n      <td>-29</td>\n      <td>Jet</td>\n      <td>2.0</td>\n      <td>...</td>\n      <td>0</td>\n      <td>0</td>\n      <td>0</td>\n      <td>0</td>\n      <td>0</td>\n      <td>0.0</td>\n      <td>0.0</td>\n      <td>0.0</td>\n      <td>0.0</td>\n      <td>0.0</td>\n    </tr>\n  </tbody>\n</table>\n<p>348136 rows × 44 columns</p>\n</div>"
     },
     "execution_count": 47,
     "metadata": {},
     "output_type": "execute_result"
    }
   ],
   "source": [
    "mode_vars = [\"Physical Class (Engine)\", \"Engines\", \"Wingtip Configuration\",  ]\n",
    "mean_vars= [\"Approach Speed(Vref)\", \"Wingspan, ft\", \"Length, ft\", \"Tail Height, ft(@ OEW)\", \"MTOW\", \"Parking Area (WS x Length), sf\", \"tmpf\", \"dwpf\", \"relh\", \"drct\", \"sknt\", \"p01i\", \"alti\", \"mslp\", \"vsby\", \"feel\"]\n",
    "\n",
    "for col in data.columns:\n",
    "    if col in mode_vars:\n",
    "        data[col] = data[col].replace(np.nan, data[col].mode()[0])\n",
    "    if col in mean_vars:\n",
    "        data[col] = data[col].replace(np.nan, data[col].mean())\n",
    "\n",
    "data"
   ],
   "metadata": {
    "collapsed": false,
    "pycharm": {
     "name": "#%%\n"
    }
   }
  },
  {
   "cell_type": "code",
   "execution_count": 48,
   "outputs": [
    {
     "name": "stdout",
     "output_type": "stream",
     "text": [
      "<class 'pandas.core.frame.DataFrame'>\n",
      "Int64Index: 348136 entries, 5612585 to 11291238\n",
      "Data columns (total 44 columns):\n",
      " #   Column                          Non-Null Count   Dtype         \n",
      "---  ------                          --------------   -----         \n",
      " 0   OP_UNIQUE_CARRIER               348136 non-null  object        \n",
      " 1   ORIGIN                          348136 non-null  object        \n",
      " 2   DEP_DELAY                       348136 non-null  int32         \n",
      " 3   CRS_ELAPSED_TIME                348136 non-null  float64       \n",
      " 4   DISTANCE                        348136 non-null  float64       \n",
      " 5   CRS_ARR_DATE                    348136 non-null  datetime64[ns]\n",
      " 6   PREV_FLIGHTS_1H                 348136 non-null  int64         \n",
      " 7   ARR_DELAY                       348136 non-null  int32         \n",
      " 8   Physical Class (Engine)         348136 non-null  object        \n",
      " 9   Engines                         348136 non-null  float64       \n",
      " 10  Approach Speed(Vref)            348136 non-null  float64       \n",
      " 11  Wingtip Configuration           348136 non-null  object        \n",
      " 12  Wingspan, ft                    348136 non-null  float64       \n",
      " 13  Length, ft                      348136 non-null  float64       \n",
      " 14  Tail Height, ft(@ OEW)          348136 non-null  float64       \n",
      " 15  MTOW                            348136 non-null  float64       \n",
      " 16  Parking Area (WS x Length), sf  348136 non-null  float64       \n",
      " 17  tmpf                            348136 non-null  float64       \n",
      " 18  dwpf                            348136 non-null  float64       \n",
      " 19  relh                            348136 non-null  float64       \n",
      " 20  drct                            348136 non-null  float64       \n",
      " 21  sknt                            348136 non-null  float64       \n",
      " 22  p01i                            348136 non-null  float64       \n",
      " 23  alti                            348136 non-null  float64       \n",
      " 24  mslp                            348136 non-null  float64       \n",
      " 25  vsby                            348136 non-null  float64       \n",
      " 26  feel                            348136 non-null  float64       \n",
      " 27  EVENT_BR                        348136 non-null  int64         \n",
      " 28  EVENT_DZ                        348136 non-null  int64         \n",
      " 29  EVENT_FG                        348136 non-null  int64         \n",
      " 30  EVENT_FU                        348136 non-null  int64         \n",
      " 31  EVENT_GR                        348136 non-null  int64         \n",
      " 32  EVENT_GS                        348136 non-null  int64         \n",
      " 33  EVENT_HZ                        348136 non-null  int64         \n",
      " 34  EVENT_IC                        348136 non-null  int64         \n",
      " 35  EVENT_RA                        348136 non-null  int64         \n",
      " 36  EVENT_SG                        348136 non-null  int64         \n",
      " 37  EVENT_SN                        348136 non-null  int64         \n",
      " 38  EVENT_TS                        348136 non-null  int64         \n",
      " 39  08L/26R                         348136 non-null  float64       \n",
      " 40  08R/26L                         348136 non-null  float64       \n",
      " 41  09L/27R                         348136 non-null  float64       \n",
      " 42  09R/27L                         348136 non-null  float64       \n",
      " 43  10/28                           348136 non-null  float64       \n",
      "dtypes: datetime64[ns](1), float64(24), int32(2), int64(13), object(4)\n",
      "memory usage: 116.9+ MB\n"
     ]
    }
   ],
   "source": [
    "data.info()"
   ],
   "metadata": {
    "collapsed": false,
    "pycharm": {
     "name": "#%%\n"
    }
   }
  },
  {
   "cell_type": "code",
   "execution_count": 49,
   "outputs": [],
   "source": [
    "data[\"CRS_ELAPSED_TIME\"] = data[\"CRS_ELAPSED_TIME\"].astype(int)\n",
    "data[\"DISTANCE\"] = data[\"DISTANCE\"].astype(int)"
   ],
   "metadata": {
    "collapsed": false,
    "pycharm": {
     "name": "#%%\n"
    }
   }
  },
  {
   "cell_type": "code",
   "execution_count": 50,
   "outputs": [
    {
     "data": {
      "text/plain": "         OP_UNIQUE_CARRIER ORIGIN  DEP_DELAY  CRS_ELAPSED_TIME  DISTANCE  \\\n5612585                 F9    LAS          0               230      1747   \n5614966                 DL    SFO         -3               268      2139   \n5616651                 DL    SAN         -6               241      1892   \n5616326                 DL    SFO         -5               270      2139   \n5613460                 UA    SFO          6               278      2139   \n...                    ...    ...        ...               ...       ...   \n11289608                NK    BWI         -5               122       577   \n11284363                WN    MDW         20               110       591   \n11283412                WN    DEN         43               170      1199   \n11286614                B6    BOS         43               179       946   \n11291238                DL    MSP         -1               163       907   \n\n          PREV_FLIGHTS_1H  ARR_DELAY Physical Class (Engine)  Engines  \\\n5612585                 0        -10                     Jet      2.0   \n5614966                 2         -8                     Jet      2.0   \n5616651                 2        -20                     Jet      2.0   \n5616326                 2         -7                     Jet      2.0   \n5613460                 2         -6                     Jet      2.0   \n...                   ...        ...                     ...      ...   \n11289608                8        -10                     Jet      2.0   \n11284363                8          5                     Jet      2.0   \n11283412                8         17                     Jet      2.0   \n11286614               11         30                     Jet      2.0   \n11291238               12        -29                     Jet      2.0   \n\n          Approach Speed(Vref)  ... EVENT_SG  EVENT_SN  EVENT_TS  08L/26R  \\\n5612585                  136.0  ...        0         0         0      1.0   \n5614966                  141.0  ...        0         0         0      1.0   \n5616651                  141.0  ...        0         0         0      1.0   \n5616326                  143.0  ...        0         0         0      1.0   \n5613460                  141.0  ...        0         0         0      1.0   \n...                        ...  ...      ...       ...       ...      ...   \n11289608                 136.0  ...        0         0         0      0.0   \n11284363                 141.0  ...        0         0         0      0.0   \n11283412                 141.0  ...        0         0         0      0.0   \n11286614                 136.0  ...        0         0         0      0.0   \n11291238                 143.0  ...        0         0         0      0.0   \n\n          08R/26L  09L/27R  09R/27L  10/28  ARR_DAY  ARR_MIN_OF_DAY  \n5612585       1.0      1.0      1.0    1.0        6             275  \n5614966       1.0      1.0      1.0    1.0        6             313  \n5616651       1.0      1.0      1.0    1.0        6             361  \n5616326       1.0      1.0      1.0    1.0        6             365  \n5613460       1.0      1.0      1.0    1.0        6             380  \n...           ...      ...      ...    ...      ...             ...  \n11289608      0.0      0.0      0.0    0.0        6            1417  \n11284363      0.0      0.0      0.0    0.0        6            1425  \n11283412      0.0      0.0      0.0    0.0        6            1425  \n11286614      0.0      0.0      0.0    0.0        6            1429  \n11291238      0.0      0.0      0.0    0.0        6            1438  \n\n[348136 rows x 45 columns]",
      "text/html": "<div>\n<style scoped>\n    .dataframe tbody tr th:only-of-type {\n        vertical-align: middle;\n    }\n\n    .dataframe tbody tr th {\n        vertical-align: top;\n    }\n\n    .dataframe thead th {\n        text-align: right;\n    }\n</style>\n<table border=\"1\" class=\"dataframe\">\n  <thead>\n    <tr style=\"text-align: right;\">\n      <th></th>\n      <th>OP_UNIQUE_CARRIER</th>\n      <th>ORIGIN</th>\n      <th>DEP_DELAY</th>\n      <th>CRS_ELAPSED_TIME</th>\n      <th>DISTANCE</th>\n      <th>PREV_FLIGHTS_1H</th>\n      <th>ARR_DELAY</th>\n      <th>Physical Class (Engine)</th>\n      <th>Engines</th>\n      <th>Approach Speed(Vref)</th>\n      <th>...</th>\n      <th>EVENT_SG</th>\n      <th>EVENT_SN</th>\n      <th>EVENT_TS</th>\n      <th>08L/26R</th>\n      <th>08R/26L</th>\n      <th>09L/27R</th>\n      <th>09R/27L</th>\n      <th>10/28</th>\n      <th>ARR_DAY</th>\n      <th>ARR_MIN_OF_DAY</th>\n    </tr>\n  </thead>\n  <tbody>\n    <tr>\n      <th>5612585</th>\n      <td>F9</td>\n      <td>LAS</td>\n      <td>0</td>\n      <td>230</td>\n      <td>1747</td>\n      <td>0</td>\n      <td>-10</td>\n      <td>Jet</td>\n      <td>2.0</td>\n      <td>136.0</td>\n      <td>...</td>\n      <td>0</td>\n      <td>0</td>\n      <td>0</td>\n      <td>1.0</td>\n      <td>1.0</td>\n      <td>1.0</td>\n      <td>1.0</td>\n      <td>1.0</td>\n      <td>6</td>\n      <td>275</td>\n    </tr>\n    <tr>\n      <th>5614966</th>\n      <td>DL</td>\n      <td>SFO</td>\n      <td>-3</td>\n      <td>268</td>\n      <td>2139</td>\n      <td>2</td>\n      <td>-8</td>\n      <td>Jet</td>\n      <td>2.0</td>\n      <td>141.0</td>\n      <td>...</td>\n      <td>0</td>\n      <td>0</td>\n      <td>0</td>\n      <td>1.0</td>\n      <td>1.0</td>\n      <td>1.0</td>\n      <td>1.0</td>\n      <td>1.0</td>\n      <td>6</td>\n      <td>313</td>\n    </tr>\n    <tr>\n      <th>5616651</th>\n      <td>DL</td>\n      <td>SAN</td>\n      <td>-6</td>\n      <td>241</td>\n      <td>1892</td>\n      <td>2</td>\n      <td>-20</td>\n      <td>Jet</td>\n      <td>2.0</td>\n      <td>141.0</td>\n      <td>...</td>\n      <td>0</td>\n      <td>0</td>\n      <td>0</td>\n      <td>1.0</td>\n      <td>1.0</td>\n      <td>1.0</td>\n      <td>1.0</td>\n      <td>1.0</td>\n      <td>6</td>\n      <td>361</td>\n    </tr>\n    <tr>\n      <th>5616326</th>\n      <td>DL</td>\n      <td>SFO</td>\n      <td>-5</td>\n      <td>270</td>\n      <td>2139</td>\n      <td>2</td>\n      <td>-7</td>\n      <td>Jet</td>\n      <td>2.0</td>\n      <td>143.0</td>\n      <td>...</td>\n      <td>0</td>\n      <td>0</td>\n      <td>0</td>\n      <td>1.0</td>\n      <td>1.0</td>\n      <td>1.0</td>\n      <td>1.0</td>\n      <td>1.0</td>\n      <td>6</td>\n      <td>365</td>\n    </tr>\n    <tr>\n      <th>5613460</th>\n      <td>UA</td>\n      <td>SFO</td>\n      <td>6</td>\n      <td>278</td>\n      <td>2139</td>\n      <td>2</td>\n      <td>-6</td>\n      <td>Jet</td>\n      <td>2.0</td>\n      <td>141.0</td>\n      <td>...</td>\n      <td>0</td>\n      <td>0</td>\n      <td>0</td>\n      <td>1.0</td>\n      <td>1.0</td>\n      <td>1.0</td>\n      <td>1.0</td>\n      <td>1.0</td>\n      <td>6</td>\n      <td>380</td>\n    </tr>\n    <tr>\n      <th>...</th>\n      <td>...</td>\n      <td>...</td>\n      <td>...</td>\n      <td>...</td>\n      <td>...</td>\n      <td>...</td>\n      <td>...</td>\n      <td>...</td>\n      <td>...</td>\n      <td>...</td>\n      <td>...</td>\n      <td>...</td>\n      <td>...</td>\n      <td>...</td>\n      <td>...</td>\n      <td>...</td>\n      <td>...</td>\n      <td>...</td>\n      <td>...</td>\n      <td>...</td>\n      <td>...</td>\n    </tr>\n    <tr>\n      <th>11289608</th>\n      <td>NK</td>\n      <td>BWI</td>\n      <td>-5</td>\n      <td>122</td>\n      <td>577</td>\n      <td>8</td>\n      <td>-10</td>\n      <td>Jet</td>\n      <td>2.0</td>\n      <td>136.0</td>\n      <td>...</td>\n      <td>0</td>\n      <td>0</td>\n      <td>0</td>\n      <td>0.0</td>\n      <td>0.0</td>\n      <td>0.0</td>\n      <td>0.0</td>\n      <td>0.0</td>\n      <td>6</td>\n      <td>1417</td>\n    </tr>\n    <tr>\n      <th>11284363</th>\n      <td>WN</td>\n      <td>MDW</td>\n      <td>20</td>\n      <td>110</td>\n      <td>591</td>\n      <td>8</td>\n      <td>5</td>\n      <td>Jet</td>\n      <td>2.0</td>\n      <td>141.0</td>\n      <td>...</td>\n      <td>0</td>\n      <td>0</td>\n      <td>0</td>\n      <td>0.0</td>\n      <td>0.0</td>\n      <td>0.0</td>\n      <td>0.0</td>\n      <td>0.0</td>\n      <td>6</td>\n      <td>1425</td>\n    </tr>\n    <tr>\n      <th>11283412</th>\n      <td>WN</td>\n      <td>DEN</td>\n      <td>43</td>\n      <td>170</td>\n      <td>1199</td>\n      <td>8</td>\n      <td>17</td>\n      <td>Jet</td>\n      <td>2.0</td>\n      <td>141.0</td>\n      <td>...</td>\n      <td>0</td>\n      <td>0</td>\n      <td>0</td>\n      <td>0.0</td>\n      <td>0.0</td>\n      <td>0.0</td>\n      <td>0.0</td>\n      <td>0.0</td>\n      <td>6</td>\n      <td>1425</td>\n    </tr>\n    <tr>\n      <th>11286614</th>\n      <td>B6</td>\n      <td>BOS</td>\n      <td>43</td>\n      <td>179</td>\n      <td>946</td>\n      <td>11</td>\n      <td>30</td>\n      <td>Jet</td>\n      <td>2.0</td>\n      <td>136.0</td>\n      <td>...</td>\n      <td>0</td>\n      <td>0</td>\n      <td>0</td>\n      <td>0.0</td>\n      <td>0.0</td>\n      <td>0.0</td>\n      <td>0.0</td>\n      <td>0.0</td>\n      <td>6</td>\n      <td>1429</td>\n    </tr>\n    <tr>\n      <th>11291238</th>\n      <td>DL</td>\n      <td>MSP</td>\n      <td>-1</td>\n      <td>163</td>\n      <td>907</td>\n      <td>12</td>\n      <td>-29</td>\n      <td>Jet</td>\n      <td>2.0</td>\n      <td>143.0</td>\n      <td>...</td>\n      <td>0</td>\n      <td>0</td>\n      <td>0</td>\n      <td>0.0</td>\n      <td>0.0</td>\n      <td>0.0</td>\n      <td>0.0</td>\n      <td>0.0</td>\n      <td>6</td>\n      <td>1438</td>\n    </tr>\n  </tbody>\n</table>\n<p>348136 rows × 45 columns</p>\n</div>"
     },
     "execution_count": 50,
     "metadata": {},
     "output_type": "execute_result"
    }
   ],
   "source": [
    "data[\"ARR_DAY\"] = data[\"CRS_ARR_DATE\"].apply(lambda x: x.weekday())\n",
    "data[\"ARR_MIN_OF_DAY\"] = data[\"CRS_ARR_DATE\"].apply(lambda x: x.hour * 60 + x.minute)\n",
    "data = data.drop([\"CRS_ARR_DATE\"],axis=\"columns\")\n",
    "data"
   ],
   "metadata": {
    "collapsed": false,
    "pycharm": {
     "name": "#%%\n"
    }
   }
  },
  {
   "cell_type": "code",
   "execution_count": 51,
   "outputs": [
    {
     "data": {
      "text/plain": "<Figure size 640x480 with 1 Axes>",
      "image/png": "[encoded data removed]"
     },
     "metadata": {},
     "output_type": "display_data"
    }
   ],
   "source": [
    "def encode(data, col, max_val):\n",
    "    data[col + '_SIN'] = np.sin(2 * np.pi * data[col]/max_val)\n",
    "    data[col + '_COS'] = np.cos(2 * np.pi * data[col]/max_val)\n",
    "    return data\n",
    "\n",
    "data = encode(data, \"ARR_DAY\", 7)\n",
    "ax = data.plot.scatter('ARR_DAY_SIN', 'ARR_DAY_COS').set_aspect('equal')"
   ],
   "metadata": {
    "collapsed": false,
    "pycharm": {
     "name": "#%%\n"
    }
   }
  },
  {
   "cell_type": "code",
   "execution_count": 52,
   "outputs": [
    {
     "data": {
      "text/plain": "<Figure size 640x480 with 1 Axes>",
      "image/png": "[encoded data removed]"
     },
     "metadata": {},
     "output_type": "display_data"
    }
   ],
   "source": [
    "data = encode(data, \"ARR_MIN_OF_DAY\", 24*60)\n",
    "ax = data.plot.scatter('ARR_MIN_OF_DAY_SIN', 'ARR_MIN_OF_DAY_COS').set_aspect('equal')"
   ],
   "metadata": {
    "collapsed": false,
    "pycharm": {
     "name": "#%%\n"
    }
   }
  },
  {
   "cell_type": "code",
   "execution_count": 53,
   "outputs": [],
   "source": [
    "data = data.join(pd.get_dummies(data[\"Physical Class (Engine)\"])).drop([\"Physical Class (Engine)\"],axis=1)\n",
    "data = data.join(pd.get_dummies(data[\"Wingtip Configuration\"])).drop([\"Wingtip Configuration\"],axis=1)"
   ],
   "metadata": {
    "collapsed": false,
    "pycharm": {
     "name": "#%%\n"
    }
   }
  },
  {
   "cell_type": "code",
   "execution_count": null,
   "outputs": [],
   "source": [],
   "metadata": {
    "collapsed": false
   }
  },
  {
   "cell_type": "code",
   "execution_count": 54,
   "outputs": [
    {
     "data": {
      "text/plain": "         OP_UNIQUE_CARRIER ORIGIN  DEP_DELAY  CRS_ELAPSED_TIME  DISTANCE  \\\n5612585                 F9    LAS          0               230      1747   \n5614966                 DL    SFO         -3               268      2139   \n5616651                 DL    SAN         -6               241      1892   \n5616326                 DL    SFO         -5               270      2139   \n5613460                 UA    SFO          6               278      2139   \n...                    ...    ...        ...               ...       ...   \n11289608                NK    BWI         -5               122       577   \n11284363                WN    MDW         20               110       591   \n11283412                WN    DEN         43               170      1199   \n11286614                B6    BOS         43               179       946   \n11291238                DL    MSP         -1               163       907   \n\n          PREV_FLIGHTS_1H  ARR_DELAY  Engines  Approach Speed(Vref)  \\\n5612585                 0        -10      2.0                 136.0   \n5614966                 2         -8      2.0                 141.0   \n5616651                 2        -20      2.0                 141.0   \n5616326                 2         -7      2.0                 143.0   \n5613460                 2         -6      2.0                 141.0   \n...                   ...        ...      ...                   ...   \n11289608                8        -10      2.0                 136.0   \n11284363                8          5      2.0                 141.0   \n11283412                8         17      2.0                 141.0   \n11286614               11         30      2.0                 136.0   \n11291238               12        -29      2.0                 143.0   \n\n          Wingspan, ft  ...  10/28  ARR_DAY_SIN  ARR_DAY_COS  \\\n5612585         111.88  ...    1.0    -0.781831      0.62349   \n5614966         112.58  ...    1.0    -0.781831      0.62349   \n5616651         112.58  ...    1.0    -0.781831      0.62349   \n5616326         124.83  ...    1.0    -0.781831      0.62349   \n5613460         112.58  ...    1.0    -0.781831      0.62349   \n...                ...  ...    ...          ...          ...   \n11289608        111.88  ...    0.0    -0.781831      0.62349   \n11284363        112.58  ...    0.0    -0.781831      0.62349   \n11283412        112.58  ...    0.0    -0.781831      0.62349   \n11286614        111.88  ...    0.0    -0.781831      0.62349   \n11291238        124.83  ...    0.0    -0.781831      0.62349   \n\n          ARR_MIN_OF_DAY_SIN  ARR_MIN_OF_DAY_COS  Jet  Turboprop  no winglets  \\\n5612585             0.932008            0.362438    1          0            0   \n5614966             0.979045            0.203642    1          0            1   \n5616651             0.999990           -0.004363    1          0            1   \n5616326             0.999762           -0.021815    1          0            1   \n5613460             0.996195           -0.087156    1          0            1   \n...                      ...                 ...  ...        ...          ...   \n11289608           -0.100188            0.994969    1          0            0   \n11284363           -0.065403            0.997859    1          0            1   \n11283412           -0.065403            0.997859    1          0            1   \n11286614           -0.047978            0.998848    1          0            0   \n11291238           -0.008727            0.999962    1          0            1   \n\n          winglets  wingtip fences  \n5612585          0               1  \n5614966          0               0  \n5616651          0               0  \n5616326          0               0  \n5613460          0               0  \n...            ...             ...  \n11289608         0               1  \n11284363         0               0  \n11283412         0               0  \n11286614         0               1  \n11291238         0               0  \n\n[348136 rows x 50 columns]",
      "text/html": "<div>\n<style scoped>\n    .dataframe tbody tr th:only-of-type {\n        vertical-align: middle;\n    }\n\n    .dataframe tbody tr th {\n        vertical-align: top;\n    }\n\n    .dataframe thead th {\n        text-align: right;\n    }\n</style>\n<table border=\"1\" class=\"dataframe\">\n  <thead>\n    <tr style=\"text-align: right;\">\n      <th></th>\n      <th>OP_UNIQUE_CARRIER</th>\n      <th>ORIGIN</th>\n      <th>DEP_DELAY</th>\n      <th>CRS_ELAPSED_TIME</th>\n      <th>DISTANCE</th>\n      <th>PREV_FLIGHTS_1H</th>\n      <th>ARR_DELAY</th>\n      <th>Engines</th>\n      <th>Approach Speed(Vref)</th>\n      <th>Wingspan, ft</th>\n      <th>...</th>\n      <th>10/28</th>\n      <th>ARR_DAY_SIN</th>\n      <th>ARR_DAY_COS</th>\n      <th>ARR_MIN_OF_DAY_SIN</th>\n      <th>ARR_MIN_OF_DAY_COS</th>\n      <th>Jet</th>\n      <th>Turboprop</th>\n      <th>no winglets</th>\n      <th>winglets</th>\n      <th>wingtip fences</th>\n    </tr>\n  </thead>\n  <tbody>\n    <tr>\n      <th>5612585</th>\n      <td>F9</td>\n      <td>LAS</td>\n      <td>0</td>\n      <td>230</td>\n      <td>1747</td>\n      <td>0</td>\n      <td>-10</td>\n      <td>2.0</td>\n      <td>136.0</td>\n      <td>111.88</td>\n      <td>...</td>\n      <td>1.0</td>\n      <td>-0.781831</td>\n      <td>0.62349</td>\n      <td>0.932008</td>\n      <td>0.362438</td>\n      <td>1</td>\n      <td>0</td>\n      <td>0</td>\n      <td>0</td>\n      <td>1</td>\n    </tr>\n    <tr>\n      <th>5614966</th>\n      <td>DL</td>\n      <td>SFO</td>\n      <td>-3</td>\n      <td>268</td>\n      <td>2139</td>\n      <td>2</td>\n      <td>-8</td>\n      <td>2.0</td>\n      <td>141.0</td>\n      <td>112.58</td>\n      <td>...</td>\n      <td>1.0</td>\n      <td>-0.781831</td>\n      <td>0.62349</td>\n      <td>0.979045</td>\n      <td>0.203642</td>\n      <td>1</td>\n      <td>0</td>\n      <td>1</td>\n      <td>0</td>\n      <td>0</td>\n    </tr>\n    <tr>\n      <th>5616651</th>\n      <td>DL</td>\n      <td>SAN</td>\n      <td>-6</td>\n      <td>241</td>\n      <td>1892</td>\n      <td>2</td>\n      <td>-20</td>\n      <td>2.0</td>\n      <td>141.0</td>\n      <td>112.58</td>\n      <td>...</td>\n      <td>1.0</td>\n      <td>-0.781831</td>\n      <td>0.62349</td>\n      <td>0.999990</td>\n      <td>-0.004363</td>\n      <td>1</td>\n      <td>0</td>\n      <td>1</td>\n      <td>0</td>\n      <td>0</td>\n    </tr>\n    <tr>\n      <th>5616326</th>\n      <td>DL</td>\n      <td>SFO</td>\n      <td>-5</td>\n      <td>270</td>\n      <td>2139</td>\n      <td>2</td>\n      <td>-7</td>\n      <td>2.0</td>\n      <td>143.0</td>\n      <td>124.83</td>\n      <td>...</td>\n      <td>1.0</td>\n      <td>-0.781831</td>\n      <td>0.62349</td>\n      <td>0.999762</td>\n      <td>-0.021815</td>\n      <td>1</td>\n      <td>0</td>\n      <td>1</td>\n      <td>0</td>\n      <td>0</td>\n    </tr>\n    <tr>\n      <th>5613460</th>\n      <td>UA</td>\n      <td>SFO</td>\n      <td>6</td>\n      <td>278</td>\n      <td>2139</td>\n      <td>2</td>\n      <td>-6</td>\n      <td>2.0</td>\n      <td>141.0</td>\n      <td>112.58</td>\n      <td>...</td>\n      <td>1.0</td>\n      <td>-0.781831</td>\n      <td>0.62349</td>\n      <td>0.996195</td>\n      <td>-0.087156</td>\n      <td>1</td>\n      <td>0</td>\n      <td>1</td>\n      <td>0</td>\n      <td>0</td>\n    </tr>\n    <tr>\n      <th>...</th>\n      <td>...</td>\n      <td>...</td>\n      <td>...</td>\n      <td>...</td>\n      <td>...</td>\n      <td>...</td>\n      <td>...</td>\n      <td>...</td>\n      <td>...</td>\n      <td>...</td>\n      <td>...</td>\n      <td>...</td>\n      <td>...</td>\n      <td>...</td>\n      <td>...</td>\n      <td>...</td>\n      <td>...</td>\n      <td>...</td>\n      <td>...</td>\n      <td>...</td>\n      <td>...</td>\n    </tr>\n    <tr>\n      <th>11289608</th>\n      <td>NK</td>\n      <td>BWI</td>\n      <td>-5</td>\n      <td>122</td>\n      <td>577</td>\n      <td>8</td>\n      <td>-10</td>\n      <td>2.0</td>\n      <td>136.0</td>\n      <td>111.88</td>\n      <td>...</td>\n      <td>0.0</td>\n      <td>-0.781831</td>\n      <td>0.62349</td>\n      <td>-0.100188</td>\n      <td>0.994969</td>\n      <td>1</td>\n      <td>0</td>\n      <td>0</td>\n      <td>0</td>\n      <td>1</td>\n    </tr>\n    <tr>\n      <th>11284363</th>\n      <td>WN</td>\n      <td>MDW</td>\n      <td>20</td>\n      <td>110</td>\n      <td>591</td>\n      <td>8</td>\n      <td>5</td>\n      <td>2.0</td>\n      <td>141.0</td>\n      <td>112.58</td>\n      <td>...</td>\n      <td>0.0</td>\n      <td>-0.781831</td>\n      <td>0.62349</td>\n      <td>-0.065403</td>\n      <td>0.997859</td>\n      <td>1</td>\n      <td>0</td>\n      <td>1</td>\n      <td>0</td>\n      <td>0</td>\n    </tr>\n    <tr>\n      <th>11283412</th>\n      <td>WN</td>\n      <td>DEN</td>\n      <td>43</td>\n      <td>170</td>\n      <td>1199</td>\n      <td>8</td>\n      <td>17</td>\n      <td>2.0</td>\n      <td>141.0</td>\n      <td>112.58</td>\n      <td>...</td>\n      <td>0.0</td>\n      <td>-0.781831</td>\n      <td>0.62349</td>\n      <td>-0.065403</td>\n      <td>0.997859</td>\n      <td>1</td>\n      <td>0</td>\n      <td>1</td>\n      <td>0</td>\n      <td>0</td>\n    </tr>\n    <tr>\n      <th>11286614</th>\n      <td>B6</td>\n      <td>BOS</td>\n      <td>43</td>\n      <td>179</td>\n      <td>946</td>\n      <td>11</td>\n      <td>30</td>\n      <td>2.0</td>\n      <td>136.0</td>\n      <td>111.88</td>\n      <td>...</td>\n      <td>0.0</td>\n      <td>-0.781831</td>\n      <td>0.62349</td>\n      <td>-0.047978</td>\n      <td>0.998848</td>\n      <td>1</td>\n      <td>0</td>\n      <td>0</td>\n      <td>0</td>\n      <td>1</td>\n    </tr>\n    <tr>\n      <th>11291238</th>\n      <td>DL</td>\n      <td>MSP</td>\n      <td>-1</td>\n      <td>163</td>\n      <td>907</td>\n      <td>12</td>\n      <td>-29</td>\n      <td>2.0</td>\n      <td>143.0</td>\n      <td>124.83</td>\n      <td>...</td>\n      <td>0.0</td>\n      <td>-0.781831</td>\n      <td>0.62349</td>\n      <td>-0.008727</td>\n      <td>0.999962</td>\n      <td>1</td>\n      <td>0</td>\n      <td>1</td>\n      <td>0</td>\n      <td>0</td>\n    </tr>\n  </tbody>\n</table>\n<p>348136 rows × 50 columns</p>\n</div>"
     },
     "execution_count": 54,
     "metadata": {},
     "output_type": "execute_result"
    }
   ],
   "source": [
    "data = data.drop([\"ARR_MIN_OF_DAY\", \"ARR_DAY\"], axis=1)\n",
    "data"
   ],
   "metadata": {
    "collapsed": false,
    "pycharm": {
     "name": "#%%\n"
    }
   }
  },
  {
   "cell_type": "code",
   "execution_count": 55,
   "outputs": [],
   "source": [
    "#cols = list(data.columns)\n",
    "#cols.remove(\"ARR_DELAY_MINS\")\n",
    "#cols = cols[40:44] + cols[:40] + cols[44:]\n",
    "#cols.append(\"ARR_DELAY_MINS\")\n",
    "#data = data[cols]\n",
    "#data"
   ],
   "metadata": {
    "collapsed": false,
    "pycharm": {
     "name": "#%%\n"
    }
   }
  },
  {
   "cell_type": "code",
   "execution_count": 56,
   "outputs": [
    {
     "data": {
      "text/plain": "Index(['OP_UNIQUE_CARRIER', 'ORIGIN', 'DEP_DELAY', 'CRS_ELAPSED_TIME',\n       'DISTANCE', 'PREV_FLIGHTS_1H', 'ARR_DELAY', 'Engines',\n       'Approach Speed(Vref)', 'Wingspan, ft', 'Length, ft',\n       'Tail Height, ft(@ OEW)', 'MTOW', 'Parking Area (WS x Length), sf',\n       'tmpf', 'dwpf', 'relh', 'drct', 'sknt', 'p01i', 'alti', 'mslp', 'vsby',\n       'feel', 'EVENT_BR', 'EVENT_DZ', 'EVENT_FG', 'EVENT_FU', 'EVENT_GR',\n       'EVENT_GS', 'EVENT_HZ', 'EVENT_IC', 'EVENT_RA', 'EVENT_SG', 'EVENT_SN',\n       'EVENT_TS', '08L/26R', '08R/26L', '09L/27R', '09R/27L', '10/28',\n       'ARR_DAY_SIN', 'ARR_DAY_COS', 'ARR_MIN_OF_DAY_SIN',\n       'ARR_MIN_OF_DAY_COS', 'Jet', 'Turboprop', 'no winglets', 'winglets',\n       'wingtip fences'],\n      dtype='object')"
     },
     "execution_count": 56,
     "metadata": {},
     "output_type": "execute_result"
    }
   ],
   "source": [
    "data.columns"
   ],
   "metadata": {
    "collapsed": false,
    "pycharm": {
     "name": "#%%\n"
    }
   }
  },
  {
   "cell_type": "code",
   "execution_count": 57,
   "outputs": [
    {
     "data": {
      "text/plain": "OP_UNIQUE_CARRIER                       F9\nORIGIN                                 LAS\nDEP_DELAY                                0\nCRS_ELAPSED_TIME                       230\nDISTANCE                              1747\nPREV_FLIGHTS_1H                          0\nARR_DELAY                              -10\nEngines                                2.0\nApproach Speed(Vref)                 136.0\nWingspan, ft                        111.88\nLength, ft                          123.27\nTail Height, ft(@ OEW)               39.63\nMTOW                              171961.0\nParking Area (WS x Length), sf     13791.0\ntmpf                                  42.1\ndwpf                                  41.0\nrelh                                 95.84\ndrct                                 140.0\nsknt                                   6.0\np01i                                  0.03\nalti                                 30.09\nmslp                                1018.8\nvsby                                   5.0\nfeel                                 35.63\nEVENT_BR                                 2\nEVENT_DZ                                 0\nEVENT_FG                                 0\nEVENT_FU                                 0\nEVENT_GR                                 0\nEVENT_GS                                 0\nEVENT_HZ                                 0\nEVENT_IC                                 0\nEVENT_RA                                 1\nEVENT_SG                                 0\nEVENT_SN                                 0\nEVENT_TS                                 0\n08L/26R                                1.0\n08R/26L                                1.0\n09L/27R                                1.0\n09R/27L                                1.0\n10/28                                  1.0\nARR_DAY_SIN                      -0.781831\nARR_DAY_COS                        0.62349\nARR_MIN_OF_DAY_SIN                0.932008\nARR_MIN_OF_DAY_COS                0.362438\nJet                                      1\nTurboprop                                0\nno winglets                              0\nwinglets                                 0\nwingtip fences                           1\nName: 5612585, dtype: object"
     },
     "execution_count": 57,
     "metadata": {},
     "output_type": "execute_result"
    }
   ],
   "source": [
    "data.iloc[0]"
   ],
   "metadata": {
    "collapsed": false,
    "pycharm": {
     "name": "#%%\n"
    }
   }
  },
  {
   "cell_type": "code",
   "execution_count": 58,
   "outputs": [
    {
     "name": "stdout",
     "output_type": "stream",
     "text": [
      "<class 'pandas.core.frame.DataFrame'>\n",
      "Int64Index: 348136 entries, 5612585 to 11291238\n",
      "Data columns (total 50 columns):\n",
      " #   Column                          Non-Null Count   Dtype  \n",
      "---  ------                          --------------   -----  \n",
      " 0   OP_UNIQUE_CARRIER               348136 non-null  object \n",
      " 1   ORIGIN                          348136 non-null  object \n",
      " 2   DEP_DELAY                       348136 non-null  int32  \n",
      " 3   CRS_ELAPSED_TIME                348136 non-null  int32  \n",
      " 4   DISTANCE                        348136 non-null  int32  \n",
      " 5   PREV_FLIGHTS_1H                 348136 non-null  int64  \n",
      " 6   ARR_DELAY                       348136 non-null  int32  \n",
      " 7   Engines                         348136 non-null  float64\n",
      " 8   Approach Speed(Vref)            348136 non-null  float64\n",
      " 9   Wingspan, ft                    348136 non-null  float64\n",
      " 10  Length, ft                      348136 non-null  float64\n",
      " 11  Tail Height, ft(@ OEW)          348136 non-null  float64\n",
      " 12  MTOW                            348136 non-null  float64\n",
      " 13  Parking Area (WS x Length), sf  348136 non-null  float64\n",
      " 14  tmpf                            348136 non-null  float64\n",
      " 15  dwpf                            348136 non-null  float64\n",
      " 16  relh                            348136 non-null  float64\n",
      " 17  drct                            348136 non-null  float64\n",
      " 18  sknt                            348136 non-null  float64\n",
      " 19  p01i                            348136 non-null  float64\n",
      " 20  alti                            348136 non-null  float64\n",
      " 21  mslp                            348136 non-null  float64\n",
      " 22  vsby                            348136 non-null  float64\n",
      " 23  feel                            348136 non-null  float64\n",
      " 24  EVENT_BR                        348136 non-null  int64  \n",
      " 25  EVENT_DZ                        348136 non-null  int64  \n",
      " 26  EVENT_FG                        348136 non-null  int64  \n",
      " 27  EVENT_FU                        348136 non-null  int64  \n",
      " 28  EVENT_GR                        348136 non-null  int64  \n",
      " 29  EVENT_GS                        348136 non-null  int64  \n",
      " 30  EVENT_HZ                        348136 non-null  int64  \n",
      " 31  EVENT_IC                        348136 non-null  int64  \n",
      " 32  EVENT_RA                        348136 non-null  int64  \n",
      " 33  EVENT_SG                        348136 non-null  int64  \n",
      " 34  EVENT_SN                        348136 non-null  int64  \n",
      " 35  EVENT_TS                        348136 non-null  int64  \n",
      " 36  08L/26R                         348136 non-null  float64\n",
      " 37  08R/26L                         348136 non-null  float64\n",
      " 38  09L/27R                         348136 non-null  float64\n",
      " 39  09R/27L                         348136 non-null  float64\n",
      " 40  10/28                           348136 non-null  float64\n",
      " 41  ARR_DAY_SIN                     348136 non-null  float64\n",
      " 42  ARR_DAY_COS                     348136 non-null  float64\n",
      " 43  ARR_MIN_OF_DAY_SIN              348136 non-null  float64\n",
      " 44  ARR_MIN_OF_DAY_COS              348136 non-null  float64\n",
      " 45  Jet                             348136 non-null  uint8  \n",
      " 46  Turboprop                       348136 non-null  uint8  \n",
      " 47  no winglets                     348136 non-null  uint8  \n",
      " 48  winglets                        348136 non-null  uint8  \n",
      " 49  wingtip fences                  348136 non-null  uint8  \n",
      "dtypes: float64(26), int32(4), int64(13), object(2), uint8(5)\n",
      "memory usage: 126.6+ MB\n"
     ]
    }
   ],
   "source": [
    "data.info()"
   ],
   "metadata": {
    "collapsed": false,
    "pycharm": {
     "name": "#%%\n"
    }
   }
  },
  {
   "cell_type": "code",
   "execution_count": 59,
   "outputs": [],
   "source": [
    "#y = data[data.columns[-1:]].to_numpy()\n",
    "#X = data[data.columns[:-1]].to_numpy()\n",
    "#bins_pos = []\n",
    "\n",
    "#for bin_step in range(-105, 150, 30):\n",
    "#    bins_pos.append(bin_step)\n",
    "\n",
    "#print(bins_pos)\n",
    "#plt.hist(y, bins=bins_pos)\n",
    "#plt.show()"
   ],
   "metadata": {
    "collapsed": false,
    "pycharm": {
     "name": "#%%\n"
    }
   }
  },
  {
   "cell_type": "code",
   "execution_count": 60,
   "outputs": [],
   "source": [
    "#fig = plt.figure(figsize=(13,5))\n",
    "#ax1 = fig.add_subplot(121)\n",
    "#ax2 = fig.add_subplot(122)\n",
    "#\n",
    "#bins1 = [y.min(),-45,-15,15,45,y.max()+1]\n",
    "#labels1 = [\"Strong Early\",\"Early\",\"Normal\",\"Late\",\"Strong Late\"]\n",
    "#bins2 = [y.min(),-15,15,y.max()+1]\n",
    "#labels2 = [\"Early\",\"Normal\",\"Late\"]\n",
    "#cats1 = pd.cut(data.ARR_DELAY_MINS, bins1, labels = labels1,include_lowest = True)\n",
    "#cats2 = pd.cut(data.ARR_DELAY_MINS, bins2, labels = labels2,include_lowest = True)\n",
    "\n",
    "#ax1.bar(cats1.value_counts().index.to_list(), list(cats1.value_counts().values))\n",
    "#ax2.bar(cats2.value_counts().index.to_list(), list(cats2.value_counts().values))\n",
    "#plt.plot()"
   ],
   "metadata": {
    "collapsed": false,
    "pycharm": {
     "name": "#%%\n"
    }
   }
  },
  {
   "cell_type": "code",
   "execution_count": 61,
   "outputs": [],
   "source": [
    "#data[\"ARR_DELAY_CATS\"] = list(cats2.values)\n",
    "#data = data.drop([\"ARR_DELAY_MINS\"], axis=\"columns\")\n",
    "#y_dict = {\n",
    "#    \"Early\" : 0,\n",
    "#    \"Normal\" : 1,\n",
    "#    \"Late\" : 2\n",
    "#}\n",
    "#data[\"ARR_DELAY_CATS\"] = data[\"ARR_DELAY_CATS\"].apply(lambda x: int(y_dict.get(x)))\n",
    "#data"
   ],
   "metadata": {
    "collapsed": false,
    "pycharm": {
     "name": "#%%\n"
    }
   }
  },
  {
   "cell_type": "code",
   "execution_count": 62,
   "outputs": [
    {
     "name": "stdout",
     "output_type": "stream",
     "text": [
      "<class 'pandas.core.frame.DataFrame'>\n",
      "Int64Index: 348136 entries, 5612585 to 11291238\n",
      "Data columns (total 50 columns):\n",
      " #   Column                          Non-Null Count   Dtype  \n",
      "---  ------                          --------------   -----  \n",
      " 0   OP_UNIQUE_CARRIER               348136 non-null  object \n",
      " 1   ORIGIN                          348136 non-null  object \n",
      " 2   DEP_DELAY                       348136 non-null  int32  \n",
      " 3   CRS_ELAPSED_TIME                348136 non-null  int32  \n",
      " 4   DISTANCE                        348136 non-null  int32  \n",
      " 5   PREV_FLIGHTS_1H                 348136 non-null  int64  \n",
      " 6   ARR_DELAY                       348136 non-null  int32  \n",
      " 7   Engines                         348136 non-null  float64\n",
      " 8   Approach Speed(Vref)            348136 non-null  float64\n",
      " 9   Wingspan, ft                    348136 non-null  float64\n",
      " 10  Length, ft                      348136 non-null  float64\n",
      " 11  Tail Height, ft(@ OEW)          348136 non-null  float64\n",
      " 12  MTOW                            348136 non-null  float64\n",
      " 13  Parking Area (WS x Length), sf  348136 non-null  float64\n",
      " 14  tmpf                            348136 non-null  float64\n",
      " 15  dwpf                            348136 non-null  float64\n",
      " 16  relh                            348136 non-null  float64\n",
      " 17  drct                            348136 non-null  float64\n",
      " 18  sknt                            348136 non-null  float64\n",
      " 19  p01i                            348136 non-null  float64\n",
      " 20  alti                            348136 non-null  float64\n",
      " 21  mslp                            348136 non-null  float64\n",
      " 22  vsby                            348136 non-null  float64\n",
      " 23  feel                            348136 non-null  float64\n",
      " 24  EVENT_BR                        348136 non-null  int64  \n",
      " 25  EVENT_DZ                        348136 non-null  int64  \n",
      " 26  EVENT_FG                        348136 non-null  int64  \n",
      " 27  EVENT_FU                        348136 non-null  int64  \n",
      " 28  EVENT_GR                        348136 non-null  int64  \n",
      " 29  EVENT_GS                        348136 non-null  int64  \n",
      " 30  EVENT_HZ                        348136 non-null  int64  \n",
      " 31  EVENT_IC                        348136 non-null  int64  \n",
      " 32  EVENT_RA                        348136 non-null  int64  \n",
      " 33  EVENT_SG                        348136 non-null  int64  \n",
      " 34  EVENT_SN                        348136 non-null  int64  \n",
      " 35  EVENT_TS                        348136 non-null  int64  \n",
      " 36  08L/26R                         348136 non-null  float64\n",
      " 37  08R/26L                         348136 non-null  float64\n",
      " 38  09L/27R                         348136 non-null  float64\n",
      " 39  09R/27L                         348136 non-null  float64\n",
      " 40  10/28                           348136 non-null  float64\n",
      " 41  ARR_DAY_SIN                     348136 non-null  float64\n",
      " 42  ARR_DAY_COS                     348136 non-null  float64\n",
      " 43  ARR_MIN_OF_DAY_SIN              348136 non-null  float64\n",
      " 44  ARR_MIN_OF_DAY_COS              348136 non-null  float64\n",
      " 45  Jet                             348136 non-null  uint8  \n",
      " 46  Turboprop                       348136 non-null  uint8  \n",
      " 47  no winglets                     348136 non-null  uint8  \n",
      " 48  winglets                        348136 non-null  uint8  \n",
      " 49  wingtip fences                  348136 non-null  uint8  \n",
      "dtypes: float64(26), int32(4), int64(13), object(2), uint8(5)\n",
      "memory usage: 126.6+ MB\n"
     ]
    }
   ],
   "source": [
    "data.info()"
   ],
   "metadata": {
    "collapsed": false,
    "pycharm": {
     "name": "#%%\n"
    }
   }
  },
  {
   "cell_type": "code",
   "execution_count": 63,
   "outputs": [
    {
     "data": {
      "text/plain": "         OP_UNIQUE_CARRIER ORIGIN  DEP_DELAY  CRS_ELAPSED_TIME  DISTANCE  \\\n5612585                 F9    LAS          0               230      1747   \n5614966                 DL    SFO         -3               268      2139   \n5616651                 DL    SAN         -6               241      1892   \n5616326                 DL    SFO         -5               270      2139   \n5613460                 UA    SFO          6               278      2139   \n...                    ...    ...        ...               ...       ...   \n11289608                NK    BWI         -5               122       577   \n11284363                WN    MDW         20               110       591   \n11283412                WN    DEN         43               170      1199   \n11286614                B6    BOS         43               179       946   \n11291238                DL    MSP         -1               163       907   \n\n          PREV_FLIGHTS_1H  ARR_DELAY  Engines  Approach Speed(Vref)  \\\n5612585                 0        -10      2.0                 136.0   \n5614966                 2         -8      2.0                 141.0   \n5616651                 2        -20      2.0                 141.0   \n5616326                 2         -7      2.0                 143.0   \n5613460                 2         -6      2.0                 141.0   \n...                   ...        ...      ...                   ...   \n11289608                8        -10      2.0                 136.0   \n11284363                8          5      2.0                 141.0   \n11283412                8         17      2.0                 141.0   \n11286614               11         30      2.0                 136.0   \n11291238               12        -29      2.0                 143.0   \n\n          Wingspan, ft  ...  08R/26L  09L/27R  09R/27L  10/28  ARR_DAY_SIN  \\\n5612585         111.88  ...      1.0      1.0      1.0    1.0    -0.781831   \n5614966         112.58  ...      1.0      1.0      1.0    1.0    -0.781831   \n5616651         112.58  ...      1.0      1.0      1.0    1.0    -0.781831   \n5616326         124.83  ...      1.0      1.0      1.0    1.0    -0.781831   \n5613460         112.58  ...      1.0      1.0      1.0    1.0    -0.781831   \n...                ...  ...      ...      ...      ...    ...          ...   \n11289608        111.88  ...      0.0      0.0      0.0    0.0    -0.781831   \n11284363        112.58  ...      0.0      0.0      0.0    0.0    -0.781831   \n11283412        112.58  ...      0.0      0.0      0.0    0.0    -0.781831   \n11286614        111.88  ...      0.0      0.0      0.0    0.0    -0.781831   \n11291238        124.83  ...      0.0      0.0      0.0    0.0    -0.781831   \n\n          ARR_DAY_COS  ARR_MIN_OF_DAY_SIN  ARR_MIN_OF_DAY_COS  Jet  \\\n5612585       0.62349            0.932008            0.362438    1   \n5614966       0.62349            0.979045            0.203642    1   \n5616651       0.62349            0.999990           -0.004363    1   \n5616326       0.62349            0.999762           -0.021815    1   \n5613460       0.62349            0.996195           -0.087156    1   \n...               ...                 ...                 ...  ...   \n11289608      0.62349           -0.100188            0.994969    1   \n11284363      0.62349           -0.065403            0.997859    1   \n11283412      0.62349           -0.065403            0.997859    1   \n11286614      0.62349           -0.047978            0.998848    1   \n11291238      0.62349           -0.008727            0.999962    1   \n\n          no winglets  \n5612585             0  \n5614966             1  \n5616651             1  \n5616326             1  \n5613460             1  \n...               ...  \n11289608            0  \n11284363            1  \n11283412            1  \n11286614            0  \n11291238            1  \n\n[348136 rows x 43 columns]",
      "text/html": "<div>\n<style scoped>\n    .dataframe tbody tr th:only-of-type {\n        vertical-align: middle;\n    }\n\n    .dataframe tbody tr th {\n        vertical-align: top;\n    }\n\n    .dataframe thead th {\n        text-align: right;\n    }\n</style>\n<table border=\"1\" class=\"dataframe\">\n  <thead>\n    <tr style=\"text-align: right;\">\n      <th></th>\n      <th>OP_UNIQUE_CARRIER</th>\n      <th>ORIGIN</th>\n      <th>DEP_DELAY</th>\n      <th>CRS_ELAPSED_TIME</th>\n      <th>DISTANCE</th>\n      <th>PREV_FLIGHTS_1H</th>\n      <th>ARR_DELAY</th>\n      <th>Engines</th>\n      <th>Approach Speed(Vref)</th>\n      <th>Wingspan, ft</th>\n      <th>...</th>\n      <th>08R/26L</th>\n      <th>09L/27R</th>\n      <th>09R/27L</th>\n      <th>10/28</th>\n      <th>ARR_DAY_SIN</th>\n      <th>ARR_DAY_COS</th>\n      <th>ARR_MIN_OF_DAY_SIN</th>\n      <th>ARR_MIN_OF_DAY_COS</th>\n      <th>Jet</th>\n      <th>no winglets</th>\n    </tr>\n  </thead>\n  <tbody>\n    <tr>\n      <th>5612585</th>\n      <td>F9</td>\n      <td>LAS</td>\n      <td>0</td>\n      <td>230</td>\n      <td>1747</td>\n      <td>0</td>\n      <td>-10</td>\n      <td>2.0</td>\n      <td>136.0</td>\n      <td>111.88</td>\n      <td>...</td>\n      <td>1.0</td>\n      <td>1.0</td>\n      <td>1.0</td>\n      <td>1.0</td>\n      <td>-0.781831</td>\n      <td>0.62349</td>\n      <td>0.932008</td>\n      <td>0.362438</td>\n      <td>1</td>\n      <td>0</td>\n    </tr>\n    <tr>\n      <th>5614966</th>\n      <td>DL</td>\n      <td>SFO</td>\n      <td>-3</td>\n      <td>268</td>\n      <td>2139</td>\n      <td>2</td>\n      <td>-8</td>\n      <td>2.0</td>\n      <td>141.0</td>\n      <td>112.58</td>\n      <td>...</td>\n      <td>1.0</td>\n      <td>1.0</td>\n      <td>1.0</td>\n      <td>1.0</td>\n      <td>-0.781831</td>\n      <td>0.62349</td>\n      <td>0.979045</td>\n      <td>0.203642</td>\n      <td>1</td>\n      <td>1</td>\n    </tr>\n    <tr>\n      <th>5616651</th>\n      <td>DL</td>\n      <td>SAN</td>\n      <td>-6</td>\n      <td>241</td>\n      <td>1892</td>\n      <td>2</td>\n      <td>-20</td>\n      <td>2.0</td>\n      <td>141.0</td>\n      <td>112.58</td>\n      <td>...</td>\n      <td>1.0</td>\n      <td>1.0</td>\n      <td>1.0</td>\n      <td>1.0</td>\n      <td>-0.781831</td>\n      <td>0.62349</td>\n      <td>0.999990</td>\n      <td>-0.004363</td>\n      <td>1</td>\n      <td>1</td>\n    </tr>\n    <tr>\n      <th>5616326</th>\n      <td>DL</td>\n      <td>SFO</td>\n      <td>-5</td>\n      <td>270</td>\n      <td>2139</td>\n      <td>2</td>\n      <td>-7</td>\n      <td>2.0</td>\n      <td>143.0</td>\n      <td>124.83</td>\n      <td>...</td>\n      <td>1.0</td>\n      <td>1.0</td>\n      <td>1.0</td>\n      <td>1.0</td>\n      <td>-0.781831</td>\n      <td>0.62349</td>\n      <td>0.999762</td>\n      <td>-0.021815</td>\n      <td>1</td>\n      <td>1</td>\n    </tr>\n    <tr>\n      <th>5613460</th>\n      <td>UA</td>\n      <td>SFO</td>\n      <td>6</td>\n      <td>278</td>\n      <td>2139</td>\n      <td>2</td>\n      <td>-6</td>\n      <td>2.0</td>\n      <td>141.0</td>\n      <td>112.58</td>\n      <td>...</td>\n      <td>1.0</td>\n      <td>1.0</td>\n      <td>1.0</td>\n      <td>1.0</td>\n      <td>-0.781831</td>\n      <td>0.62349</td>\n      <td>0.996195</td>\n      <td>-0.087156</td>\n      <td>1</td>\n      <td>1</td>\n    </tr>\n    <tr>\n      <th>...</th>\n      <td>...</td>\n      <td>...</td>\n      <td>...</td>\n      <td>...</td>\n      <td>...</td>\n      <td>...</td>\n      <td>...</td>\n      <td>...</td>\n      <td>...</td>\n      <td>...</td>\n      <td>...</td>\n      <td>...</td>\n      <td>...</td>\n      <td>...</td>\n      <td>...</td>\n      <td>...</td>\n      <td>...</td>\n      <td>...</td>\n      <td>...</td>\n      <td>...</td>\n      <td>...</td>\n    </tr>\n    <tr>\n      <th>11289608</th>\n      <td>NK</td>\n      <td>BWI</td>\n      <td>-5</td>\n      <td>122</td>\n      <td>577</td>\n      <td>8</td>\n      <td>-10</td>\n      <td>2.0</td>\n      <td>136.0</td>\n      <td>111.88</td>\n      <td>...</td>\n      <td>0.0</td>\n      <td>0.0</td>\n      <td>0.0</td>\n      <td>0.0</td>\n      <td>-0.781831</td>\n      <td>0.62349</td>\n      <td>-0.100188</td>\n      <td>0.994969</td>\n      <td>1</td>\n      <td>0</td>\n    </tr>\n    <tr>\n      <th>11284363</th>\n      <td>WN</td>\n      <td>MDW</td>\n      <td>20</td>\n      <td>110</td>\n      <td>591</td>\n      <td>8</td>\n      <td>5</td>\n      <td>2.0</td>\n      <td>141.0</td>\n      <td>112.58</td>\n      <td>...</td>\n      <td>0.0</td>\n      <td>0.0</td>\n      <td>0.0</td>\n      <td>0.0</td>\n      <td>-0.781831</td>\n      <td>0.62349</td>\n      <td>-0.065403</td>\n      <td>0.997859</td>\n      <td>1</td>\n      <td>1</td>\n    </tr>\n    <tr>\n      <th>11283412</th>\n      <td>WN</td>\n      <td>DEN</td>\n      <td>43</td>\n      <td>170</td>\n      <td>1199</td>\n      <td>8</td>\n      <td>17</td>\n      <td>2.0</td>\n      <td>141.0</td>\n      <td>112.58</td>\n      <td>...</td>\n      <td>0.0</td>\n      <td>0.0</td>\n      <td>0.0</td>\n      <td>0.0</td>\n      <td>-0.781831</td>\n      <td>0.62349</td>\n      <td>-0.065403</td>\n      <td>0.997859</td>\n      <td>1</td>\n      <td>1</td>\n    </tr>\n    <tr>\n      <th>11286614</th>\n      <td>B6</td>\n      <td>BOS</td>\n      <td>43</td>\n      <td>179</td>\n      <td>946</td>\n      <td>11</td>\n      <td>30</td>\n      <td>2.0</td>\n      <td>136.0</td>\n      <td>111.88</td>\n      <td>...</td>\n      <td>0.0</td>\n      <td>0.0</td>\n      <td>0.0</td>\n      <td>0.0</td>\n      <td>-0.781831</td>\n      <td>0.62349</td>\n      <td>-0.047978</td>\n      <td>0.998848</td>\n      <td>1</td>\n      <td>0</td>\n    </tr>\n    <tr>\n      <th>11291238</th>\n      <td>DL</td>\n      <td>MSP</td>\n      <td>-1</td>\n      <td>163</td>\n      <td>907</td>\n      <td>12</td>\n      <td>-29</td>\n      <td>2.0</td>\n      <td>143.0</td>\n      <td>124.83</td>\n      <td>...</td>\n      <td>0.0</td>\n      <td>0.0</td>\n      <td>0.0</td>\n      <td>0.0</td>\n      <td>-0.781831</td>\n      <td>0.62349</td>\n      <td>-0.008727</td>\n      <td>0.999962</td>\n      <td>1</td>\n      <td>1</td>\n    </tr>\n  </tbody>\n</table>\n<p>348136 rows × 43 columns</p>\n</div>"
     },
     "execution_count": 63,
     "metadata": {},
     "output_type": "execute_result"
    }
   ],
   "source": [
    "data = data.drop([\"Parking Area (WS x Length), sf\", \"alti\", \"dwpf\", \"wingtip fences\", \"winglets\", \"Turboprop\", \"EVENT_SG\"], axis=\"columns\")\n",
    "data"
   ],
   "metadata": {
    "collapsed": false,
    "pycharm": {
     "name": "#%%\n"
    }
   }
  },
  {
   "cell_type": "code",
   "execution_count": 64,
   "outputs": [
    {
     "data": {
      "text/plain": "         OP_UNIQUE_CARRIER ORIGIN  DEP_DELAY  CRS_ELAPSED_TIME    DISTANCE  \\\n5612585                 F9    LAS          0               230  2811.51698   \n5614966                 DL    SFO         -3               268  3442.37826   \n5616651                 DL    SAN         -6               241  3044.87128   \n5616326                 DL    SFO         -5               270  3442.37826   \n5613460                 UA    SFO          6               278  3442.37826   \n...                    ...    ...        ...               ...         ...   \n11289608                NK    BWI         -5               122   928.58918   \n11284363                WN    MDW         20               110   951.11994   \n11283412                WN    DEN         43               170  1929.59866   \n11286614                B6    BOS         43               179  1522.43564   \n11291238                DL    MSP         -1               163  1459.67138   \n\n          PREV_FLIGHTS_1H  ARR_DELAY  Engines  Approach Speed(Vref)  \\\n5612585                 0        -10      2.0               251.872   \n5614966                 2         -8      2.0               261.132   \n5616651                 2        -20      2.0               261.132   \n5616326                 2         -7      2.0               264.836   \n5613460                 2         -6      2.0               261.132   \n...                   ...        ...      ...                   ...   \n11289608                8        -10      2.0               251.872   \n11284363                8          5      2.0               261.132   \n11283412                8         17      2.0               261.132   \n11286614               11         30      2.0               251.872   \n11291238               12        -29      2.0               264.836   \n\n          Wingspan, ft  ...  08R/26L  09L/27R  09R/27L  10/28  ARR_DAY_SIN  \\\n5612585      34.101024  ...      1.0      1.0      1.0    1.0    -0.781831   \n5614966      34.314384  ...      1.0      1.0      1.0    1.0    -0.781831   \n5616651      34.314384  ...      1.0      1.0      1.0    1.0    -0.781831   \n5616326      38.048184  ...      1.0      1.0      1.0    1.0    -0.781831   \n5613460      34.314384  ...      1.0      1.0      1.0    1.0    -0.781831   \n...                ...  ...      ...      ...      ...    ...          ...   \n11289608     34.101024  ...      0.0      0.0      0.0    0.0    -0.781831   \n11284363     34.314384  ...      0.0      0.0      0.0    0.0    -0.781831   \n11283412     34.314384  ...      0.0      0.0      0.0    0.0    -0.781831   \n11286614     34.101024  ...      0.0      0.0      0.0    0.0    -0.781831   \n11291238     38.048184  ...      0.0      0.0      0.0    0.0    -0.781831   \n\n          ARR_DAY_COS  ARR_MIN_OF_DAY_SIN  ARR_MIN_OF_DAY_COS  Jet  \\\n5612585       0.62349            0.932008            0.362438    1   \n5614966       0.62349            0.979045            0.203642    1   \n5616651       0.62349            0.999990           -0.004363    1   \n5616326       0.62349            0.999762           -0.021815    1   \n5613460       0.62349            0.996195           -0.087156    1   \n...               ...                 ...                 ...  ...   \n11289608      0.62349           -0.100188            0.994969    1   \n11284363      0.62349           -0.065403            0.997859    1   \n11283412      0.62349           -0.065403            0.997859    1   \n11286614      0.62349           -0.047978            0.998848    1   \n11291238      0.62349           -0.008727            0.999962    1   \n\n          no winglets  \n5612585             0  \n5614966             1  \n5616651             1  \n5616326             1  \n5613460             1  \n...               ...  \n11289608            0  \n11284363            1  \n11283412            1  \n11286614            0  \n11291238            1  \n\n[348136 rows x 43 columns]",
      "text/html": "<div>\n<style scoped>\n    .dataframe tbody tr th:only-of-type {\n        vertical-align: middle;\n    }\n\n    .dataframe tbody tr th {\n        vertical-align: top;\n    }\n\n    .dataframe thead th {\n        text-align: right;\n    }\n</style>\n<table border=\"1\" class=\"dataframe\">\n  <thead>\n    <tr style=\"text-align: right;\">\n      <th></th>\n      <th>OP_UNIQUE_CARRIER</th>\n      <th>ORIGIN</th>\n      <th>DEP_DELAY</th>\n      <th>CRS_ELAPSED_TIME</th>\n      <th>DISTANCE</th>\n      <th>PREV_FLIGHTS_1H</th>\n      <th>ARR_DELAY</th>\n      <th>Engines</th>\n      <th>Approach Speed(Vref)</th>\n      <th>Wingspan, ft</th>\n      <th>...</th>\n      <th>08R/26L</th>\n      <th>09L/27R</th>\n      <th>09R/27L</th>\n      <th>10/28</th>\n      <th>ARR_DAY_SIN</th>\n      <th>ARR_DAY_COS</th>\n      <th>ARR_MIN_OF_DAY_SIN</th>\n      <th>ARR_MIN_OF_DAY_COS</th>\n      <th>Jet</th>\n      <th>no winglets</th>\n    </tr>\n  </thead>\n  <tbody>\n    <tr>\n      <th>5612585</th>\n      <td>F9</td>\n      <td>LAS</td>\n      <td>0</td>\n      <td>230</td>\n      <td>2811.51698</td>\n      <td>0</td>\n      <td>-10</td>\n      <td>2.0</td>\n      <td>251.872</td>\n      <td>34.101024</td>\n      <td>...</td>\n      <td>1.0</td>\n      <td>1.0</td>\n      <td>1.0</td>\n      <td>1.0</td>\n      <td>-0.781831</td>\n      <td>0.62349</td>\n      <td>0.932008</td>\n      <td>0.362438</td>\n      <td>1</td>\n      <td>0</td>\n    </tr>\n    <tr>\n      <th>5614966</th>\n      <td>DL</td>\n      <td>SFO</td>\n      <td>-3</td>\n      <td>268</td>\n      <td>3442.37826</td>\n      <td>2</td>\n      <td>-8</td>\n      <td>2.0</td>\n      <td>261.132</td>\n      <td>34.314384</td>\n      <td>...</td>\n      <td>1.0</td>\n      <td>1.0</td>\n      <td>1.0</td>\n      <td>1.0</td>\n      <td>-0.781831</td>\n      <td>0.62349</td>\n      <td>0.979045</td>\n      <td>0.203642</td>\n      <td>1</td>\n      <td>1</td>\n    </tr>\n    <tr>\n      <th>5616651</th>\n      <td>DL</td>\n      <td>SAN</td>\n      <td>-6</td>\n      <td>241</td>\n      <td>3044.87128</td>\n      <td>2</td>\n      <td>-20</td>\n      <td>2.0</td>\n      <td>261.132</td>\n      <td>34.314384</td>\n      <td>...</td>\n      <td>1.0</td>\n      <td>1.0</td>\n      <td>1.0</td>\n      <td>1.0</td>\n      <td>-0.781831</td>\n      <td>0.62349</td>\n      <td>0.999990</td>\n      <td>-0.004363</td>\n      <td>1</td>\n      <td>1</td>\n    </tr>\n    <tr>\n      <th>5616326</th>\n      <td>DL</td>\n      <td>SFO</td>\n      <td>-5</td>\n      <td>270</td>\n      <td>3442.37826</td>\n      <td>2</td>\n      <td>-7</td>\n      <td>2.0</td>\n      <td>264.836</td>\n      <td>38.048184</td>\n      <td>...</td>\n      <td>1.0</td>\n      <td>1.0</td>\n      <td>1.0</td>\n      <td>1.0</td>\n      <td>-0.781831</td>\n      <td>0.62349</td>\n      <td>0.999762</td>\n      <td>-0.021815</td>\n      <td>1</td>\n      <td>1</td>\n    </tr>\n    <tr>\n      <th>5613460</th>\n      <td>UA</td>\n      <td>SFO</td>\n      <td>6</td>\n      <td>278</td>\n      <td>3442.37826</td>\n      <td>2</td>\n      <td>-6</td>\n      <td>2.0</td>\n      <td>261.132</td>\n      <td>34.314384</td>\n      <td>...</td>\n      <td>1.0</td>\n      <td>1.0</td>\n      <td>1.0</td>\n      <td>1.0</td>\n      <td>-0.781831</td>\n      <td>0.62349</td>\n      <td>0.996195</td>\n      <td>-0.087156</td>\n      <td>1</td>\n      <td>1</td>\n    </tr>\n    <tr>\n      <th>...</th>\n      <td>...</td>\n      <td>...</td>\n      <td>...</td>\n      <td>...</td>\n      <td>...</td>\n      <td>...</td>\n      <td>...</td>\n      <td>...</td>\n      <td>...</td>\n      <td>...</td>\n      <td>...</td>\n      <td>...</td>\n      <td>...</td>\n      <td>...</td>\n      <td>...</td>\n      <td>...</td>\n      <td>...</td>\n      <td>...</td>\n      <td>...</td>\n      <td>...</td>\n      <td>...</td>\n    </tr>\n    <tr>\n      <th>11289608</th>\n      <td>NK</td>\n      <td>BWI</td>\n      <td>-5</td>\n      <td>122</td>\n      <td>928.58918</td>\n      <td>8</td>\n      <td>-10</td>\n      <td>2.0</td>\n      <td>251.872</td>\n      <td>34.101024</td>\n      <td>...</td>\n      <td>0.0</td>\n      <td>0.0</td>\n      <td>0.0</td>\n      <td>0.0</td>\n      <td>-0.781831</td>\n      <td>0.62349</td>\n      <td>-0.100188</td>\n      <td>0.994969</td>\n      <td>1</td>\n      <td>0</td>\n    </tr>\n    <tr>\n      <th>11284363</th>\n      <td>WN</td>\n      <td>MDW</td>\n      <td>20</td>\n      <td>110</td>\n      <td>951.11994</td>\n      <td>8</td>\n      <td>5</td>\n      <td>2.0</td>\n      <td>261.132</td>\n      <td>34.314384</td>\n      <td>...</td>\n      <td>0.0</td>\n      <td>0.0</td>\n      <td>0.0</td>\n      <td>0.0</td>\n      <td>-0.781831</td>\n      <td>0.62349</td>\n      <td>-0.065403</td>\n      <td>0.997859</td>\n      <td>1</td>\n      <td>1</td>\n    </tr>\n    <tr>\n      <th>11283412</th>\n      <td>WN</td>\n      <td>DEN</td>\n      <td>43</td>\n      <td>170</td>\n      <td>1929.59866</td>\n      <td>8</td>\n      <td>17</td>\n      <td>2.0</td>\n      <td>261.132</td>\n      <td>34.314384</td>\n      <td>...</td>\n      <td>0.0</td>\n      <td>0.0</td>\n      <td>0.0</td>\n      <td>0.0</td>\n      <td>-0.781831</td>\n      <td>0.62349</td>\n      <td>-0.065403</td>\n      <td>0.997859</td>\n      <td>1</td>\n      <td>1</td>\n    </tr>\n    <tr>\n      <th>11286614</th>\n      <td>B6</td>\n      <td>BOS</td>\n      <td>43</td>\n      <td>179</td>\n      <td>1522.43564</td>\n      <td>11</td>\n      <td>30</td>\n      <td>2.0</td>\n      <td>251.872</td>\n      <td>34.101024</td>\n      <td>...</td>\n      <td>0.0</td>\n      <td>0.0</td>\n      <td>0.0</td>\n      <td>0.0</td>\n      <td>-0.781831</td>\n      <td>0.62349</td>\n      <td>-0.047978</td>\n      <td>0.998848</td>\n      <td>1</td>\n      <td>0</td>\n    </tr>\n    <tr>\n      <th>11291238</th>\n      <td>DL</td>\n      <td>MSP</td>\n      <td>-1</td>\n      <td>163</td>\n      <td>1459.67138</td>\n      <td>12</td>\n      <td>-29</td>\n      <td>2.0</td>\n      <td>264.836</td>\n      <td>38.048184</td>\n      <td>...</td>\n      <td>0.0</td>\n      <td>0.0</td>\n      <td>0.0</td>\n      <td>0.0</td>\n      <td>-0.781831</td>\n      <td>0.62349</td>\n      <td>-0.008727</td>\n      <td>0.999962</td>\n      <td>1</td>\n      <td>1</td>\n    </tr>\n  </tbody>\n</table>\n<p>348136 rows × 43 columns</p>\n</div>"
     },
     "execution_count": 64,
     "metadata": {},
     "output_type": "execute_result"
    }
   ],
   "source": [
    "\n",
    "\n",
    "F_cols = [\"tmpf\", \"feel\"]\n",
    "knt_cols = [\"sknt\",\"Approach Speed(Vref)\"]\n",
    "ft_cols = [\"Wingspan, ft\", \"Length, ft\", \"Tail Height, ft(@ OEW)\"]\n",
    "mile_cols = [\"DISTANCE\"]\n",
    "lb_cols = [\"MTOW\"]\n",
    "\n",
    "for col in data[F_cols]:\n",
    "    data[col] = F_to_C_deg(data[col])\n",
    "for col in data[knt_cols]:\n",
    "    data[col] = knt_to_kmh(data[col])\n",
    "for col in data[ft_cols]:\n",
    "    data[col] = ft_to_m(data[col])\n",
    "for col in data[mile_cols]:\n",
    "    data[col] = mile_to_km(data[col])\n",
    "for col in data[lb_cols]:\n",
    "    data[col] = lb_to_kg(data[col])\n",
    "data"
   ],
   "metadata": {
    "collapsed": false,
    "pycharm": {
     "name": "#%%\n"
    }
   }
  },
  {
   "cell_type": "code",
   "execution_count": 65,
   "outputs": [],
   "source": [
    "data[\"no winglets\"] = data[\"no winglets\"].replace({0:1, 1:0})"
   ],
   "metadata": {
    "collapsed": false,
    "pycharm": {
     "name": "#%%\n"
    }
   }
  },
  {
   "cell_type": "code",
   "execution_count": 66,
   "outputs": [
    {
     "data": {
      "text/plain": "         OP_UNIQUE_CARRIER ORIGIN  DEP_DELAY(MINS)  CRS_ELAPSED_TIME(MINS)  \\\n5612585                 F9    LAS                0                     230   \n5614966                 DL    SFO               -3                     268   \n5616651                 DL    SAN               -6                     241   \n5616326                 DL    SFO               -5                     270   \n5613460                 UA    SFO                6                     278   \n...                    ...    ...              ...                     ...   \n11289608                NK    BWI               -5                     122   \n11284363                WN    MDW               20                     110   \n11283412                WN    DEN               43                     170   \n11286614                B6    BOS               43                     179   \n11291238                DL    MSP               -1                     163   \n\n          DISTANCE(KM)  NR_PREV_ARR_FLIGHTS(1HR)  ARR_DELAY_MINS  NR_ENGINES  \\\n5612585     2811.51698                         0             -10         2.0   \n5614966     3442.37826                         2              -8         2.0   \n5616651     3044.87128                         2             -20         2.0   \n5616326     3442.37826                         2              -7         2.0   \n5613460     3442.37826                         2              -6         2.0   \n...                ...                       ...             ...         ...   \n11289608     928.58918                         8             -10         2.0   \n11284363     951.11994                         8               5         2.0   \n11283412    1929.59866                         8              17         2.0   \n11286614    1522.43564                        11              30         2.0   \n11291238    1459.67138                        12             -29         2.0   \n\n          APPROACH_SPEED(KMH)  WINGSPAN(M)  ...  08R/26L  09L/27R  09R/27L  \\\n5612585               251.872    34.101024  ...      1.0      1.0      1.0   \n5614966               261.132    34.314384  ...      1.0      1.0      1.0   \n5616651               261.132    34.314384  ...      1.0      1.0      1.0   \n5616326               264.836    38.048184  ...      1.0      1.0      1.0   \n5613460               261.132    34.314384  ...      1.0      1.0      1.0   \n...                       ...          ...  ...      ...      ...      ...   \n11289608              251.872    34.101024  ...      0.0      0.0      0.0   \n11284363              261.132    34.314384  ...      0.0      0.0      0.0   \n11283412              261.132    34.314384  ...      0.0      0.0      0.0   \n11286614              251.872    34.101024  ...      0.0      0.0      0.0   \n11291238              264.836    38.048184  ...      0.0      0.0      0.0   \n\n          10/28  ARR_DAY_SIN  ARR_DAY_COS  ARR_MIN_OF_DAY_SIN  \\\n5612585     1.0    -0.781831      0.62349            0.932008   \n5614966     1.0    -0.781831      0.62349            0.979045   \n5616651     1.0    -0.781831      0.62349            0.999990   \n5616326     1.0    -0.781831      0.62349            0.999762   \n5613460     1.0    -0.781831      0.62349            0.996195   \n...         ...          ...          ...                 ...   \n11289608    0.0    -0.781831      0.62349           -0.100188   \n11284363    0.0    -0.781831      0.62349           -0.065403   \n11283412    0.0    -0.781831      0.62349           -0.065403   \n11286614    0.0    -0.781831      0.62349           -0.047978   \n11291238    0.0    -0.781831      0.62349           -0.008727   \n\n          ARR_MIN_OF_DAY_COS  JET(YN)  WINGLETS(YN)  \n5612585             0.362438        1             1  \n5614966             0.203642        1             0  \n5616651            -0.004363        1             0  \n5616326            -0.021815        1             0  \n5613460            -0.087156        1             0  \n...                      ...      ...           ...  \n11289608            0.994969        1             1  \n11284363            0.997859        1             0  \n11283412            0.997859        1             0  \n11286614            0.998848        1             1  \n11291238            0.999962        1             0  \n\n[348136 rows x 43 columns]",
      "text/html": "<div>\n<style scoped>\n    .dataframe tbody tr th:only-of-type {\n        vertical-align: middle;\n    }\n\n    .dataframe tbody tr th {\n        vertical-align: top;\n    }\n\n    .dataframe thead th {\n        text-align: right;\n    }\n</style>\n<table border=\"1\" class=\"dataframe\">\n  <thead>\n    <tr style=\"text-align: right;\">\n      <th></th>\n      <th>OP_UNIQUE_CARRIER</th>\n      <th>ORIGIN</th>\n      <th>DEP_DELAY(MINS)</th>\n      <th>CRS_ELAPSED_TIME(MINS)</th>\n      <th>DISTANCE(KM)</th>\n      <th>NR_PREV_ARR_FLIGHTS(1HR)</th>\n      <th>ARR_DELAY_MINS</th>\n      <th>NR_ENGINES</th>\n      <th>APPROACH_SPEED(KMH)</th>\n      <th>WINGSPAN(M)</th>\n      <th>...</th>\n      <th>08R/26L</th>\n      <th>09L/27R</th>\n      <th>09R/27L</th>\n      <th>10/28</th>\n      <th>ARR_DAY_SIN</th>\n      <th>ARR_DAY_COS</th>\n      <th>ARR_MIN_OF_DAY_SIN</th>\n      <th>ARR_MIN_OF_DAY_COS</th>\n      <th>JET(YN)</th>\n      <th>WINGLETS(YN)</th>\n    </tr>\n  </thead>\n  <tbody>\n    <tr>\n      <th>5612585</th>\n      <td>F9</td>\n      <td>LAS</td>\n      <td>0</td>\n      <td>230</td>\n      <td>2811.51698</td>\n      <td>0</td>\n      <td>-10</td>\n      <td>2.0</td>\n      <td>251.872</td>\n      <td>34.101024</td>\n      <td>...</td>\n      <td>1.0</td>\n      <td>1.0</td>\n      <td>1.0</td>\n      <td>1.0</td>\n      <td>-0.781831</td>\n      <td>0.62349</td>\n      <td>0.932008</td>\n      <td>0.362438</td>\n      <td>1</td>\n      <td>1</td>\n    </tr>\n    <tr>\n      <th>5614966</th>\n      <td>DL</td>\n      <td>SFO</td>\n      <td>-3</td>\n      <td>268</td>\n      <td>3442.37826</td>\n      <td>2</td>\n      <td>-8</td>\n      <td>2.0</td>\n      <td>261.132</td>\n      <td>34.314384</td>\n      <td>...</td>\n      <td>1.0</td>\n      <td>1.0</td>\n      <td>1.0</td>\n      <td>1.0</td>\n      <td>-0.781831</td>\n      <td>0.62349</td>\n      <td>0.979045</td>\n      <td>0.203642</td>\n      <td>1</td>\n      <td>0</td>\n    </tr>\n    <tr>\n      <th>5616651</th>\n      <td>DL</td>\n      <td>SAN</td>\n      <td>-6</td>\n      <td>241</td>\n      <td>3044.87128</td>\n      <td>2</td>\n      <td>-20</td>\n      <td>2.0</td>\n      <td>261.132</td>\n      <td>34.314384</td>\n      <td>...</td>\n      <td>1.0</td>\n      <td>1.0</td>\n      <td>1.0</td>\n      <td>1.0</td>\n      <td>-0.781831</td>\n      <td>0.62349</td>\n      <td>0.999990</td>\n      <td>-0.004363</td>\n      <td>1</td>\n      <td>0</td>\n    </tr>\n    <tr>\n      <th>5616326</th>\n      <td>DL</td>\n      <td>SFO</td>\n      <td>-5</td>\n      <td>270</td>\n      <td>3442.37826</td>\n      <td>2</td>\n      <td>-7</td>\n      <td>2.0</td>\n      <td>264.836</td>\n      <td>38.048184</td>\n      <td>...</td>\n      <td>1.0</td>\n      <td>1.0</td>\n      <td>1.0</td>\n      <td>1.0</td>\n      <td>-0.781831</td>\n      <td>0.62349</td>\n      <td>0.999762</td>\n      <td>-0.021815</td>\n      <td>1</td>\n      <td>0</td>\n    </tr>\n    <tr>\n      <th>5613460</th>\n      <td>UA</td>\n      <td>SFO</td>\n      <td>6</td>\n      <td>278</td>\n      <td>3442.37826</td>\n      <td>2</td>\n      <td>-6</td>\n      <td>2.0</td>\n      <td>261.132</td>\n      <td>34.314384</td>\n      <td>...</td>\n      <td>1.0</td>\n      <td>1.0</td>\n      <td>1.0</td>\n      <td>1.0</td>\n      <td>-0.781831</td>\n      <td>0.62349</td>\n      <td>0.996195</td>\n      <td>-0.087156</td>\n      <td>1</td>\n      <td>0</td>\n    </tr>\n    <tr>\n      <th>...</th>\n      <td>...</td>\n      <td>...</td>\n      <td>...</td>\n      <td>...</td>\n      <td>...</td>\n      <td>...</td>\n      <td>...</td>\n      <td>...</td>\n      <td>...</td>\n      <td>...</td>\n      <td>...</td>\n      <td>...</td>\n      <td>...</td>\n      <td>...</td>\n      <td>...</td>\n      <td>...</td>\n      <td>...</td>\n      <td>...</td>\n      <td>...</td>\n      <td>...</td>\n      <td>...</td>\n    </tr>\n    <tr>\n      <th>11289608</th>\n      <td>NK</td>\n      <td>BWI</td>\n      <td>-5</td>\n      <td>122</td>\n      <td>928.58918</td>\n      <td>8</td>\n      <td>-10</td>\n      <td>2.0</td>\n      <td>251.872</td>\n      <td>34.101024</td>\n      <td>...</td>\n      <td>0.0</td>\n      <td>0.0</td>\n      <td>0.0</td>\n      <td>0.0</td>\n      <td>-0.781831</td>\n      <td>0.62349</td>\n      <td>-0.100188</td>\n      <td>0.994969</td>\n      <td>1</td>\n      <td>1</td>\n    </tr>\n    <tr>\n      <th>11284363</th>\n      <td>WN</td>\n      <td>MDW</td>\n      <td>20</td>\n      <td>110</td>\n      <td>951.11994</td>\n      <td>8</td>\n      <td>5</td>\n      <td>2.0</td>\n      <td>261.132</td>\n      <td>34.314384</td>\n      <td>...</td>\n      <td>0.0</td>\n      <td>0.0</td>\n      <td>0.0</td>\n      <td>0.0</td>\n      <td>-0.781831</td>\n      <td>0.62349</td>\n      <td>-0.065403</td>\n      <td>0.997859</td>\n      <td>1</td>\n      <td>0</td>\n    </tr>\n    <tr>\n      <th>11283412</th>\n      <td>WN</td>\n      <td>DEN</td>\n      <td>43</td>\n      <td>170</td>\n      <td>1929.59866</td>\n      <td>8</td>\n      <td>17</td>\n      <td>2.0</td>\n      <td>261.132</td>\n      <td>34.314384</td>\n      <td>...</td>\n      <td>0.0</td>\n      <td>0.0</td>\n      <td>0.0</td>\n      <td>0.0</td>\n      <td>-0.781831</td>\n      <td>0.62349</td>\n      <td>-0.065403</td>\n      <td>0.997859</td>\n      <td>1</td>\n      <td>0</td>\n    </tr>\n    <tr>\n      <th>11286614</th>\n      <td>B6</td>\n      <td>BOS</td>\n      <td>43</td>\n      <td>179</td>\n      <td>1522.43564</td>\n      <td>11</td>\n      <td>30</td>\n      <td>2.0</td>\n      <td>251.872</td>\n      <td>34.101024</td>\n      <td>...</td>\n      <td>0.0</td>\n      <td>0.0</td>\n      <td>0.0</td>\n      <td>0.0</td>\n      <td>-0.781831</td>\n      <td>0.62349</td>\n      <td>-0.047978</td>\n      <td>0.998848</td>\n      <td>1</td>\n      <td>1</td>\n    </tr>\n    <tr>\n      <th>11291238</th>\n      <td>DL</td>\n      <td>MSP</td>\n      <td>-1</td>\n      <td>163</td>\n      <td>1459.67138</td>\n      <td>12</td>\n      <td>-29</td>\n      <td>2.0</td>\n      <td>264.836</td>\n      <td>38.048184</td>\n      <td>...</td>\n      <td>0.0</td>\n      <td>0.0</td>\n      <td>0.0</td>\n      <td>0.0</td>\n      <td>-0.781831</td>\n      <td>0.62349</td>\n      <td>-0.008727</td>\n      <td>0.999962</td>\n      <td>1</td>\n      <td>0</td>\n    </tr>\n  </tbody>\n</table>\n<p>348136 rows × 43 columns</p>\n</div>"
     },
     "execution_count": 66,
     "metadata": {},
     "output_type": "execute_result"
    }
   ],
   "source": [
    "#Check approach speed and distance and MTOW for measurements\n",
    "\n",
    "rename_dict = {\n",
    "    \"Jet\" : \"JET(YN)\",\n",
    "    \"no winglets\" : \"WINGLETS(YN)\",\n",
    "    \"CRS_ELAPSED_TIME\" : \"CRS_ELAPSED_TIME(MINS)\",\n",
    "    \"DISTANCE\" : \"DISTANCE(KM)\",\n",
    "    \"PREV_FLIGHTS_1H\" : \"NR_PREV_ARR_FLIGHTS(1HR)\",\n",
    "    \"Engines\" : \"NR_ENGINES\",\n",
    "    \"Approach Speed(Vref)\" : \"APPROACH_SPEED(KMH)\",\n",
    "    \"Wingspan, ft\" : \"WINGSPAN(M)\",\n",
    "    \"Length, ft\" : \"LENGTH(M)\",\n",
    "    \"Tail Height, ft(@ OEW)\" : \"TAIL_HEIGHT(M)\",\n",
    "    \"MTOW\" : \"MTOW(KG)\",\n",
    "    \"tmpf\" : \"TEMP(C)\",\n",
    "    \"relh\" : \"REL_HUMIDITY(PERCENT)\",\n",
    "    \"drct\" : \"WIND_DRCT(DEG)\",\n",
    "    \"sknt\" : \"WIND_SPEED(KMH)\",\n",
    "    \"p01i\" : \"1HOUR_PRECIPITATION(INCH)\",\n",
    "    \"mslp\" : \"SEA_LEVEL_PRESSURE(MILLIBAR)\",\n",
    "    \"vsby\" : \"VISIBILITY(MILES)\",\n",
    "    \"feel\" : \"FELT_TEMP(C)\",\n",
    "    \"ARR_DELAY_CATS\" : \"DELAY_CATEGORY\",\n",
    "    \"DEP_DELAY\" : \"DEP_DELAY(MINS)\",\n",
    "    \"ARR_DELAY\" : \"ARR_DELAY_MINS\"\n",
    "}\n",
    "data = data.rename(columns = rename_dict)\n",
    "data"
   ],
   "metadata": {
    "collapsed": false,
    "pycharm": {
     "name": "#%%\n"
    }
   }
  },
  {
   "cell_type": "code",
   "execution_count": 67,
   "outputs": [
    {
     "data": {
      "text/plain": "         OP_UNIQUE_CARRIER ORIGIN  CRS_ELAPSED_TIME(MINS)  DISTANCE(KM)  \\\n5612585                 F9    LAS                     230    2811.51698   \n5614966                 DL    SFO                     268    3442.37826   \n5616651                 DL    SAN                     241    3044.87128   \n5616326                 DL    SFO                     270    3442.37826   \n5613460                 UA    SFO                     278    3442.37826   \n...                    ...    ...                     ...           ...   \n11289608                NK    BWI                     122     928.58918   \n11284363                WN    MDW                     110     951.11994   \n11283412                WN    DEN                     170    1929.59866   \n11286614                B6    BOS                     179    1522.43564   \n11291238                DL    MSP                     163    1459.67138   \n\n          NR_PREV_ARR_FLIGHTS(1HR)  ARR_DAY_SIN  ARR_DAY_COS  \\\n5612585                          0    -0.781831      0.62349   \n5614966                          2    -0.781831      0.62349   \n5616651                          2    -0.781831      0.62349   \n5616326                          2    -0.781831      0.62349   \n5613460                          2    -0.781831      0.62349   \n...                            ...          ...          ...   \n11289608                         8    -0.781831      0.62349   \n11284363                         8    -0.781831      0.62349   \n11283412                         8    -0.781831      0.62349   \n11286614                        11    -0.781831      0.62349   \n11291238                        12    -0.781831      0.62349   \n\n          ARR_MIN_OF_DAY_SIN  ARR_MIN_OF_DAY_COS  DEP_DELAY(MINS)  ...  \\\n5612585             0.932008            0.362438                0  ...   \n5614966             0.979045            0.203642               -3  ...   \n5616651             0.999990           -0.004363               -6  ...   \n5616326             0.999762           -0.021815               -5  ...   \n5613460             0.996195           -0.087156                6  ...   \n...                      ...                 ...              ...  ...   \n11289608           -0.100188            0.994969               -5  ...   \n11284363           -0.065403            0.997859               20  ...   \n11283412           -0.065403            0.997859               43  ...   \n11286614           -0.047978            0.998848               43  ...   \n11291238           -0.008727            0.999962               -1  ...   \n\n          EVENT_IC  EVENT_RA  EVENT_SN  EVENT_TS  08L/26R  08R/26L  09L/27R  \\\n5612585          0         1         0         0      1.0      1.0      1.0   \n5614966          0         1         0         0      1.0      1.0      1.0   \n5616651          0         1         0         0      1.0      1.0      1.0   \n5616326          0         1         0         0      1.0      1.0      1.0   \n5613460          0         1         0         0      1.0      1.0      1.0   \n...            ...       ...       ...       ...      ...      ...      ...   \n11289608         0         0         0         0      0.0      0.0      0.0   \n11284363         0         0         0         0      0.0      0.0      0.0   \n11283412         0         0         0         0      0.0      0.0      0.0   \n11286614         0         0         0         0      0.0      0.0      0.0   \n11291238         0         0         0         0      0.0      0.0      0.0   \n\n          09R/27L  10/28  ARR_DELAY_MINS  \n5612585       1.0    1.0             -10  \n5614966       1.0    1.0              -8  \n5616651       1.0    1.0             -20  \n5616326       1.0    1.0              -7  \n5613460       1.0    1.0              -6  \n...           ...    ...             ...  \n11289608      0.0    0.0             -10  \n11284363      0.0    0.0               5  \n11283412      0.0    0.0              17  \n11286614      0.0    0.0              30  \n11291238      0.0    0.0             -29  \n\n[348136 rows x 43 columns]",
      "text/html": "<div>\n<style scoped>\n    .dataframe tbody tr th:only-of-type {\n        vertical-align: middle;\n    }\n\n    .dataframe tbody tr th {\n        vertical-align: top;\n    }\n\n    .dataframe thead th {\n        text-align: right;\n    }\n</style>\n<table border=\"1\" class=\"dataframe\">\n  <thead>\n    <tr style=\"text-align: right;\">\n      <th></th>\n      <th>OP_UNIQUE_CARRIER</th>\n      <th>ORIGIN</th>\n      <th>CRS_ELAPSED_TIME(MINS)</th>\n      <th>DISTANCE(KM)</th>\n      <th>NR_PREV_ARR_FLIGHTS(1HR)</th>\n      <th>ARR_DAY_SIN</th>\n      <th>ARR_DAY_COS</th>\n      <th>ARR_MIN_OF_DAY_SIN</th>\n      <th>ARR_MIN_OF_DAY_COS</th>\n      <th>DEP_DELAY(MINS)</th>\n      <th>...</th>\n      <th>EVENT_IC</th>\n      <th>EVENT_RA</th>\n      <th>EVENT_SN</th>\n      <th>EVENT_TS</th>\n      <th>08L/26R</th>\n      <th>08R/26L</th>\n      <th>09L/27R</th>\n      <th>09R/27L</th>\n      <th>10/28</th>\n      <th>ARR_DELAY_MINS</th>\n    </tr>\n  </thead>\n  <tbody>\n    <tr>\n      <th>5612585</th>\n      <td>F9</td>\n      <td>LAS</td>\n      <td>230</td>\n      <td>2811.51698</td>\n      <td>0</td>\n      <td>-0.781831</td>\n      <td>0.62349</td>\n      <td>0.932008</td>\n      <td>0.362438</td>\n      <td>0</td>\n      <td>...</td>\n      <td>0</td>\n      <td>1</td>\n      <td>0</td>\n      <td>0</td>\n      <td>1.0</td>\n      <td>1.0</td>\n      <td>1.0</td>\n      <td>1.0</td>\n      <td>1.0</td>\n      <td>-10</td>\n    </tr>\n    <tr>\n      <th>5614966</th>\n      <td>DL</td>\n      <td>SFO</td>\n      <td>268</td>\n      <td>3442.37826</td>\n      <td>2</td>\n      <td>-0.781831</td>\n      <td>0.62349</td>\n      <td>0.979045</td>\n      <td>0.203642</td>\n      <td>-3</td>\n      <td>...</td>\n      <td>0</td>\n      <td>1</td>\n      <td>0</td>\n      <td>0</td>\n      <td>1.0</td>\n      <td>1.0</td>\n      <td>1.0</td>\n      <td>1.0</td>\n      <td>1.0</td>\n      <td>-8</td>\n    </tr>\n    <tr>\n      <th>5616651</th>\n      <td>DL</td>\n      <td>SAN</td>\n      <td>241</td>\n      <td>3044.87128</td>\n      <td>2</td>\n      <td>-0.781831</td>\n      <td>0.62349</td>\n      <td>0.999990</td>\n      <td>-0.004363</td>\n      <td>-6</td>\n      <td>...</td>\n      <td>0</td>\n      <td>1</td>\n      <td>0</td>\n      <td>0</td>\n      <td>1.0</td>\n      <td>1.0</td>\n      <td>1.0</td>\n      <td>1.0</td>\n      <td>1.0</td>\n      <td>-20</td>\n    </tr>\n    <tr>\n      <th>5616326</th>\n      <td>DL</td>\n      <td>SFO</td>\n      <td>270</td>\n      <td>3442.37826</td>\n      <td>2</td>\n      <td>-0.781831</td>\n      <td>0.62349</td>\n      <td>0.999762</td>\n      <td>-0.021815</td>\n      <td>-5</td>\n      <td>...</td>\n      <td>0</td>\n      <td>1</td>\n      <td>0</td>\n      <td>0</td>\n      <td>1.0</td>\n      <td>1.0</td>\n      <td>1.0</td>\n      <td>1.0</td>\n      <td>1.0</td>\n      <td>-7</td>\n    </tr>\n    <tr>\n      <th>5613460</th>\n      <td>UA</td>\n      <td>SFO</td>\n      <td>278</td>\n      <td>3442.37826</td>\n      <td>2</td>\n      <td>-0.781831</td>\n      <td>0.62349</td>\n      <td>0.996195</td>\n      <td>-0.087156</td>\n      <td>6</td>\n      <td>...</td>\n      <td>0</td>\n      <td>1</td>\n      <td>0</td>\n      <td>0</td>\n      <td>1.0</td>\n      <td>1.0</td>\n      <td>1.0</td>\n      <td>1.0</td>\n      <td>1.0</td>\n      <td>-6</td>\n    </tr>\n    <tr>\n      <th>...</th>\n      <td>...</td>\n      <td>...</td>\n      <td>...</td>\n      <td>...</td>\n      <td>...</td>\n      <td>...</td>\n      <td>...</td>\n      <td>...</td>\n      <td>...</td>\n      <td>...</td>\n      <td>...</td>\n      <td>...</td>\n      <td>...</td>\n      <td>...</td>\n      <td>...</td>\n      <td>...</td>\n      <td>...</td>\n      <td>...</td>\n      <td>...</td>\n      <td>...</td>\n      <td>...</td>\n    </tr>\n    <tr>\n      <th>11289608</th>\n      <td>NK</td>\n      <td>BWI</td>\n      <td>122</td>\n      <td>928.58918</td>\n      <td>8</td>\n      <td>-0.781831</td>\n      <td>0.62349</td>\n      <td>-0.100188</td>\n      <td>0.994969</td>\n      <td>-5</td>\n      <td>...</td>\n      <td>0</td>\n      <td>0</td>\n      <td>0</td>\n      <td>0</td>\n      <td>0.0</td>\n      <td>0.0</td>\n      <td>0.0</td>\n      <td>0.0</td>\n      <td>0.0</td>\n      <td>-10</td>\n    </tr>\n    <tr>\n      <th>11284363</th>\n      <td>WN</td>\n      <td>MDW</td>\n      <td>110</td>\n      <td>951.11994</td>\n      <td>8</td>\n      <td>-0.781831</td>\n      <td>0.62349</td>\n      <td>-0.065403</td>\n      <td>0.997859</td>\n      <td>20</td>\n      <td>...</td>\n      <td>0</td>\n      <td>0</td>\n      <td>0</td>\n      <td>0</td>\n      <td>0.0</td>\n      <td>0.0</td>\n      <td>0.0</td>\n      <td>0.0</td>\n      <td>0.0</td>\n      <td>5</td>\n    </tr>\n    <tr>\n      <th>11283412</th>\n      <td>WN</td>\n      <td>DEN</td>\n      <td>170</td>\n      <td>1929.59866</td>\n      <td>8</td>\n      <td>-0.781831</td>\n      <td>0.62349</td>\n      <td>-0.065403</td>\n      <td>0.997859</td>\n      <td>43</td>\n      <td>...</td>\n      <td>0</td>\n      <td>0</td>\n      <td>0</td>\n      <td>0</td>\n      <td>0.0</td>\n      <td>0.0</td>\n      <td>0.0</td>\n      <td>0.0</td>\n      <td>0.0</td>\n      <td>17</td>\n    </tr>\n    <tr>\n      <th>11286614</th>\n      <td>B6</td>\n      <td>BOS</td>\n      <td>179</td>\n      <td>1522.43564</td>\n      <td>11</td>\n      <td>-0.781831</td>\n      <td>0.62349</td>\n      <td>-0.047978</td>\n      <td>0.998848</td>\n      <td>43</td>\n      <td>...</td>\n      <td>0</td>\n      <td>0</td>\n      <td>0</td>\n      <td>0</td>\n      <td>0.0</td>\n      <td>0.0</td>\n      <td>0.0</td>\n      <td>0.0</td>\n      <td>0.0</td>\n      <td>30</td>\n    </tr>\n    <tr>\n      <th>11291238</th>\n      <td>DL</td>\n      <td>MSP</td>\n      <td>163</td>\n      <td>1459.67138</td>\n      <td>12</td>\n      <td>-0.781831</td>\n      <td>0.62349</td>\n      <td>-0.008727</td>\n      <td>0.999962</td>\n      <td>-1</td>\n      <td>...</td>\n      <td>0</td>\n      <td>0</td>\n      <td>0</td>\n      <td>0</td>\n      <td>0.0</td>\n      <td>0.0</td>\n      <td>0.0</td>\n      <td>0.0</td>\n      <td>0.0</td>\n      <td>-29</td>\n    </tr>\n  </tbody>\n</table>\n<p>348136 rows × 43 columns</p>\n</div>"
     },
     "execution_count": 67,
     "metadata": {},
     "output_type": "execute_result"
    }
   ],
   "source": [
    "cols = ['OP_UNIQUE_CARRIER',\n",
    " 'ORIGIN',\n",
    " 'CRS_ELAPSED_TIME(MINS)',\n",
    " 'DISTANCE(KM)',\n",
    " 'NR_PREV_ARR_FLIGHTS(1HR)',\n",
    " 'ARR_DAY_SIN',\n",
    " 'ARR_DAY_COS',\n",
    " 'ARR_MIN_OF_DAY_SIN',\n",
    " 'ARR_MIN_OF_DAY_COS',\n",
    " 'DEP_DELAY(MINS)',\n",
    " 'NR_ENGINES',\n",
    " 'APPROACH_SPEED(KMH)',\n",
    " 'WINGSPAN(M)',\n",
    " 'LENGTH(M)',\n",
    " 'TAIL_HEIGHT(M)',\n",
    " 'MTOW(KG)',\n",
    " 'JET(YN)',\n",
    " 'WINGLETS(YN)',\n",
    " 'TEMP(C)',\n",
    " 'REL_HUMIDITY(PERCENT)',\n",
    " 'WIND_DRCT(DEG)',\n",
    " 'WIND_SPEED(KMH)',\n",
    " '1HOUR_PRECIPITATION(INCH)',\n",
    " 'SEA_LEVEL_PRESSURE(MILLIBAR)',\n",
    " 'VISIBILITY(MILES)',\n",
    " 'FELT_TEMP(C)',\n",
    " 'EVENT_BR',\n",
    " 'EVENT_DZ',\n",
    " 'EVENT_FG',\n",
    " 'EVENT_FU',\n",
    " 'EVENT_GR',\n",
    " 'EVENT_GS',\n",
    " 'EVENT_HZ',\n",
    " 'EVENT_IC',\n",
    " 'EVENT_RA',\n",
    " 'EVENT_SN',\n",
    " 'EVENT_TS',\n",
    " '08L/26R',\n",
    " '08R/26L',\n",
    " '09L/27R',\n",
    " '09R/27L',\n",
    " '10/28',\n",
    " 'ARR_DELAY_MINS']\n",
    "\n",
    "data = data[cols]\n",
    "data"
   ],
   "metadata": {
    "collapsed": false,
    "pycharm": {
     "name": "#%%\n"
    }
   }
  },
  {
   "cell_type": "code",
   "execution_count": 68,
   "outputs": [],
   "source": [
    "data.to_pickle(\"./processed_files/01a_preprocessing.pkl\")"
   ],
   "metadata": {
    "collapsed": false,
    "pycharm": {
     "name": "#%%\n"
    }
   }
  },
  {
   "cell_type": "code",
   "execution_count": 68,
   "outputs": [],
   "source": [],
   "metadata": {
    "collapsed": false,
    "pycharm": {
     "name": "#%%\n"
    }
   }
  }
 ],
 "metadata": {
  "kernelspec": {
   "display_name": "Python 3",
   "language": "python",
   "name": "python3"
  },
  "language_info": {
   "codemirror_mode": {
    "name": "ipython",
    "version": 2
   },
   "file_extension": ".py",
   "mimetype": "text/x-python",
   "name": "python",
   "nbconvert_exporter": "python",
   "pygments_lexer": "ipython2",
   "version": "2.7.6"
  }
 },
 "nbformat": 4,
 "nbformat_minor": 0
}
