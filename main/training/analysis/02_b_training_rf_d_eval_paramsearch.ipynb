{
 "cells": [
  {
   "cell_type": "code",
   "execution_count": 2,
   "metadata": {
    "collapsed": true
   },
   "outputs": [],
   "source": [
    "import pandas as pd\n",
    "import numpy as np\n",
    "import pickle\n",
    "import os"
   ]
  },
  {
   "cell_type": "markdown",
   "source": [
    "# Evaluation of Parameter Estimation for Successive Halving Gridsearch\n",
    "This file was made to get an overlook of the cv_results_ variable of the Successive Halving Gridsearch\n",
    "\n",
    "## Loading"
   ],
   "metadata": {
    "collapsed": false,
    "pycharm": {
     "name": "#%% md\n"
    }
   }
  },
  {
   "cell_type": "code",
   "execution_count": 7,
   "outputs": [
    {
     "data": {
      "text/plain": "     iter  n_resources  mean_fit_time  std_fit_time  mean_score_time  \\\n0       0           25       3.268019      0.628831         0.146520   \n1       0           25       3.596971      0.065407         0.164168   \n2       0           25       3.591286      0.045852         0.169490   \n3       0           25       3.412892      0.492327         0.160859   \n4       0           25       4.525591      0.434440         0.160179   \n..    ...          ...            ...           ...              ...   \n630     6         1600    2102.266856     38.316471        31.041376   \n631     6         1600    1051.812164    193.404170        42.641747   \n632     6         1600     889.481612    138.457710        42.776802   \n633     6         1600    1439.446581    120.836643        49.205706   \n634     6         1600    1562.635104    152.173014       221.607955   \n\n     std_score_time param_bootstrap param_criterion param_max_depth  \\\n0          0.022911            True            gini               1   \n1          0.010159            True            gini               1   \n2          0.009621            True            gini               1   \n3          0.027222            True            gini               1   \n4          0.004205            True            gini               1   \n..              ...             ...             ...             ...   \n630        1.036879            True            gini            None   \n631        3.039016            True         entropy            None   \n632        1.920223            True            gini            None   \n633       23.066490            True            gini            None   \n634      126.137175            True         entropy            None   \n\n    param_max_features  ... mean_test_score std_test_score rank_test_score  \\\n0                 sqrt  ...        0.568515       0.000163             624   \n1                 sqrt  ...        0.568515       0.000163             624   \n2                 sqrt  ...        0.568515       0.000163             624   \n3                 sqrt  ...        0.568515       0.000163             624   \n4                  0.3  ...        0.599889       0.000893             604   \n..                 ...  ...             ...            ...             ...   \n630                0.6  ...        0.722331       0.001810              15   \n631               sqrt  ...        0.723168       0.001888              11   \n632               sqrt  ...        0.723933       0.001892               7   \n633                0.3  ...        0.724737       0.001703               1   \n634                0.3  ...        0.724543       0.001991               2   \n\n     split0_train_score  split1_train_score  split2_train_score  \\\n0              0.568566            0.568584            0.568571   \n1              0.568566            0.568584            0.568571   \n2              0.568566            0.568584            0.568571   \n3              0.568566            0.568584            0.568571   \n4              0.600105            0.600410            0.599970   \n..                  ...                 ...                 ...   \n630            0.999843            0.999803            0.999829   \n631            0.999843            0.999803            0.999829   \n632            0.999843            0.999803            0.999829   \n633            0.999843            0.999803            0.999829   \n634            0.999843            0.999803            0.999829   \n\n     split3_train_score  split4_train_score  mean_train_score  std_train_score  \n0              0.568514            0.568236          0.568494         0.000131  \n1              0.568514            0.568236          0.568494         0.000131  \n2              0.568514            0.568236          0.568494         0.000131  \n3              0.568514            0.568236          0.568494         0.000131  \n4              0.600475            0.598783          0.599949         0.000612  \n..                  ...                 ...               ...              ...  \n630            0.999829            0.999856          0.999832         0.000018  \n631            0.999829            0.999856          0.999832         0.000018  \n632            0.999829            0.999856          0.999832         0.000018  \n633            0.999829            0.999856          0.999832         0.000018  \n634            0.999829            0.999856          0.999832         0.000018  \n\n[635 rows x 28 columns]",
      "text/html": "<div>\n<style scoped>\n    .dataframe tbody tr th:only-of-type {\n        vertical-align: middle;\n    }\n\n    .dataframe tbody tr th {\n        vertical-align: top;\n    }\n\n    .dataframe thead th {\n        text-align: right;\n    }\n</style>\n<table border=\"1\" class=\"dataframe\">\n  <thead>\n    <tr style=\"text-align: right;\">\n      <th></th>\n      <th>iter</th>\n      <th>n_resources</th>\n      <th>mean_fit_time</th>\n      <th>std_fit_time</th>\n      <th>mean_score_time</th>\n      <th>std_score_time</th>\n      <th>param_bootstrap</th>\n      <th>param_criterion</th>\n      <th>param_max_depth</th>\n      <th>param_max_features</th>\n      <th>...</th>\n      <th>mean_test_score</th>\n      <th>std_test_score</th>\n      <th>rank_test_score</th>\n      <th>split0_train_score</th>\n      <th>split1_train_score</th>\n      <th>split2_train_score</th>\n      <th>split3_train_score</th>\n      <th>split4_train_score</th>\n      <th>mean_train_score</th>\n      <th>std_train_score</th>\n    </tr>\n  </thead>\n  <tbody>\n    <tr>\n      <th>0</th>\n      <td>0</td>\n      <td>25</td>\n      <td>3.268019</td>\n      <td>0.628831</td>\n      <td>0.146520</td>\n      <td>0.022911</td>\n      <td>True</td>\n      <td>gini</td>\n      <td>1</td>\n      <td>sqrt</td>\n      <td>...</td>\n      <td>0.568515</td>\n      <td>0.000163</td>\n      <td>624</td>\n      <td>0.568566</td>\n      <td>0.568584</td>\n      <td>0.568571</td>\n      <td>0.568514</td>\n      <td>0.568236</td>\n      <td>0.568494</td>\n      <td>0.000131</td>\n    </tr>\n    <tr>\n      <th>1</th>\n      <td>0</td>\n      <td>25</td>\n      <td>3.596971</td>\n      <td>0.065407</td>\n      <td>0.164168</td>\n      <td>0.010159</td>\n      <td>True</td>\n      <td>gini</td>\n      <td>1</td>\n      <td>sqrt</td>\n      <td>...</td>\n      <td>0.568515</td>\n      <td>0.000163</td>\n      <td>624</td>\n      <td>0.568566</td>\n      <td>0.568584</td>\n      <td>0.568571</td>\n      <td>0.568514</td>\n      <td>0.568236</td>\n      <td>0.568494</td>\n      <td>0.000131</td>\n    </tr>\n    <tr>\n      <th>2</th>\n      <td>0</td>\n      <td>25</td>\n      <td>3.591286</td>\n      <td>0.045852</td>\n      <td>0.169490</td>\n      <td>0.009621</td>\n      <td>True</td>\n      <td>gini</td>\n      <td>1</td>\n      <td>sqrt</td>\n      <td>...</td>\n      <td>0.568515</td>\n      <td>0.000163</td>\n      <td>624</td>\n      <td>0.568566</td>\n      <td>0.568584</td>\n      <td>0.568571</td>\n      <td>0.568514</td>\n      <td>0.568236</td>\n      <td>0.568494</td>\n      <td>0.000131</td>\n    </tr>\n    <tr>\n      <th>3</th>\n      <td>0</td>\n      <td>25</td>\n      <td>3.412892</td>\n      <td>0.492327</td>\n      <td>0.160859</td>\n      <td>0.027222</td>\n      <td>True</td>\n      <td>gini</td>\n      <td>1</td>\n      <td>sqrt</td>\n      <td>...</td>\n      <td>0.568515</td>\n      <td>0.000163</td>\n      <td>624</td>\n      <td>0.568566</td>\n      <td>0.568584</td>\n      <td>0.568571</td>\n      <td>0.568514</td>\n      <td>0.568236</td>\n      <td>0.568494</td>\n      <td>0.000131</td>\n    </tr>\n    <tr>\n      <th>4</th>\n      <td>0</td>\n      <td>25</td>\n      <td>4.525591</td>\n      <td>0.434440</td>\n      <td>0.160179</td>\n      <td>0.004205</td>\n      <td>True</td>\n      <td>gini</td>\n      <td>1</td>\n      <td>0.3</td>\n      <td>...</td>\n      <td>0.599889</td>\n      <td>0.000893</td>\n      <td>604</td>\n      <td>0.600105</td>\n      <td>0.600410</td>\n      <td>0.599970</td>\n      <td>0.600475</td>\n      <td>0.598783</td>\n      <td>0.599949</td>\n      <td>0.000612</td>\n    </tr>\n    <tr>\n      <th>...</th>\n      <td>...</td>\n      <td>...</td>\n      <td>...</td>\n      <td>...</td>\n      <td>...</td>\n      <td>...</td>\n      <td>...</td>\n      <td>...</td>\n      <td>...</td>\n      <td>...</td>\n      <td>...</td>\n      <td>...</td>\n      <td>...</td>\n      <td>...</td>\n      <td>...</td>\n      <td>...</td>\n      <td>...</td>\n      <td>...</td>\n      <td>...</td>\n      <td>...</td>\n      <td>...</td>\n    </tr>\n    <tr>\n      <th>630</th>\n      <td>6</td>\n      <td>1600</td>\n      <td>2102.266856</td>\n      <td>38.316471</td>\n      <td>31.041376</td>\n      <td>1.036879</td>\n      <td>True</td>\n      <td>gini</td>\n      <td>None</td>\n      <td>0.6</td>\n      <td>...</td>\n      <td>0.722331</td>\n      <td>0.001810</td>\n      <td>15</td>\n      <td>0.999843</td>\n      <td>0.999803</td>\n      <td>0.999829</td>\n      <td>0.999829</td>\n      <td>0.999856</td>\n      <td>0.999832</td>\n      <td>0.000018</td>\n    </tr>\n    <tr>\n      <th>631</th>\n      <td>6</td>\n      <td>1600</td>\n      <td>1051.812164</td>\n      <td>193.404170</td>\n      <td>42.641747</td>\n      <td>3.039016</td>\n      <td>True</td>\n      <td>entropy</td>\n      <td>None</td>\n      <td>sqrt</td>\n      <td>...</td>\n      <td>0.723168</td>\n      <td>0.001888</td>\n      <td>11</td>\n      <td>0.999843</td>\n      <td>0.999803</td>\n      <td>0.999829</td>\n      <td>0.999829</td>\n      <td>0.999856</td>\n      <td>0.999832</td>\n      <td>0.000018</td>\n    </tr>\n    <tr>\n      <th>632</th>\n      <td>6</td>\n      <td>1600</td>\n      <td>889.481612</td>\n      <td>138.457710</td>\n      <td>42.776802</td>\n      <td>1.920223</td>\n      <td>True</td>\n      <td>gini</td>\n      <td>None</td>\n      <td>sqrt</td>\n      <td>...</td>\n      <td>0.723933</td>\n      <td>0.001892</td>\n      <td>7</td>\n      <td>0.999843</td>\n      <td>0.999803</td>\n      <td>0.999829</td>\n      <td>0.999829</td>\n      <td>0.999856</td>\n      <td>0.999832</td>\n      <td>0.000018</td>\n    </tr>\n    <tr>\n      <th>633</th>\n      <td>6</td>\n      <td>1600</td>\n      <td>1439.446581</td>\n      <td>120.836643</td>\n      <td>49.205706</td>\n      <td>23.066490</td>\n      <td>True</td>\n      <td>gini</td>\n      <td>None</td>\n      <td>0.3</td>\n      <td>...</td>\n      <td>0.724737</td>\n      <td>0.001703</td>\n      <td>1</td>\n      <td>0.999843</td>\n      <td>0.999803</td>\n      <td>0.999829</td>\n      <td>0.999829</td>\n      <td>0.999856</td>\n      <td>0.999832</td>\n      <td>0.000018</td>\n    </tr>\n    <tr>\n      <th>634</th>\n      <td>6</td>\n      <td>1600</td>\n      <td>1562.635104</td>\n      <td>152.173014</td>\n      <td>221.607955</td>\n      <td>126.137175</td>\n      <td>True</td>\n      <td>entropy</td>\n      <td>None</td>\n      <td>0.3</td>\n      <td>...</td>\n      <td>0.724543</td>\n      <td>0.001991</td>\n      <td>2</td>\n      <td>0.999843</td>\n      <td>0.999803</td>\n      <td>0.999829</td>\n      <td>0.999829</td>\n      <td>0.999856</td>\n      <td>0.999832</td>\n      <td>0.000018</td>\n    </tr>\n  </tbody>\n</table>\n<p>635 rows × 28 columns</p>\n</div>"
     },
     "execution_count": 7,
     "metadata": {},
     "output_type": "execute_result"
    }
   ],
   "source": [
    "#path = \"../training_results/RF/2023_09_19-2233\"\n",
    "path = None\n",
    "path_clf_type = \"RF\"\n",
    "cv_file_name = \"cv_results.pkl\"\n",
    "\n",
    "if path is None:\n",
    "    path = [x[0] for x in os.walk(f\"./training_results/{path_clf_type}\")][-1:][0]\n",
    "path = path + \"/\" +cv_file_name\n",
    "pd.read_pickle(path)"
   ],
   "metadata": {
    "collapsed": false,
    "pycharm": {
     "name": "#%%\n"
    }
   }
  },
  {
   "cell_type": "code",
   "execution_count": null,
   "outputs": [],
   "source": [],
   "metadata": {
    "collapsed": false,
    "pycharm": {
     "name": "#%%\n"
    }
   }
  }
 ],
 "metadata": {
  "kernelspec": {
   "display_name": "Python 3",
   "language": "python",
   "name": "python3"
  },
  "language_info": {
   "codemirror_mode": {
    "name": "ipython",
    "version": 2
   },
   "file_extension": ".py",
   "mimetype": "text/x-python",
   "name": "python",
   "nbconvert_exporter": "python",
   "pygments_lexer": "ipython2",
   "version": "2.7.6"
  }
 },
 "nbformat": 4,
 "nbformat_minor": 0
}