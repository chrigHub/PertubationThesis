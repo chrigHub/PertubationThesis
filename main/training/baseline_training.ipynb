{
 "cells": [
  {
   "cell_type": "code",
   "execution_count": 17,
   "metadata": {
    "collapsed": true,
    "ExecuteTime": {
     "end_time": "2025-03-31T17:47:35.932043Z",
     "start_time": "2025-03-31T17:47:35.787045600Z"
    }
   },
   "outputs": [],
   "source": [
    "import pandas as pd\n",
    "import matplotlib.pyplot as plt\n",
    "import numpy as np\n",
    "import os\n",
    "from sklearn.model_selection import train_test_split\n",
    "from sklearn.ensemble import RandomForestClassifier\n",
    "from sklearn.preprocessing import LabelEncoder\n",
    "from sklearn.preprocessing import OneHotEncoder\n",
    "from sklearn.metrics import accuracy_score, f1_score, precision_score, recall_score\n",
    "\n",
    "# Variables\n",
    "ROOT_PATH = os.path.abspath(\"../../\")\n",
    "INPUT_FOLDER = os.path.join(ROOT_PATH, \"data/preprocessing/\")\n",
    "MODEL_PATH = os.path.join(ROOT_PATH, \"data/training/training_results/BL\")"
   ]
  },
  {
   "cell_type": "markdown",
   "source": [
    "# Loading Files\n",
    "For the baseline model I load the first old and unreduced files to preserve the original distributions."
   ],
   "metadata": {
    "collapsed": false,
    "pycharm": {
     "name": "#%% md\n"
    }
   }
  },
  {
   "cell_type": "code",
   "execution_count": 18,
   "outputs": [
    {
     "data": {
      "text/plain": "         DEP_DELAY(MINS)  CRS_ELAPSED_TIME(MINS)  NR_PREV_ARR_FLIGHTS(1HR)  \\\n5998106              107                      89                        74   \n9744846               -3                     106                        83   \n8656393               64                      98                        53   \n7404998               -2                     121                        88   \n8855927               15                     132                        74   \n...                  ...                     ...                       ...   \n6033952               -3                     126                        95   \n7551519               -8                     142                        74   \n7375452               -4                     122                        58   \n7757994              180                      92                        62   \n7249134               -4                      89                        52   \n\n         ARR_DAY_SIN  ARR_DAY_COS  ARR_MIN_OF_DAY_SIN  ARR_MIN_OF_DAY_COS  \\\n5998106    -0.433884    -0.900969           -0.985556            0.169350   \n9744846     0.433884    -0.900969            0.496217           -0.868199   \n8656393    -0.781831     0.623490           -0.548293           -0.836286   \n7404998    -0.433884    -0.900969           -0.719340            0.694658   \n8855927     0.433884    -0.900969           -0.845728            0.533615   \n...              ...          ...                 ...                 ...   \n6033952    -0.781831     0.623490            0.678801           -0.734323   \n7551519     0.000000     1.000000           -0.649448           -0.760406   \n7375452     0.433884    -0.900969           -0.999914           -0.013090   \n7757994    -0.781831     0.623490           -0.608761            0.793353   \n7249134     0.974928    -0.222521            0.220697           -0.975342   \n\n         APPROACH_SPEED(KMH)  TAIL_HEIGHT(M)  PARKING_AREA(SQM)  ...  \\\n5998106              255.576        9.000744        1525.176514  ...   \n9744846              255.576        9.000744        1525.176514  ...   \n8656393              255.576        9.000744        1525.176514  ...   \n7404998              261.132       12.624816        1445.094760  ...   \n8855927              257.428        9.043416        1075.157934  ...   \n...                      ...             ...                ...  ...   \n6033952              229.648        9.854184         823.857302  ...   \n7551519              257.428        9.043416        1075.157934  ...   \n7375452              264.836       13.639800        2071.070234  ...   \n7757994              259.280        6.324600         560.293571  ...   \n7249134              255.576        9.000744        1525.176514  ...   \n\n         EVENT_FU  EVENT_GR  EVENT_GS  EVENT_HZ  EVENT_IC  EVENT_RA  EVENT_SN  \\\n5998106         0         0         0         0         0         0         0   \n9744846         2         0         0         0         0         0         0   \n8656393         0         0         0         0         0         3         0   \n7404998         0         0         0         0         0         0         0   \n8855927         0         0         0         0         0         0         2   \n...           ...       ...       ...       ...       ...       ...       ...   \n6033952         0         0         0         0         0         0         0   \n7551519         0         0         0         0         0         0         0   \n7375452         0         0         0         0         2         2         2   \n7757994         0         0         0         0         0         0         0   \n7249134         0         0         0         0         0         0         0   \n\n         EVENT_TS  RUNWAY_ERROR(PERC)  y  \n5998106         0                 0.4  2  \n9744846         0                 0.8  1  \n8656393         2                 0.4  2  \n7404998         0                 0.8  0  \n8855927         0                 0.6  2  \n...           ...                 ... ..  \n6033952         0                 0.2  1  \n7551519         0                 0.2  0  \n7375452         2                 0.2  1  \n7757994         0                 1.0  2  \n7249134         0                 1.0  1  \n\n[263204 rows x 32 columns]",
      "text/html": "<div>\n<style scoped>\n    .dataframe tbody tr th:only-of-type {\n        vertical-align: middle;\n    }\n\n    .dataframe tbody tr th {\n        vertical-align: top;\n    }\n\n    .dataframe thead th {\n        text-align: right;\n    }\n</style>\n<table border=\"1\" class=\"dataframe\">\n  <thead>\n    <tr style=\"text-align: right;\">\n      <th></th>\n      <th>DEP_DELAY(MINS)</th>\n      <th>CRS_ELAPSED_TIME(MINS)</th>\n      <th>NR_PREV_ARR_FLIGHTS(1HR)</th>\n      <th>ARR_DAY_SIN</th>\n      <th>ARR_DAY_COS</th>\n      <th>ARR_MIN_OF_DAY_SIN</th>\n      <th>ARR_MIN_OF_DAY_COS</th>\n      <th>APPROACH_SPEED(KMH)</th>\n      <th>TAIL_HEIGHT(M)</th>\n      <th>PARKING_AREA(SQM)</th>\n      <th>...</th>\n      <th>EVENT_FU</th>\n      <th>EVENT_GR</th>\n      <th>EVENT_GS</th>\n      <th>EVENT_HZ</th>\n      <th>EVENT_IC</th>\n      <th>EVENT_RA</th>\n      <th>EVENT_SN</th>\n      <th>EVENT_TS</th>\n      <th>RUNWAY_ERROR(PERC)</th>\n      <th>y</th>\n    </tr>\n  </thead>\n  <tbody>\n    <tr>\n      <th>5998106</th>\n      <td>107</td>\n      <td>89</td>\n      <td>74</td>\n      <td>-0.433884</td>\n      <td>-0.900969</td>\n      <td>-0.985556</td>\n      <td>0.169350</td>\n      <td>255.576</td>\n      <td>9.000744</td>\n      <td>1525.176514</td>\n      <td>...</td>\n      <td>0</td>\n      <td>0</td>\n      <td>0</td>\n      <td>0</td>\n      <td>0</td>\n      <td>0</td>\n      <td>0</td>\n      <td>0</td>\n      <td>0.4</td>\n      <td>2</td>\n    </tr>\n    <tr>\n      <th>9744846</th>\n      <td>-3</td>\n      <td>106</td>\n      <td>83</td>\n      <td>0.433884</td>\n      <td>-0.900969</td>\n      <td>0.496217</td>\n      <td>-0.868199</td>\n      <td>255.576</td>\n      <td>9.000744</td>\n      <td>1525.176514</td>\n      <td>...</td>\n      <td>2</td>\n      <td>0</td>\n      <td>0</td>\n      <td>0</td>\n      <td>0</td>\n      <td>0</td>\n      <td>0</td>\n      <td>0</td>\n      <td>0.8</td>\n      <td>1</td>\n    </tr>\n    <tr>\n      <th>8656393</th>\n      <td>64</td>\n      <td>98</td>\n      <td>53</td>\n      <td>-0.781831</td>\n      <td>0.623490</td>\n      <td>-0.548293</td>\n      <td>-0.836286</td>\n      <td>255.576</td>\n      <td>9.000744</td>\n      <td>1525.176514</td>\n      <td>...</td>\n      <td>0</td>\n      <td>0</td>\n      <td>0</td>\n      <td>0</td>\n      <td>0</td>\n      <td>3</td>\n      <td>0</td>\n      <td>2</td>\n      <td>0.4</td>\n      <td>2</td>\n    </tr>\n    <tr>\n      <th>7404998</th>\n      <td>-2</td>\n      <td>121</td>\n      <td>88</td>\n      <td>-0.433884</td>\n      <td>-0.900969</td>\n      <td>-0.719340</td>\n      <td>0.694658</td>\n      <td>261.132</td>\n      <td>12.624816</td>\n      <td>1445.094760</td>\n      <td>...</td>\n      <td>0</td>\n      <td>0</td>\n      <td>0</td>\n      <td>0</td>\n      <td>0</td>\n      <td>0</td>\n      <td>0</td>\n      <td>0</td>\n      <td>0.8</td>\n      <td>0</td>\n    </tr>\n    <tr>\n      <th>8855927</th>\n      <td>15</td>\n      <td>132</td>\n      <td>74</td>\n      <td>0.433884</td>\n      <td>-0.900969</td>\n      <td>-0.845728</td>\n      <td>0.533615</td>\n      <td>257.428</td>\n      <td>9.043416</td>\n      <td>1075.157934</td>\n      <td>...</td>\n      <td>0</td>\n      <td>0</td>\n      <td>0</td>\n      <td>0</td>\n      <td>0</td>\n      <td>0</td>\n      <td>2</td>\n      <td>0</td>\n      <td>0.6</td>\n      <td>2</td>\n    </tr>\n    <tr>\n      <th>...</th>\n      <td>...</td>\n      <td>...</td>\n      <td>...</td>\n      <td>...</td>\n      <td>...</td>\n      <td>...</td>\n      <td>...</td>\n      <td>...</td>\n      <td>...</td>\n      <td>...</td>\n      <td>...</td>\n      <td>...</td>\n      <td>...</td>\n      <td>...</td>\n      <td>...</td>\n      <td>...</td>\n      <td>...</td>\n      <td>...</td>\n      <td>...</td>\n      <td>...</td>\n      <td>...</td>\n    </tr>\n    <tr>\n      <th>6033952</th>\n      <td>-3</td>\n      <td>126</td>\n      <td>95</td>\n      <td>-0.781831</td>\n      <td>0.623490</td>\n      <td>0.678801</td>\n      <td>-0.734323</td>\n      <td>229.648</td>\n      <td>9.854184</td>\n      <td>823.857302</td>\n      <td>...</td>\n      <td>0</td>\n      <td>0</td>\n      <td>0</td>\n      <td>0</td>\n      <td>0</td>\n      <td>0</td>\n      <td>0</td>\n      <td>0</td>\n      <td>0.2</td>\n      <td>1</td>\n    </tr>\n    <tr>\n      <th>7551519</th>\n      <td>-8</td>\n      <td>142</td>\n      <td>74</td>\n      <td>0.000000</td>\n      <td>1.000000</td>\n      <td>-0.649448</td>\n      <td>-0.760406</td>\n      <td>257.428</td>\n      <td>9.043416</td>\n      <td>1075.157934</td>\n      <td>...</td>\n      <td>0</td>\n      <td>0</td>\n      <td>0</td>\n      <td>0</td>\n      <td>0</td>\n      <td>0</td>\n      <td>0</td>\n      <td>0</td>\n      <td>0.2</td>\n      <td>0</td>\n    </tr>\n    <tr>\n      <th>7375452</th>\n      <td>-4</td>\n      <td>122</td>\n      <td>58</td>\n      <td>0.433884</td>\n      <td>-0.900969</td>\n      <td>-0.999914</td>\n      <td>-0.013090</td>\n      <td>264.836</td>\n      <td>13.639800</td>\n      <td>2071.070234</td>\n      <td>...</td>\n      <td>0</td>\n      <td>0</td>\n      <td>0</td>\n      <td>0</td>\n      <td>2</td>\n      <td>2</td>\n      <td>2</td>\n      <td>2</td>\n      <td>0.2</td>\n      <td>1</td>\n    </tr>\n    <tr>\n      <th>7757994</th>\n      <td>180</td>\n      <td>92</td>\n      <td>62</td>\n      <td>-0.781831</td>\n      <td>0.623490</td>\n      <td>-0.608761</td>\n      <td>0.793353</td>\n      <td>259.280</td>\n      <td>6.324600</td>\n      <td>560.293571</td>\n      <td>...</td>\n      <td>0</td>\n      <td>0</td>\n      <td>0</td>\n      <td>0</td>\n      <td>0</td>\n      <td>0</td>\n      <td>0</td>\n      <td>0</td>\n      <td>1.0</td>\n      <td>2</td>\n    </tr>\n    <tr>\n      <th>7249134</th>\n      <td>-4</td>\n      <td>89</td>\n      <td>52</td>\n      <td>0.974928</td>\n      <td>-0.222521</td>\n      <td>0.220697</td>\n      <td>-0.975342</td>\n      <td>255.576</td>\n      <td>9.000744</td>\n      <td>1525.176514</td>\n      <td>...</td>\n      <td>0</td>\n      <td>0</td>\n      <td>0</td>\n      <td>0</td>\n      <td>0</td>\n      <td>0</td>\n      <td>0</td>\n      <td>0</td>\n      <td>1.0</td>\n      <td>1</td>\n    </tr>\n  </tbody>\n</table>\n<p>263204 rows × 32 columns</p>\n</div>"
     },
     "execution_count": 18,
     "metadata": {},
     "output_type": "execute_result"
    }
   ],
   "source": [
    "# Reading from specified folder\n",
    "selected_spec = os.path.join(INPUT_FOLDER, \"processed_files/CCLASS/\")\n",
    "\n",
    "X_train = pd.read_pickle(os.path.join(selected_spec, \"X_train_df.pkl\"))\n",
    "y_train = pd.read_pickle(os.path.join(selected_spec, \"y_train_df.pkl\"))\n",
    "X_test = pd.read_pickle(os.path.join(selected_spec, \"X_test_df.pkl\"))\n",
    "y_test = pd.read_pickle(os.path.join(selected_spec, \"y_test_df.pkl\"))\n",
    "\n",
    "selected_spec = os.path.join(INPUT_FOLDER, \"B\")\n",
    "\n",
    "y_train_pred_B = pd.read_pickle(os.path.join(selected_spec, \"X_train_df.pkl\"))[\"DEP_DELAY(MINS)\"].to_numpy()\n",
    "y_train_true_B = pd.read_pickle(os.path.join(selected_spec, \"y_train_df.pkl\")).to_numpy().ravel()\n",
    "y_test_pred_B = pd.read_pickle(os.path.join(selected_spec, \"X_test_df.pkl\"))[\"DEP_DELAY(MINS)\"].to_numpy()\n",
    "y_test_true_B = pd.read_pickle(os.path.join(selected_spec, \"y_test_df.pkl\")).to_numpy().ravel()\n",
    "\n",
    "Data_train_show = X_train.copy()\n",
    "Data_train_show[\"y\"] = y_train\n",
    "Data_train_show"
   ],
   "metadata": {
    "collapsed": false,
    "pycharm": {
     "name": "#%%\n"
    },
    "ExecuteTime": {
     "end_time": "2025-03-31T17:47:36.078044200Z",
     "start_time": "2025-03-31T17:47:35.813089500Z"
    }
   }
  },
  {
   "cell_type": "markdown",
   "source": [
    "## Convert the data from DataFrames to np.arrays"
   ],
   "metadata": {
    "collapsed": false,
    "pycharm": {
     "name": "#%% md\n"
    }
   }
  },
  {
   "cell_type": "code",
   "execution_count": 19,
   "outputs": [],
   "source": [
    "X_train = X_train.to_numpy()\n",
    "y_train = y_train.to_numpy()\n",
    "X_test = X_test.to_numpy()\n",
    "y_test = y_test.to_numpy()"
   ],
   "metadata": {
    "collapsed": false,
    "pycharm": {
     "name": "#%%\n"
    },
    "ExecuteTime": {
     "end_time": "2025-03-31T17:47:36.225043300Z",
     "start_time": "2025-03-31T17:47:36.078044200Z"
    }
   }
  },
  {
   "cell_type": "code",
   "execution_count": 20,
   "outputs": [
    {
     "data": {
      "text/plain": "array([2, 1, 2, ..., 1, 2, 1], dtype=int64)"
     },
     "execution_count": 20,
     "metadata": {},
     "output_type": "execute_result"
    }
   ],
   "source": [
    "y_train"
   ],
   "metadata": {
    "collapsed": false,
    "pycharm": {
     "name": "#%%\n"
    },
    "ExecuteTime": {
     "end_time": "2025-03-31T17:47:36.262044300Z",
     "start_time": "2025-03-31T17:47:36.146044Z"
    }
   }
  },
  {
   "cell_type": "code",
   "execution_count": 21,
   "outputs": [
    {
     "name": "stdout",
     "output_type": "stream",
     "text": [
      "Values in y_train: [0 1 2]\n",
      "Number of value counts in y_train: [ 71145 157691  34368]\n",
      "prob_0:0.27030364280178115\n",
      "prob_1:0.5991208340298779\n",
      "prob_2:0.1305755231683409\n"
     ]
    },
    {
     "data": {
      "text/plain": "<Figure size 640x480 with 1 Axes>",
      "image/png": "[encoded data removed]"
     },
     "metadata": {},
     "output_type": "display_data"
    }
   ],
   "source": [
    "vals, counts = np.unique(y_train, return_counts=True)\n",
    "print(\"Values in y_train: \" + str(vals))\n",
    "print(\"Number of value counts in y_train: \" + str(counts))\n",
    "prob_0 = counts[0] / len(y_train)\n",
    "prob_1 = counts[1] / len(y_train)\n",
    "prob_2 = counts[2] / len(y_train)\n",
    "print(\"prob_0:\"+ str(prob_0) +\"\\nprob_1:\"+ str(prob_1) +\"\\nprob_2:\"+ str(prob_2))\n",
    "\n",
    "fig, ax = plt.subplots(1,1)\n",
    "\n",
    "width = 0.75\n",
    "\n",
    "ax.set_title(\"Distribution of Training Labels\")\n",
    "ax.set_xticks([0,1,2])\n",
    "ax.set_xlim(-1,3)\n",
    "\n",
    "ax.grid(True, axis=\"y\", linewidth=0.25)\n",
    "\n",
    "labels = [\"Early\", \"On Time\", \"Late\"]\n",
    "prob_list = [prob_0, prob_1, prob_2]\n",
    "ax.set_xticklabels(labels)\n",
    "for cnt, v in enumerate(labels):\n",
    "    ax.bar(x = cnt, height = counts[cnt], label = v, width=width)\n",
    "    t1_height = counts[cnt] / 2\n",
    "    ax.text(x = cnt - width / 4, y = t1_height, s = str(counts[cnt]), color=\"#FFFFFF\")\n",
    "    ax.text(x = cnt - width / 3.2, y = t1_height - 7000, s = f\"({prob_list[cnt]:.3f}%)\", color=\"#FFFFFF\")\n",
    "\n",
    "ax.legend()\n",
    "print()"
   ],
   "metadata": {
    "collapsed": false,
    "pycharm": {
     "name": "#%%\n"
    },
    "ExecuteTime": {
     "end_time": "2025-03-31T17:47:36.597043400Z",
     "start_time": "2025-03-31T17:47:36.195045500Z"
    }
   }
  },
  {
   "cell_type": "code",
   "execution_count": 22,
   "outputs": [],
   "source": [
    "np.random.seed(42)\n",
    "\n",
    "#Train Files\n",
    "y_pred_train_bl1 = np.random.choice([0,1,2], size=(len(X_train), 1), p=[1/3,1/3,1/3])\n",
    "y_pred_train_bl2 = np.random.choice([0,1,2], size=(len(X_train), 1), p=[prob_0,prob_1,prob_2])\n",
    "y_pred_train_bl3 = np.ones(len(X_train), dtype=int)\n",
    "y_pred_train_bl4 = list(pd.cut(y_train_pred_B, bins=[-float(\"inf\"),-15,15,float(\"inf\")], labels=[0,1,2]))\n",
    "\n",
    "#Test Files\n",
    "y_pred_test_bl1 = np.random.choice([0,1,2], size=(len(X_test), 1), p=[1/3,1/3,1/3])\n",
    "y_pred_test_bl2 = np.random.choice([0,1,2], size=(len(X_test), 1), p=[prob_0,prob_1,prob_2])\n",
    "y_pred_test_bl3 = np.ones(len(X_test), dtype=int)\n",
    "y_pred_test_bl4 = list(pd.cut(y_test_pred_B, bins=[-float(\"inf\"),-15,15,float(\"inf\")], labels=[0,1,2]))"
   ],
   "metadata": {
    "collapsed": false,
    "pycharm": {
     "name": "#%%\n"
    },
    "ExecuteTime": {
     "end_time": "2025-03-31T17:47:36.688045300Z",
     "start_time": "2025-03-31T17:47:36.607046500Z"
    }
   }
  },
  {
   "cell_type": "code",
   "execution_count": 23,
   "outputs": [],
   "source": [
    "# Converting True Targets to DataFrame and Save as .pkl\n",
    "y_train_true = pd.DataFrame(y_train, columns=[\"y_train_BL_true\"])\n",
    "y_test_true = pd.DataFrame(y_test, columns=[\"y_test_BL_true\"])\n",
    "y_train_true.to_pickle(os.path.join(MODEL_PATH,\"y_train_true.pkl\"))\n",
    "y_test_true.to_pickle(os.path.join(MODEL_PATH,\"y_test_true.pkl\"))\n",
    "\n",
    "\n",
    "y_train_true_B = pd.DataFrame(y_train_true_B, columns=[\"y_train_BL_true\"])\n",
    "y_test_true_B = pd.DataFrame(y_test_true_B, columns=[\"y_test_BL_true\"])\n",
    "y_train_true_B.to_pickle(os.path.join(MODEL_PATH,\"y_train_true_B.pkl\"))\n",
    "y_test_true_B.to_pickle(os.path.join(MODEL_PATH,\"y_test_true_B.pkl\"))\n",
    "\n",
    "#Converting Train Targets to DataFrame\n",
    "y_train_pred_even = pd.DataFrame(y_pred_train_bl1, columns=[\"y_train_pred_BL_even\"])\n",
    "y_train_pred_dist = pd.DataFrame(y_pred_train_bl2, columns=[\"y_train_pred_BL_dist\"])\n",
    "y_train_pred_maj = pd.DataFrame(y_pred_train_bl3, columns=[\"y_train_pred_BL_maj\"])\n",
    "y_train_pred_delay = pd.DataFrame(y_pred_train_bl4, columns=[\"y_train_pred_BL_delay\"])\n",
    "#Converting Test Targets to DataFrame\n",
    "y_test_pred_even = pd.DataFrame(y_pred_test_bl1, columns=[\"y_test_pred_BL_even\"])\n",
    "y_test_pred_dist = pd.DataFrame(y_pred_test_bl2, columns=[\"y_test_pred_BL_dist\"])\n",
    "y_test_pred_maj = pd.DataFrame(y_pred_test_bl3, columns=[\"y_test_pred_BL_maj\"])\n",
    "y_test_pred_delay = pd.DataFrame(y_pred_test_bl4, columns=[\"y_test_pred_BL_delay\"])\n",
    "\n",
    "#Saving Train Targets as .pkl\n",
    "y_train_pred_even.to_pickle(os.path.join(MODEL_PATH,\"y_train_pred_even.pkl\"))\n",
    "y_train_pred_dist.to_pickle(os.path.join(MODEL_PATH,\"y_train_pred_dist.pkl\"))\n",
    "y_train_pred_maj.to_pickle(os.path.join(MODEL_PATH,\"y_train_pred_maj.pkl\"))\n",
    "y_train_pred_delay.to_pickle(os.path.join(MODEL_PATH,\"y_train_pred_delay.pkl\"))\n",
    "#Saving Test Targets as .pkl\n",
    "y_test_pred_even.to_pickle(os.path.join(MODEL_PATH,\"y_test_pred_even.pkl\"))\n",
    "y_test_pred_dist.to_pickle(os.path.join(MODEL_PATH,\"y_test_pred_dist.pkl\"))\n",
    "y_test_pred_maj.to_pickle(os.path.join(MODEL_PATH,\"y_test_pred_maj.pkl\"))\n",
    "y_test_pred_delay.to_pickle(os.path.join(MODEL_PATH,\"y_test_pred_delay.pkl\"))"
   ],
   "metadata": {
    "collapsed": false,
    "pycharm": {
     "name": "#%%\n"
    },
    "ExecuteTime": {
     "end_time": "2025-03-31T17:47:36.847042800Z",
     "start_time": "2025-03-31T17:47:36.690044Z"
    }
   }
  },
  {
   "cell_type": "code",
   "execution_count": 23,
   "outputs": [],
   "source": [],
   "metadata": {
    "collapsed": false,
    "ExecuteTime": {
     "end_time": "2025-03-31T17:47:36.862043900Z",
     "start_time": "2025-03-31T17:47:36.849044Z"
    }
   }
  }
 ],
 "metadata": {
  "kernelspec": {
   "display_name": "Python 3",
   "language": "python",
   "name": "python3"
  },
  "language_info": {
   "codemirror_mode": {
    "name": "ipython",
    "version": 2
   },
   "file_extension": ".py",
   "mimetype": "text/x-python",
   "name": "python",
   "nbconvert_exporter": "python",
   "pygments_lexer": "ipython2",
   "version": "2.7.6"
  }
 },
 "nbformat": 4,
 "nbformat_minor": 0
}
