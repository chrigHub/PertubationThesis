{
 "cells": [
  {
   "cell_type": "code",
   "execution_count": 35,
   "id": "initial_id",
   "metadata": {
    "collapsed": true,
    "ExecuteTime": {
     "end_time": "2024-07-08T20:01:16.484352200Z",
     "start_time": "2024-07-08T20:01:16.016620400Z"
    }
   },
   "outputs": [],
   "source": [
    "import os\n",
    "import numpy as np\n",
    "import pandas as pd\n",
    "from main.utils import train_utils, data_manage_utils\n",
    "import importlib\n",
    "import joblib\n",
    "\n",
    "importlib.reload(train_utils)\n",
    "importlib.reload(data_manage_utils)\n",
    "\n",
    "ROOT_PATH = \"../.././\"\n",
    "MODEL_PATH = os.path.join(ROOT_PATH, \"data/training/training_results\")\n",
    "DATA_PATH = os.path.join(ROOT_PATH, \"data/preprocessing/processed_files\")"
   ]
  },
  {
   "cell_type": "code",
   "execution_count": 36,
   "outputs": [
    {
     "name": "stdout",
     "output_type": "stream",
     "text": [
      "Using model from path: ../.././data/training/training_results\\RF\\2024_06_17-0642\\model.joblib\n"
     ]
    }
   ],
   "source": [
    "# LOAD MODEL DATA\n",
    "path = os.path.join(ROOT_PATH, \"data/training/training_results\", \"RF\", \"2024_06_17-0642\", \"model.joblib\")\n",
    "print(f\"Using model from path: {path}\")"
   ],
   "metadata": {
    "collapsed": false,
    "ExecuteTime": {
     "end_time": "2024-07-08T20:01:16.484352200Z",
     "start_time": "2024-07-08T20:01:16.066590900Z"
    }
   },
   "id": "c95f63b71524fbbf"
  },
  {
   "cell_type": "code",
   "execution_count": 37,
   "outputs": [],
   "source": [
    "X_train, y_train, X_test, y_test = data_manage_utils.load_processed_data_by_folder(os.path.join(DATA_PATH, \"CCLASS\"))"
   ],
   "metadata": {
    "collapsed": false,
    "ExecuteTime": {
     "end_time": "2024-07-08T20:01:16.485351200Z",
     "start_time": "2024-07-08T20:01:16.080582800Z"
    }
   },
   "id": "bf6b9af55f4bf639"
  },
  {
   "cell_type": "code",
   "execution_count": 38,
   "outputs": [
    {
     "data": {
      "text/plain": "          DEP_DELAY(MINS)  CRS_ELAPSED_TIME(MINS)  NR_PREV_ARR_FLIGHTS(1HR)  \\\n10644238               -2                     122                        47   \n8891635                -1                     167                        86   \n7346191                -1                     175                        20   \n8345802                 0                     270                        52   \n8407736                -8                     104                        70   \n7641514                -1                      64                        85   \n9381362                -6                     121                        63   \n\n          ARR_DAY_SIN  ARR_DAY_COS  ARR_MIN_OF_DAY_SIN  ARR_MIN_OF_DAY_COS  \\\n10644238    -0.974928    -0.222521           -0.870356           -0.492424   \n8891635     -0.781831     0.623490            0.700909           -0.713250   \n7346191      0.781831     0.623490           -0.195090            0.980785   \n8345802      0.000000     1.000000           -0.518773           -0.854912   \n8407736     -0.433884    -0.900969           -0.562805            0.826590   \n7641514     -0.781831     0.623490           -0.725374            0.688355   \n9381362      0.000000     1.000000           -0.866025            0.500000   \n\n          APPROACH_SPEED(KMH)  TAIL_HEIGHT(M)  PARKING_AREA(SQM)  ...  \\\n10644238              257.428        9.043416        1075.157934  ...   \n8891635               264.836       13.639800        2071.070234  ...   \n7346191               261.132       12.624816        1445.094760  ...   \n8345802               264.836       13.639800        2071.070234  ...   \n8407736               255.576        9.000744        1525.176514  ...   \n7641514               259.280        6.324600         560.293571  ...   \n9381362               264.836       13.639800        2071.070234  ...   \n\n          EVENT_FG  EVENT_FU  EVENT_GR  EVENT_GS  EVENT_HZ  EVENT_IC  \\\n10644238         0         0         0         0         0         0   \n8891635          0         0         0         0         0         0   \n7346191          0         0         0         0         0         0   \n8345802          0         0         0         0         0         0   \n8407736          0         0         0         0         0         0   \n7641514          0         0         0         0         0         0   \n9381362          0         0         0         0         0         0   \n\n          EVENT_RA  EVENT_SN  EVENT_TS  RUNWAY_ERROR(PERC)  \n10644238         0         0         0                 0.4  \n8891635          0         0         0                 0.4  \n7346191          0         0         0                 1.0  \n8345802          0         0         0                 0.4  \n8407736          0         0         0                 1.0  \n7641514          0         0         0                 1.0  \n9381362          0         0         0                 0.0  \n\n[7 rows x 31 columns]",
      "text/html": "<div>\n<style scoped>\n    .dataframe tbody tr th:only-of-type {\n        vertical-align: middle;\n    }\n\n    .dataframe tbody tr th {\n        vertical-align: top;\n    }\n\n    .dataframe thead th {\n        text-align: right;\n    }\n</style>\n<table border=\"1\" class=\"dataframe\">\n  <thead>\n    <tr style=\"text-align: right;\">\n      <th></th>\n      <th>DEP_DELAY(MINS)</th>\n      <th>CRS_ELAPSED_TIME(MINS)</th>\n      <th>NR_PREV_ARR_FLIGHTS(1HR)</th>\n      <th>ARR_DAY_SIN</th>\n      <th>ARR_DAY_COS</th>\n      <th>ARR_MIN_OF_DAY_SIN</th>\n      <th>ARR_MIN_OF_DAY_COS</th>\n      <th>APPROACH_SPEED(KMH)</th>\n      <th>TAIL_HEIGHT(M)</th>\n      <th>PARKING_AREA(SQM)</th>\n      <th>...</th>\n      <th>EVENT_FG</th>\n      <th>EVENT_FU</th>\n      <th>EVENT_GR</th>\n      <th>EVENT_GS</th>\n      <th>EVENT_HZ</th>\n      <th>EVENT_IC</th>\n      <th>EVENT_RA</th>\n      <th>EVENT_SN</th>\n      <th>EVENT_TS</th>\n      <th>RUNWAY_ERROR(PERC)</th>\n    </tr>\n  </thead>\n  <tbody>\n    <tr>\n      <th>10644238</th>\n      <td>-2</td>\n      <td>122</td>\n      <td>47</td>\n      <td>-0.974928</td>\n      <td>-0.222521</td>\n      <td>-0.870356</td>\n      <td>-0.492424</td>\n      <td>257.428</td>\n      <td>9.043416</td>\n      <td>1075.157934</td>\n      <td>...</td>\n      <td>0</td>\n      <td>0</td>\n      <td>0</td>\n      <td>0</td>\n      <td>0</td>\n      <td>0</td>\n      <td>0</td>\n      <td>0</td>\n      <td>0</td>\n      <td>0.4</td>\n    </tr>\n    <tr>\n      <th>8891635</th>\n      <td>-1</td>\n      <td>167</td>\n      <td>86</td>\n      <td>-0.781831</td>\n      <td>0.623490</td>\n      <td>0.700909</td>\n      <td>-0.713250</td>\n      <td>264.836</td>\n      <td>13.639800</td>\n      <td>2071.070234</td>\n      <td>...</td>\n      <td>0</td>\n      <td>0</td>\n      <td>0</td>\n      <td>0</td>\n      <td>0</td>\n      <td>0</td>\n      <td>0</td>\n      <td>0</td>\n      <td>0</td>\n      <td>0.4</td>\n    </tr>\n    <tr>\n      <th>7346191</th>\n      <td>-1</td>\n      <td>175</td>\n      <td>20</td>\n      <td>0.781831</td>\n      <td>0.623490</td>\n      <td>-0.195090</td>\n      <td>0.980785</td>\n      <td>261.132</td>\n      <td>12.624816</td>\n      <td>1445.094760</td>\n      <td>...</td>\n      <td>0</td>\n      <td>0</td>\n      <td>0</td>\n      <td>0</td>\n      <td>0</td>\n      <td>0</td>\n      <td>0</td>\n      <td>0</td>\n      <td>0</td>\n      <td>1.0</td>\n    </tr>\n    <tr>\n      <th>8345802</th>\n      <td>0</td>\n      <td>270</td>\n      <td>52</td>\n      <td>0.000000</td>\n      <td>1.000000</td>\n      <td>-0.518773</td>\n      <td>-0.854912</td>\n      <td>264.836</td>\n      <td>13.639800</td>\n      <td>2071.070234</td>\n      <td>...</td>\n      <td>0</td>\n      <td>0</td>\n      <td>0</td>\n      <td>0</td>\n      <td>0</td>\n      <td>0</td>\n      <td>0</td>\n      <td>0</td>\n      <td>0</td>\n      <td>0.4</td>\n    </tr>\n    <tr>\n      <th>8407736</th>\n      <td>-8</td>\n      <td>104</td>\n      <td>70</td>\n      <td>-0.433884</td>\n      <td>-0.900969</td>\n      <td>-0.562805</td>\n      <td>0.826590</td>\n      <td>255.576</td>\n      <td>9.000744</td>\n      <td>1525.176514</td>\n      <td>...</td>\n      <td>0</td>\n      <td>0</td>\n      <td>0</td>\n      <td>0</td>\n      <td>0</td>\n      <td>0</td>\n      <td>0</td>\n      <td>0</td>\n      <td>0</td>\n      <td>1.0</td>\n    </tr>\n    <tr>\n      <th>7641514</th>\n      <td>-1</td>\n      <td>64</td>\n      <td>85</td>\n      <td>-0.781831</td>\n      <td>0.623490</td>\n      <td>-0.725374</td>\n      <td>0.688355</td>\n      <td>259.280</td>\n      <td>6.324600</td>\n      <td>560.293571</td>\n      <td>...</td>\n      <td>0</td>\n      <td>0</td>\n      <td>0</td>\n      <td>0</td>\n      <td>0</td>\n      <td>0</td>\n      <td>0</td>\n      <td>0</td>\n      <td>0</td>\n      <td>1.0</td>\n    </tr>\n    <tr>\n      <th>9381362</th>\n      <td>-6</td>\n      <td>121</td>\n      <td>63</td>\n      <td>0.000000</td>\n      <td>1.000000</td>\n      <td>-0.866025</td>\n      <td>0.500000</td>\n      <td>264.836</td>\n      <td>13.639800</td>\n      <td>2071.070234</td>\n      <td>...</td>\n      <td>0</td>\n      <td>0</td>\n      <td>0</td>\n      <td>0</td>\n      <td>0</td>\n      <td>0</td>\n      <td>0</td>\n      <td>0</td>\n      <td>0</td>\n      <td>0.0</td>\n    </tr>\n  </tbody>\n</table>\n<p>7 rows × 31 columns</p>\n</div>"
     },
     "execution_count": 38,
     "metadata": {},
     "output_type": "execute_result"
    }
   ],
   "source": [
    "X_test_smpld = X_test.loc[[10644238, 8891635,7346191, 8345802, 8407736,7641514,9381362]]\n",
    "X_test_smpld"
   ],
   "metadata": {
    "collapsed": false,
    "ExecuteTime": {
     "end_time": "2024-07-08T20:01:16.486350800Z",
     "start_time": "2024-07-08T20:01:16.364420600Z"
    }
   },
   "id": "4ade8757c1bf65b9"
  },
  {
   "cell_type": "code",
   "execution_count": 39,
   "outputs": [
    {
     "data": {
      "text/plain": "RandomForestClassifier(class_weight='balanced', max_depth=20, max_features=0.3,\n                       n_estimators=500, random_state=42)",
      "text/html": "<style>#sk-container-id-2 {color: black;background-color: white;}#sk-container-id-2 pre{padding: 0;}#sk-container-id-2 div.sk-toggleable {background-color: white;}#sk-container-id-2 label.sk-toggleable__label {cursor: pointer;display: block;width: 100%;margin-bottom: 0;padding: 0.3em;box-sizing: border-box;text-align: center;}#sk-container-id-2 label.sk-toggleable__label-arrow:before {content: \"▸\";float: left;margin-right: 0.25em;color: #696969;}#sk-container-id-2 label.sk-toggleable__label-arrow:hover:before {color: black;}#sk-container-id-2 div.sk-estimator:hover label.sk-toggleable__label-arrow:before {color: black;}#sk-container-id-2 div.sk-toggleable__content {max-height: 0;max-width: 0;overflow: hidden;text-align: left;background-color: #f0f8ff;}#sk-container-id-2 div.sk-toggleable__content pre {margin: 0.2em;color: black;border-radius: 0.25em;background-color: #f0f8ff;}#sk-container-id-2 input.sk-toggleable__control:checked~div.sk-toggleable__content {max-height: 200px;max-width: 100%;overflow: auto;}#sk-container-id-2 input.sk-toggleable__control:checked~label.sk-toggleable__label-arrow:before {content: \"▾\";}#sk-container-id-2 div.sk-estimator input.sk-toggleable__control:checked~label.sk-toggleable__label {background-color: #d4ebff;}#sk-container-id-2 div.sk-label input.sk-toggleable__control:checked~label.sk-toggleable__label {background-color: #d4ebff;}#sk-container-id-2 input.sk-hidden--visually {border: 0;clip: rect(1px 1px 1px 1px);clip: rect(1px, 1px, 1px, 1px);height: 1px;margin: -1px;overflow: hidden;padding: 0;position: absolute;width: 1px;}#sk-container-id-2 div.sk-estimator {font-family: monospace;background-color: #f0f8ff;border: 1px dotted black;border-radius: 0.25em;box-sizing: border-box;margin-bottom: 0.5em;}#sk-container-id-2 div.sk-estimator:hover {background-color: #d4ebff;}#sk-container-id-2 div.sk-parallel-item::after {content: \"\";width: 100%;border-bottom: 1px solid gray;flex-grow: 1;}#sk-container-id-2 div.sk-label:hover label.sk-toggleable__label {background-color: #d4ebff;}#sk-container-id-2 div.sk-serial::before {content: \"\";position: absolute;border-left: 1px solid gray;box-sizing: border-box;top: 0;bottom: 0;left: 50%;z-index: 0;}#sk-container-id-2 div.sk-serial {display: flex;flex-direction: column;align-items: center;background-color: white;padding-right: 0.2em;padding-left: 0.2em;position: relative;}#sk-container-id-2 div.sk-item {position: relative;z-index: 1;}#sk-container-id-2 div.sk-parallel {display: flex;align-items: stretch;justify-content: center;background-color: white;position: relative;}#sk-container-id-2 div.sk-item::before, #sk-container-id-2 div.sk-parallel-item::before {content: \"\";position: absolute;border-left: 1px solid gray;box-sizing: border-box;top: 0;bottom: 0;left: 50%;z-index: -1;}#sk-container-id-2 div.sk-parallel-item {display: flex;flex-direction: column;z-index: 1;position: relative;background-color: white;}#sk-container-id-2 div.sk-parallel-item:first-child::after {align-self: flex-end;width: 50%;}#sk-container-id-2 div.sk-parallel-item:last-child::after {align-self: flex-start;width: 50%;}#sk-container-id-2 div.sk-parallel-item:only-child::after {width: 0;}#sk-container-id-2 div.sk-dashed-wrapped {border: 1px dashed gray;margin: 0 0.4em 0.5em 0.4em;box-sizing: border-box;padding-bottom: 0.4em;background-color: white;}#sk-container-id-2 div.sk-label label {font-family: monospace;font-weight: bold;display: inline-block;line-height: 1.2em;}#sk-container-id-2 div.sk-label-container {text-align: center;}#sk-container-id-2 div.sk-container {/* jupyter's `normalize.less` sets `[hidden] { display: none; }` but bootstrap.min.css set `[hidden] { display: none !important; }` so we also need the `!important` here to be able to override the default hidden behavior on the sphinx rendered scikit-learn.org. See: https://github.com/scikit-learn/scikit-learn/issues/21755 */display: inline-block !important;position: relative;}#sk-container-id-2 div.sk-text-repr-fallback {display: none;}</style><div id=\"sk-container-id-2\" class=\"sk-top-container\"><div class=\"sk-text-repr-fallback\"><pre>RandomForestClassifier(class_weight=&#x27;balanced&#x27;, max_depth=20, max_features=0.3,\n                       n_estimators=500, random_state=42)</pre><b>In a Jupyter environment, please rerun this cell to show the HTML representation or trust the notebook. <br />On GitHub, the HTML representation is unable to render, please try loading this page with nbviewer.org.</b></div><div class=\"sk-container\" hidden><div class=\"sk-item\"><div class=\"sk-estimator sk-toggleable\"><input class=\"sk-toggleable__control sk-hidden--visually\" id=\"sk-estimator-id-2\" type=\"checkbox\" checked><label for=\"sk-estimator-id-2\" class=\"sk-toggleable__label sk-toggleable__label-arrow\">RandomForestClassifier</label><div class=\"sk-toggleable__content\"><pre>RandomForestClassifier(class_weight=&#x27;balanced&#x27;, max_depth=20, max_features=0.3,\n                       n_estimators=500, random_state=42)</pre></div></div></div></div></div>"
     },
     "execution_count": 39,
     "metadata": {},
     "output_type": "execute_result"
    }
   ],
   "source": [
    "model = joblib.load(path)\n",
    "model"
   ],
   "metadata": {
    "collapsed": false,
    "ExecuteTime": {
     "end_time": "2024-07-08T20:01:31.737548800Z",
     "start_time": "2024-07-08T20:01:16.396413700Z"
    }
   },
   "id": "44a8bec3c53ba8cc"
  },
  {
   "cell_type": "code",
   "execution_count": 40,
   "outputs": [
    {
     "name": "stderr",
     "output_type": "stream",
     "text": [
      "C:\\Users\\chrig\\anaconda3\\envs\\ma-env39\\lib\\site-packages\\sklearn\\base.py:443: UserWarning: X has feature names, but RandomForestClassifier was fitted without feature names\n",
      "  warnings.warn(\n"
     ]
    },
    {
     "data": {
      "text/plain": "array([0, 0, 0, 0, 0, 0, 0], dtype=int64)"
     },
     "execution_count": 40,
     "metadata": {},
     "output_type": "execute_result"
    }
   ],
   "source": [
    "model.predict(X_test_smpld)"
   ],
   "metadata": {
    "collapsed": false,
    "ExecuteTime": {
     "end_time": "2024-07-08T20:01:32.902582Z",
     "start_time": "2024-07-08T20:01:31.794216200Z"
    }
   },
   "id": "62f5363e198bfed1"
  },
  {
   "cell_type": "code",
   "execution_count": 43,
   "outputs": [
    {
     "data": {
      "text/plain": "DEP_DELAY(MINS)                   -8.000000\nCRS_ELAPSED_TIME(MINS)           104.000000\nNR_PREV_ARR_FLIGHTS(1HR)          70.000000\nARR_DAY_SIN                       -0.433884\nARR_DAY_COS                       -0.900969\nARR_MIN_OF_DAY_SIN                -0.562805\nARR_MIN_OF_DAY_COS                 0.826590\nAPPROACH_SPEED(KMH)              255.576000\nTAIL_HEIGHT(M)                     9.000744\nPARKING_AREA(SQM)               1525.176514\nWINGLETS(YN)                       1.000000\nTEMP(C)                           27.222222\nDEWPOINT_TEMP(C)                  21.111111\nREL_HUMIDITY(PERCENT)             69.280000\nWIND_DRCT(DEG)                   265.000000\nWIND_SPEED(KMH)                   20.372000\n1HOUR_PRECIPITATION(INCH)          0.000000\nSEA_LEVEL_PRESSURE(MILLIBAR)    1016.700000\nVISIBILITY(MILES)                 10.000000\nEVENT_BR                           0.000000\nEVENT_DZ                           0.000000\nEVENT_FG                           0.000000\nEVENT_FU                           0.000000\nEVENT_GR                           0.000000\nEVENT_GS                           0.000000\nEVENT_HZ                           0.000000\nEVENT_IC                           0.000000\nEVENT_RA                           0.000000\nEVENT_SN                           0.000000\nEVENT_TS                           0.000000\nRUNWAY_ERROR(PERC)                 1.000000\nName: 8407736, dtype: float64"
     },
     "execution_count": 43,
     "metadata": {},
     "output_type": "execute_result"
    }
   ],
   "source": [
    "X_test_smpld.iloc[4]"
   ],
   "metadata": {
    "collapsed": false,
    "ExecuteTime": {
     "end_time": "2024-07-08T20:06:32.803928Z",
     "start_time": "2024-07-08T20:06:32.736966300Z"
    }
   },
   "id": "744305db45082765"
  },
  {
   "cell_type": "code",
   "execution_count": null,
   "outputs": [],
   "source": [],
   "metadata": {
    "collapsed": false
   },
   "id": "390c0b104c45c285"
  }
 ],
 "metadata": {
  "kernelspec": {
   "display_name": "Python 3",
   "language": "python",
   "name": "python3"
  },
  "language_info": {
   "codemirror_mode": {
    "name": "ipython",
    "version": 2
   },
   "file_extension": ".py",
   "mimetype": "text/x-python",
   "name": "python",
   "nbconvert_exporter": "python",
   "pygments_lexer": "ipython2",
   "version": "2.7.6"
  }
 },
 "nbformat": 4,
 "nbformat_minor": 5
}
