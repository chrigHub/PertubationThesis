{
 "cells": [
  {
   "cell_type": "markdown",
   "metadata": {
    "collapsed": true,
    "pycharm": {
     "name": "#%% md\n"
    }
   },
   "source": [
    "# Aircraft Data\n",
    "\n",
    "## Introduction\n",
    "Aircraft data was gathered by checking all occurring tail numbers in the flights data table by web scraping the following site. __[https://www.airfleets.net/recherche?key='tail_number'](https://www.airfleets.net/recherche/)__\n",
    "With that I could combine my flight data with the aircrafts which are included in the flights data. Some values were still missing and had to be checked by hand.\n",
    "\n",
    "Sheet für ADG group und wingspan:\n",
    "__[https://skybrary.aero/articles/airplane-design-group-adg](https://skybrary.aero/articles/airplane-design-group-adg)__\n",
    "Sheet für AAC:\n",
    "__[https://en.wikipedia.org/wiki/Aircraft_approach_category](https://en.wikipedia.org/wiki/Aircraft_approach_category)__\n",
    "Sheet für Wake Turbolence Category:\n",
    "__[https://skybrary.aero/articles/icao-wake-turbulence-category](https://skybrary.aero/articles/icao-wake-turbulence-category)__\n",
    "\n"
   ]
  },
  {
   "cell_type": "code",
   "execution_count": 1,
   "outputs": [],
   "source": [
    "import pandas as pd\n",
    "import os\n",
    "from main.utils.data_manage_utils import read_pickle_from_subfolder\n",
    "\n",
    "# Variables\n",
    "ROOT_PATH = os.path.abspath(\"../../\")\n",
    "INPUT_FOLDER = os.path.join(ROOT_PATH, \"data/input\")\n",
    "OUTPUT_FOLDER = os.path.join(ROOT_PATH, \"data/preparation/prepped_files\")"
   ],
   "metadata": {
    "collapsed": false,
    "pycharm": {
     "name": "#%%\n"
    },
    "ExecuteTime": {
     "end_time": "2024-03-14T09:12:24.728079200Z",
     "start_time": "2024-03-14T09:12:24.559162Z"
    }
   }
  },
  {
   "cell_type": "code",
   "execution_count": 2,
   "outputs": [
    {
     "name": "stdout",
     "output_type": "stream",
     "text": [
      "====================AIRCRAFTS DESCRIBE====================\n",
      "       Date Completed Manufacturer   Model Physical Class (Engine) Engines  \\\n",
      "count             873         2764    2764                    2764    2764   \n",
      "unique             72          424    2559                       8       6   \n",
      "top               tbd       Boeing  BK-117                     tbd     tbd   \n",
      "freq              163          113       5                    1831    1956   \n",
      "\n",
      "             AAC       ADG   TDG Approach Speed(Vref) Wingtip Configuration  \\\n",
      "count       2764      2764  2762                  853                  2764   \n",
      "unique         6         8    10                  113                    21   \n",
      "top     No Value  No Value   tbd                  140                   tbd   \n",
      "freq        1911      1899  2036                   41                  2023   \n",
      "\n",
      "        ... MGW(Outer to Outer)  MTOW Max RampMax Taxi Main Gear Config  \\\n",
      "count   ...                2764  2764             2764             2764   \n",
      "unique  ...                 127   541              426               11   \n",
      "top     ...                 tbd   tbd              tbd              tbd   \n",
      "freq    ...                2294  1916             2081             1969   \n",
      "\n",
      "       ICAO Code Wake Category ATCT Weight Class Years Manufactured  Note  \\\n",
      "count       2764          2764              2764               2764  2764   \n",
      "unique      1239             4                 7                 69    11   \n",
      "top          tbd             L               tbd                tbd   tbd   \n",
      "freq         537          1365              2172               2675  2742   \n",
      "\n",
      "       Parking Area (WS x Length), sf  \n",
      "count                            2764  \n",
      "unique                            454  \n",
      "top                            #WERT!  \n",
      "freq                             2024  \n",
      "\n",
      "[4 rows x 25 columns]\n",
      "====================AIRCRAFTS PRINT====================\n",
      "  Date Completed Manufacturer          Model Physical Class (Engine) Engines  \\\n",
      "0     2018-Jul-3   Acro Sport     Acro Sport                  Piston       1   \n",
      "1     2018-Jun-1   Acro Sport  Acro Sport II                  Piston       1   \n",
      "2     2018-Jul-3   Acro Sport         Cougar                  Piston       1   \n",
      "3     2018-Jul-3   Acro Sport     Junior Ace                  Piston       1   \n",
      "4     2018-Jul-3   Acro Sport      Super Ace                  Piston       1   \n",
      "\n",
      "  AAC ADG TDG Approach Speed(Vref) Wingtip Configuration  ...  \\\n",
      "0   A   I  1A                   56           no winglets  ...   \n",
      "1   A   I  1A                   60           no winglets  ...   \n",
      "2   A   I  1A                   46           no winglets  ...   \n",
      "3   A   I  1A                   49           no winglets  ...   \n",
      "4   A   I  1A                   49           no winglets  ...   \n",
      "\n",
      "  MGW(Outer to Outer)   MTOW Max RampMax Taxi Main Gear Config ICAO Code  \\\n",
      "0                 tbd  1 350            1 520                S      ACRO   \n",
      "1                 tbd  1 520            1 520                S      ACR2   \n",
      "2                 tbd  1 250            1 250                S      COUG   \n",
      "3                 tbd  1 225            1 225                S      JACE   \n",
      "4                 tbd  1 030            1 030                S      SACE   \n",
      "\n",
      "  Wake Category ATCT Weight Class Years Manufactured Note  \\\n",
      "0             L        Small Eqpt                tbd  tbd   \n",
      "1             L        Small Eqpt                tbd  tbd   \n",
      "2             L        Small Eqpt                tbd  tbd   \n",
      "3             L        Small Eqpt                tbd  tbd   \n",
      "4             L        Small Eqpt                tbd  tbd   \n",
      "\n",
      "  Parking Area (WS x Length), sf  \n",
      "0                            343  \n",
      "1                            409  \n",
      "2                            388  \n",
      "3                            477  \n",
      "4                            505  \n",
      "\n",
      "[5 rows x 25 columns]\n",
      "====================AIRCRAFTS INFO====================\n",
      "<class 'pandas.core.frame.DataFrame'>\n",
      "RangeIndex: 2764 entries, 0 to 2763\n",
      "Data columns (total 25 columns):\n",
      " #   Column                          Non-Null Count  Dtype \n",
      "---  ------                          --------------  ----- \n",
      " 0   Date Completed                  873 non-null    object\n",
      " 1   Manufacturer                    2764 non-null   object\n",
      " 2   Model                           2764 non-null   object\n",
      " 3   Physical Class (Engine)         2764 non-null   object\n",
      " 4   Engines                         2764 non-null   object\n",
      " 5   AAC                             2764 non-null   object\n",
      " 6   ADG                             2764 non-null   object\n",
      " 7   TDG                             2762 non-null   object\n",
      " 8   Approach Speed(Vref)            853 non-null    object\n",
      " 9   Wingtip Configuration           2764 non-null   object\n",
      " 10  Wingspan, ft                    865 non-null    object\n",
      " 11  Length, ft                      2764 non-null   object\n",
      " 12  Tail Height, ft(@ OEW)          2764 non-null   object\n",
      " 13  Wheelbase, ft                   2764 non-null   object\n",
      " 14  Cockpit to Main Gear (CMG)      2764 non-null   object\n",
      " 15  MGW(Outer to Outer)             2764 non-null   object\n",
      " 16  MTOW                            2764 non-null   object\n",
      " 17  Max RampMax Taxi                2764 non-null   object\n",
      " 18  Main Gear Config                2764 non-null   object\n",
      " 19  ICAO Code                       2764 non-null   object\n",
      " 20  Wake Category                   2764 non-null   object\n",
      " 21  ATCT Weight Class               2764 non-null   object\n",
      " 22  Years Manufactured              2764 non-null   object\n",
      " 23  Note                            2764 non-null   object\n",
      " 24  Parking Area (WS x Length), sf  2764 non-null   object\n",
      "dtypes: object(25)\n",
      "memory usage: 540.0+ KB\n"
     ]
    }
   ],
   "source": [
    "#Loading aircrafts data\n",
    "aircrafts_df = pd.read_csv(os.path.join(INPUT_FOLDER,\"data_raw/all_aircrafts_FAA.csv\"),encoding='latin-1', on_bad_lines='warn', sep=\";\")\n",
    "print(\"=\"*20 + \"AIRCRAFTS DESCRIBE\" + \"=\"*20)\n",
    "print(aircrafts_df.describe())\n",
    "print(\"=\"*20 + \"AIRCRAFTS PRINT\" + \"=\"*20)\n",
    "print(aircrafts_df.head())\n",
    "print(\"=\" * 20 + \"AIRCRAFTS INFO\" + \"=\" * 20)\n",
    "aircrafts_df.info()\n",
    "\n",
    "#Loading prepared flight data from pickle folder\n",
    "atl_flights = pd.read_pickle(os.path.join(OUTPUT_FOLDER, \"01_flights.pkl\"))"
   ],
   "metadata": {
    "collapsed": false,
    "pycharm": {
     "name": "#%%\n"
    },
    "ExecuteTime": {
     "end_time": "2024-03-14T09:12:25.086959900Z",
     "start_time": "2024-03-14T09:12:24.730078700Z"
    }
   }
  },
  {
   "cell_type": "code",
   "execution_count": 3,
   "outputs": [
    {
     "name": "stderr",
     "output_type": "stream",
     "text": [
      "C:\\Users\\chrig\\AppData\\Local\\Temp\\ipykernel_10588\\3949915742.py:3: UserWarning: Boolean Series key will be reindexed to match DataFrame index.\n",
      "  drop_idx = all_planes_df.sort_values(by=[\"TAIL_NUM\",\"Status\"])[all_planes_df[[\"TAIL_NUM\", \"Status\"]].duplicated(subset=\"TAIL_NUM\", keep=False)].groupby(\"TAIL_NUM\", group_keys=False).apply(lambda x: x.loc[x.Status != \"Active\"]).index\n"
     ]
    },
    {
     "data": {
      "text/plain": "                              Aircraft TAIL_NUM    MSN  \\\n0     Bombardier Canadair Regional Jet   N925EV   7831   \n1     Bombardier Canadair Regional Jet   N856AS   7404   \n2     Bombardier Canadair Regional Jet   N861AS   7445   \n3     Bombardier Canadair Regional Jet   N858AS   7417   \n4     Bombardier Canadair Regional Jet   N855AS   7395   \n...                                ...      ...    ...   \n3323                        Boeing 737   N624SW  27934   \n3324                        Boeing 737   N394SW  27380   \n3325                       Airbus A319   N342NB   1746   \n3326                        Boeing 737   N626SW  27702   \n3327  Bombardier Canadair Regional Jet   N452SW   7716   \n\n                                               Airline    Status  \n0     SkyWest USAAtlantic Southeast AirlinesExpressjet    Active  \n1     SkyWest USAAtlantic Southeast AirlinesExpressjet    Active  \n2     SkyWest USAAtlantic Southeast AirlinesExpressjet    Stored  \n3                Atlantic Southeast AirlinesExpressjet  On order  \n4     Atlantic Southeast AirlinesExpressjetSkyWest USA    Stored  \n...                                                ...       ...  \n3323                                Southwest Airlines  Scrapped  \n3324                                Southwest Airlines    Stored  \n3325                 Delta Air LinesNorthwest Airlines    Active  \n3326          iAero AirwaysSouthwest AirlinesSwift Air    Active  \n3327                                       SkyWest USA    Active  \n\n[3267 rows x 5 columns]",
      "text/html": "<div>\n<style scoped>\n    .dataframe tbody tr th:only-of-type {\n        vertical-align: middle;\n    }\n\n    .dataframe tbody tr th {\n        vertical-align: top;\n    }\n\n    .dataframe thead th {\n        text-align: right;\n    }\n</style>\n<table border=\"1\" class=\"dataframe\">\n  <thead>\n    <tr style=\"text-align: right;\">\n      <th></th>\n      <th>Aircraft</th>\n      <th>TAIL_NUM</th>\n      <th>MSN</th>\n      <th>Airline</th>\n      <th>Status</th>\n    </tr>\n  </thead>\n  <tbody>\n    <tr>\n      <th>0</th>\n      <td>Bombardier Canadair Regional Jet</td>\n      <td>N925EV</td>\n      <td>7831</td>\n      <td>SkyWest USAAtlantic Southeast AirlinesExpressjet</td>\n      <td>Active</td>\n    </tr>\n    <tr>\n      <th>1</th>\n      <td>Bombardier Canadair Regional Jet</td>\n      <td>N856AS</td>\n      <td>7404</td>\n      <td>SkyWest USAAtlantic Southeast AirlinesExpressjet</td>\n      <td>Active</td>\n    </tr>\n    <tr>\n      <th>2</th>\n      <td>Bombardier Canadair Regional Jet</td>\n      <td>N861AS</td>\n      <td>7445</td>\n      <td>SkyWest USAAtlantic Southeast AirlinesExpressjet</td>\n      <td>Stored</td>\n    </tr>\n    <tr>\n      <th>3</th>\n      <td>Bombardier Canadair Regional Jet</td>\n      <td>N858AS</td>\n      <td>7417</td>\n      <td>Atlantic Southeast AirlinesExpressjet</td>\n      <td>On order</td>\n    </tr>\n    <tr>\n      <th>4</th>\n      <td>Bombardier Canadair Regional Jet</td>\n      <td>N855AS</td>\n      <td>7395</td>\n      <td>Atlantic Southeast AirlinesExpressjetSkyWest USA</td>\n      <td>Stored</td>\n    </tr>\n    <tr>\n      <th>...</th>\n      <td>...</td>\n      <td>...</td>\n      <td>...</td>\n      <td>...</td>\n      <td>...</td>\n    </tr>\n    <tr>\n      <th>3323</th>\n      <td>Boeing 737</td>\n      <td>N624SW</td>\n      <td>27934</td>\n      <td>Southwest Airlines</td>\n      <td>Scrapped</td>\n    </tr>\n    <tr>\n      <th>3324</th>\n      <td>Boeing 737</td>\n      <td>N394SW</td>\n      <td>27380</td>\n      <td>Southwest Airlines</td>\n      <td>Stored</td>\n    </tr>\n    <tr>\n      <th>3325</th>\n      <td>Airbus A319</td>\n      <td>N342NB</td>\n      <td>1746</td>\n      <td>Delta Air LinesNorthwest Airlines</td>\n      <td>Active</td>\n    </tr>\n    <tr>\n      <th>3326</th>\n      <td>Boeing 737</td>\n      <td>N626SW</td>\n      <td>27702</td>\n      <td>iAero AirwaysSouthwest AirlinesSwift Air</td>\n      <td>Active</td>\n    </tr>\n    <tr>\n      <th>3327</th>\n      <td>Bombardier Canadair Regional Jet</td>\n      <td>N452SW</td>\n      <td>7716</td>\n      <td>SkyWest USA</td>\n      <td>Active</td>\n    </tr>\n  </tbody>\n</table>\n<p>3267 rows × 5 columns</p>\n</div>"
     },
     "execution_count": 3,
     "metadata": {},
     "output_type": "execute_result"
    }
   ],
   "source": [
    "all_planes_df = read_pickle_from_subfolder(os.path.join(INPUT_FOLDER,\"scraped_aircraft/*.pkl\"))\n",
    "all_planes_df = all_planes_df.rename(columns = {'Regist.':'TAIL_NUM'})\n",
    "drop_idx = all_planes_df.sort_values(by=[\"TAIL_NUM\",\"Status\"])[all_planes_df[[\"TAIL_NUM\", \"Status\"]].duplicated(subset=\"TAIL_NUM\", keep=False)].groupby(\"TAIL_NUM\", group_keys=False).apply(lambda x: x.loc[x.Status != \"Active\"]).index\n",
    "all_planes_df = all_planes_df.drop(labels= drop_idx, axis=\"index\")\n",
    "all_planes_df = all_planes_df[~all_planes_df.duplicated(subset=\"TAIL_NUM\", keep=\"first\")]\n",
    "\n",
    "all_planes_df.loc[all_planes_df.loc[all_planes_df[\"Aircraft\"] == \"Canadair Regional Jet\"].index,\"Aircraft\"] = \"Bombardier Canadair Regional Jet\"\n",
    "all_planes_df"
   ],
   "metadata": {
    "collapsed": false,
    "pycharm": {
     "name": "#%%\n"
    },
    "ExecuteTime": {
     "end_time": "2024-03-14T09:12:25.249436600Z",
     "start_time": "2024-03-14T09:12:25.092961700Z"
    }
   }
  },
  {
   "cell_type": "code",
   "execution_count": 4,
   "outputs": [
    {
     "name": "stdout",
     "output_type": "stream",
     "text": [
      "(739429, 12)\n",
      "(3267, 5)\n"
     ]
    }
   ],
   "source": [
    "print(atl_flights.shape)\n",
    "print(all_planes_df.shape)"
   ],
   "metadata": {
    "collapsed": false,
    "pycharm": {
     "name": "#%%\n"
    },
    "ExecuteTime": {
     "end_time": "2024-03-14T09:12:25.317279500Z",
     "start_time": "2024-03-14T09:12:25.245436100Z"
    }
   }
  },
  {
   "cell_type": "code",
   "execution_count": 5,
   "outputs": [],
   "source": [
    "all_planes_df.to_pickle(os.path.join(OUTPUT_FOLDER, \"04_b_aircrafts.pkl\"))"
   ],
   "metadata": {
    "collapsed": false,
    "pycharm": {
     "name": "#%%\n"
    },
    "ExecuteTime": {
     "end_time": "2024-03-14T09:12:25.363282800Z",
     "start_time": "2024-03-14T09:12:25.260586800Z"
    }
   }
  },
  {
   "cell_type": "code",
   "execution_count": 6,
   "outputs": [],
   "source": [
    "atl_flights_df = pd.merge(atl_flights,all_planes_df[[\"TAIL_NUM\",\"Aircraft\"]], how=\"inner\", on=\"TAIL_NUM\")"
   ],
   "metadata": {
    "collapsed": false,
    "pycharm": {
     "name": "#%%\n"
    },
    "ExecuteTime": {
     "end_time": "2024-03-14T09:12:25.723803900Z",
     "start_time": "2024-03-14T09:12:25.276279900Z"
    }
   }
  },
  {
   "cell_type": "code",
   "execution_count": 7,
   "outputs": [
    {
     "data": {
      "text/plain": "0         Airbus A320\n1         Airbus A320\n2         Airbus A320\n3         Airbus A320\n4         Airbus A320\n             ...     \n722560    Airbus A321\n722561    Airbus A321\n722562    Airbus A321\n722563    Airbus A321\n722564    Airbus A321\nName: Aircraft, Length: 722565, dtype: object"
     },
     "execution_count": 7,
     "metadata": {},
     "output_type": "execute_result"
    }
   ],
   "source": [
    "atl_flights_df[\"Aircraft\"]"
   ],
   "metadata": {
    "collapsed": false,
    "pycharm": {
     "name": "#%%\n"
    },
    "ExecuteTime": {
     "end_time": "2024-03-14T09:12:25.742854100Z",
     "start_time": "2024-03-14T09:12:25.725804200Z"
    }
   }
  },
  {
   "cell_type": "code",
   "execution_count": 8,
   "outputs": [
    {
     "data": {
      "text/plain": "    Date Completed Manufacturer                    Model  \\\n469            NaN       Boeing                      720   \n470            NaN       Boeing             314A Clipper   \n471            NaN       Boeing                  707-020   \n472            NaN       Boeing                 707-120B   \n473            NaN       Boeing              707-320/420   \n..             ...          ...                      ...   \n577            NaN       Boeing  PT-18 Kaydet (Stearman)   \n578            NaN       Boeing  PT-27 Kaydet (Stearman)   \n579            NaN       Boeing               Raptor F22   \n580            NaN       Boeing                   RC-135   \n581            NaN       Boeing                   VCC-25   \n\n    Physical Class (Engine) Engines       AAC       ADG  TDG  \\\n469                     tbd     tbd  No Value  No Value  tbd   \n470                  Piston       4  No Value  No Value  tbd   \n471                     tbd     tbd  No Value  No Value  tbd   \n472                     Jet       4  No Value  No Value  tbd   \n473                     Jet       4  No Value  No Value  tbd   \n..                      ...     ...       ...       ...  ...   \n577                  Piston       1  No Value  No Value  tbd   \n578                  Piston       1  No Value  No Value  tbd   \n579                     tbd     tbd  No Value  No Value  tbd   \n580                     tbd     tbd  No Value  No Value  tbd   \n581                     tbd     tbd  No Value  No Value  tbd   \n\n    Approach Speed(Vref) Wingtip Configuration  ... MGW(Outer to Outer) MTOW  \\\n469                  NaN                   tbd  ...                 tbd  tbd   \n470                  NaN                   tbd  ...                 tbd  tbd   \n471                  NaN                   tbd  ...                 tbd  tbd   \n472                  NaN                   tbd  ...                 tbd  tbd   \n473                  NaN                   tbd  ...                 tbd  tbd   \n..                   ...                   ...  ...                 ...  ...   \n577                  NaN                   tbd  ...                 tbd  tbd   \n578                  NaN                   tbd  ...                 tbd  tbd   \n579                  NaN                   tbd  ...                 tbd  tbd   \n580                  NaN                   tbd  ...                 tbd  tbd   \n581                  NaN                   tbd  ...                 tbd  tbd   \n\n    Max RampMax Taxi Main Gear Config ICAO Code Wake Category  \\\n469              tbd              tbd      B720             M   \n470              tbd              tbd       tbd           tbd   \n471              tbd              tbd       tbd             M   \n472              tbd              tbd      B701           tbd   \n473              tbd              tbd      B703             H   \n..               ...              ...       ...           ...   \n577              tbd                S      ST75             L   \n578              tbd                S      ST75             L   \n579              tbd              tbd       tbd           tbd   \n580              tbd              tbd      R135             H   \n581              tbd              tbd       tbd           tbd   \n\n    ATCT Weight Class Years Manufactured Note Parking Area (WS x Length), sf  \n469               tbd                tbd  tbd                         #WERT!  \n470               tbd                tbd  tbd                         #WERT!  \n471               tbd                tbd  tbd                         #WERT!  \n472               tbd                tbd  tbd                         #WERT!  \n473               tbd                tbd  tbd                         #WERT!  \n..                ...                ...  ...                            ...  \n577        Small Eqpt                tbd  tbd                         #WERT!  \n578        Small Eqpt                tbd  tbd                         #WERT!  \n579               tbd                tbd  tbd                         #WERT!  \n580               tbd                tbd  tbd                         #WERT!  \n581               tbd                tbd  tbd                         #WERT!  \n\n[113 rows x 25 columns]",
      "text/html": "<div>\n<style scoped>\n    .dataframe tbody tr th:only-of-type {\n        vertical-align: middle;\n    }\n\n    .dataframe tbody tr th {\n        vertical-align: top;\n    }\n\n    .dataframe thead th {\n        text-align: right;\n    }\n</style>\n<table border=\"1\" class=\"dataframe\">\n  <thead>\n    <tr style=\"text-align: right;\">\n      <th></th>\n      <th>Date Completed</th>\n      <th>Manufacturer</th>\n      <th>Model</th>\n      <th>Physical Class (Engine)</th>\n      <th>Engines</th>\n      <th>AAC</th>\n      <th>ADG</th>\n      <th>TDG</th>\n      <th>Approach Speed(Vref)</th>\n      <th>Wingtip Configuration</th>\n      <th>...</th>\n      <th>MGW(Outer to Outer)</th>\n      <th>MTOW</th>\n      <th>Max RampMax Taxi</th>\n      <th>Main Gear Config</th>\n      <th>ICAO Code</th>\n      <th>Wake Category</th>\n      <th>ATCT Weight Class</th>\n      <th>Years Manufactured</th>\n      <th>Note</th>\n      <th>Parking Area (WS x Length), sf</th>\n    </tr>\n  </thead>\n  <tbody>\n    <tr>\n      <th>469</th>\n      <td>NaN</td>\n      <td>Boeing</td>\n      <td>720</td>\n      <td>tbd</td>\n      <td>tbd</td>\n      <td>No Value</td>\n      <td>No Value</td>\n      <td>tbd</td>\n      <td>NaN</td>\n      <td>tbd</td>\n      <td>...</td>\n      <td>tbd</td>\n      <td>tbd</td>\n      <td>tbd</td>\n      <td>tbd</td>\n      <td>B720</td>\n      <td>M</td>\n      <td>tbd</td>\n      <td>tbd</td>\n      <td>tbd</td>\n      <td>#WERT!</td>\n    </tr>\n    <tr>\n      <th>470</th>\n      <td>NaN</td>\n      <td>Boeing</td>\n      <td>314A Clipper</td>\n      <td>Piston</td>\n      <td>4</td>\n      <td>No Value</td>\n      <td>No Value</td>\n      <td>tbd</td>\n      <td>NaN</td>\n      <td>tbd</td>\n      <td>...</td>\n      <td>tbd</td>\n      <td>tbd</td>\n      <td>tbd</td>\n      <td>tbd</td>\n      <td>tbd</td>\n      <td>tbd</td>\n      <td>tbd</td>\n      <td>tbd</td>\n      <td>tbd</td>\n      <td>#WERT!</td>\n    </tr>\n    <tr>\n      <th>471</th>\n      <td>NaN</td>\n      <td>Boeing</td>\n      <td>707-020</td>\n      <td>tbd</td>\n      <td>tbd</td>\n      <td>No Value</td>\n      <td>No Value</td>\n      <td>tbd</td>\n      <td>NaN</td>\n      <td>tbd</td>\n      <td>...</td>\n      <td>tbd</td>\n      <td>tbd</td>\n      <td>tbd</td>\n      <td>tbd</td>\n      <td>tbd</td>\n      <td>M</td>\n      <td>tbd</td>\n      <td>tbd</td>\n      <td>tbd</td>\n      <td>#WERT!</td>\n    </tr>\n    <tr>\n      <th>472</th>\n      <td>NaN</td>\n      <td>Boeing</td>\n      <td>707-120B</td>\n      <td>Jet</td>\n      <td>4</td>\n      <td>No Value</td>\n      <td>No Value</td>\n      <td>tbd</td>\n      <td>NaN</td>\n      <td>tbd</td>\n      <td>...</td>\n      <td>tbd</td>\n      <td>tbd</td>\n      <td>tbd</td>\n      <td>tbd</td>\n      <td>B701</td>\n      <td>tbd</td>\n      <td>tbd</td>\n      <td>tbd</td>\n      <td>tbd</td>\n      <td>#WERT!</td>\n    </tr>\n    <tr>\n      <th>473</th>\n      <td>NaN</td>\n      <td>Boeing</td>\n      <td>707-320/420</td>\n      <td>Jet</td>\n      <td>4</td>\n      <td>No Value</td>\n      <td>No Value</td>\n      <td>tbd</td>\n      <td>NaN</td>\n      <td>tbd</td>\n      <td>...</td>\n      <td>tbd</td>\n      <td>tbd</td>\n      <td>tbd</td>\n      <td>tbd</td>\n      <td>B703</td>\n      <td>H</td>\n      <td>tbd</td>\n      <td>tbd</td>\n      <td>tbd</td>\n      <td>#WERT!</td>\n    </tr>\n    <tr>\n      <th>...</th>\n      <td>...</td>\n      <td>...</td>\n      <td>...</td>\n      <td>...</td>\n      <td>...</td>\n      <td>...</td>\n      <td>...</td>\n      <td>...</td>\n      <td>...</td>\n      <td>...</td>\n      <td>...</td>\n      <td>...</td>\n      <td>...</td>\n      <td>...</td>\n      <td>...</td>\n      <td>...</td>\n      <td>...</td>\n      <td>...</td>\n      <td>...</td>\n      <td>...</td>\n      <td>...</td>\n    </tr>\n    <tr>\n      <th>577</th>\n      <td>NaN</td>\n      <td>Boeing</td>\n      <td>PT-18 Kaydet (Stearman)</td>\n      <td>Piston</td>\n      <td>1</td>\n      <td>No Value</td>\n      <td>No Value</td>\n      <td>tbd</td>\n      <td>NaN</td>\n      <td>tbd</td>\n      <td>...</td>\n      <td>tbd</td>\n      <td>tbd</td>\n      <td>tbd</td>\n      <td>S</td>\n      <td>ST75</td>\n      <td>L</td>\n      <td>Small Eqpt</td>\n      <td>tbd</td>\n      <td>tbd</td>\n      <td>#WERT!</td>\n    </tr>\n    <tr>\n      <th>578</th>\n      <td>NaN</td>\n      <td>Boeing</td>\n      <td>PT-27 Kaydet (Stearman)</td>\n      <td>Piston</td>\n      <td>1</td>\n      <td>No Value</td>\n      <td>No Value</td>\n      <td>tbd</td>\n      <td>NaN</td>\n      <td>tbd</td>\n      <td>...</td>\n      <td>tbd</td>\n      <td>tbd</td>\n      <td>tbd</td>\n      <td>S</td>\n      <td>ST75</td>\n      <td>L</td>\n      <td>Small Eqpt</td>\n      <td>tbd</td>\n      <td>tbd</td>\n      <td>#WERT!</td>\n    </tr>\n    <tr>\n      <th>579</th>\n      <td>NaN</td>\n      <td>Boeing</td>\n      <td>Raptor F22</td>\n      <td>tbd</td>\n      <td>tbd</td>\n      <td>No Value</td>\n      <td>No Value</td>\n      <td>tbd</td>\n      <td>NaN</td>\n      <td>tbd</td>\n      <td>...</td>\n      <td>tbd</td>\n      <td>tbd</td>\n      <td>tbd</td>\n      <td>tbd</td>\n      <td>tbd</td>\n      <td>tbd</td>\n      <td>tbd</td>\n      <td>tbd</td>\n      <td>tbd</td>\n      <td>#WERT!</td>\n    </tr>\n    <tr>\n      <th>580</th>\n      <td>NaN</td>\n      <td>Boeing</td>\n      <td>RC-135</td>\n      <td>tbd</td>\n      <td>tbd</td>\n      <td>No Value</td>\n      <td>No Value</td>\n      <td>tbd</td>\n      <td>NaN</td>\n      <td>tbd</td>\n      <td>...</td>\n      <td>tbd</td>\n      <td>tbd</td>\n      <td>tbd</td>\n      <td>tbd</td>\n      <td>R135</td>\n      <td>H</td>\n      <td>tbd</td>\n      <td>tbd</td>\n      <td>tbd</td>\n      <td>#WERT!</td>\n    </tr>\n    <tr>\n      <th>581</th>\n      <td>NaN</td>\n      <td>Boeing</td>\n      <td>VCC-25</td>\n      <td>tbd</td>\n      <td>tbd</td>\n      <td>No Value</td>\n      <td>No Value</td>\n      <td>tbd</td>\n      <td>NaN</td>\n      <td>tbd</td>\n      <td>...</td>\n      <td>tbd</td>\n      <td>tbd</td>\n      <td>tbd</td>\n      <td>tbd</td>\n      <td>tbd</td>\n      <td>tbd</td>\n      <td>tbd</td>\n      <td>tbd</td>\n      <td>tbd</td>\n      <td>#WERT!</td>\n    </tr>\n  </tbody>\n</table>\n<p>113 rows × 25 columns</p>\n</div>"
     },
     "execution_count": 8,
     "metadata": {},
     "output_type": "execute_result"
    }
   ],
   "source": [
    "aircrafts_df[aircrafts_df[\"Manufacturer\"] == \"Boeing\"]"
   ],
   "metadata": {
    "collapsed": false,
    "pycharm": {
     "name": "#%%\n"
    },
    "ExecuteTime": {
     "end_time": "2024-03-14T09:12:25.811401800Z",
     "start_time": "2024-03-14T09:12:25.740804300Z"
    }
   }
  },
  {
   "cell_type": "code",
   "execution_count": 9,
   "outputs": [
    {
     "data": {
      "text/plain": "array(['Airbus A320', 'Boeing 737 NG / Max', 'Boeing 757',\n       'Bombardier Canadair Regional Jet', 'McDonnell Douglas MD-80/90',\n       'Boeing 717', 'Airbus A319', 'Boeing 767', 'Airbus A321',\n       'Boeing 737', 'Embraer 170/175', 'Embraer 190/195', 'Airbus A330',\n       'Embraer 135/145', 'Boeing 777', 'Airbus A300', 'ATR 42/72',\n       'Boeing 787', 'McDonnell Douglas DC-10', 'Boeing 747'],\n      dtype=object)"
     },
     "execution_count": 9,
     "metadata": {},
     "output_type": "execute_result"
    }
   ],
   "source": [
    "atl_flights_df[\"Aircraft\"].unique()"
   ],
   "metadata": {
    "collapsed": false,
    "pycharm": {
     "name": "#%%\n"
    },
    "ExecuteTime": {
     "end_time": "2024-03-14T09:12:25.961404700Z",
     "start_time": "2024-03-14T09:12:25.806407Z"
    }
   }
  },
  {
   "cell_type": "code",
   "execution_count": 10,
   "outputs": [
    {
     "data": {
      "text/plain": "                             0\n0                  Airbus A320\n1          Boeing 737 NG / Max\n2                   Boeing 757\n3                          NaN\n4   McDonnell Douglas MD-80/90\n5                   Boeing 717\n6                  Airbus A319\n7                   Boeing 767\n8                  Airbus A321\n9                   Boeing 737\n10             Embraer 170/175\n11             Embraer 190/195\n12                 Airbus A330\n13             Embraer 135/145\n14                  Boeing 777\n15                 Airbus A300\n16                   ATR 42/72\n17                  Boeing 787\n18     McDonnell Douglas DC-10\n19                  Boeing 747",
      "text/html": "<div>\n<style scoped>\n    .dataframe tbody tr th:only-of-type {\n        vertical-align: middle;\n    }\n\n    .dataframe tbody tr th {\n        vertical-align: top;\n    }\n\n    .dataframe thead th {\n        text-align: right;\n    }\n</style>\n<table border=\"1\" class=\"dataframe\">\n  <thead>\n    <tr style=\"text-align: right;\">\n      <th></th>\n      <th>0</th>\n    </tr>\n  </thead>\n  <tbody>\n    <tr>\n      <th>0</th>\n      <td>Airbus A320</td>\n    </tr>\n    <tr>\n      <th>1</th>\n      <td>Boeing 737 NG / Max</td>\n    </tr>\n    <tr>\n      <th>2</th>\n      <td>Boeing 757</td>\n    </tr>\n    <tr>\n      <th>3</th>\n      <td>NaN</td>\n    </tr>\n    <tr>\n      <th>4</th>\n      <td>McDonnell Douglas MD-80/90</td>\n    </tr>\n    <tr>\n      <th>5</th>\n      <td>Boeing 717</td>\n    </tr>\n    <tr>\n      <th>6</th>\n      <td>Airbus A319</td>\n    </tr>\n    <tr>\n      <th>7</th>\n      <td>Boeing 767</td>\n    </tr>\n    <tr>\n      <th>8</th>\n      <td>Airbus A321</td>\n    </tr>\n    <tr>\n      <th>9</th>\n      <td>Boeing 737</td>\n    </tr>\n    <tr>\n      <th>10</th>\n      <td>Embraer 170/175</td>\n    </tr>\n    <tr>\n      <th>11</th>\n      <td>Embraer 190/195</td>\n    </tr>\n    <tr>\n      <th>12</th>\n      <td>Airbus A330</td>\n    </tr>\n    <tr>\n      <th>13</th>\n      <td>Embraer 135/145</td>\n    </tr>\n    <tr>\n      <th>14</th>\n      <td>Boeing 777</td>\n    </tr>\n    <tr>\n      <th>15</th>\n      <td>Airbus A300</td>\n    </tr>\n    <tr>\n      <th>16</th>\n      <td>ATR 42/72</td>\n    </tr>\n    <tr>\n      <th>17</th>\n      <td>Boeing 787</td>\n    </tr>\n    <tr>\n      <th>18</th>\n      <td>McDonnell Douglas DC-10</td>\n    </tr>\n    <tr>\n      <th>19</th>\n      <td>Boeing 747</td>\n    </tr>\n  </tbody>\n</table>\n</div>"
     },
     "execution_count": 10,
     "metadata": {},
     "output_type": "execute_result"
    }
   ],
   "source": [
    "pd.DataFrame(atl_flights_df[\"Aircraft\"].unique())[0].str.extract('([a-zA-Z]+.*.+\\d.*)', expand=True)"
   ],
   "metadata": {
    "collapsed": false,
    "pycharm": {
     "name": "#%%\n"
    },
    "ExecuteTime": {
     "end_time": "2024-03-14T09:12:25.997402800Z",
     "start_time": "2024-03-14T09:12:25.884409700Z"
    }
   }
  },
  {
   "cell_type": "code",
   "execution_count": 11,
   "outputs": [
    {
     "data": {
      "text/plain": "array(['Airbus A320', 'Boeing 737 NG / Max', 'Boeing 757',\n       'Bombardier Canadair Regional Jet', 'McDonnell Douglas MD-80/90',\n       'Boeing 717', 'Airbus A319', 'Boeing 767', 'Airbus A321',\n       'Boeing 737', 'Embraer 170/175', 'Embraer 190/195', 'Airbus A330',\n       'Embraer 135/145', 'Boeing 777', 'Airbus A300', 'ATR 42/72',\n       'Boeing 787', 'McDonnell Douglas DC-10', 'Boeing 747'],\n      dtype=object)"
     },
     "execution_count": 11,
     "metadata": {},
     "output_type": "execute_result"
    }
   ],
   "source": [
    "#aircraft_split = atl_flights_df[\"Aircraft\"].str.extract('([a-zA-Z]+.*.+\\d.*)', expand=True)\n",
    "aircraft_split = pd.DataFrame(atl_flights_df[\"Aircraft\"].copy())\n",
    "aircraft_split.rename(columns={\"Aircraft\" : \"Model\"}, inplace=True)\n",
    "aircraft_split[\"Model\"].unique()"
   ],
   "metadata": {
    "collapsed": false,
    "pycharm": {
     "name": "#%%\n"
    },
    "ExecuteTime": {
     "end_time": "2024-03-14T09:12:26.129408300Z",
     "start_time": "2024-03-14T09:12:25.976404Z"
    }
   }
  },
  {
   "cell_type": "code",
   "execution_count": 12,
   "outputs": [
    {
     "data": {
      "text/plain": "array(['Airbus A320', 'Boeing 737 NG / Max', 'Boeing 757',\n       'Bombardier Canadair Regional Jet', 'McDonnell Douglas MD-80/90',\n       'Boeing 717', 'Airbus A319', 'Boeing 767', 'Airbus A321',\n       'Boeing 737', 'Embraer 170/175', 'Embraer 190/195', 'Airbus A330',\n       'Embraer 135/145', 'Boeing 777', 'Airbus A300', 'ATR 42/72',\n       'Boeing 787', 'McDonnell Douglas DC-10', 'Boeing 747'],\n      dtype=object)"
     },
     "execution_count": 12,
     "metadata": {},
     "output_type": "execute_result"
    }
   ],
   "source": [
    "aircraft_split.loc[aircraft_split[\"Model\"] == \"Canadair Regional Jet\"] = \"Bombardier Canadair Regional Jet\"\n",
    "aircraft_split[\"Model\"].unique()"
   ],
   "metadata": {
    "collapsed": false,
    "pycharm": {
     "name": "#%%\n"
    },
    "ExecuteTime": {
     "end_time": "2024-03-14T09:12:26.313405700Z",
     "start_time": "2024-03-14T09:12:26.093406800Z"
    }
   }
  },
  {
   "cell_type": "code",
   "execution_count": 13,
   "outputs": [
    {
     "data": {
      "text/plain": "(722565, 1)"
     },
     "execution_count": 13,
     "metadata": {},
     "output_type": "execute_result"
    }
   ],
   "source": [
    "aircraft_split.shape"
   ],
   "metadata": {
    "collapsed": false,
    "pycharm": {
     "name": "#%%\n"
    },
    "ExecuteTime": {
     "end_time": "2024-03-14T09:12:26.365401200Z",
     "start_time": "2024-03-14T09:12:26.304409800Z"
    }
   }
  },
  {
   "cell_type": "code",
   "execution_count": 14,
   "outputs": [
    {
     "data": {
      "text/plain": "                               Model Physical Class (Engine) Engines  \\\n0                          ATR 42/72               Turboprop       2   \n1                        Airbus A300                     Jet       2   \n2                        Airbus A319                     Jet       2   \n3                        Airbus A320                     Jet       2   \n4                        Airbus A321                     Jet       2   \n5                        Airbus A330                     Jet       2   \n6                         Boeing 717                     Jet       2   \n7                         Boeing 737                     Jet       2   \n8                Boeing 737 NG / Max                     Jet       2   \n9                         Boeing 747                     Jet       4   \n10                        Boeing 757                     Jet       2   \n11                        Boeing 767                     Jet       2   \n12                        Boeing 777                     Jet       2   \n13                        Boeing 787                     Jet       2   \n14  Bombardier Canadair Regional Jet                     Jet     tbd   \n15                   Embraer 135/145                     Jet       2   \n16                   Embraer 170/175                     Jet       2   \n17                   Embraer 190/195                     Jet       2   \n18           McDonnell Douglas DC-10                     tbd     tbd   \n19        McDonnell Douglas MD-80/90                     tbd     tbd   \n\n         AAC       ADG      TDG Approach Speed(Vref) Wingtip Configuration  \\\n0          B       III  1B or 2                  114           no winglets   \n1          C        IV        5                  137        wingtip fences   \n2          C       III        3                  126        wingtip fences   \n3          C       III        3                  136        wingtip fences   \n4          C       III        3                  140        wingtip fences   \n5          C         V        5                  137              winglets   \n6          C       III        2                  139           no winglets   \n7          C       III        3                  129           no winglets   \n8          D       III        3                  141           no winglets   \n9          D         V        5                  157              winglets   \n10         D        IV        4                  143           no winglets   \n11         C        IV        5                  140           no winglets   \n12         D         V        6                  149           no winglets   \n13         C         V        5                  140           no winglets   \n14         C        II       1B                  140              winglets   \n15         C        II        2                  124           no winglets   \n16         C       III        3                  124              winglets   \n17         C       III        3                  124              winglets   \n18         C        IV      tbd                  138                   tbd   \n19  No Value  No Value      tbd                  NaN                   tbd   \n\n   Wingspan, ft Length, ft  ... Wheelbase, ft Cockpit to Main Gear (CMG)  \\\n0         88,75      89,13  ...         35,33                      35,33   \n1        147,14     177,43  ...         61,03                      75,00   \n2        111,88     111,02  ...         36,23                      44,90   \n3        111,88     123,27  ...         41,47                      50,20   \n4        111,88     146,03  ...         55,45                      44,95   \n5        197,83     208,99  ...         83,27                      97,28   \n6         93,33     124,00  ...         57,75                      57,75   \n7         93,00     100,17  ...         37,33                      42,58   \n8        112,58     138,17  ...         56,33                      61,58   \n9        195,67     231,85  ...         84,00                      91,67   \n10       124,83     178,58  ...         73,33                      85,33   \n11       156,08     180,25  ...         74,67                      82,17   \n12       199,92     242,33  ...        102,42                     114,33   \n13       197,25     206,08  ...         84,75                      93,42   \n14        68,67      87,83  ...         37,42                      37,42   \n15        65,75      86,42  ...         40,75                      40,75   \n16        85,33     103,92  ...         37,42                      41,33   \n17        94,25     118,92  ...         45,33                      49,25   \n18       155,30     182,30  ...           tbd                        tbd   \n19          NaN        tbd  ...           tbd                        tbd   \n\n          MGW(Outer to Outer)     MTOW Max RampMax Taxi Main Gear Config  \\\n0   > 13' 5\" (16' per Appx 1)   49 603           49 978                D   \n1                       36,00  363 760          365 740               2D   \n2                       29,36  168 653          169 535                D   \n3                       29,36  171 961          172 842                D   \n4                       29,43  206 132          207 014                D   \n5                       41,37  533 519          535 503               2D   \n6                       19,43  118 000          119 000                D   \n7                       20,88  115 500          116 000                D   \n8                       22,96  174 200          174 700                D   \n9                       41,33  610 000          613 500           2D/2D2   \n10                      28,00  270 000          271 000               2D   \n11                      35,75  350 000          352 000               2D   \n12                      42,30  660 000          662 000               3D   \n13                      38,92  560 000          561 500               2D   \n14                      13,25   47 450           47 700                D   \n15                      15,72   41 888           42 108                D   \n16                      20,50   89 000           89 353                D   \n17                      23,67  105 359          105 712                D   \n18                        tbd  455 000              tbd              tbd   \n19                        tbd      tbd              tbd              tbd   \n\n   ICAO Code Wake Category    ATCT Weight Class Parking Area (WS x Length), sf  \n0       AT72             M                  tbd                          7 910  \n1       A306             H           Heavy Eqpt                         26 107  \n2       A319             M       Large Jet Eqpt                         12 421  \n3       A320             M       Large Jet Eqpt                         13 791  \n4       A321             M       Large Jet Eqpt                         16 338  \n5       A333             H           Heavy Eqpt                         41 344  \n6       B712             M                  tbd                         11 573  \n7       B732             M       Large Jet Eqpt                          9 316  \n8       B739             M       Large Jet Eqpt                         15 555  \n9       B744             H                  tbd                         45 366  \n10      B753             M            B757 Eqpt                         22 293  \n11      B763             H           Heavy Eqpt                         28 134  \n12      B773             H           Heavy Eqpt                         48 446  \n13      B789             H           Heavy Eqpt                         40 650  \n14      CRJ2           tbd  Large Commuter Eqpt                          6 031  \n15      E135             M  Large Commuter Eqpt                          5 682  \n16      E170             M                  tbd                          8 868  \n17      E190             M                  tbd                         11 208  \n18      DC10             H                  tbd                         28 311  \n19      MD90             M                  tbd                         #WERT!  \n\n[20 rows x 21 columns]",
      "text/html": "<div>\n<style scoped>\n    .dataframe tbody tr th:only-of-type {\n        vertical-align: middle;\n    }\n\n    .dataframe tbody tr th {\n        vertical-align: top;\n    }\n\n    .dataframe thead th {\n        text-align: right;\n    }\n</style>\n<table border=\"1\" class=\"dataframe\">\n  <thead>\n    <tr style=\"text-align: right;\">\n      <th></th>\n      <th>Model</th>\n      <th>Physical Class (Engine)</th>\n      <th>Engines</th>\n      <th>AAC</th>\n      <th>ADG</th>\n      <th>TDG</th>\n      <th>Approach Speed(Vref)</th>\n      <th>Wingtip Configuration</th>\n      <th>Wingspan, ft</th>\n      <th>Length, ft</th>\n      <th>...</th>\n      <th>Wheelbase, ft</th>\n      <th>Cockpit to Main Gear (CMG)</th>\n      <th>MGW(Outer to Outer)</th>\n      <th>MTOW</th>\n      <th>Max RampMax Taxi</th>\n      <th>Main Gear Config</th>\n      <th>ICAO Code</th>\n      <th>Wake Category</th>\n      <th>ATCT Weight Class</th>\n      <th>Parking Area (WS x Length), sf</th>\n    </tr>\n  </thead>\n  <tbody>\n    <tr>\n      <th>0</th>\n      <td>ATR 42/72</td>\n      <td>Turboprop</td>\n      <td>2</td>\n      <td>B</td>\n      <td>III</td>\n      <td>1B or 2</td>\n      <td>114</td>\n      <td>no winglets</td>\n      <td>88,75</td>\n      <td>89,13</td>\n      <td>...</td>\n      <td>35,33</td>\n      <td>35,33</td>\n      <td>&gt; 13' 5\" (16' per Appx 1)</td>\n      <td>49 603</td>\n      <td>49 978</td>\n      <td>D</td>\n      <td>AT72</td>\n      <td>M</td>\n      <td>tbd</td>\n      <td>7 910</td>\n    </tr>\n    <tr>\n      <th>1</th>\n      <td>Airbus A300</td>\n      <td>Jet</td>\n      <td>2</td>\n      <td>C</td>\n      <td>IV</td>\n      <td>5</td>\n      <td>137</td>\n      <td>wingtip fences</td>\n      <td>147,14</td>\n      <td>177,43</td>\n      <td>...</td>\n      <td>61,03</td>\n      <td>75,00</td>\n      <td>36,00</td>\n      <td>363 760</td>\n      <td>365 740</td>\n      <td>2D</td>\n      <td>A306</td>\n      <td>H</td>\n      <td>Heavy Eqpt</td>\n      <td>26 107</td>\n    </tr>\n    <tr>\n      <th>2</th>\n      <td>Airbus A319</td>\n      <td>Jet</td>\n      <td>2</td>\n      <td>C</td>\n      <td>III</td>\n      <td>3</td>\n      <td>126</td>\n      <td>wingtip fences</td>\n      <td>111,88</td>\n      <td>111,02</td>\n      <td>...</td>\n      <td>36,23</td>\n      <td>44,90</td>\n      <td>29,36</td>\n      <td>168 653</td>\n      <td>169 535</td>\n      <td>D</td>\n      <td>A319</td>\n      <td>M</td>\n      <td>Large Jet Eqpt</td>\n      <td>12 421</td>\n    </tr>\n    <tr>\n      <th>3</th>\n      <td>Airbus A320</td>\n      <td>Jet</td>\n      <td>2</td>\n      <td>C</td>\n      <td>III</td>\n      <td>3</td>\n      <td>136</td>\n      <td>wingtip fences</td>\n      <td>111,88</td>\n      <td>123,27</td>\n      <td>...</td>\n      <td>41,47</td>\n      <td>50,20</td>\n      <td>29,36</td>\n      <td>171 961</td>\n      <td>172 842</td>\n      <td>D</td>\n      <td>A320</td>\n      <td>M</td>\n      <td>Large Jet Eqpt</td>\n      <td>13 791</td>\n    </tr>\n    <tr>\n      <th>4</th>\n      <td>Airbus A321</td>\n      <td>Jet</td>\n      <td>2</td>\n      <td>C</td>\n      <td>III</td>\n      <td>3</td>\n      <td>140</td>\n      <td>wingtip fences</td>\n      <td>111,88</td>\n      <td>146,03</td>\n      <td>...</td>\n      <td>55,45</td>\n      <td>44,95</td>\n      <td>29,43</td>\n      <td>206 132</td>\n      <td>207 014</td>\n      <td>D</td>\n      <td>A321</td>\n      <td>M</td>\n      <td>Large Jet Eqpt</td>\n      <td>16 338</td>\n    </tr>\n    <tr>\n      <th>5</th>\n      <td>Airbus A330</td>\n      <td>Jet</td>\n      <td>2</td>\n      <td>C</td>\n      <td>V</td>\n      <td>5</td>\n      <td>137</td>\n      <td>winglets</td>\n      <td>197,83</td>\n      <td>208,99</td>\n      <td>...</td>\n      <td>83,27</td>\n      <td>97,28</td>\n      <td>41,37</td>\n      <td>533 519</td>\n      <td>535 503</td>\n      <td>2D</td>\n      <td>A333</td>\n      <td>H</td>\n      <td>Heavy Eqpt</td>\n      <td>41 344</td>\n    </tr>\n    <tr>\n      <th>6</th>\n      <td>Boeing 717</td>\n      <td>Jet</td>\n      <td>2</td>\n      <td>C</td>\n      <td>III</td>\n      <td>2</td>\n      <td>139</td>\n      <td>no winglets</td>\n      <td>93,33</td>\n      <td>124,00</td>\n      <td>...</td>\n      <td>57,75</td>\n      <td>57,75</td>\n      <td>19,43</td>\n      <td>118 000</td>\n      <td>119 000</td>\n      <td>D</td>\n      <td>B712</td>\n      <td>M</td>\n      <td>tbd</td>\n      <td>11 573</td>\n    </tr>\n    <tr>\n      <th>7</th>\n      <td>Boeing 737</td>\n      <td>Jet</td>\n      <td>2</td>\n      <td>C</td>\n      <td>III</td>\n      <td>3</td>\n      <td>129</td>\n      <td>no winglets</td>\n      <td>93,00</td>\n      <td>100,17</td>\n      <td>...</td>\n      <td>37,33</td>\n      <td>42,58</td>\n      <td>20,88</td>\n      <td>115 500</td>\n      <td>116 000</td>\n      <td>D</td>\n      <td>B732</td>\n      <td>M</td>\n      <td>Large Jet Eqpt</td>\n      <td>9 316</td>\n    </tr>\n    <tr>\n      <th>8</th>\n      <td>Boeing 737 NG / Max</td>\n      <td>Jet</td>\n      <td>2</td>\n      <td>D</td>\n      <td>III</td>\n      <td>3</td>\n      <td>141</td>\n      <td>no winglets</td>\n      <td>112,58</td>\n      <td>138,17</td>\n      <td>...</td>\n      <td>56,33</td>\n      <td>61,58</td>\n      <td>22,96</td>\n      <td>174 200</td>\n      <td>174 700</td>\n      <td>D</td>\n      <td>B739</td>\n      <td>M</td>\n      <td>Large Jet Eqpt</td>\n      <td>15 555</td>\n    </tr>\n    <tr>\n      <th>9</th>\n      <td>Boeing 747</td>\n      <td>Jet</td>\n      <td>4</td>\n      <td>D</td>\n      <td>V</td>\n      <td>5</td>\n      <td>157</td>\n      <td>winglets</td>\n      <td>195,67</td>\n      <td>231,85</td>\n      <td>...</td>\n      <td>84,00</td>\n      <td>91,67</td>\n      <td>41,33</td>\n      <td>610 000</td>\n      <td>613 500</td>\n      <td>2D/2D2</td>\n      <td>B744</td>\n      <td>H</td>\n      <td>tbd</td>\n      <td>45 366</td>\n    </tr>\n    <tr>\n      <th>10</th>\n      <td>Boeing 757</td>\n      <td>Jet</td>\n      <td>2</td>\n      <td>D</td>\n      <td>IV</td>\n      <td>4</td>\n      <td>143</td>\n      <td>no winglets</td>\n      <td>124,83</td>\n      <td>178,58</td>\n      <td>...</td>\n      <td>73,33</td>\n      <td>85,33</td>\n      <td>28,00</td>\n      <td>270 000</td>\n      <td>271 000</td>\n      <td>2D</td>\n      <td>B753</td>\n      <td>M</td>\n      <td>B757 Eqpt</td>\n      <td>22 293</td>\n    </tr>\n    <tr>\n      <th>11</th>\n      <td>Boeing 767</td>\n      <td>Jet</td>\n      <td>2</td>\n      <td>C</td>\n      <td>IV</td>\n      <td>5</td>\n      <td>140</td>\n      <td>no winglets</td>\n      <td>156,08</td>\n      <td>180,25</td>\n      <td>...</td>\n      <td>74,67</td>\n      <td>82,17</td>\n      <td>35,75</td>\n      <td>350 000</td>\n      <td>352 000</td>\n      <td>2D</td>\n      <td>B763</td>\n      <td>H</td>\n      <td>Heavy Eqpt</td>\n      <td>28 134</td>\n    </tr>\n    <tr>\n      <th>12</th>\n      <td>Boeing 777</td>\n      <td>Jet</td>\n      <td>2</td>\n      <td>D</td>\n      <td>V</td>\n      <td>6</td>\n      <td>149</td>\n      <td>no winglets</td>\n      <td>199,92</td>\n      <td>242,33</td>\n      <td>...</td>\n      <td>102,42</td>\n      <td>114,33</td>\n      <td>42,30</td>\n      <td>660 000</td>\n      <td>662 000</td>\n      <td>3D</td>\n      <td>B773</td>\n      <td>H</td>\n      <td>Heavy Eqpt</td>\n      <td>48 446</td>\n    </tr>\n    <tr>\n      <th>13</th>\n      <td>Boeing 787</td>\n      <td>Jet</td>\n      <td>2</td>\n      <td>C</td>\n      <td>V</td>\n      <td>5</td>\n      <td>140</td>\n      <td>no winglets</td>\n      <td>197,25</td>\n      <td>206,08</td>\n      <td>...</td>\n      <td>84,75</td>\n      <td>93,42</td>\n      <td>38,92</td>\n      <td>560 000</td>\n      <td>561 500</td>\n      <td>2D</td>\n      <td>B789</td>\n      <td>H</td>\n      <td>Heavy Eqpt</td>\n      <td>40 650</td>\n    </tr>\n    <tr>\n      <th>14</th>\n      <td>Bombardier Canadair Regional Jet</td>\n      <td>Jet</td>\n      <td>tbd</td>\n      <td>C</td>\n      <td>II</td>\n      <td>1B</td>\n      <td>140</td>\n      <td>winglets</td>\n      <td>68,67</td>\n      <td>87,83</td>\n      <td>...</td>\n      <td>37,42</td>\n      <td>37,42</td>\n      <td>13,25</td>\n      <td>47 450</td>\n      <td>47 700</td>\n      <td>D</td>\n      <td>CRJ2</td>\n      <td>tbd</td>\n      <td>Large Commuter Eqpt</td>\n      <td>6 031</td>\n    </tr>\n    <tr>\n      <th>15</th>\n      <td>Embraer 135/145</td>\n      <td>Jet</td>\n      <td>2</td>\n      <td>C</td>\n      <td>II</td>\n      <td>2</td>\n      <td>124</td>\n      <td>no winglets</td>\n      <td>65,75</td>\n      <td>86,42</td>\n      <td>...</td>\n      <td>40,75</td>\n      <td>40,75</td>\n      <td>15,72</td>\n      <td>41 888</td>\n      <td>42 108</td>\n      <td>D</td>\n      <td>E135</td>\n      <td>M</td>\n      <td>Large Commuter Eqpt</td>\n      <td>5 682</td>\n    </tr>\n    <tr>\n      <th>16</th>\n      <td>Embraer 170/175</td>\n      <td>Jet</td>\n      <td>2</td>\n      <td>C</td>\n      <td>III</td>\n      <td>3</td>\n      <td>124</td>\n      <td>winglets</td>\n      <td>85,33</td>\n      <td>103,92</td>\n      <td>...</td>\n      <td>37,42</td>\n      <td>41,33</td>\n      <td>20,50</td>\n      <td>89 000</td>\n      <td>89 353</td>\n      <td>D</td>\n      <td>E170</td>\n      <td>M</td>\n      <td>tbd</td>\n      <td>8 868</td>\n    </tr>\n    <tr>\n      <th>17</th>\n      <td>Embraer 190/195</td>\n      <td>Jet</td>\n      <td>2</td>\n      <td>C</td>\n      <td>III</td>\n      <td>3</td>\n      <td>124</td>\n      <td>winglets</td>\n      <td>94,25</td>\n      <td>118,92</td>\n      <td>...</td>\n      <td>45,33</td>\n      <td>49,25</td>\n      <td>23,67</td>\n      <td>105 359</td>\n      <td>105 712</td>\n      <td>D</td>\n      <td>E190</td>\n      <td>M</td>\n      <td>tbd</td>\n      <td>11 208</td>\n    </tr>\n    <tr>\n      <th>18</th>\n      <td>McDonnell Douglas DC-10</td>\n      <td>tbd</td>\n      <td>tbd</td>\n      <td>C</td>\n      <td>IV</td>\n      <td>tbd</td>\n      <td>138</td>\n      <td>tbd</td>\n      <td>155,30</td>\n      <td>182,30</td>\n      <td>...</td>\n      <td>tbd</td>\n      <td>tbd</td>\n      <td>tbd</td>\n      <td>455 000</td>\n      <td>tbd</td>\n      <td>tbd</td>\n      <td>DC10</td>\n      <td>H</td>\n      <td>tbd</td>\n      <td>28 311</td>\n    </tr>\n    <tr>\n      <th>19</th>\n      <td>McDonnell Douglas MD-80/90</td>\n      <td>tbd</td>\n      <td>tbd</td>\n      <td>No Value</td>\n      <td>No Value</td>\n      <td>tbd</td>\n      <td>NaN</td>\n      <td>tbd</td>\n      <td>NaN</td>\n      <td>tbd</td>\n      <td>...</td>\n      <td>tbd</td>\n      <td>tbd</td>\n      <td>tbd</td>\n      <td>tbd</td>\n      <td>tbd</td>\n      <td>tbd</td>\n      <td>MD90</td>\n      <td>M</td>\n      <td>tbd</td>\n      <td>#WERT!</td>\n    </tr>\n  </tbody>\n</table>\n<p>20 rows × 21 columns</p>\n</div>"
     },
     "execution_count": 14,
     "metadata": {},
     "output_type": "execute_result"
    }
   ],
   "source": [
    "data = []\n",
    "row = []\n",
    "row_list = [255,143,151,154,159,164,475,487,500,514,527,532,542,549,683,1129,1099,1108,583, 1803]\n",
    "name_list = [\"Model_\"]\n",
    "for col_name in aircrafts_df.columns:\n",
    "    name_list.append(col_name)\n",
    "for count, entry in enumerate(aircraft_split[\"Model\"].sort_values().unique()):\n",
    "    row = []\n",
    "    row.append(entry)\n",
    "    for c, i in enumerate(aircrafts_df.loc[row_list[count]]):\n",
    "        row.append(i)\n",
    "    data.append(row)\n",
    "aircrafts_atl_df = pd.DataFrame(data, columns=name_list)\n",
    "aircrafts_atl_df = aircrafts_atl_df.drop([\"Note\",\"Years Manufactured\",\"Manufacturer\",\"Model\", \"Date Completed\"], axis=\"columns\")\n",
    "aircrafts_atl_df.rename(columns={\"Model_\":\"Model\"}, inplace=True)\n",
    "aircrafts_atl_df"
   ],
   "metadata": {
    "collapsed": false,
    "pycharm": {
     "name": "#%%\n"
    },
    "ExecuteTime": {
     "end_time": "2024-03-14T09:12:27.770404900Z",
     "start_time": "2024-03-14T09:12:26.332405700Z"
    }
   }
  },
  {
   "cell_type": "code",
   "execution_count": 15,
   "outputs": [
    {
     "data": {
      "text/plain": "                               Model Physical Class (Engine) Engines AAC  ADG  \\\n0                          ATR 42/72               Turboprop       2   B  III   \n1                        Airbus A300                     Jet       2   C   IV   \n2                        Airbus A319                     Jet       2   C  III   \n3                        Airbus A320                     Jet       2   C  III   \n4                        Airbus A321                     Jet       2   C  III   \n5                        Airbus A330                     Jet       2   C    V   \n6                         Boeing 717                     Jet       2   C  III   \n7                         Boeing 737                     Jet       2   C  III   \n8                Boeing 737 NG / Max                     Jet       2   D  III   \n9                         Boeing 747                     Jet       4   D    V   \n10                        Boeing 757                     Jet       2   D   IV   \n11                        Boeing 767                     Jet       2   C   IV   \n12                        Boeing 777                     Jet       2   D    V   \n13                        Boeing 787                     Jet       2   C    V   \n14  Bombardier Canadair Regional Jet                     Jet       2   C   II   \n15                   Embraer 135/145                     Jet       2   C   II   \n16                   Embraer 170/175                     Jet       2   C  III   \n17                   Embraer 190/195                     Jet       2   C  III   \n18           McDonnell Douglas DC-10                     Jet       3   C   IV   \n19        McDonnell Douglas MD-80/90                     Jet       2   C  III   \n\n   Approach Speed(Vref) Wingtip Configuration Wingspan, ft Length, ft  \\\n0                   114           no winglets        88,75      89,13   \n1                   137        wingtip fences       147,14     177,43   \n2                   126        wingtip fences       111,88     111,02   \n3                   136        wingtip fences       111,88     123,27   \n4                   140        wingtip fences       111,88     146,03   \n5                   137              winglets       197,83     208,99   \n6                   139           no winglets        93,33     124,00   \n7                   129           no winglets        93,00     100,17   \n8                   141           no winglets       112,58     138,17   \n9                   157              winglets       195,67     231,85   \n10                  143           no winglets       124,83     178,58   \n11                  140           no winglets       156,08     180,25   \n12                  149           no winglets       199,92     242,33   \n13                  140           no winglets       197,25     206,08   \n14                  140              winglets        68,67      87,83   \n15                  124           no winglets        65,75      86,42   \n16                  124              winglets        85,33     103,92   \n17                  124              winglets        94,25     118,92   \n18                  138           no winglets       155,30     182,30   \n19                  138              winglets       107,61   152,5591   \n\n   Tail Height, ft(@ OEW)     MTOW ICAO Code Wake Category  \\\n0                   25,08   49 603      AT72             M   \n1                   54,67  363 760      A306             H   \n2                   39,73  168 653      A319             M   \n3                   39,63  171 961      A320             M   \n4                   39,70  206 132      A321             M   \n5                   56,36  533 519      A333             H   \n6                   29,67  118 000      B712             M   \n7                   36,83  115 500      B732             M   \n8                   41,42  174 200      B739             M   \n9                   64,25  610 000      B744             H   \n10                  44,75  270 000      B753             M   \n11                  52,58  350 000      B763             H   \n12                  61,50  660 000      B773             H   \n13                  56,08  560 000      B789             H   \n14                  20,75   47 450      CRJ2             M   \n15                  22,17   41 888      E135             M   \n16                  32,33   89 000      E170             M   \n17                  34,58  105 359      E190             M   \n18                  58,40  455 000      DC10             H   \n19                  29,53  160 000      MD90             M   \n\n   Parking Area (WS x Length), sf  \n0                           7 910  \n1                          26 107  \n2                          12 421  \n3                          13 791  \n4                          16 338  \n5                          41 344  \n6                          11 573  \n7                           9 316  \n8                          15 555  \n9                          45 366  \n10                         22 293  \n11                         28 134  \n12                         48 446  \n13                         40 650  \n14                          6 031  \n15                          5 682  \n16                          8 868  \n17                         11 208  \n18                         28 311  \n19                         16 417  ",
      "text/html": "<div>\n<style scoped>\n    .dataframe tbody tr th:only-of-type {\n        vertical-align: middle;\n    }\n\n    .dataframe tbody tr th {\n        vertical-align: top;\n    }\n\n    .dataframe thead th {\n        text-align: right;\n    }\n</style>\n<table border=\"1\" class=\"dataframe\">\n  <thead>\n    <tr style=\"text-align: right;\">\n      <th></th>\n      <th>Model</th>\n      <th>Physical Class (Engine)</th>\n      <th>Engines</th>\n      <th>AAC</th>\n      <th>ADG</th>\n      <th>Approach Speed(Vref)</th>\n      <th>Wingtip Configuration</th>\n      <th>Wingspan, ft</th>\n      <th>Length, ft</th>\n      <th>Tail Height, ft(@ OEW)</th>\n      <th>MTOW</th>\n      <th>ICAO Code</th>\n      <th>Wake Category</th>\n      <th>Parking Area (WS x Length), sf</th>\n    </tr>\n  </thead>\n  <tbody>\n    <tr>\n      <th>0</th>\n      <td>ATR 42/72</td>\n      <td>Turboprop</td>\n      <td>2</td>\n      <td>B</td>\n      <td>III</td>\n      <td>114</td>\n      <td>no winglets</td>\n      <td>88,75</td>\n      <td>89,13</td>\n      <td>25,08</td>\n      <td>49 603</td>\n      <td>AT72</td>\n      <td>M</td>\n      <td>7 910</td>\n    </tr>\n    <tr>\n      <th>1</th>\n      <td>Airbus A300</td>\n      <td>Jet</td>\n      <td>2</td>\n      <td>C</td>\n      <td>IV</td>\n      <td>137</td>\n      <td>wingtip fences</td>\n      <td>147,14</td>\n      <td>177,43</td>\n      <td>54,67</td>\n      <td>363 760</td>\n      <td>A306</td>\n      <td>H</td>\n      <td>26 107</td>\n    </tr>\n    <tr>\n      <th>2</th>\n      <td>Airbus A319</td>\n      <td>Jet</td>\n      <td>2</td>\n      <td>C</td>\n      <td>III</td>\n      <td>126</td>\n      <td>wingtip fences</td>\n      <td>111,88</td>\n      <td>111,02</td>\n      <td>39,73</td>\n      <td>168 653</td>\n      <td>A319</td>\n      <td>M</td>\n      <td>12 421</td>\n    </tr>\n    <tr>\n      <th>3</th>\n      <td>Airbus A320</td>\n      <td>Jet</td>\n      <td>2</td>\n      <td>C</td>\n      <td>III</td>\n      <td>136</td>\n      <td>wingtip fences</td>\n      <td>111,88</td>\n      <td>123,27</td>\n      <td>39,63</td>\n      <td>171 961</td>\n      <td>A320</td>\n      <td>M</td>\n      <td>13 791</td>\n    </tr>\n    <tr>\n      <th>4</th>\n      <td>Airbus A321</td>\n      <td>Jet</td>\n      <td>2</td>\n      <td>C</td>\n      <td>III</td>\n      <td>140</td>\n      <td>wingtip fences</td>\n      <td>111,88</td>\n      <td>146,03</td>\n      <td>39,70</td>\n      <td>206 132</td>\n      <td>A321</td>\n      <td>M</td>\n      <td>16 338</td>\n    </tr>\n    <tr>\n      <th>5</th>\n      <td>Airbus A330</td>\n      <td>Jet</td>\n      <td>2</td>\n      <td>C</td>\n      <td>V</td>\n      <td>137</td>\n      <td>winglets</td>\n      <td>197,83</td>\n      <td>208,99</td>\n      <td>56,36</td>\n      <td>533 519</td>\n      <td>A333</td>\n      <td>H</td>\n      <td>41 344</td>\n    </tr>\n    <tr>\n      <th>6</th>\n      <td>Boeing 717</td>\n      <td>Jet</td>\n      <td>2</td>\n      <td>C</td>\n      <td>III</td>\n      <td>139</td>\n      <td>no winglets</td>\n      <td>93,33</td>\n      <td>124,00</td>\n      <td>29,67</td>\n      <td>118 000</td>\n      <td>B712</td>\n      <td>M</td>\n      <td>11 573</td>\n    </tr>\n    <tr>\n      <th>7</th>\n      <td>Boeing 737</td>\n      <td>Jet</td>\n      <td>2</td>\n      <td>C</td>\n      <td>III</td>\n      <td>129</td>\n      <td>no winglets</td>\n      <td>93,00</td>\n      <td>100,17</td>\n      <td>36,83</td>\n      <td>115 500</td>\n      <td>B732</td>\n      <td>M</td>\n      <td>9 316</td>\n    </tr>\n    <tr>\n      <th>8</th>\n      <td>Boeing 737 NG / Max</td>\n      <td>Jet</td>\n      <td>2</td>\n      <td>D</td>\n      <td>III</td>\n      <td>141</td>\n      <td>no winglets</td>\n      <td>112,58</td>\n      <td>138,17</td>\n      <td>41,42</td>\n      <td>174 200</td>\n      <td>B739</td>\n      <td>M</td>\n      <td>15 555</td>\n    </tr>\n    <tr>\n      <th>9</th>\n      <td>Boeing 747</td>\n      <td>Jet</td>\n      <td>4</td>\n      <td>D</td>\n      <td>V</td>\n      <td>157</td>\n      <td>winglets</td>\n      <td>195,67</td>\n      <td>231,85</td>\n      <td>64,25</td>\n      <td>610 000</td>\n      <td>B744</td>\n      <td>H</td>\n      <td>45 366</td>\n    </tr>\n    <tr>\n      <th>10</th>\n      <td>Boeing 757</td>\n      <td>Jet</td>\n      <td>2</td>\n      <td>D</td>\n      <td>IV</td>\n      <td>143</td>\n      <td>no winglets</td>\n      <td>124,83</td>\n      <td>178,58</td>\n      <td>44,75</td>\n      <td>270 000</td>\n      <td>B753</td>\n      <td>M</td>\n      <td>22 293</td>\n    </tr>\n    <tr>\n      <th>11</th>\n      <td>Boeing 767</td>\n      <td>Jet</td>\n      <td>2</td>\n      <td>C</td>\n      <td>IV</td>\n      <td>140</td>\n      <td>no winglets</td>\n      <td>156,08</td>\n      <td>180,25</td>\n      <td>52,58</td>\n      <td>350 000</td>\n      <td>B763</td>\n      <td>H</td>\n      <td>28 134</td>\n    </tr>\n    <tr>\n      <th>12</th>\n      <td>Boeing 777</td>\n      <td>Jet</td>\n      <td>2</td>\n      <td>D</td>\n      <td>V</td>\n      <td>149</td>\n      <td>no winglets</td>\n      <td>199,92</td>\n      <td>242,33</td>\n      <td>61,50</td>\n      <td>660 000</td>\n      <td>B773</td>\n      <td>H</td>\n      <td>48 446</td>\n    </tr>\n    <tr>\n      <th>13</th>\n      <td>Boeing 787</td>\n      <td>Jet</td>\n      <td>2</td>\n      <td>C</td>\n      <td>V</td>\n      <td>140</td>\n      <td>no winglets</td>\n      <td>197,25</td>\n      <td>206,08</td>\n      <td>56,08</td>\n      <td>560 000</td>\n      <td>B789</td>\n      <td>H</td>\n      <td>40 650</td>\n    </tr>\n    <tr>\n      <th>14</th>\n      <td>Bombardier Canadair Regional Jet</td>\n      <td>Jet</td>\n      <td>2</td>\n      <td>C</td>\n      <td>II</td>\n      <td>140</td>\n      <td>winglets</td>\n      <td>68,67</td>\n      <td>87,83</td>\n      <td>20,75</td>\n      <td>47 450</td>\n      <td>CRJ2</td>\n      <td>M</td>\n      <td>6 031</td>\n    </tr>\n    <tr>\n      <th>15</th>\n      <td>Embraer 135/145</td>\n      <td>Jet</td>\n      <td>2</td>\n      <td>C</td>\n      <td>II</td>\n      <td>124</td>\n      <td>no winglets</td>\n      <td>65,75</td>\n      <td>86,42</td>\n      <td>22,17</td>\n      <td>41 888</td>\n      <td>E135</td>\n      <td>M</td>\n      <td>5 682</td>\n    </tr>\n    <tr>\n      <th>16</th>\n      <td>Embraer 170/175</td>\n      <td>Jet</td>\n      <td>2</td>\n      <td>C</td>\n      <td>III</td>\n      <td>124</td>\n      <td>winglets</td>\n      <td>85,33</td>\n      <td>103,92</td>\n      <td>32,33</td>\n      <td>89 000</td>\n      <td>E170</td>\n      <td>M</td>\n      <td>8 868</td>\n    </tr>\n    <tr>\n      <th>17</th>\n      <td>Embraer 190/195</td>\n      <td>Jet</td>\n      <td>2</td>\n      <td>C</td>\n      <td>III</td>\n      <td>124</td>\n      <td>winglets</td>\n      <td>94,25</td>\n      <td>118,92</td>\n      <td>34,58</td>\n      <td>105 359</td>\n      <td>E190</td>\n      <td>M</td>\n      <td>11 208</td>\n    </tr>\n    <tr>\n      <th>18</th>\n      <td>McDonnell Douglas DC-10</td>\n      <td>Jet</td>\n      <td>3</td>\n      <td>C</td>\n      <td>IV</td>\n      <td>138</td>\n      <td>no winglets</td>\n      <td>155,30</td>\n      <td>182,30</td>\n      <td>58,40</td>\n      <td>455 000</td>\n      <td>DC10</td>\n      <td>H</td>\n      <td>28 311</td>\n    </tr>\n    <tr>\n      <th>19</th>\n      <td>McDonnell Douglas MD-80/90</td>\n      <td>Jet</td>\n      <td>2</td>\n      <td>C</td>\n      <td>III</td>\n      <td>138</td>\n      <td>winglets</td>\n      <td>107,61</td>\n      <td>152,5591</td>\n      <td>29,53</td>\n      <td>160 000</td>\n      <td>MD90</td>\n      <td>M</td>\n      <td>16 417</td>\n    </tr>\n  </tbody>\n</table>\n</div>"
     },
     "execution_count": 15,
     "metadata": {},
     "output_type": "execute_result"
    }
   ],
   "source": [
    "aircrafts_atl_df.at[14,\"Engines\"] = 2\n",
    "aircrafts_atl_df.at[14,\"Wake Category\"] = 'M'\n",
    "\n",
    "aircrafts_atl_df.at[18,\"Physical Class (Engine)\"] = \"Jet\"\n",
    "aircrafts_atl_df.at[18,\"Engines\"] = 3\n",
    "aircrafts_atl_df.at[18,\"Wingtip Configuration\"] = \"no winglets\"\n",
    "\n",
    "aircrafts_atl_df.at[19,\"Physical Class (Engine)\"] = \"Jet\"\n",
    "aircrafts_atl_df.at[19,\"Engines\"] = 2\n",
    "aircrafts_atl_df.at[19,\"AAC\"] = \"C\"\n",
    "aircrafts_atl_df.at[19,\"ADG\"] = \"III\"\n",
    "aircrafts_atl_df.at[19,\"Approach Speed(Vref)\"] = \"138\"\n",
    "aircrafts_atl_df.at[19,\"Wingtip Configuration\"] = \"winglets\"\n",
    "aircrafts_atl_df.at[19,\"Wingspan, ft\"] = '107,61'\n",
    "aircrafts_atl_df.at[19,\"Length, ft\"] = '152,5591'\n",
    "aircrafts_atl_df.at[19,\"Tail Height, ft(@ OEW)\"] = \"29,53\"\n",
    "aircrafts_atl_df.at[19,\"MTOW\"] = \"160 000\"\n",
    "aircrafts_atl_df.at[19,\"Parking Area (WS x Length), sf\"] = \"16 417\"\n",
    "\n",
    "\n",
    "aircrafts_atl_df = aircrafts_atl_df.drop(labels=[\"TDG\",\"Wheelbase, ft\", \"Cockpit to Main Gear (CMG)\", \"MGW(Outer to Outer)\", \"ATCT Weight Class\", \"TDG\", \"Main Gear Config\", \"Max RampMax Taxi\"], axis=\"columns\")\n",
    "\n",
    "aircrafts_atl_df"
   ],
   "metadata": {
    "collapsed": false,
    "pycharm": {
     "name": "#%%\n"
    },
    "ExecuteTime": {
     "end_time": "2024-03-14T09:12:27.906401300Z",
     "start_time": "2024-03-14T09:12:27.775407600Z"
    }
   }
  },
  {
   "cell_type": "code",
   "execution_count": 16,
   "outputs": [
    {
     "name": "stdout",
     "output_type": "stream",
     "text": [
      "<class 'pandas.core.frame.DataFrame'>\n",
      "RangeIndex: 20 entries, 0 to 19\n",
      "Data columns (total 14 columns):\n",
      " #   Column                          Non-Null Count  Dtype \n",
      "---  ------                          --------------  ----- \n",
      " 0   Model                           20 non-null     object\n",
      " 1   Physical Class (Engine)         20 non-null     object\n",
      " 2   Engines                         20 non-null     object\n",
      " 3   AAC                             20 non-null     object\n",
      " 4   ADG                             20 non-null     object\n",
      " 5   Approach Speed(Vref)            20 non-null     object\n",
      " 6   Wingtip Configuration           20 non-null     object\n",
      " 7   Wingspan, ft                    20 non-null     object\n",
      " 8   Length, ft                      20 non-null     object\n",
      " 9   Tail Height, ft(@ OEW)          20 non-null     object\n",
      " 10  MTOW                            20 non-null     object\n",
      " 11  ICAO Code                       20 non-null     object\n",
      " 12  Wake Category                   20 non-null     object\n",
      " 13  Parking Area (WS x Length), sf  20 non-null     object\n",
      "dtypes: object(14)\n",
      "memory usage: 2.3+ KB\n"
     ]
    }
   ],
   "source": [
    "aircrafts_atl_df.info()"
   ],
   "metadata": {
    "collapsed": false,
    "pycharm": {
     "name": "#%%\n"
    },
    "ExecuteTime": {
     "end_time": "2024-03-14T09:12:27.907403200Z",
     "start_time": "2024-03-14T09:12:27.834406200Z"
    }
   }
  },
  {
   "cell_type": "code",
   "execution_count": 17,
   "outputs": [
    {
     "name": "stdout",
     "output_type": "stream",
     "text": [
      "<class 'pandas.core.frame.DataFrame'>\n",
      "RangeIndex: 20 entries, 0 to 19\n",
      "Data columns (total 11 columns):\n",
      " #   Column                          Non-Null Count  Dtype  \n",
      "---  ------                          --------------  -----  \n",
      " 0   Model                           20 non-null     object \n",
      " 1   Physical Class (Engine)         20 non-null     object \n",
      " 2   Engines                         20 non-null     int32  \n",
      " 3   Approach Speed(Vref)            20 non-null     int32  \n",
      " 4   Wingtip Configuration           20 non-null     object \n",
      " 5   Wingspan, ft                    20 non-null     float64\n",
      " 6   Length, ft                      20 non-null     float64\n",
      " 7   Tail Height, ft(@ OEW)          20 non-null     float64\n",
      " 8   MTOW                            20 non-null     int64  \n",
      " 9   ICAO Code                       20 non-null     object \n",
      " 10  Parking Area (WS x Length), sf  20 non-null     int64  \n",
      "dtypes: float64(3), int32(2), int64(2), object(4)\n",
      "memory usage: 1.7+ KB\n"
     ]
    }
   ],
   "source": [
    "aircrafts_atl_df[\"Engines\"] = aircrafts_atl_df[\"Engines\"].astype(int)\n",
    "aircrafts_atl_df[\"Approach Speed(Vref)\"] = aircrafts_atl_df[\"Approach Speed(Vref)\"].astype(int)\n",
    "aircrafts_atl_df[\"Wingspan, ft\"] = aircrafts_atl_df[\"Wingspan, ft\"].apply(lambda x: float(x.replace(',','.')))\n",
    "aircrafts_atl_df[\"Length, ft\"] = aircrafts_atl_df[\"Length, ft\"].apply(lambda x: float(x.replace(',','.')))\n",
    "aircrafts_atl_df[\"Tail Height, ft(@ OEW)\"] = aircrafts_atl_df[\"Tail Height, ft(@ OEW)\"].apply(lambda x: float(x.replace(',','.')))\n",
    "aircrafts_atl_df[\"MTOW\"] = aircrafts_atl_df[\"MTOW\"].apply(lambda x: int(x.replace(' ','')))\n",
    "aircrafts_atl_df[\"Parking Area (WS x Length), sf\"] = aircrafts_atl_df[\"Parking Area (WS x Length), sf\"].apply(lambda x: int(x.replace(' ','')))\n",
    "aircrafts_atl_df = aircrafts_atl_df.drop(labels=[\"AAC\",\"ADG\",\"Wake Category\"], axis=\"columns\" )\n",
    "aircrafts_atl_df.info()"
   ],
   "metadata": {
    "collapsed": false,
    "pycharm": {
     "name": "#%%\n"
    },
    "ExecuteTime": {
     "end_time": "2024-03-14T09:12:27.914402800Z",
     "start_time": "2024-03-14T09:12:27.861406900Z"
    }
   }
  },
  {
   "cell_type": "code",
   "execution_count": 18,
   "outputs": [
    {
     "data": {
      "text/plain": "                               Model Physical Class (Engine)  Engines  \\\n0                          ATR 42/72               Turboprop        2   \n1                        Airbus A300                     Jet        2   \n2                        Airbus A319                     Jet        2   \n3                        Airbus A320                     Jet        2   \n4                        Airbus A321                     Jet        2   \n5                        Airbus A330                     Jet        2   \n6                         Boeing 717                     Jet        2   \n7                         Boeing 737                     Jet        2   \n8                Boeing 737 NG / Max                     Jet        2   \n9                         Boeing 747                     Jet        4   \n10                        Boeing 757                     Jet        2   \n11                        Boeing 767                     Jet        2   \n12                        Boeing 777                     Jet        2   \n13                        Boeing 787                     Jet        2   \n14  Bombardier Canadair Regional Jet                     Jet        2   \n15                   Embraer 135/145                     Jet        2   \n16                   Embraer 170/175                     Jet        2   \n17                   Embraer 190/195                     Jet        2   \n18           McDonnell Douglas DC-10                     Jet        3   \n19        McDonnell Douglas MD-80/90                     Jet        2   \n\n    Approach Speed(Vref) Wingtip Configuration  Wingspan, ft  Length, ft  \\\n0                    114           no winglets         88.75     89.1300   \n1                    137        wingtip fences        147.14    177.4300   \n2                    126        wingtip fences        111.88    111.0200   \n3                    136        wingtip fences        111.88    123.2700   \n4                    140        wingtip fences        111.88    146.0300   \n5                    137              winglets        197.83    208.9900   \n6                    139           no winglets         93.33    124.0000   \n7                    129           no winglets         93.00    100.1700   \n8                    141           no winglets        112.58    138.1700   \n9                    157              winglets        195.67    231.8500   \n10                   143           no winglets        124.83    178.5800   \n11                   140           no winglets        156.08    180.2500   \n12                   149           no winglets        199.92    242.3300   \n13                   140           no winglets        197.25    206.0800   \n14                   140              winglets         68.67     87.8300   \n15                   124           no winglets         65.75     86.4200   \n16                   124              winglets         85.33    103.9200   \n17                   124              winglets         94.25    118.9200   \n18                   138           no winglets        155.30    182.3000   \n19                   138              winglets        107.61    152.5591   \n\n    Tail Height, ft(@ OEW)    MTOW ICAO Code  Parking Area (WS x Length), sf  \n0                    25.08   49603      AT72                            7910  \n1                    54.67  363760      A306                           26107  \n2                    39.73  168653      A319                           12421  \n3                    39.63  171961      A320                           13791  \n4                    39.70  206132      A321                           16338  \n5                    56.36  533519      A333                           41344  \n6                    29.67  118000      B712                           11573  \n7                    36.83  115500      B732                            9316  \n8                    41.42  174200      B739                           15555  \n9                    64.25  610000      B744                           45366  \n10                   44.75  270000      B753                           22293  \n11                   52.58  350000      B763                           28134  \n12                   61.50  660000      B773                           48446  \n13                   56.08  560000      B789                           40650  \n14                   20.75   47450      CRJ2                            6031  \n15                   22.17   41888      E135                            5682  \n16                   32.33   89000      E170                            8868  \n17                   34.58  105359      E190                           11208  \n18                   58.40  455000      DC10                           28311  \n19                   29.53  160000      MD90                           16417  ",
      "text/html": "<div>\n<style scoped>\n    .dataframe tbody tr th:only-of-type {\n        vertical-align: middle;\n    }\n\n    .dataframe tbody tr th {\n        vertical-align: top;\n    }\n\n    .dataframe thead th {\n        text-align: right;\n    }\n</style>\n<table border=\"1\" class=\"dataframe\">\n  <thead>\n    <tr style=\"text-align: right;\">\n      <th></th>\n      <th>Model</th>\n      <th>Physical Class (Engine)</th>\n      <th>Engines</th>\n      <th>Approach Speed(Vref)</th>\n      <th>Wingtip Configuration</th>\n      <th>Wingspan, ft</th>\n      <th>Length, ft</th>\n      <th>Tail Height, ft(@ OEW)</th>\n      <th>MTOW</th>\n      <th>ICAO Code</th>\n      <th>Parking Area (WS x Length), sf</th>\n    </tr>\n  </thead>\n  <tbody>\n    <tr>\n      <th>0</th>\n      <td>ATR 42/72</td>\n      <td>Turboprop</td>\n      <td>2</td>\n      <td>114</td>\n      <td>no winglets</td>\n      <td>88.75</td>\n      <td>89.1300</td>\n      <td>25.08</td>\n      <td>49603</td>\n      <td>AT72</td>\n      <td>7910</td>\n    </tr>\n    <tr>\n      <th>1</th>\n      <td>Airbus A300</td>\n      <td>Jet</td>\n      <td>2</td>\n      <td>137</td>\n      <td>wingtip fences</td>\n      <td>147.14</td>\n      <td>177.4300</td>\n      <td>54.67</td>\n      <td>363760</td>\n      <td>A306</td>\n      <td>26107</td>\n    </tr>\n    <tr>\n      <th>2</th>\n      <td>Airbus A319</td>\n      <td>Jet</td>\n      <td>2</td>\n      <td>126</td>\n      <td>wingtip fences</td>\n      <td>111.88</td>\n      <td>111.0200</td>\n      <td>39.73</td>\n      <td>168653</td>\n      <td>A319</td>\n      <td>12421</td>\n    </tr>\n    <tr>\n      <th>3</th>\n      <td>Airbus A320</td>\n      <td>Jet</td>\n      <td>2</td>\n      <td>136</td>\n      <td>wingtip fences</td>\n      <td>111.88</td>\n      <td>123.2700</td>\n      <td>39.63</td>\n      <td>171961</td>\n      <td>A320</td>\n      <td>13791</td>\n    </tr>\n    <tr>\n      <th>4</th>\n      <td>Airbus A321</td>\n      <td>Jet</td>\n      <td>2</td>\n      <td>140</td>\n      <td>wingtip fences</td>\n      <td>111.88</td>\n      <td>146.0300</td>\n      <td>39.70</td>\n      <td>206132</td>\n      <td>A321</td>\n      <td>16338</td>\n    </tr>\n    <tr>\n      <th>5</th>\n      <td>Airbus A330</td>\n      <td>Jet</td>\n      <td>2</td>\n      <td>137</td>\n      <td>winglets</td>\n      <td>197.83</td>\n      <td>208.9900</td>\n      <td>56.36</td>\n      <td>533519</td>\n      <td>A333</td>\n      <td>41344</td>\n    </tr>\n    <tr>\n      <th>6</th>\n      <td>Boeing 717</td>\n      <td>Jet</td>\n      <td>2</td>\n      <td>139</td>\n      <td>no winglets</td>\n      <td>93.33</td>\n      <td>124.0000</td>\n      <td>29.67</td>\n      <td>118000</td>\n      <td>B712</td>\n      <td>11573</td>\n    </tr>\n    <tr>\n      <th>7</th>\n      <td>Boeing 737</td>\n      <td>Jet</td>\n      <td>2</td>\n      <td>129</td>\n      <td>no winglets</td>\n      <td>93.00</td>\n      <td>100.1700</td>\n      <td>36.83</td>\n      <td>115500</td>\n      <td>B732</td>\n      <td>9316</td>\n    </tr>\n    <tr>\n      <th>8</th>\n      <td>Boeing 737 NG / Max</td>\n      <td>Jet</td>\n      <td>2</td>\n      <td>141</td>\n      <td>no winglets</td>\n      <td>112.58</td>\n      <td>138.1700</td>\n      <td>41.42</td>\n      <td>174200</td>\n      <td>B739</td>\n      <td>15555</td>\n    </tr>\n    <tr>\n      <th>9</th>\n      <td>Boeing 747</td>\n      <td>Jet</td>\n      <td>4</td>\n      <td>157</td>\n      <td>winglets</td>\n      <td>195.67</td>\n      <td>231.8500</td>\n      <td>64.25</td>\n      <td>610000</td>\n      <td>B744</td>\n      <td>45366</td>\n    </tr>\n    <tr>\n      <th>10</th>\n      <td>Boeing 757</td>\n      <td>Jet</td>\n      <td>2</td>\n      <td>143</td>\n      <td>no winglets</td>\n      <td>124.83</td>\n      <td>178.5800</td>\n      <td>44.75</td>\n      <td>270000</td>\n      <td>B753</td>\n      <td>22293</td>\n    </tr>\n    <tr>\n      <th>11</th>\n      <td>Boeing 767</td>\n      <td>Jet</td>\n      <td>2</td>\n      <td>140</td>\n      <td>no winglets</td>\n      <td>156.08</td>\n      <td>180.2500</td>\n      <td>52.58</td>\n      <td>350000</td>\n      <td>B763</td>\n      <td>28134</td>\n    </tr>\n    <tr>\n      <th>12</th>\n      <td>Boeing 777</td>\n      <td>Jet</td>\n      <td>2</td>\n      <td>149</td>\n      <td>no winglets</td>\n      <td>199.92</td>\n      <td>242.3300</td>\n      <td>61.50</td>\n      <td>660000</td>\n      <td>B773</td>\n      <td>48446</td>\n    </tr>\n    <tr>\n      <th>13</th>\n      <td>Boeing 787</td>\n      <td>Jet</td>\n      <td>2</td>\n      <td>140</td>\n      <td>no winglets</td>\n      <td>197.25</td>\n      <td>206.0800</td>\n      <td>56.08</td>\n      <td>560000</td>\n      <td>B789</td>\n      <td>40650</td>\n    </tr>\n    <tr>\n      <th>14</th>\n      <td>Bombardier Canadair Regional Jet</td>\n      <td>Jet</td>\n      <td>2</td>\n      <td>140</td>\n      <td>winglets</td>\n      <td>68.67</td>\n      <td>87.8300</td>\n      <td>20.75</td>\n      <td>47450</td>\n      <td>CRJ2</td>\n      <td>6031</td>\n    </tr>\n    <tr>\n      <th>15</th>\n      <td>Embraer 135/145</td>\n      <td>Jet</td>\n      <td>2</td>\n      <td>124</td>\n      <td>no winglets</td>\n      <td>65.75</td>\n      <td>86.4200</td>\n      <td>22.17</td>\n      <td>41888</td>\n      <td>E135</td>\n      <td>5682</td>\n    </tr>\n    <tr>\n      <th>16</th>\n      <td>Embraer 170/175</td>\n      <td>Jet</td>\n      <td>2</td>\n      <td>124</td>\n      <td>winglets</td>\n      <td>85.33</td>\n      <td>103.9200</td>\n      <td>32.33</td>\n      <td>89000</td>\n      <td>E170</td>\n      <td>8868</td>\n    </tr>\n    <tr>\n      <th>17</th>\n      <td>Embraer 190/195</td>\n      <td>Jet</td>\n      <td>2</td>\n      <td>124</td>\n      <td>winglets</td>\n      <td>94.25</td>\n      <td>118.9200</td>\n      <td>34.58</td>\n      <td>105359</td>\n      <td>E190</td>\n      <td>11208</td>\n    </tr>\n    <tr>\n      <th>18</th>\n      <td>McDonnell Douglas DC-10</td>\n      <td>Jet</td>\n      <td>3</td>\n      <td>138</td>\n      <td>no winglets</td>\n      <td>155.30</td>\n      <td>182.3000</td>\n      <td>58.40</td>\n      <td>455000</td>\n      <td>DC10</td>\n      <td>28311</td>\n    </tr>\n    <tr>\n      <th>19</th>\n      <td>McDonnell Douglas MD-80/90</td>\n      <td>Jet</td>\n      <td>2</td>\n      <td>138</td>\n      <td>winglets</td>\n      <td>107.61</td>\n      <td>152.5591</td>\n      <td>29.53</td>\n      <td>160000</td>\n      <td>MD90</td>\n      <td>16417</td>\n    </tr>\n  </tbody>\n</table>\n</div>"
     },
     "execution_count": 18,
     "metadata": {},
     "output_type": "execute_result"
    }
   ],
   "source": [
    "aircrafts_atl_df"
   ],
   "metadata": {
    "collapsed": false,
    "pycharm": {
     "name": "#%%\n"
    },
    "ExecuteTime": {
     "end_time": "2024-03-14T09:12:28.058402400Z",
     "start_time": "2024-03-14T09:12:27.894404900Z"
    }
   }
  },
  {
   "cell_type": "code",
   "execution_count": 19,
   "outputs": [],
   "source": [
    "#def calc_bin_center(bins):\n",
    "#    arr = []\n",
    "#    for i in range(1,len(bins)):\n",
    "#        arr.append((bins[i] + bins[i-1]) / 2)\n",
    "#    return arr\n",
    "#\n",
    "#wingspan_adg_bin = [0,49,79,118,171,214,262]\n",
    "#wingspan_adg_lbls = calc_bin_center(wingspan_adg_bin)\n",
    "#tailheight_adg_bin= [0,20,30,45,60,66,80]\n",
    "#tailheight_adg_lbls = calc_bin_center(tailheight_adg_bin)\n",
    "#aac_bin = [0,90,120,140,165]\n",
    "#aac_lbls = calc_bin_center(aac_bin)\n",
    "#icao_bin = [0, 15500, 300000, 600000]\n",
    "#icao_lbls = calc_bin_center(icao_bin)"
   ],
   "metadata": {
    "collapsed": false,
    "pycharm": {
     "name": "#%%\n"
    },
    "ExecuteTime": {
     "end_time": "2024-03-14T09:12:28.059406Z",
     "start_time": "2024-03-14T09:12:27.942408400Z"
    }
   }
  },
  {
   "cell_type": "code",
   "execution_count": 20,
   "outputs": [],
   "source": [
    "#aircrafts_atl_df[\"Wingspan, ft\"] = pd.cut(x=aircrafts_atl_df[\"Wingspan, ft\"],\n",
    "#                                          bins=wingspan_adg_bin,\n",
    "#                                          labels=wingspan_adg_lbls)\n",
    "#\n",
    "#aircrafts_atl_df[\"Tail Height, ft(@ OEW)\"] = pd.cut(x=aircrafts_atl_df[\"Tail Height, ft(@ OEW)\"],\n",
    "#                                          bins=tailheight_adg_bin,\n",
    "#                                          labels=tailheight_adg_lbls)\n",
    "#\n",
    "#aircrafts_atl_df[\"Approach Speed(Vref)\"] = pd.cut(x=aircrafts_atl_df[\"Approach Speed(Vref)\"],\n",
    "#                                                    bins=aac_bin,\n",
    "#                                                    labels=aac_lbls)\n",
    "#\n",
    "#aircrafts_atl_df[\"MTOW\"] = pd.cut(x=aircrafts_atl_df[\"MTOW\"],\n",
    "#                                                    bins=icao_bin,\n",
    "#                                                    labels=icao_lbls)"
   ],
   "metadata": {
    "collapsed": false,
    "pycharm": {
     "name": "#%%\n"
    },
    "ExecuteTime": {
     "end_time": "2024-03-14T09:12:28.080402700Z",
     "start_time": "2024-03-14T09:12:27.955404800Z"
    }
   }
  },
  {
   "cell_type": "code",
   "execution_count": 21,
   "outputs": [],
   "source": [
    "aircrafts_atl_df.to_pickle(os.path.join(OUTPUT_FOLDER, \"04_a_aircrafts.pkl\"))"
   ],
   "metadata": {
    "collapsed": false,
    "pycharm": {
     "name": "#%%\n"
    },
    "ExecuteTime": {
     "end_time": "2024-03-14T09:12:28.080402700Z",
     "start_time": "2024-03-14T09:12:27.972410500Z"
    }
   }
  },
  {
   "cell_type": "code",
   "execution_count": 22,
   "outputs": [
    {
     "data": {
      "text/plain": "                               Model Physical Class (Engine)  Engines  \\\n0                          ATR 42/72               Turboprop        2   \n1                        Airbus A300                     Jet        2   \n2                        Airbus A319                     Jet        2   \n3                        Airbus A320                     Jet        2   \n4                        Airbus A321                     Jet        2   \n5                        Airbus A330                     Jet        2   \n6                         Boeing 717                     Jet        2   \n7                         Boeing 737                     Jet        2   \n8                Boeing 737 NG / Max                     Jet        2   \n9                         Boeing 747                     Jet        4   \n10                        Boeing 757                     Jet        2   \n11                        Boeing 767                     Jet        2   \n12                        Boeing 777                     Jet        2   \n13                        Boeing 787                     Jet        2   \n14  Bombardier Canadair Regional Jet                     Jet        2   \n15                   Embraer 135/145                     Jet        2   \n16                   Embraer 170/175                     Jet        2   \n17                   Embraer 190/195                     Jet        2   \n18           McDonnell Douglas DC-10                     Jet        3   \n19        McDonnell Douglas MD-80/90                     Jet        2   \n\n    Approach Speed(Vref) Wingtip Configuration  Wingspan, ft  Length, ft  \\\n0                    114           no winglets         88.75     89.1300   \n1                    137        wingtip fences        147.14    177.4300   \n2                    126        wingtip fences        111.88    111.0200   \n3                    136        wingtip fences        111.88    123.2700   \n4                    140        wingtip fences        111.88    146.0300   \n5                    137              winglets        197.83    208.9900   \n6                    139           no winglets         93.33    124.0000   \n7                    129           no winglets         93.00    100.1700   \n8                    141           no winglets        112.58    138.1700   \n9                    157              winglets        195.67    231.8500   \n10                   143           no winglets        124.83    178.5800   \n11                   140           no winglets        156.08    180.2500   \n12                   149           no winglets        199.92    242.3300   \n13                   140           no winglets        197.25    206.0800   \n14                   140              winglets         68.67     87.8300   \n15                   124           no winglets         65.75     86.4200   \n16                   124              winglets         85.33    103.9200   \n17                   124              winglets         94.25    118.9200   \n18                   138           no winglets        155.30    182.3000   \n19                   138              winglets        107.61    152.5591   \n\n    Tail Height, ft(@ OEW)    MTOW ICAO Code  Parking Area (WS x Length), sf  \n0                    25.08   49603      AT72                            7910  \n1                    54.67  363760      A306                           26107  \n2                    39.73  168653      A319                           12421  \n3                    39.63  171961      A320                           13791  \n4                    39.70  206132      A321                           16338  \n5                    56.36  533519      A333                           41344  \n6                    29.67  118000      B712                           11573  \n7                    36.83  115500      B732                            9316  \n8                    41.42  174200      B739                           15555  \n9                    64.25  610000      B744                           45366  \n10                   44.75  270000      B753                           22293  \n11                   52.58  350000      B763                           28134  \n12                   61.50  660000      B773                           48446  \n13                   56.08  560000      B789                           40650  \n14                   20.75   47450      CRJ2                            6031  \n15                   22.17   41888      E135                            5682  \n16                   32.33   89000      E170                            8868  \n17                   34.58  105359      E190                           11208  \n18                   58.40  455000      DC10                           28311  \n19                   29.53  160000      MD90                           16417  ",
      "text/html": "<div>\n<style scoped>\n    .dataframe tbody tr th:only-of-type {\n        vertical-align: middle;\n    }\n\n    .dataframe tbody tr th {\n        vertical-align: top;\n    }\n\n    .dataframe thead th {\n        text-align: right;\n    }\n</style>\n<table border=\"1\" class=\"dataframe\">\n  <thead>\n    <tr style=\"text-align: right;\">\n      <th></th>\n      <th>Model</th>\n      <th>Physical Class (Engine)</th>\n      <th>Engines</th>\n      <th>Approach Speed(Vref)</th>\n      <th>Wingtip Configuration</th>\n      <th>Wingspan, ft</th>\n      <th>Length, ft</th>\n      <th>Tail Height, ft(@ OEW)</th>\n      <th>MTOW</th>\n      <th>ICAO Code</th>\n      <th>Parking Area (WS x Length), sf</th>\n    </tr>\n  </thead>\n  <tbody>\n    <tr>\n      <th>0</th>\n      <td>ATR 42/72</td>\n      <td>Turboprop</td>\n      <td>2</td>\n      <td>114</td>\n      <td>no winglets</td>\n      <td>88.75</td>\n      <td>89.1300</td>\n      <td>25.08</td>\n      <td>49603</td>\n      <td>AT72</td>\n      <td>7910</td>\n    </tr>\n    <tr>\n      <th>1</th>\n      <td>Airbus A300</td>\n      <td>Jet</td>\n      <td>2</td>\n      <td>137</td>\n      <td>wingtip fences</td>\n      <td>147.14</td>\n      <td>177.4300</td>\n      <td>54.67</td>\n      <td>363760</td>\n      <td>A306</td>\n      <td>26107</td>\n    </tr>\n    <tr>\n      <th>2</th>\n      <td>Airbus A319</td>\n      <td>Jet</td>\n      <td>2</td>\n      <td>126</td>\n      <td>wingtip fences</td>\n      <td>111.88</td>\n      <td>111.0200</td>\n      <td>39.73</td>\n      <td>168653</td>\n      <td>A319</td>\n      <td>12421</td>\n    </tr>\n    <tr>\n      <th>3</th>\n      <td>Airbus A320</td>\n      <td>Jet</td>\n      <td>2</td>\n      <td>136</td>\n      <td>wingtip fences</td>\n      <td>111.88</td>\n      <td>123.2700</td>\n      <td>39.63</td>\n      <td>171961</td>\n      <td>A320</td>\n      <td>13791</td>\n    </tr>\n    <tr>\n      <th>4</th>\n      <td>Airbus A321</td>\n      <td>Jet</td>\n      <td>2</td>\n      <td>140</td>\n      <td>wingtip fences</td>\n      <td>111.88</td>\n      <td>146.0300</td>\n      <td>39.70</td>\n      <td>206132</td>\n      <td>A321</td>\n      <td>16338</td>\n    </tr>\n    <tr>\n      <th>5</th>\n      <td>Airbus A330</td>\n      <td>Jet</td>\n      <td>2</td>\n      <td>137</td>\n      <td>winglets</td>\n      <td>197.83</td>\n      <td>208.9900</td>\n      <td>56.36</td>\n      <td>533519</td>\n      <td>A333</td>\n      <td>41344</td>\n    </tr>\n    <tr>\n      <th>6</th>\n      <td>Boeing 717</td>\n      <td>Jet</td>\n      <td>2</td>\n      <td>139</td>\n      <td>no winglets</td>\n      <td>93.33</td>\n      <td>124.0000</td>\n      <td>29.67</td>\n      <td>118000</td>\n      <td>B712</td>\n      <td>11573</td>\n    </tr>\n    <tr>\n      <th>7</th>\n      <td>Boeing 737</td>\n      <td>Jet</td>\n      <td>2</td>\n      <td>129</td>\n      <td>no winglets</td>\n      <td>93.00</td>\n      <td>100.1700</td>\n      <td>36.83</td>\n      <td>115500</td>\n      <td>B732</td>\n      <td>9316</td>\n    </tr>\n    <tr>\n      <th>8</th>\n      <td>Boeing 737 NG / Max</td>\n      <td>Jet</td>\n      <td>2</td>\n      <td>141</td>\n      <td>no winglets</td>\n      <td>112.58</td>\n      <td>138.1700</td>\n      <td>41.42</td>\n      <td>174200</td>\n      <td>B739</td>\n      <td>15555</td>\n    </tr>\n    <tr>\n      <th>9</th>\n      <td>Boeing 747</td>\n      <td>Jet</td>\n      <td>4</td>\n      <td>157</td>\n      <td>winglets</td>\n      <td>195.67</td>\n      <td>231.8500</td>\n      <td>64.25</td>\n      <td>610000</td>\n      <td>B744</td>\n      <td>45366</td>\n    </tr>\n    <tr>\n      <th>10</th>\n      <td>Boeing 757</td>\n      <td>Jet</td>\n      <td>2</td>\n      <td>143</td>\n      <td>no winglets</td>\n      <td>124.83</td>\n      <td>178.5800</td>\n      <td>44.75</td>\n      <td>270000</td>\n      <td>B753</td>\n      <td>22293</td>\n    </tr>\n    <tr>\n      <th>11</th>\n      <td>Boeing 767</td>\n      <td>Jet</td>\n      <td>2</td>\n      <td>140</td>\n      <td>no winglets</td>\n      <td>156.08</td>\n      <td>180.2500</td>\n      <td>52.58</td>\n      <td>350000</td>\n      <td>B763</td>\n      <td>28134</td>\n    </tr>\n    <tr>\n      <th>12</th>\n      <td>Boeing 777</td>\n      <td>Jet</td>\n      <td>2</td>\n      <td>149</td>\n      <td>no winglets</td>\n      <td>199.92</td>\n      <td>242.3300</td>\n      <td>61.50</td>\n      <td>660000</td>\n      <td>B773</td>\n      <td>48446</td>\n    </tr>\n    <tr>\n      <th>13</th>\n      <td>Boeing 787</td>\n      <td>Jet</td>\n      <td>2</td>\n      <td>140</td>\n      <td>no winglets</td>\n      <td>197.25</td>\n      <td>206.0800</td>\n      <td>56.08</td>\n      <td>560000</td>\n      <td>B789</td>\n      <td>40650</td>\n    </tr>\n    <tr>\n      <th>14</th>\n      <td>Bombardier Canadair Regional Jet</td>\n      <td>Jet</td>\n      <td>2</td>\n      <td>140</td>\n      <td>winglets</td>\n      <td>68.67</td>\n      <td>87.8300</td>\n      <td>20.75</td>\n      <td>47450</td>\n      <td>CRJ2</td>\n      <td>6031</td>\n    </tr>\n    <tr>\n      <th>15</th>\n      <td>Embraer 135/145</td>\n      <td>Jet</td>\n      <td>2</td>\n      <td>124</td>\n      <td>no winglets</td>\n      <td>65.75</td>\n      <td>86.4200</td>\n      <td>22.17</td>\n      <td>41888</td>\n      <td>E135</td>\n      <td>5682</td>\n    </tr>\n    <tr>\n      <th>16</th>\n      <td>Embraer 170/175</td>\n      <td>Jet</td>\n      <td>2</td>\n      <td>124</td>\n      <td>winglets</td>\n      <td>85.33</td>\n      <td>103.9200</td>\n      <td>32.33</td>\n      <td>89000</td>\n      <td>E170</td>\n      <td>8868</td>\n    </tr>\n    <tr>\n      <th>17</th>\n      <td>Embraer 190/195</td>\n      <td>Jet</td>\n      <td>2</td>\n      <td>124</td>\n      <td>winglets</td>\n      <td>94.25</td>\n      <td>118.9200</td>\n      <td>34.58</td>\n      <td>105359</td>\n      <td>E190</td>\n      <td>11208</td>\n    </tr>\n    <tr>\n      <th>18</th>\n      <td>McDonnell Douglas DC-10</td>\n      <td>Jet</td>\n      <td>3</td>\n      <td>138</td>\n      <td>no winglets</td>\n      <td>155.30</td>\n      <td>182.3000</td>\n      <td>58.40</td>\n      <td>455000</td>\n      <td>DC10</td>\n      <td>28311</td>\n    </tr>\n    <tr>\n      <th>19</th>\n      <td>McDonnell Douglas MD-80/90</td>\n      <td>Jet</td>\n      <td>2</td>\n      <td>138</td>\n      <td>winglets</td>\n      <td>107.61</td>\n      <td>152.5591</td>\n      <td>29.53</td>\n      <td>160000</td>\n      <td>MD90</td>\n      <td>16417</td>\n    </tr>\n  </tbody>\n</table>\n</div>"
     },
     "execution_count": 22,
     "metadata": {},
     "output_type": "execute_result"
    }
   ],
   "source": [
    "aircrafts_atl_df"
   ],
   "metadata": {
    "collapsed": false,
    "pycharm": {
     "name": "#%%\n"
    },
    "ExecuteTime": {
     "end_time": "2024-03-14T09:12:28.104447600Z",
     "start_time": "2024-03-14T09:12:27.987405800Z"
    }
   }
  }
 ],
 "metadata": {
  "kernelspec": {
   "display_name": "Python 3",
   "language": "python",
   "name": "python3"
  },
  "language_info": {
   "codemirror_mode": {
    "name": "ipython",
    "version": 2
   },
   "file_extension": ".py",
   "mimetype": "text/x-python",
   "name": "python",
   "nbconvert_exporter": "python",
   "pygments_lexer": "ipython2",
   "version": "2.7.6"
  }
 },
 "nbformat": 4,
 "nbformat_minor": 0
}
