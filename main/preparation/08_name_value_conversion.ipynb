{
 "cells": [
  {
   "cell_type": "markdown",
   "source": [
    "# Name Conversion\n",
    "\n",
    "This file is used to further refine the merged dataset with all relevant columns such that their names are easier identifiable.\n",
    "\n",
    "The following logic applies: \n",
    "\n",
    "\"drct\" : \"WIND_DRCT(DEG)\",\n",
    "\"sknt\" : \"WIND_SPEED(KMH)\",\n",
    "\"p01i\" : \"1HOUR_PRECIPITATION(INCH)\",\n",
    "    \"mslp\" : \"SEA_LEVEL_PRESSURE(MILLIBAR)\","
   ],
   "metadata": {
    "collapsed": false
   },
   "id": "c350fb1daed19f0e"
  },
  {
   "cell_type": "code",
   "execution_count": 255,
   "outputs": [],
   "source": [
    "import pandas as pd\n",
    "import numpy as np\n",
    "import os\n",
    "\n",
    "# Variables\n",
    "ROOT_PATH = os.path.abspath(\"../../\")\n",
    "PREP_FOLDER = os.path.join(ROOT_PATH, \"data/preparation/prepped_files\")\n",
    "\n",
    "\n",
    "# FUNCTIONS\n",
    "def check_for_nan_cols(df: pd.DataFrame):\n",
    "    assert isinstance(df, pd.DataFrame), f\"Expected type pd.DataFrame. Got {type(df)}\"\n",
    "\n",
    "    for col in df.columns:\n",
    "        nr_null = sum(df[col].isnull())\n",
    "        length = len(df[col])\n",
    "        print(f\"{col}:\\n\\t{nr_null}/{length}\\t({(nr_null / length) * 100:.2f}%)\\n\")\n",
    "\n",
    "\n",
    "def check_dtype_of_cols(df: pd.DataFrame):\n",
    "    assert isinstance(df, pd.DataFrame), f\"Expected type pd.DataFrame. Got {type(df)}\"\n",
    "\n",
    "    for col in df.columns:\n",
    "        print(f\"{col}:\\n\\t{df[col].dtype}\")\n",
    "\n",
    "\n",
    "def encode(df, col, max_val):\n",
    "    df[col + '_SIN'] = np.sin(2 * np.pi * df[col] / max_val)\n",
    "    df[col + '_COS'] = np.cos(2 * np.pi * df[col] / max_val)\n",
    "    return df\n",
    "\n",
    "\n",
    "def F_to_C_deg(series):\n",
    "    return (series - 32) * (5 / 9)\n",
    "\n",
    "\n",
    "def knt_to_kmh(series):\n",
    "    return series * 1.852\n",
    "\n",
    "\n",
    "def ft_to_m(series):\n",
    "    return series * 0.3048\n",
    "\n",
    "\n",
    "def mile_to_km(series):\n",
    "    return series * 1.60934\n",
    "\n",
    "\n",
    "def lb_to_kg(series):\n",
    "    return series * 0.453592\n",
    "\n",
    "\n",
    "def sqft_to_sqm(series):\n",
    "    return series / 10.764\n",
    "\n",
    "def inchHg_to_pa(series):\n",
    "    return series * 3386.3889532610883"
   ],
   "metadata": {
    "collapsed": false,
    "ExecuteTime": {
     "end_time": "2024-03-01T22:45:56.686751600Z",
     "start_time": "2024-03-01T22:45:56.312410Z"
    }
   },
   "id": "bf1779dd87303435"
  },
  {
   "cell_type": "code",
   "execution_count": 256,
   "outputs": [
    {
     "data": {
      "text/plain": "         OP_UNIQUE_CARRIER ORIGIN  DEP_DELAY  CRS_ELAPSED_TIME  DISTANCE  \\\n5612585                 F9    LAS          0             230.0    1747.0   \n5614966                 DL    SFO         -3             268.0    2139.0   \n5616651                 DL    SAN         -6             241.0    1892.0   \n5616326                 DL    SFO         -5             270.0    2139.0   \n5613460                 UA    SFO          6             278.0    2139.0   \n...                    ...    ...        ...               ...       ...   \n11289608                NK    BWI         -5             122.0     577.0   \n11284363                WN    MDW         20             110.0     591.0   \n11283412                WN    DEN         43             170.0    1199.0   \n11286614                B6    BOS         43             179.0     946.0   \n11291238                DL    MSP         -1             163.0     907.0   \n\n                CRS_DEP_DATE        CRS_ARR_DATE        ACT_DEP_DATE  \\\n5612585  2016-12-31 21:45:00 2017-01-01 04:35:00 2016-12-31 21:45:00   \n5614966  2016-12-31 21:45:00 2017-01-01 05:13:00 2016-12-31 21:42:00   \n5616651  2016-12-31 23:00:00 2017-01-01 06:01:00 2016-12-31 22:54:00   \n5616326  2016-12-31 22:35:00 2017-01-01 06:05:00 2016-12-31 22:30:00   \n5613460  2016-12-31 22:42:00 2017-01-01 06:20:00 2016-12-31 22:48:00   \n...                      ...                 ...                 ...   \n11289608 2017-12-31 21:35:00 2017-12-31 23:37:00 2017-12-31 21:30:00   \n11284363 2017-12-31 20:55:00 2017-12-31 23:45:00 2017-12-31 21:15:00   \n11283412 2017-12-31 18:55:00 2017-12-31 23:45:00 2017-12-31 19:38:00   \n11286614 2017-12-31 20:50:00 2017-12-31 23:49:00 2017-12-31 21:33:00   \n11291238 2017-12-31 20:15:00 2017-12-31 23:58:00 2017-12-31 20:14:00   \n\n                ACT_ARR_DATE  PREV_FLIGHTS_1H  ...  EVENT_IC EVENT_RA  \\\n5612585  2017-01-01 04:25:00                0  ...         0        1   \n5614966  2017-01-01 05:05:00                2  ...         0        1   \n5616651  2017-01-01 05:41:00                2  ...         0        1   \n5616326  2017-01-01 05:58:00                2  ...         0        1   \n5613460  2017-01-01 06:14:00                2  ...         0        1   \n...                      ...              ...  ...       ...      ...   \n11289608 2017-12-31 23:27:00                8  ...         0        0   \n11284363 2017-12-31 23:50:00                8  ...         0        0   \n11283412 2018-01-01 00:02:00                8  ...         0        0   \n11286614 2018-01-01 00:19:00               11  ...         0        0   \n11291238 2017-12-31 23:29:00               12  ...         0        0   \n\n          EVENT_SG  EVENT_SN EVENT_TS  08L/26R  08R/26L  09L/27R  09R/27L  \\\n5612585          0         0        0      1.0      1.0      1.0      1.0   \n5614966          0         0        0      1.0      1.0      1.0      1.0   \n5616651          0         0        0      1.0      1.0      1.0      1.0   \n5616326          0         0        0      1.0      1.0      1.0      1.0   \n5613460          0         0        0      1.0      1.0      1.0      1.0   \n...            ...       ...      ...      ...      ...      ...      ...   \n11289608         0         0        0      0.0      0.0      0.0      0.0   \n11284363         0         0        0      0.0      0.0      0.0      0.0   \n11283412         0         0        0      0.0      0.0      0.0      0.0   \n11286614         0         0        0      0.0      0.0      0.0      0.0   \n11291238         0         0        0      0.0      0.0      0.0      0.0   \n\n          10/28  \n5612585     1.0  \n5614966     1.0  \n5616651     1.0  \n5616326     1.0  \n5613460     1.0  \n...         ...  \n11289608    0.0  \n11284363    0.0  \n11283412    0.0  \n11286614    0.0  \n11291238    0.0  \n\n[348136 rows x 47 columns]",
      "text/html": "<div>\n<style scoped>\n    .dataframe tbody tr th:only-of-type {\n        vertical-align: middle;\n    }\n\n    .dataframe tbody tr th {\n        vertical-align: top;\n    }\n\n    .dataframe thead th {\n        text-align: right;\n    }\n</style>\n<table border=\"1\" class=\"dataframe\">\n  <thead>\n    <tr style=\"text-align: right;\">\n      <th></th>\n      <th>OP_UNIQUE_CARRIER</th>\n      <th>ORIGIN</th>\n      <th>DEP_DELAY</th>\n      <th>CRS_ELAPSED_TIME</th>\n      <th>DISTANCE</th>\n      <th>CRS_DEP_DATE</th>\n      <th>CRS_ARR_DATE</th>\n      <th>ACT_DEP_DATE</th>\n      <th>ACT_ARR_DATE</th>\n      <th>PREV_FLIGHTS_1H</th>\n      <th>...</th>\n      <th>EVENT_IC</th>\n      <th>EVENT_RA</th>\n      <th>EVENT_SG</th>\n      <th>EVENT_SN</th>\n      <th>EVENT_TS</th>\n      <th>08L/26R</th>\n      <th>08R/26L</th>\n      <th>09L/27R</th>\n      <th>09R/27L</th>\n      <th>10/28</th>\n    </tr>\n  </thead>\n  <tbody>\n    <tr>\n      <th>5612585</th>\n      <td>F9</td>\n      <td>LAS</td>\n      <td>0</td>\n      <td>230.0</td>\n      <td>1747.0</td>\n      <td>2016-12-31 21:45:00</td>\n      <td>2017-01-01 04:35:00</td>\n      <td>2016-12-31 21:45:00</td>\n      <td>2017-01-01 04:25:00</td>\n      <td>0</td>\n      <td>...</td>\n      <td>0</td>\n      <td>1</td>\n      <td>0</td>\n      <td>0</td>\n      <td>0</td>\n      <td>1.0</td>\n      <td>1.0</td>\n      <td>1.0</td>\n      <td>1.0</td>\n      <td>1.0</td>\n    </tr>\n    <tr>\n      <th>5614966</th>\n      <td>DL</td>\n      <td>SFO</td>\n      <td>-3</td>\n      <td>268.0</td>\n      <td>2139.0</td>\n      <td>2016-12-31 21:45:00</td>\n      <td>2017-01-01 05:13:00</td>\n      <td>2016-12-31 21:42:00</td>\n      <td>2017-01-01 05:05:00</td>\n      <td>2</td>\n      <td>...</td>\n      <td>0</td>\n      <td>1</td>\n      <td>0</td>\n      <td>0</td>\n      <td>0</td>\n      <td>1.0</td>\n      <td>1.0</td>\n      <td>1.0</td>\n      <td>1.0</td>\n      <td>1.0</td>\n    </tr>\n    <tr>\n      <th>5616651</th>\n      <td>DL</td>\n      <td>SAN</td>\n      <td>-6</td>\n      <td>241.0</td>\n      <td>1892.0</td>\n      <td>2016-12-31 23:00:00</td>\n      <td>2017-01-01 06:01:00</td>\n      <td>2016-12-31 22:54:00</td>\n      <td>2017-01-01 05:41:00</td>\n      <td>2</td>\n      <td>...</td>\n      <td>0</td>\n      <td>1</td>\n      <td>0</td>\n      <td>0</td>\n      <td>0</td>\n      <td>1.0</td>\n      <td>1.0</td>\n      <td>1.0</td>\n      <td>1.0</td>\n      <td>1.0</td>\n    </tr>\n    <tr>\n      <th>5616326</th>\n      <td>DL</td>\n      <td>SFO</td>\n      <td>-5</td>\n      <td>270.0</td>\n      <td>2139.0</td>\n      <td>2016-12-31 22:35:00</td>\n      <td>2017-01-01 06:05:00</td>\n      <td>2016-12-31 22:30:00</td>\n      <td>2017-01-01 05:58:00</td>\n      <td>2</td>\n      <td>...</td>\n      <td>0</td>\n      <td>1</td>\n      <td>0</td>\n      <td>0</td>\n      <td>0</td>\n      <td>1.0</td>\n      <td>1.0</td>\n      <td>1.0</td>\n      <td>1.0</td>\n      <td>1.0</td>\n    </tr>\n    <tr>\n      <th>5613460</th>\n      <td>UA</td>\n      <td>SFO</td>\n      <td>6</td>\n      <td>278.0</td>\n      <td>2139.0</td>\n      <td>2016-12-31 22:42:00</td>\n      <td>2017-01-01 06:20:00</td>\n      <td>2016-12-31 22:48:00</td>\n      <td>2017-01-01 06:14:00</td>\n      <td>2</td>\n      <td>...</td>\n      <td>0</td>\n      <td>1</td>\n      <td>0</td>\n      <td>0</td>\n      <td>0</td>\n      <td>1.0</td>\n      <td>1.0</td>\n      <td>1.0</td>\n      <td>1.0</td>\n      <td>1.0</td>\n    </tr>\n    <tr>\n      <th>...</th>\n      <td>...</td>\n      <td>...</td>\n      <td>...</td>\n      <td>...</td>\n      <td>...</td>\n      <td>...</td>\n      <td>...</td>\n      <td>...</td>\n      <td>...</td>\n      <td>...</td>\n      <td>...</td>\n      <td>...</td>\n      <td>...</td>\n      <td>...</td>\n      <td>...</td>\n      <td>...</td>\n      <td>...</td>\n      <td>...</td>\n      <td>...</td>\n      <td>...</td>\n      <td>...</td>\n    </tr>\n    <tr>\n      <th>11289608</th>\n      <td>NK</td>\n      <td>BWI</td>\n      <td>-5</td>\n      <td>122.0</td>\n      <td>577.0</td>\n      <td>2017-12-31 21:35:00</td>\n      <td>2017-12-31 23:37:00</td>\n      <td>2017-12-31 21:30:00</td>\n      <td>2017-12-31 23:27:00</td>\n      <td>8</td>\n      <td>...</td>\n      <td>0</td>\n      <td>0</td>\n      <td>0</td>\n      <td>0</td>\n      <td>0</td>\n      <td>0.0</td>\n      <td>0.0</td>\n      <td>0.0</td>\n      <td>0.0</td>\n      <td>0.0</td>\n    </tr>\n    <tr>\n      <th>11284363</th>\n      <td>WN</td>\n      <td>MDW</td>\n      <td>20</td>\n      <td>110.0</td>\n      <td>591.0</td>\n      <td>2017-12-31 20:55:00</td>\n      <td>2017-12-31 23:45:00</td>\n      <td>2017-12-31 21:15:00</td>\n      <td>2017-12-31 23:50:00</td>\n      <td>8</td>\n      <td>...</td>\n      <td>0</td>\n      <td>0</td>\n      <td>0</td>\n      <td>0</td>\n      <td>0</td>\n      <td>0.0</td>\n      <td>0.0</td>\n      <td>0.0</td>\n      <td>0.0</td>\n      <td>0.0</td>\n    </tr>\n    <tr>\n      <th>11283412</th>\n      <td>WN</td>\n      <td>DEN</td>\n      <td>43</td>\n      <td>170.0</td>\n      <td>1199.0</td>\n      <td>2017-12-31 18:55:00</td>\n      <td>2017-12-31 23:45:00</td>\n      <td>2017-12-31 19:38:00</td>\n      <td>2018-01-01 00:02:00</td>\n      <td>8</td>\n      <td>...</td>\n      <td>0</td>\n      <td>0</td>\n      <td>0</td>\n      <td>0</td>\n      <td>0</td>\n      <td>0.0</td>\n      <td>0.0</td>\n      <td>0.0</td>\n      <td>0.0</td>\n      <td>0.0</td>\n    </tr>\n    <tr>\n      <th>11286614</th>\n      <td>B6</td>\n      <td>BOS</td>\n      <td>43</td>\n      <td>179.0</td>\n      <td>946.0</td>\n      <td>2017-12-31 20:50:00</td>\n      <td>2017-12-31 23:49:00</td>\n      <td>2017-12-31 21:33:00</td>\n      <td>2018-01-01 00:19:00</td>\n      <td>11</td>\n      <td>...</td>\n      <td>0</td>\n      <td>0</td>\n      <td>0</td>\n      <td>0</td>\n      <td>0</td>\n      <td>0.0</td>\n      <td>0.0</td>\n      <td>0.0</td>\n      <td>0.0</td>\n      <td>0.0</td>\n    </tr>\n    <tr>\n      <th>11291238</th>\n      <td>DL</td>\n      <td>MSP</td>\n      <td>-1</td>\n      <td>163.0</td>\n      <td>907.0</td>\n      <td>2017-12-31 20:15:00</td>\n      <td>2017-12-31 23:58:00</td>\n      <td>2017-12-31 20:14:00</td>\n      <td>2017-12-31 23:29:00</td>\n      <td>12</td>\n      <td>...</td>\n      <td>0</td>\n      <td>0</td>\n      <td>0</td>\n      <td>0</td>\n      <td>0</td>\n      <td>0.0</td>\n      <td>0.0</td>\n      <td>0.0</td>\n      <td>0.0</td>\n      <td>0.0</td>\n    </tr>\n  </tbody>\n</table>\n<p>348136 rows × 47 columns</p>\n</div>"
     },
     "execution_count": 256,
     "metadata": {},
     "output_type": "execute_result"
    }
   ],
   "source": [
    "# Loading data from after integration process\n",
    "data = pd.read_pickle(os.path.join(PREP_FOLDER, \"07_integration.pkl\"))\n",
    "data"
   ],
   "metadata": {
    "collapsed": false,
    "ExecuteTime": {
     "end_time": "2024-03-01T22:45:56.688750400Z",
     "start_time": "2024-03-01T22:45:56.334379900Z"
    }
   },
   "id": "6c59b939ab64ac5"
  },
  {
   "cell_type": "code",
   "execution_count": 257,
   "outputs": [
    {
     "name": "stdout",
     "output_type": "stream",
     "text": [
      "OP_UNIQUE_CARRIER:\n",
      "\t0/348136\t(0.00%)\n",
      "\n",
      "ORIGIN:\n",
      "\t0/348136\t(0.00%)\n",
      "\n",
      "DEP_DELAY:\n",
      "\t0/348136\t(0.00%)\n",
      "\n",
      "CRS_ELAPSED_TIME:\n",
      "\t0/348136\t(0.00%)\n",
      "\n",
      "DISTANCE:\n",
      "\t0/348136\t(0.00%)\n",
      "\n",
      "CRS_DEP_DATE:\n",
      "\t0/348136\t(0.00%)\n",
      "\n",
      "CRS_ARR_DATE:\n",
      "\t0/348136\t(0.00%)\n",
      "\n",
      "ACT_DEP_DATE:\n",
      "\t0/348136\t(0.00%)\n",
      "ACT_ARR_DATE:\n",
      "\t0/348136\t(0.00%)\n",
      "\n",
      "PREV_FLIGHTS_1H:\n",
      "\t0/348136\t(0.00%)\n",
      "\n",
      "ARR_DELAY:\n",
      "\t0/348136\t(0.00%)\n",
      "\n",
      "Physical Class (Engine):\n",
      "\t0/348136\t(0.00%)\n",
      "\n",
      "Engines:\n",
      "\t0/348136\t(0.00%)\n",
      "\n",
      "Approach Speed(Vref):\n",
      "\t0/348136\t(0.00%)\n",
      "\n",
      "Wingtip Configuration:\n",
      "\t0/348136\t(0.00%)\n",
      "\n",
      "Wingspan, ft:\n",
      "\t0/348136\t(0.00%)\n",
      "\n",
      "Length, ft:\n",
      "\t0/348136\t(0.00%)\n",
      "\n",
      "Tail Height, ft(@ OEW):\n",
      "\t0/348136\t(0.00%)\n",
      "\n",
      "MTOW:\n",
      "\t0/348136\t(0.00%)\n",
      "\n",
      "Parking Area (WS x Length), sf:\n",
      "\t0/348136\t(0.00%)\n",
      "tmpf:\n",
      "\t541/348136\t(0.16%)\n",
      "\n",
      "dwpf:\n",
      "\t541/348136\t(0.16%)\n",
      "\n",
      "relh:\n",
      "\t977/348136\t(0.28%)\n",
      "\n",
      "drct:\n",
      "\t475/348136\t(0.14%)\n",
      "\n",
      "sknt:\n",
      "\t0/348136\t(0.00%)\n",
      "\n",
      "p01i:\n",
      "\t18334/348136\t(5.27%)\n",
      "\n",
      "alti:\n",
      "\t0/348136\t(0.00%)\n",
      "\n",
      "mslp:\n",
      "\t658/348136\t(0.19%)\n",
      "\n",
      "vsby:\n",
      "\t0/348136\t(0.00%)\n",
      "feel:\n",
      "\t977/348136\t(0.28%)\n",
      "\n",
      "EVENT_BR:\n",
      "\t0/348136\t(0.00%)\n",
      "\n",
      "EVENT_DZ:\n",
      "\t0/348136\t(0.00%)\n",
      "\n",
      "EVENT_FG:\n",
      "\t0/348136\t(0.00%)\n",
      "\n",
      "EVENT_FU:\n",
      "\t0/348136\t(0.00%)\n",
      "\n",
      "EVENT_GR:\n",
      "\t0/348136\t(0.00%)\n",
      "\n",
      "EVENT_GS:\n",
      "\t0/348136\t(0.00%)\n",
      "\n",
      "EVENT_HZ:\n",
      "\t0/348136\t(0.00%)\n",
      "\n",
      "EVENT_IC:\n",
      "\t0/348136\t(0.00%)\n",
      "\n",
      "EVENT_RA:\n",
      "\t0/348136\t(0.00%)\n",
      "\n",
      "EVENT_SG:\n",
      "\t0/348136\t(0.00%)\n",
      "EVENT_SN:\n",
      "\t0/348136\t(0.00%)\n",
      "\n",
      "EVENT_TS:\n",
      "\t0/348136\t(0.00%)\n",
      "\n",
      "08L/26R:\n",
      "\t0/348136\t(0.00%)\n",
      "\n",
      "08R/26L:\n",
      "\t0/348136\t(0.00%)\n",
      "\n",
      "09L/27R:\n",
      "\t0/348136\t(0.00%)\n",
      "\n",
      "09R/27L:\n",
      "\t0/348136\t(0.00%)\n",
      "\n",
      "10/28:\n",
      "\t0/348136\t(0.00%)\n"
     ]
    }
   ],
   "source": [
    "# Checking for null values in the columns\n",
    "check_for_nan_cols(data)"
   ],
   "metadata": {
    "collapsed": false,
    "ExecuteTime": {
     "end_time": "2024-03-01T22:45:57.883614700Z",
     "start_time": "2024-03-01T22:45:56.637779400Z"
    }
   },
   "id": "35037236a9b82249"
  },
  {
   "cell_type": "code",
   "execution_count": 258,
   "outputs": [
    {
     "data": {
      "text/plain": "         OP_UNIQUE_CARRIER ORIGIN  DEP_DELAY  CRS_ELAPSED_TIME  DISTANCE  \\\n5612585                 F9    LAS          0             230.0    1747.0   \n5614966                 DL    SFO         -3             268.0    2139.0   \n5616651                 DL    SAN         -6             241.0    1892.0   \n5616326                 DL    SFO         -5             270.0    2139.0   \n5613460                 UA    SFO          6             278.0    2139.0   \n...                    ...    ...        ...               ...       ...   \n11289608                NK    BWI         -5             122.0     577.0   \n11284363                WN    MDW         20             110.0     591.0   \n11283412                WN    DEN         43             170.0    1199.0   \n11286614                B6    BOS         43             179.0     946.0   \n11291238                DL    MSP         -1             163.0     907.0   \n\n                CRS_DEP_DATE        CRS_ARR_DATE        ACT_DEP_DATE  \\\n5612585  2016-12-31 21:45:00 2017-01-01 04:35:00 2016-12-31 21:45:00   \n5614966  2016-12-31 21:45:00 2017-01-01 05:13:00 2016-12-31 21:42:00   \n5616651  2016-12-31 23:00:00 2017-01-01 06:01:00 2016-12-31 22:54:00   \n5616326  2016-12-31 22:35:00 2017-01-01 06:05:00 2016-12-31 22:30:00   \n5613460  2016-12-31 22:42:00 2017-01-01 06:20:00 2016-12-31 22:48:00   \n...                      ...                 ...                 ...   \n11289608 2017-12-31 21:35:00 2017-12-31 23:37:00 2017-12-31 21:30:00   \n11284363 2017-12-31 20:55:00 2017-12-31 23:45:00 2017-12-31 21:15:00   \n11283412 2017-12-31 18:55:00 2017-12-31 23:45:00 2017-12-31 19:38:00   \n11286614 2017-12-31 20:50:00 2017-12-31 23:49:00 2017-12-31 21:33:00   \n11291238 2017-12-31 20:15:00 2017-12-31 23:58:00 2017-12-31 20:14:00   \n\n                ACT_ARR_DATE  PREV_FLIGHTS_1H  ...  EVENT_IC EVENT_RA  \\\n5612585  2017-01-01 04:25:00                0  ...         0        1   \n5614966  2017-01-01 05:05:00                2  ...         0        1   \n5616651  2017-01-01 05:41:00                2  ...         0        1   \n5616326  2017-01-01 05:58:00                2  ...         0        1   \n5613460  2017-01-01 06:14:00                2  ...         0        1   \n...                      ...              ...  ...       ...      ...   \n11289608 2017-12-31 23:27:00                8  ...         0        0   \n11284363 2017-12-31 23:50:00                8  ...         0        0   \n11283412 2018-01-01 00:02:00                8  ...         0        0   \n11286614 2018-01-01 00:19:00               11  ...         0        0   \n11291238 2017-12-31 23:29:00               12  ...         0        0   \n\n          EVENT_SG  EVENT_SN EVENT_TS  08L/26R  08R/26L  09L/27R  09R/27L  \\\n5612585          0         0        0      1.0      1.0      1.0      1.0   \n5614966          0         0        0      1.0      1.0      1.0      1.0   \n5616651          0         0        0      1.0      1.0      1.0      1.0   \n5616326          0         0        0      1.0      1.0      1.0      1.0   \n5613460          0         0        0      1.0      1.0      1.0      1.0   \n...            ...       ...      ...      ...      ...      ...      ...   \n11289608         0         0        0      0.0      0.0      0.0      0.0   \n11284363         0         0        0      0.0      0.0      0.0      0.0   \n11283412         0         0        0      0.0      0.0      0.0      0.0   \n11286614         0         0        0      0.0      0.0      0.0      0.0   \n11291238         0         0        0      0.0      0.0      0.0      0.0   \n\n          10/28  \n5612585     1.0  \n5614966     1.0  \n5616651     1.0  \n5616326     1.0  \n5613460     1.0  \n...         ...  \n11289608    0.0  \n11284363    0.0  \n11283412    0.0  \n11286614    0.0  \n11291238    0.0  \n\n[348136 rows x 47 columns]",
      "text/html": "<div>\n<style scoped>\n    .dataframe tbody tr th:only-of-type {\n        vertical-align: middle;\n    }\n\n    .dataframe tbody tr th {\n        vertical-align: top;\n    }\n\n    .dataframe thead th {\n        text-align: right;\n    }\n</style>\n<table border=\"1\" class=\"dataframe\">\n  <thead>\n    <tr style=\"text-align: right;\">\n      <th></th>\n      <th>OP_UNIQUE_CARRIER</th>\n      <th>ORIGIN</th>\n      <th>DEP_DELAY</th>\n      <th>CRS_ELAPSED_TIME</th>\n      <th>DISTANCE</th>\n      <th>CRS_DEP_DATE</th>\n      <th>CRS_ARR_DATE</th>\n      <th>ACT_DEP_DATE</th>\n      <th>ACT_ARR_DATE</th>\n      <th>PREV_FLIGHTS_1H</th>\n      <th>...</th>\n      <th>EVENT_IC</th>\n      <th>EVENT_RA</th>\n      <th>EVENT_SG</th>\n      <th>EVENT_SN</th>\n      <th>EVENT_TS</th>\n      <th>08L/26R</th>\n      <th>08R/26L</th>\n      <th>09L/27R</th>\n      <th>09R/27L</th>\n      <th>10/28</th>\n    </tr>\n  </thead>\n  <tbody>\n    <tr>\n      <th>5612585</th>\n      <td>F9</td>\n      <td>LAS</td>\n      <td>0</td>\n      <td>230.0</td>\n      <td>1747.0</td>\n      <td>2016-12-31 21:45:00</td>\n      <td>2017-01-01 04:35:00</td>\n      <td>2016-12-31 21:45:00</td>\n      <td>2017-01-01 04:25:00</td>\n      <td>0</td>\n      <td>...</td>\n      <td>0</td>\n      <td>1</td>\n      <td>0</td>\n      <td>0</td>\n      <td>0</td>\n      <td>1.0</td>\n      <td>1.0</td>\n      <td>1.0</td>\n      <td>1.0</td>\n      <td>1.0</td>\n    </tr>\n    <tr>\n      <th>5614966</th>\n      <td>DL</td>\n      <td>SFO</td>\n      <td>-3</td>\n      <td>268.0</td>\n      <td>2139.0</td>\n      <td>2016-12-31 21:45:00</td>\n      <td>2017-01-01 05:13:00</td>\n      <td>2016-12-31 21:42:00</td>\n      <td>2017-01-01 05:05:00</td>\n      <td>2</td>\n      <td>...</td>\n      <td>0</td>\n      <td>1</td>\n      <td>0</td>\n      <td>0</td>\n      <td>0</td>\n      <td>1.0</td>\n      <td>1.0</td>\n      <td>1.0</td>\n      <td>1.0</td>\n      <td>1.0</td>\n    </tr>\n    <tr>\n      <th>5616651</th>\n      <td>DL</td>\n      <td>SAN</td>\n      <td>-6</td>\n      <td>241.0</td>\n      <td>1892.0</td>\n      <td>2016-12-31 23:00:00</td>\n      <td>2017-01-01 06:01:00</td>\n      <td>2016-12-31 22:54:00</td>\n      <td>2017-01-01 05:41:00</td>\n      <td>2</td>\n      <td>...</td>\n      <td>0</td>\n      <td>1</td>\n      <td>0</td>\n      <td>0</td>\n      <td>0</td>\n      <td>1.0</td>\n      <td>1.0</td>\n      <td>1.0</td>\n      <td>1.0</td>\n      <td>1.0</td>\n    </tr>\n    <tr>\n      <th>5616326</th>\n      <td>DL</td>\n      <td>SFO</td>\n      <td>-5</td>\n      <td>270.0</td>\n      <td>2139.0</td>\n      <td>2016-12-31 22:35:00</td>\n      <td>2017-01-01 06:05:00</td>\n      <td>2016-12-31 22:30:00</td>\n      <td>2017-01-01 05:58:00</td>\n      <td>2</td>\n      <td>...</td>\n      <td>0</td>\n      <td>1</td>\n      <td>0</td>\n      <td>0</td>\n      <td>0</td>\n      <td>1.0</td>\n      <td>1.0</td>\n      <td>1.0</td>\n      <td>1.0</td>\n      <td>1.0</td>\n    </tr>\n    <tr>\n      <th>5613460</th>\n      <td>UA</td>\n      <td>SFO</td>\n      <td>6</td>\n      <td>278.0</td>\n      <td>2139.0</td>\n      <td>2016-12-31 22:42:00</td>\n      <td>2017-01-01 06:20:00</td>\n      <td>2016-12-31 22:48:00</td>\n      <td>2017-01-01 06:14:00</td>\n      <td>2</td>\n      <td>...</td>\n      <td>0</td>\n      <td>1</td>\n      <td>0</td>\n      <td>0</td>\n      <td>0</td>\n      <td>1.0</td>\n      <td>1.0</td>\n      <td>1.0</td>\n      <td>1.0</td>\n      <td>1.0</td>\n    </tr>\n    <tr>\n      <th>...</th>\n      <td>...</td>\n      <td>...</td>\n      <td>...</td>\n      <td>...</td>\n      <td>...</td>\n      <td>...</td>\n      <td>...</td>\n      <td>...</td>\n      <td>...</td>\n      <td>...</td>\n      <td>...</td>\n      <td>...</td>\n      <td>...</td>\n      <td>...</td>\n      <td>...</td>\n      <td>...</td>\n      <td>...</td>\n      <td>...</td>\n      <td>...</td>\n      <td>...</td>\n      <td>...</td>\n    </tr>\n    <tr>\n      <th>11289608</th>\n      <td>NK</td>\n      <td>BWI</td>\n      <td>-5</td>\n      <td>122.0</td>\n      <td>577.0</td>\n      <td>2017-12-31 21:35:00</td>\n      <td>2017-12-31 23:37:00</td>\n      <td>2017-12-31 21:30:00</td>\n      <td>2017-12-31 23:27:00</td>\n      <td>8</td>\n      <td>...</td>\n      <td>0</td>\n      <td>0</td>\n      <td>0</td>\n      <td>0</td>\n      <td>0</td>\n      <td>0.0</td>\n      <td>0.0</td>\n      <td>0.0</td>\n      <td>0.0</td>\n      <td>0.0</td>\n    </tr>\n    <tr>\n      <th>11284363</th>\n      <td>WN</td>\n      <td>MDW</td>\n      <td>20</td>\n      <td>110.0</td>\n      <td>591.0</td>\n      <td>2017-12-31 20:55:00</td>\n      <td>2017-12-31 23:45:00</td>\n      <td>2017-12-31 21:15:00</td>\n      <td>2017-12-31 23:50:00</td>\n      <td>8</td>\n      <td>...</td>\n      <td>0</td>\n      <td>0</td>\n      <td>0</td>\n      <td>0</td>\n      <td>0</td>\n      <td>0.0</td>\n      <td>0.0</td>\n      <td>0.0</td>\n      <td>0.0</td>\n      <td>0.0</td>\n    </tr>\n    <tr>\n      <th>11283412</th>\n      <td>WN</td>\n      <td>DEN</td>\n      <td>43</td>\n      <td>170.0</td>\n      <td>1199.0</td>\n      <td>2017-12-31 18:55:00</td>\n      <td>2017-12-31 23:45:00</td>\n      <td>2017-12-31 19:38:00</td>\n      <td>2018-01-01 00:02:00</td>\n      <td>8</td>\n      <td>...</td>\n      <td>0</td>\n      <td>0</td>\n      <td>0</td>\n      <td>0</td>\n      <td>0</td>\n      <td>0.0</td>\n      <td>0.0</td>\n      <td>0.0</td>\n      <td>0.0</td>\n      <td>0.0</td>\n    </tr>\n    <tr>\n      <th>11286614</th>\n      <td>B6</td>\n      <td>BOS</td>\n      <td>43</td>\n      <td>179.0</td>\n      <td>946.0</td>\n      <td>2017-12-31 20:50:00</td>\n      <td>2017-12-31 23:49:00</td>\n      <td>2017-12-31 21:33:00</td>\n      <td>2018-01-01 00:19:00</td>\n      <td>11</td>\n      <td>...</td>\n      <td>0</td>\n      <td>0</td>\n      <td>0</td>\n      <td>0</td>\n      <td>0</td>\n      <td>0.0</td>\n      <td>0.0</td>\n      <td>0.0</td>\n      <td>0.0</td>\n      <td>0.0</td>\n    </tr>\n    <tr>\n      <th>11291238</th>\n      <td>DL</td>\n      <td>MSP</td>\n      <td>-1</td>\n      <td>163.0</td>\n      <td>907.0</td>\n      <td>2017-12-31 20:15:00</td>\n      <td>2017-12-31 23:58:00</td>\n      <td>2017-12-31 20:14:00</td>\n      <td>2017-12-31 23:29:00</td>\n      <td>12</td>\n      <td>...</td>\n      <td>0</td>\n      <td>0</td>\n      <td>0</td>\n      <td>0</td>\n      <td>0</td>\n      <td>0.0</td>\n      <td>0.0</td>\n      <td>0.0</td>\n      <td>0.0</td>\n      <td>0.0</td>\n    </tr>\n  </tbody>\n</table>\n<p>348136 rows × 47 columns</p>\n</div>"
     },
     "execution_count": 258,
     "metadata": {},
     "output_type": "execute_result"
    }
   ],
   "source": [
    "# Inserting mean or mode for NaN values. \n",
    "mode_vars = [\"Physical Class (Engine)\", \"Engines\", \"Wingtip Configuration\", ]\n",
    "mean_vars = [\"Approach Speed(Vref)\", \"Wingspan, ft\", \"Length, ft\", \"Tail Height, ft(@ OEW)\", \"MTOW\",\n",
    "             \"Parking Area (WS x Length), sf\", \"tmpf\", \"dwpf\", \"relh\", \"drct\", \"sknt\", \"p01i\", \"alti\", \"mslp\", \"vsby\",\n",
    "             \"feel\"]\n",
    "\n",
    "for col in data.columns:\n",
    "    if col in mode_vars:\n",
    "        data[col] = data[col].replace(np.nan, data[col].mode()[0])\n",
    "    if col in mean_vars:\n",
    "        data[col] = data[col].replace(np.nan, data[col].mean())\n",
    "\n",
    "data"
   ],
   "metadata": {
    "collapsed": false,
    "ExecuteTime": {
     "end_time": "2024-03-01T22:45:58.464779100Z",
     "start_time": "2024-03-01T22:45:57.885601900Z"
    }
   },
   "id": "f4215a2911f801d7"
  },
  {
   "cell_type": "code",
   "execution_count": 259,
   "outputs": [
    {
     "name": "stdout",
     "output_type": "stream",
     "text": [
      "OP_UNIQUE_CARRIER:\n",
      "\t0/348136\t(0.00%)\n",
      "\n",
      "ORIGIN:\n",
      "\t0/348136\t(0.00%)\n",
      "\n",
      "DEP_DELAY:\n",
      "\t0/348136\t(0.00%)\n",
      "\n",
      "CRS_ELAPSED_TIME:\n",
      "\t0/348136\t(0.00%)\n",
      "\n",
      "DISTANCE:\n",
      "\t0/348136\t(0.00%)\n",
      "\n",
      "CRS_DEP_DATE:\n",
      "\t0/348136\t(0.00%)\n",
      "\n",
      "CRS_ARR_DATE:\n",
      "\t0/348136\t(0.00%)\n",
      "\n",
      "ACT_DEP_DATE:\n",
      "\t0/348136\t(0.00%)\n",
      "\n",
      "ACT_ARR_DATE:\n",
      "\t0/348136\t(0.00%)\n",
      "\n",
      "PREV_FLIGHTS_1H:\n",
      "\t0/348136\t(0.00%)\n",
      "ARR_DELAY:\n",
      "\t0/348136\t(0.00%)\n",
      "\n",
      "Physical Class (Engine):\n",
      "\t0/348136\t(0.00%)\n",
      "\n",
      "Engines:\n",
      "\t0/348136\t(0.00%)\n",
      "\n",
      "Approach Speed(Vref):\n",
      "\t0/348136\t(0.00%)\n",
      "\n",
      "Wingtip Configuration:\n",
      "\t0/348136\t(0.00%)\n",
      "\n",
      "Wingspan, ft:\n",
      "\t0/348136\t(0.00%)\n",
      "\n",
      "Length, ft:\n",
      "\t0/348136\t(0.00%)\n",
      "\n",
      "Tail Height, ft(@ OEW):\n",
      "\t0/348136\t(0.00%)\n",
      "\n",
      "MTOW:\n",
      "\t0/348136\t(0.00%)\n",
      "Parking Area (WS x Length), sf:\n",
      "\t0/348136\t(0.00%)\n",
      "\n",
      "tmpf:\n",
      "\t0/348136\t(0.00%)\n",
      "\n",
      "dwpf:\n",
      "\t0/348136\t(0.00%)\n",
      "\n",
      "relh:\n",
      "\t0/348136\t(0.00%)\n",
      "\n",
      "drct:\n",
      "\t0/348136\t(0.00%)\n",
      "\n",
      "sknt:\n",
      "\t0/348136\t(0.00%)\n",
      "\n",
      "p01i:\n",
      "\t0/348136\t(0.00%)\n",
      "\n",
      "alti:\n",
      "\t0/348136\t(0.00%)\n",
      "\n",
      "mslp:\n",
      "\t0/348136\t(0.00%)\n",
      "vsby:\n",
      "\t0/348136\t(0.00%)\n",
      "\n",
      "feel:\n",
      "\t0/348136\t(0.00%)\n",
      "\n",
      "EVENT_BR:\n",
      "\t0/348136\t(0.00%)\n",
      "\n",
      "EVENT_DZ:\n",
      "\t0/348136\t(0.00%)\n",
      "\n",
      "EVENT_FG:\n",
      "\t0/348136\t(0.00%)\n",
      "\n",
      "EVENT_FU:\n",
      "\t0/348136\t(0.00%)\n",
      "\n",
      "EVENT_GR:\n",
      "\t0/348136\t(0.00%)\n",
      "\n",
      "EVENT_GS:\n",
      "\t0/348136\t(0.00%)\n",
      "\n",
      "EVENT_HZ:\n",
      "\t0/348136\t(0.00%)\n",
      "\n",
      "EVENT_IC:\n",
      "\t0/348136\t(0.00%)\n",
      "EVENT_RA:\n",
      "\t0/348136\t(0.00%)\n",
      "\n",
      "EVENT_SG:\n",
      "\t0/348136\t(0.00%)\n",
      "\n",
      "EVENT_SN:\n",
      "\t0/348136\t(0.00%)\n",
      "\n",
      "EVENT_TS:\n",
      "\t0/348136\t(0.00%)\n",
      "\n",
      "08L/26R:\n",
      "\t0/348136\t(0.00%)\n",
      "\n",
      "08R/26L:\n",
      "\t0/348136\t(0.00%)\n",
      "\n",
      "09L/27R:\n",
      "\t0/348136\t(0.00%)\n",
      "\n",
      "09R/27L:\n",
      "\t0/348136\t(0.00%)\n",
      "\n",
      "10/28:\n",
      "\t0/348136\t(0.00%)\n"
     ]
    }
   ],
   "source": [
    "check_for_nan_cols(data)"
   ],
   "metadata": {
    "collapsed": false,
    "ExecuteTime": {
     "end_time": "2024-03-01T22:45:59.699659200Z",
     "start_time": "2024-03-01T22:45:58.467777400Z"
    }
   },
   "id": "c8731b6f9da904d2"
  },
  {
   "cell_type": "code",
   "execution_count": 260,
   "outputs": [
    {
     "name": "stdout",
     "output_type": "stream",
     "text": [
      "OP_UNIQUE_CARRIER:\n",
      "\tobject\n",
      "ORIGIN:\n",
      "\tobject\n",
      "DEP_DELAY:\n",
      "\tint32\n",
      "CRS_ELAPSED_TIME:\n",
      "\tfloat64\n",
      "DISTANCE:\n",
      "\tfloat64\n",
      "CRS_DEP_DATE:\n",
      "\tdatetime64[ns]\n",
      "CRS_ARR_DATE:\n",
      "\tdatetime64[ns]\n",
      "ACT_DEP_DATE:\n",
      "\tdatetime64[ns]\n",
      "ACT_ARR_DATE:\n",
      "\tdatetime64[ns]\n",
      "PREV_FLIGHTS_1H:\n",
      "\tint64\n",
      "ARR_DELAY:\n",
      "\tint32\n",
      "Physical Class (Engine):\n",
      "\tobject\n",
      "Engines:\n",
      "\tint32\n",
      "Approach Speed(Vref):\n",
      "\tint32\n",
      "Wingtip Configuration:\n",
      "\tobject\n",
      "Wingspan, ft:\n",
      "\tfloat64\n",
      "Length, ft:\n",
      "\tfloat64\n",
      "Tail Height, ft(@ OEW):\n",
      "\tfloat64\n",
      "MTOW:\n",
      "\tint64\n",
      "Parking Area (WS x Length), sf:\n",
      "\tint64\n",
      "tmpf:\n",
      "\tfloat64\n",
      "dwpf:\n",
      "\tfloat64\n",
      "relh:\n",
      "\tfloat64\n",
      "drct:\n",
      "\tfloat64\n",
      "sknt:\n",
      "\tfloat64\n",
      "p01i:\n",
      "\tfloat64\n",
      "alti:\n",
      "\tfloat64\n",
      "mslp:\n",
      "\tfloat64\n",
      "vsby:\n",
      "\tfloat64\n",
      "feel:\n",
      "\tfloat64\n",
      "EVENT_BR:\n",
      "\tint64\n",
      "EVENT_DZ:\n",
      "\tint64\n",
      "EVENT_FG:\n",
      "\tint64\n",
      "EVENT_FU:\n",
      "\tint64\n",
      "EVENT_GR:\n",
      "\tint64\n",
      "EVENT_GS:\n",
      "\tint64\n",
      "EVENT_HZ:\n",
      "\tint64\n",
      "EVENT_IC:\n",
      "\tint64\n",
      "EVENT_RA:\n",
      "\tint64\n",
      "EVENT_SG:\n",
      "\tint64\n",
      "EVENT_SN:\n",
      "\tint64\n",
      "EVENT_TS:\n",
      "\tint64\n",
      "08L/26R:\n",
      "\tfloat64\n",
      "08R/26L:\n",
      "\tfloat64\n",
      "09L/27R:\n",
      "\tfloat64\n",
      "09R/27L:\n",
      "\tfloat64\n",
      "10/28:\n",
      "\tfloat64\n"
     ]
    }
   ],
   "source": [
    "check_dtype_of_cols(data)"
   ],
   "metadata": {
    "collapsed": false,
    "ExecuteTime": {
     "end_time": "2024-03-01T22:45:59.743648100Z",
     "start_time": "2024-03-01T22:45:59.701658200Z"
    }
   },
   "id": "bfb838f3fa353a4e"
  },
  {
   "cell_type": "code",
   "execution_count": 261,
   "outputs": [],
   "source": [
    "# Convert useless floats to int\n",
    "data[\"CRS_ELAPSED_TIME\"] = data[\"CRS_ELAPSED_TIME\"].astype(int)\n",
    "data[\"DISTANCE\"] = data[\"DISTANCE\"].astype(int)"
   ],
   "metadata": {
    "collapsed": false,
    "ExecuteTime": {
     "end_time": "2024-03-01T22:45:59.752629600Z",
     "start_time": "2024-03-01T22:45:59.718649200Z"
    }
   },
   "id": "cc10efad23b5aa44"
  },
  {
   "cell_type": "code",
   "execution_count": 262,
   "outputs": [
    {
     "data": {
      "text/plain": "        OP_UNIQUE_CARRIER ORIGIN  DEP_DELAY  CRS_ELAPSED_TIME  DISTANCE  \\\n5612585                F9    LAS          0               230      1747   \n5614966                DL    SFO         -3               268      2139   \n5616651                DL    SAN         -6               241      1892   \n5616326                DL    SFO         -5               270      2139   \n5613460                UA    SFO          6               278      2139   \n\n               CRS_DEP_DATE        ACT_DEP_DATE        ACT_ARR_DATE  \\\n5612585 2016-12-31 21:45:00 2016-12-31 21:45:00 2017-01-01 04:25:00   \n5614966 2016-12-31 21:45:00 2016-12-31 21:42:00 2017-01-01 05:05:00   \n5616651 2016-12-31 23:00:00 2016-12-31 22:54:00 2017-01-01 05:41:00   \n5616326 2016-12-31 22:35:00 2016-12-31 22:30:00 2017-01-01 05:58:00   \n5613460 2016-12-31 22:42:00 2016-12-31 22:48:00 2017-01-01 06:14:00   \n\n         PREV_FLIGHTS_1H  ARR_DELAY  ... EVENT_SG  EVENT_SN  EVENT_TS 08L/26R  \\\n5612585                0        -10  ...        0         0         0     1.0   \n5614966                2         -8  ...        0         0         0     1.0   \n5616651                2        -20  ...        0         0         0     1.0   \n5616326                2         -7  ...        0         0         0     1.0   \n5613460                2         -6  ...        0         0         0     1.0   \n\n         08R/26L  09L/27R  09R/27L  10/28  ARR_DAY  ARR_MIN_OF_DAY  \n5612585      1.0      1.0      1.0    1.0        6             275  \n5614966      1.0      1.0      1.0    1.0        6             313  \n5616651      1.0      1.0      1.0    1.0        6             361  \n5616326      1.0      1.0      1.0    1.0        6             365  \n5613460      1.0      1.0      1.0    1.0        6             380  \n\n[5 rows x 48 columns]",
      "text/html": "<div>\n<style scoped>\n    .dataframe tbody tr th:only-of-type {\n        vertical-align: middle;\n    }\n\n    .dataframe tbody tr th {\n        vertical-align: top;\n    }\n\n    .dataframe thead th {\n        text-align: right;\n    }\n</style>\n<table border=\"1\" class=\"dataframe\">\n  <thead>\n    <tr style=\"text-align: right;\">\n      <th></th>\n      <th>OP_UNIQUE_CARRIER</th>\n      <th>ORIGIN</th>\n      <th>DEP_DELAY</th>\n      <th>CRS_ELAPSED_TIME</th>\n      <th>DISTANCE</th>\n      <th>CRS_DEP_DATE</th>\n      <th>ACT_DEP_DATE</th>\n      <th>ACT_ARR_DATE</th>\n      <th>PREV_FLIGHTS_1H</th>\n      <th>ARR_DELAY</th>\n      <th>...</th>\n      <th>EVENT_SG</th>\n      <th>EVENT_SN</th>\n      <th>EVENT_TS</th>\n      <th>08L/26R</th>\n      <th>08R/26L</th>\n      <th>09L/27R</th>\n      <th>09R/27L</th>\n      <th>10/28</th>\n      <th>ARR_DAY</th>\n      <th>ARR_MIN_OF_DAY</th>\n    </tr>\n  </thead>\n  <tbody>\n    <tr>\n      <th>5612585</th>\n      <td>F9</td>\n      <td>LAS</td>\n      <td>0</td>\n      <td>230</td>\n      <td>1747</td>\n      <td>2016-12-31 21:45:00</td>\n      <td>2016-12-31 21:45:00</td>\n      <td>2017-01-01 04:25:00</td>\n      <td>0</td>\n      <td>-10</td>\n      <td>...</td>\n      <td>0</td>\n      <td>0</td>\n      <td>0</td>\n      <td>1.0</td>\n      <td>1.0</td>\n      <td>1.0</td>\n      <td>1.0</td>\n      <td>1.0</td>\n      <td>6</td>\n      <td>275</td>\n    </tr>\n    <tr>\n      <th>5614966</th>\n      <td>DL</td>\n      <td>SFO</td>\n      <td>-3</td>\n      <td>268</td>\n      <td>2139</td>\n      <td>2016-12-31 21:45:00</td>\n      <td>2016-12-31 21:42:00</td>\n      <td>2017-01-01 05:05:00</td>\n      <td>2</td>\n      <td>-8</td>\n      <td>...</td>\n      <td>0</td>\n      <td>0</td>\n      <td>0</td>\n      <td>1.0</td>\n      <td>1.0</td>\n      <td>1.0</td>\n      <td>1.0</td>\n      <td>1.0</td>\n      <td>6</td>\n      <td>313</td>\n    </tr>\n    <tr>\n      <th>5616651</th>\n      <td>DL</td>\n      <td>SAN</td>\n      <td>-6</td>\n      <td>241</td>\n      <td>1892</td>\n      <td>2016-12-31 23:00:00</td>\n      <td>2016-12-31 22:54:00</td>\n      <td>2017-01-01 05:41:00</td>\n      <td>2</td>\n      <td>-20</td>\n      <td>...</td>\n      <td>0</td>\n      <td>0</td>\n      <td>0</td>\n      <td>1.0</td>\n      <td>1.0</td>\n      <td>1.0</td>\n      <td>1.0</td>\n      <td>1.0</td>\n      <td>6</td>\n      <td>361</td>\n    </tr>\n    <tr>\n      <th>5616326</th>\n      <td>DL</td>\n      <td>SFO</td>\n      <td>-5</td>\n      <td>270</td>\n      <td>2139</td>\n      <td>2016-12-31 22:35:00</td>\n      <td>2016-12-31 22:30:00</td>\n      <td>2017-01-01 05:58:00</td>\n      <td>2</td>\n      <td>-7</td>\n      <td>...</td>\n      <td>0</td>\n      <td>0</td>\n      <td>0</td>\n      <td>1.0</td>\n      <td>1.0</td>\n      <td>1.0</td>\n      <td>1.0</td>\n      <td>1.0</td>\n      <td>6</td>\n      <td>365</td>\n    </tr>\n    <tr>\n      <th>5613460</th>\n      <td>UA</td>\n      <td>SFO</td>\n      <td>6</td>\n      <td>278</td>\n      <td>2139</td>\n      <td>2016-12-31 22:42:00</td>\n      <td>2016-12-31 22:48:00</td>\n      <td>2017-01-01 06:14:00</td>\n      <td>2</td>\n      <td>-6</td>\n      <td>...</td>\n      <td>0</td>\n      <td>0</td>\n      <td>0</td>\n      <td>1.0</td>\n      <td>1.0</td>\n      <td>1.0</td>\n      <td>1.0</td>\n      <td>1.0</td>\n      <td>6</td>\n      <td>380</td>\n    </tr>\n  </tbody>\n</table>\n<p>5 rows × 48 columns</p>\n</div>"
     },
     "execution_count": 262,
     "metadata": {},
     "output_type": "execute_result"
    }
   ],
   "source": [
    "# Converting arival date into day and min of day\n",
    "data[\"ARR_DAY\"] = data[\"CRS_ARR_DATE\"].apply(lambda x: x.weekday())\n",
    "data[\"ARR_MIN_OF_DAY\"] = data[\"CRS_ARR_DATE\"].apply(lambda x: x.hour * 60 + x.minute)\n",
    "data = data.drop([\"CRS_ARR_DATE\"], axis=\"columns\")\n",
    "data.head()"
   ],
   "metadata": {
    "collapsed": false,
    "ExecuteTime": {
     "end_time": "2024-03-01T22:46:01.332276100Z",
     "start_time": "2024-03-01T22:45:59.734639100Z"
    }
   },
   "id": "a78b829a3a2c0297"
  },
  {
   "cell_type": "code",
   "execution_count": 263,
   "outputs": [
    {
     "data": {
      "text/plain": "        OP_UNIQUE_CARRIER ORIGIN  DEP_DELAY  CRS_ELAPSED_TIME  DISTANCE  \\\n5612585                F9    LAS          0               230      1747   \n5614966                DL    SFO         -3               268      2139   \n5616651                DL    SAN         -6               241      1892   \n5616326                DL    SFO         -5               270      2139   \n5613460                UA    SFO          6               278      2139   \n\n         PREV_FLIGHTS_1H  ARR_DELAY Physical Class (Engine)  Engines  \\\n5612585                0        -10                     Jet        2   \n5614966                2         -8                     Jet        2   \n5616651                2        -20                     Jet        2   \n5616326                2         -7                     Jet        2   \n5613460                2         -6                     Jet        2   \n\n         Approach Speed(Vref)  ... EVENT_SG  EVENT_SN  EVENT_TS  08L/26R  \\\n5612585                   136  ...        0         0         0      1.0   \n5614966                   141  ...        0         0         0      1.0   \n5616651                   141  ...        0         0         0      1.0   \n5616326                   143  ...        0         0         0      1.0   \n5613460                   141  ...        0         0         0      1.0   \n\n         08R/26L  09L/27R  09R/27L  10/28  ARR_DAY  ARR_MIN_OF_DAY  \n5612585      1.0      1.0      1.0    1.0        6             275  \n5614966      1.0      1.0      1.0    1.0        6             313  \n5616651      1.0      1.0      1.0    1.0        6             361  \n5616326      1.0      1.0      1.0    1.0        6             365  \n5613460      1.0      1.0      1.0    1.0        6             380  \n\n[5 rows x 45 columns]",
      "text/html": "<div>\n<style scoped>\n    .dataframe tbody tr th:only-of-type {\n        vertical-align: middle;\n    }\n\n    .dataframe tbody tr th {\n        vertical-align: top;\n    }\n\n    .dataframe thead th {\n        text-align: right;\n    }\n</style>\n<table border=\"1\" class=\"dataframe\">\n  <thead>\n    <tr style=\"text-align: right;\">\n      <th></th>\n      <th>OP_UNIQUE_CARRIER</th>\n      <th>ORIGIN</th>\n      <th>DEP_DELAY</th>\n      <th>CRS_ELAPSED_TIME</th>\n      <th>DISTANCE</th>\n      <th>PREV_FLIGHTS_1H</th>\n      <th>ARR_DELAY</th>\n      <th>Physical Class (Engine)</th>\n      <th>Engines</th>\n      <th>Approach Speed(Vref)</th>\n      <th>...</th>\n      <th>EVENT_SG</th>\n      <th>EVENT_SN</th>\n      <th>EVENT_TS</th>\n      <th>08L/26R</th>\n      <th>08R/26L</th>\n      <th>09L/27R</th>\n      <th>09R/27L</th>\n      <th>10/28</th>\n      <th>ARR_DAY</th>\n      <th>ARR_MIN_OF_DAY</th>\n    </tr>\n  </thead>\n  <tbody>\n    <tr>\n      <th>5612585</th>\n      <td>F9</td>\n      <td>LAS</td>\n      <td>0</td>\n      <td>230</td>\n      <td>1747</td>\n      <td>0</td>\n      <td>-10</td>\n      <td>Jet</td>\n      <td>2</td>\n      <td>136</td>\n      <td>...</td>\n      <td>0</td>\n      <td>0</td>\n      <td>0</td>\n      <td>1.0</td>\n      <td>1.0</td>\n      <td>1.0</td>\n      <td>1.0</td>\n      <td>1.0</td>\n      <td>6</td>\n      <td>275</td>\n    </tr>\n    <tr>\n      <th>5614966</th>\n      <td>DL</td>\n      <td>SFO</td>\n      <td>-3</td>\n      <td>268</td>\n      <td>2139</td>\n      <td>2</td>\n      <td>-8</td>\n      <td>Jet</td>\n      <td>2</td>\n      <td>141</td>\n      <td>...</td>\n      <td>0</td>\n      <td>0</td>\n      <td>0</td>\n      <td>1.0</td>\n      <td>1.0</td>\n      <td>1.0</td>\n      <td>1.0</td>\n      <td>1.0</td>\n      <td>6</td>\n      <td>313</td>\n    </tr>\n    <tr>\n      <th>5616651</th>\n      <td>DL</td>\n      <td>SAN</td>\n      <td>-6</td>\n      <td>241</td>\n      <td>1892</td>\n      <td>2</td>\n      <td>-20</td>\n      <td>Jet</td>\n      <td>2</td>\n      <td>141</td>\n      <td>...</td>\n      <td>0</td>\n      <td>0</td>\n      <td>0</td>\n      <td>1.0</td>\n      <td>1.0</td>\n      <td>1.0</td>\n      <td>1.0</td>\n      <td>1.0</td>\n      <td>6</td>\n      <td>361</td>\n    </tr>\n    <tr>\n      <th>5616326</th>\n      <td>DL</td>\n      <td>SFO</td>\n      <td>-5</td>\n      <td>270</td>\n      <td>2139</td>\n      <td>2</td>\n      <td>-7</td>\n      <td>Jet</td>\n      <td>2</td>\n      <td>143</td>\n      <td>...</td>\n      <td>0</td>\n      <td>0</td>\n      <td>0</td>\n      <td>1.0</td>\n      <td>1.0</td>\n      <td>1.0</td>\n      <td>1.0</td>\n      <td>1.0</td>\n      <td>6</td>\n      <td>365</td>\n    </tr>\n    <tr>\n      <th>5613460</th>\n      <td>UA</td>\n      <td>SFO</td>\n      <td>6</td>\n      <td>278</td>\n      <td>2139</td>\n      <td>2</td>\n      <td>-6</td>\n      <td>Jet</td>\n      <td>2</td>\n      <td>141</td>\n      <td>...</td>\n      <td>0</td>\n      <td>0</td>\n      <td>0</td>\n      <td>1.0</td>\n      <td>1.0</td>\n      <td>1.0</td>\n      <td>1.0</td>\n      <td>1.0</td>\n      <td>6</td>\n      <td>380</td>\n    </tr>\n  </tbody>\n</table>\n<p>5 rows × 45 columns</p>\n</div>"
     },
     "execution_count": 263,
     "metadata": {},
     "output_type": "execute_result"
    }
   ],
   "source": [
    "# Dropping other useless or redundant CRS-columns\n",
    "data = data.drop([\"CRS_DEP_DATE\", \"ACT_DEP_DATE\", \"ACT_ARR_DATE\"], axis=1)\n",
    "data.head()"
   ],
   "metadata": {
    "collapsed": false,
    "ExecuteTime": {
     "end_time": "2024-03-01T22:46:01.450104500Z",
     "start_time": "2024-03-01T22:46:01.334264900Z"
    }
   },
   "id": "bc7fe5a5577ce374"
  },
  {
   "cell_type": "code",
   "execution_count": 264,
   "outputs": [
    {
     "data": {
      "text/plain": "<Figure size 640x480 with 1 Axes>",
      "image/png": "[encoded data removed]"
     },
     "metadata": {},
     "output_type": "display_data"
    }
   ],
   "source": [
    "data = encode(data, \"ARR_DAY\", 7)\n",
    "ax = data.plot.scatter('ARR_DAY_SIN', 'ARR_DAY_COS').set_aspect('equal')"
   ],
   "metadata": {
    "collapsed": false,
    "ExecuteTime": {
     "end_time": "2024-03-01T22:46:02.931335700Z",
     "start_time": "2024-03-01T22:46:01.443109200Z"
    }
   },
   "id": "3aff9691eb697661"
  },
  {
   "cell_type": "code",
   "execution_count": 265,
   "outputs": [
    {
     "data": {
      "text/plain": "<Figure size 640x480 with 1 Axes>",
      "image/png": "[encoded data removed]"
     },
     "metadata": {},
     "output_type": "display_data"
    }
   ],
   "source": [
    "data = encode(data, \"ARR_MIN_OF_DAY\", 24 * 60)\n",
    "ax = data.plot.scatter('ARR_MIN_OF_DAY_SIN', 'ARR_MIN_OF_DAY_COS').set_aspect('equal')"
   ],
   "metadata": {
    "collapsed": false,
    "ExecuteTime": {
     "end_time": "2024-03-01T22:46:04.158595Z",
     "start_time": "2024-03-01T22:46:02.933333700Z"
    }
   },
   "id": "319c449bb4665bed"
  },
  {
   "cell_type": "code",
   "execution_count": 266,
   "outputs": [
    {
     "data": {
      "text/plain": "        OP_UNIQUE_CARRIER ORIGIN  DEP_DELAY  CRS_ELAPSED_TIME  DISTANCE  \\\n5612585                F9    LAS          0               230      1747   \n5614966                DL    SFO         -3               268      2139   \n5616651                DL    SAN         -6               241      1892   \n5616326                DL    SFO         -5               270      2139   \n5613460                UA    SFO          6               278      2139   \n\n         PREV_FLIGHTS_1H  ARR_DELAY Physical Class (Engine)  Engines  \\\n5612585                0        -10                     Jet        2   \n5614966                2         -8                     Jet        2   \n5616651                2        -20                     Jet        2   \n5616326                2         -7                     Jet        2   \n5613460                2         -6                     Jet        2   \n\n         Approach Speed(Vref)  ... EVENT_TS  08L/26R  08R/26L  09L/27R  \\\n5612585                   136  ...        0      1.0      1.0      1.0   \n5614966                   141  ...        0      1.0      1.0      1.0   \n5616651                   141  ...        0      1.0      1.0      1.0   \n5616326                   143  ...        0      1.0      1.0      1.0   \n5613460                   141  ...        0      1.0      1.0      1.0   \n\n         09R/27L  10/28  ARR_DAY_SIN  ARR_DAY_COS  ARR_MIN_OF_DAY_SIN  \\\n5612585      1.0    1.0    -0.781831      0.62349            0.932008   \n5614966      1.0    1.0    -0.781831      0.62349            0.979045   \n5616651      1.0    1.0    -0.781831      0.62349            0.999990   \n5616326      1.0    1.0    -0.781831      0.62349            0.999762   \n5613460      1.0    1.0    -0.781831      0.62349            0.996195   \n\n         ARR_MIN_OF_DAY_COS  \n5612585            0.362438  \n5614966            0.203642  \n5616651           -0.004363  \n5616326           -0.021815  \n5613460           -0.087156  \n\n[5 rows x 47 columns]",
      "text/html": "<div>\n<style scoped>\n    .dataframe tbody tr th:only-of-type {\n        vertical-align: middle;\n    }\n\n    .dataframe tbody tr th {\n        vertical-align: top;\n    }\n\n    .dataframe thead th {\n        text-align: right;\n    }\n</style>\n<table border=\"1\" class=\"dataframe\">\n  <thead>\n    <tr style=\"text-align: right;\">\n      <th></th>\n      <th>OP_UNIQUE_CARRIER</th>\n      <th>ORIGIN</th>\n      <th>DEP_DELAY</th>\n      <th>CRS_ELAPSED_TIME</th>\n      <th>DISTANCE</th>\n      <th>PREV_FLIGHTS_1H</th>\n      <th>ARR_DELAY</th>\n      <th>Physical Class (Engine)</th>\n      <th>Engines</th>\n      <th>Approach Speed(Vref)</th>\n      <th>...</th>\n      <th>EVENT_TS</th>\n      <th>08L/26R</th>\n      <th>08R/26L</th>\n      <th>09L/27R</th>\n      <th>09R/27L</th>\n      <th>10/28</th>\n      <th>ARR_DAY_SIN</th>\n      <th>ARR_DAY_COS</th>\n      <th>ARR_MIN_OF_DAY_SIN</th>\n      <th>ARR_MIN_OF_DAY_COS</th>\n    </tr>\n  </thead>\n  <tbody>\n    <tr>\n      <th>5612585</th>\n      <td>F9</td>\n      <td>LAS</td>\n      <td>0</td>\n      <td>230</td>\n      <td>1747</td>\n      <td>0</td>\n      <td>-10</td>\n      <td>Jet</td>\n      <td>2</td>\n      <td>136</td>\n      <td>...</td>\n      <td>0</td>\n      <td>1.0</td>\n      <td>1.0</td>\n      <td>1.0</td>\n      <td>1.0</td>\n      <td>1.0</td>\n      <td>-0.781831</td>\n      <td>0.62349</td>\n      <td>0.932008</td>\n      <td>0.362438</td>\n    </tr>\n    <tr>\n      <th>5614966</th>\n      <td>DL</td>\n      <td>SFO</td>\n      <td>-3</td>\n      <td>268</td>\n      <td>2139</td>\n      <td>2</td>\n      <td>-8</td>\n      <td>Jet</td>\n      <td>2</td>\n      <td>141</td>\n      <td>...</td>\n      <td>0</td>\n      <td>1.0</td>\n      <td>1.0</td>\n      <td>1.0</td>\n      <td>1.0</td>\n      <td>1.0</td>\n      <td>-0.781831</td>\n      <td>0.62349</td>\n      <td>0.979045</td>\n      <td>0.203642</td>\n    </tr>\n    <tr>\n      <th>5616651</th>\n      <td>DL</td>\n      <td>SAN</td>\n      <td>-6</td>\n      <td>241</td>\n      <td>1892</td>\n      <td>2</td>\n      <td>-20</td>\n      <td>Jet</td>\n      <td>2</td>\n      <td>141</td>\n      <td>...</td>\n      <td>0</td>\n      <td>1.0</td>\n      <td>1.0</td>\n      <td>1.0</td>\n      <td>1.0</td>\n      <td>1.0</td>\n      <td>-0.781831</td>\n      <td>0.62349</td>\n      <td>0.999990</td>\n      <td>-0.004363</td>\n    </tr>\n    <tr>\n      <th>5616326</th>\n      <td>DL</td>\n      <td>SFO</td>\n      <td>-5</td>\n      <td>270</td>\n      <td>2139</td>\n      <td>2</td>\n      <td>-7</td>\n      <td>Jet</td>\n      <td>2</td>\n      <td>143</td>\n      <td>...</td>\n      <td>0</td>\n      <td>1.0</td>\n      <td>1.0</td>\n      <td>1.0</td>\n      <td>1.0</td>\n      <td>1.0</td>\n      <td>-0.781831</td>\n      <td>0.62349</td>\n      <td>0.999762</td>\n      <td>-0.021815</td>\n    </tr>\n    <tr>\n      <th>5613460</th>\n      <td>UA</td>\n      <td>SFO</td>\n      <td>6</td>\n      <td>278</td>\n      <td>2139</td>\n      <td>2</td>\n      <td>-6</td>\n      <td>Jet</td>\n      <td>2</td>\n      <td>141</td>\n      <td>...</td>\n      <td>0</td>\n      <td>1.0</td>\n      <td>1.0</td>\n      <td>1.0</td>\n      <td>1.0</td>\n      <td>1.0</td>\n      <td>-0.781831</td>\n      <td>0.62349</td>\n      <td>0.996195</td>\n      <td>-0.087156</td>\n    </tr>\n  </tbody>\n</table>\n<p>5 rows × 47 columns</p>\n</div>"
     },
     "execution_count": 266,
     "metadata": {},
     "output_type": "execute_result"
    }
   ],
   "source": [
    "# Dropping the older values for the cyclic encoded columns\n",
    "data = data.drop([\"ARR_MIN_OF_DAY\", \"ARR_DAY\"], axis=1)\n",
    "data.head()"
   ],
   "metadata": {
    "collapsed": false,
    "ExecuteTime": {
     "end_time": "2024-03-01T22:46:04.252539400Z",
     "start_time": "2024-03-01T22:46:04.162592600Z"
    }
   },
   "id": "866085d4db527945"
  },
  {
   "cell_type": "code",
   "execution_count": 267,
   "outputs": [
    {
     "data": {
      "text/plain": "5612585     101896.443604\n5614966     101896.443604\n5616651     101727.124156\n5616326     101727.124156\n5613460     101727.124156\n                ...      \n11289608    101862.579714\n11284363    101862.579714\n11283412    101862.579714\n11286614    101862.579714\n11291238    101862.579714\nName: alti, Length: 348136, dtype: float64"
     },
     "execution_count": 267,
     "metadata": {},
     "output_type": "execute_result"
    }
   ],
   "source": [
    "inchHg_to_pa(data[\"alti\"])"
   ],
   "metadata": {
    "collapsed": false,
    "ExecuteTime": {
     "end_time": "2024-03-01T22:46:04.281524900Z",
     "start_time": "2024-03-01T22:46:04.254538400Z"
    }
   },
   "id": "88f2e578028c2804"
  },
  {
   "cell_type": "code",
   "execution_count": 268,
   "outputs": [
    {
     "data": {
      "text/plain": "        OP_UNIQUE_CARRIER ORIGIN  DEP_DELAY  CRS_ELAPSED_TIME    DISTANCE  \\\n5612585                F9    LAS          0               230  2811.51698   \n5614966                DL    SFO         -3               268  3442.37826   \n5616651                DL    SAN         -6               241  3044.87128   \n5616326                DL    SFO         -5               270  3442.37826   \n5613460                UA    SFO          6               278  3442.37826   \n\n         PREV_FLIGHTS_1H  ARR_DELAY Physical Class (Engine)  Engines  \\\n5612585                0        -10                     Jet        2   \n5614966                2         -8                     Jet        2   \n5616651                2        -20                     Jet        2   \n5616326                2         -7                     Jet        2   \n5613460                2         -6                     Jet        2   \n\n         Approach Speed(Vref)  ... EVENT_TS  08L/26R  08R/26L  09L/27R  \\\n5612585               251.872  ...        0      1.0      1.0      1.0   \n5614966               261.132  ...        0      1.0      1.0      1.0   \n5616651               261.132  ...        0      1.0      1.0      1.0   \n5616326               264.836  ...        0      1.0      1.0      1.0   \n5613460               261.132  ...        0      1.0      1.0      1.0   \n\n         09R/27L  10/28  ARR_DAY_SIN  ARR_DAY_COS  ARR_MIN_OF_DAY_SIN  \\\n5612585      1.0    1.0    -0.781831      0.62349            0.932008   \n5614966      1.0    1.0    -0.781831      0.62349            0.979045   \n5616651      1.0    1.0    -0.781831      0.62349            0.999990   \n5616326      1.0    1.0    -0.781831      0.62349            0.999762   \n5613460      1.0    1.0    -0.781831      0.62349            0.996195   \n\n         ARR_MIN_OF_DAY_COS  \n5612585            0.362438  \n5614966            0.203642  \n5616651           -0.004363  \n5616326           -0.021815  \n5613460           -0.087156  \n\n[5 rows x 47 columns]",
      "text/html": "<div>\n<style scoped>\n    .dataframe tbody tr th:only-of-type {\n        vertical-align: middle;\n    }\n\n    .dataframe tbody tr th {\n        vertical-align: top;\n    }\n\n    .dataframe thead th {\n        text-align: right;\n    }\n</style>\n<table border=\"1\" class=\"dataframe\">\n  <thead>\n    <tr style=\"text-align: right;\">\n      <th></th>\n      <th>OP_UNIQUE_CARRIER</th>\n      <th>ORIGIN</th>\n      <th>DEP_DELAY</th>\n      <th>CRS_ELAPSED_TIME</th>\n      <th>DISTANCE</th>\n      <th>PREV_FLIGHTS_1H</th>\n      <th>ARR_DELAY</th>\n      <th>Physical Class (Engine)</th>\n      <th>Engines</th>\n      <th>Approach Speed(Vref)</th>\n      <th>...</th>\n      <th>EVENT_TS</th>\n      <th>08L/26R</th>\n      <th>08R/26L</th>\n      <th>09L/27R</th>\n      <th>09R/27L</th>\n      <th>10/28</th>\n      <th>ARR_DAY_SIN</th>\n      <th>ARR_DAY_COS</th>\n      <th>ARR_MIN_OF_DAY_SIN</th>\n      <th>ARR_MIN_OF_DAY_COS</th>\n    </tr>\n  </thead>\n  <tbody>\n    <tr>\n      <th>5612585</th>\n      <td>F9</td>\n      <td>LAS</td>\n      <td>0</td>\n      <td>230</td>\n      <td>2811.51698</td>\n      <td>0</td>\n      <td>-10</td>\n      <td>Jet</td>\n      <td>2</td>\n      <td>251.872</td>\n      <td>...</td>\n      <td>0</td>\n      <td>1.0</td>\n      <td>1.0</td>\n      <td>1.0</td>\n      <td>1.0</td>\n      <td>1.0</td>\n      <td>-0.781831</td>\n      <td>0.62349</td>\n      <td>0.932008</td>\n      <td>0.362438</td>\n    </tr>\n    <tr>\n      <th>5614966</th>\n      <td>DL</td>\n      <td>SFO</td>\n      <td>-3</td>\n      <td>268</td>\n      <td>3442.37826</td>\n      <td>2</td>\n      <td>-8</td>\n      <td>Jet</td>\n      <td>2</td>\n      <td>261.132</td>\n      <td>...</td>\n      <td>0</td>\n      <td>1.0</td>\n      <td>1.0</td>\n      <td>1.0</td>\n      <td>1.0</td>\n      <td>1.0</td>\n      <td>-0.781831</td>\n      <td>0.62349</td>\n      <td>0.979045</td>\n      <td>0.203642</td>\n    </tr>\n    <tr>\n      <th>5616651</th>\n      <td>DL</td>\n      <td>SAN</td>\n      <td>-6</td>\n      <td>241</td>\n      <td>3044.87128</td>\n      <td>2</td>\n      <td>-20</td>\n      <td>Jet</td>\n      <td>2</td>\n      <td>261.132</td>\n      <td>...</td>\n      <td>0</td>\n      <td>1.0</td>\n      <td>1.0</td>\n      <td>1.0</td>\n      <td>1.0</td>\n      <td>1.0</td>\n      <td>-0.781831</td>\n      <td>0.62349</td>\n      <td>0.999990</td>\n      <td>-0.004363</td>\n    </tr>\n    <tr>\n      <th>5616326</th>\n      <td>DL</td>\n      <td>SFO</td>\n      <td>-5</td>\n      <td>270</td>\n      <td>3442.37826</td>\n      <td>2</td>\n      <td>-7</td>\n      <td>Jet</td>\n      <td>2</td>\n      <td>264.836</td>\n      <td>...</td>\n      <td>0</td>\n      <td>1.0</td>\n      <td>1.0</td>\n      <td>1.0</td>\n      <td>1.0</td>\n      <td>1.0</td>\n      <td>-0.781831</td>\n      <td>0.62349</td>\n      <td>0.999762</td>\n      <td>-0.021815</td>\n    </tr>\n    <tr>\n      <th>5613460</th>\n      <td>UA</td>\n      <td>SFO</td>\n      <td>6</td>\n      <td>278</td>\n      <td>3442.37826</td>\n      <td>2</td>\n      <td>-6</td>\n      <td>Jet</td>\n      <td>2</td>\n      <td>261.132</td>\n      <td>...</td>\n      <td>0</td>\n      <td>1.0</td>\n      <td>1.0</td>\n      <td>1.0</td>\n      <td>1.0</td>\n      <td>1.0</td>\n      <td>-0.781831</td>\n      <td>0.62349</td>\n      <td>0.996195</td>\n      <td>-0.087156</td>\n    </tr>\n  </tbody>\n</table>\n<p>5 rows × 47 columns</p>\n</div>"
     },
     "execution_count": 268,
     "metadata": {},
     "output_type": "execute_result"
    }
   ],
   "source": [
    "# Converting imperial units to metric units\n",
    "\n",
    "F_cols = [\"tmpf\", \"dwpf\", \"feel\"]\n",
    "knt_cols = [\"sknt\", \"Approach Speed(Vref)\"]\n",
    "ft_cols = [\"Wingspan, ft\", \"Length, ft\", \"Tail Height, ft(@ OEW)\"]\n",
    "mile_cols = [\"DISTANCE\"]\n",
    "lb_cols = [\"MTOW\"]\n",
    "sqft_cols = [\"Parking Area (WS x Length), sf\"]\n",
    "inchHg_cols = [\"alti\"]\n",
    "\n",
    "for col in F_cols:\n",
    "    data[col] = F_to_C_deg(data[col])\n",
    "for col in knt_cols:\n",
    "    data[col] = knt_to_kmh(data[col])\n",
    "for col in ft_cols:\n",
    "    data[col] = ft_to_m(data[col])\n",
    "for col in mile_cols:\n",
    "    data[col] = mile_to_km(data[col])\n",
    "for col in lb_cols:\n",
    "    data[col] = lb_to_kg(data[col])\n",
    "for col in sqft_cols:\n",
    "    data[col] = sqft_to_sqm(data[col])\n",
    "for col in inchHg_cols:\n",
    "    data[col] = inchHg_to_pa(data[col])\n",
    "data.head()"
   ],
   "metadata": {
    "collapsed": false,
    "ExecuteTime": {
     "end_time": "2024-03-01T22:46:04.501397700Z",
     "start_time": "2024-03-01T22:46:04.443430500Z"
    }
   },
   "id": "65ea588fb4d4c668"
  },
  {
   "cell_type": "code",
   "execution_count": 269,
   "outputs": [
    {
     "data": {
      "text/plain": "        OP_UNIQUE_CARRIER ORIGIN  DEP_DELAY  CRS_ELAPSED_TIME    DISTANCE  \\\n5612585                F9    LAS          0               230  2811.51698   \n5614966                DL    SFO         -3               268  3442.37826   \n5616651                DL    SAN         -6               241  3044.87128   \n5616326                DL    SFO         -5               270  3442.37826   \n5613460                UA    SFO          6               278  3442.37826   \n\n         PREV_FLIGHTS_1H  ARR_DELAY  Engines  Approach Speed(Vref)  \\\n5612585                0        -10        2               251.872   \n5614966                2         -8        2               261.132   \n5616651                2        -20        2               261.132   \n5616326                2         -7        2               264.836   \n5613460                2         -6        2               261.132   \n\n         Wingspan, ft  ...  10/28  ARR_DAY_SIN  ARR_DAY_COS  \\\n5612585     34.101024  ...    1.0    -0.781831      0.62349   \n5614966     34.314384  ...    1.0    -0.781831      0.62349   \n5616651     34.314384  ...    1.0    -0.781831      0.62349   \n5616326     38.048184  ...    1.0    -0.781831      0.62349   \n5613460     34.314384  ...    1.0    -0.781831      0.62349   \n\n         ARR_MIN_OF_DAY_SIN  ARR_MIN_OF_DAY_COS  Jet  Turboprop  no winglets  \\\n5612585            0.932008            0.362438    1          0            0   \n5614966            0.979045            0.203642    1          0            1   \n5616651            0.999990           -0.004363    1          0            1   \n5616326            0.999762           -0.021815    1          0            1   \n5613460            0.996195           -0.087156    1          0            1   \n\n         winglets  wingtip fences  \n5612585         0               1  \n5614966         0               0  \n5616651         0               0  \n5616326         0               0  \n5613460         0               0  \n\n[5 rows x 50 columns]",
      "text/html": "<div>\n<style scoped>\n    .dataframe tbody tr th:only-of-type {\n        vertical-align: middle;\n    }\n\n    .dataframe tbody tr th {\n        vertical-align: top;\n    }\n\n    .dataframe thead th {\n        text-align: right;\n    }\n</style>\n<table border=\"1\" class=\"dataframe\">\n  <thead>\n    <tr style=\"text-align: right;\">\n      <th></th>\n      <th>OP_UNIQUE_CARRIER</th>\n      <th>ORIGIN</th>\n      <th>DEP_DELAY</th>\n      <th>CRS_ELAPSED_TIME</th>\n      <th>DISTANCE</th>\n      <th>PREV_FLIGHTS_1H</th>\n      <th>ARR_DELAY</th>\n      <th>Engines</th>\n      <th>Approach Speed(Vref)</th>\n      <th>Wingspan, ft</th>\n      <th>...</th>\n      <th>10/28</th>\n      <th>ARR_DAY_SIN</th>\n      <th>ARR_DAY_COS</th>\n      <th>ARR_MIN_OF_DAY_SIN</th>\n      <th>ARR_MIN_OF_DAY_COS</th>\n      <th>Jet</th>\n      <th>Turboprop</th>\n      <th>no winglets</th>\n      <th>winglets</th>\n      <th>wingtip fences</th>\n    </tr>\n  </thead>\n  <tbody>\n    <tr>\n      <th>5612585</th>\n      <td>F9</td>\n      <td>LAS</td>\n      <td>0</td>\n      <td>230</td>\n      <td>2811.51698</td>\n      <td>0</td>\n      <td>-10</td>\n      <td>2</td>\n      <td>251.872</td>\n      <td>34.101024</td>\n      <td>...</td>\n      <td>1.0</td>\n      <td>-0.781831</td>\n      <td>0.62349</td>\n      <td>0.932008</td>\n      <td>0.362438</td>\n      <td>1</td>\n      <td>0</td>\n      <td>0</td>\n      <td>0</td>\n      <td>1</td>\n    </tr>\n    <tr>\n      <th>5614966</th>\n      <td>DL</td>\n      <td>SFO</td>\n      <td>-3</td>\n      <td>268</td>\n      <td>3442.37826</td>\n      <td>2</td>\n      <td>-8</td>\n      <td>2</td>\n      <td>261.132</td>\n      <td>34.314384</td>\n      <td>...</td>\n      <td>1.0</td>\n      <td>-0.781831</td>\n      <td>0.62349</td>\n      <td>0.979045</td>\n      <td>0.203642</td>\n      <td>1</td>\n      <td>0</td>\n      <td>1</td>\n      <td>0</td>\n      <td>0</td>\n    </tr>\n    <tr>\n      <th>5616651</th>\n      <td>DL</td>\n      <td>SAN</td>\n      <td>-6</td>\n      <td>241</td>\n      <td>3044.87128</td>\n      <td>2</td>\n      <td>-20</td>\n      <td>2</td>\n      <td>261.132</td>\n      <td>34.314384</td>\n      <td>...</td>\n      <td>1.0</td>\n      <td>-0.781831</td>\n      <td>0.62349</td>\n      <td>0.999990</td>\n      <td>-0.004363</td>\n      <td>1</td>\n      <td>0</td>\n      <td>1</td>\n      <td>0</td>\n      <td>0</td>\n    </tr>\n    <tr>\n      <th>5616326</th>\n      <td>DL</td>\n      <td>SFO</td>\n      <td>-5</td>\n      <td>270</td>\n      <td>3442.37826</td>\n      <td>2</td>\n      <td>-7</td>\n      <td>2</td>\n      <td>264.836</td>\n      <td>38.048184</td>\n      <td>...</td>\n      <td>1.0</td>\n      <td>-0.781831</td>\n      <td>0.62349</td>\n      <td>0.999762</td>\n      <td>-0.021815</td>\n      <td>1</td>\n      <td>0</td>\n      <td>1</td>\n      <td>0</td>\n      <td>0</td>\n    </tr>\n    <tr>\n      <th>5613460</th>\n      <td>UA</td>\n      <td>SFO</td>\n      <td>6</td>\n      <td>278</td>\n      <td>3442.37826</td>\n      <td>2</td>\n      <td>-6</td>\n      <td>2</td>\n      <td>261.132</td>\n      <td>34.314384</td>\n      <td>...</td>\n      <td>1.0</td>\n      <td>-0.781831</td>\n      <td>0.62349</td>\n      <td>0.996195</td>\n      <td>-0.087156</td>\n      <td>1</td>\n      <td>0</td>\n      <td>1</td>\n      <td>0</td>\n      <td>0</td>\n    </tr>\n  </tbody>\n</table>\n<p>5 rows × 50 columns</p>\n</div>"
     },
     "execution_count": 269,
     "metadata": {},
     "output_type": "execute_result"
    }
   ],
   "source": [
    "# Create dummies for categorical columns\n",
    "data = data.join(pd.get_dummies(data[\"Physical Class (Engine)\"])).drop([\"Physical Class (Engine)\"],axis=1)\n",
    "data = data.join(pd.get_dummies(data[\"Wingtip Configuration\"])).drop([\"Wingtip Configuration\"],axis=1)\n",
    "data.head()"
   ],
   "metadata": {
    "collapsed": false,
    "ExecuteTime": {
     "end_time": "2024-03-01T22:46:04.827024400Z",
     "start_time": "2024-03-01T22:46:04.500397800Z"
    }
   },
   "id": "59c7f1bcf9700d15"
  },
  {
   "cell_type": "code",
   "execution_count": 270,
   "outputs": [
    {
     "data": {
      "text/plain": "        OP_UNIQUE_CARRIER ORIGIN  DEP_DELAY  CRS_ELAPSED_TIME    DISTANCE  \\\n5612585                F9    LAS          0               230  2811.51698   \n5614966                DL    SFO         -3               268  3442.37826   \n5616651                DL    SAN         -6               241  3044.87128   \n5616326                DL    SFO         -5               270  3442.37826   \n5613460                UA    SFO          6               278  3442.37826   \n\n         PREV_FLIGHTS_1H  ARR_DELAY  Engines  Approach Speed(Vref)  \\\n5612585                0        -10        2               251.872   \n5614966                2         -8        2               261.132   \n5616651                2        -20        2               261.132   \n5616326                2         -7        2               264.836   \n5613460                2         -6        2               261.132   \n\n         Wingspan, ft  ...  09R/27L  10/28  ARR_DAY_SIN  ARR_DAY_COS  \\\n5612585     34.101024  ...      1.0    1.0    -0.781831      0.62349   \n5614966     34.314384  ...      1.0    1.0    -0.781831      0.62349   \n5616651     34.314384  ...      1.0    1.0    -0.781831      0.62349   \n5616326     38.048184  ...      1.0    1.0    -0.781831      0.62349   \n5613460     34.314384  ...      1.0    1.0    -0.781831      0.62349   \n\n         ARR_MIN_OF_DAY_SIN  ARR_MIN_OF_DAY_COS  Jet  no winglets  winglets  \\\n5612585            0.932008            0.362438    1            0         1   \n5614966            0.979045            0.203642    1            1         0   \n5616651            0.999990           -0.004363    1            1         0   \n5616326            0.999762           -0.021815    1            1         0   \n5613460            0.996195           -0.087156    1            1         0   \n\n         wingtip fences  \n5612585               1  \n5614966               0  \n5616651               0  \n5616326               0  \n5613460               0  \n\n[5 rows x 49 columns]",
      "text/html": "<div>\n<style scoped>\n    .dataframe tbody tr th:only-of-type {\n        vertical-align: middle;\n    }\n\n    .dataframe tbody tr th {\n        vertical-align: top;\n    }\n\n    .dataframe thead th {\n        text-align: right;\n    }\n</style>\n<table border=\"1\" class=\"dataframe\">\n  <thead>\n    <tr style=\"text-align: right;\">\n      <th></th>\n      <th>OP_UNIQUE_CARRIER</th>\n      <th>ORIGIN</th>\n      <th>DEP_DELAY</th>\n      <th>CRS_ELAPSED_TIME</th>\n      <th>DISTANCE</th>\n      <th>PREV_FLIGHTS_1H</th>\n      <th>ARR_DELAY</th>\n      <th>Engines</th>\n      <th>Approach Speed(Vref)</th>\n      <th>Wingspan, ft</th>\n      <th>...</th>\n      <th>09R/27L</th>\n      <th>10/28</th>\n      <th>ARR_DAY_SIN</th>\n      <th>ARR_DAY_COS</th>\n      <th>ARR_MIN_OF_DAY_SIN</th>\n      <th>ARR_MIN_OF_DAY_COS</th>\n      <th>Jet</th>\n      <th>no winglets</th>\n      <th>winglets</th>\n      <th>wingtip fences</th>\n    </tr>\n  </thead>\n  <tbody>\n    <tr>\n      <th>5612585</th>\n      <td>F9</td>\n      <td>LAS</td>\n      <td>0</td>\n      <td>230</td>\n      <td>2811.51698</td>\n      <td>0</td>\n      <td>-10</td>\n      <td>2</td>\n      <td>251.872</td>\n      <td>34.101024</td>\n      <td>...</td>\n      <td>1.0</td>\n      <td>1.0</td>\n      <td>-0.781831</td>\n      <td>0.62349</td>\n      <td>0.932008</td>\n      <td>0.362438</td>\n      <td>1</td>\n      <td>0</td>\n      <td>1</td>\n      <td>1</td>\n    </tr>\n    <tr>\n      <th>5614966</th>\n      <td>DL</td>\n      <td>SFO</td>\n      <td>-3</td>\n      <td>268</td>\n      <td>3442.37826</td>\n      <td>2</td>\n      <td>-8</td>\n      <td>2</td>\n      <td>261.132</td>\n      <td>34.314384</td>\n      <td>...</td>\n      <td>1.0</td>\n      <td>1.0</td>\n      <td>-0.781831</td>\n      <td>0.62349</td>\n      <td>0.979045</td>\n      <td>0.203642</td>\n      <td>1</td>\n      <td>1</td>\n      <td>0</td>\n      <td>0</td>\n    </tr>\n    <tr>\n      <th>5616651</th>\n      <td>DL</td>\n      <td>SAN</td>\n      <td>-6</td>\n      <td>241</td>\n      <td>3044.87128</td>\n      <td>2</td>\n      <td>-20</td>\n      <td>2</td>\n      <td>261.132</td>\n      <td>34.314384</td>\n      <td>...</td>\n      <td>1.0</td>\n      <td>1.0</td>\n      <td>-0.781831</td>\n      <td>0.62349</td>\n      <td>0.999990</td>\n      <td>-0.004363</td>\n      <td>1</td>\n      <td>1</td>\n      <td>0</td>\n      <td>0</td>\n    </tr>\n    <tr>\n      <th>5616326</th>\n      <td>DL</td>\n      <td>SFO</td>\n      <td>-5</td>\n      <td>270</td>\n      <td>3442.37826</td>\n      <td>2</td>\n      <td>-7</td>\n      <td>2</td>\n      <td>264.836</td>\n      <td>38.048184</td>\n      <td>...</td>\n      <td>1.0</td>\n      <td>1.0</td>\n      <td>-0.781831</td>\n      <td>0.62349</td>\n      <td>0.999762</td>\n      <td>-0.021815</td>\n      <td>1</td>\n      <td>1</td>\n      <td>0</td>\n      <td>0</td>\n    </tr>\n    <tr>\n      <th>5613460</th>\n      <td>UA</td>\n      <td>SFO</td>\n      <td>6</td>\n      <td>278</td>\n      <td>3442.37826</td>\n      <td>2</td>\n      <td>-6</td>\n      <td>2</td>\n      <td>261.132</td>\n      <td>34.314384</td>\n      <td>...</td>\n      <td>1.0</td>\n      <td>1.0</td>\n      <td>-0.781831</td>\n      <td>0.62349</td>\n      <td>0.996195</td>\n      <td>-0.087156</td>\n      <td>1</td>\n      <td>1</td>\n      <td>0</td>\n      <td>0</td>\n    </tr>\n  </tbody>\n</table>\n<p>5 rows × 49 columns</p>\n</div>"
     },
     "execution_count": 270,
     "metadata": {},
     "output_type": "execute_result"
    }
   ],
   "source": [
    "# Fusing wingtip fences and winglets into one category\n",
    "data[\"winglets\"] = data[\"wingtip fences\"] + data[\"winglets\"]\n",
    "# Dropping turboprop since a no on jet means yes on prop\n",
    "data = data.drop([\"Turboprop\"], axis=1)\n",
    "data.head()"
   ],
   "metadata": {
    "collapsed": false,
    "ExecuteTime": {
     "end_time": "2024-03-01T22:46:04.966943800Z",
     "start_time": "2024-03-01T22:46:04.826024Z"
    }
   },
   "id": "22d282121949260c"
  },
  {
   "cell_type": "code",
   "execution_count": 271,
   "outputs": [
    {
     "data": {
      "text/plain": "        OP_UNIQUE_CARRIER ORIGIN  DEP_DELAY(MINS)  CRS_ELAPSED_TIME(MINS)  \\\n5612585                F9    LAS                0                     230   \n5614966                DL    SFO               -3                     268   \n5616651                DL    SAN               -6                     241   \n5616326                DL    SFO               -5                     270   \n5613460                UA    SFO                6                     278   \n\n         DISTANCE(KM)  NR_PREV_ARR_FLIGHTS(1HR)  ARR_DELAY_MINS  NR_ENGINES  \\\n5612585    2811.51698                         0             -10           2   \n5614966    3442.37826                         2              -8           2   \n5616651    3044.87128                         2             -20           2   \n5616326    3442.37826                         2              -7           2   \n5613460    3442.37826                         2              -6           2   \n\n         APPROACH_SPEED(KMH)  WINGSPAN(M)  ...  09R/27L  10/28  ARR_DAY_SIN  \\\n5612585              251.872    34.101024  ...      1.0    1.0    -0.781831   \n5614966              261.132    34.314384  ...      1.0    1.0    -0.781831   \n5616651              261.132    34.314384  ...      1.0    1.0    -0.781831   \n5616326              264.836    38.048184  ...      1.0    1.0    -0.781831   \n5613460              261.132    34.314384  ...      1.0    1.0    -0.781831   \n\n         ARR_DAY_COS  ARR_MIN_OF_DAY_SIN  ARR_MIN_OF_DAY_COS  JET(YN)  \\\n5612585      0.62349            0.932008            0.362438        1   \n5614966      0.62349            0.979045            0.203642        1   \n5616651      0.62349            0.999990           -0.004363        1   \n5616326      0.62349            0.999762           -0.021815        1   \n5613460      0.62349            0.996195           -0.087156        1   \n\n         WINGLETS(YN)  winglets  wingtip fences  \n5612585             0         1               1  \n5614966             1         0               0  \n5616651             1         0               0  \n5616326             1         0               0  \n5613460             1         0               0  \n\n[5 rows x 49 columns]",
      "text/html": "<div>\n<style scoped>\n    .dataframe tbody tr th:only-of-type {\n        vertical-align: middle;\n    }\n\n    .dataframe tbody tr th {\n        vertical-align: top;\n    }\n\n    .dataframe thead th {\n        text-align: right;\n    }\n</style>\n<table border=\"1\" class=\"dataframe\">\n  <thead>\n    <tr style=\"text-align: right;\">\n      <th></th>\n      <th>OP_UNIQUE_CARRIER</th>\n      <th>ORIGIN</th>\n      <th>DEP_DELAY(MINS)</th>\n      <th>CRS_ELAPSED_TIME(MINS)</th>\n      <th>DISTANCE(KM)</th>\n      <th>NR_PREV_ARR_FLIGHTS(1HR)</th>\n      <th>ARR_DELAY_MINS</th>\n      <th>NR_ENGINES</th>\n      <th>APPROACH_SPEED(KMH)</th>\n      <th>WINGSPAN(M)</th>\n      <th>...</th>\n      <th>09R/27L</th>\n      <th>10/28</th>\n      <th>ARR_DAY_SIN</th>\n      <th>ARR_DAY_COS</th>\n      <th>ARR_MIN_OF_DAY_SIN</th>\n      <th>ARR_MIN_OF_DAY_COS</th>\n      <th>JET(YN)</th>\n      <th>WINGLETS(YN)</th>\n      <th>winglets</th>\n      <th>wingtip fences</th>\n    </tr>\n  </thead>\n  <tbody>\n    <tr>\n      <th>5612585</th>\n      <td>F9</td>\n      <td>LAS</td>\n      <td>0</td>\n      <td>230</td>\n      <td>2811.51698</td>\n      <td>0</td>\n      <td>-10</td>\n      <td>2</td>\n      <td>251.872</td>\n      <td>34.101024</td>\n      <td>...</td>\n      <td>1.0</td>\n      <td>1.0</td>\n      <td>-0.781831</td>\n      <td>0.62349</td>\n      <td>0.932008</td>\n      <td>0.362438</td>\n      <td>1</td>\n      <td>0</td>\n      <td>1</td>\n      <td>1</td>\n    </tr>\n    <tr>\n      <th>5614966</th>\n      <td>DL</td>\n      <td>SFO</td>\n      <td>-3</td>\n      <td>268</td>\n      <td>3442.37826</td>\n      <td>2</td>\n      <td>-8</td>\n      <td>2</td>\n      <td>261.132</td>\n      <td>34.314384</td>\n      <td>...</td>\n      <td>1.0</td>\n      <td>1.0</td>\n      <td>-0.781831</td>\n      <td>0.62349</td>\n      <td>0.979045</td>\n      <td>0.203642</td>\n      <td>1</td>\n      <td>1</td>\n      <td>0</td>\n      <td>0</td>\n    </tr>\n    <tr>\n      <th>5616651</th>\n      <td>DL</td>\n      <td>SAN</td>\n      <td>-6</td>\n      <td>241</td>\n      <td>3044.87128</td>\n      <td>2</td>\n      <td>-20</td>\n      <td>2</td>\n      <td>261.132</td>\n      <td>34.314384</td>\n      <td>...</td>\n      <td>1.0</td>\n      <td>1.0</td>\n      <td>-0.781831</td>\n      <td>0.62349</td>\n      <td>0.999990</td>\n      <td>-0.004363</td>\n      <td>1</td>\n      <td>1</td>\n      <td>0</td>\n      <td>0</td>\n    </tr>\n    <tr>\n      <th>5616326</th>\n      <td>DL</td>\n      <td>SFO</td>\n      <td>-5</td>\n      <td>270</td>\n      <td>3442.37826</td>\n      <td>2</td>\n      <td>-7</td>\n      <td>2</td>\n      <td>264.836</td>\n      <td>38.048184</td>\n      <td>...</td>\n      <td>1.0</td>\n      <td>1.0</td>\n      <td>-0.781831</td>\n      <td>0.62349</td>\n      <td>0.999762</td>\n      <td>-0.021815</td>\n      <td>1</td>\n      <td>1</td>\n      <td>0</td>\n      <td>0</td>\n    </tr>\n    <tr>\n      <th>5613460</th>\n      <td>UA</td>\n      <td>SFO</td>\n      <td>6</td>\n      <td>278</td>\n      <td>3442.37826</td>\n      <td>2</td>\n      <td>-6</td>\n      <td>2</td>\n      <td>261.132</td>\n      <td>34.314384</td>\n      <td>...</td>\n      <td>1.0</td>\n      <td>1.0</td>\n      <td>-0.781831</td>\n      <td>0.62349</td>\n      <td>0.996195</td>\n      <td>-0.087156</td>\n      <td>1</td>\n      <td>1</td>\n      <td>0</td>\n      <td>0</td>\n    </tr>\n  </tbody>\n</table>\n<p>5 rows × 49 columns</p>\n</div>"
     },
     "execution_count": 271,
     "metadata": {},
     "output_type": "execute_result"
    }
   ],
   "source": [
    "# Standard naming for all columns\n",
    "rename_dict = {\n",
    "    \"Jet\": \"JET(YN)\",\n",
    "    \"no winglets\": \"WINGLETS(YN)\",\n",
    "    \"CRS_ELAPSED_TIME\": \"CRS_ELAPSED_TIME(MINS)\",\n",
    "    \"DISTANCE\": \"DISTANCE(KM)\",\n",
    "    \"PREV_FLIGHTS_1H\": \"NR_PREV_ARR_FLIGHTS(1HR)\",\n",
    "    \"Engines\": \"NR_ENGINES\",\n",
    "    \"Approach Speed(Vref)\": \"APPROACH_SPEED(KMH)\",\n",
    "    \"Wingspan, ft\": \"WINGSPAN(M)\",\n",
    "    \"Length, ft\": \"LENGTH(M)\",\n",
    "    \"Tail Height, ft(@ OEW)\": \"TAIL_HEIGHT(M)\",\n",
    "    \"Parking Area (WS x Length), sf\": \"PARKING_AREA(SQM)\",\n",
    "    \"Jet\" : \"JET(YN)\",\n",
    "    \"winglet\" : \"WINGLETS(YN)\",\n",
    "    \"MTOW\": \"MTOW(KG)\",\n",
    "    \"tmpf\": \"TEMP(C)\",\n",
    "    \"dwpf\": \"DEWPOINT_TEMP(C)\",\n",
    "    \"relh\": \"REL_HUMIDITY(PERCENT)\",\n",
    "    \"alti\": \"ALTIMETER(PA)\",\n",
    "    \"drct\": \"WIND_DRCT(DEG)\",\n",
    "    \"sknt\": \"WIND_SPEED(KMH)\",\n",
    "    \"p01i\": \"1HOUR_PRECIPITATION(INCH)\",\n",
    "    \"mslp\": \"SEA_LEVEL_PRESSURE(MILLIBAR)\",\n",
    "    \"vsby\": \"VISIBILITY(MILES)\",\n",
    "    \"feel\": \"FELT_TEMP(C)\",\n",
    "    \"DEP_DELAY\": \"DEP_DELAY(MINS)\",\n",
    "    \"ARR_DELAY\": \"ARR_DELAY_MINS\"\n",
    "}\n",
    "data = data.rename(columns=rename_dict)\n",
    "data.head()"
   ],
   "metadata": {
    "collapsed": false,
    "ExecuteTime": {
     "end_time": "2024-03-01T22:46:05.132847900Z",
     "start_time": "2024-03-01T22:46:04.930963600Z"
    }
   },
   "id": "a6262b7f5091f2b7"
  },
  {
   "cell_type": "code",
   "execution_count": 272,
   "outputs": [
    {
     "data": {
      "text/plain": "         OP_UNIQUE_CARRIER ORIGIN  CRS_ELAPSED_TIME(MINS)  DISTANCE(KM)  \\\n5612585                 F9    LAS                     230    2811.51698   \n5614966                 DL    SFO                     268    3442.37826   \n5616651                 DL    SAN                     241    3044.87128   \n5616326                 DL    SFO                     270    3442.37826   \n5613460                 UA    SFO                     278    3442.37826   \n...                    ...    ...                     ...           ...   \n11289608                NK    BWI                     122     928.58918   \n11284363                WN    MDW                     110     951.11994   \n11283412                WN    DEN                     170    1929.59866   \n11286614                B6    BOS                     179    1522.43564   \n11291238                DL    MSP                     163    1459.67138   \n\n          NR_PREV_ARR_FLIGHTS(1HR)  ARR_DAY_SIN  ARR_DAY_COS  \\\n5612585                          0    -0.781831      0.62349   \n5614966                          2    -0.781831      0.62349   \n5616651                          2    -0.781831      0.62349   \n5616326                          2    -0.781831      0.62349   \n5613460                          2    -0.781831      0.62349   \n...                            ...          ...          ...   \n11289608                         8    -0.781831      0.62349   \n11284363                         8    -0.781831      0.62349   \n11283412                         8    -0.781831      0.62349   \n11286614                        11    -0.781831      0.62349   \n11291238                        12    -0.781831      0.62349   \n\n          ARR_MIN_OF_DAY_SIN  ARR_MIN_OF_DAY_COS  DEP_DELAY(MINS)  ...  \\\n5612585             0.932008            0.362438                0  ...   \n5614966             0.979045            0.203642               -3  ...   \n5616651             0.999990           -0.004363               -6  ...   \n5616326             0.999762           -0.021815               -5  ...   \n5613460             0.996195           -0.087156                6  ...   \n...                      ...                 ...              ...  ...   \n11289608           -0.100188            0.994969               -5  ...   \n11284363           -0.065403            0.997859               20  ...   \n11283412           -0.065403            0.997859               43  ...   \n11286614           -0.047978            0.998848               43  ...   \n11291238           -0.008727            0.999962               -1  ...   \n\n          EVENT_IC  EVENT_RA  EVENT_SN  EVENT_TS  08L/26R  08R/26L  09L/27R  \\\n5612585          0         1         0         0      1.0      1.0      1.0   \n5614966          0         1         0         0      1.0      1.0      1.0   \n5616651          0         1         0         0      1.0      1.0      1.0   \n5616326          0         1         0         0      1.0      1.0      1.0   \n5613460          0         1         0         0      1.0      1.0      1.0   \n...            ...       ...       ...       ...      ...      ...      ...   \n11289608         0         0         0         0      0.0      0.0      0.0   \n11284363         0         0         0         0      0.0      0.0      0.0   \n11283412         0         0         0         0      0.0      0.0      0.0   \n11286614         0         0         0         0      0.0      0.0      0.0   \n11291238         0         0         0         0      0.0      0.0      0.0   \n\n          09R/27L  10/28  ARR_DELAY_MINS  \n5612585       1.0    1.0             -10  \n5614966       1.0    1.0              -8  \n5616651       1.0    1.0             -20  \n5616326       1.0    1.0              -7  \n5613460       1.0    1.0              -6  \n...           ...    ...             ...  \n11289608      0.0    0.0             -10  \n11284363      0.0    0.0               5  \n11283412      0.0    0.0              17  \n11286614      0.0    0.0              30  \n11291238      0.0    0.0             -29  \n\n[348136 rows x 46 columns]",
      "text/html": "<div>\n<style scoped>\n    .dataframe tbody tr th:only-of-type {\n        vertical-align: middle;\n    }\n\n    .dataframe tbody tr th {\n        vertical-align: top;\n    }\n\n    .dataframe thead th {\n        text-align: right;\n    }\n</style>\n<table border=\"1\" class=\"dataframe\">\n  <thead>\n    <tr style=\"text-align: right;\">\n      <th></th>\n      <th>OP_UNIQUE_CARRIER</th>\n      <th>ORIGIN</th>\n      <th>CRS_ELAPSED_TIME(MINS)</th>\n      <th>DISTANCE(KM)</th>\n      <th>NR_PREV_ARR_FLIGHTS(1HR)</th>\n      <th>ARR_DAY_SIN</th>\n      <th>ARR_DAY_COS</th>\n      <th>ARR_MIN_OF_DAY_SIN</th>\n      <th>ARR_MIN_OF_DAY_COS</th>\n      <th>DEP_DELAY(MINS)</th>\n      <th>...</th>\n      <th>EVENT_IC</th>\n      <th>EVENT_RA</th>\n      <th>EVENT_SN</th>\n      <th>EVENT_TS</th>\n      <th>08L/26R</th>\n      <th>08R/26L</th>\n      <th>09L/27R</th>\n      <th>09R/27L</th>\n      <th>10/28</th>\n      <th>ARR_DELAY_MINS</th>\n    </tr>\n  </thead>\n  <tbody>\n    <tr>\n      <th>5612585</th>\n      <td>F9</td>\n      <td>LAS</td>\n      <td>230</td>\n      <td>2811.51698</td>\n      <td>0</td>\n      <td>-0.781831</td>\n      <td>0.62349</td>\n      <td>0.932008</td>\n      <td>0.362438</td>\n      <td>0</td>\n      <td>...</td>\n      <td>0</td>\n      <td>1</td>\n      <td>0</td>\n      <td>0</td>\n      <td>1.0</td>\n      <td>1.0</td>\n      <td>1.0</td>\n      <td>1.0</td>\n      <td>1.0</td>\n      <td>-10</td>\n    </tr>\n    <tr>\n      <th>5614966</th>\n      <td>DL</td>\n      <td>SFO</td>\n      <td>268</td>\n      <td>3442.37826</td>\n      <td>2</td>\n      <td>-0.781831</td>\n      <td>0.62349</td>\n      <td>0.979045</td>\n      <td>0.203642</td>\n      <td>-3</td>\n      <td>...</td>\n      <td>0</td>\n      <td>1</td>\n      <td>0</td>\n      <td>0</td>\n      <td>1.0</td>\n      <td>1.0</td>\n      <td>1.0</td>\n      <td>1.0</td>\n      <td>1.0</td>\n      <td>-8</td>\n    </tr>\n    <tr>\n      <th>5616651</th>\n      <td>DL</td>\n      <td>SAN</td>\n      <td>241</td>\n      <td>3044.87128</td>\n      <td>2</td>\n      <td>-0.781831</td>\n      <td>0.62349</td>\n      <td>0.999990</td>\n      <td>-0.004363</td>\n      <td>-6</td>\n      <td>...</td>\n      <td>0</td>\n      <td>1</td>\n      <td>0</td>\n      <td>0</td>\n      <td>1.0</td>\n      <td>1.0</td>\n      <td>1.0</td>\n      <td>1.0</td>\n      <td>1.0</td>\n      <td>-20</td>\n    </tr>\n    <tr>\n      <th>5616326</th>\n      <td>DL</td>\n      <td>SFO</td>\n      <td>270</td>\n      <td>3442.37826</td>\n      <td>2</td>\n      <td>-0.781831</td>\n      <td>0.62349</td>\n      <td>0.999762</td>\n      <td>-0.021815</td>\n      <td>-5</td>\n      <td>...</td>\n      <td>0</td>\n      <td>1</td>\n      <td>0</td>\n      <td>0</td>\n      <td>1.0</td>\n      <td>1.0</td>\n      <td>1.0</td>\n      <td>1.0</td>\n      <td>1.0</td>\n      <td>-7</td>\n    </tr>\n    <tr>\n      <th>5613460</th>\n      <td>UA</td>\n      <td>SFO</td>\n      <td>278</td>\n      <td>3442.37826</td>\n      <td>2</td>\n      <td>-0.781831</td>\n      <td>0.62349</td>\n      <td>0.996195</td>\n      <td>-0.087156</td>\n      <td>6</td>\n      <td>...</td>\n      <td>0</td>\n      <td>1</td>\n      <td>0</td>\n      <td>0</td>\n      <td>1.0</td>\n      <td>1.0</td>\n      <td>1.0</td>\n      <td>1.0</td>\n      <td>1.0</td>\n      <td>-6</td>\n    </tr>\n    <tr>\n      <th>...</th>\n      <td>...</td>\n      <td>...</td>\n      <td>...</td>\n      <td>...</td>\n      <td>...</td>\n      <td>...</td>\n      <td>...</td>\n      <td>...</td>\n      <td>...</td>\n      <td>...</td>\n      <td>...</td>\n      <td>...</td>\n      <td>...</td>\n      <td>...</td>\n      <td>...</td>\n      <td>...</td>\n      <td>...</td>\n      <td>...</td>\n      <td>...</td>\n      <td>...</td>\n      <td>...</td>\n    </tr>\n    <tr>\n      <th>11289608</th>\n      <td>NK</td>\n      <td>BWI</td>\n      <td>122</td>\n      <td>928.58918</td>\n      <td>8</td>\n      <td>-0.781831</td>\n      <td>0.62349</td>\n      <td>-0.100188</td>\n      <td>0.994969</td>\n      <td>-5</td>\n      <td>...</td>\n      <td>0</td>\n      <td>0</td>\n      <td>0</td>\n      <td>0</td>\n      <td>0.0</td>\n      <td>0.0</td>\n      <td>0.0</td>\n      <td>0.0</td>\n      <td>0.0</td>\n      <td>-10</td>\n    </tr>\n    <tr>\n      <th>11284363</th>\n      <td>WN</td>\n      <td>MDW</td>\n      <td>110</td>\n      <td>951.11994</td>\n      <td>8</td>\n      <td>-0.781831</td>\n      <td>0.62349</td>\n      <td>-0.065403</td>\n      <td>0.997859</td>\n      <td>20</td>\n      <td>...</td>\n      <td>0</td>\n      <td>0</td>\n      <td>0</td>\n      <td>0</td>\n      <td>0.0</td>\n      <td>0.0</td>\n      <td>0.0</td>\n      <td>0.0</td>\n      <td>0.0</td>\n      <td>5</td>\n    </tr>\n    <tr>\n      <th>11283412</th>\n      <td>WN</td>\n      <td>DEN</td>\n      <td>170</td>\n      <td>1929.59866</td>\n      <td>8</td>\n      <td>-0.781831</td>\n      <td>0.62349</td>\n      <td>-0.065403</td>\n      <td>0.997859</td>\n      <td>43</td>\n      <td>...</td>\n      <td>0</td>\n      <td>0</td>\n      <td>0</td>\n      <td>0</td>\n      <td>0.0</td>\n      <td>0.0</td>\n      <td>0.0</td>\n      <td>0.0</td>\n      <td>0.0</td>\n      <td>17</td>\n    </tr>\n    <tr>\n      <th>11286614</th>\n      <td>B6</td>\n      <td>BOS</td>\n      <td>179</td>\n      <td>1522.43564</td>\n      <td>11</td>\n      <td>-0.781831</td>\n      <td>0.62349</td>\n      <td>-0.047978</td>\n      <td>0.998848</td>\n      <td>43</td>\n      <td>...</td>\n      <td>0</td>\n      <td>0</td>\n      <td>0</td>\n      <td>0</td>\n      <td>0.0</td>\n      <td>0.0</td>\n      <td>0.0</td>\n      <td>0.0</td>\n      <td>0.0</td>\n      <td>30</td>\n    </tr>\n    <tr>\n      <th>11291238</th>\n      <td>DL</td>\n      <td>MSP</td>\n      <td>163</td>\n      <td>1459.67138</td>\n      <td>12</td>\n      <td>-0.781831</td>\n      <td>0.62349</td>\n      <td>-0.008727</td>\n      <td>0.999962</td>\n      <td>-1</td>\n      <td>...</td>\n      <td>0</td>\n      <td>0</td>\n      <td>0</td>\n      <td>0</td>\n      <td>0.0</td>\n      <td>0.0</td>\n      <td>0.0</td>\n      <td>0.0</td>\n      <td>0.0</td>\n      <td>-29</td>\n    </tr>\n  </tbody>\n</table>\n<p>348136 rows × 46 columns</p>\n</div>"
     },
     "execution_count": 272,
     "metadata": {},
     "output_type": "execute_result"
    }
   ],
   "source": [
    "# Making the order of columns more convenient. (Thematically ordered)\n",
    "cols = ['OP_UNIQUE_CARRIER',\n",
    "        'ORIGIN', \n",
    "        'CRS_ELAPSED_TIME(MINS)',\n",
    "        'DISTANCE(KM)',\n",
    "        'NR_PREV_ARR_FLIGHTS(1HR)',\n",
    "        'ARR_DAY_SIN',\n",
    "        'ARR_DAY_COS',\n",
    "        'ARR_MIN_OF_DAY_SIN',\n",
    "        'ARR_MIN_OF_DAY_COS',\n",
    "        'DEP_DELAY(MINS)',\n",
    "        'NR_ENGINES',\n",
    "        'APPROACH_SPEED(KMH)',\n",
    "        'WINGSPAN(M)',\n",
    "        'LENGTH(M)',\n",
    "        'TAIL_HEIGHT(M)',\n",
    "        'PARKING_AREA(SQM)',\n",
    "        'MTOW(KG)',\n",
    "        'JET(YN)',\n",
    "        'WINGLETS(YN)',\n",
    "        'TEMP(C)',\n",
    "        'DEWPOINT_TEMP(C)',\n",
    "        'FELT_TEMP(C)',\n",
    "        'REL_HUMIDITY(PERCENT)',\n",
    "        'ALTIMETER(PA)',\n",
    "        'WIND_DRCT(DEG)',\n",
    "        'WIND_SPEED(KMH)',\n",
    "        '1HOUR_PRECIPITATION(INCH)',\n",
    "        'SEA_LEVEL_PRESSURE(MILLIBAR)',\n",
    "        'VISIBILITY(MILES)',\n",
    "        'EVENT_BR',\n",
    "        'EVENT_DZ',\n",
    "        'EVENT_FG',\n",
    "        'EVENT_FU',\n",
    "        'EVENT_GR',\n",
    "        'EVENT_GS',\n",
    "        'EVENT_HZ',\n",
    "        'EVENT_IC',\n",
    "        'EVENT_RA',\n",
    "        'EVENT_SN',\n",
    "        'EVENT_TS',\n",
    "        '08L/26R',\n",
    "        '08R/26L',\n",
    "        '09L/27R',\n",
    "        '09R/27L',\n",
    "        '10/28',\n",
    "        'ARR_DELAY_MINS']\n",
    "\n",
    "data = data[cols]\n",
    "data"
   ],
   "metadata": {
    "collapsed": false,
    "ExecuteTime": {
     "end_time": "2024-03-01T22:46:05.391700400Z",
     "start_time": "2024-03-01T22:46:05.134847400Z"
    }
   },
   "id": "edd66ace95c13820"
  },
  {
   "cell_type": "code",
   "execution_count": 275,
   "outputs": [
    {
     "name": "stdout",
     "output_type": "stream",
     "text": [
      "Length comparison: (26/46)\n"
     ]
    }
   ],
   "source": [
    "# Checking for mistakes\n",
    "# Both lists should have same length\n",
    "print(f\"Length comparison: ({len(rename_dict.keys())}/{len(cols)})\")"
   ],
   "metadata": {
    "collapsed": false,
    "ExecuteTime": {
     "end_time": "2024-03-01T22:52:00.912131700Z",
     "start_time": "2024-03-01T22:52:00.878151500Z"
    }
   },
   "id": "b289308837736c50"
  },
  {
   "cell_type": "code",
   "execution_count": 281,
   "outputs": [
    {
     "data": {
      "text/plain": "46"
     },
     "execution_count": 281,
     "metadata": {},
     "output_type": "execute_result"
    }
   ],
   "source": [
    "len(list(cols))"
   ],
   "metadata": {
    "collapsed": false,
    "ExecuteTime": {
     "end_time": "2024-03-01T22:53:13.195248600Z",
     "start_time": "2024-03-01T22:53:13.159270100Z"
    }
   },
   "id": "1da7e5fba349e8f"
  },
  {
   "cell_type": "code",
   "execution_count": null,
   "outputs": [],
   "source": [],
   "metadata": {
    "collapsed": false
   },
   "id": "913eb3b6750fb50e"
  }
 ],
 "metadata": {
  "kernelspec": {
   "display_name": "Python 3",
   "language": "python",
   "name": "python3"
  },
  "language_info": {
   "codemirror_mode": {
    "name": "ipython",
    "version": 2
   },
   "file_extension": ".py",
   "mimetype": "text/x-python",
   "name": "python",
   "nbconvert_exporter": "python",
   "pygments_lexer": "ipython2",
   "version": "2.7.6"
  }
 },
 "nbformat": 4,
 "nbformat_minor": 5
}
