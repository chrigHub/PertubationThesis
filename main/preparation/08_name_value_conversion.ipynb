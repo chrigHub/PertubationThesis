{
 "cells": [
  {
   "cell_type": "markdown",
   "source": [
    "# Name Conversion\n",
    "\n",
    "This file is used to further refine the merged dataset with all relevant columns such that their names are easier identifiable.\n",
    "\n",
    "The following logic applies: \n",
    "\n",
    "\"drct\" : \"WIND_DRCT(DEG)\",\n",
    "\"sknt\" : \"WIND_SPEED(KMH)\",\n",
    "\"p01i\" : \"1HOUR_PRECIPITATION(INCH)\",\n",
    "    \"mslp\" : \"SEA_LEVEL_PRESSURE(MILLIBAR)\","
   ],
   "metadata": {
    "collapsed": false
   },
   "id": "c350fb1daed19f0e"
  },
  {
   "cell_type": "code",
   "execution_count": 1,
   "outputs": [],
   "source": [
    "import pandas as pd\n",
    "import numpy as np\n",
    "import os\n",
    "\n",
    "# Variables\n",
    "ROOT_PATH = os.path.abspath(\"../../\")\n",
    "PREP_FOLDER = os.path.join(ROOT_PATH, \"data/preparation/prepped_files\")\n",
    "\n",
    "\n",
    "# FUNCTIONS\n",
    "def check_for_nan_cols(df: pd.DataFrame):\n",
    "    assert isinstance(df, pd.DataFrame), f\"Expected type pd.DataFrame. Got {type(df)}\"\n",
    "\n",
    "    for col in df.columns:\n",
    "        nr_null = sum(df[col].isnull())\n",
    "        length = len(df[col])\n",
    "        print(f\"{col}:\\n\\t{nr_null}/{length}\\t({(nr_null / length) * 100:.2f}%)\\n\")\n",
    "\n",
    "\n",
    "def check_dtype_of_cols(df: pd.DataFrame):\n",
    "    assert isinstance(df, pd.DataFrame), f\"Expected type pd.DataFrame. Got {type(df)}\"\n",
    "\n",
    "    for col in df.columns:\n",
    "        print(f\"{col}:\\n\\t{df[col].dtype}\")\n",
    "\n",
    "\n",
    "def encode(df, col, max_val):\n",
    "    df[col + '_SIN'] = np.sin(2 * np.pi * df[col] / max_val)\n",
    "    df[col + '_COS'] = np.cos(2 * np.pi * df[col] / max_val)\n",
    "    return df\n",
    "\n",
    "\n",
    "def F_to_C_deg(series):\n",
    "    return (series - 32) * (5 / 9)\n",
    "\n",
    "\n",
    "def knt_to_kmh(series):\n",
    "    return series * 1.852\n",
    "\n",
    "\n",
    "def ft_to_m(series):\n",
    "    return series * 0.3048\n",
    "\n",
    "\n",
    "def mile_to_km(series):\n",
    "    return series * 1.60934\n",
    "\n",
    "\n",
    "def lb_to_kg(series):\n",
    "    return series * 0.453592\n",
    "\n",
    "\n",
    "def sqft_to_sqm(series):\n",
    "    return series / 10.764\n",
    "\n",
    "def inchHg_to_pa(series):\n",
    "    return series * 3386.3889532610883"
   ],
   "metadata": {
    "collapsed": false,
    "ExecuteTime": {
     "end_time": "2024-03-24T14:55:59.986820100Z",
     "start_time": "2024-03-24T14:55:59.145821Z"
    }
   },
   "id": "bf1779dd87303435"
  },
  {
   "cell_type": "code",
   "execution_count": 2,
   "outputs": [
    {
     "data": {
      "text/plain": "          OP_UNIQUE_CARRIER  ORIGIN  DEP_DELAY  CRS_ELAPSED_TIME  DISTANCE  \\\n5626534               -11.0    -8.0         -2             223.0    1590.0   \n5627321                -8.0    -8.0         -4              88.0     404.0   \n5622325                -8.0    -7.0        302              57.0     106.0   \n5626430               -11.0    -9.0         -2              98.0     447.0   \n5625623               -11.0    -9.0         -4              76.0     226.0   \n...                     ...     ...        ...               ...       ...   \n11291377              -11.0    -9.0        -11             220.0    1747.0   \n11292052              -11.0    -6.0         -2             264.0    2092.0   \n11290999              -11.0    -5.0         -1             246.0    1947.0   \n11290527              -11.0   -11.0         -4             276.0    2139.0   \n11290612              -11.0   -14.0         -5             520.0    4502.0   \n\n                CRS_DEP_DATE        CRS_ARR_DATE        ACT_DEP_DATE  \\\n5626534  2017-01-01 00:55:00 2017-01-01 06:38:00 2017-01-01 00:53:00   \n5627321  2017-01-01 05:15:00 2017-01-01 06:43:00 2017-01-01 05:11:00   \n5622325  2017-01-01 05:49:00 2017-01-01 06:46:00 2017-01-01 10:51:00   \n5626430  2017-01-01 05:30:00 2017-01-01 07:08:00 2017-01-01 05:28:00   \n5625623  2017-01-01 06:00:00 2017-01-01 07:16:00 2017-01-01 05:56:00   \n...                      ...                 ...                 ...   \n11291377 2017-12-31 23:59:00 2018-01-01 06:39:00 2017-12-31 23:48:00   \n11292052 2017-12-31 23:25:00 2018-01-01 06:49:00 2017-12-31 23:23:00   \n11290999 2017-12-31 23:59:00 2018-01-01 07:05:00 2017-12-31 23:58:00   \n11290527 2017-12-31 23:30:00 2018-01-01 07:06:00 2017-12-31 23:26:00   \n11290612 2017-12-31 17:55:00 2018-01-01 07:35:00 2017-12-31 17:50:00   \n\n                ACT_ARR_DATE  PREV_FLIGHTS_1H  ...  EVENT_IC EVENT_RA  \\\n5626534  2017-01-01 06:31:00                4  ...         0        1   \n5627321  2017-01-01 06:32:00                5  ...         0        1   \n5622325  2017-01-01 12:19:00                7  ...         0        1   \n5626430  2017-01-01 07:19:00                6  ...         0        1   \n5625623  2017-01-01 07:08:00                7  ...         0        1   \n...                      ...              ...  ...       ...      ...   \n11291377 2018-01-01 06:19:00                2  ...         0        0   \n11292052 2018-01-01 06:23:00                2  ...         0        0   \n11290999 2018-01-01 07:05:00                3  ...         0        0   \n11290527 2018-01-01 06:33:00                4  ...         0        0   \n11290612 2018-01-01 06:56:00                5  ...         0        0   \n\n          EVENT_SG  EVENT_SN EVENT_TS  08L/26R  08R/26L  09L/27R  09R/27L  \\\n5626534          0         0        0      1.0      1.0      1.0      1.0   \n5627321          0         0        0      1.0      1.0      1.0      1.0   \n5622325          0         0        0      1.0      1.0      1.0      1.0   \n5626430          0         0        0      1.0      1.0      1.0      1.0   \n5625623          0         0        0      1.0      1.0      1.0      1.0   \n...            ...       ...      ...      ...      ...      ...      ...   \n11291377         0         0        0      0.0      0.0      0.0      0.0   \n11292052         0         0        0      0.0      0.0      0.0      0.0   \n11290999         0         0        0      0.0      0.0      0.0      0.0   \n11290527         0         0        0      0.0      0.0      0.0      0.0   \n11290612         0         0        0      0.0      0.0      0.0      0.0   \n\n          10/28  \n5626534     1.0  \n5627321     1.0  \n5622325     1.0  \n5626430     1.0  \n5625623     1.0  \n...         ...  \n11291377    0.0  \n11292052    0.0  \n11290999    0.0  \n11290527    0.0  \n11290612    0.0  \n\n[348140 rows x 47 columns]",
      "text/html": "<div>\n<style scoped>\n    .dataframe tbody tr th:only-of-type {\n        vertical-align: middle;\n    }\n\n    .dataframe tbody tr th {\n        vertical-align: top;\n    }\n\n    .dataframe thead th {\n        text-align: right;\n    }\n</style>\n<table border=\"1\" class=\"dataframe\">\n  <thead>\n    <tr style=\"text-align: right;\">\n      <th></th>\n      <th>OP_UNIQUE_CARRIER</th>\n      <th>ORIGIN</th>\n      <th>DEP_DELAY</th>\n      <th>CRS_ELAPSED_TIME</th>\n      <th>DISTANCE</th>\n      <th>CRS_DEP_DATE</th>\n      <th>CRS_ARR_DATE</th>\n      <th>ACT_DEP_DATE</th>\n      <th>ACT_ARR_DATE</th>\n      <th>PREV_FLIGHTS_1H</th>\n      <th>...</th>\n      <th>EVENT_IC</th>\n      <th>EVENT_RA</th>\n      <th>EVENT_SG</th>\n      <th>EVENT_SN</th>\n      <th>EVENT_TS</th>\n      <th>08L/26R</th>\n      <th>08R/26L</th>\n      <th>09L/27R</th>\n      <th>09R/27L</th>\n      <th>10/28</th>\n    </tr>\n  </thead>\n  <tbody>\n    <tr>\n      <th>5626534</th>\n      <td>-11.0</td>\n      <td>-8.0</td>\n      <td>-2</td>\n      <td>223.0</td>\n      <td>1590.0</td>\n      <td>2017-01-01 00:55:00</td>\n      <td>2017-01-01 06:38:00</td>\n      <td>2017-01-01 00:53:00</td>\n      <td>2017-01-01 06:31:00</td>\n      <td>4</td>\n      <td>...</td>\n      <td>0</td>\n      <td>1</td>\n      <td>0</td>\n      <td>0</td>\n      <td>0</td>\n      <td>1.0</td>\n      <td>1.0</td>\n      <td>1.0</td>\n      <td>1.0</td>\n      <td>1.0</td>\n    </tr>\n    <tr>\n      <th>5627321</th>\n      <td>-8.0</td>\n      <td>-8.0</td>\n      <td>-4</td>\n      <td>88.0</td>\n      <td>404.0</td>\n      <td>2017-01-01 05:15:00</td>\n      <td>2017-01-01 06:43:00</td>\n      <td>2017-01-01 05:11:00</td>\n      <td>2017-01-01 06:32:00</td>\n      <td>5</td>\n      <td>...</td>\n      <td>0</td>\n      <td>1</td>\n      <td>0</td>\n      <td>0</td>\n      <td>0</td>\n      <td>1.0</td>\n      <td>1.0</td>\n      <td>1.0</td>\n      <td>1.0</td>\n      <td>1.0</td>\n    </tr>\n    <tr>\n      <th>5622325</th>\n      <td>-8.0</td>\n      <td>-7.0</td>\n      <td>302</td>\n      <td>57.0</td>\n      <td>106.0</td>\n      <td>2017-01-01 05:49:00</td>\n      <td>2017-01-01 06:46:00</td>\n      <td>2017-01-01 10:51:00</td>\n      <td>2017-01-01 12:19:00</td>\n      <td>7</td>\n      <td>...</td>\n      <td>0</td>\n      <td>1</td>\n      <td>0</td>\n      <td>0</td>\n      <td>0</td>\n      <td>1.0</td>\n      <td>1.0</td>\n      <td>1.0</td>\n      <td>1.0</td>\n      <td>1.0</td>\n    </tr>\n    <tr>\n      <th>5626430</th>\n      <td>-11.0</td>\n      <td>-9.0</td>\n      <td>-2</td>\n      <td>98.0</td>\n      <td>447.0</td>\n      <td>2017-01-01 05:30:00</td>\n      <td>2017-01-01 07:08:00</td>\n      <td>2017-01-01 05:28:00</td>\n      <td>2017-01-01 07:19:00</td>\n      <td>6</td>\n      <td>...</td>\n      <td>0</td>\n      <td>1</td>\n      <td>0</td>\n      <td>0</td>\n      <td>0</td>\n      <td>1.0</td>\n      <td>1.0</td>\n      <td>1.0</td>\n      <td>1.0</td>\n      <td>1.0</td>\n    </tr>\n    <tr>\n      <th>5625623</th>\n      <td>-11.0</td>\n      <td>-9.0</td>\n      <td>-4</td>\n      <td>76.0</td>\n      <td>226.0</td>\n      <td>2017-01-01 06:00:00</td>\n      <td>2017-01-01 07:16:00</td>\n      <td>2017-01-01 05:56:00</td>\n      <td>2017-01-01 07:08:00</td>\n      <td>7</td>\n      <td>...</td>\n      <td>0</td>\n      <td>1</td>\n      <td>0</td>\n      <td>0</td>\n      <td>0</td>\n      <td>1.0</td>\n      <td>1.0</td>\n      <td>1.0</td>\n      <td>1.0</td>\n      <td>1.0</td>\n    </tr>\n    <tr>\n      <th>...</th>\n      <td>...</td>\n      <td>...</td>\n      <td>...</td>\n      <td>...</td>\n      <td>...</td>\n      <td>...</td>\n      <td>...</td>\n      <td>...</td>\n      <td>...</td>\n      <td>...</td>\n      <td>...</td>\n      <td>...</td>\n      <td>...</td>\n      <td>...</td>\n      <td>...</td>\n      <td>...</td>\n      <td>...</td>\n      <td>...</td>\n      <td>...</td>\n      <td>...</td>\n      <td>...</td>\n    </tr>\n    <tr>\n      <th>11291377</th>\n      <td>-11.0</td>\n      <td>-9.0</td>\n      <td>-11</td>\n      <td>220.0</td>\n      <td>1747.0</td>\n      <td>2017-12-31 23:59:00</td>\n      <td>2018-01-01 06:39:00</td>\n      <td>2017-12-31 23:48:00</td>\n      <td>2018-01-01 06:19:00</td>\n      <td>2</td>\n      <td>...</td>\n      <td>0</td>\n      <td>0</td>\n      <td>0</td>\n      <td>0</td>\n      <td>0</td>\n      <td>0.0</td>\n      <td>0.0</td>\n      <td>0.0</td>\n      <td>0.0</td>\n      <td>0.0</td>\n    </tr>\n    <tr>\n      <th>11292052</th>\n      <td>-11.0</td>\n      <td>-6.0</td>\n      <td>-2</td>\n      <td>264.0</td>\n      <td>2092.0</td>\n      <td>2017-12-31 23:25:00</td>\n      <td>2018-01-01 06:49:00</td>\n      <td>2017-12-31 23:23:00</td>\n      <td>2018-01-01 06:23:00</td>\n      <td>2</td>\n      <td>...</td>\n      <td>0</td>\n      <td>0</td>\n      <td>0</td>\n      <td>0</td>\n      <td>0</td>\n      <td>0.0</td>\n      <td>0.0</td>\n      <td>0.0</td>\n      <td>0.0</td>\n      <td>0.0</td>\n    </tr>\n    <tr>\n      <th>11290999</th>\n      <td>-11.0</td>\n      <td>-5.0</td>\n      <td>-1</td>\n      <td>246.0</td>\n      <td>1947.0</td>\n      <td>2017-12-31 23:59:00</td>\n      <td>2018-01-01 07:05:00</td>\n      <td>2017-12-31 23:58:00</td>\n      <td>2018-01-01 07:05:00</td>\n      <td>3</td>\n      <td>...</td>\n      <td>0</td>\n      <td>0</td>\n      <td>0</td>\n      <td>0</td>\n      <td>0</td>\n      <td>0.0</td>\n      <td>0.0</td>\n      <td>0.0</td>\n      <td>0.0</td>\n      <td>0.0</td>\n    </tr>\n    <tr>\n      <th>11290527</th>\n      <td>-11.0</td>\n      <td>-11.0</td>\n      <td>-4</td>\n      <td>276.0</td>\n      <td>2139.0</td>\n      <td>2017-12-31 23:30:00</td>\n      <td>2018-01-01 07:06:00</td>\n      <td>2017-12-31 23:26:00</td>\n      <td>2018-01-01 06:33:00</td>\n      <td>4</td>\n      <td>...</td>\n      <td>0</td>\n      <td>0</td>\n      <td>0</td>\n      <td>0</td>\n      <td>0</td>\n      <td>0.0</td>\n      <td>0.0</td>\n      <td>0.0</td>\n      <td>0.0</td>\n      <td>0.0</td>\n    </tr>\n    <tr>\n      <th>11290612</th>\n      <td>-11.0</td>\n      <td>-14.0</td>\n      <td>-5</td>\n      <td>520.0</td>\n      <td>4502.0</td>\n      <td>2017-12-31 17:55:00</td>\n      <td>2018-01-01 07:35:00</td>\n      <td>2017-12-31 17:50:00</td>\n      <td>2018-01-01 06:56:00</td>\n      <td>5</td>\n      <td>...</td>\n      <td>0</td>\n      <td>0</td>\n      <td>0</td>\n      <td>0</td>\n      <td>0</td>\n      <td>0.0</td>\n      <td>0.0</td>\n      <td>0.0</td>\n      <td>0.0</td>\n      <td>0.0</td>\n    </tr>\n  </tbody>\n</table>\n<p>348140 rows × 47 columns</p>\n</div>"
     },
     "execution_count": 2,
     "metadata": {},
     "output_type": "execute_result"
    }
   ],
   "source": [
    "# Loading data from after integration process\n",
    "data = pd.read_pickle(os.path.join(PREP_FOLDER, \"07_integration.pkl\"))\n",
    "data"
   ],
   "metadata": {
    "collapsed": false,
    "ExecuteTime": {
     "end_time": "2024-03-24T14:56:00.220951200Z",
     "start_time": "2024-03-24T14:55:59.988820Z"
    }
   },
   "id": "6c59b939ab64ac5"
  },
  {
   "cell_type": "code",
   "execution_count": 3,
   "outputs": [
    {
     "name": "stdout",
     "output_type": "stream",
     "text": [
      "Lenght of precipitation == 0:  310420\n",
      "Lenght of precipitation != 0:  37720\n",
      "Lenght of precipitation == NaN:  0\n",
      "Sum:  348140\n"
     ]
    }
   ],
   "source": [
    "is_zero = len(data.p01i[data.p01i == 0])\n",
    "not_zero = len(data.p01i[data.p01i != 0])\n",
    "is_nan = len(data.p01i[data.p01i == np.NaN])\n",
    "print(\"Lenght of precipitation == 0: \", is_zero)\n",
    "print(\"Lenght of precipitation != 0: \", not_zero)\n",
    "print(\"Lenght of precipitation == NaN: \", is_nan)\n",
    "print(\"Sum: \", is_zero + not_zero + is_nan)"
   ],
   "metadata": {
    "collapsed": false,
    "ExecuteTime": {
     "end_time": "2024-03-24T14:56:00.325945900Z",
     "start_time": "2024-03-24T14:56:00.221947100Z"
    }
   },
   "id": "57e1d8dac0ebe147"
  },
  {
   "cell_type": "code",
   "execution_count": 4,
   "outputs": [
    {
     "name": "stdout",
     "output_type": "stream",
     "text": [
      "OP_UNIQUE_CARRIER:\n",
      "\t0/348140\t(0.00%)\n",
      "\n",
      "ORIGIN:\n",
      "\t0/348140\t(0.00%)\n",
      "\n",
      "DEP_DELAY:\n",
      "\t0/348140\t(0.00%)\n",
      "\n",
      "CRS_ELAPSED_TIME:\n",
      "\t0/348140\t(0.00%)\n",
      "\n",
      "DISTANCE:\n",
      "\t0/348140\t(0.00%)\n",
      "\n",
      "CRS_DEP_DATE:\n",
      "\t0/348140\t(0.00%)\n",
      "CRS_ARR_DATE:\n",
      "\t0/348140\t(0.00%)\n",
      "\n",
      "ACT_DEP_DATE:\n",
      "\t0/348140\t(0.00%)\n",
      "ACT_ARR_DATE:\n",
      "\t0/348140\t(0.00%)\n",
      "\n",
      "PREV_FLIGHTS_1H:\n",
      "\t0/348140\t(0.00%)\n",
      "\n",
      "ARR_DELAY:\n",
      "\t0/348140\t(0.00%)\n",
      "\n",
      "Physical Class (Engine):\n",
      "\t0/348140\t(0.00%)\n",
      "\n",
      "Engines:\n",
      "\t0/348140\t(0.00%)\n",
      "\n",
      "Approach Speed(Vref):\n",
      "\t0/348140\t(0.00%)\n",
      "\n",
      "Wingtip Configuration:\n",
      "\t0/348140\t(0.00%)\n",
      "Wingspan, ft:\n",
      "\t0/348140\t(0.00%)\n",
      "\n",
      "Length, ft:\n",
      "\t0/348140\t(0.00%)\n",
      "\n",
      "Tail Height, ft(@ OEW):\n",
      "\t0/348140\t(0.00%)\n",
      "\n",
      "MTOW:\n",
      "\t0/348140\t(0.00%)\n",
      "\n",
      "Parking Area (WS x Length), sf:\n",
      "\t0/348140\t(0.00%)\n",
      "tmpf:\n",
      "\t419/348140\t(0.12%)\n",
      "\n",
      "dwpf:\n",
      "\t419/348140\t(0.12%)\n",
      "\n",
      "relh:\n",
      "\t742/348140\t(0.21%)\n",
      "\n",
      "drct:\n",
      "\t398/348140\t(0.11%)\n",
      "\n",
      "sknt:\n",
      "\t0/348140\t(0.00%)\n",
      "\n",
      "p01i:\n",
      "\t18359/348140\t(5.27%)\n",
      "\n",
      "alti:\n",
      "\t0/348140\t(0.00%)\n",
      "\n",
      "mslp:\n",
      "\t474/348140\t(0.14%)\n",
      "\n",
      "vsby:\n",
      "\t0/348140\t(0.00%)\n",
      "\n",
      "feel:\n",
      "\t742/348140\t(0.21%)\n",
      "\n",
      "EVENT_BR:\n",
      "\t0/348140\t(0.00%)\n",
      "\n",
      "EVENT_DZ:\n",
      "\t0/348140\t(0.00%)\n",
      "EVENT_FG:\n",
      "\t0/348140\t(0.00%)\n",
      "\n",
      "EVENT_FU:\n",
      "\t0/348140\t(0.00%)\n",
      "\n",
      "EVENT_GR:\n",
      "\t0/348140\t(0.00%)\n",
      "\n",
      "EVENT_GS:\n",
      "\t0/348140\t(0.00%)\n",
      "\n",
      "EVENT_HZ:\n",
      "\t0/348140\t(0.00%)\n",
      "\n",
      "EVENT_IC:\n",
      "\t0/348140\t(0.00%)\n",
      "\n",
      "EVENT_RA:\n",
      "\t0/348140\t(0.00%)\n",
      "\n",
      "EVENT_SG:\n",
      "\t0/348140\t(0.00%)\n",
      "\n",
      "EVENT_SN:\n",
      "\t0/348140\t(0.00%)\n",
      "\n",
      "EVENT_TS:\n",
      "\t0/348140\t(0.00%)\n",
      "08L/26R:\n",
      "\t0/348140\t(0.00%)\n",
      "\n",
      "08R/26L:\n",
      "\t0/348140\t(0.00%)\n",
      "\n",
      "09L/27R:\n",
      "\t0/348140\t(0.00%)\n",
      "\n",
      "09R/27L:\n",
      "\t0/348140\t(0.00%)\n",
      "\n",
      "10/28:\n",
      "\t0/348140\t(0.00%)\n"
     ]
    }
   ],
   "source": [
    "# Checking for null values in the columns\n",
    "check_for_nan_cols(data)"
   ],
   "metadata": {
    "collapsed": false,
    "ExecuteTime": {
     "end_time": "2024-03-24T14:56:01.655964200Z",
     "start_time": "2024-03-24T14:56:00.254948700Z"
    }
   },
   "id": "35037236a9b82249"
  },
  {
   "cell_type": "code",
   "execution_count": 5,
   "outputs": [
    {
     "name": "stdout",
     "output_type": "stream",
     "text": [
      "OP_UNIQUE_CARRIER:\n",
      "\t0/18359\t(0.00%)\n",
      "ORIGIN:\n",
      "\t0/18359\t(0.00%)\n",
      "\n",
      "DEP_DELAY:\n",
      "\t0/18359\t(0.00%)\n",
      "\n",
      "CRS_ELAPSED_TIME:\n",
      "\t0/18359\t(0.00%)\n",
      "\n",
      "DISTANCE:\n",
      "\t0/18359\t(0.00%)\n",
      "\n",
      "CRS_DEP_DATE:\n",
      "\t0/18359\t(0.00%)\n",
      "\n",
      "CRS_ARR_DATE:\n",
      "\t0/18359\t(0.00%)\n",
      "\n",
      "ACT_DEP_DATE:\n",
      "\t0/18359\t(0.00%)\n",
      "\n",
      "ACT_ARR_DATE:\n",
      "\t0/18359\t(0.00%)\n",
      "\n",
      "PREV_FLIGHTS_1H:\n",
      "\t0/18359\t(0.00%)\n",
      "\n",
      "ARR_DELAY:\n",
      "\t0/18359\t(0.00%)\n",
      "\n",
      "Physical Class (Engine):\n",
      "\t0/18359\t(0.00%)\n",
      "\n",
      "Engines:\n",
      "\t0/18359\t(0.00%)\n",
      "\n",
      "Approach Speed(Vref):\n",
      "\t0/18359\t(0.00%)\n",
      "\n",
      "Wingtip Configuration:\n",
      "\t0/18359\t(0.00%)\n",
      "\n",
      "Wingspan, ft:\n",
      "\t0/18359\t(0.00%)\n",
      "\n",
      "Length, ft:\n",
      "\t0/18359\t(0.00%)\n",
      "\n",
      "Tail Height, ft(@ OEW):\n",
      "\t0/18359\t(0.00%)\n",
      "\n",
      "MTOW:\n",
      "\t0/18359\t(0.00%)\n",
      "\n",
      "Parking Area (WS x Length), sf:\n",
      "\t0/18359\t(0.00%)\n",
      "\n",
      "tmpf:\n",
      "\t419/18359\t(2.28%)\n",
      "\n",
      "dwpf:\n",
      "\t419/18359\t(2.28%)\n",
      "\n",
      "relh:\n",
      "\t419/18359\t(2.28%)\n",
      "\n",
      "drct:\n",
      "\t0/18359\t(0.00%)\n",
      "\n",
      "sknt:\n",
      "\t0/18359\t(0.00%)\n",
      "\n",
      "p01i:\n",
      "\t18359/18359\t(100.00%)\n",
      "\n",
      "alti:\n",
      "\t0/18359\t(0.00%)\n",
      "\n",
      "mslp:\n",
      "\t419/18359\t(2.28%)\n",
      "\n",
      "vsby:\n",
      "\t0/18359\t(0.00%)\n",
      "\n",
      "feel:\n",
      "\t419/18359\t(2.28%)\n",
      "\n",
      "EVENT_BR:\n",
      "\t0/18359\t(0.00%)\n",
      "\n",
      "EVENT_DZ:\n",
      "\t0/18359\t(0.00%)\n",
      "\n",
      "EVENT_FG:\n",
      "\t0/18359\t(0.00%)\n",
      "\n",
      "EVENT_FU:\n",
      "\t0/18359\t(0.00%)\n",
      "\n",
      "EVENT_GR:\n",
      "\t0/18359\t(0.00%)\n",
      "\n",
      "EVENT_GS:\n",
      "\t0/18359\t(0.00%)\n",
      "\n",
      "EVENT_HZ:\n",
      "\t0/18359\t(0.00%)\n",
      "\n",
      "EVENT_IC:\n",
      "\t0/18359\t(0.00%)\n",
      "\n",
      "EVENT_RA:\n",
      "\t0/18359\t(0.00%)\n",
      "\n",
      "EVENT_SG:\n",
      "\t0/18359\t(0.00%)\n",
      "\n",
      "EVENT_SN:\n",
      "\t0/18359\t(0.00%)\n",
      "\n",
      "EVENT_TS:\n",
      "\t0/18359\t(0.00%)\n",
      "\n",
      "08L/26R:\n",
      "\t0/18359\t(0.00%)\n",
      "\n",
      "08R/26L:\n",
      "\t0/18359\t(0.00%)\n",
      "\n",
      "09L/27R:\n",
      "\t0/18359\t(0.00%)\n",
      "\n",
      "09R/27L:\n",
      "\t0/18359\t(0.00%)\n",
      "\n",
      "10/28:\n",
      "\t0/18359\t(0.00%)\n"
     ]
    }
   ],
   "source": [
    "check_for_nan_cols(data[data.p01i.isnull()])"
   ],
   "metadata": {
    "collapsed": false,
    "ExecuteTime": {
     "end_time": "2024-03-24T14:56:01.798962700Z",
     "start_time": "2024-03-24T14:56:01.648971900Z"
    }
   },
   "id": "9eeb5dde8119a83c"
  },
  {
   "cell_type": "markdown",
   "source": [
    "## Deleting null values\n",
    "Since precipitation has the highest amount of null values we checked the null values from the perspective of the precipitation. It is observable, that there is quite a big overlap when it comes to null values within these columns. These are probably a result of maintenance or technical failures happening at the same time. Therefore we go for deleting all flights who are connected with these null values. "
   ],
   "metadata": {
    "collapsed": false
   },
   "id": "a5ce0187d03f22b9"
  },
  {
   "cell_type": "code",
   "execution_count": 6,
   "outputs": [
    {
     "name": "stdout",
     "output_type": "stream",
     "text": [
      "Comparison of shapes between data: \n",
      "\tOld: (348140, 47)\n",
      "\tNew: (329005, 47)\n",
      "Loss of data: 5.50%\n"
     ]
    }
   ],
   "source": [
    "# Inserting mean or mode for NaN values. \n",
    "\n",
    "# This is a function block that is no longer in use. False assumptions led to this step. Now we only delete rows with nan vlaues.\n",
    "def replace_nan(data):\n",
    "    mode_vars = [\"Physical Class (Engine)\", \"Engines\", \"Wingtip Configuration\", ]\n",
    "    mean_vars = [\"Approach Speed(Vref)\", \"Wingspan, ft\", \"Length, ft\", \"Tail Height, ft(@ OEW)\", \"MTOW\",\n",
    "                 \"Parking Area (WS x Length), sf\", \"tmpf\", \"dwpf\", \"relh\", \"drct\", \"sknt\", \"p01i\", \"alti\", \"mslp\", \"vsby\",\n",
    "                 \"feel\"]\n",
    "    \n",
    "    for col in data.columns:\n",
    "        if col in mode_vars:\n",
    "            data[col] = data[col].replace(np.nan, data[col].mode()[0])\n",
    "        if col in mean_vars:\n",
    "            data[col] = data[col].replace(np.nan, data[col].mean())\n",
    "    return data\n",
    "\n",
    "old = data.copy()\n",
    "data = data.dropna()\n",
    "print(f\"Comparison of shapes between data: \\n\\tOld: {old.shape}\\n\\tNew: {data.shape}\")\n",
    "print(f\"Loss of data: {(1 - len(data)/len(old)) * 100:.2f}%\")"
   ],
   "metadata": {
    "collapsed": false,
    "ExecuteTime": {
     "end_time": "2024-03-24T14:56:02.036480500Z",
     "start_time": "2024-03-24T14:56:01.805966200Z"
    }
   },
   "id": "f4215a2911f801d7"
  },
  {
   "cell_type": "code",
   "execution_count": 7,
   "outputs": [
    {
     "name": "stdout",
     "output_type": "stream",
     "text": [
      "OP_UNIQUE_CARRIER:\n",
      "\t0/329005\t(0.00%)\n",
      "\n",
      "ORIGIN:\n",
      "\t0/329005\t(0.00%)\n",
      "\n",
      "DEP_DELAY:\n",
      "\t0/329005\t(0.00%)\n",
      "\n",
      "CRS_ELAPSED_TIME:\n",
      "\t0/329005\t(0.00%)\n",
      "\n",
      "DISTANCE:\n",
      "\t0/329005\t(0.00%)\n",
      "\n",
      "CRS_DEP_DATE:\n",
      "\t0/329005\t(0.00%)\n",
      "\n",
      "CRS_ARR_DATE:\n",
      "\t0/329005\t(0.00%)\n",
      "\n",
      "ACT_DEP_DATE:\n",
      "\t0/329005\t(0.00%)\n",
      "ACT_ARR_DATE:\n",
      "\t0/329005\t(0.00%)\n",
      "\n",
      "PREV_FLIGHTS_1H:\n",
      "\t0/329005\t(0.00%)\n",
      "\n",
      "ARR_DELAY:\n",
      "\t0/329005\t(0.00%)\n",
      "Physical Class (Engine):\n",
      "\t0/329005\t(0.00%)\n",
      "\n",
      "Engines:\n",
      "\t0/329005\t(0.00%)\n",
      "\n",
      "Approach Speed(Vref):\n",
      "\t0/329005\t(0.00%)\n",
      "\n",
      "Wingtip Configuration:\n",
      "\t0/329005\t(0.00%)\n",
      "\n",
      "Wingspan, ft:\n",
      "\t0/329005\t(0.00%)\n",
      "\n",
      "Length, ft:\n",
      "\t0/329005\t(0.00%)\n",
      "\n",
      "Tail Height, ft(@ OEW):\n",
      "\t0/329005\t(0.00%)\n",
      "MTOW:\n",
      "\t0/329005\t(0.00%)\n",
      "\n",
      "Parking Area (WS x Length), sf:\n",
      "\t0/329005\t(0.00%)\n",
      "\n",
      "tmpf:\n",
      "\t0/329005\t(0.00%)\n",
      "\n",
      "dwpf:\n",
      "\t0/329005\t(0.00%)\n",
      "\n",
      "relh:\n",
      "\t0/329005\t(0.00%)\n",
      "drct:\n",
      "\t0/329005\t(0.00%)\n",
      "\n",
      "sknt:\n",
      "\t0/329005\t(0.00%)\n",
      "\n",
      "p01i:\n",
      "\t0/329005\t(0.00%)\n",
      "\n",
      "alti:\n",
      "\t0/329005\t(0.00%)\n",
      "\n",
      "mslp:\n",
      "\t0/329005\t(0.00%)\n",
      "\n",
      "vsby:\n",
      "\t0/329005\t(0.00%)\n",
      "\n",
      "feel:\n",
      "\t0/329005\t(0.00%)\n",
      "\n",
      "EVENT_BR:\n",
      "\t0/329005\t(0.00%)\n",
      "EVENT_DZ:\n",
      "\t0/329005\t(0.00%)\n",
      "\n",
      "EVENT_FG:\n",
      "\t0/329005\t(0.00%)\n",
      "\n",
      "EVENT_FU:\n",
      "\t0/329005\t(0.00%)\n",
      "\n",
      "EVENT_GR:\n",
      "\t0/329005\t(0.00%)\n",
      "\n",
      "EVENT_GS:\n",
      "\t0/329005\t(0.00%)\n",
      "\n",
      "EVENT_HZ:\n",
      "\t0/329005\t(0.00%)\n",
      "\n",
      "EVENT_IC:\n",
      "\t0/329005\t(0.00%)\n",
      "\n",
      "EVENT_RA:\n",
      "\t0/329005\t(0.00%)\n",
      "\n",
      "EVENT_SG:\n",
      "\t0/329005\t(0.00%)\n",
      "EVENT_SN:\n",
      "\t0/329005\t(0.00%)\n",
      "\n",
      "EVENT_TS:\n",
      "\t0/329005\t(0.00%)\n",
      "\n",
      "08L/26R:\n",
      "\t0/329005\t(0.00%)\n",
      "\n",
      "08R/26L:\n",
      "\t0/329005\t(0.00%)\n",
      "\n",
      "09L/27R:\n",
      "\t0/329005\t(0.00%)\n",
      "\n",
      "09R/27L:\n",
      "\t0/329005\t(0.00%)\n",
      "\n",
      "10/28:\n",
      "\t0/329005\t(0.00%)\n"
     ]
    }
   ],
   "source": [
    "check_for_nan_cols(data)"
   ],
   "metadata": {
    "collapsed": false,
    "ExecuteTime": {
     "end_time": "2024-03-24T14:56:03.175936200Z",
     "start_time": "2024-03-24T14:56:02.037485700Z"
    }
   },
   "id": "c8731b6f9da904d2"
  },
  {
   "cell_type": "code",
   "execution_count": 8,
   "outputs": [
    {
     "name": "stdout",
     "output_type": "stream",
     "text": [
      "OP_UNIQUE_CARRIER:\n",
      "\tfloat64\n",
      "ORIGIN:\n",
      "\tfloat64\n",
      "DEP_DELAY:\n",
      "\tint32\n",
      "CRS_ELAPSED_TIME:\n",
      "\tfloat64\n",
      "DISTANCE:\n",
      "\tfloat64\n",
      "CRS_DEP_DATE:\n",
      "\tdatetime64[ns]\n",
      "CRS_ARR_DATE:\n",
      "\tdatetime64[ns]\n",
      "ACT_DEP_DATE:\n",
      "\tdatetime64[ns]\n",
      "ACT_ARR_DATE:\n",
      "\tdatetime64[ns]\n",
      "PREV_FLIGHTS_1H:\n",
      "\tint64\n",
      "ARR_DELAY:\n",
      "\tint32\n",
      "Physical Class (Engine):\n",
      "\tobject\n",
      "Engines:\n",
      "\tint32\n",
      "Approach Speed(Vref):\n",
      "\tint32\n",
      "Wingtip Configuration:\n",
      "\tobject\n",
      "Wingspan, ft:\n",
      "\tfloat64\n",
      "Length, ft:\n",
      "\tfloat64\n",
      "Tail Height, ft(@ OEW):\n",
      "\tfloat64\n",
      "MTOW:\n",
      "\tint64\n",
      "Parking Area (WS x Length), sf:\n",
      "\tint64\n",
      "tmpf:\n",
      "\tfloat64\n",
      "dwpf:\n",
      "\tfloat64\n",
      "relh:\n",
      "\tfloat64\n",
      "drct:\n",
      "\tfloat64\n",
      "sknt:\n",
      "\tfloat64\n",
      "p01i:\n",
      "\tfloat64\n",
      "alti:\n",
      "\tfloat64\n",
      "mslp:\n",
      "\tfloat64\n",
      "vsby:\n",
      "\tfloat64\n",
      "feel:\n",
      "\tfloat64\n",
      "EVENT_BR:\n",
      "\tint64\n",
      "EVENT_DZ:\n",
      "\tint64\n",
      "EVENT_FG:\n",
      "\tint64\n",
      "EVENT_FU:\n",
      "\tint64\n",
      "EVENT_GR:\n",
      "\tint64\n",
      "EVENT_GS:\n",
      "\tint64\n",
      "EVENT_HZ:\n",
      "\tint64\n",
      "EVENT_IC:\n",
      "\tint64\n",
      "EVENT_RA:\n",
      "\tint64\n",
      "EVENT_SG:\n",
      "\tint64\n",
      "EVENT_SN:\n",
      "\tint64\n",
      "EVENT_TS:\n",
      "\tint64\n",
      "08L/26R:\n",
      "\tfloat64\n",
      "08R/26L:\n",
      "\tfloat64\n",
      "09L/27R:\n",
      "\tfloat64\n",
      "09R/27L:\n",
      "\tfloat64\n",
      "10/28:\n",
      "\tfloat64\n"
     ]
    }
   ],
   "source": [
    "check_dtype_of_cols(data)"
   ],
   "metadata": {
    "collapsed": false,
    "ExecuteTime": {
     "end_time": "2024-03-24T14:56:03.197933900Z",
     "start_time": "2024-03-24T14:56:03.175936200Z"
    }
   },
   "id": "bfb838f3fa353a4e"
  },
  {
   "cell_type": "code",
   "execution_count": 9,
   "outputs": [
    {
     "name": "stderr",
     "output_type": "stream",
     "text": [
      "C:\\Users\\chrig\\AppData\\Local\\Temp\\ipykernel_17496\\1591873939.py:2: SettingWithCopyWarning: \n",
      "A value is trying to be set on a copy of a slice from a DataFrame.\n",
      "Try using .loc[row_indexer,col_indexer] = value instead\n",
      "\n",
      "See the caveats in the documentation: https://pandas.pydata.org/pandas-docs/stable/user_guide/indexing.html#returning-a-view-versus-a-copy\n",
      "  data[\"CRS_ELAPSED_TIME\"] = data[\"CRS_ELAPSED_TIME\"].astype(int)\n",
      "C:\\Users\\chrig\\AppData\\Local\\Temp\\ipykernel_17496\\1591873939.py:3: SettingWithCopyWarning: \n",
      "A value is trying to be set on a copy of a slice from a DataFrame.\n",
      "Try using .loc[row_indexer,col_indexer] = value instead\n",
      "\n",
      "See the caveats in the documentation: https://pandas.pydata.org/pandas-docs/stable/user_guide/indexing.html#returning-a-view-versus-a-copy\n",
      "  data[\"DISTANCE\"] = data[\"DISTANCE\"].astype(int)\n"
     ]
    }
   ],
   "source": [
    "# Convert useless floats to int\n",
    "data[\"CRS_ELAPSED_TIME\"] = data[\"CRS_ELAPSED_TIME\"].astype(int)\n",
    "data[\"DISTANCE\"] = data[\"DISTANCE\"].astype(int)"
   ],
   "metadata": {
    "collapsed": false,
    "ExecuteTime": {
     "end_time": "2024-03-24T14:56:03.268933900Z",
     "start_time": "2024-03-24T14:56:03.198947Z"
    }
   },
   "id": "cc10efad23b5aa44"
  },
  {
   "cell_type": "code",
   "execution_count": 10,
   "outputs": [
    {
     "data": {
      "text/plain": "          OP_UNIQUE_CARRIER  ORIGIN  DEP_DELAY  CRS_ELAPSED_TIME  DISTANCE  \\\n5626534               -11.0    -8.0         -2               223      1590   \n5627321                -8.0    -8.0         -4                88       404   \n5622325                -8.0    -7.0        302                57       106   \n5626430               -11.0    -9.0         -2                98       447   \n5625623               -11.0    -9.0         -4                76       226   \n...                     ...     ...        ...               ...       ...   \n11291377              -11.0    -9.0        -11               220      1747   \n11292052              -11.0    -6.0         -2               264      2092   \n11290999              -11.0    -5.0         -1               246      1947   \n11290527              -11.0   -11.0         -4               276      2139   \n11290612              -11.0   -14.0         -5               520      4502   \n\n                CRS_DEP_DATE        CRS_ARR_DATE        ACT_DEP_DATE  \\\n5626534  2017-01-01 00:55:00 2017-01-01 06:38:00 2017-01-01 00:53:00   \n5627321  2017-01-01 05:15:00 2017-01-01 06:43:00 2017-01-01 05:11:00   \n5622325  2017-01-01 05:49:00 2017-01-01 06:46:00 2017-01-01 10:51:00   \n5626430  2017-01-01 05:30:00 2017-01-01 07:08:00 2017-01-01 05:28:00   \n5625623  2017-01-01 06:00:00 2017-01-01 07:16:00 2017-01-01 05:56:00   \n...                      ...                 ...                 ...   \n11291377 2017-12-31 23:59:00 2018-01-01 06:39:00 2017-12-31 23:48:00   \n11292052 2017-12-31 23:25:00 2018-01-01 06:49:00 2017-12-31 23:23:00   \n11290999 2017-12-31 23:59:00 2018-01-01 07:05:00 2017-12-31 23:58:00   \n11290527 2017-12-31 23:30:00 2018-01-01 07:06:00 2017-12-31 23:26:00   \n11290612 2017-12-31 17:55:00 2018-01-01 07:35:00 2017-12-31 17:50:00   \n\n                ACT_ARR_DATE  PREV_FLIGHTS_1H  ...  EVENT_IC EVENT_RA  \\\n5626534  2017-01-01 06:31:00                4  ...         0        1   \n5627321  2017-01-01 06:32:00                5  ...         0        1   \n5622325  2017-01-01 12:19:00                7  ...         0        1   \n5626430  2017-01-01 07:19:00                6  ...         0        1   \n5625623  2017-01-01 07:08:00                7  ...         0        1   \n...                      ...              ...  ...       ...      ...   \n11291377 2018-01-01 06:19:00                2  ...         0        0   \n11292052 2018-01-01 06:23:00                2  ...         0        0   \n11290999 2018-01-01 07:05:00                3  ...         0        0   \n11290527 2018-01-01 06:33:00                4  ...         0        0   \n11290612 2018-01-01 06:56:00                5  ...         0        0   \n\n          EVENT_SG  EVENT_SN EVENT_TS  08L/26R  08R/26L  09L/27R  09R/27L  \\\n5626534          0         0        0      1.0      1.0      1.0      1.0   \n5627321          0         0        0      1.0      1.0      1.0      1.0   \n5622325          0         0        0      1.0      1.0      1.0      1.0   \n5626430          0         0        0      1.0      1.0      1.0      1.0   \n5625623          0         0        0      1.0      1.0      1.0      1.0   \n...            ...       ...      ...      ...      ...      ...      ...   \n11291377         0         0        0      0.0      0.0      0.0      0.0   \n11292052         0         0        0      0.0      0.0      0.0      0.0   \n11290999         0         0        0      0.0      0.0      0.0      0.0   \n11290527         0         0        0      0.0      0.0      0.0      0.0   \n11290612         0         0        0      0.0      0.0      0.0      0.0   \n\n          10/28  \n5626534     1.0  \n5627321     1.0  \n5622325     1.0  \n5626430     1.0  \n5625623     1.0  \n...         ...  \n11291377    0.0  \n11292052    0.0  \n11290999    0.0  \n11290527    0.0  \n11290612    0.0  \n\n[329005 rows x 47 columns]",
      "text/html": "<div>\n<style scoped>\n    .dataframe tbody tr th:only-of-type {\n        vertical-align: middle;\n    }\n\n    .dataframe tbody tr th {\n        vertical-align: top;\n    }\n\n    .dataframe thead th {\n        text-align: right;\n    }\n</style>\n<table border=\"1\" class=\"dataframe\">\n  <thead>\n    <tr style=\"text-align: right;\">\n      <th></th>\n      <th>OP_UNIQUE_CARRIER</th>\n      <th>ORIGIN</th>\n      <th>DEP_DELAY</th>\n      <th>CRS_ELAPSED_TIME</th>\n      <th>DISTANCE</th>\n      <th>CRS_DEP_DATE</th>\n      <th>CRS_ARR_DATE</th>\n      <th>ACT_DEP_DATE</th>\n      <th>ACT_ARR_DATE</th>\n      <th>PREV_FLIGHTS_1H</th>\n      <th>...</th>\n      <th>EVENT_IC</th>\n      <th>EVENT_RA</th>\n      <th>EVENT_SG</th>\n      <th>EVENT_SN</th>\n      <th>EVENT_TS</th>\n      <th>08L/26R</th>\n      <th>08R/26L</th>\n      <th>09L/27R</th>\n      <th>09R/27L</th>\n      <th>10/28</th>\n    </tr>\n  </thead>\n  <tbody>\n    <tr>\n      <th>5626534</th>\n      <td>-11.0</td>\n      <td>-8.0</td>\n      <td>-2</td>\n      <td>223</td>\n      <td>1590</td>\n      <td>2017-01-01 00:55:00</td>\n      <td>2017-01-01 06:38:00</td>\n      <td>2017-01-01 00:53:00</td>\n      <td>2017-01-01 06:31:00</td>\n      <td>4</td>\n      <td>...</td>\n      <td>0</td>\n      <td>1</td>\n      <td>0</td>\n      <td>0</td>\n      <td>0</td>\n      <td>1.0</td>\n      <td>1.0</td>\n      <td>1.0</td>\n      <td>1.0</td>\n      <td>1.0</td>\n    </tr>\n    <tr>\n      <th>5627321</th>\n      <td>-8.0</td>\n      <td>-8.0</td>\n      <td>-4</td>\n      <td>88</td>\n      <td>404</td>\n      <td>2017-01-01 05:15:00</td>\n      <td>2017-01-01 06:43:00</td>\n      <td>2017-01-01 05:11:00</td>\n      <td>2017-01-01 06:32:00</td>\n      <td>5</td>\n      <td>...</td>\n      <td>0</td>\n      <td>1</td>\n      <td>0</td>\n      <td>0</td>\n      <td>0</td>\n      <td>1.0</td>\n      <td>1.0</td>\n      <td>1.0</td>\n      <td>1.0</td>\n      <td>1.0</td>\n    </tr>\n    <tr>\n      <th>5622325</th>\n      <td>-8.0</td>\n      <td>-7.0</td>\n      <td>302</td>\n      <td>57</td>\n      <td>106</td>\n      <td>2017-01-01 05:49:00</td>\n      <td>2017-01-01 06:46:00</td>\n      <td>2017-01-01 10:51:00</td>\n      <td>2017-01-01 12:19:00</td>\n      <td>7</td>\n      <td>...</td>\n      <td>0</td>\n      <td>1</td>\n      <td>0</td>\n      <td>0</td>\n      <td>0</td>\n      <td>1.0</td>\n      <td>1.0</td>\n      <td>1.0</td>\n      <td>1.0</td>\n      <td>1.0</td>\n    </tr>\n    <tr>\n      <th>5626430</th>\n      <td>-11.0</td>\n      <td>-9.0</td>\n      <td>-2</td>\n      <td>98</td>\n      <td>447</td>\n      <td>2017-01-01 05:30:00</td>\n      <td>2017-01-01 07:08:00</td>\n      <td>2017-01-01 05:28:00</td>\n      <td>2017-01-01 07:19:00</td>\n      <td>6</td>\n      <td>...</td>\n      <td>0</td>\n      <td>1</td>\n      <td>0</td>\n      <td>0</td>\n      <td>0</td>\n      <td>1.0</td>\n      <td>1.0</td>\n      <td>1.0</td>\n      <td>1.0</td>\n      <td>1.0</td>\n    </tr>\n    <tr>\n      <th>5625623</th>\n      <td>-11.0</td>\n      <td>-9.0</td>\n      <td>-4</td>\n      <td>76</td>\n      <td>226</td>\n      <td>2017-01-01 06:00:00</td>\n      <td>2017-01-01 07:16:00</td>\n      <td>2017-01-01 05:56:00</td>\n      <td>2017-01-01 07:08:00</td>\n      <td>7</td>\n      <td>...</td>\n      <td>0</td>\n      <td>1</td>\n      <td>0</td>\n      <td>0</td>\n      <td>0</td>\n      <td>1.0</td>\n      <td>1.0</td>\n      <td>1.0</td>\n      <td>1.0</td>\n      <td>1.0</td>\n    </tr>\n    <tr>\n      <th>...</th>\n      <td>...</td>\n      <td>...</td>\n      <td>...</td>\n      <td>...</td>\n      <td>...</td>\n      <td>...</td>\n      <td>...</td>\n      <td>...</td>\n      <td>...</td>\n      <td>...</td>\n      <td>...</td>\n      <td>...</td>\n      <td>...</td>\n      <td>...</td>\n      <td>...</td>\n      <td>...</td>\n      <td>...</td>\n      <td>...</td>\n      <td>...</td>\n      <td>...</td>\n      <td>...</td>\n    </tr>\n    <tr>\n      <th>11291377</th>\n      <td>-11.0</td>\n      <td>-9.0</td>\n      <td>-11</td>\n      <td>220</td>\n      <td>1747</td>\n      <td>2017-12-31 23:59:00</td>\n      <td>2018-01-01 06:39:00</td>\n      <td>2017-12-31 23:48:00</td>\n      <td>2018-01-01 06:19:00</td>\n      <td>2</td>\n      <td>...</td>\n      <td>0</td>\n      <td>0</td>\n      <td>0</td>\n      <td>0</td>\n      <td>0</td>\n      <td>0.0</td>\n      <td>0.0</td>\n      <td>0.0</td>\n      <td>0.0</td>\n      <td>0.0</td>\n    </tr>\n    <tr>\n      <th>11292052</th>\n      <td>-11.0</td>\n      <td>-6.0</td>\n      <td>-2</td>\n      <td>264</td>\n      <td>2092</td>\n      <td>2017-12-31 23:25:00</td>\n      <td>2018-01-01 06:49:00</td>\n      <td>2017-12-31 23:23:00</td>\n      <td>2018-01-01 06:23:00</td>\n      <td>2</td>\n      <td>...</td>\n      <td>0</td>\n      <td>0</td>\n      <td>0</td>\n      <td>0</td>\n      <td>0</td>\n      <td>0.0</td>\n      <td>0.0</td>\n      <td>0.0</td>\n      <td>0.0</td>\n      <td>0.0</td>\n    </tr>\n    <tr>\n      <th>11290999</th>\n      <td>-11.0</td>\n      <td>-5.0</td>\n      <td>-1</td>\n      <td>246</td>\n      <td>1947</td>\n      <td>2017-12-31 23:59:00</td>\n      <td>2018-01-01 07:05:00</td>\n      <td>2017-12-31 23:58:00</td>\n      <td>2018-01-01 07:05:00</td>\n      <td>3</td>\n      <td>...</td>\n      <td>0</td>\n      <td>0</td>\n      <td>0</td>\n      <td>0</td>\n      <td>0</td>\n      <td>0.0</td>\n      <td>0.0</td>\n      <td>0.0</td>\n      <td>0.0</td>\n      <td>0.0</td>\n    </tr>\n    <tr>\n      <th>11290527</th>\n      <td>-11.0</td>\n      <td>-11.0</td>\n      <td>-4</td>\n      <td>276</td>\n      <td>2139</td>\n      <td>2017-12-31 23:30:00</td>\n      <td>2018-01-01 07:06:00</td>\n      <td>2017-12-31 23:26:00</td>\n      <td>2018-01-01 06:33:00</td>\n      <td>4</td>\n      <td>...</td>\n      <td>0</td>\n      <td>0</td>\n      <td>0</td>\n      <td>0</td>\n      <td>0</td>\n      <td>0.0</td>\n      <td>0.0</td>\n      <td>0.0</td>\n      <td>0.0</td>\n      <td>0.0</td>\n    </tr>\n    <tr>\n      <th>11290612</th>\n      <td>-11.0</td>\n      <td>-14.0</td>\n      <td>-5</td>\n      <td>520</td>\n      <td>4502</td>\n      <td>2017-12-31 17:55:00</td>\n      <td>2018-01-01 07:35:00</td>\n      <td>2017-12-31 17:50:00</td>\n      <td>2018-01-01 06:56:00</td>\n      <td>5</td>\n      <td>...</td>\n      <td>0</td>\n      <td>0</td>\n      <td>0</td>\n      <td>0</td>\n      <td>0</td>\n      <td>0.0</td>\n      <td>0.0</td>\n      <td>0.0</td>\n      <td>0.0</td>\n      <td>0.0</td>\n    </tr>\n  </tbody>\n</table>\n<p>329005 rows × 47 columns</p>\n</div>"
     },
     "execution_count": 10,
     "metadata": {},
     "output_type": "execute_result"
    }
   ],
   "source": [
    "data"
   ],
   "metadata": {
    "collapsed": false,
    "ExecuteTime": {
     "end_time": "2024-03-24T14:56:03.395936800Z",
     "start_time": "2024-03-24T14:56:03.270937100Z"
    }
   },
   "id": "4e9ee1f96ae4e267"
  },
  {
   "cell_type": "code",
   "execution_count": 11,
   "outputs": [
    {
     "name": "stderr",
     "output_type": "stream",
     "text": [
      "C:\\Users\\chrig\\AppData\\Local\\Temp\\ipykernel_17496\\2226104888.py:2: SettingWithCopyWarning: \n",
      "A value is trying to be set on a copy of a slice from a DataFrame.\n",
      "Try using .loc[row_indexer,col_indexer] = value instead\n",
      "\n",
      "See the caveats in the documentation: https://pandas.pydata.org/pandas-docs/stable/user_guide/indexing.html#returning-a-view-versus-a-copy\n",
      "  data[\"ARR_DAY\"] = data[\"CRS_ARR_DATE\"].apply(lambda x: x.weekday())\n",
      "C:\\Users\\chrig\\AppData\\Local\\Temp\\ipykernel_17496\\2226104888.py:3: SettingWithCopyWarning: \n",
      "A value is trying to be set on a copy of a slice from a DataFrame.\n",
      "Try using .loc[row_indexer,col_indexer] = value instead\n",
      "\n",
      "See the caveats in the documentation: https://pandas.pydata.org/pandas-docs/stable/user_guide/indexing.html#returning-a-view-versus-a-copy\n",
      "  data[\"ARR_MIN_OF_DAY\"] = data[\"CRS_ARR_DATE\"].apply(lambda x: x.hour * 60 + x.minute)\n"
     ]
    },
    {
     "data": {
      "text/plain": "         OP_UNIQUE_CARRIER  ORIGIN  DEP_DELAY  CRS_ELAPSED_TIME  DISTANCE  \\\n5626534              -11.0    -8.0         -2               223      1590   \n5627321               -8.0    -8.0         -4                88       404   \n5622325               -8.0    -7.0        302                57       106   \n5626430              -11.0    -9.0         -2                98       447   \n5625623              -11.0    -9.0         -4                76       226   \n\n               CRS_DEP_DATE        ACT_DEP_DATE        ACT_ARR_DATE  \\\n5626534 2017-01-01 00:55:00 2017-01-01 00:53:00 2017-01-01 06:31:00   \n5627321 2017-01-01 05:15:00 2017-01-01 05:11:00 2017-01-01 06:32:00   \n5622325 2017-01-01 05:49:00 2017-01-01 10:51:00 2017-01-01 12:19:00   \n5626430 2017-01-01 05:30:00 2017-01-01 05:28:00 2017-01-01 07:19:00   \n5625623 2017-01-01 06:00:00 2017-01-01 05:56:00 2017-01-01 07:08:00   \n\n         PREV_FLIGHTS_1H  ARR_DELAY  ... EVENT_SG  EVENT_SN  EVENT_TS 08L/26R  \\\n5626534                4         -7  ...        0         0         0     1.0   \n5627321                5        -11  ...        0         0         0     1.0   \n5622325                7        333  ...        0         0         0     1.0   \n5626430                6         11  ...        0         0         0     1.0   \n5625623                7         -8  ...        0         0         0     1.0   \n\n         08R/26L  09L/27R  09R/27L  10/28  ARR_DAY  ARR_MIN_OF_DAY  \n5626534      1.0      1.0      1.0    1.0        6             398  \n5627321      1.0      1.0      1.0    1.0        6             403  \n5622325      1.0      1.0      1.0    1.0        6             406  \n5626430      1.0      1.0      1.0    1.0        6             428  \n5625623      1.0      1.0      1.0    1.0        6             436  \n\n[5 rows x 48 columns]",
      "text/html": "<div>\n<style scoped>\n    .dataframe tbody tr th:only-of-type {\n        vertical-align: middle;\n    }\n\n    .dataframe tbody tr th {\n        vertical-align: top;\n    }\n\n    .dataframe thead th {\n        text-align: right;\n    }\n</style>\n<table border=\"1\" class=\"dataframe\">\n  <thead>\n    <tr style=\"text-align: right;\">\n      <th></th>\n      <th>OP_UNIQUE_CARRIER</th>\n      <th>ORIGIN</th>\n      <th>DEP_DELAY</th>\n      <th>CRS_ELAPSED_TIME</th>\n      <th>DISTANCE</th>\n      <th>CRS_DEP_DATE</th>\n      <th>ACT_DEP_DATE</th>\n      <th>ACT_ARR_DATE</th>\n      <th>PREV_FLIGHTS_1H</th>\n      <th>ARR_DELAY</th>\n      <th>...</th>\n      <th>EVENT_SG</th>\n      <th>EVENT_SN</th>\n      <th>EVENT_TS</th>\n      <th>08L/26R</th>\n      <th>08R/26L</th>\n      <th>09L/27R</th>\n      <th>09R/27L</th>\n      <th>10/28</th>\n      <th>ARR_DAY</th>\n      <th>ARR_MIN_OF_DAY</th>\n    </tr>\n  </thead>\n  <tbody>\n    <tr>\n      <th>5626534</th>\n      <td>-11.0</td>\n      <td>-8.0</td>\n      <td>-2</td>\n      <td>223</td>\n      <td>1590</td>\n      <td>2017-01-01 00:55:00</td>\n      <td>2017-01-01 00:53:00</td>\n      <td>2017-01-01 06:31:00</td>\n      <td>4</td>\n      <td>-7</td>\n      <td>...</td>\n      <td>0</td>\n      <td>0</td>\n      <td>0</td>\n      <td>1.0</td>\n      <td>1.0</td>\n      <td>1.0</td>\n      <td>1.0</td>\n      <td>1.0</td>\n      <td>6</td>\n      <td>398</td>\n    </tr>\n    <tr>\n      <th>5627321</th>\n      <td>-8.0</td>\n      <td>-8.0</td>\n      <td>-4</td>\n      <td>88</td>\n      <td>404</td>\n      <td>2017-01-01 05:15:00</td>\n      <td>2017-01-01 05:11:00</td>\n      <td>2017-01-01 06:32:00</td>\n      <td>5</td>\n      <td>-11</td>\n      <td>...</td>\n      <td>0</td>\n      <td>0</td>\n      <td>0</td>\n      <td>1.0</td>\n      <td>1.0</td>\n      <td>1.0</td>\n      <td>1.0</td>\n      <td>1.0</td>\n      <td>6</td>\n      <td>403</td>\n    </tr>\n    <tr>\n      <th>5622325</th>\n      <td>-8.0</td>\n      <td>-7.0</td>\n      <td>302</td>\n      <td>57</td>\n      <td>106</td>\n      <td>2017-01-01 05:49:00</td>\n      <td>2017-01-01 10:51:00</td>\n      <td>2017-01-01 12:19:00</td>\n      <td>7</td>\n      <td>333</td>\n      <td>...</td>\n      <td>0</td>\n      <td>0</td>\n      <td>0</td>\n      <td>1.0</td>\n      <td>1.0</td>\n      <td>1.0</td>\n      <td>1.0</td>\n      <td>1.0</td>\n      <td>6</td>\n      <td>406</td>\n    </tr>\n    <tr>\n      <th>5626430</th>\n      <td>-11.0</td>\n      <td>-9.0</td>\n      <td>-2</td>\n      <td>98</td>\n      <td>447</td>\n      <td>2017-01-01 05:30:00</td>\n      <td>2017-01-01 05:28:00</td>\n      <td>2017-01-01 07:19:00</td>\n      <td>6</td>\n      <td>11</td>\n      <td>...</td>\n      <td>0</td>\n      <td>0</td>\n      <td>0</td>\n      <td>1.0</td>\n      <td>1.0</td>\n      <td>1.0</td>\n      <td>1.0</td>\n      <td>1.0</td>\n      <td>6</td>\n      <td>428</td>\n    </tr>\n    <tr>\n      <th>5625623</th>\n      <td>-11.0</td>\n      <td>-9.0</td>\n      <td>-4</td>\n      <td>76</td>\n      <td>226</td>\n      <td>2017-01-01 06:00:00</td>\n      <td>2017-01-01 05:56:00</td>\n      <td>2017-01-01 07:08:00</td>\n      <td>7</td>\n      <td>-8</td>\n      <td>...</td>\n      <td>0</td>\n      <td>0</td>\n      <td>0</td>\n      <td>1.0</td>\n      <td>1.0</td>\n      <td>1.0</td>\n      <td>1.0</td>\n      <td>1.0</td>\n      <td>6</td>\n      <td>436</td>\n    </tr>\n  </tbody>\n</table>\n<p>5 rows × 48 columns</p>\n</div>"
     },
     "execution_count": 11,
     "metadata": {},
     "output_type": "execute_result"
    }
   ],
   "source": [
    "# Converting arival date into day and min of day\n",
    "data[\"ARR_DAY\"] = data[\"CRS_ARR_DATE\"].apply(lambda x: x.weekday())\n",
    "data[\"ARR_MIN_OF_DAY\"] = data[\"CRS_ARR_DATE\"].apply(lambda x: x.hour * 60 + x.minute)\n",
    "data = data.drop([\"CRS_ARR_DATE\"], axis=\"columns\")\n",
    "data.head()"
   ],
   "metadata": {
    "collapsed": false,
    "ExecuteTime": {
     "end_time": "2024-03-24T14:56:05.636125200Z",
     "start_time": "2024-03-24T14:56:03.397938400Z"
    }
   },
   "id": "a78b829a3a2c0297"
  },
  {
   "cell_type": "code",
   "execution_count": 12,
   "outputs": [
    {
     "data": {
      "text/plain": "         OP_UNIQUE_CARRIER  ORIGIN  DEP_DELAY  CRS_ELAPSED_TIME  DISTANCE  \\\n5626534              -11.0    -8.0         -2               223      1590   \n5627321               -8.0    -8.0         -4                88       404   \n5622325               -8.0    -7.0        302                57       106   \n5626430              -11.0    -9.0         -2                98       447   \n5625623              -11.0    -9.0         -4                76       226   \n\n         PREV_FLIGHTS_1H  ARR_DELAY Physical Class (Engine)  Engines  \\\n5626534                4         -7                     Jet        2   \n5627321                5        -11                     Jet        2   \n5622325                7        333                     Jet        2   \n5626430                6         11                     Jet        2   \n5625623                7         -8                     Jet        2   \n\n         Approach Speed(Vref)  ... EVENT_SG  EVENT_SN  EVENT_TS  08L/26R  \\\n5626534                   141  ...        0         0         0      1.0   \n5627321                   126  ...        0         0         0      1.0   \n5622325                   140  ...        0         0         0      1.0   \n5626430                   138  ...        0         0         0      1.0   \n5625623                   139  ...        0         0         0      1.0   \n\n         08R/26L  09L/27R  09R/27L  10/28  ARR_DAY  ARR_MIN_OF_DAY  \n5626534      1.0      1.0      1.0    1.0        6             398  \n5627321      1.0      1.0      1.0    1.0        6             403  \n5622325      1.0      1.0      1.0    1.0        6             406  \n5626430      1.0      1.0      1.0    1.0        6             428  \n5625623      1.0      1.0      1.0    1.0        6             436  \n\n[5 rows x 45 columns]",
      "text/html": "<div>\n<style scoped>\n    .dataframe tbody tr th:only-of-type {\n        vertical-align: middle;\n    }\n\n    .dataframe tbody tr th {\n        vertical-align: top;\n    }\n\n    .dataframe thead th {\n        text-align: right;\n    }\n</style>\n<table border=\"1\" class=\"dataframe\">\n  <thead>\n    <tr style=\"text-align: right;\">\n      <th></th>\n      <th>OP_UNIQUE_CARRIER</th>\n      <th>ORIGIN</th>\n      <th>DEP_DELAY</th>\n      <th>CRS_ELAPSED_TIME</th>\n      <th>DISTANCE</th>\n      <th>PREV_FLIGHTS_1H</th>\n      <th>ARR_DELAY</th>\n      <th>Physical Class (Engine)</th>\n      <th>Engines</th>\n      <th>Approach Speed(Vref)</th>\n      <th>...</th>\n      <th>EVENT_SG</th>\n      <th>EVENT_SN</th>\n      <th>EVENT_TS</th>\n      <th>08L/26R</th>\n      <th>08R/26L</th>\n      <th>09L/27R</th>\n      <th>09R/27L</th>\n      <th>10/28</th>\n      <th>ARR_DAY</th>\n      <th>ARR_MIN_OF_DAY</th>\n    </tr>\n  </thead>\n  <tbody>\n    <tr>\n      <th>5626534</th>\n      <td>-11.0</td>\n      <td>-8.0</td>\n      <td>-2</td>\n      <td>223</td>\n      <td>1590</td>\n      <td>4</td>\n      <td>-7</td>\n      <td>Jet</td>\n      <td>2</td>\n      <td>141</td>\n      <td>...</td>\n      <td>0</td>\n      <td>0</td>\n      <td>0</td>\n      <td>1.0</td>\n      <td>1.0</td>\n      <td>1.0</td>\n      <td>1.0</td>\n      <td>1.0</td>\n      <td>6</td>\n      <td>398</td>\n    </tr>\n    <tr>\n      <th>5627321</th>\n      <td>-8.0</td>\n      <td>-8.0</td>\n      <td>-4</td>\n      <td>88</td>\n      <td>404</td>\n      <td>5</td>\n      <td>-11</td>\n      <td>Jet</td>\n      <td>2</td>\n      <td>126</td>\n      <td>...</td>\n      <td>0</td>\n      <td>0</td>\n      <td>0</td>\n      <td>1.0</td>\n      <td>1.0</td>\n      <td>1.0</td>\n      <td>1.0</td>\n      <td>1.0</td>\n      <td>6</td>\n      <td>403</td>\n    </tr>\n    <tr>\n      <th>5622325</th>\n      <td>-8.0</td>\n      <td>-7.0</td>\n      <td>302</td>\n      <td>57</td>\n      <td>106</td>\n      <td>7</td>\n      <td>333</td>\n      <td>Jet</td>\n      <td>2</td>\n      <td>140</td>\n      <td>...</td>\n      <td>0</td>\n      <td>0</td>\n      <td>0</td>\n      <td>1.0</td>\n      <td>1.0</td>\n      <td>1.0</td>\n      <td>1.0</td>\n      <td>1.0</td>\n      <td>6</td>\n      <td>406</td>\n    </tr>\n    <tr>\n      <th>5626430</th>\n      <td>-11.0</td>\n      <td>-9.0</td>\n      <td>-2</td>\n      <td>98</td>\n      <td>447</td>\n      <td>6</td>\n      <td>11</td>\n      <td>Jet</td>\n      <td>2</td>\n      <td>138</td>\n      <td>...</td>\n      <td>0</td>\n      <td>0</td>\n      <td>0</td>\n      <td>1.0</td>\n      <td>1.0</td>\n      <td>1.0</td>\n      <td>1.0</td>\n      <td>1.0</td>\n      <td>6</td>\n      <td>428</td>\n    </tr>\n    <tr>\n      <th>5625623</th>\n      <td>-11.0</td>\n      <td>-9.0</td>\n      <td>-4</td>\n      <td>76</td>\n      <td>226</td>\n      <td>7</td>\n      <td>-8</td>\n      <td>Jet</td>\n      <td>2</td>\n      <td>139</td>\n      <td>...</td>\n      <td>0</td>\n      <td>0</td>\n      <td>0</td>\n      <td>1.0</td>\n      <td>1.0</td>\n      <td>1.0</td>\n      <td>1.0</td>\n      <td>1.0</td>\n      <td>6</td>\n      <td>436</td>\n    </tr>\n  </tbody>\n</table>\n<p>5 rows × 45 columns</p>\n</div>"
     },
     "execution_count": 12,
     "metadata": {},
     "output_type": "execute_result"
    }
   ],
   "source": [
    "# Dropping other useless or redundant CRS-columns\n",
    "data = data.drop([\"CRS_DEP_DATE\", \"ACT_DEP_DATE\", \"ACT_ARR_DATE\"], axis=1)\n",
    "data.head()"
   ],
   "metadata": {
    "collapsed": false,
    "ExecuteTime": {
     "end_time": "2024-03-24T14:56:05.776126400Z",
     "start_time": "2024-03-24T14:56:05.637127300Z"
    }
   },
   "id": "bc7fe5a5577ce374"
  },
  {
   "cell_type": "code",
   "execution_count": 13,
   "outputs": [
    {
     "data": {
      "text/plain": "<Figure size 640x480 with 1 Axes>",
      "image/png": "[encoded data removed]"
     },
     "metadata": {},
     "output_type": "display_data"
    }
   ],
   "source": [
    "data = encode(data, \"ARR_DAY\", 7)\n",
    "ax = data.plot.scatter('ARR_DAY_SIN', 'ARR_DAY_COS').set_aspect('equal')"
   ],
   "metadata": {
    "collapsed": false,
    "ExecuteTime": {
     "end_time": "2024-03-24T14:56:08.491108300Z",
     "start_time": "2024-03-24T14:56:05.731126900Z"
    }
   },
   "id": "3aff9691eb697661"
  },
  {
   "cell_type": "code",
   "execution_count": 14,
   "outputs": [
    {
     "data": {
      "text/plain": "<Figure size 640x480 with 1 Axes>",
      "image/png": "[encoded data removed]"
     },
     "metadata": {},
     "output_type": "display_data"
    }
   ],
   "source": [
    "data = encode(data, \"ARR_MIN_OF_DAY\", 24 * 60)\n",
    "ax = data.plot.scatter('ARR_MIN_OF_DAY_SIN', 'ARR_MIN_OF_DAY_COS').set_aspect('equal')"
   ],
   "metadata": {
    "collapsed": false,
    "ExecuteTime": {
     "end_time": "2024-03-24T14:56:09.659036600Z",
     "start_time": "2024-03-24T14:56:08.493110100Z"
    }
   },
   "id": "319c449bb4665bed"
  },
  {
   "cell_type": "code",
   "execution_count": 15,
   "outputs": [
    {
     "data": {
      "text/plain": "         OP_UNIQUE_CARRIER  ORIGIN  DEP_DELAY  CRS_ELAPSED_TIME  DISTANCE  \\\n5626534              -11.0    -8.0         -2               223      1590   \n5627321               -8.0    -8.0         -4                88       404   \n5622325               -8.0    -7.0        302                57       106   \n5626430              -11.0    -9.0         -2                98       447   \n5625623              -11.0    -9.0         -4                76       226   \n\n         PREV_FLIGHTS_1H  ARR_DELAY Physical Class (Engine)  Engines  \\\n5626534                4         -7                     Jet        2   \n5627321                5        -11                     Jet        2   \n5622325                7        333                     Jet        2   \n5626430                6         11                     Jet        2   \n5625623                7         -8                     Jet        2   \n\n         Approach Speed(Vref)  ... EVENT_TS  08L/26R  08R/26L  09L/27R  \\\n5626534                   141  ...        0      1.0      1.0      1.0   \n5627321                   126  ...        0      1.0      1.0      1.0   \n5622325                   140  ...        0      1.0      1.0      1.0   \n5626430                   138  ...        0      1.0      1.0      1.0   \n5625623                   139  ...        0      1.0      1.0      1.0   \n\n         09R/27L  10/28  ARR_DAY_SIN  ARR_DAY_COS  ARR_MIN_OF_DAY_SIN  \\\n5626534      1.0    1.0    -0.781831      0.62349            0.986286   \n5627321      1.0    1.0    -0.781831      0.62349            0.982450   \n5622325      1.0    1.0    -0.781831      0.62349            0.979925   \n5626430      1.0    1.0    -0.781831      0.62349            0.956305   \n5625623      1.0    1.0    -0.781831      0.62349            0.945519   \n\n         ARR_MIN_OF_DAY_COS  \n5626534           -0.165048  \n5627321           -0.186524  \n5622325           -0.199368  \n5626430           -0.292372  \n5625623           -0.325568  \n\n[5 rows x 47 columns]",
      "text/html": "<div>\n<style scoped>\n    .dataframe tbody tr th:only-of-type {\n        vertical-align: middle;\n    }\n\n    .dataframe tbody tr th {\n        vertical-align: top;\n    }\n\n    .dataframe thead th {\n        text-align: right;\n    }\n</style>\n<table border=\"1\" class=\"dataframe\">\n  <thead>\n    <tr style=\"text-align: right;\">\n      <th></th>\n      <th>OP_UNIQUE_CARRIER</th>\n      <th>ORIGIN</th>\n      <th>DEP_DELAY</th>\n      <th>CRS_ELAPSED_TIME</th>\n      <th>DISTANCE</th>\n      <th>PREV_FLIGHTS_1H</th>\n      <th>ARR_DELAY</th>\n      <th>Physical Class (Engine)</th>\n      <th>Engines</th>\n      <th>Approach Speed(Vref)</th>\n      <th>...</th>\n      <th>EVENT_TS</th>\n      <th>08L/26R</th>\n      <th>08R/26L</th>\n      <th>09L/27R</th>\n      <th>09R/27L</th>\n      <th>10/28</th>\n      <th>ARR_DAY_SIN</th>\n      <th>ARR_DAY_COS</th>\n      <th>ARR_MIN_OF_DAY_SIN</th>\n      <th>ARR_MIN_OF_DAY_COS</th>\n    </tr>\n  </thead>\n  <tbody>\n    <tr>\n      <th>5626534</th>\n      <td>-11.0</td>\n      <td>-8.0</td>\n      <td>-2</td>\n      <td>223</td>\n      <td>1590</td>\n      <td>4</td>\n      <td>-7</td>\n      <td>Jet</td>\n      <td>2</td>\n      <td>141</td>\n      <td>...</td>\n      <td>0</td>\n      <td>1.0</td>\n      <td>1.0</td>\n      <td>1.0</td>\n      <td>1.0</td>\n      <td>1.0</td>\n      <td>-0.781831</td>\n      <td>0.62349</td>\n      <td>0.986286</td>\n      <td>-0.165048</td>\n    </tr>\n    <tr>\n      <th>5627321</th>\n      <td>-8.0</td>\n      <td>-8.0</td>\n      <td>-4</td>\n      <td>88</td>\n      <td>404</td>\n      <td>5</td>\n      <td>-11</td>\n      <td>Jet</td>\n      <td>2</td>\n      <td>126</td>\n      <td>...</td>\n      <td>0</td>\n      <td>1.0</td>\n      <td>1.0</td>\n      <td>1.0</td>\n      <td>1.0</td>\n      <td>1.0</td>\n      <td>-0.781831</td>\n      <td>0.62349</td>\n      <td>0.982450</td>\n      <td>-0.186524</td>\n    </tr>\n    <tr>\n      <th>5622325</th>\n      <td>-8.0</td>\n      <td>-7.0</td>\n      <td>302</td>\n      <td>57</td>\n      <td>106</td>\n      <td>7</td>\n      <td>333</td>\n      <td>Jet</td>\n      <td>2</td>\n      <td>140</td>\n      <td>...</td>\n      <td>0</td>\n      <td>1.0</td>\n      <td>1.0</td>\n      <td>1.0</td>\n      <td>1.0</td>\n      <td>1.0</td>\n      <td>-0.781831</td>\n      <td>0.62349</td>\n      <td>0.979925</td>\n      <td>-0.199368</td>\n    </tr>\n    <tr>\n      <th>5626430</th>\n      <td>-11.0</td>\n      <td>-9.0</td>\n      <td>-2</td>\n      <td>98</td>\n      <td>447</td>\n      <td>6</td>\n      <td>11</td>\n      <td>Jet</td>\n      <td>2</td>\n      <td>138</td>\n      <td>...</td>\n      <td>0</td>\n      <td>1.0</td>\n      <td>1.0</td>\n      <td>1.0</td>\n      <td>1.0</td>\n      <td>1.0</td>\n      <td>-0.781831</td>\n      <td>0.62349</td>\n      <td>0.956305</td>\n      <td>-0.292372</td>\n    </tr>\n    <tr>\n      <th>5625623</th>\n      <td>-11.0</td>\n      <td>-9.0</td>\n      <td>-4</td>\n      <td>76</td>\n      <td>226</td>\n      <td>7</td>\n      <td>-8</td>\n      <td>Jet</td>\n      <td>2</td>\n      <td>139</td>\n      <td>...</td>\n      <td>0</td>\n      <td>1.0</td>\n      <td>1.0</td>\n      <td>1.0</td>\n      <td>1.0</td>\n      <td>1.0</td>\n      <td>-0.781831</td>\n      <td>0.62349</td>\n      <td>0.945519</td>\n      <td>-0.325568</td>\n    </tr>\n  </tbody>\n</table>\n<p>5 rows × 47 columns</p>\n</div>"
     },
     "execution_count": 15,
     "metadata": {},
     "output_type": "execute_result"
    }
   ],
   "source": [
    "# Dropping the older values for the cyclic encoded columns\n",
    "data = data.drop([\"ARR_MIN_OF_DAY\", \"ARR_DAY\"], axis=1)\n",
    "data.head()"
   ],
   "metadata": {
    "collapsed": false,
    "ExecuteTime": {
     "end_time": "2024-03-24T14:56:09.738998800Z",
     "start_time": "2024-03-24T14:56:09.652061500Z"
    }
   },
   "id": "866085d4db527945"
  },
  {
   "cell_type": "code",
   "execution_count": 16,
   "outputs": [
    {
     "data": {
      "text/plain": "5626534     101964.171383\n5627321     101896.443604\n5622325     101727.124156\n5626430     101896.443604\n5625623     101727.124156\n                ...      \n11291377    101862.579714\n11292052    101862.579714\n11290999    101862.579714\n11290527    101862.579714\n11290612    101862.579714\nName: alti, Length: 329005, dtype: float64"
     },
     "execution_count": 16,
     "metadata": {},
     "output_type": "execute_result"
    }
   ],
   "source": [
    "inchHg_to_pa(data[\"alti\"])"
   ],
   "metadata": {
    "collapsed": false,
    "ExecuteTime": {
     "end_time": "2024-03-24T14:56:09.753990Z",
     "start_time": "2024-03-24T14:56:09.732989600Z"
    }
   },
   "id": "88f2e578028c2804"
  },
  {
   "cell_type": "code",
   "execution_count": 17,
   "outputs": [
    {
     "data": {
      "text/plain": "         OP_UNIQUE_CARRIER  ORIGIN  DEP_DELAY  CRS_ELAPSED_TIME    DISTANCE  \\\n5626534              -11.0    -8.0         -2               223  2558.85060   \n5627321               -8.0    -8.0         -4                88   650.17336   \n5622325               -8.0    -7.0        302                57   170.59004   \n5626430              -11.0    -9.0         -2                98   719.37498   \n5625623              -11.0    -9.0         -4                76   363.71084   \n\n         PREV_FLIGHTS_1H  ARR_DELAY Physical Class (Engine)  Engines  \\\n5626534                4         -7                     Jet        2   \n5627321                5        -11                     Jet        2   \n5622325                7        333                     Jet        2   \n5626430                6         11                     Jet        2   \n5625623                7         -8                     Jet        2   \n\n         Approach Speed(Vref)  ... EVENT_TS  08L/26R  08R/26L  09L/27R  \\\n5626534               261.132  ...        0      1.0      1.0      1.0   \n5627321               233.352  ...        0      1.0      1.0      1.0   \n5622325               259.280  ...        0      1.0      1.0      1.0   \n5626430               255.576  ...        0      1.0      1.0      1.0   \n5625623               257.428  ...        0      1.0      1.0      1.0   \n\n         09R/27L  10/28  ARR_DAY_SIN  ARR_DAY_COS  ARR_MIN_OF_DAY_SIN  \\\n5626534      1.0    1.0    -0.781831      0.62349            0.986286   \n5627321      1.0    1.0    -0.781831      0.62349            0.982450   \n5622325      1.0    1.0    -0.781831      0.62349            0.979925   \n5626430      1.0    1.0    -0.781831      0.62349            0.956305   \n5625623      1.0    1.0    -0.781831      0.62349            0.945519   \n\n         ARR_MIN_OF_DAY_COS  \n5626534           -0.165048  \n5627321           -0.186524  \n5622325           -0.199368  \n5626430           -0.292372  \n5625623           -0.325568  \n\n[5 rows x 47 columns]",
      "text/html": "<div>\n<style scoped>\n    .dataframe tbody tr th:only-of-type {\n        vertical-align: middle;\n    }\n\n    .dataframe tbody tr th {\n        vertical-align: top;\n    }\n\n    .dataframe thead th {\n        text-align: right;\n    }\n</style>\n<table border=\"1\" class=\"dataframe\">\n  <thead>\n    <tr style=\"text-align: right;\">\n      <th></th>\n      <th>OP_UNIQUE_CARRIER</th>\n      <th>ORIGIN</th>\n      <th>DEP_DELAY</th>\n      <th>CRS_ELAPSED_TIME</th>\n      <th>DISTANCE</th>\n      <th>PREV_FLIGHTS_1H</th>\n      <th>ARR_DELAY</th>\n      <th>Physical Class (Engine)</th>\n      <th>Engines</th>\n      <th>Approach Speed(Vref)</th>\n      <th>...</th>\n      <th>EVENT_TS</th>\n      <th>08L/26R</th>\n      <th>08R/26L</th>\n      <th>09L/27R</th>\n      <th>09R/27L</th>\n      <th>10/28</th>\n      <th>ARR_DAY_SIN</th>\n      <th>ARR_DAY_COS</th>\n      <th>ARR_MIN_OF_DAY_SIN</th>\n      <th>ARR_MIN_OF_DAY_COS</th>\n    </tr>\n  </thead>\n  <tbody>\n    <tr>\n      <th>5626534</th>\n      <td>-11.0</td>\n      <td>-8.0</td>\n      <td>-2</td>\n      <td>223</td>\n      <td>2558.85060</td>\n      <td>4</td>\n      <td>-7</td>\n      <td>Jet</td>\n      <td>2</td>\n      <td>261.132</td>\n      <td>...</td>\n      <td>0</td>\n      <td>1.0</td>\n      <td>1.0</td>\n      <td>1.0</td>\n      <td>1.0</td>\n      <td>1.0</td>\n      <td>-0.781831</td>\n      <td>0.62349</td>\n      <td>0.986286</td>\n      <td>-0.165048</td>\n    </tr>\n    <tr>\n      <th>5627321</th>\n      <td>-8.0</td>\n      <td>-8.0</td>\n      <td>-4</td>\n      <td>88</td>\n      <td>650.17336</td>\n      <td>5</td>\n      <td>-11</td>\n      <td>Jet</td>\n      <td>2</td>\n      <td>233.352</td>\n      <td>...</td>\n      <td>0</td>\n      <td>1.0</td>\n      <td>1.0</td>\n      <td>1.0</td>\n      <td>1.0</td>\n      <td>1.0</td>\n      <td>-0.781831</td>\n      <td>0.62349</td>\n      <td>0.982450</td>\n      <td>-0.186524</td>\n    </tr>\n    <tr>\n      <th>5622325</th>\n      <td>-8.0</td>\n      <td>-7.0</td>\n      <td>302</td>\n      <td>57</td>\n      <td>170.59004</td>\n      <td>7</td>\n      <td>333</td>\n      <td>Jet</td>\n      <td>2</td>\n      <td>259.280</td>\n      <td>...</td>\n      <td>0</td>\n      <td>1.0</td>\n      <td>1.0</td>\n      <td>1.0</td>\n      <td>1.0</td>\n      <td>1.0</td>\n      <td>-0.781831</td>\n      <td>0.62349</td>\n      <td>0.979925</td>\n      <td>-0.199368</td>\n    </tr>\n    <tr>\n      <th>5626430</th>\n      <td>-11.0</td>\n      <td>-9.0</td>\n      <td>-2</td>\n      <td>98</td>\n      <td>719.37498</td>\n      <td>6</td>\n      <td>11</td>\n      <td>Jet</td>\n      <td>2</td>\n      <td>255.576</td>\n      <td>...</td>\n      <td>0</td>\n      <td>1.0</td>\n      <td>1.0</td>\n      <td>1.0</td>\n      <td>1.0</td>\n      <td>1.0</td>\n      <td>-0.781831</td>\n      <td>0.62349</td>\n      <td>0.956305</td>\n      <td>-0.292372</td>\n    </tr>\n    <tr>\n      <th>5625623</th>\n      <td>-11.0</td>\n      <td>-9.0</td>\n      <td>-4</td>\n      <td>76</td>\n      <td>363.71084</td>\n      <td>7</td>\n      <td>-8</td>\n      <td>Jet</td>\n      <td>2</td>\n      <td>257.428</td>\n      <td>...</td>\n      <td>0</td>\n      <td>1.0</td>\n      <td>1.0</td>\n      <td>1.0</td>\n      <td>1.0</td>\n      <td>1.0</td>\n      <td>-0.781831</td>\n      <td>0.62349</td>\n      <td>0.945519</td>\n      <td>-0.325568</td>\n    </tr>\n  </tbody>\n</table>\n<p>5 rows × 47 columns</p>\n</div>"
     },
     "execution_count": 17,
     "metadata": {},
     "output_type": "execute_result"
    }
   ],
   "source": [
    "# Converting imperial units to metric units\n",
    "\n",
    "F_cols = [\"tmpf\", \"dwpf\", \"feel\"]\n",
    "knt_cols = [\"sknt\", \"Approach Speed(Vref)\"]\n",
    "ft_cols = [\"Wingspan, ft\", \"Length, ft\", \"Tail Height, ft(@ OEW)\"]\n",
    "mile_cols = [\"DISTANCE\"]\n",
    "lb_cols = [\"MTOW\"]\n",
    "sqft_cols = [\"Parking Area (WS x Length), sf\"]\n",
    "inchHg_cols = [\"alti\"]\n",
    "\n",
    "for col in F_cols:\n",
    "    data[col] = F_to_C_deg(data[col])\n",
    "for col in knt_cols:\n",
    "    data[col] = knt_to_kmh(data[col])\n",
    "for col in ft_cols:\n",
    "    data[col] = ft_to_m(data[col])\n",
    "for col in mile_cols:\n",
    "    data[col] = mile_to_km(data[col])\n",
    "for col in lb_cols:\n",
    "    data[col] = lb_to_kg(data[col])\n",
    "for col in sqft_cols:\n",
    "    data[col] = sqft_to_sqm(data[col])\n",
    "for col in inchHg_cols:\n",
    "    data[col] = inchHg_to_pa(data[col])\n",
    "data.head()"
   ],
   "metadata": {
    "collapsed": false,
    "ExecuteTime": {
     "end_time": "2024-03-24T14:56:10.006193600Z",
     "start_time": "2024-03-24T14:56:09.753990Z"
    }
   },
   "id": "65ea588fb4d4c668"
  },
  {
   "cell_type": "code",
   "execution_count": 18,
   "outputs": [
    {
     "data": {
      "text/plain": "         OP_UNIQUE_CARRIER  ORIGIN  DEP_DELAY  CRS_ELAPSED_TIME    DISTANCE  \\\n5626534              -11.0    -8.0         -2               223  2558.85060   \n5627321               -8.0    -8.0         -4                88   650.17336   \n5622325               -8.0    -7.0        302                57   170.59004   \n5626430              -11.0    -9.0         -2                98   719.37498   \n5625623              -11.0    -9.0         -4                76   363.71084   \n\n         PREV_FLIGHTS_1H  ARR_DELAY  Engines  Approach Speed(Vref)  \\\n5626534                4         -7        2               261.132   \n5627321                5        -11        2               233.352   \n5622325                7        333        2               259.280   \n5626430                6         11        2               255.576   \n5625623                7         -8        2               257.428   \n\n         Wingspan, ft  ...  10/28  ARR_DAY_SIN  ARR_DAY_COS  \\\n5626534     34.314384  ...    1.0    -0.781831      0.62349   \n5627321     34.101024  ...    1.0    -0.781831      0.62349   \n5622325     20.930616  ...    1.0    -0.781831      0.62349   \n5626430     32.799528  ...    1.0    -0.781831      0.62349   \n5625623     28.446984  ...    1.0    -0.781831      0.62349   \n\n         ARR_MIN_OF_DAY_SIN  ARR_MIN_OF_DAY_COS  Jet  Turboprop  no winglets  \\\n5626534            0.986286           -0.165048    1          0            1   \n5627321            0.982450           -0.186524    1          0            0   \n5622325            0.979925           -0.199368    1          0            0   \n5626430            0.956305           -0.292372    1          0            0   \n5625623            0.945519           -0.325568    1          0            1   \n\n         winglets  wingtip fences  \n5626534         0               0  \n5627321         0               1  \n5622325         1               0  \n5626430         1               0  \n5625623         0               0  \n\n[5 rows x 50 columns]",
      "text/html": "<div>\n<style scoped>\n    .dataframe tbody tr th:only-of-type {\n        vertical-align: middle;\n    }\n\n    .dataframe tbody tr th {\n        vertical-align: top;\n    }\n\n    .dataframe thead th {\n        text-align: right;\n    }\n</style>\n<table border=\"1\" class=\"dataframe\">\n  <thead>\n    <tr style=\"text-align: right;\">\n      <th></th>\n      <th>OP_UNIQUE_CARRIER</th>\n      <th>ORIGIN</th>\n      <th>DEP_DELAY</th>\n      <th>CRS_ELAPSED_TIME</th>\n      <th>DISTANCE</th>\n      <th>PREV_FLIGHTS_1H</th>\n      <th>ARR_DELAY</th>\n      <th>Engines</th>\n      <th>Approach Speed(Vref)</th>\n      <th>Wingspan, ft</th>\n      <th>...</th>\n      <th>10/28</th>\n      <th>ARR_DAY_SIN</th>\n      <th>ARR_DAY_COS</th>\n      <th>ARR_MIN_OF_DAY_SIN</th>\n      <th>ARR_MIN_OF_DAY_COS</th>\n      <th>Jet</th>\n      <th>Turboprop</th>\n      <th>no winglets</th>\n      <th>winglets</th>\n      <th>wingtip fences</th>\n    </tr>\n  </thead>\n  <tbody>\n    <tr>\n      <th>5626534</th>\n      <td>-11.0</td>\n      <td>-8.0</td>\n      <td>-2</td>\n      <td>223</td>\n      <td>2558.85060</td>\n      <td>4</td>\n      <td>-7</td>\n      <td>2</td>\n      <td>261.132</td>\n      <td>34.314384</td>\n      <td>...</td>\n      <td>1.0</td>\n      <td>-0.781831</td>\n      <td>0.62349</td>\n      <td>0.986286</td>\n      <td>-0.165048</td>\n      <td>1</td>\n      <td>0</td>\n      <td>1</td>\n      <td>0</td>\n      <td>0</td>\n    </tr>\n    <tr>\n      <th>5627321</th>\n      <td>-8.0</td>\n      <td>-8.0</td>\n      <td>-4</td>\n      <td>88</td>\n      <td>650.17336</td>\n      <td>5</td>\n      <td>-11</td>\n      <td>2</td>\n      <td>233.352</td>\n      <td>34.101024</td>\n      <td>...</td>\n      <td>1.0</td>\n      <td>-0.781831</td>\n      <td>0.62349</td>\n      <td>0.982450</td>\n      <td>-0.186524</td>\n      <td>1</td>\n      <td>0</td>\n      <td>0</td>\n      <td>0</td>\n      <td>1</td>\n    </tr>\n    <tr>\n      <th>5622325</th>\n      <td>-8.0</td>\n      <td>-7.0</td>\n      <td>302</td>\n      <td>57</td>\n      <td>170.59004</td>\n      <td>7</td>\n      <td>333</td>\n      <td>2</td>\n      <td>259.280</td>\n      <td>20.930616</td>\n      <td>...</td>\n      <td>1.0</td>\n      <td>-0.781831</td>\n      <td>0.62349</td>\n      <td>0.979925</td>\n      <td>-0.199368</td>\n      <td>1</td>\n      <td>0</td>\n      <td>0</td>\n      <td>1</td>\n      <td>0</td>\n    </tr>\n    <tr>\n      <th>5626430</th>\n      <td>-11.0</td>\n      <td>-9.0</td>\n      <td>-2</td>\n      <td>98</td>\n      <td>719.37498</td>\n      <td>6</td>\n      <td>11</td>\n      <td>2</td>\n      <td>255.576</td>\n      <td>32.799528</td>\n      <td>...</td>\n      <td>1.0</td>\n      <td>-0.781831</td>\n      <td>0.62349</td>\n      <td>0.956305</td>\n      <td>-0.292372</td>\n      <td>1</td>\n      <td>0</td>\n      <td>0</td>\n      <td>1</td>\n      <td>0</td>\n    </tr>\n    <tr>\n      <th>5625623</th>\n      <td>-11.0</td>\n      <td>-9.0</td>\n      <td>-4</td>\n      <td>76</td>\n      <td>363.71084</td>\n      <td>7</td>\n      <td>-8</td>\n      <td>2</td>\n      <td>257.428</td>\n      <td>28.446984</td>\n      <td>...</td>\n      <td>1.0</td>\n      <td>-0.781831</td>\n      <td>0.62349</td>\n      <td>0.945519</td>\n      <td>-0.325568</td>\n      <td>1</td>\n      <td>0</td>\n      <td>1</td>\n      <td>0</td>\n      <td>0</td>\n    </tr>\n  </tbody>\n</table>\n<p>5 rows × 50 columns</p>\n</div>"
     },
     "execution_count": 18,
     "metadata": {},
     "output_type": "execute_result"
    }
   ],
   "source": [
    "# Create dummies for categorical columns\n",
    "data = data.join(pd.get_dummies(data[\"Physical Class (Engine)\"])).drop([\"Physical Class (Engine)\"],axis=1)\n",
    "data = data.join(pd.get_dummies(data[\"Wingtip Configuration\"])).drop([\"Wingtip Configuration\"],axis=1)\n",
    "data.head()"
   ],
   "metadata": {
    "collapsed": false,
    "ExecuteTime": {
     "end_time": "2024-03-24T14:56:10.409012900Z",
     "start_time": "2024-03-24T14:56:10.003193400Z"
    }
   },
   "id": "59c7f1bcf9700d15"
  },
  {
   "cell_type": "code",
   "execution_count": 19,
   "outputs": [
    {
     "data": {
      "text/plain": "         OP_UNIQUE_CARRIER  ORIGIN  DEP_DELAY  CRS_ELAPSED_TIME    DISTANCE  \\\n5626534              -11.0    -8.0         -2               223  2558.85060   \n5627321               -8.0    -8.0         -4                88   650.17336   \n5622325               -8.0    -7.0        302                57   170.59004   \n5626430              -11.0    -9.0         -2                98   719.37498   \n5625623              -11.0    -9.0         -4                76   363.71084   \n\n         PREV_FLIGHTS_1H  ARR_DELAY  Engines  Approach Speed(Vref)  \\\n5626534                4         -7        2               261.132   \n5627321                5        -11        2               233.352   \n5622325                7        333        2               259.280   \n5626430                6         11        2               255.576   \n5625623                7         -8        2               257.428   \n\n         Wingspan, ft  ...  08R/26L  09L/27R  09R/27L  10/28  ARR_DAY_SIN  \\\n5626534     34.314384  ...      1.0      1.0      1.0    1.0    -0.781831   \n5627321     34.101024  ...      1.0      1.0      1.0    1.0    -0.781831   \n5622325     20.930616  ...      1.0      1.0      1.0    1.0    -0.781831   \n5626430     32.799528  ...      1.0      1.0      1.0    1.0    -0.781831   \n5625623     28.446984  ...      1.0      1.0      1.0    1.0    -0.781831   \n\n         ARR_DAY_COS  ARR_MIN_OF_DAY_SIN  ARR_MIN_OF_DAY_COS  Jet  winglets  \n5626534      0.62349            0.986286           -0.165048    1         0  \n5627321      0.62349            0.982450           -0.186524    1         1  \n5622325      0.62349            0.979925           -0.199368    1         1  \n5626430      0.62349            0.956305           -0.292372    1         1  \n5625623      0.62349            0.945519           -0.325568    1         0  \n\n[5 rows x 47 columns]",
      "text/html": "<div>\n<style scoped>\n    .dataframe tbody tr th:only-of-type {\n        vertical-align: middle;\n    }\n\n    .dataframe tbody tr th {\n        vertical-align: top;\n    }\n\n    .dataframe thead th {\n        text-align: right;\n    }\n</style>\n<table border=\"1\" class=\"dataframe\">\n  <thead>\n    <tr style=\"text-align: right;\">\n      <th></th>\n      <th>OP_UNIQUE_CARRIER</th>\n      <th>ORIGIN</th>\n      <th>DEP_DELAY</th>\n      <th>CRS_ELAPSED_TIME</th>\n      <th>DISTANCE</th>\n      <th>PREV_FLIGHTS_1H</th>\n      <th>ARR_DELAY</th>\n      <th>Engines</th>\n      <th>Approach Speed(Vref)</th>\n      <th>Wingspan, ft</th>\n      <th>...</th>\n      <th>08R/26L</th>\n      <th>09L/27R</th>\n      <th>09R/27L</th>\n      <th>10/28</th>\n      <th>ARR_DAY_SIN</th>\n      <th>ARR_DAY_COS</th>\n      <th>ARR_MIN_OF_DAY_SIN</th>\n      <th>ARR_MIN_OF_DAY_COS</th>\n      <th>Jet</th>\n      <th>winglets</th>\n    </tr>\n  </thead>\n  <tbody>\n    <tr>\n      <th>5626534</th>\n      <td>-11.0</td>\n      <td>-8.0</td>\n      <td>-2</td>\n      <td>223</td>\n      <td>2558.85060</td>\n      <td>4</td>\n      <td>-7</td>\n      <td>2</td>\n      <td>261.132</td>\n      <td>34.314384</td>\n      <td>...</td>\n      <td>1.0</td>\n      <td>1.0</td>\n      <td>1.0</td>\n      <td>1.0</td>\n      <td>-0.781831</td>\n      <td>0.62349</td>\n      <td>0.986286</td>\n      <td>-0.165048</td>\n      <td>1</td>\n      <td>0</td>\n    </tr>\n    <tr>\n      <th>5627321</th>\n      <td>-8.0</td>\n      <td>-8.0</td>\n      <td>-4</td>\n      <td>88</td>\n      <td>650.17336</td>\n      <td>5</td>\n      <td>-11</td>\n      <td>2</td>\n      <td>233.352</td>\n      <td>34.101024</td>\n      <td>...</td>\n      <td>1.0</td>\n      <td>1.0</td>\n      <td>1.0</td>\n      <td>1.0</td>\n      <td>-0.781831</td>\n      <td>0.62349</td>\n      <td>0.982450</td>\n      <td>-0.186524</td>\n      <td>1</td>\n      <td>1</td>\n    </tr>\n    <tr>\n      <th>5622325</th>\n      <td>-8.0</td>\n      <td>-7.0</td>\n      <td>302</td>\n      <td>57</td>\n      <td>170.59004</td>\n      <td>7</td>\n      <td>333</td>\n      <td>2</td>\n      <td>259.280</td>\n      <td>20.930616</td>\n      <td>...</td>\n      <td>1.0</td>\n      <td>1.0</td>\n      <td>1.0</td>\n      <td>1.0</td>\n      <td>-0.781831</td>\n      <td>0.62349</td>\n      <td>0.979925</td>\n      <td>-0.199368</td>\n      <td>1</td>\n      <td>1</td>\n    </tr>\n    <tr>\n      <th>5626430</th>\n      <td>-11.0</td>\n      <td>-9.0</td>\n      <td>-2</td>\n      <td>98</td>\n      <td>719.37498</td>\n      <td>6</td>\n      <td>11</td>\n      <td>2</td>\n      <td>255.576</td>\n      <td>32.799528</td>\n      <td>...</td>\n      <td>1.0</td>\n      <td>1.0</td>\n      <td>1.0</td>\n      <td>1.0</td>\n      <td>-0.781831</td>\n      <td>0.62349</td>\n      <td>0.956305</td>\n      <td>-0.292372</td>\n      <td>1</td>\n      <td>1</td>\n    </tr>\n    <tr>\n      <th>5625623</th>\n      <td>-11.0</td>\n      <td>-9.0</td>\n      <td>-4</td>\n      <td>76</td>\n      <td>363.71084</td>\n      <td>7</td>\n      <td>-8</td>\n      <td>2</td>\n      <td>257.428</td>\n      <td>28.446984</td>\n      <td>...</td>\n      <td>1.0</td>\n      <td>1.0</td>\n      <td>1.0</td>\n      <td>1.0</td>\n      <td>-0.781831</td>\n      <td>0.62349</td>\n      <td>0.945519</td>\n      <td>-0.325568</td>\n      <td>1</td>\n      <td>0</td>\n    </tr>\n  </tbody>\n</table>\n<p>5 rows × 47 columns</p>\n</div>"
     },
     "execution_count": 19,
     "metadata": {},
     "output_type": "execute_result"
    }
   ],
   "source": [
    "# Fusing wingtip fences and winglets into one category\n",
    "data[\"winglets\"] = data[\"wingtip fences\"] + data[\"winglets\"]\n",
    "# Dropping turboprop since a no on jet means yes on prop\n",
    "data = data.drop([\"Turboprop\"], axis=1)\n",
    "data = data.drop([\"wingtip fences\", \"no winglets\"], axis=1)\n",
    "data.head()"
   ],
   "metadata": {
    "collapsed": false,
    "ExecuteTime": {
     "end_time": "2024-03-24T14:56:10.689012700Z",
     "start_time": "2024-03-24T14:56:10.400012200Z"
    }
   },
   "id": "22d282121949260c"
  },
  {
   "cell_type": "code",
   "execution_count": 20,
   "outputs": [
    {
     "data": {
      "text/plain": "         MEDIAN_CARR_DELAY(MINS)  MEDIAN_ORIGIN_DELAY(MINS)  DEP_DELAY(MINS)  \\\n5626534                    -11.0                       -8.0               -2   \n5627321                     -8.0                       -8.0               -4   \n5622325                     -8.0                       -7.0              302   \n5626430                    -11.0                       -9.0               -2   \n5625623                    -11.0                       -9.0               -4   \n\n         CRS_ELAPSED_TIME(MINS)  DISTANCE(KM)  NR_PREV_ARR_FLIGHTS(1HR)  \\\n5626534                     223    2558.85060                         4   \n5627321                      88     650.17336                         5   \n5622325                      57     170.59004                         7   \n5626430                      98     719.37498                         6   \n5625623                      76     363.71084                         7   \n\n         ARR_DELAY_MINS  NR_ENGINES  APPROACH_SPEED(KMH)  WINGSPAN(M)  ...  \\\n5626534              -7           2              261.132    34.314384  ...   \n5627321             -11           2              233.352    34.101024  ...   \n5622325             333           2              259.280    20.930616  ...   \n5626430              11           2              255.576    32.799528  ...   \n5625623              -8           2              257.428    28.446984  ...   \n\n         08R/26L  09L/27R  09R/27L  10/28  ARR_DAY_SIN  ARR_DAY_COS  \\\n5626534      1.0      1.0      1.0    1.0    -0.781831      0.62349   \n5627321      1.0      1.0      1.0    1.0    -0.781831      0.62349   \n5622325      1.0      1.0      1.0    1.0    -0.781831      0.62349   \n5626430      1.0      1.0      1.0    1.0    -0.781831      0.62349   \n5625623      1.0      1.0      1.0    1.0    -0.781831      0.62349   \n\n         ARR_MIN_OF_DAY_SIN  ARR_MIN_OF_DAY_COS  JET(YN)  WINGLETS(YN)  \n5626534            0.986286           -0.165048        1             0  \n5627321            0.982450           -0.186524        1             1  \n5622325            0.979925           -0.199368        1             1  \n5626430            0.956305           -0.292372        1             1  \n5625623            0.945519           -0.325568        1             0  \n\n[5 rows x 47 columns]",
      "text/html": "<div>\n<style scoped>\n    .dataframe tbody tr th:only-of-type {\n        vertical-align: middle;\n    }\n\n    .dataframe tbody tr th {\n        vertical-align: top;\n    }\n\n    .dataframe thead th {\n        text-align: right;\n    }\n</style>\n<table border=\"1\" class=\"dataframe\">\n  <thead>\n    <tr style=\"text-align: right;\">\n      <th></th>\n      <th>MEDIAN_CARR_DELAY(MINS)</th>\n      <th>MEDIAN_ORIGIN_DELAY(MINS)</th>\n      <th>DEP_DELAY(MINS)</th>\n      <th>CRS_ELAPSED_TIME(MINS)</th>\n      <th>DISTANCE(KM)</th>\n      <th>NR_PREV_ARR_FLIGHTS(1HR)</th>\n      <th>ARR_DELAY_MINS</th>\n      <th>NR_ENGINES</th>\n      <th>APPROACH_SPEED(KMH)</th>\n      <th>WINGSPAN(M)</th>\n      <th>...</th>\n      <th>08R/26L</th>\n      <th>09L/27R</th>\n      <th>09R/27L</th>\n      <th>10/28</th>\n      <th>ARR_DAY_SIN</th>\n      <th>ARR_DAY_COS</th>\n      <th>ARR_MIN_OF_DAY_SIN</th>\n      <th>ARR_MIN_OF_DAY_COS</th>\n      <th>JET(YN)</th>\n      <th>WINGLETS(YN)</th>\n    </tr>\n  </thead>\n  <tbody>\n    <tr>\n      <th>5626534</th>\n      <td>-11.0</td>\n      <td>-8.0</td>\n      <td>-2</td>\n      <td>223</td>\n      <td>2558.85060</td>\n      <td>4</td>\n      <td>-7</td>\n      <td>2</td>\n      <td>261.132</td>\n      <td>34.314384</td>\n      <td>...</td>\n      <td>1.0</td>\n      <td>1.0</td>\n      <td>1.0</td>\n      <td>1.0</td>\n      <td>-0.781831</td>\n      <td>0.62349</td>\n      <td>0.986286</td>\n      <td>-0.165048</td>\n      <td>1</td>\n      <td>0</td>\n    </tr>\n    <tr>\n      <th>5627321</th>\n      <td>-8.0</td>\n      <td>-8.0</td>\n      <td>-4</td>\n      <td>88</td>\n      <td>650.17336</td>\n      <td>5</td>\n      <td>-11</td>\n      <td>2</td>\n      <td>233.352</td>\n      <td>34.101024</td>\n      <td>...</td>\n      <td>1.0</td>\n      <td>1.0</td>\n      <td>1.0</td>\n      <td>1.0</td>\n      <td>-0.781831</td>\n      <td>0.62349</td>\n      <td>0.982450</td>\n      <td>-0.186524</td>\n      <td>1</td>\n      <td>1</td>\n    </tr>\n    <tr>\n      <th>5622325</th>\n      <td>-8.0</td>\n      <td>-7.0</td>\n      <td>302</td>\n      <td>57</td>\n      <td>170.59004</td>\n      <td>7</td>\n      <td>333</td>\n      <td>2</td>\n      <td>259.280</td>\n      <td>20.930616</td>\n      <td>...</td>\n      <td>1.0</td>\n      <td>1.0</td>\n      <td>1.0</td>\n      <td>1.0</td>\n      <td>-0.781831</td>\n      <td>0.62349</td>\n      <td>0.979925</td>\n      <td>-0.199368</td>\n      <td>1</td>\n      <td>1</td>\n    </tr>\n    <tr>\n      <th>5626430</th>\n      <td>-11.0</td>\n      <td>-9.0</td>\n      <td>-2</td>\n      <td>98</td>\n      <td>719.37498</td>\n      <td>6</td>\n      <td>11</td>\n      <td>2</td>\n      <td>255.576</td>\n      <td>32.799528</td>\n      <td>...</td>\n      <td>1.0</td>\n      <td>1.0</td>\n      <td>1.0</td>\n      <td>1.0</td>\n      <td>-0.781831</td>\n      <td>0.62349</td>\n      <td>0.956305</td>\n      <td>-0.292372</td>\n      <td>1</td>\n      <td>1</td>\n    </tr>\n    <tr>\n      <th>5625623</th>\n      <td>-11.0</td>\n      <td>-9.0</td>\n      <td>-4</td>\n      <td>76</td>\n      <td>363.71084</td>\n      <td>7</td>\n      <td>-8</td>\n      <td>2</td>\n      <td>257.428</td>\n      <td>28.446984</td>\n      <td>...</td>\n      <td>1.0</td>\n      <td>1.0</td>\n      <td>1.0</td>\n      <td>1.0</td>\n      <td>-0.781831</td>\n      <td>0.62349</td>\n      <td>0.945519</td>\n      <td>-0.325568</td>\n      <td>1</td>\n      <td>0</td>\n    </tr>\n  </tbody>\n</table>\n<p>5 rows × 47 columns</p>\n</div>"
     },
     "execution_count": 20,
     "metadata": {},
     "output_type": "execute_result"
    }
   ],
   "source": [
    "# Standard naming for all columns\n",
    "rename_dict = {\n",
    "    \"OP_UNIQUE_CARRIER\" : \"MEDIAN_CARR_DELAY(MINS)\",\n",
    "    \"ORIGIN\" : \"MEDIAN_ORIGIN_DELAY(MINS)\",\n",
    "    \"Jet\": \"JET(YN)\",\n",
    "    \"no winglets\": \"WINGLETS(YN)\",\n",
    "    \"CRS_ELAPSED_TIME\": \"CRS_ELAPSED_TIME(MINS)\",\n",
    "    \"DISTANCE\": \"DISTANCE(KM)\",\n",
    "    \"PREV_FLIGHTS_1H\": \"NR_PREV_ARR_FLIGHTS(1HR)\",\n",
    "    \"Engines\": \"NR_ENGINES\",\n",
    "    \"Approach Speed(Vref)\": \"APPROACH_SPEED(KMH)\",\n",
    "    \"Wingspan, ft\": \"WINGSPAN(M)\",\n",
    "    \"Length, ft\": \"LENGTH(M)\",\n",
    "    \"Tail Height, ft(@ OEW)\": \"TAIL_HEIGHT(M)\",\n",
    "    \"Parking Area (WS x Length), sf\": \"PARKING_AREA(SQM)\",\n",
    "    \"Jet\" : \"JET(YN)\",\n",
    "    \"winglets\" : \"WINGLETS(YN)\",\n",
    "    \"MTOW\": \"MTOW(KG)\",\n",
    "    \"tmpf\": \"TEMP(C)\",\n",
    "    \"dwpf\": \"DEWPOINT_TEMP(C)\",\n",
    "    \"relh\": \"REL_HUMIDITY(PERCENT)\",\n",
    "    \"alti\": \"ALTIMETER(PA)\",\n",
    "    \"drct\": \"WIND_DRCT(DEG)\",\n",
    "    \"sknt\": \"WIND_SPEED(KMH)\",\n",
    "    \"p01i\": \"1HOUR_PRECIPITATION(INCH)\",\n",
    "    \"mslp\": \"SEA_LEVEL_PRESSURE(MILLIBAR)\",\n",
    "    \"vsby\": \"VISIBILITY(MILES)\",\n",
    "    \"feel\": \"FELT_TEMP(C)\",\n",
    "    \"DEP_DELAY\": \"DEP_DELAY(MINS)\",\n",
    "    \"ARR_DELAY\": \"ARR_DELAY_MINS\"\n",
    "}\n",
    "data = data.rename(columns=rename_dict)\n",
    "data.head()"
   ],
   "metadata": {
    "collapsed": false,
    "ExecuteTime": {
     "end_time": "2024-03-24T14:56:10.913008700Z",
     "start_time": "2024-03-24T14:56:10.678013800Z"
    }
   },
   "id": "a6262b7f5091f2b7"
  },
  {
   "cell_type": "code",
   "execution_count": 21,
   "outputs": [
    {
     "data": {
      "text/plain": "          MEDIAN_CARR_DELAY(MINS)  MEDIAN_ORIGIN_DELAY(MINS)  DEP_DELAY(MINS)  \\\n5626534                     -11.0                       -8.0               -2   \n5627321                      -8.0                       -8.0               -4   \n5622325                      -8.0                       -7.0              302   \n5626430                     -11.0                       -9.0               -2   \n5625623                     -11.0                       -9.0               -4   \n...                           ...                        ...              ...   \n11291377                    -11.0                       -9.0              -11   \n11292052                    -11.0                       -6.0               -2   \n11290999                    -11.0                       -5.0               -1   \n11290527                    -11.0                      -11.0               -4   \n11290612                    -11.0                      -14.0               -5   \n\n          CRS_ELAPSED_TIME(MINS)  DISTANCE(KM)  NR_PREV_ARR_FLIGHTS(1HR)  \\\n5626534                      223    2558.85060                         4   \n5627321                       88     650.17336                         5   \n5622325                       57     170.59004                         7   \n5626430                       98     719.37498                         6   \n5625623                       76     363.71084                         7   \n...                          ...           ...                       ...   \n11291377                     220    2811.51698                         2   \n11292052                     264    3366.73928                         2   \n11290999                     246    3133.38498                         3   \n11290527                     276    3442.37826                         4   \n11290612                     520    7245.24868                         5   \n\n          ARR_DAY_SIN  ARR_DAY_COS  ARR_MIN_OF_DAY_SIN  ARR_MIN_OF_DAY_COS  \\\n5626534     -0.781831      0.62349            0.986286           -0.165048   \n5627321     -0.781831      0.62349            0.982450           -0.186524   \n5622325     -0.781831      0.62349            0.979925           -0.199368   \n5626430     -0.781831      0.62349            0.956305           -0.292372   \n5625623     -0.781831      0.62349            0.945519           -0.325568   \n...               ...          ...                 ...                 ...   \n11291377     0.000000      1.00000            0.985556           -0.169350   \n11292052     0.000000      1.00000            0.977231           -0.212178   \n11290999     0.000000      1.00000            0.960050           -0.279829   \n11290527     0.000000      1.00000            0.958820           -0.284015   \n11290612     0.000000      1.00000            0.915311           -0.402747   \n\n          ...  EVENT_IC  EVENT_RA  EVENT_SN  EVENT_TS  08L/26R  08R/26L  \\\n5626534   ...         0         1         0         0      1.0      1.0   \n5627321   ...         0         1         0         0      1.0      1.0   \n5622325   ...         0         1         0         0      1.0      1.0   \n5626430   ...         0         1         0         0      1.0      1.0   \n5625623   ...         0         1         0         0      1.0      1.0   \n...       ...       ...       ...       ...       ...      ...      ...   \n11291377  ...         0         0         0         0      0.0      0.0   \n11292052  ...         0         0         0         0      0.0      0.0   \n11290999  ...         0         0         0         0      0.0      0.0   \n11290527  ...         0         0         0         0      0.0      0.0   \n11290612  ...         0         0         0         0      0.0      0.0   \n\n          09L/27R  09R/27L  10/28  ARR_DELAY_MINS  \n5626534       1.0      1.0    1.0              -7  \n5627321       1.0      1.0    1.0             -11  \n5622325       1.0      1.0    1.0             333  \n5626430       1.0      1.0    1.0              11  \n5625623       1.0      1.0    1.0              -8  \n...           ...      ...    ...             ...  \n11291377      0.0      0.0    0.0             -20  \n11292052      0.0      0.0    0.0             -26  \n11290999      0.0      0.0    0.0               0  \n11290527      0.0      0.0    0.0             -33  \n11290612      0.0      0.0    0.0             -39  \n\n[329005 rows x 46 columns]",
      "text/html": "<div>\n<style scoped>\n    .dataframe tbody tr th:only-of-type {\n        vertical-align: middle;\n    }\n\n    .dataframe tbody tr th {\n        vertical-align: top;\n    }\n\n    .dataframe thead th {\n        text-align: right;\n    }\n</style>\n<table border=\"1\" class=\"dataframe\">\n  <thead>\n    <tr style=\"text-align: right;\">\n      <th></th>\n      <th>MEDIAN_CARR_DELAY(MINS)</th>\n      <th>MEDIAN_ORIGIN_DELAY(MINS)</th>\n      <th>DEP_DELAY(MINS)</th>\n      <th>CRS_ELAPSED_TIME(MINS)</th>\n      <th>DISTANCE(KM)</th>\n      <th>NR_PREV_ARR_FLIGHTS(1HR)</th>\n      <th>ARR_DAY_SIN</th>\n      <th>ARR_DAY_COS</th>\n      <th>ARR_MIN_OF_DAY_SIN</th>\n      <th>ARR_MIN_OF_DAY_COS</th>\n      <th>...</th>\n      <th>EVENT_IC</th>\n      <th>EVENT_RA</th>\n      <th>EVENT_SN</th>\n      <th>EVENT_TS</th>\n      <th>08L/26R</th>\n      <th>08R/26L</th>\n      <th>09L/27R</th>\n      <th>09R/27L</th>\n      <th>10/28</th>\n      <th>ARR_DELAY_MINS</th>\n    </tr>\n  </thead>\n  <tbody>\n    <tr>\n      <th>5626534</th>\n      <td>-11.0</td>\n      <td>-8.0</td>\n      <td>-2</td>\n      <td>223</td>\n      <td>2558.85060</td>\n      <td>4</td>\n      <td>-0.781831</td>\n      <td>0.62349</td>\n      <td>0.986286</td>\n      <td>-0.165048</td>\n      <td>...</td>\n      <td>0</td>\n      <td>1</td>\n      <td>0</td>\n      <td>0</td>\n      <td>1.0</td>\n      <td>1.0</td>\n      <td>1.0</td>\n      <td>1.0</td>\n      <td>1.0</td>\n      <td>-7</td>\n    </tr>\n    <tr>\n      <th>5627321</th>\n      <td>-8.0</td>\n      <td>-8.0</td>\n      <td>-4</td>\n      <td>88</td>\n      <td>650.17336</td>\n      <td>5</td>\n      <td>-0.781831</td>\n      <td>0.62349</td>\n      <td>0.982450</td>\n      <td>-0.186524</td>\n      <td>...</td>\n      <td>0</td>\n      <td>1</td>\n      <td>0</td>\n      <td>0</td>\n      <td>1.0</td>\n      <td>1.0</td>\n      <td>1.0</td>\n      <td>1.0</td>\n      <td>1.0</td>\n      <td>-11</td>\n    </tr>\n    <tr>\n      <th>5622325</th>\n      <td>-8.0</td>\n      <td>-7.0</td>\n      <td>302</td>\n      <td>57</td>\n      <td>170.59004</td>\n      <td>7</td>\n      <td>-0.781831</td>\n      <td>0.62349</td>\n      <td>0.979925</td>\n      <td>-0.199368</td>\n      <td>...</td>\n      <td>0</td>\n      <td>1</td>\n      <td>0</td>\n      <td>0</td>\n      <td>1.0</td>\n      <td>1.0</td>\n      <td>1.0</td>\n      <td>1.0</td>\n      <td>1.0</td>\n      <td>333</td>\n    </tr>\n    <tr>\n      <th>5626430</th>\n      <td>-11.0</td>\n      <td>-9.0</td>\n      <td>-2</td>\n      <td>98</td>\n      <td>719.37498</td>\n      <td>6</td>\n      <td>-0.781831</td>\n      <td>0.62349</td>\n      <td>0.956305</td>\n      <td>-0.292372</td>\n      <td>...</td>\n      <td>0</td>\n      <td>1</td>\n      <td>0</td>\n      <td>0</td>\n      <td>1.0</td>\n      <td>1.0</td>\n      <td>1.0</td>\n      <td>1.0</td>\n      <td>1.0</td>\n      <td>11</td>\n    </tr>\n    <tr>\n      <th>5625623</th>\n      <td>-11.0</td>\n      <td>-9.0</td>\n      <td>-4</td>\n      <td>76</td>\n      <td>363.71084</td>\n      <td>7</td>\n      <td>-0.781831</td>\n      <td>0.62349</td>\n      <td>0.945519</td>\n      <td>-0.325568</td>\n      <td>...</td>\n      <td>0</td>\n      <td>1</td>\n      <td>0</td>\n      <td>0</td>\n      <td>1.0</td>\n      <td>1.0</td>\n      <td>1.0</td>\n      <td>1.0</td>\n      <td>1.0</td>\n      <td>-8</td>\n    </tr>\n    <tr>\n      <th>...</th>\n      <td>...</td>\n      <td>...</td>\n      <td>...</td>\n      <td>...</td>\n      <td>...</td>\n      <td>...</td>\n      <td>...</td>\n      <td>...</td>\n      <td>...</td>\n      <td>...</td>\n      <td>...</td>\n      <td>...</td>\n      <td>...</td>\n      <td>...</td>\n      <td>...</td>\n      <td>...</td>\n      <td>...</td>\n      <td>...</td>\n      <td>...</td>\n      <td>...</td>\n      <td>...</td>\n    </tr>\n    <tr>\n      <th>11291377</th>\n      <td>-11.0</td>\n      <td>-9.0</td>\n      <td>-11</td>\n      <td>220</td>\n      <td>2811.51698</td>\n      <td>2</td>\n      <td>0.000000</td>\n      <td>1.00000</td>\n      <td>0.985556</td>\n      <td>-0.169350</td>\n      <td>...</td>\n      <td>0</td>\n      <td>0</td>\n      <td>0</td>\n      <td>0</td>\n      <td>0.0</td>\n      <td>0.0</td>\n      <td>0.0</td>\n      <td>0.0</td>\n      <td>0.0</td>\n      <td>-20</td>\n    </tr>\n    <tr>\n      <th>11292052</th>\n      <td>-11.0</td>\n      <td>-6.0</td>\n      <td>-2</td>\n      <td>264</td>\n      <td>3366.73928</td>\n      <td>2</td>\n      <td>0.000000</td>\n      <td>1.00000</td>\n      <td>0.977231</td>\n      <td>-0.212178</td>\n      <td>...</td>\n      <td>0</td>\n      <td>0</td>\n      <td>0</td>\n      <td>0</td>\n      <td>0.0</td>\n      <td>0.0</td>\n      <td>0.0</td>\n      <td>0.0</td>\n      <td>0.0</td>\n      <td>-26</td>\n    </tr>\n    <tr>\n      <th>11290999</th>\n      <td>-11.0</td>\n      <td>-5.0</td>\n      <td>-1</td>\n      <td>246</td>\n      <td>3133.38498</td>\n      <td>3</td>\n      <td>0.000000</td>\n      <td>1.00000</td>\n      <td>0.960050</td>\n      <td>-0.279829</td>\n      <td>...</td>\n      <td>0</td>\n      <td>0</td>\n      <td>0</td>\n      <td>0</td>\n      <td>0.0</td>\n      <td>0.0</td>\n      <td>0.0</td>\n      <td>0.0</td>\n      <td>0.0</td>\n      <td>0</td>\n    </tr>\n    <tr>\n      <th>11290527</th>\n      <td>-11.0</td>\n      <td>-11.0</td>\n      <td>-4</td>\n      <td>276</td>\n      <td>3442.37826</td>\n      <td>4</td>\n      <td>0.000000</td>\n      <td>1.00000</td>\n      <td>0.958820</td>\n      <td>-0.284015</td>\n      <td>...</td>\n      <td>0</td>\n      <td>0</td>\n      <td>0</td>\n      <td>0</td>\n      <td>0.0</td>\n      <td>0.0</td>\n      <td>0.0</td>\n      <td>0.0</td>\n      <td>0.0</td>\n      <td>-33</td>\n    </tr>\n    <tr>\n      <th>11290612</th>\n      <td>-11.0</td>\n      <td>-14.0</td>\n      <td>-5</td>\n      <td>520</td>\n      <td>7245.24868</td>\n      <td>5</td>\n      <td>0.000000</td>\n      <td>1.00000</td>\n      <td>0.915311</td>\n      <td>-0.402747</td>\n      <td>...</td>\n      <td>0</td>\n      <td>0</td>\n      <td>0</td>\n      <td>0</td>\n      <td>0.0</td>\n      <td>0.0</td>\n      <td>0.0</td>\n      <td>0.0</td>\n      <td>0.0</td>\n      <td>-39</td>\n    </tr>\n  </tbody>\n</table>\n<p>329005 rows × 46 columns</p>\n</div>"
     },
     "execution_count": 21,
     "metadata": {},
     "output_type": "execute_result"
    }
   ],
   "source": [
    "# Making the order of columns more convenient. (Thematically ordered)\n",
    "cols = ['MEDIAN_CARR_DELAY(MINS)',\n",
    "        'MEDIAN_ORIGIN_DELAY(MINS)', \n",
    "        'DEP_DELAY(MINS)',\n",
    "        'CRS_ELAPSED_TIME(MINS)',\n",
    "        'DISTANCE(KM)',\n",
    "        'NR_PREV_ARR_FLIGHTS(1HR)',\n",
    "        'ARR_DAY_SIN',\n",
    "        'ARR_DAY_COS',\n",
    "        'ARR_MIN_OF_DAY_SIN',\n",
    "        'ARR_MIN_OF_DAY_COS',\n",
    "        'NR_ENGINES',\n",
    "        'APPROACH_SPEED(KMH)',\n",
    "        'WINGSPAN(M)',\n",
    "        'LENGTH(M)',\n",
    "        'TAIL_HEIGHT(M)',\n",
    "        'PARKING_AREA(SQM)',\n",
    "        'MTOW(KG)',\n",
    "        'JET(YN)',\n",
    "        'WINGLETS(YN)',\n",
    "        'TEMP(C)',\n",
    "        'DEWPOINT_TEMP(C)',\n",
    "        'FELT_TEMP(C)',\n",
    "        'REL_HUMIDITY(PERCENT)',\n",
    "        'WIND_DRCT(DEG)',\n",
    "        'WIND_SPEED(KMH)',\n",
    "        '1HOUR_PRECIPITATION(INCH)',\n",
    "        'ALTIMETER(PA)',\n",
    "        'SEA_LEVEL_PRESSURE(MILLIBAR)',\n",
    "        'VISIBILITY(MILES)',\n",
    "        'EVENT_BR',\n",
    "        'EVENT_DZ',\n",
    "        'EVENT_FG',\n",
    "        'EVENT_FU',\n",
    "        'EVENT_GR',\n",
    "        'EVENT_GS',\n",
    "        'EVENT_HZ',\n",
    "        'EVENT_IC',\n",
    "        'EVENT_RA',\n",
    "        'EVENT_SN',\n",
    "        'EVENT_TS',\n",
    "        '08L/26R',\n",
    "        '08R/26L',\n",
    "        '09L/27R',\n",
    "        '09R/27L',\n",
    "        '10/28',\n",
    "        'ARR_DELAY_MINS']\n",
    "\n",
    "data = data[cols]\n",
    "data"
   ],
   "metadata": {
    "collapsed": false,
    "ExecuteTime": {
     "end_time": "2024-03-24T14:56:11.110627700Z",
     "start_time": "2024-03-24T14:56:10.899011600Z"
    }
   },
   "id": "edd66ace95c13820"
  },
  {
   "cell_type": "markdown",
   "source": [
    "## Checking for problems in new data\n",
    "\n",
    "After the dropping of NaN rows, we might have lost everything interesting in some columns. Therefore, we need to look into the statistics of all columns once more."
   ],
   "metadata": {
    "collapsed": false
   },
   "id": "2367835884fa7068"
  },
  {
   "cell_type": "code",
   "execution_count": 22,
   "outputs": [
    {
     "name": "stdout",
     "output_type": "stream",
     "text": [
      "MEDIAN_CARR_DELAY(MINS) :\n",
      "\tMean:  -9.414206471026276\n",
      "\tStd:  -9.414206471026276\n",
      "\tMin:  -11.0\n",
      "\tMax:  -3.0\n",
      "\tUniques:  8\n",
      "MEDIAN_ORIGIN_DELAY(MINS) :\n",
      "\tMean:  -9.772511056062978\n",
      "\tStd:  -9.772511056062978\n",
      "\tMin:  -19.0\n",
      "\tMax:  2.0\n",
      "\tUniques:  15\n",
      "DEP_DELAY(MINS) :\n",
      "\tMean:  8.327353687633927\n",
      "\tStd:  8.327353687633927\n",
      "\tMin:  -188\n",
      "\tMax:  1816\n",
      "\tUniques:  863\n",
      "CRS_ELAPSED_TIME(MINS) :\n",
      "\tMean:  123.8392364857677\n",
      "\tStd:  123.8392364857677\n",
      "\tMin:  45\n",
      "\tMax:  530\n",
      "\tUniques:  282\n",
      "DISTANCE(KM) :\n",
      "\tMean:  1058.852360132399\n",
      "\tStd:  1058.852360132399\n",
      "\tMin:  133.57522\n",
      "\tMax:  7245.24868\n",
      "\tUniques:  163\n",
      "NR_PREV_ARR_FLIGHTS(1HR) :\n",
      "\tMean:  59.2994939286637\n",
      "\tStd:  59.2994939286637\n",
      "\tMin:  0\n",
      "\tMax:  120\n",
      "\tUniques:  115\n",
      "ARR_DAY_SIN :\n",
      "\tMean:  0.034395835374694816\n",
      "\tStd:  0.034395835374694816\n",
      "\tMin:  -0.9749279121818236\n",
      "\tMax:  0.9749279121818236\n",
      "\tUniques:  7\n",
      "ARR_DAY_COS :\n",
      "\tMean:  -0.007178172611432762\n",
      "\tStd:  -0.007178172611432762\n",
      "\tMin:  -0.9009688679024191\n",
      "\tMax:  1.0\n",
      "\tUniques:  7\n",
      "ARR_MIN_OF_DAY_SIN :\n",
      "\tMean:  -0.24713635839029\n",
      "\tStd:  -0.24713635839029\n",
      "\tMin:  -1.0\n",
      "\tMax:  1.0\n",
      "\tUniques:  1098\n",
      "ARR_MIN_OF_DAY_COS :\n",
      "\tMean:  -0.32433449450836377\n",
      "\tStd:  -0.32433449450836377\n",
      "\tMin:  -1.0\n",
      "\tMax:  0.9999904807207345\n",
      "\tUniques:  1110\n",
      "NR_ENGINES :\n",
      "\tMean:  2.000705156456589\n",
      "\tStd:  2.000705156456589\n",
      "\tMin:  2\n",
      "\tMax:  4\n",
      "\tUniques:  3\n",
      "APPROACH_SPEED(KMH) :\n",
      "\tMean:  257.3299805899606\n",
      "\tStd:  257.3299805899606\n",
      "\tMin:  211.12800000000001\n",
      "\tMax:  290.764\n",
      "\tUniques:  13\n",
      "WINGSPAN(M) :\n",
      "\tMean:  31.753225330994972\n",
      "\tStd:  31.753225330994972\n",
      "\tMin:  20.0406\n",
      "\tMax:  60.935615999999996\n",
      "\tUniques:  17\n",
      "LENGTH(M) :\n",
      "\tMean:  41.60240434314227\n",
      "\tStd:  41.60240434314227\n",
      "\tMin:  26.340816\n",
      "\tMax:  73.86218400000001\n",
      "\tUniques:  19\n",
      "TAIL_HEIGHT(M) :\n",
      "\tMean:  10.285320549730248\n",
      "\tStd:  10.285320549730248\n",
      "\tMin:  6.3246\n",
      "\tMax:  19.5834\n",
      "\tUniques:  19\n",
      "PARKING_AREA(SQM) :\n",
      "\tMean:  1357.1562926315037\n",
      "\tStd:  1357.1562926315037\n",
      "\tMin:  527.8706800445931\n",
      "\tMax:  4500.743218134523\n",
      "\tUniques:  19\n",
      "MTOW(KG) :\n",
      "\tMean:  71373.86428458478\n",
      "\tStd:  71373.86428458478\n",
      "\tMin:  19000.061696\n",
      "\tMax:  299370.72\n",
      "\tUniques:  19\n",
      "JET(YN) :\n",
      "\tMean:  0.9999635263901765\n",
      "\tStd:  0.9999635263901765\n",
      "\tMin:  0\n",
      "\tMax:  1\n",
      "\tUniques:  2\n",
      "WINGLETS(YN) :\n",
      "\tMean:  0.5891855746873148\n",
      "\tStd:  0.5891855746873148\n",
      "\tMin:  0\n",
      "\tMax:  1\n",
      "\tUniques:  2\n",
      "TEMP(C) :\n",
      "\tMean:  17.999322705328694\n",
      "\tStd:  17.999322705328694\n",
      "\tMin:  -9.38888888888889\n",
      "\tMax:  34.38888888888889\n",
      "\tUniques:  231\n",
      "DEWPOINT_TEMP(C) :\n",
      "\tMean:  11.951904901816759\n",
      "\tStd:  11.951904901816759\n",
      "\tMin:  -15.0\n",
      "\tMax:  24.388888888888893\n",
      "\tUniques:  184\n",
      "FELT_TEMP(C) :\n",
      "\tMean:  17.796684633296692\n",
      "\tStd:  17.796684633296692\n",
      "\tMin:  -17.16111111111111\n",
      "\tMax:  37.27777777777778\n",
      "\tUniques:  987\n",
      "REL_HUMIDITY(PERCENT) :\n",
      "\tMean:  70.77872614397958\n",
      "\tStd:  70.77872614397958\n",
      "\tMin:  12.7\n",
      "\tMax:  100.0\n",
      "\tUniques:  1907\n",
      "WIND_DRCT(DEG) :\n",
      "\tMean:  193.35215270284647\n",
      "\tStd:  193.35215270284647\n",
      "\tMin:  0.0\n",
      "\tMax:  360.0\n",
      "\tUniques:  70\n",
      "WIND_SPEED(KMH) :\n",
      "\tMean:  12.307307104755248\n",
      "\tStd:  12.307307104755248\n",
      "\tMin:  0.0\n",
      "\tMax:  62.042\n",
      "\tUniques:  49\n",
      "1HOUR_PRECIPITATION(INCH) :\n",
      "\tMean:  0.0033435510098630723\n",
      "\tStd:  0.0033435510098630723\n",
      "\tMin:  0.0\n",
      "\tMax:  0.915\n",
      "\tUniques:  63\n",
      "ALTIMETER(PA) :\n",
      "\tMean:  101877.6515920533\n",
      "\tStd:  101877.6515920533\n",
      "\tMin:  98747.10187709333\n",
      "\tMax:  103962.1408651154\n",
      "\tUniques:  185\n",
      "SEA_LEVEL_PRESSURE(MILLIBAR) :\n",
      "\tMean:  1018.2060686007812\n",
      "\tStd:  1018.2060686007812\n",
      "\tMin:  987.1\n",
      "\tMax:  1041.2\n",
      "\tUniques:  387\n",
      "VISIBILITY(MILES) :\n",
      "\tMean:  9.455127596845033\n",
      "\tStd:  9.455127596845033\n",
      "\tMin:  0.13\n",
      "\tMax:  10.0\n",
      "\tUniques:  35\n",
      "EVENT_BR :\n",
      "\tMean:  0.19564444309357001\n",
      "\tStd:  0.19564444309357001\n",
      "\tMin:  0\n",
      "\tMax:  2\n",
      "\tUniques:  2\n",
      "EVENT_DZ :\n",
      "\tMean:  0.010777951702861659\n",
      "\tStd:  0.010777951702861659\n",
      "\tMin:  0\n",
      "\tMax:  2\n",
      "\tUniques:  3\n",
      "EVENT_FG :\n",
      "\tMean:  0.02871688880108205\n",
      "\tStd:  0.02871688880108205\n",
      "\tMin:  0\n",
      "\tMax:  2\n",
      "\tUniques:  2\n",
      "EVENT_FU :\n",
      "\tMean:  0.01421254996124679\n",
      "\tStd:  0.01421254996124679\n",
      "\tMin:  0\n",
      "\tMax:  2\n",
      "\tUniques:  2\n",
      "EVENT_GR :\n",
      "\tMean:  4.255254479415207e-05\n",
      "\tStd:  4.255254479415207e-05\n",
      "\tMin:  0\n",
      "\tMax:  2\n",
      "\tUniques:  2\n",
      "EVENT_GS :\n",
      "\tMean:  3.6473609823558914e-05\n",
      "\tStd:  3.6473609823558914e-05\n",
      "\tMin:  0\n",
      "\tMax:  2\n",
      "\tUniques:  2\n",
      "EVENT_HZ :\n",
      "\tMean:  0.004425464658591814\n",
      "\tStd:  0.004425464658591814\n",
      "\tMin:  0\n",
      "\tMax:  2\n",
      "\tUniques:  2\n",
      "EVENT_IC :\n",
      "\tMean:  0.02598136806431513\n",
      "\tStd:  0.02598136806431513\n",
      "\tMin:  0\n",
      "\tMax:  2\n",
      "\tUniques:  2\n",
      "EVENT_RA :\n",
      "\tMean:  0.1500098782693272\n",
      "\tStd:  0.1500098782693272\n",
      "\tMin:  0\n",
      "\tMax:  3\n",
      "\tUniques:  4\n",
      "EVENT_SN :\n",
      "\tMean:  0.16197018282396924\n",
      "\tStd:  0.16197018282396924\n",
      "\tMin:  0\n",
      "\tMax:  2\n",
      "\tUniques:  3\n",
      "EVENT_TS :\n",
      "\tMean:  0.03081108189845139\n",
      "\tStd:  0.03081108189845139\n",
      "\tMin:  0\n",
      "\tMax:  3\n",
      "\tUniques:  4\n",
      "08L/26R :\n",
      "\tMean:  1.5050105621495113\n",
      "\tStd:  1.5050105621495113\n",
      "\tMin:  0.0\n",
      "\tMax:  3.0\n",
      "\tUniques:  4\n",
      "08R/26L :\n",
      "\tMean:  1.2262214859956535\n",
      "\tStd:  1.2262214859956535\n",
      "\tMin:  0.0\n",
      "\tMax:  3.0\n",
      "\tUniques:  4\n",
      "09L/27R :\n",
      "\tMean:  1.3900943754654185\n",
      "\tStd:  1.3900943754654185\n",
      "\tMin:  0.0\n",
      "\tMax:  3.0\n",
      "\tUniques:  4\n",
      "09R/27L :\n",
      "\tMean:  1.349906536374827\n",
      "\tStd:  1.349906536374827\n",
      "\tMin:  0.0\n",
      "\tMax:  3.0\n",
      "\tUniques:  4\n",
      "10/28 :\n",
      "\tMean:  2.12036595188523\n",
      "\tStd:  2.12036595188523\n",
      "\tMin:  0.0\n",
      "\tMax:  3.0\n",
      "\tUniques:  4\n",
      "ARR_DELAY_MINS :\n",
      "\tMean:  1.2820048327533016\n",
      "\tStd:  1.2820048327533016\n",
      "\tMin:  -202\n",
      "\tMax:  1810\n",
      "\tUniques:  900\n"
     ]
    }
   ],
   "source": [
    " # Iterating over all columns\n",
    "for col in data.columns:\n",
    "    print(col, \":\")\n",
    "    series = data[col]\n",
    "    print(\"\\tMean: \", np.mean(series))\n",
    "    print(\"\\tStd: \", np.mean(series))\n",
    "    print(\"\\tMin: \", min(series))\n",
    "    print(\"\\tMax: \", max(series))\n",
    "    print(\"\\tUniques: \", series.nunique())"
   ],
   "metadata": {
    "collapsed": false,
    "ExecuteTime": {
     "end_time": "2024-03-24T14:56:14.309876700Z",
     "start_time": "2024-03-24T14:56:11.104631Z"
    }
   },
   "id": "e062a87d61fedfad"
  },
  {
   "cell_type": "markdown",
   "source": [
    "Seems to be okay. None of the columns only yield 1 unique value. Although some have very little variance. Future operations might cover this. "
   ],
   "metadata": {
    "collapsed": false
   },
   "id": "fce8aa717aff1a31"
  },
  {
   "cell_type": "code",
   "execution_count": 23,
   "outputs": [],
   "source": [
    "data.to_pickle(os.path.join(PREP_FOLDER, \"08_converted.pkl\"))"
   ],
   "metadata": {
    "collapsed": false,
    "ExecuteTime": {
     "end_time": "2024-03-24T14:56:14.585706200Z",
     "start_time": "2024-03-24T14:56:14.308880100Z"
    }
   },
   "id": "b289308837736c50"
  }
 ],
 "metadata": {
  "kernelspec": {
   "display_name": "Python 3",
   "language": "python",
   "name": "python3"
  },
  "language_info": {
   "codemirror_mode": {
    "name": "ipython",
    "version": 2
   },
   "file_extension": ".py",
   "mimetype": "text/x-python",
   "name": "python",
   "nbconvert_exporter": "python",
   "pygments_lexer": "ipython2",
   "version": "2.7.6"
  }
 },
 "nbformat": 4,
 "nbformat_minor": 5
}
