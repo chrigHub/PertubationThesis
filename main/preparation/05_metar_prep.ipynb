{
 "cells": [
  {
   "cell_type": "markdown",
   "metadata": {
    "collapsed": true,
    "pycharm": {
     "name": "#%% md\n"
    }
   },
   "source": [
    "# METAR DATA\n",
    "\n",
    "## Introduction\n",
    "Metar stands for \"Meteorological Terminal Air Report\" and is therefore a documentation of meteorological data concerning specific airports.\n",
    "Data was gathered from the Iowa ASOS network from the following link: __[https://mesonet.agron.iastate.edu/request/download.phtml](https://mesonet.agron.iastate.edu/request/download.phtml)__\n",
    "\n",
    "For the codes within metar data we used __[https://www.theairlinepilots.com/forumarchive/aviation-weather/metar.pdf](https://www.theairlinepilots.com/forumarchive/aviation-weather/metar.pdf)__ to interpret their meanings\n",
    "\n",
    "There have been found 193.033 entries with 31 columns.\n",
    "## Dropped\n",
    "For this project I dropped columns which are referring to the airport and are therefore equal in all rows.\n",
    "- station (Abbreviation of airport - redundant)\n",
    "- lon (longitude - airport longitude is known)\n",
    "- lat (latitude - airport latitude is known)\n",
    "- metar (unsure of use)\n",
    "\n",
    "Additionally, valid was split up into time and date\n",
    "\n",
    "## Missing and Trace values\n",
    "Missing values are marked with M and trace values with T.\n",
    "I replace missing and trace values (there were so few that this was deemed okay) values with pd.NaN to better use the functions provided by pandas/numpy"
   ]
  },
  {
   "cell_type": "code",
   "execution_count": 1,
   "outputs": [],
   "source": [
    "import pandas as pd\n",
    "import re\n",
    "import numpy as np\n",
    "import os\n",
    "\n",
    "from main.utils.data_manage_utils import read_table_from_subfolder\n",
    "\n",
    "# Variables\n",
    "ROOT_PATH = os.path.abspath(\"../../\")\n",
    "INPUT_FOLDER = os.path.join(ROOT_PATH, \"data/input\")\n",
    "OUTPUT_FOLDER = os.path.join(ROOT_PATH, \"data/preparation/prepped_files\")"
   ],
   "metadata": {
    "collapsed": false,
    "pycharm": {
     "name": "#%%\n"
    },
    "ExecuteTime": {
     "end_time": "2024-09-25T17:14:22.951743800Z",
     "start_time": "2024-09-25T17:14:22.723748Z"
    }
   }
  },
  {
   "cell_type": "code",
   "execution_count": 2,
   "outputs": [
    {
     "name": "stderr",
     "output_type": "stream",
     "text": [
      "C:\\Users\\chrig\\PycharmProjects\\PertubationThesis\\main\\utils\\data_manage_utils.py:139: DtypeWarning: Columns (10) have mixed types. Specify dtype option on import or set low_memory=False.\n",
      "  df = pd.read_table(filename, delimiter=delim)\n"
     ]
    },
    {
     "data": {
      "text/plain": "       station             valid      lon      lat   tmpf   dwpf   relh  \\\n0          ATL  2016-01-01 00:52 -84.4418  33.6301  51.98  42.08  68.86   \n1          ATL  2016-01-01 01:52 -84.4418  33.6301  50.00  41.00  71.07   \n2          ATL  2016-01-01 02:52 -84.4418  33.6301  48.92  41.00  73.99   \n3          ATL  2016-01-01 03:52 -84.4418  33.6301  46.94  39.92  76.43   \n4          ATL  2016-01-01 04:52 -84.4418  33.6301  46.04  39.02  76.35   \n...        ...               ...      ...      ...    ...    ...    ...   \n193028     ATL  2017-12-30 23:40 -84.4418  33.6301      M      M      M   \n193029     ATL  2017-12-30 23:45 -84.4418  33.6301      M      M      M   \n193030     ATL  2017-12-30 23:50 -84.4418  33.6301      M      M      M   \n193031     ATL  2017-12-30 23:52 -84.4418  33.6301  44.10  30.00  57.37   \n193032     ATL  2017-12-30 23:55 -84.4418  33.6301      M      M      M   \n\n          drct   sknt  p01i  ...     skyl4 wxcodes  ice_accretion_1hr  \\\n0       320.00  10.00  0.00  ...  25000.00       M                  M   \n1       330.00   7.00  0.00  ...         M       M                  M   \n2       310.00  12.00  0.00  ...         M       M                  M   \n3       320.00  13.00  0.00  ...         M       M                  M   \n4       320.00  10.00  0.00  ...         M       M                  M   \n...        ...    ...   ...  ...       ...     ...                ...   \n193028  350.00   8.00     M  ...         M       M                  M   \n193029  360.00  10.00     M  ...         M       M                  M   \n193030  330.00  10.00     M  ...         M       M                  M   \n193031  340.00   9.00  0.00  ...         M       M                  M   \n193032  330.00   8.00     M  ...         M       M                  M   \n\n       ice_accretion_3hr ice_accretion_6hr peak_wind_gust peak_wind_drct  \\\n0                      M                 M              M              M   \n1                      M                 M              M              M   \n2                      M                 M              M              M   \n3                      M                 M              M              M   \n4                      M                 M              M              M   \n...                  ...               ...            ...            ...   \n193028                 M                 M              M              M   \n193029                 M                 M              M              M   \n193030                 M                 M              M              M   \n193031                 M                 M              M              M   \n193032                 M                 M              M              M   \n\n       peak_wind_time   feel  \\\n0                   M  51.98   \n1                   M  46.72   \n2                   M  43.54   \n3                   M  40.71   \n4                   M  40.57   \n...               ...    ...   \n193028              M      M   \n193029              M      M   \n193030              M      M   \n193031              M  38.56   \n193032              M      M   \n\n                                                    metar  \n0       KATL 010052Z 32010KT 10SM FEW100 SCT150 BKN200...  \n1       KATL 010152Z 33007KT 10SM SCT150 BKN200 BKN250...  \n2       KATL 010252Z 31012KT 10SM FEW150 BKN200 BKN250...  \n3       KATL 010352Z 32013KT 10SM FEW150 SCT200 BKN250...  \n4       KATL 010452Z 32010KT 10SM FEW150 BKN200 BKN250...  \n...                                                   ...  \n193028  KATL 302340Z AUTO 35008KT 10SM 07/M01 A3008 RM...  \n193029  KATL 302345Z AUTO 36010KT 10SM 07/M01 A3008 RM...  \n193030  KATL 302350Z AUTO 33010KT 10SM 07/M01 A3009 RM...  \n193031  KATL 302352Z 34009KT 10SM FEW200 BKN250 07/M01...  \n193032  KATL 302355Z AUTO 33008KT 10SM 07/M01 A3009 RM...  \n\n[193033 rows x 31 columns]",
      "text/html": "<div>\n<style scoped>\n    .dataframe tbody tr th:only-of-type {\n        vertical-align: middle;\n    }\n\n    .dataframe tbody tr th {\n        vertical-align: top;\n    }\n\n    .dataframe thead th {\n        text-align: right;\n    }\n</style>\n<table border=\"1\" class=\"dataframe\">\n  <thead>\n    <tr style=\"text-align: right;\">\n      <th></th>\n      <th>station</th>\n      <th>valid</th>\n      <th>lon</th>\n      <th>lat</th>\n      <th>tmpf</th>\n      <th>dwpf</th>\n      <th>relh</th>\n      <th>drct</th>\n      <th>sknt</th>\n      <th>p01i</th>\n      <th>...</th>\n      <th>skyl4</th>\n      <th>wxcodes</th>\n      <th>ice_accretion_1hr</th>\n      <th>ice_accretion_3hr</th>\n      <th>ice_accretion_6hr</th>\n      <th>peak_wind_gust</th>\n      <th>peak_wind_drct</th>\n      <th>peak_wind_time</th>\n      <th>feel</th>\n      <th>metar</th>\n    </tr>\n  </thead>\n  <tbody>\n    <tr>\n      <th>0</th>\n      <td>ATL</td>\n      <td>2016-01-01 00:52</td>\n      <td>-84.4418</td>\n      <td>33.6301</td>\n      <td>51.98</td>\n      <td>42.08</td>\n      <td>68.86</td>\n      <td>320.00</td>\n      <td>10.00</td>\n      <td>0.00</td>\n      <td>...</td>\n      <td>25000.00</td>\n      <td>M</td>\n      <td>M</td>\n      <td>M</td>\n      <td>M</td>\n      <td>M</td>\n      <td>M</td>\n      <td>M</td>\n      <td>51.98</td>\n      <td>KATL 010052Z 32010KT 10SM FEW100 SCT150 BKN200...</td>\n    </tr>\n    <tr>\n      <th>1</th>\n      <td>ATL</td>\n      <td>2016-01-01 01:52</td>\n      <td>-84.4418</td>\n      <td>33.6301</td>\n      <td>50.00</td>\n      <td>41.00</td>\n      <td>71.07</td>\n      <td>330.00</td>\n      <td>7.00</td>\n      <td>0.00</td>\n      <td>...</td>\n      <td>M</td>\n      <td>M</td>\n      <td>M</td>\n      <td>M</td>\n      <td>M</td>\n      <td>M</td>\n      <td>M</td>\n      <td>M</td>\n      <td>46.72</td>\n      <td>KATL 010152Z 33007KT 10SM SCT150 BKN200 BKN250...</td>\n    </tr>\n    <tr>\n      <th>2</th>\n      <td>ATL</td>\n      <td>2016-01-01 02:52</td>\n      <td>-84.4418</td>\n      <td>33.6301</td>\n      <td>48.92</td>\n      <td>41.00</td>\n      <td>73.99</td>\n      <td>310.00</td>\n      <td>12.00</td>\n      <td>0.00</td>\n      <td>...</td>\n      <td>M</td>\n      <td>M</td>\n      <td>M</td>\n      <td>M</td>\n      <td>M</td>\n      <td>M</td>\n      <td>M</td>\n      <td>M</td>\n      <td>43.54</td>\n      <td>KATL 010252Z 31012KT 10SM FEW150 BKN200 BKN250...</td>\n    </tr>\n    <tr>\n      <th>3</th>\n      <td>ATL</td>\n      <td>2016-01-01 03:52</td>\n      <td>-84.4418</td>\n      <td>33.6301</td>\n      <td>46.94</td>\n      <td>39.92</td>\n      <td>76.43</td>\n      <td>320.00</td>\n      <td>13.00</td>\n      <td>0.00</td>\n      <td>...</td>\n      <td>M</td>\n      <td>M</td>\n      <td>M</td>\n      <td>M</td>\n      <td>M</td>\n      <td>M</td>\n      <td>M</td>\n      <td>M</td>\n      <td>40.71</td>\n      <td>KATL 010352Z 32013KT 10SM FEW150 SCT200 BKN250...</td>\n    </tr>\n    <tr>\n      <th>4</th>\n      <td>ATL</td>\n      <td>2016-01-01 04:52</td>\n      <td>-84.4418</td>\n      <td>33.6301</td>\n      <td>46.04</td>\n      <td>39.02</td>\n      <td>76.35</td>\n      <td>320.00</td>\n      <td>10.00</td>\n      <td>0.00</td>\n      <td>...</td>\n      <td>M</td>\n      <td>M</td>\n      <td>M</td>\n      <td>M</td>\n      <td>M</td>\n      <td>M</td>\n      <td>M</td>\n      <td>M</td>\n      <td>40.57</td>\n      <td>KATL 010452Z 32010KT 10SM FEW150 BKN200 BKN250...</td>\n    </tr>\n    <tr>\n      <th>...</th>\n      <td>...</td>\n      <td>...</td>\n      <td>...</td>\n      <td>...</td>\n      <td>...</td>\n      <td>...</td>\n      <td>...</td>\n      <td>...</td>\n      <td>...</td>\n      <td>...</td>\n      <td>...</td>\n      <td>...</td>\n      <td>...</td>\n      <td>...</td>\n      <td>...</td>\n      <td>...</td>\n      <td>...</td>\n      <td>...</td>\n      <td>...</td>\n      <td>...</td>\n      <td>...</td>\n    </tr>\n    <tr>\n      <th>193028</th>\n      <td>ATL</td>\n      <td>2017-12-30 23:40</td>\n      <td>-84.4418</td>\n      <td>33.6301</td>\n      <td>M</td>\n      <td>M</td>\n      <td>M</td>\n      <td>350.00</td>\n      <td>8.00</td>\n      <td>M</td>\n      <td>...</td>\n      <td>M</td>\n      <td>M</td>\n      <td>M</td>\n      <td>M</td>\n      <td>M</td>\n      <td>M</td>\n      <td>M</td>\n      <td>M</td>\n      <td>M</td>\n      <td>KATL 302340Z AUTO 35008KT 10SM 07/M01 A3008 RM...</td>\n    </tr>\n    <tr>\n      <th>193029</th>\n      <td>ATL</td>\n      <td>2017-12-30 23:45</td>\n      <td>-84.4418</td>\n      <td>33.6301</td>\n      <td>M</td>\n      <td>M</td>\n      <td>M</td>\n      <td>360.00</td>\n      <td>10.00</td>\n      <td>M</td>\n      <td>...</td>\n      <td>M</td>\n      <td>M</td>\n      <td>M</td>\n      <td>M</td>\n      <td>M</td>\n      <td>M</td>\n      <td>M</td>\n      <td>M</td>\n      <td>M</td>\n      <td>KATL 302345Z AUTO 36010KT 10SM 07/M01 A3008 RM...</td>\n    </tr>\n    <tr>\n      <th>193030</th>\n      <td>ATL</td>\n      <td>2017-12-30 23:50</td>\n      <td>-84.4418</td>\n      <td>33.6301</td>\n      <td>M</td>\n      <td>M</td>\n      <td>M</td>\n      <td>330.00</td>\n      <td>10.00</td>\n      <td>M</td>\n      <td>...</td>\n      <td>M</td>\n      <td>M</td>\n      <td>M</td>\n      <td>M</td>\n      <td>M</td>\n      <td>M</td>\n      <td>M</td>\n      <td>M</td>\n      <td>M</td>\n      <td>KATL 302350Z AUTO 33010KT 10SM 07/M01 A3009 RM...</td>\n    </tr>\n    <tr>\n      <th>193031</th>\n      <td>ATL</td>\n      <td>2017-12-30 23:52</td>\n      <td>-84.4418</td>\n      <td>33.6301</td>\n      <td>44.10</td>\n      <td>30.00</td>\n      <td>57.37</td>\n      <td>340.00</td>\n      <td>9.00</td>\n      <td>0.00</td>\n      <td>...</td>\n      <td>M</td>\n      <td>M</td>\n      <td>M</td>\n      <td>M</td>\n      <td>M</td>\n      <td>M</td>\n      <td>M</td>\n      <td>M</td>\n      <td>38.56</td>\n      <td>KATL 302352Z 34009KT 10SM FEW200 BKN250 07/M01...</td>\n    </tr>\n    <tr>\n      <th>193032</th>\n      <td>ATL</td>\n      <td>2017-12-30 23:55</td>\n      <td>-84.4418</td>\n      <td>33.6301</td>\n      <td>M</td>\n      <td>M</td>\n      <td>M</td>\n      <td>330.00</td>\n      <td>8.00</td>\n      <td>M</td>\n      <td>...</td>\n      <td>M</td>\n      <td>M</td>\n      <td>M</td>\n      <td>M</td>\n      <td>M</td>\n      <td>M</td>\n      <td>M</td>\n      <td>M</td>\n      <td>M</td>\n      <td>KATL 302355Z AUTO 33008KT 10SM 07/M01 A3009 RM...</td>\n    </tr>\n  </tbody>\n</table>\n<p>193033 rows × 31 columns</p>\n</div>"
     },
     "execution_count": 2,
     "metadata": {},
     "output_type": "execute_result"
    }
   ],
   "source": [
    "read_table_from_subfolder(os.path.join(INPUT_FOLDER,\"data_raw/METAR_US/*_KATL_*.txt\"))"
   ],
   "metadata": {
    "collapsed": false,
    "pycharm": {
     "name": "#%%\n"
    },
    "ExecuteTime": {
     "end_time": "2024-09-25T17:14:25.838303800Z",
     "start_time": "2024-09-25T17:14:23.954301800Z"
    }
   }
  },
  {
   "cell_type": "code",
   "execution_count": 3,
   "outputs": [
    {
     "name": "stderr",
     "output_type": "stream",
     "text": [
      "C:\\Users\\chrig\\PycharmProjects\\PertubationThesis\\main\\utils\\data_manage_utils.py:139: DtypeWarning: Columns (10) have mixed types. Specify dtype option on import or set low_memory=False.\n",
      "  df = pd.read_table(filename, delimiter=delim)\n"
     ]
    },
    {
     "data": {
      "text/plain": "         tmpf   dwpf   relh    drct   sknt  p01i   alti     mslp  vsby gust  \\\n0       51.98  42.08  68.86  320.00  10.00  0.00  30.19  1022.50  10.0  NaN   \n1       50.00  41.00  71.07  330.00   7.00  0.00  30.18  1022.20  10.0  NaN   \n2       48.92  41.00  73.99  310.00  12.00  0.00  30.18  1022.00  10.0  NaN   \n3       46.94  39.92  76.43  320.00  13.00  0.00  30.17  1021.90  10.0  NaN   \n4       46.04  39.02  76.35  320.00  10.00  0.00  30.18  1022.00  10.0  NaN   \n...       ...    ...    ...     ...    ...   ...    ...      ...   ...  ...   \n193028    NaN    NaN    NaN  350.00   8.00   NaN  30.08      NaN  10.0  NaN   \n193029    NaN    NaN    NaN  360.00  10.00   NaN  30.08      NaN  10.0  NaN   \n193030    NaN    NaN    NaN  330.00  10.00   NaN  30.09      NaN  10.0  NaN   \n193031  44.10  30.00  57.37  340.00   9.00  0.00  30.09  1019.50  10.0  NaN   \n193032    NaN    NaN    NaN  330.00   8.00   NaN  30.09      NaN  10.0  NaN   \n\n        ... ice_accretion_1hr ice_accretion_3hr ice_accretion_6hr  \\\n0       ...               NaN               NaN               NaN   \n1       ...               NaN               NaN               NaN   \n2       ...               NaN               NaN               NaN   \n3       ...               NaN               NaN               NaN   \n4       ...               NaN               NaN               NaN   \n...     ...               ...               ...               ...   \n193028  ...               NaN               NaN               NaN   \n193029  ...               NaN               NaN               NaN   \n193030  ...               NaN               NaN               NaN   \n193031  ...               NaN               NaN               NaN   \n193032  ...               NaN               NaN               NaN   \n\n       peak_wind_gust peak_wind_drct peak_wind_time   feel  \\\n0                 NaN            NaN            NaN  51.98   \n1                 NaN            NaN            NaN  46.72   \n2                 NaN            NaN            NaN  43.54   \n3                 NaN            NaN            NaN  40.71   \n4                 NaN            NaN            NaN  40.57   \n...               ...            ...            ...    ...   \n193028            NaN            NaN            NaN    NaN   \n193029            NaN            NaN            NaN    NaN   \n193030            NaN            NaN            NaN    NaN   \n193031            NaN            NaN            NaN  38.56   \n193032            NaN            NaN            NaN    NaN   \n\n                                                    metar        date   time  \n0       KATL 010052Z 32010KT 10SM FEW100 SCT150 BKN200...  2016-01-01  00:52  \n1       KATL 010152Z 33007KT 10SM SCT150 BKN200 BKN250...  2016-01-01  01:52  \n2       KATL 010252Z 31012KT 10SM FEW150 BKN200 BKN250...  2016-01-01  02:52  \n3       KATL 010352Z 32013KT 10SM FEW150 SCT200 BKN250...  2016-01-01  03:52  \n4       KATL 010452Z 32010KT 10SM FEW150 BKN200 BKN250...  2016-01-01  04:52  \n...                                                   ...         ...    ...  \n193028  KATL 302340Z AUTO 35008KT 10SM 07/M01 A3008 RM...  2017-12-30  23:40  \n193029  KATL 302345Z AUTO 36010KT 10SM 07/M01 A3008 RM...  2017-12-30  23:45  \n193030  KATL 302350Z AUTO 33010KT 10SM 07/M01 A3009 RM...  2017-12-30  23:50  \n193031  KATL 302352Z 34009KT 10SM FEW200 BKN250 07/M01...  2017-12-30  23:52  \n193032  KATL 302355Z AUTO 33008KT 10SM 07/M01 A3009 RM...  2017-12-30  23:55  \n\n[193033 rows x 29 columns]",
      "text/html": "<div>\n<style scoped>\n    .dataframe tbody tr th:only-of-type {\n        vertical-align: middle;\n    }\n\n    .dataframe tbody tr th {\n        vertical-align: top;\n    }\n\n    .dataframe thead th {\n        text-align: right;\n    }\n</style>\n<table border=\"1\" class=\"dataframe\">\n  <thead>\n    <tr style=\"text-align: right;\">\n      <th></th>\n      <th>tmpf</th>\n      <th>dwpf</th>\n      <th>relh</th>\n      <th>drct</th>\n      <th>sknt</th>\n      <th>p01i</th>\n      <th>alti</th>\n      <th>mslp</th>\n      <th>vsby</th>\n      <th>gust</th>\n      <th>...</th>\n      <th>ice_accretion_1hr</th>\n      <th>ice_accretion_3hr</th>\n      <th>ice_accretion_6hr</th>\n      <th>peak_wind_gust</th>\n      <th>peak_wind_drct</th>\n      <th>peak_wind_time</th>\n      <th>feel</th>\n      <th>metar</th>\n      <th>date</th>\n      <th>time</th>\n    </tr>\n  </thead>\n  <tbody>\n    <tr>\n      <th>0</th>\n      <td>51.98</td>\n      <td>42.08</td>\n      <td>68.86</td>\n      <td>320.00</td>\n      <td>10.00</td>\n      <td>0.00</td>\n      <td>30.19</td>\n      <td>1022.50</td>\n      <td>10.0</td>\n      <td>NaN</td>\n      <td>...</td>\n      <td>NaN</td>\n      <td>NaN</td>\n      <td>NaN</td>\n      <td>NaN</td>\n      <td>NaN</td>\n      <td>NaN</td>\n      <td>51.98</td>\n      <td>KATL 010052Z 32010KT 10SM FEW100 SCT150 BKN200...</td>\n      <td>2016-01-01</td>\n      <td>00:52</td>\n    </tr>\n    <tr>\n      <th>1</th>\n      <td>50.00</td>\n      <td>41.00</td>\n      <td>71.07</td>\n      <td>330.00</td>\n      <td>7.00</td>\n      <td>0.00</td>\n      <td>30.18</td>\n      <td>1022.20</td>\n      <td>10.0</td>\n      <td>NaN</td>\n      <td>...</td>\n      <td>NaN</td>\n      <td>NaN</td>\n      <td>NaN</td>\n      <td>NaN</td>\n      <td>NaN</td>\n      <td>NaN</td>\n      <td>46.72</td>\n      <td>KATL 010152Z 33007KT 10SM SCT150 BKN200 BKN250...</td>\n      <td>2016-01-01</td>\n      <td>01:52</td>\n    </tr>\n    <tr>\n      <th>2</th>\n      <td>48.92</td>\n      <td>41.00</td>\n      <td>73.99</td>\n      <td>310.00</td>\n      <td>12.00</td>\n      <td>0.00</td>\n      <td>30.18</td>\n      <td>1022.00</td>\n      <td>10.0</td>\n      <td>NaN</td>\n      <td>...</td>\n      <td>NaN</td>\n      <td>NaN</td>\n      <td>NaN</td>\n      <td>NaN</td>\n      <td>NaN</td>\n      <td>NaN</td>\n      <td>43.54</td>\n      <td>KATL 010252Z 31012KT 10SM FEW150 BKN200 BKN250...</td>\n      <td>2016-01-01</td>\n      <td>02:52</td>\n    </tr>\n    <tr>\n      <th>3</th>\n      <td>46.94</td>\n      <td>39.92</td>\n      <td>76.43</td>\n      <td>320.00</td>\n      <td>13.00</td>\n      <td>0.00</td>\n      <td>30.17</td>\n      <td>1021.90</td>\n      <td>10.0</td>\n      <td>NaN</td>\n      <td>...</td>\n      <td>NaN</td>\n      <td>NaN</td>\n      <td>NaN</td>\n      <td>NaN</td>\n      <td>NaN</td>\n      <td>NaN</td>\n      <td>40.71</td>\n      <td>KATL 010352Z 32013KT 10SM FEW150 SCT200 BKN250...</td>\n      <td>2016-01-01</td>\n      <td>03:52</td>\n    </tr>\n    <tr>\n      <th>4</th>\n      <td>46.04</td>\n      <td>39.02</td>\n      <td>76.35</td>\n      <td>320.00</td>\n      <td>10.00</td>\n      <td>0.00</td>\n      <td>30.18</td>\n      <td>1022.00</td>\n      <td>10.0</td>\n      <td>NaN</td>\n      <td>...</td>\n      <td>NaN</td>\n      <td>NaN</td>\n      <td>NaN</td>\n      <td>NaN</td>\n      <td>NaN</td>\n      <td>NaN</td>\n      <td>40.57</td>\n      <td>KATL 010452Z 32010KT 10SM FEW150 BKN200 BKN250...</td>\n      <td>2016-01-01</td>\n      <td>04:52</td>\n    </tr>\n    <tr>\n      <th>...</th>\n      <td>...</td>\n      <td>...</td>\n      <td>...</td>\n      <td>...</td>\n      <td>...</td>\n      <td>...</td>\n      <td>...</td>\n      <td>...</td>\n      <td>...</td>\n      <td>...</td>\n      <td>...</td>\n      <td>...</td>\n      <td>...</td>\n      <td>...</td>\n      <td>...</td>\n      <td>...</td>\n      <td>...</td>\n      <td>...</td>\n      <td>...</td>\n      <td>...</td>\n      <td>...</td>\n    </tr>\n    <tr>\n      <th>193028</th>\n      <td>NaN</td>\n      <td>NaN</td>\n      <td>NaN</td>\n      <td>350.00</td>\n      <td>8.00</td>\n      <td>NaN</td>\n      <td>30.08</td>\n      <td>NaN</td>\n      <td>10.0</td>\n      <td>NaN</td>\n      <td>...</td>\n      <td>NaN</td>\n      <td>NaN</td>\n      <td>NaN</td>\n      <td>NaN</td>\n      <td>NaN</td>\n      <td>NaN</td>\n      <td>NaN</td>\n      <td>KATL 302340Z AUTO 35008KT 10SM 07/M01 A3008 RM...</td>\n      <td>2017-12-30</td>\n      <td>23:40</td>\n    </tr>\n    <tr>\n      <th>193029</th>\n      <td>NaN</td>\n      <td>NaN</td>\n      <td>NaN</td>\n      <td>360.00</td>\n      <td>10.00</td>\n      <td>NaN</td>\n      <td>30.08</td>\n      <td>NaN</td>\n      <td>10.0</td>\n      <td>NaN</td>\n      <td>...</td>\n      <td>NaN</td>\n      <td>NaN</td>\n      <td>NaN</td>\n      <td>NaN</td>\n      <td>NaN</td>\n      <td>NaN</td>\n      <td>NaN</td>\n      <td>KATL 302345Z AUTO 36010KT 10SM 07/M01 A3008 RM...</td>\n      <td>2017-12-30</td>\n      <td>23:45</td>\n    </tr>\n    <tr>\n      <th>193030</th>\n      <td>NaN</td>\n      <td>NaN</td>\n      <td>NaN</td>\n      <td>330.00</td>\n      <td>10.00</td>\n      <td>NaN</td>\n      <td>30.09</td>\n      <td>NaN</td>\n      <td>10.0</td>\n      <td>NaN</td>\n      <td>...</td>\n      <td>NaN</td>\n      <td>NaN</td>\n      <td>NaN</td>\n      <td>NaN</td>\n      <td>NaN</td>\n      <td>NaN</td>\n      <td>NaN</td>\n      <td>KATL 302350Z AUTO 33010KT 10SM 07/M01 A3009 RM...</td>\n      <td>2017-12-30</td>\n      <td>23:50</td>\n    </tr>\n    <tr>\n      <th>193031</th>\n      <td>44.10</td>\n      <td>30.00</td>\n      <td>57.37</td>\n      <td>340.00</td>\n      <td>9.00</td>\n      <td>0.00</td>\n      <td>30.09</td>\n      <td>1019.50</td>\n      <td>10.0</td>\n      <td>NaN</td>\n      <td>...</td>\n      <td>NaN</td>\n      <td>NaN</td>\n      <td>NaN</td>\n      <td>NaN</td>\n      <td>NaN</td>\n      <td>NaN</td>\n      <td>38.56</td>\n      <td>KATL 302352Z 34009KT 10SM FEW200 BKN250 07/M01...</td>\n      <td>2017-12-30</td>\n      <td>23:52</td>\n    </tr>\n    <tr>\n      <th>193032</th>\n      <td>NaN</td>\n      <td>NaN</td>\n      <td>NaN</td>\n      <td>330.00</td>\n      <td>8.00</td>\n      <td>NaN</td>\n      <td>30.09</td>\n      <td>NaN</td>\n      <td>10.0</td>\n      <td>NaN</td>\n      <td>...</td>\n      <td>NaN</td>\n      <td>NaN</td>\n      <td>NaN</td>\n      <td>NaN</td>\n      <td>NaN</td>\n      <td>NaN</td>\n      <td>NaN</td>\n      <td>KATL 302355Z AUTO 33008KT 10SM 07/M01 A3009 RM...</td>\n      <td>2017-12-30</td>\n      <td>23:55</td>\n    </tr>\n  </tbody>\n</table>\n<p>193033 rows × 29 columns</p>\n</div>"
     },
     "execution_count": 3,
     "metadata": {},
     "output_type": "execute_result"
    }
   ],
   "source": [
    "atl_weather_df = read_table_from_subfolder(os.path.join(INPUT_FOLDER, \"data_raw/METAR_US/*_KATL_*.txt\"))\n",
    "date = atl_weather_df[\"valid\"].apply(lambda x: x.split()[0])\n",
    "time = atl_weather_df[\"valid\"].apply(lambda x: x.split()[1])\n",
    "atl_weather_df = atl_weather_df.drop(labels=[\"station\",\"lon\", \"lat\",\"valid\"], axis=\"columns\")\n",
    "atl_weather_df[\"date\"] = date\n",
    "atl_weather_df[\"time\"] = time\n",
    "atl_weather_df = atl_weather_df.mask(atl_weather_df == \"M\")\n",
    "#atl_weather_df[\"valid\"] = atl_weather_df[\"valid\"].apply(lambda x: re.match('\\d\\d\\d\\d-\\d\\d-\\d\\d',x).group(0))\n",
    "atl_weather_df"
   ],
   "metadata": {
    "collapsed": false,
    "pycharm": {
     "name": "#%%\n"
    },
    "ExecuteTime": {
     "end_time": "2024-09-25T17:14:28.284301Z",
     "start_time": "2024-09-25T17:14:25.839301Z"
    }
   }
  },
  {
   "cell_type": "code",
   "execution_count": 9,
   "outputs": [
    {
     "data": {
      "text/plain": "'\\\\begin{tabular}{lllllll}\\n & Name & Type & # Null & # Unique & Doubled & range \\\\\\\\\\n0 & tmpf & object & 172637 & 182 & 20214 & char(5.0-5.0) \\\\\\\\\\n1 & dwpf & object & 172639 & 169 & 20225 & char(4.0-5.0) \\\\\\\\\\n2 & relh & object & 172669 & 3088 & 17276 & char(4.0-6.0) \\\\\\\\\\n3 & drct & object & 5400 & 38 & 187595 & char(4.0-6.0) \\\\\\\\\\n4 & sknt & object & 4879 & 37 & 188117 & char(4.0-5.0) \\\\\\\\\\n5 & p01i & object & 166716 & 116 & 26201 & char(1.0-4.0) \\\\\\\\\\n6 & alti & object & 31 & 216 & 192786 & char(5.0-5.0) \\\\\\\\\\n7 & mslp & object & 175544 & 427 & 17062 & char(6.0-7.0) \\\\\\\\\\n8 & vsby & float64 & 0 & 21 & 193012 & [0.12;10.0] \\\\\\\\\\n9 & gust & object & 187790 & 39 & 5204 & char(5.0-5.0) \\\\\\\\\\n10 & skyc1 & object & 7644 & 7 & 185382 & char(3.0-3.0) \\\\\\\\\\n11 & skyc2 & object & 146844 & 5 & 46184 & char(3.0-3.0) \\\\\\\\\\n12 & skyc3 & object & 172045 & 5 & 20983 & char(3.0-3.0) \\\\\\\\\\n13 & skyc4 & object & 191156 & 4 & 1873 & char(3.0-3.0) \\\\\\\\\\n14 & skyl1 & object & 96692 & 84 & 96257 & char(4.0-8.0) \\\\\\\\\\n15 & skyl2 & object & 146844 & 81 & 46108 & char(6.0-8.0) \\\\\\\\\\n16 & skyl3 & object & 172045 & 76 & 20912 & char(6.0-8.0) \\\\\\\\\\n17 & skyl4 & object & 191156 & 15 & 1862 & char(8.0-8.0) \\\\\\\\\\n18 & wxcodes & object & 175124 & 81 & 17828 & char(2.0-14.0) \\\\\\\\\\n19 & ice_accretion_1hr & object & 193011 & 7 & 15 & char(1.0-4.0) \\\\\\\\\\n20 & ice_accretion_3hr & object & 193029 & 4 & 0 & char(1.0-4.0) \\\\\\\\\\n21 & ice_accretion_6hr & object & 193029 & 4 & 0 & char(1.0-4.0) \\\\\\\\\\n22 & peak_wind_gust & object & 192464 & 25 & 544 & char(5.0-5.0) \\\\\\\\\\n23 & peak_wind_drct & object & 192464 & 35 & 534 & char(5.0-6.0) \\\\\\\\\\n24 & peak_wind_time & object & 192464 & 461 & 108 & char(16.0-16.0) \\\\\\\\\\n25 & feel & object & 172669 & 1616 & 18748 & char(4.0-6.0) \\\\\\\\\\n26 & metar & object & 1702 & 191277 & 54 & char(41.0-225.0) \\\\\\\\\\n27 & date & object & 0 & 730 & 192303 & char(10-10) \\\\\\\\\\n28 & time & object & 0 & 1246 & 191787 & char(5-5) \\\\\\\\\\n\\\\end{tabular}\\n'"
     },
     "execution_count": 9,
     "metadata": {},
     "output_type": "execute_result"
    }
   ],
   "source": [
    "from main.utils import data_manage_utils\n",
    "import importlib\n",
    "importlib.reload(data_manage_utils)\n",
    "data_manage_utils.col_stats_to_table(atl_weather_df).style.to_latex()"
   ],
   "metadata": {
    "collapsed": false,
    "ExecuteTime": {
     "end_time": "2024-09-25T17:20:41.172439700Z",
     "start_time": "2024-09-25T17:20:38.199568800Z"
    }
   }
  },
  {
   "cell_type": "code",
   "execution_count": 4,
   "outputs": [
    {
     "name": "stdout",
     "output_type": "stream",
     "text": [
      "Counting 'T' values per column\n",
      "tmpf:\t0\n",
      "dwpf:\t0\n",
      "relh:\t0\n",
      "drct:\t0\n",
      "sknt:\t0\n",
      "p01i:\t1854\n",
      "alti:\t0\n",
      "mslp:\t0\n",
      "vsby:\t0\n",
      "gust:\t0\n",
      "skyc1:\t0\n",
      "skyc2:\t0\n",
      "skyc3:\t0\n",
      "skyc4:\t0\n",
      "skyl1:\t0\n",
      "skyl2:\t0\n",
      "skyl3:\t0\n",
      "skyl4:\t0\n",
      "wxcodes:\t0\n",
      "ice_accretion_1hr:\t11\n",
      "ice_accretion_3hr:\t2\n",
      "ice_accretion_6hr:\t2\n",
      "peak_wind_gust:\t0\n",
      "peak_wind_drct:\t0\n",
      "peak_wind_time:\t0\n",
      "feel:\t0\n",
      "metar:\t0\n",
      "date:\t0\n",
      "time:\t0\n"
     ]
    }
   ],
   "source": [
    "print(\"Counting 'T' values per column\")\n",
    "for col in atl_weather_df.columns:\n",
    "    val_cnt = atl_weather_df[col].value_counts()\n",
    "    if 'T' in val_cnt.index:\n",
    "        print(col + \":\\t\"+ str(val_cnt.loc[\"T\"]))\n",
    "    else:\n",
    "        print(col + \":\\t0\")"
   ],
   "metadata": {
    "collapsed": false,
    "pycharm": {
     "name": "#%%\n"
    },
    "ExecuteTime": {
     "end_time": "2024-03-24T14:53:54.106221Z",
     "start_time": "2024-03-24T14:53:53.375704600Z"
    }
   }
  },
  {
   "cell_type": "code",
   "execution_count": 5,
   "outputs": [
    {
     "name": "stdout",
     "output_type": "stream",
     "text": [
      "<class 'pandas.core.frame.DataFrame'>\n",
      "RangeIndex: 193033 entries, 0 to 193032\n",
      "Data columns (total 29 columns):\n",
      " #   Column             Non-Null Count   Dtype  \n",
      "---  ------             --------------   -----  \n",
      " 0   tmpf               20396 non-null   object \n",
      " 1   dwpf               20394 non-null   object \n",
      " 2   relh               20364 non-null   object \n",
      " 3   drct               187633 non-null  object \n",
      " 4   sknt               188154 non-null  object \n",
      " 5   p01i               24463 non-null   object \n",
      " 6   alti               193002 non-null  object \n",
      " 7   mslp               17489 non-null   object \n",
      " 8   vsby               193033 non-null  float64\n",
      " 9   gust               5243 non-null    object \n",
      " 10  skyc1              185389 non-null  object \n",
      " 11  skyc2              46189 non-null   object \n",
      " 12  skyc3              20988 non-null   object \n",
      " 13  skyc4              1877 non-null    object \n",
      " 14  skyl1              96341 non-null   object \n",
      " 15  skyl2              46189 non-null   object \n",
      " 16  skyl3              20988 non-null   object \n",
      " 17  skyl4              1877 non-null    object \n",
      " 18  wxcodes            17909 non-null   object \n",
      " 19  ice_accretion_1hr  11 non-null      object \n",
      " 20  ice_accretion_3hr  2 non-null       object \n",
      " 21  ice_accretion_6hr  2 non-null       object \n",
      " 22  peak_wind_gust     569 non-null     object \n",
      " 23  peak_wind_drct     569 non-null     object \n",
      " 24  peak_wind_time     569 non-null     object \n",
      " 25  feel               20364 non-null   object \n",
      " 26  metar              191331 non-null  object \n",
      " 27  date               193033 non-null  object \n",
      " 28  time               193033 non-null  object \n",
      "dtypes: float64(1), object(28)\n",
      "memory usage: 42.7+ MB\n"
     ]
    }
   ],
   "source": [
    "atl_weather_df = atl_weather_df.mask(atl_weather_df == \"T\")\n",
    "atl_weather_df.info()"
   ],
   "metadata": {
    "collapsed": false,
    "pycharm": {
     "name": "#%%\n"
    },
    "ExecuteTime": {
     "end_time": "2024-03-24T14:53:56.328262Z",
     "start_time": "2024-03-24T14:53:54.106221Z"
    }
   }
  },
  {
   "cell_type": "code",
   "execution_count": 6,
   "outputs": [
    {
     "data": {
      "text/plain": "         tmpf   dwpf   relh    drct   sknt  p01i   alti     mslp  vsby gust  \\\n0       51.98  42.08  68.86  320.00  10.00  0.00  30.19  1022.50  10.0  NaN   \n1       50.00  41.00  71.07  330.00   7.00  0.00  30.18  1022.20  10.0  NaN   \n2       48.92  41.00  73.99  310.00  12.00  0.00  30.18  1022.00  10.0  NaN   \n3       46.94  39.92  76.43  320.00  13.00  0.00  30.17  1021.90  10.0  NaN   \n4       46.04  39.02  76.35  320.00  10.00  0.00  30.18  1022.00  10.0  NaN   \n...       ...    ...    ...     ...    ...   ...    ...      ...   ...  ...   \n193028    NaN    NaN    NaN  350.00   8.00   NaN  30.08      NaN  10.0  NaN   \n193029    NaN    NaN    NaN  360.00  10.00   NaN  30.08      NaN  10.0  NaN   \n193030    NaN    NaN    NaN  330.00  10.00   NaN  30.09      NaN  10.0  NaN   \n193031  44.10  30.00  57.37  340.00   9.00  0.00  30.09  1019.50  10.0  NaN   \n193032    NaN    NaN    NaN  330.00   8.00   NaN  30.09      NaN  10.0  NaN   \n\n        ... ice_accretion_1hr ice_accretion_3hr ice_accretion_6hr  \\\n0       ...               NaN               NaN               NaN   \n1       ...               NaN               NaN               NaN   \n2       ...               NaN               NaN               NaN   \n3       ...               NaN               NaN               NaN   \n4       ...               NaN               NaN               NaN   \n...     ...               ...               ...               ...   \n193028  ...               NaN               NaN               NaN   \n193029  ...               NaN               NaN               NaN   \n193030  ...               NaN               NaN               NaN   \n193031  ...               NaN               NaN               NaN   \n193032  ...               NaN               NaN               NaN   \n\n       peak_wind_gust peak_wind_drct peak_wind_time   feel  \\\n0                 NaN            NaN            NaN  51.98   \n1                 NaN            NaN            NaN  46.72   \n2                 NaN            NaN            NaN  43.54   \n3                 NaN            NaN            NaN  40.71   \n4                 NaN            NaN            NaN  40.57   \n...               ...            ...            ...    ...   \n193028            NaN            NaN            NaN    NaN   \n193029            NaN            NaN            NaN    NaN   \n193030            NaN            NaN            NaN    NaN   \n193031            NaN            NaN            NaN  38.56   \n193032            NaN            NaN            NaN    NaN   \n\n                                                    metar        date   time  \n0       KATL 010052Z 32010KT 10SM FEW100 SCT150 BKN200...  2016-01-01  00:52  \n1       KATL 010152Z 33007KT 10SM SCT150 BKN200 BKN250...  2016-01-01  01:52  \n2       KATL 010252Z 31012KT 10SM FEW150 BKN200 BKN250...  2016-01-01  02:52  \n3       KATL 010352Z 32013KT 10SM FEW150 SCT200 BKN250...  2016-01-01  03:52  \n4       KATL 010452Z 32010KT 10SM FEW150 BKN200 BKN250...  2016-01-01  04:52  \n...                                                   ...         ...    ...  \n193028  KATL 302340Z AUTO 35008KT 10SM 07/M01 A3008 RM...  2017-12-30  23:40  \n193029  KATL 302345Z AUTO 36010KT 10SM 07/M01 A3008 RM...  2017-12-30  23:45  \n193030  KATL 302350Z AUTO 33010KT 10SM 07/M01 A3009 RM...  2017-12-30  23:50  \n193031  KATL 302352Z 34009KT 10SM FEW200 BKN250 07/M01...  2017-12-30  23:52  \n193032  KATL 302355Z AUTO 33008KT 10SM 07/M01 A3009 RM...  2017-12-30  23:55  \n\n[193033 rows x 29 columns]",
      "text/html": "<div>\n<style scoped>\n    .dataframe tbody tr th:only-of-type {\n        vertical-align: middle;\n    }\n\n    .dataframe tbody tr th {\n        vertical-align: top;\n    }\n\n    .dataframe thead th {\n        text-align: right;\n    }\n</style>\n<table border=\"1\" class=\"dataframe\">\n  <thead>\n    <tr style=\"text-align: right;\">\n      <th></th>\n      <th>tmpf</th>\n      <th>dwpf</th>\n      <th>relh</th>\n      <th>drct</th>\n      <th>sknt</th>\n      <th>p01i</th>\n      <th>alti</th>\n      <th>mslp</th>\n      <th>vsby</th>\n      <th>gust</th>\n      <th>...</th>\n      <th>ice_accretion_1hr</th>\n      <th>ice_accretion_3hr</th>\n      <th>ice_accretion_6hr</th>\n      <th>peak_wind_gust</th>\n      <th>peak_wind_drct</th>\n      <th>peak_wind_time</th>\n      <th>feel</th>\n      <th>metar</th>\n      <th>date</th>\n      <th>time</th>\n    </tr>\n  </thead>\n  <tbody>\n    <tr>\n      <th>0</th>\n      <td>51.98</td>\n      <td>42.08</td>\n      <td>68.86</td>\n      <td>320.00</td>\n      <td>10.00</td>\n      <td>0.00</td>\n      <td>30.19</td>\n      <td>1022.50</td>\n      <td>10.0</td>\n      <td>NaN</td>\n      <td>...</td>\n      <td>NaN</td>\n      <td>NaN</td>\n      <td>NaN</td>\n      <td>NaN</td>\n      <td>NaN</td>\n      <td>NaN</td>\n      <td>51.98</td>\n      <td>KATL 010052Z 32010KT 10SM FEW100 SCT150 BKN200...</td>\n      <td>2016-01-01</td>\n      <td>00:52</td>\n    </tr>\n    <tr>\n      <th>1</th>\n      <td>50.00</td>\n      <td>41.00</td>\n      <td>71.07</td>\n      <td>330.00</td>\n      <td>7.00</td>\n      <td>0.00</td>\n      <td>30.18</td>\n      <td>1022.20</td>\n      <td>10.0</td>\n      <td>NaN</td>\n      <td>...</td>\n      <td>NaN</td>\n      <td>NaN</td>\n      <td>NaN</td>\n      <td>NaN</td>\n      <td>NaN</td>\n      <td>NaN</td>\n      <td>46.72</td>\n      <td>KATL 010152Z 33007KT 10SM SCT150 BKN200 BKN250...</td>\n      <td>2016-01-01</td>\n      <td>01:52</td>\n    </tr>\n    <tr>\n      <th>2</th>\n      <td>48.92</td>\n      <td>41.00</td>\n      <td>73.99</td>\n      <td>310.00</td>\n      <td>12.00</td>\n      <td>0.00</td>\n      <td>30.18</td>\n      <td>1022.00</td>\n      <td>10.0</td>\n      <td>NaN</td>\n      <td>...</td>\n      <td>NaN</td>\n      <td>NaN</td>\n      <td>NaN</td>\n      <td>NaN</td>\n      <td>NaN</td>\n      <td>NaN</td>\n      <td>43.54</td>\n      <td>KATL 010252Z 31012KT 10SM FEW150 BKN200 BKN250...</td>\n      <td>2016-01-01</td>\n      <td>02:52</td>\n    </tr>\n    <tr>\n      <th>3</th>\n      <td>46.94</td>\n      <td>39.92</td>\n      <td>76.43</td>\n      <td>320.00</td>\n      <td>13.00</td>\n      <td>0.00</td>\n      <td>30.17</td>\n      <td>1021.90</td>\n      <td>10.0</td>\n      <td>NaN</td>\n      <td>...</td>\n      <td>NaN</td>\n      <td>NaN</td>\n      <td>NaN</td>\n      <td>NaN</td>\n      <td>NaN</td>\n      <td>NaN</td>\n      <td>40.71</td>\n      <td>KATL 010352Z 32013KT 10SM FEW150 SCT200 BKN250...</td>\n      <td>2016-01-01</td>\n      <td>03:52</td>\n    </tr>\n    <tr>\n      <th>4</th>\n      <td>46.04</td>\n      <td>39.02</td>\n      <td>76.35</td>\n      <td>320.00</td>\n      <td>10.00</td>\n      <td>0.00</td>\n      <td>30.18</td>\n      <td>1022.00</td>\n      <td>10.0</td>\n      <td>NaN</td>\n      <td>...</td>\n      <td>NaN</td>\n      <td>NaN</td>\n      <td>NaN</td>\n      <td>NaN</td>\n      <td>NaN</td>\n      <td>NaN</td>\n      <td>40.57</td>\n      <td>KATL 010452Z 32010KT 10SM FEW150 BKN200 BKN250...</td>\n      <td>2016-01-01</td>\n      <td>04:52</td>\n    </tr>\n    <tr>\n      <th>...</th>\n      <td>...</td>\n      <td>...</td>\n      <td>...</td>\n      <td>...</td>\n      <td>...</td>\n      <td>...</td>\n      <td>...</td>\n      <td>...</td>\n      <td>...</td>\n      <td>...</td>\n      <td>...</td>\n      <td>...</td>\n      <td>...</td>\n      <td>...</td>\n      <td>...</td>\n      <td>...</td>\n      <td>...</td>\n      <td>...</td>\n      <td>...</td>\n      <td>...</td>\n      <td>...</td>\n    </tr>\n    <tr>\n      <th>193028</th>\n      <td>NaN</td>\n      <td>NaN</td>\n      <td>NaN</td>\n      <td>350.00</td>\n      <td>8.00</td>\n      <td>NaN</td>\n      <td>30.08</td>\n      <td>NaN</td>\n      <td>10.0</td>\n      <td>NaN</td>\n      <td>...</td>\n      <td>NaN</td>\n      <td>NaN</td>\n      <td>NaN</td>\n      <td>NaN</td>\n      <td>NaN</td>\n      <td>NaN</td>\n      <td>NaN</td>\n      <td>KATL 302340Z AUTO 35008KT 10SM 07/M01 A3008 RM...</td>\n      <td>2017-12-30</td>\n      <td>23:40</td>\n    </tr>\n    <tr>\n      <th>193029</th>\n      <td>NaN</td>\n      <td>NaN</td>\n      <td>NaN</td>\n      <td>360.00</td>\n      <td>10.00</td>\n      <td>NaN</td>\n      <td>30.08</td>\n      <td>NaN</td>\n      <td>10.0</td>\n      <td>NaN</td>\n      <td>...</td>\n      <td>NaN</td>\n      <td>NaN</td>\n      <td>NaN</td>\n      <td>NaN</td>\n      <td>NaN</td>\n      <td>NaN</td>\n      <td>NaN</td>\n      <td>KATL 302345Z AUTO 36010KT 10SM 07/M01 A3008 RM...</td>\n      <td>2017-12-30</td>\n      <td>23:45</td>\n    </tr>\n    <tr>\n      <th>193030</th>\n      <td>NaN</td>\n      <td>NaN</td>\n      <td>NaN</td>\n      <td>330.00</td>\n      <td>10.00</td>\n      <td>NaN</td>\n      <td>30.09</td>\n      <td>NaN</td>\n      <td>10.0</td>\n      <td>NaN</td>\n      <td>...</td>\n      <td>NaN</td>\n      <td>NaN</td>\n      <td>NaN</td>\n      <td>NaN</td>\n      <td>NaN</td>\n      <td>NaN</td>\n      <td>NaN</td>\n      <td>KATL 302350Z AUTO 33010KT 10SM 07/M01 A3009 RM...</td>\n      <td>2017-12-30</td>\n      <td>23:50</td>\n    </tr>\n    <tr>\n      <th>193031</th>\n      <td>44.10</td>\n      <td>30.00</td>\n      <td>57.37</td>\n      <td>340.00</td>\n      <td>9.00</td>\n      <td>0.00</td>\n      <td>30.09</td>\n      <td>1019.50</td>\n      <td>10.0</td>\n      <td>NaN</td>\n      <td>...</td>\n      <td>NaN</td>\n      <td>NaN</td>\n      <td>NaN</td>\n      <td>NaN</td>\n      <td>NaN</td>\n      <td>NaN</td>\n      <td>38.56</td>\n      <td>KATL 302352Z 34009KT 10SM FEW200 BKN250 07/M01...</td>\n      <td>2017-12-30</td>\n      <td>23:52</td>\n    </tr>\n    <tr>\n      <th>193032</th>\n      <td>NaN</td>\n      <td>NaN</td>\n      <td>NaN</td>\n      <td>330.00</td>\n      <td>8.00</td>\n      <td>NaN</td>\n      <td>30.09</td>\n      <td>NaN</td>\n      <td>10.0</td>\n      <td>NaN</td>\n      <td>...</td>\n      <td>NaN</td>\n      <td>NaN</td>\n      <td>NaN</td>\n      <td>NaN</td>\n      <td>NaN</td>\n      <td>NaN</td>\n      <td>NaN</td>\n      <td>KATL 302355Z AUTO 33008KT 10SM 07/M01 A3009 RM...</td>\n      <td>2017-12-30</td>\n      <td>23:55</td>\n    </tr>\n  </tbody>\n</table>\n<p>193033 rows × 29 columns</p>\n</div>"
     },
     "execution_count": 6,
     "metadata": {},
     "output_type": "execute_result"
    }
   ],
   "source": [
    "#atl_weather_df = num_df.join(str_df)\n",
    "atl_weather_df"
   ],
   "metadata": {
    "collapsed": false,
    "pycharm": {
     "name": "#%%\n"
    },
    "ExecuteTime": {
     "end_time": "2024-03-24T14:53:56.545786500Z",
     "start_time": "2024-03-24T14:53:56.324265Z"
    }
   }
  },
  {
   "cell_type": "code",
   "execution_count": 7,
   "outputs": [
    {
     "name": "stdout",
     "output_type": "stream",
     "text": [
      "Counting non-null percentage per column\n",
      "tmpf:\t0.11\n",
      "dwpf:\t0.11\n",
      "relh:\t0.11\n",
      "drct:\t0.97\n",
      "sknt:\t0.97\n",
      "p01i:\t0.13\n",
      "alti:\t1.0\n",
      "mslp:\t0.09\n",
      "vsby:\t1.0\n",
      "gust:\t0.03\n",
      "skyc1:\t0.96\n",
      "skyc2:\t0.24\n",
      "skyc3:\t0.11\n",
      "skyc4:\t0.01\n",
      "skyl1:\t0.5\n",
      "skyl2:\t0.24\n",
      "skyl3:\t0.11\n",
      "skyl4:\t0.01\n",
      "wxcodes:\t0.09\n",
      "ice_accretion_1hr:\t0.0\n",
      "ice_accretion_3hr:\t0.0\n",
      "ice_accretion_6hr:\t0.0\n",
      "peak_wind_gust:\t0.0\n",
      "peak_wind_drct:\t0.0\n",
      "peak_wind_time:\t0.0\n",
      "feel:\t0.11\n",
      "metar:\t0.99\n",
      "date:\t1.0\n",
      "time:\t1.0\n"
     ]
    }
   ],
   "source": [
    "def print_inv_nan_perc(df):\n",
    "    print(\"Counting non-null percentage per column\")\n",
    "    for col in df.columns:\n",
    "        perc = round(1 - (df[col].isna().sum() / df.__len__()),2)\n",
    "        print(col + \":\\t\" + str(perc))\n",
    "print_inv_nan_perc(atl_weather_df)"
   ],
   "metadata": {
    "collapsed": false,
    "pycharm": {
     "name": "#%%\n"
    },
    "ExecuteTime": {
     "end_time": "2024-03-24T14:53:57.289780500Z",
     "start_time": "2024-03-24T14:53:56.545786500Z"
    }
   }
  },
  {
   "cell_type": "code",
   "execution_count": 8,
   "outputs": [
    {
     "data": {
      "text/plain": "         tmpf   dwpf   relh    drct   sknt  p01i   alti     mslp  vsby gust  \\\n0       51.98  42.08  68.86  320.00  10.00  0.00  30.19  1022.50  10.0  NaN   \n1       50.00  41.00  71.07  330.00   7.00  0.00  30.18  1022.20  10.0  NaN   \n2       48.92  41.00  73.99  310.00  12.00  0.00  30.18  1022.00  10.0  NaN   \n3       46.94  39.92  76.43  320.00  13.00  0.00  30.17  1021.90  10.0  NaN   \n4       46.04  39.02  76.35  320.00  10.00  0.00  30.18  1022.00  10.0  NaN   \n...       ...    ...    ...     ...    ...   ...    ...      ...   ...  ...   \n193028    NaN    NaN    NaN  350.00   8.00   NaN  30.08      NaN  10.0  NaN   \n193029    NaN    NaN    NaN  360.00  10.00   NaN  30.08      NaN  10.0  NaN   \n193030    NaN    NaN    NaN  330.00  10.00   NaN  30.09      NaN  10.0  NaN   \n193031  44.10  30.00  57.37  340.00   9.00  0.00  30.09  1019.50  10.0  NaN   \n193032    NaN    NaN    NaN  330.00   8.00   NaN  30.09      NaN  10.0  NaN   \n\n        ... ice_accretion_1hr ice_accretion_3hr ice_accretion_6hr  \\\n0       ...               NaN               NaN               NaN   \n1       ...               NaN               NaN               NaN   \n2       ...               NaN               NaN               NaN   \n3       ...               NaN               NaN               NaN   \n4       ...               NaN               NaN               NaN   \n...     ...               ...               ...               ...   \n193028  ...               NaN               NaN               NaN   \n193029  ...               NaN               NaN               NaN   \n193030  ...               NaN               NaN               NaN   \n193031  ...               NaN               NaN               NaN   \n193032  ...               NaN               NaN               NaN   \n\n       peak_wind_gust peak_wind_drct peak_wind_time   feel  \\\n0                 NaN            NaN            NaN  51.98   \n1                 NaN            NaN            NaN  46.72   \n2                 NaN            NaN            NaN  43.54   \n3                 NaN            NaN            NaN  40.71   \n4                 NaN            NaN            NaN  40.57   \n...               ...            ...            ...    ...   \n193028            NaN            NaN            NaN    NaN   \n193029            NaN            NaN            NaN    NaN   \n193030            NaN            NaN            NaN    NaN   \n193031            NaN            NaN            NaN  38.56   \n193032            NaN            NaN            NaN    NaN   \n\n                                                    metar        date   time  \n0       KATL 010052Z 32010KT 10SM FEW100 SCT150 BKN200...  2016-01-01  00:52  \n1       KATL 010152Z 33007KT 10SM SCT150 BKN200 BKN250...  2016-01-01  01:52  \n2       KATL 010252Z 31012KT 10SM FEW150 BKN200 BKN250...  2016-01-01  02:52  \n3       KATL 010352Z 32013KT 10SM FEW150 SCT200 BKN250...  2016-01-01  03:52  \n4       KATL 010452Z 32010KT 10SM FEW150 BKN200 BKN250...  2016-01-01  04:52  \n...                                                   ...         ...    ...  \n193028  KATL 302340Z AUTO 35008KT 10SM 07/M01 A3008 RM...  2017-12-30  23:40  \n193029  KATL 302345Z AUTO 36010KT 10SM 07/M01 A3008 RM...  2017-12-30  23:45  \n193030  KATL 302350Z AUTO 33010KT 10SM 07/M01 A3009 RM...  2017-12-30  23:50  \n193031  KATL 302352Z 34009KT 10SM FEW200 BKN250 07/M01...  2017-12-30  23:52  \n193032  KATL 302355Z AUTO 33008KT 10SM 07/M01 A3009 RM...  2017-12-30  23:55  \n\n[191331 rows x 29 columns]",
      "text/html": "<div>\n<style scoped>\n    .dataframe tbody tr th:only-of-type {\n        vertical-align: middle;\n    }\n\n    .dataframe tbody tr th {\n        vertical-align: top;\n    }\n\n    .dataframe thead th {\n        text-align: right;\n    }\n</style>\n<table border=\"1\" class=\"dataframe\">\n  <thead>\n    <tr style=\"text-align: right;\">\n      <th></th>\n      <th>tmpf</th>\n      <th>dwpf</th>\n      <th>relh</th>\n      <th>drct</th>\n      <th>sknt</th>\n      <th>p01i</th>\n      <th>alti</th>\n      <th>mslp</th>\n      <th>vsby</th>\n      <th>gust</th>\n      <th>...</th>\n      <th>ice_accretion_1hr</th>\n      <th>ice_accretion_3hr</th>\n      <th>ice_accretion_6hr</th>\n      <th>peak_wind_gust</th>\n      <th>peak_wind_drct</th>\n      <th>peak_wind_time</th>\n      <th>feel</th>\n      <th>metar</th>\n      <th>date</th>\n      <th>time</th>\n    </tr>\n  </thead>\n  <tbody>\n    <tr>\n      <th>0</th>\n      <td>51.98</td>\n      <td>42.08</td>\n      <td>68.86</td>\n      <td>320.00</td>\n      <td>10.00</td>\n      <td>0.00</td>\n      <td>30.19</td>\n      <td>1022.50</td>\n      <td>10.0</td>\n      <td>NaN</td>\n      <td>...</td>\n      <td>NaN</td>\n      <td>NaN</td>\n      <td>NaN</td>\n      <td>NaN</td>\n      <td>NaN</td>\n      <td>NaN</td>\n      <td>51.98</td>\n      <td>KATL 010052Z 32010KT 10SM FEW100 SCT150 BKN200...</td>\n      <td>2016-01-01</td>\n      <td>00:52</td>\n    </tr>\n    <tr>\n      <th>1</th>\n      <td>50.00</td>\n      <td>41.00</td>\n      <td>71.07</td>\n      <td>330.00</td>\n      <td>7.00</td>\n      <td>0.00</td>\n      <td>30.18</td>\n      <td>1022.20</td>\n      <td>10.0</td>\n      <td>NaN</td>\n      <td>...</td>\n      <td>NaN</td>\n      <td>NaN</td>\n      <td>NaN</td>\n      <td>NaN</td>\n      <td>NaN</td>\n      <td>NaN</td>\n      <td>46.72</td>\n      <td>KATL 010152Z 33007KT 10SM SCT150 BKN200 BKN250...</td>\n      <td>2016-01-01</td>\n      <td>01:52</td>\n    </tr>\n    <tr>\n      <th>2</th>\n      <td>48.92</td>\n      <td>41.00</td>\n      <td>73.99</td>\n      <td>310.00</td>\n      <td>12.00</td>\n      <td>0.00</td>\n      <td>30.18</td>\n      <td>1022.00</td>\n      <td>10.0</td>\n      <td>NaN</td>\n      <td>...</td>\n      <td>NaN</td>\n      <td>NaN</td>\n      <td>NaN</td>\n      <td>NaN</td>\n      <td>NaN</td>\n      <td>NaN</td>\n      <td>43.54</td>\n      <td>KATL 010252Z 31012KT 10SM FEW150 BKN200 BKN250...</td>\n      <td>2016-01-01</td>\n      <td>02:52</td>\n    </tr>\n    <tr>\n      <th>3</th>\n      <td>46.94</td>\n      <td>39.92</td>\n      <td>76.43</td>\n      <td>320.00</td>\n      <td>13.00</td>\n      <td>0.00</td>\n      <td>30.17</td>\n      <td>1021.90</td>\n      <td>10.0</td>\n      <td>NaN</td>\n      <td>...</td>\n      <td>NaN</td>\n      <td>NaN</td>\n      <td>NaN</td>\n      <td>NaN</td>\n      <td>NaN</td>\n      <td>NaN</td>\n      <td>40.71</td>\n      <td>KATL 010352Z 32013KT 10SM FEW150 SCT200 BKN250...</td>\n      <td>2016-01-01</td>\n      <td>03:52</td>\n    </tr>\n    <tr>\n      <th>4</th>\n      <td>46.04</td>\n      <td>39.02</td>\n      <td>76.35</td>\n      <td>320.00</td>\n      <td>10.00</td>\n      <td>0.00</td>\n      <td>30.18</td>\n      <td>1022.00</td>\n      <td>10.0</td>\n      <td>NaN</td>\n      <td>...</td>\n      <td>NaN</td>\n      <td>NaN</td>\n      <td>NaN</td>\n      <td>NaN</td>\n      <td>NaN</td>\n      <td>NaN</td>\n      <td>40.57</td>\n      <td>KATL 010452Z 32010KT 10SM FEW150 BKN200 BKN250...</td>\n      <td>2016-01-01</td>\n      <td>04:52</td>\n    </tr>\n    <tr>\n      <th>...</th>\n      <td>...</td>\n      <td>...</td>\n      <td>...</td>\n      <td>...</td>\n      <td>...</td>\n      <td>...</td>\n      <td>...</td>\n      <td>...</td>\n      <td>...</td>\n      <td>...</td>\n      <td>...</td>\n      <td>...</td>\n      <td>...</td>\n      <td>...</td>\n      <td>...</td>\n      <td>...</td>\n      <td>...</td>\n      <td>...</td>\n      <td>...</td>\n      <td>...</td>\n      <td>...</td>\n    </tr>\n    <tr>\n      <th>193028</th>\n      <td>NaN</td>\n      <td>NaN</td>\n      <td>NaN</td>\n      <td>350.00</td>\n      <td>8.00</td>\n      <td>NaN</td>\n      <td>30.08</td>\n      <td>NaN</td>\n      <td>10.0</td>\n      <td>NaN</td>\n      <td>...</td>\n      <td>NaN</td>\n      <td>NaN</td>\n      <td>NaN</td>\n      <td>NaN</td>\n      <td>NaN</td>\n      <td>NaN</td>\n      <td>NaN</td>\n      <td>KATL 302340Z AUTO 35008KT 10SM 07/M01 A3008 RM...</td>\n      <td>2017-12-30</td>\n      <td>23:40</td>\n    </tr>\n    <tr>\n      <th>193029</th>\n      <td>NaN</td>\n      <td>NaN</td>\n      <td>NaN</td>\n      <td>360.00</td>\n      <td>10.00</td>\n      <td>NaN</td>\n      <td>30.08</td>\n      <td>NaN</td>\n      <td>10.0</td>\n      <td>NaN</td>\n      <td>...</td>\n      <td>NaN</td>\n      <td>NaN</td>\n      <td>NaN</td>\n      <td>NaN</td>\n      <td>NaN</td>\n      <td>NaN</td>\n      <td>NaN</td>\n      <td>KATL 302345Z AUTO 36010KT 10SM 07/M01 A3008 RM...</td>\n      <td>2017-12-30</td>\n      <td>23:45</td>\n    </tr>\n    <tr>\n      <th>193030</th>\n      <td>NaN</td>\n      <td>NaN</td>\n      <td>NaN</td>\n      <td>330.00</td>\n      <td>10.00</td>\n      <td>NaN</td>\n      <td>30.09</td>\n      <td>NaN</td>\n      <td>10.0</td>\n      <td>NaN</td>\n      <td>...</td>\n      <td>NaN</td>\n      <td>NaN</td>\n      <td>NaN</td>\n      <td>NaN</td>\n      <td>NaN</td>\n      <td>NaN</td>\n      <td>NaN</td>\n      <td>KATL 302350Z AUTO 33010KT 10SM 07/M01 A3009 RM...</td>\n      <td>2017-12-30</td>\n      <td>23:50</td>\n    </tr>\n    <tr>\n      <th>193031</th>\n      <td>44.10</td>\n      <td>30.00</td>\n      <td>57.37</td>\n      <td>340.00</td>\n      <td>9.00</td>\n      <td>0.00</td>\n      <td>30.09</td>\n      <td>1019.50</td>\n      <td>10.0</td>\n      <td>NaN</td>\n      <td>...</td>\n      <td>NaN</td>\n      <td>NaN</td>\n      <td>NaN</td>\n      <td>NaN</td>\n      <td>NaN</td>\n      <td>NaN</td>\n      <td>38.56</td>\n      <td>KATL 302352Z 34009KT 10SM FEW200 BKN250 07/M01...</td>\n      <td>2017-12-30</td>\n      <td>23:52</td>\n    </tr>\n    <tr>\n      <th>193032</th>\n      <td>NaN</td>\n      <td>NaN</td>\n      <td>NaN</td>\n      <td>330.00</td>\n      <td>8.00</td>\n      <td>NaN</td>\n      <td>30.09</td>\n      <td>NaN</td>\n      <td>10.0</td>\n      <td>NaN</td>\n      <td>...</td>\n      <td>NaN</td>\n      <td>NaN</td>\n      <td>NaN</td>\n      <td>NaN</td>\n      <td>NaN</td>\n      <td>NaN</td>\n      <td>NaN</td>\n      <td>KATL 302355Z AUTO 33008KT 10SM 07/M01 A3009 RM...</td>\n      <td>2017-12-30</td>\n      <td>23:55</td>\n    </tr>\n  </tbody>\n</table>\n<p>191331 rows × 29 columns</p>\n</div>"
     },
     "execution_count": 8,
     "metadata": {},
     "output_type": "execute_result"
    }
   ],
   "source": [
    "#Dropping all columns with missing metar data\n",
    "atl_weather_df = atl_weather_df.drop(atl_weather_df[atl_weather_df[\"metar\"].isnull()].index)\n",
    "atl_weather_df"
   ],
   "metadata": {
    "collapsed": false,
    "pycharm": {
     "name": "#%%\n"
    },
    "ExecuteTime": {
     "end_time": "2024-03-24T14:53:57.708780100Z",
     "start_time": "2024-03-24T14:53:57.018777700Z"
    }
   }
  },
  {
   "cell_type": "code",
   "execution_count": 9,
   "outputs": [],
   "source": [
    "metar_dict = {\n",
    "    'TS' : 'Thunderstorm',\n",
    "    'RA' : 'Rain',\n",
    "    'DZ' : 'Drizzle',\n",
    "    'SN' : 'Snow',\n",
    "    'SG' : 'Snow Grains',\n",
    "    'IC' : 'Ice Pellets',\n",
    "    'GR' : 'Hail',\n",
    "    'GS' : 'Small Hail',\n",
    "    'FG' : 'FG',\n",
    "    'VA' : 'Volcanic Ashe',\n",
    "    'BR' : 'Mist',\n",
    "    'HZ' : 'Haze',\n",
    "    'DU' : 'Dust',\n",
    "    'FU' : 'Smoke',\n",
    "    'SA' : 'Sand',\n",
    "    'PY' : 'Spray'\n",
    "}"
   ],
   "metadata": {
    "collapsed": false,
    "pycharm": {
     "name": "#%%\n"
    },
    "ExecuteTime": {
     "end_time": "2024-03-24T14:53:57.731781500Z",
     "start_time": "2024-03-24T14:53:57.689779800Z"
    }
   }
  },
  {
   "cell_type": "code",
   "execution_count": 10,
   "outputs": [
    {
     "name": "stdout",
     "output_type": "stream",
     "text": [
      "Length of events: 27140. From 191331 total entries.\n"
     ]
    },
    {
     "data": {
      "text/plain": "[SN]                     6209\n[-RA]                    4123\n[BR]                     3683\n[-RA, BR]                2154\n[-DZ, BR]                1296\n                         ... \n[-TS, RA, BR]               1\n[+TS, RA, SN, IC, FG]       1\n[RA, FU]                    1\n[SN, FG]                    1\n[DZ, FG, BR]                1\nName: events, Length: 122, dtype: int64"
     },
     "execution_count": 10,
     "metadata": {},
     "output_type": "execute_result"
    }
   ],
   "source": [
    "def find_event(metar: str):\n",
    "    ret = []\n",
    "    for event in [ele for ele in list(metar_dict.keys()) if(ele in metar)]:\n",
    "        pos = str.find(metar, event)\n",
    "        if metar[pos - 1] == \"-\" or metar[pos - 1] == \"+\":\n",
    "            ret.append(metar[pos-1] + event)\n",
    "        else:\n",
    "            ret.append(event)\n",
    "    if len(ret) > 0:\n",
    "        return ret\n",
    "    else:\n",
    "        return np.nan\n",
    "\n",
    "atl_weather_df[\"events\"] = atl_weather_df[\"metar\"].apply(lambda x: find_event(x))\n",
    "print(\"Length of events: \" + str(len(atl_weather_df[~atl_weather_df[\"events\"].isna()])) + \". From \" +str(len(atl_weather_df)) + \" total entries.\")\n",
    "atl_weather_df[\"events\"][~atl_weather_df[\"events\"].isna()].value_counts()"
   ],
   "metadata": {
    "collapsed": false,
    "pycharm": {
     "name": "#%%\n"
    },
    "ExecuteTime": {
     "end_time": "2024-03-24T14:53:59.574784Z",
     "start_time": "2024-03-24T14:53:57.718778100Z"
    }
   }
  },
  {
   "cell_type": "code",
   "execution_count": 11,
   "outputs": [
    {
     "data": {
      "text/plain": "         tmpf   dwpf   relh    drct   sknt  p01i   alti     mslp  vsby gust  \\\n0       51.98  42.08  68.86  320.00  10.00  0.00  30.19  1022.50  10.0  NaN   \n1       50.00  41.00  71.07  330.00   7.00  0.00  30.18  1022.20  10.0  NaN   \n2       48.92  41.00  73.99  310.00  12.00  0.00  30.18  1022.00  10.0  NaN   \n3       46.94  39.92  76.43  320.00  13.00  0.00  30.17  1021.90  10.0  NaN   \n4       46.04  39.02  76.35  320.00  10.00  0.00  30.18  1022.00  10.0  NaN   \n...       ...    ...    ...     ...    ...   ...    ...      ...   ...  ...   \n193028    NaN    NaN    NaN  350.00   8.00   NaN  30.08      NaN  10.0  NaN   \n193029    NaN    NaN    NaN  360.00  10.00   NaN  30.08      NaN  10.0  NaN   \n193030    NaN    NaN    NaN  330.00  10.00   NaN  30.09      NaN  10.0  NaN   \n193031  44.10  30.00  57.37  340.00   9.00  0.00  30.09  1019.50  10.0  NaN   \n193032    NaN    NaN    NaN  330.00   8.00   NaN  30.09      NaN  10.0  NaN   \n\n        ... ice_accretion_3hr ice_accretion_6hr peak_wind_gust peak_wind_drct  \\\n0       ...               NaN               NaN            NaN            NaN   \n1       ...               NaN               NaN            NaN            NaN   \n2       ...               NaN               NaN            NaN            NaN   \n3       ...               NaN               NaN            NaN            NaN   \n4       ...               NaN               NaN            NaN            NaN   \n...     ...               ...               ...            ...            ...   \n193028  ...               NaN               NaN            NaN            NaN   \n193029  ...               NaN               NaN            NaN            NaN   \n193030  ...               NaN               NaN            NaN            NaN   \n193031  ...               NaN               NaN            NaN            NaN   \n193032  ...               NaN               NaN            NaN            NaN   \n\n       peak_wind_time   feel  \\\n0                 NaN  51.98   \n1                 NaN  46.72   \n2                 NaN  43.54   \n3                 NaN  40.71   \n4                 NaN  40.57   \n...               ...    ...   \n193028            NaN    NaN   \n193029            NaN    NaN   \n193030            NaN    NaN   \n193031            NaN  38.56   \n193032            NaN    NaN   \n\n                                                    metar        date   time  \\\n0       KATL 010052Z 32010KT 10SM FEW100 SCT150 BKN200...  2016-01-01  00:52   \n1       KATL 010152Z 33007KT 10SM SCT150 BKN200 BKN250...  2016-01-01  01:52   \n2       KATL 010252Z 31012KT 10SM FEW150 BKN200 BKN250...  2016-01-01  02:52   \n3       KATL 010352Z 32013KT 10SM FEW150 SCT200 BKN250...  2016-01-01  03:52   \n4       KATL 010452Z 32010KT 10SM FEW150 BKN200 BKN250...  2016-01-01  04:52   \n...                                                   ...         ...    ...   \n193028  KATL 302340Z AUTO 35008KT 10SM 07/M01 A3008 RM...  2017-12-30  23:40   \n193029  KATL 302345Z AUTO 36010KT 10SM 07/M01 A3008 RM...  2017-12-30  23:45   \n193030  KATL 302350Z AUTO 33010KT 10SM 07/M01 A3009 RM...  2017-12-30  23:50   \n193031  KATL 302352Z 34009KT 10SM FEW200 BKN250 07/M01...  2017-12-30  23:52   \n193032  KATL 302355Z AUTO 33008KT 10SM 07/M01 A3009 RM...  2017-12-30  23:55   \n\n       events  \n0         NaN  \n1         NaN  \n2         NaN  \n3         NaN  \n4         NaN  \n...       ...  \n193028    NaN  \n193029    NaN  \n193030    NaN  \n193031    NaN  \n193032    NaN  \n\n[191331 rows x 30 columns]",
      "text/html": "<div>\n<style scoped>\n    .dataframe tbody tr th:only-of-type {\n        vertical-align: middle;\n    }\n\n    .dataframe tbody tr th {\n        vertical-align: top;\n    }\n\n    .dataframe thead th {\n        text-align: right;\n    }\n</style>\n<table border=\"1\" class=\"dataframe\">\n  <thead>\n    <tr style=\"text-align: right;\">\n      <th></th>\n      <th>tmpf</th>\n      <th>dwpf</th>\n      <th>relh</th>\n      <th>drct</th>\n      <th>sknt</th>\n      <th>p01i</th>\n      <th>alti</th>\n      <th>mslp</th>\n      <th>vsby</th>\n      <th>gust</th>\n      <th>...</th>\n      <th>ice_accretion_3hr</th>\n      <th>ice_accretion_6hr</th>\n      <th>peak_wind_gust</th>\n      <th>peak_wind_drct</th>\n      <th>peak_wind_time</th>\n      <th>feel</th>\n      <th>metar</th>\n      <th>date</th>\n      <th>time</th>\n      <th>events</th>\n    </tr>\n  </thead>\n  <tbody>\n    <tr>\n      <th>0</th>\n      <td>51.98</td>\n      <td>42.08</td>\n      <td>68.86</td>\n      <td>320.00</td>\n      <td>10.00</td>\n      <td>0.00</td>\n      <td>30.19</td>\n      <td>1022.50</td>\n      <td>10.0</td>\n      <td>NaN</td>\n      <td>...</td>\n      <td>NaN</td>\n      <td>NaN</td>\n      <td>NaN</td>\n      <td>NaN</td>\n      <td>NaN</td>\n      <td>51.98</td>\n      <td>KATL 010052Z 32010KT 10SM FEW100 SCT150 BKN200...</td>\n      <td>2016-01-01</td>\n      <td>00:52</td>\n      <td>NaN</td>\n    </tr>\n    <tr>\n      <th>1</th>\n      <td>50.00</td>\n      <td>41.00</td>\n      <td>71.07</td>\n      <td>330.00</td>\n      <td>7.00</td>\n      <td>0.00</td>\n      <td>30.18</td>\n      <td>1022.20</td>\n      <td>10.0</td>\n      <td>NaN</td>\n      <td>...</td>\n      <td>NaN</td>\n      <td>NaN</td>\n      <td>NaN</td>\n      <td>NaN</td>\n      <td>NaN</td>\n      <td>46.72</td>\n      <td>KATL 010152Z 33007KT 10SM SCT150 BKN200 BKN250...</td>\n      <td>2016-01-01</td>\n      <td>01:52</td>\n      <td>NaN</td>\n    </tr>\n    <tr>\n      <th>2</th>\n      <td>48.92</td>\n      <td>41.00</td>\n      <td>73.99</td>\n      <td>310.00</td>\n      <td>12.00</td>\n      <td>0.00</td>\n      <td>30.18</td>\n      <td>1022.00</td>\n      <td>10.0</td>\n      <td>NaN</td>\n      <td>...</td>\n      <td>NaN</td>\n      <td>NaN</td>\n      <td>NaN</td>\n      <td>NaN</td>\n      <td>NaN</td>\n      <td>43.54</td>\n      <td>KATL 010252Z 31012KT 10SM FEW150 BKN200 BKN250...</td>\n      <td>2016-01-01</td>\n      <td>02:52</td>\n      <td>NaN</td>\n    </tr>\n    <tr>\n      <th>3</th>\n      <td>46.94</td>\n      <td>39.92</td>\n      <td>76.43</td>\n      <td>320.00</td>\n      <td>13.00</td>\n      <td>0.00</td>\n      <td>30.17</td>\n      <td>1021.90</td>\n      <td>10.0</td>\n      <td>NaN</td>\n      <td>...</td>\n      <td>NaN</td>\n      <td>NaN</td>\n      <td>NaN</td>\n      <td>NaN</td>\n      <td>NaN</td>\n      <td>40.71</td>\n      <td>KATL 010352Z 32013KT 10SM FEW150 SCT200 BKN250...</td>\n      <td>2016-01-01</td>\n      <td>03:52</td>\n      <td>NaN</td>\n    </tr>\n    <tr>\n      <th>4</th>\n      <td>46.04</td>\n      <td>39.02</td>\n      <td>76.35</td>\n      <td>320.00</td>\n      <td>10.00</td>\n      <td>0.00</td>\n      <td>30.18</td>\n      <td>1022.00</td>\n      <td>10.0</td>\n      <td>NaN</td>\n      <td>...</td>\n      <td>NaN</td>\n      <td>NaN</td>\n      <td>NaN</td>\n      <td>NaN</td>\n      <td>NaN</td>\n      <td>40.57</td>\n      <td>KATL 010452Z 32010KT 10SM FEW150 BKN200 BKN250...</td>\n      <td>2016-01-01</td>\n      <td>04:52</td>\n      <td>NaN</td>\n    </tr>\n    <tr>\n      <th>...</th>\n      <td>...</td>\n      <td>...</td>\n      <td>...</td>\n      <td>...</td>\n      <td>...</td>\n      <td>...</td>\n      <td>...</td>\n      <td>...</td>\n      <td>...</td>\n      <td>...</td>\n      <td>...</td>\n      <td>...</td>\n      <td>...</td>\n      <td>...</td>\n      <td>...</td>\n      <td>...</td>\n      <td>...</td>\n      <td>...</td>\n      <td>...</td>\n      <td>...</td>\n      <td>...</td>\n    </tr>\n    <tr>\n      <th>193028</th>\n      <td>NaN</td>\n      <td>NaN</td>\n      <td>NaN</td>\n      <td>350.00</td>\n      <td>8.00</td>\n      <td>NaN</td>\n      <td>30.08</td>\n      <td>NaN</td>\n      <td>10.0</td>\n      <td>NaN</td>\n      <td>...</td>\n      <td>NaN</td>\n      <td>NaN</td>\n      <td>NaN</td>\n      <td>NaN</td>\n      <td>NaN</td>\n      <td>NaN</td>\n      <td>KATL 302340Z AUTO 35008KT 10SM 07/M01 A3008 RM...</td>\n      <td>2017-12-30</td>\n      <td>23:40</td>\n      <td>NaN</td>\n    </tr>\n    <tr>\n      <th>193029</th>\n      <td>NaN</td>\n      <td>NaN</td>\n      <td>NaN</td>\n      <td>360.00</td>\n      <td>10.00</td>\n      <td>NaN</td>\n      <td>30.08</td>\n      <td>NaN</td>\n      <td>10.0</td>\n      <td>NaN</td>\n      <td>...</td>\n      <td>NaN</td>\n      <td>NaN</td>\n      <td>NaN</td>\n      <td>NaN</td>\n      <td>NaN</td>\n      <td>NaN</td>\n      <td>KATL 302345Z AUTO 36010KT 10SM 07/M01 A3008 RM...</td>\n      <td>2017-12-30</td>\n      <td>23:45</td>\n      <td>NaN</td>\n    </tr>\n    <tr>\n      <th>193030</th>\n      <td>NaN</td>\n      <td>NaN</td>\n      <td>NaN</td>\n      <td>330.00</td>\n      <td>10.00</td>\n      <td>NaN</td>\n      <td>30.09</td>\n      <td>NaN</td>\n      <td>10.0</td>\n      <td>NaN</td>\n      <td>...</td>\n      <td>NaN</td>\n      <td>NaN</td>\n      <td>NaN</td>\n      <td>NaN</td>\n      <td>NaN</td>\n      <td>NaN</td>\n      <td>KATL 302350Z AUTO 33010KT 10SM 07/M01 A3009 RM...</td>\n      <td>2017-12-30</td>\n      <td>23:50</td>\n      <td>NaN</td>\n    </tr>\n    <tr>\n      <th>193031</th>\n      <td>44.10</td>\n      <td>30.00</td>\n      <td>57.37</td>\n      <td>340.00</td>\n      <td>9.00</td>\n      <td>0.00</td>\n      <td>30.09</td>\n      <td>1019.50</td>\n      <td>10.0</td>\n      <td>NaN</td>\n      <td>...</td>\n      <td>NaN</td>\n      <td>NaN</td>\n      <td>NaN</td>\n      <td>NaN</td>\n      <td>NaN</td>\n      <td>38.56</td>\n      <td>KATL 302352Z 34009KT 10SM FEW200 BKN250 07/M01...</td>\n      <td>2017-12-30</td>\n      <td>23:52</td>\n      <td>NaN</td>\n    </tr>\n    <tr>\n      <th>193032</th>\n      <td>NaN</td>\n      <td>NaN</td>\n      <td>NaN</td>\n      <td>330.00</td>\n      <td>8.00</td>\n      <td>NaN</td>\n      <td>30.09</td>\n      <td>NaN</td>\n      <td>10.0</td>\n      <td>NaN</td>\n      <td>...</td>\n      <td>NaN</td>\n      <td>NaN</td>\n      <td>NaN</td>\n      <td>NaN</td>\n      <td>NaN</td>\n      <td>NaN</td>\n      <td>KATL 302355Z AUTO 33008KT 10SM 07/M01 A3009 RM...</td>\n      <td>2017-12-30</td>\n      <td>23:55</td>\n      <td>NaN</td>\n    </tr>\n  </tbody>\n</table>\n<p>191331 rows × 30 columns</p>\n</div>"
     },
     "execution_count": 11,
     "metadata": {},
     "output_type": "execute_result"
    }
   ],
   "source": [
    "atl_weather_df"
   ],
   "metadata": {
    "collapsed": false,
    "pycharm": {
     "name": "#%%\n"
    },
    "ExecuteTime": {
     "end_time": "2024-03-24T14:53:59.840659600Z",
     "start_time": "2024-03-24T14:53:59.562607200Z"
    }
   }
  },
  {
   "cell_type": "code",
   "execution_count": 12,
   "outputs": [
    {
     "name": "stdout",
     "output_type": "stream",
     "text": [
      "Counting non-null percentage per column\n",
      "tmpf:\t0.11\n",
      "dwpf:\t0.11\n",
      "relh:\t0.11\n",
      "drct:\t0.97\n",
      "sknt:\t0.97\n",
      "p01i:\t0.13\n",
      "alti:\t1.0\n",
      "mslp:\t0.09\n",
      "vsby:\t1.0\n",
      "gust:\t0.03\n",
      "skyc1:\t0.96\n",
      "skyc2:\t0.24\n",
      "skyc3:\t0.11\n",
      "skyc4:\t0.01\n",
      "skyl1:\t0.5\n",
      "skyl2:\t0.24\n",
      "skyl3:\t0.11\n",
      "skyl4:\t0.01\n",
      "wxcodes:\t0.09\n",
      "ice_accretion_1hr:\t0.0\n",
      "ice_accretion_3hr:\t0.0\n",
      "ice_accretion_6hr:\t0.0\n",
      "peak_wind_gust:\t0.0\n",
      "peak_wind_drct:\t0.0\n",
      "peak_wind_time:\t0.0\n",
      "feel:\t0.11\n",
      "metar:\t1.0\n",
      "date:\t1.0\n",
      "time:\t1.0\n",
      "events:\t0.14\n"
     ]
    }
   ],
   "source": [
    "print_inv_nan_perc(atl_weather_df)"
   ],
   "metadata": {
    "collapsed": false,
    "pycharm": {
     "name": "#%%\n"
    },
    "ExecuteTime": {
     "end_time": "2024-03-24T14:54:00.208661200Z",
     "start_time": "2024-03-24T14:53:59.829661300Z"
    }
   }
  },
  {
   "cell_type": "code",
   "execution_count": 13,
   "outputs": [
    {
     "data": {
      "text/plain": "         tmpf   dwpf   relh    drct   sknt  p01i   alti     mslp  vsby gust  \\\n0       51.98  42.08  68.86  320.00  10.00  0.00  30.19  1022.50  10.0  NaN   \n1       50.00  41.00  71.07  330.00   7.00  0.00  30.18  1022.20  10.0  NaN   \n2       48.92  41.00  73.99  310.00  12.00  0.00  30.18  1022.00  10.0  NaN   \n3       46.94  39.92  76.43  320.00  13.00  0.00  30.17  1021.90  10.0  NaN   \n4       46.04  39.02  76.35  320.00  10.00  0.00  30.18  1022.00  10.0  NaN   \n...       ...    ...    ...     ...    ...   ...    ...      ...   ...  ...   \n191326    NaN    NaN    NaN  350.00   8.00   NaN  30.08      NaN  10.0  NaN   \n191327    NaN    NaN    NaN  360.00  10.00   NaN  30.08      NaN  10.0  NaN   \n191328    NaN    NaN    NaN  330.00  10.00   NaN  30.09      NaN  10.0  NaN   \n191329  44.10  30.00  57.37  340.00   9.00  0.00  30.09  1019.50  10.0  NaN   \n191330    NaN    NaN    NaN  330.00   8.00   NaN  30.09      NaN  10.0  NaN   \n\n        ... ice_accretion_3hr ice_accretion_6hr peak_wind_gust peak_wind_drct  \\\n0       ...               NaN               NaN            NaN            NaN   \n1       ...               NaN               NaN            NaN            NaN   \n2       ...               NaN               NaN            NaN            NaN   \n3       ...               NaN               NaN            NaN            NaN   \n4       ...               NaN               NaN            NaN            NaN   \n...     ...               ...               ...            ...            ...   \n191326  ...               NaN               NaN            NaN            NaN   \n191327  ...               NaN               NaN            NaN            NaN   \n191328  ...               NaN               NaN            NaN            NaN   \n191329  ...               NaN               NaN            NaN            NaN   \n191330  ...               NaN               NaN            NaN            NaN   \n\n       peak_wind_time   feel  \\\n0                 NaN  51.98   \n1                 NaN  46.72   \n2                 NaN  43.54   \n3                 NaN  40.71   \n4                 NaN  40.57   \n...               ...    ...   \n191326            NaN    NaN   \n191327            NaN    NaN   \n191328            NaN    NaN   \n191329            NaN  38.56   \n191330            NaN    NaN   \n\n                                                    metar        date   time  \\\n0       KATL 010052Z 32010KT 10SM FEW100 SCT150 BKN200...  2016-01-01  00:52   \n1       KATL 010152Z 33007KT 10SM SCT150 BKN200 BKN250...  2016-01-01  01:52   \n2       KATL 010252Z 31012KT 10SM FEW150 BKN200 BKN250...  2016-01-01  02:52   \n3       KATL 010352Z 32013KT 10SM FEW150 SCT200 BKN250...  2016-01-01  03:52   \n4       KATL 010452Z 32010KT 10SM FEW150 BKN200 BKN250...  2016-01-01  04:52   \n...                                                   ...         ...    ...   \n191326  KATL 302340Z AUTO 35008KT 10SM 07/M01 A3008 RM...  2017-12-30  23:40   \n191327  KATL 302345Z AUTO 36010KT 10SM 07/M01 A3008 RM...  2017-12-30  23:45   \n191328  KATL 302350Z AUTO 33010KT 10SM 07/M01 A3009 RM...  2017-12-30  23:50   \n191329  KATL 302352Z 34009KT 10SM FEW200 BKN250 07/M01...  2017-12-30  23:52   \n191330  KATL 302355Z AUTO 33008KT 10SM 07/M01 A3009 RM...  2017-12-30  23:55   \n\n       events  \n0         NaN  \n1         NaN  \n2         NaN  \n3         NaN  \n4         NaN  \n...       ...  \n191326    NaN  \n191327    NaN  \n191328    NaN  \n191329    NaN  \n191330    NaN  \n\n[191331 rows x 30 columns]",
      "text/html": "<div>\n<style scoped>\n    .dataframe tbody tr th:only-of-type {\n        vertical-align: middle;\n    }\n\n    .dataframe tbody tr th {\n        vertical-align: top;\n    }\n\n    .dataframe thead th {\n        text-align: right;\n    }\n</style>\n<table border=\"1\" class=\"dataframe\">\n  <thead>\n    <tr style=\"text-align: right;\">\n      <th></th>\n      <th>tmpf</th>\n      <th>dwpf</th>\n      <th>relh</th>\n      <th>drct</th>\n      <th>sknt</th>\n      <th>p01i</th>\n      <th>alti</th>\n      <th>mslp</th>\n      <th>vsby</th>\n      <th>gust</th>\n      <th>...</th>\n      <th>ice_accretion_3hr</th>\n      <th>ice_accretion_6hr</th>\n      <th>peak_wind_gust</th>\n      <th>peak_wind_drct</th>\n      <th>peak_wind_time</th>\n      <th>feel</th>\n      <th>metar</th>\n      <th>date</th>\n      <th>time</th>\n      <th>events</th>\n    </tr>\n  </thead>\n  <tbody>\n    <tr>\n      <th>0</th>\n      <td>51.98</td>\n      <td>42.08</td>\n      <td>68.86</td>\n      <td>320.00</td>\n      <td>10.00</td>\n      <td>0.00</td>\n      <td>30.19</td>\n      <td>1022.50</td>\n      <td>10.0</td>\n      <td>NaN</td>\n      <td>...</td>\n      <td>NaN</td>\n      <td>NaN</td>\n      <td>NaN</td>\n      <td>NaN</td>\n      <td>NaN</td>\n      <td>51.98</td>\n      <td>KATL 010052Z 32010KT 10SM FEW100 SCT150 BKN200...</td>\n      <td>2016-01-01</td>\n      <td>00:52</td>\n      <td>NaN</td>\n    </tr>\n    <tr>\n      <th>1</th>\n      <td>50.00</td>\n      <td>41.00</td>\n      <td>71.07</td>\n      <td>330.00</td>\n      <td>7.00</td>\n      <td>0.00</td>\n      <td>30.18</td>\n      <td>1022.20</td>\n      <td>10.0</td>\n      <td>NaN</td>\n      <td>...</td>\n      <td>NaN</td>\n      <td>NaN</td>\n      <td>NaN</td>\n      <td>NaN</td>\n      <td>NaN</td>\n      <td>46.72</td>\n      <td>KATL 010152Z 33007KT 10SM SCT150 BKN200 BKN250...</td>\n      <td>2016-01-01</td>\n      <td>01:52</td>\n      <td>NaN</td>\n    </tr>\n    <tr>\n      <th>2</th>\n      <td>48.92</td>\n      <td>41.00</td>\n      <td>73.99</td>\n      <td>310.00</td>\n      <td>12.00</td>\n      <td>0.00</td>\n      <td>30.18</td>\n      <td>1022.00</td>\n      <td>10.0</td>\n      <td>NaN</td>\n      <td>...</td>\n      <td>NaN</td>\n      <td>NaN</td>\n      <td>NaN</td>\n      <td>NaN</td>\n      <td>NaN</td>\n      <td>43.54</td>\n      <td>KATL 010252Z 31012KT 10SM FEW150 BKN200 BKN250...</td>\n      <td>2016-01-01</td>\n      <td>02:52</td>\n      <td>NaN</td>\n    </tr>\n    <tr>\n      <th>3</th>\n      <td>46.94</td>\n      <td>39.92</td>\n      <td>76.43</td>\n      <td>320.00</td>\n      <td>13.00</td>\n      <td>0.00</td>\n      <td>30.17</td>\n      <td>1021.90</td>\n      <td>10.0</td>\n      <td>NaN</td>\n      <td>...</td>\n      <td>NaN</td>\n      <td>NaN</td>\n      <td>NaN</td>\n      <td>NaN</td>\n      <td>NaN</td>\n      <td>40.71</td>\n      <td>KATL 010352Z 32013KT 10SM FEW150 SCT200 BKN250...</td>\n      <td>2016-01-01</td>\n      <td>03:52</td>\n      <td>NaN</td>\n    </tr>\n    <tr>\n      <th>4</th>\n      <td>46.04</td>\n      <td>39.02</td>\n      <td>76.35</td>\n      <td>320.00</td>\n      <td>10.00</td>\n      <td>0.00</td>\n      <td>30.18</td>\n      <td>1022.00</td>\n      <td>10.0</td>\n      <td>NaN</td>\n      <td>...</td>\n      <td>NaN</td>\n      <td>NaN</td>\n      <td>NaN</td>\n      <td>NaN</td>\n      <td>NaN</td>\n      <td>40.57</td>\n      <td>KATL 010452Z 32010KT 10SM FEW150 BKN200 BKN250...</td>\n      <td>2016-01-01</td>\n      <td>04:52</td>\n      <td>NaN</td>\n    </tr>\n    <tr>\n      <th>...</th>\n      <td>...</td>\n      <td>...</td>\n      <td>...</td>\n      <td>...</td>\n      <td>...</td>\n      <td>...</td>\n      <td>...</td>\n      <td>...</td>\n      <td>...</td>\n      <td>...</td>\n      <td>...</td>\n      <td>...</td>\n      <td>...</td>\n      <td>...</td>\n      <td>...</td>\n      <td>...</td>\n      <td>...</td>\n      <td>...</td>\n      <td>...</td>\n      <td>...</td>\n      <td>...</td>\n    </tr>\n    <tr>\n      <th>191326</th>\n      <td>NaN</td>\n      <td>NaN</td>\n      <td>NaN</td>\n      <td>350.00</td>\n      <td>8.00</td>\n      <td>NaN</td>\n      <td>30.08</td>\n      <td>NaN</td>\n      <td>10.0</td>\n      <td>NaN</td>\n      <td>...</td>\n      <td>NaN</td>\n      <td>NaN</td>\n      <td>NaN</td>\n      <td>NaN</td>\n      <td>NaN</td>\n      <td>NaN</td>\n      <td>KATL 302340Z AUTO 35008KT 10SM 07/M01 A3008 RM...</td>\n      <td>2017-12-30</td>\n      <td>23:40</td>\n      <td>NaN</td>\n    </tr>\n    <tr>\n      <th>191327</th>\n      <td>NaN</td>\n      <td>NaN</td>\n      <td>NaN</td>\n      <td>360.00</td>\n      <td>10.00</td>\n      <td>NaN</td>\n      <td>30.08</td>\n      <td>NaN</td>\n      <td>10.0</td>\n      <td>NaN</td>\n      <td>...</td>\n      <td>NaN</td>\n      <td>NaN</td>\n      <td>NaN</td>\n      <td>NaN</td>\n      <td>NaN</td>\n      <td>NaN</td>\n      <td>KATL 302345Z AUTO 36010KT 10SM 07/M01 A3008 RM...</td>\n      <td>2017-12-30</td>\n      <td>23:45</td>\n      <td>NaN</td>\n    </tr>\n    <tr>\n      <th>191328</th>\n      <td>NaN</td>\n      <td>NaN</td>\n      <td>NaN</td>\n      <td>330.00</td>\n      <td>10.00</td>\n      <td>NaN</td>\n      <td>30.09</td>\n      <td>NaN</td>\n      <td>10.0</td>\n      <td>NaN</td>\n      <td>...</td>\n      <td>NaN</td>\n      <td>NaN</td>\n      <td>NaN</td>\n      <td>NaN</td>\n      <td>NaN</td>\n      <td>NaN</td>\n      <td>KATL 302350Z AUTO 33010KT 10SM 07/M01 A3009 RM...</td>\n      <td>2017-12-30</td>\n      <td>23:50</td>\n      <td>NaN</td>\n    </tr>\n    <tr>\n      <th>191329</th>\n      <td>44.10</td>\n      <td>30.00</td>\n      <td>57.37</td>\n      <td>340.00</td>\n      <td>9.00</td>\n      <td>0.00</td>\n      <td>30.09</td>\n      <td>1019.50</td>\n      <td>10.0</td>\n      <td>NaN</td>\n      <td>...</td>\n      <td>NaN</td>\n      <td>NaN</td>\n      <td>NaN</td>\n      <td>NaN</td>\n      <td>NaN</td>\n      <td>38.56</td>\n      <td>KATL 302352Z 34009KT 10SM FEW200 BKN250 07/M01...</td>\n      <td>2017-12-30</td>\n      <td>23:52</td>\n      <td>NaN</td>\n    </tr>\n    <tr>\n      <th>191330</th>\n      <td>NaN</td>\n      <td>NaN</td>\n      <td>NaN</td>\n      <td>330.00</td>\n      <td>8.00</td>\n      <td>NaN</td>\n      <td>30.09</td>\n      <td>NaN</td>\n      <td>10.0</td>\n      <td>NaN</td>\n      <td>...</td>\n      <td>NaN</td>\n      <td>NaN</td>\n      <td>NaN</td>\n      <td>NaN</td>\n      <td>NaN</td>\n      <td>NaN</td>\n      <td>KATL 302355Z AUTO 33008KT 10SM 07/M01 A3009 RM...</td>\n      <td>2017-12-30</td>\n      <td>23:55</td>\n      <td>NaN</td>\n    </tr>\n  </tbody>\n</table>\n<p>191331 rows × 30 columns</p>\n</div>"
     },
     "execution_count": 13,
     "metadata": {},
     "output_type": "execute_result"
    }
   ],
   "source": [
    "atl_weather_df = atl_weather_df.sort_values(by=[\"date\",\"time\"]).reset_index(drop=True)\n",
    "atl_weather_df"
   ],
   "metadata": {
    "collapsed": false,
    "pycharm": {
     "name": "#%%\n"
    },
    "ExecuteTime": {
     "end_time": "2024-03-24T14:54:00.887184Z",
     "start_time": "2024-03-24T14:54:00.192658900Z"
    }
   }
  },
  {
   "cell_type": "code",
   "execution_count": 14,
   "outputs": [
    {
     "data": {
      "text/plain": "         tmpf   dwpf   relh    drct   sknt  p01i   alti     mslp  vsby gust  \\\n0       51.98  42.08  68.86  320.00  10.00  0.00  30.19  1022.50  10.0  NaN   \n1       50.00  41.00  71.07  330.00   7.00  0.00  30.18  1022.20  10.0  NaN   \n2       48.92  41.00  73.99  310.00  12.00  0.00  30.18  1022.00  10.0  NaN   \n3       46.94  39.92  76.43  320.00  13.00  0.00  30.17  1021.90  10.0  NaN   \n4       46.04  39.02  76.35  320.00  10.00  0.00  30.18  1022.00  10.0  NaN   \n...       ...    ...    ...     ...    ...   ...    ...      ...   ...  ...   \n191326    NaN    NaN    NaN  350.00   8.00   NaN  30.08      NaN  10.0  NaN   \n191327    NaN    NaN    NaN  360.00  10.00   NaN  30.08      NaN  10.0  NaN   \n191328    NaN    NaN    NaN  330.00  10.00   NaN  30.09      NaN  10.0  NaN   \n191329  44.10  30.00  57.37  340.00   9.00  0.00  30.09  1019.50  10.0  NaN   \n191330    NaN    NaN    NaN  330.00   8.00   NaN  30.09      NaN  10.0  NaN   \n\n        ... ice_accretion_1hr ice_accretion_3hr ice_accretion_6hr  \\\n0       ...               NaN               NaN               NaN   \n1       ...               NaN               NaN               NaN   \n2       ...               NaN               NaN               NaN   \n3       ...               NaN               NaN               NaN   \n4       ...               NaN               NaN               NaN   \n...     ...               ...               ...               ...   \n191326  ...               NaN               NaN               NaN   \n191327  ...               NaN               NaN               NaN   \n191328  ...               NaN               NaN               NaN   \n191329  ...               NaN               NaN               NaN   \n191330  ...               NaN               NaN               NaN   \n\n       peak_wind_gust peak_wind_drct peak_wind_time   feel        date time  \\\n0                 NaN            NaN            NaN  51.98  2016-01-01   00   \n1                 NaN            NaN            NaN  46.72  2016-01-01   01   \n2                 NaN            NaN            NaN  43.54  2016-01-01   02   \n3                 NaN            NaN            NaN  40.71  2016-01-01   03   \n4                 NaN            NaN            NaN  40.57  2016-01-01   04   \n...               ...            ...            ...    ...         ...  ...   \n191326            NaN            NaN            NaN    NaN  2017-12-30   23   \n191327            NaN            NaN            NaN    NaN  2017-12-30   23   \n191328            NaN            NaN            NaN    NaN  2017-12-30   23   \n191329            NaN            NaN            NaN  38.56  2017-12-30   23   \n191330            NaN            NaN            NaN    NaN  2017-12-30   23   \n\n       events  \n0         NaN  \n1         NaN  \n2         NaN  \n3         NaN  \n4         NaN  \n...       ...  \n191326    NaN  \n191327    NaN  \n191328    NaN  \n191329    NaN  \n191330    NaN  \n\n[191331 rows x 29 columns]",
      "text/html": "<div>\n<style scoped>\n    .dataframe tbody tr th:only-of-type {\n        vertical-align: middle;\n    }\n\n    .dataframe tbody tr th {\n        vertical-align: top;\n    }\n\n    .dataframe thead th {\n        text-align: right;\n    }\n</style>\n<table border=\"1\" class=\"dataframe\">\n  <thead>\n    <tr style=\"text-align: right;\">\n      <th></th>\n      <th>tmpf</th>\n      <th>dwpf</th>\n      <th>relh</th>\n      <th>drct</th>\n      <th>sknt</th>\n      <th>p01i</th>\n      <th>alti</th>\n      <th>mslp</th>\n      <th>vsby</th>\n      <th>gust</th>\n      <th>...</th>\n      <th>ice_accretion_1hr</th>\n      <th>ice_accretion_3hr</th>\n      <th>ice_accretion_6hr</th>\n      <th>peak_wind_gust</th>\n      <th>peak_wind_drct</th>\n      <th>peak_wind_time</th>\n      <th>feel</th>\n      <th>date</th>\n      <th>time</th>\n      <th>events</th>\n    </tr>\n  </thead>\n  <tbody>\n    <tr>\n      <th>0</th>\n      <td>51.98</td>\n      <td>42.08</td>\n      <td>68.86</td>\n      <td>320.00</td>\n      <td>10.00</td>\n      <td>0.00</td>\n      <td>30.19</td>\n      <td>1022.50</td>\n      <td>10.0</td>\n      <td>NaN</td>\n      <td>...</td>\n      <td>NaN</td>\n      <td>NaN</td>\n      <td>NaN</td>\n      <td>NaN</td>\n      <td>NaN</td>\n      <td>NaN</td>\n      <td>51.98</td>\n      <td>2016-01-01</td>\n      <td>00</td>\n      <td>NaN</td>\n    </tr>\n    <tr>\n      <th>1</th>\n      <td>50.00</td>\n      <td>41.00</td>\n      <td>71.07</td>\n      <td>330.00</td>\n      <td>7.00</td>\n      <td>0.00</td>\n      <td>30.18</td>\n      <td>1022.20</td>\n      <td>10.0</td>\n      <td>NaN</td>\n      <td>...</td>\n      <td>NaN</td>\n      <td>NaN</td>\n      <td>NaN</td>\n      <td>NaN</td>\n      <td>NaN</td>\n      <td>NaN</td>\n      <td>46.72</td>\n      <td>2016-01-01</td>\n      <td>01</td>\n      <td>NaN</td>\n    </tr>\n    <tr>\n      <th>2</th>\n      <td>48.92</td>\n      <td>41.00</td>\n      <td>73.99</td>\n      <td>310.00</td>\n      <td>12.00</td>\n      <td>0.00</td>\n      <td>30.18</td>\n      <td>1022.00</td>\n      <td>10.0</td>\n      <td>NaN</td>\n      <td>...</td>\n      <td>NaN</td>\n      <td>NaN</td>\n      <td>NaN</td>\n      <td>NaN</td>\n      <td>NaN</td>\n      <td>NaN</td>\n      <td>43.54</td>\n      <td>2016-01-01</td>\n      <td>02</td>\n      <td>NaN</td>\n    </tr>\n    <tr>\n      <th>3</th>\n      <td>46.94</td>\n      <td>39.92</td>\n      <td>76.43</td>\n      <td>320.00</td>\n      <td>13.00</td>\n      <td>0.00</td>\n      <td>30.17</td>\n      <td>1021.90</td>\n      <td>10.0</td>\n      <td>NaN</td>\n      <td>...</td>\n      <td>NaN</td>\n      <td>NaN</td>\n      <td>NaN</td>\n      <td>NaN</td>\n      <td>NaN</td>\n      <td>NaN</td>\n      <td>40.71</td>\n      <td>2016-01-01</td>\n      <td>03</td>\n      <td>NaN</td>\n    </tr>\n    <tr>\n      <th>4</th>\n      <td>46.04</td>\n      <td>39.02</td>\n      <td>76.35</td>\n      <td>320.00</td>\n      <td>10.00</td>\n      <td>0.00</td>\n      <td>30.18</td>\n      <td>1022.00</td>\n      <td>10.0</td>\n      <td>NaN</td>\n      <td>...</td>\n      <td>NaN</td>\n      <td>NaN</td>\n      <td>NaN</td>\n      <td>NaN</td>\n      <td>NaN</td>\n      <td>NaN</td>\n      <td>40.57</td>\n      <td>2016-01-01</td>\n      <td>04</td>\n      <td>NaN</td>\n    </tr>\n    <tr>\n      <th>...</th>\n      <td>...</td>\n      <td>...</td>\n      <td>...</td>\n      <td>...</td>\n      <td>...</td>\n      <td>...</td>\n      <td>...</td>\n      <td>...</td>\n      <td>...</td>\n      <td>...</td>\n      <td>...</td>\n      <td>...</td>\n      <td>...</td>\n      <td>...</td>\n      <td>...</td>\n      <td>...</td>\n      <td>...</td>\n      <td>...</td>\n      <td>...</td>\n      <td>...</td>\n      <td>...</td>\n    </tr>\n    <tr>\n      <th>191326</th>\n      <td>NaN</td>\n      <td>NaN</td>\n      <td>NaN</td>\n      <td>350.00</td>\n      <td>8.00</td>\n      <td>NaN</td>\n      <td>30.08</td>\n      <td>NaN</td>\n      <td>10.0</td>\n      <td>NaN</td>\n      <td>...</td>\n      <td>NaN</td>\n      <td>NaN</td>\n      <td>NaN</td>\n      <td>NaN</td>\n      <td>NaN</td>\n      <td>NaN</td>\n      <td>NaN</td>\n      <td>2017-12-30</td>\n      <td>23</td>\n      <td>NaN</td>\n    </tr>\n    <tr>\n      <th>191327</th>\n      <td>NaN</td>\n      <td>NaN</td>\n      <td>NaN</td>\n      <td>360.00</td>\n      <td>10.00</td>\n      <td>NaN</td>\n      <td>30.08</td>\n      <td>NaN</td>\n      <td>10.0</td>\n      <td>NaN</td>\n      <td>...</td>\n      <td>NaN</td>\n      <td>NaN</td>\n      <td>NaN</td>\n      <td>NaN</td>\n      <td>NaN</td>\n      <td>NaN</td>\n      <td>NaN</td>\n      <td>2017-12-30</td>\n      <td>23</td>\n      <td>NaN</td>\n    </tr>\n    <tr>\n      <th>191328</th>\n      <td>NaN</td>\n      <td>NaN</td>\n      <td>NaN</td>\n      <td>330.00</td>\n      <td>10.00</td>\n      <td>NaN</td>\n      <td>30.09</td>\n      <td>NaN</td>\n      <td>10.0</td>\n      <td>NaN</td>\n      <td>...</td>\n      <td>NaN</td>\n      <td>NaN</td>\n      <td>NaN</td>\n      <td>NaN</td>\n      <td>NaN</td>\n      <td>NaN</td>\n      <td>NaN</td>\n      <td>2017-12-30</td>\n      <td>23</td>\n      <td>NaN</td>\n    </tr>\n    <tr>\n      <th>191329</th>\n      <td>44.10</td>\n      <td>30.00</td>\n      <td>57.37</td>\n      <td>340.00</td>\n      <td>9.00</td>\n      <td>0.00</td>\n      <td>30.09</td>\n      <td>1019.50</td>\n      <td>10.0</td>\n      <td>NaN</td>\n      <td>...</td>\n      <td>NaN</td>\n      <td>NaN</td>\n      <td>NaN</td>\n      <td>NaN</td>\n      <td>NaN</td>\n      <td>NaN</td>\n      <td>38.56</td>\n      <td>2017-12-30</td>\n      <td>23</td>\n      <td>NaN</td>\n    </tr>\n    <tr>\n      <th>191330</th>\n      <td>NaN</td>\n      <td>NaN</td>\n      <td>NaN</td>\n      <td>330.00</td>\n      <td>8.00</td>\n      <td>NaN</td>\n      <td>30.09</td>\n      <td>NaN</td>\n      <td>10.0</td>\n      <td>NaN</td>\n      <td>...</td>\n      <td>NaN</td>\n      <td>NaN</td>\n      <td>NaN</td>\n      <td>NaN</td>\n      <td>NaN</td>\n      <td>NaN</td>\n      <td>NaN</td>\n      <td>2017-12-30</td>\n      <td>23</td>\n      <td>NaN</td>\n    </tr>\n  </tbody>\n</table>\n<p>191331 rows × 29 columns</p>\n</div>"
     },
     "execution_count": 14,
     "metadata": {},
     "output_type": "execute_result"
    }
   ],
   "source": [
    "atl_weather_df[\"time\"] = atl_weather_df[\"time\"].apply(lambda x: x.split(\":\")[0])\n",
    "atl_weather_df = atl_weather_df.drop([\"metar\"], axis=\"columns\")\n",
    "atl_weather_df"
   ],
   "metadata": {
    "collapsed": false,
    "pycharm": {
     "name": "#%%\n"
    },
    "ExecuteTime": {
     "end_time": "2024-03-24T14:54:01.582184800Z",
     "start_time": "2024-03-24T14:54:00.868184800Z"
    }
   }
  },
  {
   "cell_type": "code",
   "execution_count": 15,
   "outputs": [],
   "source": [
    "def list_to_string(lst):\n",
    "    ret = \"\"\n",
    "    if type(lst) == list:\n",
    "        for cnt,x in enumerate(lst):\n",
    "            ret = ret + str(x)\n",
    "            if cnt != len(lst) - 1:\n",
    "                ret = ret + \" \"\n",
    "        return ret\n",
    "    else:\n",
    "        return lst\n",
    "atl_weather_df[\"events\"] = atl_weather_df[\"events\"].apply(lambda x: list_to_string(x))"
   ],
   "metadata": {
    "collapsed": false,
    "pycharm": {
     "name": "#%%\n"
    },
    "ExecuteTime": {
     "end_time": "2024-03-24T14:54:01.846184700Z",
     "start_time": "2024-03-24T14:54:01.584186100Z"
    }
   }
  },
  {
   "cell_type": "code",
   "execution_count": 16,
   "outputs": [],
   "source": [
    "one_hot = pd.get_dummies(atl_weather_df[\"events\"].str.split(expand=True)).groupby(lambda x: x.split('_')[-1], axis = 1).sum()"
   ],
   "metadata": {
    "collapsed": false,
    "pycharm": {
     "name": "#%%\n"
    },
    "ExecuteTime": {
     "end_time": "2024-03-24T14:54:04.428184600Z",
     "start_time": "2024-03-24T14:54:01.847186Z"
    }
   }
  },
  {
   "cell_type": "code",
   "execution_count": 17,
   "outputs": [
    {
     "data": {
      "text/plain": "181       -RA\n182       -RA\n183       -RA\n184       -RA\n185       -RA\n         ... \n191206     FU\n191207     FU\n191208     FU\n191209     FU\n191210     FU\nName: events, Length: 27140, dtype: object"
     },
     "execution_count": 17,
     "metadata": {},
     "output_type": "execute_result"
    }
   ],
   "source": [
    "idx = atl_weather_df[~pd.isna(atl_weather_df[\"events\"])][\"events\"].index\n",
    "atl_weather_df[~pd.isna(atl_weather_df[\"events\"])][\"events\"]"
   ],
   "metadata": {
    "collapsed": false,
    "pycharm": {
     "name": "#%%\n"
    },
    "ExecuteTime": {
     "end_time": "2024-03-24T14:54:04.721181500Z",
     "start_time": "2024-03-24T14:54:04.427184300Z"
    }
   }
  },
  {
   "cell_type": "code",
   "execution_count": 18,
   "outputs": [
    {
     "data": {
      "text/plain": "        +RA  +TS  -BR  -DZ  -RA  -SG  -SN  -TS  BR  DZ  FG  FU  GR  GS  HZ  \\\n181       0    0    0    0    1    0    0    0   0   0   0   0   0   0   0   \n182       0    0    0    0    1    0    0    0   0   0   0   0   0   0   0   \n183       0    0    0    0    1    0    0    0   0   0   0   0   0   0   0   \n184       0    0    0    0    1    0    0    0   0   0   0   0   0   0   0   \n185       0    0    0    0    1    0    0    0   0   0   0   0   0   0   0   \n...     ...  ...  ...  ...  ...  ...  ...  ...  ..  ..  ..  ..  ..  ..  ..   \n191206    0    0    0    0    0    0    0    0   0   0   0   1   0   0   0   \n191207    0    0    0    0    0    0    0    0   0   0   0   1   0   0   0   \n191208    0    0    0    0    0    0    0    0   0   0   0   1   0   0   0   \n191209    0    0    0    0    0    0    0    0   0   0   0   1   0   0   0   \n191210    0    0    0    0    0    0    0    0   0   0   0   1   0   0   0   \n\n        IC  RA  SN  TS  \n181      0   0   0   0  \n182      0   0   0   0  \n183      0   0   0   0  \n184      0   0   0   0  \n185      0   0   0   0  \n...     ..  ..  ..  ..  \n191206   0   0   0   0  \n191207   0   0   0   0  \n191208   0   0   0   0  \n191209   0   0   0   0  \n191210   0   0   0   0  \n\n[27140 rows x 19 columns]",
      "text/html": "<div>\n<style scoped>\n    .dataframe tbody tr th:only-of-type {\n        vertical-align: middle;\n    }\n\n    .dataframe tbody tr th {\n        vertical-align: top;\n    }\n\n    .dataframe thead th {\n        text-align: right;\n    }\n</style>\n<table border=\"1\" class=\"dataframe\">\n  <thead>\n    <tr style=\"text-align: right;\">\n      <th></th>\n      <th>+RA</th>\n      <th>+TS</th>\n      <th>-BR</th>\n      <th>-DZ</th>\n      <th>-RA</th>\n      <th>-SG</th>\n      <th>-SN</th>\n      <th>-TS</th>\n      <th>BR</th>\n      <th>DZ</th>\n      <th>FG</th>\n      <th>FU</th>\n      <th>GR</th>\n      <th>GS</th>\n      <th>HZ</th>\n      <th>IC</th>\n      <th>RA</th>\n      <th>SN</th>\n      <th>TS</th>\n    </tr>\n  </thead>\n  <tbody>\n    <tr>\n      <th>181</th>\n      <td>0</td>\n      <td>0</td>\n      <td>0</td>\n      <td>0</td>\n      <td>1</td>\n      <td>0</td>\n      <td>0</td>\n      <td>0</td>\n      <td>0</td>\n      <td>0</td>\n      <td>0</td>\n      <td>0</td>\n      <td>0</td>\n      <td>0</td>\n      <td>0</td>\n      <td>0</td>\n      <td>0</td>\n      <td>0</td>\n      <td>0</td>\n    </tr>\n    <tr>\n      <th>182</th>\n      <td>0</td>\n      <td>0</td>\n      <td>0</td>\n      <td>0</td>\n      <td>1</td>\n      <td>0</td>\n      <td>0</td>\n      <td>0</td>\n      <td>0</td>\n      <td>0</td>\n      <td>0</td>\n      <td>0</td>\n      <td>0</td>\n      <td>0</td>\n      <td>0</td>\n      <td>0</td>\n      <td>0</td>\n      <td>0</td>\n      <td>0</td>\n    </tr>\n    <tr>\n      <th>183</th>\n      <td>0</td>\n      <td>0</td>\n      <td>0</td>\n      <td>0</td>\n      <td>1</td>\n      <td>0</td>\n      <td>0</td>\n      <td>0</td>\n      <td>0</td>\n      <td>0</td>\n      <td>0</td>\n      <td>0</td>\n      <td>0</td>\n      <td>0</td>\n      <td>0</td>\n      <td>0</td>\n      <td>0</td>\n      <td>0</td>\n      <td>0</td>\n    </tr>\n    <tr>\n      <th>184</th>\n      <td>0</td>\n      <td>0</td>\n      <td>0</td>\n      <td>0</td>\n      <td>1</td>\n      <td>0</td>\n      <td>0</td>\n      <td>0</td>\n      <td>0</td>\n      <td>0</td>\n      <td>0</td>\n      <td>0</td>\n      <td>0</td>\n      <td>0</td>\n      <td>0</td>\n      <td>0</td>\n      <td>0</td>\n      <td>0</td>\n      <td>0</td>\n    </tr>\n    <tr>\n      <th>185</th>\n      <td>0</td>\n      <td>0</td>\n      <td>0</td>\n      <td>0</td>\n      <td>1</td>\n      <td>0</td>\n      <td>0</td>\n      <td>0</td>\n      <td>0</td>\n      <td>0</td>\n      <td>0</td>\n      <td>0</td>\n      <td>0</td>\n      <td>0</td>\n      <td>0</td>\n      <td>0</td>\n      <td>0</td>\n      <td>0</td>\n      <td>0</td>\n    </tr>\n    <tr>\n      <th>...</th>\n      <td>...</td>\n      <td>...</td>\n      <td>...</td>\n      <td>...</td>\n      <td>...</td>\n      <td>...</td>\n      <td>...</td>\n      <td>...</td>\n      <td>...</td>\n      <td>...</td>\n      <td>...</td>\n      <td>...</td>\n      <td>...</td>\n      <td>...</td>\n      <td>...</td>\n      <td>...</td>\n      <td>...</td>\n      <td>...</td>\n      <td>...</td>\n    </tr>\n    <tr>\n      <th>191206</th>\n      <td>0</td>\n      <td>0</td>\n      <td>0</td>\n      <td>0</td>\n      <td>0</td>\n      <td>0</td>\n      <td>0</td>\n      <td>0</td>\n      <td>0</td>\n      <td>0</td>\n      <td>0</td>\n      <td>1</td>\n      <td>0</td>\n      <td>0</td>\n      <td>0</td>\n      <td>0</td>\n      <td>0</td>\n      <td>0</td>\n      <td>0</td>\n    </tr>\n    <tr>\n      <th>191207</th>\n      <td>0</td>\n      <td>0</td>\n      <td>0</td>\n      <td>0</td>\n      <td>0</td>\n      <td>0</td>\n      <td>0</td>\n      <td>0</td>\n      <td>0</td>\n      <td>0</td>\n      <td>0</td>\n      <td>1</td>\n      <td>0</td>\n      <td>0</td>\n      <td>0</td>\n      <td>0</td>\n      <td>0</td>\n      <td>0</td>\n      <td>0</td>\n    </tr>\n    <tr>\n      <th>191208</th>\n      <td>0</td>\n      <td>0</td>\n      <td>0</td>\n      <td>0</td>\n      <td>0</td>\n      <td>0</td>\n      <td>0</td>\n      <td>0</td>\n      <td>0</td>\n      <td>0</td>\n      <td>0</td>\n      <td>1</td>\n      <td>0</td>\n      <td>0</td>\n      <td>0</td>\n      <td>0</td>\n      <td>0</td>\n      <td>0</td>\n      <td>0</td>\n    </tr>\n    <tr>\n      <th>191209</th>\n      <td>0</td>\n      <td>0</td>\n      <td>0</td>\n      <td>0</td>\n      <td>0</td>\n      <td>0</td>\n      <td>0</td>\n      <td>0</td>\n      <td>0</td>\n      <td>0</td>\n      <td>0</td>\n      <td>1</td>\n      <td>0</td>\n      <td>0</td>\n      <td>0</td>\n      <td>0</td>\n      <td>0</td>\n      <td>0</td>\n      <td>0</td>\n    </tr>\n    <tr>\n      <th>191210</th>\n      <td>0</td>\n      <td>0</td>\n      <td>0</td>\n      <td>0</td>\n      <td>0</td>\n      <td>0</td>\n      <td>0</td>\n      <td>0</td>\n      <td>0</td>\n      <td>0</td>\n      <td>0</td>\n      <td>1</td>\n      <td>0</td>\n      <td>0</td>\n      <td>0</td>\n      <td>0</td>\n      <td>0</td>\n      <td>0</td>\n      <td>0</td>\n    </tr>\n  </tbody>\n</table>\n<p>27140 rows × 19 columns</p>\n</div>"
     },
     "execution_count": 18,
     "metadata": {},
     "output_type": "execute_result"
    }
   ],
   "source": [
    "one_hot.loc[idx]"
   ],
   "metadata": {
    "collapsed": false,
    "pycharm": {
     "name": "#%%\n"
    },
    "ExecuteTime": {
     "end_time": "2024-03-24T14:54:04.754185900Z",
     "start_time": "2024-03-24T14:54:04.650185700Z"
    }
   }
  },
  {
   "cell_type": "code",
   "execution_count": 19,
   "outputs": [
    {
     "data": {
      "text/plain": "        +RA  +TS  -BR  -DZ  -RA  -SG  -SN  -TS  BR  DZ  FG  FU  GR  GS  HZ  \\\n181       0    0    0    0    1    0    0    0   0   0   0   0   0   0   0   \n182       0    0    0    0    1    0    0    0   0   0   0   0   0   0   0   \n183       0    0    0    0    1    0    0    0   0   0   0   0   0   0   0   \n184       0    0    0    0    1    0    0    0   0   0   0   0   0   0   0   \n185       0    0    0    0    1    0    0    0   0   0   0   0   0   0   0   \n...     ...  ...  ...  ...  ...  ...  ...  ...  ..  ..  ..  ..  ..  ..  ..   \n191206    0    0    0    0    0    0    0    0   0   0   0   2   0   0   0   \n191207    0    0    0    0    0    0    0    0   0   0   0   2   0   0   0   \n191208    0    0    0    0    0    0    0    0   0   0   0   2   0   0   0   \n191209    0    0    0    0    0    0    0    0   0   0   0   2   0   0   0   \n191210    0    0    0    0    0    0    0    0   0   0   0   2   0   0   0   \n\n        IC  RA  SN  TS  \n181      0   0   0   0  \n182      0   0   0   0  \n183      0   0   0   0  \n184      0   0   0   0  \n185      0   0   0   0  \n...     ..  ..  ..  ..  \n191206   0   0   0   0  \n191207   0   0   0   0  \n191208   0   0   0   0  \n191209   0   0   0   0  \n191210   0   0   0   0  \n\n[27140 rows x 19 columns]",
      "text/html": "<div>\n<style scoped>\n    .dataframe tbody tr th:only-of-type {\n        vertical-align: middle;\n    }\n\n    .dataframe tbody tr th {\n        vertical-align: top;\n    }\n\n    .dataframe thead th {\n        text-align: right;\n    }\n</style>\n<table border=\"1\" class=\"dataframe\">\n  <thead>\n    <tr style=\"text-align: right;\">\n      <th></th>\n      <th>+RA</th>\n      <th>+TS</th>\n      <th>-BR</th>\n      <th>-DZ</th>\n      <th>-RA</th>\n      <th>-SG</th>\n      <th>-SN</th>\n      <th>-TS</th>\n      <th>BR</th>\n      <th>DZ</th>\n      <th>FG</th>\n      <th>FU</th>\n      <th>GR</th>\n      <th>GS</th>\n      <th>HZ</th>\n      <th>IC</th>\n      <th>RA</th>\n      <th>SN</th>\n      <th>TS</th>\n    </tr>\n  </thead>\n  <tbody>\n    <tr>\n      <th>181</th>\n      <td>0</td>\n      <td>0</td>\n      <td>0</td>\n      <td>0</td>\n      <td>1</td>\n      <td>0</td>\n      <td>0</td>\n      <td>0</td>\n      <td>0</td>\n      <td>0</td>\n      <td>0</td>\n      <td>0</td>\n      <td>0</td>\n      <td>0</td>\n      <td>0</td>\n      <td>0</td>\n      <td>0</td>\n      <td>0</td>\n      <td>0</td>\n    </tr>\n    <tr>\n      <th>182</th>\n      <td>0</td>\n      <td>0</td>\n      <td>0</td>\n      <td>0</td>\n      <td>1</td>\n      <td>0</td>\n      <td>0</td>\n      <td>0</td>\n      <td>0</td>\n      <td>0</td>\n      <td>0</td>\n      <td>0</td>\n      <td>0</td>\n      <td>0</td>\n      <td>0</td>\n      <td>0</td>\n      <td>0</td>\n      <td>0</td>\n      <td>0</td>\n    </tr>\n    <tr>\n      <th>183</th>\n      <td>0</td>\n      <td>0</td>\n      <td>0</td>\n      <td>0</td>\n      <td>1</td>\n      <td>0</td>\n      <td>0</td>\n      <td>0</td>\n      <td>0</td>\n      <td>0</td>\n      <td>0</td>\n      <td>0</td>\n      <td>0</td>\n      <td>0</td>\n      <td>0</td>\n      <td>0</td>\n      <td>0</td>\n      <td>0</td>\n      <td>0</td>\n    </tr>\n    <tr>\n      <th>184</th>\n      <td>0</td>\n      <td>0</td>\n      <td>0</td>\n      <td>0</td>\n      <td>1</td>\n      <td>0</td>\n      <td>0</td>\n      <td>0</td>\n      <td>0</td>\n      <td>0</td>\n      <td>0</td>\n      <td>0</td>\n      <td>0</td>\n      <td>0</td>\n      <td>0</td>\n      <td>0</td>\n      <td>0</td>\n      <td>0</td>\n      <td>0</td>\n    </tr>\n    <tr>\n      <th>185</th>\n      <td>0</td>\n      <td>0</td>\n      <td>0</td>\n      <td>0</td>\n      <td>1</td>\n      <td>0</td>\n      <td>0</td>\n      <td>0</td>\n      <td>0</td>\n      <td>0</td>\n      <td>0</td>\n      <td>0</td>\n      <td>0</td>\n      <td>0</td>\n      <td>0</td>\n      <td>0</td>\n      <td>0</td>\n      <td>0</td>\n      <td>0</td>\n    </tr>\n    <tr>\n      <th>...</th>\n      <td>...</td>\n      <td>...</td>\n      <td>...</td>\n      <td>...</td>\n      <td>...</td>\n      <td>...</td>\n      <td>...</td>\n      <td>...</td>\n      <td>...</td>\n      <td>...</td>\n      <td>...</td>\n      <td>...</td>\n      <td>...</td>\n      <td>...</td>\n      <td>...</td>\n      <td>...</td>\n      <td>...</td>\n      <td>...</td>\n      <td>...</td>\n    </tr>\n    <tr>\n      <th>191206</th>\n      <td>0</td>\n      <td>0</td>\n      <td>0</td>\n      <td>0</td>\n      <td>0</td>\n      <td>0</td>\n      <td>0</td>\n      <td>0</td>\n      <td>0</td>\n      <td>0</td>\n      <td>0</td>\n      <td>2</td>\n      <td>0</td>\n      <td>0</td>\n      <td>0</td>\n      <td>0</td>\n      <td>0</td>\n      <td>0</td>\n      <td>0</td>\n    </tr>\n    <tr>\n      <th>191207</th>\n      <td>0</td>\n      <td>0</td>\n      <td>0</td>\n      <td>0</td>\n      <td>0</td>\n      <td>0</td>\n      <td>0</td>\n      <td>0</td>\n      <td>0</td>\n      <td>0</td>\n      <td>0</td>\n      <td>2</td>\n      <td>0</td>\n      <td>0</td>\n      <td>0</td>\n      <td>0</td>\n      <td>0</td>\n      <td>0</td>\n      <td>0</td>\n    </tr>\n    <tr>\n      <th>191208</th>\n      <td>0</td>\n      <td>0</td>\n      <td>0</td>\n      <td>0</td>\n      <td>0</td>\n      <td>0</td>\n      <td>0</td>\n      <td>0</td>\n      <td>0</td>\n      <td>0</td>\n      <td>0</td>\n      <td>2</td>\n      <td>0</td>\n      <td>0</td>\n      <td>0</td>\n      <td>0</td>\n      <td>0</td>\n      <td>0</td>\n      <td>0</td>\n    </tr>\n    <tr>\n      <th>191209</th>\n      <td>0</td>\n      <td>0</td>\n      <td>0</td>\n      <td>0</td>\n      <td>0</td>\n      <td>0</td>\n      <td>0</td>\n      <td>0</td>\n      <td>0</td>\n      <td>0</td>\n      <td>0</td>\n      <td>2</td>\n      <td>0</td>\n      <td>0</td>\n      <td>0</td>\n      <td>0</td>\n      <td>0</td>\n      <td>0</td>\n      <td>0</td>\n    </tr>\n    <tr>\n      <th>191210</th>\n      <td>0</td>\n      <td>0</td>\n      <td>0</td>\n      <td>0</td>\n      <td>0</td>\n      <td>0</td>\n      <td>0</td>\n      <td>0</td>\n      <td>0</td>\n      <td>0</td>\n      <td>0</td>\n      <td>2</td>\n      <td>0</td>\n      <td>0</td>\n      <td>0</td>\n      <td>0</td>\n      <td>0</td>\n      <td>0</td>\n      <td>0</td>\n    </tr>\n  </tbody>\n</table>\n<p>27140 rows × 19 columns</p>\n</div>"
     },
     "execution_count": 19,
     "metadata": {},
     "output_type": "execute_result"
    }
   ],
   "source": [
    "for col in one_hot.columns:\n",
    "    if col[0] == \"+\":\n",
    "        one_hot[col] = one_hot[col].apply(lambda x: x*3)\n",
    "    elif col[0] == \"-\":\n",
    "        pass\n",
    "    else:\n",
    "        one_hot[col] = one_hot[col].apply(lambda x: x*2)\n",
    "one_hot.loc[idx]"
   ],
   "metadata": {
    "collapsed": false,
    "pycharm": {
     "name": "#%%\n"
    },
    "ExecuteTime": {
     "end_time": "2024-03-24T14:54:08.296753700Z",
     "start_time": "2024-03-24T14:54:04.700185Z"
    }
   }
  },
  {
   "cell_type": "code",
   "execution_count": 20,
   "outputs": [
    {
     "data": {
      "text/plain": "        EVENT_BR  EVENT_DZ  EVENT_FG  EVENT_FU  EVENT_GR  EVENT_GS  EVENT_HZ  \\\n181            0         0         0         0         0         0         0   \n182            0         0         0         0         0         0         0   \n183            0         0         0         0         0         0         0   \n184            0         0         0         0         0         0         0   \n185            0         0         0         0         0         0         0   \n...          ...       ...       ...       ...       ...       ...       ...   \n191206         0         0         0         2         0         0         0   \n191207         0         0         0         2         0         0         0   \n191208         0         0         0         2         0         0         0   \n191209         0         0         0         2         0         0         0   \n191210         0         0         0         2         0         0         0   \n\n        EVENT_IC  EVENT_RA  EVENT_SG  EVENT_SN  EVENT_TS  \n181            0         1         0         0         0  \n182            0         1         0         0         0  \n183            0         1         0         0         0  \n184            0         1         0         0         0  \n185            0         1         0         0         0  \n...          ...       ...       ...       ...       ...  \n191206         0         0         0         0         0  \n191207         0         0         0         0         0  \n191208         0         0         0         0         0  \n191209         0         0         0         0         0  \n191210         0         0         0         0         0  \n\n[27140 rows x 12 columns]",
      "text/html": "<div>\n<style scoped>\n    .dataframe tbody tr th:only-of-type {\n        vertical-align: middle;\n    }\n\n    .dataframe tbody tr th {\n        vertical-align: top;\n    }\n\n    .dataframe thead th {\n        text-align: right;\n    }\n</style>\n<table border=\"1\" class=\"dataframe\">\n  <thead>\n    <tr style=\"text-align: right;\">\n      <th></th>\n      <th>EVENT_BR</th>\n      <th>EVENT_DZ</th>\n      <th>EVENT_FG</th>\n      <th>EVENT_FU</th>\n      <th>EVENT_GR</th>\n      <th>EVENT_GS</th>\n      <th>EVENT_HZ</th>\n      <th>EVENT_IC</th>\n      <th>EVENT_RA</th>\n      <th>EVENT_SG</th>\n      <th>EVENT_SN</th>\n      <th>EVENT_TS</th>\n    </tr>\n  </thead>\n  <tbody>\n    <tr>\n      <th>181</th>\n      <td>0</td>\n      <td>0</td>\n      <td>0</td>\n      <td>0</td>\n      <td>0</td>\n      <td>0</td>\n      <td>0</td>\n      <td>0</td>\n      <td>1</td>\n      <td>0</td>\n      <td>0</td>\n      <td>0</td>\n    </tr>\n    <tr>\n      <th>182</th>\n      <td>0</td>\n      <td>0</td>\n      <td>0</td>\n      <td>0</td>\n      <td>0</td>\n      <td>0</td>\n      <td>0</td>\n      <td>0</td>\n      <td>1</td>\n      <td>0</td>\n      <td>0</td>\n      <td>0</td>\n    </tr>\n    <tr>\n      <th>183</th>\n      <td>0</td>\n      <td>0</td>\n      <td>0</td>\n      <td>0</td>\n      <td>0</td>\n      <td>0</td>\n      <td>0</td>\n      <td>0</td>\n      <td>1</td>\n      <td>0</td>\n      <td>0</td>\n      <td>0</td>\n    </tr>\n    <tr>\n      <th>184</th>\n      <td>0</td>\n      <td>0</td>\n      <td>0</td>\n      <td>0</td>\n      <td>0</td>\n      <td>0</td>\n      <td>0</td>\n      <td>0</td>\n      <td>1</td>\n      <td>0</td>\n      <td>0</td>\n      <td>0</td>\n    </tr>\n    <tr>\n      <th>185</th>\n      <td>0</td>\n      <td>0</td>\n      <td>0</td>\n      <td>0</td>\n      <td>0</td>\n      <td>0</td>\n      <td>0</td>\n      <td>0</td>\n      <td>1</td>\n      <td>0</td>\n      <td>0</td>\n      <td>0</td>\n    </tr>\n    <tr>\n      <th>...</th>\n      <td>...</td>\n      <td>...</td>\n      <td>...</td>\n      <td>...</td>\n      <td>...</td>\n      <td>...</td>\n      <td>...</td>\n      <td>...</td>\n      <td>...</td>\n      <td>...</td>\n      <td>...</td>\n      <td>...</td>\n    </tr>\n    <tr>\n      <th>191206</th>\n      <td>0</td>\n      <td>0</td>\n      <td>0</td>\n      <td>2</td>\n      <td>0</td>\n      <td>0</td>\n      <td>0</td>\n      <td>0</td>\n      <td>0</td>\n      <td>0</td>\n      <td>0</td>\n      <td>0</td>\n    </tr>\n    <tr>\n      <th>191207</th>\n      <td>0</td>\n      <td>0</td>\n      <td>0</td>\n      <td>2</td>\n      <td>0</td>\n      <td>0</td>\n      <td>0</td>\n      <td>0</td>\n      <td>0</td>\n      <td>0</td>\n      <td>0</td>\n      <td>0</td>\n    </tr>\n    <tr>\n      <th>191208</th>\n      <td>0</td>\n      <td>0</td>\n      <td>0</td>\n      <td>2</td>\n      <td>0</td>\n      <td>0</td>\n      <td>0</td>\n      <td>0</td>\n      <td>0</td>\n      <td>0</td>\n      <td>0</td>\n      <td>0</td>\n    </tr>\n    <tr>\n      <th>191209</th>\n      <td>0</td>\n      <td>0</td>\n      <td>0</td>\n      <td>2</td>\n      <td>0</td>\n      <td>0</td>\n      <td>0</td>\n      <td>0</td>\n      <td>0</td>\n      <td>0</td>\n      <td>0</td>\n      <td>0</td>\n    </tr>\n    <tr>\n      <th>191210</th>\n      <td>0</td>\n      <td>0</td>\n      <td>0</td>\n      <td>2</td>\n      <td>0</td>\n      <td>0</td>\n      <td>0</td>\n      <td>0</td>\n      <td>0</td>\n      <td>0</td>\n      <td>0</td>\n      <td>0</td>\n    </tr>\n  </tbody>\n</table>\n<p>27140 rows × 12 columns</p>\n</div>"
     },
     "execution_count": 20,
     "metadata": {},
     "output_type": "execute_result"
    }
   ],
   "source": [
    "one_hot = one_hot.groupby(lambda x: re.sub(\"[^a-zA-Z]+\",\"\",x), axis=1).sum()\n",
    "one_hot = one_hot.add_prefix('EVENT_')\n",
    "one_hot.loc[idx]"
   ],
   "metadata": {
    "collapsed": false,
    "pycharm": {
     "name": "#%%\n"
    },
    "ExecuteTime": {
     "end_time": "2024-03-24T14:54:08.669753100Z",
     "start_time": "2024-03-24T14:54:08.113753700Z"
    }
   }
  },
  {
   "cell_type": "code",
   "execution_count": 21,
   "outputs": [
    {
     "data": {
      "text/plain": "         tmpf   dwpf   relh    drct   sknt  p01i   alti     mslp  vsby gust  \\\n0       51.98  42.08  68.86  320.00  10.00  0.00  30.19  1022.50  10.0  NaN   \n1       50.00  41.00  71.07  330.00   7.00  0.00  30.18  1022.20  10.0  NaN   \n2       48.92  41.00  73.99  310.00  12.00  0.00  30.18  1022.00  10.0  NaN   \n3       46.94  39.92  76.43  320.00  13.00  0.00  30.17  1021.90  10.0  NaN   \n4       46.04  39.02  76.35  320.00  10.00  0.00  30.18  1022.00  10.0  NaN   \n...       ...    ...    ...     ...    ...   ...    ...      ...   ...  ...   \n191326    NaN    NaN    NaN  350.00   8.00   NaN  30.08      NaN  10.0  NaN   \n191327    NaN    NaN    NaN  360.00  10.00   NaN  30.08      NaN  10.0  NaN   \n191328    NaN    NaN    NaN  330.00  10.00   NaN  30.09      NaN  10.0  NaN   \n191329  44.10  30.00  57.37  340.00   9.00  0.00  30.09  1019.50  10.0  NaN   \n191330    NaN    NaN    NaN  330.00   8.00   NaN  30.09      NaN  10.0  NaN   \n\n        ... EVENT_FG EVENT_FU EVENT_GR EVENT_GS EVENT_HZ EVENT_IC EVENT_RA  \\\n0       ...        0        0        0        0        0        0        0   \n1       ...        0        0        0        0        0        0        0   \n2       ...        0        0        0        0        0        0        0   \n3       ...        0        0        0        0        0        0        0   \n4       ...        0        0        0        0        0        0        0   \n...     ...      ...      ...      ...      ...      ...      ...      ...   \n191326  ...        0        0        0        0        0        0        0   \n191327  ...        0        0        0        0        0        0        0   \n191328  ...        0        0        0        0        0        0        0   \n191329  ...        0        0        0        0        0        0        0   \n191330  ...        0        0        0        0        0        0        0   \n\n       EVENT_SG EVENT_SN EVENT_TS  \n0             0        0        0  \n1             0        0        0  \n2             0        0        0  \n3             0        0        0  \n4             0        0        0  \n...         ...      ...      ...  \n191326        0        0        0  \n191327        0        0        0  \n191328        0        0        0  \n191329        0        0        0  \n191330        0        0        0  \n\n[191331 rows x 41 columns]",
      "text/html": "<div>\n<style scoped>\n    .dataframe tbody tr th:only-of-type {\n        vertical-align: middle;\n    }\n\n    .dataframe tbody tr th {\n        vertical-align: top;\n    }\n\n    .dataframe thead th {\n        text-align: right;\n    }\n</style>\n<table border=\"1\" class=\"dataframe\">\n  <thead>\n    <tr style=\"text-align: right;\">\n      <th></th>\n      <th>tmpf</th>\n      <th>dwpf</th>\n      <th>relh</th>\n      <th>drct</th>\n      <th>sknt</th>\n      <th>p01i</th>\n      <th>alti</th>\n      <th>mslp</th>\n      <th>vsby</th>\n      <th>gust</th>\n      <th>...</th>\n      <th>EVENT_FG</th>\n      <th>EVENT_FU</th>\n      <th>EVENT_GR</th>\n      <th>EVENT_GS</th>\n      <th>EVENT_HZ</th>\n      <th>EVENT_IC</th>\n      <th>EVENT_RA</th>\n      <th>EVENT_SG</th>\n      <th>EVENT_SN</th>\n      <th>EVENT_TS</th>\n    </tr>\n  </thead>\n  <tbody>\n    <tr>\n      <th>0</th>\n      <td>51.98</td>\n      <td>42.08</td>\n      <td>68.86</td>\n      <td>320.00</td>\n      <td>10.00</td>\n      <td>0.00</td>\n      <td>30.19</td>\n      <td>1022.50</td>\n      <td>10.0</td>\n      <td>NaN</td>\n      <td>...</td>\n      <td>0</td>\n      <td>0</td>\n      <td>0</td>\n      <td>0</td>\n      <td>0</td>\n      <td>0</td>\n      <td>0</td>\n      <td>0</td>\n      <td>0</td>\n      <td>0</td>\n    </tr>\n    <tr>\n      <th>1</th>\n      <td>50.00</td>\n      <td>41.00</td>\n      <td>71.07</td>\n      <td>330.00</td>\n      <td>7.00</td>\n      <td>0.00</td>\n      <td>30.18</td>\n      <td>1022.20</td>\n      <td>10.0</td>\n      <td>NaN</td>\n      <td>...</td>\n      <td>0</td>\n      <td>0</td>\n      <td>0</td>\n      <td>0</td>\n      <td>0</td>\n      <td>0</td>\n      <td>0</td>\n      <td>0</td>\n      <td>0</td>\n      <td>0</td>\n    </tr>\n    <tr>\n      <th>2</th>\n      <td>48.92</td>\n      <td>41.00</td>\n      <td>73.99</td>\n      <td>310.00</td>\n      <td>12.00</td>\n      <td>0.00</td>\n      <td>30.18</td>\n      <td>1022.00</td>\n      <td>10.0</td>\n      <td>NaN</td>\n      <td>...</td>\n      <td>0</td>\n      <td>0</td>\n      <td>0</td>\n      <td>0</td>\n      <td>0</td>\n      <td>0</td>\n      <td>0</td>\n      <td>0</td>\n      <td>0</td>\n      <td>0</td>\n    </tr>\n    <tr>\n      <th>3</th>\n      <td>46.94</td>\n      <td>39.92</td>\n      <td>76.43</td>\n      <td>320.00</td>\n      <td>13.00</td>\n      <td>0.00</td>\n      <td>30.17</td>\n      <td>1021.90</td>\n      <td>10.0</td>\n      <td>NaN</td>\n      <td>...</td>\n      <td>0</td>\n      <td>0</td>\n      <td>0</td>\n      <td>0</td>\n      <td>0</td>\n      <td>0</td>\n      <td>0</td>\n      <td>0</td>\n      <td>0</td>\n      <td>0</td>\n    </tr>\n    <tr>\n      <th>4</th>\n      <td>46.04</td>\n      <td>39.02</td>\n      <td>76.35</td>\n      <td>320.00</td>\n      <td>10.00</td>\n      <td>0.00</td>\n      <td>30.18</td>\n      <td>1022.00</td>\n      <td>10.0</td>\n      <td>NaN</td>\n      <td>...</td>\n      <td>0</td>\n      <td>0</td>\n      <td>0</td>\n      <td>0</td>\n      <td>0</td>\n      <td>0</td>\n      <td>0</td>\n      <td>0</td>\n      <td>0</td>\n      <td>0</td>\n    </tr>\n    <tr>\n      <th>...</th>\n      <td>...</td>\n      <td>...</td>\n      <td>...</td>\n      <td>...</td>\n      <td>...</td>\n      <td>...</td>\n      <td>...</td>\n      <td>...</td>\n      <td>...</td>\n      <td>...</td>\n      <td>...</td>\n      <td>...</td>\n      <td>...</td>\n      <td>...</td>\n      <td>...</td>\n      <td>...</td>\n      <td>...</td>\n      <td>...</td>\n      <td>...</td>\n      <td>...</td>\n      <td>...</td>\n    </tr>\n    <tr>\n      <th>191326</th>\n      <td>NaN</td>\n      <td>NaN</td>\n      <td>NaN</td>\n      <td>350.00</td>\n      <td>8.00</td>\n      <td>NaN</td>\n      <td>30.08</td>\n      <td>NaN</td>\n      <td>10.0</td>\n      <td>NaN</td>\n      <td>...</td>\n      <td>0</td>\n      <td>0</td>\n      <td>0</td>\n      <td>0</td>\n      <td>0</td>\n      <td>0</td>\n      <td>0</td>\n      <td>0</td>\n      <td>0</td>\n      <td>0</td>\n    </tr>\n    <tr>\n      <th>191327</th>\n      <td>NaN</td>\n      <td>NaN</td>\n      <td>NaN</td>\n      <td>360.00</td>\n      <td>10.00</td>\n      <td>NaN</td>\n      <td>30.08</td>\n      <td>NaN</td>\n      <td>10.0</td>\n      <td>NaN</td>\n      <td>...</td>\n      <td>0</td>\n      <td>0</td>\n      <td>0</td>\n      <td>0</td>\n      <td>0</td>\n      <td>0</td>\n      <td>0</td>\n      <td>0</td>\n      <td>0</td>\n      <td>0</td>\n    </tr>\n    <tr>\n      <th>191328</th>\n      <td>NaN</td>\n      <td>NaN</td>\n      <td>NaN</td>\n      <td>330.00</td>\n      <td>10.00</td>\n      <td>NaN</td>\n      <td>30.09</td>\n      <td>NaN</td>\n      <td>10.0</td>\n      <td>NaN</td>\n      <td>...</td>\n      <td>0</td>\n      <td>0</td>\n      <td>0</td>\n      <td>0</td>\n      <td>0</td>\n      <td>0</td>\n      <td>0</td>\n      <td>0</td>\n      <td>0</td>\n      <td>0</td>\n    </tr>\n    <tr>\n      <th>191329</th>\n      <td>44.10</td>\n      <td>30.00</td>\n      <td>57.37</td>\n      <td>340.00</td>\n      <td>9.00</td>\n      <td>0.00</td>\n      <td>30.09</td>\n      <td>1019.50</td>\n      <td>10.0</td>\n      <td>NaN</td>\n      <td>...</td>\n      <td>0</td>\n      <td>0</td>\n      <td>0</td>\n      <td>0</td>\n      <td>0</td>\n      <td>0</td>\n      <td>0</td>\n      <td>0</td>\n      <td>0</td>\n      <td>0</td>\n    </tr>\n    <tr>\n      <th>191330</th>\n      <td>NaN</td>\n      <td>NaN</td>\n      <td>NaN</td>\n      <td>330.00</td>\n      <td>8.00</td>\n      <td>NaN</td>\n      <td>30.09</td>\n      <td>NaN</td>\n      <td>10.0</td>\n      <td>NaN</td>\n      <td>...</td>\n      <td>0</td>\n      <td>0</td>\n      <td>0</td>\n      <td>0</td>\n      <td>0</td>\n      <td>0</td>\n      <td>0</td>\n      <td>0</td>\n      <td>0</td>\n      <td>0</td>\n    </tr>\n  </tbody>\n</table>\n<p>191331 rows × 41 columns</p>\n</div>"
     },
     "execution_count": 21,
     "metadata": {},
     "output_type": "execute_result"
    }
   ],
   "source": [
    "atl_weather_df = atl_weather_df.join(one_hot)\n",
    "atl_weather_df"
   ],
   "metadata": {
    "collapsed": false,
    "pycharm": {
     "name": "#%%\n"
    },
    "ExecuteTime": {
     "end_time": "2024-03-24T14:54:08.792752600Z",
     "start_time": "2024-03-24T14:54:08.386756900Z"
    }
   }
  },
  {
   "cell_type": "code",
   "execution_count": 22,
   "outputs": [],
   "source": [
    "atl_weather_df = atl_weather_df.drop([\"events\"], axis=\"columns\")"
   ],
   "metadata": {
    "collapsed": false,
    "pycharm": {
     "name": "#%%\n"
    },
    "ExecuteTime": {
     "end_time": "2024-03-24T14:54:08.964752Z",
     "start_time": "2024-03-24T14:54:08.651754300Z"
    }
   }
  },
  {
   "cell_type": "code",
   "execution_count": 23,
   "outputs": [
    {
     "name": "stdout",
     "output_type": "stream",
     "text": [
      "<class 'pandas.core.frame.DataFrame'>\n",
      "RangeIndex: 191331 entries, 0 to 191330\n",
      "Data columns (total 40 columns):\n",
      " #   Column             Non-Null Count   Dtype  \n",
      "---  ------             --------------   -----  \n",
      " 0   tmpf               20396 non-null   float64\n",
      " 1   dwpf               20394 non-null   float64\n",
      " 2   relh               20364 non-null   float64\n",
      " 3   drct               185963 non-null  float64\n",
      " 4   sknt               186484 non-null  float64\n",
      " 5   p01i               24455 non-null   float64\n",
      " 6   alti               191300 non-null  float64\n",
      " 7   mslp               17489 non-null   float64\n",
      " 8   vsby               191331 non-null  float64\n",
      " 9   gust               5231 non-null    float64\n",
      " 10  skyc1              183723 non-null  object \n",
      " 11  skyc2              45906 non-null   object \n",
      " 12  skyc3              20899 non-null   object \n",
      " 13  skyc4              1877 non-null    object \n",
      " 14  skyl1              95651 non-null   float64\n",
      " 15  skyl2              45906 non-null   float64\n",
      " 16  skyl3              20899 non-null   float64\n",
      " 17  skyl4              1877 non-null    float64\n",
      " 18  wxcodes            17890 non-null   object \n",
      " 19  ice_accretion_1hr  11 non-null      float64\n",
      " 20  ice_accretion_3hr  2 non-null       float64\n",
      " 21  ice_accretion_6hr  2 non-null       float64\n",
      " 22  peak_wind_gust     569 non-null     float64\n",
      " 23  peak_wind_drct     569 non-null     float64\n",
      " 24  peak_wind_time     569 non-null     object \n",
      " 25  feel               20364 non-null   float64\n",
      " 26  date               191331 non-null  object \n",
      " 27  time               191331 non-null  object \n",
      " 28  EVENT_BR           191331 non-null  int64  \n",
      " 29  EVENT_DZ           191331 non-null  int64  \n",
      " 30  EVENT_FG           191331 non-null  int64  \n",
      " 31  EVENT_FU           191331 non-null  int64  \n",
      " 32  EVENT_GR           191331 non-null  int64  \n",
      " 33  EVENT_GS           191331 non-null  int64  \n",
      " 34  EVENT_HZ           191331 non-null  int64  \n",
      " 35  EVENT_IC           191331 non-null  int64  \n",
      " 36  EVENT_RA           191331 non-null  int64  \n",
      " 37  EVENT_SG           191331 non-null  int64  \n",
      " 38  EVENT_SN           191331 non-null  int64  \n",
      " 39  EVENT_TS           191331 non-null  int64  \n",
      "dtypes: float64(20), int64(12), object(8)\n",
      "memory usage: 58.4+ MB\n"
     ]
    }
   ],
   "source": [
    "str_cols=[\"skyc1\",\"skyc2\",\"skyc3\",\"skyc4\",\"wxcodes\",\"peak_wind_time\",\"time\",\"date\"]\n",
    "num_cols =  []\n",
    "for col in atl_weather_df.columns:\n",
    "    if col not in str_cols and col not in list(one_hot.columns) :\n",
    "        num_cols.append(col)\n",
    "        atl_weather_df[col] = atl_weather_df[col].astype('float64')\n",
    "atl_weather_df.info()"
   ],
   "metadata": {
    "collapsed": false,
    "pycharm": {
     "name": "#%%\n"
    },
    "ExecuteTime": {
     "end_time": "2024-03-24T14:54:11.251797800Z",
     "start_time": "2024-03-24T14:54:08.745755100Z"
    }
   }
  },
  {
   "cell_type": "code",
   "execution_count": 24,
   "outputs": [
    {
     "data": {
      "text/plain": "                skyc1 skyc2 skyc3 skyc4 wxcodes peak_wind_time\ndate       time                                               \n2016-01-01 00     FEW   SCT   BKN   BKN     NaN            NaN\n           01     SCT   BKN   BKN   NaN     NaN            NaN\n           02     FEW   BKN   BKN   NaN     NaN            NaN\n           03     FEW   SCT   BKN   NaN     NaN            NaN\n           04     FEW   BKN   BKN   NaN     NaN            NaN\n...               ...   ...   ...   ...     ...            ...\n2017-12-30 19     FEW   FEW   NaN   NaN     NaN            NaN\n           20     FEW   NaN   NaN   NaN     NaN            NaN\n           21     BKN   NaN   NaN   NaN     NaN            NaN\n           22     CLR   BKN   NaN   NaN     NaN            NaN\n           23     FEW   BKN   NaN   NaN     NaN            NaN\n\n[17520 rows x 6 columns]",
      "text/html": "<div>\n<style scoped>\n    .dataframe tbody tr th:only-of-type {\n        vertical-align: middle;\n    }\n\n    .dataframe tbody tr th {\n        vertical-align: top;\n    }\n\n    .dataframe thead th {\n        text-align: right;\n    }\n</style>\n<table border=\"1\" class=\"dataframe\">\n  <thead>\n    <tr style=\"text-align: right;\">\n      <th></th>\n      <th></th>\n      <th>skyc1</th>\n      <th>skyc2</th>\n      <th>skyc3</th>\n      <th>skyc4</th>\n      <th>wxcodes</th>\n      <th>peak_wind_time</th>\n    </tr>\n    <tr>\n      <th>date</th>\n      <th>time</th>\n      <th></th>\n      <th></th>\n      <th></th>\n      <th></th>\n      <th></th>\n      <th></th>\n    </tr>\n  </thead>\n  <tbody>\n    <tr>\n      <th rowspan=\"5\" valign=\"top\">2016-01-01</th>\n      <th>00</th>\n      <td>FEW</td>\n      <td>SCT</td>\n      <td>BKN</td>\n      <td>BKN</td>\n      <td>NaN</td>\n      <td>NaN</td>\n    </tr>\n    <tr>\n      <th>01</th>\n      <td>SCT</td>\n      <td>BKN</td>\n      <td>BKN</td>\n      <td>NaN</td>\n      <td>NaN</td>\n      <td>NaN</td>\n    </tr>\n    <tr>\n      <th>02</th>\n      <td>FEW</td>\n      <td>BKN</td>\n      <td>BKN</td>\n      <td>NaN</td>\n      <td>NaN</td>\n      <td>NaN</td>\n    </tr>\n    <tr>\n      <th>03</th>\n      <td>FEW</td>\n      <td>SCT</td>\n      <td>BKN</td>\n      <td>NaN</td>\n      <td>NaN</td>\n      <td>NaN</td>\n    </tr>\n    <tr>\n      <th>04</th>\n      <td>FEW</td>\n      <td>BKN</td>\n      <td>BKN</td>\n      <td>NaN</td>\n      <td>NaN</td>\n      <td>NaN</td>\n    </tr>\n    <tr>\n      <th>...</th>\n      <th>...</th>\n      <td>...</td>\n      <td>...</td>\n      <td>...</td>\n      <td>...</td>\n      <td>...</td>\n      <td>...</td>\n    </tr>\n    <tr>\n      <th rowspan=\"5\" valign=\"top\">2017-12-30</th>\n      <th>19</th>\n      <td>FEW</td>\n      <td>FEW</td>\n      <td>NaN</td>\n      <td>NaN</td>\n      <td>NaN</td>\n      <td>NaN</td>\n    </tr>\n    <tr>\n      <th>20</th>\n      <td>FEW</td>\n      <td>NaN</td>\n      <td>NaN</td>\n      <td>NaN</td>\n      <td>NaN</td>\n      <td>NaN</td>\n    </tr>\n    <tr>\n      <th>21</th>\n      <td>BKN</td>\n      <td>NaN</td>\n      <td>NaN</td>\n      <td>NaN</td>\n      <td>NaN</td>\n      <td>NaN</td>\n    </tr>\n    <tr>\n      <th>22</th>\n      <td>CLR</td>\n      <td>BKN</td>\n      <td>NaN</td>\n      <td>NaN</td>\n      <td>NaN</td>\n      <td>NaN</td>\n    </tr>\n    <tr>\n      <th>23</th>\n      <td>FEW</td>\n      <td>BKN</td>\n      <td>NaN</td>\n      <td>NaN</td>\n      <td>NaN</td>\n      <td>NaN</td>\n    </tr>\n  </tbody>\n</table>\n<p>17520 rows × 6 columns</p>\n</div>"
     },
     "execution_count": 24,
     "metadata": {},
     "output_type": "execute_result"
    }
   ],
   "source": [
    "str_df = atl_weather_df[str_cols].groupby([\"date\",\"time\"]).agg(lambda x: np.nan if len(pd.Series.mode(x)) == 0 else pd.Series.mode(x)[0])\n",
    "str_df"
   ],
   "metadata": {
    "collapsed": false,
    "pycharm": {
     "name": "#%%\n"
    },
    "ExecuteTime": {
     "end_time": "2024-03-24T14:54:31.830179700Z",
     "start_time": "2024-03-24T14:54:11.220798200Z"
    }
   }
  },
  {
   "cell_type": "code",
   "execution_count": 25,
   "outputs": [
    {
     "data": {
      "text/plain": "                  tmpf   dwpf   relh   drct  sknt  p01i   alti    mslp  vsby  \\\ndate       time                                                                \n2016-01-01 00    51.98  42.08  68.86  320.0  10.0   0.0  30.19  1022.5  10.0   \n           01    50.00  41.00  71.07  330.0   7.0   0.0  30.18  1022.2  10.0   \n           02    48.92  41.00  73.99  310.0  12.0   0.0  30.18  1022.0  10.0   \n           03    46.94  39.92  76.43  320.0  13.0   0.0  30.17  1021.9  10.0   \n           04    46.04  39.02  76.35  320.0  10.0   0.0  30.18  1022.0  10.0   \n...                ...    ...    ...    ...   ...   ...    ...     ...   ...   \n2017-12-30 19    50.00  32.00  49.81  290.0  12.0   0.0  30.07  1018.6  10.0   \n           20    51.10  32.00  47.81  300.0  11.0   0.0  30.06  1018.6  10.0   \n           21    48.00  30.90  51.34  300.0  11.0   0.0  30.07  1018.9  10.0   \n           22    46.00  30.90  55.36  290.0   9.0   0.0  30.07  1018.9  10.0   \n           23    44.10  30.00  57.37  320.0   7.0   0.0  30.08  1019.5  10.0   \n\n                 gust    skyl1    skyl2    skyl3    skyl4  ice_accretion_1hr  \\\ndate       time                                                                \n2016-01-01 00     NaN  10000.0  15000.0  20000.0  25000.0                NaN   \n           01     NaN  15000.0  20000.0  25000.0      NaN                NaN   \n           02     NaN  15000.0  20000.0  25000.0      NaN                NaN   \n           03     NaN  15000.0  20000.0  25000.0      NaN                NaN   \n           04     NaN  15000.0  20000.0  25000.0      NaN                NaN   \n...               ...      ...      ...      ...      ...                ...   \n2017-12-30 19    20.5   3999.0  25000.0      NaN      NaN                NaN   \n           20     NaN   3999.0      NaN      NaN      NaN                NaN   \n           21    16.0  25000.0      NaN      NaN      NaN                NaN   \n           22     NaN  20000.0  25000.0      NaN      NaN                NaN   \n           23     NaN  20000.0  25000.0      NaN      NaN                NaN   \n\n                 ice_accretion_3hr  ice_accretion_6hr  peak_wind_gust  \\\ndate       time                                                         \n2016-01-01 00                  NaN                NaN             NaN   \n           01                  NaN                NaN             NaN   \n           02                  NaN                NaN             NaN   \n           03                  NaN                NaN             NaN   \n           04                  NaN                NaN             NaN   \n...                            ...                ...             ...   \n2017-12-30 19                  NaN                NaN             NaN   \n           20                  NaN                NaN             NaN   \n           21                  NaN                NaN             NaN   \n           22                  NaN                NaN             NaN   \n           23                  NaN                NaN             NaN   \n\n                 peak_wind_drct   feel  \ndate       time                         \n2016-01-01 00               NaN  51.98  \n           01               NaN  46.72  \n           02               NaN  43.54  \n           03               NaN  40.71  \n           04               NaN  40.57  \n...                         ...    ...  \n2017-12-30 19               NaN  44.63  \n           20               NaN  51.10  \n           21               NaN  43.03  \n           22               NaN  40.92  \n           23               NaN  38.56  \n\n[17520 rows x 20 columns]",
      "text/html": "<div>\n<style scoped>\n    .dataframe tbody tr th:only-of-type {\n        vertical-align: middle;\n    }\n\n    .dataframe tbody tr th {\n        vertical-align: top;\n    }\n\n    .dataframe thead th {\n        text-align: right;\n    }\n</style>\n<table border=\"1\" class=\"dataframe\">\n  <thead>\n    <tr style=\"text-align: right;\">\n      <th></th>\n      <th></th>\n      <th>tmpf</th>\n      <th>dwpf</th>\n      <th>relh</th>\n      <th>drct</th>\n      <th>sknt</th>\n      <th>p01i</th>\n      <th>alti</th>\n      <th>mslp</th>\n      <th>vsby</th>\n      <th>gust</th>\n      <th>skyl1</th>\n      <th>skyl2</th>\n      <th>skyl3</th>\n      <th>skyl4</th>\n      <th>ice_accretion_1hr</th>\n      <th>ice_accretion_3hr</th>\n      <th>ice_accretion_6hr</th>\n      <th>peak_wind_gust</th>\n      <th>peak_wind_drct</th>\n      <th>feel</th>\n    </tr>\n    <tr>\n      <th>date</th>\n      <th>time</th>\n      <th></th>\n      <th></th>\n      <th></th>\n      <th></th>\n      <th></th>\n      <th></th>\n      <th></th>\n      <th></th>\n      <th></th>\n      <th></th>\n      <th></th>\n      <th></th>\n      <th></th>\n      <th></th>\n      <th></th>\n      <th></th>\n      <th></th>\n      <th></th>\n      <th></th>\n      <th></th>\n    </tr>\n  </thead>\n  <tbody>\n    <tr>\n      <th rowspan=\"5\" valign=\"top\">2016-01-01</th>\n      <th>00</th>\n      <td>51.98</td>\n      <td>42.08</td>\n      <td>68.86</td>\n      <td>320.0</td>\n      <td>10.0</td>\n      <td>0.0</td>\n      <td>30.19</td>\n      <td>1022.5</td>\n      <td>10.0</td>\n      <td>NaN</td>\n      <td>10000.0</td>\n      <td>15000.0</td>\n      <td>20000.0</td>\n      <td>25000.0</td>\n      <td>NaN</td>\n      <td>NaN</td>\n      <td>NaN</td>\n      <td>NaN</td>\n      <td>NaN</td>\n      <td>51.98</td>\n    </tr>\n    <tr>\n      <th>01</th>\n      <td>50.00</td>\n      <td>41.00</td>\n      <td>71.07</td>\n      <td>330.0</td>\n      <td>7.0</td>\n      <td>0.0</td>\n      <td>30.18</td>\n      <td>1022.2</td>\n      <td>10.0</td>\n      <td>NaN</td>\n      <td>15000.0</td>\n      <td>20000.0</td>\n      <td>25000.0</td>\n      <td>NaN</td>\n      <td>NaN</td>\n      <td>NaN</td>\n      <td>NaN</td>\n      <td>NaN</td>\n      <td>NaN</td>\n      <td>46.72</td>\n    </tr>\n    <tr>\n      <th>02</th>\n      <td>48.92</td>\n      <td>41.00</td>\n      <td>73.99</td>\n      <td>310.0</td>\n      <td>12.0</td>\n      <td>0.0</td>\n      <td>30.18</td>\n      <td>1022.0</td>\n      <td>10.0</td>\n      <td>NaN</td>\n      <td>15000.0</td>\n      <td>20000.0</td>\n      <td>25000.0</td>\n      <td>NaN</td>\n      <td>NaN</td>\n      <td>NaN</td>\n      <td>NaN</td>\n      <td>NaN</td>\n      <td>NaN</td>\n      <td>43.54</td>\n    </tr>\n    <tr>\n      <th>03</th>\n      <td>46.94</td>\n      <td>39.92</td>\n      <td>76.43</td>\n      <td>320.0</td>\n      <td>13.0</td>\n      <td>0.0</td>\n      <td>30.17</td>\n      <td>1021.9</td>\n      <td>10.0</td>\n      <td>NaN</td>\n      <td>15000.0</td>\n      <td>20000.0</td>\n      <td>25000.0</td>\n      <td>NaN</td>\n      <td>NaN</td>\n      <td>NaN</td>\n      <td>NaN</td>\n      <td>NaN</td>\n      <td>NaN</td>\n      <td>40.71</td>\n    </tr>\n    <tr>\n      <th>04</th>\n      <td>46.04</td>\n      <td>39.02</td>\n      <td>76.35</td>\n      <td>320.0</td>\n      <td>10.0</td>\n      <td>0.0</td>\n      <td>30.18</td>\n      <td>1022.0</td>\n      <td>10.0</td>\n      <td>NaN</td>\n      <td>15000.0</td>\n      <td>20000.0</td>\n      <td>25000.0</td>\n      <td>NaN</td>\n      <td>NaN</td>\n      <td>NaN</td>\n      <td>NaN</td>\n      <td>NaN</td>\n      <td>NaN</td>\n      <td>40.57</td>\n    </tr>\n    <tr>\n      <th>...</th>\n      <th>...</th>\n      <td>...</td>\n      <td>...</td>\n      <td>...</td>\n      <td>...</td>\n      <td>...</td>\n      <td>...</td>\n      <td>...</td>\n      <td>...</td>\n      <td>...</td>\n      <td>...</td>\n      <td>...</td>\n      <td>...</td>\n      <td>...</td>\n      <td>...</td>\n      <td>...</td>\n      <td>...</td>\n      <td>...</td>\n      <td>...</td>\n      <td>...</td>\n      <td>...</td>\n    </tr>\n    <tr>\n      <th rowspan=\"5\" valign=\"top\">2017-12-30</th>\n      <th>19</th>\n      <td>50.00</td>\n      <td>32.00</td>\n      <td>49.81</td>\n      <td>290.0</td>\n      <td>12.0</td>\n      <td>0.0</td>\n      <td>30.07</td>\n      <td>1018.6</td>\n      <td>10.0</td>\n      <td>20.5</td>\n      <td>3999.0</td>\n      <td>25000.0</td>\n      <td>NaN</td>\n      <td>NaN</td>\n      <td>NaN</td>\n      <td>NaN</td>\n      <td>NaN</td>\n      <td>NaN</td>\n      <td>NaN</td>\n      <td>44.63</td>\n    </tr>\n    <tr>\n      <th>20</th>\n      <td>51.10</td>\n      <td>32.00</td>\n      <td>47.81</td>\n      <td>300.0</td>\n      <td>11.0</td>\n      <td>0.0</td>\n      <td>30.06</td>\n      <td>1018.6</td>\n      <td>10.0</td>\n      <td>NaN</td>\n      <td>3999.0</td>\n      <td>NaN</td>\n      <td>NaN</td>\n      <td>NaN</td>\n      <td>NaN</td>\n      <td>NaN</td>\n      <td>NaN</td>\n      <td>NaN</td>\n      <td>NaN</td>\n      <td>51.10</td>\n    </tr>\n    <tr>\n      <th>21</th>\n      <td>48.00</td>\n      <td>30.90</td>\n      <td>51.34</td>\n      <td>300.0</td>\n      <td>11.0</td>\n      <td>0.0</td>\n      <td>30.07</td>\n      <td>1018.9</td>\n      <td>10.0</td>\n      <td>16.0</td>\n      <td>25000.0</td>\n      <td>NaN</td>\n      <td>NaN</td>\n      <td>NaN</td>\n      <td>NaN</td>\n      <td>NaN</td>\n      <td>NaN</td>\n      <td>NaN</td>\n      <td>NaN</td>\n      <td>43.03</td>\n    </tr>\n    <tr>\n      <th>22</th>\n      <td>46.00</td>\n      <td>30.90</td>\n      <td>55.36</td>\n      <td>290.0</td>\n      <td>9.0</td>\n      <td>0.0</td>\n      <td>30.07</td>\n      <td>1018.9</td>\n      <td>10.0</td>\n      <td>NaN</td>\n      <td>20000.0</td>\n      <td>25000.0</td>\n      <td>NaN</td>\n      <td>NaN</td>\n      <td>NaN</td>\n      <td>NaN</td>\n      <td>NaN</td>\n      <td>NaN</td>\n      <td>NaN</td>\n      <td>40.92</td>\n    </tr>\n    <tr>\n      <th>23</th>\n      <td>44.10</td>\n      <td>30.00</td>\n      <td>57.37</td>\n      <td>320.0</td>\n      <td>7.0</td>\n      <td>0.0</td>\n      <td>30.08</td>\n      <td>1019.5</td>\n      <td>10.0</td>\n      <td>NaN</td>\n      <td>20000.0</td>\n      <td>25000.0</td>\n      <td>NaN</td>\n      <td>NaN</td>\n      <td>NaN</td>\n      <td>NaN</td>\n      <td>NaN</td>\n      <td>NaN</td>\n      <td>NaN</td>\n      <td>38.56</td>\n    </tr>\n  </tbody>\n</table>\n<p>17520 rows × 20 columns</p>\n</div>"
     },
     "execution_count": 25,
     "metadata": {},
     "output_type": "execute_result"
    }
   ],
   "source": [
    "num_df = atl_weather_df[num_cols + [\"date\",\"time\"]].groupby([\"date\",\"time\"]).median()\n",
    "num_df"
   ],
   "metadata": {
    "collapsed": false,
    "pycharm": {
     "name": "#%%\n"
    },
    "ExecuteTime": {
     "end_time": "2024-03-24T14:54:32.044516700Z",
     "start_time": "2024-03-24T14:54:31.828178500Z"
    }
   }
  },
  {
   "cell_type": "code",
   "execution_count": 26,
   "outputs": [
    {
     "data": {
      "text/plain": "                 EVENT_BR  EVENT_DZ  EVENT_FG  EVENT_FU  EVENT_GR  EVENT_GS  \\\ndate       time                                                               \n2016-01-01 00           0         0         0         0         0         0   \n           01           0         0         0         0         0         0   \n           02           0         0         0         0         0         0   \n           03           0         0         0         0         0         0   \n           04           0         0         0         0         0         0   \n...                   ...       ...       ...       ...       ...       ...   \n2017-12-30 19           0         0         0         0         0         0   \n           20           0         0         0         0         0         0   \n           21           0         0         0         0         0         0   \n           22           0         0         0         0         0         0   \n           23           0         0         0         0         0         0   \n\n                 EVENT_HZ  EVENT_IC  EVENT_RA  EVENT_SG  EVENT_SN  EVENT_TS  \ndate       time                                                              \n2016-01-01 00           0         0         0         0         0         0  \n           01           0         0         0         0         0         0  \n           02           0         0         0         0         0         0  \n           03           0         0         0         0         0         0  \n           04           0         0         0         0         0         0  \n...                   ...       ...       ...       ...       ...       ...  \n2017-12-30 19           0         0         0         0         0         0  \n           20           0         0         0         0         0         0  \n           21           0         0         0         0         0         0  \n           22           0         0         0         0         0         0  \n           23           0         0         0         0         0         0  \n\n[17520 rows x 12 columns]",
      "text/html": "<div>\n<style scoped>\n    .dataframe tbody tr th:only-of-type {\n        vertical-align: middle;\n    }\n\n    .dataframe tbody tr th {\n        vertical-align: top;\n    }\n\n    .dataframe thead th {\n        text-align: right;\n    }\n</style>\n<table border=\"1\" class=\"dataframe\">\n  <thead>\n    <tr style=\"text-align: right;\">\n      <th></th>\n      <th></th>\n      <th>EVENT_BR</th>\n      <th>EVENT_DZ</th>\n      <th>EVENT_FG</th>\n      <th>EVENT_FU</th>\n      <th>EVENT_GR</th>\n      <th>EVENT_GS</th>\n      <th>EVENT_HZ</th>\n      <th>EVENT_IC</th>\n      <th>EVENT_RA</th>\n      <th>EVENT_SG</th>\n      <th>EVENT_SN</th>\n      <th>EVENT_TS</th>\n    </tr>\n    <tr>\n      <th>date</th>\n      <th>time</th>\n      <th></th>\n      <th></th>\n      <th></th>\n      <th></th>\n      <th></th>\n      <th></th>\n      <th></th>\n      <th></th>\n      <th></th>\n      <th></th>\n      <th></th>\n      <th></th>\n    </tr>\n  </thead>\n  <tbody>\n    <tr>\n      <th rowspan=\"5\" valign=\"top\">2016-01-01</th>\n      <th>00</th>\n      <td>0</td>\n      <td>0</td>\n      <td>0</td>\n      <td>0</td>\n      <td>0</td>\n      <td>0</td>\n      <td>0</td>\n      <td>0</td>\n      <td>0</td>\n      <td>0</td>\n      <td>0</td>\n      <td>0</td>\n    </tr>\n    <tr>\n      <th>01</th>\n      <td>0</td>\n      <td>0</td>\n      <td>0</td>\n      <td>0</td>\n      <td>0</td>\n      <td>0</td>\n      <td>0</td>\n      <td>0</td>\n      <td>0</td>\n      <td>0</td>\n      <td>0</td>\n      <td>0</td>\n    </tr>\n    <tr>\n      <th>02</th>\n      <td>0</td>\n      <td>0</td>\n      <td>0</td>\n      <td>0</td>\n      <td>0</td>\n      <td>0</td>\n      <td>0</td>\n      <td>0</td>\n      <td>0</td>\n      <td>0</td>\n      <td>0</td>\n      <td>0</td>\n    </tr>\n    <tr>\n      <th>03</th>\n      <td>0</td>\n      <td>0</td>\n      <td>0</td>\n      <td>0</td>\n      <td>0</td>\n      <td>0</td>\n      <td>0</td>\n      <td>0</td>\n      <td>0</td>\n      <td>0</td>\n      <td>0</td>\n      <td>0</td>\n    </tr>\n    <tr>\n      <th>04</th>\n      <td>0</td>\n      <td>0</td>\n      <td>0</td>\n      <td>0</td>\n      <td>0</td>\n      <td>0</td>\n      <td>0</td>\n      <td>0</td>\n      <td>0</td>\n      <td>0</td>\n      <td>0</td>\n      <td>0</td>\n    </tr>\n    <tr>\n      <th>...</th>\n      <th>...</th>\n      <td>...</td>\n      <td>...</td>\n      <td>...</td>\n      <td>...</td>\n      <td>...</td>\n      <td>...</td>\n      <td>...</td>\n      <td>...</td>\n      <td>...</td>\n      <td>...</td>\n      <td>...</td>\n      <td>...</td>\n    </tr>\n    <tr>\n      <th rowspan=\"5\" valign=\"top\">2017-12-30</th>\n      <th>19</th>\n      <td>0</td>\n      <td>0</td>\n      <td>0</td>\n      <td>0</td>\n      <td>0</td>\n      <td>0</td>\n      <td>0</td>\n      <td>0</td>\n      <td>0</td>\n      <td>0</td>\n      <td>0</td>\n      <td>0</td>\n    </tr>\n    <tr>\n      <th>20</th>\n      <td>0</td>\n      <td>0</td>\n      <td>0</td>\n      <td>0</td>\n      <td>0</td>\n      <td>0</td>\n      <td>0</td>\n      <td>0</td>\n      <td>0</td>\n      <td>0</td>\n      <td>0</td>\n      <td>0</td>\n    </tr>\n    <tr>\n      <th>21</th>\n      <td>0</td>\n      <td>0</td>\n      <td>0</td>\n      <td>0</td>\n      <td>0</td>\n      <td>0</td>\n      <td>0</td>\n      <td>0</td>\n      <td>0</td>\n      <td>0</td>\n      <td>0</td>\n      <td>0</td>\n    </tr>\n    <tr>\n      <th>22</th>\n      <td>0</td>\n      <td>0</td>\n      <td>0</td>\n      <td>0</td>\n      <td>0</td>\n      <td>0</td>\n      <td>0</td>\n      <td>0</td>\n      <td>0</td>\n      <td>0</td>\n      <td>0</td>\n      <td>0</td>\n    </tr>\n    <tr>\n      <th>23</th>\n      <td>0</td>\n      <td>0</td>\n      <td>0</td>\n      <td>0</td>\n      <td>0</td>\n      <td>0</td>\n      <td>0</td>\n      <td>0</td>\n      <td>0</td>\n      <td>0</td>\n      <td>0</td>\n      <td>0</td>\n    </tr>\n  </tbody>\n</table>\n<p>17520 rows × 12 columns</p>\n</div>"
     },
     "execution_count": 26,
     "metadata": {},
     "output_type": "execute_result"
    }
   ],
   "source": [
    "oh_df = atl_weather_df[[\"date\",\"time\"] + list(one_hot.columns)].groupby([\"date\",\"time\"]).max()\n",
    "oh_df"
   ],
   "metadata": {
    "collapsed": false,
    "pycharm": {
     "name": "#%%\n"
    },
    "ExecuteTime": {
     "end_time": "2024-03-24T14:54:32.156518500Z",
     "start_time": "2024-03-24T14:54:31.989521900Z"
    }
   }
  },
  {
   "cell_type": "code",
   "execution_count": 27,
   "outputs": [
    {
     "name": "stdout",
     "output_type": "stream",
     "text": [
      "Counting non-null percentage per column\n",
      "tmpf:\t1.0\n",
      "dwpf:\t1.0\n",
      "relh:\t1.0\n",
      "drct:\t1.0\n",
      "sknt:\t1.0\n",
      "p01i:\t0.95\n",
      "alti:\t1.0\n",
      "mslp:\t1.0\n",
      "vsby:\t1.0\n",
      "gust:\t0.16\n",
      "skyl1:\t0.87\n",
      "skyl2:\t0.61\n",
      "skyl3:\t0.36\n",
      "skyl4:\t0.09\n",
      "ice_accretion_1hr:\t0.0\n",
      "ice_accretion_3hr:\t0.0\n",
      "ice_accretion_6hr:\t0.0\n",
      "peak_wind_gust:\t0.03\n",
      "peak_wind_drct:\t0.03\n",
      "feel:\t1.0\n",
      "skyc1:\t1.0\n",
      "skyc2:\t0.61\n",
      "skyc3:\t0.36\n",
      "skyc4:\t0.09\n",
      "wxcodes:\t0.13\n",
      "peak_wind_time:\t0.03\n",
      "EVENT_BR:\t1.0\n",
      "EVENT_DZ:\t1.0\n",
      "EVENT_FG:\t1.0\n",
      "EVENT_FU:\t1.0\n",
      "EVENT_GR:\t1.0\n",
      "EVENT_GS:\t1.0\n",
      "EVENT_HZ:\t1.0\n",
      "EVENT_IC:\t1.0\n",
      "EVENT_RA:\t1.0\n",
      "EVENT_SG:\t1.0\n",
      "EVENT_SN:\t1.0\n",
      "EVENT_TS:\t1.0\n"
     ]
    },
    {
     "data": {
      "text/plain": "                  tmpf   dwpf   relh   drct  sknt  p01i   alti    mslp  vsby  \\\ndate       time                                                                \n2016-01-01 00    51.98  42.08  68.86  320.0  10.0   0.0  30.19  1022.5  10.0   \n           01    50.00  41.00  71.07  330.0   7.0   0.0  30.18  1022.2  10.0   \n           02    48.92  41.00  73.99  310.0  12.0   0.0  30.18  1022.0  10.0   \n           03    46.94  39.92  76.43  320.0  13.0   0.0  30.17  1021.9  10.0   \n           04    46.04  39.02  76.35  320.0  10.0   0.0  30.18  1022.0  10.0   \n...                ...    ...    ...    ...   ...   ...    ...     ...   ...   \n2017-12-30 19    50.00  32.00  49.81  290.0  12.0   0.0  30.07  1018.6  10.0   \n           20    51.10  32.00  47.81  300.0  11.0   0.0  30.06  1018.6  10.0   \n           21    48.00  30.90  51.34  300.0  11.0   0.0  30.07  1018.9  10.0   \n           22    46.00  30.90  55.36  290.0   9.0   0.0  30.07  1018.9  10.0   \n           23    44.10  30.00  57.37  320.0   7.0   0.0  30.08  1019.5  10.0   \n\n                  feel  ... EVENT_FG  EVENT_FU  EVENT_GR  EVENT_GS  EVENT_HZ  \\\ndate       time         ...                                                    \n2016-01-01 00    51.98  ...        0         0         0         0         0   \n           01    46.72  ...        0         0         0         0         0   \n           02    43.54  ...        0         0         0         0         0   \n           03    40.71  ...        0         0         0         0         0   \n           04    40.57  ...        0         0         0         0         0   \n...                ...  ...      ...       ...       ...       ...       ...   \n2017-12-30 19    44.63  ...        0         0         0         0         0   \n           20    51.10  ...        0         0         0         0         0   \n           21    43.03  ...        0         0         0         0         0   \n           22    40.92  ...        0         0         0         0         0   \n           23    38.56  ...        0         0         0         0         0   \n\n                 EVENT_IC  EVENT_RA  EVENT_SG  EVENT_SN  EVENT_TS  \ndate       time                                                    \n2016-01-01 00           0         0         0         0         0  \n           01           0         0         0         0         0  \n           02           0         0         0         0         0  \n           03           0         0         0         0         0  \n           04           0         0         0         0         0  \n...                   ...       ...       ...       ...       ...  \n2017-12-30 19           0         0         0         0         0  \n           20           0         0         0         0         0  \n           21           0         0         0         0         0  \n           22           0         0         0         0         0  \n           23           0         0         0         0         0  \n\n[17520 rows x 23 columns]",
      "text/html": "<div>\n<style scoped>\n    .dataframe tbody tr th:only-of-type {\n        vertical-align: middle;\n    }\n\n    .dataframe tbody tr th {\n        vertical-align: top;\n    }\n\n    .dataframe thead th {\n        text-align: right;\n    }\n</style>\n<table border=\"1\" class=\"dataframe\">\n  <thead>\n    <tr style=\"text-align: right;\">\n      <th></th>\n      <th></th>\n      <th>tmpf</th>\n      <th>dwpf</th>\n      <th>relh</th>\n      <th>drct</th>\n      <th>sknt</th>\n      <th>p01i</th>\n      <th>alti</th>\n      <th>mslp</th>\n      <th>vsby</th>\n      <th>feel</th>\n      <th>...</th>\n      <th>EVENT_FG</th>\n      <th>EVENT_FU</th>\n      <th>EVENT_GR</th>\n      <th>EVENT_GS</th>\n      <th>EVENT_HZ</th>\n      <th>EVENT_IC</th>\n      <th>EVENT_RA</th>\n      <th>EVENT_SG</th>\n      <th>EVENT_SN</th>\n      <th>EVENT_TS</th>\n    </tr>\n    <tr>\n      <th>date</th>\n      <th>time</th>\n      <th></th>\n      <th></th>\n      <th></th>\n      <th></th>\n      <th></th>\n      <th></th>\n      <th></th>\n      <th></th>\n      <th></th>\n      <th></th>\n      <th></th>\n      <th></th>\n      <th></th>\n      <th></th>\n      <th></th>\n      <th></th>\n      <th></th>\n      <th></th>\n      <th></th>\n      <th></th>\n      <th></th>\n    </tr>\n  </thead>\n  <tbody>\n    <tr>\n      <th rowspan=\"5\" valign=\"top\">2016-01-01</th>\n      <th>00</th>\n      <td>51.98</td>\n      <td>42.08</td>\n      <td>68.86</td>\n      <td>320.0</td>\n      <td>10.0</td>\n      <td>0.0</td>\n      <td>30.19</td>\n      <td>1022.5</td>\n      <td>10.0</td>\n      <td>51.98</td>\n      <td>...</td>\n      <td>0</td>\n      <td>0</td>\n      <td>0</td>\n      <td>0</td>\n      <td>0</td>\n      <td>0</td>\n      <td>0</td>\n      <td>0</td>\n      <td>0</td>\n      <td>0</td>\n    </tr>\n    <tr>\n      <th>01</th>\n      <td>50.00</td>\n      <td>41.00</td>\n      <td>71.07</td>\n      <td>330.0</td>\n      <td>7.0</td>\n      <td>0.0</td>\n      <td>30.18</td>\n      <td>1022.2</td>\n      <td>10.0</td>\n      <td>46.72</td>\n      <td>...</td>\n      <td>0</td>\n      <td>0</td>\n      <td>0</td>\n      <td>0</td>\n      <td>0</td>\n      <td>0</td>\n      <td>0</td>\n      <td>0</td>\n      <td>0</td>\n      <td>0</td>\n    </tr>\n    <tr>\n      <th>02</th>\n      <td>48.92</td>\n      <td>41.00</td>\n      <td>73.99</td>\n      <td>310.0</td>\n      <td>12.0</td>\n      <td>0.0</td>\n      <td>30.18</td>\n      <td>1022.0</td>\n      <td>10.0</td>\n      <td>43.54</td>\n      <td>...</td>\n      <td>0</td>\n      <td>0</td>\n      <td>0</td>\n      <td>0</td>\n      <td>0</td>\n      <td>0</td>\n      <td>0</td>\n      <td>0</td>\n      <td>0</td>\n      <td>0</td>\n    </tr>\n    <tr>\n      <th>03</th>\n      <td>46.94</td>\n      <td>39.92</td>\n      <td>76.43</td>\n      <td>320.0</td>\n      <td>13.0</td>\n      <td>0.0</td>\n      <td>30.17</td>\n      <td>1021.9</td>\n      <td>10.0</td>\n      <td>40.71</td>\n      <td>...</td>\n      <td>0</td>\n      <td>0</td>\n      <td>0</td>\n      <td>0</td>\n      <td>0</td>\n      <td>0</td>\n      <td>0</td>\n      <td>0</td>\n      <td>0</td>\n      <td>0</td>\n    </tr>\n    <tr>\n      <th>04</th>\n      <td>46.04</td>\n      <td>39.02</td>\n      <td>76.35</td>\n      <td>320.0</td>\n      <td>10.0</td>\n      <td>0.0</td>\n      <td>30.18</td>\n      <td>1022.0</td>\n      <td>10.0</td>\n      <td>40.57</td>\n      <td>...</td>\n      <td>0</td>\n      <td>0</td>\n      <td>0</td>\n      <td>0</td>\n      <td>0</td>\n      <td>0</td>\n      <td>0</td>\n      <td>0</td>\n      <td>0</td>\n      <td>0</td>\n    </tr>\n    <tr>\n      <th>...</th>\n      <th>...</th>\n      <td>...</td>\n      <td>...</td>\n      <td>...</td>\n      <td>...</td>\n      <td>...</td>\n      <td>...</td>\n      <td>...</td>\n      <td>...</td>\n      <td>...</td>\n      <td>...</td>\n      <td>...</td>\n      <td>...</td>\n      <td>...</td>\n      <td>...</td>\n      <td>...</td>\n      <td>...</td>\n      <td>...</td>\n      <td>...</td>\n      <td>...</td>\n      <td>...</td>\n      <td>...</td>\n    </tr>\n    <tr>\n      <th rowspan=\"5\" valign=\"top\">2017-12-30</th>\n      <th>19</th>\n      <td>50.00</td>\n      <td>32.00</td>\n      <td>49.81</td>\n      <td>290.0</td>\n      <td>12.0</td>\n      <td>0.0</td>\n      <td>30.07</td>\n      <td>1018.6</td>\n      <td>10.0</td>\n      <td>44.63</td>\n      <td>...</td>\n      <td>0</td>\n      <td>0</td>\n      <td>0</td>\n      <td>0</td>\n      <td>0</td>\n      <td>0</td>\n      <td>0</td>\n      <td>0</td>\n      <td>0</td>\n      <td>0</td>\n    </tr>\n    <tr>\n      <th>20</th>\n      <td>51.10</td>\n      <td>32.00</td>\n      <td>47.81</td>\n      <td>300.0</td>\n      <td>11.0</td>\n      <td>0.0</td>\n      <td>30.06</td>\n      <td>1018.6</td>\n      <td>10.0</td>\n      <td>51.10</td>\n      <td>...</td>\n      <td>0</td>\n      <td>0</td>\n      <td>0</td>\n      <td>0</td>\n      <td>0</td>\n      <td>0</td>\n      <td>0</td>\n      <td>0</td>\n      <td>0</td>\n      <td>0</td>\n    </tr>\n    <tr>\n      <th>21</th>\n      <td>48.00</td>\n      <td>30.90</td>\n      <td>51.34</td>\n      <td>300.0</td>\n      <td>11.0</td>\n      <td>0.0</td>\n      <td>30.07</td>\n      <td>1018.9</td>\n      <td>10.0</td>\n      <td>43.03</td>\n      <td>...</td>\n      <td>0</td>\n      <td>0</td>\n      <td>0</td>\n      <td>0</td>\n      <td>0</td>\n      <td>0</td>\n      <td>0</td>\n      <td>0</td>\n      <td>0</td>\n      <td>0</td>\n    </tr>\n    <tr>\n      <th>22</th>\n      <td>46.00</td>\n      <td>30.90</td>\n      <td>55.36</td>\n      <td>290.0</td>\n      <td>9.0</td>\n      <td>0.0</td>\n      <td>30.07</td>\n      <td>1018.9</td>\n      <td>10.0</td>\n      <td>40.92</td>\n      <td>...</td>\n      <td>0</td>\n      <td>0</td>\n      <td>0</td>\n      <td>0</td>\n      <td>0</td>\n      <td>0</td>\n      <td>0</td>\n      <td>0</td>\n      <td>0</td>\n      <td>0</td>\n    </tr>\n    <tr>\n      <th>23</th>\n      <td>44.10</td>\n      <td>30.00</td>\n      <td>57.37</td>\n      <td>320.0</td>\n      <td>7.0</td>\n      <td>0.0</td>\n      <td>30.08</td>\n      <td>1019.5</td>\n      <td>10.0</td>\n      <td>38.56</td>\n      <td>...</td>\n      <td>0</td>\n      <td>0</td>\n      <td>0</td>\n      <td>0</td>\n      <td>0</td>\n      <td>0</td>\n      <td>0</td>\n      <td>0</td>\n      <td>0</td>\n      <td>0</td>\n    </tr>\n  </tbody>\n</table>\n<p>17520 rows × 23 columns</p>\n</div>"
     },
     "execution_count": 27,
     "metadata": {},
     "output_type": "execute_result"
    }
   ],
   "source": [
    "atl_weather_df = num_df.join(str_df)\n",
    "atl_weather_df = atl_weather_df.join(oh_df)\n",
    "print_inv_nan_perc(atl_weather_df)\n",
    "atl_weather_df = atl_weather_df.drop([\"peak_wind_time\",\"peak_wind_gust\",\"peak_wind_drct\",\"peak_wind_time\",\"ice_accretion_1hr\", \"ice_accretion_3hr\",\"ice_accretion_6hr\", \"skyl1\", \"skyl2\", \"skyl3\", \"skyl4\", \"skyc1\", \"skyc2\", \"skyc3\", \"skyc4\", \"gust\"], axis=\"columns\")\n",
    "atl_weather_df"
   ],
   "metadata": {
    "collapsed": false,
    "pycharm": {
     "name": "#%%\n"
    },
    "ExecuteTime": {
     "end_time": "2024-03-24T14:54:32.422519300Z",
     "start_time": "2024-03-24T14:54:32.111518500Z"
    }
   }
  },
  {
   "cell_type": "code",
   "execution_count": 28,
   "outputs": [],
   "source": [
    "atl_weather_df.to_pickle(os.path.join(OUTPUT_FOLDER, \"05_metar.pkl\"))"
   ],
   "metadata": {
    "collapsed": false,
    "pycharm": {
     "name": "#%%\n"
    },
    "ExecuteTime": {
     "end_time": "2024-03-24T14:54:32.500518100Z",
     "start_time": "2024-03-24T14:54:32.258516200Z"
    }
   }
  },
  {
   "cell_type": "code",
   "execution_count": 28,
   "outputs": [],
   "source": [],
   "metadata": {
    "collapsed": false,
    "pycharm": {
     "name": "#%%\n"
    },
    "ExecuteTime": {
     "end_time": "2024-03-24T14:54:32.500518100Z",
     "start_time": "2024-03-24T14:54:32.286521700Z"
    }
   }
  }
 ],
 "metadata": {
  "kernelspec": {
   "display_name": "Python 3",
   "language": "python",
   "name": "python3"
  },
  "language_info": {
   "codemirror_mode": {
    "name": "ipython",
    "version": 2
   },
   "file_extension": ".py",
   "mimetype": "text/x-python",
   "name": "python",
   "nbconvert_exporter": "python",
   "pygments_lexer": "ipython2",
   "version": "2.7.6"
  }
 },
 "nbformat": 4,
 "nbformat_minor": 0
}
