{
 "cells": [
  {
   "cell_type": "code",
   "execution_count": 8,
   "metadata": {
    "collapsed": true,
    "ExecuteTime": {
     "end_time": "2024-03-01T23:28:39.515324600Z",
     "start_time": "2024-03-01T23:28:39.272463400Z"
    }
   },
   "outputs": [],
   "source": [
    "import pandas as pd\n",
    "import numpy as np\n",
    "from datetime import timedelta\n",
    "import os\n",
    "from main.utils.data_manage_utils import read_table_from_subfolder\n",
    "# Variables\n",
    "ROOT_PATH = os.path.abspath(\"../../\")\n",
    "PREP_FOLDER = os.path.join(ROOT_PATH, \"data/preparation/prepped_files\")"
   ]
  },
  {
   "cell_type": "code",
   "execution_count": 9,
   "outputs": [
    {
     "data": {
      "text/plain": "         OP_UNIQUE_CARRIER TAIL_NUM ORIGIN  DEP_DELAY  CRS_ELAPSED_TIME  \\\n12864                   DL   N353NW    DEN         -8             170.0   \n12377                   DL   N849DN    SLC         -3             209.0   \n8481                    F9   N201FR    LAS          4             225.0   \n2658                    WN   N8657B    RSW         -5             105.0   \n835                     WN   N210WN    FLL         -3             115.0   \n...                    ...      ...    ...        ...               ...   \n11292052                DL   N391DA    SMF         -2             264.0   \n11285768                AA   N3CDAA    LAX         -2             257.0   \n11290999                DL   N804DN    LAX         -1             246.0   \n11290527                DL   N862DN    SFO         -4             276.0   \n11290612                DL   N828NW    HNL         -5             520.0   \n\n          DISTANCE        CRS_DEP_DATE        CRS_ARR_DATE  \\\n12864       1199.0 2016-01-01 00:15:00 2016-01-01 05:05:00   \n12377       1590.0 2016-01-01 00:55:00 2016-01-01 06:24:00   \n8481        1747.0 2016-01-01 00:20:00 2016-01-01 07:05:00   \n2658         515.0 2016-01-01 05:40:00 2016-01-01 07:25:00   \n835          581.0 2016-01-01 05:30:00 2016-01-01 07:25:00   \n...            ...                 ...                 ...   \n11292052    2092.0 2017-12-31 23:25:00 2018-01-01 06:49:00   \n11285768    1947.0 2017-12-31 23:47:00 2018-01-01 07:04:00   \n11290999    1947.0 2017-12-31 23:59:00 2018-01-01 07:05:00   \n11290527    2139.0 2017-12-31 23:30:00 2018-01-01 07:06:00   \n11290612    4502.0 2017-12-31 17:55:00 2018-01-01 07:35:00   \n\n                ACT_DEP_DATE        ACT_ARR_DATE  PREV_FLIGHTS_1H  ARR_DELAY  \\\n12864    2016-01-01 00:07:00 2016-01-01 04:33:00                0        -32   \n12377    2016-01-01 00:52:00 2016-01-01 06:18:00                0         -6   \n8481     2016-01-01 00:24:00 2016-01-01 06:55:00                1        -10   \n2658     2016-01-01 05:35:00 2016-01-01 07:12:00                1        -13   \n835      2016-01-01 05:27:00 2016-01-01 07:09:00                1        -16   \n...                      ...                 ...              ...        ...   \n11292052 2017-12-31 23:23:00 2018-01-01 06:23:00                2        -26   \n11285768 2017-12-31 23:45:00 2018-01-01 06:38:00                2        -26   \n11290999 2017-12-31 23:58:00 2018-01-01 07:05:00                3          0   \n11290527 2017-12-31 23:26:00 2018-01-01 06:33:00                4        -33   \n11290612 2017-12-31 17:50:00 2018-01-01 06:56:00                5        -39   \n\n                     Aircraft  \n12864             Airbus A320  \n12377     Boeing 737 NG / Max  \n8481              Airbus A320  \n2658      Boeing 737 NG / Max  \n835       Boeing 737 NG / Max  \n...                       ...  \n11292052  Boeing 737 NG / Max  \n11285768                  NaN  \n11290999  Boeing 737 NG / Max  \n11290527  Boeing 737 NG / Max  \n11290612          Airbus A330  \n\n[739429 rows x 13 columns]",
      "text/html": "<div>\n<style scoped>\n    .dataframe tbody tr th:only-of-type {\n        vertical-align: middle;\n    }\n\n    .dataframe tbody tr th {\n        vertical-align: top;\n    }\n\n    .dataframe thead th {\n        text-align: right;\n    }\n</style>\n<table border=\"1\" class=\"dataframe\">\n  <thead>\n    <tr style=\"text-align: right;\">\n      <th></th>\n      <th>OP_UNIQUE_CARRIER</th>\n      <th>TAIL_NUM</th>\n      <th>ORIGIN</th>\n      <th>DEP_DELAY</th>\n      <th>CRS_ELAPSED_TIME</th>\n      <th>DISTANCE</th>\n      <th>CRS_DEP_DATE</th>\n      <th>CRS_ARR_DATE</th>\n      <th>ACT_DEP_DATE</th>\n      <th>ACT_ARR_DATE</th>\n      <th>PREV_FLIGHTS_1H</th>\n      <th>ARR_DELAY</th>\n      <th>Aircraft</th>\n    </tr>\n  </thead>\n  <tbody>\n    <tr>\n      <th>12864</th>\n      <td>DL</td>\n      <td>N353NW</td>\n      <td>DEN</td>\n      <td>-8</td>\n      <td>170.0</td>\n      <td>1199.0</td>\n      <td>2016-01-01 00:15:00</td>\n      <td>2016-01-01 05:05:00</td>\n      <td>2016-01-01 00:07:00</td>\n      <td>2016-01-01 04:33:00</td>\n      <td>0</td>\n      <td>-32</td>\n      <td>Airbus A320</td>\n    </tr>\n    <tr>\n      <th>12377</th>\n      <td>DL</td>\n      <td>N849DN</td>\n      <td>SLC</td>\n      <td>-3</td>\n      <td>209.0</td>\n      <td>1590.0</td>\n      <td>2016-01-01 00:55:00</td>\n      <td>2016-01-01 06:24:00</td>\n      <td>2016-01-01 00:52:00</td>\n      <td>2016-01-01 06:18:00</td>\n      <td>0</td>\n      <td>-6</td>\n      <td>Boeing 737 NG / Max</td>\n    </tr>\n    <tr>\n      <th>8481</th>\n      <td>F9</td>\n      <td>N201FR</td>\n      <td>LAS</td>\n      <td>4</td>\n      <td>225.0</td>\n      <td>1747.0</td>\n      <td>2016-01-01 00:20:00</td>\n      <td>2016-01-01 07:05:00</td>\n      <td>2016-01-01 00:24:00</td>\n      <td>2016-01-01 06:55:00</td>\n      <td>1</td>\n      <td>-10</td>\n      <td>Airbus A320</td>\n    </tr>\n    <tr>\n      <th>2658</th>\n      <td>WN</td>\n      <td>N8657B</td>\n      <td>RSW</td>\n      <td>-5</td>\n      <td>105.0</td>\n      <td>515.0</td>\n      <td>2016-01-01 05:40:00</td>\n      <td>2016-01-01 07:25:00</td>\n      <td>2016-01-01 05:35:00</td>\n      <td>2016-01-01 07:12:00</td>\n      <td>1</td>\n      <td>-13</td>\n      <td>Boeing 737 NG / Max</td>\n    </tr>\n    <tr>\n      <th>835</th>\n      <td>WN</td>\n      <td>N210WN</td>\n      <td>FLL</td>\n      <td>-3</td>\n      <td>115.0</td>\n      <td>581.0</td>\n      <td>2016-01-01 05:30:00</td>\n      <td>2016-01-01 07:25:00</td>\n      <td>2016-01-01 05:27:00</td>\n      <td>2016-01-01 07:09:00</td>\n      <td>1</td>\n      <td>-16</td>\n      <td>Boeing 737 NG / Max</td>\n    </tr>\n    <tr>\n      <th>...</th>\n      <td>...</td>\n      <td>...</td>\n      <td>...</td>\n      <td>...</td>\n      <td>...</td>\n      <td>...</td>\n      <td>...</td>\n      <td>...</td>\n      <td>...</td>\n      <td>...</td>\n      <td>...</td>\n      <td>...</td>\n      <td>...</td>\n    </tr>\n    <tr>\n      <th>11292052</th>\n      <td>DL</td>\n      <td>N391DA</td>\n      <td>SMF</td>\n      <td>-2</td>\n      <td>264.0</td>\n      <td>2092.0</td>\n      <td>2017-12-31 23:25:00</td>\n      <td>2018-01-01 06:49:00</td>\n      <td>2017-12-31 23:23:00</td>\n      <td>2018-01-01 06:23:00</td>\n      <td>2</td>\n      <td>-26</td>\n      <td>Boeing 737 NG / Max</td>\n    </tr>\n    <tr>\n      <th>11285768</th>\n      <td>AA</td>\n      <td>N3CDAA</td>\n      <td>LAX</td>\n      <td>-2</td>\n      <td>257.0</td>\n      <td>1947.0</td>\n      <td>2017-12-31 23:47:00</td>\n      <td>2018-01-01 07:04:00</td>\n      <td>2017-12-31 23:45:00</td>\n      <td>2018-01-01 06:38:00</td>\n      <td>2</td>\n      <td>-26</td>\n      <td>NaN</td>\n    </tr>\n    <tr>\n      <th>11290999</th>\n      <td>DL</td>\n      <td>N804DN</td>\n      <td>LAX</td>\n      <td>-1</td>\n      <td>246.0</td>\n      <td>1947.0</td>\n      <td>2017-12-31 23:59:00</td>\n      <td>2018-01-01 07:05:00</td>\n      <td>2017-12-31 23:58:00</td>\n      <td>2018-01-01 07:05:00</td>\n      <td>3</td>\n      <td>0</td>\n      <td>Boeing 737 NG / Max</td>\n    </tr>\n    <tr>\n      <th>11290527</th>\n      <td>DL</td>\n      <td>N862DN</td>\n      <td>SFO</td>\n      <td>-4</td>\n      <td>276.0</td>\n      <td>2139.0</td>\n      <td>2017-12-31 23:30:00</td>\n      <td>2018-01-01 07:06:00</td>\n      <td>2017-12-31 23:26:00</td>\n      <td>2018-01-01 06:33:00</td>\n      <td>4</td>\n      <td>-33</td>\n      <td>Boeing 737 NG / Max</td>\n    </tr>\n    <tr>\n      <th>11290612</th>\n      <td>DL</td>\n      <td>N828NW</td>\n      <td>HNL</td>\n      <td>-5</td>\n      <td>520.0</td>\n      <td>4502.0</td>\n      <td>2017-12-31 17:55:00</td>\n      <td>2018-01-01 07:35:00</td>\n      <td>2017-12-31 17:50:00</td>\n      <td>2018-01-01 06:56:00</td>\n      <td>5</td>\n      <td>-39</td>\n      <td>Airbus A330</td>\n    </tr>\n  </tbody>\n</table>\n<p>739429 rows × 13 columns</p>\n</div>"
     },
     "execution_count": 9,
     "metadata": {},
     "output_type": "execute_result"
    }
   ],
   "source": [
    "atl_flights_df = pd.read_pickle(os.path.join(PREP_FOLDER, \"01_flights.pkl\"))\n",
    "atl_runways_df = pd.read_pickle(os.path.join(PREP_FOLDER, \"03_runways.pkl\"))\n",
    "aircraft_df = pd.read_pickle(os.path.join(PREP_FOLDER, \"04_a_aircrafts.pkl\"))\n",
    "aircraft_numbers_df = pd.read_pickle(os.path.join(PREP_FOLDER, \"04_b_aircrafts.pkl\"))\n",
    "atl_metar_df = pd.read_pickle(os.path.join(PREP_FOLDER, \"05_metar.pkl\"))\n",
    "atl_notam_df = pd.read_pickle(os.path.join(PREP_FOLDER, \"06_notam.pkl\"))\n",
    "\n",
    "#Merging flight data with aircraft data\n",
    "atl_flights_df = atl_flights_df.join(aircraft_numbers_df[[\"Aircraft\", \"TAIL_NUM\"]].set_index(\"TAIL_NUM\"), on=\"TAIL_NUM\")\n",
    "atl_flights_df"
   ],
   "metadata": {
    "collapsed": false,
    "pycharm": {
     "name": "#%%\n"
    },
    "ExecuteTime": {
     "end_time": "2024-03-01T23:28:39.702217800Z",
     "start_time": "2024-03-01T23:28:39.288456Z"
    }
   }
  },
  {
   "cell_type": "code",
   "execution_count": 10,
   "outputs": [
    {
     "name": "stdout",
     "output_type": "stream",
     "text": [
      "Number of null values in aircraft column: 16864 of 739429 = 0.023%\n"
     ]
    }
   ],
   "source": [
    "print(\"Number of null values in aircraft column: \" + str(atl_flights_df[\"Aircraft\"].isna().sum()) + \" of \" + str(len(atl_flights_df)) + \" = {:0.3f}%\".format(atl_flights_df[\"Aircraft\"].isna().sum()/len(atl_flights_df)))"
   ],
   "metadata": {
    "collapsed": false,
    "pycharm": {
     "name": "#%%\n"
    },
    "ExecuteTime": {
     "end_time": "2024-03-01T23:28:39.851134500Z",
     "start_time": "2024-03-01T23:28:39.705230800Z"
    }
   }
  },
  {
   "cell_type": "code",
   "execution_count": 11,
   "outputs": [],
   "source": [
    "#Dropping aircrafts with null values\n",
    "atl_flights_df = atl_flights_df[atl_flights_df[\"Aircraft\"].notna()]"
   ],
   "metadata": {
    "collapsed": false,
    "pycharm": {
     "name": "#%%\n"
    },
    "ExecuteTime": {
     "end_time": "2024-03-01T23:28:39.962070400Z",
     "start_time": "2024-03-01T23:28:39.767181Z"
    }
   }
  },
  {
   "cell_type": "code",
   "execution_count": 12,
   "outputs": [
    {
     "data": {
      "text/plain": "         OP_UNIQUE_CARRIER ORIGIN  DEP_DELAY  CRS_ELAPSED_TIME  DISTANCE  \\\n12864                   DL    DEN         -8             170.0    1199.0   \n12377                   DL    SLC         -3             209.0    1590.0   \n8481                    F9    LAS          4             225.0    1747.0   \n2658                    WN    RSW         -5             105.0     515.0   \n835                     WN    FLL         -3             115.0     581.0   \n...                    ...    ...        ...               ...       ...   \n11291377                DL    LAS        -11             220.0    1747.0   \n11292052                DL    SMF         -2             264.0    2092.0   \n11290999                DL    LAX         -1             246.0    1947.0   \n11290527                DL    SFO         -4             276.0    2139.0   \n11290612                DL    HNL         -5             520.0    4502.0   \n\n                CRS_DEP_DATE        CRS_ARR_DATE        ACT_DEP_DATE  \\\n12864    2016-01-01 00:15:00 2016-01-01 05:05:00 2016-01-01 00:07:00   \n12377    2016-01-01 00:55:00 2016-01-01 06:24:00 2016-01-01 00:52:00   \n8481     2016-01-01 00:20:00 2016-01-01 07:05:00 2016-01-01 00:24:00   \n2658     2016-01-01 05:40:00 2016-01-01 07:25:00 2016-01-01 05:35:00   \n835      2016-01-01 05:30:00 2016-01-01 07:25:00 2016-01-01 05:27:00   \n...                      ...                 ...                 ...   \n11291377 2017-12-31 23:59:00 2018-01-01 06:39:00 2017-12-31 23:48:00   \n11292052 2017-12-31 23:25:00 2018-01-01 06:49:00 2017-12-31 23:23:00   \n11290999 2017-12-31 23:59:00 2018-01-01 07:05:00 2017-12-31 23:58:00   \n11290527 2017-12-31 23:30:00 2018-01-01 07:06:00 2017-12-31 23:26:00   \n11290612 2017-12-31 17:55:00 2018-01-01 07:35:00 2017-12-31 17:50:00   \n\n                ACT_ARR_DATE  PREV_FLIGHTS_1H  ARR_DELAY  \\\n12864    2016-01-01 04:33:00                0        -32   \n12377    2016-01-01 06:18:00                0         -6   \n8481     2016-01-01 06:55:00                1        -10   \n2658     2016-01-01 07:12:00                1        -13   \n835      2016-01-01 07:09:00                1        -16   \n...                      ...              ...        ...   \n11291377 2018-01-01 06:19:00                2        -20   \n11292052 2018-01-01 06:23:00                2        -26   \n11290999 2018-01-01 07:05:00                3          0   \n11290527 2018-01-01 06:33:00                4        -33   \n11290612 2018-01-01 06:56:00                5        -39   \n\n         Physical Class (Engine)  Engines  Approach Speed(Vref)  \\\n12864                        Jet        2                   136   \n12377                        Jet        2                   141   \n8481                         Jet        2                   136   \n2658                         Jet        2                   141   \n835                          Jet        2                   141   \n...                          ...      ...                   ...   \n11291377                     Jet        2                   141   \n11292052                     Jet        2                   141   \n11290999                     Jet        2                   141   \n11290527                     Jet        2                   141   \n11290612                     Jet        2                   137   \n\n         Wingtip Configuration  Wingspan, ft  Length, ft  \\\n12864           wingtip fences        111.88      123.27   \n12377              no winglets        112.58      138.17   \n8481            wingtip fences        111.88      123.27   \n2658               no winglets        112.58      138.17   \n835                no winglets        112.58      138.17   \n...                        ...           ...         ...   \n11291377           no winglets        112.58      138.17   \n11292052           no winglets        112.58      138.17   \n11290999           no winglets        112.58      138.17   \n11290527           no winglets        112.58      138.17   \n11290612              winglets        197.83      208.99   \n\n          Tail Height, ft(@ OEW)    MTOW  Parking Area (WS x Length), sf  \n12864                      39.63  171961                           13791  \n12377                      41.42  174200                           15555  \n8481                       39.63  171961                           13791  \n2658                       41.42  174200                           15555  \n835                        41.42  174200                           15555  \n...                          ...     ...                             ...  \n11291377                   41.42  174200                           15555  \n11292052                   41.42  174200                           15555  \n11290999                   41.42  174200                           15555  \n11290527                   41.42  174200                           15555  \n11290612                   56.36  533519                           41344  \n\n[722565 rows x 20 columns]",
      "text/html": "<div>\n<style scoped>\n    .dataframe tbody tr th:only-of-type {\n        vertical-align: middle;\n    }\n\n    .dataframe tbody tr th {\n        vertical-align: top;\n    }\n\n    .dataframe thead th {\n        text-align: right;\n    }\n</style>\n<table border=\"1\" class=\"dataframe\">\n  <thead>\n    <tr style=\"text-align: right;\">\n      <th></th>\n      <th>OP_UNIQUE_CARRIER</th>\n      <th>ORIGIN</th>\n      <th>DEP_DELAY</th>\n      <th>CRS_ELAPSED_TIME</th>\n      <th>DISTANCE</th>\n      <th>CRS_DEP_DATE</th>\n      <th>CRS_ARR_DATE</th>\n      <th>ACT_DEP_DATE</th>\n      <th>ACT_ARR_DATE</th>\n      <th>PREV_FLIGHTS_1H</th>\n      <th>ARR_DELAY</th>\n      <th>Physical Class (Engine)</th>\n      <th>Engines</th>\n      <th>Approach Speed(Vref)</th>\n      <th>Wingtip Configuration</th>\n      <th>Wingspan, ft</th>\n      <th>Length, ft</th>\n      <th>Tail Height, ft(@ OEW)</th>\n      <th>MTOW</th>\n      <th>Parking Area (WS x Length), sf</th>\n    </tr>\n  </thead>\n  <tbody>\n    <tr>\n      <th>12864</th>\n      <td>DL</td>\n      <td>DEN</td>\n      <td>-8</td>\n      <td>170.0</td>\n      <td>1199.0</td>\n      <td>2016-01-01 00:15:00</td>\n      <td>2016-01-01 05:05:00</td>\n      <td>2016-01-01 00:07:00</td>\n      <td>2016-01-01 04:33:00</td>\n      <td>0</td>\n      <td>-32</td>\n      <td>Jet</td>\n      <td>2</td>\n      <td>136</td>\n      <td>wingtip fences</td>\n      <td>111.88</td>\n      <td>123.27</td>\n      <td>39.63</td>\n      <td>171961</td>\n      <td>13791</td>\n    </tr>\n    <tr>\n      <th>12377</th>\n      <td>DL</td>\n      <td>SLC</td>\n      <td>-3</td>\n      <td>209.0</td>\n      <td>1590.0</td>\n      <td>2016-01-01 00:55:00</td>\n      <td>2016-01-01 06:24:00</td>\n      <td>2016-01-01 00:52:00</td>\n      <td>2016-01-01 06:18:00</td>\n      <td>0</td>\n      <td>-6</td>\n      <td>Jet</td>\n      <td>2</td>\n      <td>141</td>\n      <td>no winglets</td>\n      <td>112.58</td>\n      <td>138.17</td>\n      <td>41.42</td>\n      <td>174200</td>\n      <td>15555</td>\n    </tr>\n    <tr>\n      <th>8481</th>\n      <td>F9</td>\n      <td>LAS</td>\n      <td>4</td>\n      <td>225.0</td>\n      <td>1747.0</td>\n      <td>2016-01-01 00:20:00</td>\n      <td>2016-01-01 07:05:00</td>\n      <td>2016-01-01 00:24:00</td>\n      <td>2016-01-01 06:55:00</td>\n      <td>1</td>\n      <td>-10</td>\n      <td>Jet</td>\n      <td>2</td>\n      <td>136</td>\n      <td>wingtip fences</td>\n      <td>111.88</td>\n      <td>123.27</td>\n      <td>39.63</td>\n      <td>171961</td>\n      <td>13791</td>\n    </tr>\n    <tr>\n      <th>2658</th>\n      <td>WN</td>\n      <td>RSW</td>\n      <td>-5</td>\n      <td>105.0</td>\n      <td>515.0</td>\n      <td>2016-01-01 05:40:00</td>\n      <td>2016-01-01 07:25:00</td>\n      <td>2016-01-01 05:35:00</td>\n      <td>2016-01-01 07:12:00</td>\n      <td>1</td>\n      <td>-13</td>\n      <td>Jet</td>\n      <td>2</td>\n      <td>141</td>\n      <td>no winglets</td>\n      <td>112.58</td>\n      <td>138.17</td>\n      <td>41.42</td>\n      <td>174200</td>\n      <td>15555</td>\n    </tr>\n    <tr>\n      <th>835</th>\n      <td>WN</td>\n      <td>FLL</td>\n      <td>-3</td>\n      <td>115.0</td>\n      <td>581.0</td>\n      <td>2016-01-01 05:30:00</td>\n      <td>2016-01-01 07:25:00</td>\n      <td>2016-01-01 05:27:00</td>\n      <td>2016-01-01 07:09:00</td>\n      <td>1</td>\n      <td>-16</td>\n      <td>Jet</td>\n      <td>2</td>\n      <td>141</td>\n      <td>no winglets</td>\n      <td>112.58</td>\n      <td>138.17</td>\n      <td>41.42</td>\n      <td>174200</td>\n      <td>15555</td>\n    </tr>\n    <tr>\n      <th>...</th>\n      <td>...</td>\n      <td>...</td>\n      <td>...</td>\n      <td>...</td>\n      <td>...</td>\n      <td>...</td>\n      <td>...</td>\n      <td>...</td>\n      <td>...</td>\n      <td>...</td>\n      <td>...</td>\n      <td>...</td>\n      <td>...</td>\n      <td>...</td>\n      <td>...</td>\n      <td>...</td>\n      <td>...</td>\n      <td>...</td>\n      <td>...</td>\n      <td>...</td>\n    </tr>\n    <tr>\n      <th>11291377</th>\n      <td>DL</td>\n      <td>LAS</td>\n      <td>-11</td>\n      <td>220.0</td>\n      <td>1747.0</td>\n      <td>2017-12-31 23:59:00</td>\n      <td>2018-01-01 06:39:00</td>\n      <td>2017-12-31 23:48:00</td>\n      <td>2018-01-01 06:19:00</td>\n      <td>2</td>\n      <td>-20</td>\n      <td>Jet</td>\n      <td>2</td>\n      <td>141</td>\n      <td>no winglets</td>\n      <td>112.58</td>\n      <td>138.17</td>\n      <td>41.42</td>\n      <td>174200</td>\n      <td>15555</td>\n    </tr>\n    <tr>\n      <th>11292052</th>\n      <td>DL</td>\n      <td>SMF</td>\n      <td>-2</td>\n      <td>264.0</td>\n      <td>2092.0</td>\n      <td>2017-12-31 23:25:00</td>\n      <td>2018-01-01 06:49:00</td>\n      <td>2017-12-31 23:23:00</td>\n      <td>2018-01-01 06:23:00</td>\n      <td>2</td>\n      <td>-26</td>\n      <td>Jet</td>\n      <td>2</td>\n      <td>141</td>\n      <td>no winglets</td>\n      <td>112.58</td>\n      <td>138.17</td>\n      <td>41.42</td>\n      <td>174200</td>\n      <td>15555</td>\n    </tr>\n    <tr>\n      <th>11290999</th>\n      <td>DL</td>\n      <td>LAX</td>\n      <td>-1</td>\n      <td>246.0</td>\n      <td>1947.0</td>\n      <td>2017-12-31 23:59:00</td>\n      <td>2018-01-01 07:05:00</td>\n      <td>2017-12-31 23:58:00</td>\n      <td>2018-01-01 07:05:00</td>\n      <td>3</td>\n      <td>0</td>\n      <td>Jet</td>\n      <td>2</td>\n      <td>141</td>\n      <td>no winglets</td>\n      <td>112.58</td>\n      <td>138.17</td>\n      <td>41.42</td>\n      <td>174200</td>\n      <td>15555</td>\n    </tr>\n    <tr>\n      <th>11290527</th>\n      <td>DL</td>\n      <td>SFO</td>\n      <td>-4</td>\n      <td>276.0</td>\n      <td>2139.0</td>\n      <td>2017-12-31 23:30:00</td>\n      <td>2018-01-01 07:06:00</td>\n      <td>2017-12-31 23:26:00</td>\n      <td>2018-01-01 06:33:00</td>\n      <td>4</td>\n      <td>-33</td>\n      <td>Jet</td>\n      <td>2</td>\n      <td>141</td>\n      <td>no winglets</td>\n      <td>112.58</td>\n      <td>138.17</td>\n      <td>41.42</td>\n      <td>174200</td>\n      <td>15555</td>\n    </tr>\n    <tr>\n      <th>11290612</th>\n      <td>DL</td>\n      <td>HNL</td>\n      <td>-5</td>\n      <td>520.0</td>\n      <td>4502.0</td>\n      <td>2017-12-31 17:55:00</td>\n      <td>2018-01-01 07:35:00</td>\n      <td>2017-12-31 17:50:00</td>\n      <td>2018-01-01 06:56:00</td>\n      <td>5</td>\n      <td>-39</td>\n      <td>Jet</td>\n      <td>2</td>\n      <td>137</td>\n      <td>winglets</td>\n      <td>197.83</td>\n      <td>208.99</td>\n      <td>56.36</td>\n      <td>533519</td>\n      <td>41344</td>\n    </tr>\n  </tbody>\n</table>\n<p>722565 rows × 20 columns</p>\n</div>"
     },
     "execution_count": 12,
     "metadata": {},
     "output_type": "execute_result"
    }
   ],
   "source": [
    "aircraft_df = aircraft_df.rename(columns={\"Model\":\"Aircraft\"})\n",
    "atl_flights_df = atl_flights_df.join(aircraft_df.set_index(\"Aircraft\"), on=\"Aircraft\").drop([\"TAIL_NUM\",\"ICAO Code\",\"Aircraft\"],axis=1)\n",
    "atl_flights_df"
   ],
   "metadata": {
    "collapsed": false,
    "pycharm": {
     "name": "#%%\n"
    },
    "ExecuteTime": {
     "end_time": "2024-03-01T23:28:40.199954700Z",
     "start_time": "2024-03-01T23:28:39.904103700Z"
    }
   }
  },
  {
   "cell_type": "code",
   "execution_count": 13,
   "outputs": [
    {
     "data": {
      "text/plain": "                     date   tmpf   dwpf   relh   drct  sknt  p01i   alti  \\\n0     2016-01-01 00:00:00  51.98  42.08  68.86  320.0  10.0   0.0  30.19   \n1     2016-01-01 01:00:00  50.00  41.00  71.07  330.0   7.0   0.0  30.18   \n2     2016-01-01 02:00:00  48.92  41.00  73.99  310.0  12.0   0.0  30.18   \n3     2016-01-01 03:00:00  46.94  39.92  76.43  320.0  13.0   0.0  30.17   \n4     2016-01-01 04:00:00  46.04  39.02  76.35  320.0  10.0   0.0  30.18   \n...                   ...    ...    ...    ...    ...   ...   ...    ...   \n17515 2017-12-30 19:00:00  50.00  32.00  49.81  290.0  12.0   0.0  30.07   \n17516 2017-12-30 20:00:00  51.10  32.00  47.81  300.0  11.0   0.0  30.06   \n17517 2017-12-30 21:00:00  48.00  30.90  51.34  300.0  11.0   0.0  30.07   \n17518 2017-12-30 22:00:00  46.00  30.90  55.36  290.0   9.0   0.0  30.07   \n17519 2017-12-30 23:00:00  44.10  30.00  57.37  320.0   7.0   0.0  30.08   \n\n         mslp  vsby  ...  EVENT_FG  EVENT_FU  EVENT_GR  EVENT_GS  EVENT_HZ  \\\n0      1022.5  10.0  ...         0         0         0         0         0   \n1      1022.2  10.0  ...         0         0         0         0         0   \n2      1022.0  10.0  ...         0         0         0         0         0   \n3      1021.9  10.0  ...         0         0         0         0         0   \n4      1022.0  10.0  ...         0         0         0         0         0   \n...       ...   ...  ...       ...       ...       ...       ...       ...   \n17515  1018.6  10.0  ...         0         0         0         0         0   \n17516  1018.6  10.0  ...         0         0         0         0         0   \n17517  1018.9  10.0  ...         0         0         0         0         0   \n17518  1018.9  10.0  ...         0         0         0         0         0   \n17519  1019.5  10.0  ...         0         0         0         0         0   \n\n       EVENT_IC  EVENT_RA  EVENT_SG  EVENT_SN  EVENT_TS  \n0             0         0         0         0         0  \n1             0         0         0         0         0  \n2             0         0         0         0         0  \n3             0         0         0         0         0  \n4             0         0         0         0         0  \n...         ...       ...       ...       ...       ...  \n17515         0         0         0         0         0  \n17516         0         0         0         0         0  \n17517         0         0         0         0         0  \n17518         0         0         0         0         0  \n17519         0         0         0         0         0  \n\n[17520 rows x 23 columns]",
      "text/html": "<div>\n<style scoped>\n    .dataframe tbody tr th:only-of-type {\n        vertical-align: middle;\n    }\n\n    .dataframe tbody tr th {\n        vertical-align: top;\n    }\n\n    .dataframe thead th {\n        text-align: right;\n    }\n</style>\n<table border=\"1\" class=\"dataframe\">\n  <thead>\n    <tr style=\"text-align: right;\">\n      <th></th>\n      <th>date</th>\n      <th>tmpf</th>\n      <th>dwpf</th>\n      <th>relh</th>\n      <th>drct</th>\n      <th>sknt</th>\n      <th>p01i</th>\n      <th>alti</th>\n      <th>mslp</th>\n      <th>vsby</th>\n      <th>...</th>\n      <th>EVENT_FG</th>\n      <th>EVENT_FU</th>\n      <th>EVENT_GR</th>\n      <th>EVENT_GS</th>\n      <th>EVENT_HZ</th>\n      <th>EVENT_IC</th>\n      <th>EVENT_RA</th>\n      <th>EVENT_SG</th>\n      <th>EVENT_SN</th>\n      <th>EVENT_TS</th>\n    </tr>\n  </thead>\n  <tbody>\n    <tr>\n      <th>0</th>\n      <td>2016-01-01 00:00:00</td>\n      <td>51.98</td>\n      <td>42.08</td>\n      <td>68.86</td>\n      <td>320.0</td>\n      <td>10.0</td>\n      <td>0.0</td>\n      <td>30.19</td>\n      <td>1022.5</td>\n      <td>10.0</td>\n      <td>...</td>\n      <td>0</td>\n      <td>0</td>\n      <td>0</td>\n      <td>0</td>\n      <td>0</td>\n      <td>0</td>\n      <td>0</td>\n      <td>0</td>\n      <td>0</td>\n      <td>0</td>\n    </tr>\n    <tr>\n      <th>1</th>\n      <td>2016-01-01 01:00:00</td>\n      <td>50.00</td>\n      <td>41.00</td>\n      <td>71.07</td>\n      <td>330.0</td>\n      <td>7.0</td>\n      <td>0.0</td>\n      <td>30.18</td>\n      <td>1022.2</td>\n      <td>10.0</td>\n      <td>...</td>\n      <td>0</td>\n      <td>0</td>\n      <td>0</td>\n      <td>0</td>\n      <td>0</td>\n      <td>0</td>\n      <td>0</td>\n      <td>0</td>\n      <td>0</td>\n      <td>0</td>\n    </tr>\n    <tr>\n      <th>2</th>\n      <td>2016-01-01 02:00:00</td>\n      <td>48.92</td>\n      <td>41.00</td>\n      <td>73.99</td>\n      <td>310.0</td>\n      <td>12.0</td>\n      <td>0.0</td>\n      <td>30.18</td>\n      <td>1022.0</td>\n      <td>10.0</td>\n      <td>...</td>\n      <td>0</td>\n      <td>0</td>\n      <td>0</td>\n      <td>0</td>\n      <td>0</td>\n      <td>0</td>\n      <td>0</td>\n      <td>0</td>\n      <td>0</td>\n      <td>0</td>\n    </tr>\n    <tr>\n      <th>3</th>\n      <td>2016-01-01 03:00:00</td>\n      <td>46.94</td>\n      <td>39.92</td>\n      <td>76.43</td>\n      <td>320.0</td>\n      <td>13.0</td>\n      <td>0.0</td>\n      <td>30.17</td>\n      <td>1021.9</td>\n      <td>10.0</td>\n      <td>...</td>\n      <td>0</td>\n      <td>0</td>\n      <td>0</td>\n      <td>0</td>\n      <td>0</td>\n      <td>0</td>\n      <td>0</td>\n      <td>0</td>\n      <td>0</td>\n      <td>0</td>\n    </tr>\n    <tr>\n      <th>4</th>\n      <td>2016-01-01 04:00:00</td>\n      <td>46.04</td>\n      <td>39.02</td>\n      <td>76.35</td>\n      <td>320.0</td>\n      <td>10.0</td>\n      <td>0.0</td>\n      <td>30.18</td>\n      <td>1022.0</td>\n      <td>10.0</td>\n      <td>...</td>\n      <td>0</td>\n      <td>0</td>\n      <td>0</td>\n      <td>0</td>\n      <td>0</td>\n      <td>0</td>\n      <td>0</td>\n      <td>0</td>\n      <td>0</td>\n      <td>0</td>\n    </tr>\n    <tr>\n      <th>...</th>\n      <td>...</td>\n      <td>...</td>\n      <td>...</td>\n      <td>...</td>\n      <td>...</td>\n      <td>...</td>\n      <td>...</td>\n      <td>...</td>\n      <td>...</td>\n      <td>...</td>\n      <td>...</td>\n      <td>...</td>\n      <td>...</td>\n      <td>...</td>\n      <td>...</td>\n      <td>...</td>\n      <td>...</td>\n      <td>...</td>\n      <td>...</td>\n      <td>...</td>\n      <td>...</td>\n    </tr>\n    <tr>\n      <th>17515</th>\n      <td>2017-12-30 19:00:00</td>\n      <td>50.00</td>\n      <td>32.00</td>\n      <td>49.81</td>\n      <td>290.0</td>\n      <td>12.0</td>\n      <td>0.0</td>\n      <td>30.07</td>\n      <td>1018.6</td>\n      <td>10.0</td>\n      <td>...</td>\n      <td>0</td>\n      <td>0</td>\n      <td>0</td>\n      <td>0</td>\n      <td>0</td>\n      <td>0</td>\n      <td>0</td>\n      <td>0</td>\n      <td>0</td>\n      <td>0</td>\n    </tr>\n    <tr>\n      <th>17516</th>\n      <td>2017-12-30 20:00:00</td>\n      <td>51.10</td>\n      <td>32.00</td>\n      <td>47.81</td>\n      <td>300.0</td>\n      <td>11.0</td>\n      <td>0.0</td>\n      <td>30.06</td>\n      <td>1018.6</td>\n      <td>10.0</td>\n      <td>...</td>\n      <td>0</td>\n      <td>0</td>\n      <td>0</td>\n      <td>0</td>\n      <td>0</td>\n      <td>0</td>\n      <td>0</td>\n      <td>0</td>\n      <td>0</td>\n      <td>0</td>\n    </tr>\n    <tr>\n      <th>17517</th>\n      <td>2017-12-30 21:00:00</td>\n      <td>48.00</td>\n      <td>30.90</td>\n      <td>51.34</td>\n      <td>300.0</td>\n      <td>11.0</td>\n      <td>0.0</td>\n      <td>30.07</td>\n      <td>1018.9</td>\n      <td>10.0</td>\n      <td>...</td>\n      <td>0</td>\n      <td>0</td>\n      <td>0</td>\n      <td>0</td>\n      <td>0</td>\n      <td>0</td>\n      <td>0</td>\n      <td>0</td>\n      <td>0</td>\n      <td>0</td>\n    </tr>\n    <tr>\n      <th>17518</th>\n      <td>2017-12-30 22:00:00</td>\n      <td>46.00</td>\n      <td>30.90</td>\n      <td>55.36</td>\n      <td>290.0</td>\n      <td>9.0</td>\n      <td>0.0</td>\n      <td>30.07</td>\n      <td>1018.9</td>\n      <td>10.0</td>\n      <td>...</td>\n      <td>0</td>\n      <td>0</td>\n      <td>0</td>\n      <td>0</td>\n      <td>0</td>\n      <td>0</td>\n      <td>0</td>\n      <td>0</td>\n      <td>0</td>\n      <td>0</td>\n    </tr>\n    <tr>\n      <th>17519</th>\n      <td>2017-12-30 23:00:00</td>\n      <td>44.10</td>\n      <td>30.00</td>\n      <td>57.37</td>\n      <td>320.0</td>\n      <td>7.0</td>\n      <td>0.0</td>\n      <td>30.08</td>\n      <td>1019.5</td>\n      <td>10.0</td>\n      <td>...</td>\n      <td>0</td>\n      <td>0</td>\n      <td>0</td>\n      <td>0</td>\n      <td>0</td>\n      <td>0</td>\n      <td>0</td>\n      <td>0</td>\n      <td>0</td>\n      <td>0</td>\n    </tr>\n  </tbody>\n</table>\n<p>17520 rows × 23 columns</p>\n</div>"
     },
     "execution_count": 13,
     "metadata": {},
     "output_type": "execute_result"
    }
   ],
   "source": [
    "atl_metar_df = atl_metar_df.reset_index()\n",
    "atl_metar_df[\"date\"] = pd.to_datetime(atl_metar_df[\"date\"] + \" \" + atl_metar_df[\"time\"], format=\"%Y-%m-%d %H\")\n",
    "atl_metar_df = atl_metar_df.drop([\"time\",\"wxcodes\"], axis=\"columns\")\n",
    "atl_metar_df"
   ],
   "metadata": {
    "collapsed": false,
    "pycharm": {
     "name": "#%%\n"
    },
    "ExecuteTime": {
     "end_time": "2024-03-01T23:28:40.348580900Z",
     "start_time": "2024-03-01T23:28:40.202950800Z"
    }
   }
  },
  {
   "cell_type": "code",
   "execution_count": 14,
   "outputs": [
    {
     "data": {
      "text/plain": "                     date   tmpf   dwpf    relh   drct  sknt  p01i    alti  \\\n8784  2017-01-01 00:00:00  43.00  36.00  76.120  140.0   6.0  0.00  30.100   \n8785  2017-01-01 01:00:00  42.10  36.00  78.800  150.0   6.0  0.01  30.110   \n8786  2017-01-01 02:00:00  41.00  37.00  85.540  140.0   6.0  0.02  30.110   \n8787  2017-01-01 03:00:00  42.10  37.90  84.930  150.0   8.0  0.02  30.110   \n8788  2017-01-01 04:00:00  41.55  39.45  92.245  150.0   7.0  0.02  30.105   \n...                   ...    ...    ...     ...    ...   ...   ...     ...   \n17515 2017-12-30 19:00:00  50.00  32.00  49.810  290.0  12.0  0.00  30.070   \n17516 2017-12-30 20:00:00  51.10  32.00  47.810  300.0  11.0  0.00  30.060   \n17517 2017-12-30 21:00:00  48.00  30.90  51.340  300.0  11.0  0.00  30.070   \n17518 2017-12-30 22:00:00  46.00  30.90  55.360  290.0   9.0  0.00  30.070   \n17519 2017-12-30 23:00:00  44.10  30.00  57.370  320.0   7.0  0.00  30.080   \n\n         mslp  vsby  ...  EVENT_FG  EVENT_FU  EVENT_GR  EVENT_GS  EVENT_HZ  \\\n8784   1020.2  10.0  ...         0         0         0         0         0   \n8785   1020.1  10.0  ...         0         0         0         0         0   \n8786   1020.0   9.0  ...         0         0         0         0         0   \n8787   1020.0  10.0  ...         0         0         0         0         0   \n8788   1019.8   9.0  ...         0         0         0         0         0   \n...       ...   ...  ...       ...       ...       ...       ...       ...   \n17515  1018.6  10.0  ...         0         0         0         0         0   \n17516  1018.6  10.0  ...         0         0         0         0         0   \n17517  1018.9  10.0  ...         0         0         0         0         0   \n17518  1018.9  10.0  ...         0         0         0         0         0   \n17519  1019.5  10.0  ...         0         0         0         0         0   \n\n       EVENT_IC  EVENT_RA  EVENT_SG  EVENT_SN  EVENT_TS  \n8784          0         0         0         0         0  \n8785          0         1         0         0         0  \n8786          0         1         0         0         0  \n8787          0         1         0         0         0  \n8788          0         1         0         0         0  \n...         ...       ...       ...       ...       ...  \n17515         0         0         0         0         0  \n17516         0         0         0         0         0  \n17517         0         0         0         0         0  \n17518         0         0         0         0         0  \n17519         0         0         0         0         0  \n\n[8736 rows x 23 columns]",
      "text/html": "<div>\n<style scoped>\n    .dataframe tbody tr th:only-of-type {\n        vertical-align: middle;\n    }\n\n    .dataframe tbody tr th {\n        vertical-align: top;\n    }\n\n    .dataframe thead th {\n        text-align: right;\n    }\n</style>\n<table border=\"1\" class=\"dataframe\">\n  <thead>\n    <tr style=\"text-align: right;\">\n      <th></th>\n      <th>date</th>\n      <th>tmpf</th>\n      <th>dwpf</th>\n      <th>relh</th>\n      <th>drct</th>\n      <th>sknt</th>\n      <th>p01i</th>\n      <th>alti</th>\n      <th>mslp</th>\n      <th>vsby</th>\n      <th>...</th>\n      <th>EVENT_FG</th>\n      <th>EVENT_FU</th>\n      <th>EVENT_GR</th>\n      <th>EVENT_GS</th>\n      <th>EVENT_HZ</th>\n      <th>EVENT_IC</th>\n      <th>EVENT_RA</th>\n      <th>EVENT_SG</th>\n      <th>EVENT_SN</th>\n      <th>EVENT_TS</th>\n    </tr>\n  </thead>\n  <tbody>\n    <tr>\n      <th>8784</th>\n      <td>2017-01-01 00:00:00</td>\n      <td>43.00</td>\n      <td>36.00</td>\n      <td>76.120</td>\n      <td>140.0</td>\n      <td>6.0</td>\n      <td>0.00</td>\n      <td>30.100</td>\n      <td>1020.2</td>\n      <td>10.0</td>\n      <td>...</td>\n      <td>0</td>\n      <td>0</td>\n      <td>0</td>\n      <td>0</td>\n      <td>0</td>\n      <td>0</td>\n      <td>0</td>\n      <td>0</td>\n      <td>0</td>\n      <td>0</td>\n    </tr>\n    <tr>\n      <th>8785</th>\n      <td>2017-01-01 01:00:00</td>\n      <td>42.10</td>\n      <td>36.00</td>\n      <td>78.800</td>\n      <td>150.0</td>\n      <td>6.0</td>\n      <td>0.01</td>\n      <td>30.110</td>\n      <td>1020.1</td>\n      <td>10.0</td>\n      <td>...</td>\n      <td>0</td>\n      <td>0</td>\n      <td>0</td>\n      <td>0</td>\n      <td>0</td>\n      <td>0</td>\n      <td>1</td>\n      <td>0</td>\n      <td>0</td>\n      <td>0</td>\n    </tr>\n    <tr>\n      <th>8786</th>\n      <td>2017-01-01 02:00:00</td>\n      <td>41.00</td>\n      <td>37.00</td>\n      <td>85.540</td>\n      <td>140.0</td>\n      <td>6.0</td>\n      <td>0.02</td>\n      <td>30.110</td>\n      <td>1020.0</td>\n      <td>9.0</td>\n      <td>...</td>\n      <td>0</td>\n      <td>0</td>\n      <td>0</td>\n      <td>0</td>\n      <td>0</td>\n      <td>0</td>\n      <td>1</td>\n      <td>0</td>\n      <td>0</td>\n      <td>0</td>\n    </tr>\n    <tr>\n      <th>8787</th>\n      <td>2017-01-01 03:00:00</td>\n      <td>42.10</td>\n      <td>37.90</td>\n      <td>84.930</td>\n      <td>150.0</td>\n      <td>8.0</td>\n      <td>0.02</td>\n      <td>30.110</td>\n      <td>1020.0</td>\n      <td>10.0</td>\n      <td>...</td>\n      <td>0</td>\n      <td>0</td>\n      <td>0</td>\n      <td>0</td>\n      <td>0</td>\n      <td>0</td>\n      <td>1</td>\n      <td>0</td>\n      <td>0</td>\n      <td>0</td>\n    </tr>\n    <tr>\n      <th>8788</th>\n      <td>2017-01-01 04:00:00</td>\n      <td>41.55</td>\n      <td>39.45</td>\n      <td>92.245</td>\n      <td>150.0</td>\n      <td>7.0</td>\n      <td>0.02</td>\n      <td>30.105</td>\n      <td>1019.8</td>\n      <td>9.0</td>\n      <td>...</td>\n      <td>0</td>\n      <td>0</td>\n      <td>0</td>\n      <td>0</td>\n      <td>0</td>\n      <td>0</td>\n      <td>1</td>\n      <td>0</td>\n      <td>0</td>\n      <td>0</td>\n    </tr>\n    <tr>\n      <th>...</th>\n      <td>...</td>\n      <td>...</td>\n      <td>...</td>\n      <td>...</td>\n      <td>...</td>\n      <td>...</td>\n      <td>...</td>\n      <td>...</td>\n      <td>...</td>\n      <td>...</td>\n      <td>...</td>\n      <td>...</td>\n      <td>...</td>\n      <td>...</td>\n      <td>...</td>\n      <td>...</td>\n      <td>...</td>\n      <td>...</td>\n      <td>...</td>\n      <td>...</td>\n      <td>...</td>\n    </tr>\n    <tr>\n      <th>17515</th>\n      <td>2017-12-30 19:00:00</td>\n      <td>50.00</td>\n      <td>32.00</td>\n      <td>49.810</td>\n      <td>290.0</td>\n      <td>12.0</td>\n      <td>0.00</td>\n      <td>30.070</td>\n      <td>1018.6</td>\n      <td>10.0</td>\n      <td>...</td>\n      <td>0</td>\n      <td>0</td>\n      <td>0</td>\n      <td>0</td>\n      <td>0</td>\n      <td>0</td>\n      <td>0</td>\n      <td>0</td>\n      <td>0</td>\n      <td>0</td>\n    </tr>\n    <tr>\n      <th>17516</th>\n      <td>2017-12-30 20:00:00</td>\n      <td>51.10</td>\n      <td>32.00</td>\n      <td>47.810</td>\n      <td>300.0</td>\n      <td>11.0</td>\n      <td>0.00</td>\n      <td>30.060</td>\n      <td>1018.6</td>\n      <td>10.0</td>\n      <td>...</td>\n      <td>0</td>\n      <td>0</td>\n      <td>0</td>\n      <td>0</td>\n      <td>0</td>\n      <td>0</td>\n      <td>0</td>\n      <td>0</td>\n      <td>0</td>\n      <td>0</td>\n    </tr>\n    <tr>\n      <th>17517</th>\n      <td>2017-12-30 21:00:00</td>\n      <td>48.00</td>\n      <td>30.90</td>\n      <td>51.340</td>\n      <td>300.0</td>\n      <td>11.0</td>\n      <td>0.00</td>\n      <td>30.070</td>\n      <td>1018.9</td>\n      <td>10.0</td>\n      <td>...</td>\n      <td>0</td>\n      <td>0</td>\n      <td>0</td>\n      <td>0</td>\n      <td>0</td>\n      <td>0</td>\n      <td>0</td>\n      <td>0</td>\n      <td>0</td>\n      <td>0</td>\n    </tr>\n    <tr>\n      <th>17518</th>\n      <td>2017-12-30 22:00:00</td>\n      <td>46.00</td>\n      <td>30.90</td>\n      <td>55.360</td>\n      <td>290.0</td>\n      <td>9.0</td>\n      <td>0.00</td>\n      <td>30.070</td>\n      <td>1018.9</td>\n      <td>10.0</td>\n      <td>...</td>\n      <td>0</td>\n      <td>0</td>\n      <td>0</td>\n      <td>0</td>\n      <td>0</td>\n      <td>0</td>\n      <td>0</td>\n      <td>0</td>\n      <td>0</td>\n      <td>0</td>\n    </tr>\n    <tr>\n      <th>17519</th>\n      <td>2017-12-30 23:00:00</td>\n      <td>44.10</td>\n      <td>30.00</td>\n      <td>57.370</td>\n      <td>320.0</td>\n      <td>7.0</td>\n      <td>0.00</td>\n      <td>30.080</td>\n      <td>1019.5</td>\n      <td>10.0</td>\n      <td>...</td>\n      <td>0</td>\n      <td>0</td>\n      <td>0</td>\n      <td>0</td>\n      <td>0</td>\n      <td>0</td>\n      <td>0</td>\n      <td>0</td>\n      <td>0</td>\n      <td>0</td>\n    </tr>\n  </tbody>\n</table>\n<p>8736 rows × 23 columns</p>\n</div>"
     },
     "execution_count": 14,
     "metadata": {},
     "output_type": "execute_result"
    }
   ],
   "source": [
    "atl_flights_df = atl_flights_df[atl_flights_df[\"CRS_DEP_DATE\"].apply(lambda x: x.year == 2017)]\n",
    "atl_metar_df = atl_metar_df[atl_metar_df[\"date\"].apply(lambda x: x.year == 2017)]\n",
    "atl_metar_df"
   ],
   "metadata": {
    "collapsed": false,
    "pycharm": {
     "name": "#%%\n"
    },
    "ExecuteTime": {
     "end_time": "2024-03-01T23:28:42.552538800Z",
     "start_time": "2024-03-01T23:28:40.262917700Z"
    }
   }
  },
  {
   "cell_type": "code",
   "execution_count": 15,
   "outputs": [],
   "source": [
    "all_flight_dates = atl_flights_df[\"CRS_DEP_DATE\"].to_numpy()\n",
    "all_metar_dates = atl_metar_df[\"date\"].to_numpy()\n",
    "indexes_of_min_deltas = [np.argmin(np.absolute(all_metar_dates - date)) for date in all_flight_dates]"
   ],
   "metadata": {
    "collapsed": false,
    "pycharm": {
     "name": "#%%\n"
    },
    "ExecuteTime": {
     "end_time": "2024-03-01T23:28:53.547182900Z",
     "start_time": "2024-03-01T23:28:42.551539300Z"
    }
   }
  },
  {
   "cell_type": "code",
   "execution_count": 16,
   "outputs": [
    {
     "data": {
      "text/plain": "array(['2017-01-01T05:00:00.000000000', '2017-01-01T05:00:00.000000000',\n       '2017-01-01T06:00:00.000000000', ...,\n       '2017-12-30T23:00:00.000000000', '2017-12-30T23:00:00.000000000',\n       '2017-12-30T23:00:00.000000000'], dtype='datetime64[ns]')"
     },
     "execution_count": 16,
     "metadata": {},
     "output_type": "execute_result"
    }
   ],
   "source": [
    "closest_date = all_metar_dates[indexes_of_min_deltas]\n",
    "closest_date"
   ],
   "metadata": {
    "collapsed": false,
    "pycharm": {
     "name": "#%%\n"
    },
    "ExecuteTime": {
     "end_time": "2024-03-01T23:28:53.596155700Z",
     "start_time": "2024-03-01T23:28:53.550180Z"
    }
   }
  },
  {
   "cell_type": "code",
   "execution_count": 17,
   "outputs": [
    {
     "name": "stderr",
     "output_type": "stream",
     "text": [
      "C:\\Users\\chrig\\AppData\\Local\\Temp\\ipykernel_19472\\125089621.py:1: SettingWithCopyWarning: \n",
      "A value is trying to be set on a copy of a slice from a DataFrame.\n",
      "Try using .loc[row_indexer,col_indexer] = value instead\n",
      "\n",
      "See the caveats in the documentation: https://pandas.pydata.org/pandas-docs/stable/user_guide/indexing.html#returning-a-view-versus-a-copy\n",
      "  atl_flights_df[\"MERGE_DATES\"] = closest_date\n"
     ]
    },
    {
     "data": {
      "text/plain": "         OP_UNIQUE_CARRIER ORIGIN  DEP_DELAY  CRS_ELAPSED_TIME  DISTANCE  \\\n5612585                 F9    LAS          0             230.0    1747.0   \n5614966                 DL    SFO         -3             268.0    2139.0   \n5616651                 DL    SAN         -6             241.0    1892.0   \n5616326                 DL    SFO         -5             270.0    2139.0   \n5613460                 UA    SFO          6             278.0    2139.0   \n...                    ...    ...        ...               ...       ...   \n11289608                NK    BWI         -5             122.0     577.0   \n11284363                WN    MDW         20             110.0     591.0   \n11283412                WN    DEN         43             170.0    1199.0   \n11286614                B6    BOS         43             179.0     946.0   \n11291238                DL    MSP         -1             163.0     907.0   \n\n                CRS_DEP_DATE        CRS_ARR_DATE        ACT_DEP_DATE  \\\n5612585  2016-12-31 21:45:00 2017-01-01 04:35:00 2016-12-31 21:45:00   \n5614966  2016-12-31 21:45:00 2017-01-01 05:13:00 2016-12-31 21:42:00   \n5616651  2016-12-31 23:00:00 2017-01-01 06:01:00 2016-12-31 22:54:00   \n5616326  2016-12-31 22:35:00 2017-01-01 06:05:00 2016-12-31 22:30:00   \n5613460  2016-12-31 22:42:00 2017-01-01 06:20:00 2016-12-31 22:48:00   \n...                      ...                 ...                 ...   \n11289608 2017-12-31 21:35:00 2017-12-31 23:37:00 2017-12-31 21:30:00   \n11284363 2017-12-31 20:55:00 2017-12-31 23:45:00 2017-12-31 21:15:00   \n11283412 2017-12-31 18:55:00 2017-12-31 23:45:00 2017-12-31 19:38:00   \n11286614 2017-12-31 20:50:00 2017-12-31 23:49:00 2017-12-31 21:33:00   \n11291238 2017-12-31 20:15:00 2017-12-31 23:58:00 2017-12-31 20:14:00   \n\n                ACT_ARR_DATE  PREV_FLIGHTS_1H  ...  EVENT_FG EVENT_FU  \\\n5612585  2017-01-01 04:25:00                0  ...         0        0   \n5614966  2017-01-01 05:05:00                2  ...         0        0   \n5616651  2017-01-01 05:41:00                2  ...         0        0   \n5616326  2017-01-01 05:58:00                2  ...         0        0   \n5613460  2017-01-01 06:14:00                2  ...         0        0   \n...                      ...              ...  ...       ...      ...   \n11289608 2017-12-31 23:27:00                8  ...         0        0   \n11284363 2017-12-31 23:50:00                8  ...         0        0   \n11283412 2018-01-01 00:02:00                8  ...         0        0   \n11286614 2018-01-01 00:19:00               11  ...         0        0   \n11291238 2017-12-31 23:29:00               12  ...         0        0   \n\n          EVENT_GR  EVENT_GS EVENT_HZ  EVENT_IC  EVENT_RA  EVENT_SG  EVENT_SN  \\\n5612585          0         0        0         0         1         0         0   \n5614966          0         0        0         0         1         0         0   \n5616651          0         0        0         0         1         0         0   \n5616326          0         0        0         0         1         0         0   \n5613460          0         0        0         0         1         0         0   \n...            ...       ...      ...       ...       ...       ...       ...   \n11289608         0         0        0         0         0         0         0   \n11284363         0         0        0         0         0         0         0   \n11283412         0         0        0         0         0         0         0   \n11286614         0         0        0         0         0         0         0   \n11291238         0         0        0         0         0         0         0   \n\n          EVENT_TS  \n5612585          0  \n5614966          0  \n5616651          0  \n5616326          0  \n5613460          0  \n...            ...  \n11289608         0  \n11284363         0  \n11283412         0  \n11286614         0  \n11291238         0  \n\n[348136 rows x 42 columns]",
      "text/html": "<div>\n<style scoped>\n    .dataframe tbody tr th:only-of-type {\n        vertical-align: middle;\n    }\n\n    .dataframe tbody tr th {\n        vertical-align: top;\n    }\n\n    .dataframe thead th {\n        text-align: right;\n    }\n</style>\n<table border=\"1\" class=\"dataframe\">\n  <thead>\n    <tr style=\"text-align: right;\">\n      <th></th>\n      <th>OP_UNIQUE_CARRIER</th>\n      <th>ORIGIN</th>\n      <th>DEP_DELAY</th>\n      <th>CRS_ELAPSED_TIME</th>\n      <th>DISTANCE</th>\n      <th>CRS_DEP_DATE</th>\n      <th>CRS_ARR_DATE</th>\n      <th>ACT_DEP_DATE</th>\n      <th>ACT_ARR_DATE</th>\n      <th>PREV_FLIGHTS_1H</th>\n      <th>...</th>\n      <th>EVENT_FG</th>\n      <th>EVENT_FU</th>\n      <th>EVENT_GR</th>\n      <th>EVENT_GS</th>\n      <th>EVENT_HZ</th>\n      <th>EVENT_IC</th>\n      <th>EVENT_RA</th>\n      <th>EVENT_SG</th>\n      <th>EVENT_SN</th>\n      <th>EVENT_TS</th>\n    </tr>\n  </thead>\n  <tbody>\n    <tr>\n      <th>5612585</th>\n      <td>F9</td>\n      <td>LAS</td>\n      <td>0</td>\n      <td>230.0</td>\n      <td>1747.0</td>\n      <td>2016-12-31 21:45:00</td>\n      <td>2017-01-01 04:35:00</td>\n      <td>2016-12-31 21:45:00</td>\n      <td>2017-01-01 04:25:00</td>\n      <td>0</td>\n      <td>...</td>\n      <td>0</td>\n      <td>0</td>\n      <td>0</td>\n      <td>0</td>\n      <td>0</td>\n      <td>0</td>\n      <td>1</td>\n      <td>0</td>\n      <td>0</td>\n      <td>0</td>\n    </tr>\n    <tr>\n      <th>5614966</th>\n      <td>DL</td>\n      <td>SFO</td>\n      <td>-3</td>\n      <td>268.0</td>\n      <td>2139.0</td>\n      <td>2016-12-31 21:45:00</td>\n      <td>2017-01-01 05:13:00</td>\n      <td>2016-12-31 21:42:00</td>\n      <td>2017-01-01 05:05:00</td>\n      <td>2</td>\n      <td>...</td>\n      <td>0</td>\n      <td>0</td>\n      <td>0</td>\n      <td>0</td>\n      <td>0</td>\n      <td>0</td>\n      <td>1</td>\n      <td>0</td>\n      <td>0</td>\n      <td>0</td>\n    </tr>\n    <tr>\n      <th>5616651</th>\n      <td>DL</td>\n      <td>SAN</td>\n      <td>-6</td>\n      <td>241.0</td>\n      <td>1892.0</td>\n      <td>2016-12-31 23:00:00</td>\n      <td>2017-01-01 06:01:00</td>\n      <td>2016-12-31 22:54:00</td>\n      <td>2017-01-01 05:41:00</td>\n      <td>2</td>\n      <td>...</td>\n      <td>0</td>\n      <td>0</td>\n      <td>0</td>\n      <td>0</td>\n      <td>0</td>\n      <td>0</td>\n      <td>1</td>\n      <td>0</td>\n      <td>0</td>\n      <td>0</td>\n    </tr>\n    <tr>\n      <th>5616326</th>\n      <td>DL</td>\n      <td>SFO</td>\n      <td>-5</td>\n      <td>270.0</td>\n      <td>2139.0</td>\n      <td>2016-12-31 22:35:00</td>\n      <td>2017-01-01 06:05:00</td>\n      <td>2016-12-31 22:30:00</td>\n      <td>2017-01-01 05:58:00</td>\n      <td>2</td>\n      <td>...</td>\n      <td>0</td>\n      <td>0</td>\n      <td>0</td>\n      <td>0</td>\n      <td>0</td>\n      <td>0</td>\n      <td>1</td>\n      <td>0</td>\n      <td>0</td>\n      <td>0</td>\n    </tr>\n    <tr>\n      <th>5613460</th>\n      <td>UA</td>\n      <td>SFO</td>\n      <td>6</td>\n      <td>278.0</td>\n      <td>2139.0</td>\n      <td>2016-12-31 22:42:00</td>\n      <td>2017-01-01 06:20:00</td>\n      <td>2016-12-31 22:48:00</td>\n      <td>2017-01-01 06:14:00</td>\n      <td>2</td>\n      <td>...</td>\n      <td>0</td>\n      <td>0</td>\n      <td>0</td>\n      <td>0</td>\n      <td>0</td>\n      <td>0</td>\n      <td>1</td>\n      <td>0</td>\n      <td>0</td>\n      <td>0</td>\n    </tr>\n    <tr>\n      <th>...</th>\n      <td>...</td>\n      <td>...</td>\n      <td>...</td>\n      <td>...</td>\n      <td>...</td>\n      <td>...</td>\n      <td>...</td>\n      <td>...</td>\n      <td>...</td>\n      <td>...</td>\n      <td>...</td>\n      <td>...</td>\n      <td>...</td>\n      <td>...</td>\n      <td>...</td>\n      <td>...</td>\n      <td>...</td>\n      <td>...</td>\n      <td>...</td>\n      <td>...</td>\n      <td>...</td>\n    </tr>\n    <tr>\n      <th>11289608</th>\n      <td>NK</td>\n      <td>BWI</td>\n      <td>-5</td>\n      <td>122.0</td>\n      <td>577.0</td>\n      <td>2017-12-31 21:35:00</td>\n      <td>2017-12-31 23:37:00</td>\n      <td>2017-12-31 21:30:00</td>\n      <td>2017-12-31 23:27:00</td>\n      <td>8</td>\n      <td>...</td>\n      <td>0</td>\n      <td>0</td>\n      <td>0</td>\n      <td>0</td>\n      <td>0</td>\n      <td>0</td>\n      <td>0</td>\n      <td>0</td>\n      <td>0</td>\n      <td>0</td>\n    </tr>\n    <tr>\n      <th>11284363</th>\n      <td>WN</td>\n      <td>MDW</td>\n      <td>20</td>\n      <td>110.0</td>\n      <td>591.0</td>\n      <td>2017-12-31 20:55:00</td>\n      <td>2017-12-31 23:45:00</td>\n      <td>2017-12-31 21:15:00</td>\n      <td>2017-12-31 23:50:00</td>\n      <td>8</td>\n      <td>...</td>\n      <td>0</td>\n      <td>0</td>\n      <td>0</td>\n      <td>0</td>\n      <td>0</td>\n      <td>0</td>\n      <td>0</td>\n      <td>0</td>\n      <td>0</td>\n      <td>0</td>\n    </tr>\n    <tr>\n      <th>11283412</th>\n      <td>WN</td>\n      <td>DEN</td>\n      <td>43</td>\n      <td>170.0</td>\n      <td>1199.0</td>\n      <td>2017-12-31 18:55:00</td>\n      <td>2017-12-31 23:45:00</td>\n      <td>2017-12-31 19:38:00</td>\n      <td>2018-01-01 00:02:00</td>\n      <td>8</td>\n      <td>...</td>\n      <td>0</td>\n      <td>0</td>\n      <td>0</td>\n      <td>0</td>\n      <td>0</td>\n      <td>0</td>\n      <td>0</td>\n      <td>0</td>\n      <td>0</td>\n      <td>0</td>\n    </tr>\n    <tr>\n      <th>11286614</th>\n      <td>B6</td>\n      <td>BOS</td>\n      <td>43</td>\n      <td>179.0</td>\n      <td>946.0</td>\n      <td>2017-12-31 20:50:00</td>\n      <td>2017-12-31 23:49:00</td>\n      <td>2017-12-31 21:33:00</td>\n      <td>2018-01-01 00:19:00</td>\n      <td>11</td>\n      <td>...</td>\n      <td>0</td>\n      <td>0</td>\n      <td>0</td>\n      <td>0</td>\n      <td>0</td>\n      <td>0</td>\n      <td>0</td>\n      <td>0</td>\n      <td>0</td>\n      <td>0</td>\n    </tr>\n    <tr>\n      <th>11291238</th>\n      <td>DL</td>\n      <td>MSP</td>\n      <td>-1</td>\n      <td>163.0</td>\n      <td>907.0</td>\n      <td>2017-12-31 20:15:00</td>\n      <td>2017-12-31 23:58:00</td>\n      <td>2017-12-31 20:14:00</td>\n      <td>2017-12-31 23:29:00</td>\n      <td>12</td>\n      <td>...</td>\n      <td>0</td>\n      <td>0</td>\n      <td>0</td>\n      <td>0</td>\n      <td>0</td>\n      <td>0</td>\n      <td>0</td>\n      <td>0</td>\n      <td>0</td>\n      <td>0</td>\n    </tr>\n  </tbody>\n</table>\n<p>348136 rows × 42 columns</p>\n</div>"
     },
     "execution_count": 17,
     "metadata": {},
     "output_type": "execute_result"
    }
   ],
   "source": [
    "atl_flights_df[\"MERGE_DATES\"] = closest_date\n",
    "atl_flights_df = atl_flights_df.join(atl_metar_df.set_index(\"date\"), on=\"MERGE_DATES\").drop([\"MERGE_DATES\"], axis=\"columns\")\n",
    "atl_flights_df"
   ],
   "metadata": {
    "collapsed": false,
    "pycharm": {
     "name": "#%%\n"
    },
    "ExecuteTime": {
     "end_time": "2024-03-01T23:28:53.883521600Z",
     "start_time": "2024-03-01T23:28:53.581163Z"
    }
   }
  },
  {
   "cell_type": "code",
   "execution_count": 13,
   "outputs": [
    {
     "data": {
      "text/plain": "      index NOTAM_Effective_Date NOTAM_Effective_Time NOTAM_Expiration_Date  \\\n0        28  2017-01-01 17:00:00                   17   2017-01-02 17:00:00   \n1        29  2017-01-01 17:00:00                   17   2017-01-02 17:00:00   \n2        30  2017-01-01 17:00:00                   17   2017-01-02 17:00:00   \n3        31  2017-01-01 17:00:00                   17   2017-01-02 17:00:00   \n4        32  2017-01-01 17:00:00                   17   2017-01-02 17:00:00   \n...     ...                  ...                  ...                   ...   \n3563  16115  2017-12-27 06:00:00                   06   2017-12-28 06:00:00   \n3564  16127  2017-12-27 03:00:00                   03   2017-12-28 03:00:00   \n3565  16128  2017-12-27 03:00:00                   03   2017-12-28 03:00:00   \n3566  16130  2017-12-27 03:00:00                   03   2017-12-28 03:00:00   \n3567  16131  2017-12-27 03:00:00                   03   2017-12-28 03:00:00   \n\n     NOTAM_Expiration_Time  08L/26R  08R/26L  09L/27R  09R/27L  10/28  \n0                       17      0.0      0.0      0.0      1.0    0.0  \n1                       17      0.0      0.0      1.0      0.0    0.0  \n2                       17      0.0      1.0      0.0      0.0    0.0  \n3                       17      1.0      0.0      0.0      0.0    0.0  \n4                       17      0.0      0.0      0.0      0.0    1.0  \n...                    ...      ...      ...      ...      ...    ...  \n3563                    08      3.0      0.0      0.0      0.0    0.0  \n3564                    23      2.0      0.0      0.0      0.0    0.0  \n3565                    23      0.0      2.0      0.0      0.0    0.0  \n3566                    23      2.0      0.0      0.0      0.0    0.0  \n3567                    23      0.0      2.0      0.0      0.0    0.0  \n\n[3568 rows x 10 columns]",
      "text/html": "<div>\n<style scoped>\n    .dataframe tbody tr th:only-of-type {\n        vertical-align: middle;\n    }\n\n    .dataframe tbody tr th {\n        vertical-align: top;\n    }\n\n    .dataframe thead th {\n        text-align: right;\n    }\n</style>\n<table border=\"1\" class=\"dataframe\">\n  <thead>\n    <tr style=\"text-align: right;\">\n      <th></th>\n      <th>index</th>\n      <th>NOTAM_Effective_Date</th>\n      <th>NOTAM_Effective_Time</th>\n      <th>NOTAM_Expiration_Date</th>\n      <th>NOTAM_Expiration_Time</th>\n      <th>08L/26R</th>\n      <th>08R/26L</th>\n      <th>09L/27R</th>\n      <th>09R/27L</th>\n      <th>10/28</th>\n    </tr>\n  </thead>\n  <tbody>\n    <tr>\n      <th>0</th>\n      <td>28</td>\n      <td>2017-01-01 17:00:00</td>\n      <td>17</td>\n      <td>2017-01-02 17:00:00</td>\n      <td>17</td>\n      <td>0.0</td>\n      <td>0.0</td>\n      <td>0.0</td>\n      <td>1.0</td>\n      <td>0.0</td>\n    </tr>\n    <tr>\n      <th>1</th>\n      <td>29</td>\n      <td>2017-01-01 17:00:00</td>\n      <td>17</td>\n      <td>2017-01-02 17:00:00</td>\n      <td>17</td>\n      <td>0.0</td>\n      <td>0.0</td>\n      <td>1.0</td>\n      <td>0.0</td>\n      <td>0.0</td>\n    </tr>\n    <tr>\n      <th>2</th>\n      <td>30</td>\n      <td>2017-01-01 17:00:00</td>\n      <td>17</td>\n      <td>2017-01-02 17:00:00</td>\n      <td>17</td>\n      <td>0.0</td>\n      <td>1.0</td>\n      <td>0.0</td>\n      <td>0.0</td>\n      <td>0.0</td>\n    </tr>\n    <tr>\n      <th>3</th>\n      <td>31</td>\n      <td>2017-01-01 17:00:00</td>\n      <td>17</td>\n      <td>2017-01-02 17:00:00</td>\n      <td>17</td>\n      <td>1.0</td>\n      <td>0.0</td>\n      <td>0.0</td>\n      <td>0.0</td>\n      <td>0.0</td>\n    </tr>\n    <tr>\n      <th>4</th>\n      <td>32</td>\n      <td>2017-01-01 17:00:00</td>\n      <td>17</td>\n      <td>2017-01-02 17:00:00</td>\n      <td>17</td>\n      <td>0.0</td>\n      <td>0.0</td>\n      <td>0.0</td>\n      <td>0.0</td>\n      <td>1.0</td>\n    </tr>\n    <tr>\n      <th>...</th>\n      <td>...</td>\n      <td>...</td>\n      <td>...</td>\n      <td>...</td>\n      <td>...</td>\n      <td>...</td>\n      <td>...</td>\n      <td>...</td>\n      <td>...</td>\n      <td>...</td>\n    </tr>\n    <tr>\n      <th>3563</th>\n      <td>16115</td>\n      <td>2017-12-27 06:00:00</td>\n      <td>06</td>\n      <td>2017-12-28 06:00:00</td>\n      <td>08</td>\n      <td>3.0</td>\n      <td>0.0</td>\n      <td>0.0</td>\n      <td>0.0</td>\n      <td>0.0</td>\n    </tr>\n    <tr>\n      <th>3564</th>\n      <td>16127</td>\n      <td>2017-12-27 03:00:00</td>\n      <td>03</td>\n      <td>2017-12-28 03:00:00</td>\n      <td>23</td>\n      <td>2.0</td>\n      <td>0.0</td>\n      <td>0.0</td>\n      <td>0.0</td>\n      <td>0.0</td>\n    </tr>\n    <tr>\n      <th>3565</th>\n      <td>16128</td>\n      <td>2017-12-27 03:00:00</td>\n      <td>03</td>\n      <td>2017-12-28 03:00:00</td>\n      <td>23</td>\n      <td>0.0</td>\n      <td>2.0</td>\n      <td>0.0</td>\n      <td>0.0</td>\n      <td>0.0</td>\n    </tr>\n    <tr>\n      <th>3566</th>\n      <td>16130</td>\n      <td>2017-12-27 03:00:00</td>\n      <td>03</td>\n      <td>2017-12-28 03:00:00</td>\n      <td>23</td>\n      <td>2.0</td>\n      <td>0.0</td>\n      <td>0.0</td>\n      <td>0.0</td>\n      <td>0.0</td>\n    </tr>\n    <tr>\n      <th>3567</th>\n      <td>16131</td>\n      <td>2017-12-27 03:00:00</td>\n      <td>03</td>\n      <td>2017-12-28 03:00:00</td>\n      <td>23</td>\n      <td>0.0</td>\n      <td>2.0</td>\n      <td>0.0</td>\n      <td>0.0</td>\n      <td>0.0</td>\n    </tr>\n  </tbody>\n</table>\n<p>3568 rows × 10 columns</p>\n</div>"
     },
     "execution_count": 13,
     "metadata": {},
     "output_type": "execute_result"
    }
   ],
   "source": [
    "atl_notam_df[\"NOTAM_Effective_Date\"] = pd.to_datetime(atl_notam_df[\"NOTAM_Effective_Date\"] + \" \" + atl_notam_df[\"NOTAM_Effective_Time\"], format=\"%m/%d/%Y %H\")\n",
    "atl_notam_df[\"NOTAM_Expiration_Date\"] = atl_notam_df[\"NOTAM_Effective_Date\"].apply(lambda x: x + timedelta(days=1))\n",
    "atl_notam_df"
   ],
   "metadata": {
    "collapsed": false,
    "pycharm": {
     "name": "#%%\n"
    },
    "ExecuteTime": {
     "end_time": "2024-02-17T23:09:33.334678700Z",
     "start_time": "2024-02-17T23:09:33.228762400Z"
    }
   }
  },
  {
   "cell_type": "code",
   "execution_count": 14,
   "outputs": [
    {
     "data": {
      "text/plain": "     NOTAM_Effective_Date NOTAM_Expiration_Date  08L/26R  08R/26L  09L/27R  \\\n0     2017-01-01 17:00:00   2017-01-02 17:00:00      0.0      0.0      0.0   \n1     2017-01-01 17:00:00   2017-01-02 17:00:00      0.0      0.0      1.0   \n2     2017-01-01 17:00:00   2017-01-02 17:00:00      0.0      1.0      0.0   \n3     2017-01-01 17:00:00   2017-01-02 17:00:00      1.0      0.0      0.0   \n4     2017-01-01 17:00:00   2017-01-02 17:00:00      0.0      0.0      0.0   \n...                   ...                   ...      ...      ...      ...   \n3563  2017-12-27 06:00:00   2017-12-28 06:00:00      3.0      0.0      0.0   \n3564  2017-12-27 03:00:00   2017-12-28 03:00:00      2.0      0.0      0.0   \n3565  2017-12-27 03:00:00   2017-12-28 03:00:00      0.0      2.0      0.0   \n3566  2017-12-27 03:00:00   2017-12-28 03:00:00      2.0      0.0      0.0   \n3567  2017-12-27 03:00:00   2017-12-28 03:00:00      0.0      2.0      0.0   \n\n      09R/27L  10/28  \n0         1.0    0.0  \n1         0.0    0.0  \n2         0.0    0.0  \n3         0.0    0.0  \n4         0.0    1.0  \n...       ...    ...  \n3563      0.0    0.0  \n3564      0.0    0.0  \n3565      0.0    0.0  \n3566      0.0    0.0  \n3567      0.0    0.0  \n\n[3568 rows x 7 columns]",
      "text/html": "<div>\n<style scoped>\n    .dataframe tbody tr th:only-of-type {\n        vertical-align: middle;\n    }\n\n    .dataframe tbody tr th {\n        vertical-align: top;\n    }\n\n    .dataframe thead th {\n        text-align: right;\n    }\n</style>\n<table border=\"1\" class=\"dataframe\">\n  <thead>\n    <tr style=\"text-align: right;\">\n      <th></th>\n      <th>NOTAM_Effective_Date</th>\n      <th>NOTAM_Expiration_Date</th>\n      <th>08L/26R</th>\n      <th>08R/26L</th>\n      <th>09L/27R</th>\n      <th>09R/27L</th>\n      <th>10/28</th>\n    </tr>\n  </thead>\n  <tbody>\n    <tr>\n      <th>0</th>\n      <td>2017-01-01 17:00:00</td>\n      <td>2017-01-02 17:00:00</td>\n      <td>0.0</td>\n      <td>0.0</td>\n      <td>0.0</td>\n      <td>1.0</td>\n      <td>0.0</td>\n    </tr>\n    <tr>\n      <th>1</th>\n      <td>2017-01-01 17:00:00</td>\n      <td>2017-01-02 17:00:00</td>\n      <td>0.0</td>\n      <td>0.0</td>\n      <td>1.0</td>\n      <td>0.0</td>\n      <td>0.0</td>\n    </tr>\n    <tr>\n      <th>2</th>\n      <td>2017-01-01 17:00:00</td>\n      <td>2017-01-02 17:00:00</td>\n      <td>0.0</td>\n      <td>1.0</td>\n      <td>0.0</td>\n      <td>0.0</td>\n      <td>0.0</td>\n    </tr>\n    <tr>\n      <th>3</th>\n      <td>2017-01-01 17:00:00</td>\n      <td>2017-01-02 17:00:00</td>\n      <td>1.0</td>\n      <td>0.0</td>\n      <td>0.0</td>\n      <td>0.0</td>\n      <td>0.0</td>\n    </tr>\n    <tr>\n      <th>4</th>\n      <td>2017-01-01 17:00:00</td>\n      <td>2017-01-02 17:00:00</td>\n      <td>0.0</td>\n      <td>0.0</td>\n      <td>0.0</td>\n      <td>0.0</td>\n      <td>1.0</td>\n    </tr>\n    <tr>\n      <th>...</th>\n      <td>...</td>\n      <td>...</td>\n      <td>...</td>\n      <td>...</td>\n      <td>...</td>\n      <td>...</td>\n      <td>...</td>\n    </tr>\n    <tr>\n      <th>3563</th>\n      <td>2017-12-27 06:00:00</td>\n      <td>2017-12-28 06:00:00</td>\n      <td>3.0</td>\n      <td>0.0</td>\n      <td>0.0</td>\n      <td>0.0</td>\n      <td>0.0</td>\n    </tr>\n    <tr>\n      <th>3564</th>\n      <td>2017-12-27 03:00:00</td>\n      <td>2017-12-28 03:00:00</td>\n      <td>2.0</td>\n      <td>0.0</td>\n      <td>0.0</td>\n      <td>0.0</td>\n      <td>0.0</td>\n    </tr>\n    <tr>\n      <th>3565</th>\n      <td>2017-12-27 03:00:00</td>\n      <td>2017-12-28 03:00:00</td>\n      <td>0.0</td>\n      <td>2.0</td>\n      <td>0.0</td>\n      <td>0.0</td>\n      <td>0.0</td>\n    </tr>\n    <tr>\n      <th>3566</th>\n      <td>2017-12-27 03:00:00</td>\n      <td>2017-12-28 03:00:00</td>\n      <td>2.0</td>\n      <td>0.0</td>\n      <td>0.0</td>\n      <td>0.0</td>\n      <td>0.0</td>\n    </tr>\n    <tr>\n      <th>3567</th>\n      <td>2017-12-27 03:00:00</td>\n      <td>2017-12-28 03:00:00</td>\n      <td>0.0</td>\n      <td>2.0</td>\n      <td>0.0</td>\n      <td>0.0</td>\n      <td>0.0</td>\n    </tr>\n  </tbody>\n</table>\n<p>3568 rows × 7 columns</p>\n</div>"
     },
     "execution_count": 14,
     "metadata": {},
     "output_type": "execute_result"
    }
   ],
   "source": [
    "atl_notam_df = atl_notam_df.drop([\"index\", \"NOTAM_Expiration_Time\", \"NOTAM_Effective_Time\"],axis=\"columns\")\n",
    "atl_notam_df"
   ],
   "metadata": {
    "collapsed": false,
    "pycharm": {
     "name": "#%%\n"
    },
    "ExecuteTime": {
     "end_time": "2024-02-17T23:09:33.336676500Z",
     "start_time": "2024-02-17T23:09:33.290702600Z"
    }
   }
  },
  {
   "cell_type": "code",
   "execution_count": 15,
   "outputs": [
    {
     "data": {
      "text/plain": "     NOTAM_Effective_Date NOTAM_Expiration_Date  08L/26R  08R/26L  09L/27R  \\\n0     2016-12-31 18:00:00   2017-01-01 18:00:00      1.0      1.0      1.0   \n1     2017-01-01 17:00:00   2017-01-02 17:00:00      1.0      1.0      1.0   \n2     2017-01-02 20:00:00   2017-01-03 20:00:00      1.0      1.0      1.0   \n3     2017-01-03 06:00:00   2017-01-04 06:00:00      0.0      0.0      0.0   \n4     2017-01-03 14:00:00   2017-01-04 14:00:00      0.0      0.0      0.0   \n...                   ...                   ...      ...      ...      ...   \n1100  2017-12-23 23:00:00   2017-12-24 23:00:00      2.0      0.0      0.0   \n1101  2017-12-25 17:00:00   2017-12-26 17:00:00      2.0      0.0      0.0   \n1102  2017-12-27 03:00:00   2017-12-28 03:00:00      2.0      2.0      0.0   \n1103  2017-12-27 06:00:00   2017-12-28 06:00:00      3.0      0.0      0.0   \n1104  2017-12-27 07:00:00   2017-12-28 07:00:00      1.0      1.0      1.0   \n\n      09R/27L  10/28  \n0         1.0    1.0  \n1         1.0    1.0  \n2         1.0    1.0  \n3         3.0    0.0  \n4         0.0    2.0  \n...       ...    ...  \n1100      0.0    0.0  \n1101      0.0    0.0  \n1102      0.0    0.0  \n1103      0.0    0.0  \n1104      1.0    1.0  \n\n[1105 rows x 7 columns]",
      "text/html": "<div>\n<style scoped>\n    .dataframe tbody tr th:only-of-type {\n        vertical-align: middle;\n    }\n\n    .dataframe tbody tr th {\n        vertical-align: top;\n    }\n\n    .dataframe thead th {\n        text-align: right;\n    }\n</style>\n<table border=\"1\" class=\"dataframe\">\n  <thead>\n    <tr style=\"text-align: right;\">\n      <th></th>\n      <th>NOTAM_Effective_Date</th>\n      <th>NOTAM_Expiration_Date</th>\n      <th>08L/26R</th>\n      <th>08R/26L</th>\n      <th>09L/27R</th>\n      <th>09R/27L</th>\n      <th>10/28</th>\n    </tr>\n  </thead>\n  <tbody>\n    <tr>\n      <th>0</th>\n      <td>2016-12-31 18:00:00</td>\n      <td>2017-01-01 18:00:00</td>\n      <td>1.0</td>\n      <td>1.0</td>\n      <td>1.0</td>\n      <td>1.0</td>\n      <td>1.0</td>\n    </tr>\n    <tr>\n      <th>1</th>\n      <td>2017-01-01 17:00:00</td>\n      <td>2017-01-02 17:00:00</td>\n      <td>1.0</td>\n      <td>1.0</td>\n      <td>1.0</td>\n      <td>1.0</td>\n      <td>1.0</td>\n    </tr>\n    <tr>\n      <th>2</th>\n      <td>2017-01-02 20:00:00</td>\n      <td>2017-01-03 20:00:00</td>\n      <td>1.0</td>\n      <td>1.0</td>\n      <td>1.0</td>\n      <td>1.0</td>\n      <td>1.0</td>\n    </tr>\n    <tr>\n      <th>3</th>\n      <td>2017-01-03 06:00:00</td>\n      <td>2017-01-04 06:00:00</td>\n      <td>0.0</td>\n      <td>0.0</td>\n      <td>0.0</td>\n      <td>3.0</td>\n      <td>0.0</td>\n    </tr>\n    <tr>\n      <th>4</th>\n      <td>2017-01-03 14:00:00</td>\n      <td>2017-01-04 14:00:00</td>\n      <td>0.0</td>\n      <td>0.0</td>\n      <td>0.0</td>\n      <td>0.0</td>\n      <td>2.0</td>\n    </tr>\n    <tr>\n      <th>...</th>\n      <td>...</td>\n      <td>...</td>\n      <td>...</td>\n      <td>...</td>\n      <td>...</td>\n      <td>...</td>\n      <td>...</td>\n    </tr>\n    <tr>\n      <th>1100</th>\n      <td>2017-12-23 23:00:00</td>\n      <td>2017-12-24 23:00:00</td>\n      <td>2.0</td>\n      <td>0.0</td>\n      <td>0.0</td>\n      <td>0.0</td>\n      <td>0.0</td>\n    </tr>\n    <tr>\n      <th>1101</th>\n      <td>2017-12-25 17:00:00</td>\n      <td>2017-12-26 17:00:00</td>\n      <td>2.0</td>\n      <td>0.0</td>\n      <td>0.0</td>\n      <td>0.0</td>\n      <td>0.0</td>\n    </tr>\n    <tr>\n      <th>1102</th>\n      <td>2017-12-27 03:00:00</td>\n      <td>2017-12-28 03:00:00</td>\n      <td>2.0</td>\n      <td>2.0</td>\n      <td>0.0</td>\n      <td>0.0</td>\n      <td>0.0</td>\n    </tr>\n    <tr>\n      <th>1103</th>\n      <td>2017-12-27 06:00:00</td>\n      <td>2017-12-28 06:00:00</td>\n      <td>3.0</td>\n      <td>0.0</td>\n      <td>0.0</td>\n      <td>0.0</td>\n      <td>0.0</td>\n    </tr>\n    <tr>\n      <th>1104</th>\n      <td>2017-12-27 07:00:00</td>\n      <td>2017-12-28 07:00:00</td>\n      <td>1.0</td>\n      <td>1.0</td>\n      <td>1.0</td>\n      <td>1.0</td>\n      <td>1.0</td>\n    </tr>\n  </tbody>\n</table>\n<p>1105 rows × 7 columns</p>\n</div>"
     },
     "execution_count": 15,
     "metadata": {},
     "output_type": "execute_result"
    }
   ],
   "source": [
    "atl_notam_df = atl_notam_df.groupby([\"NOTAM_Effective_Date\",\"NOTAM_Expiration_Date\"]).max()\n",
    "atl_notam_df = atl_notam_df.reset_index()\n",
    "atl_notam_df"
   ],
   "metadata": {
    "collapsed": false,
    "pycharm": {
     "name": "#%%\n"
    },
    "ExecuteTime": {
     "end_time": "2024-02-17T23:09:33.424138700Z",
     "start_time": "2024-02-17T23:09:33.321685900Z"
    }
   }
  },
  {
   "cell_type": "code",
   "execution_count": 16,
   "outputs": [
    {
     "data": {
      "text/plain": "array(['2017-01-01T04:35:00.000000000', '2017-01-01T05:13:00.000000000',\n       '2017-01-01T06:01:00.000000000', ...,\n       '2017-12-31T23:45:00.000000000', '2017-12-31T23:49:00.000000000',\n       '2017-12-31T23:58:00.000000000'], dtype='datetime64[ns]')"
     },
     "execution_count": 16,
     "metadata": {},
     "output_type": "execute_result"
    }
   ],
   "source": [
    "all_notam_effective_dates = atl_notam_df[\"NOTAM_Effective_Date\"].to_numpy()\n",
    "all_notam_expiration_dates = atl_notam_df[\"NOTAM_Expiration_Date\"].to_numpy()\n",
    "all_flight_dates"
   ],
   "metadata": {
    "collapsed": false,
    "pycharm": {
     "name": "#%%\n"
    },
    "ExecuteTime": {
     "end_time": "2024-02-17T23:09:33.432134500Z",
     "start_time": "2024-02-17T23:09:33.367172500Z"
    }
   }
  },
  {
   "cell_type": "code",
   "execution_count": 17,
   "outputs": [
    {
     "data": {
      "text/plain": "array(['2016-12-31T18:00:00.000000000', '2017-01-01T17:00:00.000000000',\n       '2017-01-02T20:00:00.000000000', ...,\n       '2017-12-27T03:00:00.000000000', '2017-12-27T06:00:00.000000000',\n       '2017-12-27T07:00:00.000000000'], dtype='datetime64[ns]')"
     },
     "execution_count": 17,
     "metadata": {},
     "output_type": "execute_result"
    }
   ],
   "source": [
    "all_notam_effective_dates"
   ],
   "metadata": {
    "collapsed": false,
    "pycharm": {
     "name": "#%%\n"
    },
    "ExecuteTime": {
     "end_time": "2024-02-17T23:09:33.501093800Z",
     "start_time": "2024-02-17T23:09:33.383163500Z"
    }
   }
  },
  {
   "cell_type": "code",
   "execution_count": 18,
   "outputs": [],
   "source": [
    "is_above_effective = [ date >= all_notam_effective_dates for date in all_flight_dates]\n",
    "is_beneath_expiration =  [date < all_notam_expiration_dates for date in all_flight_dates]\n",
    "flight_in_notam_matrix = np.logical_and(is_above_effective, is_beneath_expiration)"
   ],
   "metadata": {
    "collapsed": false,
    "pycharm": {
     "name": "#%%\n"
    },
    "ExecuteTime": {
     "end_time": "2024-02-17T23:09:37.718269900Z",
     "start_time": "2024-02-17T23:09:33.399154200Z"
    }
   }
  },
  {
   "cell_type": "code",
   "execution_count": 19,
   "outputs": [
    {
     "data": {
      "text/plain": "array([[ True, False, False, ..., False, False, False],\n       [ True, False, False, ..., False, False, False],\n       [ True, False, False, ..., False, False, False],\n       ...,\n       [False, False, False, ..., False, False, False],\n       [False, False, False, ..., False, False, False],\n       [False, False, False, ..., False, False, False]])"
     },
     "execution_count": 19,
     "metadata": {},
     "output_type": "execute_result"
    }
   ],
   "source": [
    "flight_in_notam_matrix"
   ],
   "metadata": {
    "collapsed": false,
    "pycharm": {
     "name": "#%%\n"
    },
    "ExecuteTime": {
     "end_time": "2024-02-17T23:09:37.735261Z",
     "start_time": "2024-02-17T23:09:37.719270100Z"
    }
   }
  },
  {
   "cell_type": "code",
   "execution_count": 20,
   "outputs": [
    {
     "data": {
      "text/plain": "             ID         flight_date          notam_date\n0             0 2017-01-01 04:35:00 2016-12-31 18:00:00\n1             1 2017-01-01 05:13:00 2016-12-31 18:00:00\n2             2 2017-01-01 06:01:00 2016-12-31 18:00:00\n3             3 2017-01-01 06:05:00 2016-12-31 18:00:00\n4             4 2017-01-01 06:20:00 2016-12-31 18:00:00\n...         ...                 ...                 ...\n1064231  344748 2017-12-28 06:45:00 2017-12-27 07:00:00\n1064232  344749 2017-12-28 06:49:00 2017-12-27 07:00:00\n1064233  344750 2017-12-28 06:49:00 2017-12-27 07:00:00\n1064234  344751 2017-12-28 06:50:00 2017-12-27 07:00:00\n1064235  344752 2017-12-28 06:58:00 2017-12-27 07:00:00\n\n[1064236 rows x 3 columns]",
      "text/html": "<div>\n<style scoped>\n    .dataframe tbody tr th:only-of-type {\n        vertical-align: middle;\n    }\n\n    .dataframe tbody tr th {\n        vertical-align: top;\n    }\n\n    .dataframe thead th {\n        text-align: right;\n    }\n</style>\n<table border=\"1\" class=\"dataframe\">\n  <thead>\n    <tr style=\"text-align: right;\">\n      <th></th>\n      <th>ID</th>\n      <th>flight_date</th>\n      <th>notam_date</th>\n    </tr>\n  </thead>\n  <tbody>\n    <tr>\n      <th>0</th>\n      <td>0</td>\n      <td>2017-01-01 04:35:00</td>\n      <td>2016-12-31 18:00:00</td>\n    </tr>\n    <tr>\n      <th>1</th>\n      <td>1</td>\n      <td>2017-01-01 05:13:00</td>\n      <td>2016-12-31 18:00:00</td>\n    </tr>\n    <tr>\n      <th>2</th>\n      <td>2</td>\n      <td>2017-01-01 06:01:00</td>\n      <td>2016-12-31 18:00:00</td>\n    </tr>\n    <tr>\n      <th>3</th>\n      <td>3</td>\n      <td>2017-01-01 06:05:00</td>\n      <td>2016-12-31 18:00:00</td>\n    </tr>\n    <tr>\n      <th>4</th>\n      <td>4</td>\n      <td>2017-01-01 06:20:00</td>\n      <td>2016-12-31 18:00:00</td>\n    </tr>\n    <tr>\n      <th>...</th>\n      <td>...</td>\n      <td>...</td>\n      <td>...</td>\n    </tr>\n    <tr>\n      <th>1064231</th>\n      <td>344748</td>\n      <td>2017-12-28 06:45:00</td>\n      <td>2017-12-27 07:00:00</td>\n    </tr>\n    <tr>\n      <th>1064232</th>\n      <td>344749</td>\n      <td>2017-12-28 06:49:00</td>\n      <td>2017-12-27 07:00:00</td>\n    </tr>\n    <tr>\n      <th>1064233</th>\n      <td>344750</td>\n      <td>2017-12-28 06:49:00</td>\n      <td>2017-12-27 07:00:00</td>\n    </tr>\n    <tr>\n      <th>1064234</th>\n      <td>344751</td>\n      <td>2017-12-28 06:50:00</td>\n      <td>2017-12-27 07:00:00</td>\n    </tr>\n    <tr>\n      <th>1064235</th>\n      <td>344752</td>\n      <td>2017-12-28 06:58:00</td>\n      <td>2017-12-27 07:00:00</td>\n    </tr>\n  </tbody>\n</table>\n<p>1064236 rows × 3 columns</p>\n</div>"
     },
     "execution_count": 20,
     "metadata": {},
     "output_type": "execute_result"
    }
   ],
   "source": [
    "arr = []\n",
    "for idx, flight in enumerate(flight_in_notam_matrix):\n",
    "    for i in np.nonzero(flight)[0]:\n",
    "        arr.append([idx, all_flight_dates[idx],all_notam_effective_dates[i]])\n",
    "flight_notam_df = pd.DataFrame(arr, columns=[\"ID\",\"flight_date\",\"notam_date\"])\n",
    "flight_notam_df"
   ],
   "metadata": {
    "collapsed": false,
    "pycharm": {
     "name": "#%%\n"
    },
    "ExecuteTime": {
     "end_time": "2024-02-17T23:09:41.047728700Z",
     "start_time": "2024-02-17T23:09:37.736260Z"
    }
   }
  },
  {
   "cell_type": "code",
   "execution_count": 21,
   "outputs": [
    {
     "data": {
      "text/plain": "               flight_date  08L/26R  08R/26L  09L/27R  09R/27L  10/28\n0      2017-01-01 04:35:00      1.0      1.0      1.0      1.0    1.0\n1      2017-01-01 05:13:00      1.0      1.0      1.0      1.0    1.0\n2      2017-01-01 06:01:00      1.0      1.0      1.0      1.0    1.0\n3      2017-01-01 06:05:00      1.0      1.0      1.0      1.0    1.0\n4      2017-01-01 06:20:00      1.0      1.0      1.0      1.0    1.0\n...                    ...      ...      ...      ...      ...    ...\n185488 2017-12-28 06:44:00      1.0      1.0      1.0      1.0    1.0\n185489 2017-12-28 06:45:00      1.0      1.0      1.0      1.0    1.0\n185490 2017-12-28 06:49:00      1.0      1.0      1.0      1.0    1.0\n185491 2017-12-28 06:50:00      1.0      1.0      1.0      1.0    1.0\n185492 2017-12-28 06:58:00      1.0      1.0      1.0      1.0    1.0\n\n[185493 rows x 6 columns]",
      "text/html": "<div>\n<style scoped>\n    .dataframe tbody tr th:only-of-type {\n        vertical-align: middle;\n    }\n\n    .dataframe tbody tr th {\n        vertical-align: top;\n    }\n\n    .dataframe thead th {\n        text-align: right;\n    }\n</style>\n<table border=\"1\" class=\"dataframe\">\n  <thead>\n    <tr style=\"text-align: right;\">\n      <th></th>\n      <th>flight_date</th>\n      <th>08L/26R</th>\n      <th>08R/26L</th>\n      <th>09L/27R</th>\n      <th>09R/27L</th>\n      <th>10/28</th>\n    </tr>\n  </thead>\n  <tbody>\n    <tr>\n      <th>0</th>\n      <td>2017-01-01 04:35:00</td>\n      <td>1.0</td>\n      <td>1.0</td>\n      <td>1.0</td>\n      <td>1.0</td>\n      <td>1.0</td>\n    </tr>\n    <tr>\n      <th>1</th>\n      <td>2017-01-01 05:13:00</td>\n      <td>1.0</td>\n      <td>1.0</td>\n      <td>1.0</td>\n      <td>1.0</td>\n      <td>1.0</td>\n    </tr>\n    <tr>\n      <th>2</th>\n      <td>2017-01-01 06:01:00</td>\n      <td>1.0</td>\n      <td>1.0</td>\n      <td>1.0</td>\n      <td>1.0</td>\n      <td>1.0</td>\n    </tr>\n    <tr>\n      <th>3</th>\n      <td>2017-01-01 06:05:00</td>\n      <td>1.0</td>\n      <td>1.0</td>\n      <td>1.0</td>\n      <td>1.0</td>\n      <td>1.0</td>\n    </tr>\n    <tr>\n      <th>4</th>\n      <td>2017-01-01 06:20:00</td>\n      <td>1.0</td>\n      <td>1.0</td>\n      <td>1.0</td>\n      <td>1.0</td>\n      <td>1.0</td>\n    </tr>\n    <tr>\n      <th>...</th>\n      <td>...</td>\n      <td>...</td>\n      <td>...</td>\n      <td>...</td>\n      <td>...</td>\n      <td>...</td>\n    </tr>\n    <tr>\n      <th>185488</th>\n      <td>2017-12-28 06:44:00</td>\n      <td>1.0</td>\n      <td>1.0</td>\n      <td>1.0</td>\n      <td>1.0</td>\n      <td>1.0</td>\n    </tr>\n    <tr>\n      <th>185489</th>\n      <td>2017-12-28 06:45:00</td>\n      <td>1.0</td>\n      <td>1.0</td>\n      <td>1.0</td>\n      <td>1.0</td>\n      <td>1.0</td>\n    </tr>\n    <tr>\n      <th>185490</th>\n      <td>2017-12-28 06:49:00</td>\n      <td>1.0</td>\n      <td>1.0</td>\n      <td>1.0</td>\n      <td>1.0</td>\n      <td>1.0</td>\n    </tr>\n    <tr>\n      <th>185491</th>\n      <td>2017-12-28 06:50:00</td>\n      <td>1.0</td>\n      <td>1.0</td>\n      <td>1.0</td>\n      <td>1.0</td>\n      <td>1.0</td>\n    </tr>\n    <tr>\n      <th>185492</th>\n      <td>2017-12-28 06:58:00</td>\n      <td>1.0</td>\n      <td>1.0</td>\n      <td>1.0</td>\n      <td>1.0</td>\n      <td>1.0</td>\n    </tr>\n  </tbody>\n</table>\n<p>185493 rows × 6 columns</p>\n</div>"
     },
     "execution_count": 21,
     "metadata": {},
     "output_type": "execute_result"
    }
   ],
   "source": [
    "flight_notam_df = flight_notam_df.join(atl_notam_df.set_index(\"NOTAM_Effective_Date\"), on=\"notam_date\").drop([\"notam_date\",\"ID\"],axis=\"columns\")\n",
    "flight_notam_df = flight_notam_df.groupby([\"flight_date\"]).max()\n",
    "flight_notam_df = flight_notam_df.reset_index()\n",
    "flight_notam_df = flight_notam_df.drop([\"NOTAM_Expiration_Date\"], axis=1)\n",
    "flight_notam_df"
   ],
   "metadata": {
    "collapsed": false,
    "pycharm": {
     "name": "#%%\n"
    },
    "ExecuteTime": {
     "end_time": "2024-02-17T23:09:41.338570600Z",
     "start_time": "2024-02-17T23:09:41.048729700Z"
    }
   }
  },
  {
   "cell_type": "code",
   "execution_count": 22,
   "outputs": [
    {
     "data": {
      "text/plain": "         OP_UNIQUE_CARRIER ORIGIN  DEP_DELAY  CRS_ELAPSED_TIME  DISTANCE  \\\n5612585                 F9    LAS          0             230.0    1747.0   \n5614966                 DL    SFO         -3             268.0    2139.0   \n5616651                 DL    SAN         -6             241.0    1892.0   \n5616326                 DL    SFO         -5             270.0    2139.0   \n5613460                 UA    SFO          6             278.0    2139.0   \n...                    ...    ...        ...               ...       ...   \n11289608                NK    BWI         -5             122.0     577.0   \n11284363                WN    MDW         20             110.0     591.0   \n11283412                WN    DEN         43             170.0    1199.0   \n11286614                B6    BOS         43             179.0     946.0   \n11291238                DL    MSP         -1             163.0     907.0   \n\n                CRS_DEP_DATE        CRS_ARR_DATE        ACT_DEP_DATE  \\\n5612585  2016-12-31 21:45:00 2017-01-01 04:35:00 2016-12-31 21:45:00   \n5614966  2016-12-31 21:45:00 2017-01-01 05:13:00 2016-12-31 21:42:00   \n5616651  2016-12-31 23:00:00 2017-01-01 06:01:00 2016-12-31 22:54:00   \n5616326  2016-12-31 22:35:00 2017-01-01 06:05:00 2016-12-31 22:30:00   \n5613460  2016-12-31 22:42:00 2017-01-01 06:20:00 2016-12-31 22:48:00   \n...                      ...                 ...                 ...   \n11289608 2017-12-31 21:35:00 2017-12-31 23:37:00 2017-12-31 21:30:00   \n11284363 2017-12-31 20:55:00 2017-12-31 23:45:00 2017-12-31 21:15:00   \n11283412 2017-12-31 18:55:00 2017-12-31 23:45:00 2017-12-31 19:38:00   \n11286614 2017-12-31 20:50:00 2017-12-31 23:49:00 2017-12-31 21:33:00   \n11291238 2017-12-31 20:15:00 2017-12-31 23:58:00 2017-12-31 20:14:00   \n\n                ACT_ARR_DATE  PREV_FLIGHTS_1H  ...  EVENT_IC EVENT_RA  \\\n5612585  2017-01-01 04:25:00                0  ...         0        1   \n5614966  2017-01-01 05:05:00                2  ...         0        1   \n5616651  2017-01-01 05:41:00                2  ...         0        1   \n5616326  2017-01-01 05:58:00                2  ...         0        1   \n5613460  2017-01-01 06:14:00                2  ...         0        1   \n...                      ...              ...  ...       ...      ...   \n11289608 2017-12-31 23:27:00                8  ...         0        0   \n11284363 2017-12-31 23:50:00                8  ...         0        0   \n11283412 2018-01-01 00:02:00                8  ...         0        0   \n11286614 2018-01-01 00:19:00               11  ...         0        0   \n11291238 2017-12-31 23:29:00               12  ...         0        0   \n\n          EVENT_SG  EVENT_SN EVENT_TS  08L/26R  08R/26L  09L/27R  09R/27L  \\\n5612585          0         0        0      1.0      1.0      1.0      1.0   \n5614966          0         0        0      1.0      1.0      1.0      1.0   \n5616651          0         0        0      1.0      1.0      1.0      1.0   \n5616326          0         0        0      1.0      1.0      1.0      1.0   \n5613460          0         0        0      1.0      1.0      1.0      1.0   \n...            ...       ...      ...      ...      ...      ...      ...   \n11289608         0         0        0      NaN      NaN      NaN      NaN   \n11284363         0         0        0      NaN      NaN      NaN      NaN   \n11283412         0         0        0      NaN      NaN      NaN      NaN   \n11286614         0         0        0      NaN      NaN      NaN      NaN   \n11291238         0         0        0      NaN      NaN      NaN      NaN   \n\n          10/28  \n5612585     1.0  \n5614966     1.0  \n5616651     1.0  \n5616326     1.0  \n5613460     1.0  \n...         ...  \n11289608    NaN  \n11284363    NaN  \n11283412    NaN  \n11286614    NaN  \n11291238    NaN  \n\n[348136 rows x 47 columns]",
      "text/html": "<div>\n<style scoped>\n    .dataframe tbody tr th:only-of-type {\n        vertical-align: middle;\n    }\n\n    .dataframe tbody tr th {\n        vertical-align: top;\n    }\n\n    .dataframe thead th {\n        text-align: right;\n    }\n</style>\n<table border=\"1\" class=\"dataframe\">\n  <thead>\n    <tr style=\"text-align: right;\">\n      <th></th>\n      <th>OP_UNIQUE_CARRIER</th>\n      <th>ORIGIN</th>\n      <th>DEP_DELAY</th>\n      <th>CRS_ELAPSED_TIME</th>\n      <th>DISTANCE</th>\n      <th>CRS_DEP_DATE</th>\n      <th>CRS_ARR_DATE</th>\n      <th>ACT_DEP_DATE</th>\n      <th>ACT_ARR_DATE</th>\n      <th>PREV_FLIGHTS_1H</th>\n      <th>...</th>\n      <th>EVENT_IC</th>\n      <th>EVENT_RA</th>\n      <th>EVENT_SG</th>\n      <th>EVENT_SN</th>\n      <th>EVENT_TS</th>\n      <th>08L/26R</th>\n      <th>08R/26L</th>\n      <th>09L/27R</th>\n      <th>09R/27L</th>\n      <th>10/28</th>\n    </tr>\n  </thead>\n  <tbody>\n    <tr>\n      <th>5612585</th>\n      <td>F9</td>\n      <td>LAS</td>\n      <td>0</td>\n      <td>230.0</td>\n      <td>1747.0</td>\n      <td>2016-12-31 21:45:00</td>\n      <td>2017-01-01 04:35:00</td>\n      <td>2016-12-31 21:45:00</td>\n      <td>2017-01-01 04:25:00</td>\n      <td>0</td>\n      <td>...</td>\n      <td>0</td>\n      <td>1</td>\n      <td>0</td>\n      <td>0</td>\n      <td>0</td>\n      <td>1.0</td>\n      <td>1.0</td>\n      <td>1.0</td>\n      <td>1.0</td>\n      <td>1.0</td>\n    </tr>\n    <tr>\n      <th>5614966</th>\n      <td>DL</td>\n      <td>SFO</td>\n      <td>-3</td>\n      <td>268.0</td>\n      <td>2139.0</td>\n      <td>2016-12-31 21:45:00</td>\n      <td>2017-01-01 05:13:00</td>\n      <td>2016-12-31 21:42:00</td>\n      <td>2017-01-01 05:05:00</td>\n      <td>2</td>\n      <td>...</td>\n      <td>0</td>\n      <td>1</td>\n      <td>0</td>\n      <td>0</td>\n      <td>0</td>\n      <td>1.0</td>\n      <td>1.0</td>\n      <td>1.0</td>\n      <td>1.0</td>\n      <td>1.0</td>\n    </tr>\n    <tr>\n      <th>5616651</th>\n      <td>DL</td>\n      <td>SAN</td>\n      <td>-6</td>\n      <td>241.0</td>\n      <td>1892.0</td>\n      <td>2016-12-31 23:00:00</td>\n      <td>2017-01-01 06:01:00</td>\n      <td>2016-12-31 22:54:00</td>\n      <td>2017-01-01 05:41:00</td>\n      <td>2</td>\n      <td>...</td>\n      <td>0</td>\n      <td>1</td>\n      <td>0</td>\n      <td>0</td>\n      <td>0</td>\n      <td>1.0</td>\n      <td>1.0</td>\n      <td>1.0</td>\n      <td>1.0</td>\n      <td>1.0</td>\n    </tr>\n    <tr>\n      <th>5616326</th>\n      <td>DL</td>\n      <td>SFO</td>\n      <td>-5</td>\n      <td>270.0</td>\n      <td>2139.0</td>\n      <td>2016-12-31 22:35:00</td>\n      <td>2017-01-01 06:05:00</td>\n      <td>2016-12-31 22:30:00</td>\n      <td>2017-01-01 05:58:00</td>\n      <td>2</td>\n      <td>...</td>\n      <td>0</td>\n      <td>1</td>\n      <td>0</td>\n      <td>0</td>\n      <td>0</td>\n      <td>1.0</td>\n      <td>1.0</td>\n      <td>1.0</td>\n      <td>1.0</td>\n      <td>1.0</td>\n    </tr>\n    <tr>\n      <th>5613460</th>\n      <td>UA</td>\n      <td>SFO</td>\n      <td>6</td>\n      <td>278.0</td>\n      <td>2139.0</td>\n      <td>2016-12-31 22:42:00</td>\n      <td>2017-01-01 06:20:00</td>\n      <td>2016-12-31 22:48:00</td>\n      <td>2017-01-01 06:14:00</td>\n      <td>2</td>\n      <td>...</td>\n      <td>0</td>\n      <td>1</td>\n      <td>0</td>\n      <td>0</td>\n      <td>0</td>\n      <td>1.0</td>\n      <td>1.0</td>\n      <td>1.0</td>\n      <td>1.0</td>\n      <td>1.0</td>\n    </tr>\n    <tr>\n      <th>...</th>\n      <td>...</td>\n      <td>...</td>\n      <td>...</td>\n      <td>...</td>\n      <td>...</td>\n      <td>...</td>\n      <td>...</td>\n      <td>...</td>\n      <td>...</td>\n      <td>...</td>\n      <td>...</td>\n      <td>...</td>\n      <td>...</td>\n      <td>...</td>\n      <td>...</td>\n      <td>...</td>\n      <td>...</td>\n      <td>...</td>\n      <td>...</td>\n      <td>...</td>\n      <td>...</td>\n    </tr>\n    <tr>\n      <th>11289608</th>\n      <td>NK</td>\n      <td>BWI</td>\n      <td>-5</td>\n      <td>122.0</td>\n      <td>577.0</td>\n      <td>2017-12-31 21:35:00</td>\n      <td>2017-12-31 23:37:00</td>\n      <td>2017-12-31 21:30:00</td>\n      <td>2017-12-31 23:27:00</td>\n      <td>8</td>\n      <td>...</td>\n      <td>0</td>\n      <td>0</td>\n      <td>0</td>\n      <td>0</td>\n      <td>0</td>\n      <td>NaN</td>\n      <td>NaN</td>\n      <td>NaN</td>\n      <td>NaN</td>\n      <td>NaN</td>\n    </tr>\n    <tr>\n      <th>11284363</th>\n      <td>WN</td>\n      <td>MDW</td>\n      <td>20</td>\n      <td>110.0</td>\n      <td>591.0</td>\n      <td>2017-12-31 20:55:00</td>\n      <td>2017-12-31 23:45:00</td>\n      <td>2017-12-31 21:15:00</td>\n      <td>2017-12-31 23:50:00</td>\n      <td>8</td>\n      <td>...</td>\n      <td>0</td>\n      <td>0</td>\n      <td>0</td>\n      <td>0</td>\n      <td>0</td>\n      <td>NaN</td>\n      <td>NaN</td>\n      <td>NaN</td>\n      <td>NaN</td>\n      <td>NaN</td>\n    </tr>\n    <tr>\n      <th>11283412</th>\n      <td>WN</td>\n      <td>DEN</td>\n      <td>43</td>\n      <td>170.0</td>\n      <td>1199.0</td>\n      <td>2017-12-31 18:55:00</td>\n      <td>2017-12-31 23:45:00</td>\n      <td>2017-12-31 19:38:00</td>\n      <td>2018-01-01 00:02:00</td>\n      <td>8</td>\n      <td>...</td>\n      <td>0</td>\n      <td>0</td>\n      <td>0</td>\n      <td>0</td>\n      <td>0</td>\n      <td>NaN</td>\n      <td>NaN</td>\n      <td>NaN</td>\n      <td>NaN</td>\n      <td>NaN</td>\n    </tr>\n    <tr>\n      <th>11286614</th>\n      <td>B6</td>\n      <td>BOS</td>\n      <td>43</td>\n      <td>179.0</td>\n      <td>946.0</td>\n      <td>2017-12-31 20:50:00</td>\n      <td>2017-12-31 23:49:00</td>\n      <td>2017-12-31 21:33:00</td>\n      <td>2018-01-01 00:19:00</td>\n      <td>11</td>\n      <td>...</td>\n      <td>0</td>\n      <td>0</td>\n      <td>0</td>\n      <td>0</td>\n      <td>0</td>\n      <td>NaN</td>\n      <td>NaN</td>\n      <td>NaN</td>\n      <td>NaN</td>\n      <td>NaN</td>\n    </tr>\n    <tr>\n      <th>11291238</th>\n      <td>DL</td>\n      <td>MSP</td>\n      <td>-1</td>\n      <td>163.0</td>\n      <td>907.0</td>\n      <td>2017-12-31 20:15:00</td>\n      <td>2017-12-31 23:58:00</td>\n      <td>2017-12-31 20:14:00</td>\n      <td>2017-12-31 23:29:00</td>\n      <td>12</td>\n      <td>...</td>\n      <td>0</td>\n      <td>0</td>\n      <td>0</td>\n      <td>0</td>\n      <td>0</td>\n      <td>NaN</td>\n      <td>NaN</td>\n      <td>NaN</td>\n      <td>NaN</td>\n      <td>NaN</td>\n    </tr>\n  </tbody>\n</table>\n<p>348136 rows × 47 columns</p>\n</div>"
     },
     "execution_count": 22,
     "metadata": {},
     "output_type": "execute_result"
    }
   ],
   "source": [
    "atl_flights_df = atl_flights_df.join(flight_notam_df.set_index(\"flight_date\"), on=\"CRS_DEP_DATE\")\n",
    "atl_flights_df"
   ],
   "metadata": {
    "collapsed": false,
    "pycharm": {
     "name": "#%%\n"
    },
    "ExecuteTime": {
     "end_time": "2024-02-17T23:09:41.690334300Z",
     "start_time": "2024-02-17T23:09:41.340567100Z"
    }
   }
  },
  {
   "cell_type": "code",
   "execution_count": 23,
   "outputs": [],
   "source": [
    "atl_flights_df[[\"08L/26R\",\"08R/26L\",\"09L/27R\",\"09R/27L\",\"10/28\"]] = atl_flights_df[[\"08L/26R\",\"08R/26L\",\"09L/27R\",\"09R/27L\",\"10/28\"]].fillna(0)"
   ],
   "metadata": {
    "collapsed": false,
    "pycharm": {
     "name": "#%%\n"
    },
    "ExecuteTime": {
     "end_time": "2024-02-17T23:09:41.976171400Z",
     "start_time": "2024-02-17T23:09:41.691334Z"
    }
   }
  },
  {
   "cell_type": "code",
   "execution_count": 24,
   "outputs": [
    {
     "data": {
      "text/plain": "         OP_UNIQUE_CARRIER ORIGIN  DEP_DELAY  CRS_ELAPSED_TIME  DISTANCE  \\\n5612585                 F9    LAS          0             230.0    1747.0   \n5614966                 DL    SFO         -3             268.0    2139.0   \n5616651                 DL    SAN         -6             241.0    1892.0   \n5616326                 DL    SFO         -5             270.0    2139.0   \n5613460                 UA    SFO          6             278.0    2139.0   \n...                    ...    ...        ...               ...       ...   \n11289608                NK    BWI         -5             122.0     577.0   \n11284363                WN    MDW         20             110.0     591.0   \n11283412                WN    DEN         43             170.0    1199.0   \n11286614                B6    BOS         43             179.0     946.0   \n11291238                DL    MSP         -1             163.0     907.0   \n\n                CRS_DEP_DATE        CRS_ARR_DATE        ACT_DEP_DATE  \\\n5612585  2016-12-31 21:45:00 2017-01-01 04:35:00 2016-12-31 21:45:00   \n5614966  2016-12-31 21:45:00 2017-01-01 05:13:00 2016-12-31 21:42:00   \n5616651  2016-12-31 23:00:00 2017-01-01 06:01:00 2016-12-31 22:54:00   \n5616326  2016-12-31 22:35:00 2017-01-01 06:05:00 2016-12-31 22:30:00   \n5613460  2016-12-31 22:42:00 2017-01-01 06:20:00 2016-12-31 22:48:00   \n...                      ...                 ...                 ...   \n11289608 2017-12-31 21:35:00 2017-12-31 23:37:00 2017-12-31 21:30:00   \n11284363 2017-12-31 20:55:00 2017-12-31 23:45:00 2017-12-31 21:15:00   \n11283412 2017-12-31 18:55:00 2017-12-31 23:45:00 2017-12-31 19:38:00   \n11286614 2017-12-31 20:50:00 2017-12-31 23:49:00 2017-12-31 21:33:00   \n11291238 2017-12-31 20:15:00 2017-12-31 23:58:00 2017-12-31 20:14:00   \n\n                ACT_ARR_DATE  PREV_FLIGHTS_1H  ...  EVENT_IC EVENT_RA  \\\n5612585  2017-01-01 04:25:00                0  ...         0        1   \n5614966  2017-01-01 05:05:00                2  ...         0        1   \n5616651  2017-01-01 05:41:00                2  ...         0        1   \n5616326  2017-01-01 05:58:00                2  ...         0        1   \n5613460  2017-01-01 06:14:00                2  ...         0        1   \n...                      ...              ...  ...       ...      ...   \n11289608 2017-12-31 23:27:00                8  ...         0        0   \n11284363 2017-12-31 23:50:00                8  ...         0        0   \n11283412 2018-01-01 00:02:00                8  ...         0        0   \n11286614 2018-01-01 00:19:00               11  ...         0        0   \n11291238 2017-12-31 23:29:00               12  ...         0        0   \n\n          EVENT_SG  EVENT_SN EVENT_TS  08L/26R  08R/26L  09L/27R  09R/27L  \\\n5612585          0         0        0      1.0      1.0      1.0      1.0   \n5614966          0         0        0      1.0      1.0      1.0      1.0   \n5616651          0         0        0      1.0      1.0      1.0      1.0   \n5616326          0         0        0      1.0      1.0      1.0      1.0   \n5613460          0         0        0      1.0      1.0      1.0      1.0   \n...            ...       ...      ...      ...      ...      ...      ...   \n11289608         0         0        0      0.0      0.0      0.0      0.0   \n11284363         0         0        0      0.0      0.0      0.0      0.0   \n11283412         0         0        0      0.0      0.0      0.0      0.0   \n11286614         0         0        0      0.0      0.0      0.0      0.0   \n11291238         0         0        0      0.0      0.0      0.0      0.0   \n\n          10/28  \n5612585     1.0  \n5614966     1.0  \n5616651     1.0  \n5616326     1.0  \n5613460     1.0  \n...         ...  \n11289608    0.0  \n11284363    0.0  \n11283412    0.0  \n11286614    0.0  \n11291238    0.0  \n\n[348136 rows x 47 columns]",
      "text/html": "<div>\n<style scoped>\n    .dataframe tbody tr th:only-of-type {\n        vertical-align: middle;\n    }\n\n    .dataframe tbody tr th {\n        vertical-align: top;\n    }\n\n    .dataframe thead th {\n        text-align: right;\n    }\n</style>\n<table border=\"1\" class=\"dataframe\">\n  <thead>\n    <tr style=\"text-align: right;\">\n      <th></th>\n      <th>OP_UNIQUE_CARRIER</th>\n      <th>ORIGIN</th>\n      <th>DEP_DELAY</th>\n      <th>CRS_ELAPSED_TIME</th>\n      <th>DISTANCE</th>\n      <th>CRS_DEP_DATE</th>\n      <th>CRS_ARR_DATE</th>\n      <th>ACT_DEP_DATE</th>\n      <th>ACT_ARR_DATE</th>\n      <th>PREV_FLIGHTS_1H</th>\n      <th>...</th>\n      <th>EVENT_IC</th>\n      <th>EVENT_RA</th>\n      <th>EVENT_SG</th>\n      <th>EVENT_SN</th>\n      <th>EVENT_TS</th>\n      <th>08L/26R</th>\n      <th>08R/26L</th>\n      <th>09L/27R</th>\n      <th>09R/27L</th>\n      <th>10/28</th>\n    </tr>\n  </thead>\n  <tbody>\n    <tr>\n      <th>5612585</th>\n      <td>F9</td>\n      <td>LAS</td>\n      <td>0</td>\n      <td>230.0</td>\n      <td>1747.0</td>\n      <td>2016-12-31 21:45:00</td>\n      <td>2017-01-01 04:35:00</td>\n      <td>2016-12-31 21:45:00</td>\n      <td>2017-01-01 04:25:00</td>\n      <td>0</td>\n      <td>...</td>\n      <td>0</td>\n      <td>1</td>\n      <td>0</td>\n      <td>0</td>\n      <td>0</td>\n      <td>1.0</td>\n      <td>1.0</td>\n      <td>1.0</td>\n      <td>1.0</td>\n      <td>1.0</td>\n    </tr>\n    <tr>\n      <th>5614966</th>\n      <td>DL</td>\n      <td>SFO</td>\n      <td>-3</td>\n      <td>268.0</td>\n      <td>2139.0</td>\n      <td>2016-12-31 21:45:00</td>\n      <td>2017-01-01 05:13:00</td>\n      <td>2016-12-31 21:42:00</td>\n      <td>2017-01-01 05:05:00</td>\n      <td>2</td>\n      <td>...</td>\n      <td>0</td>\n      <td>1</td>\n      <td>0</td>\n      <td>0</td>\n      <td>0</td>\n      <td>1.0</td>\n      <td>1.0</td>\n      <td>1.0</td>\n      <td>1.0</td>\n      <td>1.0</td>\n    </tr>\n    <tr>\n      <th>5616651</th>\n      <td>DL</td>\n      <td>SAN</td>\n      <td>-6</td>\n      <td>241.0</td>\n      <td>1892.0</td>\n      <td>2016-12-31 23:00:00</td>\n      <td>2017-01-01 06:01:00</td>\n      <td>2016-12-31 22:54:00</td>\n      <td>2017-01-01 05:41:00</td>\n      <td>2</td>\n      <td>...</td>\n      <td>0</td>\n      <td>1</td>\n      <td>0</td>\n      <td>0</td>\n      <td>0</td>\n      <td>1.0</td>\n      <td>1.0</td>\n      <td>1.0</td>\n      <td>1.0</td>\n      <td>1.0</td>\n    </tr>\n    <tr>\n      <th>5616326</th>\n      <td>DL</td>\n      <td>SFO</td>\n      <td>-5</td>\n      <td>270.0</td>\n      <td>2139.0</td>\n      <td>2016-12-31 22:35:00</td>\n      <td>2017-01-01 06:05:00</td>\n      <td>2016-12-31 22:30:00</td>\n      <td>2017-01-01 05:58:00</td>\n      <td>2</td>\n      <td>...</td>\n      <td>0</td>\n      <td>1</td>\n      <td>0</td>\n      <td>0</td>\n      <td>0</td>\n      <td>1.0</td>\n      <td>1.0</td>\n      <td>1.0</td>\n      <td>1.0</td>\n      <td>1.0</td>\n    </tr>\n    <tr>\n      <th>5613460</th>\n      <td>UA</td>\n      <td>SFO</td>\n      <td>6</td>\n      <td>278.0</td>\n      <td>2139.0</td>\n      <td>2016-12-31 22:42:00</td>\n      <td>2017-01-01 06:20:00</td>\n      <td>2016-12-31 22:48:00</td>\n      <td>2017-01-01 06:14:00</td>\n      <td>2</td>\n      <td>...</td>\n      <td>0</td>\n      <td>1</td>\n      <td>0</td>\n      <td>0</td>\n      <td>0</td>\n      <td>1.0</td>\n      <td>1.0</td>\n      <td>1.0</td>\n      <td>1.0</td>\n      <td>1.0</td>\n    </tr>\n    <tr>\n      <th>...</th>\n      <td>...</td>\n      <td>...</td>\n      <td>...</td>\n      <td>...</td>\n      <td>...</td>\n      <td>...</td>\n      <td>...</td>\n      <td>...</td>\n      <td>...</td>\n      <td>...</td>\n      <td>...</td>\n      <td>...</td>\n      <td>...</td>\n      <td>...</td>\n      <td>...</td>\n      <td>...</td>\n      <td>...</td>\n      <td>...</td>\n      <td>...</td>\n      <td>...</td>\n      <td>...</td>\n    </tr>\n    <tr>\n      <th>11289608</th>\n      <td>NK</td>\n      <td>BWI</td>\n      <td>-5</td>\n      <td>122.0</td>\n      <td>577.0</td>\n      <td>2017-12-31 21:35:00</td>\n      <td>2017-12-31 23:37:00</td>\n      <td>2017-12-31 21:30:00</td>\n      <td>2017-12-31 23:27:00</td>\n      <td>8</td>\n      <td>...</td>\n      <td>0</td>\n      <td>0</td>\n      <td>0</td>\n      <td>0</td>\n      <td>0</td>\n      <td>0.0</td>\n      <td>0.0</td>\n      <td>0.0</td>\n      <td>0.0</td>\n      <td>0.0</td>\n    </tr>\n    <tr>\n      <th>11284363</th>\n      <td>WN</td>\n      <td>MDW</td>\n      <td>20</td>\n      <td>110.0</td>\n      <td>591.0</td>\n      <td>2017-12-31 20:55:00</td>\n      <td>2017-12-31 23:45:00</td>\n      <td>2017-12-31 21:15:00</td>\n      <td>2017-12-31 23:50:00</td>\n      <td>8</td>\n      <td>...</td>\n      <td>0</td>\n      <td>0</td>\n      <td>0</td>\n      <td>0</td>\n      <td>0</td>\n      <td>0.0</td>\n      <td>0.0</td>\n      <td>0.0</td>\n      <td>0.0</td>\n      <td>0.0</td>\n    </tr>\n    <tr>\n      <th>11283412</th>\n      <td>WN</td>\n      <td>DEN</td>\n      <td>43</td>\n      <td>170.0</td>\n      <td>1199.0</td>\n      <td>2017-12-31 18:55:00</td>\n      <td>2017-12-31 23:45:00</td>\n      <td>2017-12-31 19:38:00</td>\n      <td>2018-01-01 00:02:00</td>\n      <td>8</td>\n      <td>...</td>\n      <td>0</td>\n      <td>0</td>\n      <td>0</td>\n      <td>0</td>\n      <td>0</td>\n      <td>0.0</td>\n      <td>0.0</td>\n      <td>0.0</td>\n      <td>0.0</td>\n      <td>0.0</td>\n    </tr>\n    <tr>\n      <th>11286614</th>\n      <td>B6</td>\n      <td>BOS</td>\n      <td>43</td>\n      <td>179.0</td>\n      <td>946.0</td>\n      <td>2017-12-31 20:50:00</td>\n      <td>2017-12-31 23:49:00</td>\n      <td>2017-12-31 21:33:00</td>\n      <td>2018-01-01 00:19:00</td>\n      <td>11</td>\n      <td>...</td>\n      <td>0</td>\n      <td>0</td>\n      <td>0</td>\n      <td>0</td>\n      <td>0</td>\n      <td>0.0</td>\n      <td>0.0</td>\n      <td>0.0</td>\n      <td>0.0</td>\n      <td>0.0</td>\n    </tr>\n    <tr>\n      <th>11291238</th>\n      <td>DL</td>\n      <td>MSP</td>\n      <td>-1</td>\n      <td>163.0</td>\n      <td>907.0</td>\n      <td>2017-12-31 20:15:00</td>\n      <td>2017-12-31 23:58:00</td>\n      <td>2017-12-31 20:14:00</td>\n      <td>2017-12-31 23:29:00</td>\n      <td>12</td>\n      <td>...</td>\n      <td>0</td>\n      <td>0</td>\n      <td>0</td>\n      <td>0</td>\n      <td>0</td>\n      <td>0.0</td>\n      <td>0.0</td>\n      <td>0.0</td>\n      <td>0.0</td>\n      <td>0.0</td>\n    </tr>\n  </tbody>\n</table>\n<p>348136 rows × 47 columns</p>\n</div>"
     },
     "execution_count": 24,
     "metadata": {},
     "output_type": "execute_result"
    }
   ],
   "source": [
    "atl_flights_df"
   ],
   "metadata": {
    "collapsed": false,
    "pycharm": {
     "name": "#%%\n"
    },
    "ExecuteTime": {
     "end_time": "2024-02-17T23:09:42.118398800Z",
     "start_time": "2024-02-17T23:09:41.979170Z"
    }
   }
  },
  {
   "cell_type": "code",
   "execution_count": 25,
   "outputs": [],
   "source": [
    "atl_flights_df.to_pickle(os.path.join(PREP_FOLDER, \"07_integration.pkl\"))"
   ],
   "metadata": {
    "collapsed": false,
    "pycharm": {
     "name": "#%%\n"
    },
    "ExecuteTime": {
     "end_time": "2024-02-17T23:09:42.413228400Z",
     "start_time": "2024-02-17T23:09:42.118398800Z"
    }
   }
  }
 ],
 "metadata": {
  "kernelspec": {
   "display_name": "Python 3",
   "language": "python",
   "name": "python3"
  },
  "language_info": {
   "codemirror_mode": {
    "name": "ipython",
    "version": 2
   },
   "file_extension": ".py",
   "mimetype": "text/x-python",
   "name": "python",
   "nbconvert_exporter": "python",
   "pygments_lexer": "ipython2",
   "version": "2.7.6"
  }
 },
 "nbformat": 4,
 "nbformat_minor": 0
}
