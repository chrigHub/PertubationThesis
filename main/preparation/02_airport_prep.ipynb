{
 "cells": [
  {
   "cell_type": "code",
   "execution_count": 1,
   "metadata": {
    "collapsed": true,
    "ExecuteTime": {
     "end_time": "2024-03-14T09:10:19.880561300Z",
     "start_time": "2024-03-14T09:10:19.462310200Z"
    }
   },
   "outputs": [],
   "source": [
    "import pandas as pd\n",
    "import os\n",
    "\n",
    "from main.utils.data_manage_utils import col_stats_to_string\n",
    "\n",
    "# Variables\n",
    "PRINT_STAT_COLS = False\n",
    "ROOT_PATH = os.path.abspath(\"../../\")\n",
    "INPUT_FOLDER = os.path.join(ROOT_PATH, \"data/input\")\n",
    "OUTPUT_FOLDER = os.path.join(ROOT_PATH, \"data/preparation/prepped_files\")"
   ]
  },
  {
   "cell_type": "code",
   "execution_count": 2,
   "outputs": [
    {
     "name": "stdout",
     "output_type": "stream",
     "text": [
      "====================AIRPORTS DESCRIBE====================\n",
      "                  id  latitude_deg  longitude_deg  elevation_ft\n",
      "count   55485.000000  55485.000000   55485.000000  48458.000000\n",
      "mean    85532.585113     25.726149     -35.275926   1246.230364\n",
      "std    121971.928190     27.216164      79.531670   1608.472867\n",
      "min         2.000000    -90.000000    -179.876999  -1266.000000\n",
      "25%     13997.000000      8.251650     -92.056801    206.000000\n",
      "50%     27996.000000     36.501288     -72.068100    720.000000\n",
      "75%     44483.000000     43.794734      14.615308   1500.000000\n",
      "max    332461.000000     82.750000     179.975700  22000.000000\n",
      "====================AIRPORTS INFO====================\n",
      "<class 'pandas.core.frame.DataFrame'>\n",
      "RangeIndex: 55485 entries, 0 to 55484\n",
      "Data columns (total 18 columns):\n",
      " #   Column             Non-Null Count  Dtype  \n",
      "---  ------             --------------  -----  \n",
      " 0   id                 55485 non-null  int64  \n",
      " 1   ident              55485 non-null  object \n",
      " 2   type               55485 non-null  object \n",
      " 3   name               55485 non-null  object \n",
      " 4   latitude_deg       55485 non-null  float64\n",
      " 5   longitude_deg      55485 non-null  float64\n",
      " 6   elevation_ft       48458 non-null  float64\n",
      " 7   continent          27606 non-null  object \n",
      " 8   iso_country        55238 non-null  object \n",
      " 9   iso_region         55485 non-null  object \n",
      " 10  municipality       49755 non-null  object \n",
      " 11  scheduled_service  55485 non-null  object \n",
      " 12  gps_code           41118 non-null  object \n",
      " 13  iata_code          9194 non-null   object \n",
      " 14  local_code         28976 non-null  object \n",
      " 15  home_link          3012 non-null   object \n",
      " 16  wikipedia_link     9909 non-null   object \n",
      " 17  keywords           9545 non-null   object \n",
      "dtypes: float64(3), int64(1), object(14)\n",
      "memory usage: 7.6+ MB\n",
      "None\n",
      "====================AIRPORTS HEAD====================\n",
      "         id ident            type                           name  \\\n",
      "31763  4307  LIAP   small_airport       L'Aquila–Preturo Airport   \n",
      "31769  4309  LIBC  medium_airport                Crotone Airport   \n",
      "31770  4310  LIBD   large_airport     Bari Karol Wojtyła Airport   \n",
      "31776  4314  LIBP  medium_airport  Pescara International Airport   \n",
      "31777  4315  LIBR  medium_airport     Brindisi – Salento Airport   \n",
      "\n",
      "       latitude_deg  longitude_deg  elevation_ft continent iso_country  \\\n",
      "31763     42.379902      13.309200        2211.0        EU          IT   \n",
      "31769     38.997200      17.080200         522.0        EU          IT   \n",
      "31770     41.138901      16.760599         177.0        EU          IT   \n",
      "31776     42.431702      14.181100          48.0        EU          IT   \n",
      "31777     40.657600      17.947001          47.0        EU          IT   \n",
      "\n",
      "      iso_region municipality scheduled_service gps_code iata_code local_code  \\\n",
      "31763      IT-65     L'Aquila                no     LIAP       QAQ       AQ03   \n",
      "31769      IT-78      Crotone               yes     LIBC       CRV       KR01   \n",
      "31770      IT-75         Bari               yes     LIBD       BRI       BA02   \n",
      "31776      IT-65      Pescara               yes     LIBP       PSR       PE01   \n",
      "31777      IT-75     Brindisi               yes     LIBR       BDS       BR03   \n",
      "\n",
      "                                               home_link  \\\n",
      "31763                  http://www.aeroportodeiparchi.it/   \n",
      "31769    http://www.aeroporto.kr.it/cartaservizi_eng.asp   \n",
      "31770  http://www.seap-puglia.it/default.asp?idlingua...   \n",
      "31776        http://www.abruzzo-airport.it/eng/index.php   \n",
      "31777  http://www.seap-puglia.it/default.asp?idlingua...   \n",
      "\n",
      "                                          wikipedia_link  \\\n",
      "31763  http://en.wikipedia.org/wiki/L%27Aquila%E2%80%...   \n",
      "31769       http://en.wikipedia.org/wiki/Crotone_Airport   \n",
      "31770  http://en.wikipedia.org/wiki/Bari_Karol_Wojty%...   \n",
      "31776  http://en.wikipedia.org/wiki/Abruzzo_Internati...   \n",
      "31777  http://en.wikipedia.org/wiki/Brindisi_%E2%80%9...   \n",
      "\n",
      "                                                keywords  \n",
      "31763  Parchi Airport, Preturo Airport, Aeroporto dei...  \n",
      "31769                                  Sant'Anna Airport  \n",
      "31770  Bari \"Karol Wojtyla\" International Airport, Pa...  \n",
      "31776                                           P Liberi  \n",
      "31777                     Brindisi Papola Casale Airport  \n",
      "====================AIRPORTS STATS====================\n"
     ]
    }
   ],
   "source": [
    "#Loading airports data\n",
    "airports_df = pd.read_csv(os.path.join(INPUT_FOLDER,\"data_raw/airports.csv\"), on_bad_lines='warn')\n",
    "print(\"=\"*20 + \"AIRPORTS DESCRIBE\" + \"=\"*20)\n",
    "print(airports_df.describe())\n",
    "print(\"=\"*20 + \"AIRPORTS INFO\" + \"=\"*20)\n",
    "print(airports_df.info())\n",
    "print(\"=\"*20 + \"AIRPORTS HEAD\" + \"=\"*20)\n",
    "print(airports_df[~airports_df.isna().any(axis=1)].head())\n",
    "print(\"=\"*20 + \"AIRPORTS STATS\" + \"=\"*20)\n",
    "if PRINT_STAT_COLS:\n",
    "    print(col_stats_to_string(airports_df))"
   ],
   "metadata": {
    "collapsed": false,
    "pycharm": {
     "name": "#%%\n"
    },
    "ExecuteTime": {
     "end_time": "2024-03-14T09:10:20.470321900Z",
     "start_time": "2024-03-14T09:10:19.883678Z"
    }
   }
  },
  {
   "cell_type": "code",
   "execution_count": 3,
   "outputs": [
    {
     "data": {
      "text/plain": "           id    ident            type                                name  \\\n0        6523      00A        heliport                   Total Rf Heliport   \n1      323361     00AA   small_airport                Aero B Ranch Airport   \n2        6524     00AK   small_airport                        Lowell Field   \n3        6525     00AL   small_airport                        Epps Airpark   \n4        6526     00AR          closed  Newport Hospital & Clinic Heliport   \n...       ...      ...             ...                                 ...   \n55480  317861     ZYYK  medium_airport               Yingkou Lanqi Airport   \n55481   32753     ZYYY  medium_airport             Shenyang Dongta Airport   \n55482   46378  ZZ-0001        heliport                     Sealand Helipad   \n55483  307326  ZZ-0002   small_airport           Glorioso Islands Airstrip   \n55484  313629     ZZZZ   small_airport              Satsuma Iōjima Airport   \n\n       latitude_deg  longitude_deg  elevation_ft iso_region      municipality  \\\n0         40.070801     -74.933601          11.0      US-PA          Bensalem   \n1         38.704022    -101.473911        3435.0      US-KS             Leoti   \n2         59.949200    -151.695999         450.0      US-AK      Anchor Point   \n3         34.864799     -86.770302         820.0      US-AL           Harvest   \n4         35.608700     -91.254898         237.0      US-AR           Newport   \n...             ...            ...           ...        ...               ...   \n55480     40.542524     122.358600           0.0      CN-21           Yingkou   \n55481     41.784401     123.496002           NaN      CN-21          Shenyang   \n55482     51.894444       1.482500          40.0     GB-ENG           Sealand   \n55483    -11.584278      47.296389          11.0     TF-U-A  Grande Glorieuse   \n55484     30.784722     130.270556         338.0      JP-46      Mishima-Mura   \n\n      scheduled_service gps_code iata_code local_code  \n0                    no      00A       NaN        00A  \n1                    no     00AA       NaN       00AA  \n2                    no     00AK       NaN       00AK  \n3                    no     00AL       NaN       00AL  \n4                    no      NaN       NaN        NaN  \n...                 ...      ...       ...        ...  \n55480               yes     ZYYK       YKH        NaN  \n55481                no     ZYYY       NaN        NaN  \n55482                no      NaN       NaN        NaN  \n55483                no      NaN       NaN        NaN  \n55484                no     RJX7       NaN        NaN  \n\n[55485 rows x 13 columns]",
      "text/html": "<div>\n<style scoped>\n    .dataframe tbody tr th:only-of-type {\n        vertical-align: middle;\n    }\n\n    .dataframe tbody tr th {\n        vertical-align: top;\n    }\n\n    .dataframe thead th {\n        text-align: right;\n    }\n</style>\n<table border=\"1\" class=\"dataframe\">\n  <thead>\n    <tr style=\"text-align: right;\">\n      <th></th>\n      <th>id</th>\n      <th>ident</th>\n      <th>type</th>\n      <th>name</th>\n      <th>latitude_deg</th>\n      <th>longitude_deg</th>\n      <th>elevation_ft</th>\n      <th>iso_region</th>\n      <th>municipality</th>\n      <th>scheduled_service</th>\n      <th>gps_code</th>\n      <th>iata_code</th>\n      <th>local_code</th>\n    </tr>\n  </thead>\n  <tbody>\n    <tr>\n      <th>0</th>\n      <td>6523</td>\n      <td>00A</td>\n      <td>heliport</td>\n      <td>Total Rf Heliport</td>\n      <td>40.070801</td>\n      <td>-74.933601</td>\n      <td>11.0</td>\n      <td>US-PA</td>\n      <td>Bensalem</td>\n      <td>no</td>\n      <td>00A</td>\n      <td>NaN</td>\n      <td>00A</td>\n    </tr>\n    <tr>\n      <th>1</th>\n      <td>323361</td>\n      <td>00AA</td>\n      <td>small_airport</td>\n      <td>Aero B Ranch Airport</td>\n      <td>38.704022</td>\n      <td>-101.473911</td>\n      <td>3435.0</td>\n      <td>US-KS</td>\n      <td>Leoti</td>\n      <td>no</td>\n      <td>00AA</td>\n      <td>NaN</td>\n      <td>00AA</td>\n    </tr>\n    <tr>\n      <th>2</th>\n      <td>6524</td>\n      <td>00AK</td>\n      <td>small_airport</td>\n      <td>Lowell Field</td>\n      <td>59.949200</td>\n      <td>-151.695999</td>\n      <td>450.0</td>\n      <td>US-AK</td>\n      <td>Anchor Point</td>\n      <td>no</td>\n      <td>00AK</td>\n      <td>NaN</td>\n      <td>00AK</td>\n    </tr>\n    <tr>\n      <th>3</th>\n      <td>6525</td>\n      <td>00AL</td>\n      <td>small_airport</td>\n      <td>Epps Airpark</td>\n      <td>34.864799</td>\n      <td>-86.770302</td>\n      <td>820.0</td>\n      <td>US-AL</td>\n      <td>Harvest</td>\n      <td>no</td>\n      <td>00AL</td>\n      <td>NaN</td>\n      <td>00AL</td>\n    </tr>\n    <tr>\n      <th>4</th>\n      <td>6526</td>\n      <td>00AR</td>\n      <td>closed</td>\n      <td>Newport Hospital &amp; Clinic Heliport</td>\n      <td>35.608700</td>\n      <td>-91.254898</td>\n      <td>237.0</td>\n      <td>US-AR</td>\n      <td>Newport</td>\n      <td>no</td>\n      <td>NaN</td>\n      <td>NaN</td>\n      <td>NaN</td>\n    </tr>\n    <tr>\n      <th>...</th>\n      <td>...</td>\n      <td>...</td>\n      <td>...</td>\n      <td>...</td>\n      <td>...</td>\n      <td>...</td>\n      <td>...</td>\n      <td>...</td>\n      <td>...</td>\n      <td>...</td>\n      <td>...</td>\n      <td>...</td>\n      <td>...</td>\n    </tr>\n    <tr>\n      <th>55480</th>\n      <td>317861</td>\n      <td>ZYYK</td>\n      <td>medium_airport</td>\n      <td>Yingkou Lanqi Airport</td>\n      <td>40.542524</td>\n      <td>122.358600</td>\n      <td>0.0</td>\n      <td>CN-21</td>\n      <td>Yingkou</td>\n      <td>yes</td>\n      <td>ZYYK</td>\n      <td>YKH</td>\n      <td>NaN</td>\n    </tr>\n    <tr>\n      <th>55481</th>\n      <td>32753</td>\n      <td>ZYYY</td>\n      <td>medium_airport</td>\n      <td>Shenyang Dongta Airport</td>\n      <td>41.784401</td>\n      <td>123.496002</td>\n      <td>NaN</td>\n      <td>CN-21</td>\n      <td>Shenyang</td>\n      <td>no</td>\n      <td>ZYYY</td>\n      <td>NaN</td>\n      <td>NaN</td>\n    </tr>\n    <tr>\n      <th>55482</th>\n      <td>46378</td>\n      <td>ZZ-0001</td>\n      <td>heliport</td>\n      <td>Sealand Helipad</td>\n      <td>51.894444</td>\n      <td>1.482500</td>\n      <td>40.0</td>\n      <td>GB-ENG</td>\n      <td>Sealand</td>\n      <td>no</td>\n      <td>NaN</td>\n      <td>NaN</td>\n      <td>NaN</td>\n    </tr>\n    <tr>\n      <th>55483</th>\n      <td>307326</td>\n      <td>ZZ-0002</td>\n      <td>small_airport</td>\n      <td>Glorioso Islands Airstrip</td>\n      <td>-11.584278</td>\n      <td>47.296389</td>\n      <td>11.0</td>\n      <td>TF-U-A</td>\n      <td>Grande Glorieuse</td>\n      <td>no</td>\n      <td>NaN</td>\n      <td>NaN</td>\n      <td>NaN</td>\n    </tr>\n    <tr>\n      <th>55484</th>\n      <td>313629</td>\n      <td>ZZZZ</td>\n      <td>small_airport</td>\n      <td>Satsuma Iōjima Airport</td>\n      <td>30.784722</td>\n      <td>130.270556</td>\n      <td>338.0</td>\n      <td>JP-46</td>\n      <td>Mishima-Mura</td>\n      <td>no</td>\n      <td>RJX7</td>\n      <td>NaN</td>\n      <td>NaN</td>\n    </tr>\n  </tbody>\n</table>\n<p>55485 rows × 13 columns</p>\n</div>"
     },
     "execution_count": 3,
     "metadata": {},
     "output_type": "execute_result"
    }
   ],
   "source": [
    "na_airports_df = airports_df.drop(columns = [\"continent\", \"iso_country\",\"wikipedia_link\", \"home_link\", \"keywords\"])\n",
    "na_airports_df"
   ],
   "metadata": {
    "collapsed": false,
    "pycharm": {
     "name": "#%%\n"
    },
    "ExecuteTime": {
     "end_time": "2024-03-14T09:10:20.499325Z",
     "start_time": "2024-03-14T09:10:20.430325500Z"
    }
   }
  },
  {
   "cell_type": "code",
   "execution_count": 4,
   "outputs": [
    {
     "data": {
      "text/plain": "           id    ident            type                                name  \\\n0        6523      00A        heliport                   Total Rf Heliport   \n1      323361     00AA   small_airport                Aero B Ranch Airport   \n2        6524     00AK   small_airport                        Lowell Field   \n3        6525     00AL   small_airport                        Epps Airpark   \n4        6526     00AR          closed  Newport Hospital & Clinic Heliport   \n...       ...      ...             ...                                 ...   \n55480  317861     ZYYK  medium_airport               Yingkou Lanqi Airport   \n55481   32753     ZYYY  medium_airport             Shenyang Dongta Airport   \n55482   46378  ZZ-0001        heliport                     Sealand Helipad   \n55483  307326  ZZ-0002   small_airport           Glorioso Islands Airstrip   \n55484  313629     ZZZZ   small_airport              Satsuma Iōjima Airport   \n\n       latitude_deg  longitude_deg  elevation_ft iso_region      municipality  \\\n0         40.070801     -74.933601          11.0      US-PA          Bensalem   \n1         38.704022    -101.473911        3435.0      US-KS             Leoti   \n2         59.949200    -151.695999         450.0      US-AK      Anchor Point   \n3         34.864799     -86.770302         820.0      US-AL           Harvest   \n4         35.608700     -91.254898         237.0      US-AR           Newport   \n...             ...            ...           ...        ...               ...   \n55480     40.542524     122.358600           0.0      CN-21           Yingkou   \n55481     41.784401     123.496002           NaN      CN-21          Shenyang   \n55482     51.894444       1.482500          40.0     GB-ENG           Sealand   \n55483    -11.584278      47.296389          11.0     TF-U-A  Grande Glorieuse   \n55484     30.784722     130.270556         338.0      JP-46      Mishima-Mura   \n\n      scheduled_service gps_code iata_code local_code  \n0                    no      00A       NaN        00A  \n1                    no     00AA       NaN       00AA  \n2                    no     00AK       NaN       00AK  \n3                    no     00AL       NaN       00AL  \n4                    no      NaN       NaN        NaN  \n...                 ...      ...       ...        ...  \n55480               yes     ZYYK       YKH        NaN  \n55481                no     ZYYY       NaN        NaN  \n55482                no      NaN       NaN        NaN  \n55483                no      NaN       NaN        NaN  \n55484                no     RJX7       NaN        NaN  \n\n[55485 rows x 13 columns]",
      "text/html": "<div>\n<style scoped>\n    .dataframe tbody tr th:only-of-type {\n        vertical-align: middle;\n    }\n\n    .dataframe tbody tr th {\n        vertical-align: top;\n    }\n\n    .dataframe thead th {\n        text-align: right;\n    }\n</style>\n<table border=\"1\" class=\"dataframe\">\n  <thead>\n    <tr style=\"text-align: right;\">\n      <th></th>\n      <th>id</th>\n      <th>ident</th>\n      <th>type</th>\n      <th>name</th>\n      <th>latitude_deg</th>\n      <th>longitude_deg</th>\n      <th>elevation_ft</th>\n      <th>iso_region</th>\n      <th>municipality</th>\n      <th>scheduled_service</th>\n      <th>gps_code</th>\n      <th>iata_code</th>\n      <th>local_code</th>\n    </tr>\n  </thead>\n  <tbody>\n    <tr>\n      <th>0</th>\n      <td>6523</td>\n      <td>00A</td>\n      <td>heliport</td>\n      <td>Total Rf Heliport</td>\n      <td>40.070801</td>\n      <td>-74.933601</td>\n      <td>11.0</td>\n      <td>US-PA</td>\n      <td>Bensalem</td>\n      <td>no</td>\n      <td>00A</td>\n      <td>NaN</td>\n      <td>00A</td>\n    </tr>\n    <tr>\n      <th>1</th>\n      <td>323361</td>\n      <td>00AA</td>\n      <td>small_airport</td>\n      <td>Aero B Ranch Airport</td>\n      <td>38.704022</td>\n      <td>-101.473911</td>\n      <td>3435.0</td>\n      <td>US-KS</td>\n      <td>Leoti</td>\n      <td>no</td>\n      <td>00AA</td>\n      <td>NaN</td>\n      <td>00AA</td>\n    </tr>\n    <tr>\n      <th>2</th>\n      <td>6524</td>\n      <td>00AK</td>\n      <td>small_airport</td>\n      <td>Lowell Field</td>\n      <td>59.949200</td>\n      <td>-151.695999</td>\n      <td>450.0</td>\n      <td>US-AK</td>\n      <td>Anchor Point</td>\n      <td>no</td>\n      <td>00AK</td>\n      <td>NaN</td>\n      <td>00AK</td>\n    </tr>\n    <tr>\n      <th>3</th>\n      <td>6525</td>\n      <td>00AL</td>\n      <td>small_airport</td>\n      <td>Epps Airpark</td>\n      <td>34.864799</td>\n      <td>-86.770302</td>\n      <td>820.0</td>\n      <td>US-AL</td>\n      <td>Harvest</td>\n      <td>no</td>\n      <td>00AL</td>\n      <td>NaN</td>\n      <td>00AL</td>\n    </tr>\n    <tr>\n      <th>4</th>\n      <td>6526</td>\n      <td>00AR</td>\n      <td>closed</td>\n      <td>Newport Hospital &amp; Clinic Heliport</td>\n      <td>35.608700</td>\n      <td>-91.254898</td>\n      <td>237.0</td>\n      <td>US-AR</td>\n      <td>Newport</td>\n      <td>no</td>\n      <td>NaN</td>\n      <td>NaN</td>\n      <td>NaN</td>\n    </tr>\n    <tr>\n      <th>...</th>\n      <td>...</td>\n      <td>...</td>\n      <td>...</td>\n      <td>...</td>\n      <td>...</td>\n      <td>...</td>\n      <td>...</td>\n      <td>...</td>\n      <td>...</td>\n      <td>...</td>\n      <td>...</td>\n      <td>...</td>\n      <td>...</td>\n    </tr>\n    <tr>\n      <th>55480</th>\n      <td>317861</td>\n      <td>ZYYK</td>\n      <td>medium_airport</td>\n      <td>Yingkou Lanqi Airport</td>\n      <td>40.542524</td>\n      <td>122.358600</td>\n      <td>0.0</td>\n      <td>CN-21</td>\n      <td>Yingkou</td>\n      <td>yes</td>\n      <td>ZYYK</td>\n      <td>YKH</td>\n      <td>NaN</td>\n    </tr>\n    <tr>\n      <th>55481</th>\n      <td>32753</td>\n      <td>ZYYY</td>\n      <td>medium_airport</td>\n      <td>Shenyang Dongta Airport</td>\n      <td>41.784401</td>\n      <td>123.496002</td>\n      <td>NaN</td>\n      <td>CN-21</td>\n      <td>Shenyang</td>\n      <td>no</td>\n      <td>ZYYY</td>\n      <td>NaN</td>\n      <td>NaN</td>\n    </tr>\n    <tr>\n      <th>55482</th>\n      <td>46378</td>\n      <td>ZZ-0001</td>\n      <td>heliport</td>\n      <td>Sealand Helipad</td>\n      <td>51.894444</td>\n      <td>1.482500</td>\n      <td>40.0</td>\n      <td>GB-ENG</td>\n      <td>Sealand</td>\n      <td>no</td>\n      <td>NaN</td>\n      <td>NaN</td>\n      <td>NaN</td>\n    </tr>\n    <tr>\n      <th>55483</th>\n      <td>307326</td>\n      <td>ZZ-0002</td>\n      <td>small_airport</td>\n      <td>Glorioso Islands Airstrip</td>\n      <td>-11.584278</td>\n      <td>47.296389</td>\n      <td>11.0</td>\n      <td>TF-U-A</td>\n      <td>Grande Glorieuse</td>\n      <td>no</td>\n      <td>NaN</td>\n      <td>NaN</td>\n      <td>NaN</td>\n    </tr>\n    <tr>\n      <th>55484</th>\n      <td>313629</td>\n      <td>ZZZZ</td>\n      <td>small_airport</td>\n      <td>Satsuma Iōjima Airport</td>\n      <td>30.784722</td>\n      <td>130.270556</td>\n      <td>338.0</td>\n      <td>JP-46</td>\n      <td>Mishima-Mura</td>\n      <td>no</td>\n      <td>RJX7</td>\n      <td>NaN</td>\n      <td>NaN</td>\n    </tr>\n  </tbody>\n</table>\n<p>55485 rows × 13 columns</p>\n</div>"
     },
     "execution_count": 4,
     "metadata": {},
     "output_type": "execute_result"
    }
   ],
   "source": [
    "na_airports_df"
   ],
   "metadata": {
    "collapsed": false,
    "pycharm": {
     "name": "#%%\n"
    },
    "ExecuteTime": {
     "end_time": "2024-03-14T09:10:20.565324500Z",
     "start_time": "2024-03-14T09:10:20.492325100Z"
    }
   }
  },
  {
   "cell_type": "code",
   "execution_count": 4,
   "outputs": [],
   "source": [],
   "metadata": {
    "collapsed": false,
    "ExecuteTime": {
     "end_time": "2024-03-14T09:10:20.611322500Z",
     "start_time": "2024-03-14T09:10:20.522325Z"
    }
   }
  }
 ],
 "metadata": {
  "kernelspec": {
   "display_name": "Python 3",
   "language": "python",
   "name": "python3"
  },
  "language_info": {
   "codemirror_mode": {
    "name": "ipython",
    "version": 2
   },
   "file_extension": ".py",
   "mimetype": "text/x-python",
   "name": "python",
   "nbconvert_exporter": "python",
   "pygments_lexer": "ipython2",
   "version": "2.7.6"
  }
 },
 "nbformat": 4,
 "nbformat_minor": 0
}
