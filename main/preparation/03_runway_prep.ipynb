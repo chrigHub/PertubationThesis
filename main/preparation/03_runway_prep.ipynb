{
 "cells": [
  {
   "cell_type": "code",
   "execution_count": 1,
   "metadata": {
    "collapsed": true,
    "ExecuteTime": {
     "end_time": "2024-03-24T14:53:18.013643Z",
     "start_time": "2024-03-24T14:53:17.098072500Z"
    }
   },
   "outputs": [],
   "source": [
    "import pandas as pd\n",
    "import os\n",
    "# Variables\n",
    "PRINT_STAT_COLS = False\n",
    "ROOT_PATH = os.path.abspath(\"../../\")\n",
    "INPUT_FOLDER = os.path.join(ROOT_PATH, \"data/input\")\n",
    "OUTPUT_FOLDER = os.path.join(ROOT_PATH, \"data/preparation/prepped_files\")"
   ]
  },
  {
   "cell_type": "code",
   "execution_count": 2,
   "outputs": [
    {
     "name": "stdout",
     "output_type": "stream",
     "text": [
      "====================RUNWAYS DESCRIBE====================\n",
      "                  id    airport_ref      length_ft      width_ft  \\\n",
      "count   41383.000000   41383.000000   41193.000000  38728.000000   \n",
      "mean   256849.131745   32683.987169    3264.063846    110.638091   \n",
      "std     20566.421018   65148.247698    2735.417166    232.403520   \n",
      "min    232758.000000       2.000000       0.000000      0.000000   \n",
      "25%    243114.500000    8479.500000    1700.000000     59.000000   \n",
      "50%    253465.000000   18595.000000    2750.000000     75.000000   \n",
      "75%    263823.500000   27243.500000    4250.000000    100.000000   \n",
      "max    332459.000000  332458.000000  120000.000000   9000.000000   \n",
      "\n",
      "            lighted        closed  le_latitude_deg  le_longitude_deg  \\\n",
      "count  41383.000000  41383.000000     1.439700e+04      14394.000000   \n",
      "mean       0.261339      0.014644     7.258186e+02        -40.376565   \n",
      "std        0.439370      0.120123     8.334176e+04         79.858304   \n",
      "min        0.000000      0.000000    -7.559720e+01       -178.303000   \n",
      "25%        0.000000      0.000000     2.885890e+01        -96.676725   \n",
      "50%        0.000000      0.000000     3.760050e+01        -80.443850   \n",
      "75%        1.000000      0.000000     4.427290e+01         15.297200   \n",
      "max        1.000000      1.000000     1.000000e+07        179.337000   \n",
      "\n",
      "       le_elevation_ft  le_heading_degT  le_displaced_threshold_ft  \\\n",
      "count     1.217900e+04     14189.000000               2.810000e+03   \n",
      "mean      1.880386e+03       174.750853               4.091040e+03   \n",
      "std       9.061601e+04      8394.385587               1.886362e+05   \n",
      "min      -1.246000e+03         0.000000               1.000000e+00   \n",
      "25%       1.170000e+02        57.000000               2.300000e+02   \n",
      "50%       5.710000e+02        98.100000               4.000000e+02   \n",
      "75%       1.245000e+03       148.000000               6.807500e+02   \n",
      "max       1.000000e+07   1000000.000000               1.000000e+07   \n",
      "\n",
      "       he_latitude_deg  he_longitude_deg  he_elevation_ft  he_heading_degT  \\\n",
      "count     14379.000000      14381.000000     12059.000000     15999.000000   \n",
      "mean         31.226594        -40.337643      1053.873290       261.711348   \n",
      "std          22.990649         79.852144      1458.415762        78.477302   \n",
      "min         -75.595400       -178.292000     -1210.000000         0.000000   \n",
      "25%          28.849300        -96.672000       115.500000       226.000000   \n",
      "50%          37.590600        -80.417600       566.000000       270.000000   \n",
      "75%          44.264150         15.334600      1235.000000       316.000000   \n",
      "max          82.522800        179.343000     13314.000000       363.000000   \n",
      "\n",
      "       he_displaced_threshold_ft  Unnamed: 20  \n",
      "count                3122.000000          0.0  \n",
      "mean                  537.436899          NaN  \n",
      "std                   468.955227          NaN  \n",
      "min                     1.000000          NaN  \n",
      "25%                   227.250000          NaN  \n",
      "50%                   400.000000          NaN  \n",
      "75%                   699.000000          NaN  \n",
      "max                  5001.000000          NaN  \n",
      "====================RUNWAYS HEAD====================\n",
      "       id  airport_ref airport_ident  length_ft  width_ft surface  lighted  \\\n",
      "0  269408         6523           00A       80.0      80.0  ASPH-G        1   \n",
      "1  255155         6524          00AK     2500.0      70.0    GRVL        0   \n",
      "2  254165         6525          00AL     2300.0     200.0    TURF        0   \n",
      "3  270932         6526          00AR       40.0      40.0   GRASS        0   \n",
      "4  322128       322127          00AS     1450.0      60.0    Turf        0   \n",
      "\n",
      "   closed le_ident  le_latitude_deg  ...  le_elevation_ft  le_heading_degT  \\\n",
      "0       0       H1              NaN  ...              NaN              NaN   \n",
      "1       0        N              NaN  ...              NaN              NaN   \n",
      "2       0       01              NaN  ...              NaN              NaN   \n",
      "3       0       H1              NaN  ...              NaN              NaN   \n",
      "4       0        1              NaN  ...              NaN              NaN   \n",
      "\n",
      "   le_displaced_threshold_ft  he_ident he_latitude_deg  he_longitude_deg  \\\n",
      "0                        NaN       NaN             NaN               NaN   \n",
      "1                        NaN         S             NaN               NaN   \n",
      "2                        NaN        19             NaN               NaN   \n",
      "3                        NaN        H1             NaN               NaN   \n",
      "4                        NaN        19             NaN               NaN   \n",
      "\n",
      "   he_elevation_ft  he_heading_degT  he_displaced_threshold_ft  Unnamed: 20  \n",
      "0              NaN              NaN                        NaN          NaN  \n",
      "1              NaN              NaN                        NaN          NaN  \n",
      "2              NaN              NaN                        NaN          NaN  \n",
      "3              NaN              NaN                        NaN          NaN  \n",
      "4              NaN              NaN                        NaN          NaN  \n",
      "\n",
      "[5 rows x 21 columns]\n",
      "====================RUNWAYS INFO====================\n",
      "<class 'pandas.core.frame.DataFrame'>\n",
      "RangeIndex: 41383 entries, 0 to 41382\n",
      "Data columns (total 21 columns):\n",
      " #   Column                     Non-Null Count  Dtype  \n",
      "---  ------                     --------------  -----  \n",
      " 0   id                         41383 non-null  int64  \n",
      " 1   airport_ref                41383 non-null  int64  \n",
      " 2   airport_ident              41383 non-null  object \n",
      " 3   length_ft                  41193 non-null  float64\n",
      " 4   width_ft                   38728 non-null  float64\n",
      " 5   surface                    41065 non-null  object \n",
      " 6   lighted                    41383 non-null  int64  \n",
      " 7   closed                     41383 non-null  int64  \n",
      " 8   le_ident                   41263 non-null  object \n",
      " 9   le_latitude_deg            14397 non-null  float64\n",
      " 10  le_longitude_deg           14394 non-null  float64\n",
      " 11  le_elevation_ft            12179 non-null  float64\n",
      " 12  le_heading_degT            14189 non-null  float64\n",
      " 13  le_displaced_threshold_ft  2810 non-null   float64\n",
      " 14  he_ident                   35245 non-null  object \n",
      " 15  he_latitude_deg            14379 non-null  float64\n",
      " 16  he_longitude_deg           14381 non-null  float64\n",
      " 17  he_elevation_ft            12059 non-null  float64\n",
      " 18  he_heading_degT            15999 non-null  float64\n",
      " 19  he_displaced_threshold_ft  3122 non-null   float64\n",
      " 20  Unnamed: 20                0 non-null      float64\n",
      "dtypes: float64(13), int64(4), object(4)\n",
      "memory usage: 6.6+ MB\n",
      "None\n"
     ]
    }
   ],
   "source": [
    "#Loading runways data\n",
    "runways_df = pd.read_csv(os.path.join(INPUT_FOLDER,\"data_raw/runways.csv\"),encoding='latin-1', on_bad_lines='warn')\n",
    "print(\"=\"*20 + \"RUNWAYS DESCRIBE\" + \"=\"*20)\n",
    "print(runways_df.describe())\n",
    "print(\"=\"*20 + \"RUNWAYS HEAD\" + \"=\"*20)\n",
    "print(runways_df.head())\n",
    "print(\"=\"*20 + \"RUNWAYS INFO\" + \"=\"*20)\n",
    "print(runways_df.info())"
   ],
   "metadata": {
    "collapsed": false,
    "pycharm": {
     "name": "#%%\n"
    },
    "ExecuteTime": {
     "end_time": "2024-03-24T14:53:18.344647400Z",
     "start_time": "2024-03-24T14:53:18.014645300Z"
    }
   }
  },
  {
   "cell_type": "code",
   "execution_count": 3,
   "outputs": [
    {
     "data": {
      "text/plain": "           id  airport_ref airport_ident  length_ft  width_ft   surface  \\\n0      269408         6523           00A       80.0      80.0    ASPH-G   \n1      255155         6524          00AK     2500.0      70.0      GRVL   \n2      254165         6525          00AL     2300.0     200.0      TURF   \n3      270932         6526          00AR       40.0      40.0     GRASS   \n4      322128       322127          00AS     1450.0      60.0      Turf   \n...       ...          ...           ...        ...       ...       ...   \n41378  327703       327451          ZYSQ     8202.0     148.0       NaN   \n41379  235188        27242          ZYTL    10827.0     148.0       CON   \n41380  235186        27243          ZYTX    10499.0     148.0       CON   \n41381  235169        27244          ZYYJ     8530.0     148.0       CON   \n41382  313663       313629          ZZZZ     1713.0      82.0  concrete   \n\n       lighted  closed le_ident  le_latitude_deg  ...  le_elevation_ft  \\\n0            1       0       H1              NaN  ...              NaN   \n1            0       0        N              NaN  ...              NaN   \n2            0       0       01              NaN  ...              NaN   \n3            0       0       H1              NaN  ...              NaN   \n4            0       0        1              NaN  ...              NaN   \n...        ...     ...      ...              ...  ...              ...   \n41378        0       0       04              NaN  ...              NaN   \n41379        1       0       10          38.9671  ...            105.0   \n41380        1       0       06          41.6304  ...            171.0   \n41381        1       0       09          42.8811  ...            623.0   \n41382        0       0       18          30.7835  ...              NaN   \n\n       le_heading_degT  le_displaced_threshold_ft  he_ident he_latitude_deg  \\\n0                  NaN                        NaN       NaN             NaN   \n1                  NaN                        NaN         S             NaN   \n2                  NaN                        NaN        19             NaN   \n3                  NaN                        NaN        H1             NaN   \n4                  NaN                        NaN        19             NaN   \n...                ...                        ...       ...             ...   \n41378              NaN                        NaN        22             NaN   \n41379             95.6                      650.0        28         38.9642   \n41380             48.7                        NaN        24         41.6493   \n41381             81.7                        NaN        27         42.8845   \n41382              NaN                        NaN        36         30.7781   \n\n       he_longitude_deg  he_elevation_ft  he_heading_degT  \\\n0                   NaN              NaN              NaN   \n1                   NaN              NaN              NaN   \n2                   NaN              NaN              NaN   \n3                   NaN              NaN              NaN   \n4                   NaN              NaN              NaN   \n...                 ...              ...              ...   \n41378               NaN              NaN              NaN   \n41379           121.558             85.0            275.6   \n41380           123.498            197.0            228.7   \n41381           129.467            597.0            261.7   \n41382           130.273              NaN              NaN   \n\n       he_displaced_threshold_ft  Unnamed: 20  \n0                            NaN          NaN  \n1                            NaN          NaN  \n2                            NaN          NaN  \n3                            NaN          NaN  \n4                            NaN          NaN  \n...                          ...          ...  \n41378                        NaN          NaN  \n41379                      320.0          NaN  \n41380                        NaN          NaN  \n41381                        NaN          NaN  \n41382                        NaN          NaN  \n\n[41383 rows x 21 columns]",
      "text/html": "<div>\n<style scoped>\n    .dataframe tbody tr th:only-of-type {\n        vertical-align: middle;\n    }\n\n    .dataframe tbody tr th {\n        vertical-align: top;\n    }\n\n    .dataframe thead th {\n        text-align: right;\n    }\n</style>\n<table border=\"1\" class=\"dataframe\">\n  <thead>\n    <tr style=\"text-align: right;\">\n      <th></th>\n      <th>id</th>\n      <th>airport_ref</th>\n      <th>airport_ident</th>\n      <th>length_ft</th>\n      <th>width_ft</th>\n      <th>surface</th>\n      <th>lighted</th>\n      <th>closed</th>\n      <th>le_ident</th>\n      <th>le_latitude_deg</th>\n      <th>...</th>\n      <th>le_elevation_ft</th>\n      <th>le_heading_degT</th>\n      <th>le_displaced_threshold_ft</th>\n      <th>he_ident</th>\n      <th>he_latitude_deg</th>\n      <th>he_longitude_deg</th>\n      <th>he_elevation_ft</th>\n      <th>he_heading_degT</th>\n      <th>he_displaced_threshold_ft</th>\n      <th>Unnamed: 20</th>\n    </tr>\n  </thead>\n  <tbody>\n    <tr>\n      <th>0</th>\n      <td>269408</td>\n      <td>6523</td>\n      <td>00A</td>\n      <td>80.0</td>\n      <td>80.0</td>\n      <td>ASPH-G</td>\n      <td>1</td>\n      <td>0</td>\n      <td>H1</td>\n      <td>NaN</td>\n      <td>...</td>\n      <td>NaN</td>\n      <td>NaN</td>\n      <td>NaN</td>\n      <td>NaN</td>\n      <td>NaN</td>\n      <td>NaN</td>\n      <td>NaN</td>\n      <td>NaN</td>\n      <td>NaN</td>\n      <td>NaN</td>\n    </tr>\n    <tr>\n      <th>1</th>\n      <td>255155</td>\n      <td>6524</td>\n      <td>00AK</td>\n      <td>2500.0</td>\n      <td>70.0</td>\n      <td>GRVL</td>\n      <td>0</td>\n      <td>0</td>\n      <td>N</td>\n      <td>NaN</td>\n      <td>...</td>\n      <td>NaN</td>\n      <td>NaN</td>\n      <td>NaN</td>\n      <td>S</td>\n      <td>NaN</td>\n      <td>NaN</td>\n      <td>NaN</td>\n      <td>NaN</td>\n      <td>NaN</td>\n      <td>NaN</td>\n    </tr>\n    <tr>\n      <th>2</th>\n      <td>254165</td>\n      <td>6525</td>\n      <td>00AL</td>\n      <td>2300.0</td>\n      <td>200.0</td>\n      <td>TURF</td>\n      <td>0</td>\n      <td>0</td>\n      <td>01</td>\n      <td>NaN</td>\n      <td>...</td>\n      <td>NaN</td>\n      <td>NaN</td>\n      <td>NaN</td>\n      <td>19</td>\n      <td>NaN</td>\n      <td>NaN</td>\n      <td>NaN</td>\n      <td>NaN</td>\n      <td>NaN</td>\n      <td>NaN</td>\n    </tr>\n    <tr>\n      <th>3</th>\n      <td>270932</td>\n      <td>6526</td>\n      <td>00AR</td>\n      <td>40.0</td>\n      <td>40.0</td>\n      <td>GRASS</td>\n      <td>0</td>\n      <td>0</td>\n      <td>H1</td>\n      <td>NaN</td>\n      <td>...</td>\n      <td>NaN</td>\n      <td>NaN</td>\n      <td>NaN</td>\n      <td>H1</td>\n      <td>NaN</td>\n      <td>NaN</td>\n      <td>NaN</td>\n      <td>NaN</td>\n      <td>NaN</td>\n      <td>NaN</td>\n    </tr>\n    <tr>\n      <th>4</th>\n      <td>322128</td>\n      <td>322127</td>\n      <td>00AS</td>\n      <td>1450.0</td>\n      <td>60.0</td>\n      <td>Turf</td>\n      <td>0</td>\n      <td>0</td>\n      <td>1</td>\n      <td>NaN</td>\n      <td>...</td>\n      <td>NaN</td>\n      <td>NaN</td>\n      <td>NaN</td>\n      <td>19</td>\n      <td>NaN</td>\n      <td>NaN</td>\n      <td>NaN</td>\n      <td>NaN</td>\n      <td>NaN</td>\n      <td>NaN</td>\n    </tr>\n    <tr>\n      <th>...</th>\n      <td>...</td>\n      <td>...</td>\n      <td>...</td>\n      <td>...</td>\n      <td>...</td>\n      <td>...</td>\n      <td>...</td>\n      <td>...</td>\n      <td>...</td>\n      <td>...</td>\n      <td>...</td>\n      <td>...</td>\n      <td>...</td>\n      <td>...</td>\n      <td>...</td>\n      <td>...</td>\n      <td>...</td>\n      <td>...</td>\n      <td>...</td>\n      <td>...</td>\n      <td>...</td>\n    </tr>\n    <tr>\n      <th>41378</th>\n      <td>327703</td>\n      <td>327451</td>\n      <td>ZYSQ</td>\n      <td>8202.0</td>\n      <td>148.0</td>\n      <td>NaN</td>\n      <td>0</td>\n      <td>0</td>\n      <td>04</td>\n      <td>NaN</td>\n      <td>...</td>\n      <td>NaN</td>\n      <td>NaN</td>\n      <td>NaN</td>\n      <td>22</td>\n      <td>NaN</td>\n      <td>NaN</td>\n      <td>NaN</td>\n      <td>NaN</td>\n      <td>NaN</td>\n      <td>NaN</td>\n    </tr>\n    <tr>\n      <th>41379</th>\n      <td>235188</td>\n      <td>27242</td>\n      <td>ZYTL</td>\n      <td>10827.0</td>\n      <td>148.0</td>\n      <td>CON</td>\n      <td>1</td>\n      <td>0</td>\n      <td>10</td>\n      <td>38.9671</td>\n      <td>...</td>\n      <td>105.0</td>\n      <td>95.6</td>\n      <td>650.0</td>\n      <td>28</td>\n      <td>38.9642</td>\n      <td>121.558</td>\n      <td>85.0</td>\n      <td>275.6</td>\n      <td>320.0</td>\n      <td>NaN</td>\n    </tr>\n    <tr>\n      <th>41380</th>\n      <td>235186</td>\n      <td>27243</td>\n      <td>ZYTX</td>\n      <td>10499.0</td>\n      <td>148.0</td>\n      <td>CON</td>\n      <td>1</td>\n      <td>0</td>\n      <td>06</td>\n      <td>41.6304</td>\n      <td>...</td>\n      <td>171.0</td>\n      <td>48.7</td>\n      <td>NaN</td>\n      <td>24</td>\n      <td>41.6493</td>\n      <td>123.498</td>\n      <td>197.0</td>\n      <td>228.7</td>\n      <td>NaN</td>\n      <td>NaN</td>\n    </tr>\n    <tr>\n      <th>41381</th>\n      <td>235169</td>\n      <td>27244</td>\n      <td>ZYYJ</td>\n      <td>8530.0</td>\n      <td>148.0</td>\n      <td>CON</td>\n      <td>1</td>\n      <td>0</td>\n      <td>09</td>\n      <td>42.8811</td>\n      <td>...</td>\n      <td>623.0</td>\n      <td>81.7</td>\n      <td>NaN</td>\n      <td>27</td>\n      <td>42.8845</td>\n      <td>129.467</td>\n      <td>597.0</td>\n      <td>261.7</td>\n      <td>NaN</td>\n      <td>NaN</td>\n    </tr>\n    <tr>\n      <th>41382</th>\n      <td>313663</td>\n      <td>313629</td>\n      <td>ZZZZ</td>\n      <td>1713.0</td>\n      <td>82.0</td>\n      <td>concrete</td>\n      <td>0</td>\n      <td>0</td>\n      <td>18</td>\n      <td>30.7835</td>\n      <td>...</td>\n      <td>NaN</td>\n      <td>NaN</td>\n      <td>NaN</td>\n      <td>36</td>\n      <td>30.7781</td>\n      <td>130.273</td>\n      <td>NaN</td>\n      <td>NaN</td>\n      <td>NaN</td>\n      <td>NaN</td>\n    </tr>\n  </tbody>\n</table>\n<p>41383 rows × 21 columns</p>\n</div>"
     },
     "execution_count": 3,
     "metadata": {},
     "output_type": "execute_result"
    }
   ],
   "source": [
    "runways_df"
   ],
   "metadata": {
    "collapsed": false,
    "pycharm": {
     "name": "#%%\n"
    },
    "ExecuteTime": {
     "end_time": "2024-03-24T14:53:18.458646200Z",
     "start_time": "2024-03-24T14:53:18.343649Z"
    }
   }
  },
  {
   "cell_type": "code",
   "execution_count": 4,
   "outputs": [
    {
     "data": {
      "text/plain": "       length_ft  width_ft surface  lighted  closed le_ident  le_latitude_deg  \\\n19575     9000.0     150.0     CON        1       0      08L          33.6495   \n19576    10000.0     150.0     CON        1       0      08R          33.6468   \n19577    11890.0     150.0     CON        1       0      09L          33.6347   \n19578     9001.0     150.0     CON        1       0      09R          33.6318   \n19579     9000.0     150.0     CON        1       0       10          33.6203   \n\n       le_longitude_deg  le_elevation_ft  le_heading_degT he_ident  \\\n19575          -84.4390           1015.0             90.0      26R   \n19576          -84.4384           1024.0             90.0      26L   \n19577          -84.4480           1019.0             90.0      27R   \n19578          -84.4480           1026.0             90.0      27L   \n19579          -84.4479           1000.0             90.0       28   \n\n       he_latitude_deg  he_longitude_deg  he_elevation_ft  he_heading_degT  \n19575          33.6495          -84.4095            990.0            270.0  \n19576          33.6468          -84.4055            995.0            270.0  \n19577          33.6347          -84.4089            978.0            270.0  \n19578          33.6318          -84.4184            985.0            270.0  \n19579          33.6203          -84.4183            998.0            270.0  ",
      "text/html": "<div>\n<style scoped>\n    .dataframe tbody tr th:only-of-type {\n        vertical-align: middle;\n    }\n\n    .dataframe tbody tr th {\n        vertical-align: top;\n    }\n\n    .dataframe thead th {\n        text-align: right;\n    }\n</style>\n<table border=\"1\" class=\"dataframe\">\n  <thead>\n    <tr style=\"text-align: right;\">\n      <th></th>\n      <th>length_ft</th>\n      <th>width_ft</th>\n      <th>surface</th>\n      <th>lighted</th>\n      <th>closed</th>\n      <th>le_ident</th>\n      <th>le_latitude_deg</th>\n      <th>le_longitude_deg</th>\n      <th>le_elevation_ft</th>\n      <th>le_heading_degT</th>\n      <th>he_ident</th>\n      <th>he_latitude_deg</th>\n      <th>he_longitude_deg</th>\n      <th>he_elevation_ft</th>\n      <th>he_heading_degT</th>\n    </tr>\n  </thead>\n  <tbody>\n    <tr>\n      <th>19575</th>\n      <td>9000.0</td>\n      <td>150.0</td>\n      <td>CON</td>\n      <td>1</td>\n      <td>0</td>\n      <td>08L</td>\n      <td>33.6495</td>\n      <td>-84.4390</td>\n      <td>1015.0</td>\n      <td>90.0</td>\n      <td>26R</td>\n      <td>33.6495</td>\n      <td>-84.4095</td>\n      <td>990.0</td>\n      <td>270.0</td>\n    </tr>\n    <tr>\n      <th>19576</th>\n      <td>10000.0</td>\n      <td>150.0</td>\n      <td>CON</td>\n      <td>1</td>\n      <td>0</td>\n      <td>08R</td>\n      <td>33.6468</td>\n      <td>-84.4384</td>\n      <td>1024.0</td>\n      <td>90.0</td>\n      <td>26L</td>\n      <td>33.6468</td>\n      <td>-84.4055</td>\n      <td>995.0</td>\n      <td>270.0</td>\n    </tr>\n    <tr>\n      <th>19577</th>\n      <td>11890.0</td>\n      <td>150.0</td>\n      <td>CON</td>\n      <td>1</td>\n      <td>0</td>\n      <td>09L</td>\n      <td>33.6347</td>\n      <td>-84.4480</td>\n      <td>1019.0</td>\n      <td>90.0</td>\n      <td>27R</td>\n      <td>33.6347</td>\n      <td>-84.4089</td>\n      <td>978.0</td>\n      <td>270.0</td>\n    </tr>\n    <tr>\n      <th>19578</th>\n      <td>9001.0</td>\n      <td>150.0</td>\n      <td>CON</td>\n      <td>1</td>\n      <td>0</td>\n      <td>09R</td>\n      <td>33.6318</td>\n      <td>-84.4480</td>\n      <td>1026.0</td>\n      <td>90.0</td>\n      <td>27L</td>\n      <td>33.6318</td>\n      <td>-84.4184</td>\n      <td>985.0</td>\n      <td>270.0</td>\n    </tr>\n    <tr>\n      <th>19579</th>\n      <td>9000.0</td>\n      <td>150.0</td>\n      <td>CON</td>\n      <td>1</td>\n      <td>0</td>\n      <td>10</td>\n      <td>33.6203</td>\n      <td>-84.4479</td>\n      <td>1000.0</td>\n      <td>90.0</td>\n      <td>28</td>\n      <td>33.6203</td>\n      <td>-84.4183</td>\n      <td>998.0</td>\n      <td>270.0</td>\n    </tr>\n  </tbody>\n</table>\n</div>"
     },
     "execution_count": 4,
     "metadata": {},
     "output_type": "execute_result"
    }
   ],
   "source": [
    "atl_runways = runways_df[runways_df['airport_ident'] == 'KATL']\n",
    "atl_runways = atl_runways.drop(columns=['airport_ref', 'airport_ident','le_displaced_threshold_ft','Unnamed: 20', 'he_displaced_threshold_ft', 'id'])\n",
    "atl_runways"
   ],
   "metadata": {
    "collapsed": false,
    "pycharm": {
     "name": "#%%\n"
    },
    "ExecuteTime": {
     "end_time": "2024-03-24T14:53:18.651646400Z",
     "start_time": "2024-03-24T14:53:18.483648200Z"
    }
   }
  },
  {
   "cell_type": "code",
   "execution_count": 5,
   "outputs": [],
   "source": [
    "atl_runways[\"ident\"] = atl_runways[\"le_ident\"] + \"/\" + atl_runways[\"he_ident\"]"
   ],
   "metadata": {
    "collapsed": false,
    "pycharm": {
     "name": "#%%\n"
    },
    "ExecuteTime": {
     "end_time": "2024-03-24T14:53:18.656646Z",
     "start_time": "2024-03-24T14:53:18.519648500Z"
    }
   }
  },
  {
   "cell_type": "code",
   "execution_count": 6,
   "outputs": [
    {
     "data": {
      "text/plain": "       length_ft  width_ft surface  lighted  closed le_ident  le_latitude_deg  \\\n19575     9000.0     150.0     CON        1       0      08L          33.6495   \n19576    10000.0     150.0     CON        1       0      08R          33.6468   \n19577    11890.0     150.0     CON        1       0      09L          33.6347   \n19578     9001.0     150.0     CON        1       0      09R          33.6318   \n19579     9000.0     150.0     CON        1       0       10          33.6203   \n\n       le_longitude_deg  le_elevation_ft  le_heading_degT he_ident  \\\n19575          -84.4390           1015.0             90.0      26R   \n19576          -84.4384           1024.0             90.0      26L   \n19577          -84.4480           1019.0             90.0      27R   \n19578          -84.4480           1026.0             90.0      27L   \n19579          -84.4479           1000.0             90.0       28   \n\n       he_latitude_deg  he_longitude_deg  he_elevation_ft  he_heading_degT  \\\n19575          33.6495          -84.4095            990.0            270.0   \n19576          33.6468          -84.4055            995.0            270.0   \n19577          33.6347          -84.4089            978.0            270.0   \n19578          33.6318          -84.4184            985.0            270.0   \n19579          33.6203          -84.4183            998.0            270.0   \n\n         ident  \n19575  08L/26R  \n19576  08R/26L  \n19577  09L/27R  \n19578  09R/27L  \n19579    10/28  ",
      "text/html": "<div>\n<style scoped>\n    .dataframe tbody tr th:only-of-type {\n        vertical-align: middle;\n    }\n\n    .dataframe tbody tr th {\n        vertical-align: top;\n    }\n\n    .dataframe thead th {\n        text-align: right;\n    }\n</style>\n<table border=\"1\" class=\"dataframe\">\n  <thead>\n    <tr style=\"text-align: right;\">\n      <th></th>\n      <th>length_ft</th>\n      <th>width_ft</th>\n      <th>surface</th>\n      <th>lighted</th>\n      <th>closed</th>\n      <th>le_ident</th>\n      <th>le_latitude_deg</th>\n      <th>le_longitude_deg</th>\n      <th>le_elevation_ft</th>\n      <th>le_heading_degT</th>\n      <th>he_ident</th>\n      <th>he_latitude_deg</th>\n      <th>he_longitude_deg</th>\n      <th>he_elevation_ft</th>\n      <th>he_heading_degT</th>\n      <th>ident</th>\n    </tr>\n  </thead>\n  <tbody>\n    <tr>\n      <th>19575</th>\n      <td>9000.0</td>\n      <td>150.0</td>\n      <td>CON</td>\n      <td>1</td>\n      <td>0</td>\n      <td>08L</td>\n      <td>33.6495</td>\n      <td>-84.4390</td>\n      <td>1015.0</td>\n      <td>90.0</td>\n      <td>26R</td>\n      <td>33.6495</td>\n      <td>-84.4095</td>\n      <td>990.0</td>\n      <td>270.0</td>\n      <td>08L/26R</td>\n    </tr>\n    <tr>\n      <th>19576</th>\n      <td>10000.0</td>\n      <td>150.0</td>\n      <td>CON</td>\n      <td>1</td>\n      <td>0</td>\n      <td>08R</td>\n      <td>33.6468</td>\n      <td>-84.4384</td>\n      <td>1024.0</td>\n      <td>90.0</td>\n      <td>26L</td>\n      <td>33.6468</td>\n      <td>-84.4055</td>\n      <td>995.0</td>\n      <td>270.0</td>\n      <td>08R/26L</td>\n    </tr>\n    <tr>\n      <th>19577</th>\n      <td>11890.0</td>\n      <td>150.0</td>\n      <td>CON</td>\n      <td>1</td>\n      <td>0</td>\n      <td>09L</td>\n      <td>33.6347</td>\n      <td>-84.4480</td>\n      <td>1019.0</td>\n      <td>90.0</td>\n      <td>27R</td>\n      <td>33.6347</td>\n      <td>-84.4089</td>\n      <td>978.0</td>\n      <td>270.0</td>\n      <td>09L/27R</td>\n    </tr>\n    <tr>\n      <th>19578</th>\n      <td>9001.0</td>\n      <td>150.0</td>\n      <td>CON</td>\n      <td>1</td>\n      <td>0</td>\n      <td>09R</td>\n      <td>33.6318</td>\n      <td>-84.4480</td>\n      <td>1026.0</td>\n      <td>90.0</td>\n      <td>27L</td>\n      <td>33.6318</td>\n      <td>-84.4184</td>\n      <td>985.0</td>\n      <td>270.0</td>\n      <td>09R/27L</td>\n    </tr>\n    <tr>\n      <th>19579</th>\n      <td>9000.0</td>\n      <td>150.0</td>\n      <td>CON</td>\n      <td>1</td>\n      <td>0</td>\n      <td>10</td>\n      <td>33.6203</td>\n      <td>-84.4479</td>\n      <td>1000.0</td>\n      <td>90.0</td>\n      <td>28</td>\n      <td>33.6203</td>\n      <td>-84.4183</td>\n      <td>998.0</td>\n      <td>270.0</td>\n      <td>10/28</td>\n    </tr>\n  </tbody>\n</table>\n</div>"
     },
     "execution_count": 6,
     "metadata": {},
     "output_type": "execute_result"
    }
   ],
   "source": [
    "atl_runways"
   ],
   "metadata": {
    "collapsed": false,
    "pycharm": {
     "name": "#%%\n"
    },
    "ExecuteTime": {
     "end_time": "2024-03-24T14:53:18.665647900Z",
     "start_time": "2024-03-24T14:53:18.563655900Z"
    }
   }
  },
  {
   "cell_type": "code",
   "execution_count": 7,
   "outputs": [],
   "source": [
    "atl_runways.to_pickle(os.path.join(OUTPUT_FOLDER, \"03_runways.pkl\"))"
   ],
   "metadata": {
    "collapsed": false,
    "pycharm": {
     "name": "#%%\n"
    },
    "ExecuteTime": {
     "end_time": "2024-03-24T14:53:18.755646500Z",
     "start_time": "2024-03-24T14:53:18.615647800Z"
    }
   }
  }
 ],
 "metadata": {
  "kernelspec": {
   "display_name": "Python 3",
   "language": "python",
   "name": "python3"
  },
  "language_info": {
   "codemirror_mode": {
    "name": "ipython",
    "version": 2
   },
   "file_extension": ".py",
   "mimetype": "text/x-python",
   "name": "python",
   "nbconvert_exporter": "python",
   "pygments_lexer": "ipython2",
   "version": "2.7.6"
  }
 },
 "nbformat": 4,
 "nbformat_minor": 0
}
