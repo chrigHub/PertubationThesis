{
 "cells": [
  {
   "cell_type": "markdown",
   "metadata": {
    "collapsed": true,
    "pycharm": {
     "name": "#%% md\n"
    }
   },
   "source": [
    "# Atlanta NOTAM Data\n",
    "## Introduction\n",
    "NOTAM stands for \"Notice to Airmen\" and describes messages concerning the state of an airport or other important messages for pilots.\n",
    "Data has been gathered from: __[https://notams.aim.faa.gov/notamSearch/nsapp.html#/](https://notams.aim.faa.gov/notamSearch/nsapp.html#/)__\n",
    "\n",
    "Explanation of NOTAM text: __[https://www.faa.gov/about/initiatives/notam/what_is_a_notam/media/Pilots_NOTAM_primer_for_2021.pdf](https://www.faa.gov/about/initiatives/notam/what_is_a_notam/media/Pilots_NOTAM_primer_for_2021.pdf)__\n",
    "\n",
    "NOTAM NLP paper: __[https://aviationsystems.arc.nasa.gov/publications/2021/20210017786_Clarke_Aviation2021.pdf](https://aviationsystems.arc.nasa.gov/publications/2021/20210017786_Clarke_Aviation2021.pdf)__\n",
    "\n",
    "Approved NOTAM contractions: __[https://www.notams.faa.gov/downloads/contractions.pdf](https://www.notams.faa.gov/downloads/contractions.pdf)__\n",
    "\n",
    "\n",
    "## Dropped\n",
    "- Cancel Date (No Use)\n",
    "- Effective Date (No Use)\n",
    "- Expiration Date (No Use)\n",
    "- Location (Redundant)\n",
    "- NOTA # (No Use)\n",
    "\n",
    "## TBD\n",
    "- NOTAM Condition or LTA Subject (Finding way to gather information)"
   ]
  },
  {
   "cell_type": "code",
   "execution_count": 1,
   "outputs": [],
   "source": [
    "import pandas as pd\n",
    "import glob\n",
    "import re\n",
    "import numpy as np\n",
    "import os\n",
    "from main.utils.data_manage_utils import read_table_from_subfolder\n",
    "# Variables\n",
    "ROOT_PATH = os.path.abspath(\"../../\")\n",
    "INPUT_FOLDER = os.path.join(ROOT_PATH, \"data/input\")\n",
    "OUTPUT_FOLDER = os.path.join(ROOT_PATH, \"data/preparation/prepped_files\")"
   ],
   "metadata": {
    "collapsed": false,
    "pycharm": {
     "name": "#%%\n"
    },
    "ExecuteTime": {
     "end_time": "2024-02-17T22:59:15.978293900Z",
     "start_time": "2024-02-17T22:59:15.261704400Z"
    }
   }
  },
  {
   "cell_type": "code",
   "execution_count": 2,
   "outputs": [
    {
     "data": {
      "text/plain": "      Location NOTAM #          Class Issue Date (UTC) Effective Date (UTC)  \\\n0          ATL  04/107  Communication  04/19/2016 1648      04/19/2016 1648   \n1          ATL  6/4595      Procedure  12/22/2016 2135      12/23/2016 1000   \n2          ATL  6/4598      Procedure  12/22/2016 2135      12/23/2016 1000   \n3          ATL  6/4601      Procedure  12/22/2016 2135      12/23/2016 1000   \n4          ATL  6/4603      Procedure  12/22/2016 2136      12/23/2016 1000   \n...        ...     ...            ...              ...                  ...   \n16158      ATL  11/142    Obstruction  11/16/2017 1500      11/16/2017 1500   \n16159      ATL  7/5192      Procedure  10/16/2017 1355      10/17/2017 0500   \n16160      ATL  12/231    Obstruction  12/18/2017 1317      12/18/2017 1316   \n16161      ATL  12/308      Aerodrome  12/28/2017 2301      12/28/2017 2301   \n16162      ATL  12/304      Aerodrome  12/27/2017 1330      12/27/2017 1329   \n\n      Cancel Date (UTC) Expiration Date (UTC)  \\\n0                   NaN                  PERM   \n1                   NaN       08/17/2017 1000   \n2                   NaN       08/17/2017 1000   \n3                   NaN       08/17/2017 1000   \n4                   NaN       08/17/2017 1000   \n...                 ...                   ...   \n16158   02/23/2018 1644       02/27/2018 2359   \n16159               NaN       02/01/2018 0900   \n16160   01/17/2018 0703       01/17/2018 1200   \n16161   01/03/2018 0619       01/12/2018 2301   \n16162               NaN       01/02/2018 0500   \n\n                          NOTAM Condition or LTA Subject  \n0      !ATL 04/107 ATL COM REMOTE TRANSMITTER/RECEIVE...  \n1      !FDC 6/4595 ATL CANCELLED BY FDC 7/3089 ON 08/...  \n2      !FDC 6/4598 ATL CANCELLED BY FDC 7/3090 ON 08/...  \n3      !FDC 6/4601 ATL CANCELLED BY FDC 7/3088 ON 08/...  \n4      !FDC 6/4603 ATL CANCELLED BY FDC 7/3091 ON 08/...  \n...                                                  ...  \n16158  !ATL 11/142 ATL OBST TOWER LGT (ASR 1022036) 3...  \n16159  !FDC 7/5192 ATL CANCELLED BY FDC 8/4084 ON 02/...  \n16160  !ATL 12/231 ATL OBST TOWER LGT (ASR 1047185) 3...  \n16161  !ATL 12/308 ATL AD AP ABN OUT OF SERVICE 17122...  \n16162  !ATL 12/304 ATL AD AP BIRD ACT INCREASED FORMA...  \n\n[16163 rows x 8 columns]",
      "text/html": "<div>\n<style scoped>\n    .dataframe tbody tr th:only-of-type {\n        vertical-align: middle;\n    }\n\n    .dataframe tbody tr th {\n        vertical-align: top;\n    }\n\n    .dataframe thead th {\n        text-align: right;\n    }\n</style>\n<table border=\"1\" class=\"dataframe\">\n  <thead>\n    <tr style=\"text-align: right;\">\n      <th></th>\n      <th>Location</th>\n      <th>NOTAM #</th>\n      <th>Class</th>\n      <th>Issue Date (UTC)</th>\n      <th>Effective Date (UTC)</th>\n      <th>Cancel Date (UTC)</th>\n      <th>Expiration Date (UTC)</th>\n      <th>NOTAM Condition or LTA Subject</th>\n    </tr>\n  </thead>\n  <tbody>\n    <tr>\n      <th>0</th>\n      <td>ATL</td>\n      <td>04/107</td>\n      <td>Communication</td>\n      <td>04/19/2016 1648</td>\n      <td>04/19/2016 1648</td>\n      <td>NaN</td>\n      <td>PERM</td>\n      <td>!ATL 04/107 ATL COM REMOTE TRANSMITTER/RECEIVE...</td>\n    </tr>\n    <tr>\n      <th>1</th>\n      <td>ATL</td>\n      <td>6/4595</td>\n      <td>Procedure</td>\n      <td>12/22/2016 2135</td>\n      <td>12/23/2016 1000</td>\n      <td>NaN</td>\n      <td>08/17/2017 1000</td>\n      <td>!FDC 6/4595 ATL CANCELLED BY FDC 7/3089 ON 08/...</td>\n    </tr>\n    <tr>\n      <th>2</th>\n      <td>ATL</td>\n      <td>6/4598</td>\n      <td>Procedure</td>\n      <td>12/22/2016 2135</td>\n      <td>12/23/2016 1000</td>\n      <td>NaN</td>\n      <td>08/17/2017 1000</td>\n      <td>!FDC 6/4598 ATL CANCELLED BY FDC 7/3090 ON 08/...</td>\n    </tr>\n    <tr>\n      <th>3</th>\n      <td>ATL</td>\n      <td>6/4601</td>\n      <td>Procedure</td>\n      <td>12/22/2016 2135</td>\n      <td>12/23/2016 1000</td>\n      <td>NaN</td>\n      <td>08/17/2017 1000</td>\n      <td>!FDC 6/4601 ATL CANCELLED BY FDC 7/3088 ON 08/...</td>\n    </tr>\n    <tr>\n      <th>4</th>\n      <td>ATL</td>\n      <td>6/4603</td>\n      <td>Procedure</td>\n      <td>12/22/2016 2136</td>\n      <td>12/23/2016 1000</td>\n      <td>NaN</td>\n      <td>08/17/2017 1000</td>\n      <td>!FDC 6/4603 ATL CANCELLED BY FDC 7/3091 ON 08/...</td>\n    </tr>\n    <tr>\n      <th>...</th>\n      <td>...</td>\n      <td>...</td>\n      <td>...</td>\n      <td>...</td>\n      <td>...</td>\n      <td>...</td>\n      <td>...</td>\n      <td>...</td>\n    </tr>\n    <tr>\n      <th>16158</th>\n      <td>ATL</td>\n      <td>11/142</td>\n      <td>Obstruction</td>\n      <td>11/16/2017 1500</td>\n      <td>11/16/2017 1500</td>\n      <td>02/23/2018 1644</td>\n      <td>02/27/2018 2359</td>\n      <td>!ATL 11/142 ATL OBST TOWER LGT (ASR 1022036) 3...</td>\n    </tr>\n    <tr>\n      <th>16159</th>\n      <td>ATL</td>\n      <td>7/5192</td>\n      <td>Procedure</td>\n      <td>10/16/2017 1355</td>\n      <td>10/17/2017 0500</td>\n      <td>NaN</td>\n      <td>02/01/2018 0900</td>\n      <td>!FDC 7/5192 ATL CANCELLED BY FDC 8/4084 ON 02/...</td>\n    </tr>\n    <tr>\n      <th>16160</th>\n      <td>ATL</td>\n      <td>12/231</td>\n      <td>Obstruction</td>\n      <td>12/18/2017 1317</td>\n      <td>12/18/2017 1316</td>\n      <td>01/17/2018 0703</td>\n      <td>01/17/2018 1200</td>\n      <td>!ATL 12/231 ATL OBST TOWER LGT (ASR 1047185) 3...</td>\n    </tr>\n    <tr>\n      <th>16161</th>\n      <td>ATL</td>\n      <td>12/308</td>\n      <td>Aerodrome</td>\n      <td>12/28/2017 2301</td>\n      <td>12/28/2017 2301</td>\n      <td>01/03/2018 0619</td>\n      <td>01/12/2018 2301</td>\n      <td>!ATL 12/308 ATL AD AP ABN OUT OF SERVICE 17122...</td>\n    </tr>\n    <tr>\n      <th>16162</th>\n      <td>ATL</td>\n      <td>12/304</td>\n      <td>Aerodrome</td>\n      <td>12/27/2017 1330</td>\n      <td>12/27/2017 1329</td>\n      <td>NaN</td>\n      <td>01/02/2018 0500</td>\n      <td>!ATL 12/304 ATL AD AP BIRD ACT INCREASED FORMA...</td>\n    </tr>\n  </tbody>\n</table>\n<p>16163 rows × 8 columns</p>\n</div>"
     },
     "execution_count": 2,
     "metadata": {},
     "output_type": "execute_result"
    }
   ],
   "source": [
    "all_files = glob.glob(os.path.join(INPUT_FOLDER, \"data_raw/notams/katl/*/*.csv\"))\n",
    "li = []\n",
    "for filename in all_files:\n",
    "    df = pd.read_csv(filename, sep=\";\", on_bad_lines=\"skip\")\n",
    "    if len(df.columns) <= 1:\n",
    "        df = pd.read_csv(filename, sep=\",\", on_bad_lines=\"skip\")\n",
    "    if any(\"Unnamed\" in col for col in df.columns):\n",
    "        done = False\n",
    "        count = 0\n",
    "        while not done:\n",
    "            df = pd.read_csv(filename, on_bad_lines=\"skip\", header = count)\n",
    "            if not any(\"Unnamed\" in col for col in df.columns):\n",
    "                done = True\n",
    "            count += 1\n",
    "    li.append(df)\n",
    "li\n",
    "atl_notam_df = pd.concat(li, axis=0, ignore_index=True)\n",
    "atl_notam_df"
   ],
   "metadata": {
    "collapsed": false,
    "pycharm": {
     "name": "#%%\n"
    },
    "ExecuteTime": {
     "end_time": "2024-02-17T22:59:20.711508400Z",
     "start_time": "2024-02-17T22:59:15.982290Z"
    }
   }
  },
  {
   "cell_type": "code",
   "execution_count": 3,
   "outputs": [
    {
     "data": {
      "text/plain": "      Location NOTAM #          Class Issue Date (UTC) Cancel Date (UTC)  \\\n0          ATL  04/107  Communication  04/19/2016 1648               NaN   \n1          ATL  6/4595      Procedure  12/22/2016 2135               NaN   \n2          ATL  6/4598      Procedure  12/22/2016 2135               NaN   \n3          ATL  6/4601      Procedure  12/22/2016 2135               NaN   \n4          ATL  6/4603      Procedure  12/22/2016 2136               NaN   \n...        ...     ...            ...              ...               ...   \n16158      ATL  11/142    Obstruction  11/16/2017 1500   02/23/2018 1644   \n16159      ATL  7/5192      Procedure  10/16/2017 1355               NaN   \n16160      ATL  12/231    Obstruction  12/18/2017 1317   01/17/2018 0703   \n16161      ATL  12/308      Aerodrome  12/28/2017 2301   01/03/2018 0619   \n16162      ATL  12/304      Aerodrome  12/27/2017 1330               NaN   \n\n      Expiration Date (UTC)  \\\n0                      PERM   \n1           08/17/2017 1000   \n2           08/17/2017 1000   \n3           08/17/2017 1000   \n4           08/17/2017 1000   \n...                     ...   \n16158       02/27/2018 2359   \n16159       02/01/2018 0900   \n16160       01/17/2018 1200   \n16161       01/12/2018 2301   \n16162       01/02/2018 0500   \n\n                          NOTAM Condition or LTA Subject NOTAM_Effective_Date  \\\n0      !ATL 04/107 ATL COM REMOTE TRANSMITTER/RECEIVE...           04/19/2016   \n1      !FDC 6/4595 ATL CANCELLED BY FDC 7/3089 ON 08/...           12/23/2016   \n2      !FDC 6/4598 ATL CANCELLED BY FDC 7/3090 ON 08/...           12/23/2016   \n3      !FDC 6/4601 ATL CANCELLED BY FDC 7/3088 ON 08/...           12/23/2016   \n4      !FDC 6/4603 ATL CANCELLED BY FDC 7/3091 ON 08/...           12/23/2016   \n...                                                  ...                  ...   \n16158  !ATL 11/142 ATL OBST TOWER LGT (ASR 1022036) 3...           11/16/2017   \n16159  !FDC 7/5192 ATL CANCELLED BY FDC 8/4084 ON 02/...           10/17/2017   \n16160  !ATL 12/231 ATL OBST TOWER LGT (ASR 1047185) 3...           12/18/2017   \n16161  !ATL 12/308 ATL AD AP ABN OUT OF SERVICE 17122...           12/28/2017   \n16162  !ATL 12/304 ATL AD AP BIRD ACT INCREASED FORMA...           12/27/2017   \n\n      NOTAM_Effective_Time  \n0                     1648  \n1                     1000  \n2                     1000  \n3                     1000  \n4                     1000  \n...                    ...  \n16158                 1500  \n16159                 0500  \n16160                 1316  \n16161                 2301  \n16162                 1329  \n\n[16163 rows x 9 columns]",
      "text/html": "<div>\n<style scoped>\n    .dataframe tbody tr th:only-of-type {\n        vertical-align: middle;\n    }\n\n    .dataframe tbody tr th {\n        vertical-align: top;\n    }\n\n    .dataframe thead th {\n        text-align: right;\n    }\n</style>\n<table border=\"1\" class=\"dataframe\">\n  <thead>\n    <tr style=\"text-align: right;\">\n      <th></th>\n      <th>Location</th>\n      <th>NOTAM #</th>\n      <th>Class</th>\n      <th>Issue Date (UTC)</th>\n      <th>Cancel Date (UTC)</th>\n      <th>Expiration Date (UTC)</th>\n      <th>NOTAM Condition or LTA Subject</th>\n      <th>NOTAM_Effective_Date</th>\n      <th>NOTAM_Effective_Time</th>\n    </tr>\n  </thead>\n  <tbody>\n    <tr>\n      <th>0</th>\n      <td>ATL</td>\n      <td>04/107</td>\n      <td>Communication</td>\n      <td>04/19/2016 1648</td>\n      <td>NaN</td>\n      <td>PERM</td>\n      <td>!ATL 04/107 ATL COM REMOTE TRANSMITTER/RECEIVE...</td>\n      <td>04/19/2016</td>\n      <td>1648</td>\n    </tr>\n    <tr>\n      <th>1</th>\n      <td>ATL</td>\n      <td>6/4595</td>\n      <td>Procedure</td>\n      <td>12/22/2016 2135</td>\n      <td>NaN</td>\n      <td>08/17/2017 1000</td>\n      <td>!FDC 6/4595 ATL CANCELLED BY FDC 7/3089 ON 08/...</td>\n      <td>12/23/2016</td>\n      <td>1000</td>\n    </tr>\n    <tr>\n      <th>2</th>\n      <td>ATL</td>\n      <td>6/4598</td>\n      <td>Procedure</td>\n      <td>12/22/2016 2135</td>\n      <td>NaN</td>\n      <td>08/17/2017 1000</td>\n      <td>!FDC 6/4598 ATL CANCELLED BY FDC 7/3090 ON 08/...</td>\n      <td>12/23/2016</td>\n      <td>1000</td>\n    </tr>\n    <tr>\n      <th>3</th>\n      <td>ATL</td>\n      <td>6/4601</td>\n      <td>Procedure</td>\n      <td>12/22/2016 2135</td>\n      <td>NaN</td>\n      <td>08/17/2017 1000</td>\n      <td>!FDC 6/4601 ATL CANCELLED BY FDC 7/3088 ON 08/...</td>\n      <td>12/23/2016</td>\n      <td>1000</td>\n    </tr>\n    <tr>\n      <th>4</th>\n      <td>ATL</td>\n      <td>6/4603</td>\n      <td>Procedure</td>\n      <td>12/22/2016 2136</td>\n      <td>NaN</td>\n      <td>08/17/2017 1000</td>\n      <td>!FDC 6/4603 ATL CANCELLED BY FDC 7/3091 ON 08/...</td>\n      <td>12/23/2016</td>\n      <td>1000</td>\n    </tr>\n    <tr>\n      <th>...</th>\n      <td>...</td>\n      <td>...</td>\n      <td>...</td>\n      <td>...</td>\n      <td>...</td>\n      <td>...</td>\n      <td>...</td>\n      <td>...</td>\n      <td>...</td>\n    </tr>\n    <tr>\n      <th>16158</th>\n      <td>ATL</td>\n      <td>11/142</td>\n      <td>Obstruction</td>\n      <td>11/16/2017 1500</td>\n      <td>02/23/2018 1644</td>\n      <td>02/27/2018 2359</td>\n      <td>!ATL 11/142 ATL OBST TOWER LGT (ASR 1022036) 3...</td>\n      <td>11/16/2017</td>\n      <td>1500</td>\n    </tr>\n    <tr>\n      <th>16159</th>\n      <td>ATL</td>\n      <td>7/5192</td>\n      <td>Procedure</td>\n      <td>10/16/2017 1355</td>\n      <td>NaN</td>\n      <td>02/01/2018 0900</td>\n      <td>!FDC 7/5192 ATL CANCELLED BY FDC 8/4084 ON 02/...</td>\n      <td>10/17/2017</td>\n      <td>0500</td>\n    </tr>\n    <tr>\n      <th>16160</th>\n      <td>ATL</td>\n      <td>12/231</td>\n      <td>Obstruction</td>\n      <td>12/18/2017 1317</td>\n      <td>01/17/2018 0703</td>\n      <td>01/17/2018 1200</td>\n      <td>!ATL 12/231 ATL OBST TOWER LGT (ASR 1047185) 3...</td>\n      <td>12/18/2017</td>\n      <td>1316</td>\n    </tr>\n    <tr>\n      <th>16161</th>\n      <td>ATL</td>\n      <td>12/308</td>\n      <td>Aerodrome</td>\n      <td>12/28/2017 2301</td>\n      <td>01/03/2018 0619</td>\n      <td>01/12/2018 2301</td>\n      <td>!ATL 12/308 ATL AD AP ABN OUT OF SERVICE 17122...</td>\n      <td>12/28/2017</td>\n      <td>2301</td>\n    </tr>\n    <tr>\n      <th>16162</th>\n      <td>ATL</td>\n      <td>12/304</td>\n      <td>Aerodrome</td>\n      <td>12/27/2017 1330</td>\n      <td>NaN</td>\n      <td>01/02/2018 0500</td>\n      <td>!ATL 12/304 ATL AD AP BIRD ACT INCREASED FORMA...</td>\n      <td>12/27/2017</td>\n      <td>1329</td>\n    </tr>\n  </tbody>\n</table>\n<p>16163 rows × 9 columns</p>\n</div>"
     },
     "execution_count": 3,
     "metadata": {},
     "output_type": "execute_result"
    }
   ],
   "source": [
    "eff_date = atl_notam_df[\"Effective Date (UTC)\"].apply(lambda x: x.split()[0])\n",
    "eff_time = atl_notam_df[\"Effective Date (UTC)\"].apply(lambda x: x.split()[1])\n",
    "eff_date_time = pd.concat([eff_date, eff_time], axis='columns')\n",
    "eff_date_time.columns = [\"NOTAM_Effective_Date\",\"NOTAM_Effective_Time\"]\n",
    "atl_notam_df = pd.concat([atl_notam_df, eff_date_time], axis=\"columns\").drop(columns=[\"Effective Date (UTC)\"], axis = \"columns\")\n",
    "atl_notam_df"
   ],
   "metadata": {
    "collapsed": false,
    "pycharm": {
     "name": "#%%\n"
    },
    "ExecuteTime": {
     "end_time": "2024-02-17T22:59:20.828441Z",
     "start_time": "2024-02-17T22:59:20.712508600Z"
    }
   }
  },
  {
   "cell_type": "code",
   "execution_count": 4,
   "outputs": [
    {
     "data": {
      "text/plain": "      Location NOTAM #        Class Issue Date (UTC) Cancel Date (UTC)  \\\n1          ATL  6/4595    Procedure  12/22/2016 2135               NaN   \n2          ATL  6/4598    Procedure  12/22/2016 2135               NaN   \n3          ATL  6/4601    Procedure  12/22/2016 2135               NaN   \n4          ATL  6/4603    Procedure  12/22/2016 2136               NaN   \n5          ATL  6/4604    Procedure  12/22/2016 2138               NaN   \n...        ...     ...          ...              ...               ...   \n16158      ATL  11/142  Obstruction  11/16/2017 1500   02/23/2018 1644   \n16159      ATL  7/5192    Procedure  10/16/2017 1355               NaN   \n16160      ATL  12/231  Obstruction  12/18/2017 1317   01/17/2018 0703   \n16161      ATL  12/308    Aerodrome  12/28/2017 2301   01/03/2018 0619   \n16162      ATL  12/304    Aerodrome  12/27/2017 1330               NaN   \n\n      Expiration Date (UTC)  \\\n1           08/17/2017 1000   \n2           08/17/2017 1000   \n3           08/17/2017 1000   \n4           08/17/2017 1000   \n5           08/17/2017 1000   \n...                     ...   \n16158       02/27/2018 2359   \n16159       02/01/2018 0900   \n16160       01/17/2018 1200   \n16161       01/12/2018 2301   \n16162       01/02/2018 0500   \n\n                          NOTAM Condition or LTA Subject NOTAM_Effective_Date  \\\n1      !FDC 6/4595 ATL CANCELLED BY FDC 7/3089 ON 08/...           12/23/2016   \n2      !FDC 6/4598 ATL CANCELLED BY FDC 7/3090 ON 08/...           12/23/2016   \n3      !FDC 6/4601 ATL CANCELLED BY FDC 7/3088 ON 08/...           12/23/2016   \n4      !FDC 6/4603 ATL CANCELLED BY FDC 7/3091 ON 08/...           12/23/2016   \n5      !FDC 6/4604 ATL CANCELLED BY FDC 7/3094 ON 08/...           12/23/2016   \n...                                                  ...                  ...   \n16158  !ATL 11/142 ATL OBST TOWER LGT (ASR 1022036) 3...           11/16/2017   \n16159  !FDC 7/5192 ATL CANCELLED BY FDC 8/4084 ON 02/...           10/17/2017   \n16160  !ATL 12/231 ATL OBST TOWER LGT (ASR 1047185) 3...           12/18/2017   \n16161  !ATL 12/308 ATL AD AP ABN OUT OF SERVICE 17122...           12/28/2017   \n16162  !ATL 12/304 ATL AD AP BIRD ACT INCREASED FORMA...           12/27/2017   \n\n      NOTAM_Effective_Time  \n1                     1000  \n2                     1000  \n3                     1000  \n4                     1000  \n5                     1000  \n...                    ...  \n16158                 1500  \n16159                 0500  \n16160                 1316  \n16161                 2301  \n16162                 1329  \n\n[14009 rows x 9 columns]",
      "text/html": "<div>\n<style scoped>\n    .dataframe tbody tr th:only-of-type {\n        vertical-align: middle;\n    }\n\n    .dataframe tbody tr th {\n        vertical-align: top;\n    }\n\n    .dataframe thead th {\n        text-align: right;\n    }\n</style>\n<table border=\"1\" class=\"dataframe\">\n  <thead>\n    <tr style=\"text-align: right;\">\n      <th></th>\n      <th>Location</th>\n      <th>NOTAM #</th>\n      <th>Class</th>\n      <th>Issue Date (UTC)</th>\n      <th>Cancel Date (UTC)</th>\n      <th>Expiration Date (UTC)</th>\n      <th>NOTAM Condition or LTA Subject</th>\n      <th>NOTAM_Effective_Date</th>\n      <th>NOTAM_Effective_Time</th>\n    </tr>\n  </thead>\n  <tbody>\n    <tr>\n      <th>1</th>\n      <td>ATL</td>\n      <td>6/4595</td>\n      <td>Procedure</td>\n      <td>12/22/2016 2135</td>\n      <td>NaN</td>\n      <td>08/17/2017 1000</td>\n      <td>!FDC 6/4595 ATL CANCELLED BY FDC 7/3089 ON 08/...</td>\n      <td>12/23/2016</td>\n      <td>1000</td>\n    </tr>\n    <tr>\n      <th>2</th>\n      <td>ATL</td>\n      <td>6/4598</td>\n      <td>Procedure</td>\n      <td>12/22/2016 2135</td>\n      <td>NaN</td>\n      <td>08/17/2017 1000</td>\n      <td>!FDC 6/4598 ATL CANCELLED BY FDC 7/3090 ON 08/...</td>\n      <td>12/23/2016</td>\n      <td>1000</td>\n    </tr>\n    <tr>\n      <th>3</th>\n      <td>ATL</td>\n      <td>6/4601</td>\n      <td>Procedure</td>\n      <td>12/22/2016 2135</td>\n      <td>NaN</td>\n      <td>08/17/2017 1000</td>\n      <td>!FDC 6/4601 ATL CANCELLED BY FDC 7/3088 ON 08/...</td>\n      <td>12/23/2016</td>\n      <td>1000</td>\n    </tr>\n    <tr>\n      <th>4</th>\n      <td>ATL</td>\n      <td>6/4603</td>\n      <td>Procedure</td>\n      <td>12/22/2016 2136</td>\n      <td>NaN</td>\n      <td>08/17/2017 1000</td>\n      <td>!FDC 6/4603 ATL CANCELLED BY FDC 7/3091 ON 08/...</td>\n      <td>12/23/2016</td>\n      <td>1000</td>\n    </tr>\n    <tr>\n      <th>5</th>\n      <td>ATL</td>\n      <td>6/4604</td>\n      <td>Procedure</td>\n      <td>12/22/2016 2138</td>\n      <td>NaN</td>\n      <td>08/17/2017 1000</td>\n      <td>!FDC 6/4604 ATL CANCELLED BY FDC 7/3094 ON 08/...</td>\n      <td>12/23/2016</td>\n      <td>1000</td>\n    </tr>\n    <tr>\n      <th>...</th>\n      <td>...</td>\n      <td>...</td>\n      <td>...</td>\n      <td>...</td>\n      <td>...</td>\n      <td>...</td>\n      <td>...</td>\n      <td>...</td>\n      <td>...</td>\n    </tr>\n    <tr>\n      <th>16158</th>\n      <td>ATL</td>\n      <td>11/142</td>\n      <td>Obstruction</td>\n      <td>11/16/2017 1500</td>\n      <td>02/23/2018 1644</td>\n      <td>02/27/2018 2359</td>\n      <td>!ATL 11/142 ATL OBST TOWER LGT (ASR 1022036) 3...</td>\n      <td>11/16/2017</td>\n      <td>1500</td>\n    </tr>\n    <tr>\n      <th>16159</th>\n      <td>ATL</td>\n      <td>7/5192</td>\n      <td>Procedure</td>\n      <td>10/16/2017 1355</td>\n      <td>NaN</td>\n      <td>02/01/2018 0900</td>\n      <td>!FDC 7/5192 ATL CANCELLED BY FDC 8/4084 ON 02/...</td>\n      <td>10/17/2017</td>\n      <td>0500</td>\n    </tr>\n    <tr>\n      <th>16160</th>\n      <td>ATL</td>\n      <td>12/231</td>\n      <td>Obstruction</td>\n      <td>12/18/2017 1317</td>\n      <td>01/17/2018 0703</td>\n      <td>01/17/2018 1200</td>\n      <td>!ATL 12/231 ATL OBST TOWER LGT (ASR 1047185) 3...</td>\n      <td>12/18/2017</td>\n      <td>1316</td>\n    </tr>\n    <tr>\n      <th>16161</th>\n      <td>ATL</td>\n      <td>12/308</td>\n      <td>Aerodrome</td>\n      <td>12/28/2017 2301</td>\n      <td>01/03/2018 0619</td>\n      <td>01/12/2018 2301</td>\n      <td>!ATL 12/308 ATL AD AP ABN OUT OF SERVICE 17122...</td>\n      <td>12/28/2017</td>\n      <td>2301</td>\n    </tr>\n    <tr>\n      <th>16162</th>\n      <td>ATL</td>\n      <td>12/304</td>\n      <td>Aerodrome</td>\n      <td>12/27/2017 1330</td>\n      <td>NaN</td>\n      <td>01/02/2018 0500</td>\n      <td>!ATL 12/304 ATL AD AP BIRD ACT INCREASED FORMA...</td>\n      <td>12/27/2017</td>\n      <td>1329</td>\n    </tr>\n  </tbody>\n</table>\n<p>14009 rows × 9 columns</p>\n</div>"
     },
     "execution_count": 4,
     "metadata": {},
     "output_type": "execute_result"
    }
   ],
   "source": [
    "atl_notam_df = atl_notam_df.drop(labels = atl_notam_df[[False if ' ' in row else True for row in atl_notam_df[\"Expiration Date (UTC)\"]]].index, axis='index')\n",
    "atl_notam_df"
   ],
   "metadata": {
    "collapsed": false,
    "pycharm": {
     "name": "#%%\n"
    },
    "ExecuteTime": {
     "end_time": "2024-02-17T22:59:20.862421500Z",
     "start_time": "2024-02-17T22:59:20.757482100Z"
    }
   }
  },
  {
   "cell_type": "code",
   "execution_count": 5,
   "outputs": [
    {
     "data": {
      "text/plain": "      Location NOTAM #        Class Issue Date (UTC) Cancel Date (UTC)  \\\n1          ATL  6/4595    Procedure  12/22/2016 2135               NaN   \n2          ATL  6/4598    Procedure  12/22/2016 2135               NaN   \n3          ATL  6/4601    Procedure  12/22/2016 2135               NaN   \n4          ATL  6/4603    Procedure  12/22/2016 2136               NaN   \n5          ATL  6/4604    Procedure  12/22/2016 2138               NaN   \n...        ...     ...          ...              ...               ...   \n16158      ATL  11/142  Obstruction  11/16/2017 1500   02/23/2018 1644   \n16159      ATL  7/5192    Procedure  10/16/2017 1355               NaN   \n16160      ATL  12/231  Obstruction  12/18/2017 1317   01/17/2018 0703   \n16161      ATL  12/308    Aerodrome  12/28/2017 2301   01/03/2018 0619   \n16162      ATL  12/304    Aerodrome  12/27/2017 1330               NaN   \n\n                          NOTAM Condition or LTA Subject NOTAM_Effective_Date  \\\n1      !FDC 6/4595 ATL CANCELLED BY FDC 7/3089 ON 08/...           12/23/2016   \n2      !FDC 6/4598 ATL CANCELLED BY FDC 7/3090 ON 08/...           12/23/2016   \n3      !FDC 6/4601 ATL CANCELLED BY FDC 7/3088 ON 08/...           12/23/2016   \n4      !FDC 6/4603 ATL CANCELLED BY FDC 7/3091 ON 08/...           12/23/2016   \n5      !FDC 6/4604 ATL CANCELLED BY FDC 7/3094 ON 08/...           12/23/2016   \n...                                                  ...                  ...   \n16158  !ATL 11/142 ATL OBST TOWER LGT (ASR 1022036) 3...           11/16/2017   \n16159  !FDC 7/5192 ATL CANCELLED BY FDC 8/4084 ON 02/...           10/17/2017   \n16160  !ATL 12/231 ATL OBST TOWER LGT (ASR 1047185) 3...           12/18/2017   \n16161  !ATL 12/308 ATL AD AP ABN OUT OF SERVICE 17122...           12/28/2017   \n16162  !ATL 12/304 ATL AD AP BIRD ACT INCREASED FORMA...           12/27/2017   \n\n      NOTAM_Effective_Time NOTAM_Expiration_Date NOTAM_Expiration_Time  \n1                     1000            08/17/2017                  1000  \n2                     1000            08/17/2017                  1000  \n3                     1000            08/17/2017                  1000  \n4                     1000            08/17/2017                  1000  \n5                     1000            08/17/2017                  1000  \n...                    ...                   ...                   ...  \n16158                 1500            02/27/2018                  2359  \n16159                 0500            02/01/2018                  0900  \n16160                 1316            01/17/2018                  1200  \n16161                 2301            01/12/2018                  2301  \n16162                 1329            01/02/2018                  0500  \n\n[14009 rows x 10 columns]",
      "text/html": "<div>\n<style scoped>\n    .dataframe tbody tr th:only-of-type {\n        vertical-align: middle;\n    }\n\n    .dataframe tbody tr th {\n        vertical-align: top;\n    }\n\n    .dataframe thead th {\n        text-align: right;\n    }\n</style>\n<table border=\"1\" class=\"dataframe\">\n  <thead>\n    <tr style=\"text-align: right;\">\n      <th></th>\n      <th>Location</th>\n      <th>NOTAM #</th>\n      <th>Class</th>\n      <th>Issue Date (UTC)</th>\n      <th>Cancel Date (UTC)</th>\n      <th>NOTAM Condition or LTA Subject</th>\n      <th>NOTAM_Effective_Date</th>\n      <th>NOTAM_Effective_Time</th>\n      <th>NOTAM_Expiration_Date</th>\n      <th>NOTAM_Expiration_Time</th>\n    </tr>\n  </thead>\n  <tbody>\n    <tr>\n      <th>1</th>\n      <td>ATL</td>\n      <td>6/4595</td>\n      <td>Procedure</td>\n      <td>12/22/2016 2135</td>\n      <td>NaN</td>\n      <td>!FDC 6/4595 ATL CANCELLED BY FDC 7/3089 ON 08/...</td>\n      <td>12/23/2016</td>\n      <td>1000</td>\n      <td>08/17/2017</td>\n      <td>1000</td>\n    </tr>\n    <tr>\n      <th>2</th>\n      <td>ATL</td>\n      <td>6/4598</td>\n      <td>Procedure</td>\n      <td>12/22/2016 2135</td>\n      <td>NaN</td>\n      <td>!FDC 6/4598 ATL CANCELLED BY FDC 7/3090 ON 08/...</td>\n      <td>12/23/2016</td>\n      <td>1000</td>\n      <td>08/17/2017</td>\n      <td>1000</td>\n    </tr>\n    <tr>\n      <th>3</th>\n      <td>ATL</td>\n      <td>6/4601</td>\n      <td>Procedure</td>\n      <td>12/22/2016 2135</td>\n      <td>NaN</td>\n      <td>!FDC 6/4601 ATL CANCELLED BY FDC 7/3088 ON 08/...</td>\n      <td>12/23/2016</td>\n      <td>1000</td>\n      <td>08/17/2017</td>\n      <td>1000</td>\n    </tr>\n    <tr>\n      <th>4</th>\n      <td>ATL</td>\n      <td>6/4603</td>\n      <td>Procedure</td>\n      <td>12/22/2016 2136</td>\n      <td>NaN</td>\n      <td>!FDC 6/4603 ATL CANCELLED BY FDC 7/3091 ON 08/...</td>\n      <td>12/23/2016</td>\n      <td>1000</td>\n      <td>08/17/2017</td>\n      <td>1000</td>\n    </tr>\n    <tr>\n      <th>5</th>\n      <td>ATL</td>\n      <td>6/4604</td>\n      <td>Procedure</td>\n      <td>12/22/2016 2138</td>\n      <td>NaN</td>\n      <td>!FDC 6/4604 ATL CANCELLED BY FDC 7/3094 ON 08/...</td>\n      <td>12/23/2016</td>\n      <td>1000</td>\n      <td>08/17/2017</td>\n      <td>1000</td>\n    </tr>\n    <tr>\n      <th>...</th>\n      <td>...</td>\n      <td>...</td>\n      <td>...</td>\n      <td>...</td>\n      <td>...</td>\n      <td>...</td>\n      <td>...</td>\n      <td>...</td>\n      <td>...</td>\n      <td>...</td>\n    </tr>\n    <tr>\n      <th>16158</th>\n      <td>ATL</td>\n      <td>11/142</td>\n      <td>Obstruction</td>\n      <td>11/16/2017 1500</td>\n      <td>02/23/2018 1644</td>\n      <td>!ATL 11/142 ATL OBST TOWER LGT (ASR 1022036) 3...</td>\n      <td>11/16/2017</td>\n      <td>1500</td>\n      <td>02/27/2018</td>\n      <td>2359</td>\n    </tr>\n    <tr>\n      <th>16159</th>\n      <td>ATL</td>\n      <td>7/5192</td>\n      <td>Procedure</td>\n      <td>10/16/2017 1355</td>\n      <td>NaN</td>\n      <td>!FDC 7/5192 ATL CANCELLED BY FDC 8/4084 ON 02/...</td>\n      <td>10/17/2017</td>\n      <td>0500</td>\n      <td>02/01/2018</td>\n      <td>0900</td>\n    </tr>\n    <tr>\n      <th>16160</th>\n      <td>ATL</td>\n      <td>12/231</td>\n      <td>Obstruction</td>\n      <td>12/18/2017 1317</td>\n      <td>01/17/2018 0703</td>\n      <td>!ATL 12/231 ATL OBST TOWER LGT (ASR 1047185) 3...</td>\n      <td>12/18/2017</td>\n      <td>1316</td>\n      <td>01/17/2018</td>\n      <td>1200</td>\n    </tr>\n    <tr>\n      <th>16161</th>\n      <td>ATL</td>\n      <td>12/308</td>\n      <td>Aerodrome</td>\n      <td>12/28/2017 2301</td>\n      <td>01/03/2018 0619</td>\n      <td>!ATL 12/308 ATL AD AP ABN OUT OF SERVICE 17122...</td>\n      <td>12/28/2017</td>\n      <td>2301</td>\n      <td>01/12/2018</td>\n      <td>2301</td>\n    </tr>\n    <tr>\n      <th>16162</th>\n      <td>ATL</td>\n      <td>12/304</td>\n      <td>Aerodrome</td>\n      <td>12/27/2017 1330</td>\n      <td>NaN</td>\n      <td>!ATL 12/304 ATL AD AP BIRD ACT INCREASED FORMA...</td>\n      <td>12/27/2017</td>\n      <td>1329</td>\n      <td>01/02/2018</td>\n      <td>0500</td>\n    </tr>\n  </tbody>\n</table>\n<p>14009 rows × 10 columns</p>\n</div>"
     },
     "execution_count": 5,
     "metadata": {},
     "output_type": "execute_result"
    }
   ],
   "source": [
    "exp_date = atl_notam_df[\"Expiration Date (UTC)\"].apply(lambda x: x.split()[0])\n",
    "exp_time = atl_notam_df[\"Expiration Date (UTC)\"].apply(lambda x: x.split()[1])\n",
    "exp_date_time = pd.concat([exp_date, exp_time], axis='columns')\n",
    "exp_date_time.columns = [\"NOTAM_Expiration_Date\",\"NOTAM_Expiration_Time\"]\n",
    "atl_notam_df = pd.concat([atl_notam_df, exp_date_time], axis=\"columns\").drop(columns=[\"Expiration Date (UTC)\"], axis = \"columns\")\n",
    "atl_notam_df"
   ],
   "metadata": {
    "collapsed": false,
    "pycharm": {
     "name": "#%%\n"
    },
    "ExecuteTime": {
     "end_time": "2024-02-17T22:59:20.897403400Z",
     "start_time": "2024-02-17T22:59:20.790465700Z"
    }
   }
  },
  {
   "cell_type": "markdown",
   "source": [
    "Procedure\n",
    "!FDC 6/2007 ATL STAR HARTSFIELD-JACKSON ATLANTA INTL, ATLANTA, GA.KOLTT ONE ARRIVAL NOTE: LANDING WEST EXPECT RWY 26R, LANDING EAST EXPECT RWY 09R 1609150901-1709150900\n",
    "Aerodrome\n",
    "!ATL 01/007 ATL RWY 09R FICON 5/5/5 100 PRCT WET OBSERVED AT 1701011729. 1701011729-1701021729\n",
    "\n",
    "Chart\n",
    "!FDC 6/9742 ATL CHART HARTSFIELD - JACKSON ATLANTA INTL, ATLANTA, GA.PECHY ONE ARRIVAL (RNAV) (STRWY.PECHY1) ...CORRECT ARRIVAL ROUTE DESCRIPTION: CHANGE PORTION OF LANDING RWYS8R/L TO READ '...\n",
    "\n",
    "Navaid\n",
    "!ATL 01/016 ATL NAV ILS RWY 09R LOC OUT OF SERVICE 1701031457-1701031650\n",
    "\n",
    "Services\n",
    "!ATL 01/034 ATL RWY 26L RVRT OUT OF SERVICE 1701051513-1701051800\n",
    "\n",
    "Obstruction\n",
    "!ATL 08/245 ATL OBST CRANE (ASN UNKNOWN) 333849N0842326W (.85NM NE APCH END RWY 26L) 1004FT (120FT AGL) FLAGGED AND LGTD DLY 1200-2000 1708211200-1708242000"
   ],
   "metadata": {
    "collapsed": false,
    "pycharm": {
     "name": "#%% md\n"
    }
   }
  },
  {
   "cell_type": "code",
   "execution_count": 6,
   "outputs": [
    {
     "data": {
      "text/plain": "      Location NOTAM #        Class Issue Date (UTC) Cancel Date (UTC)  \\\n1          ATL  6/4595    Procedure  12/22/2016 2135               NaN   \n2          ATL  6/4598    Procedure  12/22/2016 2135               NaN   \n3          ATL  6/4601    Procedure  12/22/2016 2135               NaN   \n4          ATL  6/4603    Procedure  12/22/2016 2136               NaN   \n5          ATL  6/4604    Procedure  12/22/2016 2138               NaN   \n...        ...     ...          ...              ...               ...   \n16158      ATL  11/142  Obstruction  11/16/2017 1500   02/23/2018 1644   \n16159      ATL  7/5192    Procedure  10/16/2017 1355               NaN   \n16160      ATL  12/231  Obstruction  12/18/2017 1317   01/17/2018 0703   \n16161      ATL  12/308    Aerodrome  12/28/2017 2301   01/03/2018 0619   \n16162      ATL  12/304    Aerodrome  12/27/2017 1330               NaN   \n\n      NOTAM_Effective_Date NOTAM_Effective_Time NOTAM_Expiration_Date  \\\n1               12/23/2016                 1000            08/17/2017   \n2               12/23/2016                 1000            08/17/2017   \n3               12/23/2016                 1000            08/17/2017   \n4               12/23/2016                 1000            08/17/2017   \n5               12/23/2016                 1000            08/17/2017   \n...                    ...                  ...                   ...   \n16158           11/16/2017                 1500            02/27/2018   \n16159           10/17/2017                 0500            02/01/2018   \n16160           12/18/2017                 1316            01/17/2018   \n16161           12/28/2017                 2301            01/12/2018   \n16162           12/27/2017                 1329            01/02/2018   \n\n      NOTAM_Expiration_Time   Category  \\\n1                      1000  CANCELLED   \n2                      1000  CANCELLED   \n3                      1000  CANCELLED   \n4                      1000  CANCELLED   \n5                      1000  CANCELLED   \n...                     ...        ...   \n16158                  2359       OBST   \n16159                  0900  CANCELLED   \n16160                  1200       OBST   \n16161                  2301         AD   \n16162                  0500         AD   \n\n                                                    Text  \n1                        BY FDC 7/3089 ON 08/17/17 10:00  \n2                        BY FDC 7/3090 ON 08/17/17 10:00  \n3                        BY FDC 7/3088 ON 08/17/17 10:00  \n4                        BY FDC 7/3091 ON 08/17/17 10:00  \n5                        BY FDC 7/3094 ON 08/17/17 10:00  \n...                                                  ...  \n16158  TOWER LGT (ASR 1022036) 334137.30N0841925.30W ...  \n16159                    BY FDC 8/4084 ON 02/01/18 09:00  \n16160  TOWER LGT (ASR 1047185) 332942.90N0842702.10W ...  \n16161        AP ABN OUT OF SERVICE 1712282301-1801122301  \n16162  AP BIRD ACT INCREASED FORMATIONS FLOCKING\\nBLA...  \n\n[14009 rows x 11 columns]",
      "text/html": "<div>\n<style scoped>\n    .dataframe tbody tr th:only-of-type {\n        vertical-align: middle;\n    }\n\n    .dataframe tbody tr th {\n        vertical-align: top;\n    }\n\n    .dataframe thead th {\n        text-align: right;\n    }\n</style>\n<table border=\"1\" class=\"dataframe\">\n  <thead>\n    <tr style=\"text-align: right;\">\n      <th></th>\n      <th>Location</th>\n      <th>NOTAM #</th>\n      <th>Class</th>\n      <th>Issue Date (UTC)</th>\n      <th>Cancel Date (UTC)</th>\n      <th>NOTAM_Effective_Date</th>\n      <th>NOTAM_Effective_Time</th>\n      <th>NOTAM_Expiration_Date</th>\n      <th>NOTAM_Expiration_Time</th>\n      <th>Category</th>\n      <th>Text</th>\n    </tr>\n  </thead>\n  <tbody>\n    <tr>\n      <th>1</th>\n      <td>ATL</td>\n      <td>6/4595</td>\n      <td>Procedure</td>\n      <td>12/22/2016 2135</td>\n      <td>NaN</td>\n      <td>12/23/2016</td>\n      <td>1000</td>\n      <td>08/17/2017</td>\n      <td>1000</td>\n      <td>CANCELLED</td>\n      <td>BY FDC 7/3089 ON 08/17/17 10:00</td>\n    </tr>\n    <tr>\n      <th>2</th>\n      <td>ATL</td>\n      <td>6/4598</td>\n      <td>Procedure</td>\n      <td>12/22/2016 2135</td>\n      <td>NaN</td>\n      <td>12/23/2016</td>\n      <td>1000</td>\n      <td>08/17/2017</td>\n      <td>1000</td>\n      <td>CANCELLED</td>\n      <td>BY FDC 7/3090 ON 08/17/17 10:00</td>\n    </tr>\n    <tr>\n      <th>3</th>\n      <td>ATL</td>\n      <td>6/4601</td>\n      <td>Procedure</td>\n      <td>12/22/2016 2135</td>\n      <td>NaN</td>\n      <td>12/23/2016</td>\n      <td>1000</td>\n      <td>08/17/2017</td>\n      <td>1000</td>\n      <td>CANCELLED</td>\n      <td>BY FDC 7/3088 ON 08/17/17 10:00</td>\n    </tr>\n    <tr>\n      <th>4</th>\n      <td>ATL</td>\n      <td>6/4603</td>\n      <td>Procedure</td>\n      <td>12/22/2016 2136</td>\n      <td>NaN</td>\n      <td>12/23/2016</td>\n      <td>1000</td>\n      <td>08/17/2017</td>\n      <td>1000</td>\n      <td>CANCELLED</td>\n      <td>BY FDC 7/3091 ON 08/17/17 10:00</td>\n    </tr>\n    <tr>\n      <th>5</th>\n      <td>ATL</td>\n      <td>6/4604</td>\n      <td>Procedure</td>\n      <td>12/22/2016 2138</td>\n      <td>NaN</td>\n      <td>12/23/2016</td>\n      <td>1000</td>\n      <td>08/17/2017</td>\n      <td>1000</td>\n      <td>CANCELLED</td>\n      <td>BY FDC 7/3094 ON 08/17/17 10:00</td>\n    </tr>\n    <tr>\n      <th>...</th>\n      <td>...</td>\n      <td>...</td>\n      <td>...</td>\n      <td>...</td>\n      <td>...</td>\n      <td>...</td>\n      <td>...</td>\n      <td>...</td>\n      <td>...</td>\n      <td>...</td>\n      <td>...</td>\n    </tr>\n    <tr>\n      <th>16158</th>\n      <td>ATL</td>\n      <td>11/142</td>\n      <td>Obstruction</td>\n      <td>11/16/2017 1500</td>\n      <td>02/23/2018 1644</td>\n      <td>11/16/2017</td>\n      <td>1500</td>\n      <td>02/27/2018</td>\n      <td>2359</td>\n      <td>OBST</td>\n      <td>TOWER LGT (ASR 1022036) 334137.30N0841925.30W ...</td>\n    </tr>\n    <tr>\n      <th>16159</th>\n      <td>ATL</td>\n      <td>7/5192</td>\n      <td>Procedure</td>\n      <td>10/16/2017 1355</td>\n      <td>NaN</td>\n      <td>10/17/2017</td>\n      <td>0500</td>\n      <td>02/01/2018</td>\n      <td>0900</td>\n      <td>CANCELLED</td>\n      <td>BY FDC 8/4084 ON 02/01/18 09:00</td>\n    </tr>\n    <tr>\n      <th>16160</th>\n      <td>ATL</td>\n      <td>12/231</td>\n      <td>Obstruction</td>\n      <td>12/18/2017 1317</td>\n      <td>01/17/2018 0703</td>\n      <td>12/18/2017</td>\n      <td>1316</td>\n      <td>01/17/2018</td>\n      <td>1200</td>\n      <td>OBST</td>\n      <td>TOWER LGT (ASR 1047185) 332942.90N0842702.10W ...</td>\n    </tr>\n    <tr>\n      <th>16161</th>\n      <td>ATL</td>\n      <td>12/308</td>\n      <td>Aerodrome</td>\n      <td>12/28/2017 2301</td>\n      <td>01/03/2018 0619</td>\n      <td>12/28/2017</td>\n      <td>2301</td>\n      <td>01/12/2018</td>\n      <td>2301</td>\n      <td>AD</td>\n      <td>AP ABN OUT OF SERVICE 1712282301-1801122301</td>\n    </tr>\n    <tr>\n      <th>16162</th>\n      <td>ATL</td>\n      <td>12/304</td>\n      <td>Aerodrome</td>\n      <td>12/27/2017 1330</td>\n      <td>NaN</td>\n      <td>12/27/2017</td>\n      <td>1329</td>\n      <td>01/02/2018</td>\n      <td>0500</td>\n      <td>AD</td>\n      <td>AP BIRD ACT INCREASED FORMATIONS FLOCKING\\nBLA...</td>\n    </tr>\n  </tbody>\n</table>\n<p>14009 rows × 11 columns</p>\n</div>"
     },
     "execution_count": 6,
     "metadata": {},
     "output_type": "execute_result"
    }
   ],
   "source": [
    "atl_notam_df[\"Category\"] = atl_notam_df[\"NOTAM Condition or LTA Subject\"].apply(lambda x: x.split(' ',4)[3])\n",
    "atl_notam_df[\"Text\"] = atl_notam_df[\"NOTAM Condition or LTA Subject\"].apply(lambda x: x.split(' ',4)[4].lstrip())\n",
    "atl_notam_df = atl_notam_df.drop(labels=[\"NOTAM Condition or LTA Subject\"], axis='columns')\n",
    "atl_notam_df"
   ],
   "metadata": {
    "collapsed": false,
    "pycharm": {
     "name": "#%%\n"
    },
    "ExecuteTime": {
     "end_time": "2024-02-17T22:59:20.983558200Z",
     "start_time": "2024-02-17T22:59:20.834438200Z"
    }
   }
  },
  {
   "cell_type": "code",
   "execution_count": 7,
   "outputs": [
    {
     "data": {
      "text/plain": "       length_ft  width_ft surface  lighted  closed le_ident  le_latitude_deg  \\\n19575     9000.0     150.0     CON        1       0      08L          33.6495   \n19576    10000.0     150.0     CON        1       0      08R          33.6468   \n19577    11890.0     150.0     CON        1       0      09L          33.6347   \n19578     9001.0     150.0     CON        1       0      09R          33.6318   \n19579     9000.0     150.0     CON        1       0       10          33.6203   \n\n       le_longitude_deg  le_elevation_ft  le_heading_degT he_ident  \\\n19575          -84.4390           1015.0             90.0      26R   \n19576          -84.4384           1024.0             90.0      26L   \n19577          -84.4480           1019.0             90.0      27R   \n19578          -84.4480           1026.0             90.0      27L   \n19579          -84.4479           1000.0             90.0       28   \n\n       he_latitude_deg  he_longitude_deg  he_elevation_ft  he_heading_degT  \\\n19575          33.6495          -84.4095            990.0            270.0   \n19576          33.6468          -84.4055            995.0            270.0   \n19577          33.6347          -84.4089            978.0            270.0   \n19578          33.6318          -84.4184            985.0            270.0   \n19579          33.6203          -84.4183            998.0            270.0   \n\n         ident  \n19575  08L/26R  \n19576  08R/26L  \n19577  09L/27R  \n19578  09R/27L  \n19579    10/28  ",
      "text/html": "<div>\n<style scoped>\n    .dataframe tbody tr th:only-of-type {\n        vertical-align: middle;\n    }\n\n    .dataframe tbody tr th {\n        vertical-align: top;\n    }\n\n    .dataframe thead th {\n        text-align: right;\n    }\n</style>\n<table border=\"1\" class=\"dataframe\">\n  <thead>\n    <tr style=\"text-align: right;\">\n      <th></th>\n      <th>length_ft</th>\n      <th>width_ft</th>\n      <th>surface</th>\n      <th>lighted</th>\n      <th>closed</th>\n      <th>le_ident</th>\n      <th>le_latitude_deg</th>\n      <th>le_longitude_deg</th>\n      <th>le_elevation_ft</th>\n      <th>le_heading_degT</th>\n      <th>he_ident</th>\n      <th>he_latitude_deg</th>\n      <th>he_longitude_deg</th>\n      <th>he_elevation_ft</th>\n      <th>he_heading_degT</th>\n      <th>ident</th>\n    </tr>\n  </thead>\n  <tbody>\n    <tr>\n      <th>19575</th>\n      <td>9000.0</td>\n      <td>150.0</td>\n      <td>CON</td>\n      <td>1</td>\n      <td>0</td>\n      <td>08L</td>\n      <td>33.6495</td>\n      <td>-84.4390</td>\n      <td>1015.0</td>\n      <td>90.0</td>\n      <td>26R</td>\n      <td>33.6495</td>\n      <td>-84.4095</td>\n      <td>990.0</td>\n      <td>270.0</td>\n      <td>08L/26R</td>\n    </tr>\n    <tr>\n      <th>19576</th>\n      <td>10000.0</td>\n      <td>150.0</td>\n      <td>CON</td>\n      <td>1</td>\n      <td>0</td>\n      <td>08R</td>\n      <td>33.6468</td>\n      <td>-84.4384</td>\n      <td>1024.0</td>\n      <td>90.0</td>\n      <td>26L</td>\n      <td>33.6468</td>\n      <td>-84.4055</td>\n      <td>995.0</td>\n      <td>270.0</td>\n      <td>08R/26L</td>\n    </tr>\n    <tr>\n      <th>19577</th>\n      <td>11890.0</td>\n      <td>150.0</td>\n      <td>CON</td>\n      <td>1</td>\n      <td>0</td>\n      <td>09L</td>\n      <td>33.6347</td>\n      <td>-84.4480</td>\n      <td>1019.0</td>\n      <td>90.0</td>\n      <td>27R</td>\n      <td>33.6347</td>\n      <td>-84.4089</td>\n      <td>978.0</td>\n      <td>270.0</td>\n      <td>09L/27R</td>\n    </tr>\n    <tr>\n      <th>19578</th>\n      <td>9001.0</td>\n      <td>150.0</td>\n      <td>CON</td>\n      <td>1</td>\n      <td>0</td>\n      <td>09R</td>\n      <td>33.6318</td>\n      <td>-84.4480</td>\n      <td>1026.0</td>\n      <td>90.0</td>\n      <td>27L</td>\n      <td>33.6318</td>\n      <td>-84.4184</td>\n      <td>985.0</td>\n      <td>270.0</td>\n      <td>09R/27L</td>\n    </tr>\n    <tr>\n      <th>19579</th>\n      <td>9000.0</td>\n      <td>150.0</td>\n      <td>CON</td>\n      <td>1</td>\n      <td>0</td>\n      <td>10</td>\n      <td>33.6203</td>\n      <td>-84.4479</td>\n      <td>1000.0</td>\n      <td>90.0</td>\n      <td>28</td>\n      <td>33.6203</td>\n      <td>-84.4183</td>\n      <td>998.0</td>\n      <td>270.0</td>\n      <td>10/28</td>\n    </tr>\n  </tbody>\n</table>\n</div>"
     },
     "execution_count": 7,
     "metadata": {},
     "output_type": "execute_result"
    }
   ],
   "source": [
    "atl_runways_df = pd.read_pickle(os.path.join(OUTPUT_FOLDER, \"03_runways.pkl\"))\n",
    "atl_runways_df"
   ],
   "metadata": {
    "collapsed": false,
    "pycharm": {
     "name": "#%%\n"
    },
    "ExecuteTime": {
     "end_time": "2024-02-17T22:59:21.003554200Z",
     "start_time": "2024-02-17T22:59:20.880413200Z"
    }
   }
  },
  {
   "cell_type": "code",
   "execution_count": 8,
   "outputs": [
    {
     "data": {
      "text/plain": "['08L', '08R', '09L', '09R', '10', '26R', '26L', '27R', '27L', '28']"
     },
     "execution_count": 8,
     "metadata": {},
     "output_type": "execute_result"
    }
   ],
   "source": [
    "runways = list(atl_runways_df[\"le_ident\"]) + list(atl_runways_df[\"he_ident\"])\n",
    "runways"
   ],
   "metadata": {
    "collapsed": false,
    "pycharm": {
     "name": "#%%\n"
    },
    "ExecuteTime": {
     "end_time": "2024-02-17T22:59:21.071505500Z",
     "start_time": "2024-02-17T22:59:20.909395100Z"
    }
   }
  },
  {
   "cell_type": "code",
   "execution_count": 9,
   "outputs": [
    {
     "data": {
      "text/plain": "['08L ', '08R ', '09L ', '09R ', '10 ', '26R ', '26L ', '27R ', '27L ', '28 ']"
     },
     "execution_count": 9,
     "metadata": {},
     "output_type": "execute_result"
    }
   ],
   "source": [
    "runways = [s + ' ' for s in runways]\n",
    "runways"
   ],
   "metadata": {
    "collapsed": false,
    "pycharm": {
     "name": "#%%\n"
    },
    "ExecuteTime": {
     "end_time": "2024-02-17T22:59:21.095491600Z",
     "start_time": "2024-02-17T22:59:20.926591Z"
    }
   }
  },
  {
   "cell_type": "code",
   "execution_count": 10,
   "outputs": [
    {
     "data": {
      "text/plain": "      Location NOTAM #      Class Issue Date (UTC) Cancel Date (UTC)  \\\n9          ATL  6/2007  Procedure  09/14/2016 2042   06/29/2017 1246   \n10         ATL  6/2008  Procedure  09/14/2016 2042   06/29/2017 1246   \n21         ATL  12/141  Aerodrome  12/20/2016 0919   01/21/2017 0833   \n22         ATL  12/140  Aerodrome  12/20/2016 0918   01/21/2017 0833   \n28         ATL  01/007  Aerodrome  01/01/2017 1729               NaN   \n...        ...     ...        ...              ...               ...   \n16133      ATL  12/307     Navaid  12/28/2017 0954   12/28/2017 1021   \n16134      ATL  12/306     Navaid  12/28/2017 0953   12/28/2017 1020   \n16144      ATL  12/309     Navaid  12/29/2017 1115   12/30/2017 1023   \n16145      ATL  12/289  Aerodrome  12/25/2017 1342   12/29/2017 0102   \n16154      ATL  12/309     Navaid  12/29/2017 1115   12/30/2017 1023   \n\n      NOTAM_Effective_Date NOTAM_Effective_Time NOTAM_Expiration_Date  \\\n9               09/15/2016                 0901            09/15/2017   \n10              09/15/2016                 0901            09/15/2017   \n21              12/20/2016                 0919            01/30/2017   \n22              12/20/2016                 0918            01/30/2017   \n28              01/01/2017                 1729            01/02/2017   \n...                    ...                  ...                   ...   \n16133           12/28/2017                 0954            12/28/2017   \n16134           12/28/2017                 0953            12/28/2017   \n16144           12/29/2017                 1115            01/02/2018   \n16145           12/25/2017                 1342            01/02/2018   \n16154           12/29/2017                 1115            01/02/2018   \n\n      NOTAM_Expiration_Time Category  \\\n9                      0900     STAR   \n10                     0900     STAR   \n21                     1130      RWY   \n22                     1130      RWY   \n28                     1729      RWY   \n...                     ...      ...   \n16133                  1700      NAV   \n16134                  1700      NAV   \n16144               2000EST      NAV   \n16145               2359EST      RWY   \n16154               2000EST      NAV   \n\n                                                    Text  \n9      HARTSFIELD-JACKSON ATLANTA INTL, ATLANTA, GA.K...  \n10     HARTSFIELD-JACKSON ATLANTA INTL, ATLANTA, GA.R...  \n21     27R 5000FT DIST REMAINING SIGN MISSING 1612200...  \n22     09L 7000FT DIST REMAINING SIGN MISSING 1612200...  \n28     09R FICON 5/5/5 100 PRCT WET OBSERVED AT 17010...  \n...                                                  ...  \n16133        ILS RWY 08R CAT II NA 1712280954-1712281700  \n16134    ILS RWY 08L CAT II/III NA 1712280953-1712281700  \n16144    ILS RWY 26L MM NOT MNT 1712291115-1801022000EST  \n16145           08L ALS NOT MNT 1712251342-1801022359EST  \n16154    ILS RWY 26L MM NOT MNT 1712291115-1801022000EST  \n\n[4424 rows x 11 columns]",
      "text/html": "<div>\n<style scoped>\n    .dataframe tbody tr th:only-of-type {\n        vertical-align: middle;\n    }\n\n    .dataframe tbody tr th {\n        vertical-align: top;\n    }\n\n    .dataframe thead th {\n        text-align: right;\n    }\n</style>\n<table border=\"1\" class=\"dataframe\">\n  <thead>\n    <tr style=\"text-align: right;\">\n      <th></th>\n      <th>Location</th>\n      <th>NOTAM #</th>\n      <th>Class</th>\n      <th>Issue Date (UTC)</th>\n      <th>Cancel Date (UTC)</th>\n      <th>NOTAM_Effective_Date</th>\n      <th>NOTAM_Effective_Time</th>\n      <th>NOTAM_Expiration_Date</th>\n      <th>NOTAM_Expiration_Time</th>\n      <th>Category</th>\n      <th>Text</th>\n    </tr>\n  </thead>\n  <tbody>\n    <tr>\n      <th>9</th>\n      <td>ATL</td>\n      <td>6/2007</td>\n      <td>Procedure</td>\n      <td>09/14/2016 2042</td>\n      <td>06/29/2017 1246</td>\n      <td>09/15/2016</td>\n      <td>0901</td>\n      <td>09/15/2017</td>\n      <td>0900</td>\n      <td>STAR</td>\n      <td>HARTSFIELD-JACKSON ATLANTA INTL, ATLANTA, GA.K...</td>\n    </tr>\n    <tr>\n      <th>10</th>\n      <td>ATL</td>\n      <td>6/2008</td>\n      <td>Procedure</td>\n      <td>09/14/2016 2042</td>\n      <td>06/29/2017 1246</td>\n      <td>09/15/2016</td>\n      <td>0901</td>\n      <td>09/15/2017</td>\n      <td>0900</td>\n      <td>STAR</td>\n      <td>HARTSFIELD-JACKSON ATLANTA INTL, ATLANTA, GA.R...</td>\n    </tr>\n    <tr>\n      <th>21</th>\n      <td>ATL</td>\n      <td>12/141</td>\n      <td>Aerodrome</td>\n      <td>12/20/2016 0919</td>\n      <td>01/21/2017 0833</td>\n      <td>12/20/2016</td>\n      <td>0919</td>\n      <td>01/30/2017</td>\n      <td>1130</td>\n      <td>RWY</td>\n      <td>27R 5000FT DIST REMAINING SIGN MISSING 1612200...</td>\n    </tr>\n    <tr>\n      <th>22</th>\n      <td>ATL</td>\n      <td>12/140</td>\n      <td>Aerodrome</td>\n      <td>12/20/2016 0918</td>\n      <td>01/21/2017 0833</td>\n      <td>12/20/2016</td>\n      <td>0918</td>\n      <td>01/30/2017</td>\n      <td>1130</td>\n      <td>RWY</td>\n      <td>09L 7000FT DIST REMAINING SIGN MISSING 1612200...</td>\n    </tr>\n    <tr>\n      <th>28</th>\n      <td>ATL</td>\n      <td>01/007</td>\n      <td>Aerodrome</td>\n      <td>01/01/2017 1729</td>\n      <td>NaN</td>\n      <td>01/01/2017</td>\n      <td>1729</td>\n      <td>01/02/2017</td>\n      <td>1729</td>\n      <td>RWY</td>\n      <td>09R FICON 5/5/5 100 PRCT WET OBSERVED AT 17010...</td>\n    </tr>\n    <tr>\n      <th>...</th>\n      <td>...</td>\n      <td>...</td>\n      <td>...</td>\n      <td>...</td>\n      <td>...</td>\n      <td>...</td>\n      <td>...</td>\n      <td>...</td>\n      <td>...</td>\n      <td>...</td>\n      <td>...</td>\n    </tr>\n    <tr>\n      <th>16133</th>\n      <td>ATL</td>\n      <td>12/307</td>\n      <td>Navaid</td>\n      <td>12/28/2017 0954</td>\n      <td>12/28/2017 1021</td>\n      <td>12/28/2017</td>\n      <td>0954</td>\n      <td>12/28/2017</td>\n      <td>1700</td>\n      <td>NAV</td>\n      <td>ILS RWY 08R CAT II NA 1712280954-1712281700</td>\n    </tr>\n    <tr>\n      <th>16134</th>\n      <td>ATL</td>\n      <td>12/306</td>\n      <td>Navaid</td>\n      <td>12/28/2017 0953</td>\n      <td>12/28/2017 1020</td>\n      <td>12/28/2017</td>\n      <td>0953</td>\n      <td>12/28/2017</td>\n      <td>1700</td>\n      <td>NAV</td>\n      <td>ILS RWY 08L CAT II/III NA 1712280953-1712281700</td>\n    </tr>\n    <tr>\n      <th>16144</th>\n      <td>ATL</td>\n      <td>12/309</td>\n      <td>Navaid</td>\n      <td>12/29/2017 1115</td>\n      <td>12/30/2017 1023</td>\n      <td>12/29/2017</td>\n      <td>1115</td>\n      <td>01/02/2018</td>\n      <td>2000EST</td>\n      <td>NAV</td>\n      <td>ILS RWY 26L MM NOT MNT 1712291115-1801022000EST</td>\n    </tr>\n    <tr>\n      <th>16145</th>\n      <td>ATL</td>\n      <td>12/289</td>\n      <td>Aerodrome</td>\n      <td>12/25/2017 1342</td>\n      <td>12/29/2017 0102</td>\n      <td>12/25/2017</td>\n      <td>1342</td>\n      <td>01/02/2018</td>\n      <td>2359EST</td>\n      <td>RWY</td>\n      <td>08L ALS NOT MNT 1712251342-1801022359EST</td>\n    </tr>\n    <tr>\n      <th>16154</th>\n      <td>ATL</td>\n      <td>12/309</td>\n      <td>Navaid</td>\n      <td>12/29/2017 1115</td>\n      <td>12/30/2017 1023</td>\n      <td>12/29/2017</td>\n      <td>1115</td>\n      <td>01/02/2018</td>\n      <td>2000EST</td>\n      <td>NAV</td>\n      <td>ILS RWY 26L MM NOT MNT 1712291115-1801022000EST</td>\n    </tr>\n  </tbody>\n</table>\n<p>4424 rows × 11 columns</p>\n</div>"
     },
     "execution_count": 10,
     "metadata": {},
     "output_type": "execute_result"
    }
   ],
   "source": [
    "filtered_df = atl_notam_df[[True if any(runway in text for runway in runways) else False for text in atl_notam_df[\"Text\"]]]\n",
    "filtered_df"
   ],
   "metadata": {
    "collapsed": false,
    "pycharm": {
     "name": "#%%\n"
    },
    "ExecuteTime": {
     "end_time": "2024-02-17T22:59:21.154458700Z",
     "start_time": "2024-02-17T22:59:20.945577800Z"
    }
   }
  },
  {
   "cell_type": "code",
   "execution_count": 11,
   "outputs": [
    {
     "data": {
      "text/plain": "      Location NOTAM #      Class Issue Date (UTC) Cancel Date (UTC)  \\\n28         ATL  01/007  Aerodrome  01/01/2017 1729               NaN   \n29         ATL  01/006  Aerodrome  01/01/2017 1728               NaN   \n30         ATL  01/005  Aerodrome  01/01/2017 1727               NaN   \n31         ATL  01/004  Aerodrome  01/01/2017 1725               NaN   \n32         ATL  01/003  Aerodrome  01/01/2017 1722               NaN   \n...        ...     ...        ...              ...               ...   \n16115      ATL  12/297  Aerodrome  12/27/2017 0601   12/27/2017 0717   \n16127      ATL  12/294   Services  12/27/2017 0357   12/28/2017 1846   \n16128      ATL  12/293   Services  12/27/2017 0355   12/28/2017 1846   \n16130      ATL  12/292   Services  12/27/2017 0353   12/28/2017 1846   \n16131      ATL  12/295   Services  12/27/2017 0358   12/28/2017 1846   \n\n      NOTAM_Effective_Date NOTAM_Effective_Time NOTAM_Expiration_Date  \\\n28              01/01/2017                 1729            01/02/2017   \n29              01/01/2017                 1728            01/02/2017   \n30              01/01/2017                 1726            01/02/2017   \n31              01/01/2017                 1725            01/02/2017   \n32              01/01/2017                 1722            01/02/2017   \n...                    ...                  ...                   ...   \n16115           12/27/2017                 0601            12/27/2017   \n16127           12/27/2017                 0356            12/28/2017   \n16128           12/27/2017                 0355            12/28/2017   \n16130           12/27/2017                 0353            12/28/2017   \n16131           12/27/2017                 0358            12/28/2017   \n\n      NOTAM_Expiration_Time Category  \\\n28                     1729      RWY   \n29                     1728      RWY   \n30                     1726      RWY   \n31                     1725      RWY   \n32                     1722      RWY   \n...                     ...      ...   \n16115                  0800      RWY   \n16127                  2359      RWY   \n16128                  2359      RWY   \n16130                  2359      RWY   \n16131                  2359      RWY   \n\n                                                    Text  \n28     09R FICON 5/5/5 100 PRCT WET OBSERVED AT 17010...  \n29     09L FICON 5/5/5 100 PRCT WET OBSERVED AT 17010...  \n30     08R FICON 5/5/5 100 PRCT WET OBSERVED AT 17010...  \n31     08L FICON 5/5/5 100 PRCT WET OBSERVED AT 17010...  \n32     10 FICON 5/5/5 100 PRCT WET OBSERVED AT 170101...  \n...                                                  ...  \n16115                 08L/26R CLSD 1712270601-1712270800  \n16127      08L RVRR OUT OF SERVICE 1712270356-1712282359  \n16128      26L RVRT OUT OF SERVICE 1712270355-1712282359  \n16130      26R RVRT OUT OF SERVICE 1712270353-1712282359  \n16131      08R RVRR OUT OF SERVICE 1712270358-1712282359  \n\n[3568 rows x 11 columns]",
      "text/html": "<div>\n<style scoped>\n    .dataframe tbody tr th:only-of-type {\n        vertical-align: middle;\n    }\n\n    .dataframe tbody tr th {\n        vertical-align: top;\n    }\n\n    .dataframe thead th {\n        text-align: right;\n    }\n</style>\n<table border=\"1\" class=\"dataframe\">\n  <thead>\n    <tr style=\"text-align: right;\">\n      <th></th>\n      <th>Location</th>\n      <th>NOTAM #</th>\n      <th>Class</th>\n      <th>Issue Date (UTC)</th>\n      <th>Cancel Date (UTC)</th>\n      <th>NOTAM_Effective_Date</th>\n      <th>NOTAM_Effective_Time</th>\n      <th>NOTAM_Expiration_Date</th>\n      <th>NOTAM_Expiration_Time</th>\n      <th>Category</th>\n      <th>Text</th>\n    </tr>\n  </thead>\n  <tbody>\n    <tr>\n      <th>28</th>\n      <td>ATL</td>\n      <td>01/007</td>\n      <td>Aerodrome</td>\n      <td>01/01/2017 1729</td>\n      <td>NaN</td>\n      <td>01/01/2017</td>\n      <td>1729</td>\n      <td>01/02/2017</td>\n      <td>1729</td>\n      <td>RWY</td>\n      <td>09R FICON 5/5/5 100 PRCT WET OBSERVED AT 17010...</td>\n    </tr>\n    <tr>\n      <th>29</th>\n      <td>ATL</td>\n      <td>01/006</td>\n      <td>Aerodrome</td>\n      <td>01/01/2017 1728</td>\n      <td>NaN</td>\n      <td>01/01/2017</td>\n      <td>1728</td>\n      <td>01/02/2017</td>\n      <td>1728</td>\n      <td>RWY</td>\n      <td>09L FICON 5/5/5 100 PRCT WET OBSERVED AT 17010...</td>\n    </tr>\n    <tr>\n      <th>30</th>\n      <td>ATL</td>\n      <td>01/005</td>\n      <td>Aerodrome</td>\n      <td>01/01/2017 1727</td>\n      <td>NaN</td>\n      <td>01/01/2017</td>\n      <td>1726</td>\n      <td>01/02/2017</td>\n      <td>1726</td>\n      <td>RWY</td>\n      <td>08R FICON 5/5/5 100 PRCT WET OBSERVED AT 17010...</td>\n    </tr>\n    <tr>\n      <th>31</th>\n      <td>ATL</td>\n      <td>01/004</td>\n      <td>Aerodrome</td>\n      <td>01/01/2017 1725</td>\n      <td>NaN</td>\n      <td>01/01/2017</td>\n      <td>1725</td>\n      <td>01/02/2017</td>\n      <td>1725</td>\n      <td>RWY</td>\n      <td>08L FICON 5/5/5 100 PRCT WET OBSERVED AT 17010...</td>\n    </tr>\n    <tr>\n      <th>32</th>\n      <td>ATL</td>\n      <td>01/003</td>\n      <td>Aerodrome</td>\n      <td>01/01/2017 1722</td>\n      <td>NaN</td>\n      <td>01/01/2017</td>\n      <td>1722</td>\n      <td>01/02/2017</td>\n      <td>1722</td>\n      <td>RWY</td>\n      <td>10 FICON 5/5/5 100 PRCT WET OBSERVED AT 170101...</td>\n    </tr>\n    <tr>\n      <th>...</th>\n      <td>...</td>\n      <td>...</td>\n      <td>...</td>\n      <td>...</td>\n      <td>...</td>\n      <td>...</td>\n      <td>...</td>\n      <td>...</td>\n      <td>...</td>\n      <td>...</td>\n      <td>...</td>\n    </tr>\n    <tr>\n      <th>16115</th>\n      <td>ATL</td>\n      <td>12/297</td>\n      <td>Aerodrome</td>\n      <td>12/27/2017 0601</td>\n      <td>12/27/2017 0717</td>\n      <td>12/27/2017</td>\n      <td>0601</td>\n      <td>12/27/2017</td>\n      <td>0800</td>\n      <td>RWY</td>\n      <td>08L/26R CLSD 1712270601-1712270800</td>\n    </tr>\n    <tr>\n      <th>16127</th>\n      <td>ATL</td>\n      <td>12/294</td>\n      <td>Services</td>\n      <td>12/27/2017 0357</td>\n      <td>12/28/2017 1846</td>\n      <td>12/27/2017</td>\n      <td>0356</td>\n      <td>12/28/2017</td>\n      <td>2359</td>\n      <td>RWY</td>\n      <td>08L RVRR OUT OF SERVICE 1712270356-1712282359</td>\n    </tr>\n    <tr>\n      <th>16128</th>\n      <td>ATL</td>\n      <td>12/293</td>\n      <td>Services</td>\n      <td>12/27/2017 0355</td>\n      <td>12/28/2017 1846</td>\n      <td>12/27/2017</td>\n      <td>0355</td>\n      <td>12/28/2017</td>\n      <td>2359</td>\n      <td>RWY</td>\n      <td>26L RVRT OUT OF SERVICE 1712270355-1712282359</td>\n    </tr>\n    <tr>\n      <th>16130</th>\n      <td>ATL</td>\n      <td>12/292</td>\n      <td>Services</td>\n      <td>12/27/2017 0353</td>\n      <td>12/28/2017 1846</td>\n      <td>12/27/2017</td>\n      <td>0353</td>\n      <td>12/28/2017</td>\n      <td>2359</td>\n      <td>RWY</td>\n      <td>26R RVRT OUT OF SERVICE 1712270353-1712282359</td>\n    </tr>\n    <tr>\n      <th>16131</th>\n      <td>ATL</td>\n      <td>12/295</td>\n      <td>Services</td>\n      <td>12/27/2017 0358</td>\n      <td>12/28/2017 1846</td>\n      <td>12/27/2017</td>\n      <td>0358</td>\n      <td>12/28/2017</td>\n      <td>2359</td>\n      <td>RWY</td>\n      <td>08R RVRR OUT OF SERVICE 1712270358-1712282359</td>\n    </tr>\n  </tbody>\n</table>\n<p>3568 rows × 11 columns</p>\n</div>"
     },
     "execution_count": 11,
     "metadata": {},
     "output_type": "execute_result"
    }
   ],
   "source": [
    "filterwords = ['FICON', 'OUT OF SERVICE', 'CLSD']\n",
    "filtered_df = filtered_df[[True if any(f in text for f in filterwords) else False for text in filtered_df[\"Text\"]]]\n",
    "filtered_df"
   ],
   "metadata": {
    "collapsed": false,
    "pycharm": {
     "name": "#%%\n"
    },
    "ExecuteTime": {
     "end_time": "2024-02-17T22:59:21.285382900Z",
     "start_time": "2024-02-17T22:59:21.019537400Z"
    }
   }
  },
  {
   "cell_type": "code",
   "execution_count": 12,
   "outputs": [
    {
     "name": "stderr",
     "output_type": "stream",
     "text": [
      "C:\\Users\\chrig\\AppData\\Local\\Temp\\ipykernel_2008\\2329623378.py:1: SettingWithCopyWarning: \n",
      "A value is trying to be set on a copy of a slice from a DataFrame.\n",
      "Try using .loc[row_indexer,col_indexer] = value instead\n",
      "\n",
      "See the caveats in the documentation: https://pandas.pydata.org/pandas-docs/stable/user_guide/indexing.html#returning-a-view-versus-a-copy\n",
      "  filtered_df[\"Runway_ident\"] = filtered_df[\"Text\"].apply(lambda x: x.split(' ',1)[0].lstrip())\n"
     ]
    },
    {
     "data": {
      "text/plain": "      Location NOTAM #      Class Issue Date (UTC) Cancel Date (UTC)  \\\n28         ATL  01/007  Aerodrome  01/01/2017 1729               NaN   \n29         ATL  01/006  Aerodrome  01/01/2017 1728               NaN   \n30         ATL  01/005  Aerodrome  01/01/2017 1727               NaN   \n31         ATL  01/004  Aerodrome  01/01/2017 1725               NaN   \n32         ATL  01/003  Aerodrome  01/01/2017 1722               NaN   \n...        ...     ...        ...              ...               ...   \n16115      ATL  12/297  Aerodrome  12/27/2017 0601   12/27/2017 0717   \n16127      ATL  12/294   Services  12/27/2017 0357   12/28/2017 1846   \n16128      ATL  12/293   Services  12/27/2017 0355   12/28/2017 1846   \n16130      ATL  12/292   Services  12/27/2017 0353   12/28/2017 1846   \n16131      ATL  12/295   Services  12/27/2017 0358   12/28/2017 1846   \n\n      NOTAM_Effective_Date NOTAM_Effective_Time NOTAM_Expiration_Date  \\\n28              01/01/2017                 1729            01/02/2017   \n29              01/01/2017                 1728            01/02/2017   \n30              01/01/2017                 1726            01/02/2017   \n31              01/01/2017                 1725            01/02/2017   \n32              01/01/2017                 1722            01/02/2017   \n...                    ...                  ...                   ...   \n16115           12/27/2017                 0601            12/27/2017   \n16127           12/27/2017                 0356            12/28/2017   \n16128           12/27/2017                 0355            12/28/2017   \n16130           12/27/2017                 0353            12/28/2017   \n16131           12/27/2017                 0358            12/28/2017   \n\n      NOTAM_Expiration_Time Category  \\\n28                     1729      RWY   \n29                     1728      RWY   \n30                     1726      RWY   \n31                     1725      RWY   \n32                     1722      RWY   \n...                     ...      ...   \n16115                  0800      RWY   \n16127                  2359      RWY   \n16128                  2359      RWY   \n16130                  2359      RWY   \n16131                  2359      RWY   \n\n                                                    Text Runway_ident  \n28     09R FICON 5/5/5 100 PRCT WET OBSERVED AT 17010...          09R  \n29     09L FICON 5/5/5 100 PRCT WET OBSERVED AT 17010...          09L  \n30     08R FICON 5/5/5 100 PRCT WET OBSERVED AT 17010...          08R  \n31     08L FICON 5/5/5 100 PRCT WET OBSERVED AT 17010...          08L  \n32     10 FICON 5/5/5 100 PRCT WET OBSERVED AT 170101...           10  \n...                                                  ...          ...  \n16115                 08L/26R CLSD 1712270601-1712270800      08L/26R  \n16127      08L RVRR OUT OF SERVICE 1712270356-1712282359          08L  \n16128      26L RVRT OUT OF SERVICE 1712270355-1712282359          26L  \n16130      26R RVRT OUT OF SERVICE 1712270353-1712282359          26R  \n16131      08R RVRR OUT OF SERVICE 1712270358-1712282359          08R  \n\n[3568 rows x 12 columns]",
      "text/html": "<div>\n<style scoped>\n    .dataframe tbody tr th:only-of-type {\n        vertical-align: middle;\n    }\n\n    .dataframe tbody tr th {\n        vertical-align: top;\n    }\n\n    .dataframe thead th {\n        text-align: right;\n    }\n</style>\n<table border=\"1\" class=\"dataframe\">\n  <thead>\n    <tr style=\"text-align: right;\">\n      <th></th>\n      <th>Location</th>\n      <th>NOTAM #</th>\n      <th>Class</th>\n      <th>Issue Date (UTC)</th>\n      <th>Cancel Date (UTC)</th>\n      <th>NOTAM_Effective_Date</th>\n      <th>NOTAM_Effective_Time</th>\n      <th>NOTAM_Expiration_Date</th>\n      <th>NOTAM_Expiration_Time</th>\n      <th>Category</th>\n      <th>Text</th>\n      <th>Runway_ident</th>\n    </tr>\n  </thead>\n  <tbody>\n    <tr>\n      <th>28</th>\n      <td>ATL</td>\n      <td>01/007</td>\n      <td>Aerodrome</td>\n      <td>01/01/2017 1729</td>\n      <td>NaN</td>\n      <td>01/01/2017</td>\n      <td>1729</td>\n      <td>01/02/2017</td>\n      <td>1729</td>\n      <td>RWY</td>\n      <td>09R FICON 5/5/5 100 PRCT WET OBSERVED AT 17010...</td>\n      <td>09R</td>\n    </tr>\n    <tr>\n      <th>29</th>\n      <td>ATL</td>\n      <td>01/006</td>\n      <td>Aerodrome</td>\n      <td>01/01/2017 1728</td>\n      <td>NaN</td>\n      <td>01/01/2017</td>\n      <td>1728</td>\n      <td>01/02/2017</td>\n      <td>1728</td>\n      <td>RWY</td>\n      <td>09L FICON 5/5/5 100 PRCT WET OBSERVED AT 17010...</td>\n      <td>09L</td>\n    </tr>\n    <tr>\n      <th>30</th>\n      <td>ATL</td>\n      <td>01/005</td>\n      <td>Aerodrome</td>\n      <td>01/01/2017 1727</td>\n      <td>NaN</td>\n      <td>01/01/2017</td>\n      <td>1726</td>\n      <td>01/02/2017</td>\n      <td>1726</td>\n      <td>RWY</td>\n      <td>08R FICON 5/5/5 100 PRCT WET OBSERVED AT 17010...</td>\n      <td>08R</td>\n    </tr>\n    <tr>\n      <th>31</th>\n      <td>ATL</td>\n      <td>01/004</td>\n      <td>Aerodrome</td>\n      <td>01/01/2017 1725</td>\n      <td>NaN</td>\n      <td>01/01/2017</td>\n      <td>1725</td>\n      <td>01/02/2017</td>\n      <td>1725</td>\n      <td>RWY</td>\n      <td>08L FICON 5/5/5 100 PRCT WET OBSERVED AT 17010...</td>\n      <td>08L</td>\n    </tr>\n    <tr>\n      <th>32</th>\n      <td>ATL</td>\n      <td>01/003</td>\n      <td>Aerodrome</td>\n      <td>01/01/2017 1722</td>\n      <td>NaN</td>\n      <td>01/01/2017</td>\n      <td>1722</td>\n      <td>01/02/2017</td>\n      <td>1722</td>\n      <td>RWY</td>\n      <td>10 FICON 5/5/5 100 PRCT WET OBSERVED AT 170101...</td>\n      <td>10</td>\n    </tr>\n    <tr>\n      <th>...</th>\n      <td>...</td>\n      <td>...</td>\n      <td>...</td>\n      <td>...</td>\n      <td>...</td>\n      <td>...</td>\n      <td>...</td>\n      <td>...</td>\n      <td>...</td>\n      <td>...</td>\n      <td>...</td>\n      <td>...</td>\n    </tr>\n    <tr>\n      <th>16115</th>\n      <td>ATL</td>\n      <td>12/297</td>\n      <td>Aerodrome</td>\n      <td>12/27/2017 0601</td>\n      <td>12/27/2017 0717</td>\n      <td>12/27/2017</td>\n      <td>0601</td>\n      <td>12/27/2017</td>\n      <td>0800</td>\n      <td>RWY</td>\n      <td>08L/26R CLSD 1712270601-1712270800</td>\n      <td>08L/26R</td>\n    </tr>\n    <tr>\n      <th>16127</th>\n      <td>ATL</td>\n      <td>12/294</td>\n      <td>Services</td>\n      <td>12/27/2017 0357</td>\n      <td>12/28/2017 1846</td>\n      <td>12/27/2017</td>\n      <td>0356</td>\n      <td>12/28/2017</td>\n      <td>2359</td>\n      <td>RWY</td>\n      <td>08L RVRR OUT OF SERVICE 1712270356-1712282359</td>\n      <td>08L</td>\n    </tr>\n    <tr>\n      <th>16128</th>\n      <td>ATL</td>\n      <td>12/293</td>\n      <td>Services</td>\n      <td>12/27/2017 0355</td>\n      <td>12/28/2017 1846</td>\n      <td>12/27/2017</td>\n      <td>0355</td>\n      <td>12/28/2017</td>\n      <td>2359</td>\n      <td>RWY</td>\n      <td>26L RVRT OUT OF SERVICE 1712270355-1712282359</td>\n      <td>26L</td>\n    </tr>\n    <tr>\n      <th>16130</th>\n      <td>ATL</td>\n      <td>12/292</td>\n      <td>Services</td>\n      <td>12/27/2017 0353</td>\n      <td>12/28/2017 1846</td>\n      <td>12/27/2017</td>\n      <td>0353</td>\n      <td>12/28/2017</td>\n      <td>2359</td>\n      <td>RWY</td>\n      <td>26R RVRT OUT OF SERVICE 1712270353-1712282359</td>\n      <td>26R</td>\n    </tr>\n    <tr>\n      <th>16131</th>\n      <td>ATL</td>\n      <td>12/295</td>\n      <td>Services</td>\n      <td>12/27/2017 0358</td>\n      <td>12/28/2017 1846</td>\n      <td>12/27/2017</td>\n      <td>0358</td>\n      <td>12/28/2017</td>\n      <td>2359</td>\n      <td>RWY</td>\n      <td>08R RVRR OUT OF SERVICE 1712270358-1712282359</td>\n      <td>08R</td>\n    </tr>\n  </tbody>\n</table>\n<p>3568 rows × 12 columns</p>\n</div>"
     },
     "execution_count": 12,
     "metadata": {},
     "output_type": "execute_result"
    }
   ],
   "source": [
    "filtered_df[\"Runway_ident\"] = filtered_df[\"Text\"].apply(lambda x: x.split(' ',1)[0].lstrip())\n",
    "filtered_df"
   ],
   "metadata": {
    "collapsed": false,
    "pycharm": {
     "name": "#%%\n"
    },
    "ExecuteTime": {
     "end_time": "2024-02-17T22:59:21.289381300Z",
     "start_time": "2024-02-17T22:59:21.050517900Z"
    }
   }
  },
  {
   "cell_type": "code",
   "execution_count": 13,
   "outputs": [
    {
     "data": {
      "text/plain": "array([[0., 0., 0., 1., 0.],\n       [0., 0., 1., 0., 0.],\n       [0., 1., 0., 0., 0.],\n       ...,\n       [0., 2., 0., 0., 0.],\n       [2., 0., 0., 0., 0.],\n       [0., 2., 0., 0., 0.]])"
     },
     "execution_count": 13,
     "metadata": {},
     "output_type": "execute_result"
    }
   ],
   "source": [
    "def get_correct_runway_ident(lst, substring):\n",
    "    for i, s in enumerate(lst):\n",
    "        if substring in s:\n",
    "            return i, s\n",
    "    return i, np.NAN\n",
    "\n",
    "runways_lst = list(atl_runways_df[\"ident\"])\n",
    "filtered_df = filtered_df.reset_index()\n",
    "nmp = np.zeros(shape=(len(filtered_df),len(runways_lst)))\n",
    "for index, row in filtered_df.iterrows():\n",
    "    i, v = get_correct_runway_ident(runways_lst, row[\"Runway_ident\"])\n",
    "    if 'CLSD' in row[\"Text\"]:\n",
    "        nmp[index][i] = 3\n",
    "    elif 'OUT OF SERVICE' in row['Text']:\n",
    "        nmp[index][i] = 2\n",
    "    elif 'FICON' in row['Text']:\n",
    "        nmp[index][i] = 1\n",
    "    #filtered_df.at[index,'Runway_ident'] = get_correct_runway_ident(runways_lst, row[\"Runway_ident\"])\n",
    "#filtered_df[\"RNW_CLSD\"] = rnw_clsd\n",
    "#filtered_df[\"RNW_OOS\"] = rnw_oos\n",
    "#filtered_df[\"RNW_FICON\"] = rnw_ficon\n",
    "#filtered_df\n",
    "nmp"
   ],
   "metadata": {
    "collapsed": false,
    "pycharm": {
     "name": "#%%\n"
    },
    "ExecuteTime": {
     "end_time": "2024-02-17T22:59:21.624687700Z",
     "start_time": "2024-02-17T22:59:21.098490600Z"
    }
   }
  },
  {
   "cell_type": "code",
   "execution_count": 14,
   "outputs": [],
   "source": [
    "df = pd.DataFrame(nmp, columns = runways_lst )\n",
    "filtered_df = filtered_df.join(df)"
   ],
   "metadata": {
    "collapsed": false,
    "pycharm": {
     "name": "#%%\n"
    },
    "ExecuteTime": {
     "end_time": "2024-02-17T22:59:21.625687400Z",
     "start_time": "2024-02-17T22:59:21.421305500Z"
    }
   }
  },
  {
   "cell_type": "code",
   "execution_count": 15,
   "outputs": [
    {
     "data": {
      "text/plain": "      index NOTAM_Effective_Date NOTAM_Effective_Time NOTAM_Expiration_Date  \\\n0        28           01/01/2017                 1729            01/02/2017   \n1        29           01/01/2017                 1728            01/02/2017   \n2        30           01/01/2017                 1726            01/02/2017   \n3        31           01/01/2017                 1725            01/02/2017   \n4        32           01/01/2017                 1722            01/02/2017   \n...     ...                  ...                  ...                   ...   \n3563  16115           12/27/2017                 0601            12/27/2017   \n3564  16127           12/27/2017                 0356            12/28/2017   \n3565  16128           12/27/2017                 0355            12/28/2017   \n3566  16130           12/27/2017                 0353            12/28/2017   \n3567  16131           12/27/2017                 0358            12/28/2017   \n\n     NOTAM_Expiration_Time  08L/26R  08R/26L  09L/27R  09R/27L  10/28  \n0                     1729      0.0      0.0      0.0      1.0    0.0  \n1                     1728      0.0      0.0      1.0      0.0    0.0  \n2                     1726      0.0      1.0      0.0      0.0    0.0  \n3                     1725      1.0      0.0      0.0      0.0    0.0  \n4                     1722      0.0      0.0      0.0      0.0    1.0  \n...                    ...      ...      ...      ...      ...    ...  \n3563                  0800      3.0      0.0      0.0      0.0    0.0  \n3564                  2359      2.0      0.0      0.0      0.0    0.0  \n3565                  2359      0.0      2.0      0.0      0.0    0.0  \n3566                  2359      2.0      0.0      0.0      0.0    0.0  \n3567                  2359      0.0      2.0      0.0      0.0    0.0  \n\n[3568 rows x 10 columns]",
      "text/html": "<div>\n<style scoped>\n    .dataframe tbody tr th:only-of-type {\n        vertical-align: middle;\n    }\n\n    .dataframe tbody tr th {\n        vertical-align: top;\n    }\n\n    .dataframe thead th {\n        text-align: right;\n    }\n</style>\n<table border=\"1\" class=\"dataframe\">\n  <thead>\n    <tr style=\"text-align: right;\">\n      <th></th>\n      <th>index</th>\n      <th>NOTAM_Effective_Date</th>\n      <th>NOTAM_Effective_Time</th>\n      <th>NOTAM_Expiration_Date</th>\n      <th>NOTAM_Expiration_Time</th>\n      <th>08L/26R</th>\n      <th>08R/26L</th>\n      <th>09L/27R</th>\n      <th>09R/27L</th>\n      <th>10/28</th>\n    </tr>\n  </thead>\n  <tbody>\n    <tr>\n      <th>0</th>\n      <td>28</td>\n      <td>01/01/2017</td>\n      <td>1729</td>\n      <td>01/02/2017</td>\n      <td>1729</td>\n      <td>0.0</td>\n      <td>0.0</td>\n      <td>0.0</td>\n      <td>1.0</td>\n      <td>0.0</td>\n    </tr>\n    <tr>\n      <th>1</th>\n      <td>29</td>\n      <td>01/01/2017</td>\n      <td>1728</td>\n      <td>01/02/2017</td>\n      <td>1728</td>\n      <td>0.0</td>\n      <td>0.0</td>\n      <td>1.0</td>\n      <td>0.0</td>\n      <td>0.0</td>\n    </tr>\n    <tr>\n      <th>2</th>\n      <td>30</td>\n      <td>01/01/2017</td>\n      <td>1726</td>\n      <td>01/02/2017</td>\n      <td>1726</td>\n      <td>0.0</td>\n      <td>1.0</td>\n      <td>0.0</td>\n      <td>0.0</td>\n      <td>0.0</td>\n    </tr>\n    <tr>\n      <th>3</th>\n      <td>31</td>\n      <td>01/01/2017</td>\n      <td>1725</td>\n      <td>01/02/2017</td>\n      <td>1725</td>\n      <td>1.0</td>\n      <td>0.0</td>\n      <td>0.0</td>\n      <td>0.0</td>\n      <td>0.0</td>\n    </tr>\n    <tr>\n      <th>4</th>\n      <td>32</td>\n      <td>01/01/2017</td>\n      <td>1722</td>\n      <td>01/02/2017</td>\n      <td>1722</td>\n      <td>0.0</td>\n      <td>0.0</td>\n      <td>0.0</td>\n      <td>0.0</td>\n      <td>1.0</td>\n    </tr>\n    <tr>\n      <th>...</th>\n      <td>...</td>\n      <td>...</td>\n      <td>...</td>\n      <td>...</td>\n      <td>...</td>\n      <td>...</td>\n      <td>...</td>\n      <td>...</td>\n      <td>...</td>\n      <td>...</td>\n    </tr>\n    <tr>\n      <th>3563</th>\n      <td>16115</td>\n      <td>12/27/2017</td>\n      <td>0601</td>\n      <td>12/27/2017</td>\n      <td>0800</td>\n      <td>3.0</td>\n      <td>0.0</td>\n      <td>0.0</td>\n      <td>0.0</td>\n      <td>0.0</td>\n    </tr>\n    <tr>\n      <th>3564</th>\n      <td>16127</td>\n      <td>12/27/2017</td>\n      <td>0356</td>\n      <td>12/28/2017</td>\n      <td>2359</td>\n      <td>2.0</td>\n      <td>0.0</td>\n      <td>0.0</td>\n      <td>0.0</td>\n      <td>0.0</td>\n    </tr>\n    <tr>\n      <th>3565</th>\n      <td>16128</td>\n      <td>12/27/2017</td>\n      <td>0355</td>\n      <td>12/28/2017</td>\n      <td>2359</td>\n      <td>0.0</td>\n      <td>2.0</td>\n      <td>0.0</td>\n      <td>0.0</td>\n      <td>0.0</td>\n    </tr>\n    <tr>\n      <th>3566</th>\n      <td>16130</td>\n      <td>12/27/2017</td>\n      <td>0353</td>\n      <td>12/28/2017</td>\n      <td>2359</td>\n      <td>2.0</td>\n      <td>0.0</td>\n      <td>0.0</td>\n      <td>0.0</td>\n      <td>0.0</td>\n    </tr>\n    <tr>\n      <th>3567</th>\n      <td>16131</td>\n      <td>12/27/2017</td>\n      <td>0358</td>\n      <td>12/28/2017</td>\n      <td>2359</td>\n      <td>0.0</td>\n      <td>2.0</td>\n      <td>0.0</td>\n      <td>0.0</td>\n      <td>0.0</td>\n    </tr>\n  </tbody>\n</table>\n<p>3568 rows × 10 columns</p>\n</div>"
     },
     "execution_count": 15,
     "metadata": {},
     "output_type": "execute_result"
    }
   ],
   "source": [
    "atl_notam_df = filtered_df.drop(labels=[\"Location\",\"NOTAM #\", \"Class\", \"Issue Date (UTC)\", \"Cancel Date (UTC)\",\"Category\", \"Text\", \"Runway_ident\"], axis = \"columns\")\n",
    "atl_notam_df"
   ],
   "metadata": {
    "collapsed": false,
    "pycharm": {
     "name": "#%%\n"
    },
    "ExecuteTime": {
     "end_time": "2024-02-17T22:59:21.626686900Z",
     "start_time": "2024-02-17T22:59:21.433297800Z"
    }
   }
  },
  {
   "cell_type": "code",
   "execution_count": 16,
   "outputs": [
    {
     "data": {
      "text/plain": "      index NOTAM_Effective_Date NOTAM_Effective_Time NOTAM_Expiration_Date  \\\n0        28           01/01/2017                   17            01/02/2017   \n1        29           01/01/2017                   17            01/02/2017   \n2        30           01/01/2017                   17            01/02/2017   \n3        31           01/01/2017                   17            01/02/2017   \n4        32           01/01/2017                   17            01/02/2017   \n...     ...                  ...                  ...                   ...   \n3563  16115           12/27/2017                   06            12/27/2017   \n3564  16127           12/27/2017                   03            12/28/2017   \n3565  16128           12/27/2017                   03            12/28/2017   \n3566  16130           12/27/2017                   03            12/28/2017   \n3567  16131           12/27/2017                   03            12/28/2017   \n\n     NOTAM_Expiration_Time  08L/26R  08R/26L  09L/27R  09R/27L  10/28  \n0                       17      0.0      0.0      0.0      1.0    0.0  \n1                       17      0.0      0.0      1.0      0.0    0.0  \n2                       17      0.0      1.0      0.0      0.0    0.0  \n3                       17      1.0      0.0      0.0      0.0    0.0  \n4                       17      0.0      0.0      0.0      0.0    1.0  \n...                    ...      ...      ...      ...      ...    ...  \n3563                    08      3.0      0.0      0.0      0.0    0.0  \n3564                    23      2.0      0.0      0.0      0.0    0.0  \n3565                    23      0.0      2.0      0.0      0.0    0.0  \n3566                    23      2.0      0.0      0.0      0.0    0.0  \n3567                    23      0.0      2.0      0.0      0.0    0.0  \n\n[3568 rows x 10 columns]",
      "text/html": "<div>\n<style scoped>\n    .dataframe tbody tr th:only-of-type {\n        vertical-align: middle;\n    }\n\n    .dataframe tbody tr th {\n        vertical-align: top;\n    }\n\n    .dataframe thead th {\n        text-align: right;\n    }\n</style>\n<table border=\"1\" class=\"dataframe\">\n  <thead>\n    <tr style=\"text-align: right;\">\n      <th></th>\n      <th>index</th>\n      <th>NOTAM_Effective_Date</th>\n      <th>NOTAM_Effective_Time</th>\n      <th>NOTAM_Expiration_Date</th>\n      <th>NOTAM_Expiration_Time</th>\n      <th>08L/26R</th>\n      <th>08R/26L</th>\n      <th>09L/27R</th>\n      <th>09R/27L</th>\n      <th>10/28</th>\n    </tr>\n  </thead>\n  <tbody>\n    <tr>\n      <th>0</th>\n      <td>28</td>\n      <td>01/01/2017</td>\n      <td>17</td>\n      <td>01/02/2017</td>\n      <td>17</td>\n      <td>0.0</td>\n      <td>0.0</td>\n      <td>0.0</td>\n      <td>1.0</td>\n      <td>0.0</td>\n    </tr>\n    <tr>\n      <th>1</th>\n      <td>29</td>\n      <td>01/01/2017</td>\n      <td>17</td>\n      <td>01/02/2017</td>\n      <td>17</td>\n      <td>0.0</td>\n      <td>0.0</td>\n      <td>1.0</td>\n      <td>0.0</td>\n      <td>0.0</td>\n    </tr>\n    <tr>\n      <th>2</th>\n      <td>30</td>\n      <td>01/01/2017</td>\n      <td>17</td>\n      <td>01/02/2017</td>\n      <td>17</td>\n      <td>0.0</td>\n      <td>1.0</td>\n      <td>0.0</td>\n      <td>0.0</td>\n      <td>0.0</td>\n    </tr>\n    <tr>\n      <th>3</th>\n      <td>31</td>\n      <td>01/01/2017</td>\n      <td>17</td>\n      <td>01/02/2017</td>\n      <td>17</td>\n      <td>1.0</td>\n      <td>0.0</td>\n      <td>0.0</td>\n      <td>0.0</td>\n      <td>0.0</td>\n    </tr>\n    <tr>\n      <th>4</th>\n      <td>32</td>\n      <td>01/01/2017</td>\n      <td>17</td>\n      <td>01/02/2017</td>\n      <td>17</td>\n      <td>0.0</td>\n      <td>0.0</td>\n      <td>0.0</td>\n      <td>0.0</td>\n      <td>1.0</td>\n    </tr>\n    <tr>\n      <th>...</th>\n      <td>...</td>\n      <td>...</td>\n      <td>...</td>\n      <td>...</td>\n      <td>...</td>\n      <td>...</td>\n      <td>...</td>\n      <td>...</td>\n      <td>...</td>\n      <td>...</td>\n    </tr>\n    <tr>\n      <th>3563</th>\n      <td>16115</td>\n      <td>12/27/2017</td>\n      <td>06</td>\n      <td>12/27/2017</td>\n      <td>08</td>\n      <td>3.0</td>\n      <td>0.0</td>\n      <td>0.0</td>\n      <td>0.0</td>\n      <td>0.0</td>\n    </tr>\n    <tr>\n      <th>3564</th>\n      <td>16127</td>\n      <td>12/27/2017</td>\n      <td>03</td>\n      <td>12/28/2017</td>\n      <td>23</td>\n      <td>2.0</td>\n      <td>0.0</td>\n      <td>0.0</td>\n      <td>0.0</td>\n      <td>0.0</td>\n    </tr>\n    <tr>\n      <th>3565</th>\n      <td>16128</td>\n      <td>12/27/2017</td>\n      <td>03</td>\n      <td>12/28/2017</td>\n      <td>23</td>\n      <td>0.0</td>\n      <td>2.0</td>\n      <td>0.0</td>\n      <td>0.0</td>\n      <td>0.0</td>\n    </tr>\n    <tr>\n      <th>3566</th>\n      <td>16130</td>\n      <td>12/27/2017</td>\n      <td>03</td>\n      <td>12/28/2017</td>\n      <td>23</td>\n      <td>2.0</td>\n      <td>0.0</td>\n      <td>0.0</td>\n      <td>0.0</td>\n      <td>0.0</td>\n    </tr>\n    <tr>\n      <th>3567</th>\n      <td>16131</td>\n      <td>12/27/2017</td>\n      <td>03</td>\n      <td>12/28/2017</td>\n      <td>23</td>\n      <td>0.0</td>\n      <td>2.0</td>\n      <td>0.0</td>\n      <td>0.0</td>\n      <td>0.0</td>\n    </tr>\n  </tbody>\n</table>\n<p>3568 rows × 10 columns</p>\n</div>"
     },
     "execution_count": 16,
     "metadata": {},
     "output_type": "execute_result"
    }
   ],
   "source": [
    "atl_notam_df[\"NOTAM_Effective_Time\"] = atl_notam_df[\"NOTAM_Effective_Time\"].apply(lambda x: x[:2])\n",
    "atl_notam_df[\"NOTAM_Expiration_Time\"] = atl_notam_df[\"NOTAM_Expiration_Time\"].apply(lambda x: x[:2])\n",
    "atl_notam_df"
   ],
   "metadata": {
    "collapsed": false,
    "pycharm": {
     "name": "#%%\n"
    },
    "ExecuteTime": {
     "end_time": "2024-02-17T22:59:21.670690200Z",
     "start_time": "2024-02-17T22:59:21.480272100Z"
    }
   }
  },
  {
   "cell_type": "code",
   "execution_count": 17,
   "outputs": [],
   "source": [
    "atl_notam_df.to_pickle(os.path.join(OUTPUT_FOLDER, \"06_notam.pkl\"))"
   ],
   "metadata": {
    "collapsed": false,
    "pycharm": {
     "name": "#%%\n"
    },
    "ExecuteTime": {
     "end_time": "2024-02-17T22:59:21.706731200Z",
     "start_time": "2024-02-17T22:59:21.527245900Z"
    }
   }
  }
 ],
 "metadata": {
  "kernelspec": {
   "display_name": "Python 3",
   "language": "python",
   "name": "python3"
  },
  "language_info": {
   "codemirror_mode": {
    "name": "ipython",
    "version": 2
   },
   "file_extension": ".py",
   "mimetype": "text/x-python",
   "name": "python",
   "nbconvert_exporter": "python",
   "pygments_lexer": "ipython2",
   "version": "2.7.6"
  }
 },
 "nbformat": 4,
 "nbformat_minor": 0
}
