{
 "cells": [
  {
   "cell_type": "markdown",
   "metadata": {
    "collapsed": true,
    "pycharm": {
     "name": "#%% md\n"
    }
   },
   "source": [
    "# Atlanta NOTAM Data Info\n",
    "\n",
    "## Introduction\n",
    "NOTAM stands for \"Notice to Airmen\" and describes messages concerning the state of an airport or other important messages for pilots.\n",
    "Data has been gathered from: __[https://notams.aim.faa.gov/notamSearch/nsapp.html#/](https://notams.aim.faa.gov/notamSearch/nsapp.html#/)__\n",
    "\n",
    "Explanation of NOTAM text: __[https://www.faa.gov/about/initiatives/notam/what_is_a_notam/media/Pilots_NOTAM_primer_for_2021.pdf](https://www.faa.gov/about/initiatives/notam/what_is_a_notam/media/Pilots_NOTAM_primer_for_2021.pdf)__\n",
    "\n",
    "NOTAM NLP paper: __[https://aviationsystems.arc.nasa.gov/publications/2021/20210017786_Clarke_Aviation2021.pdf](https://aviationsystems.arc.nasa.gov/publications/2021/20210017786_Clarke_Aviation2021.pdf)__\n",
    "\n",
    "Approved NOTAM contractions: __[https://www.notams.faa.gov/downloads/contractions.pdf](https://www.notams.faa.gov/downloads/contractions.pdf)__\n",
    "\n",
    "\n",
    "## Dropped\n",
    "- Cancel Date (No Use)\n",
    "- Effective Date (No Use)\n",
    "- Expiration Date (No Use)\n",
    "- Location (Redundant)\n",
    "- NOTA # (No Use)\n"
   ]
  },
  {
   "cell_type": "markdown",
   "source": [
    "# Global Variables"
   ],
   "metadata": {
    "collapsed": false
   }
  },
  {
   "cell_type": "code",
   "execution_count": 41,
   "outputs": [],
   "source": [
    "import pandas as pd\n",
    "import glob\n",
    "import re\n",
    "import numpy as np\n",
    "import os\n",
    "\n",
    "from pandas import date_range\n",
    "\n",
    "from main.utils.data_manage_utils import read_table_from_subfolder\n",
    "# Variables\n",
    "ROOT_PATH = os.path.abspath(\"../../\")\n",
    "INPUT_FOLDER = os.path.join(ROOT_PATH, \"data/input\")\n",
    "OUTPUT_FOLDER = os.path.join(ROOT_PATH, \"data/preparation/prepped_files\")"
   ],
   "metadata": {
    "collapsed": false,
    "ExecuteTime": {
     "end_time": "2025-01-06T22:45:38.801801200Z",
     "start_time": "2025-01-06T22:45:38.492961400Z"
    }
   }
  },
  {
   "cell_type": "markdown",
   "source": [
    "# Data Loading\n",
    "\n",
    "NOTAM data is stored in various files for the katl airport. Somehow the separator for these varies between files with 5 being separated by \";\" and 360 with \",\".\n",
    "Therefore, the below if branches are needed to transform the information stored in .csv files into Pandas DataFrames. \n",
    "\n",
    "Additionally, 336 of the input .csv files included text headings with filter options which, when loaded, added a misfitting header and resulted in feature columns named \"Unnamed: x\" where x indicated the position in the .csv file. The unnamed columns are created by the loading process of pandas, since a seperator is found, but the header does not have further feature names. \n",
    "This is fixed by incrementally skipping columns until the correct header line is found resulting in no \"Unnamed: x\" columns. At this point the data is loaded correctly. \n",
    "Simply including a fixed threshold to find the correct header line was not sufficient, since the line varied from file to file. "
   ],
   "metadata": {
    "collapsed": false
   }
  },
  {
   "cell_type": "code",
   "execution_count": 42,
   "outputs": [
    {
     "data": {
      "text/plain": "      Location NOTAM #          Class Issue Date (UTC) Effective Date (UTC)  \\\n0          ATL  04/107  Communication  04/19/2016 1648      04/19/2016 1648   \n1          ATL  6/4595      Procedure  12/22/2016 2135      12/23/2016 1000   \n2          ATL  6/4598      Procedure  12/22/2016 2135      12/23/2016 1000   \n3          ATL  6/4601      Procedure  12/22/2016 2135      12/23/2016 1000   \n4          ATL  6/4603      Procedure  12/22/2016 2136      12/23/2016 1000   \n...        ...     ...            ...              ...                  ...   \n16158      ATL  11/142    Obstruction  11/16/2017 1500      11/16/2017 1500   \n16159      ATL  7/5192      Procedure  10/16/2017 1355      10/17/2017 0500   \n16160      ATL  12/231    Obstruction  12/18/2017 1317      12/18/2017 1316   \n16161      ATL  12/308      Aerodrome  12/28/2017 2301      12/28/2017 2301   \n16162      ATL  12/304      Aerodrome  12/27/2017 1330      12/27/2017 1329   \n\n      Cancel Date (UTC) Expiration Date (UTC)  \\\n0                   NaN                  PERM   \n1                   NaN       08/17/2017 1000   \n2                   NaN       08/17/2017 1000   \n3                   NaN       08/17/2017 1000   \n4                   NaN       08/17/2017 1000   \n...                 ...                   ...   \n16158   02/23/2018 1644       02/27/2018 2359   \n16159               NaN       02/01/2018 0900   \n16160   01/17/2018 0703       01/17/2018 1200   \n16161   01/03/2018 0619       01/12/2018 2301   \n16162               NaN       01/02/2018 0500   \n\n                          NOTAM Condition or LTA Subject  \n0      !ATL 04/107 ATL COM REMOTE TRANSMITTER/RECEIVE...  \n1      !FDC 6/4595 ATL CANCELLED BY FDC 7/3089 ON 08/...  \n2      !FDC 6/4598 ATL CANCELLED BY FDC 7/3090 ON 08/...  \n3      !FDC 6/4601 ATL CANCELLED BY FDC 7/3088 ON 08/...  \n4      !FDC 6/4603 ATL CANCELLED BY FDC 7/3091 ON 08/...  \n...                                                  ...  \n16158  !ATL 11/142 ATL OBST TOWER LGT (ASR 1022036) 3...  \n16159  !FDC 7/5192 ATL CANCELLED BY FDC 8/4084 ON 02/...  \n16160  !ATL 12/231 ATL OBST TOWER LGT (ASR 1047185) 3...  \n16161  !ATL 12/308 ATL AD AP ABN OUT OF SERVICE 17122...  \n16162  !ATL 12/304 ATL AD AP BIRD ACT INCREASED FORMA...  \n\n[16163 rows x 8 columns]",
      "text/html": "<div>\n<style scoped>\n    .dataframe tbody tr th:only-of-type {\n        vertical-align: middle;\n    }\n\n    .dataframe tbody tr th {\n        vertical-align: top;\n    }\n\n    .dataframe thead th {\n        text-align: right;\n    }\n</style>\n<table border=\"1\" class=\"dataframe\">\n  <thead>\n    <tr style=\"text-align: right;\">\n      <th></th>\n      <th>Location</th>\n      <th>NOTAM #</th>\n      <th>Class</th>\n      <th>Issue Date (UTC)</th>\n      <th>Effective Date (UTC)</th>\n      <th>Cancel Date (UTC)</th>\n      <th>Expiration Date (UTC)</th>\n      <th>NOTAM Condition or LTA Subject</th>\n    </tr>\n  </thead>\n  <tbody>\n    <tr>\n      <th>0</th>\n      <td>ATL</td>\n      <td>04/107</td>\n      <td>Communication</td>\n      <td>04/19/2016 1648</td>\n      <td>04/19/2016 1648</td>\n      <td>NaN</td>\n      <td>PERM</td>\n      <td>!ATL 04/107 ATL COM REMOTE TRANSMITTER/RECEIVE...</td>\n    </tr>\n    <tr>\n      <th>1</th>\n      <td>ATL</td>\n      <td>6/4595</td>\n      <td>Procedure</td>\n      <td>12/22/2016 2135</td>\n      <td>12/23/2016 1000</td>\n      <td>NaN</td>\n      <td>08/17/2017 1000</td>\n      <td>!FDC 6/4595 ATL CANCELLED BY FDC 7/3089 ON 08/...</td>\n    </tr>\n    <tr>\n      <th>2</th>\n      <td>ATL</td>\n      <td>6/4598</td>\n      <td>Procedure</td>\n      <td>12/22/2016 2135</td>\n      <td>12/23/2016 1000</td>\n      <td>NaN</td>\n      <td>08/17/2017 1000</td>\n      <td>!FDC 6/4598 ATL CANCELLED BY FDC 7/3090 ON 08/...</td>\n    </tr>\n    <tr>\n      <th>3</th>\n      <td>ATL</td>\n      <td>6/4601</td>\n      <td>Procedure</td>\n      <td>12/22/2016 2135</td>\n      <td>12/23/2016 1000</td>\n      <td>NaN</td>\n      <td>08/17/2017 1000</td>\n      <td>!FDC 6/4601 ATL CANCELLED BY FDC 7/3088 ON 08/...</td>\n    </tr>\n    <tr>\n      <th>4</th>\n      <td>ATL</td>\n      <td>6/4603</td>\n      <td>Procedure</td>\n      <td>12/22/2016 2136</td>\n      <td>12/23/2016 1000</td>\n      <td>NaN</td>\n      <td>08/17/2017 1000</td>\n      <td>!FDC 6/4603 ATL CANCELLED BY FDC 7/3091 ON 08/...</td>\n    </tr>\n    <tr>\n      <th>...</th>\n      <td>...</td>\n      <td>...</td>\n      <td>...</td>\n      <td>...</td>\n      <td>...</td>\n      <td>...</td>\n      <td>...</td>\n      <td>...</td>\n    </tr>\n    <tr>\n      <th>16158</th>\n      <td>ATL</td>\n      <td>11/142</td>\n      <td>Obstruction</td>\n      <td>11/16/2017 1500</td>\n      <td>11/16/2017 1500</td>\n      <td>02/23/2018 1644</td>\n      <td>02/27/2018 2359</td>\n      <td>!ATL 11/142 ATL OBST TOWER LGT (ASR 1022036) 3...</td>\n    </tr>\n    <tr>\n      <th>16159</th>\n      <td>ATL</td>\n      <td>7/5192</td>\n      <td>Procedure</td>\n      <td>10/16/2017 1355</td>\n      <td>10/17/2017 0500</td>\n      <td>NaN</td>\n      <td>02/01/2018 0900</td>\n      <td>!FDC 7/5192 ATL CANCELLED BY FDC 8/4084 ON 02/...</td>\n    </tr>\n    <tr>\n      <th>16160</th>\n      <td>ATL</td>\n      <td>12/231</td>\n      <td>Obstruction</td>\n      <td>12/18/2017 1317</td>\n      <td>12/18/2017 1316</td>\n      <td>01/17/2018 0703</td>\n      <td>01/17/2018 1200</td>\n      <td>!ATL 12/231 ATL OBST TOWER LGT (ASR 1047185) 3...</td>\n    </tr>\n    <tr>\n      <th>16161</th>\n      <td>ATL</td>\n      <td>12/308</td>\n      <td>Aerodrome</td>\n      <td>12/28/2017 2301</td>\n      <td>12/28/2017 2301</td>\n      <td>01/03/2018 0619</td>\n      <td>01/12/2018 2301</td>\n      <td>!ATL 12/308 ATL AD AP ABN OUT OF SERVICE 17122...</td>\n    </tr>\n    <tr>\n      <th>16162</th>\n      <td>ATL</td>\n      <td>12/304</td>\n      <td>Aerodrome</td>\n      <td>12/27/2017 1330</td>\n      <td>12/27/2017 1329</td>\n      <td>NaN</td>\n      <td>01/02/2018 0500</td>\n      <td>!ATL 12/304 ATL AD AP BIRD ACT INCREASED FORMA...</td>\n    </tr>\n  </tbody>\n</table>\n<p>16163 rows × 8 columns</p>\n</div>"
     },
     "execution_count": 42,
     "metadata": {},
     "output_type": "execute_result"
    }
   ],
   "source": [
    "all_files = glob.glob(os.path.join(INPUT_FOLDER, \"data_raw/notams/katl/*/*.csv\"))\n",
    "\n",
    "li = []\n",
    "comma_sep = 0\n",
    "semi_sep = 0\n",
    "wrong_head = 0\n",
    "for filename in all_files:\n",
    "    df = pd.read_csv(filename, sep=\";\", on_bad_lines=\"skip\")\n",
    "    if len(df.columns) <= 1:\n",
    "        df = pd.read_csv(filename, sep=\",\", on_bad_lines=\"skip\")\n",
    "        comma_sep +=1\n",
    "    else:\n",
    "        semi_sep += 1\n",
    "    if any(\"Unnamed\" in col for col in df.columns):\n",
    "        wrong_head += 1\n",
    "        done = False\n",
    "        count = 0\n",
    "        while not done:\n",
    "            df = pd.read_csv(filename, on_bad_lines=\"skip\", header = count)\n",
    "            if not any(\"Unnamed\" in col for col in df.columns):\n",
    "                done = True\n",
    "            count += 1\n",
    "    li.append(df)\n",
    "li\n",
    "atl_notam_df = pd.concat(li, axis=0, ignore_index=True)\n",
    "atl_notam_df"
   ],
   "metadata": {
    "collapsed": false,
    "pycharm": {
     "name": "#%%\n"
    },
    "ExecuteTime": {
     "end_time": "2025-01-06T22:45:42.822212800Z",
     "start_time": "2025-01-06T22:45:38.517949500Z"
    }
   }
  },
  {
   "cell_type": "code",
   "execution_count": 43,
   "outputs": [
    {
     "name": "stdout",
     "output_type": "stream",
     "text": [
      "Number comma separated: 360\n",
      "Number semicolon separated: 5\n",
      "Number misaligned headers: 336\n"
     ]
    }
   ],
   "source": [
    "print(f\"Number comma separated: {comma_sep}\")\n",
    "print(f\"Number semicolon separated: {semi_sep}\")\n",
    "print(f\"Number misaligned headers: {wrong_head}\")"
   ],
   "metadata": {
    "collapsed": false,
    "ExecuteTime": {
     "end_time": "2025-01-06T22:45:42.838413600Z",
     "start_time": "2025-01-06T22:45:42.824211800Z"
    }
   }
  },
  {
   "cell_type": "markdown",
   "source": [
    "# Filtering for \"RWY\" and \"FICON\"\n",
    "\n",
    "Runway and Field Condition concerning NOTAMs seem to be the most interesting for carrier delay information. Also information found with these NOTAM classes was easier recognizable and did not require NLP."
   ],
   "metadata": {
    "collapsed": false
   }
  },
  {
   "cell_type": "code",
   "execution_count": 44,
   "outputs": [
    {
     "data": {
      "text/plain": "9        !FDC 6/2007 ATL STAR HARTSFIELD-JACKSON ATLANT...\n10       !FDC 6/2008 ATL STAR HARTSFIELD-JACKSON ATLANT...\n15       !FDC 6/3876 ATL IAP HARTSFIELD - JACKSON ATLAN...\n16       !FDC 6/3038 ATL IAP HARTSFIELD - JACKSON ATLAN...\n17       !FDC 6/3036 ATL IAP HARTSFIELD - JACKSON ATLAN...\n                               ...                        \n16144    !ATL 12/309 ATL NAV ILS RWY 26L MM NOT MNT 171...\n16145    !ATL 12/289 ATL RWY 08L ALS NOT MNT 1712251342...\n16147    !FDC 7/0431 ATL IAP HARTSFIELD - JACKSON ATLAN...\n16154    !ATL 12/309 ATL NAV ILS RWY 26L MM NOT MNT 171...\n16156    !FDC 7/0431 ATL IAP HARTSFIELD - JACKSON ATLAN...\nName: NOTAM Condition or LTA Subject, Length: 6192, dtype: object"
     },
     "execution_count": 44,
     "metadata": {},
     "output_type": "execute_result"
    }
   ],
   "source": [
    "_series = atl_notam_df[\"NOTAM Condition or LTA Subject\"]\n",
    "_filtered = _series[_series.str.contains(\"RWY\") & ~_series.str.contains(\"FICON\")]\n",
    "_filtered"
   ],
   "metadata": {
    "collapsed": false,
    "ExecuteTime": {
     "end_time": "2025-01-06T22:45:42.977332100Z",
     "start_time": "2025-01-06T22:45:42.840410100Z"
    }
   }
  },
  {
   "cell_type": "markdown",
   "source": [
    "# Date Time Handling\n",
    "\n",
    "NOTAM times are stored with the format \"MM/DD/YYYY hhmm\". To make further processing possible, these are transformed to two separate columns with date and time respectively by simply spliting by space."
   ],
   "metadata": {
    "collapsed": false
   }
  },
  {
   "cell_type": "markdown",
   "source": [
    "\n",
    "## Effective Date Splitting"
   ],
   "metadata": {
    "collapsed": false
   }
  },
  {
   "cell_type": "code",
   "execution_count": 45,
   "outputs": [
    {
     "data": {
      "text/plain": "      Location NOTAM #          Class Issue Date (UTC) Cancel Date (UTC)  \\\n0          ATL  04/107  Communication  04/19/2016 1648               NaN   \n1          ATL  6/4595      Procedure  12/22/2016 2135               NaN   \n2          ATL  6/4598      Procedure  12/22/2016 2135               NaN   \n3          ATL  6/4601      Procedure  12/22/2016 2135               NaN   \n4          ATL  6/4603      Procedure  12/22/2016 2136               NaN   \n...        ...     ...            ...              ...               ...   \n16158      ATL  11/142    Obstruction  11/16/2017 1500   02/23/2018 1644   \n16159      ATL  7/5192      Procedure  10/16/2017 1355               NaN   \n16160      ATL  12/231    Obstruction  12/18/2017 1317   01/17/2018 0703   \n16161      ATL  12/308      Aerodrome  12/28/2017 2301   01/03/2018 0619   \n16162      ATL  12/304      Aerodrome  12/27/2017 1330               NaN   \n\n      Expiration Date (UTC)  \\\n0                      PERM   \n1           08/17/2017 1000   \n2           08/17/2017 1000   \n3           08/17/2017 1000   \n4           08/17/2017 1000   \n...                     ...   \n16158       02/27/2018 2359   \n16159       02/01/2018 0900   \n16160       01/17/2018 1200   \n16161       01/12/2018 2301   \n16162       01/02/2018 0500   \n\n                          NOTAM Condition or LTA Subject NOTAM_Effective_Date  \\\n0      !ATL 04/107 ATL COM REMOTE TRANSMITTER/RECEIVE...           04/19/2016   \n1      !FDC 6/4595 ATL CANCELLED BY FDC 7/3089 ON 08/...           12/23/2016   \n2      !FDC 6/4598 ATL CANCELLED BY FDC 7/3090 ON 08/...           12/23/2016   \n3      !FDC 6/4601 ATL CANCELLED BY FDC 7/3088 ON 08/...           12/23/2016   \n4      !FDC 6/4603 ATL CANCELLED BY FDC 7/3091 ON 08/...           12/23/2016   \n...                                                  ...                  ...   \n16158  !ATL 11/142 ATL OBST TOWER LGT (ASR 1022036) 3...           11/16/2017   \n16159  !FDC 7/5192 ATL CANCELLED BY FDC 8/4084 ON 02/...           10/17/2017   \n16160  !ATL 12/231 ATL OBST TOWER LGT (ASR 1047185) 3...           12/18/2017   \n16161  !ATL 12/308 ATL AD AP ABN OUT OF SERVICE 17122...           12/28/2017   \n16162  !ATL 12/304 ATL AD AP BIRD ACT INCREASED FORMA...           12/27/2017   \n\n      NOTAM_Effective_Time  \n0                     1648  \n1                     1000  \n2                     1000  \n3                     1000  \n4                     1000  \n...                    ...  \n16158                 1500  \n16159                 0500  \n16160                 1316  \n16161                 2301  \n16162                 1329  \n\n[16163 rows x 9 columns]",
      "text/html": "<div>\n<style scoped>\n    .dataframe tbody tr th:only-of-type {\n        vertical-align: middle;\n    }\n\n    .dataframe tbody tr th {\n        vertical-align: top;\n    }\n\n    .dataframe thead th {\n        text-align: right;\n    }\n</style>\n<table border=\"1\" class=\"dataframe\">\n  <thead>\n    <tr style=\"text-align: right;\">\n      <th></th>\n      <th>Location</th>\n      <th>NOTAM #</th>\n      <th>Class</th>\n      <th>Issue Date (UTC)</th>\n      <th>Cancel Date (UTC)</th>\n      <th>Expiration Date (UTC)</th>\n      <th>NOTAM Condition or LTA Subject</th>\n      <th>NOTAM_Effective_Date</th>\n      <th>NOTAM_Effective_Time</th>\n    </tr>\n  </thead>\n  <tbody>\n    <tr>\n      <th>0</th>\n      <td>ATL</td>\n      <td>04/107</td>\n      <td>Communication</td>\n      <td>04/19/2016 1648</td>\n      <td>NaN</td>\n      <td>PERM</td>\n      <td>!ATL 04/107 ATL COM REMOTE TRANSMITTER/RECEIVE...</td>\n      <td>04/19/2016</td>\n      <td>1648</td>\n    </tr>\n    <tr>\n      <th>1</th>\n      <td>ATL</td>\n      <td>6/4595</td>\n      <td>Procedure</td>\n      <td>12/22/2016 2135</td>\n      <td>NaN</td>\n      <td>08/17/2017 1000</td>\n      <td>!FDC 6/4595 ATL CANCELLED BY FDC 7/3089 ON 08/...</td>\n      <td>12/23/2016</td>\n      <td>1000</td>\n    </tr>\n    <tr>\n      <th>2</th>\n      <td>ATL</td>\n      <td>6/4598</td>\n      <td>Procedure</td>\n      <td>12/22/2016 2135</td>\n      <td>NaN</td>\n      <td>08/17/2017 1000</td>\n      <td>!FDC 6/4598 ATL CANCELLED BY FDC 7/3090 ON 08/...</td>\n      <td>12/23/2016</td>\n      <td>1000</td>\n    </tr>\n    <tr>\n      <th>3</th>\n      <td>ATL</td>\n      <td>6/4601</td>\n      <td>Procedure</td>\n      <td>12/22/2016 2135</td>\n      <td>NaN</td>\n      <td>08/17/2017 1000</td>\n      <td>!FDC 6/4601 ATL CANCELLED BY FDC 7/3088 ON 08/...</td>\n      <td>12/23/2016</td>\n      <td>1000</td>\n    </tr>\n    <tr>\n      <th>4</th>\n      <td>ATL</td>\n      <td>6/4603</td>\n      <td>Procedure</td>\n      <td>12/22/2016 2136</td>\n      <td>NaN</td>\n      <td>08/17/2017 1000</td>\n      <td>!FDC 6/4603 ATL CANCELLED BY FDC 7/3091 ON 08/...</td>\n      <td>12/23/2016</td>\n      <td>1000</td>\n    </tr>\n    <tr>\n      <th>...</th>\n      <td>...</td>\n      <td>...</td>\n      <td>...</td>\n      <td>...</td>\n      <td>...</td>\n      <td>...</td>\n      <td>...</td>\n      <td>...</td>\n      <td>...</td>\n    </tr>\n    <tr>\n      <th>16158</th>\n      <td>ATL</td>\n      <td>11/142</td>\n      <td>Obstruction</td>\n      <td>11/16/2017 1500</td>\n      <td>02/23/2018 1644</td>\n      <td>02/27/2018 2359</td>\n      <td>!ATL 11/142 ATL OBST TOWER LGT (ASR 1022036) 3...</td>\n      <td>11/16/2017</td>\n      <td>1500</td>\n    </tr>\n    <tr>\n      <th>16159</th>\n      <td>ATL</td>\n      <td>7/5192</td>\n      <td>Procedure</td>\n      <td>10/16/2017 1355</td>\n      <td>NaN</td>\n      <td>02/01/2018 0900</td>\n      <td>!FDC 7/5192 ATL CANCELLED BY FDC 8/4084 ON 02/...</td>\n      <td>10/17/2017</td>\n      <td>0500</td>\n    </tr>\n    <tr>\n      <th>16160</th>\n      <td>ATL</td>\n      <td>12/231</td>\n      <td>Obstruction</td>\n      <td>12/18/2017 1317</td>\n      <td>01/17/2018 0703</td>\n      <td>01/17/2018 1200</td>\n      <td>!ATL 12/231 ATL OBST TOWER LGT (ASR 1047185) 3...</td>\n      <td>12/18/2017</td>\n      <td>1316</td>\n    </tr>\n    <tr>\n      <th>16161</th>\n      <td>ATL</td>\n      <td>12/308</td>\n      <td>Aerodrome</td>\n      <td>12/28/2017 2301</td>\n      <td>01/03/2018 0619</td>\n      <td>01/12/2018 2301</td>\n      <td>!ATL 12/308 ATL AD AP ABN OUT OF SERVICE 17122...</td>\n      <td>12/28/2017</td>\n      <td>2301</td>\n    </tr>\n    <tr>\n      <th>16162</th>\n      <td>ATL</td>\n      <td>12/304</td>\n      <td>Aerodrome</td>\n      <td>12/27/2017 1330</td>\n      <td>NaN</td>\n      <td>01/02/2018 0500</td>\n      <td>!ATL 12/304 ATL AD AP BIRD ACT INCREASED FORMA...</td>\n      <td>12/27/2017</td>\n      <td>1329</td>\n    </tr>\n  </tbody>\n</table>\n<p>16163 rows × 9 columns</p>\n</div>"
     },
     "execution_count": 45,
     "metadata": {},
     "output_type": "execute_result"
    }
   ],
   "source": [
    "eff_date = atl_notam_df[\"Effective Date (UTC)\"].apply(lambda x: x.split()[0])\n",
    "eff_time = atl_notam_df[\"Effective Date (UTC)\"].apply(lambda x: x.split()[1])\n",
    "eff_date_time = pd.concat([eff_date, eff_time], axis='columns')\n",
    "eff_date_time.columns = [\"NOTAM_Effective_Date\",\"NOTAM_Effective_Time\"]\n",
    "atl_notam_df = pd.concat([atl_notam_df, eff_date_time], axis=\"columns\").drop(columns=[\"Effective Date (UTC)\"], axis = \"columns\")\n",
    "atl_notam_df"
   ],
   "metadata": {
    "collapsed": false,
    "pycharm": {
     "name": "#%%\n"
    },
    "ExecuteTime": {
     "end_time": "2025-01-06T22:45:43.048291100Z",
     "start_time": "2025-01-06T22:45:42.887384700Z"
    }
   }
  },
  {
   "cell_type": "markdown",
   "source": [
    "## Expiration Date Splitting"
   ],
   "metadata": {
    "collapsed": false
   }
  },
  {
   "cell_type": "markdown",
   "source": [
    "### Filtering Permanent NOTAMS\n",
    "\n",
    "Some NOTAMS include \"PERM\" in the expiration date column which indicates a never ending scenario.\n",
    "These are not relevant for our classification task and would additionally reduce variance in the data. Therefore, they are discarded. \n",
    "\n",
    "They are identified by simply not having a space character in the field. "
   ],
   "metadata": {
    "collapsed": false
   }
  },
  {
   "cell_type": "code",
   "execution_count": 46,
   "outputs": [
    {
     "data": {
      "text/plain": "      Location NOTAM #          Class Issue Date (UTC) Cancel Date (UTC)  \\\n0          ATL  04/107  Communication  04/19/2016 1648               NaN   \n25         ATL  6/9742          Chart  12/09/2016 1706   01/05/2017 1210   \n26         ATL  6/5812          Chart  11/10/2016 1203   01/05/2017 1200   \n40         ATL  04/107  Communication  04/19/2016 1648               NaN   \n65         ATL  6/9742          Chart  12/09/2016 1706   01/05/2017 1210   \n...        ...     ...            ...              ...               ...   \n16138      ATL  10/257  Communication  10/22/2017 1823   03/06/2018 1625   \n16146      ATL  04/107  Communication  04/19/2016 1648               NaN   \n16148      ATL  10/257  Communication  10/22/2017 1823   03/06/2018 1625   \n16155      ATL  04/107  Communication  04/19/2016 1648               NaN   \n16157      ATL  10/257  Communication  10/22/2017 1823   03/06/2018 1625   \n\n      Expiration Date (UTC)  \\\n0                      PERM   \n25                     PERM   \n26                     PERM   \n40                     PERM   \n65                     PERM   \n...                     ...   \n16138                  PERM   \n16146                  PERM   \n16148                  PERM   \n16155                  PERM   \n16157                  PERM   \n\n                          NOTAM Condition or LTA Subject NOTAM_Effective_Date  \\\n0      !ATL 04/107 ATL COM REMOTE TRANSMITTER/RECEIVE...           04/19/2016   \n25     !FDC 6/9742 ATL CHART HARTSFIELD - JACKSON ATL...           12/09/2016   \n26     !FDC 6/5812 ATL CHART HARTSFIELD - JACKSON ATL...           11/10/2016   \n40     !ATL 04/107 ATL COM REMOTE TRANSMITTER/RECEIVE...           04/19/2016   \n65     !FDC 6/9742 ATL CHART HARTSFIELD - JACKSON ATL...           12/09/2016   \n...                                                  ...                  ...   \n16138  !ATL 10/257 ATL COM CPDLC DEP CLR LOGON CHANGE...           10/22/2017   \n16146  !ATL 04/107 ATL COM REMOTE TRANSMITTER/RECEIVE...           04/19/2016   \n16148  !ATL 10/257 ATL COM CPDLC DEP CLR LOGON CHANGE...           10/22/2017   \n16155  !ATL 04/107 ATL COM REMOTE TRANSMITTER/RECEIVE...           04/19/2016   \n16157  !ATL 10/257 ATL COM CPDLC DEP CLR LOGON CHANGE...           10/22/2017   \n\n      NOTAM_Effective_Time  \n0                     1648  \n25                    1706  \n26                    1203  \n40                    1648  \n65                    1706  \n...                    ...  \n16138                 1823  \n16146                 1648  \n16148                 1823  \n16155                 1648  \n16157                 1823  \n\n[2154 rows x 9 columns]",
      "text/html": "<div>\n<style scoped>\n    .dataframe tbody tr th:only-of-type {\n        vertical-align: middle;\n    }\n\n    .dataframe tbody tr th {\n        vertical-align: top;\n    }\n\n    .dataframe thead th {\n        text-align: right;\n    }\n</style>\n<table border=\"1\" class=\"dataframe\">\n  <thead>\n    <tr style=\"text-align: right;\">\n      <th></th>\n      <th>Location</th>\n      <th>NOTAM #</th>\n      <th>Class</th>\n      <th>Issue Date (UTC)</th>\n      <th>Cancel Date (UTC)</th>\n      <th>Expiration Date (UTC)</th>\n      <th>NOTAM Condition or LTA Subject</th>\n      <th>NOTAM_Effective_Date</th>\n      <th>NOTAM_Effective_Time</th>\n    </tr>\n  </thead>\n  <tbody>\n    <tr>\n      <th>0</th>\n      <td>ATL</td>\n      <td>04/107</td>\n      <td>Communication</td>\n      <td>04/19/2016 1648</td>\n      <td>NaN</td>\n      <td>PERM</td>\n      <td>!ATL 04/107 ATL COM REMOTE TRANSMITTER/RECEIVE...</td>\n      <td>04/19/2016</td>\n      <td>1648</td>\n    </tr>\n    <tr>\n      <th>25</th>\n      <td>ATL</td>\n      <td>6/9742</td>\n      <td>Chart</td>\n      <td>12/09/2016 1706</td>\n      <td>01/05/2017 1210</td>\n      <td>PERM</td>\n      <td>!FDC 6/9742 ATL CHART HARTSFIELD - JACKSON ATL...</td>\n      <td>12/09/2016</td>\n      <td>1706</td>\n    </tr>\n    <tr>\n      <th>26</th>\n      <td>ATL</td>\n      <td>6/5812</td>\n      <td>Chart</td>\n      <td>11/10/2016 1203</td>\n      <td>01/05/2017 1200</td>\n      <td>PERM</td>\n      <td>!FDC 6/5812 ATL CHART HARTSFIELD - JACKSON ATL...</td>\n      <td>11/10/2016</td>\n      <td>1203</td>\n    </tr>\n    <tr>\n      <th>40</th>\n      <td>ATL</td>\n      <td>04/107</td>\n      <td>Communication</td>\n      <td>04/19/2016 1648</td>\n      <td>NaN</td>\n      <td>PERM</td>\n      <td>!ATL 04/107 ATL COM REMOTE TRANSMITTER/RECEIVE...</td>\n      <td>04/19/2016</td>\n      <td>1648</td>\n    </tr>\n    <tr>\n      <th>65</th>\n      <td>ATL</td>\n      <td>6/9742</td>\n      <td>Chart</td>\n      <td>12/09/2016 1706</td>\n      <td>01/05/2017 1210</td>\n      <td>PERM</td>\n      <td>!FDC 6/9742 ATL CHART HARTSFIELD - JACKSON ATL...</td>\n      <td>12/09/2016</td>\n      <td>1706</td>\n    </tr>\n    <tr>\n      <th>...</th>\n      <td>...</td>\n      <td>...</td>\n      <td>...</td>\n      <td>...</td>\n      <td>...</td>\n      <td>...</td>\n      <td>...</td>\n      <td>...</td>\n      <td>...</td>\n    </tr>\n    <tr>\n      <th>16138</th>\n      <td>ATL</td>\n      <td>10/257</td>\n      <td>Communication</td>\n      <td>10/22/2017 1823</td>\n      <td>03/06/2018 1625</td>\n      <td>PERM</td>\n      <td>!ATL 10/257 ATL COM CPDLC DEP CLR LOGON CHANGE...</td>\n      <td>10/22/2017</td>\n      <td>1823</td>\n    </tr>\n    <tr>\n      <th>16146</th>\n      <td>ATL</td>\n      <td>04/107</td>\n      <td>Communication</td>\n      <td>04/19/2016 1648</td>\n      <td>NaN</td>\n      <td>PERM</td>\n      <td>!ATL 04/107 ATL COM REMOTE TRANSMITTER/RECEIVE...</td>\n      <td>04/19/2016</td>\n      <td>1648</td>\n    </tr>\n    <tr>\n      <th>16148</th>\n      <td>ATL</td>\n      <td>10/257</td>\n      <td>Communication</td>\n      <td>10/22/2017 1823</td>\n      <td>03/06/2018 1625</td>\n      <td>PERM</td>\n      <td>!ATL 10/257 ATL COM CPDLC DEP CLR LOGON CHANGE...</td>\n      <td>10/22/2017</td>\n      <td>1823</td>\n    </tr>\n    <tr>\n      <th>16155</th>\n      <td>ATL</td>\n      <td>04/107</td>\n      <td>Communication</td>\n      <td>04/19/2016 1648</td>\n      <td>NaN</td>\n      <td>PERM</td>\n      <td>!ATL 04/107 ATL COM REMOTE TRANSMITTER/RECEIVE...</td>\n      <td>04/19/2016</td>\n      <td>1648</td>\n    </tr>\n    <tr>\n      <th>16157</th>\n      <td>ATL</td>\n      <td>10/257</td>\n      <td>Communication</td>\n      <td>10/22/2017 1823</td>\n      <td>03/06/2018 1625</td>\n      <td>PERM</td>\n      <td>!ATL 10/257 ATL COM CPDLC DEP CLR LOGON CHANGE...</td>\n      <td>10/22/2017</td>\n      <td>1823</td>\n    </tr>\n  </tbody>\n</table>\n<p>2154 rows × 9 columns</p>\n</div>"
     },
     "execution_count": 46,
     "metadata": {},
     "output_type": "execute_result"
    }
   ],
   "source": [
    "perm_notams = atl_notam_df[[False if ' ' in row else True for row in atl_notam_df[\"Expiration Date (UTC)\"]]]\n",
    "perm_notams"
   ],
   "metadata": {
    "collapsed": false,
    "ExecuteTime": {
     "end_time": "2025-01-06T22:45:43.105260400Z",
     "start_time": "2025-01-06T22:45:42.962341200Z"
    }
   }
  },
  {
   "cell_type": "code",
   "execution_count": 47,
   "outputs": [
    {
     "name": "stdout",
     "output_type": "stream",
     "text": [
      "Out of 16163, 2154 are permanent.\n"
     ]
    },
    {
     "data": {
      "text/plain": "PERM    2154\nName: Expiration Date (UTC), dtype: int64"
     },
     "execution_count": 47,
     "metadata": {},
     "output_type": "execute_result"
    }
   ],
   "source": [
    "print(f\"Out of {len(atl_notam_df)}, {len(perm_notams)} are permanent.\")\n",
    "perm_notams[\"Expiration Date (UTC)\"].value_counts()"
   ],
   "metadata": {
    "collapsed": false,
    "ExecuteTime": {
     "end_time": "2025-01-06T22:45:43.119251100Z",
     "start_time": "2025-01-06T22:45:43.022306700Z"
    }
   }
  },
  {
   "cell_type": "code",
   "execution_count": 48,
   "outputs": [
    {
     "data": {
      "text/plain": "Procedure        1710\nCommunication     434\nChart              10\nName: Class, dtype: int64"
     },
     "execution_count": 48,
     "metadata": {},
     "output_type": "execute_result"
    }
   ],
   "source": [
    "perm_notams[\"Class\"].value_counts()"
   ],
   "metadata": {
    "collapsed": false,
    "ExecuteTime": {
     "end_time": "2025-01-06T22:45:43.136244500Z",
     "start_time": "2025-01-06T22:45:43.037298300Z"
    }
   }
  },
  {
   "cell_type": "code",
   "execution_count": 49,
   "outputs": [
    {
     "name": "stdout",
     "output_type": "stream",
     "text": [
      "Communication NOTAMs:\n"
     ]
    },
    {
     "data": {
      "text/plain": "0        !ATL 04/107 ATL COM REMOTE TRANSMITTER/RECEIVE...\n40       !ATL 04/107 ATL COM REMOTE TRANSMITTER/RECEIVE...\n79       !ATL 04/107 ATL COM REMOTE TRANSMITTER/RECEIVE...\n118      !ATL 04/107 ATL COM REMOTE TRANSMITTER/RECEIVE...\n154      !ATL 04/107 ATL COM REMOTE TRANSMITTER/RECEIVE...\n                               ...                        \n16138    !ATL 10/257 ATL COM CPDLC DEP CLR LOGON CHANGE...\n16146    !ATL 04/107 ATL COM REMOTE TRANSMITTER/RECEIVE...\n16148    !ATL 10/257 ATL COM CPDLC DEP CLR LOGON CHANGE...\n16155    !ATL 04/107 ATL COM REMOTE TRANSMITTER/RECEIVE...\n16157    !ATL 10/257 ATL COM CPDLC DEP CLR LOGON CHANGE...\nName: NOTAM Condition or LTA Subject, Length: 434, dtype: object"
     },
     "execution_count": 49,
     "metadata": {},
     "output_type": "execute_result"
    }
   ],
   "source": [
    "print(\"Communication NOTAMs:\")\n",
    "perm_notams[perm_notams[\"Class\"] == \"Communication\"][\"NOTAM Condition or LTA Subject\"]"
   ],
   "metadata": {
    "collapsed": false,
    "ExecuteTime": {
     "end_time": "2025-01-06T22:45:43.137240900Z",
     "start_time": "2025-01-06T22:45:43.053289300Z"
    }
   }
  },
  {
   "cell_type": "code",
   "execution_count": 50,
   "outputs": [
    {
     "name": "stdout",
     "output_type": "stream",
     "text": [
      "Chart NOTAMs\n"
     ]
    },
    {
     "data": {
      "text/plain": "25     !FDC 6/9742 ATL CHART HARTSFIELD - JACKSON ATL...\n26     !FDC 6/5812 ATL CHART HARTSFIELD - JACKSON ATL...\n65     !FDC 6/9742 ATL CHART HARTSFIELD - JACKSON ATL...\n66     !FDC 6/5812 ATL CHART HARTSFIELD - JACKSON ATL...\n104    !FDC 6/9742 ATL CHART HARTSFIELD - JACKSON ATL...\n105    !FDC 6/5812 ATL CHART HARTSFIELD - JACKSON ATL...\n143    !FDC 6/9742 ATL CHART HARTSFIELD - JACKSON ATL...\n144    !FDC 6/5812 ATL CHART HARTSFIELD - JACKSON ATL...\n189    !FDC 6/9742 ATL CHART HARTSFIELD - JACKSON ATL...\n190    !FDC 6/5812 ATL CHART HARTSFIELD - JACKSON ATL...\nName: NOTAM Condition or LTA Subject, dtype: object"
     },
     "execution_count": 50,
     "metadata": {},
     "output_type": "execute_result"
    }
   ],
   "source": [
    "print(\"Chart NOTAMs\")\n",
    "perm_notams[perm_notams[\"Class\"] == \"Chart\"][\"NOTAM Condition or LTA Subject\"]"
   ],
   "metadata": {
    "collapsed": false,
    "ExecuteTime": {
     "end_time": "2025-01-06T22:45:43.161227200Z",
     "start_time": "2025-01-06T22:45:43.072278100Z"
    }
   }
  },
  {
   "cell_type": "code",
   "execution_count": 51,
   "outputs": [
    {
     "name": "stdout",
     "output_type": "stream",
     "text": [
      "Procedure NOTAMs\n"
     ]
    },
    {
     "data": {
      "text/plain": "6377     !FDC 7/8998 ATL IAP HARTSFIELD - JACKSON ATLAN...\n6378     !FDC 7/8999 ATL IAP HARTSFIELD - JACKSON ATLAN...\n6379     !FDC 7/8996 ATL IAP HARTSFIELD - JACKSON ATLAN...\n6380     !FDC 7/8994 ATL IAP HARTSFIELD - JACKSON ATLAN...\n6381     !FDC 7/8963 ATL IAP HARTSFIELD - JACKSON ATLAN...\n                               ...                        \n13670    !FDC 7/8955 ATL IAP HARTSFIELD - JACKSON ATLAN...\n13671    !FDC 7/8971 ATL IAP HARTSFIELD - JACKSON ATLAN...\n13672    !FDC 7/8972 ATL IAP HARTSFIELD - JACKSON ATLAN...\n13673    !FDC 7/9872 ATL IAP HARTSFIELD - JACKSON ATLAN...\n13674    !FDC 7/9873 ATL IAP HARTSFIELD - JACKSON ATLAN...\nName: NOTAM Condition or LTA Subject, Length: 1710, dtype: object"
     },
     "execution_count": 51,
     "metadata": {},
     "output_type": "execute_result"
    }
   ],
   "source": [
    "print(\"Procedure NOTAMs\")\n",
    "perm_notams[perm_notams[\"Class\"] == \"Procedure\"][\"NOTAM Condition or LTA Subject\"]"
   ],
   "metadata": {
    "collapsed": false,
    "ExecuteTime": {
     "end_time": "2025-01-06T22:45:43.280159Z",
     "start_time": "2025-01-06T22:45:43.099263300Z"
    }
   }
  },
  {
   "cell_type": "code",
   "execution_count": 52,
   "outputs": [
    {
     "data": {
      "text/plain": "'!FDC 7/8969 ATL IAP HARTSFIELD - JACKSON ATLANTA INTL,\\nAtlanta, GA.\\nRNAV (GPS) PRM Y RWY 8L (SIMULTANEOUS CLOSE PARALLEL), ORIG...\\nLPV DA VISIBILITY RVR 1800 ALL CATS.\\nTHIS IS RNAV (GPS) PRM Y RWY 8L (SIMULTANEOUS CLOSE PARALLEL),\\nORIG-A. 1706082022-PERM'"
     },
     "execution_count": 52,
     "metadata": {},
     "output_type": "execute_result"
    }
   ],
   "source": [
    "perm_notams.loc[6384][\"NOTAM Condition or LTA Subject\"]"
   ],
   "metadata": {
    "collapsed": false,
    "ExecuteTime": {
     "end_time": "2025-01-06T22:45:43.408086100Z",
     "start_time": "2025-01-06T22:45:43.129246Z"
    }
   }
  },
  {
   "cell_type": "code",
   "execution_count": 53,
   "outputs": [
    {
     "data": {
      "text/plain": "      Location NOTAM #        Class Issue Date (UTC) Cancel Date (UTC)  \\\n1          ATL  6/4595    Procedure  12/22/2016 2135               NaN   \n2          ATL  6/4598    Procedure  12/22/2016 2135               NaN   \n3          ATL  6/4601    Procedure  12/22/2016 2135               NaN   \n4          ATL  6/4603    Procedure  12/22/2016 2136               NaN   \n5          ATL  6/4604    Procedure  12/22/2016 2138               NaN   \n...        ...     ...          ...              ...               ...   \n16158      ATL  11/142  Obstruction  11/16/2017 1500   02/23/2018 1644   \n16159      ATL  7/5192    Procedure  10/16/2017 1355               NaN   \n16160      ATL  12/231  Obstruction  12/18/2017 1317   01/17/2018 0703   \n16161      ATL  12/308    Aerodrome  12/28/2017 2301   01/03/2018 0619   \n16162      ATL  12/304    Aerodrome  12/27/2017 1330               NaN   \n\n      Expiration Date (UTC)  \\\n1           08/17/2017 1000   \n2           08/17/2017 1000   \n3           08/17/2017 1000   \n4           08/17/2017 1000   \n5           08/17/2017 1000   \n...                     ...   \n16158       02/27/2018 2359   \n16159       02/01/2018 0900   \n16160       01/17/2018 1200   \n16161       01/12/2018 2301   \n16162       01/02/2018 0500   \n\n                          NOTAM Condition or LTA Subject NOTAM_Effective_Date  \\\n1      !FDC 6/4595 ATL CANCELLED BY FDC 7/3089 ON 08/...           12/23/2016   \n2      !FDC 6/4598 ATL CANCELLED BY FDC 7/3090 ON 08/...           12/23/2016   \n3      !FDC 6/4601 ATL CANCELLED BY FDC 7/3088 ON 08/...           12/23/2016   \n4      !FDC 6/4603 ATL CANCELLED BY FDC 7/3091 ON 08/...           12/23/2016   \n5      !FDC 6/4604 ATL CANCELLED BY FDC 7/3094 ON 08/...           12/23/2016   \n...                                                  ...                  ...   \n16158  !ATL 11/142 ATL OBST TOWER LGT (ASR 1022036) 3...           11/16/2017   \n16159  !FDC 7/5192 ATL CANCELLED BY FDC 8/4084 ON 02/...           10/17/2017   \n16160  !ATL 12/231 ATL OBST TOWER LGT (ASR 1047185) 3...           12/18/2017   \n16161  !ATL 12/308 ATL AD AP ABN OUT OF SERVICE 17122...           12/28/2017   \n16162  !ATL 12/304 ATL AD AP BIRD ACT INCREASED FORMA...           12/27/2017   \n\n      NOTAM_Effective_Time  \n1                     1000  \n2                     1000  \n3                     1000  \n4                     1000  \n5                     1000  \n...                    ...  \n16158                 1500  \n16159                 0500  \n16160                 1316  \n16161                 2301  \n16162                 1329  \n\n[14009 rows x 9 columns]",
      "text/html": "<div>\n<style scoped>\n    .dataframe tbody tr th:only-of-type {\n        vertical-align: middle;\n    }\n\n    .dataframe tbody tr th {\n        vertical-align: top;\n    }\n\n    .dataframe thead th {\n        text-align: right;\n    }\n</style>\n<table border=\"1\" class=\"dataframe\">\n  <thead>\n    <tr style=\"text-align: right;\">\n      <th></th>\n      <th>Location</th>\n      <th>NOTAM #</th>\n      <th>Class</th>\n      <th>Issue Date (UTC)</th>\n      <th>Cancel Date (UTC)</th>\n      <th>Expiration Date (UTC)</th>\n      <th>NOTAM Condition or LTA Subject</th>\n      <th>NOTAM_Effective_Date</th>\n      <th>NOTAM_Effective_Time</th>\n    </tr>\n  </thead>\n  <tbody>\n    <tr>\n      <th>1</th>\n      <td>ATL</td>\n      <td>6/4595</td>\n      <td>Procedure</td>\n      <td>12/22/2016 2135</td>\n      <td>NaN</td>\n      <td>08/17/2017 1000</td>\n      <td>!FDC 6/4595 ATL CANCELLED BY FDC 7/3089 ON 08/...</td>\n      <td>12/23/2016</td>\n      <td>1000</td>\n    </tr>\n    <tr>\n      <th>2</th>\n      <td>ATL</td>\n      <td>6/4598</td>\n      <td>Procedure</td>\n      <td>12/22/2016 2135</td>\n      <td>NaN</td>\n      <td>08/17/2017 1000</td>\n      <td>!FDC 6/4598 ATL CANCELLED BY FDC 7/3090 ON 08/...</td>\n      <td>12/23/2016</td>\n      <td>1000</td>\n    </tr>\n    <tr>\n      <th>3</th>\n      <td>ATL</td>\n      <td>6/4601</td>\n      <td>Procedure</td>\n      <td>12/22/2016 2135</td>\n      <td>NaN</td>\n      <td>08/17/2017 1000</td>\n      <td>!FDC 6/4601 ATL CANCELLED BY FDC 7/3088 ON 08/...</td>\n      <td>12/23/2016</td>\n      <td>1000</td>\n    </tr>\n    <tr>\n      <th>4</th>\n      <td>ATL</td>\n      <td>6/4603</td>\n      <td>Procedure</td>\n      <td>12/22/2016 2136</td>\n      <td>NaN</td>\n      <td>08/17/2017 1000</td>\n      <td>!FDC 6/4603 ATL CANCELLED BY FDC 7/3091 ON 08/...</td>\n      <td>12/23/2016</td>\n      <td>1000</td>\n    </tr>\n    <tr>\n      <th>5</th>\n      <td>ATL</td>\n      <td>6/4604</td>\n      <td>Procedure</td>\n      <td>12/22/2016 2138</td>\n      <td>NaN</td>\n      <td>08/17/2017 1000</td>\n      <td>!FDC 6/4604 ATL CANCELLED BY FDC 7/3094 ON 08/...</td>\n      <td>12/23/2016</td>\n      <td>1000</td>\n    </tr>\n    <tr>\n      <th>...</th>\n      <td>...</td>\n      <td>...</td>\n      <td>...</td>\n      <td>...</td>\n      <td>...</td>\n      <td>...</td>\n      <td>...</td>\n      <td>...</td>\n      <td>...</td>\n    </tr>\n    <tr>\n      <th>16158</th>\n      <td>ATL</td>\n      <td>11/142</td>\n      <td>Obstruction</td>\n      <td>11/16/2017 1500</td>\n      <td>02/23/2018 1644</td>\n      <td>02/27/2018 2359</td>\n      <td>!ATL 11/142 ATL OBST TOWER LGT (ASR 1022036) 3...</td>\n      <td>11/16/2017</td>\n      <td>1500</td>\n    </tr>\n    <tr>\n      <th>16159</th>\n      <td>ATL</td>\n      <td>7/5192</td>\n      <td>Procedure</td>\n      <td>10/16/2017 1355</td>\n      <td>NaN</td>\n      <td>02/01/2018 0900</td>\n      <td>!FDC 7/5192 ATL CANCELLED BY FDC 8/4084 ON 02/...</td>\n      <td>10/17/2017</td>\n      <td>0500</td>\n    </tr>\n    <tr>\n      <th>16160</th>\n      <td>ATL</td>\n      <td>12/231</td>\n      <td>Obstruction</td>\n      <td>12/18/2017 1317</td>\n      <td>01/17/2018 0703</td>\n      <td>01/17/2018 1200</td>\n      <td>!ATL 12/231 ATL OBST TOWER LGT (ASR 1047185) 3...</td>\n      <td>12/18/2017</td>\n      <td>1316</td>\n    </tr>\n    <tr>\n      <th>16161</th>\n      <td>ATL</td>\n      <td>12/308</td>\n      <td>Aerodrome</td>\n      <td>12/28/2017 2301</td>\n      <td>01/03/2018 0619</td>\n      <td>01/12/2018 2301</td>\n      <td>!ATL 12/308 ATL AD AP ABN OUT OF SERVICE 17122...</td>\n      <td>12/28/2017</td>\n      <td>2301</td>\n    </tr>\n    <tr>\n      <th>16162</th>\n      <td>ATL</td>\n      <td>12/304</td>\n      <td>Aerodrome</td>\n      <td>12/27/2017 1330</td>\n      <td>NaN</td>\n      <td>01/02/2018 0500</td>\n      <td>!ATL 12/304 ATL AD AP BIRD ACT INCREASED FORMA...</td>\n      <td>12/27/2017</td>\n      <td>1329</td>\n    </tr>\n  </tbody>\n</table>\n<p>14009 rows × 9 columns</p>\n</div>"
     },
     "execution_count": 53,
     "metadata": {},
     "output_type": "execute_result"
    }
   ],
   "source": [
    "atl_notam_df = atl_notam_df.drop(labels = atl_notam_df[[False if ' ' in row else True for row in atl_notam_df[\"Expiration Date (UTC)\"]]].index, axis='index')\n",
    "atl_notam_df"
   ],
   "metadata": {
    "collapsed": false,
    "pycharm": {
     "name": "#%%\n"
    },
    "ExecuteTime": {
     "end_time": "2025-01-06T22:45:43.546272300Z",
     "start_time": "2025-01-06T22:45:43.144236400Z"
    }
   }
  },
  {
   "cell_type": "code",
   "execution_count": 54,
   "outputs": [
    {
     "data": {
      "text/plain": "      Location NOTAM #        Class Issue Date (UTC) Cancel Date (UTC)  \\\n1          ATL  6/4595    Procedure  12/22/2016 2135               NaN   \n2          ATL  6/4598    Procedure  12/22/2016 2135               NaN   \n3          ATL  6/4601    Procedure  12/22/2016 2135               NaN   \n4          ATL  6/4603    Procedure  12/22/2016 2136               NaN   \n5          ATL  6/4604    Procedure  12/22/2016 2138               NaN   \n...        ...     ...          ...              ...               ...   \n16158      ATL  11/142  Obstruction  11/16/2017 1500   02/23/2018 1644   \n16159      ATL  7/5192    Procedure  10/16/2017 1355               NaN   \n16160      ATL  12/231  Obstruction  12/18/2017 1317   01/17/2018 0703   \n16161      ATL  12/308    Aerodrome  12/28/2017 2301   01/03/2018 0619   \n16162      ATL  12/304    Aerodrome  12/27/2017 1330               NaN   \n\n                          NOTAM Condition or LTA Subject NOTAM_Effective_Date  \\\n1      !FDC 6/4595 ATL CANCELLED BY FDC 7/3089 ON 08/...           12/23/2016   \n2      !FDC 6/4598 ATL CANCELLED BY FDC 7/3090 ON 08/...           12/23/2016   \n3      !FDC 6/4601 ATL CANCELLED BY FDC 7/3088 ON 08/...           12/23/2016   \n4      !FDC 6/4603 ATL CANCELLED BY FDC 7/3091 ON 08/...           12/23/2016   \n5      !FDC 6/4604 ATL CANCELLED BY FDC 7/3094 ON 08/...           12/23/2016   \n...                                                  ...                  ...   \n16158  !ATL 11/142 ATL OBST TOWER LGT (ASR 1022036) 3...           11/16/2017   \n16159  !FDC 7/5192 ATL CANCELLED BY FDC 8/4084 ON 02/...           10/17/2017   \n16160  !ATL 12/231 ATL OBST TOWER LGT (ASR 1047185) 3...           12/18/2017   \n16161  !ATL 12/308 ATL AD AP ABN OUT OF SERVICE 17122...           12/28/2017   \n16162  !ATL 12/304 ATL AD AP BIRD ACT INCREASED FORMA...           12/27/2017   \n\n      NOTAM_Effective_Time NOTAM_Expiration_Date NOTAM_Expiration_Time  \n1                     1000            08/17/2017                  1000  \n2                     1000            08/17/2017                  1000  \n3                     1000            08/17/2017                  1000  \n4                     1000            08/17/2017                  1000  \n5                     1000            08/17/2017                  1000  \n...                    ...                   ...                   ...  \n16158                 1500            02/27/2018                  2359  \n16159                 0500            02/01/2018                  0900  \n16160                 1316            01/17/2018                  1200  \n16161                 2301            01/12/2018                  2301  \n16162                 1329            01/02/2018                  0500  \n\n[14009 rows x 10 columns]",
      "text/html": "<div>\n<style scoped>\n    .dataframe tbody tr th:only-of-type {\n        vertical-align: middle;\n    }\n\n    .dataframe tbody tr th {\n        vertical-align: top;\n    }\n\n    .dataframe thead th {\n        text-align: right;\n    }\n</style>\n<table border=\"1\" class=\"dataframe\">\n  <thead>\n    <tr style=\"text-align: right;\">\n      <th></th>\n      <th>Location</th>\n      <th>NOTAM #</th>\n      <th>Class</th>\n      <th>Issue Date (UTC)</th>\n      <th>Cancel Date (UTC)</th>\n      <th>NOTAM Condition or LTA Subject</th>\n      <th>NOTAM_Effective_Date</th>\n      <th>NOTAM_Effective_Time</th>\n      <th>NOTAM_Expiration_Date</th>\n      <th>NOTAM_Expiration_Time</th>\n    </tr>\n  </thead>\n  <tbody>\n    <tr>\n      <th>1</th>\n      <td>ATL</td>\n      <td>6/4595</td>\n      <td>Procedure</td>\n      <td>12/22/2016 2135</td>\n      <td>NaN</td>\n      <td>!FDC 6/4595 ATL CANCELLED BY FDC 7/3089 ON 08/...</td>\n      <td>12/23/2016</td>\n      <td>1000</td>\n      <td>08/17/2017</td>\n      <td>1000</td>\n    </tr>\n    <tr>\n      <th>2</th>\n      <td>ATL</td>\n      <td>6/4598</td>\n      <td>Procedure</td>\n      <td>12/22/2016 2135</td>\n      <td>NaN</td>\n      <td>!FDC 6/4598 ATL CANCELLED BY FDC 7/3090 ON 08/...</td>\n      <td>12/23/2016</td>\n      <td>1000</td>\n      <td>08/17/2017</td>\n      <td>1000</td>\n    </tr>\n    <tr>\n      <th>3</th>\n      <td>ATL</td>\n      <td>6/4601</td>\n      <td>Procedure</td>\n      <td>12/22/2016 2135</td>\n      <td>NaN</td>\n      <td>!FDC 6/4601 ATL CANCELLED BY FDC 7/3088 ON 08/...</td>\n      <td>12/23/2016</td>\n      <td>1000</td>\n      <td>08/17/2017</td>\n      <td>1000</td>\n    </tr>\n    <tr>\n      <th>4</th>\n      <td>ATL</td>\n      <td>6/4603</td>\n      <td>Procedure</td>\n      <td>12/22/2016 2136</td>\n      <td>NaN</td>\n      <td>!FDC 6/4603 ATL CANCELLED BY FDC 7/3091 ON 08/...</td>\n      <td>12/23/2016</td>\n      <td>1000</td>\n      <td>08/17/2017</td>\n      <td>1000</td>\n    </tr>\n    <tr>\n      <th>5</th>\n      <td>ATL</td>\n      <td>6/4604</td>\n      <td>Procedure</td>\n      <td>12/22/2016 2138</td>\n      <td>NaN</td>\n      <td>!FDC 6/4604 ATL CANCELLED BY FDC 7/3094 ON 08/...</td>\n      <td>12/23/2016</td>\n      <td>1000</td>\n      <td>08/17/2017</td>\n      <td>1000</td>\n    </tr>\n    <tr>\n      <th>...</th>\n      <td>...</td>\n      <td>...</td>\n      <td>...</td>\n      <td>...</td>\n      <td>...</td>\n      <td>...</td>\n      <td>...</td>\n      <td>...</td>\n      <td>...</td>\n      <td>...</td>\n    </tr>\n    <tr>\n      <th>16158</th>\n      <td>ATL</td>\n      <td>11/142</td>\n      <td>Obstruction</td>\n      <td>11/16/2017 1500</td>\n      <td>02/23/2018 1644</td>\n      <td>!ATL 11/142 ATL OBST TOWER LGT (ASR 1022036) 3...</td>\n      <td>11/16/2017</td>\n      <td>1500</td>\n      <td>02/27/2018</td>\n      <td>2359</td>\n    </tr>\n    <tr>\n      <th>16159</th>\n      <td>ATL</td>\n      <td>7/5192</td>\n      <td>Procedure</td>\n      <td>10/16/2017 1355</td>\n      <td>NaN</td>\n      <td>!FDC 7/5192 ATL CANCELLED BY FDC 8/4084 ON 02/...</td>\n      <td>10/17/2017</td>\n      <td>0500</td>\n      <td>02/01/2018</td>\n      <td>0900</td>\n    </tr>\n    <tr>\n      <th>16160</th>\n      <td>ATL</td>\n      <td>12/231</td>\n      <td>Obstruction</td>\n      <td>12/18/2017 1317</td>\n      <td>01/17/2018 0703</td>\n      <td>!ATL 12/231 ATL OBST TOWER LGT (ASR 1047185) 3...</td>\n      <td>12/18/2017</td>\n      <td>1316</td>\n      <td>01/17/2018</td>\n      <td>1200</td>\n    </tr>\n    <tr>\n      <th>16161</th>\n      <td>ATL</td>\n      <td>12/308</td>\n      <td>Aerodrome</td>\n      <td>12/28/2017 2301</td>\n      <td>01/03/2018 0619</td>\n      <td>!ATL 12/308 ATL AD AP ABN OUT OF SERVICE 17122...</td>\n      <td>12/28/2017</td>\n      <td>2301</td>\n      <td>01/12/2018</td>\n      <td>2301</td>\n    </tr>\n    <tr>\n      <th>16162</th>\n      <td>ATL</td>\n      <td>12/304</td>\n      <td>Aerodrome</td>\n      <td>12/27/2017 1330</td>\n      <td>NaN</td>\n      <td>!ATL 12/304 ATL AD AP BIRD ACT INCREASED FORMA...</td>\n      <td>12/27/2017</td>\n      <td>1329</td>\n      <td>01/02/2018</td>\n      <td>0500</td>\n    </tr>\n  </tbody>\n</table>\n<p>14009 rows × 10 columns</p>\n</div>"
     },
     "execution_count": 54,
     "metadata": {},
     "output_type": "execute_result"
    }
   ],
   "source": [
    "exp_date = atl_notam_df[\"Expiration Date (UTC)\"].apply(lambda x: x.split()[0])\n",
    "exp_time = atl_notam_df[\"Expiration Date (UTC)\"].apply(lambda x: x.split()[1])\n",
    "exp_date_time = pd.concat([exp_date, exp_time], axis='columns')\n",
    "exp_date_time.columns = [\"NOTAM_Expiration_Date\",\"NOTAM_Expiration_Time\"]\n",
    "atl_notam_df = pd.concat([atl_notam_df, exp_date_time], axis=\"columns\").drop(columns=[\"Expiration Date (UTC)\"], axis = \"columns\")\n",
    "atl_notam_df"
   ],
   "metadata": {
    "collapsed": false,
    "pycharm": {
     "name": "#%%\n"
    },
    "ExecuteTime": {
     "end_time": "2025-01-06T22:45:43.549270600Z",
     "start_time": "2025-01-06T22:45:43.202204300Z"
    }
   }
  },
  {
   "cell_type": "markdown",
   "source": [
    "## NOTAM Examples\n",
    "\n",
    "Procedure\n",
    "!FDC 6/2007 ATL STAR HARTSFIELD-JACKSON ATLANTA INTL, ATLANTA, GA.KOLTT ONE ARRIVAL NOTE: LANDING WEST EXPECT RWY 26R, LANDING EAST EXPECT RWY 09R 1609150901-1709150900\n",
    "Aerodrome\n",
    "!ATL 01/007 ATL RWY 09R FICON 5/5/5 100 PRCT WET OBSERVED AT 1701011729. 1701011729-1701021729\n",
    "\n",
    "Chart\n",
    "!FDC 6/9742 ATL CHART HARTSFIELD - JACKSON ATLANTA INTL, ATLANTA, GA.PECHY ONE ARRIVAL (RNAV) (STRWY.PECHY1) ...CORRECT ARRIVAL ROUTE DESCRIPTION: CHANGE PORTION OF LANDING RWYS8R/L TO READ '...\n",
    "\n",
    "Navaid\n",
    "!ATL 01/016 ATL NAV ILS RWY 09R LOC OUT OF SERVICE 1701031457-1701031650\n",
    "\n",
    "Services\n",
    "!ATL 01/034 ATL RWY 26L RVRT OUT OF SERVICE 1701051513-1701051800\n",
    "\n",
    "Obstruction\n",
    "!ATL 08/245 ATL OBST CRANE (ASN UNKNOWN) 333849N0842326W (.85NM NE APCH END RWY 26L) 1004FT (120FT AGL) FLAGGED AND LGTD DLY 1200-2000 1708211200-1708242000"
   ],
   "metadata": {
    "collapsed": false,
    "pycharm": {
     "name": "#%% md\n"
    }
   }
  },
  {
   "cell_type": "markdown",
   "source": [
    "# NOTAM Text Filtering\n",
    "\n",
    "The NOTAM structure makes it, that on the fourth position we find the Category of the NOTAM and on fifth the Text. We extract these by simply splitting the text by space.\n",
    "Afterwards, NOTAM Text columns are dropped"
   ],
   "metadata": {
    "collapsed": false
   }
  },
  {
   "cell_type": "code",
   "execution_count": 55,
   "outputs": [
    {
     "data": {
      "text/plain": "      Location NOTAM #        Class Issue Date (UTC) Cancel Date (UTC)  \\\n1          ATL  6/4595    Procedure  12/22/2016 2135               NaN   \n2          ATL  6/4598    Procedure  12/22/2016 2135               NaN   \n3          ATL  6/4601    Procedure  12/22/2016 2135               NaN   \n4          ATL  6/4603    Procedure  12/22/2016 2136               NaN   \n5          ATL  6/4604    Procedure  12/22/2016 2138               NaN   \n...        ...     ...          ...              ...               ...   \n16158      ATL  11/142  Obstruction  11/16/2017 1500   02/23/2018 1644   \n16159      ATL  7/5192    Procedure  10/16/2017 1355               NaN   \n16160      ATL  12/231  Obstruction  12/18/2017 1317   01/17/2018 0703   \n16161      ATL  12/308    Aerodrome  12/28/2017 2301   01/03/2018 0619   \n16162      ATL  12/304    Aerodrome  12/27/2017 1330               NaN   \n\n      NOTAM_Effective_Date NOTAM_Effective_Time NOTAM_Expiration_Date  \\\n1               12/23/2016                 1000            08/17/2017   \n2               12/23/2016                 1000            08/17/2017   \n3               12/23/2016                 1000            08/17/2017   \n4               12/23/2016                 1000            08/17/2017   \n5               12/23/2016                 1000            08/17/2017   \n...                    ...                  ...                   ...   \n16158           11/16/2017                 1500            02/27/2018   \n16159           10/17/2017                 0500            02/01/2018   \n16160           12/18/2017                 1316            01/17/2018   \n16161           12/28/2017                 2301            01/12/2018   \n16162           12/27/2017                 1329            01/02/2018   \n\n      NOTAM_Expiration_Time   Category  \\\n1                      1000  CANCELLED   \n2                      1000  CANCELLED   \n3                      1000  CANCELLED   \n4                      1000  CANCELLED   \n5                      1000  CANCELLED   \n...                     ...        ...   \n16158                  2359       OBST   \n16159                  0900  CANCELLED   \n16160                  1200       OBST   \n16161                  2301         AD   \n16162                  0500         AD   \n\n                                                    Text  \n1                        BY FDC 7/3089 ON 08/17/17 10:00  \n2                        BY FDC 7/3090 ON 08/17/17 10:00  \n3                        BY FDC 7/3088 ON 08/17/17 10:00  \n4                        BY FDC 7/3091 ON 08/17/17 10:00  \n5                        BY FDC 7/3094 ON 08/17/17 10:00  \n...                                                  ...  \n16158  TOWER LGT (ASR 1022036) 334137.30N0841925.30W ...  \n16159                    BY FDC 8/4084 ON 02/01/18 09:00  \n16160  TOWER LGT (ASR 1047185) 332942.90N0842702.10W ...  \n16161        AP ABN OUT OF SERVICE 1712282301-1801122301  \n16162  AP BIRD ACT INCREASED FORMATIONS FLOCKING\\nBLA...  \n\n[14009 rows x 11 columns]",
      "text/html": "<div>\n<style scoped>\n    .dataframe tbody tr th:only-of-type {\n        vertical-align: middle;\n    }\n\n    .dataframe tbody tr th {\n        vertical-align: top;\n    }\n\n    .dataframe thead th {\n        text-align: right;\n    }\n</style>\n<table border=\"1\" class=\"dataframe\">\n  <thead>\n    <tr style=\"text-align: right;\">\n      <th></th>\n      <th>Location</th>\n      <th>NOTAM #</th>\n      <th>Class</th>\n      <th>Issue Date (UTC)</th>\n      <th>Cancel Date (UTC)</th>\n      <th>NOTAM_Effective_Date</th>\n      <th>NOTAM_Effective_Time</th>\n      <th>NOTAM_Expiration_Date</th>\n      <th>NOTAM_Expiration_Time</th>\n      <th>Category</th>\n      <th>Text</th>\n    </tr>\n  </thead>\n  <tbody>\n    <tr>\n      <th>1</th>\n      <td>ATL</td>\n      <td>6/4595</td>\n      <td>Procedure</td>\n      <td>12/22/2016 2135</td>\n      <td>NaN</td>\n      <td>12/23/2016</td>\n      <td>1000</td>\n      <td>08/17/2017</td>\n      <td>1000</td>\n      <td>CANCELLED</td>\n      <td>BY FDC 7/3089 ON 08/17/17 10:00</td>\n    </tr>\n    <tr>\n      <th>2</th>\n      <td>ATL</td>\n      <td>6/4598</td>\n      <td>Procedure</td>\n      <td>12/22/2016 2135</td>\n      <td>NaN</td>\n      <td>12/23/2016</td>\n      <td>1000</td>\n      <td>08/17/2017</td>\n      <td>1000</td>\n      <td>CANCELLED</td>\n      <td>BY FDC 7/3090 ON 08/17/17 10:00</td>\n    </tr>\n    <tr>\n      <th>3</th>\n      <td>ATL</td>\n      <td>6/4601</td>\n      <td>Procedure</td>\n      <td>12/22/2016 2135</td>\n      <td>NaN</td>\n      <td>12/23/2016</td>\n      <td>1000</td>\n      <td>08/17/2017</td>\n      <td>1000</td>\n      <td>CANCELLED</td>\n      <td>BY FDC 7/3088 ON 08/17/17 10:00</td>\n    </tr>\n    <tr>\n      <th>4</th>\n      <td>ATL</td>\n      <td>6/4603</td>\n      <td>Procedure</td>\n      <td>12/22/2016 2136</td>\n      <td>NaN</td>\n      <td>12/23/2016</td>\n      <td>1000</td>\n      <td>08/17/2017</td>\n      <td>1000</td>\n      <td>CANCELLED</td>\n      <td>BY FDC 7/3091 ON 08/17/17 10:00</td>\n    </tr>\n    <tr>\n      <th>5</th>\n      <td>ATL</td>\n      <td>6/4604</td>\n      <td>Procedure</td>\n      <td>12/22/2016 2138</td>\n      <td>NaN</td>\n      <td>12/23/2016</td>\n      <td>1000</td>\n      <td>08/17/2017</td>\n      <td>1000</td>\n      <td>CANCELLED</td>\n      <td>BY FDC 7/3094 ON 08/17/17 10:00</td>\n    </tr>\n    <tr>\n      <th>...</th>\n      <td>...</td>\n      <td>...</td>\n      <td>...</td>\n      <td>...</td>\n      <td>...</td>\n      <td>...</td>\n      <td>...</td>\n      <td>...</td>\n      <td>...</td>\n      <td>...</td>\n      <td>...</td>\n    </tr>\n    <tr>\n      <th>16158</th>\n      <td>ATL</td>\n      <td>11/142</td>\n      <td>Obstruction</td>\n      <td>11/16/2017 1500</td>\n      <td>02/23/2018 1644</td>\n      <td>11/16/2017</td>\n      <td>1500</td>\n      <td>02/27/2018</td>\n      <td>2359</td>\n      <td>OBST</td>\n      <td>TOWER LGT (ASR 1022036) 334137.30N0841925.30W ...</td>\n    </tr>\n    <tr>\n      <th>16159</th>\n      <td>ATL</td>\n      <td>7/5192</td>\n      <td>Procedure</td>\n      <td>10/16/2017 1355</td>\n      <td>NaN</td>\n      <td>10/17/2017</td>\n      <td>0500</td>\n      <td>02/01/2018</td>\n      <td>0900</td>\n      <td>CANCELLED</td>\n      <td>BY FDC 8/4084 ON 02/01/18 09:00</td>\n    </tr>\n    <tr>\n      <th>16160</th>\n      <td>ATL</td>\n      <td>12/231</td>\n      <td>Obstruction</td>\n      <td>12/18/2017 1317</td>\n      <td>01/17/2018 0703</td>\n      <td>12/18/2017</td>\n      <td>1316</td>\n      <td>01/17/2018</td>\n      <td>1200</td>\n      <td>OBST</td>\n      <td>TOWER LGT (ASR 1047185) 332942.90N0842702.10W ...</td>\n    </tr>\n    <tr>\n      <th>16161</th>\n      <td>ATL</td>\n      <td>12/308</td>\n      <td>Aerodrome</td>\n      <td>12/28/2017 2301</td>\n      <td>01/03/2018 0619</td>\n      <td>12/28/2017</td>\n      <td>2301</td>\n      <td>01/12/2018</td>\n      <td>2301</td>\n      <td>AD</td>\n      <td>AP ABN OUT OF SERVICE 1712282301-1801122301</td>\n    </tr>\n    <tr>\n      <th>16162</th>\n      <td>ATL</td>\n      <td>12/304</td>\n      <td>Aerodrome</td>\n      <td>12/27/2017 1330</td>\n      <td>NaN</td>\n      <td>12/27/2017</td>\n      <td>1329</td>\n      <td>01/02/2018</td>\n      <td>0500</td>\n      <td>AD</td>\n      <td>AP BIRD ACT INCREASED FORMATIONS FLOCKING\\nBLA...</td>\n    </tr>\n  </tbody>\n</table>\n<p>14009 rows × 11 columns</p>\n</div>"
     },
     "execution_count": 55,
     "metadata": {},
     "output_type": "execute_result"
    }
   ],
   "source": [
    "atl_notam_df[\"Category\"] = atl_notam_df[\"NOTAM Condition or LTA Subject\"].apply(lambda x: x.split(' ',4)[3])\n",
    "atl_notam_df[\"Text\"] = atl_notam_df[\"NOTAM Condition or LTA Subject\"].apply(lambda x: x.split(' ',4)[4].lstrip())\n",
    "atl_notam_df = atl_notam_df.drop(labels=[\"NOTAM Condition or LTA Subject\"], axis='columns')\n",
    "atl_notam_df"
   ],
   "metadata": {
    "collapsed": false,
    "pycharm": {
     "name": "#%%\n"
    },
    "ExecuteTime": {
     "end_time": "2025-01-06T22:45:43.618231800Z",
     "start_time": "2025-01-06T22:45:43.271164800Z"
    }
   }
  },
  {
   "cell_type": "markdown",
   "source": [
    "# Joining with runway dataset"
   ],
   "metadata": {
    "collapsed": false
   }
  },
  {
   "cell_type": "code",
   "execution_count": 56,
   "outputs": [
    {
     "data": {
      "text/plain": "       length_ft  width_ft surface  lighted  closed le_ident  le_latitude_deg  \\\n19575     9000.0     150.0     CON        1       0      08L          33.6495   \n19576    10000.0     150.0     CON        1       0      08R          33.6468   \n19577    11890.0     150.0     CON        1       0      09L          33.6347   \n19578     9001.0     150.0     CON        1       0      09R          33.6318   \n19579     9000.0     150.0     CON        1       0       10          33.6203   \n\n       le_longitude_deg  le_elevation_ft  le_heading_degT he_ident  \\\n19575          -84.4390           1015.0             90.0      26R   \n19576          -84.4384           1024.0             90.0      26L   \n19577          -84.4480           1019.0             90.0      27R   \n19578          -84.4480           1026.0             90.0      27L   \n19579          -84.4479           1000.0             90.0       28   \n\n       he_latitude_deg  he_longitude_deg  he_elevation_ft  he_heading_degT  \\\n19575          33.6495          -84.4095            990.0            270.0   \n19576          33.6468          -84.4055            995.0            270.0   \n19577          33.6347          -84.4089            978.0            270.0   \n19578          33.6318          -84.4184            985.0            270.0   \n19579          33.6203          -84.4183            998.0            270.0   \n\n         ident  \n19575  08L/26R  \n19576  08R/26L  \n19577  09L/27R  \n19578  09R/27L  \n19579    10/28  ",
      "text/html": "<div>\n<style scoped>\n    .dataframe tbody tr th:only-of-type {\n        vertical-align: middle;\n    }\n\n    .dataframe tbody tr th {\n        vertical-align: top;\n    }\n\n    .dataframe thead th {\n        text-align: right;\n    }\n</style>\n<table border=\"1\" class=\"dataframe\">\n  <thead>\n    <tr style=\"text-align: right;\">\n      <th></th>\n      <th>length_ft</th>\n      <th>width_ft</th>\n      <th>surface</th>\n      <th>lighted</th>\n      <th>closed</th>\n      <th>le_ident</th>\n      <th>le_latitude_deg</th>\n      <th>le_longitude_deg</th>\n      <th>le_elevation_ft</th>\n      <th>le_heading_degT</th>\n      <th>he_ident</th>\n      <th>he_latitude_deg</th>\n      <th>he_longitude_deg</th>\n      <th>he_elevation_ft</th>\n      <th>he_heading_degT</th>\n      <th>ident</th>\n    </tr>\n  </thead>\n  <tbody>\n    <tr>\n      <th>19575</th>\n      <td>9000.0</td>\n      <td>150.0</td>\n      <td>CON</td>\n      <td>1</td>\n      <td>0</td>\n      <td>08L</td>\n      <td>33.6495</td>\n      <td>-84.4390</td>\n      <td>1015.0</td>\n      <td>90.0</td>\n      <td>26R</td>\n      <td>33.6495</td>\n      <td>-84.4095</td>\n      <td>990.0</td>\n      <td>270.0</td>\n      <td>08L/26R</td>\n    </tr>\n    <tr>\n      <th>19576</th>\n      <td>10000.0</td>\n      <td>150.0</td>\n      <td>CON</td>\n      <td>1</td>\n      <td>0</td>\n      <td>08R</td>\n      <td>33.6468</td>\n      <td>-84.4384</td>\n      <td>1024.0</td>\n      <td>90.0</td>\n      <td>26L</td>\n      <td>33.6468</td>\n      <td>-84.4055</td>\n      <td>995.0</td>\n      <td>270.0</td>\n      <td>08R/26L</td>\n    </tr>\n    <tr>\n      <th>19577</th>\n      <td>11890.0</td>\n      <td>150.0</td>\n      <td>CON</td>\n      <td>1</td>\n      <td>0</td>\n      <td>09L</td>\n      <td>33.6347</td>\n      <td>-84.4480</td>\n      <td>1019.0</td>\n      <td>90.0</td>\n      <td>27R</td>\n      <td>33.6347</td>\n      <td>-84.4089</td>\n      <td>978.0</td>\n      <td>270.0</td>\n      <td>09L/27R</td>\n    </tr>\n    <tr>\n      <th>19578</th>\n      <td>9001.0</td>\n      <td>150.0</td>\n      <td>CON</td>\n      <td>1</td>\n      <td>0</td>\n      <td>09R</td>\n      <td>33.6318</td>\n      <td>-84.4480</td>\n      <td>1026.0</td>\n      <td>90.0</td>\n      <td>27L</td>\n      <td>33.6318</td>\n      <td>-84.4184</td>\n      <td>985.0</td>\n      <td>270.0</td>\n      <td>09R/27L</td>\n    </tr>\n    <tr>\n      <th>19579</th>\n      <td>9000.0</td>\n      <td>150.0</td>\n      <td>CON</td>\n      <td>1</td>\n      <td>0</td>\n      <td>10</td>\n      <td>33.6203</td>\n      <td>-84.4479</td>\n      <td>1000.0</td>\n      <td>90.0</td>\n      <td>28</td>\n      <td>33.6203</td>\n      <td>-84.4183</td>\n      <td>998.0</td>\n      <td>270.0</td>\n      <td>10/28</td>\n    </tr>\n  </tbody>\n</table>\n</div>"
     },
     "execution_count": 56,
     "metadata": {},
     "output_type": "execute_result"
    }
   ],
   "source": [
    "atl_runways_df = pd.read_pickle(os.path.join(OUTPUT_FOLDER, \"03_runways.pkl\"))\n",
    "atl_runways_df"
   ],
   "metadata": {
    "collapsed": false,
    "pycharm": {
     "name": "#%%\n"
    },
    "ExecuteTime": {
     "end_time": "2025-01-06T22:45:43.620231500Z",
     "start_time": "2025-01-06T22:45:43.348120900Z"
    }
   }
  },
  {
   "cell_type": "code",
   "execution_count": 57,
   "outputs": [
    {
     "data": {
      "text/plain": "['08L', '08R', '09L', '09R', '10', '26R', '26L', '27R', '27L', '28']"
     },
     "execution_count": 57,
     "metadata": {},
     "output_type": "execute_result"
    }
   ],
   "source": [
    "runways = list(atl_runways_df[\"le_ident\"]) + list(atl_runways_df[\"he_ident\"])\n",
    "runways"
   ],
   "metadata": {
    "collapsed": false,
    "pycharm": {
     "name": "#%%\n"
    },
    "ExecuteTime": {
     "end_time": "2025-01-06T22:45:43.621231100Z",
     "start_time": "2025-01-06T22:45:43.380102400Z"
    }
   }
  },
  {
   "cell_type": "code",
   "execution_count": 58,
   "outputs": [
    {
     "data": {
      "text/plain": "['08L ', '08R ', '09L ', '09R ', '10 ', '26R ', '26L ', '27R ', '27L ', '28 ']"
     },
     "execution_count": 58,
     "metadata": {},
     "output_type": "execute_result"
    }
   ],
   "source": [
    "runways = [s + ' ' for s in runways]\n",
    "runways"
   ],
   "metadata": {
    "collapsed": false,
    "pycharm": {
     "name": "#%%\n"
    },
    "ExecuteTime": {
     "end_time": "2025-01-06T22:45:43.667202900Z",
     "start_time": "2025-01-06T22:45:43.396093300Z"
    }
   }
  },
  {
   "cell_type": "markdown",
   "source": [
    "The following cell shows the filtering of NOTAM data to only show NOTAM entries concerning one of our runways. \n",
    "This allows to map a given scenario for a given runway."
   ],
   "metadata": {
    "collapsed": false
   }
  },
  {
   "cell_type": "code",
   "execution_count": 59,
   "outputs": [
    {
     "data": {
      "text/plain": "      Location NOTAM #      Class Issue Date (UTC) Cancel Date (UTC)  \\\n9          ATL  6/2007  Procedure  09/14/2016 2042   06/29/2017 1246   \n10         ATL  6/2008  Procedure  09/14/2016 2042   06/29/2017 1246   \n21         ATL  12/141  Aerodrome  12/20/2016 0919   01/21/2017 0833   \n22         ATL  12/140  Aerodrome  12/20/2016 0918   01/21/2017 0833   \n28         ATL  01/007  Aerodrome  01/01/2017 1729               NaN   \n...        ...     ...        ...              ...               ...   \n16133      ATL  12/307     Navaid  12/28/2017 0954   12/28/2017 1021   \n16134      ATL  12/306     Navaid  12/28/2017 0953   12/28/2017 1020   \n16144      ATL  12/309     Navaid  12/29/2017 1115   12/30/2017 1023   \n16145      ATL  12/289  Aerodrome  12/25/2017 1342   12/29/2017 0102   \n16154      ATL  12/309     Navaid  12/29/2017 1115   12/30/2017 1023   \n\n      NOTAM_Effective_Date NOTAM_Effective_Time NOTAM_Expiration_Date  \\\n9               09/15/2016                 0901            09/15/2017   \n10              09/15/2016                 0901            09/15/2017   \n21              12/20/2016                 0919            01/30/2017   \n22              12/20/2016                 0918            01/30/2017   \n28              01/01/2017                 1729            01/02/2017   \n...                    ...                  ...                   ...   \n16133           12/28/2017                 0954            12/28/2017   \n16134           12/28/2017                 0953            12/28/2017   \n16144           12/29/2017                 1115            01/02/2018   \n16145           12/25/2017                 1342            01/02/2018   \n16154           12/29/2017                 1115            01/02/2018   \n\n      NOTAM_Expiration_Time Category  \\\n9                      0900     STAR   \n10                     0900     STAR   \n21                     1130      RWY   \n22                     1130      RWY   \n28                     1729      RWY   \n...                     ...      ...   \n16133                  1700      NAV   \n16134                  1700      NAV   \n16144               2000EST      NAV   \n16145               2359EST      RWY   \n16154               2000EST      NAV   \n\n                                                    Text  \n9      HARTSFIELD-JACKSON ATLANTA INTL, ATLANTA, GA.K...  \n10     HARTSFIELD-JACKSON ATLANTA INTL, ATLANTA, GA.R...  \n21     27R 5000FT DIST REMAINING SIGN MISSING 1612200...  \n22     09L 7000FT DIST REMAINING SIGN MISSING 1612200...  \n28     09R FICON 5/5/5 100 PRCT WET OBSERVED AT 17010...  \n...                                                  ...  \n16133        ILS RWY 08R CAT II NA 1712280954-1712281700  \n16134    ILS RWY 08L CAT II/III NA 1712280953-1712281700  \n16144    ILS RWY 26L MM NOT MNT 1712291115-1801022000EST  \n16145           08L ALS NOT MNT 1712251342-1801022359EST  \n16154    ILS RWY 26L MM NOT MNT 1712291115-1801022000EST  \n\n[4424 rows x 11 columns]",
      "text/html": "<div>\n<style scoped>\n    .dataframe tbody tr th:only-of-type {\n        vertical-align: middle;\n    }\n\n    .dataframe tbody tr th {\n        vertical-align: top;\n    }\n\n    .dataframe thead th {\n        text-align: right;\n    }\n</style>\n<table border=\"1\" class=\"dataframe\">\n  <thead>\n    <tr style=\"text-align: right;\">\n      <th></th>\n      <th>Location</th>\n      <th>NOTAM #</th>\n      <th>Class</th>\n      <th>Issue Date (UTC)</th>\n      <th>Cancel Date (UTC)</th>\n      <th>NOTAM_Effective_Date</th>\n      <th>NOTAM_Effective_Time</th>\n      <th>NOTAM_Expiration_Date</th>\n      <th>NOTAM_Expiration_Time</th>\n      <th>Category</th>\n      <th>Text</th>\n    </tr>\n  </thead>\n  <tbody>\n    <tr>\n      <th>9</th>\n      <td>ATL</td>\n      <td>6/2007</td>\n      <td>Procedure</td>\n      <td>09/14/2016 2042</td>\n      <td>06/29/2017 1246</td>\n      <td>09/15/2016</td>\n      <td>0901</td>\n      <td>09/15/2017</td>\n      <td>0900</td>\n      <td>STAR</td>\n      <td>HARTSFIELD-JACKSON ATLANTA INTL, ATLANTA, GA.K...</td>\n    </tr>\n    <tr>\n      <th>10</th>\n      <td>ATL</td>\n      <td>6/2008</td>\n      <td>Procedure</td>\n      <td>09/14/2016 2042</td>\n      <td>06/29/2017 1246</td>\n      <td>09/15/2016</td>\n      <td>0901</td>\n      <td>09/15/2017</td>\n      <td>0900</td>\n      <td>STAR</td>\n      <td>HARTSFIELD-JACKSON ATLANTA INTL, ATLANTA, GA.R...</td>\n    </tr>\n    <tr>\n      <th>21</th>\n      <td>ATL</td>\n      <td>12/141</td>\n      <td>Aerodrome</td>\n      <td>12/20/2016 0919</td>\n      <td>01/21/2017 0833</td>\n      <td>12/20/2016</td>\n      <td>0919</td>\n      <td>01/30/2017</td>\n      <td>1130</td>\n      <td>RWY</td>\n      <td>27R 5000FT DIST REMAINING SIGN MISSING 1612200...</td>\n    </tr>\n    <tr>\n      <th>22</th>\n      <td>ATL</td>\n      <td>12/140</td>\n      <td>Aerodrome</td>\n      <td>12/20/2016 0918</td>\n      <td>01/21/2017 0833</td>\n      <td>12/20/2016</td>\n      <td>0918</td>\n      <td>01/30/2017</td>\n      <td>1130</td>\n      <td>RWY</td>\n      <td>09L 7000FT DIST REMAINING SIGN MISSING 1612200...</td>\n    </tr>\n    <tr>\n      <th>28</th>\n      <td>ATL</td>\n      <td>01/007</td>\n      <td>Aerodrome</td>\n      <td>01/01/2017 1729</td>\n      <td>NaN</td>\n      <td>01/01/2017</td>\n      <td>1729</td>\n      <td>01/02/2017</td>\n      <td>1729</td>\n      <td>RWY</td>\n      <td>09R FICON 5/5/5 100 PRCT WET OBSERVED AT 17010...</td>\n    </tr>\n    <tr>\n      <th>...</th>\n      <td>...</td>\n      <td>...</td>\n      <td>...</td>\n      <td>...</td>\n      <td>...</td>\n      <td>...</td>\n      <td>...</td>\n      <td>...</td>\n      <td>...</td>\n      <td>...</td>\n      <td>...</td>\n    </tr>\n    <tr>\n      <th>16133</th>\n      <td>ATL</td>\n      <td>12/307</td>\n      <td>Navaid</td>\n      <td>12/28/2017 0954</td>\n      <td>12/28/2017 1021</td>\n      <td>12/28/2017</td>\n      <td>0954</td>\n      <td>12/28/2017</td>\n      <td>1700</td>\n      <td>NAV</td>\n      <td>ILS RWY 08R CAT II NA 1712280954-1712281700</td>\n    </tr>\n    <tr>\n      <th>16134</th>\n      <td>ATL</td>\n      <td>12/306</td>\n      <td>Navaid</td>\n      <td>12/28/2017 0953</td>\n      <td>12/28/2017 1020</td>\n      <td>12/28/2017</td>\n      <td>0953</td>\n      <td>12/28/2017</td>\n      <td>1700</td>\n      <td>NAV</td>\n      <td>ILS RWY 08L CAT II/III NA 1712280953-1712281700</td>\n    </tr>\n    <tr>\n      <th>16144</th>\n      <td>ATL</td>\n      <td>12/309</td>\n      <td>Navaid</td>\n      <td>12/29/2017 1115</td>\n      <td>12/30/2017 1023</td>\n      <td>12/29/2017</td>\n      <td>1115</td>\n      <td>01/02/2018</td>\n      <td>2000EST</td>\n      <td>NAV</td>\n      <td>ILS RWY 26L MM NOT MNT 1712291115-1801022000EST</td>\n    </tr>\n    <tr>\n      <th>16145</th>\n      <td>ATL</td>\n      <td>12/289</td>\n      <td>Aerodrome</td>\n      <td>12/25/2017 1342</td>\n      <td>12/29/2017 0102</td>\n      <td>12/25/2017</td>\n      <td>1342</td>\n      <td>01/02/2018</td>\n      <td>2359EST</td>\n      <td>RWY</td>\n      <td>08L ALS NOT MNT 1712251342-1801022359EST</td>\n    </tr>\n    <tr>\n      <th>16154</th>\n      <td>ATL</td>\n      <td>12/309</td>\n      <td>Navaid</td>\n      <td>12/29/2017 1115</td>\n      <td>12/30/2017 1023</td>\n      <td>12/29/2017</td>\n      <td>1115</td>\n      <td>01/02/2018</td>\n      <td>2000EST</td>\n      <td>NAV</td>\n      <td>ILS RWY 26L MM NOT MNT 1712291115-1801022000EST</td>\n    </tr>\n  </tbody>\n</table>\n<p>4424 rows × 11 columns</p>\n</div>"
     },
     "execution_count": 59,
     "metadata": {},
     "output_type": "execute_result"
    }
   ],
   "source": [
    "filtered_df = atl_notam_df[[True if any(runway in text for runway in runways) else False for text in atl_notam_df[\"Text\"]]]\n",
    "filtered_df"
   ],
   "metadata": {
    "collapsed": false,
    "pycharm": {
     "name": "#%%\n"
    },
    "ExecuteTime": {
     "end_time": "2025-01-06T22:45:43.779139600Z",
     "start_time": "2025-01-06T22:45:43.413083900Z"
    }
   }
  },
  {
   "cell_type": "markdown",
   "source": [
    "# Filtering for Keywords\n",
    "\n",
    "We are interested in closed (CLSD) Runways, bad field conditions (FICON) and out of service components of the runway. \n",
    "The assumption is, that a notam is not sent, when everything works as intended, but leads to worse runway performance. \n",
    "\n",
    "NAV keywords might also indicate that some communication technologies are not functioning. However, these are also covered by Out of Service calls for runways. "
   ],
   "metadata": {
    "collapsed": false
   }
  },
  {
   "cell_type": "code",
   "execution_count": 60,
   "outputs": [
    {
     "data": {
      "text/plain": "      Location NOTAM #      Class Issue Date (UTC) Cancel Date (UTC)  \\\n28         ATL  01/007  Aerodrome  01/01/2017 1729               NaN   \n29         ATL  01/006  Aerodrome  01/01/2017 1728               NaN   \n30         ATL  01/005  Aerodrome  01/01/2017 1727               NaN   \n31         ATL  01/004  Aerodrome  01/01/2017 1725               NaN   \n32         ATL  01/003  Aerodrome  01/01/2017 1722               NaN   \n...        ...     ...        ...              ...               ...   \n16115      ATL  12/297  Aerodrome  12/27/2017 0601   12/27/2017 0717   \n16127      ATL  12/294   Services  12/27/2017 0357   12/28/2017 1846   \n16128      ATL  12/293   Services  12/27/2017 0355   12/28/2017 1846   \n16130      ATL  12/292   Services  12/27/2017 0353   12/28/2017 1846   \n16131      ATL  12/295   Services  12/27/2017 0358   12/28/2017 1846   \n\n      NOTAM_Effective_Date NOTAM_Effective_Time NOTAM_Expiration_Date  \\\n28              01/01/2017                 1729            01/02/2017   \n29              01/01/2017                 1728            01/02/2017   \n30              01/01/2017                 1726            01/02/2017   \n31              01/01/2017                 1725            01/02/2017   \n32              01/01/2017                 1722            01/02/2017   \n...                    ...                  ...                   ...   \n16115           12/27/2017                 0601            12/27/2017   \n16127           12/27/2017                 0356            12/28/2017   \n16128           12/27/2017                 0355            12/28/2017   \n16130           12/27/2017                 0353            12/28/2017   \n16131           12/27/2017                 0358            12/28/2017   \n\n      NOTAM_Expiration_Time Category  \\\n28                     1729      RWY   \n29                     1728      RWY   \n30                     1726      RWY   \n31                     1725      RWY   \n32                     1722      RWY   \n...                     ...      ...   \n16115                  0800      RWY   \n16127                  2359      RWY   \n16128                  2359      RWY   \n16130                  2359      RWY   \n16131                  2359      RWY   \n\n                                                    Text  \n28     09R FICON 5/5/5 100 PRCT WET OBSERVED AT 17010...  \n29     09L FICON 5/5/5 100 PRCT WET OBSERVED AT 17010...  \n30     08R FICON 5/5/5 100 PRCT WET OBSERVED AT 17010...  \n31     08L FICON 5/5/5 100 PRCT WET OBSERVED AT 17010...  \n32     10 FICON 5/5/5 100 PRCT WET OBSERVED AT 170101...  \n...                                                  ...  \n16115                 08L/26R CLSD 1712270601-1712270800  \n16127      08L RVRR OUT OF SERVICE 1712270356-1712282359  \n16128      26L RVRT OUT OF SERVICE 1712270355-1712282359  \n16130      26R RVRT OUT OF SERVICE 1712270353-1712282359  \n16131      08R RVRR OUT OF SERVICE 1712270358-1712282359  \n\n[3568 rows x 11 columns]",
      "text/html": "<div>\n<style scoped>\n    .dataframe tbody tr th:only-of-type {\n        vertical-align: middle;\n    }\n\n    .dataframe tbody tr th {\n        vertical-align: top;\n    }\n\n    .dataframe thead th {\n        text-align: right;\n    }\n</style>\n<table border=\"1\" class=\"dataframe\">\n  <thead>\n    <tr style=\"text-align: right;\">\n      <th></th>\n      <th>Location</th>\n      <th>NOTAM #</th>\n      <th>Class</th>\n      <th>Issue Date (UTC)</th>\n      <th>Cancel Date (UTC)</th>\n      <th>NOTAM_Effective_Date</th>\n      <th>NOTAM_Effective_Time</th>\n      <th>NOTAM_Expiration_Date</th>\n      <th>NOTAM_Expiration_Time</th>\n      <th>Category</th>\n      <th>Text</th>\n    </tr>\n  </thead>\n  <tbody>\n    <tr>\n      <th>28</th>\n      <td>ATL</td>\n      <td>01/007</td>\n      <td>Aerodrome</td>\n      <td>01/01/2017 1729</td>\n      <td>NaN</td>\n      <td>01/01/2017</td>\n      <td>1729</td>\n      <td>01/02/2017</td>\n      <td>1729</td>\n      <td>RWY</td>\n      <td>09R FICON 5/5/5 100 PRCT WET OBSERVED AT 17010...</td>\n    </tr>\n    <tr>\n      <th>29</th>\n      <td>ATL</td>\n      <td>01/006</td>\n      <td>Aerodrome</td>\n      <td>01/01/2017 1728</td>\n      <td>NaN</td>\n      <td>01/01/2017</td>\n      <td>1728</td>\n      <td>01/02/2017</td>\n      <td>1728</td>\n      <td>RWY</td>\n      <td>09L FICON 5/5/5 100 PRCT WET OBSERVED AT 17010...</td>\n    </tr>\n    <tr>\n      <th>30</th>\n      <td>ATL</td>\n      <td>01/005</td>\n      <td>Aerodrome</td>\n      <td>01/01/2017 1727</td>\n      <td>NaN</td>\n      <td>01/01/2017</td>\n      <td>1726</td>\n      <td>01/02/2017</td>\n      <td>1726</td>\n      <td>RWY</td>\n      <td>08R FICON 5/5/5 100 PRCT WET OBSERVED AT 17010...</td>\n    </tr>\n    <tr>\n      <th>31</th>\n      <td>ATL</td>\n      <td>01/004</td>\n      <td>Aerodrome</td>\n      <td>01/01/2017 1725</td>\n      <td>NaN</td>\n      <td>01/01/2017</td>\n      <td>1725</td>\n      <td>01/02/2017</td>\n      <td>1725</td>\n      <td>RWY</td>\n      <td>08L FICON 5/5/5 100 PRCT WET OBSERVED AT 17010...</td>\n    </tr>\n    <tr>\n      <th>32</th>\n      <td>ATL</td>\n      <td>01/003</td>\n      <td>Aerodrome</td>\n      <td>01/01/2017 1722</td>\n      <td>NaN</td>\n      <td>01/01/2017</td>\n      <td>1722</td>\n      <td>01/02/2017</td>\n      <td>1722</td>\n      <td>RWY</td>\n      <td>10 FICON 5/5/5 100 PRCT WET OBSERVED AT 170101...</td>\n    </tr>\n    <tr>\n      <th>...</th>\n      <td>...</td>\n      <td>...</td>\n      <td>...</td>\n      <td>...</td>\n      <td>...</td>\n      <td>...</td>\n      <td>...</td>\n      <td>...</td>\n      <td>...</td>\n      <td>...</td>\n      <td>...</td>\n    </tr>\n    <tr>\n      <th>16115</th>\n      <td>ATL</td>\n      <td>12/297</td>\n      <td>Aerodrome</td>\n      <td>12/27/2017 0601</td>\n      <td>12/27/2017 0717</td>\n      <td>12/27/2017</td>\n      <td>0601</td>\n      <td>12/27/2017</td>\n      <td>0800</td>\n      <td>RWY</td>\n      <td>08L/26R CLSD 1712270601-1712270800</td>\n    </tr>\n    <tr>\n      <th>16127</th>\n      <td>ATL</td>\n      <td>12/294</td>\n      <td>Services</td>\n      <td>12/27/2017 0357</td>\n      <td>12/28/2017 1846</td>\n      <td>12/27/2017</td>\n      <td>0356</td>\n      <td>12/28/2017</td>\n      <td>2359</td>\n      <td>RWY</td>\n      <td>08L RVRR OUT OF SERVICE 1712270356-1712282359</td>\n    </tr>\n    <tr>\n      <th>16128</th>\n      <td>ATL</td>\n      <td>12/293</td>\n      <td>Services</td>\n      <td>12/27/2017 0355</td>\n      <td>12/28/2017 1846</td>\n      <td>12/27/2017</td>\n      <td>0355</td>\n      <td>12/28/2017</td>\n      <td>2359</td>\n      <td>RWY</td>\n      <td>26L RVRT OUT OF SERVICE 1712270355-1712282359</td>\n    </tr>\n    <tr>\n      <th>16130</th>\n      <td>ATL</td>\n      <td>12/292</td>\n      <td>Services</td>\n      <td>12/27/2017 0353</td>\n      <td>12/28/2017 1846</td>\n      <td>12/27/2017</td>\n      <td>0353</td>\n      <td>12/28/2017</td>\n      <td>2359</td>\n      <td>RWY</td>\n      <td>26R RVRT OUT OF SERVICE 1712270353-1712282359</td>\n    </tr>\n    <tr>\n      <th>16131</th>\n      <td>ATL</td>\n      <td>12/295</td>\n      <td>Services</td>\n      <td>12/27/2017 0358</td>\n      <td>12/28/2017 1846</td>\n      <td>12/27/2017</td>\n      <td>0358</td>\n      <td>12/28/2017</td>\n      <td>2359</td>\n      <td>RWY</td>\n      <td>08R RVRR OUT OF SERVICE 1712270358-1712282359</td>\n    </tr>\n  </tbody>\n</table>\n<p>3568 rows × 11 columns</p>\n</div>"
     },
     "execution_count": 60,
     "metadata": {},
     "output_type": "execute_result"
    }
   ],
   "source": [
    "filterwords = ['FICON', 'OUT OF SERVICE', 'CLSD']\n",
    "filtered_df = filtered_df[[True if any(f in text for f in filterwords) else False for text in filtered_df[\"Text\"]]]\n",
    "filtered_df"
   ],
   "metadata": {
    "collapsed": false,
    "pycharm": {
     "name": "#%%\n"
    },
    "ExecuteTime": {
     "end_time": "2025-01-06T22:45:43.813119500Z",
     "start_time": "2025-01-06T22:45:43.519288500Z"
    }
   }
  },
  {
   "cell_type": "code",
   "execution_count": 61,
   "outputs": [
    {
     "name": "stderr",
     "output_type": "stream",
     "text": [
      "C:\\Users\\chrig\\AppData\\Local\\Temp\\ipykernel_23688\\2329623378.py:1: SettingWithCopyWarning: \n",
      "A value is trying to be set on a copy of a slice from a DataFrame.\n",
      "Try using .loc[row_indexer,col_indexer] = value instead\n",
      "\n",
      "See the caveats in the documentation: https://pandas.pydata.org/pandas-docs/stable/user_guide/indexing.html#returning-a-view-versus-a-copy\n",
      "  filtered_df[\"Runway_ident\"] = filtered_df[\"Text\"].apply(lambda x: x.split(' ',1)[0].lstrip())\n"
     ]
    },
    {
     "data": {
      "text/plain": "      Location NOTAM #      Class Issue Date (UTC) Cancel Date (UTC)  \\\n28         ATL  01/007  Aerodrome  01/01/2017 1729               NaN   \n29         ATL  01/006  Aerodrome  01/01/2017 1728               NaN   \n30         ATL  01/005  Aerodrome  01/01/2017 1727               NaN   \n31         ATL  01/004  Aerodrome  01/01/2017 1725               NaN   \n32         ATL  01/003  Aerodrome  01/01/2017 1722               NaN   \n...        ...     ...        ...              ...               ...   \n16115      ATL  12/297  Aerodrome  12/27/2017 0601   12/27/2017 0717   \n16127      ATL  12/294   Services  12/27/2017 0357   12/28/2017 1846   \n16128      ATL  12/293   Services  12/27/2017 0355   12/28/2017 1846   \n16130      ATL  12/292   Services  12/27/2017 0353   12/28/2017 1846   \n16131      ATL  12/295   Services  12/27/2017 0358   12/28/2017 1846   \n\n      NOTAM_Effective_Date NOTAM_Effective_Time NOTAM_Expiration_Date  \\\n28              01/01/2017                 1729            01/02/2017   \n29              01/01/2017                 1728            01/02/2017   \n30              01/01/2017                 1726            01/02/2017   \n31              01/01/2017                 1725            01/02/2017   \n32              01/01/2017                 1722            01/02/2017   \n...                    ...                  ...                   ...   \n16115           12/27/2017                 0601            12/27/2017   \n16127           12/27/2017                 0356            12/28/2017   \n16128           12/27/2017                 0355            12/28/2017   \n16130           12/27/2017                 0353            12/28/2017   \n16131           12/27/2017                 0358            12/28/2017   \n\n      NOTAM_Expiration_Time Category  \\\n28                     1729      RWY   \n29                     1728      RWY   \n30                     1726      RWY   \n31                     1725      RWY   \n32                     1722      RWY   \n...                     ...      ...   \n16115                  0800      RWY   \n16127                  2359      RWY   \n16128                  2359      RWY   \n16130                  2359      RWY   \n16131                  2359      RWY   \n\n                                                    Text Runway_ident  \n28     09R FICON 5/5/5 100 PRCT WET OBSERVED AT 17010...          09R  \n29     09L FICON 5/5/5 100 PRCT WET OBSERVED AT 17010...          09L  \n30     08R FICON 5/5/5 100 PRCT WET OBSERVED AT 17010...          08R  \n31     08L FICON 5/5/5 100 PRCT WET OBSERVED AT 17010...          08L  \n32     10 FICON 5/5/5 100 PRCT WET OBSERVED AT 170101...           10  \n...                                                  ...          ...  \n16115                 08L/26R CLSD 1712270601-1712270800      08L/26R  \n16127      08L RVRR OUT OF SERVICE 1712270356-1712282359          08L  \n16128      26L RVRT OUT OF SERVICE 1712270355-1712282359          26L  \n16130      26R RVRT OUT OF SERVICE 1712270353-1712282359          26R  \n16131      08R RVRR OUT OF SERVICE 1712270358-1712282359          08R  \n\n[3568 rows x 12 columns]",
      "text/html": "<div>\n<style scoped>\n    .dataframe tbody tr th:only-of-type {\n        vertical-align: middle;\n    }\n\n    .dataframe tbody tr th {\n        vertical-align: top;\n    }\n\n    .dataframe thead th {\n        text-align: right;\n    }\n</style>\n<table border=\"1\" class=\"dataframe\">\n  <thead>\n    <tr style=\"text-align: right;\">\n      <th></th>\n      <th>Location</th>\n      <th>NOTAM #</th>\n      <th>Class</th>\n      <th>Issue Date (UTC)</th>\n      <th>Cancel Date (UTC)</th>\n      <th>NOTAM_Effective_Date</th>\n      <th>NOTAM_Effective_Time</th>\n      <th>NOTAM_Expiration_Date</th>\n      <th>NOTAM_Expiration_Time</th>\n      <th>Category</th>\n      <th>Text</th>\n      <th>Runway_ident</th>\n    </tr>\n  </thead>\n  <tbody>\n    <tr>\n      <th>28</th>\n      <td>ATL</td>\n      <td>01/007</td>\n      <td>Aerodrome</td>\n      <td>01/01/2017 1729</td>\n      <td>NaN</td>\n      <td>01/01/2017</td>\n      <td>1729</td>\n      <td>01/02/2017</td>\n      <td>1729</td>\n      <td>RWY</td>\n      <td>09R FICON 5/5/5 100 PRCT WET OBSERVED AT 17010...</td>\n      <td>09R</td>\n    </tr>\n    <tr>\n      <th>29</th>\n      <td>ATL</td>\n      <td>01/006</td>\n      <td>Aerodrome</td>\n      <td>01/01/2017 1728</td>\n      <td>NaN</td>\n      <td>01/01/2017</td>\n      <td>1728</td>\n      <td>01/02/2017</td>\n      <td>1728</td>\n      <td>RWY</td>\n      <td>09L FICON 5/5/5 100 PRCT WET OBSERVED AT 17010...</td>\n      <td>09L</td>\n    </tr>\n    <tr>\n      <th>30</th>\n      <td>ATL</td>\n      <td>01/005</td>\n      <td>Aerodrome</td>\n      <td>01/01/2017 1727</td>\n      <td>NaN</td>\n      <td>01/01/2017</td>\n      <td>1726</td>\n      <td>01/02/2017</td>\n      <td>1726</td>\n      <td>RWY</td>\n      <td>08R FICON 5/5/5 100 PRCT WET OBSERVED AT 17010...</td>\n      <td>08R</td>\n    </tr>\n    <tr>\n      <th>31</th>\n      <td>ATL</td>\n      <td>01/004</td>\n      <td>Aerodrome</td>\n      <td>01/01/2017 1725</td>\n      <td>NaN</td>\n      <td>01/01/2017</td>\n      <td>1725</td>\n      <td>01/02/2017</td>\n      <td>1725</td>\n      <td>RWY</td>\n      <td>08L FICON 5/5/5 100 PRCT WET OBSERVED AT 17010...</td>\n      <td>08L</td>\n    </tr>\n    <tr>\n      <th>32</th>\n      <td>ATL</td>\n      <td>01/003</td>\n      <td>Aerodrome</td>\n      <td>01/01/2017 1722</td>\n      <td>NaN</td>\n      <td>01/01/2017</td>\n      <td>1722</td>\n      <td>01/02/2017</td>\n      <td>1722</td>\n      <td>RWY</td>\n      <td>10 FICON 5/5/5 100 PRCT WET OBSERVED AT 170101...</td>\n      <td>10</td>\n    </tr>\n    <tr>\n      <th>...</th>\n      <td>...</td>\n      <td>...</td>\n      <td>...</td>\n      <td>...</td>\n      <td>...</td>\n      <td>...</td>\n      <td>...</td>\n      <td>...</td>\n      <td>...</td>\n      <td>...</td>\n      <td>...</td>\n      <td>...</td>\n    </tr>\n    <tr>\n      <th>16115</th>\n      <td>ATL</td>\n      <td>12/297</td>\n      <td>Aerodrome</td>\n      <td>12/27/2017 0601</td>\n      <td>12/27/2017 0717</td>\n      <td>12/27/2017</td>\n      <td>0601</td>\n      <td>12/27/2017</td>\n      <td>0800</td>\n      <td>RWY</td>\n      <td>08L/26R CLSD 1712270601-1712270800</td>\n      <td>08L/26R</td>\n    </tr>\n    <tr>\n      <th>16127</th>\n      <td>ATL</td>\n      <td>12/294</td>\n      <td>Services</td>\n      <td>12/27/2017 0357</td>\n      <td>12/28/2017 1846</td>\n      <td>12/27/2017</td>\n      <td>0356</td>\n      <td>12/28/2017</td>\n      <td>2359</td>\n      <td>RWY</td>\n      <td>08L RVRR OUT OF SERVICE 1712270356-1712282359</td>\n      <td>08L</td>\n    </tr>\n    <tr>\n      <th>16128</th>\n      <td>ATL</td>\n      <td>12/293</td>\n      <td>Services</td>\n      <td>12/27/2017 0355</td>\n      <td>12/28/2017 1846</td>\n      <td>12/27/2017</td>\n      <td>0355</td>\n      <td>12/28/2017</td>\n      <td>2359</td>\n      <td>RWY</td>\n      <td>26L RVRT OUT OF SERVICE 1712270355-1712282359</td>\n      <td>26L</td>\n    </tr>\n    <tr>\n      <th>16130</th>\n      <td>ATL</td>\n      <td>12/292</td>\n      <td>Services</td>\n      <td>12/27/2017 0353</td>\n      <td>12/28/2017 1846</td>\n      <td>12/27/2017</td>\n      <td>0353</td>\n      <td>12/28/2017</td>\n      <td>2359</td>\n      <td>RWY</td>\n      <td>26R RVRT OUT OF SERVICE 1712270353-1712282359</td>\n      <td>26R</td>\n    </tr>\n    <tr>\n      <th>16131</th>\n      <td>ATL</td>\n      <td>12/295</td>\n      <td>Services</td>\n      <td>12/27/2017 0358</td>\n      <td>12/28/2017 1846</td>\n      <td>12/27/2017</td>\n      <td>0358</td>\n      <td>12/28/2017</td>\n      <td>2359</td>\n      <td>RWY</td>\n      <td>08R RVRR OUT OF SERVICE 1712270358-1712282359</td>\n      <td>08R</td>\n    </tr>\n  </tbody>\n</table>\n<p>3568 rows × 12 columns</p>\n</div>"
     },
     "execution_count": 61,
     "metadata": {},
     "output_type": "execute_result"
    }
   ],
   "source": [
    "filtered_df[\"Runway_ident\"] = filtered_df[\"Text\"].apply(lambda x: x.split(' ',1)[0].lstrip())\n",
    "filtered_df"
   ],
   "metadata": {
    "collapsed": false,
    "pycharm": {
     "name": "#%%\n"
    },
    "ExecuteTime": {
     "end_time": "2025-01-06T22:45:43.894074200Z",
     "start_time": "2025-01-06T22:45:43.550270Z"
    }
   }
  },
  {
   "cell_type": "markdown",
   "source": [
    "# Identifying runway and one-hot-encoding\n",
    "\n",
    "We look for our runway identification in the strings and map an impact variable onto the runway for a given notam. \n",
    "The impact variable donates:\n",
    "- 0: No impact\n",
    "- 1: Bad Field Condition. Slight impact on runway. Might be wet/slippy/partially obstructed.\n",
    "- 2: Parts of the runway are not functioning. Lighting systems, navigation systems, communication systems. \n",
    "- 3: Runway is closed and not usable. High impact."
   ],
   "metadata": {
    "collapsed": false
   }
  },
  {
   "cell_type": "code",
   "execution_count": 62,
   "outputs": [
    {
     "data": {
      "text/plain": "array([[0., 0., 0., 1., 0.],\n       [0., 0., 1., 0., 0.],\n       [0., 1., 0., 0., 0.],\n       ...,\n       [0., 2., 0., 0., 0.],\n       [2., 0., 0., 0., 0.],\n       [0., 2., 0., 0., 0.]])"
     },
     "execution_count": 62,
     "metadata": {},
     "output_type": "execute_result"
    }
   ],
   "source": [
    "def get_correct_runway_ident(lst, substring):\n",
    "    for i, s in enumerate(lst):\n",
    "        if substring in s:\n",
    "            return i, s\n",
    "    return i, np.NAN\n",
    "\n",
    "runways_lst = list(atl_runways_df[\"ident\"])\n",
    "filtered_df = filtered_df.reset_index()\n",
    "nmp = np.zeros(shape=(len(filtered_df),len(runways_lst)))\n",
    "for index, row in filtered_df.iterrows():\n",
    "    i, v = get_correct_runway_ident(runways_lst, row[\"Runway_ident\"])\n",
    "    if 'CLSD' in row[\"Text\"]:\n",
    "        nmp[index][i] = 3\n",
    "    elif 'OUT OF SERVICE' in row['Text']:\n",
    "        nmp[index][i] = 2\n",
    "    elif 'FICON' in row['Text']:\n",
    "        nmp[index][i] = 1\n",
    "    #filtered_df.at[index,'Runway_ident'] = get_correct_runway_ident(runways_lst, row[\"Runway_ident\"])\n",
    "#filtered_df[\"RNW_CLSD\"] = rnw_clsd\n",
    "#filtered_df[\"RNW_OOS\"] = rnw_oos\n",
    "#filtered_df[\"RNW_FICON\"] = rnw_ficon\n",
    "#filtered_df\n",
    "nmp"
   ],
   "metadata": {
    "collapsed": false,
    "pycharm": {
     "name": "#%%\n"
    },
    "ExecuteTime": {
     "end_time": "2025-01-06T22:45:44.185081700Z",
     "start_time": "2025-01-06T22:45:43.602240200Z"
    }
   }
  },
  {
   "cell_type": "code",
   "execution_count": 63,
   "outputs": [],
   "source": [
    "df = pd.DataFrame(nmp, columns = runways_lst )\n",
    "filtered_df = filtered_df.join(df)"
   ],
   "metadata": {
    "collapsed": false,
    "pycharm": {
     "name": "#%%\n"
    },
    "ExecuteTime": {
     "end_time": "2025-01-06T22:45:44.285025Z",
     "start_time": "2025-01-06T22:45:43.973202100Z"
    }
   }
  },
  {
   "cell_type": "markdown",
   "source": [
    "# Final Processing Steps\n",
    "\n",
    "Removing unwanted columns. Location has no use to us, since we only care about a ATL airport NOTAMs because we look at them from a runway perspective.\n",
    "Class, Category and Text are no loner relevant for us, since we one-hot-encoded the contained information onto the runways. Helper column runway_ident is no longer needed.\n",
    "\"NOTAM #\" is also irrelevant for the task. Also, as described earlier, we do not care for Issue Date. \n",
    "\n",
    "Cancel Date was also scrapped, since it is not always knows during theoretical deployment of our model.\n",
    "All flight data should be available for the aircraft at takeoff which might not be the case for cancel date. "
   ],
   "metadata": {
    "collapsed": false
   }
  },
  {
   "cell_type": "code",
   "execution_count": 64,
   "outputs": [
    {
     "name": "stdout",
     "output_type": "stream",
     "text": [
      "746/3568 has NaN Cancel Date!\n"
     ]
    }
   ],
   "source": [
    "print(f\"{filtered_df['Cancel Date (UTC)'].isna().sum()}/{len(filtered_df)} has NaN Cancel Date!\")"
   ],
   "metadata": {
    "collapsed": false,
    "ExecuteTime": {
     "end_time": "2025-01-06T22:45:44.330997200Z",
     "start_time": "2025-01-06T22:45:43.989193300Z"
    }
   }
  },
  {
   "cell_type": "code",
   "execution_count": 65,
   "outputs": [
    {
     "data": {
      "text/plain": "             cancel_time     expiration_time       diff\n5    2017-01-01 17:29:00 2017-01-01 18:07:00   6.333333\n6    2017-01-01 17:28:00 2017-01-01 18:06:00   6.333333\n7    2017-01-01 17:27:00 2017-01-01 18:05:00   6.333333\n8    2017-01-01 17:25:00 2017-01-01 18:04:00   6.500000\n9    2017-01-01 17:23:00 2017-01-01 18:08:00   7.500000\n...                  ...                 ...        ...\n3563 2017-12-27 07:17:00 2017-12-27 08:00:00   7.166667\n3564 2017-12-28 18:46:00 2017-12-28 23:59:00  52.166667\n3565 2017-12-28 18:46:00 2017-12-28 23:59:00  52.166667\n3566 2017-12-28 18:46:00 2017-12-28 23:59:00  52.166667\n3567 2017-12-28 18:46:00 2017-12-28 23:59:00  52.166667\n\n[2821 rows x 3 columns]",
      "text/html": "<div>\n<style scoped>\n    .dataframe tbody tr th:only-of-type {\n        vertical-align: middle;\n    }\n\n    .dataframe tbody tr th {\n        vertical-align: top;\n    }\n\n    .dataframe thead th {\n        text-align: right;\n    }\n</style>\n<table border=\"1\" class=\"dataframe\">\n  <thead>\n    <tr style=\"text-align: right;\">\n      <th></th>\n      <th>cancel_time</th>\n      <th>expiration_time</th>\n      <th>diff</th>\n    </tr>\n  </thead>\n  <tbody>\n    <tr>\n      <th>5</th>\n      <td>2017-01-01 17:29:00</td>\n      <td>2017-01-01 18:07:00</td>\n      <td>6.333333</td>\n    </tr>\n    <tr>\n      <th>6</th>\n      <td>2017-01-01 17:28:00</td>\n      <td>2017-01-01 18:06:00</td>\n      <td>6.333333</td>\n    </tr>\n    <tr>\n      <th>7</th>\n      <td>2017-01-01 17:27:00</td>\n      <td>2017-01-01 18:05:00</td>\n      <td>6.333333</td>\n    </tr>\n    <tr>\n      <th>8</th>\n      <td>2017-01-01 17:25:00</td>\n      <td>2017-01-01 18:04:00</td>\n      <td>6.500000</td>\n    </tr>\n    <tr>\n      <th>9</th>\n      <td>2017-01-01 17:23:00</td>\n      <td>2017-01-01 18:08:00</td>\n      <td>7.500000</td>\n    </tr>\n    <tr>\n      <th>...</th>\n      <td>...</td>\n      <td>...</td>\n      <td>...</td>\n    </tr>\n    <tr>\n      <th>3563</th>\n      <td>2017-12-27 07:17:00</td>\n      <td>2017-12-27 08:00:00</td>\n      <td>7.166667</td>\n    </tr>\n    <tr>\n      <th>3564</th>\n      <td>2017-12-28 18:46:00</td>\n      <td>2017-12-28 23:59:00</td>\n      <td>52.166667</td>\n    </tr>\n    <tr>\n      <th>3565</th>\n      <td>2017-12-28 18:46:00</td>\n      <td>2017-12-28 23:59:00</td>\n      <td>52.166667</td>\n    </tr>\n    <tr>\n      <th>3566</th>\n      <td>2017-12-28 18:46:00</td>\n      <td>2017-12-28 23:59:00</td>\n      <td>52.166667</td>\n    </tr>\n    <tr>\n      <th>3567</th>\n      <td>2017-12-28 18:46:00</td>\n      <td>2017-12-28 23:59:00</td>\n      <td>52.166667</td>\n    </tr>\n  </tbody>\n</table>\n<p>2821 rows × 3 columns</p>\n</div>"
     },
     "execution_count": 65,
     "metadata": {},
     "output_type": "execute_result"
    }
   ],
   "source": [
    "date_compare_df = filtered_df[~filtered_df[\"Cancel Date (UTC)\"].isna()].copy()\n",
    "date_compare_df = date_compare_df.drop(index = date_compare_df[date_compare_df[\"Cancel Date (UTC)\"] == \" \"].index)\n",
    "date_compare_df['cancel_time'] = date_compare_df[\"Cancel Date (UTC)\"]\n",
    "date_compare_df['expiration_time'] = date_compare_df[\"NOTAM_Expiration_Date\"] + \" \" + date_compare_df[\"NOTAM_Expiration_Time\"]\n",
    "date_compare_df['cancel_time'] = pd.to_datetime(date_compare_df[\"cancel_time\"], format='%m/%d/%Y %H%M')\n",
    "# Some expiration entries include \"EST\" which need to be cut with the following.\n",
    "date_compare_df.loc[date_compare_df['expiration_time'].apply(len) != 15, 'expiration_time'] = \\\n",
    "    date_compare_df.loc[date_compare_df['expiration_time'].apply(len) != 15, 'expiration_time'].str[:-3]\n",
    "date_compare_df['expiration_time'] = pd.to_datetime(date_compare_df[\"expiration_time\"], format='%m/%d/%Y %H%M')\n",
    "date_compare_df\n",
    "date_compare_df = date_compare_df[[\"cancel_time\",\"expiration_time\"]]\n",
    "date_compare_df[\"diff\"] = (date_compare_df[\"expiration_time\"] - date_compare_df[\"cancel_time\"]).dt.seconds / 360\n",
    "date_compare_df"
   ],
   "metadata": {
    "collapsed": false,
    "ExecuteTime": {
     "end_time": "2025-01-06T22:45:44.432110700Z",
     "start_time": "2025-01-06T22:45:44.007183Z"
    }
   }
  },
  {
   "cell_type": "code",
   "execution_count": 66,
   "outputs": [
    {
     "data": {
      "text/plain": "<Figure size 800x400 with 1 Axes>",
      "image/png": "[encoded data removed]"
     },
     "metadata": {},
     "output_type": "display_data"
    }
   ],
   "source": [
    "import matplotlib.pyplot as plt\n",
    "import pandas as pd\n",
    "import numpy as np\n",
    "\n",
    "# Plotting the histogram\n",
    "plt.figure(figsize=(8, 4))\n",
    "plt.hist(date_compare_df['diff'], bins=20, color='skyblue', edgecolor='black')\n",
    "plt.title('Histogram of Differences of Expiration to Cancel Time in Hours', fontsize=10)\n",
    "plt.xlabel('Difference in Hours', fontsize=10)\n",
    "plt.ylabel('Frequency', fontsize=10)\n",
    "plt.grid(axis='y', linestyle='--', alpha=0.7)\n",
    "plt.show()"
   ],
   "metadata": {
    "collapsed": false,
    "ExecuteTime": {
     "end_time": "2025-01-06T22:45:44.596016100Z",
     "start_time": "2025-01-06T22:45:44.052156800Z"
    }
   }
  },
  {
   "cell_type": "code",
   "execution_count": 67,
   "outputs": [
    {
     "data": {
      "text/plain": "      index NOTAM_Effective_Date NOTAM_Effective_Time NOTAM_Expiration_Date  \\\n0        28           01/01/2017                 1729            01/02/2017   \n1        29           01/01/2017                 1728            01/02/2017   \n2        30           01/01/2017                 1726            01/02/2017   \n3        31           01/01/2017                 1725            01/02/2017   \n4        32           01/01/2017                 1722            01/02/2017   \n...     ...                  ...                  ...                   ...   \n3563  16115           12/27/2017                 0601            12/27/2017   \n3564  16127           12/27/2017                 0356            12/28/2017   \n3565  16128           12/27/2017                 0355            12/28/2017   \n3566  16130           12/27/2017                 0353            12/28/2017   \n3567  16131           12/27/2017                 0358            12/28/2017   \n\n     NOTAM_Expiration_Time  08L/26R  08R/26L  09L/27R  09R/27L  10/28  \n0                     1729      0.0      0.0      0.0      1.0    0.0  \n1                     1728      0.0      0.0      1.0      0.0    0.0  \n2                     1726      0.0      1.0      0.0      0.0    0.0  \n3                     1725      1.0      0.0      0.0      0.0    0.0  \n4                     1722      0.0      0.0      0.0      0.0    1.0  \n...                    ...      ...      ...      ...      ...    ...  \n3563                  0800      3.0      0.0      0.0      0.0    0.0  \n3564                  2359      2.0      0.0      0.0      0.0    0.0  \n3565                  2359      0.0      2.0      0.0      0.0    0.0  \n3566                  2359      2.0      0.0      0.0      0.0    0.0  \n3567                  2359      0.0      2.0      0.0      0.0    0.0  \n\n[3568 rows x 10 columns]",
      "text/html": "<div>\n<style scoped>\n    .dataframe tbody tr th:only-of-type {\n        vertical-align: middle;\n    }\n\n    .dataframe tbody tr th {\n        vertical-align: top;\n    }\n\n    .dataframe thead th {\n        text-align: right;\n    }\n</style>\n<table border=\"1\" class=\"dataframe\">\n  <thead>\n    <tr style=\"text-align: right;\">\n      <th></th>\n      <th>index</th>\n      <th>NOTAM_Effective_Date</th>\n      <th>NOTAM_Effective_Time</th>\n      <th>NOTAM_Expiration_Date</th>\n      <th>NOTAM_Expiration_Time</th>\n      <th>08L/26R</th>\n      <th>08R/26L</th>\n      <th>09L/27R</th>\n      <th>09R/27L</th>\n      <th>10/28</th>\n    </tr>\n  </thead>\n  <tbody>\n    <tr>\n      <th>0</th>\n      <td>28</td>\n      <td>01/01/2017</td>\n      <td>1729</td>\n      <td>01/02/2017</td>\n      <td>1729</td>\n      <td>0.0</td>\n      <td>0.0</td>\n      <td>0.0</td>\n      <td>1.0</td>\n      <td>0.0</td>\n    </tr>\n    <tr>\n      <th>1</th>\n      <td>29</td>\n      <td>01/01/2017</td>\n      <td>1728</td>\n      <td>01/02/2017</td>\n      <td>1728</td>\n      <td>0.0</td>\n      <td>0.0</td>\n      <td>1.0</td>\n      <td>0.0</td>\n      <td>0.0</td>\n    </tr>\n    <tr>\n      <th>2</th>\n      <td>30</td>\n      <td>01/01/2017</td>\n      <td>1726</td>\n      <td>01/02/2017</td>\n      <td>1726</td>\n      <td>0.0</td>\n      <td>1.0</td>\n      <td>0.0</td>\n      <td>0.0</td>\n      <td>0.0</td>\n    </tr>\n    <tr>\n      <th>3</th>\n      <td>31</td>\n      <td>01/01/2017</td>\n      <td>1725</td>\n      <td>01/02/2017</td>\n      <td>1725</td>\n      <td>1.0</td>\n      <td>0.0</td>\n      <td>0.0</td>\n      <td>0.0</td>\n      <td>0.0</td>\n    </tr>\n    <tr>\n      <th>4</th>\n      <td>32</td>\n      <td>01/01/2017</td>\n      <td>1722</td>\n      <td>01/02/2017</td>\n      <td>1722</td>\n      <td>0.0</td>\n      <td>0.0</td>\n      <td>0.0</td>\n      <td>0.0</td>\n      <td>1.0</td>\n    </tr>\n    <tr>\n      <th>...</th>\n      <td>...</td>\n      <td>...</td>\n      <td>...</td>\n      <td>...</td>\n      <td>...</td>\n      <td>...</td>\n      <td>...</td>\n      <td>...</td>\n      <td>...</td>\n      <td>...</td>\n    </tr>\n    <tr>\n      <th>3563</th>\n      <td>16115</td>\n      <td>12/27/2017</td>\n      <td>0601</td>\n      <td>12/27/2017</td>\n      <td>0800</td>\n      <td>3.0</td>\n      <td>0.0</td>\n      <td>0.0</td>\n      <td>0.0</td>\n      <td>0.0</td>\n    </tr>\n    <tr>\n      <th>3564</th>\n      <td>16127</td>\n      <td>12/27/2017</td>\n      <td>0356</td>\n      <td>12/28/2017</td>\n      <td>2359</td>\n      <td>2.0</td>\n      <td>0.0</td>\n      <td>0.0</td>\n      <td>0.0</td>\n      <td>0.0</td>\n    </tr>\n    <tr>\n      <th>3565</th>\n      <td>16128</td>\n      <td>12/27/2017</td>\n      <td>0355</td>\n      <td>12/28/2017</td>\n      <td>2359</td>\n      <td>0.0</td>\n      <td>2.0</td>\n      <td>0.0</td>\n      <td>0.0</td>\n      <td>0.0</td>\n    </tr>\n    <tr>\n      <th>3566</th>\n      <td>16130</td>\n      <td>12/27/2017</td>\n      <td>0353</td>\n      <td>12/28/2017</td>\n      <td>2359</td>\n      <td>2.0</td>\n      <td>0.0</td>\n      <td>0.0</td>\n      <td>0.0</td>\n      <td>0.0</td>\n    </tr>\n    <tr>\n      <th>3567</th>\n      <td>16131</td>\n      <td>12/27/2017</td>\n      <td>0358</td>\n      <td>12/28/2017</td>\n      <td>2359</td>\n      <td>0.0</td>\n      <td>2.0</td>\n      <td>0.0</td>\n      <td>0.0</td>\n      <td>0.0</td>\n    </tr>\n  </tbody>\n</table>\n<p>3568 rows × 10 columns</p>\n</div>"
     },
     "execution_count": 67,
     "metadata": {},
     "output_type": "execute_result"
    }
   ],
   "source": [
    "atl_notam_df = filtered_df.drop(labels=[\"Location\",\"NOTAM #\", \"Class\", \"Issue Date (UTC)\", \"Cancel Date (UTC)\",\"Category\", \"Text\", \"Runway_ident\"], axis = \"columns\")\n",
    "atl_notam_df"
   ],
   "metadata": {
    "collapsed": false,
    "pycharm": {
     "name": "#%%\n"
    },
    "ExecuteTime": {
     "end_time": "2025-01-06T22:45:44.617004800Z",
     "start_time": "2025-01-06T22:45:44.292020900Z"
    }
   }
  },
  {
   "cell_type": "markdown",
   "source": [
    "Lastly, the minutes are cut from the notam data since we are only interested in the hour they fall into."
   ],
   "metadata": {
    "collapsed": false
   }
  },
  {
   "cell_type": "code",
   "execution_count": 68,
   "outputs": [
    {
     "data": {
      "text/plain": "      index NOTAM_Effective_Date NOTAM_Effective_Time NOTAM_Expiration_Date  \\\n0        28           01/01/2017                   17            01/02/2017   \n1        29           01/01/2017                   17            01/02/2017   \n2        30           01/01/2017                   17            01/02/2017   \n3        31           01/01/2017                   17            01/02/2017   \n4        32           01/01/2017                   17            01/02/2017   \n...     ...                  ...                  ...                   ...   \n3563  16115           12/27/2017                   06            12/27/2017   \n3564  16127           12/27/2017                   03            12/28/2017   \n3565  16128           12/27/2017                   03            12/28/2017   \n3566  16130           12/27/2017                   03            12/28/2017   \n3567  16131           12/27/2017                   03            12/28/2017   \n\n     NOTAM_Expiration_Time  08L/26R  08R/26L  09L/27R  09R/27L  10/28  \n0                       17      0.0      0.0      0.0      1.0    0.0  \n1                       17      0.0      0.0      1.0      0.0    0.0  \n2                       17      0.0      1.0      0.0      0.0    0.0  \n3                       17      1.0      0.0      0.0      0.0    0.0  \n4                       17      0.0      0.0      0.0      0.0    1.0  \n...                    ...      ...      ...      ...      ...    ...  \n3563                    08      3.0      0.0      0.0      0.0    0.0  \n3564                    23      2.0      0.0      0.0      0.0    0.0  \n3565                    23      0.0      2.0      0.0      0.0    0.0  \n3566                    23      2.0      0.0      0.0      0.0    0.0  \n3567                    23      0.0      2.0      0.0      0.0    0.0  \n\n[3568 rows x 10 columns]",
      "text/html": "<div>\n<style scoped>\n    .dataframe tbody tr th:only-of-type {\n        vertical-align: middle;\n    }\n\n    .dataframe tbody tr th {\n        vertical-align: top;\n    }\n\n    .dataframe thead th {\n        text-align: right;\n    }\n</style>\n<table border=\"1\" class=\"dataframe\">\n  <thead>\n    <tr style=\"text-align: right;\">\n      <th></th>\n      <th>index</th>\n      <th>NOTAM_Effective_Date</th>\n      <th>NOTAM_Effective_Time</th>\n      <th>NOTAM_Expiration_Date</th>\n      <th>NOTAM_Expiration_Time</th>\n      <th>08L/26R</th>\n      <th>08R/26L</th>\n      <th>09L/27R</th>\n      <th>09R/27L</th>\n      <th>10/28</th>\n    </tr>\n  </thead>\n  <tbody>\n    <tr>\n      <th>0</th>\n      <td>28</td>\n      <td>01/01/2017</td>\n      <td>17</td>\n      <td>01/02/2017</td>\n      <td>17</td>\n      <td>0.0</td>\n      <td>0.0</td>\n      <td>0.0</td>\n      <td>1.0</td>\n      <td>0.0</td>\n    </tr>\n    <tr>\n      <th>1</th>\n      <td>29</td>\n      <td>01/01/2017</td>\n      <td>17</td>\n      <td>01/02/2017</td>\n      <td>17</td>\n      <td>0.0</td>\n      <td>0.0</td>\n      <td>1.0</td>\n      <td>0.0</td>\n      <td>0.0</td>\n    </tr>\n    <tr>\n      <th>2</th>\n      <td>30</td>\n      <td>01/01/2017</td>\n      <td>17</td>\n      <td>01/02/2017</td>\n      <td>17</td>\n      <td>0.0</td>\n      <td>1.0</td>\n      <td>0.0</td>\n      <td>0.0</td>\n      <td>0.0</td>\n    </tr>\n    <tr>\n      <th>3</th>\n      <td>31</td>\n      <td>01/01/2017</td>\n      <td>17</td>\n      <td>01/02/2017</td>\n      <td>17</td>\n      <td>1.0</td>\n      <td>0.0</td>\n      <td>0.0</td>\n      <td>0.0</td>\n      <td>0.0</td>\n    </tr>\n    <tr>\n      <th>4</th>\n      <td>32</td>\n      <td>01/01/2017</td>\n      <td>17</td>\n      <td>01/02/2017</td>\n      <td>17</td>\n      <td>0.0</td>\n      <td>0.0</td>\n      <td>0.0</td>\n      <td>0.0</td>\n      <td>1.0</td>\n    </tr>\n    <tr>\n      <th>...</th>\n      <td>...</td>\n      <td>...</td>\n      <td>...</td>\n      <td>...</td>\n      <td>...</td>\n      <td>...</td>\n      <td>...</td>\n      <td>...</td>\n      <td>...</td>\n      <td>...</td>\n    </tr>\n    <tr>\n      <th>3563</th>\n      <td>16115</td>\n      <td>12/27/2017</td>\n      <td>06</td>\n      <td>12/27/2017</td>\n      <td>08</td>\n      <td>3.0</td>\n      <td>0.0</td>\n      <td>0.0</td>\n      <td>0.0</td>\n      <td>0.0</td>\n    </tr>\n    <tr>\n      <th>3564</th>\n      <td>16127</td>\n      <td>12/27/2017</td>\n      <td>03</td>\n      <td>12/28/2017</td>\n      <td>23</td>\n      <td>2.0</td>\n      <td>0.0</td>\n      <td>0.0</td>\n      <td>0.0</td>\n      <td>0.0</td>\n    </tr>\n    <tr>\n      <th>3565</th>\n      <td>16128</td>\n      <td>12/27/2017</td>\n      <td>03</td>\n      <td>12/28/2017</td>\n      <td>23</td>\n      <td>0.0</td>\n      <td>2.0</td>\n      <td>0.0</td>\n      <td>0.0</td>\n      <td>0.0</td>\n    </tr>\n    <tr>\n      <th>3566</th>\n      <td>16130</td>\n      <td>12/27/2017</td>\n      <td>03</td>\n      <td>12/28/2017</td>\n      <td>23</td>\n      <td>2.0</td>\n      <td>0.0</td>\n      <td>0.0</td>\n      <td>0.0</td>\n      <td>0.0</td>\n    </tr>\n    <tr>\n      <th>3567</th>\n      <td>16131</td>\n      <td>12/27/2017</td>\n      <td>03</td>\n      <td>12/28/2017</td>\n      <td>23</td>\n      <td>0.0</td>\n      <td>2.0</td>\n      <td>0.0</td>\n      <td>0.0</td>\n      <td>0.0</td>\n    </tr>\n  </tbody>\n</table>\n<p>3568 rows × 10 columns</p>\n</div>"
     },
     "execution_count": 68,
     "metadata": {},
     "output_type": "execute_result"
    }
   ],
   "source": [
    "atl_notam_df[\"NOTAM_Effective_Time\"] = atl_notam_df[\"NOTAM_Effective_Time\"].apply(lambda x: x[:2])\n",
    "atl_notam_df[\"NOTAM_Expiration_Time\"] = atl_notam_df[\"NOTAM_Expiration_Time\"].apply(lambda x: x[:2])\n",
    "atl_notam_df"
   ],
   "metadata": {
    "collapsed": false,
    "pycharm": {
     "name": "#%%\n"
    },
    "ExecuteTime": {
     "end_time": "2025-01-06T22:45:44.618004100Z",
     "start_time": "2025-01-06T22:45:44.343990600Z"
    }
   }
  },
  {
   "cell_type": "code",
   "execution_count": 17,
   "outputs": [],
   "source": [
    "atl_notam_df.to_pickle(os.path.join(OUTPUT_FOLDER, \"06_notam.pkl\"))"
   ],
   "metadata": {
    "collapsed": false,
    "pycharm": {
     "name": "#%%\n"
    },
    "ExecuteTime": {
     "end_time": "2024-03-24T14:54:55.884291500Z",
     "start_time": "2024-03-24T14:54:55.776296500Z"
    }
   }
  }
 ],
 "metadata": {
  "kernelspec": {
   "display_name": "Python 3",
   "language": "python",
   "name": "python3"
  },
  "language_info": {
   "codemirror_mode": {
    "name": "ipython",
    "version": 2
   },
   "file_extension": ".py",
   "mimetype": "text/x-python",
   "name": "python",
   "nbconvert_exporter": "python",
   "pygments_lexer": "ipython2",
   "version": "2.7.6"
  }
 },
 "nbformat": 4,
 "nbformat_minor": 0
}
