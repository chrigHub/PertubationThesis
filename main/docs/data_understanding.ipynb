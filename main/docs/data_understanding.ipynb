{
 "cells": [
  {
   "cell_type": "code",
   "execution_count": 61,
   "metadata": {
    "collapsed": true
   },
   "outputs": [],
   "source": [
    "import numpy as np\n",
    "import pandas as pd\n",
    "import datetime\n",
    "import glob\n",
    "import matplotlib.pyplot as plt\n",
    "import seaborn as sns\n",
    "import re\n",
    "import random\n",
    "from tabulate import tabulate"
   ]
  },
  {
   "cell_type": "code",
   "execution_count": 62,
   "outputs": [],
   "source": [
    "#Config\n",
    "FLIGHT_DATA_EU = False\n",
    "FLIGHT_DATA_NA = True\n",
    "\n",
    "PRINT_STAT_COLS = False"
   ],
   "metadata": {
    "collapsed": false,
    "pycharm": {
     "name": "#%%\n"
    }
   }
  },
  {
   "cell_type": "code",
   "execution_count": 63,
   "outputs": [],
   "source": [
    "def validate_time(date_string, format: str = '%m-%d-%Y %H:%M:%S'):\n",
    "    ret = True\n",
    "    try:\n",
    "        time = datetime.datetime.strptime(date_string, format)\n",
    "        return ret, time\n",
    "    except ValueError:\n",
    "        ret = False\n",
    "        return ret, None\n",
    "\n",
    "\n",
    "def col_stats_to_string(df: pd.DataFrame, attr_names: [] = []):\n",
    "    if not attr_names:\n",
    "        attr_names = df.columns\n",
    "    ret = \"\"\n",
    "    for attr in attr_names:\n",
    "        ret = ret + \"\\n\" + 20 * \"=\" + attr + 20 * \"=\"\n",
    "        ret = ret + \"\\n\" + \"Datatype of attribute: \" + str(df[attr].dtype)\n",
    "        nr_of_unique = len(df[attr].unique())\n",
    "        nr_of_null = df[attr].isna().sum()\n",
    "        ret = ret + \"\\n\" + \"Number of null values: \" + str(nr_of_null)\n",
    "        ret = ret + \"\\n\" + \"Number of unique values: \" + str(nr_of_unique)\n",
    "        ret = ret + \"\\n\" + \"Doubled values: \" + str(len(df) - nr_of_null - nr_of_unique)\n",
    "        if nr_of_unique < 30:\n",
    "            ret = ret + \"\\n\" + \"Unique values: \" + str(df[attr].unique())\n",
    "        if df[attr].dtype == 'O':\n",
    "            is_time, _ = validate_time(df[attr][df[attr].notna()].iloc[0])\n",
    "            if is_time:\n",
    "                date_series = df[attr].apply(lambda x: validate_time(x)[1])\n",
    "                ret = ret + \"\\n\" + \"Range: [\" + str(date_series.min()) + \";\" + str(date_series.max()) + \"]\"\n",
    "            else:\n",
    "                ret = ret + \"\\n\" + \"Range: char (\" + str(df[attr].str.len().min()) + \"-\" + str(\n",
    "                    df[attr].str.len().max()) + \")\"\n",
    "        else:\n",
    "            ret = ret + \"\\n\" + \"Range: [\" + str(df[attr].min()) + \";\" + str(df[attr].max()) + \"]\"\n",
    "    return ret\n",
    "\n",
    "\n",
    "def read_csv_from_subfolder(path):\n",
    "    if path:\n",
    "        all_files = glob.glob(path)\n",
    "        li = []\n",
    "        for filename in all_files:\n",
    "            df = pd.read_csv(filename, on_bad_lines='skip')\n",
    "            li.append(df)\n",
    "        return pd.concat(li, axis=0, ignore_index=True)\n",
    "    else:\n",
    "        return None\n",
    "\n",
    "def read_table_from_subfolder(path, delim : str = ',' ):\n",
    "    if path:\n",
    "        all_files = glob.glob(path)\n",
    "        li = []\n",
    "        for filename in all_files:\n",
    "            df = pd.read_table(filename, delimiter=delim)\n",
    "            li.append(df)\n",
    "        return pd.concat(li, axis=0, ignore_index=True)\n",
    "    else:\n",
    "        return None\n",
    "\n",
    "def read_pickle_from_subfolder(path):\n",
    "    if path:\n",
    "        all_files = glob.glob(path)\n",
    "        li = []\n",
    "        for filename in all_files:\n",
    "            df = pd.read_pickle(filename)\n",
    "            li.append(df)\n",
    "        return pd.concat(li, axis = 0, ignore_index=True)\n",
    "    else:\n",
    "        return None\n",
    "\n",
    "def read_excel_from_subfolder(path):\n",
    "    if path:\n",
    "        all_files = glob.glob(path)\n",
    "        li = []\n",
    "        for filename in all_files:\n",
    "            df = pd.read_excel(filename)\n",
    "            li.append(df)\n",
    "        return pd.concat(li, axis = 0, ignore_index=True)\n",
    "    else:\n",
    "        return None"
   ],
   "metadata": {
    "collapsed": false,
    "pycharm": {
     "name": "#%%\n"
    }
   }
  },
  {
   "cell_type": "code",
   "execution_count": 64,
   "outputs": [
    {
     "name": "stdout",
     "output_type": "stream",
     "text": [
      "====================NA FLIGHTS DESCRIBE====================\n",
      "       OP_CARRIER_FL_NUM  CRS_DEP_TIME      DEP_TIME     DEP_DELAY  \\\n",
      "count       1.129228e+07  1.129228e+07  1.114852e+07  1.114848e+07   \n",
      "mean        2.111148e+03  1.330484e+03  1.333673e+03  9.333288e+00   \n",
      "std         1.719439e+03  4.902650e+02  5.034601e+02  4.187399e+01   \n",
      "min         1.000000e+00  1.000000e+00  1.000000e+00 -2.340000e+02   \n",
      "25%         7.230000e+02  9.150000e+02  9.160000e+02 -5.000000e+00   \n",
      "50%         1.663000e+03  1.325000e+03  1.328000e+03 -2.000000e+00   \n",
      "75%         2.963000e+03  1.735000e+03  1.743000e+03  6.000000e+00   \n",
      "max         8.402000e+03  2.359000e+03  2.400000e+03  2.755000e+03   \n",
      "\n",
      "           TAXI_OUT    WHEELS_OFF     WHEELS_ON       TAXI_IN  CRS_ARR_TIME  \\\n",
      "count  1.114472e+07  1.114472e+07  1.113976e+07  1.113976e+07  1.129228e+07   \n",
      "mean   1.648656e+01  1.355454e+03  1.465917e+03  7.481078e+00  1.490059e+03   \n",
      "std    9.105998e+00  5.052670e+02  5.321386e+02  5.808215e+00  5.176603e+02   \n",
      "min    0.000000e+00  1.000000e+00  1.000000e+00  0.000000e+00  1.000000e+00   \n",
      "25%    1.100000e+01  9.300000e+02  1.048000e+03  4.000000e+00  1.104000e+03   \n",
      "50%    1.400000e+01  1.340000e+03  1.507000e+03  6.000000e+00  1.520000e+03   \n",
      "75%    1.900000e+01  1.757000e+03  1.913000e+03  9.000000e+00  1.920000e+03   \n",
      "max    1.860000e+02  2.400000e+03  2.400000e+03  4.140000e+02  2.400000e+03   \n",
      "\n",
      "           ARR_TIME  ...  CRS_ELAPSED_TIME  ACTUAL_ELAPSED_TIME      AIR_TIME  \\\n",
      "count  1.113976e+07  ...      1.129227e+07         1.111756e+07  1.111756e+07   \n",
      "mean   1.470220e+03  ...      1.461990e+02         1.409646e+02  1.170080e+02   \n",
      "std    5.365481e+02  ...      7.678134e+01         7.617250e+01  7.390586e+01   \n",
      "min    1.000000e+00  ...      1.000000e+00         1.400000e+01  4.000000e+00   \n",
      "25%    1.051000e+03  ...      8.900000e+01         8.400000e+01  6.200000e+01   \n",
      "50%    1.510000e+03  ...      1.270000e+02         1.220000e+02  9.800000e+01   \n",
      "75%    1.918000e+03  ...      1.790000e+02         1.740000e+02  1.480000e+02   \n",
      "max    2.400000e+03  ...      7.180000e+02         7.840000e+02  7.230000e+02   \n",
      "\n",
      "           DISTANCE  CARRIER_DELAY  WEATHER_DELAY     NAS_DELAY  \\\n",
      "count  1.129228e+07   1.993712e+06   1.993712e+06  1.993712e+06   \n",
      "mean   8.534005e+02   2.008818e+01   2.711446e+00  1.538407e+01   \n",
      "std    6.220205e+02   5.994034e+01   2.296430e+01  3.344300e+01   \n",
      "min    2.500000e+01   0.000000e+00   0.000000e+00  0.000000e+00   \n",
      "25%    3.910000e+02   0.000000e+00   0.000000e+00  0.000000e+00   \n",
      "50%    6.790000e+02   1.000000e+00   0.000000e+00  2.000000e+00   \n",
      "75%    1.096000e+03   1.800000e+01   0.000000e+00  1.900000e+01   \n",
      "max    4.983000e+03   2.142000e+03   1.934000e+03  1.605000e+03   \n",
      "\n",
      "       SECURITY_DELAY  LATE_AIRCRAFT_DELAY  Unnamed: 28  \n",
      "count    1.993712e+06         1.993712e+06          0.0  \n",
      "mean     8.832519e-02         2.475958e+01          NaN  \n",
      "std      2.750647e+00         4.687918e+01          NaN  \n",
      "min      0.000000e+00         0.000000e+00          NaN  \n",
      "25%      0.000000e+00         0.000000e+00          NaN  \n",
      "50%      0.000000e+00         3.000000e+00          NaN  \n",
      "75%      0.000000e+00         3.000000e+01          NaN  \n",
      "max      8.270000e+02         1.756000e+03          NaN  \n",
      "\n",
      "[8 rows x 23 columns]\n",
      "====================NA FLIGHTS INFO====================\n",
      "<class 'pandas.core.frame.DataFrame'>\n",
      "RangeIndex: 11292279 entries, 0 to 11292278\n",
      "Data columns (total 29 columns):\n",
      " #   Column               Dtype  \n",
      "---  ------               -----  \n",
      " 0   FL_DATE              object \n",
      " 1   OP_UNIQUE_CARRIER    object \n",
      " 2   TAIL_NUM             object \n",
      " 3   OP_CARRIER_FL_NUM    int64  \n",
      " 4   ORIGIN               object \n",
      " 5   DEST                 object \n",
      " 6   CRS_DEP_TIME         int64  \n",
      " 7   DEP_TIME             float64\n",
      " 8   DEP_DELAY            float64\n",
      " 9   TAXI_OUT             float64\n",
      " 10  WHEELS_OFF           float64\n",
      " 11  WHEELS_ON            float64\n",
      " 12  TAXI_IN              float64\n",
      " 13  CRS_ARR_TIME         int64  \n",
      " 14  ARR_TIME             float64\n",
      " 15  ARR_DELAY            float64\n",
      " 16  CANCELLED            float64\n",
      " 17  CANCELLATION_CODE    object \n",
      " 18  DIVERTED             float64\n",
      " 19  CRS_ELAPSED_TIME     float64\n",
      " 20  ACTUAL_ELAPSED_TIME  float64\n",
      " 21  AIR_TIME             float64\n",
      " 22  DISTANCE             float64\n",
      " 23  CARRIER_DELAY        float64\n",
      " 24  WEATHER_DELAY        float64\n",
      " 25  NAS_DELAY            float64\n",
      " 26  SECURITY_DELAY       float64\n",
      " 27  LATE_AIRCRAFT_DELAY  float64\n",
      " 28  Unnamed: 28          float64\n",
      "dtypes: float64(20), int64(3), object(6)\n",
      "memory usage: 2.4+ GB\n",
      "None\n",
      "====================NA FLIGHTS STAT PRINT====================\n"
     ]
    }
   ],
   "source": [
    "#Loading flights data NA\n",
    "flights_na = read_csv_from_subfolder(\"data_raw/US_Domestic_Flights/*/*.csv\")\n",
    "print(\"=\"*20 + \"NA FLIGHTS DESCRIBE\" +20*\"=\")\n",
    "print(flights_na.describe())\n",
    "print(\"=\"*20 + \"NA FLIGHTS INFO\" +20*\"=\")\n",
    "print(flights_na.info())\n",
    "print(\"=\"*20 + \"NA FLIGHTS STAT PRINT\" +20*\"=\")\n",
    "if PRINT_STAT_COLS:\n",
    "    print(col_stats_to_string(flights_na))"
   ],
   "metadata": {
    "collapsed": false,
    "pycharm": {
     "name": "#%%\n"
    }
   }
  },
  {
   "cell_type": "code",
   "execution_count": 65,
   "outputs": [],
   "source": [
    "if FLIGHT_DATA_EU:\n",
    "    flights_eu = read_csv_from_subfolder(\"data_raw/EUROCONTROL Flights/*/*.csv\")\n",
    "    print(\"=\"*20 + \"EU FLIGHTS DESCRIBE\" +20*\"=\")\n",
    "    print(tabulate(flights_eu.describe(), headers='keys', tablefmt='psql'))\n",
    "    print(flights_eu.info())\n",
    "    print(col_stats_to_string(flights_eu))"
   ],
   "metadata": {
    "collapsed": false,
    "pycharm": {
     "name": "#%%\n"
    }
   }
  },
  {
   "cell_type": "code",
   "execution_count": 66,
   "outputs": [
    {
     "data": {
      "text/plain": "<AxesSubplot:xlabel='DEST', ylabel='count'>"
     },
     "execution_count": 66,
     "metadata": {},
     "output_type": "execute_result"
    },
    {
     "data": {
      "text/plain": "<Figure size 432x288 with 2 Axes>",
      "image/png": "[encoded data removed]"
     },
     "metadata": {
      "needs_background": "light"
     },
     "output_type": "display_data"
    }
   ],
   "source": [
    "#Most frequent origin airports\n",
    "freq_orig = flights_na['ORIGIN'].value_counts()[:5]\n",
    "freq_dest = flights_na['DEST'].value_counts()[:5]\n",
    "#print(freq_orig)\n",
    "#print(freq_dest)\n",
    "fig,ax = plt.subplots(1,2, sharey='row')\n",
    "sns.countplot(x = 'ORIGIN', data = flights_na[flights_na['ORIGIN'].isin(freq_orig.keys().tolist())], order = freq_orig.index, ax = ax[0])\n",
    "sns.countplot(x = 'DEST', data = flights_na[flights_na['DEST'].isin(freq_dest.keys().tolist())], order = freq_dest.index, ax = ax[1])"
   ],
   "metadata": {
    "collapsed": false,
    "pycharm": {
     "name": "#%%\n"
    }
   }
  },
  {
   "cell_type": "code",
   "execution_count": 67,
   "outputs": [
    {
     "data": {
      "text/plain": "             FL_DATE OP_UNIQUE_CARRIER TAIL_NUM  OP_CARRIER_FL_NUM ORIGIN  \\\n140       2016-01-01                WN   N550WN               3211    AUS   \n141       2016-01-01                WN   N739GB               3277    AUS   \n279       2016-01-01                WN   N405WN                782    BWI   \n280       2016-01-01                WN   N638SW                866    BWI   \n281       2016-01-01                WN   N239WN               1856    BWI   \n...              ...               ...      ...                ...    ...   \n11292045  2017-12-31                DL   N774DE               2898    CVG   \n11292046  2017-12-31                DL   N775DE               2901    CVG   \n11292050  2017-12-31                DL   N950AT               2910    AVP   \n11292052  2017-12-31                DL   N391DA               2927    SMF   \n11292064  2017-12-31                DL   N922AT               2999    SYR   \n\n         DEST  CRS_DEP_TIME  DEP_TIME  DEP_DELAY  TAXI_OUT  ...  \\\n140       ATL           610     609.0       -1.0      10.0  ...   \n141       ATL          1905    1919.0       14.0       9.0  ...   \n279       ATL          1910    1933.0       23.0      14.0  ...   \n280       ATL          2020    2024.0        4.0      15.0  ...   \n281       ATL          1210    1231.0       21.0       9.0  ...   \n...       ...           ...       ...        ...       ...  ...   \n11292045  ATL          1237    1232.0       -5.0      12.0  ...   \n11292046  ATL          1110    1102.0       -8.0      10.0  ...   \n11292050  ATL           600     606.0        6.0      11.0  ...   \n11292052  ATL          2325    2323.0       -2.0      13.0  ...   \n11292064  ATL          1150    1222.0       32.0      10.0  ...   \n\n          CRS_ELAPSED_TIME  ACTUAL_ELAPSED_TIME  AIR_TIME  DISTANCE  \\\n140                  130.0                116.0      94.0     813.0   \n141                  120.0                109.0      94.0     813.0   \n279                  125.0                115.0      92.0     577.0   \n280                  120.0                127.0     102.0     577.0   \n281                  120.0                113.0      98.0     577.0   \n...                    ...                  ...       ...       ...   \n11292045             103.0                 92.0      73.0     373.0   \n11292046              96.0                 86.0      69.0     373.0   \n11292050             153.0                141.0     123.0     714.0   \n11292052             264.0                240.0     221.0    2092.0   \n11292064             162.0                141.0     125.0     794.0   \n\n          CARRIER_DELAY  WEATHER_DELAY  NAS_DELAY SECURITY_DELAY  \\\n140                 NaN            NaN        NaN            NaN   \n141                 NaN            NaN        NaN            NaN   \n279                 NaN            NaN        NaN            NaN   \n280                 NaN            NaN        NaN            NaN   \n281                 NaN            NaN        NaN            NaN   \n...                 ...            ...        ...            ...   \n11292045            NaN            NaN        NaN            NaN   \n11292046            NaN            NaN        NaN            NaN   \n11292050            NaN            NaN        NaN            NaN   \n11292052            NaN            NaN        NaN            NaN   \n11292064            NaN            NaN        NaN            NaN   \n\n          LATE_AIRCRAFT_DELAY  Unnamed: 28  \n140                       NaN          NaN  \n141                       NaN          NaN  \n279                       NaN          NaN  \n280                       NaN          NaN  \n281                       NaN          NaN  \n...                       ...          ...  \n11292045                  NaN          NaN  \n11292046                  NaN          NaN  \n11292050                  NaN          NaN  \n11292052                  NaN          NaN  \n11292064                  NaN          NaN  \n\n[748848 rows x 29 columns]",
      "text/html": "<div>\n<style scoped>\n    .dataframe tbody tr th:only-of-type {\n        vertical-align: middle;\n    }\n\n    .dataframe tbody tr th {\n        vertical-align: top;\n    }\n\n    .dataframe thead th {\n        text-align: right;\n    }\n</style>\n<table border=\"1\" class=\"dataframe\">\n  <thead>\n    <tr style=\"text-align: right;\">\n      <th></th>\n      <th>FL_DATE</th>\n      <th>OP_UNIQUE_CARRIER</th>\n      <th>TAIL_NUM</th>\n      <th>OP_CARRIER_FL_NUM</th>\n      <th>ORIGIN</th>\n      <th>DEST</th>\n      <th>CRS_DEP_TIME</th>\n      <th>DEP_TIME</th>\n      <th>DEP_DELAY</th>\n      <th>TAXI_OUT</th>\n      <th>...</th>\n      <th>CRS_ELAPSED_TIME</th>\n      <th>ACTUAL_ELAPSED_TIME</th>\n      <th>AIR_TIME</th>\n      <th>DISTANCE</th>\n      <th>CARRIER_DELAY</th>\n      <th>WEATHER_DELAY</th>\n      <th>NAS_DELAY</th>\n      <th>SECURITY_DELAY</th>\n      <th>LATE_AIRCRAFT_DELAY</th>\n      <th>Unnamed: 28</th>\n    </tr>\n  </thead>\n  <tbody>\n    <tr>\n      <th>140</th>\n      <td>2016-01-01</td>\n      <td>WN</td>\n      <td>N550WN</td>\n      <td>3211</td>\n      <td>AUS</td>\n      <td>ATL</td>\n      <td>610</td>\n      <td>609.0</td>\n      <td>-1.0</td>\n      <td>10.0</td>\n      <td>...</td>\n      <td>130.0</td>\n      <td>116.0</td>\n      <td>94.0</td>\n      <td>813.0</td>\n      <td>NaN</td>\n      <td>NaN</td>\n      <td>NaN</td>\n      <td>NaN</td>\n      <td>NaN</td>\n      <td>NaN</td>\n    </tr>\n    <tr>\n      <th>141</th>\n      <td>2016-01-01</td>\n      <td>WN</td>\n      <td>N739GB</td>\n      <td>3277</td>\n      <td>AUS</td>\n      <td>ATL</td>\n      <td>1905</td>\n      <td>1919.0</td>\n      <td>14.0</td>\n      <td>9.0</td>\n      <td>...</td>\n      <td>120.0</td>\n      <td>109.0</td>\n      <td>94.0</td>\n      <td>813.0</td>\n      <td>NaN</td>\n      <td>NaN</td>\n      <td>NaN</td>\n      <td>NaN</td>\n      <td>NaN</td>\n      <td>NaN</td>\n    </tr>\n    <tr>\n      <th>279</th>\n      <td>2016-01-01</td>\n      <td>WN</td>\n      <td>N405WN</td>\n      <td>782</td>\n      <td>BWI</td>\n      <td>ATL</td>\n      <td>1910</td>\n      <td>1933.0</td>\n      <td>23.0</td>\n      <td>14.0</td>\n      <td>...</td>\n      <td>125.0</td>\n      <td>115.0</td>\n      <td>92.0</td>\n      <td>577.0</td>\n      <td>NaN</td>\n      <td>NaN</td>\n      <td>NaN</td>\n      <td>NaN</td>\n      <td>NaN</td>\n      <td>NaN</td>\n    </tr>\n    <tr>\n      <th>280</th>\n      <td>2016-01-01</td>\n      <td>WN</td>\n      <td>N638SW</td>\n      <td>866</td>\n      <td>BWI</td>\n      <td>ATL</td>\n      <td>2020</td>\n      <td>2024.0</td>\n      <td>4.0</td>\n      <td>15.0</td>\n      <td>...</td>\n      <td>120.0</td>\n      <td>127.0</td>\n      <td>102.0</td>\n      <td>577.0</td>\n      <td>NaN</td>\n      <td>NaN</td>\n      <td>NaN</td>\n      <td>NaN</td>\n      <td>NaN</td>\n      <td>NaN</td>\n    </tr>\n    <tr>\n      <th>281</th>\n      <td>2016-01-01</td>\n      <td>WN</td>\n      <td>N239WN</td>\n      <td>1856</td>\n      <td>BWI</td>\n      <td>ATL</td>\n      <td>1210</td>\n      <td>1231.0</td>\n      <td>21.0</td>\n      <td>9.0</td>\n      <td>...</td>\n      <td>120.0</td>\n      <td>113.0</td>\n      <td>98.0</td>\n      <td>577.0</td>\n      <td>NaN</td>\n      <td>NaN</td>\n      <td>NaN</td>\n      <td>NaN</td>\n      <td>NaN</td>\n      <td>NaN</td>\n    </tr>\n    <tr>\n      <th>...</th>\n      <td>...</td>\n      <td>...</td>\n      <td>...</td>\n      <td>...</td>\n      <td>...</td>\n      <td>...</td>\n      <td>...</td>\n      <td>...</td>\n      <td>...</td>\n      <td>...</td>\n      <td>...</td>\n      <td>...</td>\n      <td>...</td>\n      <td>...</td>\n      <td>...</td>\n      <td>...</td>\n      <td>...</td>\n      <td>...</td>\n      <td>...</td>\n      <td>...</td>\n      <td>...</td>\n    </tr>\n    <tr>\n      <th>11292045</th>\n      <td>2017-12-31</td>\n      <td>DL</td>\n      <td>N774DE</td>\n      <td>2898</td>\n      <td>CVG</td>\n      <td>ATL</td>\n      <td>1237</td>\n      <td>1232.0</td>\n      <td>-5.0</td>\n      <td>12.0</td>\n      <td>...</td>\n      <td>103.0</td>\n      <td>92.0</td>\n      <td>73.0</td>\n      <td>373.0</td>\n      <td>NaN</td>\n      <td>NaN</td>\n      <td>NaN</td>\n      <td>NaN</td>\n      <td>NaN</td>\n      <td>NaN</td>\n    </tr>\n    <tr>\n      <th>11292046</th>\n      <td>2017-12-31</td>\n      <td>DL</td>\n      <td>N775DE</td>\n      <td>2901</td>\n      <td>CVG</td>\n      <td>ATL</td>\n      <td>1110</td>\n      <td>1102.0</td>\n      <td>-8.0</td>\n      <td>10.0</td>\n      <td>...</td>\n      <td>96.0</td>\n      <td>86.0</td>\n      <td>69.0</td>\n      <td>373.0</td>\n      <td>NaN</td>\n      <td>NaN</td>\n      <td>NaN</td>\n      <td>NaN</td>\n      <td>NaN</td>\n      <td>NaN</td>\n    </tr>\n    <tr>\n      <th>11292050</th>\n      <td>2017-12-31</td>\n      <td>DL</td>\n      <td>N950AT</td>\n      <td>2910</td>\n      <td>AVP</td>\n      <td>ATL</td>\n      <td>600</td>\n      <td>606.0</td>\n      <td>6.0</td>\n      <td>11.0</td>\n      <td>...</td>\n      <td>153.0</td>\n      <td>141.0</td>\n      <td>123.0</td>\n      <td>714.0</td>\n      <td>NaN</td>\n      <td>NaN</td>\n      <td>NaN</td>\n      <td>NaN</td>\n      <td>NaN</td>\n      <td>NaN</td>\n    </tr>\n    <tr>\n      <th>11292052</th>\n      <td>2017-12-31</td>\n      <td>DL</td>\n      <td>N391DA</td>\n      <td>2927</td>\n      <td>SMF</td>\n      <td>ATL</td>\n      <td>2325</td>\n      <td>2323.0</td>\n      <td>-2.0</td>\n      <td>13.0</td>\n      <td>...</td>\n      <td>264.0</td>\n      <td>240.0</td>\n      <td>221.0</td>\n      <td>2092.0</td>\n      <td>NaN</td>\n      <td>NaN</td>\n      <td>NaN</td>\n      <td>NaN</td>\n      <td>NaN</td>\n      <td>NaN</td>\n    </tr>\n    <tr>\n      <th>11292064</th>\n      <td>2017-12-31</td>\n      <td>DL</td>\n      <td>N922AT</td>\n      <td>2999</td>\n      <td>SYR</td>\n      <td>ATL</td>\n      <td>1150</td>\n      <td>1222.0</td>\n      <td>32.0</td>\n      <td>10.0</td>\n      <td>...</td>\n      <td>162.0</td>\n      <td>141.0</td>\n      <td>125.0</td>\n      <td>794.0</td>\n      <td>NaN</td>\n      <td>NaN</td>\n      <td>NaN</td>\n      <td>NaN</td>\n      <td>NaN</td>\n      <td>NaN</td>\n    </tr>\n  </tbody>\n</table>\n<p>748848 rows × 29 columns</p>\n</div>"
     },
     "execution_count": 67,
     "metadata": {},
     "output_type": "execute_result"
    }
   ],
   "source": [
    "atl_flights = flights_na[flights_na['DEST'] == 'ATL']\n",
    "atl_flights"
   ],
   "metadata": {
    "collapsed": false,
    "pycharm": {
     "name": "#%%\n"
    }
   }
  },
  {
   "cell_type": "code",
   "execution_count": 68,
   "outputs": [
    {
     "data": {
      "text/plain": "             FL_DATE TAIL_NUM ORIGIN  CRS_DEP_TIME  DEP_DELAY  TAXI_OUT  \\\n140       2016-01-01   N550WN    AUS           610       -1.0      10.0   \n141       2016-01-01   N739GB    AUS          1905       14.0       9.0   \n279       2016-01-01   N405WN    BWI          1910       23.0      14.0   \n280       2016-01-01   N638SW    BWI          2020        4.0      15.0   \n281       2016-01-01   N239WN    BWI          1210       21.0       9.0   \n...              ...      ...    ...           ...        ...       ...   \n11292045  2017-12-31   N774DE    CVG          1237       -5.0      12.0   \n11292046  2017-12-31   N775DE    CVG          1110       -8.0      10.0   \n11292050  2017-12-31   N950AT    AVP           600        6.0      11.0   \n11292052  2017-12-31   N391DA    SMF          2325       -2.0      13.0   \n11292064  2017-12-31   N922AT    SYR          1150       32.0      10.0   \n\n          CRS_ARR_TIME  ARR_TIME  ARR_DELAY  CRS_ELAPSED_TIME  DISTANCE  \n140                920     905.0      -15.0             130.0     813.0  \n141               2205    2208.0        3.0             120.0     813.0  \n279               2115    2128.0       13.0             125.0     577.0  \n280               2220    2231.0       11.0             120.0     577.0  \n281               1410    1424.0       14.0             120.0     577.0  \n...                ...       ...        ...               ...       ...  \n11292045          1420    1404.0      -16.0             103.0     373.0  \n11292046          1246    1228.0      -18.0              96.0     373.0  \n11292050           833     827.0       -6.0             153.0     714.0  \n11292052           649     623.0      -26.0             264.0    2092.0  \n11292064          1432    1443.0       11.0             162.0     794.0  \n\n[748848 rows x 11 columns]",
      "text/html": "<div>\n<style scoped>\n    .dataframe tbody tr th:only-of-type {\n        vertical-align: middle;\n    }\n\n    .dataframe tbody tr th {\n        vertical-align: top;\n    }\n\n    .dataframe thead th {\n        text-align: right;\n    }\n</style>\n<table border=\"1\" class=\"dataframe\">\n  <thead>\n    <tr style=\"text-align: right;\">\n      <th></th>\n      <th>FL_DATE</th>\n      <th>TAIL_NUM</th>\n      <th>ORIGIN</th>\n      <th>CRS_DEP_TIME</th>\n      <th>DEP_DELAY</th>\n      <th>TAXI_OUT</th>\n      <th>CRS_ARR_TIME</th>\n      <th>ARR_TIME</th>\n      <th>ARR_DELAY</th>\n      <th>CRS_ELAPSED_TIME</th>\n      <th>DISTANCE</th>\n    </tr>\n  </thead>\n  <tbody>\n    <tr>\n      <th>140</th>\n      <td>2016-01-01</td>\n      <td>N550WN</td>\n      <td>AUS</td>\n      <td>610</td>\n      <td>-1.0</td>\n      <td>10.0</td>\n      <td>920</td>\n      <td>905.0</td>\n      <td>-15.0</td>\n      <td>130.0</td>\n      <td>813.0</td>\n    </tr>\n    <tr>\n      <th>141</th>\n      <td>2016-01-01</td>\n      <td>N739GB</td>\n      <td>AUS</td>\n      <td>1905</td>\n      <td>14.0</td>\n      <td>9.0</td>\n      <td>2205</td>\n      <td>2208.0</td>\n      <td>3.0</td>\n      <td>120.0</td>\n      <td>813.0</td>\n    </tr>\n    <tr>\n      <th>279</th>\n      <td>2016-01-01</td>\n      <td>N405WN</td>\n      <td>BWI</td>\n      <td>1910</td>\n      <td>23.0</td>\n      <td>14.0</td>\n      <td>2115</td>\n      <td>2128.0</td>\n      <td>13.0</td>\n      <td>125.0</td>\n      <td>577.0</td>\n    </tr>\n    <tr>\n      <th>280</th>\n      <td>2016-01-01</td>\n      <td>N638SW</td>\n      <td>BWI</td>\n      <td>2020</td>\n      <td>4.0</td>\n      <td>15.0</td>\n      <td>2220</td>\n      <td>2231.0</td>\n      <td>11.0</td>\n      <td>120.0</td>\n      <td>577.0</td>\n    </tr>\n    <tr>\n      <th>281</th>\n      <td>2016-01-01</td>\n      <td>N239WN</td>\n      <td>BWI</td>\n      <td>1210</td>\n      <td>21.0</td>\n      <td>9.0</td>\n      <td>1410</td>\n      <td>1424.0</td>\n      <td>14.0</td>\n      <td>120.0</td>\n      <td>577.0</td>\n    </tr>\n    <tr>\n      <th>...</th>\n      <td>...</td>\n      <td>...</td>\n      <td>...</td>\n      <td>...</td>\n      <td>...</td>\n      <td>...</td>\n      <td>...</td>\n      <td>...</td>\n      <td>...</td>\n      <td>...</td>\n      <td>...</td>\n    </tr>\n    <tr>\n      <th>11292045</th>\n      <td>2017-12-31</td>\n      <td>N774DE</td>\n      <td>CVG</td>\n      <td>1237</td>\n      <td>-5.0</td>\n      <td>12.0</td>\n      <td>1420</td>\n      <td>1404.0</td>\n      <td>-16.0</td>\n      <td>103.0</td>\n      <td>373.0</td>\n    </tr>\n    <tr>\n      <th>11292046</th>\n      <td>2017-12-31</td>\n      <td>N775DE</td>\n      <td>CVG</td>\n      <td>1110</td>\n      <td>-8.0</td>\n      <td>10.0</td>\n      <td>1246</td>\n      <td>1228.0</td>\n      <td>-18.0</td>\n      <td>96.0</td>\n      <td>373.0</td>\n    </tr>\n    <tr>\n      <th>11292050</th>\n      <td>2017-12-31</td>\n      <td>N950AT</td>\n      <td>AVP</td>\n      <td>600</td>\n      <td>6.0</td>\n      <td>11.0</td>\n      <td>833</td>\n      <td>827.0</td>\n      <td>-6.0</td>\n      <td>153.0</td>\n      <td>714.0</td>\n    </tr>\n    <tr>\n      <th>11292052</th>\n      <td>2017-12-31</td>\n      <td>N391DA</td>\n      <td>SMF</td>\n      <td>2325</td>\n      <td>-2.0</td>\n      <td>13.0</td>\n      <td>649</td>\n      <td>623.0</td>\n      <td>-26.0</td>\n      <td>264.0</td>\n      <td>2092.0</td>\n    </tr>\n    <tr>\n      <th>11292064</th>\n      <td>2017-12-31</td>\n      <td>N922AT</td>\n      <td>SYR</td>\n      <td>1150</td>\n      <td>32.0</td>\n      <td>10.0</td>\n      <td>1432</td>\n      <td>1443.0</td>\n      <td>11.0</td>\n      <td>162.0</td>\n      <td>794.0</td>\n    </tr>\n  </tbody>\n</table>\n<p>748848 rows × 11 columns</p>\n</div>"
     },
     "execution_count": 68,
     "metadata": {},
     "output_type": "execute_result"
    }
   ],
   "source": [
    "atl_flights = atl_flights.drop(columns=[\"OP_UNIQUE_CARRIER\", \"OP_CARRIER_FL_NUM\", \"DEST\", \"CANCELLED\", \"CANCELLATION_CODE\", \"DIVERTED\",\"CARRIER_DELAY\", \"WEATHER_DELAY\", \"NAS_DELAY\", \"SECURITY_DELAY\", \"LATE_AIRCRAFT_DELAY\", \"Unnamed: 28\", \"WHEELS_ON\", \"WHEELS_OFF\", \"TAXI_IN\", \"AIR_TIME\",\"DEP_TIME\",\"ACTUAL_ELAPSED_TIME\"])\n",
    "atl_flights"
   ],
   "metadata": {
    "collapsed": false,
    "pycharm": {
     "name": "#%%\n"
    }
   }
  },
  {
   "cell_type": "code",
   "execution_count": 69,
   "outputs": [
    {
     "data": {
      "text/plain": "<AxesSubplot:xlabel='ORIGIN', ylabel='count'>"
     },
     "execution_count": 69,
     "metadata": {},
     "output_type": "execute_result"
    },
    {
     "data": {
      "text/plain": "<Figure size 432x288 with 1 Axes>",
      "image/png": "[encoded data removed]"
     },
     "metadata": {
      "needs_background": "light"
     },
     "output_type": "display_data"
    }
   ],
   "source": [
    "freq_orig = atl_flights['ORIGIN'].value_counts()[:15]\n",
    "fig,ax = plt.subplots()\n",
    "sns.countplot(x = 'ORIGIN', data = atl_flights[atl_flights['ORIGIN'].isin(freq_orig.keys().tolist())], order = freq_orig.index, ax = ax)"
   ],
   "metadata": {
    "collapsed": false,
    "pycharm": {
     "name": "#%%\n"
    }
   }
  },
  {
   "cell_type": "code",
   "execution_count": 70,
   "outputs": [
    {
     "data": {
      "text/plain": "<AxesSubplot:xlabel='ORIGIN', ylabel='ARR_DELAY'>"
     },
     "execution_count": 70,
     "metadata": {},
     "output_type": "execute_result"
    },
    {
     "data": {
      "text/plain": "<Figure size 432x288 with 1 Axes>",
      "image/png": "[encoded data removed]"
     },
     "metadata": {
      "needs_background": "light"
     },
     "output_type": "display_data"
    }
   ],
   "source": [
    "fig,ax = plt.subplots()\n",
    "sns.barplot(x=\"ORIGIN\", y=\"ARR_DELAY\", data=atl_flights, ax = ax)"
   ],
   "metadata": {
    "collapsed": false,
    "pycharm": {
     "name": "#%%\n"
    }
   }
  },
  {
   "cell_type": "code",
   "execution_count": 71,
   "outputs": [
    {
     "name": "stdout",
     "output_type": "stream",
     "text": [
      "====================AIRPORTS DESCRIBE====================\n",
      "                  id  latitude_deg  longitude_deg  elevation_ft\n",
      "count   55485.000000  55485.000000   55485.000000  48458.000000\n",
      "mean    85532.585113     25.726149     -35.275926   1246.230364\n",
      "std    121971.928190     27.216164      79.531670   1608.472867\n",
      "min         2.000000    -90.000000    -179.876999  -1266.000000\n",
      "25%     13997.000000      8.251650     -92.056801    206.000000\n",
      "50%     27996.000000     36.501288     -72.068100    720.000000\n",
      "75%     44483.000000     43.794734      14.615308   1500.000000\n",
      "max    332461.000000     82.750000     179.975700  22000.000000\n",
      "====================AIRPORTS INFO====================\n",
      "<class 'pandas.core.frame.DataFrame'>\n",
      "RangeIndex: 55485 entries, 0 to 55484\n",
      "Data columns (total 18 columns):\n",
      " #   Column             Non-Null Count  Dtype  \n",
      "---  ------             --------------  -----  \n",
      " 0   id                 55485 non-null  int64  \n",
      " 1   ident              55485 non-null  object \n",
      " 2   type               55485 non-null  object \n",
      " 3   name               55485 non-null  object \n",
      " 4   latitude_deg       55485 non-null  float64\n",
      " 5   longitude_deg      55485 non-null  float64\n",
      " 6   elevation_ft       48458 non-null  float64\n",
      " 7   continent          27606 non-null  object \n",
      " 8   iso_country        55238 non-null  object \n",
      " 9   iso_region         55485 non-null  object \n",
      " 10  municipality       49755 non-null  object \n",
      " 11  scheduled_service  55485 non-null  object \n",
      " 12  gps_code           41118 non-null  object \n",
      " 13  iata_code          9194 non-null   object \n",
      " 14  local_code         28976 non-null  object \n",
      " 15  home_link          3012 non-null   object \n",
      " 16  wikipedia_link     9909 non-null   object \n",
      " 17  keywords           9545 non-null   object \n",
      "dtypes: float64(3), int64(1), object(14)\n",
      "memory usage: 7.6+ MB\n",
      "None\n",
      "====================AIRPORTS HEAD====================\n",
      "         id ident            type                           name  \\\n",
      "31763  4307  LIAP   small_airport       L'Aquila–Preturo Airport   \n",
      "31769  4309  LIBC  medium_airport                Crotone Airport   \n",
      "31770  4310  LIBD   large_airport     Bari Karol Wojtyła Airport   \n",
      "31776  4314  LIBP  medium_airport  Pescara International Airport   \n",
      "31777  4315  LIBR  medium_airport     Brindisi – Salento Airport   \n",
      "\n",
      "       latitude_deg  longitude_deg  elevation_ft continent iso_country  \\\n",
      "31763     42.379902      13.309200        2211.0        EU          IT   \n",
      "31769     38.997200      17.080200         522.0        EU          IT   \n",
      "31770     41.138901      16.760599         177.0        EU          IT   \n",
      "31776     42.431702      14.181100          48.0        EU          IT   \n",
      "31777     40.657600      17.947001          47.0        EU          IT   \n",
      "\n",
      "      iso_region municipality scheduled_service gps_code iata_code local_code  \\\n",
      "31763      IT-65     L'Aquila                no     LIAP       QAQ       AQ03   \n",
      "31769      IT-78      Crotone               yes     LIBC       CRV       KR01   \n",
      "31770      IT-75         Bari               yes     LIBD       BRI       BA02   \n",
      "31776      IT-65      Pescara               yes     LIBP       PSR       PE01   \n",
      "31777      IT-75     Brindisi               yes     LIBR       BDS       BR03   \n",
      "\n",
      "                                               home_link  \\\n",
      "31763                  http://www.aeroportodeiparchi.it/   \n",
      "31769    http://www.aeroporto.kr.it/cartaservizi_eng.asp   \n",
      "31770  http://www.seap-puglia.it/default.asp?idlingua...   \n",
      "31776        http://www.abruzzo-airport.it/eng/index.php   \n",
      "31777  http://www.seap-puglia.it/default.asp?idlingua...   \n",
      "\n",
      "                                          wikipedia_link  \\\n",
      "31763  http://en.wikipedia.org/wiki/L%27Aquila%E2%80%...   \n",
      "31769       http://en.wikipedia.org/wiki/Crotone_Airport   \n",
      "31770  http://en.wikipedia.org/wiki/Bari_Karol_Wojty%...   \n",
      "31776  http://en.wikipedia.org/wiki/Abruzzo_Internati...   \n",
      "31777  http://en.wikipedia.org/wiki/Brindisi_%E2%80%9...   \n",
      "\n",
      "                                                keywords  \n",
      "31763  Parchi Airport, Preturo Airport, Aeroporto dei...  \n",
      "31769                                  Sant'Anna Airport  \n",
      "31770  Bari \"Karol Wojtyla\" International Airport, Pa...  \n",
      "31776                                           P Liberi  \n",
      "31777                     Brindisi Papola Casale Airport  \n",
      "====================AIRPORTS STATS====================\n"
     ]
    }
   ],
   "source": [
    "#Loading airports data\n",
    "airports_df = pd.read_csv(\"data_raw/airports.csv\", on_bad_lines='warn')\n",
    "print(\"=\"*20 + \"AIRPORTS DESCRIBE\" + \"=\"*20)\n",
    "print(airports_df.describe())\n",
    "print(\"=\"*20 + \"AIRPORTS INFO\" + \"=\"*20)\n",
    "print(airports_df.info())\n",
    "print(\"=\"*20 + \"AIRPORTS HEAD\" + \"=\"*20)\n",
    "print(airports_df[~airports_df.isna().any(axis=1)].head())\n",
    "print(\"=\"*20 + \"AIRPORTS STATS\" + \"=\"*20)\n",
    "if PRINT_STAT_COLS:\n",
    "    print(col_stats_to_string(airports_df))"
   ],
   "metadata": {
    "collapsed": false,
    "pycharm": {
     "name": "#%%\n"
    }
   }
  },
  {
   "cell_type": "code",
   "execution_count": 72,
   "outputs": [
    {
     "data": {
      "text/plain": "           id    ident            type                                name  \\\n0        6523      00A        heliport                   Total Rf Heliport   \n1      323361     00AA   small_airport                Aero B Ranch Airport   \n2        6524     00AK   small_airport                        Lowell Field   \n3        6525     00AL   small_airport                        Epps Airpark   \n4        6526     00AR          closed  Newport Hospital & Clinic Heliport   \n...       ...      ...             ...                                 ...   \n55480  317861     ZYYK  medium_airport               Yingkou Lanqi Airport   \n55481   32753     ZYYY  medium_airport             Shenyang Dongta Airport   \n55482   46378  ZZ-0001        heliport                     Sealand Helipad   \n55483  307326  ZZ-0002   small_airport           Glorioso Islands Airstrip   \n55484  313629     ZZZZ   small_airport              Satsuma Iōjima Airport   \n\n       latitude_deg  longitude_deg  elevation_ft iso_region      municipality  \\\n0         40.070801     -74.933601          11.0      US-PA          Bensalem   \n1         38.704022    -101.473911        3435.0      US-KS             Leoti   \n2         59.949200    -151.695999         450.0      US-AK      Anchor Point   \n3         34.864799     -86.770302         820.0      US-AL           Harvest   \n4         35.608700     -91.254898         237.0      US-AR           Newport   \n...             ...            ...           ...        ...               ...   \n55480     40.542524     122.358600           0.0      CN-21           Yingkou   \n55481     41.784401     123.496002           NaN      CN-21          Shenyang   \n55482     51.894444       1.482500          40.0     GB-ENG           Sealand   \n55483    -11.584278      47.296389          11.0     TF-U-A  Grande Glorieuse   \n55484     30.784722     130.270556         338.0      JP-46      Mishima-Mura   \n\n      scheduled_service gps_code iata_code local_code  \n0                    no      00A       NaN        00A  \n1                    no     00AA       NaN       00AA  \n2                    no     00AK       NaN       00AK  \n3                    no     00AL       NaN       00AL  \n4                    no      NaN       NaN        NaN  \n...                 ...      ...       ...        ...  \n55480               yes     ZYYK       YKH        NaN  \n55481                no     ZYYY       NaN        NaN  \n55482                no      NaN       NaN        NaN  \n55483                no      NaN       NaN        NaN  \n55484                no     RJX7       NaN        NaN  \n\n[55485 rows x 13 columns]",
      "text/html": "<div>\n<style scoped>\n    .dataframe tbody tr th:only-of-type {\n        vertical-align: middle;\n    }\n\n    .dataframe tbody tr th {\n        vertical-align: top;\n    }\n\n    .dataframe thead th {\n        text-align: right;\n    }\n</style>\n<table border=\"1\" class=\"dataframe\">\n  <thead>\n    <tr style=\"text-align: right;\">\n      <th></th>\n      <th>id</th>\n      <th>ident</th>\n      <th>type</th>\n      <th>name</th>\n      <th>latitude_deg</th>\n      <th>longitude_deg</th>\n      <th>elevation_ft</th>\n      <th>iso_region</th>\n      <th>municipality</th>\n      <th>scheduled_service</th>\n      <th>gps_code</th>\n      <th>iata_code</th>\n      <th>local_code</th>\n    </tr>\n  </thead>\n  <tbody>\n    <tr>\n      <th>0</th>\n      <td>6523</td>\n      <td>00A</td>\n      <td>heliport</td>\n      <td>Total Rf Heliport</td>\n      <td>40.070801</td>\n      <td>-74.933601</td>\n      <td>11.0</td>\n      <td>US-PA</td>\n      <td>Bensalem</td>\n      <td>no</td>\n      <td>00A</td>\n      <td>NaN</td>\n      <td>00A</td>\n    </tr>\n    <tr>\n      <th>1</th>\n      <td>323361</td>\n      <td>00AA</td>\n      <td>small_airport</td>\n      <td>Aero B Ranch Airport</td>\n      <td>38.704022</td>\n      <td>-101.473911</td>\n      <td>3435.0</td>\n      <td>US-KS</td>\n      <td>Leoti</td>\n      <td>no</td>\n      <td>00AA</td>\n      <td>NaN</td>\n      <td>00AA</td>\n    </tr>\n    <tr>\n      <th>2</th>\n      <td>6524</td>\n      <td>00AK</td>\n      <td>small_airport</td>\n      <td>Lowell Field</td>\n      <td>59.949200</td>\n      <td>-151.695999</td>\n      <td>450.0</td>\n      <td>US-AK</td>\n      <td>Anchor Point</td>\n      <td>no</td>\n      <td>00AK</td>\n      <td>NaN</td>\n      <td>00AK</td>\n    </tr>\n    <tr>\n      <th>3</th>\n      <td>6525</td>\n      <td>00AL</td>\n      <td>small_airport</td>\n      <td>Epps Airpark</td>\n      <td>34.864799</td>\n      <td>-86.770302</td>\n      <td>820.0</td>\n      <td>US-AL</td>\n      <td>Harvest</td>\n      <td>no</td>\n      <td>00AL</td>\n      <td>NaN</td>\n      <td>00AL</td>\n    </tr>\n    <tr>\n      <th>4</th>\n      <td>6526</td>\n      <td>00AR</td>\n      <td>closed</td>\n      <td>Newport Hospital &amp; Clinic Heliport</td>\n      <td>35.608700</td>\n      <td>-91.254898</td>\n      <td>237.0</td>\n      <td>US-AR</td>\n      <td>Newport</td>\n      <td>no</td>\n      <td>NaN</td>\n      <td>NaN</td>\n      <td>NaN</td>\n    </tr>\n    <tr>\n      <th>...</th>\n      <td>...</td>\n      <td>...</td>\n      <td>...</td>\n      <td>...</td>\n      <td>...</td>\n      <td>...</td>\n      <td>...</td>\n      <td>...</td>\n      <td>...</td>\n      <td>...</td>\n      <td>...</td>\n      <td>...</td>\n      <td>...</td>\n    </tr>\n    <tr>\n      <th>55480</th>\n      <td>317861</td>\n      <td>ZYYK</td>\n      <td>medium_airport</td>\n      <td>Yingkou Lanqi Airport</td>\n      <td>40.542524</td>\n      <td>122.358600</td>\n      <td>0.0</td>\n      <td>CN-21</td>\n      <td>Yingkou</td>\n      <td>yes</td>\n      <td>ZYYK</td>\n      <td>YKH</td>\n      <td>NaN</td>\n    </tr>\n    <tr>\n      <th>55481</th>\n      <td>32753</td>\n      <td>ZYYY</td>\n      <td>medium_airport</td>\n      <td>Shenyang Dongta Airport</td>\n      <td>41.784401</td>\n      <td>123.496002</td>\n      <td>NaN</td>\n      <td>CN-21</td>\n      <td>Shenyang</td>\n      <td>no</td>\n      <td>ZYYY</td>\n      <td>NaN</td>\n      <td>NaN</td>\n    </tr>\n    <tr>\n      <th>55482</th>\n      <td>46378</td>\n      <td>ZZ-0001</td>\n      <td>heliport</td>\n      <td>Sealand Helipad</td>\n      <td>51.894444</td>\n      <td>1.482500</td>\n      <td>40.0</td>\n      <td>GB-ENG</td>\n      <td>Sealand</td>\n      <td>no</td>\n      <td>NaN</td>\n      <td>NaN</td>\n      <td>NaN</td>\n    </tr>\n    <tr>\n      <th>55483</th>\n      <td>307326</td>\n      <td>ZZ-0002</td>\n      <td>small_airport</td>\n      <td>Glorioso Islands Airstrip</td>\n      <td>-11.584278</td>\n      <td>47.296389</td>\n      <td>11.0</td>\n      <td>TF-U-A</td>\n      <td>Grande Glorieuse</td>\n      <td>no</td>\n      <td>NaN</td>\n      <td>NaN</td>\n      <td>NaN</td>\n    </tr>\n    <tr>\n      <th>55484</th>\n      <td>313629</td>\n      <td>ZZZZ</td>\n      <td>small_airport</td>\n      <td>Satsuma Iōjima Airport</td>\n      <td>30.784722</td>\n      <td>130.270556</td>\n      <td>338.0</td>\n      <td>JP-46</td>\n      <td>Mishima-Mura</td>\n      <td>no</td>\n      <td>RJX7</td>\n      <td>NaN</td>\n      <td>NaN</td>\n    </tr>\n  </tbody>\n</table>\n<p>55485 rows × 13 columns</p>\n</div>"
     },
     "execution_count": 72,
     "metadata": {},
     "output_type": "execute_result"
    }
   ],
   "source": [
    "na_airports_df = airports_df.drop(columns = [\"continent\", \"iso_country\",\"wikipedia_link\", \"home_link\", \"keywords\"])\n",
    "na_airports_df"
   ],
   "metadata": {
    "collapsed": false,
    "pycharm": {
     "name": "#%%\n"
    }
   }
  },
  {
   "cell_type": "code",
   "execution_count": 73,
   "outputs": [
    {
     "data": {
      "text/plain": "         id ident           type  \\\n26344  3384  KATL  large_airport   \n\n                                                   name  latitude_deg  \\\n26344  Hartsfield Jackson Atlanta International Airport       33.6367   \n\n       longitude_deg  elevation_ft iso_region municipality scheduled_service  \\\n26344     -84.428101        1026.0      US-GA      Atlanta               yes   \n\n      gps_code iata_code local_code  \n26344     KATL       ATL        ATL  ",
      "text/html": "<div>\n<style scoped>\n    .dataframe tbody tr th:only-of-type {\n        vertical-align: middle;\n    }\n\n    .dataframe tbody tr th {\n        vertical-align: top;\n    }\n\n    .dataframe thead th {\n        text-align: right;\n    }\n</style>\n<table border=\"1\" class=\"dataframe\">\n  <thead>\n    <tr style=\"text-align: right;\">\n      <th></th>\n      <th>id</th>\n      <th>ident</th>\n      <th>type</th>\n      <th>name</th>\n      <th>latitude_deg</th>\n      <th>longitude_deg</th>\n      <th>elevation_ft</th>\n      <th>iso_region</th>\n      <th>municipality</th>\n      <th>scheduled_service</th>\n      <th>gps_code</th>\n      <th>iata_code</th>\n      <th>local_code</th>\n    </tr>\n  </thead>\n  <tbody>\n    <tr>\n      <th>26344</th>\n      <td>3384</td>\n      <td>KATL</td>\n      <td>large_airport</td>\n      <td>Hartsfield Jackson Atlanta International Airport</td>\n      <td>33.6367</td>\n      <td>-84.428101</td>\n      <td>1026.0</td>\n      <td>US-GA</td>\n      <td>Atlanta</td>\n      <td>yes</td>\n      <td>KATL</td>\n      <td>ATL</td>\n      <td>ATL</td>\n    </tr>\n  </tbody>\n</table>\n</div>"
     },
     "execution_count": 73,
     "metadata": {},
     "output_type": "execute_result"
    }
   ],
   "source": [
    "atl_port = na_airports_df[na_airports_df['ident'] == 'KATL']\n",
    "atl_port"
   ],
   "metadata": {
    "collapsed": false,
    "pycharm": {
     "name": "#%%\n"
    }
   }
  },
  {
   "cell_type": "code",
   "execution_count": 74,
   "outputs": [
    {
     "name": "stdout",
     "output_type": "stream",
     "text": [
      "====================RUNWAYS DESCRIBE====================\n",
      "                  id    airport_ref      length_ft      width_ft  \\\n",
      "count   41383.000000   41383.000000   41193.000000  38728.000000   \n",
      "mean   256849.131745   32683.987169    3264.063846    110.638091   \n",
      "std     20566.421018   65148.247698    2735.417166    232.403520   \n",
      "min    232758.000000       2.000000       0.000000      0.000000   \n",
      "25%    243114.500000    8479.500000    1700.000000     59.000000   \n",
      "50%    253465.000000   18595.000000    2750.000000     75.000000   \n",
      "75%    263823.500000   27243.500000    4250.000000    100.000000   \n",
      "max    332459.000000  332458.000000  120000.000000   9000.000000   \n",
      "\n",
      "            lighted        closed  le_latitude_deg  le_longitude_deg  \\\n",
      "count  41383.000000  41383.000000     1.439700e+04      14394.000000   \n",
      "mean       0.261339      0.014644     7.258186e+02        -40.376565   \n",
      "std        0.439370      0.120123     8.334176e+04         79.858304   \n",
      "min        0.000000      0.000000    -7.559720e+01       -178.303000   \n",
      "25%        0.000000      0.000000     2.885890e+01        -96.676725   \n",
      "50%        0.000000      0.000000     3.760050e+01        -80.443850   \n",
      "75%        1.000000      0.000000     4.427290e+01         15.297200   \n",
      "max        1.000000      1.000000     1.000000e+07        179.337000   \n",
      "\n",
      "       le_elevation_ft  le_heading_degT  le_displaced_threshold_ft  \\\n",
      "count     1.217900e+04     14189.000000               2.810000e+03   \n",
      "mean      1.880386e+03       174.750853               4.091040e+03   \n",
      "std       9.061601e+04      8394.385587               1.886362e+05   \n",
      "min      -1.246000e+03         0.000000               1.000000e+00   \n",
      "25%       1.170000e+02        57.000000               2.300000e+02   \n",
      "50%       5.710000e+02        98.100000               4.000000e+02   \n",
      "75%       1.245000e+03       148.000000               6.807500e+02   \n",
      "max       1.000000e+07   1000000.000000               1.000000e+07   \n",
      "\n",
      "       he_latitude_deg  he_longitude_deg  he_elevation_ft  he_heading_degT  \\\n",
      "count     14379.000000      14381.000000     12059.000000     15999.000000   \n",
      "mean         31.226594        -40.337643      1053.873290       261.711348   \n",
      "std          22.990649         79.852144      1458.415762        78.477302   \n",
      "min         -75.595400       -178.292000     -1210.000000         0.000000   \n",
      "25%          28.849300        -96.672000       115.500000       226.000000   \n",
      "50%          37.590600        -80.417600       566.000000       270.000000   \n",
      "75%          44.264150         15.334600      1235.000000       316.000000   \n",
      "max          82.522800        179.343000     13314.000000       363.000000   \n",
      "\n",
      "       he_displaced_threshold_ft  Unnamed: 20  \n",
      "count                3122.000000          0.0  \n",
      "mean                  537.436899          NaN  \n",
      "std                   468.955227          NaN  \n",
      "min                     1.000000          NaN  \n",
      "25%                   227.250000          NaN  \n",
      "50%                   400.000000          NaN  \n",
      "75%                   699.000000          NaN  \n",
      "max                  5001.000000          NaN  \n",
      "====================RUNWAYS HEAD====================\n",
      "       id  airport_ref airport_ident  length_ft  width_ft surface  lighted  \\\n",
      "0  269408         6523           00A       80.0      80.0  ASPH-G        1   \n",
      "1  255155         6524          00AK     2500.0      70.0    GRVL        0   \n",
      "2  254165         6525          00AL     2300.0     200.0    TURF        0   \n",
      "3  270932         6526          00AR       40.0      40.0   GRASS        0   \n",
      "4  322128       322127          00AS     1450.0      60.0    Turf        0   \n",
      "\n",
      "   closed le_ident  le_latitude_deg  ...  le_elevation_ft  le_heading_degT  \\\n",
      "0       0       H1              NaN  ...              NaN              NaN   \n",
      "1       0        N              NaN  ...              NaN              NaN   \n",
      "2       0       01              NaN  ...              NaN              NaN   \n",
      "3       0       H1              NaN  ...              NaN              NaN   \n",
      "4       0        1              NaN  ...              NaN              NaN   \n",
      "\n",
      "   le_displaced_threshold_ft  he_ident he_latitude_deg  he_longitude_deg  \\\n",
      "0                        NaN       NaN             NaN               NaN   \n",
      "1                        NaN         S             NaN               NaN   \n",
      "2                        NaN        19             NaN               NaN   \n",
      "3                        NaN        H1             NaN               NaN   \n",
      "4                        NaN        19             NaN               NaN   \n",
      "\n",
      "   he_elevation_ft  he_heading_degT  he_displaced_threshold_ft  Unnamed: 20  \n",
      "0              NaN              NaN                        NaN          NaN  \n",
      "1              NaN              NaN                        NaN          NaN  \n",
      "2              NaN              NaN                        NaN          NaN  \n",
      "3              NaN              NaN                        NaN          NaN  \n",
      "4              NaN              NaN                        NaN          NaN  \n",
      "\n",
      "[5 rows x 21 columns]\n",
      "====================RUNWAYS INFO====================\n",
      "<class 'pandas.core.frame.DataFrame'>\n",
      "RangeIndex: 41383 entries, 0 to 41382\n",
      "Data columns (total 21 columns):\n",
      " #   Column                     Non-Null Count  Dtype  \n",
      "---  ------                     --------------  -----  \n",
      " 0   id                         41383 non-null  int64  \n",
      " 1   airport_ref                41383 non-null  int64  \n",
      " 2   airport_ident              41383 non-null  object \n",
      " 3   length_ft                  41193 non-null  float64\n",
      " 4   width_ft                   38728 non-null  float64\n",
      " 5   surface                    41065 non-null  object \n",
      " 6   lighted                    41383 non-null  int64  \n",
      " 7   closed                     41383 non-null  int64  \n",
      " 8   le_ident                   41263 non-null  object \n",
      " 9   le_latitude_deg            14397 non-null  float64\n",
      " 10  le_longitude_deg           14394 non-null  float64\n",
      " 11  le_elevation_ft            12179 non-null  float64\n",
      " 12  le_heading_degT            14189 non-null  float64\n",
      " 13  le_displaced_threshold_ft  2810 non-null   float64\n",
      " 14  he_ident                   35245 non-null  object \n",
      " 15  he_latitude_deg            14379 non-null  float64\n",
      " 16  he_longitude_deg           14381 non-null  float64\n",
      " 17  he_elevation_ft            12059 non-null  float64\n",
      " 18  he_heading_degT            15999 non-null  float64\n",
      " 19  he_displaced_threshold_ft  3122 non-null   float64\n",
      " 20  Unnamed: 20                0 non-null      float64\n",
      "dtypes: float64(13), int64(4), object(4)\n",
      "memory usage: 6.6+ MB\n",
      "None\n"
     ]
    }
   ],
   "source": [
    "#Loading runways data\n",
    "runways_df = pd.read_csv(\"data_raw/runways.csv\",encoding='latin-1', on_bad_lines='warn')\n",
    "print(\"=\"*20 + \"RUNWAYS DESCRIBE\" + \"=\"*20)\n",
    "print(runways_df.describe())\n",
    "print(\"=\"*20 + \"RUNWAYS HEAD\" + \"=\"*20)\n",
    "print(runways_df.head())\n",
    "print(\"=\"*20 + \"RUNWAYS INFO\" + \"=\"*20)\n",
    "print(runways_df.info())"
   ],
   "metadata": {
    "collapsed": false,
    "pycharm": {
     "name": "#%%\n"
    }
   }
  },
  {
   "cell_type": "code",
   "execution_count": 75,
   "outputs": [
    {
     "data": {
      "text/plain": "       length_ft  width_ft surface  lighted  closed le_ident  le_latitude_deg  \\\n19575     9000.0     150.0     CON        1       0      08L          33.6495   \n19576    10000.0     150.0     CON        1       0      08R          33.6468   \n19577    11890.0     150.0     CON        1       0      09L          33.6347   \n19578     9001.0     150.0     CON        1       0      09R          33.6318   \n19579     9000.0     150.0     CON        1       0       10          33.6203   \n\n       le_longitude_deg  le_elevation_ft  le_heading_degT he_ident  \\\n19575          -84.4390           1015.0             90.0      26R   \n19576          -84.4384           1024.0             90.0      26L   \n19577          -84.4480           1019.0             90.0      27R   \n19578          -84.4480           1026.0             90.0      27L   \n19579          -84.4479           1000.0             90.0       28   \n\n       he_latitude_deg  he_longitude_deg  he_elevation_ft  he_heading_degT  \n19575          33.6495          -84.4095            990.0            270.0  \n19576          33.6468          -84.4055            995.0            270.0  \n19577          33.6347          -84.4089            978.0            270.0  \n19578          33.6318          -84.4184            985.0            270.0  \n19579          33.6203          -84.4183            998.0            270.0  ",
      "text/html": "<div>\n<style scoped>\n    .dataframe tbody tr th:only-of-type {\n        vertical-align: middle;\n    }\n\n    .dataframe tbody tr th {\n        vertical-align: top;\n    }\n\n    .dataframe thead th {\n        text-align: right;\n    }\n</style>\n<table border=\"1\" class=\"dataframe\">\n  <thead>\n    <tr style=\"text-align: right;\">\n      <th></th>\n      <th>length_ft</th>\n      <th>width_ft</th>\n      <th>surface</th>\n      <th>lighted</th>\n      <th>closed</th>\n      <th>le_ident</th>\n      <th>le_latitude_deg</th>\n      <th>le_longitude_deg</th>\n      <th>le_elevation_ft</th>\n      <th>le_heading_degT</th>\n      <th>he_ident</th>\n      <th>he_latitude_deg</th>\n      <th>he_longitude_deg</th>\n      <th>he_elevation_ft</th>\n      <th>he_heading_degT</th>\n    </tr>\n  </thead>\n  <tbody>\n    <tr>\n      <th>19575</th>\n      <td>9000.0</td>\n      <td>150.0</td>\n      <td>CON</td>\n      <td>1</td>\n      <td>0</td>\n      <td>08L</td>\n      <td>33.6495</td>\n      <td>-84.4390</td>\n      <td>1015.0</td>\n      <td>90.0</td>\n      <td>26R</td>\n      <td>33.6495</td>\n      <td>-84.4095</td>\n      <td>990.0</td>\n      <td>270.0</td>\n    </tr>\n    <tr>\n      <th>19576</th>\n      <td>10000.0</td>\n      <td>150.0</td>\n      <td>CON</td>\n      <td>1</td>\n      <td>0</td>\n      <td>08R</td>\n      <td>33.6468</td>\n      <td>-84.4384</td>\n      <td>1024.0</td>\n      <td>90.0</td>\n      <td>26L</td>\n      <td>33.6468</td>\n      <td>-84.4055</td>\n      <td>995.0</td>\n      <td>270.0</td>\n    </tr>\n    <tr>\n      <th>19577</th>\n      <td>11890.0</td>\n      <td>150.0</td>\n      <td>CON</td>\n      <td>1</td>\n      <td>0</td>\n      <td>09L</td>\n      <td>33.6347</td>\n      <td>-84.4480</td>\n      <td>1019.0</td>\n      <td>90.0</td>\n      <td>27R</td>\n      <td>33.6347</td>\n      <td>-84.4089</td>\n      <td>978.0</td>\n      <td>270.0</td>\n    </tr>\n    <tr>\n      <th>19578</th>\n      <td>9001.0</td>\n      <td>150.0</td>\n      <td>CON</td>\n      <td>1</td>\n      <td>0</td>\n      <td>09R</td>\n      <td>33.6318</td>\n      <td>-84.4480</td>\n      <td>1026.0</td>\n      <td>90.0</td>\n      <td>27L</td>\n      <td>33.6318</td>\n      <td>-84.4184</td>\n      <td>985.0</td>\n      <td>270.0</td>\n    </tr>\n    <tr>\n      <th>19579</th>\n      <td>9000.0</td>\n      <td>150.0</td>\n      <td>CON</td>\n      <td>1</td>\n      <td>0</td>\n      <td>10</td>\n      <td>33.6203</td>\n      <td>-84.4479</td>\n      <td>1000.0</td>\n      <td>90.0</td>\n      <td>28</td>\n      <td>33.6203</td>\n      <td>-84.4183</td>\n      <td>998.0</td>\n      <td>270.0</td>\n    </tr>\n  </tbody>\n</table>\n</div>"
     },
     "execution_count": 75,
     "metadata": {},
     "output_type": "execute_result"
    }
   ],
   "source": [
    "atl_runways = runways_df[runways_df['airport_ident'] == 'KATL']\n",
    "atl_runways = atl_runways.drop(columns=['airport_ref', 'airport_ident','le_displaced_threshold_ft','Unnamed: 20', 'he_displaced_threshold_ft', 'id'])\n",
    "atl_runways"
   ],
   "metadata": {
    "collapsed": false,
    "pycharm": {
     "name": "#%%\n"
    }
   }
  },
  {
   "cell_type": "markdown",
   "source": [
    "# Aircraft Data\n",
    "\n",
    "## Introduction\n",
    "Aircraft data was gathered by checking all occurring tail numbers in the flights data table by web scraping the following site. __[https://www.airfleets.net/recherche?key='tail_number'](https://www.airfleets.net/recherche/)__\n",
    "With that I could combine my flight data with the aircrafts which are included in the flights data. Some values were still missing and had to be checked by hand.\n"
   ],
   "metadata": {
    "collapsed": false,
    "pycharm": {
     "name": "#%% md\n"
    }
   }
  },
  {
   "cell_type": "code",
   "execution_count": 76,
   "outputs": [
    {
     "name": "stdout",
     "output_type": "stream",
     "text": [
      "====================AIRCRAFTS DESCRIBE====================\n",
      "       Date Completed Manufacturer   Model Physical Class (Engine) Engines  \\\n",
      "count             873         2764    2764                    2764    2764   \n",
      "unique             72          424    2559                       8       6   \n",
      "top               tbd       Boeing  BK-117                     tbd     tbd   \n",
      "freq              163          113       5                    1831    1956   \n",
      "\n",
      "             AAC       ADG   TDG Approach Speed(Vref) Wingtip Configuration  \\\n",
      "count       2764      2764  2762                  853                  2764   \n",
      "unique         6         8    10                  113                    21   \n",
      "top     No Value  No Value   tbd                  140                   tbd   \n",
      "freq        1911      1899  2036                   41                  2023   \n",
      "\n",
      "        ... MGW(Outer to Outer)  MTOW Max RampMax Taxi Main Gear Config  \\\n",
      "count   ...                2764  2764             2764             2764   \n",
      "unique  ...                 127   541              426               11   \n",
      "top     ...                 tbd   tbd              tbd              tbd   \n",
      "freq    ...                2294  1916             2081             1969   \n",
      "\n",
      "       ICAO Code Wake Category ATCT Weight Class Years Manufactured  Note  \\\n",
      "count       2764          2764              2764               2764  2764   \n",
      "unique      1239             4                 7                 69    11   \n",
      "top          tbd             L               tbd                tbd   tbd   \n",
      "freq         537          1365              2172               2675  2742   \n",
      "\n",
      "       Parking Area (WS x Length), sf  \n",
      "count                            2764  \n",
      "unique                            454  \n",
      "top                            #WERT!  \n",
      "freq                             2024  \n",
      "\n",
      "[4 rows x 25 columns]\n",
      "====================AIRCRAFTS PRINT====================\n",
      "  Date Completed Manufacturer          Model Physical Class (Engine) Engines  \\\n",
      "0     2018-Jul-3   Acro Sport     Acro Sport                  Piston       1   \n",
      "1     2018-Jun-1   Acro Sport  Acro Sport II                  Piston       1   \n",
      "2     2018-Jul-3   Acro Sport         Cougar                  Piston       1   \n",
      "3     2018-Jul-3   Acro Sport     Junior Ace                  Piston       1   \n",
      "4     2018-Jul-3   Acro Sport      Super Ace                  Piston       1   \n",
      "\n",
      "  AAC ADG TDG Approach Speed(Vref) Wingtip Configuration  ...  \\\n",
      "0   A   I  1A                   56           no winglets  ...   \n",
      "1   A   I  1A                   60           no winglets  ...   \n",
      "2   A   I  1A                   46           no winglets  ...   \n",
      "3   A   I  1A                   49           no winglets  ...   \n",
      "4   A   I  1A                   49           no winglets  ...   \n",
      "\n",
      "  MGW(Outer to Outer)   MTOW Max RampMax Taxi Main Gear Config ICAO Code  \\\n",
      "0                 tbd  1 350            1 520                S      ACRO   \n",
      "1                 tbd  1 520            1 520                S      ACR2   \n",
      "2                 tbd  1 250            1 250                S      COUG   \n",
      "3                 tbd  1 225            1 225                S      JACE   \n",
      "4                 tbd  1 030            1 030                S      SACE   \n",
      "\n",
      "  Wake Category ATCT Weight Class Years Manufactured Note  \\\n",
      "0             L        Small Eqpt                tbd  tbd   \n",
      "1             L        Small Eqpt                tbd  tbd   \n",
      "2             L        Small Eqpt                tbd  tbd   \n",
      "3             L        Small Eqpt                tbd  tbd   \n",
      "4             L        Small Eqpt                tbd  tbd   \n",
      "\n",
      "  Parking Area (WS x Length), sf  \n",
      "0                            343  \n",
      "1                            409  \n",
      "2                            388  \n",
      "3                            477  \n",
      "4                            505  \n",
      "\n",
      "[5 rows x 25 columns]\n",
      "====================AIRCRAFTS INFO====================\n",
      "<class 'pandas.core.frame.DataFrame'>\n",
      "RangeIndex: 2764 entries, 0 to 2763\n",
      "Data columns (total 25 columns):\n",
      " #   Column                          Non-Null Count  Dtype \n",
      "---  ------                          --------------  ----- \n",
      " 0   Date Completed                  873 non-null    object\n",
      " 1   Manufacturer                    2764 non-null   object\n",
      " 2   Model                           2764 non-null   object\n",
      " 3   Physical Class (Engine)         2764 non-null   object\n",
      " 4   Engines                         2764 non-null   object\n",
      " 5   AAC                             2764 non-null   object\n",
      " 6   ADG                             2764 non-null   object\n",
      " 7   TDG                             2762 non-null   object\n",
      " 8   Approach Speed(Vref)            853 non-null    object\n",
      " 9   Wingtip Configuration           2764 non-null   object\n",
      " 10  Wingspan, ft                    865 non-null    object\n",
      " 11  Length, ft                      2764 non-null   object\n",
      " 12  Tail Height, ft(@ OEW)          2764 non-null   object\n",
      " 13  Wheelbase, ft                   2764 non-null   object\n",
      " 14  Cockpit to Main Gear (CMG)      2764 non-null   object\n",
      " 15  MGW(Outer to Outer)             2764 non-null   object\n",
      " 16  MTOW                            2764 non-null   object\n",
      " 17  Max RampMax Taxi                2764 non-null   object\n",
      " 18  Main Gear Config                2764 non-null   object\n",
      " 19  ICAO Code                       2764 non-null   object\n",
      " 20  Wake Category                   2764 non-null   object\n",
      " 21  ATCT Weight Class               2764 non-null   object\n",
      " 22  Years Manufactured              2764 non-null   object\n",
      " 23  Note                            2764 non-null   object\n",
      " 24  Parking Area (WS x Length), sf  2764 non-null   object\n",
      "dtypes: object(25)\n",
      "memory usage: 540.0+ KB\n"
     ]
    }
   ],
   "source": [
    "#Loading aircrafts data\n",
    "aircrafts_df = pd.read_csv(\"data_raw/all_aircrafts_FAA.csv\",encoding='latin-1', on_bad_lines='warn', sep=\";\")\n",
    "print(\"=\"*20 + \"AIRCRAFTS DESCRIBE\" + \"=\"*20)\n",
    "print(aircrafts_df.describe())\n",
    "print(\"=\"*20 + \"AIRCRAFTS PRINT\" + \"=\"*20)\n",
    "print(aircrafts_df.head())\n",
    "print(\"=\" * 20 + \"AIRCRAFTS INFO\" + \"=\" * 20)\n",
    "aircrafts_df.info()"
   ],
   "metadata": {
    "collapsed": false,
    "pycharm": {
     "name": "#%%\n"
    }
   }
  },
  {
   "cell_type": "code",
   "execution_count": 77,
   "outputs": [
    {
     "name": "stderr",
     "output_type": "stream",
     "text": [
      "C:\\ProgramData\\Anaconda\\lib\\site-packages\\ipykernel_launcher.py:3: UserWarning: Boolean Series key will be reindexed to match DataFrame index.\n",
      "  This is separate from the ipykernel package so we can avoid doing imports until\n"
     ]
    },
    {
     "data": {
      "text/plain": "                   Aircraft TAIL_NUM    MSN  \\\n0     Canadair Regional Jet   N925EV   7831   \n1     Canadair Regional Jet   N856AS   7404   \n2     Canadair Regional Jet   N861AS   7445   \n3     Canadair Regional Jet   N858AS   7417   \n4     Canadair Regional Jet   N855AS   7395   \n...                     ...      ...    ...   \n3323             Boeing 737   N624SW  27934   \n3324             Boeing 737   N394SW  27380   \n3325            Airbus A319   N342NB   1746   \n3326             Boeing 737   N626SW  27702   \n3327  Canadair Regional Jet   N452SW   7716   \n\n                                               Airline    Status  \n0     SkyWest USAAtlantic Southeast AirlinesExpressjet    Active  \n1     SkyWest USAAtlantic Southeast AirlinesExpressjet    Active  \n2     SkyWest USAAtlantic Southeast AirlinesExpressjet    Stored  \n3                Atlantic Southeast AirlinesExpressjet  On order  \n4     Atlantic Southeast AirlinesExpressjetSkyWest USA    Stored  \n...                                                ...       ...  \n3323                                Southwest Airlines  Scrapped  \n3324                                Southwest Airlines    Stored  \n3325                 Delta Air LinesNorthwest Airlines    Active  \n3326          iAero AirwaysSouthwest AirlinesSwift Air    Active  \n3327                                       SkyWest USA    Active  \n\n[3267 rows x 5 columns]",
      "text/html": "<div>\n<style scoped>\n    .dataframe tbody tr th:only-of-type {\n        vertical-align: middle;\n    }\n\n    .dataframe tbody tr th {\n        vertical-align: top;\n    }\n\n    .dataframe thead th {\n        text-align: right;\n    }\n</style>\n<table border=\"1\" class=\"dataframe\">\n  <thead>\n    <tr style=\"text-align: right;\">\n      <th></th>\n      <th>Aircraft</th>\n      <th>TAIL_NUM</th>\n      <th>MSN</th>\n      <th>Airline</th>\n      <th>Status</th>\n    </tr>\n  </thead>\n  <tbody>\n    <tr>\n      <th>0</th>\n      <td>Canadair Regional Jet</td>\n      <td>N925EV</td>\n      <td>7831</td>\n      <td>SkyWest USAAtlantic Southeast AirlinesExpressjet</td>\n      <td>Active</td>\n    </tr>\n    <tr>\n      <th>1</th>\n      <td>Canadair Regional Jet</td>\n      <td>N856AS</td>\n      <td>7404</td>\n      <td>SkyWest USAAtlantic Southeast AirlinesExpressjet</td>\n      <td>Active</td>\n    </tr>\n    <tr>\n      <th>2</th>\n      <td>Canadair Regional Jet</td>\n      <td>N861AS</td>\n      <td>7445</td>\n      <td>SkyWest USAAtlantic Southeast AirlinesExpressjet</td>\n      <td>Stored</td>\n    </tr>\n    <tr>\n      <th>3</th>\n      <td>Canadair Regional Jet</td>\n      <td>N858AS</td>\n      <td>7417</td>\n      <td>Atlantic Southeast AirlinesExpressjet</td>\n      <td>On order</td>\n    </tr>\n    <tr>\n      <th>4</th>\n      <td>Canadair Regional Jet</td>\n      <td>N855AS</td>\n      <td>7395</td>\n      <td>Atlantic Southeast AirlinesExpressjetSkyWest USA</td>\n      <td>Stored</td>\n    </tr>\n    <tr>\n      <th>...</th>\n      <td>...</td>\n      <td>...</td>\n      <td>...</td>\n      <td>...</td>\n      <td>...</td>\n    </tr>\n    <tr>\n      <th>3323</th>\n      <td>Boeing 737</td>\n      <td>N624SW</td>\n      <td>27934</td>\n      <td>Southwest Airlines</td>\n      <td>Scrapped</td>\n    </tr>\n    <tr>\n      <th>3324</th>\n      <td>Boeing 737</td>\n      <td>N394SW</td>\n      <td>27380</td>\n      <td>Southwest Airlines</td>\n      <td>Stored</td>\n    </tr>\n    <tr>\n      <th>3325</th>\n      <td>Airbus A319</td>\n      <td>N342NB</td>\n      <td>1746</td>\n      <td>Delta Air LinesNorthwest Airlines</td>\n      <td>Active</td>\n    </tr>\n    <tr>\n      <th>3326</th>\n      <td>Boeing 737</td>\n      <td>N626SW</td>\n      <td>27702</td>\n      <td>iAero AirwaysSouthwest AirlinesSwift Air</td>\n      <td>Active</td>\n    </tr>\n    <tr>\n      <th>3327</th>\n      <td>Canadair Regional Jet</td>\n      <td>N452SW</td>\n      <td>7716</td>\n      <td>SkyWest USA</td>\n      <td>Active</td>\n    </tr>\n  </tbody>\n</table>\n<p>3267 rows × 5 columns</p>\n</div>"
     },
     "execution_count": 77,
     "metadata": {},
     "output_type": "execute_result"
    }
   ],
   "source": [
    "all_planes_df = read_pickle_from_subfolder(\"pickle/*.pkl\")\n",
    "all_planes_df = all_planes_df.rename(columns = {'Regist.':'TAIL_NUM'})\n",
    "drop_idx = all_planes_df.sort_values(by=[\"TAIL_NUM\",\"Status\"])[all_planes_df[[\"TAIL_NUM\", \"Status\"]].duplicated(subset=\"TAIL_NUM\", keep=False)].groupby(\"TAIL_NUM\", group_keys=False).apply(lambda x: x.loc[x.Status != \"Active\"]).index\n",
    "all_planes_df = all_planes_df.drop(labels= drop_idx, axis=\"index\")\n",
    "all_planes_df = all_planes_df[~all_planes_df.duplicated(subset=\"TAIL_NUM\", keep=\"first\")]\n",
    "all_planes_df"
   ],
   "metadata": {
    "collapsed": false,
    "pycharm": {
     "name": "#%%\n"
    }
   }
  },
  {
   "cell_type": "code",
   "execution_count": 78,
   "outputs": [
    {
     "name": "stdout",
     "output_type": "stream",
     "text": [
      "(748848, 11)\n",
      "(3267, 5)\n"
     ]
    }
   ],
   "source": [
    "print(atl_flights.shape)\n",
    "print(all_planes_df.shape)"
   ],
   "metadata": {
    "collapsed": false,
    "pycharm": {
     "name": "#%%\n"
    }
   }
  },
  {
   "cell_type": "code",
   "execution_count": 79,
   "outputs": [],
   "source": [
    "atl_flights_df = pd.merge(atl_flights,all_planes_df[[\"TAIL_NUM\",\"Aircraft\"]], how=\"inner\", on=\"TAIL_NUM\")"
   ],
   "metadata": {
    "collapsed": false,
    "pycharm": {
     "name": "#%%\n"
    }
   }
  },
  {
   "cell_type": "code",
   "execution_count": 80,
   "outputs": [
    {
     "data": {
      "text/plain": "0         Boeing 737 NG / Max\n1         Boeing 737 NG / Max\n2         Boeing 737 NG / Max\n3         Boeing 737 NG / Max\n4         Boeing 737 NG / Max\n                 ...         \n731139            Airbus A320\n731140            Airbus A320\n731141            Airbus A320\n731142            Airbus A320\n731143            Airbus A320\nName: Aircraft, Length: 731144, dtype: object"
     },
     "execution_count": 80,
     "metadata": {},
     "output_type": "execute_result"
    }
   ],
   "source": [
    "atl_flights_df[\"Aircraft\"]"
   ],
   "metadata": {
    "collapsed": false,
    "pycharm": {
     "name": "#%%\n"
    }
   }
  },
  {
   "cell_type": "code",
   "execution_count": 81,
   "outputs": [
    {
     "data": {
      "text/plain": "    Date Completed Manufacturer                    Model  \\\n469            NaN       Boeing                      720   \n470            NaN       Boeing             314A Clipper   \n471            NaN       Boeing                  707-020   \n472            NaN       Boeing                 707-120B   \n473            NaN       Boeing              707-320/420   \n..             ...          ...                      ...   \n577            NaN       Boeing  PT-18 Kaydet (Stearman)   \n578            NaN       Boeing  PT-27 Kaydet (Stearman)   \n579            NaN       Boeing               Raptor F22   \n580            NaN       Boeing                   RC-135   \n581            NaN       Boeing                   VCC-25   \n\n    Physical Class (Engine) Engines       AAC       ADG  TDG  \\\n469                     tbd     tbd  No Value  No Value  tbd   \n470                  Piston       4  No Value  No Value  tbd   \n471                     tbd     tbd  No Value  No Value  tbd   \n472                     Jet       4  No Value  No Value  tbd   \n473                     Jet       4  No Value  No Value  tbd   \n..                      ...     ...       ...       ...  ...   \n577                  Piston       1  No Value  No Value  tbd   \n578                  Piston       1  No Value  No Value  tbd   \n579                     tbd     tbd  No Value  No Value  tbd   \n580                     tbd     tbd  No Value  No Value  tbd   \n581                     tbd     tbd  No Value  No Value  tbd   \n\n    Approach Speed(Vref) Wingtip Configuration  ... MGW(Outer to Outer) MTOW  \\\n469                  NaN                   tbd  ...                 tbd  tbd   \n470                  NaN                   tbd  ...                 tbd  tbd   \n471                  NaN                   tbd  ...                 tbd  tbd   \n472                  NaN                   tbd  ...                 tbd  tbd   \n473                  NaN                   tbd  ...                 tbd  tbd   \n..                   ...                   ...  ...                 ...  ...   \n577                  NaN                   tbd  ...                 tbd  tbd   \n578                  NaN                   tbd  ...                 tbd  tbd   \n579                  NaN                   tbd  ...                 tbd  tbd   \n580                  NaN                   tbd  ...                 tbd  tbd   \n581                  NaN                   tbd  ...                 tbd  tbd   \n\n    Max RampMax Taxi Main Gear Config ICAO Code Wake Category  \\\n469              tbd              tbd      B720             M   \n470              tbd              tbd       tbd           tbd   \n471              tbd              tbd       tbd             M   \n472              tbd              tbd      B701           tbd   \n473              tbd              tbd      B703             H   \n..               ...              ...       ...           ...   \n577              tbd                S      ST75             L   \n578              tbd                S      ST75             L   \n579              tbd              tbd       tbd           tbd   \n580              tbd              tbd      R135             H   \n581              tbd              tbd       tbd           tbd   \n\n    ATCT Weight Class Years Manufactured Note Parking Area (WS x Length), sf  \n469               tbd                tbd  tbd                         #WERT!  \n470               tbd                tbd  tbd                         #WERT!  \n471               tbd                tbd  tbd                         #WERT!  \n472               tbd                tbd  tbd                         #WERT!  \n473               tbd                tbd  tbd                         #WERT!  \n..                ...                ...  ...                            ...  \n577        Small Eqpt                tbd  tbd                         #WERT!  \n578        Small Eqpt                tbd  tbd                         #WERT!  \n579               tbd                tbd  tbd                         #WERT!  \n580               tbd                tbd  tbd                         #WERT!  \n581               tbd                tbd  tbd                         #WERT!  \n\n[113 rows x 25 columns]",
      "text/html": "<div>\n<style scoped>\n    .dataframe tbody tr th:only-of-type {\n        vertical-align: middle;\n    }\n\n    .dataframe tbody tr th {\n        vertical-align: top;\n    }\n\n    .dataframe thead th {\n        text-align: right;\n    }\n</style>\n<table border=\"1\" class=\"dataframe\">\n  <thead>\n    <tr style=\"text-align: right;\">\n      <th></th>\n      <th>Date Completed</th>\n      <th>Manufacturer</th>\n      <th>Model</th>\n      <th>Physical Class (Engine)</th>\n      <th>Engines</th>\n      <th>AAC</th>\n      <th>ADG</th>\n      <th>TDG</th>\n      <th>Approach Speed(Vref)</th>\n      <th>Wingtip Configuration</th>\n      <th>...</th>\n      <th>MGW(Outer to Outer)</th>\n      <th>MTOW</th>\n      <th>Max RampMax Taxi</th>\n      <th>Main Gear Config</th>\n      <th>ICAO Code</th>\n      <th>Wake Category</th>\n      <th>ATCT Weight Class</th>\n      <th>Years Manufactured</th>\n      <th>Note</th>\n      <th>Parking Area (WS x Length), sf</th>\n    </tr>\n  </thead>\n  <tbody>\n    <tr>\n      <th>469</th>\n      <td>NaN</td>\n      <td>Boeing</td>\n      <td>720</td>\n      <td>tbd</td>\n      <td>tbd</td>\n      <td>No Value</td>\n      <td>No Value</td>\n      <td>tbd</td>\n      <td>NaN</td>\n      <td>tbd</td>\n      <td>...</td>\n      <td>tbd</td>\n      <td>tbd</td>\n      <td>tbd</td>\n      <td>tbd</td>\n      <td>B720</td>\n      <td>M</td>\n      <td>tbd</td>\n      <td>tbd</td>\n      <td>tbd</td>\n      <td>#WERT!</td>\n    </tr>\n    <tr>\n      <th>470</th>\n      <td>NaN</td>\n      <td>Boeing</td>\n      <td>314A Clipper</td>\n      <td>Piston</td>\n      <td>4</td>\n      <td>No Value</td>\n      <td>No Value</td>\n      <td>tbd</td>\n      <td>NaN</td>\n      <td>tbd</td>\n      <td>...</td>\n      <td>tbd</td>\n      <td>tbd</td>\n      <td>tbd</td>\n      <td>tbd</td>\n      <td>tbd</td>\n      <td>tbd</td>\n      <td>tbd</td>\n      <td>tbd</td>\n      <td>tbd</td>\n      <td>#WERT!</td>\n    </tr>\n    <tr>\n      <th>471</th>\n      <td>NaN</td>\n      <td>Boeing</td>\n      <td>707-020</td>\n      <td>tbd</td>\n      <td>tbd</td>\n      <td>No Value</td>\n      <td>No Value</td>\n      <td>tbd</td>\n      <td>NaN</td>\n      <td>tbd</td>\n      <td>...</td>\n      <td>tbd</td>\n      <td>tbd</td>\n      <td>tbd</td>\n      <td>tbd</td>\n      <td>tbd</td>\n      <td>M</td>\n      <td>tbd</td>\n      <td>tbd</td>\n      <td>tbd</td>\n      <td>#WERT!</td>\n    </tr>\n    <tr>\n      <th>472</th>\n      <td>NaN</td>\n      <td>Boeing</td>\n      <td>707-120B</td>\n      <td>Jet</td>\n      <td>4</td>\n      <td>No Value</td>\n      <td>No Value</td>\n      <td>tbd</td>\n      <td>NaN</td>\n      <td>tbd</td>\n      <td>...</td>\n      <td>tbd</td>\n      <td>tbd</td>\n      <td>tbd</td>\n      <td>tbd</td>\n      <td>B701</td>\n      <td>tbd</td>\n      <td>tbd</td>\n      <td>tbd</td>\n      <td>tbd</td>\n      <td>#WERT!</td>\n    </tr>\n    <tr>\n      <th>473</th>\n      <td>NaN</td>\n      <td>Boeing</td>\n      <td>707-320/420</td>\n      <td>Jet</td>\n      <td>4</td>\n      <td>No Value</td>\n      <td>No Value</td>\n      <td>tbd</td>\n      <td>NaN</td>\n      <td>tbd</td>\n      <td>...</td>\n      <td>tbd</td>\n      <td>tbd</td>\n      <td>tbd</td>\n      <td>tbd</td>\n      <td>B703</td>\n      <td>H</td>\n      <td>tbd</td>\n      <td>tbd</td>\n      <td>tbd</td>\n      <td>#WERT!</td>\n    </tr>\n    <tr>\n      <th>...</th>\n      <td>...</td>\n      <td>...</td>\n      <td>...</td>\n      <td>...</td>\n      <td>...</td>\n      <td>...</td>\n      <td>...</td>\n      <td>...</td>\n      <td>...</td>\n      <td>...</td>\n      <td>...</td>\n      <td>...</td>\n      <td>...</td>\n      <td>...</td>\n      <td>...</td>\n      <td>...</td>\n      <td>...</td>\n      <td>...</td>\n      <td>...</td>\n      <td>...</td>\n      <td>...</td>\n    </tr>\n    <tr>\n      <th>577</th>\n      <td>NaN</td>\n      <td>Boeing</td>\n      <td>PT-18 Kaydet (Stearman)</td>\n      <td>Piston</td>\n      <td>1</td>\n      <td>No Value</td>\n      <td>No Value</td>\n      <td>tbd</td>\n      <td>NaN</td>\n      <td>tbd</td>\n      <td>...</td>\n      <td>tbd</td>\n      <td>tbd</td>\n      <td>tbd</td>\n      <td>S</td>\n      <td>ST75</td>\n      <td>L</td>\n      <td>Small Eqpt</td>\n      <td>tbd</td>\n      <td>tbd</td>\n      <td>#WERT!</td>\n    </tr>\n    <tr>\n      <th>578</th>\n      <td>NaN</td>\n      <td>Boeing</td>\n      <td>PT-27 Kaydet (Stearman)</td>\n      <td>Piston</td>\n      <td>1</td>\n      <td>No Value</td>\n      <td>No Value</td>\n      <td>tbd</td>\n      <td>NaN</td>\n      <td>tbd</td>\n      <td>...</td>\n      <td>tbd</td>\n      <td>tbd</td>\n      <td>tbd</td>\n      <td>S</td>\n      <td>ST75</td>\n      <td>L</td>\n      <td>Small Eqpt</td>\n      <td>tbd</td>\n      <td>tbd</td>\n      <td>#WERT!</td>\n    </tr>\n    <tr>\n      <th>579</th>\n      <td>NaN</td>\n      <td>Boeing</td>\n      <td>Raptor F22</td>\n      <td>tbd</td>\n      <td>tbd</td>\n      <td>No Value</td>\n      <td>No Value</td>\n      <td>tbd</td>\n      <td>NaN</td>\n      <td>tbd</td>\n      <td>...</td>\n      <td>tbd</td>\n      <td>tbd</td>\n      <td>tbd</td>\n      <td>tbd</td>\n      <td>tbd</td>\n      <td>tbd</td>\n      <td>tbd</td>\n      <td>tbd</td>\n      <td>tbd</td>\n      <td>#WERT!</td>\n    </tr>\n    <tr>\n      <th>580</th>\n      <td>NaN</td>\n      <td>Boeing</td>\n      <td>RC-135</td>\n      <td>tbd</td>\n      <td>tbd</td>\n      <td>No Value</td>\n      <td>No Value</td>\n      <td>tbd</td>\n      <td>NaN</td>\n      <td>tbd</td>\n      <td>...</td>\n      <td>tbd</td>\n      <td>tbd</td>\n      <td>tbd</td>\n      <td>tbd</td>\n      <td>R135</td>\n      <td>H</td>\n      <td>tbd</td>\n      <td>tbd</td>\n      <td>tbd</td>\n      <td>#WERT!</td>\n    </tr>\n    <tr>\n      <th>581</th>\n      <td>NaN</td>\n      <td>Boeing</td>\n      <td>VCC-25</td>\n      <td>tbd</td>\n      <td>tbd</td>\n      <td>No Value</td>\n      <td>No Value</td>\n      <td>tbd</td>\n      <td>NaN</td>\n      <td>tbd</td>\n      <td>...</td>\n      <td>tbd</td>\n      <td>tbd</td>\n      <td>tbd</td>\n      <td>tbd</td>\n      <td>tbd</td>\n      <td>tbd</td>\n      <td>tbd</td>\n      <td>tbd</td>\n      <td>tbd</td>\n      <td>#WERT!</td>\n    </tr>\n  </tbody>\n</table>\n<p>113 rows × 25 columns</p>\n</div>"
     },
     "execution_count": 81,
     "metadata": {},
     "output_type": "execute_result"
    }
   ],
   "source": [
    "aircrafts_df[aircrafts_df[\"Manufacturer\"] == \"Boeing\"]"
   ],
   "metadata": {
    "collapsed": false,
    "pycharm": {
     "name": "#%%\n"
    }
   }
  },
  {
   "cell_type": "code",
   "execution_count": 82,
   "outputs": [
    {
     "data": {
      "text/plain": "array(['Boeing 737 NG / Max', 'Boeing 737', 'Airbus A320', 'Airbus A321',\n       'Airbus A319', 'Canadair Regional Jet', 'Embraer 170/175',\n       'Boeing 757', 'McDonnell Douglas MD-80/90', 'Boeing 717',\n       'Boeing 767', 'Embraer 190/195', 'Airbus A330', 'Embraer 135/145',\n       'Boeing 777', 'Airbus A300', 'ATR 42/72',\n       'McDonnell Douglas DC-10', 'Boeing 787', 'Boeing 747'],\n      dtype=object)"
     },
     "execution_count": 82,
     "metadata": {},
     "output_type": "execute_result"
    }
   ],
   "source": [
    "atl_flights_df[\"Aircraft\"].unique()"
   ],
   "metadata": {
    "collapsed": false,
    "pycharm": {
     "name": "#%%\n"
    }
   }
  },
  {
   "cell_type": "code",
   "execution_count": 83,
   "outputs": [
    {
     "data": {
      "text/plain": "                             0\n0          Boeing 737 NG / Max\n1                   Boeing 737\n2                  Airbus A320\n3                  Airbus A321\n4                  Airbus A319\n5                          NaN\n6              Embraer 170/175\n7                   Boeing 757\n8   McDonnell Douglas MD-80/90\n9                   Boeing 717\n10                  Boeing 767\n11             Embraer 190/195\n12                 Airbus A330\n13             Embraer 135/145\n14                  Boeing 777\n15                 Airbus A300\n16                   ATR 42/72\n17     McDonnell Douglas DC-10\n18                  Boeing 787\n19                  Boeing 747",
      "text/html": "<div>\n<style scoped>\n    .dataframe tbody tr th:only-of-type {\n        vertical-align: middle;\n    }\n\n    .dataframe tbody tr th {\n        vertical-align: top;\n    }\n\n    .dataframe thead th {\n        text-align: right;\n    }\n</style>\n<table border=\"1\" class=\"dataframe\">\n  <thead>\n    <tr style=\"text-align: right;\">\n      <th></th>\n      <th>0</th>\n    </tr>\n  </thead>\n  <tbody>\n    <tr>\n      <th>0</th>\n      <td>Boeing 737 NG / Max</td>\n    </tr>\n    <tr>\n      <th>1</th>\n      <td>Boeing 737</td>\n    </tr>\n    <tr>\n      <th>2</th>\n      <td>Airbus A320</td>\n    </tr>\n    <tr>\n      <th>3</th>\n      <td>Airbus A321</td>\n    </tr>\n    <tr>\n      <th>4</th>\n      <td>Airbus A319</td>\n    </tr>\n    <tr>\n      <th>5</th>\n      <td>NaN</td>\n    </tr>\n    <tr>\n      <th>6</th>\n      <td>Embraer 170/175</td>\n    </tr>\n    <tr>\n      <th>7</th>\n      <td>Boeing 757</td>\n    </tr>\n    <tr>\n      <th>8</th>\n      <td>McDonnell Douglas MD-80/90</td>\n    </tr>\n    <tr>\n      <th>9</th>\n      <td>Boeing 717</td>\n    </tr>\n    <tr>\n      <th>10</th>\n      <td>Boeing 767</td>\n    </tr>\n    <tr>\n      <th>11</th>\n      <td>Embraer 190/195</td>\n    </tr>\n    <tr>\n      <th>12</th>\n      <td>Airbus A330</td>\n    </tr>\n    <tr>\n      <th>13</th>\n      <td>Embraer 135/145</td>\n    </tr>\n    <tr>\n      <th>14</th>\n      <td>Boeing 777</td>\n    </tr>\n    <tr>\n      <th>15</th>\n      <td>Airbus A300</td>\n    </tr>\n    <tr>\n      <th>16</th>\n      <td>ATR 42/72</td>\n    </tr>\n    <tr>\n      <th>17</th>\n      <td>McDonnell Douglas DC-10</td>\n    </tr>\n    <tr>\n      <th>18</th>\n      <td>Boeing 787</td>\n    </tr>\n    <tr>\n      <th>19</th>\n      <td>Boeing 747</td>\n    </tr>\n  </tbody>\n</table>\n</div>"
     },
     "execution_count": 83,
     "metadata": {},
     "output_type": "execute_result"
    }
   ],
   "source": [
    "pd.DataFrame(atl_flights_df[\"Aircraft\"].unique())[0].str.extract('([a-zA-Z]+.*.+\\d.*)', expand=True)"
   ],
   "metadata": {
    "collapsed": false,
    "pycharm": {
     "name": "#%%\n"
    }
   }
  },
  {
   "cell_type": "code",
   "execution_count": 84,
   "outputs": [
    {
     "data": {
      "text/plain": "array(['Boeing 737 NG / Max', 'Boeing 737', 'Airbus A320', 'Airbus A321',\n       'Airbus A319', 'Canadair Regional Jet', 'Embraer 170/175',\n       'Boeing 757', 'McDonnell Douglas MD-80/90', 'Boeing 717',\n       'Boeing 767', 'Embraer 190/195', 'Airbus A330', 'Embraer 135/145',\n       'Boeing 777', 'Airbus A300', 'ATR 42/72',\n       'McDonnell Douglas DC-10', 'Boeing 787', 'Boeing 747'],\n      dtype=object)"
     },
     "execution_count": 84,
     "metadata": {},
     "output_type": "execute_result"
    }
   ],
   "source": [
    "#aircraft_split = atl_flights_df[\"Aircraft\"].str.extract('([a-zA-Z]+.*.+\\d.*)', expand=True)\n",
    "aircraft_split = pd.DataFrame(atl_flights_df[\"Aircraft\"].copy())\n",
    "aircraft_split.rename(columns={\"Aircraft\" : \"Model\"}, inplace=True)\n",
    "aircraft_split[\"Model\"].unique()"
   ],
   "metadata": {
    "collapsed": false,
    "pycharm": {
     "name": "#%%\n"
    }
   }
  },
  {
   "cell_type": "code",
   "execution_count": 85,
   "outputs": [
    {
     "data": {
      "text/plain": "array(['Boeing 737 NG / Max', 'Boeing 737', 'Airbus A320', 'Airbus A321',\n       'Airbus A319', 'Bombardier Canadair Regional Jet',\n       'Embraer 170/175', 'Boeing 757', 'McDonnell Douglas MD-80/90',\n       'Boeing 717', 'Boeing 767', 'Embraer 190/195', 'Airbus A330',\n       'Embraer 135/145', 'Boeing 777', 'Airbus A300', 'ATR 42/72',\n       'McDonnell Douglas DC-10', 'Boeing 787', 'Boeing 747'],\n      dtype=object)"
     },
     "execution_count": 85,
     "metadata": {},
     "output_type": "execute_result"
    }
   ],
   "source": [
    "aircraft_split.loc[aircraft_split[\"Model\"] == \"Canadair Regional Jet\"] = \"Bombardier Canadair Regional Jet\"\n",
    "aircraft_split[\"Model\"].unique()"
   ],
   "metadata": {
    "collapsed": false,
    "pycharm": {
     "name": "#%%\n"
    }
   }
  },
  {
   "cell_type": "code",
   "execution_count": 86,
   "outputs": [
    {
     "data": {
      "text/plain": "(731144, 1)"
     },
     "execution_count": 86,
     "metadata": {},
     "output_type": "execute_result"
    }
   ],
   "source": [
    "aircraft_split.shape"
   ],
   "metadata": {
    "collapsed": false,
    "pycharm": {
     "name": "#%%\n"
    }
   }
  },
  {
   "cell_type": "code",
   "execution_count": 87,
   "outputs": [
    {
     "data": {
      "text/plain": "                               Model Physical Class (Engine) Engines  \\\n0                          ATR 42/72               Turboprop       2   \n1                        Airbus A300                     Jet       2   \n2                        Airbus A319                     Jet       2   \n3                        Airbus A320                     Jet       2   \n4                        Airbus A321                     Jet       2   \n5                        Airbus A330                     Jet       2   \n6                         Boeing 717                     Jet       2   \n7                         Boeing 737                     Jet       2   \n8                Boeing 737 NG / Max                     Jet       2   \n9                         Boeing 747                     Jet       4   \n10                        Boeing 757                     Jet       2   \n11                        Boeing 767                     Jet       2   \n12                        Boeing 777                     Jet       2   \n13                        Boeing 787                     Jet       2   \n14  Bombardier Canadair Regional Jet                     Jet     tbd   \n15                   Embraer 135/145                     Jet       2   \n16                   Embraer 170/175                     Jet       2   \n17                   Embraer 190/195                     Jet       2   \n18           McDonnell Douglas DC-10                     tbd     tbd   \n19        McDonnell Douglas MD-80/90                     tbd     tbd   \n\n         AAC       ADG      TDG Approach Speed(Vref) Wingtip Configuration  \\\n0          B       III  1B or 2                  114           no winglets   \n1          C        IV        5                  137        wingtip fences   \n2          C       III        3                  126        wingtip fences   \n3          C       III        3                  136        wingtip fences   \n4          C       III        3                  140        wingtip fences   \n5          C         V        5                  137              winglets   \n6          C       III        2                  139           no winglets   \n7          C       III        3                  129           no winglets   \n8          D       III        3                  141           no winglets   \n9          D         V        5                  157              winglets   \n10         D        IV        4                  143           no winglets   \n11         C        IV        5                  140           no winglets   \n12         D         V        6                  149           no winglets   \n13         C         V        5                  140           no winglets   \n14         C        II       1B                  140              winglets   \n15         C        II        2                  124           no winglets   \n16         C       III        3                  124              winglets   \n17         C       III        3                  124              winglets   \n18         C        IV      tbd                  138                   tbd   \n19  No Value  No Value      tbd                  NaN                   tbd   \n\n   Wingspan, ft Length, ft  ... Wheelbase, ft Cockpit to Main Gear (CMG)  \\\n0         88,75      89,13  ...         35,33                      35,33   \n1        147,14     177,43  ...         61,03                      75,00   \n2        111,88     111,02  ...         36,23                      44,90   \n3        111,88     123,27  ...         41,47                      50,20   \n4        111,88     146,03  ...         55,45                      44,95   \n5        197,83     208,99  ...         83,27                      97,28   \n6         93,33     124,00  ...         57,75                      57,75   \n7         93,00     100,17  ...         37,33                      42,58   \n8        112,58     138,17  ...         56,33                      61,58   \n9        195,67     231,85  ...         84,00                      91,67   \n10       124,83     178,58  ...         73,33                      85,33   \n11       156,08     180,25  ...         74,67                      82,17   \n12       199,92     242,33  ...        102,42                     114,33   \n13       197,25     206,08  ...         84,75                      93,42   \n14        68,67      87,83  ...         37,42                      37,42   \n15        65,75      86,42  ...         40,75                      40,75   \n16        85,33     103,92  ...         37,42                      41,33   \n17        94,25     118,92  ...         45,33                      49,25   \n18       155,30     182,30  ...           tbd                        tbd   \n19          NaN        tbd  ...           tbd                        tbd   \n\n          MGW(Outer to Outer)     MTOW Max RampMax Taxi Main Gear Config  \\\n0   > 13' 5\" (16' per Appx 1)   49 603           49 978                D   \n1                       36,00  363 760          365 740               2D   \n2                       29,36  168 653          169 535                D   \n3                       29,36  171 961          172 842                D   \n4                       29,43  206 132          207 014                D   \n5                       41,37  533 519          535 503               2D   \n6                       19,43  118 000          119 000                D   \n7                       20,88  115 500          116 000                D   \n8                       22,96  174 200          174 700                D   \n9                       41,33  610 000          613 500           2D/2D2   \n10                      28,00  270 000          271 000               2D   \n11                      35,75  350 000          352 000               2D   \n12                      42,30  660 000          662 000               3D   \n13                      38,92  560 000          561 500               2D   \n14                      13,25   47 450           47 700                D   \n15                      15,72   41 888           42 108                D   \n16                      20,50   89 000           89 353                D   \n17                      23,67  105 359          105 712                D   \n18                        tbd  455 000              tbd              tbd   \n19                        tbd      tbd              tbd              tbd   \n\n   ICAO Code Wake Category    ATCT Weight Class Parking Area (WS x Length), sf  \n0       AT72             M                  tbd                          7 910  \n1       A306             H           Heavy Eqpt                         26 107  \n2       A319             M       Large Jet Eqpt                         12 421  \n3       A320             M       Large Jet Eqpt                         13 791  \n4       A321             M       Large Jet Eqpt                         16 338  \n5       A333             H           Heavy Eqpt                         41 344  \n6       B712             M                  tbd                         11 573  \n7       B732             M       Large Jet Eqpt                          9 316  \n8       B739             M       Large Jet Eqpt                         15 555  \n9       B744             H                  tbd                         45 366  \n10      B753             M            B757 Eqpt                         22 293  \n11      B763             H           Heavy Eqpt                         28 134  \n12      B773             H           Heavy Eqpt                         48 446  \n13      B789             H           Heavy Eqpt                         40 650  \n14      CRJ2           tbd  Large Commuter Eqpt                          6 031  \n15      E135             M  Large Commuter Eqpt                          5 682  \n16      E170             M                  tbd                          8 868  \n17      E190             M                  tbd                         11 208  \n18      DC10             H                  tbd                         28 311  \n19      MD90             M                  tbd                         #WERT!  \n\n[20 rows x 21 columns]",
      "text/html": "<div>\n<style scoped>\n    .dataframe tbody tr th:only-of-type {\n        vertical-align: middle;\n    }\n\n    .dataframe tbody tr th {\n        vertical-align: top;\n    }\n\n    .dataframe thead th {\n        text-align: right;\n    }\n</style>\n<table border=\"1\" class=\"dataframe\">\n  <thead>\n    <tr style=\"text-align: right;\">\n      <th></th>\n      <th>Model</th>\n      <th>Physical Class (Engine)</th>\n      <th>Engines</th>\n      <th>AAC</th>\n      <th>ADG</th>\n      <th>TDG</th>\n      <th>Approach Speed(Vref)</th>\n      <th>Wingtip Configuration</th>\n      <th>Wingspan, ft</th>\n      <th>Length, ft</th>\n      <th>...</th>\n      <th>Wheelbase, ft</th>\n      <th>Cockpit to Main Gear (CMG)</th>\n      <th>MGW(Outer to Outer)</th>\n      <th>MTOW</th>\n      <th>Max RampMax Taxi</th>\n      <th>Main Gear Config</th>\n      <th>ICAO Code</th>\n      <th>Wake Category</th>\n      <th>ATCT Weight Class</th>\n      <th>Parking Area (WS x Length), sf</th>\n    </tr>\n  </thead>\n  <tbody>\n    <tr>\n      <th>0</th>\n      <td>ATR 42/72</td>\n      <td>Turboprop</td>\n      <td>2</td>\n      <td>B</td>\n      <td>III</td>\n      <td>1B or 2</td>\n      <td>114</td>\n      <td>no winglets</td>\n      <td>88,75</td>\n      <td>89,13</td>\n      <td>...</td>\n      <td>35,33</td>\n      <td>35,33</td>\n      <td>&gt; 13' 5\" (16' per Appx 1)</td>\n      <td>49 603</td>\n      <td>49 978</td>\n      <td>D</td>\n      <td>AT72</td>\n      <td>M</td>\n      <td>tbd</td>\n      <td>7 910</td>\n    </tr>\n    <tr>\n      <th>1</th>\n      <td>Airbus A300</td>\n      <td>Jet</td>\n      <td>2</td>\n      <td>C</td>\n      <td>IV</td>\n      <td>5</td>\n      <td>137</td>\n      <td>wingtip fences</td>\n      <td>147,14</td>\n      <td>177,43</td>\n      <td>...</td>\n      <td>61,03</td>\n      <td>75,00</td>\n      <td>36,00</td>\n      <td>363 760</td>\n      <td>365 740</td>\n      <td>2D</td>\n      <td>A306</td>\n      <td>H</td>\n      <td>Heavy Eqpt</td>\n      <td>26 107</td>\n    </tr>\n    <tr>\n      <th>2</th>\n      <td>Airbus A319</td>\n      <td>Jet</td>\n      <td>2</td>\n      <td>C</td>\n      <td>III</td>\n      <td>3</td>\n      <td>126</td>\n      <td>wingtip fences</td>\n      <td>111,88</td>\n      <td>111,02</td>\n      <td>...</td>\n      <td>36,23</td>\n      <td>44,90</td>\n      <td>29,36</td>\n      <td>168 653</td>\n      <td>169 535</td>\n      <td>D</td>\n      <td>A319</td>\n      <td>M</td>\n      <td>Large Jet Eqpt</td>\n      <td>12 421</td>\n    </tr>\n    <tr>\n      <th>3</th>\n      <td>Airbus A320</td>\n      <td>Jet</td>\n      <td>2</td>\n      <td>C</td>\n      <td>III</td>\n      <td>3</td>\n      <td>136</td>\n      <td>wingtip fences</td>\n      <td>111,88</td>\n      <td>123,27</td>\n      <td>...</td>\n      <td>41,47</td>\n      <td>50,20</td>\n      <td>29,36</td>\n      <td>171 961</td>\n      <td>172 842</td>\n      <td>D</td>\n      <td>A320</td>\n      <td>M</td>\n      <td>Large Jet Eqpt</td>\n      <td>13 791</td>\n    </tr>\n    <tr>\n      <th>4</th>\n      <td>Airbus A321</td>\n      <td>Jet</td>\n      <td>2</td>\n      <td>C</td>\n      <td>III</td>\n      <td>3</td>\n      <td>140</td>\n      <td>wingtip fences</td>\n      <td>111,88</td>\n      <td>146,03</td>\n      <td>...</td>\n      <td>55,45</td>\n      <td>44,95</td>\n      <td>29,43</td>\n      <td>206 132</td>\n      <td>207 014</td>\n      <td>D</td>\n      <td>A321</td>\n      <td>M</td>\n      <td>Large Jet Eqpt</td>\n      <td>16 338</td>\n    </tr>\n    <tr>\n      <th>5</th>\n      <td>Airbus A330</td>\n      <td>Jet</td>\n      <td>2</td>\n      <td>C</td>\n      <td>V</td>\n      <td>5</td>\n      <td>137</td>\n      <td>winglets</td>\n      <td>197,83</td>\n      <td>208,99</td>\n      <td>...</td>\n      <td>83,27</td>\n      <td>97,28</td>\n      <td>41,37</td>\n      <td>533 519</td>\n      <td>535 503</td>\n      <td>2D</td>\n      <td>A333</td>\n      <td>H</td>\n      <td>Heavy Eqpt</td>\n      <td>41 344</td>\n    </tr>\n    <tr>\n      <th>6</th>\n      <td>Boeing 717</td>\n      <td>Jet</td>\n      <td>2</td>\n      <td>C</td>\n      <td>III</td>\n      <td>2</td>\n      <td>139</td>\n      <td>no winglets</td>\n      <td>93,33</td>\n      <td>124,00</td>\n      <td>...</td>\n      <td>57,75</td>\n      <td>57,75</td>\n      <td>19,43</td>\n      <td>118 000</td>\n      <td>119 000</td>\n      <td>D</td>\n      <td>B712</td>\n      <td>M</td>\n      <td>tbd</td>\n      <td>11 573</td>\n    </tr>\n    <tr>\n      <th>7</th>\n      <td>Boeing 737</td>\n      <td>Jet</td>\n      <td>2</td>\n      <td>C</td>\n      <td>III</td>\n      <td>3</td>\n      <td>129</td>\n      <td>no winglets</td>\n      <td>93,00</td>\n      <td>100,17</td>\n      <td>...</td>\n      <td>37,33</td>\n      <td>42,58</td>\n      <td>20,88</td>\n      <td>115 500</td>\n      <td>116 000</td>\n      <td>D</td>\n      <td>B732</td>\n      <td>M</td>\n      <td>Large Jet Eqpt</td>\n      <td>9 316</td>\n    </tr>\n    <tr>\n      <th>8</th>\n      <td>Boeing 737 NG / Max</td>\n      <td>Jet</td>\n      <td>2</td>\n      <td>D</td>\n      <td>III</td>\n      <td>3</td>\n      <td>141</td>\n      <td>no winglets</td>\n      <td>112,58</td>\n      <td>138,17</td>\n      <td>...</td>\n      <td>56,33</td>\n      <td>61,58</td>\n      <td>22,96</td>\n      <td>174 200</td>\n      <td>174 700</td>\n      <td>D</td>\n      <td>B739</td>\n      <td>M</td>\n      <td>Large Jet Eqpt</td>\n      <td>15 555</td>\n    </tr>\n    <tr>\n      <th>9</th>\n      <td>Boeing 747</td>\n      <td>Jet</td>\n      <td>4</td>\n      <td>D</td>\n      <td>V</td>\n      <td>5</td>\n      <td>157</td>\n      <td>winglets</td>\n      <td>195,67</td>\n      <td>231,85</td>\n      <td>...</td>\n      <td>84,00</td>\n      <td>91,67</td>\n      <td>41,33</td>\n      <td>610 000</td>\n      <td>613 500</td>\n      <td>2D/2D2</td>\n      <td>B744</td>\n      <td>H</td>\n      <td>tbd</td>\n      <td>45 366</td>\n    </tr>\n    <tr>\n      <th>10</th>\n      <td>Boeing 757</td>\n      <td>Jet</td>\n      <td>2</td>\n      <td>D</td>\n      <td>IV</td>\n      <td>4</td>\n      <td>143</td>\n      <td>no winglets</td>\n      <td>124,83</td>\n      <td>178,58</td>\n      <td>...</td>\n      <td>73,33</td>\n      <td>85,33</td>\n      <td>28,00</td>\n      <td>270 000</td>\n      <td>271 000</td>\n      <td>2D</td>\n      <td>B753</td>\n      <td>M</td>\n      <td>B757 Eqpt</td>\n      <td>22 293</td>\n    </tr>\n    <tr>\n      <th>11</th>\n      <td>Boeing 767</td>\n      <td>Jet</td>\n      <td>2</td>\n      <td>C</td>\n      <td>IV</td>\n      <td>5</td>\n      <td>140</td>\n      <td>no winglets</td>\n      <td>156,08</td>\n      <td>180,25</td>\n      <td>...</td>\n      <td>74,67</td>\n      <td>82,17</td>\n      <td>35,75</td>\n      <td>350 000</td>\n      <td>352 000</td>\n      <td>2D</td>\n      <td>B763</td>\n      <td>H</td>\n      <td>Heavy Eqpt</td>\n      <td>28 134</td>\n    </tr>\n    <tr>\n      <th>12</th>\n      <td>Boeing 777</td>\n      <td>Jet</td>\n      <td>2</td>\n      <td>D</td>\n      <td>V</td>\n      <td>6</td>\n      <td>149</td>\n      <td>no winglets</td>\n      <td>199,92</td>\n      <td>242,33</td>\n      <td>...</td>\n      <td>102,42</td>\n      <td>114,33</td>\n      <td>42,30</td>\n      <td>660 000</td>\n      <td>662 000</td>\n      <td>3D</td>\n      <td>B773</td>\n      <td>H</td>\n      <td>Heavy Eqpt</td>\n      <td>48 446</td>\n    </tr>\n    <tr>\n      <th>13</th>\n      <td>Boeing 787</td>\n      <td>Jet</td>\n      <td>2</td>\n      <td>C</td>\n      <td>V</td>\n      <td>5</td>\n      <td>140</td>\n      <td>no winglets</td>\n      <td>197,25</td>\n      <td>206,08</td>\n      <td>...</td>\n      <td>84,75</td>\n      <td>93,42</td>\n      <td>38,92</td>\n      <td>560 000</td>\n      <td>561 500</td>\n      <td>2D</td>\n      <td>B789</td>\n      <td>H</td>\n      <td>Heavy Eqpt</td>\n      <td>40 650</td>\n    </tr>\n    <tr>\n      <th>14</th>\n      <td>Bombardier Canadair Regional Jet</td>\n      <td>Jet</td>\n      <td>tbd</td>\n      <td>C</td>\n      <td>II</td>\n      <td>1B</td>\n      <td>140</td>\n      <td>winglets</td>\n      <td>68,67</td>\n      <td>87,83</td>\n      <td>...</td>\n      <td>37,42</td>\n      <td>37,42</td>\n      <td>13,25</td>\n      <td>47 450</td>\n      <td>47 700</td>\n      <td>D</td>\n      <td>CRJ2</td>\n      <td>tbd</td>\n      <td>Large Commuter Eqpt</td>\n      <td>6 031</td>\n    </tr>\n    <tr>\n      <th>15</th>\n      <td>Embraer 135/145</td>\n      <td>Jet</td>\n      <td>2</td>\n      <td>C</td>\n      <td>II</td>\n      <td>2</td>\n      <td>124</td>\n      <td>no winglets</td>\n      <td>65,75</td>\n      <td>86,42</td>\n      <td>...</td>\n      <td>40,75</td>\n      <td>40,75</td>\n      <td>15,72</td>\n      <td>41 888</td>\n      <td>42 108</td>\n      <td>D</td>\n      <td>E135</td>\n      <td>M</td>\n      <td>Large Commuter Eqpt</td>\n      <td>5 682</td>\n    </tr>\n    <tr>\n      <th>16</th>\n      <td>Embraer 170/175</td>\n      <td>Jet</td>\n      <td>2</td>\n      <td>C</td>\n      <td>III</td>\n      <td>3</td>\n      <td>124</td>\n      <td>winglets</td>\n      <td>85,33</td>\n      <td>103,92</td>\n      <td>...</td>\n      <td>37,42</td>\n      <td>41,33</td>\n      <td>20,50</td>\n      <td>89 000</td>\n      <td>89 353</td>\n      <td>D</td>\n      <td>E170</td>\n      <td>M</td>\n      <td>tbd</td>\n      <td>8 868</td>\n    </tr>\n    <tr>\n      <th>17</th>\n      <td>Embraer 190/195</td>\n      <td>Jet</td>\n      <td>2</td>\n      <td>C</td>\n      <td>III</td>\n      <td>3</td>\n      <td>124</td>\n      <td>winglets</td>\n      <td>94,25</td>\n      <td>118,92</td>\n      <td>...</td>\n      <td>45,33</td>\n      <td>49,25</td>\n      <td>23,67</td>\n      <td>105 359</td>\n      <td>105 712</td>\n      <td>D</td>\n      <td>E190</td>\n      <td>M</td>\n      <td>tbd</td>\n      <td>11 208</td>\n    </tr>\n    <tr>\n      <th>18</th>\n      <td>McDonnell Douglas DC-10</td>\n      <td>tbd</td>\n      <td>tbd</td>\n      <td>C</td>\n      <td>IV</td>\n      <td>tbd</td>\n      <td>138</td>\n      <td>tbd</td>\n      <td>155,30</td>\n      <td>182,30</td>\n      <td>...</td>\n      <td>tbd</td>\n      <td>tbd</td>\n      <td>tbd</td>\n      <td>455 000</td>\n      <td>tbd</td>\n      <td>tbd</td>\n      <td>DC10</td>\n      <td>H</td>\n      <td>tbd</td>\n      <td>28 311</td>\n    </tr>\n    <tr>\n      <th>19</th>\n      <td>McDonnell Douglas MD-80/90</td>\n      <td>tbd</td>\n      <td>tbd</td>\n      <td>No Value</td>\n      <td>No Value</td>\n      <td>tbd</td>\n      <td>NaN</td>\n      <td>tbd</td>\n      <td>NaN</td>\n      <td>tbd</td>\n      <td>...</td>\n      <td>tbd</td>\n      <td>tbd</td>\n      <td>tbd</td>\n      <td>tbd</td>\n      <td>tbd</td>\n      <td>tbd</td>\n      <td>MD90</td>\n      <td>M</td>\n      <td>tbd</td>\n      <td>#WERT!</td>\n    </tr>\n  </tbody>\n</table>\n<p>20 rows × 21 columns</p>\n</div>"
     },
     "execution_count": 87,
     "metadata": {},
     "output_type": "execute_result"
    }
   ],
   "source": [
    "data = []\n",
    "row = []\n",
    "row_list = [255,143,151,154,159,164,475,487,500,514,527,532,542,549,683,1129,1099,1108,583, 1803]\n",
    "name_list = [\"Model_\"]\n",
    "for col_name in aircrafts_df.columns:\n",
    "    name_list.append(col_name)\n",
    "for count, entry in enumerate(aircraft_split[\"Model\"].sort_values().unique()):\n",
    "    row = []\n",
    "    row.append(entry)\n",
    "    for c, i in enumerate(aircrafts_df.loc[row_list[count]]):\n",
    "        row.append(i)\n",
    "    data.append(row)\n",
    "aircrafts_atl_df = pd.DataFrame(data, columns=name_list)\n",
    "aircrafts_atl_df = aircrafts_atl_df.drop([\"Note\",\"Years Manufactured\",\"Manufacturer\",\"Model\", \"Date Completed\"], axis=\"columns\")\n",
    "aircrafts_atl_df.rename(columns={\"Model_\":\"Model\"}, inplace=True)\n",
    "aircrafts_atl_df"
   ],
   "metadata": {
    "collapsed": false,
    "pycharm": {
     "name": "#%%\n"
    }
   }
  },
  {
   "cell_type": "markdown",
   "source": [
    "# METAR DATA\n",
    "\n",
    "## Introduction\n",
    "Metar stands for \"Meteorological Terminal Air Report\" and is therefore a documentation of meteorological data concerning specific airports.\n",
    "Data was gathered from the Iowa ASOS network from the following link: __[https://mesonet.agron.iastate.edu/request/download.phtml](https://mesonet.agron.iastate.edu/request/download.phtml)__\n",
    "\n",
    "For the codes within metar data we used __[https://www.theairlinepilots.com/forumarchive/aviation-weather/metar.pdf](https://www.theairlinepilots.com/forumarchive/aviation-weather/metar.pdf)__ to interpret their meanings\n",
    "\n",
    "There have been found 193.033 entries with 31 columns.\n",
    "## Dropped\n",
    "For this project I dropped columns which are referring to the airport and are therefore equal in all rows.\n",
    "- station (Abbreviation of airport - redundant)\n",
    "- lon (longitude - airport longitude is known)\n",
    "- lat (latitude - airport latitude is known)\n",
    "- metar (unsure of use)\n",
    "\n",
    "Additionally, valid was split up into time and date\n",
    "\n",
    "## Missing and Trace values\n",
    "Missing values are marked with M and trace values with T.\n",
    "I replace missing and trace values (there were so few that this was deemed okay) values with pd.NaN to better use the functions provided by pandas/numpy\n"
   ],
   "metadata": {
    "collapsed": false,
    "pycharm": {
     "name": "#%% md\n"
    }
   }
  },
  {
   "cell_type": "code",
   "execution_count": 88,
   "outputs": [
    {
     "name": "stderr",
     "output_type": "stream",
     "text": [
      "C:\\ProgramData\\Anaconda\\lib\\site-packages\\ipykernel_launcher.py:1: DtypeWarning: Columns (10) have mixed types.Specify dtype option on import or set low_memory=False.\n",
      "  \"\"\"Entry point for launching an IPython kernel.\n"
     ]
    },
    {
     "data": {
      "text/plain": "       station             valid      lon      lat   tmpf   dwpf   relh  \\\n0          ATL  2016-01-01 00:52 -84.4418  33.6301  51.98  42.08  68.86   \n1          ATL  2016-01-01 01:52 -84.4418  33.6301  50.00  41.00  71.07   \n2          ATL  2016-01-01 02:52 -84.4418  33.6301  48.92  41.00  73.99   \n3          ATL  2016-01-01 03:52 -84.4418  33.6301  46.94  39.92  76.43   \n4          ATL  2016-01-01 04:52 -84.4418  33.6301  46.04  39.02  76.35   \n...        ...               ...      ...      ...    ...    ...    ...   \n193028     ATL  2017-12-30 23:40 -84.4418  33.6301      M      M      M   \n193029     ATL  2017-12-30 23:45 -84.4418  33.6301      M      M      M   \n193030     ATL  2017-12-30 23:50 -84.4418  33.6301      M      M      M   \n193031     ATL  2017-12-30 23:52 -84.4418  33.6301  44.10  30.00  57.37   \n193032     ATL  2017-12-30 23:55 -84.4418  33.6301      M      M      M   \n\n          drct   sknt  p01i  ...     skyl4 wxcodes  ice_accretion_1hr  \\\n0       320.00  10.00  0.00  ...  25000.00       M                  M   \n1       330.00   7.00  0.00  ...         M       M                  M   \n2       310.00  12.00  0.00  ...         M       M                  M   \n3       320.00  13.00  0.00  ...         M       M                  M   \n4       320.00  10.00  0.00  ...         M       M                  M   \n...        ...    ...   ...  ...       ...     ...                ...   \n193028  350.00   8.00     M  ...         M       M                  M   \n193029  360.00  10.00     M  ...         M       M                  M   \n193030  330.00  10.00     M  ...         M       M                  M   \n193031  340.00   9.00  0.00  ...         M       M                  M   \n193032  330.00   8.00     M  ...         M       M                  M   \n\n       ice_accretion_3hr ice_accretion_6hr peak_wind_gust peak_wind_drct  \\\n0                      M                 M              M              M   \n1                      M                 M              M              M   \n2                      M                 M              M              M   \n3                      M                 M              M              M   \n4                      M                 M              M              M   \n...                  ...               ...            ...            ...   \n193028                 M                 M              M              M   \n193029                 M                 M              M              M   \n193030                 M                 M              M              M   \n193031                 M                 M              M              M   \n193032                 M                 M              M              M   \n\n       peak_wind_time   feel  \\\n0                   M  51.98   \n1                   M  46.72   \n2                   M  43.54   \n3                   M  40.71   \n4                   M  40.57   \n...               ...    ...   \n193028              M      M   \n193029              M      M   \n193030              M      M   \n193031              M  38.56   \n193032              M      M   \n\n                                                    metar  \n0       KATL 010052Z 32010KT 10SM FEW100 SCT150 BKN200...  \n1       KATL 010152Z 33007KT 10SM SCT150 BKN200 BKN250...  \n2       KATL 010252Z 31012KT 10SM FEW150 BKN200 BKN250...  \n3       KATL 010352Z 32013KT 10SM FEW150 SCT200 BKN250...  \n4       KATL 010452Z 32010KT 10SM FEW150 BKN200 BKN250...  \n...                                                   ...  \n193028  KATL 302340Z AUTO 35008KT 10SM 07/M01 A3008 RM...  \n193029  KATL 302345Z AUTO 36010KT 10SM 07/M01 A3008 RM...  \n193030  KATL 302350Z AUTO 33010KT 10SM 07/M01 A3009 RM...  \n193031  KATL 302352Z 34009KT 10SM FEW200 BKN250 07/M01...  \n193032  KATL 302355Z AUTO 33008KT 10SM 07/M01 A3009 RM...  \n\n[193033 rows x 31 columns]",
      "text/html": "<div>\n<style scoped>\n    .dataframe tbody tr th:only-of-type {\n        vertical-align: middle;\n    }\n\n    .dataframe tbody tr th {\n        vertical-align: top;\n    }\n\n    .dataframe thead th {\n        text-align: right;\n    }\n</style>\n<table border=\"1\" class=\"dataframe\">\n  <thead>\n    <tr style=\"text-align: right;\">\n      <th></th>\n      <th>station</th>\n      <th>valid</th>\n      <th>lon</th>\n      <th>lat</th>\n      <th>tmpf</th>\n      <th>dwpf</th>\n      <th>relh</th>\n      <th>drct</th>\n      <th>sknt</th>\n      <th>p01i</th>\n      <th>...</th>\n      <th>skyl4</th>\n      <th>wxcodes</th>\n      <th>ice_accretion_1hr</th>\n      <th>ice_accretion_3hr</th>\n      <th>ice_accretion_6hr</th>\n      <th>peak_wind_gust</th>\n      <th>peak_wind_drct</th>\n      <th>peak_wind_time</th>\n      <th>feel</th>\n      <th>metar</th>\n    </tr>\n  </thead>\n  <tbody>\n    <tr>\n      <th>0</th>\n      <td>ATL</td>\n      <td>2016-01-01 00:52</td>\n      <td>-84.4418</td>\n      <td>33.6301</td>\n      <td>51.98</td>\n      <td>42.08</td>\n      <td>68.86</td>\n      <td>320.00</td>\n      <td>10.00</td>\n      <td>0.00</td>\n      <td>...</td>\n      <td>25000.00</td>\n      <td>M</td>\n      <td>M</td>\n      <td>M</td>\n      <td>M</td>\n      <td>M</td>\n      <td>M</td>\n      <td>M</td>\n      <td>51.98</td>\n      <td>KATL 010052Z 32010KT 10SM FEW100 SCT150 BKN200...</td>\n    </tr>\n    <tr>\n      <th>1</th>\n      <td>ATL</td>\n      <td>2016-01-01 01:52</td>\n      <td>-84.4418</td>\n      <td>33.6301</td>\n      <td>50.00</td>\n      <td>41.00</td>\n      <td>71.07</td>\n      <td>330.00</td>\n      <td>7.00</td>\n      <td>0.00</td>\n      <td>...</td>\n      <td>M</td>\n      <td>M</td>\n      <td>M</td>\n      <td>M</td>\n      <td>M</td>\n      <td>M</td>\n      <td>M</td>\n      <td>M</td>\n      <td>46.72</td>\n      <td>KATL 010152Z 33007KT 10SM SCT150 BKN200 BKN250...</td>\n    </tr>\n    <tr>\n      <th>2</th>\n      <td>ATL</td>\n      <td>2016-01-01 02:52</td>\n      <td>-84.4418</td>\n      <td>33.6301</td>\n      <td>48.92</td>\n      <td>41.00</td>\n      <td>73.99</td>\n      <td>310.00</td>\n      <td>12.00</td>\n      <td>0.00</td>\n      <td>...</td>\n      <td>M</td>\n      <td>M</td>\n      <td>M</td>\n      <td>M</td>\n      <td>M</td>\n      <td>M</td>\n      <td>M</td>\n      <td>M</td>\n      <td>43.54</td>\n      <td>KATL 010252Z 31012KT 10SM FEW150 BKN200 BKN250...</td>\n    </tr>\n    <tr>\n      <th>3</th>\n      <td>ATL</td>\n      <td>2016-01-01 03:52</td>\n      <td>-84.4418</td>\n      <td>33.6301</td>\n      <td>46.94</td>\n      <td>39.92</td>\n      <td>76.43</td>\n      <td>320.00</td>\n      <td>13.00</td>\n      <td>0.00</td>\n      <td>...</td>\n      <td>M</td>\n      <td>M</td>\n      <td>M</td>\n      <td>M</td>\n      <td>M</td>\n      <td>M</td>\n      <td>M</td>\n      <td>M</td>\n      <td>40.71</td>\n      <td>KATL 010352Z 32013KT 10SM FEW150 SCT200 BKN250...</td>\n    </tr>\n    <tr>\n      <th>4</th>\n      <td>ATL</td>\n      <td>2016-01-01 04:52</td>\n      <td>-84.4418</td>\n      <td>33.6301</td>\n      <td>46.04</td>\n      <td>39.02</td>\n      <td>76.35</td>\n      <td>320.00</td>\n      <td>10.00</td>\n      <td>0.00</td>\n      <td>...</td>\n      <td>M</td>\n      <td>M</td>\n      <td>M</td>\n      <td>M</td>\n      <td>M</td>\n      <td>M</td>\n      <td>M</td>\n      <td>M</td>\n      <td>40.57</td>\n      <td>KATL 010452Z 32010KT 10SM FEW150 BKN200 BKN250...</td>\n    </tr>\n    <tr>\n      <th>...</th>\n      <td>...</td>\n      <td>...</td>\n      <td>...</td>\n      <td>...</td>\n      <td>...</td>\n      <td>...</td>\n      <td>...</td>\n      <td>...</td>\n      <td>...</td>\n      <td>...</td>\n      <td>...</td>\n      <td>...</td>\n      <td>...</td>\n      <td>...</td>\n      <td>...</td>\n      <td>...</td>\n      <td>...</td>\n      <td>...</td>\n      <td>...</td>\n      <td>...</td>\n      <td>...</td>\n    </tr>\n    <tr>\n      <th>193028</th>\n      <td>ATL</td>\n      <td>2017-12-30 23:40</td>\n      <td>-84.4418</td>\n      <td>33.6301</td>\n      <td>M</td>\n      <td>M</td>\n      <td>M</td>\n      <td>350.00</td>\n      <td>8.00</td>\n      <td>M</td>\n      <td>...</td>\n      <td>M</td>\n      <td>M</td>\n      <td>M</td>\n      <td>M</td>\n      <td>M</td>\n      <td>M</td>\n      <td>M</td>\n      <td>M</td>\n      <td>M</td>\n      <td>KATL 302340Z AUTO 35008KT 10SM 07/M01 A3008 RM...</td>\n    </tr>\n    <tr>\n      <th>193029</th>\n      <td>ATL</td>\n      <td>2017-12-30 23:45</td>\n      <td>-84.4418</td>\n      <td>33.6301</td>\n      <td>M</td>\n      <td>M</td>\n      <td>M</td>\n      <td>360.00</td>\n      <td>10.00</td>\n      <td>M</td>\n      <td>...</td>\n      <td>M</td>\n      <td>M</td>\n      <td>M</td>\n      <td>M</td>\n      <td>M</td>\n      <td>M</td>\n      <td>M</td>\n      <td>M</td>\n      <td>M</td>\n      <td>KATL 302345Z AUTO 36010KT 10SM 07/M01 A3008 RM...</td>\n    </tr>\n    <tr>\n      <th>193030</th>\n      <td>ATL</td>\n      <td>2017-12-30 23:50</td>\n      <td>-84.4418</td>\n      <td>33.6301</td>\n      <td>M</td>\n      <td>M</td>\n      <td>M</td>\n      <td>330.00</td>\n      <td>10.00</td>\n      <td>M</td>\n      <td>...</td>\n      <td>M</td>\n      <td>M</td>\n      <td>M</td>\n      <td>M</td>\n      <td>M</td>\n      <td>M</td>\n      <td>M</td>\n      <td>M</td>\n      <td>M</td>\n      <td>KATL 302350Z AUTO 33010KT 10SM 07/M01 A3009 RM...</td>\n    </tr>\n    <tr>\n      <th>193031</th>\n      <td>ATL</td>\n      <td>2017-12-30 23:52</td>\n      <td>-84.4418</td>\n      <td>33.6301</td>\n      <td>44.10</td>\n      <td>30.00</td>\n      <td>57.37</td>\n      <td>340.00</td>\n      <td>9.00</td>\n      <td>0.00</td>\n      <td>...</td>\n      <td>M</td>\n      <td>M</td>\n      <td>M</td>\n      <td>M</td>\n      <td>M</td>\n      <td>M</td>\n      <td>M</td>\n      <td>M</td>\n      <td>38.56</td>\n      <td>KATL 302352Z 34009KT 10SM FEW200 BKN250 07/M01...</td>\n    </tr>\n    <tr>\n      <th>193032</th>\n      <td>ATL</td>\n      <td>2017-12-30 23:55</td>\n      <td>-84.4418</td>\n      <td>33.6301</td>\n      <td>M</td>\n      <td>M</td>\n      <td>M</td>\n      <td>330.00</td>\n      <td>8.00</td>\n      <td>M</td>\n      <td>...</td>\n      <td>M</td>\n      <td>M</td>\n      <td>M</td>\n      <td>M</td>\n      <td>M</td>\n      <td>M</td>\n      <td>M</td>\n      <td>M</td>\n      <td>M</td>\n      <td>KATL 302355Z AUTO 33008KT 10SM 07/M01 A3009 RM...</td>\n    </tr>\n  </tbody>\n</table>\n<p>193033 rows × 31 columns</p>\n</div>"
     },
     "execution_count": 88,
     "metadata": {},
     "output_type": "execute_result"
    }
   ],
   "source": [
    "read_table_from_subfolder(\"./data_raw/METAR_US/*_KATL_*.txt\")"
   ],
   "metadata": {
    "collapsed": false,
    "pycharm": {
     "name": "#%%\n"
    }
   }
  },
  {
   "cell_type": "code",
   "execution_count": 89,
   "outputs": [
    {
     "name": "stderr",
     "output_type": "stream",
     "text": [
      "C:\\ProgramData\\Anaconda\\lib\\site-packages\\ipykernel_launcher.py:1: DtypeWarning: Columns (10) have mixed types.Specify dtype option on import or set low_memory=False.\n",
      "  \"\"\"Entry point for launching an IPython kernel.\n"
     ]
    },
    {
     "data": {
      "text/plain": "         tmpf   dwpf   relh    drct   sknt  p01i   alti     mslp  vsby gust  \\\n0       51.98  42.08  68.86  320.00  10.00  0.00  30.19  1022.50  10.0  NaN   \n1       50.00  41.00  71.07  330.00   7.00  0.00  30.18  1022.20  10.0  NaN   \n2       48.92  41.00  73.99  310.00  12.00  0.00  30.18  1022.00  10.0  NaN   \n3       46.94  39.92  76.43  320.00  13.00  0.00  30.17  1021.90  10.0  NaN   \n4       46.04  39.02  76.35  320.00  10.00  0.00  30.18  1022.00  10.0  NaN   \n...       ...    ...    ...     ...    ...   ...    ...      ...   ...  ...   \n193028    NaN    NaN    NaN  350.00   8.00   NaN  30.08      NaN  10.0  NaN   \n193029    NaN    NaN    NaN  360.00  10.00   NaN  30.08      NaN  10.0  NaN   \n193030    NaN    NaN    NaN  330.00  10.00   NaN  30.09      NaN  10.0  NaN   \n193031  44.10  30.00  57.37  340.00   9.00  0.00  30.09  1019.50  10.0  NaN   \n193032    NaN    NaN    NaN  330.00   8.00   NaN  30.09      NaN  10.0  NaN   \n\n        ... ice_accretion_1hr ice_accretion_3hr ice_accretion_6hr  \\\n0       ...               NaN               NaN               NaN   \n1       ...               NaN               NaN               NaN   \n2       ...               NaN               NaN               NaN   \n3       ...               NaN               NaN               NaN   \n4       ...               NaN               NaN               NaN   \n...     ...               ...               ...               ...   \n193028  ...               NaN               NaN               NaN   \n193029  ...               NaN               NaN               NaN   \n193030  ...               NaN               NaN               NaN   \n193031  ...               NaN               NaN               NaN   \n193032  ...               NaN               NaN               NaN   \n\n       peak_wind_gust peak_wind_drct peak_wind_time   feel  \\\n0                 NaN            NaN            NaN  51.98   \n1                 NaN            NaN            NaN  46.72   \n2                 NaN            NaN            NaN  43.54   \n3                 NaN            NaN            NaN  40.71   \n4                 NaN            NaN            NaN  40.57   \n...               ...            ...            ...    ...   \n193028            NaN            NaN            NaN    NaN   \n193029            NaN            NaN            NaN    NaN   \n193030            NaN            NaN            NaN    NaN   \n193031            NaN            NaN            NaN  38.56   \n193032            NaN            NaN            NaN    NaN   \n\n                                                    metar        date   time  \n0       KATL 010052Z 32010KT 10SM FEW100 SCT150 BKN200...  2016-01-01  00:52  \n1       KATL 010152Z 33007KT 10SM SCT150 BKN200 BKN250...  2016-01-01  01:52  \n2       KATL 010252Z 31012KT 10SM FEW150 BKN200 BKN250...  2016-01-01  02:52  \n3       KATL 010352Z 32013KT 10SM FEW150 SCT200 BKN250...  2016-01-01  03:52  \n4       KATL 010452Z 32010KT 10SM FEW150 BKN200 BKN250...  2016-01-01  04:52  \n...                                                   ...         ...    ...  \n193028  KATL 302340Z AUTO 35008KT 10SM 07/M01 A3008 RM...  2017-12-30  23:40  \n193029  KATL 302345Z AUTO 36010KT 10SM 07/M01 A3008 RM...  2017-12-30  23:45  \n193030  KATL 302350Z AUTO 33010KT 10SM 07/M01 A3009 RM...  2017-12-30  23:50  \n193031  KATL 302352Z 34009KT 10SM FEW200 BKN250 07/M01...  2017-12-30  23:52  \n193032  KATL 302355Z AUTO 33008KT 10SM 07/M01 A3009 RM...  2017-12-30  23:55  \n\n[193033 rows x 29 columns]",
      "text/html": "<div>\n<style scoped>\n    .dataframe tbody tr th:only-of-type {\n        vertical-align: middle;\n    }\n\n    .dataframe tbody tr th {\n        vertical-align: top;\n    }\n\n    .dataframe thead th {\n        text-align: right;\n    }\n</style>\n<table border=\"1\" class=\"dataframe\">\n  <thead>\n    <tr style=\"text-align: right;\">\n      <th></th>\n      <th>tmpf</th>\n      <th>dwpf</th>\n      <th>relh</th>\n      <th>drct</th>\n      <th>sknt</th>\n      <th>p01i</th>\n      <th>alti</th>\n      <th>mslp</th>\n      <th>vsby</th>\n      <th>gust</th>\n      <th>...</th>\n      <th>ice_accretion_1hr</th>\n      <th>ice_accretion_3hr</th>\n      <th>ice_accretion_6hr</th>\n      <th>peak_wind_gust</th>\n      <th>peak_wind_drct</th>\n      <th>peak_wind_time</th>\n      <th>feel</th>\n      <th>metar</th>\n      <th>date</th>\n      <th>time</th>\n    </tr>\n  </thead>\n  <tbody>\n    <tr>\n      <th>0</th>\n      <td>51.98</td>\n      <td>42.08</td>\n      <td>68.86</td>\n      <td>320.00</td>\n      <td>10.00</td>\n      <td>0.00</td>\n      <td>30.19</td>\n      <td>1022.50</td>\n      <td>10.0</td>\n      <td>NaN</td>\n      <td>...</td>\n      <td>NaN</td>\n      <td>NaN</td>\n      <td>NaN</td>\n      <td>NaN</td>\n      <td>NaN</td>\n      <td>NaN</td>\n      <td>51.98</td>\n      <td>KATL 010052Z 32010KT 10SM FEW100 SCT150 BKN200...</td>\n      <td>2016-01-01</td>\n      <td>00:52</td>\n    </tr>\n    <tr>\n      <th>1</th>\n      <td>50.00</td>\n      <td>41.00</td>\n      <td>71.07</td>\n      <td>330.00</td>\n      <td>7.00</td>\n      <td>0.00</td>\n      <td>30.18</td>\n      <td>1022.20</td>\n      <td>10.0</td>\n      <td>NaN</td>\n      <td>...</td>\n      <td>NaN</td>\n      <td>NaN</td>\n      <td>NaN</td>\n      <td>NaN</td>\n      <td>NaN</td>\n      <td>NaN</td>\n      <td>46.72</td>\n      <td>KATL 010152Z 33007KT 10SM SCT150 BKN200 BKN250...</td>\n      <td>2016-01-01</td>\n      <td>01:52</td>\n    </tr>\n    <tr>\n      <th>2</th>\n      <td>48.92</td>\n      <td>41.00</td>\n      <td>73.99</td>\n      <td>310.00</td>\n      <td>12.00</td>\n      <td>0.00</td>\n      <td>30.18</td>\n      <td>1022.00</td>\n      <td>10.0</td>\n      <td>NaN</td>\n      <td>...</td>\n      <td>NaN</td>\n      <td>NaN</td>\n      <td>NaN</td>\n      <td>NaN</td>\n      <td>NaN</td>\n      <td>NaN</td>\n      <td>43.54</td>\n      <td>KATL 010252Z 31012KT 10SM FEW150 BKN200 BKN250...</td>\n      <td>2016-01-01</td>\n      <td>02:52</td>\n    </tr>\n    <tr>\n      <th>3</th>\n      <td>46.94</td>\n      <td>39.92</td>\n      <td>76.43</td>\n      <td>320.00</td>\n      <td>13.00</td>\n      <td>0.00</td>\n      <td>30.17</td>\n      <td>1021.90</td>\n      <td>10.0</td>\n      <td>NaN</td>\n      <td>...</td>\n      <td>NaN</td>\n      <td>NaN</td>\n      <td>NaN</td>\n      <td>NaN</td>\n      <td>NaN</td>\n      <td>NaN</td>\n      <td>40.71</td>\n      <td>KATL 010352Z 32013KT 10SM FEW150 SCT200 BKN250...</td>\n      <td>2016-01-01</td>\n      <td>03:52</td>\n    </tr>\n    <tr>\n      <th>4</th>\n      <td>46.04</td>\n      <td>39.02</td>\n      <td>76.35</td>\n      <td>320.00</td>\n      <td>10.00</td>\n      <td>0.00</td>\n      <td>30.18</td>\n      <td>1022.00</td>\n      <td>10.0</td>\n      <td>NaN</td>\n      <td>...</td>\n      <td>NaN</td>\n      <td>NaN</td>\n      <td>NaN</td>\n      <td>NaN</td>\n      <td>NaN</td>\n      <td>NaN</td>\n      <td>40.57</td>\n      <td>KATL 010452Z 32010KT 10SM FEW150 BKN200 BKN250...</td>\n      <td>2016-01-01</td>\n      <td>04:52</td>\n    </tr>\n    <tr>\n      <th>...</th>\n      <td>...</td>\n      <td>...</td>\n      <td>...</td>\n      <td>...</td>\n      <td>...</td>\n      <td>...</td>\n      <td>...</td>\n      <td>...</td>\n      <td>...</td>\n      <td>...</td>\n      <td>...</td>\n      <td>...</td>\n      <td>...</td>\n      <td>...</td>\n      <td>...</td>\n      <td>...</td>\n      <td>...</td>\n      <td>...</td>\n      <td>...</td>\n      <td>...</td>\n      <td>...</td>\n    </tr>\n    <tr>\n      <th>193028</th>\n      <td>NaN</td>\n      <td>NaN</td>\n      <td>NaN</td>\n      <td>350.00</td>\n      <td>8.00</td>\n      <td>NaN</td>\n      <td>30.08</td>\n      <td>NaN</td>\n      <td>10.0</td>\n      <td>NaN</td>\n      <td>...</td>\n      <td>NaN</td>\n      <td>NaN</td>\n      <td>NaN</td>\n      <td>NaN</td>\n      <td>NaN</td>\n      <td>NaN</td>\n      <td>NaN</td>\n      <td>KATL 302340Z AUTO 35008KT 10SM 07/M01 A3008 RM...</td>\n      <td>2017-12-30</td>\n      <td>23:40</td>\n    </tr>\n    <tr>\n      <th>193029</th>\n      <td>NaN</td>\n      <td>NaN</td>\n      <td>NaN</td>\n      <td>360.00</td>\n      <td>10.00</td>\n      <td>NaN</td>\n      <td>30.08</td>\n      <td>NaN</td>\n      <td>10.0</td>\n      <td>NaN</td>\n      <td>...</td>\n      <td>NaN</td>\n      <td>NaN</td>\n      <td>NaN</td>\n      <td>NaN</td>\n      <td>NaN</td>\n      <td>NaN</td>\n      <td>NaN</td>\n      <td>KATL 302345Z AUTO 36010KT 10SM 07/M01 A3008 RM...</td>\n      <td>2017-12-30</td>\n      <td>23:45</td>\n    </tr>\n    <tr>\n      <th>193030</th>\n      <td>NaN</td>\n      <td>NaN</td>\n      <td>NaN</td>\n      <td>330.00</td>\n      <td>10.00</td>\n      <td>NaN</td>\n      <td>30.09</td>\n      <td>NaN</td>\n      <td>10.0</td>\n      <td>NaN</td>\n      <td>...</td>\n      <td>NaN</td>\n      <td>NaN</td>\n      <td>NaN</td>\n      <td>NaN</td>\n      <td>NaN</td>\n      <td>NaN</td>\n      <td>NaN</td>\n      <td>KATL 302350Z AUTO 33010KT 10SM 07/M01 A3009 RM...</td>\n      <td>2017-12-30</td>\n      <td>23:50</td>\n    </tr>\n    <tr>\n      <th>193031</th>\n      <td>44.10</td>\n      <td>30.00</td>\n      <td>57.37</td>\n      <td>340.00</td>\n      <td>9.00</td>\n      <td>0.00</td>\n      <td>30.09</td>\n      <td>1019.50</td>\n      <td>10.0</td>\n      <td>NaN</td>\n      <td>...</td>\n      <td>NaN</td>\n      <td>NaN</td>\n      <td>NaN</td>\n      <td>NaN</td>\n      <td>NaN</td>\n      <td>NaN</td>\n      <td>38.56</td>\n      <td>KATL 302352Z 34009KT 10SM FEW200 BKN250 07/M01...</td>\n      <td>2017-12-30</td>\n      <td>23:52</td>\n    </tr>\n    <tr>\n      <th>193032</th>\n      <td>NaN</td>\n      <td>NaN</td>\n      <td>NaN</td>\n      <td>330.00</td>\n      <td>8.00</td>\n      <td>NaN</td>\n      <td>30.09</td>\n      <td>NaN</td>\n      <td>10.0</td>\n      <td>NaN</td>\n      <td>...</td>\n      <td>NaN</td>\n      <td>NaN</td>\n      <td>NaN</td>\n      <td>NaN</td>\n      <td>NaN</td>\n      <td>NaN</td>\n      <td>NaN</td>\n      <td>KATL 302355Z AUTO 33008KT 10SM 07/M01 A3009 RM...</td>\n      <td>2017-12-30</td>\n      <td>23:55</td>\n    </tr>\n  </tbody>\n</table>\n<p>193033 rows × 29 columns</p>\n</div>"
     },
     "execution_count": 89,
     "metadata": {},
     "output_type": "execute_result"
    }
   ],
   "source": [
    "atl_weather_df = read_table_from_subfolder(\"./data_raw/METAR_US/*_KATL_*.txt\")\n",
    "date = atl_weather_df[\"valid\"].apply(lambda x: x.split()[0])\n",
    "time = atl_weather_df[\"valid\"].apply(lambda x: x.split()[1])\n",
    "atl_weather_df = atl_weather_df.drop(labels=[\"station\",\"lon\", \"lat\",\"valid\"], axis=\"columns\")\n",
    "atl_weather_df[\"date\"] = date\n",
    "atl_weather_df[\"time\"] = time\n",
    "atl_weather_df = atl_weather_df.mask(atl_weather_df == \"M\")\n",
    "#atl_weather_df[\"valid\"] = atl_weather_df[\"valid\"].apply(lambda x: re.match('\\d\\d\\d\\d-\\d\\d-\\d\\d',x).group(0))\n",
    "atl_weather_df"
   ],
   "metadata": {
    "collapsed": false,
    "pycharm": {
     "name": "#%%\n"
    }
   }
  },
  {
   "cell_type": "code",
   "execution_count": 90,
   "outputs": [
    {
     "name": "stdout",
     "output_type": "stream",
     "text": [
      "Counting 'T' values per column\n",
      "tmpf:\t0\n",
      "dwpf:\t0\n",
      "relh:\t0\n",
      "drct:\t0\n",
      "sknt:\t0\n",
      "p01i:\t1854\n",
      "alti:\t0\n",
      "mslp:\t0\n",
      "vsby:\t0\n",
      "gust:\t0\n",
      "skyc1:\t0\n",
      "skyc2:\t0\n",
      "skyc3:\t0\n",
      "skyc4:\t0\n",
      "skyl1:\t0\n",
      "skyl2:\t0\n",
      "skyl3:\t0\n",
      "skyl4:\t0\n",
      "wxcodes:\t0\n",
      "ice_accretion_1hr:\t11\n",
      "ice_accretion_3hr:\t2\n",
      "ice_accretion_6hr:\t2\n",
      "peak_wind_gust:\t0\n",
      "peak_wind_drct:\t0\n",
      "peak_wind_time:\t0\n",
      "feel:\t0\n",
      "metar:\t0\n",
      "date:\t0\n",
      "time:\t0\n"
     ]
    }
   ],
   "source": [
    "print(\"Counting 'T' values per column\")\n",
    "for col in atl_weather_df.columns:\n",
    "    val_cnt = atl_weather_df[col].value_counts()\n",
    "    if 'T' in val_cnt.index:\n",
    "        print(col + \":\\t\"+ str(val_cnt.loc[\"T\"]))\n",
    "    else:\n",
    "        print(col + \":\\t0\")"
   ],
   "metadata": {
    "collapsed": false,
    "pycharm": {
     "name": "#%%\n"
    }
   }
  },
  {
   "cell_type": "code",
   "execution_count": 91,
   "outputs": [
    {
     "name": "stdout",
     "output_type": "stream",
     "text": [
      "<class 'pandas.core.frame.DataFrame'>\n",
      "RangeIndex: 193033 entries, 0 to 193032\n",
      "Data columns (total 29 columns):\n",
      " #   Column             Non-Null Count   Dtype  \n",
      "---  ------             --------------   -----  \n",
      " 0   tmpf               20396 non-null   object \n",
      " 1   dwpf               20394 non-null   object \n",
      " 2   relh               20364 non-null   object \n",
      " 3   drct               187633 non-null  object \n",
      " 4   sknt               188154 non-null  object \n",
      " 5   p01i               24463 non-null   object \n",
      " 6   alti               193002 non-null  object \n",
      " 7   mslp               17489 non-null   object \n",
      " 8   vsby               193033 non-null  float64\n",
      " 9   gust               5243 non-null    object \n",
      " 10  skyc1              185389 non-null  object \n",
      " 11  skyc2              46189 non-null   object \n",
      " 12  skyc3              20988 non-null   object \n",
      " 13  skyc4              1877 non-null    object \n",
      " 14  skyl1              96341 non-null   object \n",
      " 15  skyl2              46189 non-null   object \n",
      " 16  skyl3              20988 non-null   object \n",
      " 17  skyl4              1877 non-null    object \n",
      " 18  wxcodes            17909 non-null   object \n",
      " 19  ice_accretion_1hr  11 non-null      object \n",
      " 20  ice_accretion_3hr  2 non-null       object \n",
      " 21  ice_accretion_6hr  2 non-null       object \n",
      " 22  peak_wind_gust     569 non-null     object \n",
      " 23  peak_wind_drct     569 non-null     object \n",
      " 24  peak_wind_time     569 non-null     object \n",
      " 25  feel               20364 non-null   object \n",
      " 26  metar              191331 non-null  object \n",
      " 27  date               193033 non-null  object \n",
      " 28  time               193033 non-null  object \n",
      "dtypes: float64(1), object(28)\n",
      "memory usage: 42.7+ MB\n"
     ]
    }
   ],
   "source": [
    "atl_weather_df = atl_weather_df.mask(atl_weather_df == \"T\")\n",
    "atl_weather_df.info()"
   ],
   "metadata": {
    "collapsed": false,
    "pycharm": {
     "name": "#%%\n"
    }
   }
  },
  {
   "cell_type": "code",
   "execution_count": 92,
   "outputs": [
    {
     "data": {
      "text/plain": "         tmpf   dwpf   relh    drct   sknt  p01i   alti     mslp  vsby gust  \\\n0       51.98  42.08  68.86  320.00  10.00  0.00  30.19  1022.50  10.0  NaN   \n1       50.00  41.00  71.07  330.00   7.00  0.00  30.18  1022.20  10.0  NaN   \n2       48.92  41.00  73.99  310.00  12.00  0.00  30.18  1022.00  10.0  NaN   \n3       46.94  39.92  76.43  320.00  13.00  0.00  30.17  1021.90  10.0  NaN   \n4       46.04  39.02  76.35  320.00  10.00  0.00  30.18  1022.00  10.0  NaN   \n...       ...    ...    ...     ...    ...   ...    ...      ...   ...  ...   \n193028    NaN    NaN    NaN  350.00   8.00   NaN  30.08      NaN  10.0  NaN   \n193029    NaN    NaN    NaN  360.00  10.00   NaN  30.08      NaN  10.0  NaN   \n193030    NaN    NaN    NaN  330.00  10.00   NaN  30.09      NaN  10.0  NaN   \n193031  44.10  30.00  57.37  340.00   9.00  0.00  30.09  1019.50  10.0  NaN   \n193032    NaN    NaN    NaN  330.00   8.00   NaN  30.09      NaN  10.0  NaN   \n\n        ... ice_accretion_1hr ice_accretion_3hr ice_accretion_6hr  \\\n0       ...               NaN               NaN               NaN   \n1       ...               NaN               NaN               NaN   \n2       ...               NaN               NaN               NaN   \n3       ...               NaN               NaN               NaN   \n4       ...               NaN               NaN               NaN   \n...     ...               ...               ...               ...   \n193028  ...               NaN               NaN               NaN   \n193029  ...               NaN               NaN               NaN   \n193030  ...               NaN               NaN               NaN   \n193031  ...               NaN               NaN               NaN   \n193032  ...               NaN               NaN               NaN   \n\n       peak_wind_gust peak_wind_drct peak_wind_time   feel  \\\n0                 NaN            NaN            NaN  51.98   \n1                 NaN            NaN            NaN  46.72   \n2                 NaN            NaN            NaN  43.54   \n3                 NaN            NaN            NaN  40.71   \n4                 NaN            NaN            NaN  40.57   \n...               ...            ...            ...    ...   \n193028            NaN            NaN            NaN    NaN   \n193029            NaN            NaN            NaN    NaN   \n193030            NaN            NaN            NaN    NaN   \n193031            NaN            NaN            NaN  38.56   \n193032            NaN            NaN            NaN    NaN   \n\n                                                    metar        date   time  \n0       KATL 010052Z 32010KT 10SM FEW100 SCT150 BKN200...  2016-01-01  00:52  \n1       KATL 010152Z 33007KT 10SM SCT150 BKN200 BKN250...  2016-01-01  01:52  \n2       KATL 010252Z 31012KT 10SM FEW150 BKN200 BKN250...  2016-01-01  02:52  \n3       KATL 010352Z 32013KT 10SM FEW150 SCT200 BKN250...  2016-01-01  03:52  \n4       KATL 010452Z 32010KT 10SM FEW150 BKN200 BKN250...  2016-01-01  04:52  \n...                                                   ...         ...    ...  \n193028  KATL 302340Z AUTO 35008KT 10SM 07/M01 A3008 RM...  2017-12-30  23:40  \n193029  KATL 302345Z AUTO 36010KT 10SM 07/M01 A3008 RM...  2017-12-30  23:45  \n193030  KATL 302350Z AUTO 33010KT 10SM 07/M01 A3009 RM...  2017-12-30  23:50  \n193031  KATL 302352Z 34009KT 10SM FEW200 BKN250 07/M01...  2017-12-30  23:52  \n193032  KATL 302355Z AUTO 33008KT 10SM 07/M01 A3009 RM...  2017-12-30  23:55  \n\n[193033 rows x 29 columns]",
      "text/html": "<div>\n<style scoped>\n    .dataframe tbody tr th:only-of-type {\n        vertical-align: middle;\n    }\n\n    .dataframe tbody tr th {\n        vertical-align: top;\n    }\n\n    .dataframe thead th {\n        text-align: right;\n    }\n</style>\n<table border=\"1\" class=\"dataframe\">\n  <thead>\n    <tr style=\"text-align: right;\">\n      <th></th>\n      <th>tmpf</th>\n      <th>dwpf</th>\n      <th>relh</th>\n      <th>drct</th>\n      <th>sknt</th>\n      <th>p01i</th>\n      <th>alti</th>\n      <th>mslp</th>\n      <th>vsby</th>\n      <th>gust</th>\n      <th>...</th>\n      <th>ice_accretion_1hr</th>\n      <th>ice_accretion_3hr</th>\n      <th>ice_accretion_6hr</th>\n      <th>peak_wind_gust</th>\n      <th>peak_wind_drct</th>\n      <th>peak_wind_time</th>\n      <th>feel</th>\n      <th>metar</th>\n      <th>date</th>\n      <th>time</th>\n    </tr>\n  </thead>\n  <tbody>\n    <tr>\n      <th>0</th>\n      <td>51.98</td>\n      <td>42.08</td>\n      <td>68.86</td>\n      <td>320.00</td>\n      <td>10.00</td>\n      <td>0.00</td>\n      <td>30.19</td>\n      <td>1022.50</td>\n      <td>10.0</td>\n      <td>NaN</td>\n      <td>...</td>\n      <td>NaN</td>\n      <td>NaN</td>\n      <td>NaN</td>\n      <td>NaN</td>\n      <td>NaN</td>\n      <td>NaN</td>\n      <td>51.98</td>\n      <td>KATL 010052Z 32010KT 10SM FEW100 SCT150 BKN200...</td>\n      <td>2016-01-01</td>\n      <td>00:52</td>\n    </tr>\n    <tr>\n      <th>1</th>\n      <td>50.00</td>\n      <td>41.00</td>\n      <td>71.07</td>\n      <td>330.00</td>\n      <td>7.00</td>\n      <td>0.00</td>\n      <td>30.18</td>\n      <td>1022.20</td>\n      <td>10.0</td>\n      <td>NaN</td>\n      <td>...</td>\n      <td>NaN</td>\n      <td>NaN</td>\n      <td>NaN</td>\n      <td>NaN</td>\n      <td>NaN</td>\n      <td>NaN</td>\n      <td>46.72</td>\n      <td>KATL 010152Z 33007KT 10SM SCT150 BKN200 BKN250...</td>\n      <td>2016-01-01</td>\n      <td>01:52</td>\n    </tr>\n    <tr>\n      <th>2</th>\n      <td>48.92</td>\n      <td>41.00</td>\n      <td>73.99</td>\n      <td>310.00</td>\n      <td>12.00</td>\n      <td>0.00</td>\n      <td>30.18</td>\n      <td>1022.00</td>\n      <td>10.0</td>\n      <td>NaN</td>\n      <td>...</td>\n      <td>NaN</td>\n      <td>NaN</td>\n      <td>NaN</td>\n      <td>NaN</td>\n      <td>NaN</td>\n      <td>NaN</td>\n      <td>43.54</td>\n      <td>KATL 010252Z 31012KT 10SM FEW150 BKN200 BKN250...</td>\n      <td>2016-01-01</td>\n      <td>02:52</td>\n    </tr>\n    <tr>\n      <th>3</th>\n      <td>46.94</td>\n      <td>39.92</td>\n      <td>76.43</td>\n      <td>320.00</td>\n      <td>13.00</td>\n      <td>0.00</td>\n      <td>30.17</td>\n      <td>1021.90</td>\n      <td>10.0</td>\n      <td>NaN</td>\n      <td>...</td>\n      <td>NaN</td>\n      <td>NaN</td>\n      <td>NaN</td>\n      <td>NaN</td>\n      <td>NaN</td>\n      <td>NaN</td>\n      <td>40.71</td>\n      <td>KATL 010352Z 32013KT 10SM FEW150 SCT200 BKN250...</td>\n      <td>2016-01-01</td>\n      <td>03:52</td>\n    </tr>\n    <tr>\n      <th>4</th>\n      <td>46.04</td>\n      <td>39.02</td>\n      <td>76.35</td>\n      <td>320.00</td>\n      <td>10.00</td>\n      <td>0.00</td>\n      <td>30.18</td>\n      <td>1022.00</td>\n      <td>10.0</td>\n      <td>NaN</td>\n      <td>...</td>\n      <td>NaN</td>\n      <td>NaN</td>\n      <td>NaN</td>\n      <td>NaN</td>\n      <td>NaN</td>\n      <td>NaN</td>\n      <td>40.57</td>\n      <td>KATL 010452Z 32010KT 10SM FEW150 BKN200 BKN250...</td>\n      <td>2016-01-01</td>\n      <td>04:52</td>\n    </tr>\n    <tr>\n      <th>...</th>\n      <td>...</td>\n      <td>...</td>\n      <td>...</td>\n      <td>...</td>\n      <td>...</td>\n      <td>...</td>\n      <td>...</td>\n      <td>...</td>\n      <td>...</td>\n      <td>...</td>\n      <td>...</td>\n      <td>...</td>\n      <td>...</td>\n      <td>...</td>\n      <td>...</td>\n      <td>...</td>\n      <td>...</td>\n      <td>...</td>\n      <td>...</td>\n      <td>...</td>\n      <td>...</td>\n    </tr>\n    <tr>\n      <th>193028</th>\n      <td>NaN</td>\n      <td>NaN</td>\n      <td>NaN</td>\n      <td>350.00</td>\n      <td>8.00</td>\n      <td>NaN</td>\n      <td>30.08</td>\n      <td>NaN</td>\n      <td>10.0</td>\n      <td>NaN</td>\n      <td>...</td>\n      <td>NaN</td>\n      <td>NaN</td>\n      <td>NaN</td>\n      <td>NaN</td>\n      <td>NaN</td>\n      <td>NaN</td>\n      <td>NaN</td>\n      <td>KATL 302340Z AUTO 35008KT 10SM 07/M01 A3008 RM...</td>\n      <td>2017-12-30</td>\n      <td>23:40</td>\n    </tr>\n    <tr>\n      <th>193029</th>\n      <td>NaN</td>\n      <td>NaN</td>\n      <td>NaN</td>\n      <td>360.00</td>\n      <td>10.00</td>\n      <td>NaN</td>\n      <td>30.08</td>\n      <td>NaN</td>\n      <td>10.0</td>\n      <td>NaN</td>\n      <td>...</td>\n      <td>NaN</td>\n      <td>NaN</td>\n      <td>NaN</td>\n      <td>NaN</td>\n      <td>NaN</td>\n      <td>NaN</td>\n      <td>NaN</td>\n      <td>KATL 302345Z AUTO 36010KT 10SM 07/M01 A3008 RM...</td>\n      <td>2017-12-30</td>\n      <td>23:45</td>\n    </tr>\n    <tr>\n      <th>193030</th>\n      <td>NaN</td>\n      <td>NaN</td>\n      <td>NaN</td>\n      <td>330.00</td>\n      <td>10.00</td>\n      <td>NaN</td>\n      <td>30.09</td>\n      <td>NaN</td>\n      <td>10.0</td>\n      <td>NaN</td>\n      <td>...</td>\n      <td>NaN</td>\n      <td>NaN</td>\n      <td>NaN</td>\n      <td>NaN</td>\n      <td>NaN</td>\n      <td>NaN</td>\n      <td>NaN</td>\n      <td>KATL 302350Z AUTO 33010KT 10SM 07/M01 A3009 RM...</td>\n      <td>2017-12-30</td>\n      <td>23:50</td>\n    </tr>\n    <tr>\n      <th>193031</th>\n      <td>44.10</td>\n      <td>30.00</td>\n      <td>57.37</td>\n      <td>340.00</td>\n      <td>9.00</td>\n      <td>0.00</td>\n      <td>30.09</td>\n      <td>1019.50</td>\n      <td>10.0</td>\n      <td>NaN</td>\n      <td>...</td>\n      <td>NaN</td>\n      <td>NaN</td>\n      <td>NaN</td>\n      <td>NaN</td>\n      <td>NaN</td>\n      <td>NaN</td>\n      <td>38.56</td>\n      <td>KATL 302352Z 34009KT 10SM FEW200 BKN250 07/M01...</td>\n      <td>2017-12-30</td>\n      <td>23:52</td>\n    </tr>\n    <tr>\n      <th>193032</th>\n      <td>NaN</td>\n      <td>NaN</td>\n      <td>NaN</td>\n      <td>330.00</td>\n      <td>8.00</td>\n      <td>NaN</td>\n      <td>30.09</td>\n      <td>NaN</td>\n      <td>10.0</td>\n      <td>NaN</td>\n      <td>...</td>\n      <td>NaN</td>\n      <td>NaN</td>\n      <td>NaN</td>\n      <td>NaN</td>\n      <td>NaN</td>\n      <td>NaN</td>\n      <td>NaN</td>\n      <td>KATL 302355Z AUTO 33008KT 10SM 07/M01 A3009 RM...</td>\n      <td>2017-12-30</td>\n      <td>23:55</td>\n    </tr>\n  </tbody>\n</table>\n<p>193033 rows × 29 columns</p>\n</div>"
     },
     "execution_count": 92,
     "metadata": {},
     "output_type": "execute_result"
    }
   ],
   "source": [
    "#atl_weather_df = num_df.join(str_df)\n",
    "atl_weather_df"
   ],
   "metadata": {
    "collapsed": false,
    "pycharm": {
     "name": "#%%\n"
    }
   }
  },
  {
   "cell_type": "code",
   "execution_count": 93,
   "outputs": [
    {
     "name": "stdout",
     "output_type": "stream",
     "text": [
      "Counting non-null percentage per column\n",
      "tmpf:\t0.11\n",
      "dwpf:\t0.11\n",
      "relh:\t0.11\n",
      "drct:\t0.97\n",
      "sknt:\t0.97\n",
      "p01i:\t0.13\n",
      "alti:\t1.0\n",
      "mslp:\t0.09\n",
      "vsby:\t1.0\n",
      "gust:\t0.03\n",
      "skyc1:\t0.96\n",
      "skyc2:\t0.24\n",
      "skyc3:\t0.11\n",
      "skyc4:\t0.01\n",
      "skyl1:\t0.5\n",
      "skyl2:\t0.24\n",
      "skyl3:\t0.11\n",
      "skyl4:\t0.01\n",
      "wxcodes:\t0.09\n",
      "ice_accretion_1hr:\t0.0\n",
      "ice_accretion_3hr:\t0.0\n",
      "ice_accretion_6hr:\t0.0\n",
      "peak_wind_gust:\t0.0\n",
      "peak_wind_drct:\t0.0\n",
      "peak_wind_time:\t0.0\n",
      "feel:\t0.11\n",
      "metar:\t0.99\n",
      "date:\t1.0\n",
      "time:\t1.0\n"
     ]
    }
   ],
   "source": [
    "def print_inv_nan_perc(df):\n",
    "    print(\"Counting non-null percentage per column\")\n",
    "    for col in df.columns:\n",
    "        perc = round(1 - (df[col].isna().sum() / df.__len__()),2)\n",
    "        print(col + \":\\t\" + str(perc))\n",
    "print_inv_nan_perc(atl_weather_df)"
   ],
   "metadata": {
    "collapsed": false,
    "pycharm": {
     "name": "#%%\n"
    }
   }
  },
  {
   "cell_type": "code",
   "execution_count": 94,
   "outputs": [
    {
     "data": {
      "text/plain": "         tmpf   dwpf   relh    drct   sknt  p01i   alti     mslp  vsby gust  \\\n0       51.98  42.08  68.86  320.00  10.00  0.00  30.19  1022.50  10.0  NaN   \n1       50.00  41.00  71.07  330.00   7.00  0.00  30.18  1022.20  10.0  NaN   \n2       48.92  41.00  73.99  310.00  12.00  0.00  30.18  1022.00  10.0  NaN   \n3       46.94  39.92  76.43  320.00  13.00  0.00  30.17  1021.90  10.0  NaN   \n4       46.04  39.02  76.35  320.00  10.00  0.00  30.18  1022.00  10.0  NaN   \n...       ...    ...    ...     ...    ...   ...    ...      ...   ...  ...   \n193028    NaN    NaN    NaN  350.00   8.00   NaN  30.08      NaN  10.0  NaN   \n193029    NaN    NaN    NaN  360.00  10.00   NaN  30.08      NaN  10.0  NaN   \n193030    NaN    NaN    NaN  330.00  10.00   NaN  30.09      NaN  10.0  NaN   \n193031  44.10  30.00  57.37  340.00   9.00  0.00  30.09  1019.50  10.0  NaN   \n193032    NaN    NaN    NaN  330.00   8.00   NaN  30.09      NaN  10.0  NaN   \n\n        ... ice_accretion_1hr ice_accretion_3hr ice_accretion_6hr  \\\n0       ...               NaN               NaN               NaN   \n1       ...               NaN               NaN               NaN   \n2       ...               NaN               NaN               NaN   \n3       ...               NaN               NaN               NaN   \n4       ...               NaN               NaN               NaN   \n...     ...               ...               ...               ...   \n193028  ...               NaN               NaN               NaN   \n193029  ...               NaN               NaN               NaN   \n193030  ...               NaN               NaN               NaN   \n193031  ...               NaN               NaN               NaN   \n193032  ...               NaN               NaN               NaN   \n\n       peak_wind_gust peak_wind_drct peak_wind_time   feel  \\\n0                 NaN            NaN            NaN  51.98   \n1                 NaN            NaN            NaN  46.72   \n2                 NaN            NaN            NaN  43.54   \n3                 NaN            NaN            NaN  40.71   \n4                 NaN            NaN            NaN  40.57   \n...               ...            ...            ...    ...   \n193028            NaN            NaN            NaN    NaN   \n193029            NaN            NaN            NaN    NaN   \n193030            NaN            NaN            NaN    NaN   \n193031            NaN            NaN            NaN  38.56   \n193032            NaN            NaN            NaN    NaN   \n\n                                                    metar        date   time  \n0       KATL 010052Z 32010KT 10SM FEW100 SCT150 BKN200...  2016-01-01  00:52  \n1       KATL 010152Z 33007KT 10SM SCT150 BKN200 BKN250...  2016-01-01  01:52  \n2       KATL 010252Z 31012KT 10SM FEW150 BKN200 BKN250...  2016-01-01  02:52  \n3       KATL 010352Z 32013KT 10SM FEW150 SCT200 BKN250...  2016-01-01  03:52  \n4       KATL 010452Z 32010KT 10SM FEW150 BKN200 BKN250...  2016-01-01  04:52  \n...                                                   ...         ...    ...  \n193028  KATL 302340Z AUTO 35008KT 10SM 07/M01 A3008 RM...  2017-12-30  23:40  \n193029  KATL 302345Z AUTO 36010KT 10SM 07/M01 A3008 RM...  2017-12-30  23:45  \n193030  KATL 302350Z AUTO 33010KT 10SM 07/M01 A3009 RM...  2017-12-30  23:50  \n193031  KATL 302352Z 34009KT 10SM FEW200 BKN250 07/M01...  2017-12-30  23:52  \n193032  KATL 302355Z AUTO 33008KT 10SM 07/M01 A3009 RM...  2017-12-30  23:55  \n\n[191331 rows x 29 columns]",
      "text/html": "<div>\n<style scoped>\n    .dataframe tbody tr th:only-of-type {\n        vertical-align: middle;\n    }\n\n    .dataframe tbody tr th {\n        vertical-align: top;\n    }\n\n    .dataframe thead th {\n        text-align: right;\n    }\n</style>\n<table border=\"1\" class=\"dataframe\">\n  <thead>\n    <tr style=\"text-align: right;\">\n      <th></th>\n      <th>tmpf</th>\n      <th>dwpf</th>\n      <th>relh</th>\n      <th>drct</th>\n      <th>sknt</th>\n      <th>p01i</th>\n      <th>alti</th>\n      <th>mslp</th>\n      <th>vsby</th>\n      <th>gust</th>\n      <th>...</th>\n      <th>ice_accretion_1hr</th>\n      <th>ice_accretion_3hr</th>\n      <th>ice_accretion_6hr</th>\n      <th>peak_wind_gust</th>\n      <th>peak_wind_drct</th>\n      <th>peak_wind_time</th>\n      <th>feel</th>\n      <th>metar</th>\n      <th>date</th>\n      <th>time</th>\n    </tr>\n  </thead>\n  <tbody>\n    <tr>\n      <th>0</th>\n      <td>51.98</td>\n      <td>42.08</td>\n      <td>68.86</td>\n      <td>320.00</td>\n      <td>10.00</td>\n      <td>0.00</td>\n      <td>30.19</td>\n      <td>1022.50</td>\n      <td>10.0</td>\n      <td>NaN</td>\n      <td>...</td>\n      <td>NaN</td>\n      <td>NaN</td>\n      <td>NaN</td>\n      <td>NaN</td>\n      <td>NaN</td>\n      <td>NaN</td>\n      <td>51.98</td>\n      <td>KATL 010052Z 32010KT 10SM FEW100 SCT150 BKN200...</td>\n      <td>2016-01-01</td>\n      <td>00:52</td>\n    </tr>\n    <tr>\n      <th>1</th>\n      <td>50.00</td>\n      <td>41.00</td>\n      <td>71.07</td>\n      <td>330.00</td>\n      <td>7.00</td>\n      <td>0.00</td>\n      <td>30.18</td>\n      <td>1022.20</td>\n      <td>10.0</td>\n      <td>NaN</td>\n      <td>...</td>\n      <td>NaN</td>\n      <td>NaN</td>\n      <td>NaN</td>\n      <td>NaN</td>\n      <td>NaN</td>\n      <td>NaN</td>\n      <td>46.72</td>\n      <td>KATL 010152Z 33007KT 10SM SCT150 BKN200 BKN250...</td>\n      <td>2016-01-01</td>\n      <td>01:52</td>\n    </tr>\n    <tr>\n      <th>2</th>\n      <td>48.92</td>\n      <td>41.00</td>\n      <td>73.99</td>\n      <td>310.00</td>\n      <td>12.00</td>\n      <td>0.00</td>\n      <td>30.18</td>\n      <td>1022.00</td>\n      <td>10.0</td>\n      <td>NaN</td>\n      <td>...</td>\n      <td>NaN</td>\n      <td>NaN</td>\n      <td>NaN</td>\n      <td>NaN</td>\n      <td>NaN</td>\n      <td>NaN</td>\n      <td>43.54</td>\n      <td>KATL 010252Z 31012KT 10SM FEW150 BKN200 BKN250...</td>\n      <td>2016-01-01</td>\n      <td>02:52</td>\n    </tr>\n    <tr>\n      <th>3</th>\n      <td>46.94</td>\n      <td>39.92</td>\n      <td>76.43</td>\n      <td>320.00</td>\n      <td>13.00</td>\n      <td>0.00</td>\n      <td>30.17</td>\n      <td>1021.90</td>\n      <td>10.0</td>\n      <td>NaN</td>\n      <td>...</td>\n      <td>NaN</td>\n      <td>NaN</td>\n      <td>NaN</td>\n      <td>NaN</td>\n      <td>NaN</td>\n      <td>NaN</td>\n      <td>40.71</td>\n      <td>KATL 010352Z 32013KT 10SM FEW150 SCT200 BKN250...</td>\n      <td>2016-01-01</td>\n      <td>03:52</td>\n    </tr>\n    <tr>\n      <th>4</th>\n      <td>46.04</td>\n      <td>39.02</td>\n      <td>76.35</td>\n      <td>320.00</td>\n      <td>10.00</td>\n      <td>0.00</td>\n      <td>30.18</td>\n      <td>1022.00</td>\n      <td>10.0</td>\n      <td>NaN</td>\n      <td>...</td>\n      <td>NaN</td>\n      <td>NaN</td>\n      <td>NaN</td>\n      <td>NaN</td>\n      <td>NaN</td>\n      <td>NaN</td>\n      <td>40.57</td>\n      <td>KATL 010452Z 32010KT 10SM FEW150 BKN200 BKN250...</td>\n      <td>2016-01-01</td>\n      <td>04:52</td>\n    </tr>\n    <tr>\n      <th>...</th>\n      <td>...</td>\n      <td>...</td>\n      <td>...</td>\n      <td>...</td>\n      <td>...</td>\n      <td>...</td>\n      <td>...</td>\n      <td>...</td>\n      <td>...</td>\n      <td>...</td>\n      <td>...</td>\n      <td>...</td>\n      <td>...</td>\n      <td>...</td>\n      <td>...</td>\n      <td>...</td>\n      <td>...</td>\n      <td>...</td>\n      <td>...</td>\n      <td>...</td>\n      <td>...</td>\n    </tr>\n    <tr>\n      <th>193028</th>\n      <td>NaN</td>\n      <td>NaN</td>\n      <td>NaN</td>\n      <td>350.00</td>\n      <td>8.00</td>\n      <td>NaN</td>\n      <td>30.08</td>\n      <td>NaN</td>\n      <td>10.0</td>\n      <td>NaN</td>\n      <td>...</td>\n      <td>NaN</td>\n      <td>NaN</td>\n      <td>NaN</td>\n      <td>NaN</td>\n      <td>NaN</td>\n      <td>NaN</td>\n      <td>NaN</td>\n      <td>KATL 302340Z AUTO 35008KT 10SM 07/M01 A3008 RM...</td>\n      <td>2017-12-30</td>\n      <td>23:40</td>\n    </tr>\n    <tr>\n      <th>193029</th>\n      <td>NaN</td>\n      <td>NaN</td>\n      <td>NaN</td>\n      <td>360.00</td>\n      <td>10.00</td>\n      <td>NaN</td>\n      <td>30.08</td>\n      <td>NaN</td>\n      <td>10.0</td>\n      <td>NaN</td>\n      <td>...</td>\n      <td>NaN</td>\n      <td>NaN</td>\n      <td>NaN</td>\n      <td>NaN</td>\n      <td>NaN</td>\n      <td>NaN</td>\n      <td>NaN</td>\n      <td>KATL 302345Z AUTO 36010KT 10SM 07/M01 A3008 RM...</td>\n      <td>2017-12-30</td>\n      <td>23:45</td>\n    </tr>\n    <tr>\n      <th>193030</th>\n      <td>NaN</td>\n      <td>NaN</td>\n      <td>NaN</td>\n      <td>330.00</td>\n      <td>10.00</td>\n      <td>NaN</td>\n      <td>30.09</td>\n      <td>NaN</td>\n      <td>10.0</td>\n      <td>NaN</td>\n      <td>...</td>\n      <td>NaN</td>\n      <td>NaN</td>\n      <td>NaN</td>\n      <td>NaN</td>\n      <td>NaN</td>\n      <td>NaN</td>\n      <td>NaN</td>\n      <td>KATL 302350Z AUTO 33010KT 10SM 07/M01 A3009 RM...</td>\n      <td>2017-12-30</td>\n      <td>23:50</td>\n    </tr>\n    <tr>\n      <th>193031</th>\n      <td>44.10</td>\n      <td>30.00</td>\n      <td>57.37</td>\n      <td>340.00</td>\n      <td>9.00</td>\n      <td>0.00</td>\n      <td>30.09</td>\n      <td>1019.50</td>\n      <td>10.0</td>\n      <td>NaN</td>\n      <td>...</td>\n      <td>NaN</td>\n      <td>NaN</td>\n      <td>NaN</td>\n      <td>NaN</td>\n      <td>NaN</td>\n      <td>NaN</td>\n      <td>38.56</td>\n      <td>KATL 302352Z 34009KT 10SM FEW200 BKN250 07/M01...</td>\n      <td>2017-12-30</td>\n      <td>23:52</td>\n    </tr>\n    <tr>\n      <th>193032</th>\n      <td>NaN</td>\n      <td>NaN</td>\n      <td>NaN</td>\n      <td>330.00</td>\n      <td>8.00</td>\n      <td>NaN</td>\n      <td>30.09</td>\n      <td>NaN</td>\n      <td>10.0</td>\n      <td>NaN</td>\n      <td>...</td>\n      <td>NaN</td>\n      <td>NaN</td>\n      <td>NaN</td>\n      <td>NaN</td>\n      <td>NaN</td>\n      <td>NaN</td>\n      <td>NaN</td>\n      <td>KATL 302355Z AUTO 33008KT 10SM 07/M01 A3009 RM...</td>\n      <td>2017-12-30</td>\n      <td>23:55</td>\n    </tr>\n  </tbody>\n</table>\n<p>191331 rows × 29 columns</p>\n</div>"
     },
     "execution_count": 94,
     "metadata": {},
     "output_type": "execute_result"
    }
   ],
   "source": [
    "#Dropping all columns with missing metar data\n",
    "atl_weather_df = atl_weather_df.drop(atl_weather_df[atl_weather_df[\"metar\"].isnull()].index)\n",
    "atl_weather_df"
   ],
   "metadata": {
    "collapsed": false,
    "pycharm": {
     "name": "#%%\n"
    }
   }
  },
  {
   "cell_type": "code",
   "execution_count": 95,
   "outputs": [],
   "source": [
    "metar_dict = {\n",
    "    'TS' : 'Thunderstorm',\n",
    "    'RA' : 'Rain',\n",
    "    'DZ' : 'Drizzle',\n",
    "    'SN' : 'Snow',\n",
    "    'SG' : 'Snow Grains',\n",
    "    'IC' : 'Ice Pellets',\n",
    "    'GR' : 'Hail',\n",
    "    'GS' : 'Small Hail',\n",
    "    'FG' : 'FG',\n",
    "    'VA' : 'Volcanic Ashe',\n",
    "    'BR' : 'Mist',\n",
    "    'HZ' : 'Haze',\n",
    "    'DU' : 'Dust',\n",
    "    'FU' : 'Smoke',\n",
    "    'SA' : 'Sand',\n",
    "    'PY' : 'Spray'\n",
    "}"
   ],
   "metadata": {
    "collapsed": false,
    "pycharm": {
     "name": "#%%\n"
    }
   }
  },
  {
   "cell_type": "code",
   "execution_count": 96,
   "outputs": [
    {
     "name": "stdout",
     "output_type": "stream",
     "text": [
      "Length of events: 27140. From 191331 total entries.\n"
     ]
    },
    {
     "ename": "TypeError",
     "evalue": "unhashable type: 'list'",
     "output_type": "error",
     "traceback": [
      "\u001B[1;31m---------------------------------------------------------------------------\u001B[0m",
      "\u001B[1;31mTypeError\u001B[0m                                 Traceback (most recent call last)",
      "\u001B[1;32mpandas\\_libs\\hashtable_class_helper.pxi\u001B[0m in \u001B[0;36mpandas._libs.hashtable.PyObjectHashTable.map_locations\u001B[1;34m()\u001B[0m\n",
      "\u001B[1;31mTypeError\u001B[0m: unhashable type: 'list'"
     ]
    },
    {
     "name": "stderr",
     "output_type": "stream",
     "text": [
      "Exception ignored in: 'pandas._libs.index.IndexEngine._call_map_locations'\n",
      "Traceback (most recent call last):\n",
      "  File \"pandas\\_libs\\hashtable_class_helper.pxi\", line 5231, in pandas._libs.hashtable.PyObjectHashTable.map_locations\n",
      "TypeError: unhashable type: 'list'\n"
     ]
    },
    {
     "data": {
      "text/plain": "[SN]                     6209\n[-RA]                    4123\n[BR]                     3683\n[-RA, BR]                2154\n[-DZ, BR]                1296\n                         ... \n[-TS, RA, BR]               1\n[+TS, RA, SN, IC, FG]       1\n[RA, FU]                    1\n[SN, FG]                    1\n[DZ, FG, BR]                1\nName: events, Length: 122, dtype: int64"
     },
     "execution_count": 96,
     "metadata": {},
     "output_type": "execute_result"
    }
   ],
   "source": [
    "def find_event(metar: str):\n",
    "    ret = []\n",
    "    for event in [ele for ele in list(metar_dict.keys()) if(ele in metar)]:\n",
    "        pos = str.find(metar, event)\n",
    "        if metar[pos - 1] == \"-\" or metar[pos - 1] == \"+\":\n",
    "            ret.append(metar[pos-1] + event)\n",
    "        else:\n",
    "            ret.append(event)\n",
    "    if len(ret) > 0:\n",
    "        return ret\n",
    "    else:\n",
    "        return np.nan\n",
    "\n",
    "atl_weather_df[\"events\"] = atl_weather_df[\"metar\"].apply(lambda x: find_event(x))\n",
    "print(\"Length of events: \" + str(len(atl_weather_df[~atl_weather_df[\"events\"].isna()])) + \". From \" +str(len(atl_weather_df)) + \" total entries.\")\n",
    "atl_weather_df[\"events\"][~atl_weather_df[\"events\"].isna()].value_counts()"
   ],
   "metadata": {
    "collapsed": false,
    "pycharm": {
     "name": "#%%\n"
    }
   }
  },
  {
   "cell_type": "code",
   "execution_count": 97,
   "outputs": [
    {
     "data": {
      "text/plain": "         tmpf   dwpf   relh    drct   sknt  p01i   alti     mslp  vsby gust  \\\n0       51.98  42.08  68.86  320.00  10.00  0.00  30.19  1022.50  10.0  NaN   \n1       50.00  41.00  71.07  330.00   7.00  0.00  30.18  1022.20  10.0  NaN   \n2       48.92  41.00  73.99  310.00  12.00  0.00  30.18  1022.00  10.0  NaN   \n3       46.94  39.92  76.43  320.00  13.00  0.00  30.17  1021.90  10.0  NaN   \n4       46.04  39.02  76.35  320.00  10.00  0.00  30.18  1022.00  10.0  NaN   \n...       ...    ...    ...     ...    ...   ...    ...      ...   ...  ...   \n193028    NaN    NaN    NaN  350.00   8.00   NaN  30.08      NaN  10.0  NaN   \n193029    NaN    NaN    NaN  360.00  10.00   NaN  30.08      NaN  10.0  NaN   \n193030    NaN    NaN    NaN  330.00  10.00   NaN  30.09      NaN  10.0  NaN   \n193031  44.10  30.00  57.37  340.00   9.00  0.00  30.09  1019.50  10.0  NaN   \n193032    NaN    NaN    NaN  330.00   8.00   NaN  30.09      NaN  10.0  NaN   \n\n        ... ice_accretion_3hr ice_accretion_6hr peak_wind_gust peak_wind_drct  \\\n0       ...               NaN               NaN            NaN            NaN   \n1       ...               NaN               NaN            NaN            NaN   \n2       ...               NaN               NaN            NaN            NaN   \n3       ...               NaN               NaN            NaN            NaN   \n4       ...               NaN               NaN            NaN            NaN   \n...     ...               ...               ...            ...            ...   \n193028  ...               NaN               NaN            NaN            NaN   \n193029  ...               NaN               NaN            NaN            NaN   \n193030  ...               NaN               NaN            NaN            NaN   \n193031  ...               NaN               NaN            NaN            NaN   \n193032  ...               NaN               NaN            NaN            NaN   \n\n       peak_wind_time   feel  \\\n0                 NaN  51.98   \n1                 NaN  46.72   \n2                 NaN  43.54   \n3                 NaN  40.71   \n4                 NaN  40.57   \n...               ...    ...   \n193028            NaN    NaN   \n193029            NaN    NaN   \n193030            NaN    NaN   \n193031            NaN  38.56   \n193032            NaN    NaN   \n\n                                                    metar        date   time  \\\n0       KATL 010052Z 32010KT 10SM FEW100 SCT150 BKN200...  2016-01-01  00:52   \n1       KATL 010152Z 33007KT 10SM SCT150 BKN200 BKN250...  2016-01-01  01:52   \n2       KATL 010252Z 31012KT 10SM FEW150 BKN200 BKN250...  2016-01-01  02:52   \n3       KATL 010352Z 32013KT 10SM FEW150 SCT200 BKN250...  2016-01-01  03:52   \n4       KATL 010452Z 32010KT 10SM FEW150 BKN200 BKN250...  2016-01-01  04:52   \n...                                                   ...         ...    ...   \n193028  KATL 302340Z AUTO 35008KT 10SM 07/M01 A3008 RM...  2017-12-30  23:40   \n193029  KATL 302345Z AUTO 36010KT 10SM 07/M01 A3008 RM...  2017-12-30  23:45   \n193030  KATL 302350Z AUTO 33010KT 10SM 07/M01 A3009 RM...  2017-12-30  23:50   \n193031  KATL 302352Z 34009KT 10SM FEW200 BKN250 07/M01...  2017-12-30  23:52   \n193032  KATL 302355Z AUTO 33008KT 10SM 07/M01 A3009 RM...  2017-12-30  23:55   \n\n       events  \n0         NaN  \n1         NaN  \n2         NaN  \n3         NaN  \n4         NaN  \n...       ...  \n193028    NaN  \n193029    NaN  \n193030    NaN  \n193031    NaN  \n193032    NaN  \n\n[191331 rows x 30 columns]",
      "text/html": "<div>\n<style scoped>\n    .dataframe tbody tr th:only-of-type {\n        vertical-align: middle;\n    }\n\n    .dataframe tbody tr th {\n        vertical-align: top;\n    }\n\n    .dataframe thead th {\n        text-align: right;\n    }\n</style>\n<table border=\"1\" class=\"dataframe\">\n  <thead>\n    <tr style=\"text-align: right;\">\n      <th></th>\n      <th>tmpf</th>\n      <th>dwpf</th>\n      <th>relh</th>\n      <th>drct</th>\n      <th>sknt</th>\n      <th>p01i</th>\n      <th>alti</th>\n      <th>mslp</th>\n      <th>vsby</th>\n      <th>gust</th>\n      <th>...</th>\n      <th>ice_accretion_3hr</th>\n      <th>ice_accretion_6hr</th>\n      <th>peak_wind_gust</th>\n      <th>peak_wind_drct</th>\n      <th>peak_wind_time</th>\n      <th>feel</th>\n      <th>metar</th>\n      <th>date</th>\n      <th>time</th>\n      <th>events</th>\n    </tr>\n  </thead>\n  <tbody>\n    <tr>\n      <th>0</th>\n      <td>51.98</td>\n      <td>42.08</td>\n      <td>68.86</td>\n      <td>320.00</td>\n      <td>10.00</td>\n      <td>0.00</td>\n      <td>30.19</td>\n      <td>1022.50</td>\n      <td>10.0</td>\n      <td>NaN</td>\n      <td>...</td>\n      <td>NaN</td>\n      <td>NaN</td>\n      <td>NaN</td>\n      <td>NaN</td>\n      <td>NaN</td>\n      <td>51.98</td>\n      <td>KATL 010052Z 32010KT 10SM FEW100 SCT150 BKN200...</td>\n      <td>2016-01-01</td>\n      <td>00:52</td>\n      <td>NaN</td>\n    </tr>\n    <tr>\n      <th>1</th>\n      <td>50.00</td>\n      <td>41.00</td>\n      <td>71.07</td>\n      <td>330.00</td>\n      <td>7.00</td>\n      <td>0.00</td>\n      <td>30.18</td>\n      <td>1022.20</td>\n      <td>10.0</td>\n      <td>NaN</td>\n      <td>...</td>\n      <td>NaN</td>\n      <td>NaN</td>\n      <td>NaN</td>\n      <td>NaN</td>\n      <td>NaN</td>\n      <td>46.72</td>\n      <td>KATL 010152Z 33007KT 10SM SCT150 BKN200 BKN250...</td>\n      <td>2016-01-01</td>\n      <td>01:52</td>\n      <td>NaN</td>\n    </tr>\n    <tr>\n      <th>2</th>\n      <td>48.92</td>\n      <td>41.00</td>\n      <td>73.99</td>\n      <td>310.00</td>\n      <td>12.00</td>\n      <td>0.00</td>\n      <td>30.18</td>\n      <td>1022.00</td>\n      <td>10.0</td>\n      <td>NaN</td>\n      <td>...</td>\n      <td>NaN</td>\n      <td>NaN</td>\n      <td>NaN</td>\n      <td>NaN</td>\n      <td>NaN</td>\n      <td>43.54</td>\n      <td>KATL 010252Z 31012KT 10SM FEW150 BKN200 BKN250...</td>\n      <td>2016-01-01</td>\n      <td>02:52</td>\n      <td>NaN</td>\n    </tr>\n    <tr>\n      <th>3</th>\n      <td>46.94</td>\n      <td>39.92</td>\n      <td>76.43</td>\n      <td>320.00</td>\n      <td>13.00</td>\n      <td>0.00</td>\n      <td>30.17</td>\n      <td>1021.90</td>\n      <td>10.0</td>\n      <td>NaN</td>\n      <td>...</td>\n      <td>NaN</td>\n      <td>NaN</td>\n      <td>NaN</td>\n      <td>NaN</td>\n      <td>NaN</td>\n      <td>40.71</td>\n      <td>KATL 010352Z 32013KT 10SM FEW150 SCT200 BKN250...</td>\n      <td>2016-01-01</td>\n      <td>03:52</td>\n      <td>NaN</td>\n    </tr>\n    <tr>\n      <th>4</th>\n      <td>46.04</td>\n      <td>39.02</td>\n      <td>76.35</td>\n      <td>320.00</td>\n      <td>10.00</td>\n      <td>0.00</td>\n      <td>30.18</td>\n      <td>1022.00</td>\n      <td>10.0</td>\n      <td>NaN</td>\n      <td>...</td>\n      <td>NaN</td>\n      <td>NaN</td>\n      <td>NaN</td>\n      <td>NaN</td>\n      <td>NaN</td>\n      <td>40.57</td>\n      <td>KATL 010452Z 32010KT 10SM FEW150 BKN200 BKN250...</td>\n      <td>2016-01-01</td>\n      <td>04:52</td>\n      <td>NaN</td>\n    </tr>\n    <tr>\n      <th>...</th>\n      <td>...</td>\n      <td>...</td>\n      <td>...</td>\n      <td>...</td>\n      <td>...</td>\n      <td>...</td>\n      <td>...</td>\n      <td>...</td>\n      <td>...</td>\n      <td>...</td>\n      <td>...</td>\n      <td>...</td>\n      <td>...</td>\n      <td>...</td>\n      <td>...</td>\n      <td>...</td>\n      <td>...</td>\n      <td>...</td>\n      <td>...</td>\n      <td>...</td>\n      <td>...</td>\n    </tr>\n    <tr>\n      <th>193028</th>\n      <td>NaN</td>\n      <td>NaN</td>\n      <td>NaN</td>\n      <td>350.00</td>\n      <td>8.00</td>\n      <td>NaN</td>\n      <td>30.08</td>\n      <td>NaN</td>\n      <td>10.0</td>\n      <td>NaN</td>\n      <td>...</td>\n      <td>NaN</td>\n      <td>NaN</td>\n      <td>NaN</td>\n      <td>NaN</td>\n      <td>NaN</td>\n      <td>NaN</td>\n      <td>KATL 302340Z AUTO 35008KT 10SM 07/M01 A3008 RM...</td>\n      <td>2017-12-30</td>\n      <td>23:40</td>\n      <td>NaN</td>\n    </tr>\n    <tr>\n      <th>193029</th>\n      <td>NaN</td>\n      <td>NaN</td>\n      <td>NaN</td>\n      <td>360.00</td>\n      <td>10.00</td>\n      <td>NaN</td>\n      <td>30.08</td>\n      <td>NaN</td>\n      <td>10.0</td>\n      <td>NaN</td>\n      <td>...</td>\n      <td>NaN</td>\n      <td>NaN</td>\n      <td>NaN</td>\n      <td>NaN</td>\n      <td>NaN</td>\n      <td>NaN</td>\n      <td>KATL 302345Z AUTO 36010KT 10SM 07/M01 A3008 RM...</td>\n      <td>2017-12-30</td>\n      <td>23:45</td>\n      <td>NaN</td>\n    </tr>\n    <tr>\n      <th>193030</th>\n      <td>NaN</td>\n      <td>NaN</td>\n      <td>NaN</td>\n      <td>330.00</td>\n      <td>10.00</td>\n      <td>NaN</td>\n      <td>30.09</td>\n      <td>NaN</td>\n      <td>10.0</td>\n      <td>NaN</td>\n      <td>...</td>\n      <td>NaN</td>\n      <td>NaN</td>\n      <td>NaN</td>\n      <td>NaN</td>\n      <td>NaN</td>\n      <td>NaN</td>\n      <td>KATL 302350Z AUTO 33010KT 10SM 07/M01 A3009 RM...</td>\n      <td>2017-12-30</td>\n      <td>23:50</td>\n      <td>NaN</td>\n    </tr>\n    <tr>\n      <th>193031</th>\n      <td>44.10</td>\n      <td>30.00</td>\n      <td>57.37</td>\n      <td>340.00</td>\n      <td>9.00</td>\n      <td>0.00</td>\n      <td>30.09</td>\n      <td>1019.50</td>\n      <td>10.0</td>\n      <td>NaN</td>\n      <td>...</td>\n      <td>NaN</td>\n      <td>NaN</td>\n      <td>NaN</td>\n      <td>NaN</td>\n      <td>NaN</td>\n      <td>38.56</td>\n      <td>KATL 302352Z 34009KT 10SM FEW200 BKN250 07/M01...</td>\n      <td>2017-12-30</td>\n      <td>23:52</td>\n      <td>NaN</td>\n    </tr>\n    <tr>\n      <th>193032</th>\n      <td>NaN</td>\n      <td>NaN</td>\n      <td>NaN</td>\n      <td>330.00</td>\n      <td>8.00</td>\n      <td>NaN</td>\n      <td>30.09</td>\n      <td>NaN</td>\n      <td>10.0</td>\n      <td>NaN</td>\n      <td>...</td>\n      <td>NaN</td>\n      <td>NaN</td>\n      <td>NaN</td>\n      <td>NaN</td>\n      <td>NaN</td>\n      <td>NaN</td>\n      <td>KATL 302355Z AUTO 33008KT 10SM 07/M01 A3009 RM...</td>\n      <td>2017-12-30</td>\n      <td>23:55</td>\n      <td>NaN</td>\n    </tr>\n  </tbody>\n</table>\n<p>191331 rows × 30 columns</p>\n</div>"
     },
     "execution_count": 97,
     "metadata": {},
     "output_type": "execute_result"
    }
   ],
   "source": [
    "atl_weather_df"
   ],
   "metadata": {
    "collapsed": false,
    "pycharm": {
     "name": "#%%\n"
    }
   }
  },
  {
   "cell_type": "code",
   "execution_count": 98,
   "outputs": [
    {
     "name": "stdout",
     "output_type": "stream",
     "text": [
      "Counting non-null percentage per column\n",
      "tmpf:\t0.11\n",
      "dwpf:\t0.11\n",
      "relh:\t0.11\n",
      "drct:\t0.97\n",
      "sknt:\t0.97\n",
      "p01i:\t0.13\n",
      "alti:\t1.0\n",
      "mslp:\t0.09\n",
      "vsby:\t1.0\n",
      "gust:\t0.03\n",
      "skyc1:\t0.96\n",
      "skyc2:\t0.24\n",
      "skyc3:\t0.11\n",
      "skyc4:\t0.01\n",
      "skyl1:\t0.5\n",
      "skyl2:\t0.24\n",
      "skyl3:\t0.11\n",
      "skyl4:\t0.01\n",
      "wxcodes:\t0.09\n",
      "ice_accretion_1hr:\t0.0\n",
      "ice_accretion_3hr:\t0.0\n",
      "ice_accretion_6hr:\t0.0\n",
      "peak_wind_gust:\t0.0\n",
      "peak_wind_drct:\t0.0\n",
      "peak_wind_time:\t0.0\n",
      "feel:\t0.11\n",
      "metar:\t1.0\n",
      "date:\t1.0\n",
      "time:\t1.0\n",
      "events:\t0.14\n"
     ]
    }
   ],
   "source": [
    "print_inv_nan_perc(atl_weather_df)"
   ],
   "metadata": {
    "collapsed": false,
    "pycharm": {
     "name": "#%%\n"
    }
   }
  },
  {
   "cell_type": "code",
   "execution_count": 99,
   "outputs": [
    {
     "data": {
      "text/plain": "         tmpf   dwpf   relh    drct   sknt  p01i   alti     mslp  vsby gust  \\\n0       51.98  42.08  68.86  320.00  10.00  0.00  30.19  1022.50  10.0  NaN   \n1       50.00  41.00  71.07  330.00   7.00  0.00  30.18  1022.20  10.0  NaN   \n2       48.92  41.00  73.99  310.00  12.00  0.00  30.18  1022.00  10.0  NaN   \n3       46.94  39.92  76.43  320.00  13.00  0.00  30.17  1021.90  10.0  NaN   \n4       46.04  39.02  76.35  320.00  10.00  0.00  30.18  1022.00  10.0  NaN   \n...       ...    ...    ...     ...    ...   ...    ...      ...   ...  ...   \n191326    NaN    NaN    NaN  350.00   8.00   NaN  30.08      NaN  10.0  NaN   \n191327    NaN    NaN    NaN  360.00  10.00   NaN  30.08      NaN  10.0  NaN   \n191328    NaN    NaN    NaN  330.00  10.00   NaN  30.09      NaN  10.0  NaN   \n191329  44.10  30.00  57.37  340.00   9.00  0.00  30.09  1019.50  10.0  NaN   \n191330    NaN    NaN    NaN  330.00   8.00   NaN  30.09      NaN  10.0  NaN   \n\n        ... ice_accretion_3hr ice_accretion_6hr peak_wind_gust peak_wind_drct  \\\n0       ...               NaN               NaN            NaN            NaN   \n1       ...               NaN               NaN            NaN            NaN   \n2       ...               NaN               NaN            NaN            NaN   \n3       ...               NaN               NaN            NaN            NaN   \n4       ...               NaN               NaN            NaN            NaN   \n...     ...               ...               ...            ...            ...   \n191326  ...               NaN               NaN            NaN            NaN   \n191327  ...               NaN               NaN            NaN            NaN   \n191328  ...               NaN               NaN            NaN            NaN   \n191329  ...               NaN               NaN            NaN            NaN   \n191330  ...               NaN               NaN            NaN            NaN   \n\n       peak_wind_time   feel  \\\n0                 NaN  51.98   \n1                 NaN  46.72   \n2                 NaN  43.54   \n3                 NaN  40.71   \n4                 NaN  40.57   \n...               ...    ...   \n191326            NaN    NaN   \n191327            NaN    NaN   \n191328            NaN    NaN   \n191329            NaN  38.56   \n191330            NaN    NaN   \n\n                                                    metar        date   time  \\\n0       KATL 010052Z 32010KT 10SM FEW100 SCT150 BKN200...  2016-01-01  00:52   \n1       KATL 010152Z 33007KT 10SM SCT150 BKN200 BKN250...  2016-01-01  01:52   \n2       KATL 010252Z 31012KT 10SM FEW150 BKN200 BKN250...  2016-01-01  02:52   \n3       KATL 010352Z 32013KT 10SM FEW150 SCT200 BKN250...  2016-01-01  03:52   \n4       KATL 010452Z 32010KT 10SM FEW150 BKN200 BKN250...  2016-01-01  04:52   \n...                                                   ...         ...    ...   \n191326  KATL 302340Z AUTO 35008KT 10SM 07/M01 A3008 RM...  2017-12-30  23:40   \n191327  KATL 302345Z AUTO 36010KT 10SM 07/M01 A3008 RM...  2017-12-30  23:45   \n191328  KATL 302350Z AUTO 33010KT 10SM 07/M01 A3009 RM...  2017-12-30  23:50   \n191329  KATL 302352Z 34009KT 10SM FEW200 BKN250 07/M01...  2017-12-30  23:52   \n191330  KATL 302355Z AUTO 33008KT 10SM 07/M01 A3009 RM...  2017-12-30  23:55   \n\n       events  \n0         NaN  \n1         NaN  \n2         NaN  \n3         NaN  \n4         NaN  \n...       ...  \n191326    NaN  \n191327    NaN  \n191328    NaN  \n191329    NaN  \n191330    NaN  \n\n[191331 rows x 30 columns]",
      "text/html": "<div>\n<style scoped>\n    .dataframe tbody tr th:only-of-type {\n        vertical-align: middle;\n    }\n\n    .dataframe tbody tr th {\n        vertical-align: top;\n    }\n\n    .dataframe thead th {\n        text-align: right;\n    }\n</style>\n<table border=\"1\" class=\"dataframe\">\n  <thead>\n    <tr style=\"text-align: right;\">\n      <th></th>\n      <th>tmpf</th>\n      <th>dwpf</th>\n      <th>relh</th>\n      <th>drct</th>\n      <th>sknt</th>\n      <th>p01i</th>\n      <th>alti</th>\n      <th>mslp</th>\n      <th>vsby</th>\n      <th>gust</th>\n      <th>...</th>\n      <th>ice_accretion_3hr</th>\n      <th>ice_accretion_6hr</th>\n      <th>peak_wind_gust</th>\n      <th>peak_wind_drct</th>\n      <th>peak_wind_time</th>\n      <th>feel</th>\n      <th>metar</th>\n      <th>date</th>\n      <th>time</th>\n      <th>events</th>\n    </tr>\n  </thead>\n  <tbody>\n    <tr>\n      <th>0</th>\n      <td>51.98</td>\n      <td>42.08</td>\n      <td>68.86</td>\n      <td>320.00</td>\n      <td>10.00</td>\n      <td>0.00</td>\n      <td>30.19</td>\n      <td>1022.50</td>\n      <td>10.0</td>\n      <td>NaN</td>\n      <td>...</td>\n      <td>NaN</td>\n      <td>NaN</td>\n      <td>NaN</td>\n      <td>NaN</td>\n      <td>NaN</td>\n      <td>51.98</td>\n      <td>KATL 010052Z 32010KT 10SM FEW100 SCT150 BKN200...</td>\n      <td>2016-01-01</td>\n      <td>00:52</td>\n      <td>NaN</td>\n    </tr>\n    <tr>\n      <th>1</th>\n      <td>50.00</td>\n      <td>41.00</td>\n      <td>71.07</td>\n      <td>330.00</td>\n      <td>7.00</td>\n      <td>0.00</td>\n      <td>30.18</td>\n      <td>1022.20</td>\n      <td>10.0</td>\n      <td>NaN</td>\n      <td>...</td>\n      <td>NaN</td>\n      <td>NaN</td>\n      <td>NaN</td>\n      <td>NaN</td>\n      <td>NaN</td>\n      <td>46.72</td>\n      <td>KATL 010152Z 33007KT 10SM SCT150 BKN200 BKN250...</td>\n      <td>2016-01-01</td>\n      <td>01:52</td>\n      <td>NaN</td>\n    </tr>\n    <tr>\n      <th>2</th>\n      <td>48.92</td>\n      <td>41.00</td>\n      <td>73.99</td>\n      <td>310.00</td>\n      <td>12.00</td>\n      <td>0.00</td>\n      <td>30.18</td>\n      <td>1022.00</td>\n      <td>10.0</td>\n      <td>NaN</td>\n      <td>...</td>\n      <td>NaN</td>\n      <td>NaN</td>\n      <td>NaN</td>\n      <td>NaN</td>\n      <td>NaN</td>\n      <td>43.54</td>\n      <td>KATL 010252Z 31012KT 10SM FEW150 BKN200 BKN250...</td>\n      <td>2016-01-01</td>\n      <td>02:52</td>\n      <td>NaN</td>\n    </tr>\n    <tr>\n      <th>3</th>\n      <td>46.94</td>\n      <td>39.92</td>\n      <td>76.43</td>\n      <td>320.00</td>\n      <td>13.00</td>\n      <td>0.00</td>\n      <td>30.17</td>\n      <td>1021.90</td>\n      <td>10.0</td>\n      <td>NaN</td>\n      <td>...</td>\n      <td>NaN</td>\n      <td>NaN</td>\n      <td>NaN</td>\n      <td>NaN</td>\n      <td>NaN</td>\n      <td>40.71</td>\n      <td>KATL 010352Z 32013KT 10SM FEW150 SCT200 BKN250...</td>\n      <td>2016-01-01</td>\n      <td>03:52</td>\n      <td>NaN</td>\n    </tr>\n    <tr>\n      <th>4</th>\n      <td>46.04</td>\n      <td>39.02</td>\n      <td>76.35</td>\n      <td>320.00</td>\n      <td>10.00</td>\n      <td>0.00</td>\n      <td>30.18</td>\n      <td>1022.00</td>\n      <td>10.0</td>\n      <td>NaN</td>\n      <td>...</td>\n      <td>NaN</td>\n      <td>NaN</td>\n      <td>NaN</td>\n      <td>NaN</td>\n      <td>NaN</td>\n      <td>40.57</td>\n      <td>KATL 010452Z 32010KT 10SM FEW150 BKN200 BKN250...</td>\n      <td>2016-01-01</td>\n      <td>04:52</td>\n      <td>NaN</td>\n    </tr>\n    <tr>\n      <th>...</th>\n      <td>...</td>\n      <td>...</td>\n      <td>...</td>\n      <td>...</td>\n      <td>...</td>\n      <td>...</td>\n      <td>...</td>\n      <td>...</td>\n      <td>...</td>\n      <td>...</td>\n      <td>...</td>\n      <td>...</td>\n      <td>...</td>\n      <td>...</td>\n      <td>...</td>\n      <td>...</td>\n      <td>...</td>\n      <td>...</td>\n      <td>...</td>\n      <td>...</td>\n      <td>...</td>\n    </tr>\n    <tr>\n      <th>191326</th>\n      <td>NaN</td>\n      <td>NaN</td>\n      <td>NaN</td>\n      <td>350.00</td>\n      <td>8.00</td>\n      <td>NaN</td>\n      <td>30.08</td>\n      <td>NaN</td>\n      <td>10.0</td>\n      <td>NaN</td>\n      <td>...</td>\n      <td>NaN</td>\n      <td>NaN</td>\n      <td>NaN</td>\n      <td>NaN</td>\n      <td>NaN</td>\n      <td>NaN</td>\n      <td>KATL 302340Z AUTO 35008KT 10SM 07/M01 A3008 RM...</td>\n      <td>2017-12-30</td>\n      <td>23:40</td>\n      <td>NaN</td>\n    </tr>\n    <tr>\n      <th>191327</th>\n      <td>NaN</td>\n      <td>NaN</td>\n      <td>NaN</td>\n      <td>360.00</td>\n      <td>10.00</td>\n      <td>NaN</td>\n      <td>30.08</td>\n      <td>NaN</td>\n      <td>10.0</td>\n      <td>NaN</td>\n      <td>...</td>\n      <td>NaN</td>\n      <td>NaN</td>\n      <td>NaN</td>\n      <td>NaN</td>\n      <td>NaN</td>\n      <td>NaN</td>\n      <td>KATL 302345Z AUTO 36010KT 10SM 07/M01 A3008 RM...</td>\n      <td>2017-12-30</td>\n      <td>23:45</td>\n      <td>NaN</td>\n    </tr>\n    <tr>\n      <th>191328</th>\n      <td>NaN</td>\n      <td>NaN</td>\n      <td>NaN</td>\n      <td>330.00</td>\n      <td>10.00</td>\n      <td>NaN</td>\n      <td>30.09</td>\n      <td>NaN</td>\n      <td>10.0</td>\n      <td>NaN</td>\n      <td>...</td>\n      <td>NaN</td>\n      <td>NaN</td>\n      <td>NaN</td>\n      <td>NaN</td>\n      <td>NaN</td>\n      <td>NaN</td>\n      <td>KATL 302350Z AUTO 33010KT 10SM 07/M01 A3009 RM...</td>\n      <td>2017-12-30</td>\n      <td>23:50</td>\n      <td>NaN</td>\n    </tr>\n    <tr>\n      <th>191329</th>\n      <td>44.10</td>\n      <td>30.00</td>\n      <td>57.37</td>\n      <td>340.00</td>\n      <td>9.00</td>\n      <td>0.00</td>\n      <td>30.09</td>\n      <td>1019.50</td>\n      <td>10.0</td>\n      <td>NaN</td>\n      <td>...</td>\n      <td>NaN</td>\n      <td>NaN</td>\n      <td>NaN</td>\n      <td>NaN</td>\n      <td>NaN</td>\n      <td>38.56</td>\n      <td>KATL 302352Z 34009KT 10SM FEW200 BKN250 07/M01...</td>\n      <td>2017-12-30</td>\n      <td>23:52</td>\n      <td>NaN</td>\n    </tr>\n    <tr>\n      <th>191330</th>\n      <td>NaN</td>\n      <td>NaN</td>\n      <td>NaN</td>\n      <td>330.00</td>\n      <td>8.00</td>\n      <td>NaN</td>\n      <td>30.09</td>\n      <td>NaN</td>\n      <td>10.0</td>\n      <td>NaN</td>\n      <td>...</td>\n      <td>NaN</td>\n      <td>NaN</td>\n      <td>NaN</td>\n      <td>NaN</td>\n      <td>NaN</td>\n      <td>NaN</td>\n      <td>KATL 302355Z AUTO 33008KT 10SM 07/M01 A3009 RM...</td>\n      <td>2017-12-30</td>\n      <td>23:55</td>\n      <td>NaN</td>\n    </tr>\n  </tbody>\n</table>\n<p>191331 rows × 30 columns</p>\n</div>"
     },
     "execution_count": 99,
     "metadata": {},
     "output_type": "execute_result"
    }
   ],
   "source": [
    "atl_weather_df = atl_weather_df.sort_values(by=[\"date\",\"time\"]).reset_index(drop=True)\n",
    "atl_weather_df"
   ],
   "metadata": {
    "collapsed": false,
    "pycharm": {
     "name": "#%%\n"
    }
   }
  },
  {
   "cell_type": "code",
   "execution_count": 100,
   "outputs": [
    {
     "data": {
      "text/plain": "         tmpf   dwpf   relh    drct   sknt  p01i   alti     mslp  vsby gust  \\\n0       51.98  42.08  68.86  320.00  10.00  0.00  30.19  1022.50  10.0  NaN   \n1       50.00  41.00  71.07  330.00   7.00  0.00  30.18  1022.20  10.0  NaN   \n2       48.92  41.00  73.99  310.00  12.00  0.00  30.18  1022.00  10.0  NaN   \n3       46.94  39.92  76.43  320.00  13.00  0.00  30.17  1021.90  10.0  NaN   \n4       46.04  39.02  76.35  320.00  10.00  0.00  30.18  1022.00  10.0  NaN   \n...       ...    ...    ...     ...    ...   ...    ...      ...   ...  ...   \n191326    NaN    NaN    NaN  350.00   8.00   NaN  30.08      NaN  10.0  NaN   \n191327    NaN    NaN    NaN  360.00  10.00   NaN  30.08      NaN  10.0  NaN   \n191328    NaN    NaN    NaN  330.00  10.00   NaN  30.09      NaN  10.0  NaN   \n191329  44.10  30.00  57.37  340.00   9.00  0.00  30.09  1019.50  10.0  NaN   \n191330    NaN    NaN    NaN  330.00   8.00   NaN  30.09      NaN  10.0  NaN   \n\n        ... ice_accretion_1hr ice_accretion_3hr ice_accretion_6hr  \\\n0       ...               NaN               NaN               NaN   \n1       ...               NaN               NaN               NaN   \n2       ...               NaN               NaN               NaN   \n3       ...               NaN               NaN               NaN   \n4       ...               NaN               NaN               NaN   \n...     ...               ...               ...               ...   \n191326  ...               NaN               NaN               NaN   \n191327  ...               NaN               NaN               NaN   \n191328  ...               NaN               NaN               NaN   \n191329  ...               NaN               NaN               NaN   \n191330  ...               NaN               NaN               NaN   \n\n       peak_wind_gust peak_wind_drct peak_wind_time   feel        date time  \\\n0                 NaN            NaN            NaN  51.98  2016-01-01   00   \n1                 NaN            NaN            NaN  46.72  2016-01-01   01   \n2                 NaN            NaN            NaN  43.54  2016-01-01   02   \n3                 NaN            NaN            NaN  40.71  2016-01-01   03   \n4                 NaN            NaN            NaN  40.57  2016-01-01   04   \n...               ...            ...            ...    ...         ...  ...   \n191326            NaN            NaN            NaN    NaN  2017-12-30   23   \n191327            NaN            NaN            NaN    NaN  2017-12-30   23   \n191328            NaN            NaN            NaN    NaN  2017-12-30   23   \n191329            NaN            NaN            NaN  38.56  2017-12-30   23   \n191330            NaN            NaN            NaN    NaN  2017-12-30   23   \n\n       events  \n0         NaN  \n1         NaN  \n2         NaN  \n3         NaN  \n4         NaN  \n...       ...  \n191326    NaN  \n191327    NaN  \n191328    NaN  \n191329    NaN  \n191330    NaN  \n\n[191331 rows x 29 columns]",
      "text/html": "<div>\n<style scoped>\n    .dataframe tbody tr th:only-of-type {\n        vertical-align: middle;\n    }\n\n    .dataframe tbody tr th {\n        vertical-align: top;\n    }\n\n    .dataframe thead th {\n        text-align: right;\n    }\n</style>\n<table border=\"1\" class=\"dataframe\">\n  <thead>\n    <tr style=\"text-align: right;\">\n      <th></th>\n      <th>tmpf</th>\n      <th>dwpf</th>\n      <th>relh</th>\n      <th>drct</th>\n      <th>sknt</th>\n      <th>p01i</th>\n      <th>alti</th>\n      <th>mslp</th>\n      <th>vsby</th>\n      <th>gust</th>\n      <th>...</th>\n      <th>ice_accretion_1hr</th>\n      <th>ice_accretion_3hr</th>\n      <th>ice_accretion_6hr</th>\n      <th>peak_wind_gust</th>\n      <th>peak_wind_drct</th>\n      <th>peak_wind_time</th>\n      <th>feel</th>\n      <th>date</th>\n      <th>time</th>\n      <th>events</th>\n    </tr>\n  </thead>\n  <tbody>\n    <tr>\n      <th>0</th>\n      <td>51.98</td>\n      <td>42.08</td>\n      <td>68.86</td>\n      <td>320.00</td>\n      <td>10.00</td>\n      <td>0.00</td>\n      <td>30.19</td>\n      <td>1022.50</td>\n      <td>10.0</td>\n      <td>NaN</td>\n      <td>...</td>\n      <td>NaN</td>\n      <td>NaN</td>\n      <td>NaN</td>\n      <td>NaN</td>\n      <td>NaN</td>\n      <td>NaN</td>\n      <td>51.98</td>\n      <td>2016-01-01</td>\n      <td>00</td>\n      <td>NaN</td>\n    </tr>\n    <tr>\n      <th>1</th>\n      <td>50.00</td>\n      <td>41.00</td>\n      <td>71.07</td>\n      <td>330.00</td>\n      <td>7.00</td>\n      <td>0.00</td>\n      <td>30.18</td>\n      <td>1022.20</td>\n      <td>10.0</td>\n      <td>NaN</td>\n      <td>...</td>\n      <td>NaN</td>\n      <td>NaN</td>\n      <td>NaN</td>\n      <td>NaN</td>\n      <td>NaN</td>\n      <td>NaN</td>\n      <td>46.72</td>\n      <td>2016-01-01</td>\n      <td>01</td>\n      <td>NaN</td>\n    </tr>\n    <tr>\n      <th>2</th>\n      <td>48.92</td>\n      <td>41.00</td>\n      <td>73.99</td>\n      <td>310.00</td>\n      <td>12.00</td>\n      <td>0.00</td>\n      <td>30.18</td>\n      <td>1022.00</td>\n      <td>10.0</td>\n      <td>NaN</td>\n      <td>...</td>\n      <td>NaN</td>\n      <td>NaN</td>\n      <td>NaN</td>\n      <td>NaN</td>\n      <td>NaN</td>\n      <td>NaN</td>\n      <td>43.54</td>\n      <td>2016-01-01</td>\n      <td>02</td>\n      <td>NaN</td>\n    </tr>\n    <tr>\n      <th>3</th>\n      <td>46.94</td>\n      <td>39.92</td>\n      <td>76.43</td>\n      <td>320.00</td>\n      <td>13.00</td>\n      <td>0.00</td>\n      <td>30.17</td>\n      <td>1021.90</td>\n      <td>10.0</td>\n      <td>NaN</td>\n      <td>...</td>\n      <td>NaN</td>\n      <td>NaN</td>\n      <td>NaN</td>\n      <td>NaN</td>\n      <td>NaN</td>\n      <td>NaN</td>\n      <td>40.71</td>\n      <td>2016-01-01</td>\n      <td>03</td>\n      <td>NaN</td>\n    </tr>\n    <tr>\n      <th>4</th>\n      <td>46.04</td>\n      <td>39.02</td>\n      <td>76.35</td>\n      <td>320.00</td>\n      <td>10.00</td>\n      <td>0.00</td>\n      <td>30.18</td>\n      <td>1022.00</td>\n      <td>10.0</td>\n      <td>NaN</td>\n      <td>...</td>\n      <td>NaN</td>\n      <td>NaN</td>\n      <td>NaN</td>\n      <td>NaN</td>\n      <td>NaN</td>\n      <td>NaN</td>\n      <td>40.57</td>\n      <td>2016-01-01</td>\n      <td>04</td>\n      <td>NaN</td>\n    </tr>\n    <tr>\n      <th>...</th>\n      <td>...</td>\n      <td>...</td>\n      <td>...</td>\n      <td>...</td>\n      <td>...</td>\n      <td>...</td>\n      <td>...</td>\n      <td>...</td>\n      <td>...</td>\n      <td>...</td>\n      <td>...</td>\n      <td>...</td>\n      <td>...</td>\n      <td>...</td>\n      <td>...</td>\n      <td>...</td>\n      <td>...</td>\n      <td>...</td>\n      <td>...</td>\n      <td>...</td>\n      <td>...</td>\n    </tr>\n    <tr>\n      <th>191326</th>\n      <td>NaN</td>\n      <td>NaN</td>\n      <td>NaN</td>\n      <td>350.00</td>\n      <td>8.00</td>\n      <td>NaN</td>\n      <td>30.08</td>\n      <td>NaN</td>\n      <td>10.0</td>\n      <td>NaN</td>\n      <td>...</td>\n      <td>NaN</td>\n      <td>NaN</td>\n      <td>NaN</td>\n      <td>NaN</td>\n      <td>NaN</td>\n      <td>NaN</td>\n      <td>NaN</td>\n      <td>2017-12-30</td>\n      <td>23</td>\n      <td>NaN</td>\n    </tr>\n    <tr>\n      <th>191327</th>\n      <td>NaN</td>\n      <td>NaN</td>\n      <td>NaN</td>\n      <td>360.00</td>\n      <td>10.00</td>\n      <td>NaN</td>\n      <td>30.08</td>\n      <td>NaN</td>\n      <td>10.0</td>\n      <td>NaN</td>\n      <td>...</td>\n      <td>NaN</td>\n      <td>NaN</td>\n      <td>NaN</td>\n      <td>NaN</td>\n      <td>NaN</td>\n      <td>NaN</td>\n      <td>NaN</td>\n      <td>2017-12-30</td>\n      <td>23</td>\n      <td>NaN</td>\n    </tr>\n    <tr>\n      <th>191328</th>\n      <td>NaN</td>\n      <td>NaN</td>\n      <td>NaN</td>\n      <td>330.00</td>\n      <td>10.00</td>\n      <td>NaN</td>\n      <td>30.09</td>\n      <td>NaN</td>\n      <td>10.0</td>\n      <td>NaN</td>\n      <td>...</td>\n      <td>NaN</td>\n      <td>NaN</td>\n      <td>NaN</td>\n      <td>NaN</td>\n      <td>NaN</td>\n      <td>NaN</td>\n      <td>NaN</td>\n      <td>2017-12-30</td>\n      <td>23</td>\n      <td>NaN</td>\n    </tr>\n    <tr>\n      <th>191329</th>\n      <td>44.10</td>\n      <td>30.00</td>\n      <td>57.37</td>\n      <td>340.00</td>\n      <td>9.00</td>\n      <td>0.00</td>\n      <td>30.09</td>\n      <td>1019.50</td>\n      <td>10.0</td>\n      <td>NaN</td>\n      <td>...</td>\n      <td>NaN</td>\n      <td>NaN</td>\n      <td>NaN</td>\n      <td>NaN</td>\n      <td>NaN</td>\n      <td>NaN</td>\n      <td>38.56</td>\n      <td>2017-12-30</td>\n      <td>23</td>\n      <td>NaN</td>\n    </tr>\n    <tr>\n      <th>191330</th>\n      <td>NaN</td>\n      <td>NaN</td>\n      <td>NaN</td>\n      <td>330.00</td>\n      <td>8.00</td>\n      <td>NaN</td>\n      <td>30.09</td>\n      <td>NaN</td>\n      <td>10.0</td>\n      <td>NaN</td>\n      <td>...</td>\n      <td>NaN</td>\n      <td>NaN</td>\n      <td>NaN</td>\n      <td>NaN</td>\n      <td>NaN</td>\n      <td>NaN</td>\n      <td>NaN</td>\n      <td>2017-12-30</td>\n      <td>23</td>\n      <td>NaN</td>\n    </tr>\n  </tbody>\n</table>\n<p>191331 rows × 29 columns</p>\n</div>"
     },
     "execution_count": 100,
     "metadata": {},
     "output_type": "execute_result"
    }
   ],
   "source": [
    "atl_weather_df[\"time\"] = atl_weather_df[\"time\"].apply(lambda x: x.split(\":\")[0])\n",
    "atl_weather_df = atl_weather_df.drop([\"metar\"], axis=\"columns\")\n",
    "atl_weather_df"
   ],
   "metadata": {
    "collapsed": false,
    "pycharm": {
     "name": "#%%\n"
    }
   }
  },
  {
   "cell_type": "code",
   "execution_count": 101,
   "outputs": [],
   "source": [
    "def list_to_string(lst):\n",
    "    ret = \"\"\n",
    "    if type(lst) == list:\n",
    "        for cnt,x in enumerate(lst):\n",
    "            ret = ret + str(x)\n",
    "            if cnt != len(lst) - 1:\n",
    "                ret = ret + \" \"\n",
    "        return ret\n",
    "    else:\n",
    "        return lst\n",
    "atl_weather_df[\"events\"] = atl_weather_df[\"events\"].apply(lambda x: list_to_string(x))"
   ],
   "metadata": {
    "collapsed": false,
    "pycharm": {
     "name": "#%%\n"
    }
   }
  },
  {
   "cell_type": "code",
   "execution_count": 102,
   "outputs": [],
   "source": [
    "one_hot = pd.get_dummies(atl_weather_df[\"events\"].str.split(expand=True)).groupby(lambda x: x.split('_')[-1], axis = 1).sum()"
   ],
   "metadata": {
    "collapsed": false,
    "pycharm": {
     "name": "#%%\n"
    }
   }
  },
  {
   "cell_type": "code",
   "execution_count": 103,
   "outputs": [
    {
     "data": {
      "text/plain": "181       -RA\n182       -RA\n183       -RA\n184       -RA\n185       -RA\n         ... \n191206     FU\n191207     FU\n191208     FU\n191209     FU\n191210     FU\nName: events, Length: 27140, dtype: object"
     },
     "execution_count": 103,
     "metadata": {},
     "output_type": "execute_result"
    }
   ],
   "source": [
    "idx = atl_weather_df[~pd.isna(atl_weather_df[\"events\"])][\"events\"].index\n",
    "atl_weather_df[~pd.isna(atl_weather_df[\"events\"])][\"events\"]"
   ],
   "metadata": {
    "collapsed": false,
    "pycharm": {
     "name": "#%%\n"
    }
   }
  },
  {
   "cell_type": "code",
   "execution_count": 104,
   "outputs": [
    {
     "data": {
      "text/plain": "        +RA  +TS  -BR  -DZ  -RA  -SG  -SN  -TS  BR  DZ  FG  FU  GR  GS  HZ  \\\n181       0    0    0    0    1    0    0    0   0   0   0   0   0   0   0   \n182       0    0    0    0    1    0    0    0   0   0   0   0   0   0   0   \n183       0    0    0    0    1    0    0    0   0   0   0   0   0   0   0   \n184       0    0    0    0    1    0    0    0   0   0   0   0   0   0   0   \n185       0    0    0    0    1    0    0    0   0   0   0   0   0   0   0   \n...     ...  ...  ...  ...  ...  ...  ...  ...  ..  ..  ..  ..  ..  ..  ..   \n191206    0    0    0    0    0    0    0    0   0   0   0   1   0   0   0   \n191207    0    0    0    0    0    0    0    0   0   0   0   1   0   0   0   \n191208    0    0    0    0    0    0    0    0   0   0   0   1   0   0   0   \n191209    0    0    0    0    0    0    0    0   0   0   0   1   0   0   0   \n191210    0    0    0    0    0    0    0    0   0   0   0   1   0   0   0   \n\n        IC  RA  SN  TS  \n181      0   0   0   0  \n182      0   0   0   0  \n183      0   0   0   0  \n184      0   0   0   0  \n185      0   0   0   0  \n...     ..  ..  ..  ..  \n191206   0   0   0   0  \n191207   0   0   0   0  \n191208   0   0   0   0  \n191209   0   0   0   0  \n191210   0   0   0   0  \n\n[27140 rows x 19 columns]",
      "text/html": "<div>\n<style scoped>\n    .dataframe tbody tr th:only-of-type {\n        vertical-align: middle;\n    }\n\n    .dataframe tbody tr th {\n        vertical-align: top;\n    }\n\n    .dataframe thead th {\n        text-align: right;\n    }\n</style>\n<table border=\"1\" class=\"dataframe\">\n  <thead>\n    <tr style=\"text-align: right;\">\n      <th></th>\n      <th>+RA</th>\n      <th>+TS</th>\n      <th>-BR</th>\n      <th>-DZ</th>\n      <th>-RA</th>\n      <th>-SG</th>\n      <th>-SN</th>\n      <th>-TS</th>\n      <th>BR</th>\n      <th>DZ</th>\n      <th>FG</th>\n      <th>FU</th>\n      <th>GR</th>\n      <th>GS</th>\n      <th>HZ</th>\n      <th>IC</th>\n      <th>RA</th>\n      <th>SN</th>\n      <th>TS</th>\n    </tr>\n  </thead>\n  <tbody>\n    <tr>\n      <th>181</th>\n      <td>0</td>\n      <td>0</td>\n      <td>0</td>\n      <td>0</td>\n      <td>1</td>\n      <td>0</td>\n      <td>0</td>\n      <td>0</td>\n      <td>0</td>\n      <td>0</td>\n      <td>0</td>\n      <td>0</td>\n      <td>0</td>\n      <td>0</td>\n      <td>0</td>\n      <td>0</td>\n      <td>0</td>\n      <td>0</td>\n      <td>0</td>\n    </tr>\n    <tr>\n      <th>182</th>\n      <td>0</td>\n      <td>0</td>\n      <td>0</td>\n      <td>0</td>\n      <td>1</td>\n      <td>0</td>\n      <td>0</td>\n      <td>0</td>\n      <td>0</td>\n      <td>0</td>\n      <td>0</td>\n      <td>0</td>\n      <td>0</td>\n      <td>0</td>\n      <td>0</td>\n      <td>0</td>\n      <td>0</td>\n      <td>0</td>\n      <td>0</td>\n    </tr>\n    <tr>\n      <th>183</th>\n      <td>0</td>\n      <td>0</td>\n      <td>0</td>\n      <td>0</td>\n      <td>1</td>\n      <td>0</td>\n      <td>0</td>\n      <td>0</td>\n      <td>0</td>\n      <td>0</td>\n      <td>0</td>\n      <td>0</td>\n      <td>0</td>\n      <td>0</td>\n      <td>0</td>\n      <td>0</td>\n      <td>0</td>\n      <td>0</td>\n      <td>0</td>\n    </tr>\n    <tr>\n      <th>184</th>\n      <td>0</td>\n      <td>0</td>\n      <td>0</td>\n      <td>0</td>\n      <td>1</td>\n      <td>0</td>\n      <td>0</td>\n      <td>0</td>\n      <td>0</td>\n      <td>0</td>\n      <td>0</td>\n      <td>0</td>\n      <td>0</td>\n      <td>0</td>\n      <td>0</td>\n      <td>0</td>\n      <td>0</td>\n      <td>0</td>\n      <td>0</td>\n    </tr>\n    <tr>\n      <th>185</th>\n      <td>0</td>\n      <td>0</td>\n      <td>0</td>\n      <td>0</td>\n      <td>1</td>\n      <td>0</td>\n      <td>0</td>\n      <td>0</td>\n      <td>0</td>\n      <td>0</td>\n      <td>0</td>\n      <td>0</td>\n      <td>0</td>\n      <td>0</td>\n      <td>0</td>\n      <td>0</td>\n      <td>0</td>\n      <td>0</td>\n      <td>0</td>\n    </tr>\n    <tr>\n      <th>...</th>\n      <td>...</td>\n      <td>...</td>\n      <td>...</td>\n      <td>...</td>\n      <td>...</td>\n      <td>...</td>\n      <td>...</td>\n      <td>...</td>\n      <td>...</td>\n      <td>...</td>\n      <td>...</td>\n      <td>...</td>\n      <td>...</td>\n      <td>...</td>\n      <td>...</td>\n      <td>...</td>\n      <td>...</td>\n      <td>...</td>\n      <td>...</td>\n    </tr>\n    <tr>\n      <th>191206</th>\n      <td>0</td>\n      <td>0</td>\n      <td>0</td>\n      <td>0</td>\n      <td>0</td>\n      <td>0</td>\n      <td>0</td>\n      <td>0</td>\n      <td>0</td>\n      <td>0</td>\n      <td>0</td>\n      <td>1</td>\n      <td>0</td>\n      <td>0</td>\n      <td>0</td>\n      <td>0</td>\n      <td>0</td>\n      <td>0</td>\n      <td>0</td>\n    </tr>\n    <tr>\n      <th>191207</th>\n      <td>0</td>\n      <td>0</td>\n      <td>0</td>\n      <td>0</td>\n      <td>0</td>\n      <td>0</td>\n      <td>0</td>\n      <td>0</td>\n      <td>0</td>\n      <td>0</td>\n      <td>0</td>\n      <td>1</td>\n      <td>0</td>\n      <td>0</td>\n      <td>0</td>\n      <td>0</td>\n      <td>0</td>\n      <td>0</td>\n      <td>0</td>\n    </tr>\n    <tr>\n      <th>191208</th>\n      <td>0</td>\n      <td>0</td>\n      <td>0</td>\n      <td>0</td>\n      <td>0</td>\n      <td>0</td>\n      <td>0</td>\n      <td>0</td>\n      <td>0</td>\n      <td>0</td>\n      <td>0</td>\n      <td>1</td>\n      <td>0</td>\n      <td>0</td>\n      <td>0</td>\n      <td>0</td>\n      <td>0</td>\n      <td>0</td>\n      <td>0</td>\n    </tr>\n    <tr>\n      <th>191209</th>\n      <td>0</td>\n      <td>0</td>\n      <td>0</td>\n      <td>0</td>\n      <td>0</td>\n      <td>0</td>\n      <td>0</td>\n      <td>0</td>\n      <td>0</td>\n      <td>0</td>\n      <td>0</td>\n      <td>1</td>\n      <td>0</td>\n      <td>0</td>\n      <td>0</td>\n      <td>0</td>\n      <td>0</td>\n      <td>0</td>\n      <td>0</td>\n    </tr>\n    <tr>\n      <th>191210</th>\n      <td>0</td>\n      <td>0</td>\n      <td>0</td>\n      <td>0</td>\n      <td>0</td>\n      <td>0</td>\n      <td>0</td>\n      <td>0</td>\n      <td>0</td>\n      <td>0</td>\n      <td>0</td>\n      <td>1</td>\n      <td>0</td>\n      <td>0</td>\n      <td>0</td>\n      <td>0</td>\n      <td>0</td>\n      <td>0</td>\n      <td>0</td>\n    </tr>\n  </tbody>\n</table>\n<p>27140 rows × 19 columns</p>\n</div>"
     },
     "execution_count": 104,
     "metadata": {},
     "output_type": "execute_result"
    }
   ],
   "source": [
    "one_hot.loc[idx]"
   ],
   "metadata": {
    "collapsed": false,
    "pycharm": {
     "name": "#%%\n"
    }
   }
  },
  {
   "cell_type": "code",
   "execution_count": 105,
   "outputs": [
    {
     "data": {
      "text/plain": "        +RA  +TS  -BR  -DZ  -RA  -SG  -SN  -TS  BR  DZ  FG  FU  GR  GS  HZ  \\\n181       0    0    0    0    1    0    0    0   0   0   0   0   0   0   0   \n182       0    0    0    0    1    0    0    0   0   0   0   0   0   0   0   \n183       0    0    0    0    1    0    0    0   0   0   0   0   0   0   0   \n184       0    0    0    0    1    0    0    0   0   0   0   0   0   0   0   \n185       0    0    0    0    1    0    0    0   0   0   0   0   0   0   0   \n...     ...  ...  ...  ...  ...  ...  ...  ...  ..  ..  ..  ..  ..  ..  ..   \n191206    0    0    0    0    0    0    0    0   0   0   0   2   0   0   0   \n191207    0    0    0    0    0    0    0    0   0   0   0   2   0   0   0   \n191208    0    0    0    0    0    0    0    0   0   0   0   2   0   0   0   \n191209    0    0    0    0    0    0    0    0   0   0   0   2   0   0   0   \n191210    0    0    0    0    0    0    0    0   0   0   0   2   0   0   0   \n\n        IC  RA  SN  TS  \n181      0   0   0   0  \n182      0   0   0   0  \n183      0   0   0   0  \n184      0   0   0   0  \n185      0   0   0   0  \n...     ..  ..  ..  ..  \n191206   0   0   0   0  \n191207   0   0   0   0  \n191208   0   0   0   0  \n191209   0   0   0   0  \n191210   0   0   0   0  \n\n[27140 rows x 19 columns]",
      "text/html": "<div>\n<style scoped>\n    .dataframe tbody tr th:only-of-type {\n        vertical-align: middle;\n    }\n\n    .dataframe tbody tr th {\n        vertical-align: top;\n    }\n\n    .dataframe thead th {\n        text-align: right;\n    }\n</style>\n<table border=\"1\" class=\"dataframe\">\n  <thead>\n    <tr style=\"text-align: right;\">\n      <th></th>\n      <th>+RA</th>\n      <th>+TS</th>\n      <th>-BR</th>\n      <th>-DZ</th>\n      <th>-RA</th>\n      <th>-SG</th>\n      <th>-SN</th>\n      <th>-TS</th>\n      <th>BR</th>\n      <th>DZ</th>\n      <th>FG</th>\n      <th>FU</th>\n      <th>GR</th>\n      <th>GS</th>\n      <th>HZ</th>\n      <th>IC</th>\n      <th>RA</th>\n      <th>SN</th>\n      <th>TS</th>\n    </tr>\n  </thead>\n  <tbody>\n    <tr>\n      <th>181</th>\n      <td>0</td>\n      <td>0</td>\n      <td>0</td>\n      <td>0</td>\n      <td>1</td>\n      <td>0</td>\n      <td>0</td>\n      <td>0</td>\n      <td>0</td>\n      <td>0</td>\n      <td>0</td>\n      <td>0</td>\n      <td>0</td>\n      <td>0</td>\n      <td>0</td>\n      <td>0</td>\n      <td>0</td>\n      <td>0</td>\n      <td>0</td>\n    </tr>\n    <tr>\n      <th>182</th>\n      <td>0</td>\n      <td>0</td>\n      <td>0</td>\n      <td>0</td>\n      <td>1</td>\n      <td>0</td>\n      <td>0</td>\n      <td>0</td>\n      <td>0</td>\n      <td>0</td>\n      <td>0</td>\n      <td>0</td>\n      <td>0</td>\n      <td>0</td>\n      <td>0</td>\n      <td>0</td>\n      <td>0</td>\n      <td>0</td>\n      <td>0</td>\n    </tr>\n    <tr>\n      <th>183</th>\n      <td>0</td>\n      <td>0</td>\n      <td>0</td>\n      <td>0</td>\n      <td>1</td>\n      <td>0</td>\n      <td>0</td>\n      <td>0</td>\n      <td>0</td>\n      <td>0</td>\n      <td>0</td>\n      <td>0</td>\n      <td>0</td>\n      <td>0</td>\n      <td>0</td>\n      <td>0</td>\n      <td>0</td>\n      <td>0</td>\n      <td>0</td>\n    </tr>\n    <tr>\n      <th>184</th>\n      <td>0</td>\n      <td>0</td>\n      <td>0</td>\n      <td>0</td>\n      <td>1</td>\n      <td>0</td>\n      <td>0</td>\n      <td>0</td>\n      <td>0</td>\n      <td>0</td>\n      <td>0</td>\n      <td>0</td>\n      <td>0</td>\n      <td>0</td>\n      <td>0</td>\n      <td>0</td>\n      <td>0</td>\n      <td>0</td>\n      <td>0</td>\n    </tr>\n    <tr>\n      <th>185</th>\n      <td>0</td>\n      <td>0</td>\n      <td>0</td>\n      <td>0</td>\n      <td>1</td>\n      <td>0</td>\n      <td>0</td>\n      <td>0</td>\n      <td>0</td>\n      <td>0</td>\n      <td>0</td>\n      <td>0</td>\n      <td>0</td>\n      <td>0</td>\n      <td>0</td>\n      <td>0</td>\n      <td>0</td>\n      <td>0</td>\n      <td>0</td>\n    </tr>\n    <tr>\n      <th>...</th>\n      <td>...</td>\n      <td>...</td>\n      <td>...</td>\n      <td>...</td>\n      <td>...</td>\n      <td>...</td>\n      <td>...</td>\n      <td>...</td>\n      <td>...</td>\n      <td>...</td>\n      <td>...</td>\n      <td>...</td>\n      <td>...</td>\n      <td>...</td>\n      <td>...</td>\n      <td>...</td>\n      <td>...</td>\n      <td>...</td>\n      <td>...</td>\n    </tr>\n    <tr>\n      <th>191206</th>\n      <td>0</td>\n      <td>0</td>\n      <td>0</td>\n      <td>0</td>\n      <td>0</td>\n      <td>0</td>\n      <td>0</td>\n      <td>0</td>\n      <td>0</td>\n      <td>0</td>\n      <td>0</td>\n      <td>2</td>\n      <td>0</td>\n      <td>0</td>\n      <td>0</td>\n      <td>0</td>\n      <td>0</td>\n      <td>0</td>\n      <td>0</td>\n    </tr>\n    <tr>\n      <th>191207</th>\n      <td>0</td>\n      <td>0</td>\n      <td>0</td>\n      <td>0</td>\n      <td>0</td>\n      <td>0</td>\n      <td>0</td>\n      <td>0</td>\n      <td>0</td>\n      <td>0</td>\n      <td>0</td>\n      <td>2</td>\n      <td>0</td>\n      <td>0</td>\n      <td>0</td>\n      <td>0</td>\n      <td>0</td>\n      <td>0</td>\n      <td>0</td>\n    </tr>\n    <tr>\n      <th>191208</th>\n      <td>0</td>\n      <td>0</td>\n      <td>0</td>\n      <td>0</td>\n      <td>0</td>\n      <td>0</td>\n      <td>0</td>\n      <td>0</td>\n      <td>0</td>\n      <td>0</td>\n      <td>0</td>\n      <td>2</td>\n      <td>0</td>\n      <td>0</td>\n      <td>0</td>\n      <td>0</td>\n      <td>0</td>\n      <td>0</td>\n      <td>0</td>\n    </tr>\n    <tr>\n      <th>191209</th>\n      <td>0</td>\n      <td>0</td>\n      <td>0</td>\n      <td>0</td>\n      <td>0</td>\n      <td>0</td>\n      <td>0</td>\n      <td>0</td>\n      <td>0</td>\n      <td>0</td>\n      <td>0</td>\n      <td>2</td>\n      <td>0</td>\n      <td>0</td>\n      <td>0</td>\n      <td>0</td>\n      <td>0</td>\n      <td>0</td>\n      <td>0</td>\n    </tr>\n    <tr>\n      <th>191210</th>\n      <td>0</td>\n      <td>0</td>\n      <td>0</td>\n      <td>0</td>\n      <td>0</td>\n      <td>0</td>\n      <td>0</td>\n      <td>0</td>\n      <td>0</td>\n      <td>0</td>\n      <td>0</td>\n      <td>2</td>\n      <td>0</td>\n      <td>0</td>\n      <td>0</td>\n      <td>0</td>\n      <td>0</td>\n      <td>0</td>\n      <td>0</td>\n    </tr>\n  </tbody>\n</table>\n<p>27140 rows × 19 columns</p>\n</div>"
     },
     "execution_count": 105,
     "metadata": {},
     "output_type": "execute_result"
    }
   ],
   "source": [
    "for col in one_hot.columns:\n",
    "    if col[0] == \"+\":\n",
    "        one_hot[col] = one_hot[col].apply(lambda x: x*3)\n",
    "    elif col[0] == \"-\":\n",
    "        pass\n",
    "    else:\n",
    "        one_hot[col] = one_hot[col].apply(lambda x: x*2)\n",
    "one_hot.loc[idx]"
   ],
   "metadata": {
    "collapsed": false,
    "pycharm": {
     "name": "#%%\n"
    }
   }
  },
  {
   "cell_type": "code",
   "execution_count": 106,
   "outputs": [
    {
     "data": {
      "text/plain": "        EVENT_BR  EVENT_DZ  EVENT_FG  EVENT_FU  EVENT_GR  EVENT_GS  EVENT_HZ  \\\n181            0         0         0         0         0         0         0   \n182            0         0         0         0         0         0         0   \n183            0         0         0         0         0         0         0   \n184            0         0         0         0         0         0         0   \n185            0         0         0         0         0         0         0   \n...          ...       ...       ...       ...       ...       ...       ...   \n191206         0         0         0         2         0         0         0   \n191207         0         0         0         2         0         0         0   \n191208         0         0         0         2         0         0         0   \n191209         0         0         0         2         0         0         0   \n191210         0         0         0         2         0         0         0   \n\n        EVENT_IC  EVENT_RA  EVENT_SG  EVENT_SN  EVENT_TS  \n181            0         1         0         0         0  \n182            0         1         0         0         0  \n183            0         1         0         0         0  \n184            0         1         0         0         0  \n185            0         1         0         0         0  \n...          ...       ...       ...       ...       ...  \n191206         0         0         0         0         0  \n191207         0         0         0         0         0  \n191208         0         0         0         0         0  \n191209         0         0         0         0         0  \n191210         0         0         0         0         0  \n\n[27140 rows x 12 columns]",
      "text/html": "<div>\n<style scoped>\n    .dataframe tbody tr th:only-of-type {\n        vertical-align: middle;\n    }\n\n    .dataframe tbody tr th {\n        vertical-align: top;\n    }\n\n    .dataframe thead th {\n        text-align: right;\n    }\n</style>\n<table border=\"1\" class=\"dataframe\">\n  <thead>\n    <tr style=\"text-align: right;\">\n      <th></th>\n      <th>EVENT_BR</th>\n      <th>EVENT_DZ</th>\n      <th>EVENT_FG</th>\n      <th>EVENT_FU</th>\n      <th>EVENT_GR</th>\n      <th>EVENT_GS</th>\n      <th>EVENT_HZ</th>\n      <th>EVENT_IC</th>\n      <th>EVENT_RA</th>\n      <th>EVENT_SG</th>\n      <th>EVENT_SN</th>\n      <th>EVENT_TS</th>\n    </tr>\n  </thead>\n  <tbody>\n    <tr>\n      <th>181</th>\n      <td>0</td>\n      <td>0</td>\n      <td>0</td>\n      <td>0</td>\n      <td>0</td>\n      <td>0</td>\n      <td>0</td>\n      <td>0</td>\n      <td>1</td>\n      <td>0</td>\n      <td>0</td>\n      <td>0</td>\n    </tr>\n    <tr>\n      <th>182</th>\n      <td>0</td>\n      <td>0</td>\n      <td>0</td>\n      <td>0</td>\n      <td>0</td>\n      <td>0</td>\n      <td>0</td>\n      <td>0</td>\n      <td>1</td>\n      <td>0</td>\n      <td>0</td>\n      <td>0</td>\n    </tr>\n    <tr>\n      <th>183</th>\n      <td>0</td>\n      <td>0</td>\n      <td>0</td>\n      <td>0</td>\n      <td>0</td>\n      <td>0</td>\n      <td>0</td>\n      <td>0</td>\n      <td>1</td>\n      <td>0</td>\n      <td>0</td>\n      <td>0</td>\n    </tr>\n    <tr>\n      <th>184</th>\n      <td>0</td>\n      <td>0</td>\n      <td>0</td>\n      <td>0</td>\n      <td>0</td>\n      <td>0</td>\n      <td>0</td>\n      <td>0</td>\n      <td>1</td>\n      <td>0</td>\n      <td>0</td>\n      <td>0</td>\n    </tr>\n    <tr>\n      <th>185</th>\n      <td>0</td>\n      <td>0</td>\n      <td>0</td>\n      <td>0</td>\n      <td>0</td>\n      <td>0</td>\n      <td>0</td>\n      <td>0</td>\n      <td>1</td>\n      <td>0</td>\n      <td>0</td>\n      <td>0</td>\n    </tr>\n    <tr>\n      <th>...</th>\n      <td>...</td>\n      <td>...</td>\n      <td>...</td>\n      <td>...</td>\n      <td>...</td>\n      <td>...</td>\n      <td>...</td>\n      <td>...</td>\n      <td>...</td>\n      <td>...</td>\n      <td>...</td>\n      <td>...</td>\n    </tr>\n    <tr>\n      <th>191206</th>\n      <td>0</td>\n      <td>0</td>\n      <td>0</td>\n      <td>2</td>\n      <td>0</td>\n      <td>0</td>\n      <td>0</td>\n      <td>0</td>\n      <td>0</td>\n      <td>0</td>\n      <td>0</td>\n      <td>0</td>\n    </tr>\n    <tr>\n      <th>191207</th>\n      <td>0</td>\n      <td>0</td>\n      <td>0</td>\n      <td>2</td>\n      <td>0</td>\n      <td>0</td>\n      <td>0</td>\n      <td>0</td>\n      <td>0</td>\n      <td>0</td>\n      <td>0</td>\n      <td>0</td>\n    </tr>\n    <tr>\n      <th>191208</th>\n      <td>0</td>\n      <td>0</td>\n      <td>0</td>\n      <td>2</td>\n      <td>0</td>\n      <td>0</td>\n      <td>0</td>\n      <td>0</td>\n      <td>0</td>\n      <td>0</td>\n      <td>0</td>\n      <td>0</td>\n    </tr>\n    <tr>\n      <th>191209</th>\n      <td>0</td>\n      <td>0</td>\n      <td>0</td>\n      <td>2</td>\n      <td>0</td>\n      <td>0</td>\n      <td>0</td>\n      <td>0</td>\n      <td>0</td>\n      <td>0</td>\n      <td>0</td>\n      <td>0</td>\n    </tr>\n    <tr>\n      <th>191210</th>\n      <td>0</td>\n      <td>0</td>\n      <td>0</td>\n      <td>2</td>\n      <td>0</td>\n      <td>0</td>\n      <td>0</td>\n      <td>0</td>\n      <td>0</td>\n      <td>0</td>\n      <td>0</td>\n      <td>0</td>\n    </tr>\n  </tbody>\n</table>\n<p>27140 rows × 12 columns</p>\n</div>"
     },
     "execution_count": 106,
     "metadata": {},
     "output_type": "execute_result"
    }
   ],
   "source": [
    "one_hot = one_hot.groupby(lambda x: re.sub(\"[^a-zA-Z]+\",\"\",x), axis=1).sum()\n",
    "one_hot = one_hot.add_prefix('EVENT_')\n",
    "one_hot.loc[idx]"
   ],
   "metadata": {
    "collapsed": false,
    "pycharm": {
     "name": "#%%\n"
    }
   }
  },
  {
   "cell_type": "code",
   "execution_count": 107,
   "outputs": [
    {
     "data": {
      "text/plain": "         tmpf   dwpf   relh    drct   sknt  p01i   alti     mslp  vsby gust  \\\n0       51.98  42.08  68.86  320.00  10.00  0.00  30.19  1022.50  10.0  NaN   \n1       50.00  41.00  71.07  330.00   7.00  0.00  30.18  1022.20  10.0  NaN   \n2       48.92  41.00  73.99  310.00  12.00  0.00  30.18  1022.00  10.0  NaN   \n3       46.94  39.92  76.43  320.00  13.00  0.00  30.17  1021.90  10.0  NaN   \n4       46.04  39.02  76.35  320.00  10.00  0.00  30.18  1022.00  10.0  NaN   \n...       ...    ...    ...     ...    ...   ...    ...      ...   ...  ...   \n191326    NaN    NaN    NaN  350.00   8.00   NaN  30.08      NaN  10.0  NaN   \n191327    NaN    NaN    NaN  360.00  10.00   NaN  30.08      NaN  10.0  NaN   \n191328    NaN    NaN    NaN  330.00  10.00   NaN  30.09      NaN  10.0  NaN   \n191329  44.10  30.00  57.37  340.00   9.00  0.00  30.09  1019.50  10.0  NaN   \n191330    NaN    NaN    NaN  330.00   8.00   NaN  30.09      NaN  10.0  NaN   \n\n        ... EVENT_FG EVENT_FU EVENT_GR EVENT_GS EVENT_HZ EVENT_IC EVENT_RA  \\\n0       ...        0        0        0        0        0        0        0   \n1       ...        0        0        0        0        0        0        0   \n2       ...        0        0        0        0        0        0        0   \n3       ...        0        0        0        0        0        0        0   \n4       ...        0        0        0        0        0        0        0   \n...     ...      ...      ...      ...      ...      ...      ...      ...   \n191326  ...        0        0        0        0        0        0        0   \n191327  ...        0        0        0        0        0        0        0   \n191328  ...        0        0        0        0        0        0        0   \n191329  ...        0        0        0        0        0        0        0   \n191330  ...        0        0        0        0        0        0        0   \n\n       EVENT_SG EVENT_SN EVENT_TS  \n0             0        0        0  \n1             0        0        0  \n2             0        0        0  \n3             0        0        0  \n4             0        0        0  \n...         ...      ...      ...  \n191326        0        0        0  \n191327        0        0        0  \n191328        0        0        0  \n191329        0        0        0  \n191330        0        0        0  \n\n[191331 rows x 41 columns]",
      "text/html": "<div>\n<style scoped>\n    .dataframe tbody tr th:only-of-type {\n        vertical-align: middle;\n    }\n\n    .dataframe tbody tr th {\n        vertical-align: top;\n    }\n\n    .dataframe thead th {\n        text-align: right;\n    }\n</style>\n<table border=\"1\" class=\"dataframe\">\n  <thead>\n    <tr style=\"text-align: right;\">\n      <th></th>\n      <th>tmpf</th>\n      <th>dwpf</th>\n      <th>relh</th>\n      <th>drct</th>\n      <th>sknt</th>\n      <th>p01i</th>\n      <th>alti</th>\n      <th>mslp</th>\n      <th>vsby</th>\n      <th>gust</th>\n      <th>...</th>\n      <th>EVENT_FG</th>\n      <th>EVENT_FU</th>\n      <th>EVENT_GR</th>\n      <th>EVENT_GS</th>\n      <th>EVENT_HZ</th>\n      <th>EVENT_IC</th>\n      <th>EVENT_RA</th>\n      <th>EVENT_SG</th>\n      <th>EVENT_SN</th>\n      <th>EVENT_TS</th>\n    </tr>\n  </thead>\n  <tbody>\n    <tr>\n      <th>0</th>\n      <td>51.98</td>\n      <td>42.08</td>\n      <td>68.86</td>\n      <td>320.00</td>\n      <td>10.00</td>\n      <td>0.00</td>\n      <td>30.19</td>\n      <td>1022.50</td>\n      <td>10.0</td>\n      <td>NaN</td>\n      <td>...</td>\n      <td>0</td>\n      <td>0</td>\n      <td>0</td>\n      <td>0</td>\n      <td>0</td>\n      <td>0</td>\n      <td>0</td>\n      <td>0</td>\n      <td>0</td>\n      <td>0</td>\n    </tr>\n    <tr>\n      <th>1</th>\n      <td>50.00</td>\n      <td>41.00</td>\n      <td>71.07</td>\n      <td>330.00</td>\n      <td>7.00</td>\n      <td>0.00</td>\n      <td>30.18</td>\n      <td>1022.20</td>\n      <td>10.0</td>\n      <td>NaN</td>\n      <td>...</td>\n      <td>0</td>\n      <td>0</td>\n      <td>0</td>\n      <td>0</td>\n      <td>0</td>\n      <td>0</td>\n      <td>0</td>\n      <td>0</td>\n      <td>0</td>\n      <td>0</td>\n    </tr>\n    <tr>\n      <th>2</th>\n      <td>48.92</td>\n      <td>41.00</td>\n      <td>73.99</td>\n      <td>310.00</td>\n      <td>12.00</td>\n      <td>0.00</td>\n      <td>30.18</td>\n      <td>1022.00</td>\n      <td>10.0</td>\n      <td>NaN</td>\n      <td>...</td>\n      <td>0</td>\n      <td>0</td>\n      <td>0</td>\n      <td>0</td>\n      <td>0</td>\n      <td>0</td>\n      <td>0</td>\n      <td>0</td>\n      <td>0</td>\n      <td>0</td>\n    </tr>\n    <tr>\n      <th>3</th>\n      <td>46.94</td>\n      <td>39.92</td>\n      <td>76.43</td>\n      <td>320.00</td>\n      <td>13.00</td>\n      <td>0.00</td>\n      <td>30.17</td>\n      <td>1021.90</td>\n      <td>10.0</td>\n      <td>NaN</td>\n      <td>...</td>\n      <td>0</td>\n      <td>0</td>\n      <td>0</td>\n      <td>0</td>\n      <td>0</td>\n      <td>0</td>\n      <td>0</td>\n      <td>0</td>\n      <td>0</td>\n      <td>0</td>\n    </tr>\n    <tr>\n      <th>4</th>\n      <td>46.04</td>\n      <td>39.02</td>\n      <td>76.35</td>\n      <td>320.00</td>\n      <td>10.00</td>\n      <td>0.00</td>\n      <td>30.18</td>\n      <td>1022.00</td>\n      <td>10.0</td>\n      <td>NaN</td>\n      <td>...</td>\n      <td>0</td>\n      <td>0</td>\n      <td>0</td>\n      <td>0</td>\n      <td>0</td>\n      <td>0</td>\n      <td>0</td>\n      <td>0</td>\n      <td>0</td>\n      <td>0</td>\n    </tr>\n    <tr>\n      <th>...</th>\n      <td>...</td>\n      <td>...</td>\n      <td>...</td>\n      <td>...</td>\n      <td>...</td>\n      <td>...</td>\n      <td>...</td>\n      <td>...</td>\n      <td>...</td>\n      <td>...</td>\n      <td>...</td>\n      <td>...</td>\n      <td>...</td>\n      <td>...</td>\n      <td>...</td>\n      <td>...</td>\n      <td>...</td>\n      <td>...</td>\n      <td>...</td>\n      <td>...</td>\n      <td>...</td>\n    </tr>\n    <tr>\n      <th>191326</th>\n      <td>NaN</td>\n      <td>NaN</td>\n      <td>NaN</td>\n      <td>350.00</td>\n      <td>8.00</td>\n      <td>NaN</td>\n      <td>30.08</td>\n      <td>NaN</td>\n      <td>10.0</td>\n      <td>NaN</td>\n      <td>...</td>\n      <td>0</td>\n      <td>0</td>\n      <td>0</td>\n      <td>0</td>\n      <td>0</td>\n      <td>0</td>\n      <td>0</td>\n      <td>0</td>\n      <td>0</td>\n      <td>0</td>\n    </tr>\n    <tr>\n      <th>191327</th>\n      <td>NaN</td>\n      <td>NaN</td>\n      <td>NaN</td>\n      <td>360.00</td>\n      <td>10.00</td>\n      <td>NaN</td>\n      <td>30.08</td>\n      <td>NaN</td>\n      <td>10.0</td>\n      <td>NaN</td>\n      <td>...</td>\n      <td>0</td>\n      <td>0</td>\n      <td>0</td>\n      <td>0</td>\n      <td>0</td>\n      <td>0</td>\n      <td>0</td>\n      <td>0</td>\n      <td>0</td>\n      <td>0</td>\n    </tr>\n    <tr>\n      <th>191328</th>\n      <td>NaN</td>\n      <td>NaN</td>\n      <td>NaN</td>\n      <td>330.00</td>\n      <td>10.00</td>\n      <td>NaN</td>\n      <td>30.09</td>\n      <td>NaN</td>\n      <td>10.0</td>\n      <td>NaN</td>\n      <td>...</td>\n      <td>0</td>\n      <td>0</td>\n      <td>0</td>\n      <td>0</td>\n      <td>0</td>\n      <td>0</td>\n      <td>0</td>\n      <td>0</td>\n      <td>0</td>\n      <td>0</td>\n    </tr>\n    <tr>\n      <th>191329</th>\n      <td>44.10</td>\n      <td>30.00</td>\n      <td>57.37</td>\n      <td>340.00</td>\n      <td>9.00</td>\n      <td>0.00</td>\n      <td>30.09</td>\n      <td>1019.50</td>\n      <td>10.0</td>\n      <td>NaN</td>\n      <td>...</td>\n      <td>0</td>\n      <td>0</td>\n      <td>0</td>\n      <td>0</td>\n      <td>0</td>\n      <td>0</td>\n      <td>0</td>\n      <td>0</td>\n      <td>0</td>\n      <td>0</td>\n    </tr>\n    <tr>\n      <th>191330</th>\n      <td>NaN</td>\n      <td>NaN</td>\n      <td>NaN</td>\n      <td>330.00</td>\n      <td>8.00</td>\n      <td>NaN</td>\n      <td>30.09</td>\n      <td>NaN</td>\n      <td>10.0</td>\n      <td>NaN</td>\n      <td>...</td>\n      <td>0</td>\n      <td>0</td>\n      <td>0</td>\n      <td>0</td>\n      <td>0</td>\n      <td>0</td>\n      <td>0</td>\n      <td>0</td>\n      <td>0</td>\n      <td>0</td>\n    </tr>\n  </tbody>\n</table>\n<p>191331 rows × 41 columns</p>\n</div>"
     },
     "execution_count": 107,
     "metadata": {},
     "output_type": "execute_result"
    }
   ],
   "source": [
    "atl_weather_df = atl_weather_df.join(one_hot)\n",
    "atl_weather_df"
   ],
   "metadata": {
    "collapsed": false,
    "pycharm": {
     "name": "#%%\n"
    }
   }
  },
  {
   "cell_type": "code",
   "execution_count": 108,
   "outputs": [],
   "source": [
    "atl_weather_df = atl_weather_df.drop([\"events\"], axis=\"columns\")"
   ],
   "metadata": {
    "collapsed": false,
    "pycharm": {
     "name": "#%%\n"
    }
   }
  },
  {
   "cell_type": "code",
   "execution_count": 109,
   "outputs": [
    {
     "name": "stdout",
     "output_type": "stream",
     "text": [
      "<class 'pandas.core.frame.DataFrame'>\n",
      "RangeIndex: 191331 entries, 0 to 191330\n",
      "Data columns (total 40 columns):\n",
      " #   Column             Non-Null Count   Dtype  \n",
      "---  ------             --------------   -----  \n",
      " 0   tmpf               20396 non-null   float64\n",
      " 1   dwpf               20394 non-null   float64\n",
      " 2   relh               20364 non-null   float64\n",
      " 3   drct               185963 non-null  float64\n",
      " 4   sknt               186484 non-null  float64\n",
      " 5   p01i               24455 non-null   float64\n",
      " 6   alti               191300 non-null  float64\n",
      " 7   mslp               17489 non-null   float64\n",
      " 8   vsby               191331 non-null  float64\n",
      " 9   gust               5231 non-null    float64\n",
      " 10  skyc1              183723 non-null  object \n",
      " 11  skyc2              45906 non-null   object \n",
      " 12  skyc3              20899 non-null   object \n",
      " 13  skyc4              1877 non-null    object \n",
      " 14  skyl1              95651 non-null   float64\n",
      " 15  skyl2              45906 non-null   float64\n",
      " 16  skyl3              20899 non-null   float64\n",
      " 17  skyl4              1877 non-null    float64\n",
      " 18  wxcodes            17890 non-null   object \n",
      " 19  ice_accretion_1hr  11 non-null      float64\n",
      " 20  ice_accretion_3hr  2 non-null       float64\n",
      " 21  ice_accretion_6hr  2 non-null       float64\n",
      " 22  peak_wind_gust     569 non-null     float64\n",
      " 23  peak_wind_drct     569 non-null     float64\n",
      " 24  peak_wind_time     569 non-null     object \n",
      " 25  feel               20364 non-null   float64\n",
      " 26  date               191331 non-null  object \n",
      " 27  time               191331 non-null  object \n",
      " 28  EVENT_BR           191331 non-null  float64\n",
      " 29  EVENT_DZ           191331 non-null  float64\n",
      " 30  EVENT_FG           191331 non-null  float64\n",
      " 31  EVENT_FU           191331 non-null  float64\n",
      " 32  EVENT_GR           191331 non-null  float64\n",
      " 33  EVENT_GS           191331 non-null  float64\n",
      " 34  EVENT_HZ           191331 non-null  float64\n",
      " 35  EVENT_IC           191331 non-null  float64\n",
      " 36  EVENT_RA           191331 non-null  float64\n",
      " 37  EVENT_SG           191331 non-null  float64\n",
      " 38  EVENT_SN           191331 non-null  float64\n",
      " 39  EVENT_TS           191331 non-null  float64\n",
      "dtypes: float64(32), object(8)\n",
      "memory usage: 58.4+ MB\n"
     ]
    }
   ],
   "source": [
    "str_cols=[\"skyc1\",\"skyc2\",\"skyc3\",\"skyc4\",\"wxcodes\",\"peak_wind_time\",\"time\",\"date\"]\n",
    "num_cols =  []\n",
    "for col in atl_weather_df.columns:\n",
    "    if col not in str_cols:\n",
    "        num_cols.append(col)\n",
    "        atl_weather_df[col] = atl_weather_df[col].astype('float64')\n",
    "atl_weather_df.info()"
   ],
   "metadata": {
    "collapsed": false,
    "pycharm": {
     "name": "#%%\n"
    }
   }
  },
  {
   "cell_type": "code",
   "execution_count": 110,
   "outputs": [
    {
     "data": {
      "text/plain": "                skyc1 skyc2 skyc3 skyc4 wxcodes peak_wind_time\ndate       time                                               \n2016-01-01 00     FEW   SCT   BKN   BKN     NaN            NaN\n           01     SCT   BKN   BKN   NaN     NaN            NaN\n           02     FEW   BKN   BKN   NaN     NaN            NaN\n           03     FEW   SCT   BKN   NaN     NaN            NaN\n           04     FEW   BKN   BKN   NaN     NaN            NaN\n...               ...   ...   ...   ...     ...            ...\n2017-12-30 19     FEW   FEW   NaN   NaN     NaN            NaN\n           20     FEW   NaN   NaN   NaN     NaN            NaN\n           21     BKN   NaN   NaN   NaN     NaN            NaN\n           22     CLR   BKN   NaN   NaN     NaN            NaN\n           23     FEW   BKN   NaN   NaN     NaN            NaN\n\n[17520 rows x 6 columns]",
      "text/html": "<div>\n<style scoped>\n    .dataframe tbody tr th:only-of-type {\n        vertical-align: middle;\n    }\n\n    .dataframe tbody tr th {\n        vertical-align: top;\n    }\n\n    .dataframe thead th {\n        text-align: right;\n    }\n</style>\n<table border=\"1\" class=\"dataframe\">\n  <thead>\n    <tr style=\"text-align: right;\">\n      <th></th>\n      <th></th>\n      <th>skyc1</th>\n      <th>skyc2</th>\n      <th>skyc3</th>\n      <th>skyc4</th>\n      <th>wxcodes</th>\n      <th>peak_wind_time</th>\n    </tr>\n    <tr>\n      <th>date</th>\n      <th>time</th>\n      <th></th>\n      <th></th>\n      <th></th>\n      <th></th>\n      <th></th>\n      <th></th>\n    </tr>\n  </thead>\n  <tbody>\n    <tr>\n      <th rowspan=\"5\" valign=\"top\">2016-01-01</th>\n      <th>00</th>\n      <td>FEW</td>\n      <td>SCT</td>\n      <td>BKN</td>\n      <td>BKN</td>\n      <td>NaN</td>\n      <td>NaN</td>\n    </tr>\n    <tr>\n      <th>01</th>\n      <td>SCT</td>\n      <td>BKN</td>\n      <td>BKN</td>\n      <td>NaN</td>\n      <td>NaN</td>\n      <td>NaN</td>\n    </tr>\n    <tr>\n      <th>02</th>\n      <td>FEW</td>\n      <td>BKN</td>\n      <td>BKN</td>\n      <td>NaN</td>\n      <td>NaN</td>\n      <td>NaN</td>\n    </tr>\n    <tr>\n      <th>03</th>\n      <td>FEW</td>\n      <td>SCT</td>\n      <td>BKN</td>\n      <td>NaN</td>\n      <td>NaN</td>\n      <td>NaN</td>\n    </tr>\n    <tr>\n      <th>04</th>\n      <td>FEW</td>\n      <td>BKN</td>\n      <td>BKN</td>\n      <td>NaN</td>\n      <td>NaN</td>\n      <td>NaN</td>\n    </tr>\n    <tr>\n      <th>...</th>\n      <th>...</th>\n      <td>...</td>\n      <td>...</td>\n      <td>...</td>\n      <td>...</td>\n      <td>...</td>\n      <td>...</td>\n    </tr>\n    <tr>\n      <th rowspan=\"5\" valign=\"top\">2017-12-30</th>\n      <th>19</th>\n      <td>FEW</td>\n      <td>FEW</td>\n      <td>NaN</td>\n      <td>NaN</td>\n      <td>NaN</td>\n      <td>NaN</td>\n    </tr>\n    <tr>\n      <th>20</th>\n      <td>FEW</td>\n      <td>NaN</td>\n      <td>NaN</td>\n      <td>NaN</td>\n      <td>NaN</td>\n      <td>NaN</td>\n    </tr>\n    <tr>\n      <th>21</th>\n      <td>BKN</td>\n      <td>NaN</td>\n      <td>NaN</td>\n      <td>NaN</td>\n      <td>NaN</td>\n      <td>NaN</td>\n    </tr>\n    <tr>\n      <th>22</th>\n      <td>CLR</td>\n      <td>BKN</td>\n      <td>NaN</td>\n      <td>NaN</td>\n      <td>NaN</td>\n      <td>NaN</td>\n    </tr>\n    <tr>\n      <th>23</th>\n      <td>FEW</td>\n      <td>BKN</td>\n      <td>NaN</td>\n      <td>NaN</td>\n      <td>NaN</td>\n      <td>NaN</td>\n    </tr>\n  </tbody>\n</table>\n<p>17520 rows × 6 columns</p>\n</div>"
     },
     "execution_count": 110,
     "metadata": {},
     "output_type": "execute_result"
    }
   ],
   "source": [
    "str_df = atl_weather_df[str_cols].groupby([\"date\",\"time\"]).agg(lambda x: np.nan if len(pd.Series.mode(x)) == 0 else pd.Series.mode(x)[0])\n",
    "str_df"
   ],
   "metadata": {
    "collapsed": false,
    "pycharm": {
     "name": "#%%\n"
    }
   }
  },
  {
   "cell_type": "code",
   "execution_count": 111,
   "outputs": [
    {
     "data": {
      "text/plain": "                  tmpf   dwpf   relh   drct  sknt  p01i   alti    mslp  vsby  \\\ndate       time                                                                \n2016-01-01 00    51.98  42.08  68.86  320.0  10.0   0.0  30.19  1022.5  10.0   \n           01    50.00  41.00  71.07  330.0   7.0   0.0  30.18  1022.2  10.0   \n           02    48.92  41.00  73.99  310.0  12.0   0.0  30.18  1022.0  10.0   \n           03    46.94  39.92  76.43  320.0  13.0   0.0  30.17  1021.9  10.0   \n           04    46.04  39.02  76.35  320.0  10.0   0.0  30.18  1022.0  10.0   \n...                ...    ...    ...    ...   ...   ...    ...     ...   ...   \n2017-12-30 19    50.00  32.00  49.81  290.0  12.0   0.0  30.07  1018.6  10.0   \n           20    51.10  32.00  47.81  300.0  11.0   0.0  30.06  1018.6  10.0   \n           21    48.00  30.90  51.34  300.0  11.0   0.0  30.07  1018.9  10.0   \n           22    46.00  30.90  55.36  290.0   9.0   0.0  30.07  1018.9  10.0   \n           23    44.10  30.00  57.37  320.0   7.0   0.0  30.08  1019.5  10.0   \n\n                 gust  ...  EVENT_FG  EVENT_FU  EVENT_GR  EVENT_GS  EVENT_HZ  \\\ndate       time        ...                                                     \n2016-01-01 00     NaN  ...       0.0       0.0       0.0       0.0       0.0   \n           01     NaN  ...       0.0       0.0       0.0       0.0       0.0   \n           02     NaN  ...       0.0       0.0       0.0       0.0       0.0   \n           03     NaN  ...       0.0       0.0       0.0       0.0       0.0   \n           04     NaN  ...       0.0       0.0       0.0       0.0       0.0   \n...               ...  ...       ...       ...       ...       ...       ...   \n2017-12-30 19    20.5  ...       0.0       0.0       0.0       0.0       0.0   \n           20     NaN  ...       0.0       0.0       0.0       0.0       0.0   \n           21    16.0  ...       0.0       0.0       0.0       0.0       0.0   \n           22     NaN  ...       0.0       0.0       0.0       0.0       0.0   \n           23     NaN  ...       0.0       0.0       0.0       0.0       0.0   \n\n                 EVENT_IC  EVENT_RA  EVENT_SG  EVENT_SN  EVENT_TS  \ndate       time                                                    \n2016-01-01 00         0.0       0.0       0.0       0.0       0.0  \n           01         0.0       0.0       0.0       0.0       0.0  \n           02         0.0       0.0       0.0       0.0       0.0  \n           03         0.0       0.0       0.0       0.0       0.0  \n           04         0.0       0.0       0.0       0.0       0.0  \n...                   ...       ...       ...       ...       ...  \n2017-12-30 19         0.0       0.0       0.0       0.0       0.0  \n           20         0.0       0.0       0.0       0.0       0.0  \n           21         0.0       0.0       0.0       0.0       0.0  \n           22         0.0       0.0       0.0       0.0       0.0  \n           23         0.0       0.0       0.0       0.0       0.0  \n\n[17520 rows x 32 columns]",
      "text/html": "<div>\n<style scoped>\n    .dataframe tbody tr th:only-of-type {\n        vertical-align: middle;\n    }\n\n    .dataframe tbody tr th {\n        vertical-align: top;\n    }\n\n    .dataframe thead th {\n        text-align: right;\n    }\n</style>\n<table border=\"1\" class=\"dataframe\">\n  <thead>\n    <tr style=\"text-align: right;\">\n      <th></th>\n      <th></th>\n      <th>tmpf</th>\n      <th>dwpf</th>\n      <th>relh</th>\n      <th>drct</th>\n      <th>sknt</th>\n      <th>p01i</th>\n      <th>alti</th>\n      <th>mslp</th>\n      <th>vsby</th>\n      <th>gust</th>\n      <th>...</th>\n      <th>EVENT_FG</th>\n      <th>EVENT_FU</th>\n      <th>EVENT_GR</th>\n      <th>EVENT_GS</th>\n      <th>EVENT_HZ</th>\n      <th>EVENT_IC</th>\n      <th>EVENT_RA</th>\n      <th>EVENT_SG</th>\n      <th>EVENT_SN</th>\n      <th>EVENT_TS</th>\n    </tr>\n    <tr>\n      <th>date</th>\n      <th>time</th>\n      <th></th>\n      <th></th>\n      <th></th>\n      <th></th>\n      <th></th>\n      <th></th>\n      <th></th>\n      <th></th>\n      <th></th>\n      <th></th>\n      <th></th>\n      <th></th>\n      <th></th>\n      <th></th>\n      <th></th>\n      <th></th>\n      <th></th>\n      <th></th>\n      <th></th>\n      <th></th>\n      <th></th>\n    </tr>\n  </thead>\n  <tbody>\n    <tr>\n      <th rowspan=\"5\" valign=\"top\">2016-01-01</th>\n      <th>00</th>\n      <td>51.98</td>\n      <td>42.08</td>\n      <td>68.86</td>\n      <td>320.0</td>\n      <td>10.0</td>\n      <td>0.0</td>\n      <td>30.19</td>\n      <td>1022.5</td>\n      <td>10.0</td>\n      <td>NaN</td>\n      <td>...</td>\n      <td>0.0</td>\n      <td>0.0</td>\n      <td>0.0</td>\n      <td>0.0</td>\n      <td>0.0</td>\n      <td>0.0</td>\n      <td>0.0</td>\n      <td>0.0</td>\n      <td>0.0</td>\n      <td>0.0</td>\n    </tr>\n    <tr>\n      <th>01</th>\n      <td>50.00</td>\n      <td>41.00</td>\n      <td>71.07</td>\n      <td>330.0</td>\n      <td>7.0</td>\n      <td>0.0</td>\n      <td>30.18</td>\n      <td>1022.2</td>\n      <td>10.0</td>\n      <td>NaN</td>\n      <td>...</td>\n      <td>0.0</td>\n      <td>0.0</td>\n      <td>0.0</td>\n      <td>0.0</td>\n      <td>0.0</td>\n      <td>0.0</td>\n      <td>0.0</td>\n      <td>0.0</td>\n      <td>0.0</td>\n      <td>0.0</td>\n    </tr>\n    <tr>\n      <th>02</th>\n      <td>48.92</td>\n      <td>41.00</td>\n      <td>73.99</td>\n      <td>310.0</td>\n      <td>12.0</td>\n      <td>0.0</td>\n      <td>30.18</td>\n      <td>1022.0</td>\n      <td>10.0</td>\n      <td>NaN</td>\n      <td>...</td>\n      <td>0.0</td>\n      <td>0.0</td>\n      <td>0.0</td>\n      <td>0.0</td>\n      <td>0.0</td>\n      <td>0.0</td>\n      <td>0.0</td>\n      <td>0.0</td>\n      <td>0.0</td>\n      <td>0.0</td>\n    </tr>\n    <tr>\n      <th>03</th>\n      <td>46.94</td>\n      <td>39.92</td>\n      <td>76.43</td>\n      <td>320.0</td>\n      <td>13.0</td>\n      <td>0.0</td>\n      <td>30.17</td>\n      <td>1021.9</td>\n      <td>10.0</td>\n      <td>NaN</td>\n      <td>...</td>\n      <td>0.0</td>\n      <td>0.0</td>\n      <td>0.0</td>\n      <td>0.0</td>\n      <td>0.0</td>\n      <td>0.0</td>\n      <td>0.0</td>\n      <td>0.0</td>\n      <td>0.0</td>\n      <td>0.0</td>\n    </tr>\n    <tr>\n      <th>04</th>\n      <td>46.04</td>\n      <td>39.02</td>\n      <td>76.35</td>\n      <td>320.0</td>\n      <td>10.0</td>\n      <td>0.0</td>\n      <td>30.18</td>\n      <td>1022.0</td>\n      <td>10.0</td>\n      <td>NaN</td>\n      <td>...</td>\n      <td>0.0</td>\n      <td>0.0</td>\n      <td>0.0</td>\n      <td>0.0</td>\n      <td>0.0</td>\n      <td>0.0</td>\n      <td>0.0</td>\n      <td>0.0</td>\n      <td>0.0</td>\n      <td>0.0</td>\n    </tr>\n    <tr>\n      <th>...</th>\n      <th>...</th>\n      <td>...</td>\n      <td>...</td>\n      <td>...</td>\n      <td>...</td>\n      <td>...</td>\n      <td>...</td>\n      <td>...</td>\n      <td>...</td>\n      <td>...</td>\n      <td>...</td>\n      <td>...</td>\n      <td>...</td>\n      <td>...</td>\n      <td>...</td>\n      <td>...</td>\n      <td>...</td>\n      <td>...</td>\n      <td>...</td>\n      <td>...</td>\n      <td>...</td>\n      <td>...</td>\n    </tr>\n    <tr>\n      <th rowspan=\"5\" valign=\"top\">2017-12-30</th>\n      <th>19</th>\n      <td>50.00</td>\n      <td>32.00</td>\n      <td>49.81</td>\n      <td>290.0</td>\n      <td>12.0</td>\n      <td>0.0</td>\n      <td>30.07</td>\n      <td>1018.6</td>\n      <td>10.0</td>\n      <td>20.5</td>\n      <td>...</td>\n      <td>0.0</td>\n      <td>0.0</td>\n      <td>0.0</td>\n      <td>0.0</td>\n      <td>0.0</td>\n      <td>0.0</td>\n      <td>0.0</td>\n      <td>0.0</td>\n      <td>0.0</td>\n      <td>0.0</td>\n    </tr>\n    <tr>\n      <th>20</th>\n      <td>51.10</td>\n      <td>32.00</td>\n      <td>47.81</td>\n      <td>300.0</td>\n      <td>11.0</td>\n      <td>0.0</td>\n      <td>30.06</td>\n      <td>1018.6</td>\n      <td>10.0</td>\n      <td>NaN</td>\n      <td>...</td>\n      <td>0.0</td>\n      <td>0.0</td>\n      <td>0.0</td>\n      <td>0.0</td>\n      <td>0.0</td>\n      <td>0.0</td>\n      <td>0.0</td>\n      <td>0.0</td>\n      <td>0.0</td>\n      <td>0.0</td>\n    </tr>\n    <tr>\n      <th>21</th>\n      <td>48.00</td>\n      <td>30.90</td>\n      <td>51.34</td>\n      <td>300.0</td>\n      <td>11.0</td>\n      <td>0.0</td>\n      <td>30.07</td>\n      <td>1018.9</td>\n      <td>10.0</td>\n      <td>16.0</td>\n      <td>...</td>\n      <td>0.0</td>\n      <td>0.0</td>\n      <td>0.0</td>\n      <td>0.0</td>\n      <td>0.0</td>\n      <td>0.0</td>\n      <td>0.0</td>\n      <td>0.0</td>\n      <td>0.0</td>\n      <td>0.0</td>\n    </tr>\n    <tr>\n      <th>22</th>\n      <td>46.00</td>\n      <td>30.90</td>\n      <td>55.36</td>\n      <td>290.0</td>\n      <td>9.0</td>\n      <td>0.0</td>\n      <td>30.07</td>\n      <td>1018.9</td>\n      <td>10.0</td>\n      <td>NaN</td>\n      <td>...</td>\n      <td>0.0</td>\n      <td>0.0</td>\n      <td>0.0</td>\n      <td>0.0</td>\n      <td>0.0</td>\n      <td>0.0</td>\n      <td>0.0</td>\n      <td>0.0</td>\n      <td>0.0</td>\n      <td>0.0</td>\n    </tr>\n    <tr>\n      <th>23</th>\n      <td>44.10</td>\n      <td>30.00</td>\n      <td>57.37</td>\n      <td>320.0</td>\n      <td>7.0</td>\n      <td>0.0</td>\n      <td>30.08</td>\n      <td>1019.5</td>\n      <td>10.0</td>\n      <td>NaN</td>\n      <td>...</td>\n      <td>0.0</td>\n      <td>0.0</td>\n      <td>0.0</td>\n      <td>0.0</td>\n      <td>0.0</td>\n      <td>0.0</td>\n      <td>0.0</td>\n      <td>0.0</td>\n      <td>0.0</td>\n      <td>0.0</td>\n    </tr>\n  </tbody>\n</table>\n<p>17520 rows × 32 columns</p>\n</div>"
     },
     "execution_count": 111,
     "metadata": {},
     "output_type": "execute_result"
    }
   ],
   "source": [
    "num_df = atl_weather_df[num_cols + [\"date\",\"time\"]].groupby([\"date\",\"time\"]).median()\n",
    "num_df"
   ],
   "metadata": {
    "collapsed": false,
    "pycharm": {
     "name": "#%%\n"
    }
   }
  },
  {
   "cell_type": "code",
   "execution_count": 112,
   "outputs": [
    {
     "name": "stdout",
     "output_type": "stream",
     "text": [
      "Counting non-null percentage per column\n",
      "tmpf:\t1.0\n",
      "dwpf:\t1.0\n",
      "relh:\t1.0\n",
      "drct:\t1.0\n",
      "sknt:\t1.0\n",
      "p01i:\t0.95\n",
      "alti:\t1.0\n",
      "mslp:\t1.0\n",
      "vsby:\t1.0\n",
      "gust:\t0.16\n",
      "skyl1:\t0.87\n",
      "skyl2:\t0.61\n",
      "skyl3:\t0.36\n",
      "skyl4:\t0.09\n",
      "ice_accretion_1hr:\t0.0\n",
      "ice_accretion_3hr:\t0.0\n",
      "ice_accretion_6hr:\t0.0\n",
      "peak_wind_gust:\t0.03\n",
      "peak_wind_drct:\t0.03\n",
      "feel:\t1.0\n",
      "EVENT_BR:\t1.0\n",
      "EVENT_DZ:\t1.0\n",
      "EVENT_FG:\t1.0\n",
      "EVENT_FU:\t1.0\n",
      "EVENT_GR:\t1.0\n",
      "EVENT_GS:\t1.0\n",
      "EVENT_HZ:\t1.0\n",
      "EVENT_IC:\t1.0\n",
      "EVENT_RA:\t1.0\n",
      "EVENT_SG:\t1.0\n",
      "EVENT_SN:\t1.0\n",
      "EVENT_TS:\t1.0\n",
      "skyc1:\t1.0\n",
      "skyc2:\t0.61\n",
      "skyc3:\t0.36\n",
      "skyc4:\t0.09\n",
      "wxcodes:\t0.13\n",
      "peak_wind_time:\t0.03\n"
     ]
    }
   ],
   "source": [
    "atl_weather_df = num_df.join(str_df)\n",
    "print_inv_nan_perc(atl_weather_df)"
   ],
   "metadata": {
    "collapsed": false,
    "pycharm": {
     "name": "#%%\n"
    }
   }
  },
  {
   "cell_type": "code",
   "execution_count": 113,
   "outputs": [
    {
     "data": {
      "text/plain": "                  tmpf   dwpf   relh   drct  sknt  p01i   alti    mslp  vsby  \\\ndate       time                                                                \n2016-01-01 00    51.98  42.08  68.86  320.0  10.0   0.0  30.19  1022.5  10.0   \n           01    50.00  41.00  71.07  330.0   7.0   0.0  30.18  1022.2  10.0   \n           02    48.92  41.00  73.99  310.0  12.0   0.0  30.18  1022.0  10.0   \n           03    46.94  39.92  76.43  320.0  13.0   0.0  30.17  1021.9  10.0   \n           04    46.04  39.02  76.35  320.0  10.0   0.0  30.18  1022.0  10.0   \n...                ...    ...    ...    ...   ...   ...    ...     ...   ...   \n2017-12-30 19    50.00  32.00  49.81  290.0  12.0   0.0  30.07  1018.6  10.0   \n           20    51.10  32.00  47.81  300.0  11.0   0.0  30.06  1018.6  10.0   \n           21    48.00  30.90  51.34  300.0  11.0   0.0  30.07  1018.9  10.0   \n           22    46.00  30.90  55.36  290.0   9.0   0.0  30.07  1018.9  10.0   \n           23    44.10  30.00  57.37  320.0   7.0   0.0  30.08  1019.5  10.0   \n\n                 gust  ...  EVENT_IC  EVENT_RA  EVENT_SG  EVENT_SN  EVENT_TS  \\\ndate       time        ...                                                     \n2016-01-01 00     NaN  ...       0.0       0.0       0.0       0.0       0.0   \n           01     NaN  ...       0.0       0.0       0.0       0.0       0.0   \n           02     NaN  ...       0.0       0.0       0.0       0.0       0.0   \n           03     NaN  ...       0.0       0.0       0.0       0.0       0.0   \n           04     NaN  ...       0.0       0.0       0.0       0.0       0.0   \n...               ...  ...       ...       ...       ...       ...       ...   \n2017-12-30 19    20.5  ...       0.0       0.0       0.0       0.0       0.0   \n           20     NaN  ...       0.0       0.0       0.0       0.0       0.0   \n           21    16.0  ...       0.0       0.0       0.0       0.0       0.0   \n           22     NaN  ...       0.0       0.0       0.0       0.0       0.0   \n           23     NaN  ...       0.0       0.0       0.0       0.0       0.0   \n\n                 skyc1  skyc2  skyc3  skyc4  wxcodes  \ndate       time                                       \n2016-01-01 00      FEW    SCT    BKN    BKN      NaN  \n           01      SCT    BKN    BKN    NaN      NaN  \n           02      FEW    BKN    BKN    NaN      NaN  \n           03      FEW    SCT    BKN    NaN      NaN  \n           04      FEW    BKN    BKN    NaN      NaN  \n...                ...    ...    ...    ...      ...  \n2017-12-30 19      FEW    FEW    NaN    NaN      NaN  \n           20      FEW    NaN    NaN    NaN      NaN  \n           21      BKN    NaN    NaN    NaN      NaN  \n           22      CLR    BKN    NaN    NaN      NaN  \n           23      FEW    BKN    NaN    NaN      NaN  \n\n[17520 rows x 32 columns]",
      "text/html": "<div>\n<style scoped>\n    .dataframe tbody tr th:only-of-type {\n        vertical-align: middle;\n    }\n\n    .dataframe tbody tr th {\n        vertical-align: top;\n    }\n\n    .dataframe thead th {\n        text-align: right;\n    }\n</style>\n<table border=\"1\" class=\"dataframe\">\n  <thead>\n    <tr style=\"text-align: right;\">\n      <th></th>\n      <th></th>\n      <th>tmpf</th>\n      <th>dwpf</th>\n      <th>relh</th>\n      <th>drct</th>\n      <th>sknt</th>\n      <th>p01i</th>\n      <th>alti</th>\n      <th>mslp</th>\n      <th>vsby</th>\n      <th>gust</th>\n      <th>...</th>\n      <th>EVENT_IC</th>\n      <th>EVENT_RA</th>\n      <th>EVENT_SG</th>\n      <th>EVENT_SN</th>\n      <th>EVENT_TS</th>\n      <th>skyc1</th>\n      <th>skyc2</th>\n      <th>skyc3</th>\n      <th>skyc4</th>\n      <th>wxcodes</th>\n    </tr>\n    <tr>\n      <th>date</th>\n      <th>time</th>\n      <th></th>\n      <th></th>\n      <th></th>\n      <th></th>\n      <th></th>\n      <th></th>\n      <th></th>\n      <th></th>\n      <th></th>\n      <th></th>\n      <th></th>\n      <th></th>\n      <th></th>\n      <th></th>\n      <th></th>\n      <th></th>\n      <th></th>\n      <th></th>\n      <th></th>\n      <th></th>\n      <th></th>\n    </tr>\n  </thead>\n  <tbody>\n    <tr>\n      <th rowspan=\"5\" valign=\"top\">2016-01-01</th>\n      <th>00</th>\n      <td>51.98</td>\n      <td>42.08</td>\n      <td>68.86</td>\n      <td>320.0</td>\n      <td>10.0</td>\n      <td>0.0</td>\n      <td>30.19</td>\n      <td>1022.5</td>\n      <td>10.0</td>\n      <td>NaN</td>\n      <td>...</td>\n      <td>0.0</td>\n      <td>0.0</td>\n      <td>0.0</td>\n      <td>0.0</td>\n      <td>0.0</td>\n      <td>FEW</td>\n      <td>SCT</td>\n      <td>BKN</td>\n      <td>BKN</td>\n      <td>NaN</td>\n    </tr>\n    <tr>\n      <th>01</th>\n      <td>50.00</td>\n      <td>41.00</td>\n      <td>71.07</td>\n      <td>330.0</td>\n      <td>7.0</td>\n      <td>0.0</td>\n      <td>30.18</td>\n      <td>1022.2</td>\n      <td>10.0</td>\n      <td>NaN</td>\n      <td>...</td>\n      <td>0.0</td>\n      <td>0.0</td>\n      <td>0.0</td>\n      <td>0.0</td>\n      <td>0.0</td>\n      <td>SCT</td>\n      <td>BKN</td>\n      <td>BKN</td>\n      <td>NaN</td>\n      <td>NaN</td>\n    </tr>\n    <tr>\n      <th>02</th>\n      <td>48.92</td>\n      <td>41.00</td>\n      <td>73.99</td>\n      <td>310.0</td>\n      <td>12.0</td>\n      <td>0.0</td>\n      <td>30.18</td>\n      <td>1022.0</td>\n      <td>10.0</td>\n      <td>NaN</td>\n      <td>...</td>\n      <td>0.0</td>\n      <td>0.0</td>\n      <td>0.0</td>\n      <td>0.0</td>\n      <td>0.0</td>\n      <td>FEW</td>\n      <td>BKN</td>\n      <td>BKN</td>\n      <td>NaN</td>\n      <td>NaN</td>\n    </tr>\n    <tr>\n      <th>03</th>\n      <td>46.94</td>\n      <td>39.92</td>\n      <td>76.43</td>\n      <td>320.0</td>\n      <td>13.0</td>\n      <td>0.0</td>\n      <td>30.17</td>\n      <td>1021.9</td>\n      <td>10.0</td>\n      <td>NaN</td>\n      <td>...</td>\n      <td>0.0</td>\n      <td>0.0</td>\n      <td>0.0</td>\n      <td>0.0</td>\n      <td>0.0</td>\n      <td>FEW</td>\n      <td>SCT</td>\n      <td>BKN</td>\n      <td>NaN</td>\n      <td>NaN</td>\n    </tr>\n    <tr>\n      <th>04</th>\n      <td>46.04</td>\n      <td>39.02</td>\n      <td>76.35</td>\n      <td>320.0</td>\n      <td>10.0</td>\n      <td>0.0</td>\n      <td>30.18</td>\n      <td>1022.0</td>\n      <td>10.0</td>\n      <td>NaN</td>\n      <td>...</td>\n      <td>0.0</td>\n      <td>0.0</td>\n      <td>0.0</td>\n      <td>0.0</td>\n      <td>0.0</td>\n      <td>FEW</td>\n      <td>BKN</td>\n      <td>BKN</td>\n      <td>NaN</td>\n      <td>NaN</td>\n    </tr>\n    <tr>\n      <th>...</th>\n      <th>...</th>\n      <td>...</td>\n      <td>...</td>\n      <td>...</td>\n      <td>...</td>\n      <td>...</td>\n      <td>...</td>\n      <td>...</td>\n      <td>...</td>\n      <td>...</td>\n      <td>...</td>\n      <td>...</td>\n      <td>...</td>\n      <td>...</td>\n      <td>...</td>\n      <td>...</td>\n      <td>...</td>\n      <td>...</td>\n      <td>...</td>\n      <td>...</td>\n      <td>...</td>\n      <td>...</td>\n    </tr>\n    <tr>\n      <th rowspan=\"5\" valign=\"top\">2017-12-30</th>\n      <th>19</th>\n      <td>50.00</td>\n      <td>32.00</td>\n      <td>49.81</td>\n      <td>290.0</td>\n      <td>12.0</td>\n      <td>0.0</td>\n      <td>30.07</td>\n      <td>1018.6</td>\n      <td>10.0</td>\n      <td>20.5</td>\n      <td>...</td>\n      <td>0.0</td>\n      <td>0.0</td>\n      <td>0.0</td>\n      <td>0.0</td>\n      <td>0.0</td>\n      <td>FEW</td>\n      <td>FEW</td>\n      <td>NaN</td>\n      <td>NaN</td>\n      <td>NaN</td>\n    </tr>\n    <tr>\n      <th>20</th>\n      <td>51.10</td>\n      <td>32.00</td>\n      <td>47.81</td>\n      <td>300.0</td>\n      <td>11.0</td>\n      <td>0.0</td>\n      <td>30.06</td>\n      <td>1018.6</td>\n      <td>10.0</td>\n      <td>NaN</td>\n      <td>...</td>\n      <td>0.0</td>\n      <td>0.0</td>\n      <td>0.0</td>\n      <td>0.0</td>\n      <td>0.0</td>\n      <td>FEW</td>\n      <td>NaN</td>\n      <td>NaN</td>\n      <td>NaN</td>\n      <td>NaN</td>\n    </tr>\n    <tr>\n      <th>21</th>\n      <td>48.00</td>\n      <td>30.90</td>\n      <td>51.34</td>\n      <td>300.0</td>\n      <td>11.0</td>\n      <td>0.0</td>\n      <td>30.07</td>\n      <td>1018.9</td>\n      <td>10.0</td>\n      <td>16.0</td>\n      <td>...</td>\n      <td>0.0</td>\n      <td>0.0</td>\n      <td>0.0</td>\n      <td>0.0</td>\n      <td>0.0</td>\n      <td>BKN</td>\n      <td>NaN</td>\n      <td>NaN</td>\n      <td>NaN</td>\n      <td>NaN</td>\n    </tr>\n    <tr>\n      <th>22</th>\n      <td>46.00</td>\n      <td>30.90</td>\n      <td>55.36</td>\n      <td>290.0</td>\n      <td>9.0</td>\n      <td>0.0</td>\n      <td>30.07</td>\n      <td>1018.9</td>\n      <td>10.0</td>\n      <td>NaN</td>\n      <td>...</td>\n      <td>0.0</td>\n      <td>0.0</td>\n      <td>0.0</td>\n      <td>0.0</td>\n      <td>0.0</td>\n      <td>CLR</td>\n      <td>BKN</td>\n      <td>NaN</td>\n      <td>NaN</td>\n      <td>NaN</td>\n    </tr>\n    <tr>\n      <th>23</th>\n      <td>44.10</td>\n      <td>30.00</td>\n      <td>57.37</td>\n      <td>320.0</td>\n      <td>7.0</td>\n      <td>0.0</td>\n      <td>30.08</td>\n      <td>1019.5</td>\n      <td>10.0</td>\n      <td>NaN</td>\n      <td>...</td>\n      <td>0.0</td>\n      <td>0.0</td>\n      <td>0.0</td>\n      <td>0.0</td>\n      <td>0.0</td>\n      <td>FEW</td>\n      <td>BKN</td>\n      <td>NaN</td>\n      <td>NaN</td>\n      <td>NaN</td>\n    </tr>\n  </tbody>\n</table>\n<p>17520 rows × 32 columns</p>\n</div>"
     },
     "execution_count": 113,
     "metadata": {},
     "output_type": "execute_result"
    }
   ],
   "source": [
    "atl_weather_df = atl_weather_df.drop([\"peak_wind_time\",\"peak_wind_gust\",\"peak_wind_drct\",\"ice_accretion_1hr\", \"ice_accretion_3hr\",\"ice_accretion_6hr\"], axis=\"columns\")\n",
    "atl_weather_df\n",
    "#TODO\n",
    "#MEDIAN IS WRONG HERE FOR THE ONE HOT ENCODED DATA"
   ],
   "metadata": {
    "collapsed": false,
    "pycharm": {
     "name": "#%%\n"
    }
   }
  },
  {
   "cell_type": "markdown",
   "source": [
    "# Atlanta NOTAM Data\n",
    "## Introduction\n",
    "NOTAM stands for \"Notice to Airmen\" and describes messages concerning the state of an airport or other important messages for pilots.\n",
    "Data has been gathered from: __[https://notams.aim.faa.gov/notamSearch/nsapp.html#/](https://notams.aim.faa.gov/notamSearch/nsapp.html#/)__\n",
    "\n",
    "\n",
    "## Dropped\n",
    "- Cancel Date (No Use)\n",
    "- Effective Date (No Use)\n",
    "- Expiration Date (No Use)\n",
    "- Location (Redundant)\n",
    "- NOTA # (No Use)\n",
    "\n",
    "## TBD\n",
    "- NOTAM Condition or LTA Subject (Finding way to gather information)"
   ],
   "metadata": {
    "collapsed": false,
    "pycharm": {
     "name": "#%% md\n"
    }
   }
  },
  {
   "cell_type": "code",
   "execution_count": 55,
   "outputs": [
    {
     "data": {
      "text/plain": "      Location NOTAM #          Class Issue Date (UTC) Effective Date (UTC)  \\\n0          ATL  04/107  Communication  04/19/2016 1648      04/19/2016 1648   \n1          ATL  6/4595      Procedure  12/22/2016 2135      12/23/2016 1000   \n2          ATL  6/4598      Procedure  12/22/2016 2135      12/23/2016 1000   \n3          ATL  6/4601      Procedure  12/22/2016 2135      12/23/2016 1000   \n4          ATL  6/4603      Procedure  12/22/2016 2136      12/23/2016 1000   \n...        ...     ...            ...              ...                  ...   \n16158      ATL  11/142    Obstruction  11/16/2017 1500      11/16/2017 1500   \n16159      ATL  7/5192      Procedure  10/16/2017 1355      10/17/2017 0500   \n16160      ATL  12/231    Obstruction  12/18/2017 1317      12/18/2017 1316   \n16161      ATL  12/308      Aerodrome  12/28/2017 2301      12/28/2017 2301   \n16162      ATL  12/304      Aerodrome  12/27/2017 1330      12/27/2017 1329   \n\n      Cancel Date (UTC) Expiration Date (UTC)  \\\n0                   NaN                  PERM   \n1                   NaN       08/17/2017 1000   \n2                   NaN       08/17/2017 1000   \n3                   NaN       08/17/2017 1000   \n4                   NaN       08/17/2017 1000   \n...                 ...                   ...   \n16158   02/23/2018 1644       02/27/2018 2359   \n16159               NaN       02/01/2018 0900   \n16160   01/17/2018 0703       01/17/2018 1200   \n16161   01/03/2018 0619       01/12/2018 2301   \n16162               NaN       01/02/2018 0500   \n\n                          NOTAM Condition or LTA Subject  \n0      !ATL 04/107 ATL COM REMOTE TRANSMITTER/RECEIVE...  \n1      !FDC 6/4595 ATL CANCELLED BY FDC 7/3089 ON 08/...  \n2      !FDC 6/4598 ATL CANCELLED BY FDC 7/3090 ON 08/...  \n3      !FDC 6/4601 ATL CANCELLED BY FDC 7/3088 ON 08/...  \n4      !FDC 6/4603 ATL CANCELLED BY FDC 7/3091 ON 08/...  \n...                                                  ...  \n16158  !ATL 11/142 ATL OBST TOWER LGT (ASR 1022036) 3...  \n16159  !FDC 7/5192 ATL CANCELLED BY FDC 8/4084 ON 02/...  \n16160  !ATL 12/231 ATL OBST TOWER LGT (ASR 1047185) 3...  \n16161  !ATL 12/308 ATL AD AP ABN OUT OF SERVICE 17122...  \n16162  !ATL 12/304 ATL AD AP BIRD ACT INCREASED FORMA...  \n\n[16163 rows x 8 columns]",
      "text/html": "<div>\n<style scoped>\n    .dataframe tbody tr th:only-of-type {\n        vertical-align: middle;\n    }\n\n    .dataframe tbody tr th {\n        vertical-align: top;\n    }\n\n    .dataframe thead th {\n        text-align: right;\n    }\n</style>\n<table border=\"1\" class=\"dataframe\">\n  <thead>\n    <tr style=\"text-align: right;\">\n      <th></th>\n      <th>Location</th>\n      <th>NOTAM #</th>\n      <th>Class</th>\n      <th>Issue Date (UTC)</th>\n      <th>Effective Date (UTC)</th>\n      <th>Cancel Date (UTC)</th>\n      <th>Expiration Date (UTC)</th>\n      <th>NOTAM Condition or LTA Subject</th>\n    </tr>\n  </thead>\n  <tbody>\n    <tr>\n      <th>0</th>\n      <td>ATL</td>\n      <td>04/107</td>\n      <td>Communication</td>\n      <td>04/19/2016 1648</td>\n      <td>04/19/2016 1648</td>\n      <td>NaN</td>\n      <td>PERM</td>\n      <td>!ATL 04/107 ATL COM REMOTE TRANSMITTER/RECEIVE...</td>\n    </tr>\n    <tr>\n      <th>1</th>\n      <td>ATL</td>\n      <td>6/4595</td>\n      <td>Procedure</td>\n      <td>12/22/2016 2135</td>\n      <td>12/23/2016 1000</td>\n      <td>NaN</td>\n      <td>08/17/2017 1000</td>\n      <td>!FDC 6/4595 ATL CANCELLED BY FDC 7/3089 ON 08/...</td>\n    </tr>\n    <tr>\n      <th>2</th>\n      <td>ATL</td>\n      <td>6/4598</td>\n      <td>Procedure</td>\n      <td>12/22/2016 2135</td>\n      <td>12/23/2016 1000</td>\n      <td>NaN</td>\n      <td>08/17/2017 1000</td>\n      <td>!FDC 6/4598 ATL CANCELLED BY FDC 7/3090 ON 08/...</td>\n    </tr>\n    <tr>\n      <th>3</th>\n      <td>ATL</td>\n      <td>6/4601</td>\n      <td>Procedure</td>\n      <td>12/22/2016 2135</td>\n      <td>12/23/2016 1000</td>\n      <td>NaN</td>\n      <td>08/17/2017 1000</td>\n      <td>!FDC 6/4601 ATL CANCELLED BY FDC 7/3088 ON 08/...</td>\n    </tr>\n    <tr>\n      <th>4</th>\n      <td>ATL</td>\n      <td>6/4603</td>\n      <td>Procedure</td>\n      <td>12/22/2016 2136</td>\n      <td>12/23/2016 1000</td>\n      <td>NaN</td>\n      <td>08/17/2017 1000</td>\n      <td>!FDC 6/4603 ATL CANCELLED BY FDC 7/3091 ON 08/...</td>\n    </tr>\n    <tr>\n      <th>...</th>\n      <td>...</td>\n      <td>...</td>\n      <td>...</td>\n      <td>...</td>\n      <td>...</td>\n      <td>...</td>\n      <td>...</td>\n      <td>...</td>\n    </tr>\n    <tr>\n      <th>16158</th>\n      <td>ATL</td>\n      <td>11/142</td>\n      <td>Obstruction</td>\n      <td>11/16/2017 1500</td>\n      <td>11/16/2017 1500</td>\n      <td>02/23/2018 1644</td>\n      <td>02/27/2018 2359</td>\n      <td>!ATL 11/142 ATL OBST TOWER LGT (ASR 1022036) 3...</td>\n    </tr>\n    <tr>\n      <th>16159</th>\n      <td>ATL</td>\n      <td>7/5192</td>\n      <td>Procedure</td>\n      <td>10/16/2017 1355</td>\n      <td>10/17/2017 0500</td>\n      <td>NaN</td>\n      <td>02/01/2018 0900</td>\n      <td>!FDC 7/5192 ATL CANCELLED BY FDC 8/4084 ON 02/...</td>\n    </tr>\n    <tr>\n      <th>16160</th>\n      <td>ATL</td>\n      <td>12/231</td>\n      <td>Obstruction</td>\n      <td>12/18/2017 1317</td>\n      <td>12/18/2017 1316</td>\n      <td>01/17/2018 0703</td>\n      <td>01/17/2018 1200</td>\n      <td>!ATL 12/231 ATL OBST TOWER LGT (ASR 1047185) 3...</td>\n    </tr>\n    <tr>\n      <th>16161</th>\n      <td>ATL</td>\n      <td>12/308</td>\n      <td>Aerodrome</td>\n      <td>12/28/2017 2301</td>\n      <td>12/28/2017 2301</td>\n      <td>01/03/2018 0619</td>\n      <td>01/12/2018 2301</td>\n      <td>!ATL 12/308 ATL AD AP ABN OUT OF SERVICE 17122...</td>\n    </tr>\n    <tr>\n      <th>16162</th>\n      <td>ATL</td>\n      <td>12/304</td>\n      <td>Aerodrome</td>\n      <td>12/27/2017 1330</td>\n      <td>12/27/2017 1329</td>\n      <td>NaN</td>\n      <td>01/02/2018 0500</td>\n      <td>!ATL 12/304 ATL AD AP BIRD ACT INCREASED FORMA...</td>\n    </tr>\n  </tbody>\n</table>\n<p>16163 rows × 8 columns</p>\n</div>"
     },
     "execution_count": 55,
     "metadata": {},
     "output_type": "execute_result"
    }
   ],
   "source": [
    "path = \"data_raw/notams/katl/*/*.csv\"\n",
    "all_files = glob.glob(path)\n",
    "li = []\n",
    "for filename in all_files:\n",
    "    df = pd.read_csv(filename, sep=\";\", on_bad_lines=\"skip\")\n",
    "    if len(df.columns) <= 1:\n",
    "        df = pd.read_csv(filename, sep=\",\", on_bad_lines=\"skip\")\n",
    "    if any(\"Unnamed\" in col for col in df.columns):\n",
    "        done = False\n",
    "        count = 0\n",
    "        while not done:\n",
    "            df = pd.read_csv(filename, on_bad_lines=\"skip\", header = count)\n",
    "            if not any(\"Unnamed\" in col for col in df.columns):\n",
    "                done = True\n",
    "            count += 1\n",
    "    li.append(df)\n",
    "li\n",
    "atl_notam_df = pd.concat(li, axis=0, ignore_index=True)\n",
    "atl_notam_df"
   ],
   "metadata": {
    "collapsed": false,
    "pycharm": {
     "name": "#%%\n"
    }
   }
  },
  {
   "cell_type": "code",
   "execution_count": 56,
   "outputs": [
    {
     "data": {
      "text/plain": "               Class Issue Date (UTC)  \\\n0      Communication  04/19/2016 1648   \n1          Procedure  12/22/2016 2135   \n2          Procedure  12/22/2016 2135   \n3          Procedure  12/22/2016 2135   \n4          Procedure  12/22/2016 2136   \n...              ...              ...   \n16158    Obstruction  11/16/2017 1500   \n16159      Procedure  10/16/2017 1355   \n16160    Obstruction  12/18/2017 1317   \n16161      Aerodrome  12/28/2017 2301   \n16162      Aerodrome  12/27/2017 1330   \n\n                          NOTAM Condition or LTA Subject  \n0      !ATL 04/107 ATL COM REMOTE TRANSMITTER/RECEIVE...  \n1      !FDC 6/4595 ATL CANCELLED BY FDC 7/3089 ON 08/...  \n2      !FDC 6/4598 ATL CANCELLED BY FDC 7/3090 ON 08/...  \n3      !FDC 6/4601 ATL CANCELLED BY FDC 7/3088 ON 08/...  \n4      !FDC 6/4603 ATL CANCELLED BY FDC 7/3091 ON 08/...  \n...                                                  ...  \n16158  !ATL 11/142 ATL OBST TOWER LGT (ASR 1022036) 3...  \n16159  !FDC 7/5192 ATL CANCELLED BY FDC 8/4084 ON 02/...  \n16160  !ATL 12/231 ATL OBST TOWER LGT (ASR 1047185) 3...  \n16161  !ATL 12/308 ATL AD AP ABN OUT OF SERVICE 17122...  \n16162  !ATL 12/304 ATL AD AP BIRD ACT INCREASED FORMA...  \n\n[16163 rows x 3 columns]",
      "text/html": "<div>\n<style scoped>\n    .dataframe tbody tr th:only-of-type {\n        vertical-align: middle;\n    }\n\n    .dataframe tbody tr th {\n        vertical-align: top;\n    }\n\n    .dataframe thead th {\n        text-align: right;\n    }\n</style>\n<table border=\"1\" class=\"dataframe\">\n  <thead>\n    <tr style=\"text-align: right;\">\n      <th></th>\n      <th>Class</th>\n      <th>Issue Date (UTC)</th>\n      <th>NOTAM Condition or LTA Subject</th>\n    </tr>\n  </thead>\n  <tbody>\n    <tr>\n      <th>0</th>\n      <td>Communication</td>\n      <td>04/19/2016 1648</td>\n      <td>!ATL 04/107 ATL COM REMOTE TRANSMITTER/RECEIVE...</td>\n    </tr>\n    <tr>\n      <th>1</th>\n      <td>Procedure</td>\n      <td>12/22/2016 2135</td>\n      <td>!FDC 6/4595 ATL CANCELLED BY FDC 7/3089 ON 08/...</td>\n    </tr>\n    <tr>\n      <th>2</th>\n      <td>Procedure</td>\n      <td>12/22/2016 2135</td>\n      <td>!FDC 6/4598 ATL CANCELLED BY FDC 7/3090 ON 08/...</td>\n    </tr>\n    <tr>\n      <th>3</th>\n      <td>Procedure</td>\n      <td>12/22/2016 2135</td>\n      <td>!FDC 6/4601 ATL CANCELLED BY FDC 7/3088 ON 08/...</td>\n    </tr>\n    <tr>\n      <th>4</th>\n      <td>Procedure</td>\n      <td>12/22/2016 2136</td>\n      <td>!FDC 6/4603 ATL CANCELLED BY FDC 7/3091 ON 08/...</td>\n    </tr>\n    <tr>\n      <th>...</th>\n      <td>...</td>\n      <td>...</td>\n      <td>...</td>\n    </tr>\n    <tr>\n      <th>16158</th>\n      <td>Obstruction</td>\n      <td>11/16/2017 1500</td>\n      <td>!ATL 11/142 ATL OBST TOWER LGT (ASR 1022036) 3...</td>\n    </tr>\n    <tr>\n      <th>16159</th>\n      <td>Procedure</td>\n      <td>10/16/2017 1355</td>\n      <td>!FDC 7/5192 ATL CANCELLED BY FDC 8/4084 ON 02/...</td>\n    </tr>\n    <tr>\n      <th>16160</th>\n      <td>Obstruction</td>\n      <td>12/18/2017 1317</td>\n      <td>!ATL 12/231 ATL OBST TOWER LGT (ASR 1047185) 3...</td>\n    </tr>\n    <tr>\n      <th>16161</th>\n      <td>Aerodrome</td>\n      <td>12/28/2017 2301</td>\n      <td>!ATL 12/308 ATL AD AP ABN OUT OF SERVICE 17122...</td>\n    </tr>\n    <tr>\n      <th>16162</th>\n      <td>Aerodrome</td>\n      <td>12/27/2017 1330</td>\n      <td>!ATL 12/304 ATL AD AP BIRD ACT INCREASED FORMA...</td>\n    </tr>\n  </tbody>\n</table>\n<p>16163 rows × 3 columns</p>\n</div>"
     },
     "execution_count": 56,
     "metadata": {},
     "output_type": "execute_result"
    }
   ],
   "source": [
    "atl_notam_df = atl_notam_df.drop(columns=[\"Location\",\"NOTAM #\", \"Cancel Date (UTC)\", \"Expiration Date (UTC)\", \"Effective Date (UTC)\"] ,axis=\"columns\")\n",
    "atl_notam_df"
   ],
   "metadata": {
    "collapsed": false,
    "pycharm": {
     "name": "#%%\n"
    }
   }
  },
  {
   "cell_type": "code",
   "execution_count": 57,
   "outputs": [
    {
     "data": {
      "text/plain": "               Class                     NOTAM Condition or LTA Subject  \\\n0      Communication  !ATL 04/107 ATL COM REMOTE TRANSMITTER/RECEIVE...   \n1          Procedure  !FDC 6/4595 ATL CANCELLED BY FDC 7/3089 ON 08/...   \n2          Procedure  !FDC 6/4598 ATL CANCELLED BY FDC 7/3090 ON 08/...   \n3          Procedure  !FDC 6/4601 ATL CANCELLED BY FDC 7/3088 ON 08/...   \n4          Procedure  !FDC 6/4603 ATL CANCELLED BY FDC 7/3091 ON 08/...   \n...              ...                                                ...   \n16158    Obstruction  !ATL 11/142 ATL OBST TOWER LGT (ASR 1022036) 3...   \n16159      Procedure  !FDC 7/5192 ATL CANCELLED BY FDC 8/4084 ON 02/...   \n16160    Obstruction  !ATL 12/231 ATL OBST TOWER LGT (ASR 1047185) 3...   \n16161      Aerodrome  !ATL 12/308 ATL AD AP ABN OUT OF SERVICE 17122...   \n16162      Aerodrome  !ATL 12/304 ATL AD AP BIRD ACT INCREASED FORMA...   \n\n       NOTAM_Date NOTA_Time  \n0      04/19/2016      1648  \n1      12/22/2016      2135  \n2      12/22/2016      2135  \n3      12/22/2016      2135  \n4      12/22/2016      2136  \n...           ...       ...  \n16158  11/16/2017      1500  \n16159  10/16/2017      1355  \n16160  12/18/2017      1317  \n16161  12/28/2017      2301  \n16162  12/27/2017      1330  \n\n[16163 rows x 4 columns]",
      "text/html": "<div>\n<style scoped>\n    .dataframe tbody tr th:only-of-type {\n        vertical-align: middle;\n    }\n\n    .dataframe tbody tr th {\n        vertical-align: top;\n    }\n\n    .dataframe thead th {\n        text-align: right;\n    }\n</style>\n<table border=\"1\" class=\"dataframe\">\n  <thead>\n    <tr style=\"text-align: right;\">\n      <th></th>\n      <th>Class</th>\n      <th>NOTAM Condition or LTA Subject</th>\n      <th>NOTAM_Date</th>\n      <th>NOTA_Time</th>\n    </tr>\n  </thead>\n  <tbody>\n    <tr>\n      <th>0</th>\n      <td>Communication</td>\n      <td>!ATL 04/107 ATL COM REMOTE TRANSMITTER/RECEIVE...</td>\n      <td>04/19/2016</td>\n      <td>1648</td>\n    </tr>\n    <tr>\n      <th>1</th>\n      <td>Procedure</td>\n      <td>!FDC 6/4595 ATL CANCELLED BY FDC 7/3089 ON 08/...</td>\n      <td>12/22/2016</td>\n      <td>2135</td>\n    </tr>\n    <tr>\n      <th>2</th>\n      <td>Procedure</td>\n      <td>!FDC 6/4598 ATL CANCELLED BY FDC 7/3090 ON 08/...</td>\n      <td>12/22/2016</td>\n      <td>2135</td>\n    </tr>\n    <tr>\n      <th>3</th>\n      <td>Procedure</td>\n      <td>!FDC 6/4601 ATL CANCELLED BY FDC 7/3088 ON 08/...</td>\n      <td>12/22/2016</td>\n      <td>2135</td>\n    </tr>\n    <tr>\n      <th>4</th>\n      <td>Procedure</td>\n      <td>!FDC 6/4603 ATL CANCELLED BY FDC 7/3091 ON 08/...</td>\n      <td>12/22/2016</td>\n      <td>2136</td>\n    </tr>\n    <tr>\n      <th>...</th>\n      <td>...</td>\n      <td>...</td>\n      <td>...</td>\n      <td>...</td>\n    </tr>\n    <tr>\n      <th>16158</th>\n      <td>Obstruction</td>\n      <td>!ATL 11/142 ATL OBST TOWER LGT (ASR 1022036) 3...</td>\n      <td>11/16/2017</td>\n      <td>1500</td>\n    </tr>\n    <tr>\n      <th>16159</th>\n      <td>Procedure</td>\n      <td>!FDC 7/5192 ATL CANCELLED BY FDC 8/4084 ON 02/...</td>\n      <td>10/16/2017</td>\n      <td>1355</td>\n    </tr>\n    <tr>\n      <th>16160</th>\n      <td>Obstruction</td>\n      <td>!ATL 12/231 ATL OBST TOWER LGT (ASR 1047185) 3...</td>\n      <td>12/18/2017</td>\n      <td>1317</td>\n    </tr>\n    <tr>\n      <th>16161</th>\n      <td>Aerodrome</td>\n      <td>!ATL 12/308 ATL AD AP ABN OUT OF SERVICE 17122...</td>\n      <td>12/28/2017</td>\n      <td>2301</td>\n    </tr>\n    <tr>\n      <th>16162</th>\n      <td>Aerodrome</td>\n      <td>!ATL 12/304 ATL AD AP BIRD ACT INCREASED FORMA...</td>\n      <td>12/27/2017</td>\n      <td>1330</td>\n    </tr>\n  </tbody>\n</table>\n<p>16163 rows × 4 columns</p>\n</div>"
     },
     "execution_count": 57,
     "metadata": {},
     "output_type": "execute_result"
    }
   ],
   "source": [
    "date = atl_notam_df[\"Issue Date (UTC)\"].apply(lambda x: x.split()[0])\n",
    "time = atl_notam_df[\"Issue Date (UTC)\"].apply(lambda x: x.split()[1])\n",
    "date_time = pd.concat([date, time], axis='columns')\n",
    "date_time.columns = [\"NOTAM_Date\",\"NOTA_Time\"]\n",
    "atl_notam_df = pd.concat([atl_notam_df, date_time], axis=\"columns\").drop(columns=[\"Issue Date (UTC)\"], axis = \"columns\")\n",
    "atl_notam_df"
   ],
   "metadata": {
    "collapsed": false,
    "pycharm": {
     "name": "#%%\n"
    }
   }
  },
  {
   "cell_type": "code",
   "execution_count": 58,
   "outputs": [
    {
     "name": "stdout",
     "output_type": "stream",
     "text": [
      "['Communication' 'Procedure' 'Obstruction' 'Aerodrome' 'Chart' 'Navaid'\n",
      " 'Services' 'Airspace']\n",
      "['!ATL 04/107 ATL COM REMOTE TRANSMITTER/RECEIVER 239.275 CHANGED TO 257.9 1604191648-PERM'\n",
      " '!FDC 6/4595 ATL CANCELLED BY FDC 7/3089 ON 08/17/17 10:00'\n",
      " '!FDC 6/4598 ATL CANCELLED BY FDC 7/3090 ON 08/17/17 10:00' ...\n",
      " '!ATL 12/306 ATL NAV ILS RWY 08L CAT II/III NA 1712280953-1712281700'\n",
      " '!ATL 12/305 ATL TWY H WIP GRASS CUTTING 1712280530-1712280800'\n",
      " '!ATL 12/309 ATL NAV ILS RWY 26L MM NOT MNT 1712291115-1801022000EST']\n",
      "['04/19/2016' '12/22/2016' '09/14/2016' '11/14/2016' '12/19/2016'\n",
      " '10/19/2016' '12/30/2016' '11/24/2016' '12/20/2016' '01/01/2017'\n",
      " '12/09/2016' '11/10/2016' '11/20/2016' '12/29/2016' '12/31/2016'\n",
      " '01/02/2017' '01/03/2017' '01/04/2017' '01/05/2017' '01/06/2017'\n",
      " '01/07/2017' '01/08/2017' '01/09/2017' '01/10/2017' '01/11/2017'\n",
      " '01/12/2017' '01/13/2017' '01/14/2017' '01/15/2017' '01/16/2017'\n",
      " '01/17/2017' '01/18/2017' '01/19/2017' '01/20/2017' '01/21/2017'\n",
      " '01/22/2017' '01/23/2017' '01/24/2017' '01/25/2017' '01/26/2017'\n",
      " '01/27/2017' '01/28/2017' '01/29/2017' '01/30/2017' '01/31/2017'\n",
      " '02/01/2017' '02/02/2017' '02/03/2017' '02/04/2017' '02/05/2017'\n",
      " '02/06/2017' '02/07/2017' '02/08/2017' '02/09/2017' '02/10/2017'\n",
      " '02/11/2017' '02/12/2017' '02/13/2017' '02/14/2017' '02/15/2017'\n",
      " '02/16/2017' '02/17/2017' '02/18/2017' '02/19/2017' '02/20/2017'\n",
      " '02/21/2017' '02/22/2017' '02/23/2017' '02/24/2017' '02/25/2017'\n",
      " '02/26/2017' '02/27/2017' '02/28/2017' '03/01/2017' '03/02/2017'\n",
      " '03/03/2017' '03/04/2017' '03/05/2017' '03/07/2017' '03/06/2017'\n",
      " '03/08/2017' '03/09/2017' '03/10/2017' '03/11/2017' '03/12/2017'\n",
      " '03/13/2017' '03/14/2017' '03/15/2017' '03/16/2017' '03/17/2017'\n",
      " '03/18/2017' '03/19/2017' '03/20/2017' '03/21/2017' '03/22/2017'\n",
      " '03/23/2017' '03/24/2017' '03/25/2017' '03/26/2017' '03/27/2017'\n",
      " '03/28/2017' '03/29/2017' '03/30/2017' '03/31/2017' '04/02/2017'\n",
      " '04/03/2017' '04/04/2017' '04/05/2017' '04/06/2017' '04/07/2017'\n",
      " '04/08/2017' '04/09/2017' '04/10/2017' '04/11/2017' '04/12/2017'\n",
      " '04/13/2017' '04/14/2017' '04/15/2017' '04/17/2017' '04/18/2017'\n",
      " '04/19/2017' '04/20/2017' '04/21/2017' '04/22/2017' '04/23/2017'\n",
      " '04/24/2017' '04/25/2017' '04/26/2017' '04/27/2017' '04/28/2017'\n",
      " '04/29/2017' '04/30/2017' '05/01/2017' '05/02/2017' '05/03/2017'\n",
      " '05/04/2017' '05/05/2017' '05/06/2017' '05/07/2017' '05/08/2017'\n",
      " '05/09/2017' '05/10/2017' '05/11/2017' '05/12/2017' '05/13/2017'\n",
      " '05/14/2017' '05/15/2017' '05/16/2017' '05/17/2017' '05/18/2017'\n",
      " '05/19/2017' '05/20/2017' '05/21/2017' '05/22/2017' '05/23/2017'\n",
      " '05/24/2017' '05/25/2017' '05/26/2017' '05/27/2017' '05/28/2017'\n",
      " '05/29/2017' '05/30/2017' '05/31/2017' '06/01/2017' '06/02/2017'\n",
      " '06/03/2017' '06/04/2017' '06/05/2017' '06/06/2017' '06/07/2017'\n",
      " '06/08/2017' '06/09/2017' '06/10/2017' '06/11/2017' '06/12/2017'\n",
      " '06/13/2017' '06/14/2017' '06/15/2017' '06/16/2017' '06/17/2017'\n",
      " '06/18/2017' '06/19/2017' '06/20/2017' '06/21/2017' '06/22/2017'\n",
      " '06/23/2017' '06/24/2017' '06/25/2017' '06/26/2017' '06/27/2017'\n",
      " '06/28/2017' '06/29/2017' '06/30/2017' '07/01/2017' '07/02/2017'\n",
      " '07/03/2017' '07/04/2017' '07/05/2017' '07/06/2017' '07/07/2017'\n",
      " '07/08/2017' '07/09/2017' '07/10/2017' '07/11/2017' '07/12/2017'\n",
      " '07/13/2017' '07/14/2017' '07/15/2017' '07/16/2017' '07/17/2017'\n",
      " '07/18/2017' '07/19/2017' '07/20/2017' '07/21/2017' '07/22/2017'\n",
      " '07/23/2017' '07/24/2017' '07/25/2017' '07/26/2017' '07/27/2017'\n",
      " '07/28/2017' '07/29/2017' '07/30/2017' '07/31/2017' '08/01/2017'\n",
      " '08/02/2017' '08/03/2017' '08/04/2017' '08/05/2017' '08/06/2017'\n",
      " '08/07/2017' '08/08/2017' '08/09/2017' '08/10/2017' '08/11/2017'\n",
      " '08/12/2017' '08/13/2017' '08/14/2017' '08/15/2017' '08/16/2017'\n",
      " '08/17/2017' '08/18/2017' '08/19/2017' '08/20/2017' '08/21/2017'\n",
      " '08/22/2017' '08/23/2017' '08/24/2017' '08/25/2017' '08/26/2017'\n",
      " '08/27/2017' '08/28/2017' '08/29/2017' '08/30/2017' '08/31/2017'\n",
      " '09/01/2017' '09/02/2017' '09/03/2017' '09/05/2017' '09/06/2017'\n",
      " '09/07/2017' '09/08/2017' '09/09/2017' '09/10/2017' '09/11/2017'\n",
      " '09/12/2017' '09/13/2017' '09/14/2017' '09/15/2017' '09/16/2017'\n",
      " '09/17/2017' '09/18/2017' '09/19/2017' '09/20/2017' '09/21/2017'\n",
      " '09/22/2017' '09/23/2017' '09/24/2017' '09/25/2017' '09/26/2017'\n",
      " '09/27/2017' '09/28/2017' '09/29/2017' '09/30/2017' '10/01/2017'\n",
      " '10/02/2017' '10/03/2017' '10/04/2017' '10/05/2017' '10/06/2017'\n",
      " '10/07/2017' '10/08/2017' '10/09/2017' '10/10/2017' '10/11/2017'\n",
      " '10/12/2017' '10/13/2017' '10/14/2017' '10/15/2017' '10/16/2017'\n",
      " '10/17/2017' '10/18/2017' '10/19/2017' '10/20/2017' '10/21/2017'\n",
      " '10/22/2017' '10/23/2017' '10/24/2017' '10/25/2017' '10/26/2017'\n",
      " '10/27/2017' '10/28/2017' '10/29/2017' '10/30/2017' '10/31/2017'\n",
      " '11/01/2017' '11/02/2017' '11/03/2017' '11/04/2017' '11/05/2017'\n",
      " '11/06/2017' '11/07/2017' '11/08/2017' '11/09/2017' '11/10/2017'\n",
      " '11/11/2017' '11/13/2017' '11/14/2017' '11/15/2017' '11/16/2017'\n",
      " '11/17/2017' '11/19/2017' '11/20/2017' '11/21/2017' '11/23/2017'\n",
      " '11/24/2017' '11/25/2017' '11/26/2017' '11/27/2017' '11/28/2017'\n",
      " '11/29/2017' '11/30/2017' '12/01/2017' '12/02/2017' '12/03/2017'\n",
      " '12/04/2017' '12/05/2017' '12/06/2017' '12/07/2017' '12/08/2017'\n",
      " '12/09/2017' '12/11/2017' '12/12/2017' '12/13/2017' '12/14/2017'\n",
      " '12/15/2017' '12/16/2017' '12/17/2017' '12/18/2017' '12/19/2017'\n",
      " '12/20/2017' '12/21/2017' '12/22/2017' '12/23/2017' '12/24/2017'\n",
      " '12/25/2017' '12/27/2017' '12/28/2017' '12/29/2017']\n",
      "['1648' '2135' '2136' ... '0720' '0719' '0718']\n"
     ]
    }
   ],
   "source": [
    "for col in atl_notam_df.columns:\n",
    "    print(atl_notam_df[col].unique())"
   ],
   "metadata": {
    "collapsed": false,
    "pycharm": {
     "name": "#%%\n"
    }
   }
  },
  {
   "cell_type": "markdown",
   "source": [
    "# Data Combination"
   ],
   "metadata": {
    "collapsed": false,
    "pycharm": {
     "name": "#%% md\n"
    }
   }
  },
  {
   "cell_type": "code",
   "execution_count": 59,
   "outputs": [],
   "source": [
    "atl_flights_df = atl_flights_df.sort_values(by=[\"FL_DATE\", \"CRS_DEP_TIME\"]).reset_index(drop=True)\n",
    "atl_weather_df = atl_weather_df.sort_values(by=[\"date\",\"time\"]).reset_index(drop=True)"
   ],
   "metadata": {
    "collapsed": false,
    "pycharm": {
     "name": "#%%\n"
    }
   }
  },
  {
   "cell_type": "code",
   "execution_count": 60,
   "outputs": [
    {
     "data": {
      "text/plain": "        tmpf   dwpf   relh   drct  sknt  p01i   alti    mslp  vsby  gust  ...  \\\n0      51.98  42.08  68.86  320.0  10.0   0.0  30.19  1022.5  10.0   NaN  ...   \n1      50.00  41.00  71.07  330.0   7.0   0.0  30.18  1022.2  10.0   NaN  ...   \n2      48.92  41.00  73.99  310.0  12.0   0.0  30.18  1022.0  10.0   NaN  ...   \n3      46.94  39.92  76.43  320.0  13.0   0.0  30.17  1021.9  10.0   NaN  ...   \n4      46.04  39.02  76.35  320.0  10.0   0.0  30.18  1022.0  10.0   NaN  ...   \n...      ...    ...    ...    ...   ...   ...    ...     ...   ...   ...  ...   \n17515  50.00  32.00  49.81  290.0  12.0   0.0  30.07  1018.6  10.0  20.5  ...   \n17516  51.10  32.00  47.81  300.0  11.0   0.0  30.06  1018.6  10.0   NaN  ...   \n17517  48.00  30.90  51.34  300.0  11.0   0.0  30.07  1018.9  10.0  16.0  ...   \n17518  46.00  30.90  55.36  290.0   9.0   0.0  30.07  1018.9  10.0   NaN  ...   \n17519  44.10  30.00  57.37  320.0   7.0   0.0  30.08  1019.5  10.0   NaN  ...   \n\n       EVENT_IC  EVENT_RA  EVENT_SG  EVENT_SN  EVENT_TS  skyc1  skyc2  skyc3  \\\n0           0.0       0.0       0.0       0.0       0.0    FEW    SCT    BKN   \n1           0.0       0.0       0.0       0.0       0.0    SCT    BKN    BKN   \n2           0.0       0.0       0.0       0.0       0.0    FEW    BKN    BKN   \n3           0.0       0.0       0.0       0.0       0.0    FEW    SCT    BKN   \n4           0.0       0.0       0.0       0.0       0.0    FEW    BKN    BKN   \n...         ...       ...       ...       ...       ...    ...    ...    ...   \n17515       0.0       0.0       0.0       0.0       0.0    FEW    FEW    NaN   \n17516       0.0       0.0       0.0       0.0       0.0    FEW    NaN    NaN   \n17517       0.0       0.0       0.0       0.0       0.0    BKN    NaN    NaN   \n17518       0.0       0.0       0.0       0.0       0.0    CLR    BKN    NaN   \n17519       0.0       0.0       0.0       0.0       0.0    FEW    BKN    NaN   \n\n       skyc4  wxcodes  \n0        BKN      NaN  \n1        NaN      NaN  \n2        NaN      NaN  \n3        NaN      NaN  \n4        NaN      NaN  \n...      ...      ...  \n17515    NaN      NaN  \n17516    NaN      NaN  \n17517    NaN      NaN  \n17518    NaN      NaN  \n17519    NaN      NaN  \n\n[17520 rows x 32 columns]",
      "text/html": "<div>\n<style scoped>\n    .dataframe tbody tr th:only-of-type {\n        vertical-align: middle;\n    }\n\n    .dataframe tbody tr th {\n        vertical-align: top;\n    }\n\n    .dataframe thead th {\n        text-align: right;\n    }\n</style>\n<table border=\"1\" class=\"dataframe\">\n  <thead>\n    <tr style=\"text-align: right;\">\n      <th></th>\n      <th>tmpf</th>\n      <th>dwpf</th>\n      <th>relh</th>\n      <th>drct</th>\n      <th>sknt</th>\n      <th>p01i</th>\n      <th>alti</th>\n      <th>mslp</th>\n      <th>vsby</th>\n      <th>gust</th>\n      <th>...</th>\n      <th>EVENT_IC</th>\n      <th>EVENT_RA</th>\n      <th>EVENT_SG</th>\n      <th>EVENT_SN</th>\n      <th>EVENT_TS</th>\n      <th>skyc1</th>\n      <th>skyc2</th>\n      <th>skyc3</th>\n      <th>skyc4</th>\n      <th>wxcodes</th>\n    </tr>\n  </thead>\n  <tbody>\n    <tr>\n      <th>0</th>\n      <td>51.98</td>\n      <td>42.08</td>\n      <td>68.86</td>\n      <td>320.0</td>\n      <td>10.0</td>\n      <td>0.0</td>\n      <td>30.19</td>\n      <td>1022.5</td>\n      <td>10.0</td>\n      <td>NaN</td>\n      <td>...</td>\n      <td>0.0</td>\n      <td>0.0</td>\n      <td>0.0</td>\n      <td>0.0</td>\n      <td>0.0</td>\n      <td>FEW</td>\n      <td>SCT</td>\n      <td>BKN</td>\n      <td>BKN</td>\n      <td>NaN</td>\n    </tr>\n    <tr>\n      <th>1</th>\n      <td>50.00</td>\n      <td>41.00</td>\n      <td>71.07</td>\n      <td>330.0</td>\n      <td>7.0</td>\n      <td>0.0</td>\n      <td>30.18</td>\n      <td>1022.2</td>\n      <td>10.0</td>\n      <td>NaN</td>\n      <td>...</td>\n      <td>0.0</td>\n      <td>0.0</td>\n      <td>0.0</td>\n      <td>0.0</td>\n      <td>0.0</td>\n      <td>SCT</td>\n      <td>BKN</td>\n      <td>BKN</td>\n      <td>NaN</td>\n      <td>NaN</td>\n    </tr>\n    <tr>\n      <th>2</th>\n      <td>48.92</td>\n      <td>41.00</td>\n      <td>73.99</td>\n      <td>310.0</td>\n      <td>12.0</td>\n      <td>0.0</td>\n      <td>30.18</td>\n      <td>1022.0</td>\n      <td>10.0</td>\n      <td>NaN</td>\n      <td>...</td>\n      <td>0.0</td>\n      <td>0.0</td>\n      <td>0.0</td>\n      <td>0.0</td>\n      <td>0.0</td>\n      <td>FEW</td>\n      <td>BKN</td>\n      <td>BKN</td>\n      <td>NaN</td>\n      <td>NaN</td>\n    </tr>\n    <tr>\n      <th>3</th>\n      <td>46.94</td>\n      <td>39.92</td>\n      <td>76.43</td>\n      <td>320.0</td>\n      <td>13.0</td>\n      <td>0.0</td>\n      <td>30.17</td>\n      <td>1021.9</td>\n      <td>10.0</td>\n      <td>NaN</td>\n      <td>...</td>\n      <td>0.0</td>\n      <td>0.0</td>\n      <td>0.0</td>\n      <td>0.0</td>\n      <td>0.0</td>\n      <td>FEW</td>\n      <td>SCT</td>\n      <td>BKN</td>\n      <td>NaN</td>\n      <td>NaN</td>\n    </tr>\n    <tr>\n      <th>4</th>\n      <td>46.04</td>\n      <td>39.02</td>\n      <td>76.35</td>\n      <td>320.0</td>\n      <td>10.0</td>\n      <td>0.0</td>\n      <td>30.18</td>\n      <td>1022.0</td>\n      <td>10.0</td>\n      <td>NaN</td>\n      <td>...</td>\n      <td>0.0</td>\n      <td>0.0</td>\n      <td>0.0</td>\n      <td>0.0</td>\n      <td>0.0</td>\n      <td>FEW</td>\n      <td>BKN</td>\n      <td>BKN</td>\n      <td>NaN</td>\n      <td>NaN</td>\n    </tr>\n    <tr>\n      <th>...</th>\n      <td>...</td>\n      <td>...</td>\n      <td>...</td>\n      <td>...</td>\n      <td>...</td>\n      <td>...</td>\n      <td>...</td>\n      <td>...</td>\n      <td>...</td>\n      <td>...</td>\n      <td>...</td>\n      <td>...</td>\n      <td>...</td>\n      <td>...</td>\n      <td>...</td>\n      <td>...</td>\n      <td>...</td>\n      <td>...</td>\n      <td>...</td>\n      <td>...</td>\n      <td>...</td>\n    </tr>\n    <tr>\n      <th>17515</th>\n      <td>50.00</td>\n      <td>32.00</td>\n      <td>49.81</td>\n      <td>290.0</td>\n      <td>12.0</td>\n      <td>0.0</td>\n      <td>30.07</td>\n      <td>1018.6</td>\n      <td>10.0</td>\n      <td>20.5</td>\n      <td>...</td>\n      <td>0.0</td>\n      <td>0.0</td>\n      <td>0.0</td>\n      <td>0.0</td>\n      <td>0.0</td>\n      <td>FEW</td>\n      <td>FEW</td>\n      <td>NaN</td>\n      <td>NaN</td>\n      <td>NaN</td>\n    </tr>\n    <tr>\n      <th>17516</th>\n      <td>51.10</td>\n      <td>32.00</td>\n      <td>47.81</td>\n      <td>300.0</td>\n      <td>11.0</td>\n      <td>0.0</td>\n      <td>30.06</td>\n      <td>1018.6</td>\n      <td>10.0</td>\n      <td>NaN</td>\n      <td>...</td>\n      <td>0.0</td>\n      <td>0.0</td>\n      <td>0.0</td>\n      <td>0.0</td>\n      <td>0.0</td>\n      <td>FEW</td>\n      <td>NaN</td>\n      <td>NaN</td>\n      <td>NaN</td>\n      <td>NaN</td>\n    </tr>\n    <tr>\n      <th>17517</th>\n      <td>48.00</td>\n      <td>30.90</td>\n      <td>51.34</td>\n      <td>300.0</td>\n      <td>11.0</td>\n      <td>0.0</td>\n      <td>30.07</td>\n      <td>1018.9</td>\n      <td>10.0</td>\n      <td>16.0</td>\n      <td>...</td>\n      <td>0.0</td>\n      <td>0.0</td>\n      <td>0.0</td>\n      <td>0.0</td>\n      <td>0.0</td>\n      <td>BKN</td>\n      <td>NaN</td>\n      <td>NaN</td>\n      <td>NaN</td>\n      <td>NaN</td>\n    </tr>\n    <tr>\n      <th>17518</th>\n      <td>46.00</td>\n      <td>30.90</td>\n      <td>55.36</td>\n      <td>290.0</td>\n      <td>9.0</td>\n      <td>0.0</td>\n      <td>30.07</td>\n      <td>1018.9</td>\n      <td>10.0</td>\n      <td>NaN</td>\n      <td>...</td>\n      <td>0.0</td>\n      <td>0.0</td>\n      <td>0.0</td>\n      <td>0.0</td>\n      <td>0.0</td>\n      <td>CLR</td>\n      <td>BKN</td>\n      <td>NaN</td>\n      <td>NaN</td>\n      <td>NaN</td>\n    </tr>\n    <tr>\n      <th>17519</th>\n      <td>44.10</td>\n      <td>30.00</td>\n      <td>57.37</td>\n      <td>320.0</td>\n      <td>7.0</td>\n      <td>0.0</td>\n      <td>30.08</td>\n      <td>1019.5</td>\n      <td>10.0</td>\n      <td>NaN</td>\n      <td>...</td>\n      <td>0.0</td>\n      <td>0.0</td>\n      <td>0.0</td>\n      <td>0.0</td>\n      <td>0.0</td>\n      <td>FEW</td>\n      <td>BKN</td>\n      <td>NaN</td>\n      <td>NaN</td>\n      <td>NaN</td>\n    </tr>\n  </tbody>\n</table>\n<p>17520 rows × 32 columns</p>\n</div>"
     },
     "execution_count": 60,
     "metadata": {},
     "output_type": "execute_result"
    }
   ],
   "source": [
    "atl_weather_df"
   ],
   "metadata": {
    "collapsed": false,
    "pycharm": {
     "name": "#%%\n"
    }
   }
  },
  {
   "cell_type": "code",
   "execution_count": 60,
   "outputs": [],
   "source": [],
   "metadata": {
    "collapsed": false,
    "pycharm": {
     "name": "#%%\n"
    }
   }
  }
 ],
 "metadata": {
  "kernelspec": {
   "name": "python3",
   "language": "python",
   "display_name": "Python 3 (ipykernel)"
  },
  "language_info": {
   "codemirror_mode": {
    "name": "ipython",
    "version": 2
   },
   "file_extension": ".py",
   "mimetype": "text/x-python",
   "name": "python",
   "nbconvert_exporter": "python",
   "pygments_lexer": "ipython2",
   "version": "2.7.6"
  }
 },
 "nbformat": 4,
 "nbformat_minor": 0
}